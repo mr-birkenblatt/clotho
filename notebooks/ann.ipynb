{
 "cells": [
  {
   "cell_type": "code",
   "execution_count": 15,
   "id": "fa96be59-c658-4974-816f-a20e6fcedc98",
   "metadata": {},
   "outputs": [],
   "source": [
    "import os\n",
    "import sys\n",
    "import json\n",
    "import pandas as pd\n",
    "import numpy as np\n",
    "import torch\n",
    "from typing import Literal, TypedDict, Callable, TypeVar, Generic, Iterable"
   ]
  },
  {
   "cell_type": "code",
   "execution_count": 2,
   "id": "aa1b474f-d259-408b-afb5-52bf87d680c1",
   "metadata": {},
   "outputs": [],
   "source": [
    "sys.path.append(\"..\")\n",
    "os.environ[\"USER_PATH\"] = \"../userdata/\""
   ]
  },
  {
   "cell_type": "code",
   "execution_count": 3,
   "id": "f98dddea-5b72-47c4-a8e9-ec264598eb36",
   "metadata": {},
   "outputs": [],
   "source": [
    "from system.namespace.store import get_namespace"
   ]
  },
  {
   "cell_type": "code",
   "execution_count": 4,
   "id": "6fce0aa5-0e31-4ec2-a0bb-f72e04dc6cf1",
   "metadata": {},
   "outputs": [],
   "source": [
    "namespace = get_namespace(\"train_db\")"
   ]
  },
  {
   "cell_type": "code",
   "execution_count": 5,
   "id": "e9d09485-4f8a-48ff-9ab8-4e3515262e0c",
   "metadata": {},
   "outputs": [],
   "source": [
    "from system.embedding.store import get_embed_store\n",
    "from misc.lru import LRU"
   ]
  },
  {
   "cell_type": "code",
   "execution_count": 6,
   "id": "bbc8ee08-44d1-470c-9206-385340a09f54",
   "metadata": {},
   "outputs": [],
   "source": [
    "embeds = get_embed_store(namespace)"
   ]
  },
  {
   "cell_type": "code",
   "execution_count": 7,
   "id": "9ca1ad16-eb6e-463a-802d-7b29a385cd79",
   "metadata": {},
   "outputs": [],
   "source": [
    "role_c = \"child\"\n",
    "role_p = \"parent\""
   ]
  },
  {
   "cell_type": "code",
   "execution_count": 8,
   "id": "b504219b-2b31-4fc5-9c20-48ad3fe19001",
   "metadata": {},
   "outputs": [
    {
     "data": {
      "text/plain": [
       "689418"
      ]
     },
     "execution_count": 8,
     "metadata": {},
     "output_type": "execute_result"
    }
   ],
   "source": [
    "total_c = embeds.get_embedding_count(role_c)\n",
    "total_c"
   ]
  },
  {
   "cell_type": "code",
   "execution_count": 9,
   "id": "fe03ab7e-57d7-401e-adee-3b555358e86f",
   "metadata": {},
   "outputs": [
    {
     "data": {
      "application/vnd.jupyter.widget-view+json": {
       "model_id": "564455dcb2264027b485dcf21ede3e6b",
       "version_major": 2,
       "version_minor": 0
      },
      "text/plain": [
       "  0%|          | 0/689418 [00:00<?, ?it/s]"
      ]
     },
     "metadata": {},
     "output_type": "display_data"
    }
   ],
   "source": [
    "x = np.vstack([\n",
    "    embed[1].ravel().detach().numpy()\n",
    "    for embed in embeds.get_all_embeddings(role_c, progress_bar=True)\n",
    "])\n",
    "x = x[:100000, :]"
   ]
  },
  {
   "cell_type": "code",
   "execution_count": 10,
   "id": "d7718486-5e93-4656-96b5-13f8ba88cc50",
   "metadata": {},
   "outputs": [
    {
     "data": {
      "text/plain": [
       "(100000, 768)"
      ]
     },
     "execution_count": 10,
     "metadata": {},
     "output_type": "execute_result"
    }
   ],
   "source": [
    "x.shape"
   ]
  },
  {
   "cell_type": "code",
   "execution_count": 12,
   "id": "6aaf142b-ec31-4f8c-9057-352d93ef7e22",
   "metadata": {},
   "outputs": [
    {
     "data": {
      "text/plain": [
       "(768,)"
      ]
     },
     "execution_count": 12,
     "metadata": {},
     "output_type": "execute_result"
    }
   ],
   "source": [
    "x[5, :].shape"
   ]
  },
  {
   "cell_type": "code",
   "execution_count": 174,
   "id": "1e72fa8d-db40-4b9e-92d6-fa273550d786",
   "metadata": {},
   "outputs": [],
   "source": [
    "T = TypeVar('T')\n",
    "\n",
    "\n",
    "class Node(Generic[T]):\n",
    "    def __init__(self, dbs: 'DBScANN[T]', embed_ix: int) -> None:\n",
    "        self._dbs = dbs\n",
    "        self._embed_ix = embed_ix\n",
    "        self._dist_range: float = 0.0\n",
    "        self._count: int = 1\n",
    "        self._children: list[Node] = []\n",
    "        \n",
    "    def get_ix(self) -> int:\n",
    "        return self._embed_ix\n",
    "        \n",
    "    def get_embed(self) -> T:\n",
    "        return self._dbs.get_embed(self._embed_ix)\n",
    "    \n",
    "    def count_descendants(self) -> int:\n",
    "        return self._count\n",
    "    \n",
    "    def count_children(self) -> int:\n",
    "        return len(self._children)\n",
    "    \n",
    "    def get_dist(self, embed: T, cache: dict[int, float]) -> float:\n",
    "        return self._dbs.dist_embed(embed, self._embed_ix, cache)\n",
    "    \n",
    "    def get_dist_max(self, embed: T, cache: dict[int, float]) -> float:\n",
    "        return self.get_dist(embed, cache) + self._dist_range\n",
    "    \n",
    "    def get_dist_min(self, embed: T, cache: dict[int, float]) -> float:\n",
    "        return max(0, self.get_dist(embed, cache) - self._dist_range)\n",
    "    \n",
    "    def get_true_dist_max(self, embed: T, cache: dict[int, float]) -> float:\n",
    "        init = self.get_dist(embed, cache)\n",
    "        cur = init\n",
    "        for child in self._children:\n",
    "            cur = max(cur, child.get_true_dist_max(embed, cache))\n",
    "        assert self._dist_range >= cur - init, f\"{self._dist_range} >= {cur} - {init}\"\n",
    "        return cur\n",
    "        \n",
    "    def add_child(self, child: 'Node[T]') -> None:\n",
    "        embed = self.get_embed()\n",
    "        cache = {}\n",
    "        # c_dist_max = child.get_true_dist_max(embed, cache)\n",
    "        c_dist_max = child.get_dist_max(embed, cache)\n",
    "        if len(cache) > 1:\n",
    "            print(f\"comparisons while adding: {len(cache)}\")\n",
    "        if c_dist_max > self._dist_range:\n",
    "            self._dist_range = c_dist_max\n",
    "        self._children.append(child)\n",
    "        self._count += child.count_descendants()\n",
    "    \n",
    "    def get_all_descendants(self) -> list['Node[T]']:\n",
    "        res = [self]\n",
    "        for child in self._children:\n",
    "            res += child.get_all_descendants()\n",
    "        return res\n",
    "    \n",
    "    def get_closest(\n",
    "            self,\n",
    "            embed: T,\n",
    "            count: int,\n",
    "            cache: dict[int, float]) -> list[tuple['Node[T]', float, float]]:\n",
    "        own_dist = self.get_dist(embed, cache)\n",
    "        children = sorted([\n",
    "            (\n",
    "                child,\n",
    "                child.count_descendants(),\n",
    "                child.get_dist_min(embed, cache),\n",
    "                child.get_dist_max(embed, cache),\n",
    "            )\n",
    "            for child in self._children\n",
    "        ], key=lambda row: (row[2], row[3]))\n",
    "        \n",
    "        def compact() -> None:\n",
    "            nonlocal res\n",
    "            \n",
    "            res = sorted(res, key=lambda row: row[1])[:count]\n",
    "        \n",
    "        res = [(self, own_dist, own_dist)]\n",
    "        cur_min = own_dist\n",
    "        cur_max = own_dist\n",
    "        for row in children:\n",
    "            compact()\n",
    "            child, desc, cmin, cmax = row\n",
    "            if desc <= count:\n",
    "                res += [\n",
    "                    (cd, cmin, cmax)\n",
    "                    for cd in child.get_all_descendants()\n",
    "                ]\n",
    "                if cmin > cur_min:\n",
    "                    cur_min = cmin\n",
    "                if cmax < cur_max:\n",
    "                    cur_max = cmax\n",
    "            else:\n",
    "                remain = count - len(res)\n",
    "                res += child.get_closest(embed, remain, cache)\n",
    "        compact()\n",
    "        return res\n",
    "    \n",
    "    def debug(self) -> list[str]:\n",
    "        outs = [\n",
    "            child.debug()\n",
    "            for child in self._children\n",
    "        ]\n",
    "        own = f\"{'┣' if outs else '┗'}({self._embed_ix})\"\n",
    "        start_ix = 0\n",
    "        out_lens = []\n",
    "        for cur_out_ix, cur_outs in enumerate(outs):\n",
    "            out_len = max((len(out) for out in cur_outs))\n",
    "            is_last = cur_out_ix >= len(outs) - 1\n",
    "            own = own.ljust(start_ix + 1, \"┓\" if is_last else \"┳\")\n",
    "            pad_chr = \" \" if is_last else \"━\"\n",
    "            own = own.ljust(start_ix + out_len, pad_chr)\n",
    "            start_ix += out_len\n",
    "            out_lens.append(start_ix)\n",
    "        res = [f\"{own} \"]\n",
    "        if not outs:\n",
    "            return res\n",
    "        for line_ix in range(max((len(cur_outs) for cur_outs in outs))):\n",
    "            cur_line = \"\"\n",
    "            for cur_out_ix, cur_outs in enumerate(outs):\n",
    "                out = cur_outs[line_ix] if line_ix < len(cur_outs) else \"\"\n",
    "                cur_line = f\"{cur_line}{out}\".ljust(out_lens[cur_out_ix])\n",
    "            res.append(f\"{cur_line}\")\n",
    "        max_len = max((len(line) for line in res))\n",
    "        return [line.ljust(max_len) for line in res]\n",
    "\n",
    "\n",
    "class DBScANN(Generic[T]):\n",
    "    def __init__(\n",
    "            self,\n",
    "            get_all_ix: Callable[[], Iterable[int]],\n",
    "            get_embed: Callable[[int], T],\n",
    "            get_dist: Callable[[T, T], float]) -> None:\n",
    "        self._get_all_ix = get_all_ix\n",
    "        self._get_embed = get_embed\n",
    "        self._get_dist = get_dist\n",
    "        self._lru: LRU[int, T] = LRU(1000)\n",
    "        self._root: Node | None = None\n",
    "        \n",
    "    def get_embed(self, ix: int) -> T:\n",
    "        res = self._lru.get(ix)\n",
    "        if res is None:\n",
    "            res = self._get_embed(ix)\n",
    "            self._lru.set(ix, res)\n",
    "        return res\n",
    "    \n",
    "    def dist_embed(self, embed: T, ix: int, cache: dict[int, float]) -> float:\n",
    "        res = cache.get(ix)\n",
    "        if res is not None:\n",
    "            return res\n",
    "        res = self._get_dist(embed, self.get_embed(ix))\n",
    "        assert res >= 0.0\n",
    "        cache[ix] = res\n",
    "        return res\n",
    "    \n",
    "    def _centroid(self, all_ixs: list[int]) -> int:\n",
    "        best_dist = 0.0\n",
    "        best_ix = None\n",
    "        for ix in all_ixs:\n",
    "            cur_dist = 0.0\n",
    "            embed = self.get_embed(ix)\n",
    "            for oix in all_ixs:\n",
    "                if ix == oix:\n",
    "                    continue\n",
    "                cache = {}  # no cache\n",
    "                cur_dist += self.dist_embed(embed, oix, cache)\n",
    "                if best_ix is not None and cur_dist > best_dist:\n",
    "                    break\n",
    "            if best_ix is None or cur_dist < best_dist:\n",
    "                best_ix = ix\n",
    "                best_dist = cur_dist\n",
    "        assert best_ix is not None\n",
    "        return best_ix\n",
    "    \n",
    "    def _kmedoid(self, all_ixs: list[int], k_num: int) -> list[tuple[int, list[int]]]:\n",
    "        assert len(all_ixs) > k_num\n",
    "        centroids = all_ixs[:k_num]\n",
    "        rounds = 1000\n",
    "        while rounds > 0:\n",
    "            assignments = [[cix] for cix in centroids]\n",
    "            for ix in all_ixs:\n",
    "                if ix in centroids:\n",
    "                    continue\n",
    "                best_dist = 0.0\n",
    "                best_cluster_ix = None\n",
    "                embed = self.get_embed(ix)\n",
    "                for cluster_ix, cix in enumerate(centroids):\n",
    "                    cache = {}  # no cache\n",
    "                    cur_dist = self.dist_embed(embed, cix, cache)\n",
    "                    if best_cluster_ix is None or cur_dist < best_dist:\n",
    "                        best_cluster_ix = cluster_ix\n",
    "                        best_dist = cur_dist\n",
    "                assert best_cluster_ix is not None\n",
    "                assignments[best_cluster_ix].append(ix)\n",
    "            done = True\n",
    "            for cluster_ix in range(len(centroids)):\n",
    "                new_c = self._centroid(assignments[cluster_ix])\n",
    "                if new_c != centroids[cluster_ix]:\n",
    "                    centroids[cluster_ix] = new_c\n",
    "                    done = False\n",
    "            if done:\n",
    "                break\n",
    "            rounds -= 1\n",
    "        if rounds <= 0:\n",
    "            print(\"exhausted iteration steps\")\n",
    "        return list(zip(centroids, assignments))\n",
    "    \n",
    "    def _remove(self, all_ixs: list[int], remove_ix: int) -> list[int]:\n",
    "        return [ix for ix in all_ixs if ix != remove_ix]\n",
    "    \n",
    "    def build(self, max_node_size: int) -> None:\n",
    "        all_ixs = [ix for ix in self._get_all_ix()]\n",
    "        root_ix = self._centroid(all_ixs)\n",
    "        all_ixs = self._remove(all_ixs, root_ix)\n",
    "        \n",
    "        def build_level(cur_root_ix: int, cur_all_ixs: list[int]) -> Node[T]:\n",
    "            node = Node(self, cur_root_ix)\n",
    "            if len(cur_all_ixs) <= max_node_size:\n",
    "                for child_ix in cur_all_ixs:\n",
    "                    node.add_child(Node(self, child_ix))\n",
    "                return node\n",
    "            children = self._kmedoid(cur_all_ixs, max_node_size)\n",
    "            for row in children:\n",
    "                centroid_ix, assignments = row\n",
    "                assignments = self._remove(assignments, centroid_ix)\n",
    "                cnode = build_level(centroid_ix, assignments)\n",
    "                node.add_child(cnode)\n",
    "            return node\n",
    "        \n",
    "        self._root = build_level(root_ix, all_ixs)\n",
    "    \n",
    "    def get_closest(self, embed: T, count: int) -> list[tuple[int, float]]:\n",
    "        assert self._root is not None\n",
    "        cache = {}\n",
    "        closest = self._root.get_closest(embed, count, cache)\n",
    "        print(f\"get_closest main comparisons: {len(cache)}\")\n",
    "        res = sorted([\n",
    "            (row[0].get_ix(), row[0].get_dist(embed, cache))\n",
    "            for row in closest\n",
    "        ], key=lambda cur: cur[1])\n",
    "        print(f\"get_closest final comparisons: {len(cache)}\")\n",
    "        return res\n",
    "    \n",
    "    def debug(self, from_ix: int | None, to_ix: int | None) -> str:\n",
    "        return \"\\n\".join((line.rstrip()[from_ix:to_ix] for line in self._root.debug()))"
   ]
  },
  {
   "cell_type": "code",
   "execution_count": 175,
   "id": "e4f595dd-6d32-4da2-8dae-d3e17f5134f4",
   "metadata": {},
   "outputs": [],
   "source": [
    "test_size = 100"
   ]
  },
  {
   "cell_type": "code",
   "execution_count": 176,
   "id": "34c3f82f-7b9c-4bbc-b513-4fbe841b6797",
   "metadata": {},
   "outputs": [
    {
     "data": {
      "text/plain": [
       "<__main__.DBScANN at 0x49e204340>"
      ]
     },
     "execution_count": 176,
     "metadata": {},
     "output_type": "execute_result"
    }
   ],
   "source": [
    "# dbs = DBScANN(lambda: range(0, x.shape[0]), lambda ix: x[ix, :], lambda a, b: np.log1p(np.exp(-np.dot(a, b))))\n",
    "dbs = DBScANN(lambda: range(0, test_size), lambda ix: x[ix, :], lambda a, b: np.log1p(np.exp(-np.dot(a, b))))\n",
    "dbs"
   ]
  },
  {
   "cell_type": "code",
   "execution_count": 177,
   "id": "6c52f612-cb2a-4922-b6b7-c5a8a1bb6f9a",
   "metadata": {},
   "outputs": [
    {
     "name": "stdout",
     "output_type": "stream",
     "text": [
      "CPU times: user 43.3 ms, sys: 5.11 ms, total: 48.4 ms\n",
      "Wall time: 44.5 ms\n"
     ]
    }
   ],
   "source": [
    "%%time\n",
    "\n",
    "dbs.build(max_node_size=10)"
   ]
  },
  {
   "cell_type": "code",
   "execution_count": 178,
   "id": "d448cb34-e04e-4f33-908a-0e5375894bab",
   "metadata": {},
   "outputs": [
    {
     "name": "stdout",
     "output_type": "stream",
     "text": [
      "┣(38)━━━━━━━━━━━━━━━━━━━━━━━━━━━━━━━━━━━━━━━━━━━━━━━━━━━━━━━━━━━━━━━━━━━━━━┳━━━━━━━━━━━━━━━━━━━━━━━━━━━━━━━━━━━━━━━━━━━━\n",
      "┣(40)━┳━━━━━┳━━━━━┳━━━━━━━━━━━━━━━━━━┳━━━━━┳━━━━━┳━━━━━┳━━━━━┳━━━━━━┓      ┣(82)┳━━━━━━━━━━━━┳━━━━━━━━━━━┳━━━━┳━━━━━━┳━━\n",
      "┗(12) ┗(16) ┗(21) ┣(49)━┳━━━━━┓      ┗(54) ┗(65) ┗(66) ┗(75) ┣(77)  ┗(83)  ┗(0) ┣(1)━━┓      ┣(70)┓      ┗(8) ┣(37)  ┣(6\n",
      "                  ┗(88) ┗(91) ┗(96)                          ┗(89)              ┗(46) ┗(78)  ┗(3) ┗(58)       ┗(32)  ┗(7\n"
     ]
    }
   ],
   "source": [
    "print(dbs.debug(0, 120))"
   ]
  },
  {
   "cell_type": "code",
   "execution_count": 180,
   "id": "823df25e-1ab6-4a56-96be-a7f1a18dc814",
   "metadata": {},
   "outputs": [
    {
     "name": "stdout",
     "output_type": "stream",
     "text": [
      "━━━━━━━━━━━━━━━━━━━━━━━━━━━━━━━━━━━━━━━━━━━━━━━━━━━━━━━━━━━━━━━━━━━━━━━━━━━━━━━━━━━━━━━━━━━━━━━━┳━━━━━━━━━━━━━━━━━━┳━━━━\n",
      "┳━━━━━━┳━━━━━━━━━━━━━━━━━━┳━━━━━━━━━━━━━━━━━━━━━━━━┳━━━━━━━━━━━━━━━━━━┳━━━━━┓                   ┣(2)━━┳━━━━━┓      ┣(22)\n",
      "┣(37)  ┣(63)━┳━━━━━┓      ┣(17)━┳━━━━━┳━━━━━┓      ┣(24)━┳━━━━━┓      ┗(27) ┣(31)━┳━━━━━┓       ┗(30) ┗(35) ┗(93)  ┗(10)\n",
      "┗(32)  ┗(71) ┗(81) ┗(87)  ┗(15) ┗(57) ┗(62) ┗(76)  ┗(42) ┗(44) ┗(98)        ┗(14) ┗(36) ┗(99)\n"
     ]
    }
   ],
   "source": [
    "print(dbs.debug(110, 230))"
   ]
  },
  {
   "cell_type": "code",
   "execution_count": 148,
   "id": "d539436f-1616-485f-b906-b94a1166d205",
   "metadata": {},
   "outputs": [
    {
     "data": {
      "text/plain": [
       "(768,)"
      ]
     },
     "execution_count": 148,
     "metadata": {},
     "output_type": "execute_result"
    }
   ],
   "source": [
    "test_ix = 10000\n",
    "test_embed = x[test_ix, :]\n",
    "test_embed.shape"
   ]
  },
  {
   "cell_type": "code",
   "execution_count": 138,
   "id": "a16dfa07-8015-41f6-9be6-473af7843d49",
   "metadata": {},
   "outputs": [
    {
     "data": {
      "text/plain": [
       "(100,)"
      ]
     },
     "execution_count": 138,
     "metadata": {},
     "output_type": "execute_result"
    }
   ],
   "source": [
    "test_dists = np.log1p(np.exp(-np.dot(x[:test_size, :], test_embed)))\n",
    "test_dists.shape"
   ]
  },
  {
   "cell_type": "code",
   "execution_count": 139,
   "id": "7ea42192-9279-4166-a6f6-11481c14e3a7",
   "metadata": {},
   "outputs": [
    {
     "data": {
      "text/plain": [
       "array([82, 73, 12, 17, 22, 60, 38, 75, 70, 51])"
      ]
     },
     "execution_count": 139,
     "metadata": {},
     "output_type": "execute_result"
    }
   ],
   "source": [
    "np.argsort(test_dists)[:10]"
   ]
  },
  {
   "cell_type": "code",
   "execution_count": 140,
   "id": "1cbc5395-2c36-493e-bdd7-4bcaee4b5740",
   "metadata": {},
   "outputs": [
    {
     "data": {
      "text/plain": [
       "array([2.71954057e-119, 2.80758998e-119, 3.46409662e-119, 4.15256151e-119,\n",
       "       4.51581357e-119, 4.57619576e-119, 4.83220119e-119, 4.83843032e-119,\n",
       "       5.04439785e-119, 5.16901212e-119])"
      ]
     },
     "execution_count": 140,
     "metadata": {},
     "output_type": "execute_result"
    }
   ],
   "source": [
    "test_dists[np.argsort(test_dists)[:10]]"
   ]
  },
  {
   "cell_type": "code",
   "execution_count": 141,
   "id": "062d6023-4f3d-4e5f-ba9f-8b79d0d24ba8",
   "metadata": {},
   "outputs": [
    {
     "name": "stdout",
     "output_type": "stream",
     "text": [
      "get_closest main comparisons: 73\n",
      "get_closest final comparisons: 77\n"
     ]
    },
    {
     "data": {
      "text/plain": [
       "[(73, 2.807589980862743e-119),\n",
       " (60, 4.576195761482374e-119),\n",
       " (38, 4.832201191724879e-119),\n",
       " (51, 5.169012115447932e-119),\n",
       " (47, 5.385610348584448e-119),\n",
       " (74, 6.195297811965087e-119),\n",
       " (13, 7.903206067254006e-119),\n",
       " (6, 8.033364595124181e-119),\n",
       " (67, 1.0662295533384053e-118),\n",
       " (18, 1.2968034288577648e-118)]"
      ]
     },
     "execution_count": 141,
     "metadata": {},
     "output_type": "execute_result"
    }
   ],
   "source": [
    "dbs.get_closest(test_embed, 10)"
   ]
  },
  {
   "cell_type": "code",
   "execution_count": null,
   "id": "f1474dc3-523d-4df2-8af4-72dfbfda0dc1",
   "metadata": {},
   "outputs": [],
   "source": []
  }
 ],
 "metadata": {
  "kernelspec": {
   "display_name": "Python 3 (ipykernel)",
   "language": "python",
   "name": "python3"
  },
  "language_info": {
   "codemirror_mode": {
    "name": "ipython",
    "version": 3
   },
   "file_extension": ".py",
   "mimetype": "text/x-python",
   "name": "python",
   "nbconvert_exporter": "python",
   "pygments_lexer": "ipython3",
   "version": "3.10.6"
  }
 },
 "nbformat": 4,
 "nbformat_minor": 5
}

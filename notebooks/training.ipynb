{
 "cells": [
  {
   "cell_type": "code",
   "execution_count": 1,
   "id": "7c1265ba-c76b-4424-b577-a322e6b512af",
   "metadata": {},
   "outputs": [],
   "source": [
    "# in a terminal run\n",
    "# > make run-redis NS=train\n",
    "# > make run-redis NS=test\n",
    "# to allow access to the train and test namespaces"
   ]
  },
  {
   "cell_type": "code",
   "execution_count": 2,
   "id": "4e21c530-5f85-4b18-b9ed-c2fbe591b52f",
   "metadata": {},
   "outputs": [],
   "source": [
    "import os\n",
    "import sys\n",
    "import pandas as pd\n",
    "import numpy as np"
   ]
  },
  {
   "cell_type": "code",
   "execution_count": 3,
   "id": "62721599-23d3-405a-bbb2-88a6f0a17a17",
   "metadata": {},
   "outputs": [],
   "source": [
    "sys.path.append(\"..\")\n",
    "os.environ[\"USER_PATH\"] = \"../userdata\""
   ]
  },
  {
   "cell_type": "code",
   "execution_count": 4,
   "id": "82c6f1c7-607b-479d-b2f6-3483cb91a57d",
   "metadata": {},
   "outputs": [],
   "source": [
    "from misc.redis import set_redis_slow_mode\n",
    "from misc.util import highest_number\n",
    "from model.datagenerator import create_train_test\n",
    "from system.namespace.store import get_namespace"
   ]
  },
  {
   "cell_type": "code",
   "execution_count": 5,
   "id": "1d8c7e9a-fa89-435d-a0a2-0a492056581e",
   "metadata": {},
   "outputs": [
    {
     "data": {
      "text/plain": [
       "True"
      ]
     },
     "execution_count": 5,
     "metadata": {},
     "output_type": "execute_result"
    }
   ],
   "source": [
    "import torch\n",
    "\n",
    "is_cuda = torch.cuda.is_available()\n",
    "is_cuda"
   ]
  },
  {
   "cell_type": "code",
   "execution_count": 6,
   "id": "0a897205-0707-4928-860d-5e8d58cef31a",
   "metadata": {},
   "outputs": [],
   "source": [
    "set_redis_slow_mode(\"never\")\n",
    "ns_test = get_namespace(\"test\")\n",
    "ns_train = get_namespace(\"train\")\n",
    "now = pd.Timestamp(\"2022-12-17\", tz=\"UTC\")\n",
    "ttgen = create_train_test(\n",
    "    train_ns=ns_train,\n",
    "    train_validation_ns=ns_train,\n",
    "    test_ns=ns_test,\n",
    "    batch_size=4 if is_cuda else 8,\n",
    "    epoch_batches=5000 if is_cuda else 500,\n",
    "    train_val_size=10000 if is_cuda else 1000,\n",
    "    test_size=10000 if is_cuda else 1000,\n",
    "    compute_batch_size=2000 if is_cuda else 100,\n",
    "    conversation_based=False,\n",
    "    now=now)"
   ]
  },
  {
   "cell_type": "code",
   "execution_count": 7,
   "id": "9d7acd4d-0d4a-481f-901b-3e524ee02c6f",
   "metadata": {},
   "outputs": [],
   "source": [
    "import torch.nn as nn\n",
    "from transformers import DistilBertTokenizer, DistilBertModel"
   ]
  },
  {
   "cell_type": "code",
   "execution_count": 8,
   "id": "927dbcbe-6df3-49c9-8449-041b1ab7a168",
   "metadata": {},
   "outputs": [
    {
     "data": {
      "text/plain": [
       "device(type='cuda')"
      ]
     },
     "execution_count": 8,
     "metadata": {},
     "output_type": "execute_result"
    }
   ],
   "source": [
    "device = torch.device(\"cuda\") if is_cuda else torch.device(\"cpu\")\n",
    "device"
   ]
  },
  {
   "cell_type": "code",
   "execution_count": 9,
   "id": "00819f53-a953-4b85-bcf8-6cba59a8bb67",
   "metadata": {},
   "outputs": [],
   "source": [
    "tokenizer = DistilBertTokenizer.from_pretrained(\"distilbert-base-uncased\")\n",
    "\n",
    "def tokens(texts):\n",
    "    res = tokenizer(texts.tolist(), return_tensors=\"pt\", padding=True, truncation=True)\n",
    "    return {k: v.to(device) for k, v in res.items()}\n",
    "\n",
    "class Model(nn.Module):\n",
    "    def __init__(self):\n",
    "        super().__init__()\n",
    "        self._bert_parent = DistilBertModel.from_pretrained(\"distilbert-base-uncased\")\n",
    "        self._bert_child = DistilBertModel.from_pretrained(\"distilbert-base-uncased\")\n",
    "        \n",
    "    def get_parent_embed(self, input_ids, attention_mask):\n",
    "        outputs_parent = self._bert_parent(input_ids=input_ids, attention_mask=attention_mask)\n",
    "        return outputs_parent.last_hidden_state[:, 0]\n",
    "    \n",
    "    def get_child_embed(self, input_ids, attention_mask):\n",
    "        outputs_child = self._bert_child(input_ids=input_ids, attention_mask=attention_mask)\n",
    "        return outputs_child.last_hidden_state[:, 0]\n",
    "        \n",
    "    def forward(self, x):\n",
    "        parent_cls = self.get_parent_embed(input_ids=x[\"parent\"][\"input_ids\"], attention_mask=x[\"parent\"][\"attention_mask\"])\n",
    "        child_cls = self.get_child_embed(input_ids=x[\"child\"][\"input_ids\"], attention_mask=x[\"child\"][\"attention_mask\"])\n",
    "        batch_size = parent_cls.shape[0]\n",
    "        return torch.bmm(parent_cls.reshape([batch_size, 1, -1]), child_cls.reshape([batch_size, -1, 1])).reshape([-1, 1])\n",
    "    \n",
    "class TrainingHarness(nn.Module):\n",
    "    def __init__(self, model):\n",
    "        super().__init__()\n",
    "        self._model = model\n",
    "        self._softmax = nn.Softmax(dim=1)\n",
    "        self._loss = nn.BCELoss()\n",
    "        \n",
    "    def forward(self, left, right, labels):\n",
    "        out_left = self._model(left)\n",
    "        out_right = self._model(right)\n",
    "        preds = self._softmax(torch.hstack((out_left, out_right)))\n",
    "        return preds, self._loss(preds, labels)"
   ]
  },
  {
   "cell_type": "code",
   "execution_count": 10,
   "id": "f048a983-9daf-4f04-b36e-5da77951bb3c",
   "metadata": {},
   "outputs": [
    {
     "name": "stderr",
     "output_type": "stream",
     "text": [
      "Some weights of the model checkpoint at distilbert-base-uncased were not used when initializing DistilBertModel: ['vocab_transform.weight', 'vocab_layer_norm.weight', 'vocab_projector.weight', 'vocab_layer_norm.bias', 'vocab_projector.bias', 'vocab_transform.bias']\n",
      "- This IS expected if you are initializing DistilBertModel from the checkpoint of a model trained on another task or with another architecture (e.g. initializing a BertForSequenceClassification model from a BertForPreTraining model).\n",
      "- This IS NOT expected if you are initializing DistilBertModel from the checkpoint of a model that you expect to be exactly identical (initializing a BertForSequenceClassification model from a BertForSequenceClassification model).\n",
      "Some weights of the model checkpoint at distilbert-base-uncased were not used when initializing DistilBertModel: ['vocab_transform.weight', 'vocab_layer_norm.weight', 'vocab_projector.weight', 'vocab_layer_norm.bias', 'vocab_projector.bias', 'vocab_transform.bias']\n",
      "- This IS expected if you are initializing DistilBertModel from the checkpoint of a model trained on another task or with another architecture (e.g. initializing a BertForSequenceClassification model from a BertForPreTraining model).\n",
      "- This IS NOT expected if you are initializing DistilBertModel from the checkpoint of a model that you expect to be exactly identical (initializing a BertForSequenceClassification model from a BertForSequenceClassification model).\n"
     ]
    }
   ],
   "source": [
    "from torch.optim import AdamW\n",
    "\n",
    "model = Model()\n",
    "model.to(device)\n",
    "harness = TrainingHarness(model)\n",
    "harness.to(device)\n",
    "\n",
    "folder = \"checkpoints\"\n",
    "postfix = \"_lg\" if is_cuda else \"\"\n",
    "mprev = highest_number(os.listdir(folder), prefix=f\"harness{postfix}_\", postfix=\".pkl\")\n",
    "if mprev is not None:\n",
    "    prev_fname, prev_epoch = mprev\n",
    "    harness.load_state_dict(torch.load(os.path.join(folder, prev_fname), map_location=device))\n",
    "    epoch_offset = prev_epoch + 1\n",
    "else:\n",
    "    epoch_offset = 0\n",
    "\n",
    "optimizer = AdamW(harness.parameters(), lr=5e-5)\n",
    "mprev, epoch_offset"
   ]
  },
  {
   "cell_type": "code",
   "execution_count": 11,
   "id": "6cde9030-931f-4f80-a118-d7f5ef2677d9",
   "metadata": {
    "tags": []
   },
   "outputs": [
    {
     "name": "stdout",
     "output_type": "stream",
     "text": [
      "epoch 0\n"
     ]
    },
    {
     "data": {
      "application/vnd.jupyter.widget-view+json": {
       "model_id": "2ea46cd92f384afe8a8e6e2acdc73c83",
       "version_major": 2,
       "version_minor": 0
      },
      "text/plain": [
       "train:   0%|          | 0/20000 [00:00<?, ?it/s]"
      ]
     },
     "metadata": {},
     "output_type": "display_data"
    },
    {
     "data": {
      "application/vnd.jupyter.widget-view+json": {
       "model_id": "af5c49cc59d44b49ae1d97b9f7799436",
       "version_major": 2,
       "version_minor": 0
      },
      "text/plain": [
       "train_val:   0%|          | 0/10000 [00:00<?, ?it/s]"
      ]
     },
     "metadata": {},
     "output_type": "display_data"
    },
    {
     "data": {
      "application/vnd.jupyter.widget-view+json": {
       "model_id": "d60b0e56b7064d56b7fa19ae52ec1162",
       "version_major": 2,
       "version_minor": 0
      },
      "text/plain": [
       "test:   0%|          | 0/10000 [00:00<?, ?it/s]"
      ]
     },
     "metadata": {},
     "output_type": "display_data"
    },
    {
     "name": "stdout",
     "output_type": "stream",
     "text": [
      "train: {'accuracy': 0.6366} loss: 0.6412688046216964\n",
      "test: {'accuracy': 0.5292} loss: 0.6902655980467797\n",
      "epoch 1\n"
     ]
    },
    {
     "data": {
      "application/vnd.jupyter.widget-view+json": {
       "model_id": "6a93b46189c04ade82890e363975e2e5",
       "version_major": 2,
       "version_minor": 0
      },
      "text/plain": [
       "train:   0%|          | 0/20000 [00:00<?, ?it/s]"
      ]
     },
     "metadata": {},
     "output_type": "display_data"
    },
    {
     "data": {
      "application/vnd.jupyter.widget-view+json": {
       "model_id": "914e6acbea024cedbdc2c700d992315b",
       "version_major": 2,
       "version_minor": 0
      },
      "text/plain": [
       "train_val:   0%|          | 0/10000 [00:00<?, ?it/s]"
      ]
     },
     "metadata": {},
     "output_type": "display_data"
    },
    {
     "data": {
      "application/vnd.jupyter.widget-view+json": {
       "model_id": "0cce80ac9fbe4be0bc73d18b6361a98f",
       "version_major": 2,
       "version_minor": 0
      },
      "text/plain": [
       "test:   0%|          | 0/10000 [00:00<?, ?it/s]"
      ]
     },
     "metadata": {},
     "output_type": "display_data"
    },
    {
     "name": "stdout",
     "output_type": "stream",
     "text": [
      "train: {'accuracy': 0.6669} loss: 0.6366010343886446\n",
      "test: {'accuracy': 0.5063} loss: 1.1789204594165086\n",
      "epoch 2\n"
     ]
    },
    {
     "data": {
      "application/vnd.jupyter.widget-view+json": {
       "model_id": "bd0b72e47ae7404e9bfa4729b4f0027b",
       "version_major": 2,
       "version_minor": 0
      },
      "text/plain": [
       "train:   0%|          | 0/20000 [00:00<?, ?it/s]"
      ]
     },
     "metadata": {},
     "output_type": "display_data"
    },
    {
     "data": {
      "application/vnd.jupyter.widget-view+json": {
       "model_id": "7b4fd21c05b24442a8a3e803a7893a30",
       "version_major": 2,
       "version_minor": 0
      },
      "text/plain": [
       "train_val:   0%|          | 0/10000 [00:00<?, ?it/s]"
      ]
     },
     "metadata": {},
     "output_type": "display_data"
    },
    {
     "data": {
      "application/vnd.jupyter.widget-view+json": {
       "model_id": "8acea644515644c883012b41df1ee422",
       "version_major": 2,
       "version_minor": 0
      },
      "text/plain": [
       "test:   0%|          | 0/10000 [00:00<?, ?it/s]"
      ]
     },
     "metadata": {},
     "output_type": "display_data"
    },
    {
     "name": "stdout",
     "output_type": "stream",
     "text": [
      "train: {'accuracy': 0.769} loss: 0.42085654439592324\n",
      "test: {'accuracy': 0.6298} loss: 0.6453790263026953\n",
      "epoch 3\n"
     ]
    },
    {
     "data": {
      "application/vnd.jupyter.widget-view+json": {
       "model_id": "de035f8d1a894fd19f8ef5cc2340f849",
       "version_major": 2,
       "version_minor": 0
      },
      "text/plain": [
       "train:   0%|          | 0/20000 [00:00<?, ?it/s]"
      ]
     },
     "metadata": {},
     "output_type": "display_data"
    },
    {
     "data": {
      "application/vnd.jupyter.widget-view+json": {
       "model_id": "ef3e30427e3e432a977855b6cc1216ad",
       "version_major": 2,
       "version_minor": 0
      },
      "text/plain": [
       "train_val:   0%|          | 0/10000 [00:00<?, ?it/s]"
      ]
     },
     "metadata": {},
     "output_type": "display_data"
    },
    {
     "data": {
      "application/vnd.jupyter.widget-view+json": {
       "model_id": "50e0bed15b8f4e5a89cf3c6e8df69d95",
       "version_major": 2,
       "version_minor": 0
      },
      "text/plain": [
       "test:   0%|          | 0/10000 [00:00<?, ?it/s]"
      ]
     },
     "metadata": {},
     "output_type": "display_data"
    },
    {
     "name": "stdout",
     "output_type": "stream",
     "text": [
      "train: {'accuracy': 0.7921} loss: 0.384285542558413\n",
      "test: {'accuracy': 0.6133} loss: 0.716933774253726\n",
      "epoch 4\n"
     ]
    },
    {
     "data": {
      "application/vnd.jupyter.widget-view+json": {
       "model_id": "b06f8cc5114b493b978a178965f67dc2",
       "version_major": 2,
       "version_minor": 0
      },
      "text/plain": [
       "train:   0%|          | 0/20000 [00:00<?, ?it/s]"
      ]
     },
     "metadata": {},
     "output_type": "display_data"
    },
    {
     "data": {
      "application/vnd.jupyter.widget-view+json": {
       "model_id": "577d7c1b6a4a4e0f99ccd6ca6c27afa8",
       "version_major": 2,
       "version_minor": 0
      },
      "text/plain": [
       "train_val:   0%|          | 0/10000 [00:00<?, ?it/s]"
      ]
     },
     "metadata": {},
     "output_type": "display_data"
    },
    {
     "data": {
      "application/vnd.jupyter.widget-view+json": {
       "model_id": "fc73d343ac144dd282ac7fb82316f7bd",
       "version_major": 2,
       "version_minor": 0
      },
      "text/plain": [
       "test:   0%|          | 0/10000 [00:00<?, ?it/s]"
      ]
     },
     "metadata": {},
     "output_type": "display_data"
    },
    {
     "name": "stdout",
     "output_type": "stream",
     "text": [
      "train: {'accuracy': 0.7962} loss: 0.36132966172944286\n",
      "test: {'accuracy': 0.6324} loss: 0.6400475922584534\n",
      "epoch 5\n"
     ]
    },
    {
     "data": {
      "application/vnd.jupyter.widget-view+json": {
       "model_id": "e77d5e581bf444e2be4a85f36c754868",
       "version_major": 2,
       "version_minor": 0
      },
      "text/plain": [
       "train:   0%|          | 0/20000 [00:00<?, ?it/s]"
      ]
     },
     "metadata": {},
     "output_type": "display_data"
    },
    {
     "data": {
      "application/vnd.jupyter.widget-view+json": {
       "model_id": "eddcd6661a4941a98173da6b3e460bb0",
       "version_major": 2,
       "version_minor": 0
      },
      "text/plain": [
       "train_val:   0%|          | 0/10000 [00:00<?, ?it/s]"
      ]
     },
     "metadata": {},
     "output_type": "display_data"
    },
    {
     "data": {
      "application/vnd.jupyter.widget-view+json": {
       "model_id": "b358881cb8fc481db38db10e547ac746",
       "version_major": 2,
       "version_minor": 0
      },
      "text/plain": [
       "test:   0%|          | 0/10000 [00:00<?, ?it/s]"
      ]
     },
     "metadata": {},
     "output_type": "display_data"
    },
    {
     "name": "stdout",
     "output_type": "stream",
     "text": [
      "train: {'accuracy': 0.8151} loss: 0.3411347740044817\n",
      "test: {'accuracy': 0.6412} loss: 0.6658360253214836\n",
      "epoch 6\n"
     ]
    },
    {
     "data": {
      "application/vnd.jupyter.widget-view+json": {
       "model_id": "e69503b0b4584a57b017a047358c2cd2",
       "version_major": 2,
       "version_minor": 0
      },
      "text/plain": [
       "train:   0%|          | 0/20000 [00:00<?, ?it/s]"
      ]
     },
     "metadata": {},
     "output_type": "display_data"
    },
    {
     "data": {
      "application/vnd.jupyter.widget-view+json": {
       "model_id": "0b2d1c003e2843059a9b6addeb15d6e3",
       "version_major": 2,
       "version_minor": 0
      },
      "text/plain": [
       "train_val:   0%|          | 0/10000 [00:00<?, ?it/s]"
      ]
     },
     "metadata": {},
     "output_type": "display_data"
    },
    {
     "data": {
      "application/vnd.jupyter.widget-view+json": {
       "model_id": "7f17f2b316674f5590f903319ea94438",
       "version_major": 2,
       "version_minor": 0
      },
      "text/plain": [
       "test:   0%|          | 0/10000 [00:00<?, ?it/s]"
      ]
     },
     "metadata": {},
     "output_type": "display_data"
    },
    {
     "name": "stdout",
     "output_type": "stream",
     "text": [
      "train: {'accuracy': 0.8197} loss: 0.339119175026445\n",
      "test: {'accuracy': 0.5928} loss: 0.7092687988579274\n",
      "epoch 7\n"
     ]
    },
    {
     "data": {
      "application/vnd.jupyter.widget-view+json": {
       "model_id": "99793903a68c4637a7a0214f797e5e48",
       "version_major": 2,
       "version_minor": 0
      },
      "text/plain": [
       "train:   0%|          | 0/20000 [00:00<?, ?it/s]"
      ]
     },
     "metadata": {},
     "output_type": "display_data"
    },
    {
     "data": {
      "application/vnd.jupyter.widget-view+json": {
       "model_id": "e1d2ccf7a23d4c5d97e70f2601ef5945",
       "version_major": 2,
       "version_minor": 0
      },
      "text/plain": [
       "train_val:   0%|          | 0/10000 [00:00<?, ?it/s]"
      ]
     },
     "metadata": {},
     "output_type": "display_data"
    },
    {
     "data": {
      "application/vnd.jupyter.widget-view+json": {
       "model_id": "ef21e6058473436ca4603c1059455e07",
       "version_major": 2,
       "version_minor": 0
      },
      "text/plain": [
       "test:   0%|          | 0/10000 [00:00<?, ?it/s]"
      ]
     },
     "metadata": {},
     "output_type": "display_data"
    },
    {
     "name": "stdout",
     "output_type": "stream",
     "text": [
      "train: {'accuracy': 0.8246} loss: 0.3227710216520354\n",
      "test: {'accuracy': 0.5981} loss: 0.6681019182562828\n",
      "epoch 8\n"
     ]
    },
    {
     "data": {
      "application/vnd.jupyter.widget-view+json": {
       "model_id": "35a45a9276c04bc5a152866e7f2e8742",
       "version_major": 2,
       "version_minor": 0
      },
      "text/plain": [
       "train:   0%|          | 0/20000 [00:00<?, ?it/s]"
      ]
     },
     "metadata": {},
     "output_type": "display_data"
    },
    {
     "data": {
      "application/vnd.jupyter.widget-view+json": {
       "model_id": "be9d8d1444d44b8391c5cd99eff6630b",
       "version_major": 2,
       "version_minor": 0
      },
      "text/plain": [
       "train_val:   0%|          | 0/10000 [00:00<?, ?it/s]"
      ]
     },
     "metadata": {},
     "output_type": "display_data"
    },
    {
     "data": {
      "application/vnd.jupyter.widget-view+json": {
       "model_id": "f00b3e5d5d354c9ab2a7764fbbf1d159",
       "version_major": 2,
       "version_minor": 0
      },
      "text/plain": [
       "test:   0%|          | 0/10000 [00:00<?, ?it/s]"
      ]
     },
     "metadata": {},
     "output_type": "display_data"
    },
    {
     "name": "stdout",
     "output_type": "stream",
     "text": [
      "train: {'accuracy': 0.8273} loss: 0.31881359425224365\n",
      "test: {'accuracy': 0.6158} loss: 0.6703915956020355\n",
      "epoch 9\n"
     ]
    },
    {
     "data": {
      "application/vnd.jupyter.widget-view+json": {
       "model_id": "9f95cc71a1354fbf852ca514f6f6c531",
       "version_major": 2,
       "version_minor": 0
      },
      "text/plain": [
       "train:   0%|          | 0/20000 [00:00<?, ?it/s]"
      ]
     },
     "metadata": {},
     "output_type": "display_data"
    },
    {
     "data": {
      "application/vnd.jupyter.widget-view+json": {
       "model_id": "d4e7845b491d41e288cfeb7950905fea",
       "version_major": 2,
       "version_minor": 0
      },
      "text/plain": [
       "train_val:   0%|          | 0/10000 [00:00<?, ?it/s]"
      ]
     },
     "metadata": {},
     "output_type": "display_data"
    },
    {
     "data": {
      "application/vnd.jupyter.widget-view+json": {
       "model_id": "95e3a293d4d64817bce3f56ae83c8d64",
       "version_major": 2,
       "version_minor": 0
      },
      "text/plain": [
       "test:   0%|          | 0/10000 [00:00<?, ?it/s]"
      ]
     },
     "metadata": {},
     "output_type": "display_data"
    },
    {
     "name": "stdout",
     "output_type": "stream",
     "text": [
      "train: {'accuracy': 0.8281} loss: 0.3606532036147779\n",
      "test: {'accuracy': 0.7} loss: 0.7664583751916886\n",
      "epoch 10\n"
     ]
    },
    {
     "data": {
      "application/vnd.jupyter.widget-view+json": {
       "model_id": "e903bb4c8cf4494a806cfc0007ade352",
       "version_major": 2,
       "version_minor": 0
      },
      "text/plain": [
       "train:   0%|          | 0/20000 [00:00<?, ?it/s]"
      ]
     },
     "metadata": {},
     "output_type": "display_data"
    },
    {
     "data": {
      "application/vnd.jupyter.widget-view+json": {
       "model_id": "ebc2698ec5de4762bcad8ad7678e3847",
       "version_major": 2,
       "version_minor": 0
      },
      "text/plain": [
       "train_val:   0%|          | 0/10000 [00:00<?, ?it/s]"
      ]
     },
     "metadata": {},
     "output_type": "display_data"
    },
    {
     "data": {
      "application/vnd.jupyter.widget-view+json": {
       "model_id": "f0ce626a1c6941f195b178153ebf86d9",
       "version_major": 2,
       "version_minor": 0
      },
      "text/plain": [
       "test:   0%|          | 0/10000 [00:00<?, ?it/s]"
      ]
     },
     "metadata": {},
     "output_type": "display_data"
    },
    {
     "name": "stdout",
     "output_type": "stream",
     "text": [
      "train: {'accuracy': 0.817} loss: 0.35585565281267045\n",
      "test: {'accuracy': 0.6854} loss: 0.5891802461057901\n",
      "epoch 11\n"
     ]
    },
    {
     "data": {
      "application/vnd.jupyter.widget-view+json": {
       "model_id": "cce7024ec3ce4213ab2c61ab755e7069",
       "version_major": 2,
       "version_minor": 0
      },
      "text/plain": [
       "train:   0%|          | 0/20000 [00:00<?, ?it/s]"
      ]
     },
     "metadata": {},
     "output_type": "display_data"
    },
    {
     "data": {
      "application/vnd.jupyter.widget-view+json": {
       "model_id": "70d0cbcde1b944f586bed8e305abb176",
       "version_major": 2,
       "version_minor": 0
      },
      "text/plain": [
       "train_val:   0%|          | 0/10000 [00:00<?, ?it/s]"
      ]
     },
     "metadata": {},
     "output_type": "display_data"
    },
    {
     "data": {
      "application/vnd.jupyter.widget-view+json": {
       "model_id": "9312bc017b1f47038ad9f8997b9ad55d",
       "version_major": 2,
       "version_minor": 0
      },
      "text/plain": [
       "test:   0%|          | 0/10000 [00:00<?, ?it/s]"
      ]
     },
     "metadata": {},
     "output_type": "display_data"
    },
    {
     "name": "stdout",
     "output_type": "stream",
     "text": [
      "train: {'accuracy': 0.8264} loss: 0.33819707686475015\n",
      "test: {'accuracy': 0.5742} loss: 0.7521654302805663\n",
      "epoch 12\n"
     ]
    },
    {
     "data": {
      "application/vnd.jupyter.widget-view+json": {
       "model_id": "e0ec38bf4f164412acfdfb5252ef4543",
       "version_major": 2,
       "version_minor": 0
      },
      "text/plain": [
       "train:   0%|          | 0/20000 [00:00<?, ?it/s]"
      ]
     },
     "metadata": {},
     "output_type": "display_data"
    },
    {
     "data": {
      "application/vnd.jupyter.widget-view+json": {
       "model_id": "18e61666d2044f9f85bb68acca1187f0",
       "version_major": 2,
       "version_minor": 0
      },
      "text/plain": [
       "train_val:   0%|          | 0/10000 [00:00<?, ?it/s]"
      ]
     },
     "metadata": {},
     "output_type": "display_data"
    },
    {
     "data": {
      "application/vnd.jupyter.widget-view+json": {
       "model_id": "284b4a7738e14352a41b18d757228e4c",
       "version_major": 2,
       "version_minor": 0
      },
      "text/plain": [
       "test:   0%|          | 0/10000 [00:00<?, ?it/s]"
      ]
     },
     "metadata": {},
     "output_type": "display_data"
    },
    {
     "name": "stdout",
     "output_type": "stream",
     "text": [
      "train: {'accuracy': 0.8255} loss: 0.3157909473729902\n",
      "test: {'accuracy': 0.5807} loss: 0.6732999487996102\n",
      "epoch 13\n"
     ]
    },
    {
     "data": {
      "application/vnd.jupyter.widget-view+json": {
       "model_id": "736987224914444295914565f9ed5ba0",
       "version_major": 2,
       "version_minor": 0
      },
      "text/plain": [
       "train:   0%|          | 0/20000 [00:00<?, ?it/s]"
      ]
     },
     "metadata": {},
     "output_type": "display_data"
    },
    {
     "data": {
      "application/vnd.jupyter.widget-view+json": {
       "model_id": "b6752bcd464c45f580f1e4776297589a",
       "version_major": 2,
       "version_minor": 0
      },
      "text/plain": [
       "train_val:   0%|          | 0/10000 [00:00<?, ?it/s]"
      ]
     },
     "metadata": {},
     "output_type": "display_data"
    },
    {
     "data": {
      "application/vnd.jupyter.widget-view+json": {
       "model_id": "c1e36a2ca1df48c995b8108bc5442799",
       "version_major": 2,
       "version_minor": 0
      },
      "text/plain": [
       "test:   0%|          | 0/10000 [00:00<?, ?it/s]"
      ]
     },
     "metadata": {},
     "output_type": "display_data"
    },
    {
     "name": "stdout",
     "output_type": "stream",
     "text": [
      "train: {'accuracy': 0.8313} loss: 0.3065201754671056\n",
      "test: {'accuracy': 0.718} loss: 0.5401540446192026\n",
      "epoch 14\n"
     ]
    },
    {
     "data": {
      "application/vnd.jupyter.widget-view+json": {
       "model_id": "e35841d8c2174fbfb2789655fa551779",
       "version_major": 2,
       "version_minor": 0
      },
      "text/plain": [
       "train:   0%|          | 0/20000 [00:00<?, ?it/s]"
      ]
     },
     "metadata": {},
     "output_type": "display_data"
    },
    {
     "name": "stdout",
     "output_type": "stream",
     "text": [
      "Unexpected exception formatting exception. Falling back to standard exception\n"
     ]
    },
    {
     "name": "stderr",
     "output_type": "stream",
     "text": [
      "Traceback (most recent call last):\n",
      "  File \"/home/krause/miniconda3/envs/clotho/lib/python3.10/site-packages/IPython/core/interactiveshell.py\", line 3433, in run_code\n",
      "    exec(code_obj, self.user_global_ns, self.user_ns)\n",
      "  File \"/tmp/ipykernel_4827/1429975215.py\", line 30, in <module>\n",
      "    for train_df in ttgen.train_dfs():\n",
      "  File \"/home/krause/workspace/joschi/clotho/notebooks/../model/datagenerator.py\", line 412, in train_dfs\n",
      "    return\n",
      "  File \"/home/krause/workspace/joschi/clotho/notebooks/../model/datagenerator.py\", line 412, in <genexpr>\n",
      "    return\n",
      "  File \"/home/krause/workspace/joschi/clotho/notebooks/../model/datagenerator.py\", line 388, in train_batches\n",
      "    if not is_alive():\n",
      "  File \"/home/krause/workspace/joschi/clotho/notebooks/../model/datagenerator.py\", line 356, in next_train_batch\n",
      "    \"sway_right\": sway_right,\n",
      "  File \"/home/krause/workspace/joschi/clotho/notebooks/../model/datagenerator.py\", line 350, in _get_batch_for\n",
      "    return {\n",
      "  File \"/home/krause/workspace/joschi/clotho/notebooks/../model/datagenerator.py\", line 332, in _compute_batch_for\n",
      "  File \"/home/krause/workspace/joschi/clotho/notebooks/../model/datagenerator.py\", line 153, in get_valid_random_links\n",
      "    if now is None:\n",
      "  File \"/home/krause/workspace/joschi/clotho/notebooks/../model/datagenerator.py\", line 65, in get_valid_links_from_messages\n",
      "    return res[0]\n",
      "  File \"/home/krause/workspace/joschi/clotho/notebooks/../model/datagenerator.py\", line 66, in <listcomp>\n",
      "  File \"/home/krause/workspace/joschi/clotho/notebooks/../model/datagenerator.py\", line 54, in get_link\n",
      "  File \"/home/krause/workspace/joschi/clotho/notebooks/../system/links/redisstore.py\", line 459, in get_all_parents_count\n",
      "    return self.r_pall.get_size(\n",
      "  File \"/home/krause/workspace/joschi/clotho/notebooks/../effects/effects.py\", line 350, in get_size\n",
      "    self.execute_update(key, when)\n",
      "  File \"/home/krause/workspace/joschi/clotho/notebooks/../effects/effects.py\", line 197, in execute_update\n",
      "    self._effect(key, now)\n",
      "  File \"/home/krause/workspace/joschi/clotho/notebooks/../system/links/redisstore.py\", line 143, in compute_pall\n",
      "    list(self.r_last.get_range_keys(prefix, postfix)),\n",
      "  File \"/home/krause/workspace/joschi/clotho/notebooks/../effects/redis.py\", line 91, in get_range_keys\n",
      "    for key in self._redis.keys_str(prefix, postfix)\n",
      "  File \"/home/krause/workspace/joschi/clotho/notebooks/../misc/redis.py\", line 565, in keys_str\n",
      "    cursor, res = conn.scan(cursor, full_prefix, count)\n",
      "  File \"/home/krause/miniconda3/envs/clotho/lib/python3.10/site-packages/redis/client.py\", line 2112, in scan\n",
      "    return self.execute_command('SCAN', *pieces)\n",
      "  File \"/home/krause/miniconda3/envs/clotho/lib/python3.10/site-packages/redis/client.py\", line 901, in execute_command\n",
      "    return self.parse_response(conn, command_name, **options)\n",
      "  File \"/home/krause/miniconda3/envs/clotho/lib/python3.10/site-packages/redis/client.py\", line 915, in parse_response\n",
      "    response = connection.read_response()\n",
      "  File \"/home/krause/miniconda3/envs/clotho/lib/python3.10/site-packages/redis/connection.py\", line 739, in read_response\n",
      "    response = self._parser.read_response()\n",
      "  File \"/home/krause/miniconda3/envs/clotho/lib/python3.10/site-packages/redis/connection.py\", line 324, in read_response\n",
      "    raw = self._buffer.readline()\n",
      "  File \"/home/krause/miniconda3/envs/clotho/lib/python3.10/site-packages/redis/connection.py\", line 256, in readline\n",
      "    self._read_from_socket()\n",
      "  File \"/home/krause/miniconda3/envs/clotho/lib/python3.10/site-packages/redis/connection.py\", line 198, in _read_from_socket\n",
      "    data = recv(self._sock, socket_read_size)\n",
      "  File \"/home/krause/miniconda3/envs/clotho/lib/python3.10/site-packages/redis/_compat.py\", line 72, in recv\n",
      "    return sock.recv(*args, **kwargs)\n",
      "KeyboardInterrupt\n",
      "\n",
      "During handling of the above exception, another exception occurred:\n",
      "\n",
      "Traceback (most recent call last):\n",
      "  File \"/home/krause/miniconda3/envs/clotho/lib/python3.10/site-packages/IPython/core/interactiveshell.py\", line 2052, in showtraceback\n",
      "    stb = self.InteractiveTB.structured_traceback(\n",
      "  File \"/home/krause/miniconda3/envs/clotho/lib/python3.10/site-packages/IPython/core/ultratb.py\", line 1118, in structured_traceback\n",
      "    return FormattedTB.structured_traceback(\n",
      "  File \"/home/krause/miniconda3/envs/clotho/lib/python3.10/site-packages/IPython/core/ultratb.py\", line 1012, in structured_traceback\n",
      "    return VerboseTB.structured_traceback(\n",
      "  File \"/home/krause/miniconda3/envs/clotho/lib/python3.10/site-packages/IPython/core/ultratb.py\", line 865, in structured_traceback\n",
      "    formatted_exception = self.format_exception_as_a_whole(etype, evalue, etb, number_of_lines_of_context,\n",
      "  File \"/home/krause/miniconda3/envs/clotho/lib/python3.10/site-packages/IPython/core/ultratb.py\", line 818, in format_exception_as_a_whole\n",
      "    frames.append(self.format_record(r))\n",
      "  File \"/home/krause/miniconda3/envs/clotho/lib/python3.10/site-packages/IPython/core/ultratb.py\", line 736, in format_record\n",
      "    result += ''.join(_format_traceback_lines(frame_info.lines, Colors, self.has_colors, lvals))\n",
      "  File \"/home/krause/miniconda3/envs/clotho/lib/python3.10/site-packages/stack_data/utils.py\", line 145, in cached_property_wrapper\n",
      "    value = obj.__dict__[self.func.__name__] = self.func(obj)\n",
      "  File \"/home/krause/miniconda3/envs/clotho/lib/python3.10/site-packages/stack_data/core.py\", line 698, in lines\n",
      "    pieces = self.included_pieces\n",
      "  File \"/home/krause/miniconda3/envs/clotho/lib/python3.10/site-packages/stack_data/utils.py\", line 145, in cached_property_wrapper\n",
      "    value = obj.__dict__[self.func.__name__] = self.func(obj)\n",
      "  File \"/home/krause/miniconda3/envs/clotho/lib/python3.10/site-packages/stack_data/core.py\", line 649, in included_pieces\n",
      "    pos = scope_pieces.index(self.executing_piece)\n",
      "  File \"/home/krause/miniconda3/envs/clotho/lib/python3.10/site-packages/stack_data/utils.py\", line 145, in cached_property_wrapper\n",
      "    value = obj.__dict__[self.func.__name__] = self.func(obj)\n",
      "  File \"/home/krause/miniconda3/envs/clotho/lib/python3.10/site-packages/stack_data/core.py\", line 628, in executing_piece\n",
      "    return only(\n",
      "  File \"/home/krause/miniconda3/envs/clotho/lib/python3.10/site-packages/executing/executing.py\", line 164, in only\n",
      "    raise NotOneValueFound('Expected one value, found 0')\n",
      "executing.executing.NotOneValueFound: Expected one value, found 0\n"
     ]
    }
   ],
   "source": [
    "from transformers import get_scheduler\n",
    "# from tqdm.notebook import tqdm\n",
    "from tqdm.auto import tqdm\n",
    "import evaluate\n",
    "\n",
    "def compute(df):\n",
    "    plefts = tokens(df[\"parent_left\"])\n",
    "    clefts = tokens(df[\"child_left\"])\n",
    "    prights = tokens(df[\"parent_right\"])\n",
    "    crights = tokens(df[\"child_right\"])\n",
    "    labels = torch.tensor([~df[\"correct_is_right\"], df[\"correct_is_right\"]], dtype=torch.float32).T.to(device)\n",
    "    return harness({\"parent\": plefts, \"child\": clefts}, {\"parent\": prights, \"child\": crights}, labels)\n",
    "\n",
    "num_epochs = max((50 if is_cuda else 10) - epoch_offset, 3)\n",
    "num_training_steps = num_epochs * ttgen.get_epoch_train_size()\n",
    "lr_scheduler = get_scheduler(\n",
    "    name=\"linear\",\n",
    "    optimizer=optimizer,\n",
    "    num_warmup_steps=0,\n",
    "    num_training_steps=num_training_steps)\n",
    "ttgen.reset()\n",
    "\n",
    "for _ in range(num_epochs):\n",
    "    epoch = ttgen.get_epoch() + epoch_offset\n",
    "    print(f\"epoch {epoch}\")\n",
    "    \n",
    "    model.train()\n",
    "    harness.train()\n",
    "    with tqdm(desc=\"train\", total=ttgen.get_epoch_train_size()) as progress_bar:\n",
    "        for train_df in ttgen.train_dfs():\n",
    "            _, loss = compute(train_df)\n",
    "            loss.backward()\n",
    "\n",
    "            optimizer.step()\n",
    "            lr_scheduler.step()\n",
    "            optimizer.zero_grad()\n",
    "            progress_bar.update(train_df.shape[0])\n",
    "\n",
    "    folder = \"checkpoints\"\n",
    "    postfix = \"_lg\" if is_cuda else \"\"\n",
    "    torch.save(harness.state_dict(), os.path.join(folder, f\"harness{postfix}_{epoch}.pkl\"))\n",
    "            \n",
    "    model.eval()\n",
    "    harness.eval()\n",
    "    with torch.no_grad():\n",
    "        metric_train = evaluate.load(\"accuracy\")\n",
    "        train_loss = []\n",
    "        with tqdm(desc=\"train_val\", total=ttgen.get_epoch_train_validation_size()) as progress_bar:\n",
    "            for train_validation_df in ttgen.train_validation_dfs():\n",
    "                preds, loss = compute(train_validation_df)\n",
    "                train_loss.append(loss.item())\n",
    "                predictions = torch.argmax(preds, dim=-1)\n",
    "                metric_train.add_batch(predictions=predictions, references=train_validation_df[\"correct_is_right\"].astype(int))\n",
    "                progress_bar.update(train_validation_df.shape[0])\n",
    "        \n",
    "        metric_test = evaluate.load(\"accuracy\")\n",
    "        test_loss = []\n",
    "        with tqdm(desc=\"test\", total=ttgen.get_epoch_test_size()) as progress_bar:\n",
    "            for test_df in ttgen.test_dfs():\n",
    "                preds, loss = compute(test_df)\n",
    "                test_loss.append(loss.item())\n",
    "                predictions = torch.argmax(preds, dim=-1)\n",
    "                metric_test.add_batch(predictions=predictions, references=test_df[\"correct_is_right\"].astype(int))\n",
    "                progress_bar.update(test_df.shape[0])\n",
    "        \n",
    "        print(f\"train: {metric_train.compute()} loss: {np.mean(train_loss)}\")\n",
    "        print(f\"test: {metric_test.compute()} loss: {np.mean(test_loss)}\")\n",
    "    ttgen.advance_epoch()"
   ]
  },
  {
   "cell_type": "code",
   "execution_count": null,
   "id": "c5a36224-b91d-4f21-9279-fa7c2a0e862f",
   "metadata": {},
   "outputs": [],
   "source": [
    "folder = \".\"\n",
    "postfix = \"_lg\" if is_cuda else \"\"\n",
    "torch.save(model.state_dict(), os.path.join(folder, f\"model{postfix}.pkl\"))\n",
    "torch.save(harness.state_dict(), os.path.join(folder, f\"harness{postfix}.pkl\"))\n",
    "torch.save(optimizer.state_dict(), os.path.join(folder, f\"optimizer{postfix}.pkl\"))"
   ]
  },
  {
   "cell_type": "code",
   "execution_count": null,
   "id": "bff582b9-1447-425a-9b0f-36d9366e4ec7",
   "metadata": {},
   "outputs": [],
   "source": []
  }
 ],
 "metadata": {
  "kernelspec": {
   "display_name": "Python [conda env:clotho]",
   "language": "python",
   "name": "conda-env-clotho-py"
  },
  "language_info": {
   "codemirror_mode": {
    "name": "ipython",
    "version": 3
   },
   "file_extension": ".py",
   "mimetype": "text/x-python",
   "name": "python",
   "nbconvert_exporter": "python",
   "pygments_lexer": "ipython3",
   "version": "3.10.6"
  }
 },
 "nbformat": 4,
 "nbformat_minor": 5
}

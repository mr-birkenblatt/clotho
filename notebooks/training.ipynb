{
 "cells": [
  {
   "cell_type": "code",
   "execution_count": 1,
   "id": "7c1265ba-c76b-4424-b577-a322e6b512af",
   "metadata": {},
   "outputs": [],
   "source": [
    "# in a terminal run\n",
    "# > make run-redis NS=train\n",
    "# > make run-redis NS=test\n",
    "# to allow access to the train and test namespaces"
   ]
  },
  {
   "cell_type": "code",
   "execution_count": 2,
   "id": "4e21c530-5f85-4b18-b9ed-c2fbe591b52f",
   "metadata": {},
   "outputs": [],
   "source": [
    "import os\n",
    "import sys\n",
    "import pandas as pd\n",
    "import numpy as np"
   ]
  },
  {
   "cell_type": "code",
   "execution_count": 3,
   "id": "62721599-23d3-405a-bbb2-88a6f0a17a17",
   "metadata": {},
   "outputs": [],
   "source": [
    "sys.path.append(\"..\")\n",
    "os.environ[\"USER_PATH\"] = \"../userdata\""
   ]
  },
  {
   "cell_type": "code",
   "execution_count": 4,
   "id": "82c6f1c7-607b-479d-b2f6-3483cb91a57d",
   "metadata": {},
   "outputs": [],
   "source": [
    "from misc.redis import set_redis_slow_mode\n",
    "from misc.util import highest_number\n",
    "from model.datagenerator import create_train_test\n",
    "from system.namespace.store import get_namespace"
   ]
  },
  {
   "cell_type": "code",
   "execution_count": 5,
   "id": "1d8c7e9a-fa89-435d-a0a2-0a492056581e",
   "metadata": {},
   "outputs": [
    {
     "data": {
      "text/plain": [
       "True"
      ]
     },
     "execution_count": 5,
     "metadata": {},
     "output_type": "execute_result"
    }
   ],
   "source": [
    "import torch\n",
    "\n",
    "is_cuda = torch.cuda.is_available()\n",
    "is_cuda"
   ]
  },
  {
   "cell_type": "code",
   "execution_count": 6,
   "id": "0a897205-0707-4928-860d-5e8d58cef31a",
   "metadata": {},
   "outputs": [],
   "source": [
    "set_redis_slow_mode(\"never\")\n",
    "ns_test = get_namespace(\"test\")\n",
    "ns_train = get_namespace(\"train\")\n",
    "now = pd.Timestamp(\"2022-12-17\", tz=\"UTC\")\n",
    "train_plan = [\n",
    "    {\n",
    "        \"left\": {\"mode\": \"valid\", \"flip_pc\": 0.5},\n",
    "        \"right\": {\"mode\": \"valid\", \"flip_pc\": 0.0},\n",
    "        \"min_text_length\": 20,\n",
    "        \"flip_lr\": 0.5,\n",
    "        \"first_epoch\": 10,\n",
    "        \"last_epoch\": None,\n",
    "        \"weight\": 100,\n",
    "    },\n",
    "    {\n",
    "        \"left\": {\"mode\": \"random\", \"flip_pc\": 0.0},\n",
    "        \"right\": {\"mode\": \"path\", \"flip_pc\": 0.0},\n",
    "        \"min_text_length\": 20,\n",
    "        \"flip_lr\": 0.5,\n",
    "        \"first_epoch\": None,\n",
    "        \"last_epoch\": 5,\n",
    "        \"weight\": 60,\n",
    "    },\n",
    "    {\n",
    "        \"left\": None,\n",
    "        \"right\": {\"mode\": \"path\", \"flip_pc\": 0.0},\n",
    "        \"min_text_length\": 20,\n",
    "        \"flip_lr\": 0.5,\n",
    "        \"first_epoch\": None,\n",
    "        \"last_epoch\": 5,\n",
    "        \"weight\": 40,\n",
    "    },\n",
    "    {\n",
    "        \"left\": {\"mode\": \"random\", \"flip_pc\": 0.0},\n",
    "        \"right\": {\"mode\": \"valid\", \"flip_pc\": 0.0},\n",
    "        \"min_text_length\": 20,\n",
    "        \"flip_lr\": 0.5,\n",
    "        \"first_epoch\": None,\n",
    "        \"last_epoch\": None,\n",
    "        \"weight\": 60,\n",
    "    },\n",
    "    {\n",
    "        \"left\": None,\n",
    "        \"right\": {\"mode\": \"valid\", \"flip_pc\": 0.0},\n",
    "        \"min_text_length\": 20,\n",
    "        \"flip_lr\": 0.5,\n",
    "        \"first_epoch\": None,\n",
    "        \"last_epoch\": None,\n",
    "        \"weight\": 40,\n",
    "    }\n",
    "]\n",
    "eval_plan = [\n",
    "    {\n",
    "        \"left\": {\"mode\": \"random\", \"flip_pc\": 0.0},\n",
    "        \"right\": {\"mode\": \"valid\", \"flip_pc\": 0.0},\n",
    "        \"min_text_length\": 20,\n",
    "        \"flip_lr\": 0.5,\n",
    "        \"weight\": 60,\n",
    "    },\n",
    "    {\n",
    "        \"left\": None,\n",
    "        \"right\": {\"mode\": \"valid\", \"flip_pc\": 0.0},\n",
    "        \"min_text_length\": 20,\n",
    "        \"flip_lr\": 0.5,\n",
    "        \"weight\": 40,\n",
    "    }\n",
    "]\n",
    "ttgen = create_train_test(\n",
    "    train_ns=ns_train,\n",
    "    train_validation_ns=ns_train,\n",
    "    test_ns=ns_test,\n",
    "    test_validation_ns=ns_test,\n",
    "    train_learning_plan=train_plan,\n",
    "    train_val_learning_plan=eval_plan,\n",
    "    test_learning_plan=eval_plan,\n",
    "    test_val_learning_plan=eval_plan,\n",
    "    batch_size=4 if is_cuda else 8,\n",
    "    epoch_batches=5000 if is_cuda else 500,\n",
    "    train_val_size=10000 if is_cuda else 1000,\n",
    "    test_size=10000 if is_cuda else 1000,\n",
    "    test_val_size=10000 if is_cuda else 1000,\n",
    "    compute_batch_size=100 if is_cuda else 100,\n",
    "    now=now)"
   ]
  },
  {
   "cell_type": "code",
   "execution_count": 7,
   "id": "9d7acd4d-0d4a-481f-901b-3e524ee02c6f",
   "metadata": {},
   "outputs": [],
   "source": [
    "import torch.nn as nn\n",
    "from transformers import DistilBertTokenizer, DistilBertModel"
   ]
  },
  {
   "cell_type": "code",
   "execution_count": 8,
   "id": "927dbcbe-6df3-49c9-8449-041b1ab7a168",
   "metadata": {},
   "outputs": [
    {
     "data": {
      "text/plain": [
       "device(type='cuda')"
      ]
     },
     "execution_count": 8,
     "metadata": {},
     "output_type": "execute_result"
    }
   ],
   "source": [
    "device = torch.device(\"cuda\") if is_cuda else torch.device(\"cpu\")\n",
    "device"
   ]
  },
  {
   "cell_type": "code",
   "execution_count": 9,
   "id": "00819f53-a953-4b85-bcf8-6cba59a8bb67",
   "metadata": {},
   "outputs": [],
   "source": [
    "tokenizer = DistilBertTokenizer.from_pretrained(\"distilbert-base-uncased\")\n",
    "\n",
    "def tokens(texts):\n",
    "    res = tokenizer(texts.tolist(), return_tensors=\"pt\", padding=True, truncation=True)\n",
    "    return {k: v.to(device) for k, v in res.items()}\n",
    "\n",
    "class Model(nn.Module):\n",
    "    def __init__(self, version=0):\n",
    "        super().__init__()\n",
    "        self._bert_parent = DistilBertModel.from_pretrained(\"distilbert-base-uncased\")\n",
    "        self._bert_child = DistilBertModel.from_pretrained(\"distilbert-base-uncased\")\n",
    "        if version > 0:\n",
    "            embed_size = 768\n",
    "            self._pdense = nn.Sequential(\n",
    "                nn.Linear(embed_size, embed_size),\n",
    "                nn.Dropout(p=0.5),\n",
    "                nn.ReLU(),\n",
    "                nn.Linear(embed_size, embed_size))\n",
    "            self._cdense = nn.Sequential(\n",
    "                nn.Linear(embed_size, embed_size),\n",
    "                nn.Dropout(p=0.5),\n",
    "                nn.ReLU(),\n",
    "                nn.Linear(embed_size, embed_size))\n",
    "        else:\n",
    "            self._pdense = None\n",
    "            self._cdense = None\n",
    "        self._version = version\n",
    "    \n",
    "    def get_version(self):\n",
    "        return self._version\n",
    "    \n",
    "    def get_parent_embed(self, input_ids, attention_mask):\n",
    "        outputs_parent = self._bert_parent(input_ids=input_ids, attention_mask=attention_mask)\n",
    "        out = outputs_parent.last_hidden_state[:, 0]\n",
    "        if self._pdense is not None:\n",
    "            out = self._pdense(out)\n",
    "        return out\n",
    "    \n",
    "    def get_child_embed(self, input_ids, attention_mask):\n",
    "        outputs_child = self._bert_child(input_ids=input_ids, attention_mask=attention_mask)\n",
    "        out = outputs_child.last_hidden_state[:, 0]\n",
    "        if self._cdense is not None:\n",
    "            out = self._cdense(out)\n",
    "        return out\n",
    "        \n",
    "    def forward(self, x):\n",
    "        parent_cls = self.get_parent_embed(\n",
    "            input_ids=x[\"parent\"][\"input_ids\"],\n",
    "            attention_mask=x[\"parent\"][\"attention_mask\"])\n",
    "        child_cls = self.get_child_embed(\n",
    "            input_ids=x[\"child\"][\"input_ids\"],\n",
    "            attention_mask=x[\"child\"][\"attention_mask\"])\n",
    "        batch_size = parent_cls.shape[0]\n",
    "        return torch.bmm(\n",
    "            parent_cls.reshape([batch_size, 1, -1]),\n",
    "            child_cls.reshape([batch_size, -1, 1])).reshape([-1, 1])\n",
    "    \n",
    "class TrainingHarness(nn.Module):\n",
    "    def __init__(self, model):\n",
    "        super().__init__()\n",
    "        self._model = model\n",
    "        self._softmax = nn.Softmax(dim=1)\n",
    "        self._loss = nn.BCELoss()\n",
    "        \n",
    "    def get_version(self):\n",
    "        return self._model.get_version()\n",
    "        \n",
    "    def forward(self, left, right, labels):\n",
    "        out_left = self._model(left)\n",
    "        out_right = self._model(right)\n",
    "        preds = self._softmax(torch.hstack((out_left, out_right)))\n",
    "        return preds, self._loss(preds, labels)"
   ]
  },
  {
   "cell_type": "code",
   "execution_count": 10,
   "id": "f048a983-9daf-4f04-b36e-5da77951bb3c",
   "metadata": {},
   "outputs": [
    {
     "name": "stderr",
     "output_type": "stream",
     "text": [
      "Some weights of the model checkpoint at distilbert-base-uncased were not used when initializing DistilBertModel: ['vocab_layer_norm.weight', 'vocab_projector.weight', 'vocab_layer_norm.bias', 'vocab_projector.bias', 'vocab_transform.weight', 'vocab_transform.bias']\n",
      "- This IS expected if you are initializing DistilBertModel from the checkpoint of a model trained on another task or with another architecture (e.g. initializing a BertForSequenceClassification model from a BertForPreTraining model).\n",
      "- This IS NOT expected if you are initializing DistilBertModel from the checkpoint of a model that you expect to be exactly identical (initializing a BertForSequenceClassification model from a BertForSequenceClassification model).\n",
      "Some weights of the model checkpoint at distilbert-base-uncased were not used when initializing DistilBertModel: ['vocab_layer_norm.weight', 'vocab_projector.weight', 'vocab_layer_norm.bias', 'vocab_projector.bias', 'vocab_transform.weight', 'vocab_transform.bias']\n",
      "- This IS expected if you are initializing DistilBertModel from the checkpoint of a model trained on another task or with another architecture (e.g. initializing a BertForSequenceClassification model from a BertForPreTraining model).\n",
      "- This IS NOT expected if you are initializing DistilBertModel from the checkpoint of a model that you expect to be exactly identical (initializing a BertForSequenceClassification model from a BertForSequenceClassification model).\n"
     ]
    },
    {
     "data": {
      "text/plain": [
       "(None, 0)"
      ]
     },
     "execution_count": 10,
     "metadata": {},
     "output_type": "execute_result"
    }
   ],
   "source": [
    "from torch.optim import AdamW\n",
    "\n",
    "model = Model(version=0)\n",
    "model.to(device)\n",
    "harness = TrainingHarness(model)\n",
    "harness.to(device)\n",
    "\n",
    "folder = \"checkpoints\"\n",
    "postfix = \"_lg\" if is_cuda else \"\"\n",
    "version_tag = \"\" if harness.get_version() == 0 else f\"_v{harness.get_version()}\"\n",
    "mprev = highest_number(os.listdir(folder), prefix=f\"harness{version_tag}{postfix}_\", postfix=\".pkl\")\n",
    "if mprev is not None:\n",
    "    prev_fname, prev_epoch = mprev\n",
    "    harness.load_state_dict(torch.load(os.path.join(folder, prev_fname), map_location=device))\n",
    "    epoch_offset = prev_epoch + 1\n",
    "else:\n",
    "    epoch_offset = 0\n",
    "\n",
    "optimizer = AdamW(harness.parameters(), lr=5e-5)\n",
    "mprev, epoch_offset"
   ]
  },
  {
   "cell_type": "code",
   "execution_count": 11,
   "id": "6cde9030-931f-4f80-a118-d7f5ef2677d9",
   "metadata": {
    "tags": []
   },
   "outputs": [
    {
     "name": "stdout",
     "output_type": "stream",
     "text": [
      "epoch 0\n"
     ]
    },
    {
     "data": {
      "application/vnd.jupyter.widget-view+json": {
       "model_id": "fa2a7e1ec692430ca319fcd025847b2c",
       "version_major": 2,
       "version_minor": 0
      },
      "text/plain": [
       "train:   0%|          | 0/20000 [00:00<?, ?it/s]"
      ]
     },
     "metadata": {},
     "output_type": "display_data"
    },
    {
     "data": {
      "application/vnd.jupyter.widget-view+json": {
       "model_id": "2145da46a19840599c22ca8874106dd5",
       "version_major": 2,
       "version_minor": 0
      },
      "text/plain": [
       "train val:   0%|          | 0/10000 [00:00<?, ?it/s]"
      ]
     },
     "metadata": {},
     "output_type": "display_data"
    },
    {
     "data": {
      "application/vnd.jupyter.widget-view+json": {
       "model_id": "6447c0beb2cf47ff8afeb64570cf795a",
       "version_major": 2,
       "version_minor": 0
      },
      "text/plain": [
       "test:   0%|          | 0/10000 [00:00<?, ?it/s]"
      ]
     },
     "metadata": {},
     "output_type": "display_data"
    },
    {
     "name": "stdout",
     "output_type": "stream",
     "text": [
      "train: {'accuracy': 0.59725} loss: 3.215016347665597\n",
      "train val: {'accuracy': 0.6037} loss: 1.2676223382135388\n",
      "test: {'accuracy': 0.5362} loss: 1.640066008257866\n",
      "epoch 1\n"
     ]
    },
    {
     "data": {
      "application/vnd.jupyter.widget-view+json": {
       "model_id": "c43d4ee8ce294d4bbb61e4280db60ad7",
       "version_major": 2,
       "version_minor": 0
      },
      "text/plain": [
       "train:   0%|          | 0/20000 [00:00<?, ?it/s]"
      ]
     },
     "metadata": {},
     "output_type": "display_data"
    },
    {
     "data": {
      "application/vnd.jupyter.widget-view+json": {
       "model_id": "e46d3a9516ce478390acff8e996ccdab",
       "version_major": 2,
       "version_minor": 0
      },
      "text/plain": [
       "train val:   0%|          | 0/10000 [00:00<?, ?it/s]"
      ]
     },
     "metadata": {},
     "output_type": "display_data"
    },
    {
     "data": {
      "application/vnd.jupyter.widget-view+json": {
       "model_id": "383fe70fb02f456a95c670b8b424d9a5",
       "version_major": 2,
       "version_minor": 0
      },
      "text/plain": [
       "test:   0%|          | 0/10000 [00:00<?, ?it/s]"
      ]
     },
     "metadata": {},
     "output_type": "display_data"
    },
    {
     "name": "stdout",
     "output_type": "stream",
     "text": [
      "train: {'accuracy': 0.55215} loss: 1.356880630963482\n",
      "train val: {'accuracy': 0.6645} loss: 0.5935506270743907\n",
      "test: {'accuracy': 0.5108} loss: 0.7949401561260223\n",
      "epoch 2\n"
     ]
    },
    {
     "data": {
      "application/vnd.jupyter.widget-view+json": {
       "model_id": "d18c81115976440f80b1501134da855e",
       "version_major": 2,
       "version_minor": 0
      },
      "text/plain": [
       "train:   0%|          | 0/20000 [00:00<?, ?it/s]"
      ]
     },
     "metadata": {},
     "output_type": "display_data"
    },
    {
     "data": {
      "application/vnd.jupyter.widget-view+json": {
       "model_id": "8ba5c68396b24512a08aa3d09d7fe98e",
       "version_major": 2,
       "version_minor": 0
      },
      "text/plain": [
       "train val:   0%|          | 0/10000 [00:00<?, ?it/s]"
      ]
     },
     "metadata": {},
     "output_type": "display_data"
    },
    {
     "data": {
      "application/vnd.jupyter.widget-view+json": {
       "model_id": "0aee8b7334834dd1a361e351bf184a7f",
       "version_major": 2,
       "version_minor": 0
      },
      "text/plain": [
       "test:   0%|          | 0/10000 [00:00<?, ?it/s]"
      ]
     },
     "metadata": {},
     "output_type": "display_data"
    },
    {
     "name": "stdout",
     "output_type": "stream",
     "text": [
      "train: {'accuracy': 0.63845} loss: 0.8638567955555627\n",
      "train val: {'accuracy': 0.6867} loss: 0.5703577803210356\n",
      "test: {'accuracy': 0.6221} loss: 0.684007783344388\n",
      "epoch 3\n"
     ]
    },
    {
     "data": {
      "application/vnd.jupyter.widget-view+json": {
       "model_id": "56fce21037d8416591478e5afa0e4f1c",
       "version_major": 2,
       "version_minor": 0
      },
      "text/plain": [
       "train:   0%|          | 0/20000 [00:00<?, ?it/s]"
      ]
     },
     "metadata": {},
     "output_type": "display_data"
    },
    {
     "data": {
      "application/vnd.jupyter.widget-view+json": {
       "model_id": "3d916ad74afd4bf2b2cd5219b7e4c3da",
       "version_major": 2,
       "version_minor": 0
      },
      "text/plain": [
       "train val:   0%|          | 0/10000 [00:00<?, ?it/s]"
      ]
     },
     "metadata": {},
     "output_type": "display_data"
    },
    {
     "data": {
      "application/vnd.jupyter.widget-view+json": {
       "model_id": "aec6da662aa3447496b0df9a59a211c1",
       "version_major": 2,
       "version_minor": 0
      },
      "text/plain": [
       "test:   0%|          | 0/10000 [00:00<?, ?it/s]"
      ]
     },
     "metadata": {},
     "output_type": "display_data"
    },
    {
     "name": "stdout",
     "output_type": "stream",
     "text": [
      "train: {'accuracy': 0.70515} loss: 0.5761682349750772\n",
      "train val: {'accuracy': 0.6978} loss: 0.531854347718507\n",
      "test: {'accuracy': 0.6391} loss: 0.6373122554540634\n",
      "epoch 4\n"
     ]
    },
    {
     "data": {
      "application/vnd.jupyter.widget-view+json": {
       "model_id": "48aa50a9f2274054a3da518fe41b8a56",
       "version_major": 2,
       "version_minor": 0
      },
      "text/plain": [
       "train:   0%|          | 0/20000 [00:00<?, ?it/s]"
      ]
     },
     "metadata": {},
     "output_type": "display_data"
    },
    {
     "data": {
      "application/vnd.jupyter.widget-view+json": {
       "model_id": "66e874b37e554d3a871bbb524c059177",
       "version_major": 2,
       "version_minor": 0
      },
      "text/plain": [
       "train val:   0%|          | 0/10000 [00:00<?, ?it/s]"
      ]
     },
     "metadata": {},
     "output_type": "display_data"
    },
    {
     "data": {
      "application/vnd.jupyter.widget-view+json": {
       "model_id": "7f7e501d63c941868c2d6f27b30d5027",
       "version_major": 2,
       "version_minor": 0
      },
      "text/plain": [
       "test:   0%|          | 0/10000 [00:00<?, ?it/s]"
      ]
     },
     "metadata": {},
     "output_type": "display_data"
    },
    {
     "name": "stdout",
     "output_type": "stream",
     "text": [
      "train: {'accuracy': 0.67145} loss: 0.7820889577804483\n",
      "train val: {'accuracy': 0.6929} loss: 0.5516026649753563\n",
      "test: {'accuracy': 0.5701} loss: 0.7105053052544594\n",
      "epoch 5\n"
     ]
    },
    {
     "data": {
      "application/vnd.jupyter.widget-view+json": {
       "model_id": "12f0292632f94ccab6c37ddd73f2cc53",
       "version_major": 2,
       "version_minor": 0
      },
      "text/plain": [
       "train:   0%|          | 0/20000 [00:00<?, ?it/s]"
      ]
     },
     "metadata": {},
     "output_type": "display_data"
    },
    {
     "data": {
      "application/vnd.jupyter.widget-view+json": {
       "model_id": "f333390a215c4d07a1034c23c785fb20",
       "version_major": 2,
       "version_minor": 0
      },
      "text/plain": [
       "train val:   0%|          | 0/10000 [00:00<?, ?it/s]"
      ]
     },
     "metadata": {},
     "output_type": "display_data"
    },
    {
     "data": {
      "application/vnd.jupyter.widget-view+json": {
       "model_id": "33a5a42bf11e4a7696b186a8511be970",
       "version_major": 2,
       "version_minor": 0
      },
      "text/plain": [
       "test:   0%|          | 0/10000 [00:00<?, ?it/s]"
      ]
     },
     "metadata": {},
     "output_type": "display_data"
    },
    {
     "name": "stdout",
     "output_type": "stream",
     "text": [
      "train: {'accuracy': 0.6976} loss: 0.6615889593004715\n",
      "train val: {'accuracy': 0.7077} loss: 0.5430639030538499\n",
      "test: {'accuracy': 0.6471} loss: 0.6503112724244594\n",
      "epoch 6\n"
     ]
    },
    {
     "data": {
      "application/vnd.jupyter.widget-view+json": {
       "model_id": "155ba7a2b8ea416cb21ee323b12a3593",
       "version_major": 2,
       "version_minor": 0
      },
      "text/plain": [
       "train:   0%|          | 0/20000 [00:00<?, ?it/s]"
      ]
     },
     "metadata": {},
     "output_type": "display_data"
    },
    {
     "data": {
      "application/vnd.jupyter.widget-view+json": {
       "model_id": "4c7e286d1de645aeb8df2c2426af7af6",
       "version_major": 2,
       "version_minor": 0
      },
      "text/plain": [
       "train val:   0%|          | 0/10000 [00:00<?, ?it/s]"
      ]
     },
     "metadata": {},
     "output_type": "display_data"
    },
    {
     "data": {
      "application/vnd.jupyter.widget-view+json": {
       "model_id": "21721a7226894275a0900fa36dedafa6",
       "version_major": 2,
       "version_minor": 0
      },
      "text/plain": [
       "test:   0%|          | 0/10000 [00:00<?, ?it/s]"
      ]
     },
     "metadata": {},
     "output_type": "display_data"
    },
    {
     "name": "stdout",
     "output_type": "stream",
     "text": [
      "train: {'accuracy': 0.68105} loss: 0.5598640273844357\n",
      "train val: {'accuracy': 0.7193} loss: 0.4853554356001317\n",
      "test: {'accuracy': 0.6184} loss: 0.6416449435353279\n",
      "epoch 7\n"
     ]
    },
    {
     "data": {
      "application/vnd.jupyter.widget-view+json": {
       "model_id": "1f5ca24984d1456f8a70db0a568a94f1",
       "version_major": 2,
       "version_minor": 0
      },
      "text/plain": [
       "train:   0%|          | 0/20000 [00:00<?, ?it/s]"
      ]
     },
     "metadata": {},
     "output_type": "display_data"
    },
    {
     "data": {
      "application/vnd.jupyter.widget-view+json": {
       "model_id": "25f308b96c4e45c8b00ae9a505a67948",
       "version_major": 2,
       "version_minor": 0
      },
      "text/plain": [
       "train val:   0%|          | 0/10000 [00:00<?, ?it/s]"
      ]
     },
     "metadata": {},
     "output_type": "display_data"
    },
    {
     "data": {
      "application/vnd.jupyter.widget-view+json": {
       "model_id": "2b39babd194047879ef80c3a85ae1d33",
       "version_major": 2,
       "version_minor": 0
      },
      "text/plain": [
       "test:   0%|          | 0/10000 [00:00<?, ?it/s]"
      ]
     },
     "metadata": {},
     "output_type": "display_data"
    },
    {
     "name": "stdout",
     "output_type": "stream",
     "text": [
      "train: {'accuracy': 0.68765} loss: 0.5306327194914571\n",
      "train val: {'accuracy': 0.7255} loss: 0.4841609169074334\n",
      "test: {'accuracy': 0.6269} loss: 0.6338545219361782\n",
      "epoch 8\n"
     ]
    },
    {
     "data": {
      "application/vnd.jupyter.widget-view+json": {
       "model_id": "a410df380b784afab27e34c5b2a489c3",
       "version_major": 2,
       "version_minor": 0
      },
      "text/plain": [
       "train:   0%|          | 0/20000 [00:00<?, ?it/s]"
      ]
     },
     "metadata": {},
     "output_type": "display_data"
    },
    {
     "data": {
      "application/vnd.jupyter.widget-view+json": {
       "model_id": "97febd0ed1da44cbbf1cf8c144474229",
       "version_major": 2,
       "version_minor": 0
      },
      "text/plain": [
       "train val:   0%|          | 0/10000 [00:00<?, ?it/s]"
      ]
     },
     "metadata": {},
     "output_type": "display_data"
    },
    {
     "data": {
      "application/vnd.jupyter.widget-view+json": {
       "model_id": "6d3222b7ff84494caa1880582f27d411",
       "version_major": 2,
       "version_minor": 0
      },
      "text/plain": [
       "test:   0%|          | 0/10000 [00:00<?, ?it/s]"
      ]
     },
     "metadata": {},
     "output_type": "display_data"
    },
    {
     "name": "stdout",
     "output_type": "stream",
     "text": [
      "train: {'accuracy': 0.68845} loss: 0.5270150064961822\n",
      "train val: {'accuracy': 0.7291} loss: 0.48135250300148036\n",
      "test: {'accuracy': 0.6689} loss: 0.6086499064147473\n",
      "epoch 9\n"
     ]
    },
    {
     "data": {
      "application/vnd.jupyter.widget-view+json": {
       "model_id": "b7eb8c220e5544cf89583f9912139bc7",
       "version_major": 2,
       "version_minor": 0
      },
      "text/plain": [
       "train:   0%|          | 0/20000 [00:00<?, ?it/s]"
      ]
     },
     "metadata": {},
     "output_type": "display_data"
    },
    {
     "data": {
      "application/vnd.jupyter.widget-view+json": {
       "model_id": "2a269f8dfb7c40d5aee093ecbff1127d",
       "version_major": 2,
       "version_minor": 0
      },
      "text/plain": [
       "train val:   0%|          | 0/10000 [00:00<?, ?it/s]"
      ]
     },
     "metadata": {},
     "output_type": "display_data"
    },
    {
     "data": {
      "application/vnd.jupyter.widget-view+json": {
       "model_id": "b31fa5e65fea46d1b2ca0c2876670113",
       "version_major": 2,
       "version_minor": 0
      },
      "text/plain": [
       "test:   0%|          | 0/10000 [00:00<?, ?it/s]"
      ]
     },
     "metadata": {},
     "output_type": "display_data"
    },
    {
     "name": "stdout",
     "output_type": "stream",
     "text": [
      "train: {'accuracy': 0.7038} loss: 0.5085206098142109\n",
      "train val: {'accuracy': 0.7242} loss: 0.48195396753028036\n",
      "test: {'accuracy': 0.6615} loss: 0.6295013772845268\n",
      "epoch 10\n"
     ]
    },
    {
     "data": {
      "application/vnd.jupyter.widget-view+json": {
       "model_id": "92f6d14427cd4d2c84bea3e42fadd928",
       "version_major": 2,
       "version_minor": 0
      },
      "text/plain": [
       "train:   0%|          | 0/20000 [00:00<?, ?it/s]"
      ]
     },
     "metadata": {},
     "output_type": "display_data"
    },
    {
     "data": {
      "application/vnd.jupyter.widget-view+json": {
       "model_id": "456d1391b27f4442a12963613534be62",
       "version_major": 2,
       "version_minor": 0
      },
      "text/plain": [
       "train val:   0%|          | 0/10000 [00:00<?, ?it/s]"
      ]
     },
     "metadata": {},
     "output_type": "display_data"
    },
    {
     "data": {
      "application/vnd.jupyter.widget-view+json": {
       "model_id": "6c80bd3a970d4293829f490506dda62e",
       "version_major": 2,
       "version_minor": 0
      },
      "text/plain": [
       "test:   0%|          | 0/10000 [00:00<?, ?it/s]"
      ]
     },
     "metadata": {},
     "output_type": "display_data"
    },
    {
     "name": "stdout",
     "output_type": "stream",
     "text": [
      "train: {'accuracy': 0.66595} loss: 0.6008616559633985\n",
      "train val: {'accuracy': 0.724} loss: 0.5410975919216872\n",
      "test: {'accuracy': 0.6276} loss: 0.6586541964888573\n",
      "epoch 11\n"
     ]
    },
    {
     "data": {
      "application/vnd.jupyter.widget-view+json": {
       "model_id": "806fa370d5624359a07287121058d70a",
       "version_major": 2,
       "version_minor": 0
      },
      "text/plain": [
       "train:   0%|          | 0/20000 [00:00<?, ?it/s]"
      ]
     },
     "metadata": {},
     "output_type": "display_data"
    },
    {
     "data": {
      "application/vnd.jupyter.widget-view+json": {
       "model_id": "526ab50af3824c9c964b14bbeecd752d",
       "version_major": 2,
       "version_minor": 0
      },
      "text/plain": [
       "train val:   0%|          | 0/10000 [00:00<?, ?it/s]"
      ]
     },
     "metadata": {},
     "output_type": "display_data"
    },
    {
     "data": {
      "application/vnd.jupyter.widget-view+json": {
       "model_id": "16de2201ca1f45ffabe2f49aac91505c",
       "version_major": 2,
       "version_minor": 0
      },
      "text/plain": [
       "test:   0%|          | 0/10000 [00:00<?, ?it/s]"
      ]
     },
     "metadata": {},
     "output_type": "display_data"
    },
    {
     "name": "stdout",
     "output_type": "stream",
     "text": [
      "train: {'accuracy': 0.67815} loss: 0.5800808531184215\n",
      "train val: {'accuracy': 0.7267} loss: 0.5203870826303959\n",
      "test: {'accuracy': 0.6724} loss: 0.637415790438652\n",
      "epoch 12\n"
     ]
    },
    {
     "data": {
      "application/vnd.jupyter.widget-view+json": {
       "model_id": "64c543aba0ad4e849458587974e5a227",
       "version_major": 2,
       "version_minor": 0
      },
      "text/plain": [
       "train:   0%|          | 0/20000 [00:00<?, ?it/s]"
      ]
     },
     "metadata": {},
     "output_type": "display_data"
    },
    {
     "data": {
      "application/vnd.jupyter.widget-view+json": {
       "model_id": "e13e3d30137d40a49c97a8580b27840d",
       "version_major": 2,
       "version_minor": 0
      },
      "text/plain": [
       "train val:   0%|          | 0/10000 [00:00<?, ?it/s]"
      ]
     },
     "metadata": {},
     "output_type": "display_data"
    },
    {
     "data": {
      "application/vnd.jupyter.widget-view+json": {
       "model_id": "d75e1e4eb0f24bb58f495ff26e568e2d",
       "version_major": 2,
       "version_minor": 0
      },
      "text/plain": [
       "test:   0%|          | 0/10000 [00:00<?, ?it/s]"
      ]
     },
     "metadata": {},
     "output_type": "display_data"
    },
    {
     "name": "stdout",
     "output_type": "stream",
     "text": [
      "train: {'accuracy': 0.68615} loss: 0.5572254863353912\n",
      "train val: {'accuracy': 0.7309} loss: 0.5148589306041599\n",
      "test: {'accuracy': 0.6485} loss: 0.6505198984384537\n",
      "epoch 13\n"
     ]
    },
    {
     "data": {
      "application/vnd.jupyter.widget-view+json": {
       "model_id": "811b2833e2104661b3e796bcc79ff8be",
       "version_major": 2,
       "version_minor": 0
      },
      "text/plain": [
       "train:   0%|          | 0/20000 [00:00<?, ?it/s]"
      ]
     },
     "metadata": {},
     "output_type": "display_data"
    },
    {
     "data": {
      "application/vnd.jupyter.widget-view+json": {
       "model_id": "c953687df0e642ecb0e458798ac429b3",
       "version_major": 2,
       "version_minor": 0
      },
      "text/plain": [
       "train val:   0%|          | 0/10000 [00:00<?, ?it/s]"
      ]
     },
     "metadata": {},
     "output_type": "display_data"
    },
    {
     "data": {
      "application/vnd.jupyter.widget-view+json": {
       "model_id": "13890346804a4516a8abc1a9847c32ac",
       "version_major": 2,
       "version_minor": 0
      },
      "text/plain": [
       "test:   0%|          | 0/10000 [00:00<?, ?it/s]"
      ]
     },
     "metadata": {},
     "output_type": "display_data"
    },
    {
     "name": "stdout",
     "output_type": "stream",
     "text": [
      "train: {'accuracy': 0.6259} loss: 1.1679691581056453\n",
      "train val: {'accuracy': 0.7274} loss: 0.49587097853571177\n",
      "test: {'accuracy': 0.6725} loss: 0.599519294911623\n",
      "epoch 14\n"
     ]
    },
    {
     "data": {
      "application/vnd.jupyter.widget-view+json": {
       "model_id": "7d792ac133044caba8909b1cc4cddfc4",
       "version_major": 2,
       "version_minor": 0
      },
      "text/plain": [
       "train:   0%|          | 0/20000 [00:00<?, ?it/s]"
      ]
     },
     "metadata": {},
     "output_type": "display_data"
    },
    {
     "data": {
      "application/vnd.jupyter.widget-view+json": {
       "model_id": "2f59cfd065ab40809f3749fbc532dc76",
       "version_major": 2,
       "version_minor": 0
      },
      "text/plain": [
       "train val:   0%|          | 0/10000 [00:00<?, ?it/s]"
      ]
     },
     "metadata": {},
     "output_type": "display_data"
    },
    {
     "data": {
      "application/vnd.jupyter.widget-view+json": {
       "model_id": "5e23acbd808b4dcdbdebe48a6d6dc8ac",
       "version_major": 2,
       "version_minor": 0
      },
      "text/plain": [
       "test:   0%|          | 0/10000 [00:00<?, ?it/s]"
      ]
     },
     "metadata": {},
     "output_type": "display_data"
    },
    {
     "name": "stdout",
     "output_type": "stream",
     "text": [
      "train: {'accuracy': 0.64035} loss: 0.6540469693265856\n",
      "train val: {'accuracy': 0.7295} loss: 0.5012899103015661\n",
      "test: {'accuracy': 0.663} loss: 0.6361900060296058\n",
      "epoch 15\n"
     ]
    },
    {
     "data": {
      "application/vnd.jupyter.widget-view+json": {
       "model_id": "9426f644f7384edfad8cb1fe1ed24c4c",
       "version_major": 2,
       "version_minor": 0
      },
      "text/plain": [
       "train:   0%|          | 0/20000 [00:00<?, ?it/s]"
      ]
     },
     "metadata": {},
     "output_type": "display_data"
    },
    {
     "data": {
      "application/vnd.jupyter.widget-view+json": {
       "model_id": "e760997db87b4aaab93eb5f380fdf96a",
       "version_major": 2,
       "version_minor": 0
      },
      "text/plain": [
       "train val:   0%|          | 0/10000 [00:00<?, ?it/s]"
      ]
     },
     "metadata": {},
     "output_type": "display_data"
    },
    {
     "data": {
      "application/vnd.jupyter.widget-view+json": {
       "model_id": "e33ac052b89b478b976fd53293a814f6",
       "version_major": 2,
       "version_minor": 0
      },
      "text/plain": [
       "test:   0%|          | 0/10000 [00:00<?, ?it/s]"
      ]
     },
     "metadata": {},
     "output_type": "display_data"
    },
    {
     "name": "stdout",
     "output_type": "stream",
     "text": [
      "train: {'accuracy': 0.60805} loss: 13.46977786630094\n",
      "train val: {'accuracy': 0.6799} loss: 11.654206052066385\n",
      "test: {'accuracy': 0.6207} loss: 14.613930555030704\n",
      "epoch 16\n"
     ]
    },
    {
     "data": {
      "application/vnd.jupyter.widget-view+json": {
       "model_id": "a5c864e357e1469fa11017b21e543309",
       "version_major": 2,
       "version_minor": 0
      },
      "text/plain": [
       "train:   0%|          | 0/20000 [00:00<?, ?it/s]"
      ]
     },
     "metadata": {},
     "output_type": "display_data"
    },
    {
     "data": {
      "application/vnd.jupyter.widget-view+json": {
       "model_id": "fba6ad7783784dc7b5478cd2f0feb54e",
       "version_major": 2,
       "version_minor": 0
      },
      "text/plain": [
       "train val:   0%|          | 0/10000 [00:00<?, ?it/s]"
      ]
     },
     "metadata": {},
     "output_type": "display_data"
    },
    {
     "data": {
      "application/vnd.jupyter.widget-view+json": {
       "model_id": "9ec049b0754a4314b698da4e29c16c6b",
       "version_major": 2,
       "version_minor": 0
      },
      "text/plain": [
       "test:   0%|          | 0/10000 [00:00<?, ?it/s]"
      ]
     },
     "metadata": {},
     "output_type": "display_data"
    },
    {
     "name": "stdout",
     "output_type": "stream",
     "text": [
      "train: {'accuracy': 0.6383} loss: 7.764325430430659\n",
      "train val: {'accuracy': 0.7258} loss: 0.5106975454479455\n",
      "test: {'accuracy': 0.7093} loss: 0.5691628396570683\n",
      "epoch 17\n"
     ]
    },
    {
     "data": {
      "application/vnd.jupyter.widget-view+json": {
       "model_id": "eedf12fdec794c90b61c0f7baec102ce",
       "version_major": 2,
       "version_minor": 0
      },
      "text/plain": [
       "train:   0%|          | 0/20000 [00:00<?, ?it/s]"
      ]
     },
     "metadata": {},
     "output_type": "display_data"
    },
    {
     "data": {
      "application/vnd.jupyter.widget-view+json": {
       "model_id": "c5292244e40d40f89cfdae2100aaed90",
       "version_major": 2,
       "version_minor": 0
      },
      "text/plain": [
       "train val:   0%|          | 0/10000 [00:00<?, ?it/s]"
      ]
     },
     "metadata": {},
     "output_type": "display_data"
    },
    {
     "data": {
      "application/vnd.jupyter.widget-view+json": {
       "model_id": "e412b7b4f1ae43408147e312207e3ce1",
       "version_major": 2,
       "version_minor": 0
      },
      "text/plain": [
       "test:   0%|          | 0/10000 [00:00<?, ?it/s]"
      ]
     },
     "metadata": {},
     "output_type": "display_data"
    },
    {
     "name": "stdout",
     "output_type": "stream",
     "text": [
      "train: {'accuracy': 0.66965} loss: 0.5981618671566248\n",
      "train val: {'accuracy': 0.7309} loss: 0.5114579101443291\n",
      "test: {'accuracy': 0.6925} loss: 0.604181079351902\n",
      "epoch 18\n"
     ]
    },
    {
     "data": {
      "application/vnd.jupyter.widget-view+json": {
       "model_id": "ec362a18c40042cab83d0a5467e4f77e",
       "version_major": 2,
       "version_minor": 0
      },
      "text/plain": [
       "train:   0%|          | 0/20000 [00:00<?, ?it/s]"
      ]
     },
     "metadata": {},
     "output_type": "display_data"
    },
    {
     "data": {
      "application/vnd.jupyter.widget-view+json": {
       "model_id": "283ae887aba24e319d0985407e9df15c",
       "version_major": 2,
       "version_minor": 0
      },
      "text/plain": [
       "train val:   0%|          | 0/10000 [00:00<?, ?it/s]"
      ]
     },
     "metadata": {},
     "output_type": "display_data"
    },
    {
     "data": {
      "application/vnd.jupyter.widget-view+json": {
       "model_id": "4ec65f2d9e344132ade3a067b661886d",
       "version_major": 2,
       "version_minor": 0
      },
      "text/plain": [
       "test:   0%|          | 0/10000 [00:00<?, ?it/s]"
      ]
     },
     "metadata": {},
     "output_type": "display_data"
    },
    {
     "name": "stdout",
     "output_type": "stream",
     "text": [
      "train: {'accuracy': 0.66955} loss: 0.5948995905816555\n",
      "train val: {'accuracy': 0.7313} loss: 0.4963505600064993\n",
      "test: {'accuracy': 0.7} loss: 0.6039020679712296\n",
      "epoch 19\n"
     ]
    },
    {
     "data": {
      "application/vnd.jupyter.widget-view+json": {
       "model_id": "ce612cde35084b11bd08c73bdae9846e",
       "version_major": 2,
       "version_minor": 0
      },
      "text/plain": [
       "train:   0%|          | 0/20000 [00:00<?, ?it/s]"
      ]
     },
     "metadata": {},
     "output_type": "display_data"
    },
    {
     "data": {
      "application/vnd.jupyter.widget-view+json": {
       "model_id": "7aecfbfab6864eaa996eb82b647fa685",
       "version_major": 2,
       "version_minor": 0
      },
      "text/plain": [
       "train val:   0%|          | 0/10000 [00:00<?, ?it/s]"
      ]
     },
     "metadata": {},
     "output_type": "display_data"
    },
    {
     "data": {
      "application/vnd.jupyter.widget-view+json": {
       "model_id": "ea77a9b111834c6881427e9a86cad41f",
       "version_major": 2,
       "version_minor": 0
      },
      "text/plain": [
       "test:   0%|          | 0/10000 [00:00<?, ?it/s]"
      ]
     },
     "metadata": {},
     "output_type": "display_data"
    },
    {
     "name": "stdout",
     "output_type": "stream",
     "text": [
      "train: {'accuracy': 0.6708} loss: 1.0217318786270917\n",
      "train val: {'accuracy': 0.7319} loss: 0.4988401906579733\n",
      "test: {'accuracy': 0.718} loss: 0.5938542392492294\n",
      "epoch 20\n"
     ]
    },
    {
     "data": {
      "application/vnd.jupyter.widget-view+json": {
       "model_id": "a0e45d841e1c42e8886795be0b8e98cf",
       "version_major": 2,
       "version_minor": 0
      },
      "text/plain": [
       "train:   0%|          | 0/20000 [00:00<?, ?it/s]"
      ]
     },
     "metadata": {},
     "output_type": "display_data"
    },
    {
     "data": {
      "application/vnd.jupyter.widget-view+json": {
       "model_id": "9832b601c13b4230825e0831ddfa758e",
       "version_major": 2,
       "version_minor": 0
      },
      "text/plain": [
       "train val:   0%|          | 0/10000 [00:00<?, ?it/s]"
      ]
     },
     "metadata": {},
     "output_type": "display_data"
    },
    {
     "data": {
      "application/vnd.jupyter.widget-view+json": {
       "model_id": "6901485fc4ef484085d5a3d2f6b9d0bc",
       "version_major": 2,
       "version_minor": 0
      },
      "text/plain": [
       "test:   0%|          | 0/10000 [00:00<?, ?it/s]"
      ]
     },
     "metadata": {},
     "output_type": "display_data"
    },
    {
     "name": "stdout",
     "output_type": "stream",
     "text": [
      "train: {'accuracy': 0.66905} loss: 0.5983502360880375\n",
      "train val: {'accuracy': 0.7368} loss: 0.5386134144604207\n",
      "test: {'accuracy': 0.6688} loss: 0.6261400929450989\n",
      "epoch 21\n"
     ]
    },
    {
     "data": {
      "application/vnd.jupyter.widget-view+json": {
       "model_id": "d0da8f589415427e9de8843a6347d722",
       "version_major": 2,
       "version_minor": 0
      },
      "text/plain": [
       "train:   0%|          | 0/20000 [00:00<?, ?it/s]"
      ]
     },
     "metadata": {},
     "output_type": "display_data"
    },
    {
     "data": {
      "application/vnd.jupyter.widget-view+json": {
       "model_id": "16f905bc08834e5288ccffd7c0c90e2d",
       "version_major": 2,
       "version_minor": 0
      },
      "text/plain": [
       "train val:   0%|          | 0/10000 [00:00<?, ?it/s]"
      ]
     },
     "metadata": {},
     "output_type": "display_data"
    },
    {
     "data": {
      "application/vnd.jupyter.widget-view+json": {
       "model_id": "db93bc4eb1bc4d79b0b27858339fd697",
       "version_major": 2,
       "version_minor": 0
      },
      "text/plain": [
       "test:   0%|          | 0/10000 [00:00<?, ?it/s]"
      ]
     },
     "metadata": {},
     "output_type": "display_data"
    },
    {
     "name": "stdout",
     "output_type": "stream",
     "text": [
      "train: {'accuracy': 0.69025} loss: 0.5615797987293452\n",
      "train val: {'accuracy': 0.7339} loss: 0.49715623763650657\n",
      "test: {'accuracy': 0.6768} loss: 0.6181771191775799\n",
      "epoch 22\n"
     ]
    },
    {
     "data": {
      "application/vnd.jupyter.widget-view+json": {
       "model_id": "c914c3a842a5467ca2a771fed0085aa4",
       "version_major": 2,
       "version_minor": 0
      },
      "text/plain": [
       "train:   0%|          | 0/20000 [00:00<?, ?it/s]"
      ]
     },
     "metadata": {},
     "output_type": "display_data"
    },
    {
     "data": {
      "application/vnd.jupyter.widget-view+json": {
       "model_id": "2fd91d6c06b64961a71aaf62d2432b56",
       "version_major": 2,
       "version_minor": 0
      },
      "text/plain": [
       "train val:   0%|          | 0/10000 [00:00<?, ?it/s]"
      ]
     },
     "metadata": {},
     "output_type": "display_data"
    },
    {
     "data": {
      "application/vnd.jupyter.widget-view+json": {
       "model_id": "511ff851c26749ff9e5628ea1f4e93ee",
       "version_major": 2,
       "version_minor": 0
      },
      "text/plain": [
       "test:   0%|          | 0/10000 [00:00<?, ?it/s]"
      ]
     },
     "metadata": {},
     "output_type": "display_data"
    },
    {
     "name": "stdout",
     "output_type": "stream",
     "text": [
      "train: {'accuracy': 0.6949} loss: 0.6318552572019398\n",
      "train val: {'accuracy': 0.7376} loss: 0.4935537839204073\n",
      "test: {'accuracy': 0.6728} loss: 0.6103708609461784\n",
      "epoch 23\n"
     ]
    },
    {
     "data": {
      "application/vnd.jupyter.widget-view+json": {
       "model_id": "f9a2fc8345e84b749cc7233d5a056a23",
       "version_major": 2,
       "version_minor": 0
      },
      "text/plain": [
       "train:   0%|          | 0/20000 [00:00<?, ?it/s]"
      ]
     },
     "metadata": {},
     "output_type": "display_data"
    },
    {
     "data": {
      "application/vnd.jupyter.widget-view+json": {
       "model_id": "afe01fddeee94340b817383314251d0a",
       "version_major": 2,
       "version_minor": 0
      },
      "text/plain": [
       "train val:   0%|          | 0/10000 [00:00<?, ?it/s]"
      ]
     },
     "metadata": {},
     "output_type": "display_data"
    },
    {
     "data": {
      "application/vnd.jupyter.widget-view+json": {
       "model_id": "11c51a4bf672422d8847f307ae1c4c6b",
       "version_major": 2,
       "version_minor": 0
      },
      "text/plain": [
       "test:   0%|          | 0/10000 [00:00<?, ?it/s]"
      ]
     },
     "metadata": {},
     "output_type": "display_data"
    },
    {
     "name": "stdout",
     "output_type": "stream",
     "text": [
      "train: {'accuracy': 0.69305} loss: 0.5600816511372919\n",
      "train val: {'accuracy': 0.7354} loss: 0.5119815194547176\n",
      "test: {'accuracy': 0.6618} loss: 0.6289896616697311\n",
      "epoch 24\n"
     ]
    },
    {
     "data": {
      "application/vnd.jupyter.widget-view+json": {
       "model_id": "7d5af016abbd4a37a9499952afe79ca7",
       "version_major": 2,
       "version_minor": 0
      },
      "text/plain": [
       "train:   0%|          | 0/20000 [00:00<?, ?it/s]"
      ]
     },
     "metadata": {},
     "output_type": "display_data"
    },
    {
     "data": {
      "application/vnd.jupyter.widget-view+json": {
       "model_id": "5b058d956e83402793b00a8625324be4",
       "version_major": 2,
       "version_minor": 0
      },
      "text/plain": [
       "train val:   0%|          | 0/10000 [00:00<?, ?it/s]"
      ]
     },
     "metadata": {},
     "output_type": "display_data"
    },
    {
     "data": {
      "application/vnd.jupyter.widget-view+json": {
       "model_id": "c637d509216d43c88fdf3e0bfb0313de",
       "version_major": 2,
       "version_minor": 0
      },
      "text/plain": [
       "test:   0%|          | 0/10000 [00:00<?, ?it/s]"
      ]
     },
     "metadata": {},
     "output_type": "display_data"
    },
    {
     "name": "stdout",
     "output_type": "stream",
     "text": [
      "train: {'accuracy': 0.6914} loss: 0.6539482101985487\n",
      "train val: {'accuracy': 0.7355} loss: 0.4943741336926818\n",
      "test: {'accuracy': 0.6423} loss: 0.6373547699928284\n",
      "epoch 25\n"
     ]
    },
    {
     "data": {
      "application/vnd.jupyter.widget-view+json": {
       "model_id": "ac3b7c5a63394effb03dfb69f2879a03",
       "version_major": 2,
       "version_minor": 0
      },
      "text/plain": [
       "train:   0%|          | 0/20000 [00:00<?, ?it/s]"
      ]
     },
     "metadata": {},
     "output_type": "display_data"
    },
    {
     "data": {
      "application/vnd.jupyter.widget-view+json": {
       "model_id": "02f411e744274782b752fb1fbe1c0af2",
       "version_major": 2,
       "version_minor": 0
      },
      "text/plain": [
       "train val:   0%|          | 0/10000 [00:00<?, ?it/s]"
      ]
     },
     "metadata": {},
     "output_type": "display_data"
    },
    {
     "data": {
      "application/vnd.jupyter.widget-view+json": {
       "model_id": "f396c1f7540f45e8a12c9bdbc3f54b35",
       "version_major": 2,
       "version_minor": 0
      },
      "text/plain": [
       "test:   0%|          | 0/10000 [00:00<?, ?it/s]"
      ]
     },
     "metadata": {},
     "output_type": "display_data"
    },
    {
     "name": "stdout",
     "output_type": "stream",
     "text": [
      "train: {'accuracy': 0.68765} loss: 0.5523007018150762\n",
      "train val: {'accuracy': 0.7394} loss: 0.5106113257631659\n",
      "test: {'accuracy': 0.661} loss: 0.6170630213141441\n",
      "epoch 26\n"
     ]
    },
    {
     "data": {
      "application/vnd.jupyter.widget-view+json": {
       "model_id": "9463b974b2d641609bc8d900548e8109",
       "version_major": 2,
       "version_minor": 0
      },
      "text/plain": [
       "train:   0%|          | 0/20000 [00:00<?, ?it/s]"
      ]
     },
     "metadata": {},
     "output_type": "display_data"
    },
    {
     "data": {
      "application/vnd.jupyter.widget-view+json": {
       "model_id": "9ed97a249da942e68a92b817e3af5e4f",
       "version_major": 2,
       "version_minor": 0
      },
      "text/plain": [
       "train val:   0%|          | 0/10000 [00:00<?, ?it/s]"
      ]
     },
     "metadata": {},
     "output_type": "display_data"
    },
    {
     "data": {
      "application/vnd.jupyter.widget-view+json": {
       "model_id": "af4c2fa61b1e48a2b01368f5a437792d",
       "version_major": 2,
       "version_minor": 0
      },
      "text/plain": [
       "test:   0%|          | 0/10000 [00:00<?, ?it/s]"
      ]
     },
     "metadata": {},
     "output_type": "display_data"
    },
    {
     "name": "stdout",
     "output_type": "stream",
     "text": [
      "train: {'accuracy': 0.69075} loss: 0.7281559211090207\n",
      "train val: {'accuracy': 0.726} loss: 0.5215313596203923\n",
      "test: {'accuracy': 0.6064} loss: 0.6775986192584038\n",
      "epoch 27\n"
     ]
    },
    {
     "data": {
      "application/vnd.jupyter.widget-view+json": {
       "model_id": "562c078857614b3ea2d2710bf845ea67",
       "version_major": 2,
       "version_minor": 0
      },
      "text/plain": [
       "train:   0%|          | 0/20000 [00:00<?, ?it/s]"
      ]
     },
     "metadata": {},
     "output_type": "display_data"
    },
    {
     "data": {
      "application/vnd.jupyter.widget-view+json": {
       "model_id": "db5d586410174a87be817ded00610cc9",
       "version_major": 2,
       "version_minor": 0
      },
      "text/plain": [
       "train val:   0%|          | 0/10000 [00:00<?, ?it/s]"
      ]
     },
     "metadata": {},
     "output_type": "display_data"
    },
    {
     "data": {
      "application/vnd.jupyter.widget-view+json": {
       "model_id": "9947864fbd8d47a593553efcd10c554c",
       "version_major": 2,
       "version_minor": 0
      },
      "text/plain": [
       "test:   0%|          | 0/10000 [00:00<?, ?it/s]"
      ]
     },
     "metadata": {},
     "output_type": "display_data"
    },
    {
     "name": "stdout",
     "output_type": "stream",
     "text": [
      "train: {'accuracy': 0.69125} loss: 0.552034846326895\n",
      "train val: {'accuracy': 0.736} loss: 0.5062943329572678\n",
      "test: {'accuracy': 0.6464} loss: 0.6329363282322884\n",
      "epoch 28\n"
     ]
    },
    {
     "data": {
      "application/vnd.jupyter.widget-view+json": {
       "model_id": "1aecf83b7c65495bab28944078c57a91",
       "version_major": 2,
       "version_minor": 0
      },
      "text/plain": [
       "train:   0%|          | 0/20000 [00:00<?, ?it/s]"
      ]
     },
     "metadata": {},
     "output_type": "display_data"
    },
    {
     "data": {
      "application/vnd.jupyter.widget-view+json": {
       "model_id": "e945692b09d5494c97330851c44e66c3",
       "version_major": 2,
       "version_minor": 0
      },
      "text/plain": [
       "train val:   0%|          | 0/10000 [00:00<?, ?it/s]"
      ]
     },
     "metadata": {},
     "output_type": "display_data"
    },
    {
     "data": {
      "application/vnd.jupyter.widget-view+json": {
       "model_id": "f08ca8bae10a480f9dc62297bc9f9673",
       "version_major": 2,
       "version_minor": 0
      },
      "text/plain": [
       "test:   0%|          | 0/10000 [00:00<?, ?it/s]"
      ]
     },
     "metadata": {},
     "output_type": "display_data"
    },
    {
     "name": "stdout",
     "output_type": "stream",
     "text": [
      "train: {'accuracy': 0.70115} loss: 0.5454018932269886\n",
      "train val: {'accuracy': 0.7395} loss: 0.49617588239908217\n",
      "test: {'accuracy': 0.6839} loss: 0.6157445001244545\n",
      "epoch 29\n"
     ]
    },
    {
     "data": {
      "application/vnd.jupyter.widget-view+json": {
       "model_id": "3bdc086b3fcc406c8415a6b034dc9af8",
       "version_major": 2,
       "version_minor": 0
      },
      "text/plain": [
       "train:   0%|          | 0/20000 [00:00<?, ?it/s]"
      ]
     },
     "metadata": {},
     "output_type": "display_data"
    },
    {
     "data": {
      "application/vnd.jupyter.widget-view+json": {
       "model_id": "3b5c443516d44c259dd15b512137406d",
       "version_major": 2,
       "version_minor": 0
      },
      "text/plain": [
       "train val:   0%|          | 0/10000 [00:00<?, ?it/s]"
      ]
     },
     "metadata": {},
     "output_type": "display_data"
    },
    {
     "data": {
      "application/vnd.jupyter.widget-view+json": {
       "model_id": "e327e8710101497892a3f1701466947f",
       "version_major": 2,
       "version_minor": 0
      },
      "text/plain": [
       "test:   0%|          | 0/10000 [00:00<?, ?it/s]"
      ]
     },
     "metadata": {},
     "output_type": "display_data"
    },
    {
     "name": "stdout",
     "output_type": "stream",
     "text": [
      "train: {'accuracy': 0.69795} loss: 0.5468665424466133\n",
      "train val: {'accuracy': 0.7418} loss: 0.48380647393241527\n",
      "test: {'accuracy': 0.6598} loss: 0.6401602240443229\n",
      "epoch 30\n"
     ]
    },
    {
     "data": {
      "application/vnd.jupyter.widget-view+json": {
       "model_id": "e5efe52a24484cd691a281152d836aab",
       "version_major": 2,
       "version_minor": 0
      },
      "text/plain": [
       "train:   0%|          | 0/20000 [00:00<?, ?it/s]"
      ]
     },
     "metadata": {},
     "output_type": "display_data"
    },
    {
     "data": {
      "application/vnd.jupyter.widget-view+json": {
       "model_id": "b34a8ab668394edc89b6110c63dd5e90",
       "version_major": 2,
       "version_minor": 0
      },
      "text/plain": [
       "train val:   0%|          | 0/10000 [00:00<?, ?it/s]"
      ]
     },
     "metadata": {},
     "output_type": "display_data"
    },
    {
     "data": {
      "application/vnd.jupyter.widget-view+json": {
       "model_id": "cf8de8f74dd84f9cbe8a67956e570cb0",
       "version_major": 2,
       "version_minor": 0
      },
      "text/plain": [
       "test:   0%|          | 0/10000 [00:00<?, ?it/s]"
      ]
     },
     "metadata": {},
     "output_type": "display_data"
    },
    {
     "name": "stdout",
     "output_type": "stream",
     "text": [
      "train: {'accuracy': 0.7078} loss: 0.5422624142155051\n",
      "train val: {'accuracy': 0.7489} loss: 0.48084971620738504\n",
      "test: {'accuracy': 0.6781} loss: 0.6218306931078434\n",
      "epoch 31\n"
     ]
    },
    {
     "data": {
      "application/vnd.jupyter.widget-view+json": {
       "model_id": "eca0171b4c3f420b9ec3fe6c0ed955e7",
       "version_major": 2,
       "version_minor": 0
      },
      "text/plain": [
       "train:   0%|          | 0/20000 [00:00<?, ?it/s]"
      ]
     },
     "metadata": {},
     "output_type": "display_data"
    },
    {
     "data": {
      "application/vnd.jupyter.widget-view+json": {
       "model_id": "4b0a074a38d8464a8c35f162f35594d3",
       "version_major": 2,
       "version_minor": 0
      },
      "text/plain": [
       "train val:   0%|          | 0/10000 [00:00<?, ?it/s]"
      ]
     },
     "metadata": {},
     "output_type": "display_data"
    },
    {
     "data": {
      "application/vnd.jupyter.widget-view+json": {
       "model_id": "dd73a8c227d14a288d27e8f731c28980",
       "version_major": 2,
       "version_minor": 0
      },
      "text/plain": [
       "test:   0%|          | 0/10000 [00:00<?, ?it/s]"
      ]
     },
     "metadata": {},
     "output_type": "display_data"
    },
    {
     "name": "stdout",
     "output_type": "stream",
     "text": [
      "train: {'accuracy': 0.66385} loss: 3.6176857344951947\n",
      "train val: {'accuracy': 0.7396} loss: 0.8405964349493384\n",
      "test: {'accuracy': 0.6693} loss: 0.8321590461909771\n",
      "epoch 32\n"
     ]
    },
    {
     "data": {
      "application/vnd.jupyter.widget-view+json": {
       "model_id": "313505f0ce7a4e1296c079cbbf6bee9c",
       "version_major": 2,
       "version_minor": 0
      },
      "text/plain": [
       "train:   0%|          | 0/20000 [00:00<?, ?it/s]"
      ]
     },
     "metadata": {},
     "output_type": "display_data"
    },
    {
     "data": {
      "application/vnd.jupyter.widget-view+json": {
       "model_id": "15b62229083d4873bc816ca42b45bca1",
       "version_major": 2,
       "version_minor": 0
      },
      "text/plain": [
       "train val:   0%|          | 0/10000 [00:00<?, ?it/s]"
      ]
     },
     "metadata": {},
     "output_type": "display_data"
    },
    {
     "data": {
      "application/vnd.jupyter.widget-view+json": {
       "model_id": "88ca7ca860444f64ad53d90071388738",
       "version_major": 2,
       "version_minor": 0
      },
      "text/plain": [
       "test:   0%|          | 0/10000 [00:00<?, ?it/s]"
      ]
     },
     "metadata": {},
     "output_type": "display_data"
    },
    {
     "name": "stdout",
     "output_type": "stream",
     "text": [
      "train: {'accuracy': 0.6987} loss: 0.570101989775151\n",
      "train val: {'accuracy': 0.747} loss: 0.4846293524473906\n",
      "test: {'accuracy': 0.6972} loss: 0.6160382192254067\n",
      "epoch 33\n"
     ]
    },
    {
     "data": {
      "application/vnd.jupyter.widget-view+json": {
       "model_id": "8ae1dc07081149b9afd86b43024ca64c",
       "version_major": 2,
       "version_minor": 0
      },
      "text/plain": [
       "train:   0%|          | 0/20000 [00:00<?, ?it/s]"
      ]
     },
     "metadata": {},
     "output_type": "display_data"
    },
    {
     "data": {
      "application/vnd.jupyter.widget-view+json": {
       "model_id": "5a23dd84a3434107bc9818ece55e807f",
       "version_major": 2,
       "version_minor": 0
      },
      "text/plain": [
       "train val:   0%|          | 0/10000 [00:00<?, ?it/s]"
      ]
     },
     "metadata": {},
     "output_type": "display_data"
    },
    {
     "data": {
      "application/vnd.jupyter.widget-view+json": {
       "model_id": "024707f093cd4076a197fe01f2bfaed9",
       "version_major": 2,
       "version_minor": 0
      },
      "text/plain": [
       "test:   0%|          | 0/10000 [00:00<?, ?it/s]"
      ]
     },
     "metadata": {},
     "output_type": "display_data"
    },
    {
     "name": "stdout",
     "output_type": "stream",
     "text": [
      "train: {'accuracy': 0.7012} loss: 0.542573688723892\n",
      "train val: {'accuracy': 0.7455} loss: 0.48555241042673586\n",
      "test: {'accuracy': 0.7106} loss: 0.5883459811031818\n",
      "epoch 34\n"
     ]
    },
    {
     "data": {
      "application/vnd.jupyter.widget-view+json": {
       "model_id": "3ca6ceb6e7c44516acab7a2ec2abc5f1",
       "version_major": 2,
       "version_minor": 0
      },
      "text/plain": [
       "train:   0%|          | 0/20000 [00:00<?, ?it/s]"
      ]
     },
     "metadata": {},
     "output_type": "display_data"
    },
    {
     "data": {
      "application/vnd.jupyter.widget-view+json": {
       "model_id": "130e42639858472c8a43f200f6baeb21",
       "version_major": 2,
       "version_minor": 0
      },
      "text/plain": [
       "train val:   0%|          | 0/10000 [00:00<?, ?it/s]"
      ]
     },
     "metadata": {},
     "output_type": "display_data"
    },
    {
     "data": {
      "application/vnd.jupyter.widget-view+json": {
       "model_id": "f2b381441aab4894af9fb5cea37f4646",
       "version_major": 2,
       "version_minor": 0
      },
      "text/plain": [
       "test:   0%|          | 0/10000 [00:00<?, ?it/s]"
      ]
     },
     "metadata": {},
     "output_type": "display_data"
    },
    {
     "name": "stdout",
     "output_type": "stream",
     "text": [
      "train: {'accuracy': 0.70205} loss: 0.5426218068041839\n",
      "train val: {'accuracy': 0.7493} loss: 0.4869929105088115\n",
      "test: {'accuracy': 0.671} loss: 0.6212029481530189\n",
      "epoch 35\n"
     ]
    },
    {
     "data": {
      "application/vnd.jupyter.widget-view+json": {
       "model_id": "d48d014b130a469e942cb964e62a5793",
       "version_major": 2,
       "version_minor": 0
      },
      "text/plain": [
       "train:   0%|          | 0/20000 [00:00<?, ?it/s]"
      ]
     },
     "metadata": {},
     "output_type": "display_data"
    },
    {
     "data": {
      "application/vnd.jupyter.widget-view+json": {
       "model_id": "09cd52a2068b4f778ab5d7a486586205",
       "version_major": 2,
       "version_minor": 0
      },
      "text/plain": [
       "train val:   0%|          | 0/10000 [00:00<?, ?it/s]"
      ]
     },
     "metadata": {},
     "output_type": "display_data"
    },
    {
     "data": {
      "application/vnd.jupyter.widget-view+json": {
       "model_id": "521410f46486477a870536509b0de59b",
       "version_major": 2,
       "version_minor": 0
      },
      "text/plain": [
       "test:   0%|          | 0/10000 [00:00<?, ?it/s]"
      ]
     },
     "metadata": {},
     "output_type": "display_data"
    },
    {
     "name": "stdout",
     "output_type": "stream",
     "text": [
      "train: {'accuracy': 0.7046} loss: 0.6172896729204804\n",
      "train val: {'accuracy': 0.7483} loss: 0.6501070472463966\n",
      "test: {'accuracy': 0.6876} loss: 0.5958385620355606\n",
      "epoch 36\n"
     ]
    },
    {
     "data": {
      "application/vnd.jupyter.widget-view+json": {
       "model_id": "7d1f748679af4645ada0caab2413c84d",
       "version_major": 2,
       "version_minor": 0
      },
      "text/plain": [
       "train:   0%|          | 0/20000 [00:00<?, ?it/s]"
      ]
     },
     "metadata": {},
     "output_type": "display_data"
    },
    {
     "data": {
      "application/vnd.jupyter.widget-view+json": {
       "model_id": "780daeac3f1f49e7a30a967e3a87e33f",
       "version_major": 2,
       "version_minor": 0
      },
      "text/plain": [
       "train val:   0%|          | 0/10000 [00:00<?, ?it/s]"
      ]
     },
     "metadata": {},
     "output_type": "display_data"
    },
    {
     "data": {
      "application/vnd.jupyter.widget-view+json": {
       "model_id": "e8fc0f370be94198859199c31cb103e2",
       "version_major": 2,
       "version_minor": 0
      },
      "text/plain": [
       "test:   0%|          | 0/10000 [00:00<?, ?it/s]"
      ]
     },
     "metadata": {},
     "output_type": "display_data"
    },
    {
     "name": "stdout",
     "output_type": "stream",
     "text": [
      "train: {'accuracy': 0.70545} loss: 0.5946243202528451\n",
      "train val: {'accuracy': 0.7511} loss: 0.6332554916448891\n",
      "test: {'accuracy': 0.6888} loss: 0.5924023243904114\n",
      "epoch 37\n"
     ]
    },
    {
     "data": {
      "application/vnd.jupyter.widget-view+json": {
       "model_id": "de81066d7077416eb070982a91fe096b",
       "version_major": 2,
       "version_minor": 0
      },
      "text/plain": [
       "train:   0%|          | 0/20000 [00:00<?, ?it/s]"
      ]
     },
     "metadata": {},
     "output_type": "display_data"
    },
    {
     "data": {
      "application/vnd.jupyter.widget-view+json": {
       "model_id": "7fe90491b4da432785a15db69a40a4f5",
       "version_major": 2,
       "version_minor": 0
      },
      "text/plain": [
       "train val:   0%|          | 0/10000 [00:00<?, ?it/s]"
      ]
     },
     "metadata": {},
     "output_type": "display_data"
    },
    {
     "data": {
      "application/vnd.jupyter.widget-view+json": {
       "model_id": "f463511093f24550b866a88e7cc7b990",
       "version_major": 2,
       "version_minor": 0
      },
      "text/plain": [
       "test:   0%|          | 0/10000 [00:00<?, ?it/s]"
      ]
     },
     "metadata": {},
     "output_type": "display_data"
    },
    {
     "name": "stdout",
     "output_type": "stream",
     "text": [
      "train: {'accuracy': 0.7026} loss: 0.7398373082470745\n",
      "train val: {'accuracy': 0.7502} loss: 0.48757561110779646\n",
      "test: {'accuracy': 0.6727} loss: 0.6127846806585788\n",
      "epoch 38\n"
     ]
    },
    {
     "data": {
      "application/vnd.jupyter.widget-view+json": {
       "model_id": "ed1ce8d8272d4c2496ce1c8747d3c204",
       "version_major": 2,
       "version_minor": 0
      },
      "text/plain": [
       "train:   0%|          | 0/20000 [00:00<?, ?it/s]"
      ]
     },
     "metadata": {},
     "output_type": "display_data"
    },
    {
     "data": {
      "application/vnd.jupyter.widget-view+json": {
       "model_id": "eb2a7a2867dd4214aa2aa620a9069136",
       "version_major": 2,
       "version_minor": 0
      },
      "text/plain": [
       "train val:   0%|          | 0/10000 [00:00<?, ?it/s]"
      ]
     },
     "metadata": {},
     "output_type": "display_data"
    },
    {
     "data": {
      "application/vnd.jupyter.widget-view+json": {
       "model_id": "e2b0cdb9384a435f8ed5f17cb54ada42",
       "version_major": 2,
       "version_minor": 0
      },
      "text/plain": [
       "test:   0%|          | 0/10000 [00:00<?, ?it/s]"
      ]
     },
     "metadata": {},
     "output_type": "display_data"
    },
    {
     "name": "stdout",
     "output_type": "stream",
     "text": [
      "train: {'accuracy': 0.7079} loss: 0.5386074834896252\n",
      "train val: {'accuracy': 0.7599} loss: 0.46419881380572914\n",
      "test: {'accuracy': 0.6999} loss: 0.5849647282361984\n",
      "epoch 39\n"
     ]
    },
    {
     "data": {
      "application/vnd.jupyter.widget-view+json": {
       "model_id": "9aa18caae9684410bb7edd81f0fd6263",
       "version_major": 2,
       "version_minor": 0
      },
      "text/plain": [
       "train:   0%|          | 0/20000 [00:00<?, ?it/s]"
      ]
     },
     "metadata": {},
     "output_type": "display_data"
    },
    {
     "data": {
      "application/vnd.jupyter.widget-view+json": {
       "model_id": "16ca4ac0d1444e169e45315a3be2ed07",
       "version_major": 2,
       "version_minor": 0
      },
      "text/plain": [
       "train val:   0%|          | 0/10000 [00:00<?, ?it/s]"
      ]
     },
     "metadata": {},
     "output_type": "display_data"
    },
    {
     "data": {
      "application/vnd.jupyter.widget-view+json": {
       "model_id": "ce9d256f6c2e4a15a92455efcbfb8f48",
       "version_major": 2,
       "version_minor": 0
      },
      "text/plain": [
       "test:   0%|          | 0/10000 [00:00<?, ?it/s]"
      ]
     },
     "metadata": {},
     "output_type": "display_data"
    },
    {
     "name": "stdout",
     "output_type": "stream",
     "text": [
      "train: {'accuracy': 0.70765} loss: 0.5381948151288554\n",
      "train val: {'accuracy': 0.7575} loss: 0.4674645638793707\n",
      "test: {'accuracy': 0.6786} loss: 0.6061113358557224\n",
      "epoch 40\n"
     ]
    },
    {
     "data": {
      "application/vnd.jupyter.widget-view+json": {
       "model_id": "941ebd6723f44275b32e43f4bb53efd6",
       "version_major": 2,
       "version_minor": 0
      },
      "text/plain": [
       "train:   0%|          | 0/20000 [00:00<?, ?it/s]"
      ]
     },
     "metadata": {},
     "output_type": "display_data"
    },
    {
     "data": {
      "application/vnd.jupyter.widget-view+json": {
       "model_id": "54b29bb6fc92400aa48ee24bbc36b701",
       "version_major": 2,
       "version_minor": 0
      },
      "text/plain": [
       "train val:   0%|          | 0/10000 [00:00<?, ?it/s]"
      ]
     },
     "metadata": {},
     "output_type": "display_data"
    },
    {
     "data": {
      "application/vnd.jupyter.widget-view+json": {
       "model_id": "a3eb5427c5b14e928cf8f3cda99fb2ee",
       "version_major": 2,
       "version_minor": 0
      },
      "text/plain": [
       "test:   0%|          | 0/10000 [00:00<?, ?it/s]"
      ]
     },
     "metadata": {},
     "output_type": "display_data"
    },
    {
     "name": "stdout",
     "output_type": "stream",
     "text": [
      "train: {'accuracy': 0.7096} loss: 0.5343287027924176\n",
      "train val: {'accuracy': 0.756} loss: 0.47215787317454816\n",
      "test: {'accuracy': 0.6842} loss: 0.5918662914663553\n",
      "epoch 41\n"
     ]
    },
    {
     "data": {
      "application/vnd.jupyter.widget-view+json": {
       "model_id": "ac5e66733dc941fc9b03d73cbcd61e86",
       "version_major": 2,
       "version_minor": 0
      },
      "text/plain": [
       "train:   0%|          | 0/20000 [00:00<?, ?it/s]"
      ]
     },
     "metadata": {},
     "output_type": "display_data"
    },
    {
     "data": {
      "application/vnd.jupyter.widget-view+json": {
       "model_id": "a5803a36b15e495790997de1acbcfebf",
       "version_major": 2,
       "version_minor": 0
      },
      "text/plain": [
       "train val:   0%|          | 0/10000 [00:00<?, ?it/s]"
      ]
     },
     "metadata": {},
     "output_type": "display_data"
    },
    {
     "data": {
      "application/vnd.jupyter.widget-view+json": {
       "model_id": "b4b7aaee1b4144d1a54631077b90f75a",
       "version_major": 2,
       "version_minor": 0
      },
      "text/plain": [
       "test:   0%|          | 0/10000 [00:00<?, ?it/s]"
      ]
     },
     "metadata": {},
     "output_type": "display_data"
    },
    {
     "name": "stdout",
     "output_type": "stream",
     "text": [
      "train: {'accuracy': 0.71105} loss: 0.5343817627638578\n",
      "train val: {'accuracy': 0.7582} loss: 0.4612866611883044\n",
      "test: {'accuracy': 0.6887} loss: 0.5961028850913048\n",
      "epoch 42\n"
     ]
    },
    {
     "data": {
      "application/vnd.jupyter.widget-view+json": {
       "model_id": "e899276b14ad4b4a830580227c8830d6",
       "version_major": 2,
       "version_minor": 0
      },
      "text/plain": [
       "train:   0%|          | 0/20000 [00:00<?, ?it/s]"
      ]
     },
     "metadata": {},
     "output_type": "display_data"
    },
    {
     "data": {
      "application/vnd.jupyter.widget-view+json": {
       "model_id": "90c37d29ddc740f8b5ff021370f1ea29",
       "version_major": 2,
       "version_minor": 0
      },
      "text/plain": [
       "train val:   0%|          | 0/10000 [00:00<?, ?it/s]"
      ]
     },
     "metadata": {},
     "output_type": "display_data"
    },
    {
     "data": {
      "application/vnd.jupyter.widget-view+json": {
       "model_id": "ef139a82275c495f8802a83beea44980",
       "version_major": 2,
       "version_minor": 0
      },
      "text/plain": [
       "test:   0%|          | 0/10000 [00:00<?, ?it/s]"
      ]
     },
     "metadata": {},
     "output_type": "display_data"
    },
    {
     "name": "stdout",
     "output_type": "stream",
     "text": [
      "train: {'accuracy': 0.70655} loss: 0.5334180312976241\n",
      "train val: {'accuracy': 0.7516} loss: 0.4852803424045444\n",
      "test: {'accuracy': 0.6815} loss: 0.60403291939497\n",
      "epoch 43\n"
     ]
    },
    {
     "data": {
      "application/vnd.jupyter.widget-view+json": {
       "model_id": "e187595289094e3ab508e66dcae3d703",
       "version_major": 2,
       "version_minor": 0
      },
      "text/plain": [
       "train:   0%|          | 0/20000 [00:00<?, ?it/s]"
      ]
     },
     "metadata": {},
     "output_type": "display_data"
    },
    {
     "data": {
      "application/vnd.jupyter.widget-view+json": {
       "model_id": "5d78c6d5dcb84daaaa040801af66c1b6",
       "version_major": 2,
       "version_minor": 0
      },
      "text/plain": [
       "train val:   0%|          | 0/10000 [00:00<?, ?it/s]"
      ]
     },
     "metadata": {},
     "output_type": "display_data"
    },
    {
     "data": {
      "application/vnd.jupyter.widget-view+json": {
       "model_id": "e32b0d33c891481f996fc0c92f9d948e",
       "version_major": 2,
       "version_minor": 0
      },
      "text/plain": [
       "test:   0%|          | 0/10000 [00:00<?, ?it/s]"
      ]
     },
     "metadata": {},
     "output_type": "display_data"
    },
    {
     "name": "stdout",
     "output_type": "stream",
     "text": [
      "train: {'accuracy': 0.7051} loss: 0.5384068049414084\n",
      "train val: {'accuracy': 0.7572} loss: 0.4949209113910794\n",
      "test: {'accuracy': 0.6678} loss: 0.62088674197793\n",
      "epoch 44\n"
     ]
    },
    {
     "data": {
      "application/vnd.jupyter.widget-view+json": {
       "model_id": "b28152f85499402f819b9bfe696950fd",
       "version_major": 2,
       "version_minor": 0
      },
      "text/plain": [
       "train:   0%|          | 0/20000 [00:00<?, ?it/s]"
      ]
     },
     "metadata": {},
     "output_type": "display_data"
    },
    {
     "data": {
      "application/vnd.jupyter.widget-view+json": {
       "model_id": "40fb0a6d03354d84b41f18df5d461312",
       "version_major": 2,
       "version_minor": 0
      },
      "text/plain": [
       "train val:   0%|          | 0/10000 [00:00<?, ?it/s]"
      ]
     },
     "metadata": {},
     "output_type": "display_data"
    },
    {
     "data": {
      "application/vnd.jupyter.widget-view+json": {
       "model_id": "d83d8132cfe8487b8e388804f6a0a78a",
       "version_major": 2,
       "version_minor": 0
      },
      "text/plain": [
       "test:   0%|          | 0/10000 [00:00<?, ?it/s]"
      ]
     },
     "metadata": {},
     "output_type": "display_data"
    },
    {
     "name": "stdout",
     "output_type": "stream",
     "text": [
      "train: {'accuracy': 0.70935} loss: 0.5355684824734926\n",
      "train val: {'accuracy': 0.7577} loss: 0.4665052006259561\n",
      "test: {'accuracy': 0.6904} loss: 0.6193836279273033\n",
      "epoch 45\n"
     ]
    },
    {
     "data": {
      "application/vnd.jupyter.widget-view+json": {
       "model_id": "ab10a9ed068b40338717807aac0ce45a",
       "version_major": 2,
       "version_minor": 0
      },
      "text/plain": [
       "train:   0%|          | 0/20000 [00:00<?, ?it/s]"
      ]
     },
     "metadata": {},
     "output_type": "display_data"
    },
    {
     "data": {
      "application/vnd.jupyter.widget-view+json": {
       "model_id": "e8725575868e49278effe56ff780ed9b",
       "version_major": 2,
       "version_minor": 0
      },
      "text/plain": [
       "train val:   0%|          | 0/10000 [00:00<?, ?it/s]"
      ]
     },
     "metadata": {},
     "output_type": "display_data"
    },
    {
     "data": {
      "application/vnd.jupyter.widget-view+json": {
       "model_id": "143bc04df58c40e0b2ed18eed32e8161",
       "version_major": 2,
       "version_minor": 0
      },
      "text/plain": [
       "test:   0%|          | 0/10000 [00:00<?, ?it/s]"
      ]
     },
     "metadata": {},
     "output_type": "display_data"
    },
    {
     "name": "stdout",
     "output_type": "stream",
     "text": [
      "train: {'accuracy': 0.71535} loss: 0.5278326802529104\n",
      "train val: {'accuracy': 0.7568} loss: 0.4837630094602704\n",
      "test: {'accuracy': 0.6841} loss: 0.5998912817835808\n",
      "epoch 46\n"
     ]
    },
    {
     "data": {
      "application/vnd.jupyter.widget-view+json": {
       "model_id": "0079632a8eab4de0b14e94512bfe2132",
       "version_major": 2,
       "version_minor": 0
      },
      "text/plain": [
       "train:   0%|          | 0/20000 [00:00<?, ?it/s]"
      ]
     },
     "metadata": {},
     "output_type": "display_data"
    },
    {
     "data": {
      "application/vnd.jupyter.widget-view+json": {
       "model_id": "52abe8c0e76b4667885c11f7a9350bfa",
       "version_major": 2,
       "version_minor": 0
      },
      "text/plain": [
       "train val:   0%|          | 0/10000 [00:00<?, ?it/s]"
      ]
     },
     "metadata": {},
     "output_type": "display_data"
    },
    {
     "data": {
      "application/vnd.jupyter.widget-view+json": {
       "model_id": "304faaf037724942b9df6a827fda6a23",
       "version_major": 2,
       "version_minor": 0
      },
      "text/plain": [
       "test:   0%|          | 0/10000 [00:00<?, ?it/s]"
      ]
     },
     "metadata": {},
     "output_type": "display_data"
    },
    {
     "name": "stdout",
     "output_type": "stream",
     "text": [
      "train: {'accuracy': 0.7177} loss: 0.532636313408066\n",
      "train val: {'accuracy': 0.7542} loss: 0.48723518887013195\n",
      "test: {'accuracy': 0.6738} loss: 0.6139456552147865\n",
      "epoch 47\n"
     ]
    },
    {
     "data": {
      "application/vnd.jupyter.widget-view+json": {
       "model_id": "55095f9d7b254ae1acd87a41ed0f2b46",
       "version_major": 2,
       "version_minor": 0
      },
      "text/plain": [
       "train:   0%|          | 0/20000 [00:00<?, ?it/s]"
      ]
     },
     "metadata": {},
     "output_type": "display_data"
    },
    {
     "data": {
      "application/vnd.jupyter.widget-view+json": {
       "model_id": "7377b819bf2840609bea604c1cc3ec29",
       "version_major": 2,
       "version_minor": 0
      },
      "text/plain": [
       "train val:   0%|          | 0/10000 [00:00<?, ?it/s]"
      ]
     },
     "metadata": {},
     "output_type": "display_data"
    },
    {
     "data": {
      "application/vnd.jupyter.widget-view+json": {
       "model_id": "2ff6ea31edf449cbb6e952e62cfb5b40",
       "version_major": 2,
       "version_minor": 0
      },
      "text/plain": [
       "test:   0%|          | 0/10000 [00:00<?, ?it/s]"
      ]
     },
     "metadata": {},
     "output_type": "display_data"
    },
    {
     "name": "stdout",
     "output_type": "stream",
     "text": [
      "train: {'accuracy': 0.71255} loss: 0.5429256294395775\n",
      "train val: {'accuracy': 0.7464} loss: 0.4943097806155682\n",
      "test: {'accuracy': 0.6896} loss: 0.6046874371170997\n",
      "epoch 48\n"
     ]
    },
    {
     "data": {
      "application/vnd.jupyter.widget-view+json": {
       "model_id": "8df674349d0f4a99b03f9d5666690130",
       "version_major": 2,
       "version_minor": 0
      },
      "text/plain": [
       "train:   0%|          | 0/20000 [00:00<?, ?it/s]"
      ]
     },
     "metadata": {},
     "output_type": "display_data"
    },
    {
     "data": {
      "application/vnd.jupyter.widget-view+json": {
       "model_id": "eb4ba2ca25b64d75b57a7f58ec1186ab",
       "version_major": 2,
       "version_minor": 0
      },
      "text/plain": [
       "train val:   0%|          | 0/10000 [00:00<?, ?it/s]"
      ]
     },
     "metadata": {},
     "output_type": "display_data"
    },
    {
     "data": {
      "application/vnd.jupyter.widget-view+json": {
       "model_id": "a67ce90b8f0a49e4b739d1e30bfe5271",
       "version_major": 2,
       "version_minor": 0
      },
      "text/plain": [
       "test:   0%|          | 0/10000 [00:00<?, ?it/s]"
      ]
     },
     "metadata": {},
     "output_type": "display_data"
    },
    {
     "name": "stdout",
     "output_type": "stream",
     "text": [
      "train: {'accuracy': 0.70785} loss: 0.540644616303593\n",
      "train val: {'accuracy': 0.7507} loss: 0.4898062232732773\n",
      "test: {'accuracy': 0.6726} loss: 0.6229939701914787\n",
      "epoch 49\n"
     ]
    },
    {
     "data": {
      "application/vnd.jupyter.widget-view+json": {
       "model_id": "f8f7f3453a0d4f5ca74f9944358ee5fb",
       "version_major": 2,
       "version_minor": 0
      },
      "text/plain": [
       "train:   0%|          | 0/20000 [00:00<?, ?it/s]"
      ]
     },
     "metadata": {},
     "output_type": "display_data"
    },
    {
     "data": {
      "application/vnd.jupyter.widget-view+json": {
       "model_id": "5cf6e9303ad84d928dbc3ccbf08076b7",
       "version_major": 2,
       "version_minor": 0
      },
      "text/plain": [
       "train val:   0%|          | 0/10000 [00:00<?, ?it/s]"
      ]
     },
     "metadata": {},
     "output_type": "display_data"
    },
    {
     "data": {
      "application/vnd.jupyter.widget-view+json": {
       "model_id": "571ea6b790874bc388195fe6176b8d35",
       "version_major": 2,
       "version_minor": 0
      },
      "text/plain": [
       "test:   0%|          | 0/10000 [00:00<?, ?it/s]"
      ]
     },
     "metadata": {},
     "output_type": "display_data"
    },
    {
     "name": "stdout",
     "output_type": "stream",
     "text": [
      "train: {'accuracy': 0.70455} loss: 0.5558582721833721\n",
      "train val: {'accuracy': 0.7494} loss: 0.48485377307534216\n",
      "test: {'accuracy': 0.6364} loss: 0.6390970001280307\n"
     ]
    }
   ],
   "source": [
    "from transformers import get_scheduler\n",
    "# from tqdm.notebook import tqdm\n",
    "from tqdm.auto import tqdm\n",
    "import evaluate\n",
    "\n",
    "def compute(df):\n",
    "    plefts = tokens(df[\"parent_left\"])\n",
    "    clefts = tokens(df[\"child_left\"])\n",
    "    prights = tokens(df[\"parent_right\"])\n",
    "    crights = tokens(df[\"child_right\"])\n",
    "    labels = torch.tensor([~df[\"correct_is_right\"], df[\"correct_is_right\"]], dtype=torch.float32).T.to(device)\n",
    "    return harness({\"parent\": plefts, \"child\": clefts}, {\"parent\": prights, \"child\": crights}, labels)\n",
    "\n",
    "num_epochs = max((50 if is_cuda else 10) - epoch_offset, 3)\n",
    "num_training_steps = num_epochs * ttgen.get_epoch_train_size()\n",
    "warmup = 10000 if is_cuda else 10\n",
    "lr_scheduler = get_scheduler(\n",
    "    name=\"linear\",\n",
    "    optimizer=optimizer,\n",
    "    num_warmup_steps=warmup,\n",
    "    num_training_steps=num_training_steps - warmup)\n",
    "ttgen.set_epoch(epoch_offset)\n",
    "\n",
    "for _ in range(num_epochs):\n",
    "    epoch = ttgen.get_epoch()\n",
    "    print(f\"epoch {epoch}\")\n",
    "    \n",
    "    model.train()\n",
    "    harness.train()\n",
    "    metric_train = evaluate.load(\"accuracy\")\n",
    "    train_loss = []\n",
    "    with tqdm(desc=\"train\", total=ttgen.get_epoch_train_size()) as progress_bar:\n",
    "        for train_df in ttgen.train_dfs():\n",
    "            preds, loss = compute(train_df)\n",
    "            train_loss.append(loss.item())\n",
    "            loss.backward()\n",
    "\n",
    "            optimizer.step()\n",
    "            lr_scheduler.step()\n",
    "            optimizer.zero_grad()\n",
    "            progress_bar.update(train_df.shape[0])\n",
    "            \n",
    "            predictions = torch.argmax(preds, dim=-1)\n",
    "            metric_train.add_batch(predictions=predictions, references=train_df[\"correct_is_right\"].astype(int))\n",
    "\n",
    "    folder = \"checkpoints\"\n",
    "    postfix = \"_lg\" if is_cuda else \"\"\n",
    "    version_tag = \"\" if harness.get_version() == 0 else f\"_v{harness.get_version()}\"\n",
    "    torch.save(harness.state_dict(), os.path.join(folder, f\"harness{version_tag}{postfix}_{epoch}.pkl\"))\n",
    "            \n",
    "    model.eval()\n",
    "    harness.eval()\n",
    "    with torch.no_grad():\n",
    "        metric_val_train = evaluate.load(\"accuracy\")\n",
    "        train_val_loss = []\n",
    "        with tqdm(desc=\"train val\", total=ttgen.get_epoch_train_validation_size()) as progress_bar:\n",
    "            for train_validation_df in ttgen.train_validation_dfs():\n",
    "                preds, loss = compute(train_validation_df)\n",
    "                train_val_loss.append(loss.item())\n",
    "                predictions = torch.argmax(preds, dim=-1)\n",
    "                metric_val_train.add_batch(\n",
    "                    predictions=predictions, references=train_validation_df[\"correct_is_right\"].astype(int))\n",
    "                progress_bar.update(train_validation_df.shape[0])\n",
    "        \n",
    "        metric_test = evaluate.load(\"accuracy\")\n",
    "        test_loss = []\n",
    "        with tqdm(desc=\"test\", total=ttgen.get_epoch_test_size()) as progress_bar:\n",
    "            for test_df in ttgen.test_dfs():\n",
    "                preds, loss = compute(test_df)\n",
    "                test_loss.append(loss.item())\n",
    "                predictions = torch.argmax(preds, dim=-1)\n",
    "                metric_test.add_batch(\n",
    "                    predictions=predictions, references=test_df[\"correct_is_right\"].astype(int))\n",
    "                progress_bar.update(test_df.shape[0])\n",
    "        \n",
    "        print(f\"train: {metric_train.compute()} loss: {np.mean(train_loss)}\")\n",
    "        print(f\"train val: {metric_val_train.compute()} loss: {np.mean(train_val_loss)}\")\n",
    "        print(f\"test: {metric_test.compute()} loss: {np.mean(test_loss)}\")\n",
    "    ttgen.advance_epoch()"
   ]
  },
  {
   "cell_type": "code",
   "execution_count": 12,
   "id": "c5a36224-b91d-4f21-9279-fa7c2a0e862f",
   "metadata": {},
   "outputs": [],
   "source": [
    "folder = \".\"\n",
    "postfix = \"_lg\" if is_cuda else \"\"\n",
    "version_tag = \"\" if harness.get_version() == 0 else f\"_v{harness.get_version()}\"\n",
    "torch.save(model.state_dict(), os.path.join(folder, f\"model{version_tag}{postfix}.pkl\"))\n",
    "torch.save(harness.state_dict(), os.path.join(folder, f\"harness{version_tag}{postfix}.pkl\"))\n",
    "torch.save(optimizer.state_dict(), os.path.join(folder, f\"optimizer{version_tag}{postfix}.pkl\"))"
   ]
  },
  {
   "cell_type": "code",
   "execution_count": 13,
   "id": "bff582b9-1447-425a-9b0f-36d9366e4ec7",
   "metadata": {},
   "outputs": [
    {
     "data": {
      "application/vnd.jupyter.widget-view+json": {
       "model_id": "081047282f014d9bb233c5b3adf4c837",
       "version_major": 2,
       "version_minor": 0
      },
      "text/plain": [
       "test val:   0%|          | 0/10000 [00:00<?, ?it/s]"
      ]
     },
     "metadata": {},
     "output_type": "display_data"
    },
    {
     "name": "stdout",
     "output_type": "stream",
     "text": [
      "test val: {'accuracy': 0.6347} loss: 0.6420372705578804\n"
     ]
    }
   ],
   "source": [
    "ttgen.reset()\n",
    "model.eval()\n",
    "harness.eval()\n",
    "dfs = []\n",
    "with torch.no_grad():\n",
    "    metric_val_test = evaluate.load(\"accuracy\")\n",
    "    test_val_loss = []\n",
    "    with tqdm(desc=\"test val\", total=ttgen.get_epoch_test_validation_size()) as progress_bar:\n",
    "        for test_val_df in ttgen.test_validation_dfs():\n",
    "            preds, loss = compute(test_val_df)\n",
    "            test_val_loss.append(loss.item())\n",
    "            predictions = torch.argmax(preds, dim=-1)\n",
    "            metric_val_test.add_batch(\n",
    "                predictions=predictions, references=test_val_df[\"correct_is_right\"].astype(int))\n",
    "            cur_df = test_val_df.copy()\n",
    "            cur_df[\"logit_left\"] = preds[:, 0].cpu()\n",
    "            cur_df[\"logit_right\"] = preds[:, 1].cpu()\n",
    "            cur_df[\"preds\"] = predictions.cpu()\n",
    "            cur_df[\"truth\"] = test_val_df[\"correct_is_right\"].astype(int)\n",
    "            dfs.append(cur_df)\n",
    "            progress_bar.update(test_val_df.shape[0])\n",
    "print(f\"test val: {metric_val_test.compute()} loss: {np.mean(test_val_loss)}\")\n",
    "validation_df = pd.concat(dfs)"
   ]
  },
  {
   "cell_type": "code",
   "execution_count": 14,
   "id": "e12c3406-9ff3-4576-93c2-daf914f3f8f0",
   "metadata": {},
   "outputs": [],
   "source": [
    "validation_df.to_csv(os.path.join(folder, \"validation.csv\"))"
   ]
  },
  {
   "cell_type": "code",
   "execution_count": 15,
   "id": "0b76f390-5d4c-496c-9f47-4fcab527a4ca",
   "metadata": {},
   "outputs": [
    {
     "data": {
      "text/html": [
       "<div>\n",
       "<style scoped>\n",
       "    .dataframe tbody tr th:only-of-type {\n",
       "        vertical-align: middle;\n",
       "    }\n",
       "\n",
       "    .dataframe tbody tr th {\n",
       "        vertical-align: top;\n",
       "    }\n",
       "\n",
       "    .dataframe thead th {\n",
       "        text-align: right;\n",
       "    }\n",
       "</style>\n",
       "<table border=\"1\" class=\"dataframe\">\n",
       "  <thead>\n",
       "    <tr style=\"text-align: right;\">\n",
       "      <th></th>\n",
       "      <th>gen_name</th>\n",
       "      <th>parent_left</th>\n",
       "      <th>child_left</th>\n",
       "      <th>parent_right</th>\n",
       "      <th>child_right</th>\n",
       "      <th>sway_left</th>\n",
       "      <th>sway_right</th>\n",
       "      <th>correct_is_right</th>\n",
       "      <th>logit_left</th>\n",
       "      <th>logit_right</th>\n",
       "      <th>preds</th>\n",
       "      <th>truth</th>\n",
       "    </tr>\n",
       "  </thead>\n",
       "  <tbody>\n",
       "    <tr>\n",
       "      <th>0</th>\n",
       "      <td>random--valid</td>\n",
       "      <td>Gonna ride the baloney pony all the way to Was...</td>\n",
       "      <td>anyone using “i’m a bad bitch” in an argument ...</td>\n",
       "      <td>Destiny’s Child was better than Beyoncé on her...</td>\n",
       "      <td>The last iteration of them yeah, just thanks t...</td>\n",
       "      <td>0.268941</td>\n",
       "      <td>0.731059</td>\n",
       "      <td>True</td>\n",
       "      <td>0.364254</td>\n",
       "      <td>0.635746</td>\n",
       "      <td>1</td>\n",
       "      <td>1</td>\n",
       "    </tr>\n",
       "    <tr>\n",
       "      <th>1</th>\n",
       "      <td>random--valid</td>\n",
       "      <td>User profile checks out. Bet you're on a list ...</td>\n",
       "      <td>I don’t know why. From what I can gather from ...</td>\n",
       "      <td>[Serious] How would you react if your partner ...</td>\n",
       "      <td>Best kept as a fantasy.</td>\n",
       "      <td>0.268941</td>\n",
       "      <td>0.731059</td>\n",
       "      <td>True</td>\n",
       "      <td>0.251961</td>\n",
       "      <td>0.748039</td>\n",
       "      <td>1</td>\n",
       "      <td>1</td>\n",
       "    </tr>\n",
       "    <tr>\n",
       "      <th>2</th>\n",
       "      <td>random--valid</td>\n",
       "      <td>Me too! Guess I'm alone in liking them.</td>\n",
       "      <td>“Accidental” pregnancy. If she’s “accidentally...</td>\n",
       "      <td>Why is it terrible? If you sold a painting for...</td>\n",
       "      <td>As a programmer I sell my time and skill to a ...</td>\n",
       "      <td>0.268941</td>\n",
       "      <td>0.731059</td>\n",
       "      <td>True</td>\n",
       "      <td>0.159981</td>\n",
       "      <td>0.840019</td>\n",
       "      <td>1</td>\n",
       "      <td>1</td>\n",
       "    </tr>\n",
       "    <tr>\n",
       "      <th>3</th>\n",
       "      <td>*valid--!copy</td>\n",
       "      <td>[TIL that owls and eagles hate each other.They...</td>\n",
       "      <td>Day-bird aaaAAAAaaaa Fighter of the Night-bird...</td>\n",
       "      <td>Day-bird aaaAAAAaaaa Fighter of the Night-bird...</td>\n",
       "      <td>[TIL that owls and eagles hate each other.They...</td>\n",
       "      <td>0.731059</td>\n",
       "      <td>0.268941</td>\n",
       "      <td>False</td>\n",
       "      <td>0.650724</td>\n",
       "      <td>0.349276</td>\n",
       "      <td>0</td>\n",
       "      <td>0</td>\n",
       "    </tr>\n",
       "    <tr>\n",
       "      <th>0</th>\n",
       "      <td>*valid--random</td>\n",
       "      <td>“Leslie I typed your symptoms into the compute...</td>\n",
       "      <td>\"Leslie I tried to make ramen in the coffee ma...</td>\n",
       "      <td>Seriously. Threads like this are really predic...</td>\n",
       "      <td>Playing games !!! DuH</td>\n",
       "      <td>0.999998</td>\n",
       "      <td>0.000002</td>\n",
       "      <td>False</td>\n",
       "      <td>0.613233</td>\n",
       "      <td>0.386767</td>\n",
       "      <td>0</td>\n",
       "      <td>0</td>\n",
       "    </tr>\n",
       "  </tbody>\n",
       "</table>\n",
       "</div>"
      ],
      "text/plain": [
       "         gen_name                                        parent_left  \\\n",
       "0   random--valid  Gonna ride the baloney pony all the way to Was...   \n",
       "1   random--valid  User profile checks out. Bet you're on a list ...   \n",
       "2   random--valid            Me too! Guess I'm alone in liking them.   \n",
       "3   *valid--!copy  [TIL that owls and eagles hate each other.They...   \n",
       "0  *valid--random  “Leslie I typed your symptoms into the compute...   \n",
       "\n",
       "                                          child_left  \\\n",
       "0  anyone using “i’m a bad bitch” in an argument ...   \n",
       "1  I don’t know why. From what I can gather from ...   \n",
       "2  “Accidental” pregnancy. If she’s “accidentally...   \n",
       "3  Day-bird aaaAAAAaaaa Fighter of the Night-bird...   \n",
       "0  \"Leslie I tried to make ramen in the coffee ma...   \n",
       "\n",
       "                                        parent_right  \\\n",
       "0  Destiny’s Child was better than Beyoncé on her...   \n",
       "1  [Serious] How would you react if your partner ...   \n",
       "2  Why is it terrible? If you sold a painting for...   \n",
       "3  Day-bird aaaAAAAaaaa Fighter of the Night-bird...   \n",
       "0  Seriously. Threads like this are really predic...   \n",
       "\n",
       "                                         child_right  sway_left  sway_right  \\\n",
       "0  The last iteration of them yeah, just thanks t...   0.268941    0.731059   \n",
       "1                            Best kept as a fantasy.   0.268941    0.731059   \n",
       "2  As a programmer I sell my time and skill to a ...   0.268941    0.731059   \n",
       "3  [TIL that owls and eagles hate each other.They...   0.731059    0.268941   \n",
       "0                              Playing games !!! DuH   0.999998    0.000002   \n",
       "\n",
       "   correct_is_right  logit_left  logit_right  preds  truth  \n",
       "0              True    0.364254     0.635746      1      1  \n",
       "1              True    0.251961     0.748039      1      1  \n",
       "2              True    0.159981     0.840019      1      1  \n",
       "3             False    0.650724     0.349276      0      0  \n",
       "0             False    0.613233     0.386767      0      0  "
      ]
     },
     "execution_count": 15,
     "metadata": {},
     "output_type": "execute_result"
    }
   ],
   "source": [
    "validation_df[validation_df[\"preds\"] == validation_df[\"truth\"]].head()"
   ]
  },
  {
   "cell_type": "code",
   "execution_count": 16,
   "id": "1dcb0772-acf6-40c0-aad0-6d2adbfcdadd",
   "metadata": {},
   "outputs": [
    {
     "data": {
      "text/html": [
       "<div>\n",
       "<style scoped>\n",
       "    .dataframe tbody tr th:only-of-type {\n",
       "        vertical-align: middle;\n",
       "    }\n",
       "\n",
       "    .dataframe tbody tr th {\n",
       "        vertical-align: top;\n",
       "    }\n",
       "\n",
       "    .dataframe thead th {\n",
       "        text-align: right;\n",
       "    }\n",
       "</style>\n",
       "<table border=\"1\" class=\"dataframe\">\n",
       "  <thead>\n",
       "    <tr style=\"text-align: right;\">\n",
       "      <th></th>\n",
       "      <th>gen_name</th>\n",
       "      <th>parent_left</th>\n",
       "      <th>child_left</th>\n",
       "      <th>parent_right</th>\n",
       "      <th>child_right</th>\n",
       "      <th>sway_left</th>\n",
       "      <th>sway_right</th>\n",
       "      <th>correct_is_right</th>\n",
       "      <th>logit_left</th>\n",
       "      <th>logit_right</th>\n",
       "      <th>preds</th>\n",
       "      <th>truth</th>\n",
       "    </tr>\n",
       "  </thead>\n",
       "  <tbody>\n",
       "    <tr>\n",
       "      <th>1</th>\n",
       "      <td>*valid--random</td>\n",
       "      <td>Oh? You sat down wrong? *immense pain*</td>\n",
       "      <td>Another one: have you ever been running in lik...</td>\n",
       "      <td>Incredible that he did it by trying to cut a w...</td>\n",
       "      <td>Just Spaghetti with red sauce from a jar. Not ...</td>\n",
       "      <td>0.952574</td>\n",
       "      <td>0.047426</td>\n",
       "      <td>False</td>\n",
       "      <td>0.458417</td>\n",
       "      <td>0.541583</td>\n",
       "      <td>1</td>\n",
       "      <td>0</td>\n",
       "    </tr>\n",
       "    <tr>\n",
       "      <th>3</th>\n",
       "      <td>*valid--!copy</td>\n",
       "      <td>My husband was astounded when he found men's s...</td>\n",
       "      <td>Please name brands. I didn’t know they made st...</td>\n",
       "      <td>Please name brands. I didn’t know they made st...</td>\n",
       "      <td>My husband was astounded when he found men's s...</td>\n",
       "      <td>0.731059</td>\n",
       "      <td>0.268941</td>\n",
       "      <td>False</td>\n",
       "      <td>0.272118</td>\n",
       "      <td>0.727882</td>\n",
       "      <td>1</td>\n",
       "      <td>0</td>\n",
       "    </tr>\n",
       "    <tr>\n",
       "      <th>0</th>\n",
       "      <td>*valid--random</td>\n",
       "      <td>That would definitely raise red flags! That’s ...</td>\n",
       "      <td>It’s Jeffrey Dahmer vibes</td>\n",
       "      <td>In Spain/Portugal we also cook them \"a feira\" ...</td>\n",
       "      <td>I was always confused how she became the more ...</td>\n",
       "      <td>0.731059</td>\n",
       "      <td>0.268941</td>\n",
       "      <td>False</td>\n",
       "      <td>0.318889</td>\n",
       "      <td>0.681111</td>\n",
       "      <td>1</td>\n",
       "      <td>0</td>\n",
       "    </tr>\n",
       "    <tr>\n",
       "      <th>2</th>\n",
       "      <td>random--valid</td>\n",
       "      <td>Yep, this one came to mind. She is incredible ...</td>\n",
       "      <td>The more money I make, the more frugal and les...</td>\n",
       "      <td>What is the most egregious display of wealth y...</td>\n",
       "      <td>2 Chainz has a show called the most expensives...</td>\n",
       "      <td>0.268941</td>\n",
       "      <td>0.731059</td>\n",
       "      <td>True</td>\n",
       "      <td>0.568019</td>\n",
       "      <td>0.431981</td>\n",
       "      <td>0</td>\n",
       "      <td>1</td>\n",
       "    </tr>\n",
       "    <tr>\n",
       "      <th>3</th>\n",
       "      <td>*valid--!copy</td>\n",
       "      <td>BlackBerry without the keyboard. Fell flat on ...</td>\n",
       "      <td>Didn't the CEO turn his focus to owning a hock...</td>\n",
       "      <td>Didn't the CEO turn his focus to owning a hock...</td>\n",
       "      <td>BlackBerry without the keyboard. Fell flat on ...</td>\n",
       "      <td>0.880797</td>\n",
       "      <td>0.119203</td>\n",
       "      <td>False</td>\n",
       "      <td>0.430271</td>\n",
       "      <td>0.569729</td>\n",
       "      <td>1</td>\n",
       "      <td>0</td>\n",
       "    </tr>\n",
       "  </tbody>\n",
       "</table>\n",
       "</div>"
      ],
      "text/plain": [
       "         gen_name                                        parent_left  \\\n",
       "1  *valid--random             Oh? You sat down wrong? *immense pain*   \n",
       "3   *valid--!copy  My husband was astounded when he found men's s...   \n",
       "0  *valid--random  That would definitely raise red flags! That’s ...   \n",
       "2   random--valid  Yep, this one came to mind. She is incredible ...   \n",
       "3   *valid--!copy  BlackBerry without the keyboard. Fell flat on ...   \n",
       "\n",
       "                                          child_left  \\\n",
       "1  Another one: have you ever been running in lik...   \n",
       "3  Please name brands. I didn’t know they made st...   \n",
       "0                          It’s Jeffrey Dahmer vibes   \n",
       "2  The more money I make, the more frugal and les...   \n",
       "3  Didn't the CEO turn his focus to owning a hock...   \n",
       "\n",
       "                                        parent_right  \\\n",
       "1  Incredible that he did it by trying to cut a w...   \n",
       "3  Please name brands. I didn’t know they made st...   \n",
       "0  In Spain/Portugal we also cook them \"a feira\" ...   \n",
       "2  What is the most egregious display of wealth y...   \n",
       "3  Didn't the CEO turn his focus to owning a hock...   \n",
       "\n",
       "                                         child_right  sway_left  sway_right  \\\n",
       "1  Just Spaghetti with red sauce from a jar. Not ...   0.952574    0.047426   \n",
       "3  My husband was astounded when he found men's s...   0.731059    0.268941   \n",
       "0  I was always confused how she became the more ...   0.731059    0.268941   \n",
       "2  2 Chainz has a show called the most expensives...   0.268941    0.731059   \n",
       "3  BlackBerry without the keyboard. Fell flat on ...   0.880797    0.119203   \n",
       "\n",
       "   correct_is_right  logit_left  logit_right  preds  truth  \n",
       "1             False    0.458417     0.541583      1      0  \n",
       "3             False    0.272118     0.727882      1      0  \n",
       "0             False    0.318889     0.681111      1      0  \n",
       "2              True    0.568019     0.431981      0      1  \n",
       "3             False    0.430271     0.569729      1      0  "
      ]
     },
     "execution_count": 16,
     "metadata": {},
     "output_type": "execute_result"
    }
   ],
   "source": [
    "validation_df[validation_df[\"preds\"] != validation_df[\"truth\"]].head()"
   ]
  },
  {
   "cell_type": "code",
   "execution_count": null,
   "id": "211e7f88-ff0c-4bad-bb47-2224bfedbc8b",
   "metadata": {},
   "outputs": [],
   "source": []
  }
 ],
 "metadata": {
  "kernelspec": {
   "display_name": "Python [conda env:clotho]",
   "language": "python",
   "name": "conda-env-clotho-py"
  },
  "language_info": {
   "codemirror_mode": {
    "name": "ipython",
    "version": 3
   },
   "file_extension": ".py",
   "mimetype": "text/x-python",
   "name": "python",
   "nbconvert_exporter": "python",
   "pygments_lexer": "ipython3",
   "version": "3.10.6"
  }
 },
 "nbformat": 4,
 "nbformat_minor": 5
}

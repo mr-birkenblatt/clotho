{
 "cells": [
  {
   "cell_type": "code",
   "execution_count": 1,
   "id": "7c1265ba-c76b-4424-b577-a322e6b512af",
   "metadata": {},
   "outputs": [],
   "source": [
    "# in a terminal run\n",
    "# > make run-redis NS=train\n",
    "# > make run-redis NS=test\n",
    "# to allow access to the train and test namespaces"
   ]
  },
  {
   "cell_type": "code",
   "execution_count": 2,
   "id": "4e21c530-5f85-4b18-b9ed-c2fbe591b52f",
   "metadata": {},
   "outputs": [],
   "source": [
    "import os\n",
    "import sys\n",
    "import pandas as pd\n",
    "import numpy as np"
   ]
  },
  {
   "cell_type": "code",
   "execution_count": 3,
   "id": "62721599-23d3-405a-bbb2-88a6f0a17a17",
   "metadata": {},
   "outputs": [],
   "source": [
    "sys.path.append(\"..\")\n",
    "os.environ[\"USER_PATH\"] = \"/mnt/d/workspace/clotho/userdata/\"\n",
    "MODEL_OUTPUT_BASE = \"/mnt/d/workspace/clotho/notebooks\"\n",
    "MODEL_OUTPUT_CP = os.path.join(MODEL_OUTPUT_BASE, \"checkpoints\")"
   ]
  },
  {
   "cell_type": "code",
   "execution_count": 4,
   "id": "82c6f1c7-607b-479d-b2f6-3483cb91a57d",
   "metadata": {},
   "outputs": [],
   "source": [
    "from misc.redis import set_redis_slow_mode\n",
    "from misc.util import highest_number\n",
    "from model.datagenerator import create_train_test\n",
    "from system.namespace.store import get_namespace"
   ]
  },
  {
   "cell_type": "code",
   "execution_count": 5,
   "id": "1d8c7e9a-fa89-435d-a0a2-0a492056581e",
   "metadata": {},
   "outputs": [
    {
     "data": {
      "text/plain": [
       "True"
      ]
     },
     "execution_count": 5,
     "metadata": {},
     "output_type": "execute_result"
    }
   ],
   "source": [
    "import torch\n",
    "\n",
    "is_cuda = torch.cuda.is_available()\n",
    "is_cuda"
   ]
  },
  {
   "cell_type": "code",
   "execution_count": 6,
   "id": "0a897205-0707-4928-860d-5e8d58cef31a",
   "metadata": {},
   "outputs": [],
   "source": [
    "set_redis_slow_mode(\"never\")\n",
    "ns_test = get_namespace(\"test\")\n",
    "ns_train = get_namespace(\"train\")\n",
    "now = pd.Timestamp(\"2022-12-17\", tz=\"UTC\")\n",
    "train_plan = [\n",
    "    {\n",
    "        \"left\": {\"mode\": \"valid\", \"flip_pc\": 0.5},\n",
    "        \"right\": {\"mode\": \"valid\", \"flip_pc\": 0.0},\n",
    "        \"min_text_length\": 20,\n",
    "        \"skip_weak\": True,\n",
    "        \"skip_topics\": True,\n",
    "        \"flip_lr\": 0.5,\n",
    "        \"first_epoch\": 10,\n",
    "        \"last_epoch\": None,\n",
    "        \"weight\": 100,\n",
    "    },\n",
    "    {\n",
    "        \"left\": {\"mode\": \"valid\", \"flip_pc\": 0.5},\n",
    "        \"right\": {\"mode\": \"valid\", \"flip_pc\": 0.0},\n",
    "        \"min_text_length\": None,\n",
    "        \"skip_weak\": True,\n",
    "        \"skip_topics\": True,\n",
    "        \"flip_lr\": 0.5,\n",
    "        \"first_epoch\": 10,\n",
    "        \"last_epoch\": None,\n",
    "        \"weight\": 100,\n",
    "    },\n",
    "    {\n",
    "        \"left\": {\"mode\": \"random\", \"flip_pc\": 0.0},\n",
    "        \"right\": {\"mode\": \"path\", \"flip_pc\": 0.0},\n",
    "        \"min_text_length\": 20,\n",
    "        \"skip_weak\": True,\n",
    "        \"skip_topics\": True,\n",
    "        \"flip_lr\": 0.5,\n",
    "        \"first_epoch\": None,\n",
    "        \"last_epoch\": None,\n",
    "        \"weight\": 60,\n",
    "    },\n",
    "    {\n",
    "        \"left\": None,\n",
    "        \"right\": {\"mode\": \"path\", \"flip_pc\": 0.0},\n",
    "        \"min_text_length\": 20,\n",
    "        \"skip_weak\": True,\n",
    "        \"skip_topics\": True,\n",
    "        \"flip_lr\": 0.5,\n",
    "        \"first_epoch\": None,\n",
    "        \"last_epoch\": None,\n",
    "        \"weight\": 40,\n",
    "    },\n",
    "     {\n",
    "        \"left\": {\"mode\": \"random\", \"flip_pc\": 0.0},\n",
    "        \"right\": {\"mode\": \"path\", \"flip_pc\": 0.0},\n",
    "        \"min_text_length\": None,\n",
    "        \"skip_weak\": True,\n",
    "        \"skip_topics\": True,\n",
    "        \"flip_lr\": 0.5,\n",
    "        \"first_epoch\": 5,\n",
    "        \"last_epoch\": None,\n",
    "        \"weight\": 60,\n",
    "    },\n",
    "    {\n",
    "        \"left\": None,\n",
    "        \"right\": {\"mode\": \"path\", \"flip_pc\": 0.0},\n",
    "        \"min_text_length\": None,\n",
    "        \"skip_weak\": True,\n",
    "        \"skip_topics\": True,\n",
    "        \"flip_lr\": 0.5,\n",
    "        \"first_epoch\": 5,\n",
    "        \"last_epoch\": None,\n",
    "        \"weight\": 40,\n",
    "    },\n",
    "    {\n",
    "        \"left\": {\"mode\": \"random\", \"flip_pc\": 0.0},\n",
    "        \"right\": {\"mode\": \"valid\", \"flip_pc\": 0.0},\n",
    "        \"min_text_length\": None,\n",
    "        \"skip_weak\": True,\n",
    "        \"skip_topics\": True,\n",
    "        \"flip_lr\": 0.5,\n",
    "        \"first_epoch\": None,\n",
    "        \"last_epoch\": None,\n",
    "        \"weight\": 60,\n",
    "    },\n",
    "    {\n",
    "        \"left\": None,\n",
    "        \"right\": {\"mode\": \"valid\", \"flip_pc\": 0.0},\n",
    "        \"min_text_length\": None,\n",
    "        \"skip_weak\": True,\n",
    "        \"skip_topics\": True,\n",
    "        \"flip_lr\": 0.5,\n",
    "        \"first_epoch\": None,\n",
    "        \"last_epoch\": None,\n",
    "        \"weight\": 40,\n",
    "    },\n",
    "    {\n",
    "        \"left\": {\"mode\": \"valid\", \"flip_pc\": 0.0},\n",
    "        \"right\": {\"mode\": \"valid\", \"flip_pc\": 0.0},\n",
    "        \"min_text_length\": None,\n",
    "        \"skip_weak\": True,\n",
    "        \"skip_topics\": True,\n",
    "        \"flip_lr\": 0,\n",
    "        \"first_epoch\": 15,\n",
    "        \"last_epoch\": None,\n",
    "        \"weight\": 50,\n",
    "    }\n",
    "]\n",
    "eval_plan = [\n",
    "    {\n",
    "        \"left\": {\"mode\": \"random\", \"flip_pc\": 0.0},\n",
    "        \"right\": {\"mode\": \"valid\", \"flip_pc\": 0.0},\n",
    "        \"min_text_length\": 20,\n",
    "        \"skip_weak\": True,\n",
    "        \"skip_topics\": True,\n",
    "        \"flip_lr\": 0.5,\n",
    "        \"weight\": 60,\n",
    "    },\n",
    "    {\n",
    "        \"left\": None,\n",
    "        \"right\": {\"mode\": \"valid\", \"flip_pc\": 0.0},\n",
    "        \"min_text_length\": 20,\n",
    "        \"skip_weak\": True,\n",
    "        \"skip_topics\": True,\n",
    "        \"flip_lr\": 0.5,\n",
    "        \"weight\": 40,\n",
    "    },\n",
    "    {\n",
    "        \"left\": {\"mode\": \"random\", \"flip_pc\": 0.0},\n",
    "        \"right\": {\"mode\": \"valid\", \"flip_pc\": 0.0},\n",
    "        \"min_text_length\": None,\n",
    "        \"skip_weak\": True,\n",
    "        \"skip_topics\": True,\n",
    "        \"flip_lr\": 0.5,\n",
    "        \"weight\": 60,\n",
    "    },\n",
    "    {\n",
    "        \"left\": None,\n",
    "        \"right\": {\"mode\": \"valid\", \"flip_pc\": 0.0},\n",
    "        \"min_text_length\": None,\n",
    "        \"skip_weak\": True,\n",
    "        \"skip_topics\": True,\n",
    "        \"flip_lr\": 0.5,\n",
    "        \"weight\": 40,\n",
    "    },\n",
    "]\n",
    "ttgen = create_train_test(\n",
    "    train_ns=ns_train,\n",
    "    train_validation_ns=ns_train,\n",
    "    test_ns=ns_test,\n",
    "    test_validation_ns=ns_test,\n",
    "    train_learning_plan=train_plan,\n",
    "    train_val_learning_plan=eval_plan,\n",
    "    test_learning_plan=eval_plan,\n",
    "    test_val_learning_plan=eval_plan,\n",
    "    batch_size=4 if is_cuda else 8,\n",
    "    epoch_batches=5000 if is_cuda else 500,\n",
    "    train_val_size=10000 if is_cuda else 1000,\n",
    "    test_size=10000 if is_cuda else 1000,\n",
    "    test_val_size=10000 if is_cuda else 1000,\n",
    "    compute_batch_size=100 if is_cuda else 100,\n",
    "    now=now)"
   ]
  },
  {
   "cell_type": "code",
   "execution_count": 7,
   "id": "9d7acd4d-0d4a-481f-901b-3e524ee02c6f",
   "metadata": {},
   "outputs": [],
   "source": [
    "import torch.nn as nn\n",
    "from transformers import DistilBertTokenizer, DistilBertModel"
   ]
  },
  {
   "cell_type": "code",
   "execution_count": 8,
   "id": "927dbcbe-6df3-49c9-8449-041b1ab7a168",
   "metadata": {},
   "outputs": [
    {
     "data": {
      "text/plain": [
       "device(type='cuda')"
      ]
     },
     "execution_count": 8,
     "metadata": {},
     "output_type": "execute_result"
    }
   ],
   "source": [
    "device = torch.device(\"cuda\") if is_cuda else torch.device(\"cpu\")\n",
    "device"
   ]
  },
  {
   "cell_type": "code",
   "execution_count": 9,
   "id": "00819f53-a953-4b85-bcf8-6cba59a8bb67",
   "metadata": {},
   "outputs": [],
   "source": [
    "from typing import Literal, TypedDict\n",
    "\n",
    "ProviderRole = Literal[\"child\", \"parent\"]\n",
    "\n",
    "tokenizer = DistilBertTokenizer.from_pretrained(\"distilbert-base-uncased\")\n",
    "EMBED_SIZE = 768\n",
    "\n",
    "TokenizedInput = TypedDict('TokenizedInput', {\n",
    "    \"input_ids\": torch.Tensor,\n",
    "    \"attention_mask\": torch.Tensor,\n",
    "})\n",
    "\n",
    "\n",
    "def tokens(texts: list[str]) -> TokenizedInput:\n",
    "    res = tokenizer(texts.tolist(), return_tensors=\"pt\", padding=True, truncation=True)\n",
    "    return {k: v.to(device) for k, v in res.items()}\n",
    "\n",
    "\n",
    "class Noise(nn.Module):\n",
    "    def __init__(self, std: float = 1.0, p: float = 0.5) -> None:\n",
    "        super().__init__()\n",
    "        self._std = std\n",
    "        self._p = p\n",
    "        self._dhold = nn.Parameter(torch.Tensor([0.0]), requires_grad=False)\n",
    "\n",
    "    def set_std(self, std: float) -> None:\n",
    "        self._std = std\n",
    "\n",
    "    def get_std(self) -> float:\n",
    "        return self._std\n",
    "\n",
    "    def forward(self, x: torch.Tensor) -> torch.Tensor:\n",
    "        if not self.training:\n",
    "            return x\n",
    "        prob = torch.rand(size=x.shape, device=self._dhold.device) < self._p\n",
    "        gauss = torch.normal(\n",
    "            mean=0.0, std=self._std, size=x.shape, device=self._dhold.device)\n",
    "        return x + prob * gauss\n",
    "\n",
    "\n",
    "class Model(nn.Module):\n",
    "    def __init__(self, version: int) -> None:\n",
    "        super().__init__()\n",
    "        self._bert_parent = DistilBertModel.from_pretrained(\n",
    "            \"distilbert-base-uncased\")\n",
    "        self._bert_child = DistilBertModel.from_pretrained(\n",
    "            \"distilbert-base-uncased\")\n",
    "        if version in (1, 3, 4, 6):\n",
    "            self._pdense: nn.Sequential | None = nn.Sequential(\n",
    "                nn.Linear(EMBED_SIZE, EMBED_SIZE),\n",
    "                nn.Dropout(p=0.2),\n",
    "                nn.ReLU(),\n",
    "                nn.Linear(EMBED_SIZE, EMBED_SIZE))\n",
    "            self._cdense: nn.Sequential | None = nn.Sequential(\n",
    "                nn.Linear(EMBED_SIZE, EMBED_SIZE),\n",
    "                nn.Dropout(p=0.2),\n",
    "                nn.ReLU(),\n",
    "                nn.Linear(EMBED_SIZE, EMBED_SIZE))\n",
    "        else:\n",
    "            self._pdense = None\n",
    "            self._cdense = None\n",
    "        if version < 4 or noise > 5:\n",
    "            self._noise = None\n",
    "        else:\n",
    "            self._noise = Noise(std=1.0, p=0.2)\n",
    "        if version < 2 or version > 4:\n",
    "            self._cos = None\n",
    "        else:\n",
    "            self._cos = torch.nn.CosineSimilarity()\n",
    "        if version < 6:\n",
    "            self._agg = \"cls\"\n",
    "        else:\n",
    "            self._agg = \"mean\"\n",
    "        self._version = version\n",
    "\n",
    "    def set_epoch(self, epoch: int) -> None:\n",
    "        noise = self._noise\n",
    "        if noise is not None:\n",
    "            noise.set_std(1 / (1.2 ** epoch))\n",
    "\n",
    "    def get_version(self) -> int:\n",
    "        return self._version\n",
    "    \n",
    "    def get_agg(self, lhs: torch.Tensor) -> torch.Tensor:\n",
    "        if self._agg == \"cls\":\n",
    "            return lhs[:, 0]\n",
    "        if self._agg == \"mean\":\n",
    "            return torch.mean(lhs, dim=1)\n",
    "        raise ValueError(f\"unknown aggregation: {self._agg}\")\n",
    "\n",
    "    def get_parent_embed(\n",
    "            self,\n",
    "            input_ids: torch.Tensor,\n",
    "            attention_mask: torch.Tensor) -> torch.Tensor:\n",
    "        outputs_parent = self._bert_parent(\n",
    "            input_ids=input_ids, attention_mask=attention_mask)\n",
    "        out = self.get_agg(outputs_parent.last_hidden_state)\n",
    "        if self._pdense is not None:\n",
    "            out = self._pdense(out)\n",
    "        if self._noise is not None:\n",
    "            out = self._noise(out)\n",
    "        return out\n",
    "\n",
    "    def get_child_embed(\n",
    "            self,\n",
    "            input_ids: torch.Tensor,\n",
    "            attention_mask: torch.Tensor) -> torch.Tensor:\n",
    "        outputs_child = self._bert_child(\n",
    "            input_ids=input_ids, attention_mask=attention_mask)\n",
    "        out = self.get_agg(outputs_child.last_hidden_state)\n",
    "        if self._cdense is not None:\n",
    "            out = self._cdense(out)\n",
    "        if self._noise is not None:\n",
    "            out = self._noise(out)\n",
    "        return out\n",
    "\n",
    "    def forward(self, x: dict[ProviderRole, TokenizedInput]) -> torch.Tensor:\n",
    "        parent_cls = self.get_parent_embed(\n",
    "            input_ids=x[\"parent\"][\"input_ids\"],\n",
    "            attention_mask=x[\"parent\"][\"attention_mask\"])\n",
    "        child_cls = self.get_child_embed(\n",
    "            input_ids=x[\"child\"][\"input_ids\"],\n",
    "            attention_mask=x[\"child\"][\"attention_mask\"])\n",
    "        if self._cos is not None:\n",
    "            return self._cos(parent_cls, child_cls).reshape([-1, 1])\n",
    "        batch_size = parent_cls.shape[0]\n",
    "        return torch.bmm(\n",
    "            parent_cls.reshape([batch_size, 1, -1]),\n",
    "            child_cls.reshape([batch_size, -1, 1])).reshape([-1, 1])\n",
    "\n",
    "\n",
    "class TrainingHarness(nn.Module):\n",
    "    def __init__(self, model: Model) -> None:\n",
    "        super().__init__()\n",
    "        self._model = model\n",
    "        self._softmax = nn.Softmax(dim=1)\n",
    "        self._loss = nn.BCELoss()\n",
    "\n",
    "    def get_version(self) -> int:\n",
    "        return self._model.get_version()\n",
    "\n",
    "    def forward(\n",
    "            self,\n",
    "            left: TokenizedInput,\n",
    "            right: TokenizedInput,\n",
    "            labels: torch.Tensor) -> tuple[torch.Tensor, torch.Tensor]:\n",
    "        out_left = self._model(left)\n",
    "        out_right = self._model(right)\n",
    "        preds = self._softmax(torch.hstack((out_left, out_right)))\n",
    "        return preds, self._loss(preds, labels)"
   ]
  },
  {
   "cell_type": "code",
   "execution_count": null,
   "id": "7823be84-27df-48b9-934a-2db72679e611",
   "metadata": {},
   "outputs": [],
   "source": [
    "def get_filename(\n",
    "        harness: TrainingHarness,\n",
    "        *,\n",
    "        is_final: bool,\n",
    "        ftype: str,\n",
    "        epoch: int | None,\n",
    "        ext: str = \".pkl\") -> tuple[str, str, str]:\n",
    "    folder = MODEL_OUTPUT_BASE if is_final else MODEL_OUTPUT_CP\n",
    "    postfix = \"_lg\" if is_cuda else \"\"\n",
    "    version_tag = f\"_v{harness.get_version()}\"\n",
    "    out_pre = f\"{ftype}{version_tag}{postfix}_\"\n",
    "    out_post = ext\n",
    "    return (\n",
    "        os.path.join(\n",
    "            folder,\n",
    "            f\"{out_pre}{\"\" if epoch is None else epoch}{out_post}\"),\n",
    "        out_pre,\n",
    "        out_post,\n",
    "        folder,\n",
    "    )"
   ]
  },
  {
   "cell_type": "code",
   "execution_count": 10,
   "id": "f048a983-9daf-4f04-b36e-5da77951bb3c",
   "metadata": {},
   "outputs": [
    {
     "name": "stderr",
     "output_type": "stream",
     "text": [
      "Some weights of the model checkpoint at distilbert-base-uncased were not used when initializing DistilBertModel: ['vocab_transform.weight', 'vocab_layer_norm.bias', 'vocab_layer_norm.weight', 'vocab_projector.weight', 'vocab_transform.bias', 'vocab_projector.bias']\n",
      "- This IS expected if you are initializing DistilBertModel from the checkpoint of a model trained on another task or with another architecture (e.g. initializing a BertForSequenceClassification model from a BertForPreTraining model).\n",
      "- This IS NOT expected if you are initializing DistilBertModel from the checkpoint of a model that you expect to be exactly identical (initializing a BertForSequenceClassification model from a BertForSequenceClassification model).\n",
      "Some weights of the model checkpoint at distilbert-base-uncased were not used when initializing DistilBertModel: ['vocab_transform.weight', 'vocab_layer_norm.bias', 'vocab_layer_norm.weight', 'vocab_projector.weight', 'vocab_transform.bias', 'vocab_projector.bias']\n",
      "- This IS expected if you are initializing DistilBertModel from the checkpoint of a model trained on another task or with another architecture (e.g. initializing a BertForSequenceClassification model from a BertForPreTraining model).\n",
      "- This IS NOT expected if you are initializing DistilBertModel from the checkpoint of a model that you expect to be exactly identical (initializing a BertForSequenceClassification model from a BertForSequenceClassification model).\n"
     ]
    },
    {
     "data": {
      "text/plain": [
       "(None, 0)"
      ]
     },
     "execution_count": 10,
     "metadata": {},
     "output_type": "execute_result"
    }
   ],
   "source": [
    "from torch.optim import AdamW\n",
    "\n",
    "model = Model(version=6)\n",
    "model.to(device)\n",
    "harness = TrainingHarness(model)\n",
    "harness.to(device)\n",
    "\n",
    "FORCE_RESTART = False\n",
    "\n",
    "_, spre, spost, sfolder = get_filename(harness, is_final=False, ftype=\"harness\", epoch=None)\n",
    "mprev = highest_number(os.listdir(sfolder), prefix=spre, postfix=spost)\n",
    "if not FORCE_RESTART and mprev is not None:\n",
    "    prev_fname, prev_epoch = mprev\n",
    "    harness.load_state_dict(torch.load(os.path.join(folder, prev_fname), map_location=device))\n",
    "    epoch_offset = prev_epoch + 1\n",
    "else:\n",
    "    epoch_offset = 0\n",
    "\n",
    "optimizer = AdamW(harness.parameters(), lr=5e-5)\n",
    "mprev, epoch_offset"
   ]
  },
  {
   "cell_type": "code",
   "execution_count": 11,
   "id": "6cde9030-931f-4f80-a118-d7f5ef2677d9",
   "metadata": {
    "collapsed": true,
    "jupyter": {
     "outputs_hidden": true
    },
    "tags": []
   },
   "outputs": [
    {
     "name": "stdout",
     "output_type": "stream",
     "text": [
      "epoch 0\n"
     ]
    },
    {
     "data": {
      "application/vnd.jupyter.widget-view+json": {
       "model_id": "e7f273b2cf204ca1ad869324f66139be",
       "version_major": 2,
       "version_minor": 0
      },
      "text/plain": [
       "train:   0%|          | 0/20000 [00:00<?, ?it/s]"
      ]
     },
     "metadata": {},
     "output_type": "display_data"
    },
    {
     "data": {
      "application/vnd.jupyter.widget-view+json": {
       "model_id": "fd1f4b7feed84c059f5bf15f689f714a",
       "version_major": 2,
       "version_minor": 0
      },
      "text/plain": [
       "train val:   0%|          | 0/10000 [00:00<?, ?it/s]"
      ]
     },
     "metadata": {},
     "output_type": "display_data"
    },
    {
     "data": {
      "application/vnd.jupyter.widget-view+json": {
       "model_id": "e02f5c39f1cd40dfbcf9429a7db03fbc",
       "version_major": 2,
       "version_minor": 0
      },
      "text/plain": [
       "test:   0%|          | 0/10000 [00:00<?, ?it/s]"
      ]
     },
     "metadata": {},
     "output_type": "display_data"
    },
    {
     "name": "stdout",
     "output_type": "stream",
     "text": [
      "train: {'accuracy': 0.51025} loss: 22.655790788561532\n",
      "train val: {'accuracy': 0.5311} loss: 0.6934446441173554\n",
      "test: {'accuracy': 0.4985} loss: 0.7083818842530251\n",
      "epoch time: 84.80min\n",
      "epoch 1\n"
     ]
    },
    {
     "data": {
      "application/vnd.jupyter.widget-view+json": {
       "model_id": "f10d346c8dec4c139ebf3c7444095f8d",
       "version_major": 2,
       "version_minor": 0
      },
      "text/plain": [
       "train:   0%|          | 0/20000 [00:00<?, ?it/s]"
      ]
     },
     "metadata": {},
     "output_type": "display_data"
    },
    {
     "data": {
      "application/vnd.jupyter.widget-view+json": {
       "model_id": "c3a09727a1e64226899098b460d7ee96",
       "version_major": 2,
       "version_minor": 0
      },
      "text/plain": [
       "train val:   0%|          | 0/10000 [00:00<?, ?it/s]"
      ]
     },
     "metadata": {},
     "output_type": "display_data"
    },
    {
     "data": {
      "application/vnd.jupyter.widget-view+json": {
       "model_id": "4d147e4c1b924b97b5853306ff237e38",
       "version_major": 2,
       "version_minor": 0
      },
      "text/plain": [
       "test:   0%|          | 0/10000 [00:00<?, ?it/s]"
      ]
     },
     "metadata": {},
     "output_type": "display_data"
    },
    {
     "name": "stdout",
     "output_type": "stream",
     "text": [
      "train: {'accuracy': 0.49875} loss: 22.049154417168726\n",
      "train val: {'accuracy': 0.457} loss: 0.6953360244274139\n",
      "test: {'accuracy': 0.4934} loss: 0.6928981063842773\n",
      "epoch time: 15.74min\n",
      "epoch 2\n"
     ]
    },
    {
     "data": {
      "application/vnd.jupyter.widget-view+json": {
       "model_id": "6ad2bb3a36db46a18e6d09918455a97f",
       "version_major": 2,
       "version_minor": 0
      },
      "text/plain": [
       "train:   0%|          | 0/20000 [00:00<?, ?it/s]"
      ]
     },
     "metadata": {},
     "output_type": "display_data"
    },
    {
     "data": {
      "application/vnd.jupyter.widget-view+json": {
       "model_id": "4fa8ce6fb34d4ee58562fabaab4e557e",
       "version_major": 2,
       "version_minor": 0
      },
      "text/plain": [
       "train val:   0%|          | 0/10000 [00:00<?, ?it/s]"
      ]
     },
     "metadata": {},
     "output_type": "display_data"
    },
    {
     "data": {
      "application/vnd.jupyter.widget-view+json": {
       "model_id": "f85123f00b1d44ef86e05982f689fce6",
       "version_major": 2,
       "version_minor": 0
      },
      "text/plain": [
       "test:   0%|          | 0/10000 [00:00<?, ?it/s]"
      ]
     },
     "metadata": {},
     "output_type": "display_data"
    },
    {
     "name": "stdout",
     "output_type": "stream",
     "text": [
      "train: {'accuracy': 0.503} loss: 19.41779045229834\n",
      "train val: {'accuracy': 0.4772} loss: 0.6936146483898162\n",
      "test: {'accuracy': 0.532} loss: 0.692195683169365\n",
      "epoch time: 15.89min\n",
      "epoch 3\n"
     ]
    },
    {
     "data": {
      "application/vnd.jupyter.widget-view+json": {
       "model_id": "11521acd1d884faa830320f0cd175a0a",
       "version_major": 2,
       "version_minor": 0
      },
      "text/plain": [
       "train:   0%|          | 0/20000 [00:00<?, ?it/s]"
      ]
     },
     "metadata": {},
     "output_type": "display_data"
    },
    {
     "data": {
      "application/vnd.jupyter.widget-view+json": {
       "model_id": "de7d5a5afcac44baa6eb723e062c627d",
       "version_major": 2,
       "version_minor": 0
      },
      "text/plain": [
       "train val:   0%|          | 0/10000 [00:00<?, ?it/s]"
      ]
     },
     "metadata": {},
     "output_type": "display_data"
    },
    {
     "data": {
      "application/vnd.jupyter.widget-view+json": {
       "model_id": "12e418f58c3c4f1c8b1bb1abd02aec2b",
       "version_major": 2,
       "version_minor": 0
      },
      "text/plain": [
       "test:   0%|          | 0/10000 [00:00<?, ?it/s]"
      ]
     },
     "metadata": {},
     "output_type": "display_data"
    },
    {
     "name": "stdout",
     "output_type": "stream",
     "text": [
      "train: {'accuracy': 0.4932} loss: 17.575540262147335\n",
      "train val: {'accuracy': 0.4563} loss: 0.6933389202833176\n",
      "test: {'accuracy': 0.495} loss: 0.6932094643115997\n",
      "epoch time: 17.29min\n",
      "epoch 4\n"
     ]
    },
    {
     "data": {
      "application/vnd.jupyter.widget-view+json": {
       "model_id": "14f0ae00301d414b82455de493d2e745",
       "version_major": 2,
       "version_minor": 0
      },
      "text/plain": [
       "train:   0%|          | 0/20000 [00:00<?, ?it/s]"
      ]
     },
     "metadata": {},
     "output_type": "display_data"
    },
    {
     "data": {
      "application/vnd.jupyter.widget-view+json": {
       "model_id": "ad1f85548e2c47259fe6bee34c5086e7",
       "version_major": 2,
       "version_minor": 0
      },
      "text/plain": [
       "train val:   0%|          | 0/10000 [00:00<?, ?it/s]"
      ]
     },
     "metadata": {},
     "output_type": "display_data"
    },
    {
     "data": {
      "application/vnd.jupyter.widget-view+json": {
       "model_id": "a585d9d1b7ef447bbda7bbfa396ed351",
       "version_major": 2,
       "version_minor": 0
      },
      "text/plain": [
       "test:   0%|          | 0/10000 [00:00<?, ?it/s]"
      ]
     },
     "metadata": {},
     "output_type": "display_data"
    },
    {
     "name": "stdout",
     "output_type": "stream",
     "text": [
      "train: {'accuracy': 0.496} loss: 15.725588903693628\n",
      "train val: {'accuracy': 0.6181} loss: 0.6926936051607132\n",
      "test: {'accuracy': 0.5023} loss: 0.6928451885938645\n",
      "epoch time: 16.13min\n",
      "epoch 5\n"
     ]
    },
    {
     "data": {
      "application/vnd.jupyter.widget-view+json": {
       "model_id": "5c72afb0d5724b4aafe36989f1c7252a",
       "version_major": 2,
       "version_minor": 0
      },
      "text/plain": [
       "train:   0%|          | 0/20000 [00:00<?, ?it/s]"
      ]
     },
     "metadata": {},
     "output_type": "display_data"
    },
    {
     "data": {
      "application/vnd.jupyter.widget-view+json": {
       "model_id": "4be1a1f3605144deb90e829d9fd07439",
       "version_major": 2,
       "version_minor": 0
      },
      "text/plain": [
       "train val:   0%|          | 0/10000 [00:00<?, ?it/s]"
      ]
     },
     "metadata": {},
     "output_type": "display_data"
    },
    {
     "data": {
      "application/vnd.jupyter.widget-view+json": {
       "model_id": "ca0696f864b347b1aedaf01dc44a7b1a",
       "version_major": 2,
       "version_minor": 0
      },
      "text/plain": [
       "test:   0%|          | 0/10000 [00:00<?, ?it/s]"
      ]
     },
     "metadata": {},
     "output_type": "display_data"
    },
    {
     "name": "stdout",
     "output_type": "stream",
     "text": [
      "train: {'accuracy': 0.5017} loss: 13.572738920020157\n",
      "train val: {'accuracy': 0.393} loss: 0.6944171579837799\n",
      "test: {'accuracy': 0.502} loss: 0.6931974095582962\n",
      "epoch time: 16.39min\n",
      "epoch 6\n"
     ]
    },
    {
     "data": {
      "application/vnd.jupyter.widget-view+json": {
       "model_id": "84c4692a81034c2ba894a53afbb20c27",
       "version_major": 2,
       "version_minor": 0
      },
      "text/plain": [
       "train:   0%|          | 0/20000 [00:00<?, ?it/s]"
      ]
     },
     "metadata": {},
     "output_type": "display_data"
    },
    {
     "data": {
      "application/vnd.jupyter.widget-view+json": {
       "model_id": "28517cfb41444b23bebd7ae04e010a80",
       "version_major": 2,
       "version_minor": 0
      },
      "text/plain": [
       "train val:   0%|          | 0/10000 [00:00<?, ?it/s]"
      ]
     },
     "metadata": {},
     "output_type": "display_data"
    },
    {
     "data": {
      "application/vnd.jupyter.widget-view+json": {
       "model_id": "896061a697e3408cb1affee1d497ff49",
       "version_major": 2,
       "version_minor": 0
      },
      "text/plain": [
       "test:   0%|          | 0/10000 [00:00<?, ?it/s]"
      ]
     },
     "metadata": {},
     "output_type": "display_data"
    },
    {
     "name": "stdout",
     "output_type": "stream",
     "text": [
      "train: {'accuracy': 0.5033} loss: 11.754992915035524\n",
      "train val: {'accuracy': 0.488} loss: 0.6892236686468124\n",
      "test: {'accuracy': 0.5397} loss: 0.6926834681272507\n",
      "epoch time: 15.80min\n",
      "epoch 7\n"
     ]
    },
    {
     "data": {
      "application/vnd.jupyter.widget-view+json": {
       "model_id": "7a152897ee98464eb3420c4472eb81a7",
       "version_major": 2,
       "version_minor": 0
      },
      "text/plain": [
       "train:   0%|          | 0/20000 [00:00<?, ?it/s]"
      ]
     },
     "metadata": {},
     "output_type": "display_data"
    },
    {
     "data": {
      "application/vnd.jupyter.widget-view+json": {
       "model_id": "407a9b434a4c44a295b5e8722b1d1d79",
       "version_major": 2,
       "version_minor": 0
      },
      "text/plain": [
       "train val:   0%|          | 0/10000 [00:00<?, ?it/s]"
      ]
     },
     "metadata": {},
     "output_type": "display_data"
    },
    {
     "data": {
      "application/vnd.jupyter.widget-view+json": {
       "model_id": "1679cc79d7714f1b93be1e5a609fc18d",
       "version_major": 2,
       "version_minor": 0
      },
      "text/plain": [
       "test:   0%|          | 0/10000 [00:00<?, ?it/s]"
      ]
     },
     "metadata": {},
     "output_type": "display_data"
    },
    {
     "name": "stdout",
     "output_type": "stream",
     "text": [
      "train: {'accuracy': 0.50435} loss: 10.009444292305366\n",
      "train val: {'accuracy': 0.5755} loss: 0.6926531358003616\n",
      "test: {'accuracy': 0.4881} loss: 0.6931538519620896\n",
      "epoch time: 15.72min\n",
      "epoch 8\n"
     ]
    },
    {
     "data": {
      "application/vnd.jupyter.widget-view+json": {
       "model_id": "5ba2dd36967e493b8b6dac95e588a603",
       "version_major": 2,
       "version_minor": 0
      },
      "text/plain": [
       "train:   0%|          | 0/20000 [00:00<?, ?it/s]"
      ]
     },
     "metadata": {},
     "output_type": "display_data"
    },
    {
     "data": {
      "application/vnd.jupyter.widget-view+json": {
       "model_id": "d42f88050f2c4a88bcb7297e9e956b9e",
       "version_major": 2,
       "version_minor": 0
      },
      "text/plain": [
       "train val:   0%|          | 0/10000 [00:00<?, ?it/s]"
      ]
     },
     "metadata": {},
     "output_type": "display_data"
    },
    {
     "data": {
      "application/vnd.jupyter.widget-view+json": {
       "model_id": "1a8df7ebfcdd4b108bae737c4e869aa0",
       "version_major": 2,
       "version_minor": 0
      },
      "text/plain": [
       "test:   0%|          | 0/10000 [00:00<?, ?it/s]"
      ]
     },
     "metadata": {},
     "output_type": "display_data"
    },
    {
     "name": "stdout",
     "output_type": "stream",
     "text": [
      "train: {'accuracy': 0.50225} loss: 8.494893871269761\n",
      "train val: {'accuracy': 0.5969} loss: 0.6927846732616425\n",
      "test: {'accuracy': 0.4756} loss: 0.6932169940948486\n",
      "epoch time: 15.37min\n",
      "epoch 9\n"
     ]
    },
    {
     "data": {
      "application/vnd.jupyter.widget-view+json": {
       "model_id": "c717e63d5e994eebb2b16ca8a8b2fe7e",
       "version_major": 2,
       "version_minor": 0
      },
      "text/plain": [
       "train:   0%|          | 0/20000 [00:00<?, ?it/s]"
      ]
     },
     "metadata": {},
     "output_type": "display_data"
    },
    {
     "data": {
      "application/vnd.jupyter.widget-view+json": {
       "model_id": "02bece434cc0457e968340a3612be3ec",
       "version_major": 2,
       "version_minor": 0
      },
      "text/plain": [
       "train val:   0%|          | 0/10000 [00:00<?, ?it/s]"
      ]
     },
     "metadata": {},
     "output_type": "display_data"
    },
    {
     "data": {
      "application/vnd.jupyter.widget-view+json": {
       "model_id": "6a1eb34426f94b5cbee65d2de610f414",
       "version_major": 2,
       "version_minor": 0
      },
      "text/plain": [
       "test:   0%|          | 0/10000 [00:00<?, ?it/s]"
      ]
     },
     "metadata": {},
     "output_type": "display_data"
    },
    {
     "name": "stdout",
     "output_type": "stream",
     "text": [
      "train: {'accuracy': 0.49465} loss: 7.190322187525271\n",
      "train val: {'accuracy': 0.4014} loss: 0.6932524302005768\n",
      "test: {'accuracy': 0.544} loss: 0.6931128970384598\n",
      "epoch time: 16.08min\n",
      "epoch 10\n"
     ]
    },
    {
     "data": {
      "application/vnd.jupyter.widget-view+json": {
       "model_id": "4d11b37bd4bf4c96bd9be4195b8d6910",
       "version_major": 2,
       "version_minor": 0
      },
      "text/plain": [
       "train:   0%|          | 0/20000 [00:00<?, ?it/s]"
      ]
     },
     "metadata": {},
     "output_type": "display_data"
    },
    {
     "data": {
      "application/vnd.jupyter.widget-view+json": {
       "model_id": "bddcc85b220840a387d375c7c2967016",
       "version_major": 2,
       "version_minor": 0
      },
      "text/plain": [
       "train val:   0%|          | 0/10000 [00:00<?, ?it/s]"
      ]
     },
     "metadata": {},
     "output_type": "display_data"
    },
    {
     "data": {
      "application/vnd.jupyter.widget-view+json": {
       "model_id": "bddf4d7b845943139a9120c1ce2d17d1",
       "version_major": 2,
       "version_minor": 0
      },
      "text/plain": [
       "test:   0%|          | 0/10000 [00:00<?, ?it/s]"
      ]
     },
     "metadata": {},
     "output_type": "display_data"
    },
    {
     "name": "stdout",
     "output_type": "stream",
     "text": [
      "train: {'accuracy': 0.49655} loss: 5.890023180220956\n",
      "train val: {'accuracy': 0.5118} loss: 0.6931351244211197\n",
      "test: {'accuracy': 0.4878} loss: 0.693153289604187\n",
      "epoch time: 19.60min\n",
      "epoch 11\n"
     ]
    },
    {
     "data": {
      "application/vnd.jupyter.widget-view+json": {
       "model_id": "3d9efa00d3c84c73af2f2c599ea8b1f7",
       "version_major": 2,
       "version_minor": 0
      },
      "text/plain": [
       "train:   0%|          | 0/20000 [00:00<?, ?it/s]"
      ]
     },
     "metadata": {},
     "output_type": "display_data"
    },
    {
     "data": {
      "application/vnd.jupyter.widget-view+json": {
       "model_id": "938d4e323a1d4d9389b4219b763287a9",
       "version_major": 2,
       "version_minor": 0
      },
      "text/plain": [
       "train val:   0%|          | 0/10000 [00:00<?, ?it/s]"
      ]
     },
     "metadata": {},
     "output_type": "display_data"
    },
    {
     "data": {
      "application/vnd.jupyter.widget-view+json": {
       "model_id": "771558b637644b3e95b8149fd3876891",
       "version_major": 2,
       "version_minor": 0
      },
      "text/plain": [
       "test:   0%|          | 0/10000 [00:00<?, ?it/s]"
      ]
     },
     "metadata": {},
     "output_type": "display_data"
    },
    {
     "name": "stdout",
     "output_type": "stream",
     "text": [
      "train: {'accuracy': 0.50265} loss: 4.856784200347271\n",
      "train val: {'accuracy': 0.5531} loss: 0.6931240751743316\n",
      "test: {'accuracy': 0.486} loss: 0.6931501620054245\n",
      "epoch time: 15.78min\n",
      "epoch 12\n"
     ]
    },
    {
     "data": {
      "application/vnd.jupyter.widget-view+json": {
       "model_id": "24fa4a6e69df4daf8967175602ff7d70",
       "version_major": 2,
       "version_minor": 0
      },
      "text/plain": [
       "train:   0%|          | 0/20000 [00:00<?, ?it/s]"
      ]
     },
     "metadata": {},
     "output_type": "display_data"
    },
    {
     "data": {
      "application/vnd.jupyter.widget-view+json": {
       "model_id": "391a7ae760024f16b10a7686b733ed76",
       "version_major": 2,
       "version_minor": 0
      },
      "text/plain": [
       "train val:   0%|          | 0/10000 [00:00<?, ?it/s]"
      ]
     },
     "metadata": {},
     "output_type": "display_data"
    },
    {
     "data": {
      "application/vnd.jupyter.widget-view+json": {
       "model_id": "73f151a643854603a6a13901ad8d391f",
       "version_major": 2,
       "version_minor": 0
      },
      "text/plain": [
       "test:   0%|          | 0/10000 [00:00<?, ?it/s]"
      ]
     },
     "metadata": {},
     "output_type": "display_data"
    },
    {
     "name": "stdout",
     "output_type": "stream",
     "text": [
      "train: {'accuracy': 0.50195} loss: 3.7240962373980566\n",
      "train val: {'accuracy': 0.5286} loss: 0.6931394065856934\n",
      "test: {'accuracy': 0.4948} loss: 0.693148525261879\n",
      "epoch time: 15.73min\n",
      "epoch 13\n"
     ]
    },
    {
     "data": {
      "application/vnd.jupyter.widget-view+json": {
       "model_id": "33a4ce47977f4c4bb2dd804fcefab908",
       "version_major": 2,
       "version_minor": 0
      },
      "text/plain": [
       "train:   0%|          | 0/20000 [00:00<?, ?it/s]"
      ]
     },
     "metadata": {},
     "output_type": "display_data"
    },
    {
     "data": {
      "application/vnd.jupyter.widget-view+json": {
       "model_id": "188ef526267445b49592d9fa8cc0e096",
       "version_major": 2,
       "version_minor": 0
      },
      "text/plain": [
       "train val:   0%|          | 0/10000 [00:00<?, ?it/s]"
      ]
     },
     "metadata": {},
     "output_type": "display_data"
    },
    {
     "data": {
      "application/vnd.jupyter.widget-view+json": {
       "model_id": "6e77cee78d084f619b937d0cf2495bae",
       "version_major": 2,
       "version_minor": 0
      },
      "text/plain": [
       "test:   0%|          | 0/10000 [00:00<?, ?it/s]"
      ]
     },
     "metadata": {},
     "output_type": "display_data"
    },
    {
     "name": "stdout",
     "output_type": "stream",
     "text": [
      "train: {'accuracy': 0.50375} loss: 2.9978565034908238\n",
      "train val: {'accuracy': 0.4934} loss: 0.6931497947692871\n",
      "test: {'accuracy': 0.5014} loss: 0.6931455955743789\n",
      "epoch time: 16.00min\n",
      "epoch 14\n"
     ]
    },
    {
     "data": {
      "application/vnd.jupyter.widget-view+json": {
       "model_id": "e0eab571a1a14bdca1cd1c736457bef7",
       "version_major": 2,
       "version_minor": 0
      },
      "text/plain": [
       "train:   0%|          | 0/20000 [00:00<?, ?it/s]"
      ]
     },
     "metadata": {},
     "output_type": "display_data"
    },
    {
     "data": {
      "application/vnd.jupyter.widget-view+json": {
       "model_id": "b3782e2184d94afdb10268f379d69f37",
       "version_major": 2,
       "version_minor": 0
      },
      "text/plain": [
       "train val:   0%|          | 0/10000 [00:00<?, ?it/s]"
      ]
     },
     "metadata": {},
     "output_type": "display_data"
    },
    {
     "data": {
      "application/vnd.jupyter.widget-view+json": {
       "model_id": "391a00309c5b4c28aa1fa9a4cba1ff99",
       "version_major": 2,
       "version_minor": 0
      },
      "text/plain": [
       "test:   0%|          | 0/10000 [00:00<?, ?it/s]"
      ]
     },
     "metadata": {},
     "output_type": "display_data"
    },
    {
     "name": "stdout",
     "output_type": "stream",
     "text": [
      "train: {'accuracy': 0.50245} loss: 2.418153400265667\n",
      "train val: {'accuracy': 0.4784} loss: 0.6931614898920059\n",
      "test: {'accuracy': 0.4959} loss: 0.6931492459535599\n",
      "epoch time: 15.93min\n",
      "epoch 15\n"
     ]
    },
    {
     "data": {
      "application/vnd.jupyter.widget-view+json": {
       "model_id": "397c9bdd75324ea999c47d48a087aea0",
       "version_major": 2,
       "version_minor": 0
      },
      "text/plain": [
       "train:   0%|          | 0/20000 [00:00<?, ?it/s]"
      ]
     },
     "metadata": {},
     "output_type": "display_data"
    },
    {
     "data": {
      "application/vnd.jupyter.widget-view+json": {
       "model_id": "44e11666e66f405195c4c8791318d7fc",
       "version_major": 2,
       "version_minor": 0
      },
      "text/plain": [
       "train val:   0%|          | 0/10000 [00:00<?, ?it/s]"
      ]
     },
     "metadata": {},
     "output_type": "display_data"
    },
    {
     "data": {
      "application/vnd.jupyter.widget-view+json": {
       "model_id": "57de8e5837cb40daaad7888b2228cf0b",
       "version_major": 2,
       "version_minor": 0
      },
      "text/plain": [
       "test:   0%|          | 0/10000 [00:00<?, ?it/s]"
      ]
     },
     "metadata": {},
     "output_type": "display_data"
    },
    {
     "name": "stdout",
     "output_type": "stream",
     "text": [
      "train: {'accuracy': 0.4979} loss: 2.0935098392324756\n",
      "train val: {'accuracy': 0.5463} loss: 0.6931271878004074\n",
      "test: {'accuracy': 0.4952} loss: 0.6931490626811981\n",
      "epoch time: 16.22min\n",
      "epoch 16\n"
     ]
    },
    {
     "data": {
      "application/vnd.jupyter.widget-view+json": {
       "model_id": "8aa331be24b5429683949dc58d618946",
       "version_major": 2,
       "version_minor": 0
      },
      "text/plain": [
       "train:   0%|          | 0/20000 [00:00<?, ?it/s]"
      ]
     },
     "metadata": {},
     "output_type": "display_data"
    },
    {
     "data": {
      "application/vnd.jupyter.widget-view+json": {
       "model_id": "f0dc8d8670f74df9995185cfe2c75f00",
       "version_major": 2,
       "version_minor": 0
      },
      "text/plain": [
       "train val:   0%|          | 0/10000 [00:00<?, ?it/s]"
      ]
     },
     "metadata": {},
     "output_type": "display_data"
    },
    {
     "data": {
      "application/vnd.jupyter.widget-view+json": {
       "model_id": "cc5c61790bdb4eeeb35966bd651673f7",
       "version_major": 2,
       "version_minor": 0
      },
      "text/plain": [
       "test:   0%|          | 0/10000 [00:00<?, ?it/s]"
      ]
     },
     "metadata": {},
     "output_type": "display_data"
    },
    {
     "name": "stdout",
     "output_type": "stream",
     "text": [
      "train: {'accuracy': 0.49475} loss: 1.710819789071195\n",
      "train val: {'accuracy': 0.5126} loss: 0.6931424585819245\n",
      "test: {'accuracy': 0.4935} loss: 0.6931490379571915\n",
      "epoch time: 15.67min\n",
      "epoch 17\n"
     ]
    },
    {
     "data": {
      "application/vnd.jupyter.widget-view+json": {
       "model_id": "8aa78cb2d15c48f9a4984ba2bd6fad04",
       "version_major": 2,
       "version_minor": 0
      },
      "text/plain": [
       "train:   0%|          | 0/20000 [00:00<?, ?it/s]"
      ]
     },
     "metadata": {},
     "output_type": "display_data"
    },
    {
     "data": {
      "application/vnd.jupyter.widget-view+json": {
       "model_id": "05c0ae6f9f714780a5cd7c4c7e124a6d",
       "version_major": 2,
       "version_minor": 0
      },
      "text/plain": [
       "train val:   0%|          | 0/10000 [00:00<?, ?it/s]"
      ]
     },
     "metadata": {},
     "output_type": "display_data"
    },
    {
     "data": {
      "application/vnd.jupyter.widget-view+json": {
       "model_id": "c4c3a955f571460a9965785d9ab1acad",
       "version_major": 2,
       "version_minor": 0
      },
      "text/plain": [
       "test:   0%|          | 0/10000 [00:00<?, ?it/s]"
      ]
     },
     "metadata": {},
     "output_type": "display_data"
    },
    {
     "name": "stdout",
     "output_type": "stream",
     "text": [
      "train: {'accuracy': 0.4958} loss: 1.4872780491665938\n",
      "train val: {'accuracy': 0.5406} loss: 0.693048208141327\n",
      "test: {'accuracy': 0.4985} loss: 0.6931447621107102\n",
      "epoch time: 15.87min\n",
      "epoch 18\n"
     ]
    },
    {
     "data": {
      "application/vnd.jupyter.widget-view+json": {
       "model_id": "2019251d6e144e5c97243b33edce8ced",
       "version_major": 2,
       "version_minor": 0
      },
      "text/plain": [
       "train:   0%|          | 0/20000 [00:00<?, ?it/s]"
      ]
     },
     "metadata": {},
     "output_type": "display_data"
    },
    {
     "data": {
      "application/vnd.jupyter.widget-view+json": {
       "model_id": "35def64e4fbc4db7a3e29d3c935b8f32",
       "version_major": 2,
       "version_minor": 0
      },
      "text/plain": [
       "train val:   0%|          | 0/10000 [00:00<?, ?it/s]"
      ]
     },
     "metadata": {},
     "output_type": "display_data"
    },
    {
     "data": {
      "application/vnd.jupyter.widget-view+json": {
       "model_id": "311ee5a3259d4774af4a8cbb293b0a3c",
       "version_major": 2,
       "version_minor": 0
      },
      "text/plain": [
       "test:   0%|          | 0/10000 [00:00<?, ?it/s]"
      ]
     },
     "metadata": {},
     "output_type": "display_data"
    },
    {
     "name": "stdout",
     "output_type": "stream",
     "text": [
      "train: {'accuracy': 0.50465} loss: 2.881600488134119\n",
      "train val: {'accuracy': 0.5955} loss: 0.7231557749271392\n",
      "test: {'accuracy': 0.5184} loss: 0.8494689993262291\n",
      "epoch time: 15.52min\n",
      "epoch 19\n"
     ]
    },
    {
     "data": {
      "application/vnd.jupyter.widget-view+json": {
       "model_id": "7b5cae3c206a4cdc9ecac914b9751886",
       "version_major": 2,
       "version_minor": 0
      },
      "text/plain": [
       "train:   0%|          | 0/20000 [00:00<?, ?it/s]"
      ]
     },
     "metadata": {},
     "output_type": "display_data"
    },
    {
     "data": {
      "application/vnd.jupyter.widget-view+json": {
       "model_id": "da89618786864e0ebb9e3115bf62ac68",
       "version_major": 2,
       "version_minor": 0
      },
      "text/plain": [
       "train val:   0%|          | 0/10000 [00:00<?, ?it/s]"
      ]
     },
     "metadata": {},
     "output_type": "display_data"
    },
    {
     "data": {
      "application/vnd.jupyter.widget-view+json": {
       "model_id": "1420356979674da3839093a4c19970b3",
       "version_major": 2,
       "version_minor": 0
      },
      "text/plain": [
       "test:   0%|          | 0/10000 [00:00<?, ?it/s]"
      ]
     },
     "metadata": {},
     "output_type": "display_data"
    },
    {
     "name": "stdout",
     "output_type": "stream",
     "text": [
      "train: {'accuracy': 0.4973} loss: 1.7868125592696247\n",
      "train val: {'accuracy': 0.4943} loss: 0.702419086766243\n",
      "test: {'accuracy': 0.4962} loss: 0.7322219789385795\n",
      "epoch time: 15.81min\n",
      "epoch 20\n"
     ]
    },
    {
     "data": {
      "application/vnd.jupyter.widget-view+json": {
       "model_id": "37b0a7dc9a9e4efb9eea93053d0a1266",
       "version_major": 2,
       "version_minor": 0
      },
      "text/plain": [
       "train:   0%|          | 0/20000 [00:00<?, ?it/s]"
      ]
     },
     "metadata": {},
     "output_type": "display_data"
    },
    {
     "data": {
      "application/vnd.jupyter.widget-view+json": {
       "model_id": "09c9e36102fd4a409ba71683c1150e07",
       "version_major": 2,
       "version_minor": 0
      },
      "text/plain": [
       "train val:   0%|          | 0/10000 [00:00<?, ?it/s]"
      ]
     },
     "metadata": {},
     "output_type": "display_data"
    },
    {
     "data": {
      "application/vnd.jupyter.widget-view+json": {
       "model_id": "609287a35e4f446eb5867ddcfd206567",
       "version_major": 2,
       "version_minor": 0
      },
      "text/plain": [
       "test:   0%|          | 0/10000 [00:00<?, ?it/s]"
      ]
     },
     "metadata": {},
     "output_type": "display_data"
    },
    {
     "name": "stdout",
     "output_type": "stream",
     "text": [
      "train: {'accuracy': 0.4968} loss: 1.3294474137319252\n",
      "train val: {'accuracy': 0.5948} loss: 0.6953262700796128\n",
      "test: {'accuracy': 0.5061} loss: 0.7069197916030884\n",
      "epoch time: 15.93min\n",
      "epoch 21\n"
     ]
    },
    {
     "data": {
      "application/vnd.jupyter.widget-view+json": {
       "model_id": "f7f9f3285cf14353926fb17059286097",
       "version_major": 2,
       "version_minor": 0
      },
      "text/plain": [
       "train:   0%|          | 0/20000 [00:00<?, ?it/s]"
      ]
     },
     "metadata": {},
     "output_type": "display_data"
    },
    {
     "data": {
      "application/vnd.jupyter.widget-view+json": {
       "model_id": "fbf9c6e16f9d488babb53b883a03f041",
       "version_major": 2,
       "version_minor": 0
      },
      "text/plain": [
       "train val:   0%|          | 0/10000 [00:00<?, ?it/s]"
      ]
     },
     "metadata": {},
     "output_type": "display_data"
    },
    {
     "data": {
      "application/vnd.jupyter.widget-view+json": {
       "model_id": "094e0402a6ec4cc2b34acc734d1d3218",
       "version_major": 2,
       "version_minor": 0
      },
      "text/plain": [
       "test:   0%|          | 0/10000 [00:00<?, ?it/s]"
      ]
     },
     "metadata": {},
     "output_type": "display_data"
    },
    {
     "name": "stdout",
     "output_type": "stream",
     "text": [
      "train: {'accuracy': 0.50025} loss: 1.0306217489995062\n",
      "train val: {'accuracy': 0.5483} loss: 0.6931062350511551\n",
      "test: {'accuracy': 0.4869} loss: 0.6931647469282151\n",
      "epoch time: 15.78min\n",
      "epoch 22\n"
     ]
    },
    {
     "data": {
      "application/vnd.jupyter.widget-view+json": {
       "model_id": "6a91159a926f4a6a9151f3ae4976c972",
       "version_major": 2,
       "version_minor": 0
      },
      "text/plain": [
       "train:   0%|          | 0/20000 [00:00<?, ?it/s]"
      ]
     },
     "metadata": {},
     "output_type": "display_data"
    },
    {
     "data": {
      "application/vnd.jupyter.widget-view+json": {
       "model_id": "70aae5b41d464f459dc3e3dd09113ce3",
       "version_major": 2,
       "version_minor": 0
      },
      "text/plain": [
       "train val:   0%|          | 0/10000 [00:00<?, ?it/s]"
      ]
     },
     "metadata": {},
     "output_type": "display_data"
    },
    {
     "data": {
      "application/vnd.jupyter.widget-view+json": {
       "model_id": "03760ac8e16f4652b8ad6c54c071ec60",
       "version_major": 2,
       "version_minor": 0
      },
      "text/plain": [
       "test:   0%|          | 0/10000 [00:00<?, ?it/s]"
      ]
     },
     "metadata": {},
     "output_type": "display_data"
    },
    {
     "name": "stdout",
     "output_type": "stream",
     "text": [
      "train: {'accuracy': 0.49715} loss: 0.9765520164430141\n",
      "train val: {'accuracy': 0.5583} loss: 0.6924959521532059\n",
      "test: {'accuracy': 0.4848} loss: 0.6931851873397827\n",
      "epoch time: 15.74min\n",
      "epoch 23\n"
     ]
    },
    {
     "data": {
      "application/vnd.jupyter.widget-view+json": {
       "model_id": "47111a90f99645df8cc5583595c7a50d",
       "version_major": 2,
       "version_minor": 0
      },
      "text/plain": [
       "train:   0%|          | 0/20000 [00:00<?, ?it/s]"
      ]
     },
     "metadata": {},
     "output_type": "display_data"
    },
    {
     "data": {
      "application/vnd.jupyter.widget-view+json": {
       "model_id": "1783be7d2d614a87a37e08b2889fb837",
       "version_major": 2,
       "version_minor": 0
      },
      "text/plain": [
       "train val:   0%|          | 0/10000 [00:00<?, ?it/s]"
      ]
     },
     "metadata": {},
     "output_type": "display_data"
    },
    {
     "data": {
      "application/vnd.jupyter.widget-view+json": {
       "model_id": "a54008de90394a759311aeaf26e072fd",
       "version_major": 2,
       "version_minor": 0
      },
      "text/plain": [
       "test:   0%|          | 0/10000 [00:00<?, ?it/s]"
      ]
     },
     "metadata": {},
     "output_type": "display_data"
    },
    {
     "name": "stdout",
     "output_type": "stream",
     "text": [
      "train: {'accuracy': 0.49615} loss: 0.9324944511801004\n",
      "train val: {'accuracy': 0.4385} loss: 0.6932542025089264\n",
      "test: {'accuracy': 0.501} loss: 0.6931529967546463\n",
      "epoch time: 16.01min\n",
      "epoch 24\n"
     ]
    },
    {
     "data": {
      "application/vnd.jupyter.widget-view+json": {
       "model_id": "787ed395548e4ab6ab99e3ac6ee493e0",
       "version_major": 2,
       "version_minor": 0
      },
      "text/plain": [
       "train:   0%|          | 0/20000 [00:00<?, ?it/s]"
      ]
     },
     "metadata": {},
     "output_type": "display_data"
    },
    {
     "data": {
      "application/vnd.jupyter.widget-view+json": {
       "model_id": "d474aa43d1154389890b821f1d5ff208",
       "version_major": 2,
       "version_minor": 0
      },
      "text/plain": [
       "train val:   0%|          | 0/10000 [00:00<?, ?it/s]"
      ]
     },
     "metadata": {},
     "output_type": "display_data"
    },
    {
     "data": {
      "application/vnd.jupyter.widget-view+json": {
       "model_id": "a21efb1bfd634a91bb0c89f853bbdd84",
       "version_major": 2,
       "version_minor": 0
      },
      "text/plain": [
       "test:   0%|          | 0/10000 [00:00<?, ?it/s]"
      ]
     },
     "metadata": {},
     "output_type": "display_data"
    },
    {
     "name": "stdout",
     "output_type": "stream",
     "text": [
      "train: {'accuracy': 0.50145} loss: 0.8778518315240741\n",
      "train val: {'accuracy': 0.5689} loss: 0.6930576257228851\n",
      "test: {'accuracy': 0.482} loss: 0.6931562332391739\n",
      "epoch time: 16.01min\n",
      "epoch 25\n"
     ]
    },
    {
     "data": {
      "application/vnd.jupyter.widget-view+json": {
       "model_id": "0d13972a5fb14b1aa33bb83eb1afe94a",
       "version_major": 2,
       "version_minor": 0
      },
      "text/plain": [
       "train:   0%|          | 0/20000 [00:00<?, ?it/s]"
      ]
     },
     "metadata": {},
     "output_type": "display_data"
    },
    {
     "data": {
      "application/vnd.jupyter.widget-view+json": {
       "model_id": "8e2a7c59237b49a1abef6ce53a15cdf4",
       "version_major": 2,
       "version_minor": 0
      },
      "text/plain": [
       "train val:   0%|          | 0/10000 [00:00<?, ?it/s]"
      ]
     },
     "metadata": {},
     "output_type": "display_data"
    },
    {
     "data": {
      "application/vnd.jupyter.widget-view+json": {
       "model_id": "3062e5f6df5b4a5c92c12e75bde1cddb",
       "version_major": 2,
       "version_minor": 0
      },
      "text/plain": [
       "test:   0%|          | 0/10000 [00:00<?, ?it/s]"
      ]
     },
     "metadata": {},
     "output_type": "display_data"
    },
    {
     "name": "stdout",
     "output_type": "stream",
     "text": [
      "train: {'accuracy': 0.5014} loss: 0.84261955152452\n",
      "train val: {'accuracy': 0.4398} loss: 0.6930391448497772\n",
      "test: {'accuracy': 0.5181} loss: 0.6918151673078538\n",
      "epoch time: 15.78min\n",
      "epoch 26\n"
     ]
    },
    {
     "data": {
      "application/vnd.jupyter.widget-view+json": {
       "model_id": "62719deb206145d892372f25a796a06d",
       "version_major": 2,
       "version_minor": 0
      },
      "text/plain": [
       "train:   0%|          | 0/20000 [00:00<?, ?it/s]"
      ]
     },
     "metadata": {},
     "output_type": "display_data"
    },
    {
     "data": {
      "application/vnd.jupyter.widget-view+json": {
       "model_id": "ed0b7184483243fd9e45a252427b63ec",
       "version_major": 2,
       "version_minor": 0
      },
      "text/plain": [
       "train val:   0%|          | 0/10000 [00:00<?, ?it/s]"
      ]
     },
     "metadata": {},
     "output_type": "display_data"
    },
    {
     "data": {
      "application/vnd.jupyter.widget-view+json": {
       "model_id": "3889d3dd28e5492f89d25f3a779d84e9",
       "version_major": 2,
       "version_minor": 0
      },
      "text/plain": [
       "test:   0%|          | 0/10000 [00:00<?, ?it/s]"
      ]
     },
     "metadata": {},
     "output_type": "display_data"
    },
    {
     "name": "stdout",
     "output_type": "stream",
     "text": [
      "train: {'accuracy': 0.5005} loss: 0.8216227032482624\n",
      "train val: {'accuracy': 0.6058} loss: 0.6570997936964035\n",
      "test: {'accuracy': 0.4789} loss: 0.7341879445791244\n",
      "epoch time: 16.14min\n",
      "epoch 27\n"
     ]
    },
    {
     "data": {
      "application/vnd.jupyter.widget-view+json": {
       "model_id": "955a93399e114f308eae6430bae2945b",
       "version_major": 2,
       "version_minor": 0
      },
      "text/plain": [
       "train:   0%|          | 0/20000 [00:00<?, ?it/s]"
      ]
     },
     "metadata": {},
     "output_type": "display_data"
    },
    {
     "data": {
      "application/vnd.jupyter.widget-view+json": {
       "model_id": "f4f6ff08115b4a02863c0f8b941ee8fe",
       "version_major": 2,
       "version_minor": 0
      },
      "text/plain": [
       "train val:   0%|          | 0/10000 [00:00<?, ?it/s]"
      ]
     },
     "metadata": {},
     "output_type": "display_data"
    },
    {
     "data": {
      "application/vnd.jupyter.widget-view+json": {
       "model_id": "cd675ed48eba4e94b299faffdba36edd",
       "version_major": 2,
       "version_minor": 0
      },
      "text/plain": [
       "test:   0%|          | 0/10000 [00:00<?, ?it/s]"
      ]
     },
     "metadata": {},
     "output_type": "display_data"
    },
    {
     "name": "stdout",
     "output_type": "stream",
     "text": [
      "train: {'accuracy': 0.50635} loss: 0.850709900663793\n",
      "train val: {'accuracy': 0.4729} loss: 0.6883407987117768\n",
      "test: {'accuracy': 0.4986} loss: 0.6937460000991821\n",
      "epoch time: 15.90min\n",
      "epoch 28\n"
     ]
    },
    {
     "data": {
      "application/vnd.jupyter.widget-view+json": {
       "model_id": "bf2bbb4c95694e4a950c5ff7c96969d5",
       "version_major": 2,
       "version_minor": 0
      },
      "text/plain": [
       "train:   0%|          | 0/20000 [00:00<?, ?it/s]"
      ]
     },
     "metadata": {},
     "output_type": "display_data"
    },
    {
     "data": {
      "application/vnd.jupyter.widget-view+json": {
       "model_id": "db987d76e5b84451bc27ae1804fc1981",
       "version_major": 2,
       "version_minor": 0
      },
      "text/plain": [
       "train val:   0%|          | 0/10000 [00:00<?, ?it/s]"
      ]
     },
     "metadata": {},
     "output_type": "display_data"
    },
    {
     "data": {
      "application/vnd.jupyter.widget-view+json": {
       "model_id": "2d6265fb40384b00b1d39a06fedc0c28",
       "version_major": 2,
       "version_minor": 0
      },
      "text/plain": [
       "test:   0%|          | 0/10000 [00:00<?, ?it/s]"
      ]
     },
     "metadata": {},
     "output_type": "display_data"
    },
    {
     "name": "stdout",
     "output_type": "stream",
     "text": [
      "train: {'accuracy': 0.50465} loss: 0.7543868218481541\n",
      "train val: {'accuracy': 0.6133} loss: 0.6613406552791595\n",
      "test: {'accuracy': 0.5017} loss: 0.6977592961311341\n",
      "epoch time: 15.95min\n",
      "epoch 29\n"
     ]
    },
    {
     "data": {
      "application/vnd.jupyter.widget-view+json": {
       "model_id": "eb870f93c2424299942910b9f3e2e5ed",
       "version_major": 2,
       "version_minor": 0
      },
      "text/plain": [
       "train:   0%|          | 0/20000 [00:00<?, ?it/s]"
      ]
     },
     "metadata": {},
     "output_type": "display_data"
    },
    {
     "data": {
      "application/vnd.jupyter.widget-view+json": {
       "model_id": "c148e3dd944d4ff78525771fc7437d7a",
       "version_major": 2,
       "version_minor": 0
      },
      "text/plain": [
       "train val:   0%|          | 0/10000 [00:00<?, ?it/s]"
      ]
     },
     "metadata": {},
     "output_type": "display_data"
    },
    {
     "data": {
      "application/vnd.jupyter.widget-view+json": {
       "model_id": "1b2080d025444379bf8d8d6e55497cf7",
       "version_major": 2,
       "version_minor": 0
      },
      "text/plain": [
       "test:   0%|          | 0/10000 [00:00<?, ?it/s]"
      ]
     },
     "metadata": {},
     "output_type": "display_data"
    },
    {
     "name": "stdout",
     "output_type": "stream",
     "text": [
      "train: {'accuracy': 0.5091} loss: 0.7595095428735018\n",
      "train val: {'accuracy': 0.6189} loss: 0.6516192964315415\n",
      "test: {'accuracy': 0.5183} loss: 0.6913807391405106\n",
      "epoch time: 15.74min\n",
      "epoch 30\n"
     ]
    },
    {
     "data": {
      "application/vnd.jupyter.widget-view+json": {
       "model_id": "c0175d744850441db7ad88fabd362286",
       "version_major": 2,
       "version_minor": 0
      },
      "text/plain": [
       "train:   0%|          | 0/20000 [00:00<?, ?it/s]"
      ]
     },
     "metadata": {},
     "output_type": "display_data"
    },
    {
     "data": {
      "application/vnd.jupyter.widget-view+json": {
       "model_id": "d2c5ae09f6e647469e908b5d7249c990",
       "version_major": 2,
       "version_minor": 0
      },
      "text/plain": [
       "train val:   0%|          | 0/10000 [00:00<?, ?it/s]"
      ]
     },
     "metadata": {},
     "output_type": "display_data"
    },
    {
     "data": {
      "application/vnd.jupyter.widget-view+json": {
       "model_id": "0f824dfa03224b5ebfb3c9fd89e91901",
       "version_major": 2,
       "version_minor": 0
      },
      "text/plain": [
       "test:   0%|          | 0/10000 [00:00<?, ?it/s]"
      ]
     },
     "metadata": {},
     "output_type": "display_data"
    },
    {
     "name": "stdout",
     "output_type": "stream",
     "text": [
      "train: {'accuracy': 0.54985} loss: 1.4770074505329132\n",
      "train val: {'accuracy': 0.6389} loss: 0.6136519784927368\n",
      "test: {'accuracy': 0.4989} loss: 0.7080599735975266\n",
      "epoch time: 16.69min\n",
      "epoch 31\n"
     ]
    },
    {
     "data": {
      "application/vnd.jupyter.widget-view+json": {
       "model_id": "f445f82479334d75bab29451b85b22df",
       "version_major": 2,
       "version_minor": 0
      },
      "text/plain": [
       "train:   0%|          | 0/20000 [00:00<?, ?it/s]"
      ]
     },
     "metadata": {},
     "output_type": "display_data"
    },
    {
     "data": {
      "application/vnd.jupyter.widget-view+json": {
       "model_id": "4742c1917b1e4ab39029e3085ac072f8",
       "version_major": 2,
       "version_minor": 0
      },
      "text/plain": [
       "train val:   0%|          | 0/10000 [00:00<?, ?it/s]"
      ]
     },
     "metadata": {},
     "output_type": "display_data"
    },
    {
     "data": {
      "application/vnd.jupyter.widget-view+json": {
       "model_id": "ab5131f7782845d9bb603b7a0009e17c",
       "version_major": 2,
       "version_minor": 0
      },
      "text/plain": [
       "test:   0%|          | 0/10000 [00:00<?, ?it/s]"
      ]
     },
     "metadata": {},
     "output_type": "display_data"
    },
    {
     "name": "stdout",
     "output_type": "stream",
     "text": [
      "train: {'accuracy': 0.54545} loss: 1.4483389072270598\n",
      "train val: {'accuracy': 0.6098} loss: 0.6309693775773049\n",
      "test: {'accuracy': 0.5132} loss: 0.7067063385009765\n",
      "epoch time: 15.65min\n",
      "epoch 32\n"
     ]
    },
    {
     "data": {
      "application/vnd.jupyter.widget-view+json": {
       "model_id": "e1ac1b92750a49d09b8a58bcee9c8d5c",
       "version_major": 2,
       "version_minor": 0
      },
      "text/plain": [
       "train:   0%|          | 0/20000 [00:00<?, ?it/s]"
      ]
     },
     "metadata": {},
     "output_type": "display_data"
    },
    {
     "data": {
      "application/vnd.jupyter.widget-view+json": {
       "model_id": "87065246d0d8497da38a89f46cb28a2d",
       "version_major": 2,
       "version_minor": 0
      },
      "text/plain": [
       "train val:   0%|          | 0/10000 [00:00<?, ?it/s]"
      ]
     },
     "metadata": {},
     "output_type": "display_data"
    },
    {
     "data": {
      "application/vnd.jupyter.widget-view+json": {
       "model_id": "06a334fd1bcd4efa892557ebfece8e4d",
       "version_major": 2,
       "version_minor": 0
      },
      "text/plain": [
       "test:   0%|          | 0/10000 [00:00<?, ?it/s]"
      ]
     },
     "metadata": {},
     "output_type": "display_data"
    },
    {
     "name": "stdout",
     "output_type": "stream",
     "text": [
      "train: {'accuracy': 0.57485} loss: 0.7202538917973638\n",
      "train val: {'accuracy': 0.6384} loss: 0.642916285777092\n",
      "test: {'accuracy': 0.5305} loss: 0.69418661454916\n",
      "epoch time: 16.07min\n",
      "epoch 33\n"
     ]
    },
    {
     "data": {
      "application/vnd.jupyter.widget-view+json": {
       "model_id": "1d52d61f3382448ba7b808150e8c17cc",
       "version_major": 2,
       "version_minor": 0
      },
      "text/plain": [
       "train:   0%|          | 0/20000 [00:00<?, ?it/s]"
      ]
     },
     "metadata": {},
     "output_type": "display_data"
    },
    {
     "data": {
      "application/vnd.jupyter.widget-view+json": {
       "model_id": "10103a259ba84eb6883891264ff21532",
       "version_major": 2,
       "version_minor": 0
      },
      "text/plain": [
       "train val:   0%|          | 0/10000 [00:00<?, ?it/s]"
      ]
     },
     "metadata": {},
     "output_type": "display_data"
    },
    {
     "data": {
      "application/vnd.jupyter.widget-view+json": {
       "model_id": "86044a19a87540bfb30ef04b7a21fa40",
       "version_major": 2,
       "version_minor": 0
      },
      "text/plain": [
       "test:   0%|          | 0/10000 [00:00<?, ?it/s]"
      ]
     },
     "metadata": {},
     "output_type": "display_data"
    },
    {
     "name": "stdout",
     "output_type": "stream",
     "text": [
      "train: {'accuracy': 0.58405} loss: 0.6609686676174402\n",
      "train val: {'accuracy': 0.6478} loss: 0.6315303629040718\n",
      "test: {'accuracy': 0.5104} loss: 0.6917122703909874\n",
      "epoch time: 15.89min\n",
      "epoch 34\n"
     ]
    },
    {
     "data": {
      "application/vnd.jupyter.widget-view+json": {
       "model_id": "f96fd621966e4e319e04097dce709bfe",
       "version_major": 2,
       "version_minor": 0
      },
      "text/plain": [
       "train:   0%|          | 0/20000 [00:00<?, ?it/s]"
      ]
     },
     "metadata": {},
     "output_type": "display_data"
    },
    {
     "data": {
      "application/vnd.jupyter.widget-view+json": {
       "model_id": "bc81e995aa3748a4b297508810f32b96",
       "version_major": 2,
       "version_minor": 0
      },
      "text/plain": [
       "train val:   0%|          | 0/10000 [00:00<?, ?it/s]"
      ]
     },
     "metadata": {},
     "output_type": "display_data"
    },
    {
     "data": {
      "application/vnd.jupyter.widget-view+json": {
       "model_id": "bf8f5c5c2c904a6ab726c7220678002b",
       "version_major": 2,
       "version_minor": 0
      },
      "text/plain": [
       "test:   0%|          | 0/10000 [00:00<?, ?it/s]"
      ]
     },
     "metadata": {},
     "output_type": "display_data"
    },
    {
     "name": "stdout",
     "output_type": "stream",
     "text": [
      "train: {'accuracy': 0.59065} loss: 0.6650344816684723\n",
      "train val: {'accuracy': 0.6408} loss: 0.5896816130876541\n",
      "test: {'accuracy': 0.5155} loss: 0.6889377160787582\n",
      "epoch time: 15.96min\n",
      "epoch 35\n"
     ]
    },
    {
     "data": {
      "application/vnd.jupyter.widget-view+json": {
       "model_id": "6b78920aa7fc472ea16ee9e02c2b2b4a",
       "version_major": 2,
       "version_minor": 0
      },
      "text/plain": [
       "train:   0%|          | 0/20000 [00:00<?, ?it/s]"
      ]
     },
     "metadata": {},
     "output_type": "display_data"
    },
    {
     "data": {
      "application/vnd.jupyter.widget-view+json": {
       "model_id": "dab12d43206d40ed8388f3958c6b61e0",
       "version_major": 2,
       "version_minor": 0
      },
      "text/plain": [
       "train val:   0%|          | 0/10000 [00:00<?, ?it/s]"
      ]
     },
     "metadata": {},
     "output_type": "display_data"
    },
    {
     "data": {
      "application/vnd.jupyter.widget-view+json": {
       "model_id": "d2c20505b05a4874b094c88d9fc24e7e",
       "version_major": 2,
       "version_minor": 0
      },
      "text/plain": [
       "test:   0%|          | 0/10000 [00:00<?, ?it/s]"
      ]
     },
     "metadata": {},
     "output_type": "display_data"
    },
    {
     "name": "stdout",
     "output_type": "stream",
     "text": [
      "train: {'accuracy': 0.58785} loss: 0.6689139528974891\n",
      "train val: {'accuracy': 0.6391} loss: 0.6152003086686134\n",
      "test: {'accuracy': 0.5011} loss: 0.6926184389710426\n",
      "epoch time: 15.76min\n",
      "epoch 36\n"
     ]
    },
    {
     "data": {
      "application/vnd.jupyter.widget-view+json": {
       "model_id": "c109574b298d4f1eb31aae800903ad3c",
       "version_major": 2,
       "version_minor": 0
      },
      "text/plain": [
       "train:   0%|          | 0/20000 [00:00<?, ?it/s]"
      ]
     },
     "metadata": {},
     "output_type": "display_data"
    },
    {
     "data": {
      "application/vnd.jupyter.widget-view+json": {
       "model_id": "9c659332728b4c32bab34bf23929c9e5",
       "version_major": 2,
       "version_minor": 0
      },
      "text/plain": [
       "train val:   0%|          | 0/10000 [00:00<?, ?it/s]"
      ]
     },
     "metadata": {},
     "output_type": "display_data"
    },
    {
     "data": {
      "application/vnd.jupyter.widget-view+json": {
       "model_id": "de71b099a578426c9f31dde6769cf351",
       "version_major": 2,
       "version_minor": 0
      },
      "text/plain": [
       "test:   0%|          | 0/10000 [00:00<?, ?it/s]"
      ]
     },
     "metadata": {},
     "output_type": "display_data"
    },
    {
     "name": "stdout",
     "output_type": "stream",
     "text": [
      "train: {'accuracy': 0.5878} loss: 0.660241052659601\n",
      "train val: {'accuracy': 0.6393} loss: 0.6157842682957649\n",
      "test: {'accuracy': 0.5142} loss: 0.6895527868032455\n",
      "epoch time: 16.31min\n",
      "epoch 37\n"
     ]
    },
    {
     "data": {
      "application/vnd.jupyter.widget-view+json": {
       "model_id": "48f32d4bd1bc462ca2c43bee32fe8dfb",
       "version_major": 2,
       "version_minor": 0
      },
      "text/plain": [
       "train:   0%|          | 0/20000 [00:00<?, ?it/s]"
      ]
     },
     "metadata": {},
     "output_type": "display_data"
    },
    {
     "data": {
      "application/vnd.jupyter.widget-view+json": {
       "model_id": "7b2c73287cab492fb7fedad0d611fad5",
       "version_major": 2,
       "version_minor": 0
      },
      "text/plain": [
       "train val:   0%|          | 0/10000 [00:00<?, ?it/s]"
      ]
     },
     "metadata": {},
     "output_type": "display_data"
    },
    {
     "data": {
      "application/vnd.jupyter.widget-view+json": {
       "model_id": "cd98b4a190054bbbb1cdc3805e0dee2c",
       "version_major": 2,
       "version_minor": 0
      },
      "text/plain": [
       "test:   0%|          | 0/10000 [00:00<?, ?it/s]"
      ]
     },
     "metadata": {},
     "output_type": "display_data"
    },
    {
     "name": "stdout",
     "output_type": "stream",
     "text": [
      "train: {'accuracy': 0.5928} loss: 0.6551466562304064\n",
      "train val: {'accuracy': 0.6348} loss: 0.6131461641013622\n",
      "test: {'accuracy': 0.4979} loss: 0.6917044654369354\n",
      "epoch time: 16.00min\n",
      "epoch 38\n"
     ]
    },
    {
     "data": {
      "application/vnd.jupyter.widget-view+json": {
       "model_id": "bac069e99f4345868e32d7f886db01eb",
       "version_major": 2,
       "version_minor": 0
      },
      "text/plain": [
       "train:   0%|          | 0/20000 [00:00<?, ?it/s]"
      ]
     },
     "metadata": {},
     "output_type": "display_data"
    },
    {
     "data": {
      "application/vnd.jupyter.widget-view+json": {
       "model_id": "2224d2e85e044d5aa2b0d491ae515a40",
       "version_major": 2,
       "version_minor": 0
      },
      "text/plain": [
       "train val:   0%|          | 0/10000 [00:00<?, ?it/s]"
      ]
     },
     "metadata": {},
     "output_type": "display_data"
    },
    {
     "data": {
      "application/vnd.jupyter.widget-view+json": {
       "model_id": "202860effcc04932bc761494b0d55a2c",
       "version_major": 2,
       "version_minor": 0
      },
      "text/plain": [
       "test:   0%|          | 0/10000 [00:00<?, ?it/s]"
      ]
     },
     "metadata": {},
     "output_type": "display_data"
    },
    {
     "name": "stdout",
     "output_type": "stream",
     "text": [
      "train: {'accuracy': 0.6053} loss: 0.6469511500640772\n",
      "train val: {'accuracy': 0.643} loss: 0.6051840082764626\n",
      "test: {'accuracy': 0.5356} loss: 0.6923486887812614\n",
      "epoch time: 16.03min\n",
      "epoch 39\n"
     ]
    },
    {
     "data": {
      "application/vnd.jupyter.widget-view+json": {
       "model_id": "53e962fc7e9d4049a0fce91d533cf2fe",
       "version_major": 2,
       "version_minor": 0
      },
      "text/plain": [
       "train:   0%|          | 0/20000 [00:00<?, ?it/s]"
      ]
     },
     "metadata": {},
     "output_type": "display_data"
    },
    {
     "data": {
      "application/vnd.jupyter.widget-view+json": {
       "model_id": "01c04046db534b1b98d76e249fd5d21c",
       "version_major": 2,
       "version_minor": 0
      },
      "text/plain": [
       "train val:   0%|          | 0/10000 [00:00<?, ?it/s]"
      ]
     },
     "metadata": {},
     "output_type": "display_data"
    },
    {
     "data": {
      "application/vnd.jupyter.widget-view+json": {
       "model_id": "552b7951c4a943658b08d0a4b9ad70b6",
       "version_major": 2,
       "version_minor": 0
      },
      "text/plain": [
       "test:   0%|          | 0/10000 [00:00<?, ?it/s]"
      ]
     },
     "metadata": {},
     "output_type": "display_data"
    },
    {
     "name": "stdout",
     "output_type": "stream",
     "text": [
      "train: {'accuracy': 0.6046} loss: 0.6545786474909634\n",
      "train val: {'accuracy': 0.6483} loss: 0.6137043646931648\n",
      "test: {'accuracy': 0.4428} loss: 0.7338751566171646\n",
      "epoch time: 15.85min\n",
      "epoch 40\n"
     ]
    },
    {
     "data": {
      "application/vnd.jupyter.widget-view+json": {
       "model_id": "20cad48ceac64d688ee6b2b3e55a1f97",
       "version_major": 2,
       "version_minor": 0
      },
      "text/plain": [
       "train:   0%|          | 0/20000 [00:00<?, ?it/s]"
      ]
     },
     "metadata": {},
     "output_type": "display_data"
    },
    {
     "data": {
      "application/vnd.jupyter.widget-view+json": {
       "model_id": "1e450d2a91d947f682a2d6f259b5fd29",
       "version_major": 2,
       "version_minor": 0
      },
      "text/plain": [
       "train val:   0%|          | 0/10000 [00:00<?, ?it/s]"
      ]
     },
     "metadata": {},
     "output_type": "display_data"
    },
    {
     "data": {
      "application/vnd.jupyter.widget-view+json": {
       "model_id": "6ff68981607141699532ac835cb09c62",
       "version_major": 2,
       "version_minor": 0
      },
      "text/plain": [
       "test:   0%|          | 0/10000 [00:00<?, ?it/s]"
      ]
     },
     "metadata": {},
     "output_type": "display_data"
    },
    {
     "name": "stdout",
     "output_type": "stream",
     "text": [
      "train: {'accuracy': 0.6016} loss: 0.6580289980528876\n",
      "train val: {'accuracy': 0.6473} loss: 0.6018846308112145\n",
      "test: {'accuracy': 0.5072} loss: 0.7368719680190087\n",
      "epoch time: 15.60min\n",
      "epoch 41\n"
     ]
    },
    {
     "data": {
      "application/vnd.jupyter.widget-view+json": {
       "model_id": "297c09da6e0c4042bb6d600bdf46a9c8",
       "version_major": 2,
       "version_minor": 0
      },
      "text/plain": [
       "train:   0%|          | 0/20000 [00:00<?, ?it/s]"
      ]
     },
     "metadata": {},
     "output_type": "display_data"
    },
    {
     "data": {
      "application/vnd.jupyter.widget-view+json": {
       "model_id": "d54c8ddf4e764c6ca9554f4abe8721ee",
       "version_major": 2,
       "version_minor": 0
      },
      "text/plain": [
       "train val:   0%|          | 0/10000 [00:00<?, ?it/s]"
      ]
     },
     "metadata": {},
     "output_type": "display_data"
    },
    {
     "data": {
      "application/vnd.jupyter.widget-view+json": {
       "model_id": "bffd582556bb42c0b978d621b52f5248",
       "version_major": 2,
       "version_minor": 0
      },
      "text/plain": [
       "test:   0%|          | 0/10000 [00:00<?, ?it/s]"
      ]
     },
     "metadata": {},
     "output_type": "display_data"
    },
    {
     "name": "stdout",
     "output_type": "stream",
     "text": [
      "train: {'accuracy': 0.5223} loss: 6.757183684678376\n",
      "train val: {'accuracy': 0.6243} loss: 0.6555771126627922\n",
      "test: {'accuracy': 0.4903} loss: 0.7065268615961074\n",
      "epoch time: 15.58min\n",
      "epoch 42\n"
     ]
    },
    {
     "data": {
      "application/vnd.jupyter.widget-view+json": {
       "model_id": "e219e4612bfa4257b0b2ffe1c3fc8050",
       "version_major": 2,
       "version_minor": 0
      },
      "text/plain": [
       "train:   0%|          | 0/20000 [00:00<?, ?it/s]"
      ]
     },
     "metadata": {},
     "output_type": "display_data"
    },
    {
     "data": {
      "application/vnd.jupyter.widget-view+json": {
       "model_id": "c55c5ade50d647feacced8028e237887",
       "version_major": 2,
       "version_minor": 0
      },
      "text/plain": [
       "train val:   0%|          | 0/10000 [00:00<?, ?it/s]"
      ]
     },
     "metadata": {},
     "output_type": "display_data"
    },
    {
     "data": {
      "application/vnd.jupyter.widget-view+json": {
       "model_id": "e1c58a972c154a468c15d4fc9f7d803e",
       "version_major": 2,
       "version_minor": 0
      },
      "text/plain": [
       "test:   0%|          | 0/10000 [00:00<?, ?it/s]"
      ]
     },
     "metadata": {},
     "output_type": "display_data"
    },
    {
     "name": "stdout",
     "output_type": "stream",
     "text": [
      "train: {'accuracy': 0.59595} loss: 0.655377830016613\n",
      "train val: {'accuracy': 0.6464} loss: 0.5826511860013008\n",
      "test: {'accuracy': 0.5194} loss: 0.6935315600514412\n",
      "epoch time: 16.18min\n",
      "epoch 43\n"
     ]
    },
    {
     "data": {
      "application/vnd.jupyter.widget-view+json": {
       "model_id": "c660956dd11f4077bcbbdc828a9e3370",
       "version_major": 2,
       "version_minor": 0
      },
      "text/plain": [
       "train:   0%|          | 0/20000 [00:00<?, ?it/s]"
      ]
     },
     "metadata": {},
     "output_type": "display_data"
    },
    {
     "data": {
      "application/vnd.jupyter.widget-view+json": {
       "model_id": "eda2b07e11674649a5567af11ddc11b4",
       "version_major": 2,
       "version_minor": 0
      },
      "text/plain": [
       "train val:   0%|          | 0/10000 [00:00<?, ?it/s]"
      ]
     },
     "metadata": {},
     "output_type": "display_data"
    },
    {
     "data": {
      "application/vnd.jupyter.widget-view+json": {
       "model_id": "369db9600b7746b7a4b7f95df15c27de",
       "version_major": 2,
       "version_minor": 0
      },
      "text/plain": [
       "test:   0%|          | 0/10000 [00:00<?, ?it/s]"
      ]
     },
     "metadata": {},
     "output_type": "display_data"
    },
    {
     "name": "stdout",
     "output_type": "stream",
     "text": [
      "train: {'accuracy': 0.62035} loss: 0.6295690436445177\n",
      "train val: {'accuracy': 0.6422} loss: 0.6164606383204461\n",
      "test: {'accuracy': 0.5129} loss: 0.6983289807677269\n",
      "epoch time: 15.81min\n",
      "epoch 44\n"
     ]
    },
    {
     "data": {
      "application/vnd.jupyter.widget-view+json": {
       "model_id": "dbce0bb852cd45e9a83b2cb9b1d440b7",
       "version_major": 2,
       "version_minor": 0
      },
      "text/plain": [
       "train:   0%|          | 0/20000 [00:00<?, ?it/s]"
      ]
     },
     "metadata": {},
     "output_type": "display_data"
    },
    {
     "data": {
      "application/vnd.jupyter.widget-view+json": {
       "model_id": "4c277ffb329e4e2c887cdf738b8bc7f4",
       "version_major": 2,
       "version_minor": 0
      },
      "text/plain": [
       "train val:   0%|          | 0/10000 [00:00<?, ?it/s]"
      ]
     },
     "metadata": {},
     "output_type": "display_data"
    },
    {
     "data": {
      "application/vnd.jupyter.widget-view+json": {
       "model_id": "68ce767185714752ab721959e9f65832",
       "version_major": 2,
       "version_minor": 0
      },
      "text/plain": [
       "test:   0%|          | 0/10000 [00:00<?, ?it/s]"
      ]
     },
     "metadata": {},
     "output_type": "display_data"
    },
    {
     "name": "stdout",
     "output_type": "stream",
     "text": [
      "train: {'accuracy': 0.58005} loss: 0.6655556664966047\n",
      "train val: {'accuracy': 0.6345} loss: 0.6619166282057762\n",
      "test: {'accuracy': 0.535} loss: 0.6948422470808029\n",
      "epoch time: 15.85min\n",
      "epoch 45\n"
     ]
    },
    {
     "data": {
      "application/vnd.jupyter.widget-view+json": {
       "model_id": "0f651c1eb41b417b82f2343b4b7d9a19",
       "version_major": 2,
       "version_minor": 0
      },
      "text/plain": [
       "train:   0%|          | 0/20000 [00:00<?, ?it/s]"
      ]
     },
     "metadata": {},
     "output_type": "display_data"
    },
    {
     "data": {
      "application/vnd.jupyter.widget-view+json": {
       "model_id": "a45670da7b3849ff8ddfa2e49a19b380",
       "version_major": 2,
       "version_minor": 0
      },
      "text/plain": [
       "train val:   0%|          | 0/10000 [00:00<?, ?it/s]"
      ]
     },
     "metadata": {},
     "output_type": "display_data"
    },
    {
     "data": {
      "application/vnd.jupyter.widget-view+json": {
       "model_id": "ab20ffb412f14295a20859da1dc79efb",
       "version_major": 2,
       "version_minor": 0
      },
      "text/plain": [
       "test:   0%|          | 0/10000 [00:00<?, ?it/s]"
      ]
     },
     "metadata": {},
     "output_type": "display_data"
    },
    {
     "name": "stdout",
     "output_type": "stream",
     "text": [
      "train: {'accuracy': 0.58985} loss: 0.6601145118787884\n",
      "train val: {'accuracy': 0.6661} loss: 0.616151810836792\n",
      "test: {'accuracy': 0.5188} loss: 0.6994537524580956\n",
      "epoch time: 16.00min\n",
      "epoch 46\n"
     ]
    },
    {
     "data": {
      "application/vnd.jupyter.widget-view+json": {
       "model_id": "f412c02390cb4d029dbd61399b37130a",
       "version_major": 2,
       "version_minor": 0
      },
      "text/plain": [
       "train:   0%|          | 0/20000 [00:00<?, ?it/s]"
      ]
     },
     "metadata": {},
     "output_type": "display_data"
    },
    {
     "data": {
      "application/vnd.jupyter.widget-view+json": {
       "model_id": "e126b757c85d49f3b36d83ab38f3e2e9",
       "version_major": 2,
       "version_minor": 0
      },
      "text/plain": [
       "train val:   0%|          | 0/10000 [00:00<?, ?it/s]"
      ]
     },
     "metadata": {},
     "output_type": "display_data"
    },
    {
     "data": {
      "application/vnd.jupyter.widget-view+json": {
       "model_id": "ef0c5454a511419fa9f311c600edd30e",
       "version_major": 2,
       "version_minor": 0
      },
      "text/plain": [
       "test:   0%|          | 0/10000 [00:00<?, ?it/s]"
      ]
     },
     "metadata": {},
     "output_type": "display_data"
    },
    {
     "name": "stdout",
     "output_type": "stream",
     "text": [
      "train: {'accuracy': 0.6026} loss: 0.6422524961389601\n",
      "train val: {'accuracy': 0.6423} loss: 0.6364057011842728\n",
      "test: {'accuracy': 0.5286} loss: 0.7088630456328392\n",
      "epoch time: 15.81min\n",
      "epoch 47\n"
     ]
    },
    {
     "data": {
      "application/vnd.jupyter.widget-view+json": {
       "model_id": "289c62c7d7c146cfb23433cce00be485",
       "version_major": 2,
       "version_minor": 0
      },
      "text/plain": [
       "train:   0%|          | 0/20000 [00:00<?, ?it/s]"
      ]
     },
     "metadata": {},
     "output_type": "display_data"
    },
    {
     "data": {
      "application/vnd.jupyter.widget-view+json": {
       "model_id": "0867c992961c4e07af8931929b6d6ffa",
       "version_major": 2,
       "version_minor": 0
      },
      "text/plain": [
       "train val:   0%|          | 0/10000 [00:00<?, ?it/s]"
      ]
     },
     "metadata": {},
     "output_type": "display_data"
    },
    {
     "data": {
      "application/vnd.jupyter.widget-view+json": {
       "model_id": "6a82650eaa77475dbabb2a68c3b2b312",
       "version_major": 2,
       "version_minor": 0
      },
      "text/plain": [
       "test:   0%|          | 0/10000 [00:00<?, ?it/s]"
      ]
     },
     "metadata": {},
     "output_type": "display_data"
    },
    {
     "name": "stdout",
     "output_type": "stream",
     "text": [
      "train: {'accuracy': 0.60105} loss: 0.6415217233832926\n",
      "train val: {'accuracy': 0.6681} loss: 0.6449330246567726\n",
      "test: {'accuracy': 0.5404} loss: 0.6884417070984841\n",
      "epoch time: 16.35min\n",
      "epoch 48\n"
     ]
    },
    {
     "data": {
      "application/vnd.jupyter.widget-view+json": {
       "model_id": "1ca6aa54095741c9b81204b48c111cc5",
       "version_major": 2,
       "version_minor": 0
      },
      "text/plain": [
       "train:   0%|          | 0/20000 [00:00<?, ?it/s]"
      ]
     },
     "metadata": {},
     "output_type": "display_data"
    },
    {
     "data": {
      "application/vnd.jupyter.widget-view+json": {
       "model_id": "2a86c46ac27e44119aabd06f1c72f60d",
       "version_major": 2,
       "version_minor": 0
      },
      "text/plain": [
       "train val:   0%|          | 0/10000 [00:00<?, ?it/s]"
      ]
     },
     "metadata": {},
     "output_type": "display_data"
    },
    {
     "data": {
      "application/vnd.jupyter.widget-view+json": {
       "model_id": "d494e48f7d2b44838513f953e236b1af",
       "version_major": 2,
       "version_minor": 0
      },
      "text/plain": [
       "test:   0%|          | 0/10000 [00:00<?, ?it/s]"
      ]
     },
     "metadata": {},
     "output_type": "display_data"
    },
    {
     "name": "stdout",
     "output_type": "stream",
     "text": [
      "train: {'accuracy': 0.5996} loss: 0.6421306029036641\n",
      "train val: {'accuracy': 0.6653} loss: 0.5912803902924061\n",
      "test: {'accuracy': 0.5433} loss: 0.7270296947658061\n",
      "epoch time: 16.23min\n",
      "epoch 49\n"
     ]
    },
    {
     "data": {
      "application/vnd.jupyter.widget-view+json": {
       "model_id": "d808cb8233194fbfac0e2f9e63cad9ed",
       "version_major": 2,
       "version_minor": 0
      },
      "text/plain": [
       "train:   0%|          | 0/20000 [00:00<?, ?it/s]"
      ]
     },
     "metadata": {},
     "output_type": "display_data"
    },
    {
     "data": {
      "application/vnd.jupyter.widget-view+json": {
       "model_id": "d220afe98ab04d1f84259ac6001ba121",
       "version_major": 2,
       "version_minor": 0
      },
      "text/plain": [
       "train val:   0%|          | 0/10000 [00:00<?, ?it/s]"
      ]
     },
     "metadata": {},
     "output_type": "display_data"
    },
    {
     "data": {
      "application/vnd.jupyter.widget-view+json": {
       "model_id": "d32f9273ea534bc3aa3d047a25a2b82a",
       "version_major": 2,
       "version_minor": 0
      },
      "text/plain": [
       "test:   0%|          | 0/10000 [00:00<?, ?it/s]"
      ]
     },
     "metadata": {},
     "output_type": "display_data"
    },
    {
     "name": "stdout",
     "output_type": "stream",
     "text": [
      "train: {'accuracy': 0.60475} loss: 0.6344280487731099\n",
      "train val: {'accuracy': 0.6683} loss: 0.6075473522245884\n",
      "test: {'accuracy': 0.5174} loss: 0.6858900582551957\n",
      "epoch time: 15.78min\n",
      "epoch 50\n"
     ]
    },
    {
     "data": {
      "application/vnd.jupyter.widget-view+json": {
       "model_id": "60de785af2d144f98d101dc4a241a2e6",
       "version_major": 2,
       "version_minor": 0
      },
      "text/plain": [
       "train:   0%|          | 0/20000 [00:00<?, ?it/s]"
      ]
     },
     "metadata": {},
     "output_type": "display_data"
    },
    {
     "data": {
      "application/vnd.jupyter.widget-view+json": {
       "model_id": "ebcf3f4e619c4304bc0662e725ca5e6a",
       "version_major": 2,
       "version_minor": 0
      },
      "text/plain": [
       "train val:   0%|          | 0/10000 [00:00<?, ?it/s]"
      ]
     },
     "metadata": {},
     "output_type": "display_data"
    },
    {
     "data": {
      "application/vnd.jupyter.widget-view+json": {
       "model_id": "ad048a8233084782be1a8460566fc7c5",
       "version_major": 2,
       "version_minor": 0
      },
      "text/plain": [
       "test:   0%|          | 0/10000 [00:00<?, ?it/s]"
      ]
     },
     "metadata": {},
     "output_type": "display_data"
    },
    {
     "name": "stdout",
     "output_type": "stream",
     "text": [
      "train: {'accuracy': 0.60485} loss: 0.6448180771771819\n",
      "train val: {'accuracy': 0.6541} loss: 0.6275166255354881\n",
      "test: {'accuracy': 0.5136} loss: 0.7196429426193237\n",
      "epoch time: 15.84min\n",
      "epoch 51\n"
     ]
    },
    {
     "data": {
      "application/vnd.jupyter.widget-view+json": {
       "model_id": "bfa96473635f4b78bd90455b68138690",
       "version_major": 2,
       "version_minor": 0
      },
      "text/plain": [
       "train:   0%|          | 0/20000 [00:00<?, ?it/s]"
      ]
     },
     "metadata": {},
     "output_type": "display_data"
    },
    {
     "data": {
      "application/vnd.jupyter.widget-view+json": {
       "model_id": "af8c9e841bc249fb91cae9d0955228f8",
       "version_major": 2,
       "version_minor": 0
      },
      "text/plain": [
       "train val:   0%|          | 0/10000 [00:00<?, ?it/s]"
      ]
     },
     "metadata": {},
     "output_type": "display_data"
    },
    {
     "data": {
      "application/vnd.jupyter.widget-view+json": {
       "model_id": "5c1331cd3dad4c4f860d02c46c388883",
       "version_major": 2,
       "version_minor": 0
      },
      "text/plain": [
       "test:   0%|          | 0/10000 [00:00<?, ?it/s]"
      ]
     },
     "metadata": {},
     "output_type": "display_data"
    },
    {
     "name": "stdout",
     "output_type": "stream",
     "text": [
      "train: {'accuracy': 0.6027} loss: 0.6385970738455653\n",
      "train val: {'accuracy': 0.6745} loss: 0.5990153449296951\n",
      "test: {'accuracy': 0.5036} loss: 0.6910688071012497\n",
      "epoch time: 16.30min\n",
      "epoch 52\n"
     ]
    },
    {
     "data": {
      "application/vnd.jupyter.widget-view+json": {
       "model_id": "a4c04f94119640a9aefc2554415059d2",
       "version_major": 2,
       "version_minor": 0
      },
      "text/plain": [
       "train:   0%|          | 0/20000 [00:00<?, ?it/s]"
      ]
     },
     "metadata": {},
     "output_type": "display_data"
    },
    {
     "data": {
      "application/vnd.jupyter.widget-view+json": {
       "model_id": "b96e43a409404539a840035566fd4e28",
       "version_major": 2,
       "version_minor": 0
      },
      "text/plain": [
       "train val:   0%|          | 0/10000 [00:00<?, ?it/s]"
      ]
     },
     "metadata": {},
     "output_type": "display_data"
    },
    {
     "data": {
      "application/vnd.jupyter.widget-view+json": {
       "model_id": "b2c75a15f47e45a291e563ca2362c25b",
       "version_major": 2,
       "version_minor": 0
      },
      "text/plain": [
       "test:   0%|          | 0/10000 [00:00<?, ?it/s]"
      ]
     },
     "metadata": {},
     "output_type": "display_data"
    },
    {
     "name": "stdout",
     "output_type": "stream",
     "text": [
      "train: {'accuracy': 0.5915} loss: 0.6532795864060521\n",
      "train val: {'accuracy': 0.656} loss: 0.6354117130994796\n",
      "test: {'accuracy': 0.5179} loss: 0.6912091602683067\n",
      "epoch time: 16.03min\n",
      "epoch 53\n"
     ]
    },
    {
     "data": {
      "application/vnd.jupyter.widget-view+json": {
       "model_id": "41eca18161d94083a96641496500d335",
       "version_major": 2,
       "version_minor": 0
      },
      "text/plain": [
       "train:   0%|          | 0/20000 [00:00<?, ?it/s]"
      ]
     },
     "metadata": {},
     "output_type": "display_data"
    },
    {
     "data": {
      "application/vnd.jupyter.widget-view+json": {
       "model_id": "0a2ac0817a7d43c6a89875e88c36f925",
       "version_major": 2,
       "version_minor": 0
      },
      "text/plain": [
       "train val:   0%|          | 0/10000 [00:00<?, ?it/s]"
      ]
     },
     "metadata": {},
     "output_type": "display_data"
    },
    {
     "data": {
      "application/vnd.jupyter.widget-view+json": {
       "model_id": "25641e994eea436692cf83ee5d81079e",
       "version_major": 2,
       "version_minor": 0
      },
      "text/plain": [
       "test:   0%|          | 0/10000 [00:00<?, ?it/s]"
      ]
     },
     "metadata": {},
     "output_type": "display_data"
    },
    {
     "name": "stdout",
     "output_type": "stream",
     "text": [
      "train: {'accuracy': 0.59935} loss: 0.6364879228144884\n",
      "train val: {'accuracy': 0.6674} loss: 0.5789474238485098\n",
      "test: {'accuracy': 0.546} loss: 0.6996633095026016\n",
      "epoch time: 16.60min\n",
      "epoch 54\n"
     ]
    },
    {
     "data": {
      "application/vnd.jupyter.widget-view+json": {
       "model_id": "534c2b72d9cd459f8c5e779c800999db",
       "version_major": 2,
       "version_minor": 0
      },
      "text/plain": [
       "train:   0%|          | 0/20000 [00:00<?, ?it/s]"
      ]
     },
     "metadata": {},
     "output_type": "display_data"
    },
    {
     "data": {
      "application/vnd.jupyter.widget-view+json": {
       "model_id": "60514b4b89e44c62b986c2bf62758cf2",
       "version_major": 2,
       "version_minor": 0
      },
      "text/plain": [
       "train val:   0%|          | 0/10000 [00:00<?, ?it/s]"
      ]
     },
     "metadata": {},
     "output_type": "display_data"
    },
    {
     "data": {
      "application/vnd.jupyter.widget-view+json": {
       "model_id": "5c0428e12d2f46a791907b385fc3fc27",
       "version_major": 2,
       "version_minor": 0
      },
      "text/plain": [
       "test:   0%|          | 0/10000 [00:00<?, ?it/s]"
      ]
     },
     "metadata": {},
     "output_type": "display_data"
    },
    {
     "name": "stdout",
     "output_type": "stream",
     "text": [
      "train: {'accuracy': 0.61695} loss: 0.629201526542753\n",
      "train val: {'accuracy': 0.6778} loss: 0.6103274715423584\n",
      "test: {'accuracy': 0.535} loss: 0.6866570870637894\n",
      "epoch time: 16.27min\n",
      "epoch 55\n"
     ]
    },
    {
     "data": {
      "application/vnd.jupyter.widget-view+json": {
       "model_id": "6385a7b2edcb4c51940e2a33d6a57924",
       "version_major": 2,
       "version_minor": 0
      },
      "text/plain": [
       "train:   0%|          | 0/20000 [00:00<?, ?it/s]"
      ]
     },
     "metadata": {},
     "output_type": "display_data"
    },
    {
     "data": {
      "application/vnd.jupyter.widget-view+json": {
       "model_id": "6190c5b3ebcc42de91413fb30052e814",
       "version_major": 2,
       "version_minor": 0
      },
      "text/plain": [
       "train val:   0%|          | 0/10000 [00:00<?, ?it/s]"
      ]
     },
     "metadata": {},
     "output_type": "display_data"
    },
    {
     "data": {
      "application/vnd.jupyter.widget-view+json": {
       "model_id": "cd810b3f267e416c94f8a0d6947803f8",
       "version_major": 2,
       "version_minor": 0
      },
      "text/plain": [
       "test:   0%|          | 0/10000 [00:00<?, ?it/s]"
      ]
     },
     "metadata": {},
     "output_type": "display_data"
    },
    {
     "name": "stdout",
     "output_type": "stream",
     "text": [
      "train: {'accuracy': 0.62985} loss: 0.6172159304603935\n",
      "train val: {'accuracy': 0.6747} loss: 0.5904367057859897\n",
      "test: {'accuracy': 0.5714} loss: 0.6716911962628365\n",
      "epoch time: 16.47min\n",
      "epoch 56\n"
     ]
    },
    {
     "data": {
      "application/vnd.jupyter.widget-view+json": {
       "model_id": "f302b90e5e184da9933e5db8decef8c2",
       "version_major": 2,
       "version_minor": 0
      },
      "text/plain": [
       "train:   0%|          | 0/20000 [00:00<?, ?it/s]"
      ]
     },
     "metadata": {},
     "output_type": "display_data"
    },
    {
     "data": {
      "application/vnd.jupyter.widget-view+json": {
       "model_id": "99cf43af8cd44169bf361af57ce7db54",
       "version_major": 2,
       "version_minor": 0
      },
      "text/plain": [
       "train val:   0%|          | 0/10000 [00:00<?, ?it/s]"
      ]
     },
     "metadata": {},
     "output_type": "display_data"
    },
    {
     "data": {
      "application/vnd.jupyter.widget-view+json": {
       "model_id": "55061302fac1460ea65f5fcd3758cd88",
       "version_major": 2,
       "version_minor": 0
      },
      "text/plain": [
       "test:   0%|          | 0/10000 [00:00<?, ?it/s]"
      ]
     },
     "metadata": {},
     "output_type": "display_data"
    },
    {
     "name": "stdout",
     "output_type": "stream",
     "text": [
      "train: {'accuracy': 0.6223} loss: 0.6317610348634422\n",
      "train val: {'accuracy': 0.6568} loss: 0.607513680678606\n",
      "test: {'accuracy': 0.5856} loss: 0.6796952055692673\n",
      "epoch time: 16.29min\n",
      "epoch 57\n"
     ]
    },
    {
     "data": {
      "application/vnd.jupyter.widget-view+json": {
       "model_id": "8610d12d5c1f427f85f4139351c1d0d6",
       "version_major": 2,
       "version_minor": 0
      },
      "text/plain": [
       "train:   0%|          | 0/20000 [00:00<?, ?it/s]"
      ]
     },
     "metadata": {},
     "output_type": "display_data"
    },
    {
     "data": {
      "application/vnd.jupyter.widget-view+json": {
       "model_id": "d3c9d4d18db54787a18c8cd72d73c852",
       "version_major": 2,
       "version_minor": 0
      },
      "text/plain": [
       "train val:   0%|          | 0/10000 [00:00<?, ?it/s]"
      ]
     },
     "metadata": {},
     "output_type": "display_data"
    },
    {
     "data": {
      "application/vnd.jupyter.widget-view+json": {
       "model_id": "325cfa3450ba4d74ad63cb226fb7624d",
       "version_major": 2,
       "version_minor": 0
      },
      "text/plain": [
       "test:   0%|          | 0/10000 [00:00<?, ?it/s]"
      ]
     },
     "metadata": {},
     "output_type": "display_data"
    },
    {
     "name": "stdout",
     "output_type": "stream",
     "text": [
      "train: {'accuracy': 0.62495} loss: 0.6280092351421713\n",
      "train val: {'accuracy': 0.6544} loss: 0.6146561507105828\n",
      "test: {'accuracy': 0.5675} loss: 0.6830918902039528\n",
      "epoch time: 16.26min\n",
      "epoch 58\n"
     ]
    },
    {
     "data": {
      "application/vnd.jupyter.widget-view+json": {
       "model_id": "c264e664e5ba40359ef874ee5138eeb0",
       "version_major": 2,
       "version_minor": 0
      },
      "text/plain": [
       "train:   0%|          | 0/20000 [00:00<?, ?it/s]"
      ]
     },
     "metadata": {},
     "output_type": "display_data"
    },
    {
     "data": {
      "application/vnd.jupyter.widget-view+json": {
       "model_id": "8d6c1d951b2642fab8e7850a55635d7a",
       "version_major": 2,
       "version_minor": 0
      },
      "text/plain": [
       "train val:   0%|          | 0/10000 [00:00<?, ?it/s]"
      ]
     },
     "metadata": {},
     "output_type": "display_data"
    },
    {
     "data": {
      "application/vnd.jupyter.widget-view+json": {
       "model_id": "950596510b4b4d06b8c1e4a680b02450",
       "version_major": 2,
       "version_minor": 0
      },
      "text/plain": [
       "test:   0%|          | 0/10000 [00:00<?, ?it/s]"
      ]
     },
     "metadata": {},
     "output_type": "display_data"
    },
    {
     "name": "stdout",
     "output_type": "stream",
     "text": [
      "train: {'accuracy': 0.61575} loss: 0.6317306707914918\n",
      "train val: {'accuracy': 0.6436} loss: 0.661312414765358\n",
      "test: {'accuracy': 0.5088} loss: 0.7035441834926606\n",
      "epoch time: 16.54min\n",
      "epoch 59\n"
     ]
    },
    {
     "data": {
      "application/vnd.jupyter.widget-view+json": {
       "model_id": "e6095223ee984291961aec62e146d551",
       "version_major": 2,
       "version_minor": 0
      },
      "text/plain": [
       "train:   0%|          | 0/20000 [00:00<?, ?it/s]"
      ]
     },
     "metadata": {},
     "output_type": "display_data"
    },
    {
     "data": {
      "application/vnd.jupyter.widget-view+json": {
       "model_id": "caa470103b464be7acb96eaf448f33a8",
       "version_major": 2,
       "version_minor": 0
      },
      "text/plain": [
       "train val:   0%|          | 0/10000 [00:00<?, ?it/s]"
      ]
     },
     "metadata": {},
     "output_type": "display_data"
    },
    {
     "data": {
      "application/vnd.jupyter.widget-view+json": {
       "model_id": "fa75570bbe4742ecbc984e55409d2f21",
       "version_major": 2,
       "version_minor": 0
      },
      "text/plain": [
       "test:   0%|          | 0/10000 [00:00<?, ?it/s]"
      ]
     },
     "metadata": {},
     "output_type": "display_data"
    },
    {
     "name": "stdout",
     "output_type": "stream",
     "text": [
      "train: {'accuracy': 0.61605} loss: 0.6287128928717226\n",
      "train val: {'accuracy': 0.6514} loss: 0.6224469376385212\n",
      "test: {'accuracy': 0.5281} loss: 0.7049710429787636\n",
      "epoch time: 16.53min\n",
      "epoch 60\n"
     ]
    },
    {
     "data": {
      "application/vnd.jupyter.widget-view+json": {
       "model_id": "aa1c76ded607476dbe2d054e8f4735d1",
       "version_major": 2,
       "version_minor": 0
      },
      "text/plain": [
       "train:   0%|          | 0/20000 [00:00<?, ?it/s]"
      ]
     },
     "metadata": {},
     "output_type": "display_data"
    },
    {
     "data": {
      "application/vnd.jupyter.widget-view+json": {
       "model_id": "056e6957109f49409928d689441f1e41",
       "version_major": 2,
       "version_minor": 0
      },
      "text/plain": [
       "train val:   0%|          | 0/10000 [00:00<?, ?it/s]"
      ]
     },
     "metadata": {},
     "output_type": "display_data"
    },
    {
     "data": {
      "application/vnd.jupyter.widget-view+json": {
       "model_id": "81b4236a366048f0be6ee4361c04ec8f",
       "version_major": 2,
       "version_minor": 0
      },
      "text/plain": [
       "test:   0%|          | 0/10000 [00:00<?, ?it/s]"
      ]
     },
     "metadata": {},
     "output_type": "display_data"
    },
    {
     "name": "stdout",
     "output_type": "stream",
     "text": [
      "train: {'accuracy': 0.6108} loss: 0.6344250080289974\n",
      "train val: {'accuracy': 0.6585} loss: 0.616494692826271\n",
      "test: {'accuracy': 0.5226} loss: 0.6962281279683113\n",
      "epoch time: 16.54min\n",
      "epoch 61\n"
     ]
    },
    {
     "data": {
      "application/vnd.jupyter.widget-view+json": {
       "model_id": "6bbe767307ac44aba54cf99c591cc8f3",
       "version_major": 2,
       "version_minor": 0
      },
      "text/plain": [
       "train:   0%|          | 0/20000 [00:00<?, ?it/s]"
      ]
     },
     "metadata": {},
     "output_type": "display_data"
    },
    {
     "data": {
      "application/vnd.jupyter.widget-view+json": {
       "model_id": "f22342e803f5406a9ce5faa8fba614cf",
       "version_major": 2,
       "version_minor": 0
      },
      "text/plain": [
       "train val:   0%|          | 0/10000 [00:00<?, ?it/s]"
      ]
     },
     "metadata": {},
     "output_type": "display_data"
    },
    {
     "data": {
      "application/vnd.jupyter.widget-view+json": {
       "model_id": "baa430704477472cbfd8c12795e18f46",
       "version_major": 2,
       "version_minor": 0
      },
      "text/plain": [
       "test:   0%|          | 0/10000 [00:00<?, ?it/s]"
      ]
     },
     "metadata": {},
     "output_type": "display_data"
    },
    {
     "name": "stdout",
     "output_type": "stream",
     "text": [
      "train: {'accuracy': 0.6201} loss: 0.6204642332702875\n",
      "train val: {'accuracy': 0.6697} loss: 0.5956827125668526\n",
      "test: {'accuracy': 0.517} loss: 0.6968556618094445\n",
      "epoch time: 16.36min\n",
      "epoch 62\n"
     ]
    },
    {
     "data": {
      "application/vnd.jupyter.widget-view+json": {
       "model_id": "d1f01ac47e1b4d7fb5dd2a34f1bf6a3c",
       "version_major": 2,
       "version_minor": 0
      },
      "text/plain": [
       "train:   0%|          | 0/20000 [00:00<?, ?it/s]"
      ]
     },
     "metadata": {},
     "output_type": "display_data"
    },
    {
     "data": {
      "application/vnd.jupyter.widget-view+json": {
       "model_id": "d220d9f2cb4e4f5d9915341e739b11dd",
       "version_major": 2,
       "version_minor": 0
      },
      "text/plain": [
       "train val:   0%|          | 0/10000 [00:00<?, ?it/s]"
      ]
     },
     "metadata": {},
     "output_type": "display_data"
    },
    {
     "data": {
      "application/vnd.jupyter.widget-view+json": {
       "model_id": "5b04e4a584e7436aa1b97666ff5cb4a5",
       "version_major": 2,
       "version_minor": 0
      },
      "text/plain": [
       "test:   0%|          | 0/10000 [00:00<?, ?it/s]"
      ]
     },
     "metadata": {},
     "output_type": "display_data"
    },
    {
     "name": "stdout",
     "output_type": "stream",
     "text": [
      "train: {'accuracy': 0.63865} loss: 0.6084218690313399\n",
      "train val: {'accuracy': 0.6693} loss: 0.5864376405894757\n",
      "test: {'accuracy': 0.5216} loss: 0.6898326637387275\n",
      "epoch time: 16.53min\n",
      "epoch 63\n"
     ]
    },
    {
     "data": {
      "application/vnd.jupyter.widget-view+json": {
       "model_id": "5bbd2ba4fcc24d2494c22512f5908606",
       "version_major": 2,
       "version_minor": 0
      },
      "text/plain": [
       "train:   0%|          | 0/20000 [00:00<?, ?it/s]"
      ]
     },
     "metadata": {},
     "output_type": "display_data"
    },
    {
     "data": {
      "application/vnd.jupyter.widget-view+json": {
       "model_id": "ec090b9fc1e04197aa816563a08a4861",
       "version_major": 2,
       "version_minor": 0
      },
      "text/plain": [
       "train val:   0%|          | 0/10000 [00:00<?, ?it/s]"
      ]
     },
     "metadata": {},
     "output_type": "display_data"
    },
    {
     "data": {
      "application/vnd.jupyter.widget-view+json": {
       "model_id": "cf0b744ba49240a7ac62efded8201b00",
       "version_major": 2,
       "version_minor": 0
      },
      "text/plain": [
       "test:   0%|          | 0/10000 [00:00<?, ?it/s]"
      ]
     },
     "metadata": {},
     "output_type": "display_data"
    },
    {
     "name": "stdout",
     "output_type": "stream",
     "text": [
      "train: {'accuracy': 0.6302} loss: 0.613984053948149\n",
      "train val: {'accuracy': 0.6723} loss: 0.5870052537441254\n",
      "test: {'accuracy': 0.5251} loss: 0.7158285625934601\n",
      "epoch time: 16.30min\n",
      "epoch 64\n"
     ]
    },
    {
     "data": {
      "application/vnd.jupyter.widget-view+json": {
       "model_id": "8ed0db35a69d43b493e87ad8b3e1799c",
       "version_major": 2,
       "version_minor": 0
      },
      "text/plain": [
       "train:   0%|          | 0/20000 [00:00<?, ?it/s]"
      ]
     },
     "metadata": {},
     "output_type": "display_data"
    },
    {
     "data": {
      "application/vnd.jupyter.widget-view+json": {
       "model_id": "142ae33574f44d22a3bda991f13d9576",
       "version_major": 2,
       "version_minor": 0
      },
      "text/plain": [
       "train val:   0%|          | 0/10000 [00:00<?, ?it/s]"
      ]
     },
     "metadata": {},
     "output_type": "display_data"
    },
    {
     "data": {
      "application/vnd.jupyter.widget-view+json": {
       "model_id": "6b3871ec9f2c4e40a104cb2678bead2a",
       "version_major": 2,
       "version_minor": 0
      },
      "text/plain": [
       "test:   0%|          | 0/10000 [00:00<?, ?it/s]"
      ]
     },
     "metadata": {},
     "output_type": "display_data"
    },
    {
     "name": "stdout",
     "output_type": "stream",
     "text": [
      "train: {'accuracy': 0.6422} loss: 0.6041946912914514\n",
      "train val: {'accuracy': 0.6717} loss: 0.5812879116475582\n",
      "test: {'accuracy': 0.5379} loss: 0.6941475687146187\n",
      "epoch time: 15.87min\n",
      "epoch 65\n"
     ]
    },
    {
     "data": {
      "application/vnd.jupyter.widget-view+json": {
       "model_id": "6f31363c7ace4fccbfcb849edbeda32d",
       "version_major": 2,
       "version_minor": 0
      },
      "text/plain": [
       "train:   0%|          | 0/20000 [00:00<?, ?it/s]"
      ]
     },
     "metadata": {},
     "output_type": "display_data"
    },
    {
     "data": {
      "application/vnd.jupyter.widget-view+json": {
       "model_id": "7161cb15812047359863984444f70fb1",
       "version_major": 2,
       "version_minor": 0
      },
      "text/plain": [
       "train val:   0%|          | 0/10000 [00:00<?, ?it/s]"
      ]
     },
     "metadata": {},
     "output_type": "display_data"
    },
    {
     "data": {
      "application/vnd.jupyter.widget-view+json": {
       "model_id": "7479111cd0664ba69dfb54f2a4fd85e4",
       "version_major": 2,
       "version_minor": 0
      },
      "text/plain": [
       "test:   0%|          | 0/10000 [00:00<?, ?it/s]"
      ]
     },
     "metadata": {},
     "output_type": "display_data"
    },
    {
     "name": "stdout",
     "output_type": "stream",
     "text": [
      "train: {'accuracy': 0.618} loss: 0.6301868735997938\n",
      "train val: {'accuracy': 0.6519} loss: 0.6342424039721489\n",
      "test: {'accuracy': 0.5322} loss: 0.7120558575749397\n",
      "epoch time: 16.39min\n",
      "epoch 66\n"
     ]
    },
    {
     "data": {
      "application/vnd.jupyter.widget-view+json": {
       "model_id": "e8f1a3c53d774dc6a61f2fc16ef909f4",
       "version_major": 2,
       "version_minor": 0
      },
      "text/plain": [
       "train:   0%|          | 0/20000 [00:00<?, ?it/s]"
      ]
     },
     "metadata": {},
     "output_type": "display_data"
    },
    {
     "data": {
      "application/vnd.jupyter.widget-view+json": {
       "model_id": "3e3c6faf773842fe9963b66aba52f63e",
       "version_major": 2,
       "version_minor": 0
      },
      "text/plain": [
       "train val:   0%|          | 0/10000 [00:00<?, ?it/s]"
      ]
     },
     "metadata": {},
     "output_type": "display_data"
    },
    {
     "data": {
      "application/vnd.jupyter.widget-view+json": {
       "model_id": "5ac0a7dbca484585906866b6bf4df824",
       "version_major": 2,
       "version_minor": 0
      },
      "text/plain": [
       "test:   0%|          | 0/10000 [00:00<?, ?it/s]"
      ]
     },
     "metadata": {},
     "output_type": "display_data"
    },
    {
     "name": "stdout",
     "output_type": "stream",
     "text": [
      "train: {'accuracy': 0.5927} loss: 0.6621572444036603\n",
      "train val: {'accuracy': 0.5948} loss: 0.735285979104042\n",
      "test: {'accuracy': 0.5018} loss: 0.8372150959298015\n",
      "epoch time: 16.56min\n",
      "epoch 67\n"
     ]
    },
    {
     "data": {
      "application/vnd.jupyter.widget-view+json": {
       "model_id": "d16b6db016584aa7bdad18af7a99609f",
       "version_major": 2,
       "version_minor": 0
      },
      "text/plain": [
       "train:   0%|          | 0/20000 [00:00<?, ?it/s]"
      ]
     },
     "metadata": {},
     "output_type": "display_data"
    },
    {
     "data": {
      "application/vnd.jupyter.widget-view+json": {
       "model_id": "362c69037c2649d880cc6fdb8214c7b1",
       "version_major": 2,
       "version_minor": 0
      },
      "text/plain": [
       "train val:   0%|          | 0/10000 [00:00<?, ?it/s]"
      ]
     },
     "metadata": {},
     "output_type": "display_data"
    },
    {
     "data": {
      "application/vnd.jupyter.widget-view+json": {
       "model_id": "72b6cb86adf54c4ab18612782906a54f",
       "version_major": 2,
       "version_minor": 0
      },
      "text/plain": [
       "test:   0%|          | 0/10000 [00:00<?, ?it/s]"
      ]
     },
     "metadata": {},
     "output_type": "display_data"
    },
    {
     "name": "stdout",
     "output_type": "stream",
     "text": [
      "train: {'accuracy': 0.5458} loss: 0.6950307304918766\n",
      "train val: {'accuracy': 0.4756} loss: 0.7558771532535553\n",
      "test: {'accuracy': 0.5106} loss: 0.726904780638218\n",
      "epoch time: 16.39min\n",
      "epoch 68\n"
     ]
    },
    {
     "data": {
      "application/vnd.jupyter.widget-view+json": {
       "model_id": "89ea1163dd1b4d208ed62358a3f72c69",
       "version_major": 2,
       "version_minor": 0
      },
      "text/plain": [
       "train:   0%|          | 0/20000 [00:00<?, ?it/s]"
      ]
     },
     "metadata": {},
     "output_type": "display_data"
    },
    {
     "data": {
      "application/vnd.jupyter.widget-view+json": {
       "model_id": "4f9cbb09b8bb471d968a74e5e38e5317",
       "version_major": 2,
       "version_minor": 0
      },
      "text/plain": [
       "train val:   0%|          | 0/10000 [00:00<?, ?it/s]"
      ]
     },
     "metadata": {},
     "output_type": "display_data"
    },
    {
     "data": {
      "application/vnd.jupyter.widget-view+json": {
       "model_id": "aa86345c02784ea58e9a1ec0ec24927d",
       "version_major": 2,
       "version_minor": 0
      },
      "text/plain": [
       "test:   0%|          | 0/10000 [00:00<?, ?it/s]"
      ]
     },
     "metadata": {},
     "output_type": "display_data"
    },
    {
     "name": "stdout",
     "output_type": "stream",
     "text": [
      "train: {'accuracy': 0.57925} loss: 0.66919618011415\n",
      "train val: {'accuracy': 0.6648} loss: 0.6232781063675881\n",
      "test: {'accuracy': 0.5007} loss: 0.6977160790085792\n",
      "epoch time: 16.09min\n",
      "epoch 69\n"
     ]
    },
    {
     "data": {
      "application/vnd.jupyter.widget-view+json": {
       "model_id": "9428f839453c4141866a2d3b0580b1f2",
       "version_major": 2,
       "version_minor": 0
      },
      "text/plain": [
       "train:   0%|          | 0/20000 [00:00<?, ?it/s]"
      ]
     },
     "metadata": {},
     "output_type": "display_data"
    },
    {
     "data": {
      "application/vnd.jupyter.widget-view+json": {
       "model_id": "d87837b68b1b41be8b3e88e50360089c",
       "version_major": 2,
       "version_minor": 0
      },
      "text/plain": [
       "train val:   0%|          | 0/10000 [00:00<?, ?it/s]"
      ]
     },
     "metadata": {},
     "output_type": "display_data"
    },
    {
     "data": {
      "application/vnd.jupyter.widget-view+json": {
       "model_id": "6cb9110aef4040feb7982b7bb70c7131",
       "version_major": 2,
       "version_minor": 0
      },
      "text/plain": [
       "test:   0%|          | 0/10000 [00:00<?, ?it/s]"
      ]
     },
     "metadata": {},
     "output_type": "display_data"
    },
    {
     "name": "stdout",
     "output_type": "stream",
     "text": [
      "train: {'accuracy': 0.6357} loss: 0.6158823770347983\n",
      "train val: {'accuracy': 0.6188} loss: 0.5800273397728801\n",
      "test: {'accuracy': 0.5373} loss: 0.6948786136746407\n",
      "epoch time: 17.12min\n",
      "epoch 70\n"
     ]
    },
    {
     "data": {
      "application/vnd.jupyter.widget-view+json": {
       "model_id": "c446f474276744deab2a89e0a62df395",
       "version_major": 2,
       "version_minor": 0
      },
      "text/plain": [
       "train:   0%|          | 0/20000 [00:00<?, ?it/s]"
      ]
     },
     "metadata": {},
     "output_type": "display_data"
    },
    {
     "data": {
      "application/vnd.jupyter.widget-view+json": {
       "model_id": "d85b802759d24f49aee63e3f4018358c",
       "version_major": 2,
       "version_minor": 0
      },
      "text/plain": [
       "train val:   0%|          | 0/10000 [00:00<?, ?it/s]"
      ]
     },
     "metadata": {},
     "output_type": "display_data"
    },
    {
     "data": {
      "application/vnd.jupyter.widget-view+json": {
       "model_id": "8ab5872c53d840c9bbd9719780d3b0ab",
       "version_major": 2,
       "version_minor": 0
      },
      "text/plain": [
       "test:   0%|          | 0/10000 [00:00<?, ?it/s]"
      ]
     },
     "metadata": {},
     "output_type": "display_data"
    },
    {
     "name": "stdout",
     "output_type": "stream",
     "text": [
      "train: {'accuracy': 0.64805} loss: 0.6022546653017402\n",
      "train val: {'accuracy': 0.6711} loss: 0.6084521661102772\n",
      "test: {'accuracy': 0.5149} loss: 0.6867942536234856\n",
      "epoch time: 16.50min\n",
      "epoch 71\n"
     ]
    },
    {
     "data": {
      "application/vnd.jupyter.widget-view+json": {
       "model_id": "071aed5938fa4adca9f3acd10cd5346c",
       "version_major": 2,
       "version_minor": 0
      },
      "text/plain": [
       "train:   0%|          | 0/20000 [00:00<?, ?it/s]"
      ]
     },
     "metadata": {},
     "output_type": "display_data"
    },
    {
     "data": {
      "application/vnd.jupyter.widget-view+json": {
       "model_id": "184e02e65f9741e892415ad72cc96bd2",
       "version_major": 2,
       "version_minor": 0
      },
      "text/plain": [
       "train val:   0%|          | 0/10000 [00:00<?, ?it/s]"
      ]
     },
     "metadata": {},
     "output_type": "display_data"
    },
    {
     "data": {
      "application/vnd.jupyter.widget-view+json": {
       "model_id": "5ad7a9fe64b044b092f195cb01960cc5",
       "version_major": 2,
       "version_minor": 0
      },
      "text/plain": [
       "test:   0%|          | 0/10000 [00:00<?, ?it/s]"
      ]
     },
     "metadata": {},
     "output_type": "display_data"
    },
    {
     "name": "stdout",
     "output_type": "stream",
     "text": [
      "train: {'accuracy': 0.6545} loss: 0.5942322601433844\n",
      "train val: {'accuracy': 0.6699} loss: 0.6098112634062767\n",
      "test: {'accuracy': 0.5383} loss: 0.6831989003300667\n",
      "epoch time: 16.23min\n",
      "epoch 72\n"
     ]
    },
    {
     "data": {
      "application/vnd.jupyter.widget-view+json": {
       "model_id": "3627ecd6649e4d66894677e2720bc2b5",
       "version_major": 2,
       "version_minor": 0
      },
      "text/plain": [
       "train:   0%|          | 0/20000 [00:00<?, ?it/s]"
      ]
     },
     "metadata": {},
     "output_type": "display_data"
    },
    {
     "data": {
      "application/vnd.jupyter.widget-view+json": {
       "model_id": "e2f33cb992c247e39322566d4937e3fb",
       "version_major": 2,
       "version_minor": 0
      },
      "text/plain": [
       "train val:   0%|          | 0/10000 [00:00<?, ?it/s]"
      ]
     },
     "metadata": {},
     "output_type": "display_data"
    },
    {
     "data": {
      "application/vnd.jupyter.widget-view+json": {
       "model_id": "29bab097878447e596b7c29d64dd3ce3",
       "version_major": 2,
       "version_minor": 0
      },
      "text/plain": [
       "test:   0%|          | 0/10000 [00:00<?, ?it/s]"
      ]
     },
     "metadata": {},
     "output_type": "display_data"
    },
    {
     "name": "stdout",
     "output_type": "stream",
     "text": [
      "train: {'accuracy': 0.65865} loss: 0.5770669899897585\n",
      "train val: {'accuracy': 0.6589} loss: 0.6103768048524857\n",
      "test: {'accuracy': 0.5567} loss: 0.6855943791508675\n",
      "epoch time: 16.03min\n",
      "epoch 73\n"
     ]
    },
    {
     "data": {
      "application/vnd.jupyter.widget-view+json": {
       "model_id": "e09a42cf203a4cd888a7d669f8761b3a",
       "version_major": 2,
       "version_minor": 0
      },
      "text/plain": [
       "train:   0%|          | 0/20000 [00:00<?, ?it/s]"
      ]
     },
     "metadata": {},
     "output_type": "display_data"
    },
    {
     "data": {
      "application/vnd.jupyter.widget-view+json": {
       "model_id": "8d9528f31613482396dbb5943e595e44",
       "version_major": 2,
       "version_minor": 0
      },
      "text/plain": [
       "train val:   0%|          | 0/10000 [00:00<?, ?it/s]"
      ]
     },
     "metadata": {},
     "output_type": "display_data"
    },
    {
     "data": {
      "application/vnd.jupyter.widget-view+json": {
       "model_id": "86608263d4864feabdf4c16a3a214fe4",
       "version_major": 2,
       "version_minor": 0
      },
      "text/plain": [
       "test:   0%|          | 0/10000 [00:00<?, ?it/s]"
      ]
     },
     "metadata": {},
     "output_type": "display_data"
    },
    {
     "name": "stdout",
     "output_type": "stream",
     "text": [
      "train: {'accuracy': 0.6572} loss: 0.5812114943534136\n",
      "train val: {'accuracy': 0.67} loss: 0.5799970477670431\n",
      "test: {'accuracy': 0.6122} loss: 0.6659101774930954\n",
      "epoch time: 17.06min\n",
      "epoch 74\n"
     ]
    },
    {
     "data": {
      "application/vnd.jupyter.widget-view+json": {
       "model_id": "06b430658cfc4907bd812626c1e333bc",
       "version_major": 2,
       "version_minor": 0
      },
      "text/plain": [
       "train:   0%|          | 0/20000 [00:00<?, ?it/s]"
      ]
     },
     "metadata": {},
     "output_type": "display_data"
    },
    {
     "data": {
      "application/vnd.jupyter.widget-view+json": {
       "model_id": "f263216c2a9441c7bf5bbf1a47ff94fa",
       "version_major": 2,
       "version_minor": 0
      },
      "text/plain": [
       "train val:   0%|          | 0/10000 [00:00<?, ?it/s]"
      ]
     },
     "metadata": {},
     "output_type": "display_data"
    },
    {
     "data": {
      "application/vnd.jupyter.widget-view+json": {
       "model_id": "f32e500fddaf4c88b3e19f26b00ceb58",
       "version_major": 2,
       "version_minor": 0
      },
      "text/plain": [
       "test:   0%|          | 0/10000 [00:00<?, ?it/s]"
      ]
     },
     "metadata": {},
     "output_type": "display_data"
    },
    {
     "name": "stdout",
     "output_type": "stream",
     "text": [
      "train: {'accuracy': 0.6745} loss: 0.5664511268235743\n",
      "train val: {'accuracy': 0.6741} loss: 0.6059746125936508\n",
      "test: {'accuracy': 0.5984} loss: 0.6795380562186241\n",
      "epoch time: 16.18min\n",
      "epoch 75\n"
     ]
    },
    {
     "data": {
      "application/vnd.jupyter.widget-view+json": {
       "model_id": "d4c71dd938b14057a8c0bd69f4f53762",
       "version_major": 2,
       "version_minor": 0
      },
      "text/plain": [
       "train:   0%|          | 0/20000 [00:00<?, ?it/s]"
      ]
     },
     "metadata": {},
     "output_type": "display_data"
    },
    {
     "data": {
      "application/vnd.jupyter.widget-view+json": {
       "model_id": "de0356ca774a48a296b9fbb2ffd398a6",
       "version_major": 2,
       "version_minor": 0
      },
      "text/plain": [
       "train val:   0%|          | 0/10000 [00:00<?, ?it/s]"
      ]
     },
     "metadata": {},
     "output_type": "display_data"
    },
    {
     "data": {
      "application/vnd.jupyter.widget-view+json": {
       "model_id": "6b8479970b224275b4f3e302c51a8324",
       "version_major": 2,
       "version_minor": 0
      },
      "text/plain": [
       "test:   0%|          | 0/10000 [00:00<?, ?it/s]"
      ]
     },
     "metadata": {},
     "output_type": "display_data"
    },
    {
     "name": "stdout",
     "output_type": "stream",
     "text": [
      "train: {'accuracy': 0.67435} loss: 0.5649134400932119\n",
      "train val: {'accuracy': 0.677} loss: 0.5706403456777335\n",
      "test: {'accuracy': 0.5966} loss: 0.6797803143501282\n",
      "epoch time: 16.82min\n",
      "epoch 76\n"
     ]
    },
    {
     "data": {
      "application/vnd.jupyter.widget-view+json": {
       "model_id": "aab5cdacd0304997a34f57498511ad35",
       "version_major": 2,
       "version_minor": 0
      },
      "text/plain": [
       "train:   0%|          | 0/20000 [00:00<?, ?it/s]"
      ]
     },
     "metadata": {},
     "output_type": "display_data"
    },
    {
     "data": {
      "application/vnd.jupyter.widget-view+json": {
       "model_id": "833cae01e31e4c14a15f97099b118135",
       "version_major": 2,
       "version_minor": 0
      },
      "text/plain": [
       "train val:   0%|          | 0/10000 [00:00<?, ?it/s]"
      ]
     },
     "metadata": {},
     "output_type": "display_data"
    },
    {
     "data": {
      "application/vnd.jupyter.widget-view+json": {
       "model_id": "9e08dd4fcc504f54be7357f9b162bbeb",
       "version_major": 2,
       "version_minor": 0
      },
      "text/plain": [
       "test:   0%|          | 0/10000 [00:00<?, ?it/s]"
      ]
     },
     "metadata": {},
     "output_type": "display_data"
    },
    {
     "name": "stdout",
     "output_type": "stream",
     "text": [
      "train: {'accuracy': 0.6781} loss: 0.5625772573251278\n",
      "train val: {'accuracy': 0.6793} loss: 0.5546775067657232\n",
      "test: {'accuracy': 0.5969} loss: 0.6709079030752182\n",
      "epoch time: 16.34min\n",
      "epoch 77\n"
     ]
    },
    {
     "data": {
      "application/vnd.jupyter.widget-view+json": {
       "model_id": "4e775f72aaa74f879c7d51c1d950a8eb",
       "version_major": 2,
       "version_minor": 0
      },
      "text/plain": [
       "train:   0%|          | 0/20000 [00:00<?, ?it/s]"
      ]
     },
     "metadata": {},
     "output_type": "display_data"
    },
    {
     "data": {
      "application/vnd.jupyter.widget-view+json": {
       "model_id": "c106de36ce1a4422965fbbdf11eaf546",
       "version_major": 2,
       "version_minor": 0
      },
      "text/plain": [
       "train val:   0%|          | 0/10000 [00:00<?, ?it/s]"
      ]
     },
     "metadata": {},
     "output_type": "display_data"
    },
    {
     "data": {
      "application/vnd.jupyter.widget-view+json": {
       "model_id": "7d4ffe33bece403da338792b0839a792",
       "version_major": 2,
       "version_minor": 0
      },
      "text/plain": [
       "test:   0%|          | 0/10000 [00:00<?, ?it/s]"
      ]
     },
     "metadata": {},
     "output_type": "display_data"
    },
    {
     "name": "stdout",
     "output_type": "stream",
     "text": [
      "train: {'accuracy': 0.67725} loss: 0.5624359168002732\n",
      "train val: {'accuracy': 0.6785} loss: 0.5646795721322299\n",
      "test: {'accuracy': 0.605} loss: 0.6774349558591842\n",
      "epoch time: 16.89min\n",
      "epoch 78\n"
     ]
    },
    {
     "data": {
      "application/vnd.jupyter.widget-view+json": {
       "model_id": "e33221c81fca4da3b01cabccb09fa939",
       "version_major": 2,
       "version_minor": 0
      },
      "text/plain": [
       "train:   0%|          | 0/20000 [00:00<?, ?it/s]"
      ]
     },
     "metadata": {},
     "output_type": "display_data"
    },
    {
     "data": {
      "application/vnd.jupyter.widget-view+json": {
       "model_id": "6c71e00aa1b2436b831964711ba96760",
       "version_major": 2,
       "version_minor": 0
      },
      "text/plain": [
       "train val:   0%|          | 0/10000 [00:00<?, ?it/s]"
      ]
     },
     "metadata": {},
     "output_type": "display_data"
    },
    {
     "data": {
      "application/vnd.jupyter.widget-view+json": {
       "model_id": "4f7a9352748c4c63938d47c0d747fc1f",
       "version_major": 2,
       "version_minor": 0
      },
      "text/plain": [
       "test:   0%|          | 0/10000 [00:00<?, ?it/s]"
      ]
     },
     "metadata": {},
     "output_type": "display_data"
    },
    {
     "name": "stdout",
     "output_type": "stream",
     "text": [
      "train: {'accuracy': 0.68115} loss: 0.5566164871193469\n",
      "train val: {'accuracy': 0.6762} loss: 0.5726637514412403\n",
      "test: {'accuracy': 0.645} loss: 0.6379768812537193\n",
      "epoch time: 16.45min\n",
      "epoch 79\n"
     ]
    },
    {
     "data": {
      "application/vnd.jupyter.widget-view+json": {
       "model_id": "c617f659d89f4cbea9ba68ec5e4a9ba5",
       "version_major": 2,
       "version_minor": 0
      },
      "text/plain": [
       "train:   0%|          | 0/20000 [00:00<?, ?it/s]"
      ]
     },
     "metadata": {},
     "output_type": "display_data"
    },
    {
     "data": {
      "application/vnd.jupyter.widget-view+json": {
       "model_id": "f2ebafa7e2cb4981a7aa1bace521c260",
       "version_major": 2,
       "version_minor": 0
      },
      "text/plain": [
       "train val:   0%|          | 0/10000 [00:00<?, ?it/s]"
      ]
     },
     "metadata": {},
     "output_type": "display_data"
    },
    {
     "data": {
      "application/vnd.jupyter.widget-view+json": {
       "model_id": "5cea19b63025476195e11a51798c8ebe",
       "version_major": 2,
       "version_minor": 0
      },
      "text/plain": [
       "test:   0%|          | 0/10000 [00:00<?, ?it/s]"
      ]
     },
     "metadata": {},
     "output_type": "display_data"
    },
    {
     "name": "stdout",
     "output_type": "stream",
     "text": [
      "train: {'accuracy': 0.6826} loss: 0.5546887269832194\n",
      "train val: {'accuracy': 0.6783} loss: 0.5908378523766995\n",
      "test: {'accuracy': 0.6311} loss: 0.6687863513708114\n",
      "epoch time: 16.61min\n",
      "epoch 80\n"
     ]
    },
    {
     "data": {
      "application/vnd.jupyter.widget-view+json": {
       "model_id": "dd671a815a3241f8ba14c5b1a1978f14",
       "version_major": 2,
       "version_minor": 0
      },
      "text/plain": [
       "train:   0%|          | 0/20000 [00:00<?, ?it/s]"
      ]
     },
     "metadata": {},
     "output_type": "display_data"
    },
    {
     "data": {
      "application/vnd.jupyter.widget-view+json": {
       "model_id": "44bbbded5eb14cf4a1bd425c29351ca6",
       "version_major": 2,
       "version_minor": 0
      },
      "text/plain": [
       "train val:   0%|          | 0/10000 [00:00<?, ?it/s]"
      ]
     },
     "metadata": {},
     "output_type": "display_data"
    },
    {
     "data": {
      "application/vnd.jupyter.widget-view+json": {
       "model_id": "78357e4dee8c4a63ac87a0f17723af56",
       "version_major": 2,
       "version_minor": 0
      },
      "text/plain": [
       "test:   0%|          | 0/10000 [00:00<?, ?it/s]"
      ]
     },
     "metadata": {},
     "output_type": "display_data"
    },
    {
     "name": "stdout",
     "output_type": "stream",
     "text": [
      "train: {'accuracy': 0.6901} loss: 0.5512915297485887\n",
      "train val: {'accuracy': 0.6825} loss: 0.5635703306853771\n",
      "test: {'accuracy': 0.5974} loss: 0.6641324471354485\n",
      "epoch time: 16.23min\n",
      "epoch 81\n"
     ]
    },
    {
     "data": {
      "application/vnd.jupyter.widget-view+json": {
       "model_id": "9ed4fb09c60d4292b90d87ee9cd2d6c6",
       "version_major": 2,
       "version_minor": 0
      },
      "text/plain": [
       "train:   0%|          | 0/20000 [00:00<?, ?it/s]"
      ]
     },
     "metadata": {},
     "output_type": "display_data"
    },
    {
     "data": {
      "application/vnd.jupyter.widget-view+json": {
       "model_id": "8eae818f3219496b8ea8098225be6cf9",
       "version_major": 2,
       "version_minor": 0
      },
      "text/plain": [
       "train val:   0%|          | 0/10000 [00:00<?, ?it/s]"
      ]
     },
     "metadata": {},
     "output_type": "display_data"
    },
    {
     "data": {
      "application/vnd.jupyter.widget-view+json": {
       "model_id": "fc689f01ad28440f80dbad8e183c967b",
       "version_major": 2,
       "version_minor": 0
      },
      "text/plain": [
       "test:   0%|          | 0/10000 [00:00<?, ?it/s]"
      ]
     },
     "metadata": {},
     "output_type": "display_data"
    },
    {
     "name": "stdout",
     "output_type": "stream",
     "text": [
      "train: {'accuracy': 0.68415} loss: 0.5510016732804477\n",
      "train val: {'accuracy': 0.6833} loss: 0.5706749406635762\n",
      "test: {'accuracy': 0.6232} loss: 0.6648777266860009\n",
      "epoch time: 16.21min\n",
      "epoch 82\n"
     ]
    },
    {
     "data": {
      "application/vnd.jupyter.widget-view+json": {
       "model_id": "1d765a2ae2b946618722078e78e96e13",
       "version_major": 2,
       "version_minor": 0
      },
      "text/plain": [
       "train:   0%|          | 0/20000 [00:00<?, ?it/s]"
      ]
     },
     "metadata": {},
     "output_type": "display_data"
    },
    {
     "data": {
      "application/vnd.jupyter.widget-view+json": {
       "model_id": "42bda168929d4caf8d021f9ce17c2da6",
       "version_major": 2,
       "version_minor": 0
      },
      "text/plain": [
       "train val:   0%|          | 0/10000 [00:00<?, ?it/s]"
      ]
     },
     "metadata": {},
     "output_type": "display_data"
    },
    {
     "data": {
      "application/vnd.jupyter.widget-view+json": {
       "model_id": "50c813de41c84df78e23aedf8da97b7a",
       "version_major": 2,
       "version_minor": 0
      },
      "text/plain": [
       "test:   0%|          | 0/10000 [00:00<?, ?it/s]"
      ]
     },
     "metadata": {},
     "output_type": "display_data"
    },
    {
     "name": "stdout",
     "output_type": "stream",
     "text": [
      "train: {'accuracy': 0.6831} loss: 0.5563803624021472\n",
      "train val: {'accuracy': 0.6826} loss: 0.5720634600430727\n",
      "test: {'accuracy': 0.6275} loss: 0.6562074196577072\n",
      "epoch time: 16.45min\n",
      "epoch 83\n"
     ]
    },
    {
     "data": {
      "application/vnd.jupyter.widget-view+json": {
       "model_id": "6555e4b2a7204cc7ba4c00f264c359c4",
       "version_major": 2,
       "version_minor": 0
      },
      "text/plain": [
       "train:   0%|          | 0/20000 [00:00<?, ?it/s]"
      ]
     },
     "metadata": {},
     "output_type": "display_data"
    },
    {
     "data": {
      "application/vnd.jupyter.widget-view+json": {
       "model_id": "d17831f59f2e454da39a195741fa6c22",
       "version_major": 2,
       "version_minor": 0
      },
      "text/plain": [
       "train val:   0%|          | 0/10000 [00:00<?, ?it/s]"
      ]
     },
     "metadata": {},
     "output_type": "display_data"
    },
    {
     "data": {
      "application/vnd.jupyter.widget-view+json": {
       "model_id": "2b16d90912964f9e82db87627e38c4f8",
       "version_major": 2,
       "version_minor": 0
      },
      "text/plain": [
       "test:   0%|          | 0/10000 [00:00<?, ?it/s]"
      ]
     },
     "metadata": {},
     "output_type": "display_data"
    },
    {
     "name": "stdout",
     "output_type": "stream",
     "text": [
      "train: {'accuracy': 0.68445} loss: 0.5536327035784722\n",
      "train val: {'accuracy': 0.6807} loss: 0.5886469828009605\n",
      "test: {'accuracy': 0.6112} loss: 0.6774987057805061\n",
      "epoch time: 16.65min\n",
      "epoch 84\n"
     ]
    },
    {
     "data": {
      "application/vnd.jupyter.widget-view+json": {
       "model_id": "72504c47c7ff44d4ac94915c1ed92b86",
       "version_major": 2,
       "version_minor": 0
      },
      "text/plain": [
       "train:   0%|          | 0/20000 [00:00<?, ?it/s]"
      ]
     },
     "metadata": {},
     "output_type": "display_data"
    },
    {
     "data": {
      "application/vnd.jupyter.widget-view+json": {
       "model_id": "3bf07df742c045b5882f1e63bf8b634c",
       "version_major": 2,
       "version_minor": 0
      },
      "text/plain": [
       "train val:   0%|          | 0/10000 [00:00<?, ?it/s]"
      ]
     },
     "metadata": {},
     "output_type": "display_data"
    },
    {
     "data": {
      "application/vnd.jupyter.widget-view+json": {
       "model_id": "76366da47e8344ec83020789ef1e3f11",
       "version_major": 2,
       "version_minor": 0
      },
      "text/plain": [
       "test:   0%|          | 0/10000 [00:00<?, ?it/s]"
      ]
     },
     "metadata": {},
     "output_type": "display_data"
    },
    {
     "name": "stdout",
     "output_type": "stream",
     "text": [
      "train: {'accuracy': 0.6843} loss: 0.551475761084631\n",
      "train val: {'accuracy': 0.6827} loss: 0.5744986033678054\n",
      "test: {'accuracy': 0.6267} loss: 0.6649392602920532\n",
      "epoch time: 17.00min\n",
      "epoch 85\n"
     ]
    },
    {
     "data": {
      "application/vnd.jupyter.widget-view+json": {
       "model_id": "f0cc11a19a0a45dc8f4c980d54ebf657",
       "version_major": 2,
       "version_minor": 0
      },
      "text/plain": [
       "train:   0%|          | 0/20000 [00:00<?, ?it/s]"
      ]
     },
     "metadata": {},
     "output_type": "display_data"
    },
    {
     "data": {
      "application/vnd.jupyter.widget-view+json": {
       "model_id": "c38d66f64e0a4458993118ed9bba327b",
       "version_major": 2,
       "version_minor": 0
      },
      "text/plain": [
       "train val:   0%|          | 0/10000 [00:00<?, ?it/s]"
      ]
     },
     "metadata": {},
     "output_type": "display_data"
    },
    {
     "data": {
      "application/vnd.jupyter.widget-view+json": {
       "model_id": "f90463ba641e47eab364e2913c87052d",
       "version_major": 2,
       "version_minor": 0
      },
      "text/plain": [
       "test:   0%|          | 0/10000 [00:00<?, ?it/s]"
      ]
     },
     "metadata": {},
     "output_type": "display_data"
    },
    {
     "name": "stdout",
     "output_type": "stream",
     "text": [
      "train: {'accuracy': 0.6955} loss: 0.5427440061021597\n",
      "train val: {'accuracy': 0.6888} loss: 0.5613787086218596\n",
      "test: {'accuracy': 0.6174} loss: 0.6623060029745101\n",
      "epoch time: 16.55min\n",
      "epoch 86\n"
     ]
    },
    {
     "data": {
      "application/vnd.jupyter.widget-view+json": {
       "model_id": "b372697d9c174135b1647563f027ba77",
       "version_major": 2,
       "version_minor": 0
      },
      "text/plain": [
       "train:   0%|          | 0/20000 [00:00<?, ?it/s]"
      ]
     },
     "metadata": {},
     "output_type": "display_data"
    },
    {
     "data": {
      "application/vnd.jupyter.widget-view+json": {
       "model_id": "584f18d6113d420e92d448df06b76768",
       "version_major": 2,
       "version_minor": 0
      },
      "text/plain": [
       "train val:   0%|          | 0/10000 [00:00<?, ?it/s]"
      ]
     },
     "metadata": {},
     "output_type": "display_data"
    },
    {
     "data": {
      "application/vnd.jupyter.widget-view+json": {
       "model_id": "18492989f23b4f82a668067e6b813be1",
       "version_major": 2,
       "version_minor": 0
      },
      "text/plain": [
       "test:   0%|          | 0/10000 [00:00<?, ?it/s]"
      ]
     },
     "metadata": {},
     "output_type": "display_data"
    },
    {
     "name": "stdout",
     "output_type": "stream",
     "text": [
      "train: {'accuracy': 0.69605} loss: 0.5397577558114194\n",
      "train val: {'accuracy': 0.6893} loss: 0.5616906631320715\n",
      "test: {'accuracy': 0.6081} loss: 0.6602988770365715\n",
      "epoch time: 16.02min\n",
      "epoch 87\n"
     ]
    },
    {
     "data": {
      "application/vnd.jupyter.widget-view+json": {
       "model_id": "f7c0b7f5459942eb8121604f3eab977c",
       "version_major": 2,
       "version_minor": 0
      },
      "text/plain": [
       "train:   0%|          | 0/20000 [00:00<?, ?it/s]"
      ]
     },
     "metadata": {},
     "output_type": "display_data"
    },
    {
     "data": {
      "application/vnd.jupyter.widget-view+json": {
       "model_id": "04281e22e019450aa7a56836acf5306d",
       "version_major": 2,
       "version_minor": 0
      },
      "text/plain": [
       "train val:   0%|          | 0/10000 [00:00<?, ?it/s]"
      ]
     },
     "metadata": {},
     "output_type": "display_data"
    },
    {
     "data": {
      "application/vnd.jupyter.widget-view+json": {
       "model_id": "7df511d4826748e29a48ea01ceb1611e",
       "version_major": 2,
       "version_minor": 0
      },
      "text/plain": [
       "test:   0%|          | 0/10000 [00:00<?, ?it/s]"
      ]
     },
     "metadata": {},
     "output_type": "display_data"
    },
    {
     "name": "stdout",
     "output_type": "stream",
     "text": [
      "train: {'accuracy': 0.69585} loss: 0.5378912607646321\n",
      "train val: {'accuracy': 0.6935} loss: 0.5513443793207407\n",
      "test: {'accuracy': 0.613} loss: 0.6631573091387749\n",
      "epoch time: 16.72min\n",
      "epoch 88\n"
     ]
    },
    {
     "data": {
      "application/vnd.jupyter.widget-view+json": {
       "model_id": "84c8494f5f79400aa1e23db290580f5d",
       "version_major": 2,
       "version_minor": 0
      },
      "text/plain": [
       "train:   0%|          | 0/20000 [00:00<?, ?it/s]"
      ]
     },
     "metadata": {},
     "output_type": "display_data"
    },
    {
     "data": {
      "application/vnd.jupyter.widget-view+json": {
       "model_id": "d896e84379544704a0080c192272da99",
       "version_major": 2,
       "version_minor": 0
      },
      "text/plain": [
       "train val:   0%|          | 0/10000 [00:00<?, ?it/s]"
      ]
     },
     "metadata": {},
     "output_type": "display_data"
    },
    {
     "data": {
      "application/vnd.jupyter.widget-view+json": {
       "model_id": "323530fc40dd43d0bcb12f123c401903",
       "version_major": 2,
       "version_minor": 0
      },
      "text/plain": [
       "test:   0%|          | 0/10000 [00:00<?, ?it/s]"
      ]
     },
     "metadata": {},
     "output_type": "display_data"
    },
    {
     "name": "stdout",
     "output_type": "stream",
     "text": [
      "train: {'accuracy': 0.6957} loss: 0.5344540726298467\n",
      "train val: {'accuracy': 0.6859} loss: 0.5716922341048718\n",
      "test: {'accuracy': 0.6452} loss: 0.642309991300106\n",
      "epoch time: 16.23min\n",
      "epoch 89\n"
     ]
    },
    {
     "data": {
      "application/vnd.jupyter.widget-view+json": {
       "model_id": "ec02bd90a01745749ce3f433e142e163",
       "version_major": 2,
       "version_minor": 0
      },
      "text/plain": [
       "train:   0%|          | 0/20000 [00:00<?, ?it/s]"
      ]
     },
     "metadata": {},
     "output_type": "display_data"
    },
    {
     "data": {
      "application/vnd.jupyter.widget-view+json": {
       "model_id": "2680df00451c4b63b7cabe151fba73cc",
       "version_major": 2,
       "version_minor": 0
      },
      "text/plain": [
       "train val:   0%|          | 0/10000 [00:00<?, ?it/s]"
      ]
     },
     "metadata": {},
     "output_type": "display_data"
    },
    {
     "data": {
      "application/vnd.jupyter.widget-view+json": {
       "model_id": "590561c8fbb44888b666e66b1c155083",
       "version_major": 2,
       "version_minor": 0
      },
      "text/plain": [
       "test:   0%|          | 0/10000 [00:00<?, ?it/s]"
      ]
     },
     "metadata": {},
     "output_type": "display_data"
    },
    {
     "name": "stdout",
     "output_type": "stream",
     "text": [
      "train: {'accuracy': 0.69815} loss: 0.5366030247587944\n",
      "train val: {'accuracy': 0.6928} loss: 0.5568987752318382\n",
      "test: {'accuracy': 0.6415} loss: 0.6466519674062728\n",
      "epoch time: 16.42min\n",
      "epoch 90\n"
     ]
    },
    {
     "data": {
      "application/vnd.jupyter.widget-view+json": {
       "model_id": "080f6c4212db459bbace608235d4bc87",
       "version_major": 2,
       "version_minor": 0
      },
      "text/plain": [
       "train:   0%|          | 0/20000 [00:00<?, ?it/s]"
      ]
     },
     "metadata": {},
     "output_type": "display_data"
    },
    {
     "data": {
      "application/vnd.jupyter.widget-view+json": {
       "model_id": "2f579280a79d4646bc862c6bd47b3866",
       "version_major": 2,
       "version_minor": 0
      },
      "text/plain": [
       "train val:   0%|          | 0/10000 [00:00<?, ?it/s]"
      ]
     },
     "metadata": {},
     "output_type": "display_data"
    },
    {
     "data": {
      "application/vnd.jupyter.widget-view+json": {
       "model_id": "ae7488757b1f4de9b8772a87a195428d",
       "version_major": 2,
       "version_minor": 0
      },
      "text/plain": [
       "test:   0%|          | 0/10000 [00:00<?, ?it/s]"
      ]
     },
     "metadata": {},
     "output_type": "display_data"
    },
    {
     "name": "stdout",
     "output_type": "stream",
     "text": [
      "train: {'accuracy': 0.70385} loss: 0.5341723330974579\n",
      "train val: {'accuracy': 0.696} loss: 0.5565834381759167\n",
      "test: {'accuracy': 0.6353} loss: 0.6442320507884025\n",
      "epoch time: 16.25min\n",
      "epoch 91\n"
     ]
    },
    {
     "data": {
      "application/vnd.jupyter.widget-view+json": {
       "model_id": "68c1ac47748d4e9c80dca1526b282062",
       "version_major": 2,
       "version_minor": 0
      },
      "text/plain": [
       "train:   0%|          | 0/20000 [00:00<?, ?it/s]"
      ]
     },
     "metadata": {},
     "output_type": "display_data"
    },
    {
     "data": {
      "application/vnd.jupyter.widget-view+json": {
       "model_id": "2002205247974c25800802eb65e21059",
       "version_major": 2,
       "version_minor": 0
      },
      "text/plain": [
       "train val:   0%|          | 0/10000 [00:00<?, ?it/s]"
      ]
     },
     "metadata": {},
     "output_type": "display_data"
    },
    {
     "data": {
      "application/vnd.jupyter.widget-view+json": {
       "model_id": "a990b806fa0747f6bcb7b9c0f031b310",
       "version_major": 2,
       "version_minor": 0
      },
      "text/plain": [
       "test:   0%|          | 0/10000 [00:00<?, ?it/s]"
      ]
     },
     "metadata": {},
     "output_type": "display_data"
    },
    {
     "name": "stdout",
     "output_type": "stream",
     "text": [
      "train: {'accuracy': 0.70295} loss: 0.5318304283905775\n",
      "train val: {'accuracy': 0.693} loss: 0.5563340867429972\n",
      "test: {'accuracy': 0.6454} loss: 0.6503355922222137\n",
      "epoch time: 16.28min\n",
      "epoch 92\n"
     ]
    },
    {
     "data": {
      "application/vnd.jupyter.widget-view+json": {
       "model_id": "03294fc7f6f14f5aa9e716465c6ad998",
       "version_major": 2,
       "version_minor": 0
      },
      "text/plain": [
       "train:   0%|          | 0/20000 [00:00<?, ?it/s]"
      ]
     },
     "metadata": {},
     "output_type": "display_data"
    },
    {
     "data": {
      "application/vnd.jupyter.widget-view+json": {
       "model_id": "4b702e9b240441548cd6103c51bb10fd",
       "version_major": 2,
       "version_minor": 0
      },
      "text/plain": [
       "train val:   0%|          | 0/10000 [00:00<?, ?it/s]"
      ]
     },
     "metadata": {},
     "output_type": "display_data"
    },
    {
     "data": {
      "application/vnd.jupyter.widget-view+json": {
       "model_id": "413bd05ccea9432e887cb225c20e6956",
       "version_major": 2,
       "version_minor": 0
      },
      "text/plain": [
       "test:   0%|          | 0/10000 [00:00<?, ?it/s]"
      ]
     },
     "metadata": {},
     "output_type": "display_data"
    },
    {
     "name": "stdout",
     "output_type": "stream",
     "text": [
      "train: {'accuracy': 0.69745} loss: 0.5320420153267682\n",
      "train val: {'accuracy': 0.6916} loss: 0.5823991558074951\n",
      "test: {'accuracy': 0.6458} loss: 0.64983454246521\n",
      "epoch time: 16.87min\n",
      "epoch 93\n"
     ]
    },
    {
     "data": {
      "application/vnd.jupyter.widget-view+json": {
       "model_id": "1c3ee85c6aa54a6ba7679a357464b5f0",
       "version_major": 2,
       "version_minor": 0
      },
      "text/plain": [
       "train:   0%|          | 0/20000 [00:00<?, ?it/s]"
      ]
     },
     "metadata": {},
     "output_type": "display_data"
    },
    {
     "data": {
      "application/vnd.jupyter.widget-view+json": {
       "model_id": "24479412d8034dd7bf6a7be814d4c4c7",
       "version_major": 2,
       "version_minor": 0
      },
      "text/plain": [
       "train val:   0%|          | 0/10000 [00:00<?, ?it/s]"
      ]
     },
     "metadata": {},
     "output_type": "display_data"
    },
    {
     "data": {
      "application/vnd.jupyter.widget-view+json": {
       "model_id": "dd27a3c312784e27baecbfad00bde447",
       "version_major": 2,
       "version_minor": 0
      },
      "text/plain": [
       "test:   0%|          | 0/10000 [00:00<?, ?it/s]"
      ]
     },
     "metadata": {},
     "output_type": "display_data"
    },
    {
     "name": "stdout",
     "output_type": "stream",
     "text": [
      "train: {'accuracy': 0.7093} loss: 0.5307276310182643\n",
      "train val: {'accuracy': 0.6943} loss: 0.5723373819649219\n",
      "test: {'accuracy': 0.6287} loss: 0.6543218973755837\n",
      "epoch time: 17.64min\n",
      "epoch 94\n"
     ]
    },
    {
     "data": {
      "application/vnd.jupyter.widget-view+json": {
       "model_id": "9a5bded1d7c0427baed2c8f041e43c6c",
       "version_major": 2,
       "version_minor": 0
      },
      "text/plain": [
       "train:   0%|          | 0/20000 [00:00<?, ?it/s]"
      ]
     },
     "metadata": {},
     "output_type": "display_data"
    },
    {
     "data": {
      "application/vnd.jupyter.widget-view+json": {
       "model_id": "407614d271b6474982e45ef09c6f16d0",
       "version_major": 2,
       "version_minor": 0
      },
      "text/plain": [
       "train val:   0%|          | 0/10000 [00:00<?, ?it/s]"
      ]
     },
     "metadata": {},
     "output_type": "display_data"
    },
    {
     "data": {
      "application/vnd.jupyter.widget-view+json": {
       "model_id": "19080f9b373c4c5891b5d50c50c5b152",
       "version_major": 2,
       "version_minor": 0
      },
      "text/plain": [
       "test:   0%|          | 0/10000 [00:00<?, ?it/s]"
      ]
     },
     "metadata": {},
     "output_type": "display_data"
    },
    {
     "name": "stdout",
     "output_type": "stream",
     "text": [
      "train: {'accuracy': 0.7053} loss: 0.5301671376655577\n",
      "train val: {'accuracy': 0.6918} loss: 0.5739717519998551\n",
      "test: {'accuracy': 0.649} loss: 0.6422775353312492\n",
      "epoch time: 19.17min\n",
      "epoch 95\n"
     ]
    },
    {
     "data": {
      "application/vnd.jupyter.widget-view+json": {
       "model_id": "1cceeda2b5e540b6b1b2c02682d5aa00",
       "version_major": 2,
       "version_minor": 0
      },
      "text/plain": [
       "train:   0%|          | 0/20000 [00:00<?, ?it/s]"
      ]
     },
     "metadata": {},
     "output_type": "display_data"
    },
    {
     "data": {
      "application/vnd.jupyter.widget-view+json": {
       "model_id": "c51d670a6f9b47c58fb5db46ccb8cbe9",
       "version_major": 2,
       "version_minor": 0
      },
      "text/plain": [
       "train val:   0%|          | 0/10000 [00:00<?, ?it/s]"
      ]
     },
     "metadata": {},
     "output_type": "display_data"
    },
    {
     "data": {
      "application/vnd.jupyter.widget-view+json": {
       "model_id": "ee28708df5cd42c2804f7cdb5dc15580",
       "version_major": 2,
       "version_minor": 0
      },
      "text/plain": [
       "test:   0%|          | 0/10000 [00:00<?, ?it/s]"
      ]
     },
     "metadata": {},
     "output_type": "display_data"
    },
    {
     "name": "stdout",
     "output_type": "stream",
     "text": [
      "train: {'accuracy': 0.70205} loss: 0.5337336874946952\n",
      "train val: {'accuracy': 0.6899} loss: 0.570110905945301\n",
      "test: {'accuracy': 0.6019} loss: 0.6674351117134094\n",
      "epoch time: 18.99min\n",
      "epoch 96\n"
     ]
    },
    {
     "data": {
      "application/vnd.jupyter.widget-view+json": {
       "model_id": "67b8a1e451e542edaaa1df340ff8ed12",
       "version_major": 2,
       "version_minor": 0
      },
      "text/plain": [
       "train:   0%|          | 0/20000 [00:00<?, ?it/s]"
      ]
     },
     "metadata": {},
     "output_type": "display_data"
    },
    {
     "data": {
      "application/vnd.jupyter.widget-view+json": {
       "model_id": "963d8ce9f0bb47da8f5e815048b9316e",
       "version_major": 2,
       "version_minor": 0
      },
      "text/plain": [
       "train val:   0%|          | 0/10000 [00:00<?, ?it/s]"
      ]
     },
     "metadata": {},
     "output_type": "display_data"
    },
    {
     "data": {
      "application/vnd.jupyter.widget-view+json": {
       "model_id": "e2c63766ea2d41a5a92290e25692bc34",
       "version_major": 2,
       "version_minor": 0
      },
      "text/plain": [
       "test:   0%|          | 0/10000 [00:00<?, ?it/s]"
      ]
     },
     "metadata": {},
     "output_type": "display_data"
    },
    {
     "name": "stdout",
     "output_type": "stream",
     "text": [
      "train: {'accuracy': 0.70585} loss: 0.5287456960555166\n",
      "train val: {'accuracy': 0.6962} loss: 0.5602055155992508\n",
      "test: {'accuracy': 0.6149} loss: 0.6498424701333047\n",
      "epoch time: 20.23min\n",
      "epoch 97\n"
     ]
    },
    {
     "data": {
      "application/vnd.jupyter.widget-view+json": {
       "model_id": "e7df0329967849f9b8e5c2917dc385bb",
       "version_major": 2,
       "version_minor": 0
      },
      "text/plain": [
       "train:   0%|          | 0/20000 [00:00<?, ?it/s]"
      ]
     },
     "metadata": {},
     "output_type": "display_data"
    },
    {
     "data": {
      "application/vnd.jupyter.widget-view+json": {
       "model_id": "69413ea6a70d4845a63685846715482a",
       "version_major": 2,
       "version_minor": 0
      },
      "text/plain": [
       "train val:   0%|          | 0/10000 [00:00<?, ?it/s]"
      ]
     },
     "metadata": {},
     "output_type": "display_data"
    },
    {
     "data": {
      "application/vnd.jupyter.widget-view+json": {
       "model_id": "198c9a20c7304d0c8f5c1b49736edccc",
       "version_major": 2,
       "version_minor": 0
      },
      "text/plain": [
       "test:   0%|          | 0/10000 [00:00<?, ?it/s]"
      ]
     },
     "metadata": {},
     "output_type": "display_data"
    },
    {
     "name": "stdout",
     "output_type": "stream",
     "text": [
      "train: {'accuracy': 0.711} loss: 0.5275163939048536\n",
      "train val: {'accuracy': 0.6932} loss: 0.5673470091223717\n",
      "test: {'accuracy': 0.6192} loss: 0.6572561732530594\n",
      "epoch time: 19.49min\n",
      "epoch 98\n"
     ]
    },
    {
     "data": {
      "application/vnd.jupyter.widget-view+json": {
       "model_id": "497e8bcaee924d84840bca38523e8b99",
       "version_major": 2,
       "version_minor": 0
      },
      "text/plain": [
       "train:   0%|          | 0/20000 [00:00<?, ?it/s]"
      ]
     },
     "metadata": {},
     "output_type": "display_data"
    },
    {
     "data": {
      "application/vnd.jupyter.widget-view+json": {
       "model_id": "1a19b6dc49d14705b96ead88f7fb0d8c",
       "version_major": 2,
       "version_minor": 0
      },
      "text/plain": [
       "train val:   0%|          | 0/10000 [00:00<?, ?it/s]"
      ]
     },
     "metadata": {},
     "output_type": "display_data"
    },
    {
     "data": {
      "application/vnd.jupyter.widget-view+json": {
       "model_id": "1294dd47b1af494183300e6bcc4019bf",
       "version_major": 2,
       "version_minor": 0
      },
      "text/plain": [
       "test:   0%|          | 0/10000 [00:00<?, ?it/s]"
      ]
     },
     "metadata": {},
     "output_type": "display_data"
    },
    {
     "name": "stdout",
     "output_type": "stream",
     "text": [
      "train: {'accuracy': 0.7097} loss: 0.5258638797266408\n",
      "train val: {'accuracy': 0.6913} loss: 0.5614567510306835\n",
      "test: {'accuracy': 0.6159} loss: 0.6636211219191551\n",
      "epoch time: 19.28min\n",
      "epoch 99\n"
     ]
    },
    {
     "data": {
      "application/vnd.jupyter.widget-view+json": {
       "model_id": "36928565b2274b4a80575bda26145030",
       "version_major": 2,
       "version_minor": 0
      },
      "text/plain": [
       "train:   0%|          | 0/20000 [00:00<?, ?it/s]"
      ]
     },
     "metadata": {},
     "output_type": "display_data"
    },
    {
     "data": {
      "application/vnd.jupyter.widget-view+json": {
       "model_id": "4914a7a7e74844bc8b084e9f54751b0c",
       "version_major": 2,
       "version_minor": 0
      },
      "text/plain": [
       "train val:   0%|          | 0/10000 [00:00<?, ?it/s]"
      ]
     },
     "metadata": {},
     "output_type": "display_data"
    },
    {
     "data": {
      "application/vnd.jupyter.widget-view+json": {
       "model_id": "9ba5aeabf5de4d609720a1e452045d1d",
       "version_major": 2,
       "version_minor": 0
      },
      "text/plain": [
       "test:   0%|          | 0/10000 [00:00<?, ?it/s]"
      ]
     },
     "metadata": {},
     "output_type": "display_data"
    },
    {
     "name": "stdout",
     "output_type": "stream",
     "text": [
      "train: {'accuracy': 0.70885} loss: 0.5282410882648081\n",
      "train val: {'accuracy': 0.6928} loss: 0.560701883161068\n",
      "test: {'accuracy': 0.6391} loss: 0.6381455819368362\n",
      "epoch time: 19.34min\n"
     ]
    }
   ],
   "source": [
    "from transformers import get_scheduler\n",
    "# from tqdm.notebook import tqdm\n",
    "from tqdm.auto import tqdm\n",
    "import evaluate\n",
    "import time\n",
    "\n",
    "def compute(df):\n",
    "    plefts = tokens(df[\"parent_left\"])\n",
    "    clefts = tokens(df[\"child_left\"])\n",
    "    prights = tokens(df[\"parent_right\"])\n",
    "    crights = tokens(df[\"child_right\"])\n",
    "    labels = torch.tensor([~df[\"correct_is_right\"], df[\"correct_is_right\"]], dtype=torch.float32).T.to(device)\n",
    "    return harness({\"parent\": plefts, \"child\": clefts}, {\"parent\": prights, \"child\": crights}, labels)\n",
    "\n",
    "num_epochs = max((120 if is_cuda else 10) - epoch_offset, 3)\n",
    "num_training_steps = num_epochs * ttgen.get_epoch_train_size()\n",
    "warmup = 10000 if is_cuda else 10\n",
    "lr_scheduler = get_scheduler(\n",
    "    name=\"linear\",\n",
    "    optimizer=optimizer,\n",
    "    num_warmup_steps=warmup,\n",
    "    num_training_steps=num_training_steps - warmup)\n",
    "ttgen.set_epoch(epoch_offset)\n",
    "\n",
    "for _ in range(num_epochs):\n",
    "    epoch = ttgen.get_epoch()\n",
    "    print(f\"epoch {epoch}\")\n",
    "    real_time = time.monotonic()\n",
    "    \n",
    "    model.train()\n",
    "    harness.train()\n",
    "    model.set_epoch(epoch)\n",
    "    metric_train = evaluate.load(\"accuracy\")\n",
    "    train_loss = []\n",
    "    first = True\n",
    "    with tqdm(desc=\"train\", total=ttgen.get_epoch_train_size()) as progress_bar:\n",
    "        for train_df in ttgen.train_dfs():\n",
    "            preds, loss = compute(train_df)\n",
    "            train_loss.append(loss.item())\n",
    "            loss.backward()\n",
    "\n",
    "            optimizer.step()\n",
    "            lr_scheduler.step()\n",
    "            optimizer.zero_grad()\n",
    "            progress_bar.update(train_df.shape[0])\n",
    "            \n",
    "            predictions = torch.argmax(preds, dim=-1)\n",
    "            metric_train.add_batch(predictions=predictions, references=train_df[\"correct_is_right\"].astype(int))\n",
    "            if first:\n",
    "                # display(train_df)\n",
    "                first = False\n",
    "\n",
    "    torch.save(harness.state_dict(), get_filename(harness, is_final=False, ftype=\"harness\", epoch=epoch))\n",
    "            \n",
    "    model.eval()\n",
    "    harness.eval()\n",
    "    with torch.no_grad():\n",
    "        metric_val_train = evaluate.load(\"accuracy\")\n",
    "        train_val_loss = []\n",
    "        with tqdm(desc=\"train val\", total=ttgen.get_epoch_train_validation_size()) as progress_bar:\n",
    "            for train_validation_df in ttgen.train_validation_dfs():\n",
    "                preds, loss = compute(train_validation_df)\n",
    "                train_val_loss.append(loss.item())\n",
    "                predictions = torch.argmax(preds, dim=-1)\n",
    "                metric_val_train.add_batch(\n",
    "                    predictions=predictions, references=train_validation_df[\"correct_is_right\"].astype(int))\n",
    "                progress_bar.update(train_validation_df.shape[0])\n",
    "        \n",
    "        metric_test = evaluate.load(\"accuracy\")\n",
    "        test_loss = []\n",
    "        with tqdm(desc=\"test\", total=ttgen.get_epoch_test_size()) as progress_bar:\n",
    "            for test_df in ttgen.test_dfs():\n",
    "                preds, loss = compute(test_df)\n",
    "                test_loss.append(loss.item())\n",
    "                predictions = torch.argmax(preds, dim=-1)\n",
    "                metric_test.add_batch(\n",
    "                    predictions=predictions, references=test_df[\"correct_is_right\"].astype(int))\n",
    "                progress_bar.update(test_df.shape[0])\n",
    "        \n",
    "        print(f\"train: {metric_train.compute()} loss: {np.mean(train_loss)}\")\n",
    "        print(f\"train val: {metric_val_train.compute()} loss: {np.mean(train_val_loss)}\")\n",
    "        print(f\"test: {metric_test.compute()} loss: {np.mean(test_loss)}\")\n",
    "    ttgen.advance_epoch()\n",
    "    print(f\"epoch time: {(time.monotonic() - real_time) / 60.0:.2f}min\")"
   ]
  },
  {
   "cell_type": "code",
   "execution_count": 12,
   "id": "c5a36224-b91d-4f21-9279-fa7c2a0e862f",
   "metadata": {},
   "outputs": [],
   "source": [
    "torch.save(model.state_dict(), get_filename(harness, is_final=True, ftype=\"model\", epoch=None)[0])\n",
    "torch.save(harness.state_dict(), get_filename(harness, is_final=True, ftype=\"harness\", epoch=None)[0])\n",
    "torch.save(optimizer.state_dict(), get_filename(harness, is_final=True, ftype=\"optimizer\", epoch=None)[0])"
   ]
  },
  {
   "cell_type": "code",
   "execution_count": 13,
   "id": "bff582b9-1447-425a-9b0f-36d9366e4ec7",
   "metadata": {},
   "outputs": [
    {
     "data": {
      "application/vnd.jupyter.widget-view+json": {
       "model_id": "09e1414bd82b4281a87e8bd0f864ab82",
       "version_major": 2,
       "version_minor": 0
      },
      "text/plain": [
       "test val:   0%|          | 0/10000 [00:00<?, ?it/s]"
      ]
     },
     "metadata": {},
     "output_type": "display_data"
    },
    {
     "name": "stdout",
     "output_type": "stream",
     "text": [
      "test val: {'accuracy': 0.6371} loss: 0.6438971089482307\n"
     ]
    }
   ],
   "source": [
    "ttgen.reset()\n",
    "model.eval()\n",
    "harness.eval()\n",
    "dfs = []\n",
    "with torch.no_grad():\n",
    "    metric_val_test = evaluate.load(\"accuracy\")\n",
    "    test_val_loss = []\n",
    "    with tqdm(desc=\"test val\", total=ttgen.get_epoch_test_validation_size()) as progress_bar:\n",
    "        for test_val_df in ttgen.test_validation_dfs():\n",
    "            preds, loss = compute(test_val_df)\n",
    "            test_val_loss.append(loss.item())\n",
    "            predictions = torch.argmax(preds, dim=-1)\n",
    "            metric_val_test.add_batch(\n",
    "                predictions=predictions, references=test_val_df[\"correct_is_right\"].astype(int))\n",
    "            cur_df = test_val_df.copy()\n",
    "            cur_df[\"logit_left\"] = preds[:, 0].cpu()\n",
    "            cur_df[\"logit_right\"] = preds[:, 1].cpu()\n",
    "            cur_df[\"preds\"] = predictions.cpu()\n",
    "            cur_df[\"truth\"] = test_val_df[\"correct_is_right\"].astype(int)\n",
    "            dfs.append(cur_df)\n",
    "            progress_bar.update(test_val_df.shape[0])\n",
    "print(f\"test val: {metric_val_test.compute()} loss: {np.mean(test_val_loss)}\")\n",
    "validation_df = pd.concat(dfs)"
   ]
  },
  {
   "cell_type": "code",
   "execution_count": 14,
   "id": "e12c3406-9ff3-4576-93c2-daf914f3f8f0",
   "metadata": {},
   "outputs": [],
   "source": [
    "validation_df.to_csv(\n",
    "    get_filename(harness, is_final=True, ftype=\"validation\", epoch=None, ext=\".csv\")[0])"
   ]
  },
  {
   "cell_type": "code",
   "execution_count": 15,
   "id": "0b76f390-5d4c-496c-9f47-4fcab527a4ca",
   "metadata": {},
   "outputs": [
    {
     "data": {
      "text/html": [
       "<div>\n",
       "<style scoped>\n",
       "    .dataframe tbody tr th:only-of-type {\n",
       "        vertical-align: middle;\n",
       "    }\n",
       "\n",
       "    .dataframe tbody tr th {\n",
       "        vertical-align: top;\n",
       "    }\n",
       "\n",
       "    .dataframe thead th {\n",
       "        text-align: right;\n",
       "    }\n",
       "</style>\n",
       "<table border=\"1\" class=\"dataframe\">\n",
       "  <thead>\n",
       "    <tr style=\"text-align: right;\">\n",
       "      <th></th>\n",
       "      <th>gen_name</th>\n",
       "      <th>parent_left</th>\n",
       "      <th>child_left</th>\n",
       "      <th>parent_right</th>\n",
       "      <th>child_right</th>\n",
       "      <th>sway_left</th>\n",
       "      <th>sway_right</th>\n",
       "      <th>correct_is_right</th>\n",
       "      <th>logit_left</th>\n",
       "      <th>logit_right</th>\n",
       "      <th>preds</th>\n",
       "      <th>truth</th>\n",
       "    </tr>\n",
       "  </thead>\n",
       "  <tbody>\n",
       "    <tr>\n",
       "      <th>2</th>\n",
       "      <td>random--valid;(sw)</td>\n",
       "      <td>Dungeons and Dragons</td>\n",
       "      <td>r/Kamikazebywords</td>\n",
       "      <td>Question for the men, what's the worst part of...</td>\n",
       "      <td>When sitting wrong on your bike seat and cutti...</td>\n",
       "      <td>0.119203</td>\n",
       "      <td>8.807971e-01</td>\n",
       "      <td>True</td>\n",
       "      <td>0.386937</td>\n",
       "      <td>0.613063</td>\n",
       "      <td>1</td>\n",
       "      <td>1</td>\n",
       "    </tr>\n",
       "    <tr>\n",
       "      <th>3</th>\n",
       "      <td>random--valid;(sw)</td>\n",
       "      <td>I always brush my teeth but need to floss more...</td>\n",
       "      <td>As an american all I can say is: why?</td>\n",
       "      <td>[removed]</td>\n",
       "      <td>User profile checks out. Bet you're on a list ...</td>\n",
       "      <td>0.119203</td>\n",
       "      <td>8.807971e-01</td>\n",
       "      <td>True</td>\n",
       "      <td>0.115898</td>\n",
       "      <td>0.884102</td>\n",
       "      <td>1</td>\n",
       "      <td>1</td>\n",
       "    </tr>\n",
       "    <tr>\n",
       "      <th>0</th>\n",
       "      <td>*valid--random;(sw)</td>\n",
       "      <td>And they taste delicious when chopped into hal...</td>\n",
       "      <td>In Spain/Portugal we also cook them \"a feira\" ...</td>\n",
       "      <td>Seinfeld seems to be the one that paved the wa...</td>\n",
       "      <td>Wiping down gym equipment.</td>\n",
       "      <td>0.993307</td>\n",
       "      <td>6.692851e-03</td>\n",
       "      <td>False</td>\n",
       "      <td>0.539984</td>\n",
       "      <td>0.460016</td>\n",
       "      <td>0</td>\n",
       "      <td>0</td>\n",
       "    </tr>\n",
       "    <tr>\n",
       "      <th>1</th>\n",
       "      <td>*valid--!copy;(mtl:20)</td>\n",
       "      <td>Yeah that's a thing. I spend my summer vacatio...</td>\n",
       "      <td>you ever done on going maintenance on a boat? ...</td>\n",
       "      <td>you ever done on going maintenance on a boat? ...</td>\n",
       "      <td>Yeah that's a thing. I spend my summer vacatio...</td>\n",
       "      <td>1.000000</td>\n",
       "      <td>1.562882e-18</td>\n",
       "      <td>False</td>\n",
       "      <td>0.547646</td>\n",
       "      <td>0.452354</td>\n",
       "      <td>0</td>\n",
       "      <td>0</td>\n",
       "    </tr>\n",
       "    <tr>\n",
       "      <th>2</th>\n",
       "      <td>*valid--!copy;(sw)</td>\n",
       "      <td>She actually has a song where this is the poin...</td>\n",
       "      <td>Yep, this one came to mind. She is incredible ...</td>\n",
       "      <td>Yep, this one came to mind. She is incredible ...</td>\n",
       "      <td>She actually has a song where this is the poin...</td>\n",
       "      <td>0.997527</td>\n",
       "      <td>2.472623e-03</td>\n",
       "      <td>False</td>\n",
       "      <td>0.627038</td>\n",
       "      <td>0.372962</td>\n",
       "      <td>0</td>\n",
       "      <td>0</td>\n",
       "    </tr>\n",
       "  </tbody>\n",
       "</table>\n",
       "</div>"
      ],
      "text/plain": [
       "                 gen_name                                        parent_left  \\\n",
       "2      random--valid;(sw)                               Dungeons and Dragons   \n",
       "3      random--valid;(sw)  I always brush my teeth but need to floss more...   \n",
       "0     *valid--random;(sw)  And they taste delicious when chopped into hal...   \n",
       "1  *valid--!copy;(mtl:20)  Yeah that's a thing. I spend my summer vacatio...   \n",
       "2      *valid--!copy;(sw)  She actually has a song where this is the poin...   \n",
       "\n",
       "                                          child_left  \\\n",
       "2                                  r/Kamikazebywords   \n",
       "3              As an american all I can say is: why?   \n",
       "0  In Spain/Portugal we also cook them \"a feira\" ...   \n",
       "1  you ever done on going maintenance on a boat? ...   \n",
       "2  Yep, this one came to mind. She is incredible ...   \n",
       "\n",
       "                                        parent_right  \\\n",
       "2  Question for the men, what's the worst part of...   \n",
       "3                                          [removed]   \n",
       "0  Seinfeld seems to be the one that paved the wa...   \n",
       "1  you ever done on going maintenance on a boat? ...   \n",
       "2  Yep, this one came to mind. She is incredible ...   \n",
       "\n",
       "                                         child_right  sway_left    sway_right  \\\n",
       "2  When sitting wrong on your bike seat and cutti...   0.119203  8.807971e-01   \n",
       "3  User profile checks out. Bet you're on a list ...   0.119203  8.807971e-01   \n",
       "0                         Wiping down gym equipment.   0.993307  6.692851e-03   \n",
       "1  Yeah that's a thing. I spend my summer vacatio...   1.000000  1.562882e-18   \n",
       "2  She actually has a song where this is the poin...   0.997527  2.472623e-03   \n",
       "\n",
       "   correct_is_right  logit_left  logit_right  preds  truth  \n",
       "2              True    0.386937     0.613063      1      1  \n",
       "3              True    0.115898     0.884102      1      1  \n",
       "0             False    0.539984     0.460016      0      0  \n",
       "1             False    0.547646     0.452354      0      0  \n",
       "2             False    0.627038     0.372962      0      0  "
      ]
     },
     "execution_count": 15,
     "metadata": {},
     "output_type": "execute_result"
    }
   ],
   "source": [
    "validation_df[validation_df[\"preds\"] == validation_df[\"truth\"]].head()"
   ]
  },
  {
   "cell_type": "code",
   "execution_count": 16,
   "id": "1dcb0772-acf6-40c0-aad0-6d2adbfcdadd",
   "metadata": {},
   "outputs": [
    {
     "data": {
      "text/html": [
       "<div>\n",
       "<style scoped>\n",
       "    .dataframe tbody tr th:only-of-type {\n",
       "        vertical-align: middle;\n",
       "    }\n",
       "\n",
       "    .dataframe tbody tr th {\n",
       "        vertical-align: top;\n",
       "    }\n",
       "\n",
       "    .dataframe thead th {\n",
       "        text-align: right;\n",
       "    }\n",
       "</style>\n",
       "<table border=\"1\" class=\"dataframe\">\n",
       "  <thead>\n",
       "    <tr style=\"text-align: right;\">\n",
       "      <th></th>\n",
       "      <th>gen_name</th>\n",
       "      <th>parent_left</th>\n",
       "      <th>child_left</th>\n",
       "      <th>parent_right</th>\n",
       "      <th>child_right</th>\n",
       "      <th>sway_left</th>\n",
       "      <th>sway_right</th>\n",
       "      <th>correct_is_right</th>\n",
       "      <th>logit_left</th>\n",
       "      <th>logit_right</th>\n",
       "      <th>preds</th>\n",
       "      <th>truth</th>\n",
       "    </tr>\n",
       "  </thead>\n",
       "  <tbody>\n",
       "    <tr>\n",
       "      <th>0</th>\n",
       "      <td>!copy--valid;(mtl:20)</td>\n",
       "      <td>Gonna ride the baloney pony all the way to Was...</td>\n",
       "      <td>I'd literally take the law into my own hands.</td>\n",
       "      <td>I'd literally take the law into my own hands.</td>\n",
       "      <td>Gonna ride the baloney pony all the way to Was...</td>\n",
       "      <td>4.662937e-15</td>\n",
       "      <td>1.000000</td>\n",
       "      <td>True</td>\n",
       "      <td>0.527256</td>\n",
       "      <td>0.472744</td>\n",
       "      <td>0</td>\n",
       "      <td>1</td>\n",
       "    </tr>\n",
       "    <tr>\n",
       "      <th>1</th>\n",
       "      <td>*valid--!copy;(mtl:20)</td>\n",
       "      <td>Men are still plenty selective about who they ...</td>\n",
       "      <td>Men are selective, as in, they'll select from ...</td>\n",
       "      <td>Men are selective, as in, they'll select from ...</td>\n",
       "      <td>Men are still plenty selective about who they ...</td>\n",
       "      <td>9.998766e-01</td>\n",
       "      <td>0.000123</td>\n",
       "      <td>False</td>\n",
       "      <td>0.480113</td>\n",
       "      <td>0.519887</td>\n",
       "      <td>1</td>\n",
       "      <td>0</td>\n",
       "    </tr>\n",
       "    <tr>\n",
       "      <th>3</th>\n",
       "      <td>*valid--random;(mtl:20)</td>\n",
       "      <td>The cigarette industry social lied about cigar...</td>\n",
       "      <td>covid vaccines can protect from covid</td>\n",
       "      <td>“Women get sex so easy!” “Man I bet no one wan...</td>\n",
       "      <td>You guys watch porn with sound on??? What a pr...</td>\n",
       "      <td>8.807971e-01</td>\n",
       "      <td>0.119203</td>\n",
       "      <td>False</td>\n",
       "      <td>0.184878</td>\n",
       "      <td>0.815122</td>\n",
       "      <td>1</td>\n",
       "      <td>0</td>\n",
       "    </tr>\n",
       "    <tr>\n",
       "      <th>1</th>\n",
       "      <td>*valid--!copy;(mtl:20)</td>\n",
       "      <td>Yeah that's a fair point, which is why I belie...</td>\n",
       "      <td>&gt;The idea was for God's people to be such good...</td>\n",
       "      <td>&gt;The idea was for God's people to be such good...</td>\n",
       "      <td>Yeah that's a fair point, which is why I belie...</td>\n",
       "      <td>7.310586e-01</td>\n",
       "      <td>0.268941</td>\n",
       "      <td>False</td>\n",
       "      <td>0.462959</td>\n",
       "      <td>0.537041</td>\n",
       "      <td>1</td>\n",
       "      <td>0</td>\n",
       "    </tr>\n",
       "    <tr>\n",
       "      <th>1</th>\n",
       "      <td>!copy--valid;(mtl:20)</td>\n",
       "      <td>I remember learning in 2nd grade that pizza wa...</td>\n",
       "      <td>The food pyramid -brought to you by big grain</td>\n",
       "      <td>The food pyramid -brought to you by big grain</td>\n",
       "      <td>I remember learning in 2nd grade that pizza wa...</td>\n",
       "      <td>0.000000e+00</td>\n",
       "      <td>1.000000</td>\n",
       "      <td>True</td>\n",
       "      <td>0.654011</td>\n",
       "      <td>0.345989</td>\n",
       "      <td>0</td>\n",
       "      <td>1</td>\n",
       "    </tr>\n",
       "  </tbody>\n",
       "</table>\n",
       "</div>"
      ],
      "text/plain": [
       "                  gen_name                                        parent_left  \\\n",
       "0    !copy--valid;(mtl:20)  Gonna ride the baloney pony all the way to Was...   \n",
       "1   *valid--!copy;(mtl:20)  Men are still plenty selective about who they ...   \n",
       "3  *valid--random;(mtl:20)  The cigarette industry social lied about cigar...   \n",
       "1   *valid--!copy;(mtl:20)  Yeah that's a fair point, which is why I belie...   \n",
       "1    !copy--valid;(mtl:20)  I remember learning in 2nd grade that pizza wa...   \n",
       "\n",
       "                                          child_left  \\\n",
       "0      I'd literally take the law into my own hands.   \n",
       "1  Men are selective, as in, they'll select from ...   \n",
       "3              covid vaccines can protect from covid   \n",
       "1  >The idea was for God's people to be such good...   \n",
       "1      The food pyramid -brought to you by big grain   \n",
       "\n",
       "                                        parent_right  \\\n",
       "0      I'd literally take the law into my own hands.   \n",
       "1  Men are selective, as in, they'll select from ...   \n",
       "3  “Women get sex so easy!” “Man I bet no one wan...   \n",
       "1  >The idea was for God's people to be such good...   \n",
       "1      The food pyramid -brought to you by big grain   \n",
       "\n",
       "                                         child_right     sway_left  \\\n",
       "0  Gonna ride the baloney pony all the way to Was...  4.662937e-15   \n",
       "1  Men are still plenty selective about who they ...  9.998766e-01   \n",
       "3  You guys watch porn with sound on??? What a pr...  8.807971e-01   \n",
       "1  Yeah that's a fair point, which is why I belie...  7.310586e-01   \n",
       "1  I remember learning in 2nd grade that pizza wa...  0.000000e+00   \n",
       "\n",
       "   sway_right  correct_is_right  logit_left  logit_right  preds  truth  \n",
       "0    1.000000              True    0.527256     0.472744      0      1  \n",
       "1    0.000123             False    0.480113     0.519887      1      0  \n",
       "3    0.119203             False    0.184878     0.815122      1      0  \n",
       "1    0.268941             False    0.462959     0.537041      1      0  \n",
       "1    1.000000              True    0.654011     0.345989      0      1  "
      ]
     },
     "execution_count": 16,
     "metadata": {},
     "output_type": "execute_result"
    }
   ],
   "source": [
    "validation_df[validation_df[\"preds\"] != validation_df[\"truth\"]].head()"
   ]
  },
  {
   "cell_type": "code",
   "execution_count": 17,
   "id": "211e7f88-ff0c-4bad-bb47-2224bfedbc8b",
   "metadata": {},
   "outputs": [
    {
     "data": {
      "text/plain": [
       "tensor([[-0.3967,  0.3497,  0.7303,  ...,  0.3481,  0.4669,  0.4537],\n",
       "        [-0.3967,  0.3497,  0.7303,  ...,  0.3481,  0.4669,  0.4537],\n",
       "        [-0.3967,  0.3497,  0.7303,  ...,  0.3481,  0.4669,  0.4537],\n",
       "        [-0.3967,  0.3497,  0.7303,  ...,  0.3481,  0.4669,  0.4537]],\n",
       "       device='cuda:0')"
      ]
     },
     "metadata": {},
     "output_type": "display_data"
    },
    {
     "data": {
      "text/plain": [
       "tensor([[-0.3967,  0.3497,  0.7303,  ...,  0.3481,  0.4669,  0.4537],\n",
       "        [-0.3967,  0.3497,  0.7303,  ...,  0.3481,  0.4669,  0.4537],\n",
       "        [-0.3967,  0.3497,  0.7303,  ...,  0.3481,  0.4669,  0.4537],\n",
       "        [-0.3967,  0.3497,  0.7303,  ...,  0.3481,  0.4669,  0.4537]],\n",
       "       device='cuda:0')"
      ]
     },
     "metadata": {},
     "output_type": "display_data"
    },
    {
     "data": {
      "text/plain": [
       "tensor([[-0.3967,  0.3497,  0.7303,  ...,  0.3481,  0.4669,  0.4537],\n",
       "        [-0.3967,  0.3497,  0.7303,  ...,  0.3481,  0.4669,  0.4537],\n",
       "        [-0.3967,  0.3497,  0.7303,  ...,  0.3481,  0.4669,  0.4537],\n",
       "        [-0.3967,  0.3497,  0.7303,  ...,  0.3481,  0.4669,  0.4537]],\n",
       "       device='cuda:0')"
      ]
     },
     "metadata": {},
     "output_type": "display_data"
    },
    {
     "data": {
      "text/plain": [
       "tensor([[-0.3967,  0.3497,  0.7303,  ...,  0.3481,  0.4669,  0.4537],\n",
       "        [-0.3967,  0.3497,  0.7303,  ...,  0.3481,  0.4669,  0.4537],\n",
       "        [-0.3967,  0.3497,  0.7303,  ...,  0.3481,  0.4669,  0.4537],\n",
       "        [-0.3967,  0.3497,  0.7303,  ...,  0.3481,  0.4669,  0.4537]],\n",
       "       device='cuda:0')"
      ]
     },
     "metadata": {},
     "output_type": "display_data"
    },
    {
     "data": {
      "text/plain": [
       "tensor([[-0.3967,  0.3497,  0.7303,  ...,  0.3481,  0.4669,  0.4537],\n",
       "        [-0.3967,  0.3497,  0.7303,  ...,  0.3481,  0.4669,  0.4537],\n",
       "        [-0.3967,  0.3497,  0.7303,  ...,  0.3481,  0.4669,  0.4537],\n",
       "        [-0.3967,  0.3497,  0.7303,  ...,  0.3481,  0.4669,  0.4537]],\n",
       "       device='cuda:0')"
      ]
     },
     "metadata": {},
     "output_type": "display_data"
    },
    {
     "data": {
      "text/plain": [
       "tensor([[-0.3967,  0.3497,  0.7303,  ...,  0.3481,  0.4669,  0.4537],\n",
       "        [-0.3967,  0.3497,  0.7303,  ...,  0.3481,  0.4669,  0.4537],\n",
       "        [-0.3967,  0.3497,  0.7303,  ...,  0.3481,  0.4669,  0.4537],\n",
       "        [-0.3967,  0.3497,  0.7303,  ...,  0.3481,  0.4669,  0.4537]],\n",
       "       device='cuda:0')"
      ]
     },
     "metadata": {},
     "output_type": "display_data"
    },
    {
     "data": {
      "text/plain": [
       "tensor([[-0.3967,  0.3497,  0.7303,  ...,  0.3481,  0.4669,  0.4537],\n",
       "        [-0.3967,  0.3497,  0.7303,  ...,  0.3481,  0.4669,  0.4537],\n",
       "        [-0.3967,  0.3497,  0.7303,  ...,  0.3481,  0.4669,  0.4537],\n",
       "        [-0.3967,  0.3497,  0.7303,  ...,  0.3481,  0.4669,  0.4537]],\n",
       "       device='cuda:0')"
      ]
     },
     "metadata": {},
     "output_type": "display_data"
    },
    {
     "data": {
      "text/plain": [
       "tensor([[-0.3967,  0.3497,  0.7303,  ...,  0.3481,  0.4669,  0.4537],\n",
       "        [-0.3967,  0.3497,  0.7303,  ...,  0.3481,  0.4669,  0.4537],\n",
       "        [-0.3967,  0.3497,  0.7303,  ...,  0.3481,  0.4669,  0.4537],\n",
       "        [-0.3967,  0.3497,  0.7303,  ...,  0.3481,  0.4669,  0.4537]],\n",
       "       device='cuda:0')"
      ]
     },
     "metadata": {},
     "output_type": "display_data"
    },
    {
     "data": {
      "text/plain": [
       "tensor([[-0.3967,  0.3497,  0.7303,  ...,  0.3481,  0.4669,  0.4537],\n",
       "        [-0.3967,  0.3497,  0.7303,  ...,  0.3481,  0.4669,  0.4537],\n",
       "        [-0.3967,  0.3497,  0.7303,  ...,  0.3481,  0.4669,  0.4537],\n",
       "        [-0.3967,  0.3497,  0.7303,  ...,  0.3481,  0.4669,  0.4537]],\n",
       "       device='cuda:0')"
      ]
     },
     "metadata": {},
     "output_type": "display_data"
    },
    {
     "data": {
      "text/plain": [
       "tensor([[-0.3967,  0.3497,  0.7303,  ...,  0.3481,  0.4669,  0.4537],\n",
       "        [-0.3967,  0.3497,  0.7303,  ...,  0.3481,  0.4669,  0.4537],\n",
       "        [-0.3967,  0.3497,  0.7303,  ...,  0.3481,  0.4669,  0.4537],\n",
       "        [-0.3967,  0.3497,  0.7303,  ...,  0.3481,  0.4669,  0.4537]],\n",
       "       device='cuda:0')"
      ]
     },
     "metadata": {},
     "output_type": "display_data"
    }
   ],
   "source": [
    "ttgen.reset()\n",
    "model.eval()\n",
    "harness.eval()\n",
    "with torch.no_grad():\n",
    "    count = 0\n",
    "    for test_val_df in ttgen.test_validation_dfs():\n",
    "        plefts = tokens(test_val_df[\"parent_left\"])\n",
    "        clefts = tokens(test_val_df[\"child_left\"])\n",
    "        prights = tokens(test_val_df[\"parent_right\"])\n",
    "        crights = tokens(test_val_df[\"child_right\"])\n",
    "        display(model.get_child_embed(\n",
    "            clefts[\"input_ids\"],\n",
    "            clefts[\"attention_mask\"]).cpu().numpy())\n",
    "        display(model.get_child_embed(\n",
    "            crights[\"input_ids\"],\n",
    "            crights[\"attention_mask\"]).cpu().numpy())\n",
    "        count += 1\n",
    "        if count >= 5:\n",
    "            break"
   ]
  },
  {
   "cell_type": "code",
   "execution_count": null,
   "id": "a98fd1aa-9723-4da8-8fcb-2d9500542f79",
   "metadata": {},
   "outputs": [],
   "source": []
  }
 ],
 "metadata": {
  "kernelspec": {
   "display_name": "Python [conda env:clotho]",
   "language": "python",
   "name": "conda-env-clotho-py"
  },
  "language_info": {
   "codemirror_mode": {
    "name": "ipython",
    "version": 3
   },
   "file_extension": ".py",
   "mimetype": "text/x-python",
   "name": "python",
   "nbconvert_exporter": "python",
   "pygments_lexer": "ipython3",
   "version": "3.10.6"
  }
 },
 "nbformat": 4,
 "nbformat_minor": 5
}

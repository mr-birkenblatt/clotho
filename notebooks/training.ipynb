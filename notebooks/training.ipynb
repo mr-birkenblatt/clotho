{
 "cells": [
  {
   "cell_type": "code",
   "execution_count": 1,
   "id": "7c1265ba-c76b-4424-b577-a322e6b512af",
   "metadata": {},
   "outputs": [],
   "source": [
    "# in a terminal run\n",
    "# > USER_PATH=/mnt/d/workspace/clotho/userdata/ make run-redis NS=train\n",
    "# > USER_PATH=/mnt/d/workspace/clotho/userdata/ make run-redis NS=test\n",
    "# to allow access to the train and test namespaces"
   ]
  },
  {
   "cell_type": "code",
   "execution_count": 2,
   "id": "4e21c530-5f85-4b18-b9ed-c2fbe591b52f",
   "metadata": {},
   "outputs": [],
   "source": [
    "import os\n",
    "import sys\n",
    "import json\n",
    "import pandas as pd\n",
    "import numpy as np\n",
    "from typing import Literal, TypedDict"
   ]
  },
  {
   "cell_type": "code",
   "execution_count": 3,
   "id": "62721599-23d3-405a-bbb2-88a6f0a17a17",
   "metadata": {},
   "outputs": [],
   "source": [
    "sys.path.append(\"..\")\n",
    "os.environ[\"USER_PATH\"] = \"/mnt/d/workspace/clotho/userdata/\"\n",
    "MODEL_OUTPUT_BASE = \"/mnt/d/workspace/clotho/notebooks\"\n",
    "MODEL_OUTPUT_CP = os.path.join(MODEL_OUTPUT_BASE, \"checkpoints\")"
   ]
  },
  {
   "cell_type": "code",
   "execution_count": 4,
   "id": "82c6f1c7-607b-479d-b2f6-3483cb91a57d",
   "metadata": {},
   "outputs": [],
   "source": [
    "from misc.redis import set_redis_slow_mode\n",
    "from misc.util import highest_number\n",
    "from misc.io import open_write\n",
    "from model.datagenerator import create_train_test\n",
    "from model.transformer_embed import (\n",
    "    get_epoch_and_load,\n",
    "    limit_epoch_data,\n",
    "    limit_epoch_data,\n",
    "    get_model_filename,\n",
    ")\n",
    "from system.namespace.store import get_namespace"
   ]
  },
  {
   "cell_type": "code",
   "execution_count": 5,
   "id": "1d8c7e9a-fa89-435d-a0a2-0a492056581e",
   "metadata": {},
   "outputs": [
    {
     "data": {
      "text/plain": [
       "True"
      ]
     },
     "execution_count": 5,
     "metadata": {},
     "output_type": "execute_result"
    }
   ],
   "source": [
    "import torch\n",
    "\n",
    "is_cuda = torch.cuda.is_available()\n",
    "is_cuda"
   ]
  },
  {
   "cell_type": "code",
   "execution_count": 6,
   "id": "0a897205-0707-4928-860d-5e8d58cef31a",
   "metadata": {},
   "outputs": [],
   "source": [
    "set_redis_slow_mode(\"never\")\n",
    "ns_test = get_namespace(\"test\")\n",
    "ns_train = get_namespace(\"train\")\n",
    "now = pd.Timestamp(\"2022-12-17\", tz=\"UTC\")\n",
    "train_plan = [\n",
    "    {\n",
    "        \"left\": {\"mode\": \"valid\", \"flip_pc\": 1.0},\n",
    "        \"right\": {\"mode\": \"valid\", \"flip_pc\": 0.0},\n",
    "        \"min_text_length\": 20,\n",
    "        \"skip_weak\": True,\n",
    "        \"skip_topics\": True,\n",
    "        \"flip_lr\": 0.5,\n",
    "        \"first_epoch\": 10,\n",
    "        \"last_epoch\": None,\n",
    "        \"weight\": 50,\n",
    "    },\n",
    "    {\n",
    "        \"left\": {\"mode\": \"valid\", \"flip_pc\": 1.0},\n",
    "        \"right\": {\"mode\": \"valid\", \"flip_pc\": 0.0},\n",
    "        \"min_text_length\": None,\n",
    "        \"skip_weak\": True,\n",
    "        \"skip_topics\": True,\n",
    "        \"flip_lr\": 0.5,\n",
    "        \"first_epoch\": 10,\n",
    "        \"last_epoch\": None,\n",
    "        \"weight\": 50,\n",
    "    },\n",
    "    {\n",
    "        \"left\": {\"mode\": \"random\", \"flip_pc\": 0.0},\n",
    "        \"right\": {\"mode\": \"path\", \"flip_pc\": 0.0},\n",
    "        \"min_text_length\": 20,\n",
    "        \"skip_weak\": True,\n",
    "        \"skip_topics\": True,\n",
    "        \"flip_lr\": 0.5,\n",
    "        \"first_epoch\": None,\n",
    "        \"last_epoch\": None,\n",
    "        \"weight\": 60,\n",
    "    },\n",
    "    {\n",
    "        \"left\": None,\n",
    "        \"right\": {\"mode\": \"path\", \"flip_pc\": 0.0},\n",
    "        \"min_text_length\": 20,\n",
    "        \"skip_weak\": True,\n",
    "        \"skip_topics\": True,\n",
    "        \"flip_lr\": 0.5,\n",
    "        \"first_epoch\": None,\n",
    "        \"last_epoch\": None,\n",
    "        \"weight\": 40,\n",
    "    },\n",
    "     {\n",
    "        \"left\": {\"mode\": \"random\", \"flip_pc\": 0.0},\n",
    "        \"right\": {\"mode\": \"path\", \"flip_pc\": 0.0},\n",
    "        \"min_text_length\": None,\n",
    "        \"skip_weak\": True,\n",
    "        \"skip_topics\": True,\n",
    "        \"flip_lr\": 0.5,\n",
    "        \"first_epoch\": 5,\n",
    "        \"last_epoch\": None,\n",
    "        \"weight\": 60,\n",
    "    },\n",
    "    {\n",
    "        \"left\": None,\n",
    "        \"right\": {\"mode\": \"path\", \"flip_pc\": 0.0},\n",
    "        \"min_text_length\": None,\n",
    "        \"skip_weak\": True,\n",
    "        \"skip_topics\": True,\n",
    "        \"flip_lr\": 0.5,\n",
    "        \"first_epoch\": 5,\n",
    "        \"last_epoch\": None,\n",
    "        \"weight\": 40,\n",
    "    },\n",
    "    {\n",
    "        \"left\": {\"mode\": \"random\", \"flip_pc\": 0.0},\n",
    "        \"right\": {\"mode\": \"valid\", \"flip_pc\": 0.0},\n",
    "        \"min_text_length\": None,\n",
    "        \"skip_weak\": True,\n",
    "        \"skip_topics\": True,\n",
    "        \"flip_lr\": 0.5,\n",
    "        \"first_epoch\": None,\n",
    "        \"last_epoch\": None,\n",
    "        \"weight\": 60,\n",
    "    },\n",
    "    {\n",
    "        \"left\": None,\n",
    "        \"right\": {\"mode\": \"valid\", \"flip_pc\": 0.0},\n",
    "        \"min_text_length\": None,\n",
    "        \"skip_weak\": True,\n",
    "        \"skip_topics\": True,\n",
    "        \"flip_lr\": 0.5,\n",
    "        \"first_epoch\": None,\n",
    "        \"last_epoch\": None,\n",
    "        \"weight\": 40,\n",
    "    },\n",
    "    {\n",
    "        \"left\": {\"mode\": \"valid\", \"flip_pc\": 1.0},\n",
    "        \"right\": {\"mode\": \"valid\", \"flip_pc\": 0.0},\n",
    "        \"min_text_length\": None,\n",
    "        \"skip_weak\": True,\n",
    "        \"skip_topics\": True,\n",
    "        \"flip_lr\": 0.5,\n",
    "        \"first_epoch\": 15,\n",
    "        \"last_epoch\": None,\n",
    "        \"weight\": 50,\n",
    "    }\n",
    "]\n",
    "eval_plan = [\n",
    "    {\n",
    "        \"left\": {\"mode\": \"random\", \"flip_pc\": 0.0},\n",
    "        \"right\": {\"mode\": \"valid\", \"flip_pc\": 0.0},\n",
    "        \"min_text_length\": 20,\n",
    "        \"skip_weak\": True,\n",
    "        \"skip_topics\": True,\n",
    "        \"flip_lr\": 0.5,\n",
    "        \"weight\": 60,\n",
    "    },\n",
    "    {\n",
    "        \"left\": None,\n",
    "        \"right\": {\"mode\": \"valid\", \"flip_pc\": 0.0},\n",
    "        \"min_text_length\": 20,\n",
    "        \"skip_weak\": True,\n",
    "        \"skip_topics\": True,\n",
    "        \"flip_lr\": 0.5,\n",
    "        \"weight\": 40,\n",
    "    },\n",
    "    {\n",
    "        \"left\": {\"mode\": \"random\", \"flip_pc\": 0.0},\n",
    "        \"right\": {\"mode\": \"valid\", \"flip_pc\": 0.0},\n",
    "        \"min_text_length\": None,\n",
    "        \"skip_weak\": True,\n",
    "        \"skip_topics\": True,\n",
    "        \"flip_lr\": 0.5,\n",
    "        \"weight\": 60,\n",
    "    },\n",
    "    {\n",
    "        \"left\": None,\n",
    "        \"right\": {\"mode\": \"valid\", \"flip_pc\": 0.0},\n",
    "        \"min_text_length\": None,\n",
    "        \"skip_weak\": True,\n",
    "        \"skip_topics\": True,\n",
    "        \"flip_lr\": 0.5,\n",
    "        \"weight\": 40,\n",
    "    },\n",
    "]\n",
    "ttgen = create_train_test(\n",
    "    train_ns=ns_train,\n",
    "    train_validation_ns=ns_train,\n",
    "    test_ns=ns_test,\n",
    "    test_validation_ns=ns_test,\n",
    "    train_learning_plan=train_plan,\n",
    "    train_val_learning_plan=eval_plan,\n",
    "    test_learning_plan=eval_plan,\n",
    "    test_val_learning_plan=eval_plan,\n",
    "    batch_size=4 if is_cuda else 8,\n",
    "    epoch_batches=5000 if is_cuda else 500,\n",
    "    train_val_size=10000 if is_cuda else 1000,\n",
    "    test_size=10000 if is_cuda else 1000,\n",
    "    test_val_size=10000 if is_cuda else 1000,\n",
    "    compute_batch_size=100 if is_cuda else 100,\n",
    "    now=now)"
   ]
  },
  {
   "cell_type": "code",
   "execution_count": 7,
   "id": "9d7acd4d-0d4a-481f-901b-3e524ee02c6f",
   "metadata": {},
   "outputs": [],
   "source": [
    "import torch.nn as nn\n",
    "from torch.optim import AdamW\n",
    "from transformers import DistilBertTokenizer, DistilBertModel"
   ]
  },
  {
   "cell_type": "code",
   "execution_count": 8,
   "id": "927dbcbe-6df3-49c9-8449-041b1ab7a168",
   "metadata": {},
   "outputs": [
    {
     "data": {
      "text/plain": [
       "device(type='cuda')"
      ]
     },
     "execution_count": 8,
     "metadata": {},
     "output_type": "execute_result"
    }
   ],
   "source": [
    "device = torch.device(\"cuda\") if is_cuda else torch.device(\"cpu\")\n",
    "device"
   ]
  },
  {
   "cell_type": "code",
   "execution_count": 9,
   "id": "00819f53-a953-4b85-bcf8-6cba59a8bb67",
   "metadata": {},
   "outputs": [],
   "source": [
    "ProviderRole = Literal[\"child\", \"parent\"]\n",
    "\n",
    "tokenizer = DistilBertTokenizer.from_pretrained(\"distilbert-base-uncased\")\n",
    "EMBED_SIZE = 768\n",
    "\n",
    "TokenizedInput = TypedDict('TokenizedInput', {\n",
    "    \"input_ids\": torch.Tensor,\n",
    "    \"attention_mask\": torch.Tensor,\n",
    "})\n",
    "\n",
    "\n",
    "AggType = Literal[\"cls\", \"mean\"]\n",
    "AGG_CLS: AggType = \"cls\"\n",
    "AGG_MEAN: AggType = \"mean\"\n",
    "\n",
    "\n",
    "def tokens(texts: list[str]) -> TokenizedInput:\n",
    "    res = tokenizer(texts.tolist(), return_tensors=\"pt\", padding=True, truncation=True)\n",
    "    return {k: v.to(device) for k, v in res.items()}\n",
    "\n",
    "\n",
    "class Noise(nn.Module):\n",
    "    def __init__(self, std: float = 1.0, p: float = 0.5) -> None:\n",
    "        super().__init__()\n",
    "        self._std = std\n",
    "        self._p = p\n",
    "        self._dhold = nn.Parameter(torch.Tensor([0.0]), requires_grad=False)\n",
    "\n",
    "    def set_std(self, std: float) -> None:\n",
    "        self._std = std\n",
    "\n",
    "    def get_std(self) -> float:\n",
    "        return self._std\n",
    "\n",
    "    def forward(self, x: torch.Tensor) -> torch.Tensor:\n",
    "        if not self.training:\n",
    "            return x\n",
    "        prob = torch.rand(size=x.shape, device=self._dhold.device) < self._p\n",
    "        gauss = torch.normal(\n",
    "            mean=0.0, std=self._std, size=x.shape, device=self._dhold.device)\n",
    "        return x + prob * gauss\n",
    "\n",
    "\n",
    "class Model(nn.Module):\n",
    "    def __init__(self, version: int) -> None:\n",
    "        super().__init__()\n",
    "        self._bert_parent = DistilBertModel.from_pretrained(\n",
    "            \"distilbert-base-uncased\")\n",
    "        self._bert_child = DistilBertModel.from_pretrained(\n",
    "            \"distilbert-base-uncased\")\n",
    "        if version in (1, 3, 4, 6):\n",
    "            self._pdense: nn.Sequential | None = nn.Sequential(\n",
    "                nn.Linear(EMBED_SIZE, EMBED_SIZE),\n",
    "                nn.Dropout(p=0.2),\n",
    "                nn.ReLU(),\n",
    "                nn.Linear(EMBED_SIZE, EMBED_SIZE))\n",
    "            self._cdense: nn.Sequential | None = nn.Sequential(\n",
    "                nn.Linear(EMBED_SIZE, EMBED_SIZE),\n",
    "                nn.Dropout(p=0.2),\n",
    "                nn.ReLU(),\n",
    "                nn.Linear(EMBED_SIZE, EMBED_SIZE))\n",
    "        else:\n",
    "            self._pdense = None\n",
    "            self._cdense = None\n",
    "        if version < 4 or version > 5:\n",
    "            self._noise = None\n",
    "        else:\n",
    "            self._noise = Noise(std=1.0, p=0.2)\n",
    "        if version < 2 or version > 4:\n",
    "            self._cos = None\n",
    "        else:\n",
    "            self._cos = torch.nn.CosineSimilarity()\n",
    "        if version < 6:\n",
    "            self._agg = AGG_CLS\n",
    "        else:\n",
    "            self._agg = AGG_MEAN\n",
    "        self._version = version\n",
    "\n",
    "    def set_epoch(self, epoch: int) -> None:\n",
    "        noise = self._noise\n",
    "        if noise is not None:\n",
    "            noise.set_std(1 / (1.2 ** epoch))\n",
    "\n",
    "    def get_version(self) -> int:\n",
    "        return self._version\n",
    "    \n",
    "    def get_agg(self, lhs: torch.Tensor) -> torch.Tensor:\n",
    "        if self._agg == AGG_CLS:\n",
    "            return lhs[:, 0]\n",
    "        if self._agg == AGG_MEAN:\n",
    "            return torch.mean(lhs, dim=1)\n",
    "        raise ValueError(f\"unknown aggregation: {self._agg}\")\n",
    "\n",
    "    def get_parent_embed(\n",
    "            self,\n",
    "            input_ids: torch.Tensor,\n",
    "            attention_mask: torch.Tensor) -> torch.Tensor:\n",
    "        outputs_parent = self._bert_parent(\n",
    "            input_ids=input_ids, attention_mask=attention_mask)\n",
    "        out = self.get_agg(outputs_parent.last_hidden_state)\n",
    "        if self._pdense is not None:\n",
    "            out = self._pdense(out)\n",
    "        if self._noise is not None:\n",
    "            out = self._noise(out)\n",
    "        return out\n",
    "\n",
    "    def get_child_embed(\n",
    "            self,\n",
    "            input_ids: torch.Tensor,\n",
    "            attention_mask: torch.Tensor) -> torch.Tensor:\n",
    "        outputs_child = self._bert_child(\n",
    "            input_ids=input_ids, attention_mask=attention_mask)\n",
    "        out = self.get_agg(outputs_child.last_hidden_state)\n",
    "        if self._cdense is not None:\n",
    "            out = self._cdense(out)\n",
    "        if self._noise is not None:\n",
    "            out = self._noise(out)\n",
    "        return out\n",
    "\n",
    "    def forward(self, x: dict[ProviderRole, TokenizedInput]) -> torch.Tensor:\n",
    "        parent_cls = self.get_parent_embed(\n",
    "            input_ids=x[\"parent\"][\"input_ids\"],\n",
    "            attention_mask=x[\"parent\"][\"attention_mask\"])\n",
    "        child_cls = self.get_child_embed(\n",
    "            input_ids=x[\"child\"][\"input_ids\"],\n",
    "            attention_mask=x[\"child\"][\"attention_mask\"])\n",
    "        if self._cos is not None:\n",
    "            return self._cos(parent_cls, child_cls).reshape([-1, 1])\n",
    "        batch_size = parent_cls.shape[0]\n",
    "        return torch.bmm(\n",
    "            parent_cls.reshape([batch_size, 1, -1]),\n",
    "            child_cls.reshape([batch_size, -1, 1])).reshape([-1, 1])\n",
    "\n",
    "\n",
    "class TrainingHarness(nn.Module):\n",
    "    def __init__(self, model: Model) -> None:\n",
    "        super().__init__()\n",
    "        self._model = model\n",
    "        self._softmax = nn.Softmax(dim=1)\n",
    "        self._loss = nn.BCELoss()\n",
    "\n",
    "    def get_version(self) -> int:\n",
    "        return self._model.get_version()\n",
    "\n",
    "    def forward(\n",
    "            self,\n",
    "            left: TokenizedInput,\n",
    "            right: TokenizedInput,\n",
    "            labels: torch.Tensor) -> tuple[torch.Tensor, torch.Tensor]:\n",
    "        out_left = self._model(left)\n",
    "        out_right = self._model(right)\n",
    "        preds = self._softmax(torch.hstack((out_left, out_right)))\n",
    "        return preds, self._loss(preds, labels)"
   ]
  },
  {
   "cell_type": "code",
   "execution_count": 10,
   "id": "f048a983-9daf-4f04-b36e-5da77951bb3c",
   "metadata": {},
   "outputs": [],
   "source": [
    "FORCE_RESTART = False"
   ]
  },
  {
   "cell_type": "code",
   "execution_count": 11,
   "id": "6cde9030-931f-4f80-a118-d7f5ef2677d9",
   "metadata": {
    "tags": []
   },
   "outputs": [],
   "source": [
    "from transformers import get_scheduler\n",
    "# from tqdm.notebook import tqdm\n",
    "from tqdm.auto import tqdm\n",
    "import evaluate\n",
    "import time\n",
    "\n",
    "\n",
    "def compute(harness, df):\n",
    "    plefts = tokens(df[\"parent_left\"])\n",
    "    clefts = tokens(df[\"child_left\"])\n",
    "    prights = tokens(df[\"parent_right\"])\n",
    "    crights = tokens(df[\"child_right\"])\n",
    "    labels = torch.tensor(\n",
    "        [~df[\"correct_is_right\"], df[\"correct_is_right\"]],\n",
    "        dtype=torch.float32).T.to(device)\n",
    "    return harness(\n",
    "        left={\"parent\": plefts, \"child\": clefts},\n",
    "        right={\"parent\": prights, \"child\": crights},\n",
    "        labels=labels)\n",
    "\n",
    "\n",
    "def run_training(num_epochs, version):\n",
    "    model = Model(version=version)\n",
    "    model.to(device)\n",
    "    harness = TrainingHarness(model)\n",
    "    harness.to(device)\n",
    "\n",
    "    mprev, epoch_offset = get_epoch_and_load(\n",
    "        harness,\n",
    "        MODEL_OUTPUT_CP,\n",
    "        ftype=\"harness\",\n",
    "        is_cuda=is_cuda,\n",
    "        device=device,\n",
    "        force_restart=FORCE_RESTART)\n",
    "\n",
    "    optimizer = AdamW(harness.parameters(), lr=5e-5)\n",
    "    print(mprev, epoch_offset)\n",
    "    \n",
    "    num_epochs -= epoch_offset\n",
    "    if num_epochs <= 0:\n",
    "        print(\"already computed all epochs. nothing to do!\")\n",
    "        return model, harness, optimizer\n",
    "    \n",
    "    num_training_steps = num_epochs * ttgen.get_epoch_train_size()\n",
    "    warmup = 10000 if is_cuda else 10\n",
    "    lr_scheduler = get_scheduler(\n",
    "        name=\"linear\",\n",
    "        optimizer=optimizer,\n",
    "        num_warmup_steps=warmup,\n",
    "        num_training_steps=num_training_steps - warmup)\n",
    "    ttgen.set_epoch(epoch_offset)\n",
    "\n",
    "    for _ in range(num_epochs):\n",
    "        epoch = ttgen.get_epoch()\n",
    "        print(f\"epoch {epoch} version: {harness.get_version()}\")\n",
    "        real_time = time.monotonic()\n",
    "\n",
    "        model.train()\n",
    "        harness.train()\n",
    "        model.set_epoch(epoch)\n",
    "        metric_train = evaluate.load(\"accuracy\")\n",
    "        train_loss = []\n",
    "        first = True\n",
    "        with tqdm(desc=\"train\", total=ttgen.get_epoch_train_size()) as progress_bar:\n",
    "            for train_df in ttgen.train_dfs():\n",
    "                preds, loss = compute(harness, train_df)\n",
    "                train_loss.append(loss.item())\n",
    "                loss.backward()\n",
    "\n",
    "                optimizer.step()\n",
    "                lr_scheduler.step()\n",
    "                optimizer.zero_grad()\n",
    "                progress_bar.update(train_df.shape[0])\n",
    "\n",
    "                predictions = torch.argmax(preds, dim=-1)\n",
    "                metric_train.add_batch(\n",
    "                    predictions=predictions,\n",
    "                    references=train_df[\"correct_is_right\"].astype(int))\n",
    "                if first:\n",
    "                    # display(train_df)\n",
    "                    first = False\n",
    "\n",
    "        model_fname = get_model_filename(\n",
    "            harness,\n",
    "            MODEL_OUTPUT_CP,\n",
    "            is_cuda=is_cuda,\n",
    "            ftype=\"harness\",\n",
    "            epoch=epoch)\n",
    "        torch.save(harness.state_dict(), model_fname)\n",
    "\n",
    "        model.eval()\n",
    "        harness.eval()\n",
    "        with torch.no_grad():\n",
    "            metric_val_train = evaluate.load(\"accuracy\")\n",
    "            train_val_loss = []\n",
    "            with tqdm(desc=\"train val\", total=ttgen.get_epoch_train_validation_size()) as progress_bar:\n",
    "                for train_validation_df in ttgen.train_validation_dfs():\n",
    "                    preds, loss = compute(harness, train_validation_df)\n",
    "                    train_val_loss.append(loss.item())\n",
    "                    predictions = torch.argmax(preds, dim=-1)\n",
    "                    metric_val_train.add_batch(\n",
    "                        predictions=predictions,\n",
    "                        references=train_validation_df[\"correct_is_right\"].astype(int))\n",
    "                    progress_bar.update(train_validation_df.shape[0])\n",
    "\n",
    "            metric_test = evaluate.load(\"accuracy\")\n",
    "            test_loss = []\n",
    "            with tqdm(desc=\"test\", total=ttgen.get_epoch_test_size()) as progress_bar:\n",
    "                for test_df in ttgen.test_dfs():\n",
    "                    preds, loss = compute(harness, test_df)\n",
    "                    test_loss.append(loss.item())\n",
    "                    predictions = torch.argmax(preds, dim=-1)\n",
    "                    metric_test.add_batch(\n",
    "                        predictions=predictions,\n",
    "                        references=test_df[\"correct_is_right\"].astype(int))\n",
    "                    progress_bar.update(test_df.shape[0])\n",
    "            stats = {\n",
    "                \"epoch\": int(epoch),\n",
    "                \"train_acc\": float(metric_train.compute()['accuracy']),\n",
    "                \"train_loss\": float(np.mean(train_loss)),\n",
    "                \"train_val_acc\": float(metric_val_train.compute()['accuracy']),\n",
    "                \"train_val_loss\": float(np.mean(train_val_loss)),\n",
    "                \"test_acc\": float(metric_test.compute()['accuracy']),\n",
    "                \"test_loss\": float(np.mean(test_loss)),\n",
    "                \"time\": 0.0,\n",
    "                \"version\": harness.get_version(),\n",
    "                \"fname\": model_fname,\n",
    "            }\n",
    "\n",
    "        print(f\"train: {stats['train_acc']} loss: {stats['train_loss']}\")\n",
    "        print(f\"train val: {stats['train_val_acc']} loss: {stats['train_val_loss']}\")\n",
    "        print(f\"test: {stats['test_acc']} loss: {stats['test_loss']}\")\n",
    "        ttgen.advance_epoch()\n",
    "        stats[\"time\"] = float((time.monotonic() - real_time) / 60.0)\n",
    "        print(f\"epoch time: {stats['time']:.2f}min\")\n",
    "        stats_fn = get_model_filename(\n",
    "            harness,\n",
    "            MODEL_OUTPUT_CP,\n",
    "            is_cuda=is_cuda,\n",
    "            ftype=\"stats\",\n",
    "            epoch=epoch,\n",
    "            ext=\".json\")\n",
    "        with open_write(stats_fn, text=True) as fout:\n",
    "            print(json.dumps(stats, indent=2, sort_keys=True), file=fout)\n",
    "            \n",
    "        limit_epoch_data(\n",
    "            harness,\n",
    "            MODEL_OUTPUT_CP,\n",
    "            is_cuda=is_cuda,\n",
    "            ftype=\"stats\",\n",
    "            ext=\".json\",\n",
    "            count=5)\n",
    "    return model, harness, optimizer"
   ]
  },
  {
   "cell_type": "code",
   "execution_count": 12,
   "id": "6cbdb513-4ed4-47ec-a2d1-146d611113ba",
   "metadata": {},
   "outputs": [
    {
     "name": "stderr",
     "output_type": "stream",
     "text": [
      "Some weights of the model checkpoint at distilbert-base-uncased were not used when initializing DistilBertModel: ['vocab_projector.bias', 'vocab_transform.weight', 'vocab_layer_norm.weight', 'vocab_projector.weight', 'vocab_layer_norm.bias', 'vocab_transform.bias']\n",
      "- This IS expected if you are initializing DistilBertModel from the checkpoint of a model trained on another task or with another architecture (e.g. initializing a BertForSequenceClassification model from a BertForPreTraining model).\n",
      "- This IS NOT expected if you are initializing DistilBertModel from the checkpoint of a model that you expect to be exactly identical (initializing a BertForSequenceClassification model from a BertForSequenceClassification model).\n",
      "Some weights of the model checkpoint at distilbert-base-uncased were not used when initializing DistilBertModel: ['vocab_projector.bias', 'vocab_transform.weight', 'vocab_layer_norm.weight', 'vocab_projector.weight', 'vocab_layer_norm.bias', 'vocab_transform.bias']\n",
      "- This IS expected if you are initializing DistilBertModel from the checkpoint of a model trained on another task or with another architecture (e.g. initializing a BertForSequenceClassification model from a BertForPreTraining model).\n",
      "- This IS NOT expected if you are initializing DistilBertModel from the checkpoint of a model that you expect to be exactly identical (initializing a BertForSequenceClassification model from a BertForSequenceClassification model).\n"
     ]
    },
    {
     "name": "stdout",
     "output_type": "stream",
     "text": [
      "('harness_v7_lg_74.pkl', 74) 75\n",
      "epoch 75 version: 7\n"
     ]
    },
    {
     "data": {
      "application/vnd.jupyter.widget-view+json": {
       "model_id": "900ab0d524a84c479c885a9d2bda83d0",
       "version_major": 2,
       "version_minor": 0
      },
      "text/plain": [
       "train:   0%|          | 0/20000 [00:00<?, ?it/s]"
      ]
     },
     "metadata": {},
     "output_type": "display_data"
    },
    {
     "data": {
      "application/vnd.jupyter.widget-view+json": {
       "model_id": "79a5e79798e14aff846cad6a606b46b8",
       "version_major": 2,
       "version_minor": 0
      },
      "text/plain": [
       "train val:   0%|          | 0/10000 [00:00<?, ?it/s]"
      ]
     },
     "metadata": {},
     "output_type": "display_data"
    },
    {
     "data": {
      "application/vnd.jupyter.widget-view+json": {
       "model_id": "86f490d8189d45a4a44ef6c001f1acec",
       "version_major": 2,
       "version_minor": 0
      },
      "text/plain": [
       "test:   0%|          | 0/10000 [00:00<?, ?it/s]"
      ]
     },
     "metadata": {},
     "output_type": "display_data"
    },
    {
     "name": "stdout",
     "output_type": "stream",
     "text": [
      "train: 0.87725 loss: 0.24688319284539606\n",
      "train val: 0.7725 loss: 0.4387943536286475\n",
      "test: 0.5912 loss: 0.6844999013572931\n",
      "epoch time: 475.77min\n",
      "removing /mnt/d/workspace/clotho/notebooks/checkpoints/stats_v7_lg_0.json\n",
      "removing /mnt/d/workspace/clotho/notebooks/checkpoints/harness_v7_lg_0.pkl\n",
      "removing /mnt/d/workspace/clotho/notebooks/checkpoints/stats_v7_lg_3.json\n",
      "removing /mnt/d/workspace/clotho/notebooks/checkpoints/harness_v7_lg_3.pkl\n",
      "removing /mnt/d/workspace/clotho/notebooks/checkpoints/stats_v7_lg_6.json\n",
      "removing /mnt/d/workspace/clotho/notebooks/checkpoints/harness_v7_lg_6.pkl\n",
      "removing /mnt/d/workspace/clotho/notebooks/checkpoints/stats_v7_lg_1.json\n",
      "removing /mnt/d/workspace/clotho/notebooks/checkpoints/harness_v7_lg_1.pkl\n",
      "removing /mnt/d/workspace/clotho/notebooks/checkpoints/stats_v7_lg_9.json\n",
      "removing /mnt/d/workspace/clotho/notebooks/checkpoints/harness_v7_lg_9.pkl\n",
      "removing /mnt/d/workspace/clotho/notebooks/checkpoints/stats_v7_lg_10.json\n",
      "removing /mnt/d/workspace/clotho/notebooks/checkpoints/harness_v7_lg_10.pkl\n",
      "removing /mnt/d/workspace/clotho/notebooks/checkpoints/stats_v7_lg_11.json\n",
      "removing /mnt/d/workspace/clotho/notebooks/checkpoints/harness_v7_lg_11.pkl\n",
      "removing /mnt/d/workspace/clotho/notebooks/checkpoints/stats_v7_lg_12.json\n",
      "removing /mnt/d/workspace/clotho/notebooks/checkpoints/harness_v7_lg_12.pkl\n",
      "removing /mnt/d/workspace/clotho/notebooks/checkpoints/stats_v7_lg_13.json\n",
      "removing /mnt/d/workspace/clotho/notebooks/checkpoints/harness_v7_lg_13.pkl\n",
      "removing /mnt/d/workspace/clotho/notebooks/checkpoints/stats_v7_lg_14.json\n",
      "removing /mnt/d/workspace/clotho/notebooks/checkpoints/harness_v7_lg_14.pkl\n",
      "removing /mnt/d/workspace/clotho/notebooks/checkpoints/stats_v7_lg_15.json\n",
      "removing /mnt/d/workspace/clotho/notebooks/checkpoints/harness_v7_lg_15.pkl\n",
      "removing /mnt/d/workspace/clotho/notebooks/checkpoints/stats_v7_lg_16.json\n",
      "removing /mnt/d/workspace/clotho/notebooks/checkpoints/harness_v7_lg_16.pkl\n",
      "removing /mnt/d/workspace/clotho/notebooks/checkpoints/stats_v7_lg_17.json\n",
      "removing /mnt/d/workspace/clotho/notebooks/checkpoints/harness_v7_lg_17.pkl\n",
      "removing /mnt/d/workspace/clotho/notebooks/checkpoints/stats_v7_lg_18.json\n",
      "removing /mnt/d/workspace/clotho/notebooks/checkpoints/harness_v7_lg_18.pkl\n",
      "removing /mnt/d/workspace/clotho/notebooks/checkpoints/stats_v7_lg_19.json\n",
      "removing /mnt/d/workspace/clotho/notebooks/checkpoints/harness_v7_lg_19.pkl\n",
      "removing /mnt/d/workspace/clotho/notebooks/checkpoints/stats_v7_lg_20.json\n",
      "removing /mnt/d/workspace/clotho/notebooks/checkpoints/harness_v7_lg_20.pkl\n",
      "removing /mnt/d/workspace/clotho/notebooks/checkpoints/stats_v7_lg_21.json\n",
      "removing /mnt/d/workspace/clotho/notebooks/checkpoints/harness_v7_lg_21.pkl\n",
      "removing /mnt/d/workspace/clotho/notebooks/checkpoints/stats_v7_lg_22.json\n",
      "removing /mnt/d/workspace/clotho/notebooks/checkpoints/harness_v7_lg_22.pkl\n",
      "removing /mnt/d/workspace/clotho/notebooks/checkpoints/stats_v7_lg_23.json\n",
      "removing /mnt/d/workspace/clotho/notebooks/checkpoints/harness_v7_lg_23.pkl\n",
      "removing /mnt/d/workspace/clotho/notebooks/checkpoints/stats_v7_lg_24.json\n",
      "removing /mnt/d/workspace/clotho/notebooks/checkpoints/harness_v7_lg_24.pkl\n",
      "removing /mnt/d/workspace/clotho/notebooks/checkpoints/stats_v7_lg_25.json\n",
      "removing /mnt/d/workspace/clotho/notebooks/checkpoints/harness_v7_lg_25.pkl\n",
      "removing /mnt/d/workspace/clotho/notebooks/checkpoints/stats_v7_lg_26.json\n",
      "removing /mnt/d/workspace/clotho/notebooks/checkpoints/harness_v7_lg_26.pkl\n",
      "removing /mnt/d/workspace/clotho/notebooks/checkpoints/stats_v7_lg_27.json\n",
      "removing /mnt/d/workspace/clotho/notebooks/checkpoints/harness_v7_lg_27.pkl\n",
      "removing /mnt/d/workspace/clotho/notebooks/checkpoints/stats_v7_lg_5.json\n",
      "removing /mnt/d/workspace/clotho/notebooks/checkpoints/harness_v7_lg_5.pkl\n",
      "removing /mnt/d/workspace/clotho/notebooks/checkpoints/stats_v7_lg_7.json\n",
      "removing /mnt/d/workspace/clotho/notebooks/checkpoints/harness_v7_lg_7.pkl\n",
      "removing /mnt/d/workspace/clotho/notebooks/checkpoints/stats_v7_lg_30.json\n",
      "removing /mnt/d/workspace/clotho/notebooks/checkpoints/harness_v7_lg_30.pkl\n",
      "removing /mnt/d/workspace/clotho/notebooks/checkpoints/stats_v7_lg_31.json\n",
      "removing /mnt/d/workspace/clotho/notebooks/checkpoints/harness_v7_lg_31.pkl\n",
      "removing /mnt/d/workspace/clotho/notebooks/checkpoints/stats_v7_lg_29.json\n",
      "removing /mnt/d/workspace/clotho/notebooks/checkpoints/harness_v7_lg_29.pkl\n",
      "removing /mnt/d/workspace/clotho/notebooks/checkpoints/stats_v7_lg_33.json\n",
      "removing /mnt/d/workspace/clotho/notebooks/checkpoints/harness_v7_lg_33.pkl\n",
      "removing /mnt/d/workspace/clotho/notebooks/checkpoints/stats_v7_lg_34.json\n",
      "removing /mnt/d/workspace/clotho/notebooks/checkpoints/harness_v7_lg_34.pkl\n",
      "removing /mnt/d/workspace/clotho/notebooks/checkpoints/stats_v7_lg_4.json\n",
      "removing /mnt/d/workspace/clotho/notebooks/checkpoints/harness_v7_lg_4.pkl\n",
      "removing /mnt/d/workspace/clotho/notebooks/checkpoints/stats_v7_lg_28.json\n",
      "removing /mnt/d/workspace/clotho/notebooks/checkpoints/harness_v7_lg_28.pkl\n",
      "removing /mnt/d/workspace/clotho/notebooks/checkpoints/stats_v7_lg_8.json\n",
      "removing /mnt/d/workspace/clotho/notebooks/checkpoints/harness_v7_lg_8.pkl\n",
      "removing /mnt/d/workspace/clotho/notebooks/checkpoints/stats_v7_lg_32.json\n",
      "removing /mnt/d/workspace/clotho/notebooks/checkpoints/harness_v7_lg_32.pkl\n",
      "removing /mnt/d/workspace/clotho/notebooks/checkpoints/stats_v7_lg_39.json\n",
      "removing /mnt/d/workspace/clotho/notebooks/checkpoints/harness_v7_lg_39.pkl\n",
      "removing /mnt/d/workspace/clotho/notebooks/checkpoints/stats_v7_lg_36.json\n",
      "removing /mnt/d/workspace/clotho/notebooks/checkpoints/harness_v7_lg_36.pkl\n",
      "removing /mnt/d/workspace/clotho/notebooks/checkpoints/stats_v7_lg_35.json\n",
      "removing /mnt/d/workspace/clotho/notebooks/checkpoints/harness_v7_lg_35.pkl\n",
      "removing /mnt/d/workspace/clotho/notebooks/checkpoints/stats_v7_lg_38.json\n",
      "removing /mnt/d/workspace/clotho/notebooks/checkpoints/harness_v7_lg_38.pkl\n",
      "removing /mnt/d/workspace/clotho/notebooks/checkpoints/stats_v7_lg_43.json\n",
      "removing /mnt/d/workspace/clotho/notebooks/checkpoints/harness_v7_lg_43.pkl\n",
      "removing /mnt/d/workspace/clotho/notebooks/checkpoints/stats_v7_lg_42.json\n",
      "removing /mnt/d/workspace/clotho/notebooks/checkpoints/harness_v7_lg_42.pkl\n",
      "removing /mnt/d/workspace/clotho/notebooks/checkpoints/stats_v7_lg_45.json\n",
      "removing /mnt/d/workspace/clotho/notebooks/checkpoints/harness_v7_lg_45.pkl\n",
      "removing /mnt/d/workspace/clotho/notebooks/checkpoints/stats_v7_lg_37.json\n",
      "removing /mnt/d/workspace/clotho/notebooks/checkpoints/harness_v7_lg_37.pkl\n",
      "removing /mnt/d/workspace/clotho/notebooks/checkpoints/stats_v7_lg_47.json\n",
      "removing /mnt/d/workspace/clotho/notebooks/checkpoints/harness_v7_lg_47.pkl\n",
      "removing /mnt/d/workspace/clotho/notebooks/checkpoints/stats_v7_lg_48.json\n",
      "removing /mnt/d/workspace/clotho/notebooks/checkpoints/harness_v7_lg_48.pkl\n",
      "removing /mnt/d/workspace/clotho/notebooks/checkpoints/stats_v7_lg_49.json\n",
      "removing /mnt/d/workspace/clotho/notebooks/checkpoints/harness_v7_lg_49.pkl\n",
      "removing /mnt/d/workspace/clotho/notebooks/checkpoints/stats_v7_lg_50.json\n",
      "removing /mnt/d/workspace/clotho/notebooks/checkpoints/harness_v7_lg_50.pkl\n",
      "removing /mnt/d/workspace/clotho/notebooks/checkpoints/stats_v7_lg_51.json\n",
      "removing /mnt/d/workspace/clotho/notebooks/checkpoints/harness_v7_lg_51.pkl\n",
      "removing /mnt/d/workspace/clotho/notebooks/checkpoints/stats_v7_lg_52.json\n",
      "removing /mnt/d/workspace/clotho/notebooks/checkpoints/harness_v7_lg_52.pkl\n",
      "removing /mnt/d/workspace/clotho/notebooks/checkpoints/stats_v7_lg_53.json\n",
      "removing /mnt/d/workspace/clotho/notebooks/checkpoints/harness_v7_lg_53.pkl\n",
      "removing /mnt/d/workspace/clotho/notebooks/checkpoints/stats_v7_lg_54.json\n",
      "removing /mnt/d/workspace/clotho/notebooks/checkpoints/harness_v7_lg_54.pkl\n",
      "removing /mnt/d/workspace/clotho/notebooks/checkpoints/stats_v7_lg_55.json\n",
      "removing /mnt/d/workspace/clotho/notebooks/checkpoints/harness_v7_lg_55.pkl\n",
      "removing /mnt/d/workspace/clotho/notebooks/checkpoints/stats_v7_lg_56.json\n",
      "removing /mnt/d/workspace/clotho/notebooks/checkpoints/harness_v7_lg_56.pkl\n",
      "removing /mnt/d/workspace/clotho/notebooks/checkpoints/stats_v7_lg_46.json\n",
      "removing /mnt/d/workspace/clotho/notebooks/checkpoints/harness_v7_lg_46.pkl\n",
      "removing /mnt/d/workspace/clotho/notebooks/checkpoints/stats_v7_lg_41.json\n",
      "removing /mnt/d/workspace/clotho/notebooks/checkpoints/harness_v7_lg_41.pkl\n",
      "removing /mnt/d/workspace/clotho/notebooks/checkpoints/stats_v7_lg_44.json\n",
      "removing /mnt/d/workspace/clotho/notebooks/checkpoints/harness_v7_lg_44.pkl\n",
      "removing /mnt/d/workspace/clotho/notebooks/checkpoints/stats_v7_lg_57.json\n",
      "removing /mnt/d/workspace/clotho/notebooks/checkpoints/harness_v7_lg_57.pkl\n",
      "removing /mnt/d/workspace/clotho/notebooks/checkpoints/stats_v7_lg_40.json\n",
      "removing /mnt/d/workspace/clotho/notebooks/checkpoints/harness_v7_lg_40.pkl\n",
      "removing /mnt/d/workspace/clotho/notebooks/checkpoints/stats_v7_lg_62.json\n",
      "removing /mnt/d/workspace/clotho/notebooks/checkpoints/harness_v7_lg_62.pkl\n",
      "removing /mnt/d/workspace/clotho/notebooks/checkpoints/stats_v7_lg_58.json\n",
      "removing /mnt/d/workspace/clotho/notebooks/checkpoints/harness_v7_lg_58.pkl\n",
      "removing /mnt/d/workspace/clotho/notebooks/checkpoints/stats_v7_lg_60.json\n",
      "removing /mnt/d/workspace/clotho/notebooks/checkpoints/harness_v7_lg_60.pkl\n",
      "removing /mnt/d/workspace/clotho/notebooks/checkpoints/stats_v7_lg_61.json\n",
      "removing /mnt/d/workspace/clotho/notebooks/checkpoints/harness_v7_lg_61.pkl\n",
      "removing /mnt/d/workspace/clotho/notebooks/checkpoints/stats_v7_lg_59.json\n",
      "removing /mnt/d/workspace/clotho/notebooks/checkpoints/harness_v7_lg_59.pkl\n",
      "removing /mnt/d/workspace/clotho/notebooks/checkpoints/stats_v7_lg_67.json\n",
      "removing /mnt/d/workspace/clotho/notebooks/checkpoints/harness_v7_lg_67.pkl\n",
      "removing /mnt/d/workspace/clotho/notebooks/checkpoints/stats_v7_lg_68.json\n",
      "removing /mnt/d/workspace/clotho/notebooks/checkpoints/harness_v7_lg_68.pkl\n",
      "removing /mnt/d/workspace/clotho/notebooks/checkpoints/stats_v7_lg_66.json\n",
      "removing /mnt/d/workspace/clotho/notebooks/checkpoints/harness_v7_lg_66.pkl\n",
      "removing /mnt/d/workspace/clotho/notebooks/checkpoints/stats_v7_lg_63.json\n",
      "removing /mnt/d/workspace/clotho/notebooks/checkpoints/harness_v7_lg_63.pkl\n",
      "removing /mnt/d/workspace/clotho/notebooks/checkpoints/stats_v7_lg_65.json\n",
      "removing /mnt/d/workspace/clotho/notebooks/checkpoints/harness_v7_lg_65.pkl\n",
      "removing /mnt/d/workspace/clotho/notebooks/checkpoints/stats_v7_lg_72.json\n",
      "removing /mnt/d/workspace/clotho/notebooks/checkpoints/harness_v7_lg_72.pkl\n",
      "removing /mnt/d/workspace/clotho/notebooks/checkpoints/stats_v7_lg_73.json\n",
      "removing /mnt/d/workspace/clotho/notebooks/checkpoints/harness_v7_lg_73.pkl\n",
      "epoch 76 version: 7\n"
     ]
    },
    {
     "data": {
      "application/vnd.jupyter.widget-view+json": {
       "model_id": "a20f139dd7d44a23b6d4a85777b26fb6",
       "version_major": 2,
       "version_minor": 0
      },
      "text/plain": [
       "train:   0%|          | 0/20000 [00:00<?, ?it/s]"
      ]
     },
     "metadata": {},
     "output_type": "display_data"
    },
    {
     "data": {
      "application/vnd.jupyter.widget-view+json": {
       "model_id": "e21fffbfe4cd4f758d470dc43ff2502d",
       "version_major": 2,
       "version_minor": 0
      },
      "text/plain": [
       "train val:   0%|          | 0/10000 [00:00<?, ?it/s]"
      ]
     },
     "metadata": {},
     "output_type": "display_data"
    },
    {
     "data": {
      "application/vnd.jupyter.widget-view+json": {
       "model_id": "756d3f75e3e34c34a6df1f1b9ac41f4d",
       "version_major": 2,
       "version_minor": 0
      },
      "text/plain": [
       "test:   0%|          | 0/10000 [00:00<?, ?it/s]"
      ]
     },
     "metadata": {},
     "output_type": "display_data"
    },
    {
     "name": "stdout",
     "output_type": "stream",
     "text": [
      "train: 0.87635 loss: 0.25244936092717707\n",
      "train val: 0.7763 loss: 0.43755752810058185\n",
      "test: 0.5892 loss: 0.6646364462137222\n",
      "epoch time: 47.66min\n",
      "removing /mnt/d/workspace/clotho/notebooks/checkpoints/stats_v7_lg_69.json\n",
      "removing /mnt/d/workspace/clotho/notebooks/checkpoints/harness_v7_lg_69.pkl\n",
      "epoch 77 version: 7\n"
     ]
    },
    {
     "data": {
      "application/vnd.jupyter.widget-view+json": {
       "model_id": "07b28c9e156649868a88e95a50b516b4",
       "version_major": 2,
       "version_minor": 0
      },
      "text/plain": [
       "train:   0%|          | 0/20000 [00:00<?, ?it/s]"
      ]
     },
     "metadata": {},
     "output_type": "display_data"
    },
    {
     "data": {
      "application/vnd.jupyter.widget-view+json": {
       "model_id": "eccb6d3c85d948a09ca669e4da545d90",
       "version_major": 2,
       "version_minor": 0
      },
      "text/plain": [
       "train val:   0%|          | 0/10000 [00:00<?, ?it/s]"
      ]
     },
     "metadata": {},
     "output_type": "display_data"
    },
    {
     "data": {
      "application/vnd.jupyter.widget-view+json": {
       "model_id": "c75d073e53774198aef26c95cd48c3b1",
       "version_major": 2,
       "version_minor": 0
      },
      "text/plain": [
       "test:   0%|          | 0/10000 [00:00<?, ?it/s]"
      ]
     },
     "metadata": {},
     "output_type": "display_data"
    },
    {
     "name": "stdout",
     "output_type": "stream",
     "text": [
      "train: 0.8761 loss: 0.25424676765135285\n",
      "train val: 0.7701 loss: 0.43542541802176277\n",
      "test: 0.596 loss: 0.6690252234339714\n",
      "epoch time: 40.65min\n",
      "removing /mnt/d/workspace/clotho/notebooks/checkpoints/stats_v7_lg_71.json\n",
      "removing /mnt/d/workspace/clotho/notebooks/checkpoints/harness_v7_lg_71.pkl\n",
      "epoch 78 version: 7\n"
     ]
    },
    {
     "data": {
      "application/vnd.jupyter.widget-view+json": {
       "model_id": "f9220818069b497390ddefef6a0100f8",
       "version_major": 2,
       "version_minor": 0
      },
      "text/plain": [
       "train:   0%|          | 0/20000 [00:00<?, ?it/s]"
      ]
     },
     "metadata": {},
     "output_type": "display_data"
    },
    {
     "data": {
      "application/vnd.jupyter.widget-view+json": {
       "model_id": "f3f85a037bcd445dba680e1f8e7c392c",
       "version_major": 2,
       "version_minor": 0
      },
      "text/plain": [
       "train val:   0%|          | 0/10000 [00:00<?, ?it/s]"
      ]
     },
     "metadata": {},
     "output_type": "display_data"
    },
    {
     "data": {
      "application/vnd.jupyter.widget-view+json": {
       "model_id": "8ee50de95ff7405f92912c489785469d",
       "version_major": 2,
       "version_minor": 0
      },
      "text/plain": [
       "test:   0%|          | 0/10000 [00:00<?, ?it/s]"
      ]
     },
     "metadata": {},
     "output_type": "display_data"
    },
    {
     "name": "stdout",
     "output_type": "stream",
     "text": [
      "train: 0.8778 loss: 0.2523328201648331\n",
      "train val: 0.7705 loss: 0.44131886511325136\n",
      "test: 0.6026 loss: 0.6695084605455398\n",
      "epoch time: 38.07min\n",
      "removing /mnt/d/workspace/clotho/notebooks/checkpoints/stats_v7_lg_64.json\n",
      "removing /mnt/d/workspace/clotho/notebooks/checkpoints/harness_v7_lg_64.pkl\n",
      "epoch 79 version: 7\n"
     ]
    },
    {
     "data": {
      "application/vnd.jupyter.widget-view+json": {
       "model_id": "da9da650ab9a4f16872eb57d0d854b4a",
       "version_major": 2,
       "version_minor": 0
      },
      "text/plain": [
       "train:   0%|          | 0/20000 [00:00<?, ?it/s]"
      ]
     },
     "metadata": {},
     "output_type": "display_data"
    },
    {
     "data": {
      "application/vnd.jupyter.widget-view+json": {
       "model_id": "49f95314a06741b5a2bc89c35f9d1d3b",
       "version_major": 2,
       "version_minor": 0
      },
      "text/plain": [
       "train val:   0%|          | 0/10000 [00:00<?, ?it/s]"
      ]
     },
     "metadata": {},
     "output_type": "display_data"
    },
    {
     "data": {
      "application/vnd.jupyter.widget-view+json": {
       "model_id": "ac333ad16bc648ce87efd1db192ab6ae",
       "version_major": 2,
       "version_minor": 0
      },
      "text/plain": [
       "test:   0%|          | 0/10000 [00:00<?, ?it/s]"
      ]
     },
     "metadata": {},
     "output_type": "display_data"
    },
    {
     "name": "stdout",
     "output_type": "stream",
     "text": [
      "train: 0.8725 loss: 0.2625613520741983\n",
      "train val: 0.7597 loss: 0.45352330187449696\n",
      "test: 0.5754 loss: 0.6992761222839355\n",
      "epoch time: 34.22min\n",
      "removing /mnt/d/workspace/clotho/notebooks/checkpoints/stats_v7_lg_2.json\n",
      "removing /mnt/d/workspace/clotho/notebooks/checkpoints/harness_v7_lg_2.pkl\n",
      "epoch 80 version: 7\n"
     ]
    },
    {
     "data": {
      "application/vnd.jupyter.widget-view+json": {
       "model_id": "2571c4bd65a04e548f5cdddc84a9188e",
       "version_major": 2,
       "version_minor": 0
      },
      "text/plain": [
       "train:   0%|          | 0/20000 [00:00<?, ?it/s]"
      ]
     },
     "metadata": {},
     "output_type": "display_data"
    },
    {
     "data": {
      "application/vnd.jupyter.widget-view+json": {
       "model_id": "71602ee646d64b0196356f4a11075636",
       "version_major": 2,
       "version_minor": 0
      },
      "text/plain": [
       "train val:   0%|          | 0/10000 [00:00<?, ?it/s]"
      ]
     },
     "metadata": {},
     "output_type": "display_data"
    },
    {
     "data": {
      "application/vnd.jupyter.widget-view+json": {
       "model_id": "5db928947661463fa1333436dd6209e1",
       "version_major": 2,
       "version_minor": 0
      },
      "text/plain": [
       "test:   0%|          | 0/10000 [00:00<?, ?it/s]"
      ]
     },
     "metadata": {},
     "output_type": "display_data"
    },
    {
     "name": "stdout",
     "output_type": "stream",
     "text": [
      "train: 0.8722 loss: 0.26530608701907005\n",
      "train val: 0.769 loss: 0.44649667372216933\n",
      "test: 0.6043 loss: 0.675029324349761\n",
      "epoch time: 31.37min\n",
      "removing /mnt/d/workspace/clotho/notebooks/checkpoints/stats_v7_lg_79.json\n",
      "removing /mnt/d/workspace/clotho/notebooks/checkpoints/harness_v7_lg_79.pkl\n",
      "epoch 81 version: 7\n"
     ]
    },
    {
     "data": {
      "application/vnd.jupyter.widget-view+json": {
       "model_id": "09835fc7e930451cb03ac67f40f5d766",
       "version_major": 2,
       "version_minor": 0
      },
      "text/plain": [
       "train:   0%|          | 0/20000 [00:00<?, ?it/s]"
      ]
     },
     "metadata": {},
     "output_type": "display_data"
    },
    {
     "data": {
      "application/vnd.jupyter.widget-view+json": {
       "model_id": "09a604baeba64e69b71cdaeb10818440",
       "version_major": 2,
       "version_minor": 0
      },
      "text/plain": [
       "train val:   0%|          | 0/10000 [00:00<?, ?it/s]"
      ]
     },
     "metadata": {},
     "output_type": "display_data"
    },
    {
     "data": {
      "application/vnd.jupyter.widget-view+json": {
       "model_id": "1efac7d88fdb429480deca451ce84b7a",
       "version_major": 2,
       "version_minor": 0
      },
      "text/plain": [
       "test:   0%|          | 0/10000 [00:00<?, ?it/s]"
      ]
     },
     "metadata": {},
     "output_type": "display_data"
    },
    {
     "name": "stdout",
     "output_type": "stream",
     "text": [
      "train: 0.87295 loss: 0.25997082502843316\n",
      "train val: 0.7658 loss: 0.46186705019338986\n",
      "test: 0.5974 loss: 0.7008182034432888\n",
      "epoch time: 31.08min\n",
      "removing /mnt/d/workspace/clotho/notebooks/checkpoints/stats_v7_lg_70.json\n",
      "removing /mnt/d/workspace/clotho/notebooks/checkpoints/harness_v7_lg_70.pkl\n",
      "epoch 82 version: 7\n"
     ]
    },
    {
     "data": {
      "application/vnd.jupyter.widget-view+json": {
       "model_id": "31f0026b8dce489ea464daf4fb397e62",
       "version_major": 2,
       "version_minor": 0
      },
      "text/plain": [
       "train:   0%|          | 0/20000 [00:00<?, ?it/s]"
      ]
     },
     "metadata": {},
     "output_type": "display_data"
    },
    {
     "data": {
      "application/vnd.jupyter.widget-view+json": {
       "model_id": "3bfe9b12bf2b439dbd4f5cf7a5d7f6c6",
       "version_major": 2,
       "version_minor": 0
      },
      "text/plain": [
       "train val:   0%|          | 0/10000 [00:00<?, ?it/s]"
      ]
     },
     "metadata": {},
     "output_type": "display_data"
    },
    {
     "data": {
      "application/vnd.jupyter.widget-view+json": {
       "model_id": "0e0284939dcc434c84aaf2bf1760bda8",
       "version_major": 2,
       "version_minor": 0
      },
      "text/plain": [
       "test:   0%|          | 0/10000 [00:00<?, ?it/s]"
      ]
     },
     "metadata": {},
     "output_type": "display_data"
    },
    {
     "name": "stdout",
     "output_type": "stream",
     "text": [
      "train: 0.8722 loss: 0.26160743072850184\n",
      "train val: 0.7623 loss: 0.44856447543819084\n",
      "test: 0.606 loss: 0.6810746724814176\n",
      "epoch time: 30.40min\n",
      "removing /mnt/d/workspace/clotho/notebooks/checkpoints/stats_v7_lg_81.json\n",
      "removing /mnt/d/workspace/clotho/notebooks/checkpoints/harness_v7_lg_81.pkl\n",
      "epoch 83 version: 7\n"
     ]
    },
    {
     "data": {
      "application/vnd.jupyter.widget-view+json": {
       "model_id": "a4f5350392e243ea918c688a927a0035",
       "version_major": 2,
       "version_minor": 0
      },
      "text/plain": [
       "train:   0%|          | 0/20000 [00:00<?, ?it/s]"
      ]
     },
     "metadata": {},
     "output_type": "display_data"
    },
    {
     "data": {
      "application/vnd.jupyter.widget-view+json": {
       "model_id": "6cf0f1fa92704c689af83f369cd048dd",
       "version_major": 2,
       "version_minor": 0
      },
      "text/plain": [
       "train val:   0%|          | 0/10000 [00:00<?, ?it/s]"
      ]
     },
     "metadata": {},
     "output_type": "display_data"
    },
    {
     "data": {
      "application/vnd.jupyter.widget-view+json": {
       "model_id": "768498b2c36d4003833c091e6c39c4a8",
       "version_major": 2,
       "version_minor": 0
      },
      "text/plain": [
       "test:   0%|          | 0/10000 [00:00<?, ?it/s]"
      ]
     },
     "metadata": {},
     "output_type": "display_data"
    },
    {
     "name": "stdout",
     "output_type": "stream",
     "text": [
      "train: 0.87125 loss: 0.2627661601345455\n",
      "train val: 0.7626 loss: 0.4402225275948178\n",
      "test: 0.5913 loss: 0.6718370355010033\n",
      "epoch time: 29.97min\n",
      "removing /mnt/d/workspace/clotho/notebooks/checkpoints/stats_v7_lg_82.json\n",
      "removing /mnt/d/workspace/clotho/notebooks/checkpoints/harness_v7_lg_82.pkl\n",
      "epoch 84 version: 7\n"
     ]
    },
    {
     "data": {
      "application/vnd.jupyter.widget-view+json": {
       "model_id": "4bc5222f7a0849e58754454f80c47f45",
       "version_major": 2,
       "version_minor": 0
      },
      "text/plain": [
       "train:   0%|          | 0/20000 [00:00<?, ?it/s]"
      ]
     },
     "metadata": {},
     "output_type": "display_data"
    },
    {
     "data": {
      "application/vnd.jupyter.widget-view+json": {
       "model_id": "207f89c5e2794d9a9e363d1da7563da0",
       "version_major": 2,
       "version_minor": 0
      },
      "text/plain": [
       "train val:   0%|          | 0/10000 [00:00<?, ?it/s]"
      ]
     },
     "metadata": {},
     "output_type": "display_data"
    },
    {
     "data": {
      "application/vnd.jupyter.widget-view+json": {
       "model_id": "21d63fcdc0b74fe89ad42c11d281e59f",
       "version_major": 2,
       "version_minor": 0
      },
      "text/plain": [
       "test:   0%|          | 0/10000 [00:00<?, ?it/s]"
      ]
     },
     "metadata": {},
     "output_type": "display_data"
    },
    {
     "name": "stdout",
     "output_type": "stream",
     "text": [
      "train: 0.87355 loss: 0.26206800372047073\n",
      "train val: 0.7611 loss: 0.46427033837419585\n",
      "test: 0.5987 loss: 0.697297301711142\n",
      "epoch time: 29.14min\n",
      "removing /mnt/d/workspace/clotho/notebooks/checkpoints/stats_v7_lg_83.json\n",
      "removing /mnt/d/workspace/clotho/notebooks/checkpoints/harness_v7_lg_83.pkl\n",
      "epoch 85 version: 7\n"
     ]
    },
    {
     "data": {
      "application/vnd.jupyter.widget-view+json": {
       "model_id": "78f7c8bd09ce4e4cb11bcdd4b2cf7659",
       "version_major": 2,
       "version_minor": 0
      },
      "text/plain": [
       "train:   0%|          | 0/20000 [00:00<?, ?it/s]"
      ]
     },
     "metadata": {},
     "output_type": "display_data"
    },
    {
     "data": {
      "application/vnd.jupyter.widget-view+json": {
       "model_id": "7feb2c6aa16444b9968de4b50bed2675",
       "version_major": 2,
       "version_minor": 0
      },
      "text/plain": [
       "train val:   0%|          | 0/10000 [00:00<?, ?it/s]"
      ]
     },
     "metadata": {},
     "output_type": "display_data"
    },
    {
     "data": {
      "application/vnd.jupyter.widget-view+json": {
       "model_id": "01e4729d03a240ef8eac28e04c279ff7",
       "version_major": 2,
       "version_minor": 0
      },
      "text/plain": [
       "test:   0%|          | 0/10000 [00:00<?, ?it/s]"
      ]
     },
     "metadata": {},
     "output_type": "display_data"
    },
    {
     "name": "stdout",
     "output_type": "stream",
     "text": [
      "train: 0.85835 loss: 0.28622868821649916\n",
      "train val: 0.765 loss: 0.46972758333991516\n",
      "test: 0.6099 loss: 0.6808240371406078\n",
      "epoch time: 29.68min\n",
      "removing /mnt/d/workspace/clotho/notebooks/checkpoints/stats_v7_lg_84.json\n",
      "removing /mnt/d/workspace/clotho/notebooks/checkpoints/harness_v7_lg_84.pkl\n",
      "epoch 86 version: 7\n"
     ]
    },
    {
     "data": {
      "application/vnd.jupyter.widget-view+json": {
       "model_id": "238b64a96772477e9d9885729ac30104",
       "version_major": 2,
       "version_minor": 0
      },
      "text/plain": [
       "train:   0%|          | 0/20000 [00:00<?, ?it/s]"
      ]
     },
     "metadata": {},
     "output_type": "display_data"
    },
    {
     "data": {
      "application/vnd.jupyter.widget-view+json": {
       "model_id": "8b523f1855954e6c9485011903b688a4",
       "version_major": 2,
       "version_minor": 0
      },
      "text/plain": [
       "train val:   0%|          | 0/10000 [00:00<?, ?it/s]"
      ]
     },
     "metadata": {},
     "output_type": "display_data"
    },
    {
     "data": {
      "application/vnd.jupyter.widget-view+json": {
       "model_id": "1d9177d9051142a1a45e8c48e5f5c708",
       "version_major": 2,
       "version_minor": 0
      },
      "text/plain": [
       "test:   0%|          | 0/10000 [00:00<?, ?it/s]"
      ]
     },
     "metadata": {},
     "output_type": "display_data"
    },
    {
     "name": "stdout",
     "output_type": "stream",
     "text": [
      "train: 0.8695 loss: 0.26622423289322755\n",
      "train val: 0.7652 loss: 0.4519058105667413\n",
      "test: 0.594 loss: 0.7056208173274994\n",
      "epoch time: 28.65min\n",
      "removing /mnt/d/workspace/clotho/notebooks/checkpoints/stats_v7_lg_85.json\n",
      "removing /mnt/d/workspace/clotho/notebooks/checkpoints/harness_v7_lg_85.pkl\n",
      "epoch 87 version: 7\n"
     ]
    },
    {
     "data": {
      "application/vnd.jupyter.widget-view+json": {
       "model_id": "476c84a73f404bc0b587ec367203dc26",
       "version_major": 2,
       "version_minor": 0
      },
      "text/plain": [
       "train:   0%|          | 0/20000 [00:00<?, ?it/s]"
      ]
     },
     "metadata": {},
     "output_type": "display_data"
    },
    {
     "data": {
      "application/vnd.jupyter.widget-view+json": {
       "model_id": "7b25b6ad194b4dab80069184b3b7fba3",
       "version_major": 2,
       "version_minor": 0
      },
      "text/plain": [
       "train val:   0%|          | 0/10000 [00:00<?, ?it/s]"
      ]
     },
     "metadata": {},
     "output_type": "display_data"
    },
    {
     "data": {
      "application/vnd.jupyter.widget-view+json": {
       "model_id": "bb44a6a6b1f44417a7cc67d4d1dc3e22",
       "version_major": 2,
       "version_minor": 0
      },
      "text/plain": [
       "test:   0%|          | 0/10000 [00:00<?, ?it/s]"
      ]
     },
     "metadata": {},
     "output_type": "display_data"
    },
    {
     "name": "stdout",
     "output_type": "stream",
     "text": [
      "train: 0.8733 loss: 0.2569895461262684\n",
      "train val: 0.7641 loss: 0.4479742307905108\n",
      "test: 0.6108 loss: 0.6704469347596168\n",
      "epoch time: 28.66min\n",
      "removing /mnt/d/workspace/clotho/notebooks/checkpoints/stats_v7_lg_86.json\n",
      "removing /mnt/d/workspace/clotho/notebooks/checkpoints/harness_v7_lg_86.pkl\n",
      "epoch 88 version: 7\n"
     ]
    },
    {
     "data": {
      "application/vnd.jupyter.widget-view+json": {
       "model_id": "cc5ce0d286984391a0d5eea5697b1f40",
       "version_major": 2,
       "version_minor": 0
      },
      "text/plain": [
       "train:   0%|          | 0/20000 [00:00<?, ?it/s]"
      ]
     },
     "metadata": {},
     "output_type": "display_data"
    },
    {
     "data": {
      "application/vnd.jupyter.widget-view+json": {
       "model_id": "026cfc37a83a4d62af1f2a7b55135bfd",
       "version_major": 2,
       "version_minor": 0
      },
      "text/plain": [
       "train val:   0%|          | 0/10000 [00:00<?, ?it/s]"
      ]
     },
     "metadata": {},
     "output_type": "display_data"
    },
    {
     "data": {
      "application/vnd.jupyter.widget-view+json": {
       "model_id": "426d2f70d027459a821e77817b0e94fc",
       "version_major": 2,
       "version_minor": 0
      },
      "text/plain": [
       "test:   0%|          | 0/10000 [00:00<?, ?it/s]"
      ]
     },
     "metadata": {},
     "output_type": "display_data"
    },
    {
     "name": "stdout",
     "output_type": "stream",
     "text": [
      "train: 0.87055 loss: 0.26610853414593805\n",
      "train val: 0.7636 loss: 0.4446240754237864\n",
      "test: 0.6032 loss: 0.665110944211483\n",
      "epoch time: 27.63min\n",
      "removing /mnt/d/workspace/clotho/notebooks/checkpoints/stats_v7_lg_87.json\n",
      "removing /mnt/d/workspace/clotho/notebooks/checkpoints/harness_v7_lg_87.pkl\n",
      "epoch 89 version: 7\n"
     ]
    },
    {
     "data": {
      "application/vnd.jupyter.widget-view+json": {
       "model_id": "0dc196c4a40c4adcbab39278b1379334",
       "version_major": 2,
       "version_minor": 0
      },
      "text/plain": [
       "train:   0%|          | 0/20000 [00:00<?, ?it/s]"
      ]
     },
     "metadata": {},
     "output_type": "display_data"
    },
    {
     "data": {
      "application/vnd.jupyter.widget-view+json": {
       "model_id": "aeb15062ded64432987940d37fddab8a",
       "version_major": 2,
       "version_minor": 0
      },
      "text/plain": [
       "train val:   0%|          | 0/10000 [00:00<?, ?it/s]"
      ]
     },
     "metadata": {},
     "output_type": "display_data"
    },
    {
     "data": {
      "application/vnd.jupyter.widget-view+json": {
       "model_id": "56c22ac80aca4a16a89eb245260b65a1",
       "version_major": 2,
       "version_minor": 0
      },
      "text/plain": [
       "test:   0%|          | 0/10000 [00:00<?, ?it/s]"
      ]
     },
     "metadata": {},
     "output_type": "display_data"
    },
    {
     "name": "stdout",
     "output_type": "stream",
     "text": [
      "train: 0.87375 loss: 0.2630965968995374\n",
      "train val: 0.7561 loss: 0.45062036986213644\n",
      "test: 0.5814 loss: 0.6870256122112274\n",
      "epoch time: 28.15min\n",
      "removing /mnt/d/workspace/clotho/notebooks/checkpoints/stats_v7_lg_88.json\n",
      "removing /mnt/d/workspace/clotho/notebooks/checkpoints/harness_v7_lg_88.pkl\n",
      "epoch 90 version: 7\n"
     ]
    },
    {
     "data": {
      "application/vnd.jupyter.widget-view+json": {
       "model_id": "a6345a9432224144a9fd16cac501d6be",
       "version_major": 2,
       "version_minor": 0
      },
      "text/plain": [
       "train:   0%|          | 0/20000 [00:00<?, ?it/s]"
      ]
     },
     "metadata": {},
     "output_type": "display_data"
    },
    {
     "data": {
      "application/vnd.jupyter.widget-view+json": {
       "model_id": "a3cbb0436bb2437796e52a1b997d8ae4",
       "version_major": 2,
       "version_minor": 0
      },
      "text/plain": [
       "train val:   0%|          | 0/10000 [00:00<?, ?it/s]"
      ]
     },
     "metadata": {},
     "output_type": "display_data"
    },
    {
     "data": {
      "application/vnd.jupyter.widget-view+json": {
       "model_id": "5754d1a8e10540a58376fc276fa14dd8",
       "version_major": 2,
       "version_minor": 0
      },
      "text/plain": [
       "test:   0%|          | 0/10000 [00:00<?, ?it/s]"
      ]
     },
     "metadata": {},
     "output_type": "display_data"
    },
    {
     "name": "stdout",
     "output_type": "stream",
     "text": [
      "train: 0.8754 loss: 0.25624658458809424\n",
      "train val: 0.7704 loss: 0.4358079427268589\n",
      "test: 0.6053 loss: 0.667498233628273\n",
      "epoch time: 28.05min\n",
      "removing /mnt/d/workspace/clotho/notebooks/checkpoints/stats_v7_lg_89.json\n",
      "removing /mnt/d/workspace/clotho/notebooks/checkpoints/harness_v7_lg_89.pkl\n",
      "epoch 91 version: 7\n"
     ]
    },
    {
     "data": {
      "application/vnd.jupyter.widget-view+json": {
       "model_id": "7dfc4ed618964c079a2829219418c48d",
       "version_major": 2,
       "version_minor": 0
      },
      "text/plain": [
       "train:   0%|          | 0/20000 [00:00<?, ?it/s]"
      ]
     },
     "metadata": {},
     "output_type": "display_data"
    },
    {
     "data": {
      "application/vnd.jupyter.widget-view+json": {
       "model_id": "4e676a6a03b3405189b6f1028229f407",
       "version_major": 2,
       "version_minor": 0
      },
      "text/plain": [
       "train val:   0%|          | 0/10000 [00:00<?, ?it/s]"
      ]
     },
     "metadata": {},
     "output_type": "display_data"
    },
    {
     "data": {
      "application/vnd.jupyter.widget-view+json": {
       "model_id": "59f4944ac41c4a408a642e438b505b5e",
       "version_major": 2,
       "version_minor": 0
      },
      "text/plain": [
       "test:   0%|          | 0/10000 [00:00<?, ?it/s]"
      ]
     },
     "metadata": {},
     "output_type": "display_data"
    },
    {
     "name": "stdout",
     "output_type": "stream",
     "text": [
      "train: 0.87985 loss: 0.2479885182559723\n",
      "train val: 0.7647 loss: 0.45600684347779025\n",
      "test: 0.5914 loss: 0.7143267314553261\n",
      "epoch time: 27.39min\n",
      "removing /mnt/d/workspace/clotho/notebooks/checkpoints/stats_v7_lg_80.json\n",
      "removing /mnt/d/workspace/clotho/notebooks/checkpoints/harness_v7_lg_80.pkl\n",
      "epoch 92 version: 7\n"
     ]
    },
    {
     "data": {
      "application/vnd.jupyter.widget-view+json": {
       "model_id": "02c1aa0740954844bb46e19e908b0c2b",
       "version_major": 2,
       "version_minor": 0
      },
      "text/plain": [
       "train:   0%|          | 0/20000 [00:00<?, ?it/s]"
      ]
     },
     "metadata": {},
     "output_type": "display_data"
    },
    {
     "data": {
      "application/vnd.jupyter.widget-view+json": {
       "model_id": "a32bbc9350b7445abd193d14e7728294",
       "version_major": 2,
       "version_minor": 0
      },
      "text/plain": [
       "train val:   0%|          | 0/10000 [00:00<?, ?it/s]"
      ]
     },
     "metadata": {},
     "output_type": "display_data"
    },
    {
     "data": {
      "application/vnd.jupyter.widget-view+json": {
       "model_id": "0a6a1dca2c77478a9beb5aa43547e0dc",
       "version_major": 2,
       "version_minor": 0
      },
      "text/plain": [
       "test:   0%|          | 0/10000 [00:00<?, ?it/s]"
      ]
     },
     "metadata": {},
     "output_type": "display_data"
    },
    {
     "name": "stdout",
     "output_type": "stream",
     "text": [
      "train: 0.8788 loss: 0.2506342374682619\n",
      "train val: 0.7704 loss: 0.4520729850175951\n",
      "test: 0.6124 loss: 0.6624875483214855\n",
      "epoch time: 27.03min\n",
      "removing /mnt/d/workspace/clotho/notebooks/checkpoints/stats_v7_lg_91.json\n",
      "removing /mnt/d/workspace/clotho/notebooks/checkpoints/harness_v7_lg_91.pkl\n",
      "epoch 93 version: 7\n"
     ]
    },
    {
     "data": {
      "application/vnd.jupyter.widget-view+json": {
       "model_id": "fcca4502711643bdbc4100655344c431",
       "version_major": 2,
       "version_minor": 0
      },
      "text/plain": [
       "train:   0%|          | 0/20000 [00:00<?, ?it/s]"
      ]
     },
     "metadata": {},
     "output_type": "display_data"
    },
    {
     "data": {
      "application/vnd.jupyter.widget-view+json": {
       "model_id": "312e5daff59b48eba8a21249ecc19c75",
       "version_major": 2,
       "version_minor": 0
      },
      "text/plain": [
       "train val:   0%|          | 0/10000 [00:00<?, ?it/s]"
      ]
     },
     "metadata": {},
     "output_type": "display_data"
    },
    {
     "data": {
      "application/vnd.jupyter.widget-view+json": {
       "model_id": "d4f190f0dfe3400097094170f9204c32",
       "version_major": 2,
       "version_minor": 0
      },
      "text/plain": [
       "test:   0%|          | 0/10000 [00:00<?, ?it/s]"
      ]
     },
     "metadata": {},
     "output_type": "display_data"
    },
    {
     "name": "stdout",
     "output_type": "stream",
     "text": [
      "train: 0.87805 loss: 0.25051926591781737\n",
      "train val: 0.7674 loss: 0.44046729241551363\n",
      "test: 0.586 loss: 0.6847463314771652\n",
      "epoch time: 27.49min\n",
      "removing /mnt/d/workspace/clotho/notebooks/checkpoints/stats_v7_lg_77.json\n",
      "removing /mnt/d/workspace/clotho/notebooks/checkpoints/harness_v7_lg_77.pkl\n",
      "epoch 94 version: 7\n"
     ]
    },
    {
     "data": {
      "application/vnd.jupyter.widget-view+json": {
       "model_id": "fc9d1238792e4cdf9b7513e07cf24577",
       "version_major": 2,
       "version_minor": 0
      },
      "text/plain": [
       "train:   0%|          | 0/20000 [00:00<?, ?it/s]"
      ]
     },
     "metadata": {},
     "output_type": "display_data"
    },
    {
     "data": {
      "application/vnd.jupyter.widget-view+json": {
       "model_id": "b9eb9578bb8341ea80f645ff7727e6a8",
       "version_major": 2,
       "version_minor": 0
      },
      "text/plain": [
       "train val:   0%|          | 0/10000 [00:00<?, ?it/s]"
      ]
     },
     "metadata": {},
     "output_type": "display_data"
    },
    {
     "data": {
      "application/vnd.jupyter.widget-view+json": {
       "model_id": "a22d463b7bdd402ba918470d91e91c86",
       "version_major": 2,
       "version_minor": 0
      },
      "text/plain": [
       "test:   0%|          | 0/10000 [00:00<?, ?it/s]"
      ]
     },
     "metadata": {},
     "output_type": "display_data"
    },
    {
     "name": "stdout",
     "output_type": "stream",
     "text": [
      "train: 0.87755 loss: 0.24928802771865777\n",
      "train val: 0.7695 loss: 0.4417042987279856\n",
      "test: 0.5955 loss: 0.6861962861299514\n",
      "epoch time: 26.89min\n",
      "removing /mnt/d/workspace/clotho/notebooks/checkpoints/stats_v7_lg_93.json\n",
      "removing /mnt/d/workspace/clotho/notebooks/checkpoints/harness_v7_lg_93.pkl\n",
      "epoch 95 version: 7\n"
     ]
    },
    {
     "data": {
      "application/vnd.jupyter.widget-view+json": {
       "model_id": "21c63032598946e996cfa99f409cc0ca",
       "version_major": 2,
       "version_minor": 0
      },
      "text/plain": [
       "train:   0%|          | 0/20000 [00:00<?, ?it/s]"
      ]
     },
     "metadata": {},
     "output_type": "display_data"
    },
    {
     "data": {
      "application/vnd.jupyter.widget-view+json": {
       "model_id": "720362e837a24dbe884b23cd4fe44a95",
       "version_major": 2,
       "version_minor": 0
      },
      "text/plain": [
       "train val:   0%|          | 0/10000 [00:00<?, ?it/s]"
      ]
     },
     "metadata": {},
     "output_type": "display_data"
    },
    {
     "data": {
      "application/vnd.jupyter.widget-view+json": {
       "model_id": "be742588a916432e87c669cbd1d8bcf2",
       "version_major": 2,
       "version_minor": 0
      },
      "text/plain": [
       "test:   0%|          | 0/10000 [00:00<?, ?it/s]"
      ]
     },
     "metadata": {},
     "output_type": "display_data"
    },
    {
     "name": "stdout",
     "output_type": "stream",
     "text": [
      "train: 0.8762 loss: 0.2582805481324741\n",
      "train val: 0.7708 loss: 0.4517718021281296\n",
      "test: 0.6003 loss: 0.6907281194210052\n",
      "epoch time: 27.42min\n",
      "removing /mnt/d/workspace/clotho/notebooks/checkpoints/stats_v7_lg_94.json\n",
      "removing /mnt/d/workspace/clotho/notebooks/checkpoints/harness_v7_lg_94.pkl\n",
      "epoch 96 version: 7\n"
     ]
    },
    {
     "data": {
      "application/vnd.jupyter.widget-view+json": {
       "model_id": "d59c2b6bf47547a9b6aabd50bec1dee9",
       "version_major": 2,
       "version_minor": 0
      },
      "text/plain": [
       "train:   0%|          | 0/20000 [00:00<?, ?it/s]"
      ]
     },
     "metadata": {},
     "output_type": "display_data"
    },
    {
     "data": {
      "application/vnd.jupyter.widget-view+json": {
       "model_id": "df3e86d22f6d4872981835d7ef1c0e20",
       "version_major": 2,
       "version_minor": 0
      },
      "text/plain": [
       "train val:   0%|          | 0/10000 [00:00<?, ?it/s]"
      ]
     },
     "metadata": {},
     "output_type": "display_data"
    },
    {
     "data": {
      "application/vnd.jupyter.widget-view+json": {
       "model_id": "619941c3003d429d924e44aff5e2689b",
       "version_major": 2,
       "version_minor": 0
      },
      "text/plain": [
       "test:   0%|          | 0/10000 [00:00<?, ?it/s]"
      ]
     },
     "metadata": {},
     "output_type": "display_data"
    },
    {
     "name": "stdout",
     "output_type": "stream",
     "text": [
      "train: 0.8817 loss: 0.24657185001686158\n",
      "train val: 0.7744 loss: 0.44253671838219744\n",
      "test: 0.6065 loss: 0.6805795713663101\n",
      "epoch time: 25.86min\n",
      "removing /mnt/d/workspace/clotho/notebooks/checkpoints/stats_v7_lg_90.json\n",
      "removing /mnt/d/workspace/clotho/notebooks/checkpoints/harness_v7_lg_90.pkl\n",
      "epoch 97 version: 7\n"
     ]
    },
    {
     "data": {
      "application/vnd.jupyter.widget-view+json": {
       "model_id": "8629180708f54430b5459e0fd8ccdc3a",
       "version_major": 2,
       "version_minor": 0
      },
      "text/plain": [
       "train:   0%|          | 0/20000 [00:00<?, ?it/s]"
      ]
     },
     "metadata": {},
     "output_type": "display_data"
    },
    {
     "data": {
      "application/vnd.jupyter.widget-view+json": {
       "model_id": "e1f84971963f4f748656be0b2b4859ec",
       "version_major": 2,
       "version_minor": 0
      },
      "text/plain": [
       "train val:   0%|          | 0/10000 [00:00<?, ?it/s]"
      ]
     },
     "metadata": {},
     "output_type": "display_data"
    },
    {
     "data": {
      "application/vnd.jupyter.widget-view+json": {
       "model_id": "d5365bf078634c1fae057cc6e980fbc3",
       "version_major": 2,
       "version_minor": 0
      },
      "text/plain": [
       "test:   0%|          | 0/10000 [00:00<?, ?it/s]"
      ]
     },
     "metadata": {},
     "output_type": "display_data"
    },
    {
     "name": "stdout",
     "output_type": "stream",
     "text": [
      "train: 0.8828 loss: 0.2513664064303293\n",
      "train val: 0.7645 loss: 0.4531347836035071\n",
      "test: 0.6081 loss: 0.6727110549867154\n",
      "epoch time: 27.32min\n",
      "removing /mnt/d/workspace/clotho/notebooks/checkpoints/stats_v7_lg_92.json\n",
      "removing /mnt/d/workspace/clotho/notebooks/checkpoints/harness_v7_lg_92.pkl\n",
      "epoch 98 version: 7\n"
     ]
    },
    {
     "data": {
      "application/vnd.jupyter.widget-view+json": {
       "model_id": "eb0f4185564446f7aa59b9b731418f6c",
       "version_major": 2,
       "version_minor": 0
      },
      "text/plain": [
       "train:   0%|          | 0/20000 [00:00<?, ?it/s]"
      ]
     },
     "metadata": {},
     "output_type": "display_data"
    },
    {
     "data": {
      "application/vnd.jupyter.widget-view+json": {
       "model_id": "d2a5ae14c5034497b0ee3e4154361b18",
       "version_major": 2,
       "version_minor": 0
      },
      "text/plain": [
       "train val:   0%|          | 0/10000 [00:00<?, ?it/s]"
      ]
     },
     "metadata": {},
     "output_type": "display_data"
    },
    {
     "data": {
      "application/vnd.jupyter.widget-view+json": {
       "model_id": "e0ea5d3414074b77bbdfff48226b15ab",
       "version_major": 2,
       "version_minor": 0
      },
      "text/plain": [
       "test:   0%|          | 0/10000 [00:00<?, ?it/s]"
      ]
     },
     "metadata": {},
     "output_type": "display_data"
    },
    {
     "name": "stdout",
     "output_type": "stream",
     "text": [
      "train: 0.8754 loss: 0.25829368786395934\n",
      "train val: 0.7677 loss: 0.45566284569605925\n",
      "test: 0.5867 loss: 0.7068396338045597\n",
      "epoch time: 26.55min\n",
      "removing /mnt/d/workspace/clotho/notebooks/checkpoints/stats_v7_lg_97.json\n",
      "removing /mnt/d/workspace/clotho/notebooks/checkpoints/harness_v7_lg_97.pkl\n",
      "epoch 99 version: 7\n"
     ]
    },
    {
     "data": {
      "application/vnd.jupyter.widget-view+json": {
       "model_id": "0f91a679eae04785856ae5dbc2d30c39",
       "version_major": 2,
       "version_minor": 0
      },
      "text/plain": [
       "train:   0%|          | 0/20000 [00:00<?, ?it/s]"
      ]
     },
     "metadata": {},
     "output_type": "display_data"
    },
    {
     "data": {
      "application/vnd.jupyter.widget-view+json": {
       "model_id": "020abfc40783475f9ec8057cee9d97ed",
       "version_major": 2,
       "version_minor": 0
      },
      "text/plain": [
       "train val:   0%|          | 0/10000 [00:00<?, ?it/s]"
      ]
     },
     "metadata": {},
     "output_type": "display_data"
    },
    {
     "data": {
      "application/vnd.jupyter.widget-view+json": {
       "model_id": "ee3d684480074353a2c6e3fed54103bd",
       "version_major": 2,
       "version_minor": 0
      },
      "text/plain": [
       "test:   0%|          | 0/10000 [00:00<?, ?it/s]"
      ]
     },
     "metadata": {},
     "output_type": "display_data"
    },
    {
     "name": "stdout",
     "output_type": "stream",
     "text": [
      "train: 0.8764 loss: 0.25544844394708927\n",
      "train val: 0.7741 loss: 0.4416697927334637\n",
      "test: 0.608 loss: 0.6697600438058376\n",
      "epoch time: 26.67min\n",
      "removing /mnt/d/workspace/clotho/notebooks/checkpoints/stats_v7_lg_98.json\n",
      "removing /mnt/d/workspace/clotho/notebooks/checkpoints/harness_v7_lg_98.pkl\n",
      "epoch 100 version: 7\n"
     ]
    },
    {
     "data": {
      "application/vnd.jupyter.widget-view+json": {
       "model_id": "34379a98d8174b7bb9583c04e557c501",
       "version_major": 2,
       "version_minor": 0
      },
      "text/plain": [
       "train:   0%|          | 0/20000 [00:00<?, ?it/s]"
      ]
     },
     "metadata": {},
     "output_type": "display_data"
    },
    {
     "data": {
      "application/vnd.jupyter.widget-view+json": {
       "model_id": "72e6603bcb624806a768c9814aee9bd7",
       "version_major": 2,
       "version_minor": 0
      },
      "text/plain": [
       "train val:   0%|          | 0/10000 [00:00<?, ?it/s]"
      ]
     },
     "metadata": {},
     "output_type": "display_data"
    },
    {
     "data": {
      "application/vnd.jupyter.widget-view+json": {
       "model_id": "47376a1e7b504902a95b2e7eac2b71d1",
       "version_major": 2,
       "version_minor": 0
      },
      "text/plain": [
       "test:   0%|          | 0/10000 [00:00<?, ?it/s]"
      ]
     },
     "metadata": {},
     "output_type": "display_data"
    },
    {
     "name": "stdout",
     "output_type": "stream",
     "text": [
      "train: 0.8788 loss: 0.24969321130800234\n",
      "train val: 0.7731 loss: 0.44840499472402295\n",
      "test: 0.6212 loss: 0.6849669998645782\n",
      "epoch time: 28.94min\n",
      "removing /mnt/d/workspace/clotho/notebooks/checkpoints/stats_v7_lg_78.json\n",
      "removing /mnt/d/workspace/clotho/notebooks/checkpoints/harness_v7_lg_78.pkl\n",
      "epoch 101 version: 7\n"
     ]
    },
    {
     "data": {
      "application/vnd.jupyter.widget-view+json": {
       "model_id": "c54db541ac0c42bdb4f731ef83aa546c",
       "version_major": 2,
       "version_minor": 0
      },
      "text/plain": [
       "train:   0%|          | 0/20000 [00:00<?, ?it/s]"
      ]
     },
     "metadata": {},
     "output_type": "display_data"
    },
    {
     "data": {
      "application/vnd.jupyter.widget-view+json": {
       "model_id": "93793347898f46e790a9a6a06d2b645a",
       "version_major": 2,
       "version_minor": 0
      },
      "text/plain": [
       "train val:   0%|          | 0/10000 [00:00<?, ?it/s]"
      ]
     },
     "metadata": {},
     "output_type": "display_data"
    },
    {
     "data": {
      "application/vnd.jupyter.widget-view+json": {
       "model_id": "56831aab76474a9e8c05a9d3eaa8f253",
       "version_major": 2,
       "version_minor": 0
      },
      "text/plain": [
       "test:   0%|          | 0/10000 [00:00<?, ?it/s]"
      ]
     },
     "metadata": {},
     "output_type": "display_data"
    },
    {
     "name": "stdout",
     "output_type": "stream",
     "text": [
      "train: 0.8773 loss: 0.2511974701792875\n",
      "train val: 0.771 loss: 0.4349648530759383\n",
      "test: 0.6075 loss: 0.6764966611862182\n",
      "epoch time: 29.65min\n",
      "removing /mnt/d/workspace/clotho/notebooks/checkpoints/stats_v7_lg_95.json\n",
      "removing /mnt/d/workspace/clotho/notebooks/checkpoints/harness_v7_lg_95.pkl\n",
      "epoch 102 version: 7\n"
     ]
    },
    {
     "data": {
      "application/vnd.jupyter.widget-view+json": {
       "model_id": "47374417e2fa4500800c0ebb5610e61f",
       "version_major": 2,
       "version_minor": 0
      },
      "text/plain": [
       "train:   0%|          | 0/20000 [00:00<?, ?it/s]"
      ]
     },
     "metadata": {},
     "output_type": "display_data"
    },
    {
     "data": {
      "application/vnd.jupyter.widget-view+json": {
       "model_id": "2f68334cabaf4c879f7afd6513c470b4",
       "version_major": 2,
       "version_minor": 0
      },
      "text/plain": [
       "train val:   0%|          | 0/10000 [00:00<?, ?it/s]"
      ]
     },
     "metadata": {},
     "output_type": "display_data"
    },
    {
     "data": {
      "application/vnd.jupyter.widget-view+json": {
       "model_id": "872117f594c24ed984d008c3a13e8503",
       "version_major": 2,
       "version_minor": 0
      },
      "text/plain": [
       "test:   0%|          | 0/10000 [00:00<?, ?it/s]"
      ]
     },
     "metadata": {},
     "output_type": "display_data"
    },
    {
     "name": "stdout",
     "output_type": "stream",
     "text": [
      "train: 0.8853 loss: 0.24083072516087722\n",
      "train val: 0.7714 loss: 0.43221013193243707\n",
      "test: 0.6206 loss: 0.6752425873011351\n",
      "epoch time: 28.95min\n",
      "removing /mnt/d/workspace/clotho/notebooks/checkpoints/stats_v7_lg_101.json\n",
      "removing /mnt/d/workspace/clotho/notebooks/checkpoints/harness_v7_lg_101.pkl\n",
      "epoch 103 version: 7\n"
     ]
    },
    {
     "data": {
      "application/vnd.jupyter.widget-view+json": {
       "model_id": "50ccd6800daa4e33b0772af9fbc6f774",
       "version_major": 2,
       "version_minor": 0
      },
      "text/plain": [
       "train:   0%|          | 0/20000 [00:00<?, ?it/s]"
      ]
     },
     "metadata": {},
     "output_type": "display_data"
    },
    {
     "data": {
      "application/vnd.jupyter.widget-view+json": {
       "model_id": "fb3b6f0f74634ef7b96732b9819e52bf",
       "version_major": 2,
       "version_minor": 0
      },
      "text/plain": [
       "train val:   0%|          | 0/10000 [00:00<?, ?it/s]"
      ]
     },
     "metadata": {},
     "output_type": "display_data"
    },
    {
     "data": {
      "application/vnd.jupyter.widget-view+json": {
       "model_id": "202c84ec922f4b9daf0a8876c21a74ff",
       "version_major": 2,
       "version_minor": 0
      },
      "text/plain": [
       "test:   0%|          | 0/10000 [00:00<?, ?it/s]"
      ]
     },
     "metadata": {},
     "output_type": "display_data"
    },
    {
     "name": "stdout",
     "output_type": "stream",
     "text": [
      "train: 0.8825 loss: 0.23998856845258196\n",
      "train val: 0.7748 loss: 0.4448689769520599\n",
      "test: 0.6013 loss: 0.695455900478363\n",
      "epoch time: 29.01min\n",
      "removing /mnt/d/workspace/clotho/notebooks/checkpoints/stats_v7_lg_102.json\n",
      "removing /mnt/d/workspace/clotho/notebooks/checkpoints/harness_v7_lg_102.pkl\n",
      "epoch 104 version: 7\n"
     ]
    },
    {
     "data": {
      "application/vnd.jupyter.widget-view+json": {
       "model_id": "05b1969f378542e494de434493b68f16",
       "version_major": 2,
       "version_minor": 0
      },
      "text/plain": [
       "train:   0%|          | 0/20000 [00:00<?, ?it/s]"
      ]
     },
     "metadata": {},
     "output_type": "display_data"
    },
    {
     "data": {
      "application/vnd.jupyter.widget-view+json": {
       "model_id": "4a9d54c97cc44cf580727dbf7c88e5ad",
       "version_major": 2,
       "version_minor": 0
      },
      "text/plain": [
       "train val:   0%|          | 0/10000 [00:00<?, ?it/s]"
      ]
     },
     "metadata": {},
     "output_type": "display_data"
    },
    {
     "data": {
      "application/vnd.jupyter.widget-view+json": {
       "model_id": "ee40d9019e5c47388e53e83ef92ec744",
       "version_major": 2,
       "version_minor": 0
      },
      "text/plain": [
       "test:   0%|          | 0/10000 [00:00<?, ?it/s]"
      ]
     },
     "metadata": {},
     "output_type": "display_data"
    },
    {
     "name": "stdout",
     "output_type": "stream",
     "text": [
      "train: 0.8805 loss: 0.2488610867795762\n",
      "train val: 0.7753 loss: 0.42810474714923474\n",
      "test: 0.5821 loss: 0.6937290334641933\n",
      "epoch time: 29.80min\n",
      "removing /mnt/d/workspace/clotho/notebooks/checkpoints/stats_v7_lg_75.json\n",
      "removing /mnt/d/workspace/clotho/notebooks/checkpoints/harness_v7_lg_75.pkl\n",
      "epoch 105 version: 7\n"
     ]
    },
    {
     "data": {
      "application/vnd.jupyter.widget-view+json": {
       "model_id": "ca528d69cd094416985f0d371ada259d",
       "version_major": 2,
       "version_minor": 0
      },
      "text/plain": [
       "train:   0%|          | 0/20000 [00:00<?, ?it/s]"
      ]
     },
     "metadata": {},
     "output_type": "display_data"
    },
    {
     "data": {
      "application/vnd.jupyter.widget-view+json": {
       "model_id": "c4d2eba670954500aea2581679427f13",
       "version_major": 2,
       "version_minor": 0
      },
      "text/plain": [
       "train val:   0%|          | 0/10000 [00:00<?, ?it/s]"
      ]
     },
     "metadata": {},
     "output_type": "display_data"
    },
    {
     "data": {
      "application/vnd.jupyter.widget-view+json": {
       "model_id": "62f9a811360940368a05c2cee81a6af2",
       "version_major": 2,
       "version_minor": 0
      },
      "text/plain": [
       "test:   0%|          | 0/10000 [00:00<?, ?it/s]"
      ]
     },
     "metadata": {},
     "output_type": "display_data"
    },
    {
     "name": "stdout",
     "output_type": "stream",
     "text": [
      "train: 0.8826 loss: 0.239970328234123\n",
      "train val: 0.7769 loss: 0.4244856853481557\n",
      "test: 0.591 loss: 0.6857752368927001\n",
      "epoch time: 30.28min\n",
      "removing /mnt/d/workspace/clotho/notebooks/checkpoints/stats_v7_lg_100.json\n",
      "removing /mnt/d/workspace/clotho/notebooks/checkpoints/harness_v7_lg_100.pkl\n",
      "epoch 106 version: 7\n"
     ]
    },
    {
     "data": {
      "application/vnd.jupyter.widget-view+json": {
       "model_id": "a07ecd1f820945cabbf9970c1abf0f97",
       "version_major": 2,
       "version_minor": 0
      },
      "text/plain": [
       "train:   0%|          | 0/20000 [00:00<?, ?it/s]"
      ]
     },
     "metadata": {},
     "output_type": "display_data"
    },
    {
     "data": {
      "application/vnd.jupyter.widget-view+json": {
       "model_id": "f659961d87964635b3e6c1e44f12fe26",
       "version_major": 2,
       "version_minor": 0
      },
      "text/plain": [
       "train val:   0%|          | 0/10000 [00:00<?, ?it/s]"
      ]
     },
     "metadata": {},
     "output_type": "display_data"
    },
    {
     "data": {
      "application/vnd.jupyter.widget-view+json": {
       "model_id": "e501cdb96eaf40638ceca3dca1e70d52",
       "version_major": 2,
       "version_minor": 0
      },
      "text/plain": [
       "test:   0%|          | 0/10000 [00:00<?, ?it/s]"
      ]
     },
     "metadata": {},
     "output_type": "display_data"
    },
    {
     "name": "stdout",
     "output_type": "stream",
     "text": [
      "train: 0.885 loss: 0.23656932126848004\n",
      "train val: 0.7796 loss: 0.4347489410510665\n",
      "test: 0.6193 loss: 0.6697787057220936\n",
      "epoch time: 30.16min\n",
      "removing /mnt/d/workspace/clotho/notebooks/checkpoints/stats_v7_lg_99.json\n",
      "removing /mnt/d/workspace/clotho/notebooks/checkpoints/harness_v7_lg_99.pkl\n",
      "epoch 107 version: 7\n"
     ]
    },
    {
     "data": {
      "application/vnd.jupyter.widget-view+json": {
       "model_id": "2e512aaa98d04bd9907d191727f00a78",
       "version_major": 2,
       "version_minor": 0
      },
      "text/plain": [
       "train:   0%|          | 0/20000 [00:00<?, ?it/s]"
      ]
     },
     "metadata": {},
     "output_type": "display_data"
    },
    {
     "data": {
      "application/vnd.jupyter.widget-view+json": {
       "model_id": "980a77ec22f2473aa5c3a4c1f7bf2e68",
       "version_major": 2,
       "version_minor": 0
      },
      "text/plain": [
       "train val:   0%|          | 0/10000 [00:00<?, ?it/s]"
      ]
     },
     "metadata": {},
     "output_type": "display_data"
    },
    {
     "data": {
      "application/vnd.jupyter.widget-view+json": {
       "model_id": "1e6d48437efa4b1c9cb45551fffc2571",
       "version_major": 2,
       "version_minor": 0
      },
      "text/plain": [
       "test:   0%|          | 0/10000 [00:00<?, ?it/s]"
      ]
     },
     "metadata": {},
     "output_type": "display_data"
    },
    {
     "name": "stdout",
     "output_type": "stream",
     "text": [
      "train: 0.88285 loss: 0.24064298320482266\n",
      "train val: 0.7738 loss: 0.4319780615868862\n",
      "test: 0.5972 loss: 0.6828130581438542\n",
      "epoch time: 29.56min\n",
      "removing /mnt/d/workspace/clotho/notebooks/checkpoints/stats_v7_lg_96.json\n",
      "removing /mnt/d/workspace/clotho/notebooks/checkpoints/harness_v7_lg_96.pkl\n",
      "epoch 108 version: 7\n"
     ]
    },
    {
     "data": {
      "application/vnd.jupyter.widget-view+json": {
       "model_id": "9b7244537040450d90787b6d23314fb8",
       "version_major": 2,
       "version_minor": 0
      },
      "text/plain": [
       "train:   0%|          | 0/20000 [00:00<?, ?it/s]"
      ]
     },
     "metadata": {},
     "output_type": "display_data"
    },
    {
     "data": {
      "application/vnd.jupyter.widget-view+json": {
       "model_id": "7a5c791c0f684c83ac281d4cf37bdc19",
       "version_major": 2,
       "version_minor": 0
      },
      "text/plain": [
       "train val:   0%|          | 0/10000 [00:00<?, ?it/s]"
      ]
     },
     "metadata": {},
     "output_type": "display_data"
    },
    {
     "data": {
      "application/vnd.jupyter.widget-view+json": {
       "model_id": "f93b5c953ee34ba298e6af87de319ec3",
       "version_major": 2,
       "version_minor": 0
      },
      "text/plain": [
       "test:   0%|          | 0/10000 [00:00<?, ?it/s]"
      ]
     },
     "metadata": {},
     "output_type": "display_data"
    },
    {
     "name": "stdout",
     "output_type": "stream",
     "text": [
      "train: 0.88285 loss: 0.24225432667944224\n",
      "train val: 0.7815 loss: 0.42000210899477824\n",
      "test: 0.6075 loss: 0.6715290419638157\n",
      "epoch time: 30.61min\n",
      "removing /mnt/d/workspace/clotho/notebooks/checkpoints/stats_v7_lg_107.json\n",
      "removing /mnt/d/workspace/clotho/notebooks/checkpoints/harness_v7_lg_107.pkl\n",
      "epoch 109 version: 7\n"
     ]
    },
    {
     "data": {
      "application/vnd.jupyter.widget-view+json": {
       "model_id": "fa55b623c9f6468195fdcec6e1ccf2fc",
       "version_major": 2,
       "version_minor": 0
      },
      "text/plain": [
       "train:   0%|          | 0/20000 [00:00<?, ?it/s]"
      ]
     },
     "metadata": {},
     "output_type": "display_data"
    },
    {
     "data": {
      "application/vnd.jupyter.widget-view+json": {
       "model_id": "7590114d31554303a8f55a986aaa67d3",
       "version_major": 2,
       "version_minor": 0
      },
      "text/plain": [
       "train val:   0%|          | 0/10000 [00:00<?, ?it/s]"
      ]
     },
     "metadata": {},
     "output_type": "display_data"
    },
    {
     "data": {
      "application/vnd.jupyter.widget-view+json": {
       "model_id": "bf43cb6ec2804abba8ae533c58952f8c",
       "version_major": 2,
       "version_minor": 0
      },
      "text/plain": [
       "test:   0%|          | 0/10000 [00:00<?, ?it/s]"
      ]
     },
     "metadata": {},
     "output_type": "display_data"
    },
    {
     "name": "stdout",
     "output_type": "stream",
     "text": [
      "train: 0.88445 loss: 0.2839179772841275\n",
      "train val: 0.7827 loss: 0.42252744458148955\n",
      "test: 0.6056 loss: 0.6843017982423305\n",
      "epoch time: 30.90min\n",
      "removing /mnt/d/workspace/clotho/notebooks/checkpoints/stats_v7_lg_103.json\n",
      "removing /mnt/d/workspace/clotho/notebooks/checkpoints/harness_v7_lg_103.pkl\n",
      "epoch 110 version: 7\n"
     ]
    },
    {
     "data": {
      "application/vnd.jupyter.widget-view+json": {
       "model_id": "e785d3f1821f4cb1879f295f3145fd5e",
       "version_major": 2,
       "version_minor": 0
      },
      "text/plain": [
       "train:   0%|          | 0/20000 [00:00<?, ?it/s]"
      ]
     },
     "metadata": {},
     "output_type": "display_data"
    },
    {
     "data": {
      "application/vnd.jupyter.widget-view+json": {
       "model_id": "0aa6cc51fccd4234a40a0b25f19f75dc",
       "version_major": 2,
       "version_minor": 0
      },
      "text/plain": [
       "train val:   0%|          | 0/10000 [00:00<?, ?it/s]"
      ]
     },
     "metadata": {},
     "output_type": "display_data"
    },
    {
     "data": {
      "application/vnd.jupyter.widget-view+json": {
       "model_id": "872dcc5050b548b3b6dd232eb42189aa",
       "version_major": 2,
       "version_minor": 0
      },
      "text/plain": [
       "test:   0%|          | 0/10000 [00:00<?, ?it/s]"
      ]
     },
     "metadata": {},
     "output_type": "display_data"
    },
    {
     "name": "stdout",
     "output_type": "stream",
     "text": [
      "train: 0.88765 loss: 0.23067306373101054\n",
      "train val: 0.7823 loss: 0.425790573313387\n",
      "test: 0.6053 loss: 0.6718434534907342\n",
      "epoch time: 33.89min\n",
      "removing /mnt/d/workspace/clotho/notebooks/checkpoints/stats_v7_lg_104.json\n",
      "removing /mnt/d/workspace/clotho/notebooks/checkpoints/harness_v7_lg_104.pkl\n",
      "epoch 111 version: 7\n"
     ]
    },
    {
     "data": {
      "application/vnd.jupyter.widget-view+json": {
       "model_id": "97ee96d6c69b4034922d22c927a40220",
       "version_major": 2,
       "version_minor": 0
      },
      "text/plain": [
       "train:   0%|          | 0/20000 [00:00<?, ?it/s]"
      ]
     },
     "metadata": {},
     "output_type": "display_data"
    },
    {
     "data": {
      "application/vnd.jupyter.widget-view+json": {
       "model_id": "220289ca663a4fb58f3ad43bc216d005",
       "version_major": 2,
       "version_minor": 0
      },
      "text/plain": [
       "train val:   0%|          | 0/10000 [00:00<?, ?it/s]"
      ]
     },
     "metadata": {},
     "output_type": "display_data"
    },
    {
     "data": {
      "application/vnd.jupyter.widget-view+json": {
       "model_id": "f48b6364076c4701acc1d0675659c629",
       "version_major": 2,
       "version_minor": 0
      },
      "text/plain": [
       "test:   0%|          | 0/10000 [00:00<?, ?it/s]"
      ]
     },
     "metadata": {},
     "output_type": "display_data"
    },
    {
     "name": "stdout",
     "output_type": "stream",
     "text": [
      "train: 0.8825 loss: 0.24012364380836262\n",
      "train val: 0.7835 loss: 0.4234614977559482\n",
      "test: 0.5987 loss: 0.6894623760938644\n",
      "epoch time: 32.33min\n",
      "removing /mnt/d/workspace/clotho/notebooks/checkpoints/stats_v7_lg_76.json\n",
      "removing /mnt/d/workspace/clotho/notebooks/checkpoints/harness_v7_lg_76.pkl\n",
      "epoch 112 version: 7\n"
     ]
    },
    {
     "data": {
      "application/vnd.jupyter.widget-view+json": {
       "model_id": "5fe8dd33d64d4ee293a8ffc6127dc7ed",
       "version_major": 2,
       "version_minor": 0
      },
      "text/plain": [
       "train:   0%|          | 0/20000 [00:00<?, ?it/s]"
      ]
     },
     "metadata": {},
     "output_type": "display_data"
    },
    {
     "data": {
      "application/vnd.jupyter.widget-view+json": {
       "model_id": "8f8d411630b74c06ac522926f8d3b04f",
       "version_major": 2,
       "version_minor": 0
      },
      "text/plain": [
       "train val:   0%|          | 0/10000 [00:00<?, ?it/s]"
      ]
     },
     "metadata": {},
     "output_type": "display_data"
    },
    {
     "data": {
      "application/vnd.jupyter.widget-view+json": {
       "model_id": "565e85d8672f48f7abf5b15f3905aee5",
       "version_major": 2,
       "version_minor": 0
      },
      "text/plain": [
       "test:   0%|          | 0/10000 [00:00<?, ?it/s]"
      ]
     },
     "metadata": {},
     "output_type": "display_data"
    },
    {
     "name": "stdout",
     "output_type": "stream",
     "text": [
      "train: 0.8851 loss: 0.24219948006386635\n",
      "train val: 0.7763 loss: 0.4253914969589387\n",
      "test: 0.5916 loss: 0.675720176833868\n",
      "epoch time: 31.25min\n",
      "removing /mnt/d/workspace/clotho/notebooks/checkpoints/stats_v7_lg_105.json\n",
      "removing /mnt/d/workspace/clotho/notebooks/checkpoints/harness_v7_lg_105.pkl\n",
      "epoch 113 version: 7\n"
     ]
    },
    {
     "data": {
      "application/vnd.jupyter.widget-view+json": {
       "model_id": "31c7b6bd67454cf58a50298ff15144d9",
       "version_major": 2,
       "version_minor": 0
      },
      "text/plain": [
       "train:   0%|          | 0/20000 [00:00<?, ?it/s]"
      ]
     },
     "metadata": {},
     "output_type": "display_data"
    },
    {
     "data": {
      "application/vnd.jupyter.widget-view+json": {
       "model_id": "5700c75f59f449cabfc2df5cba426c2e",
       "version_major": 2,
       "version_minor": 0
      },
      "text/plain": [
       "train val:   0%|          | 0/10000 [00:00<?, ?it/s]"
      ]
     },
     "metadata": {},
     "output_type": "display_data"
    },
    {
     "data": {
      "application/vnd.jupyter.widget-view+json": {
       "model_id": "41e71d9d8cb54d829df347f313888655",
       "version_major": 2,
       "version_minor": 0
      },
      "text/plain": [
       "test:   0%|          | 0/10000 [00:00<?, ?it/s]"
      ]
     },
     "metadata": {},
     "output_type": "display_data"
    },
    {
     "name": "stdout",
     "output_type": "stream",
     "text": [
      "train: 0.88625 loss: 0.2442739518488721\n",
      "train val: 0.7823 loss: 0.4218938563510659\n",
      "test: 0.6132 loss: 0.6673646843135357\n",
      "epoch time: 31.58min\n",
      "removing /mnt/d/workspace/clotho/notebooks/checkpoints/stats_v7_lg_112.json\n",
      "removing /mnt/d/workspace/clotho/notebooks/checkpoints/harness_v7_lg_112.pkl\n",
      "epoch 114 version: 7\n"
     ]
    },
    {
     "data": {
      "application/vnd.jupyter.widget-view+json": {
       "model_id": "d6857454c47a4bb683ad2cbbd36f1676",
       "version_major": 2,
       "version_minor": 0
      },
      "text/plain": [
       "train:   0%|          | 0/20000 [00:00<?, ?it/s]"
      ]
     },
     "metadata": {},
     "output_type": "display_data"
    },
    {
     "data": {
      "application/vnd.jupyter.widget-view+json": {
       "model_id": "f94ad9f4eb62445f8b3825e19dc9ff55",
       "version_major": 2,
       "version_minor": 0
      },
      "text/plain": [
       "train val:   0%|          | 0/10000 [00:00<?, ?it/s]"
      ]
     },
     "metadata": {},
     "output_type": "display_data"
    },
    {
     "data": {
      "application/vnd.jupyter.widget-view+json": {
       "model_id": "af2cae905a194b13847e60a34bd6869a",
       "version_major": 2,
       "version_minor": 0
      },
      "text/plain": [
       "test:   0%|          | 0/10000 [00:00<?, ?it/s]"
      ]
     },
     "metadata": {},
     "output_type": "display_data"
    },
    {
     "name": "stdout",
     "output_type": "stream",
     "text": [
      "train: 0.88875 loss: 0.23533925600915317\n",
      "train val: 0.7864 loss: 0.42567152839284683\n",
      "test: 0.5995 loss: 0.6751633437901735\n",
      "epoch time: 40.18min\n",
      "removing /mnt/d/workspace/clotho/notebooks/checkpoints/stats_v7_lg_106.json\n",
      "removing /mnt/d/workspace/clotho/notebooks/checkpoints/harness_v7_lg_106.pkl\n",
      "epoch 115 version: 7\n"
     ]
    },
    {
     "data": {
      "application/vnd.jupyter.widget-view+json": {
       "model_id": "a8b5eb84209c49ebada9245edff2bbe0",
       "version_major": 2,
       "version_minor": 0
      },
      "text/plain": [
       "train:   0%|          | 0/20000 [00:00<?, ?it/s]"
      ]
     },
     "metadata": {},
     "output_type": "display_data"
    },
    {
     "data": {
      "application/vnd.jupyter.widget-view+json": {
       "model_id": "ac7e82b6b4a44bb0bb9961c361a0aaba",
       "version_major": 2,
       "version_minor": 0
      },
      "text/plain": [
       "train val:   0%|          | 0/10000 [00:00<?, ?it/s]"
      ]
     },
     "metadata": {},
     "output_type": "display_data"
    },
    {
     "data": {
      "application/vnd.jupyter.widget-view+json": {
       "model_id": "b84394c036b74e9099e63c700e4e87ca",
       "version_major": 2,
       "version_minor": 0
      },
      "text/plain": [
       "test:   0%|          | 0/10000 [00:00<?, ?it/s]"
      ]
     },
     "metadata": {},
     "output_type": "display_data"
    },
    {
     "name": "stdout",
     "output_type": "stream",
     "text": [
      "train: 0.88605 loss: 0.26067570026401954\n",
      "train val: 0.7829 loss: 0.5178981874867633\n",
      "test: 0.6071 loss: 0.7001509920060635\n",
      "epoch time: 59.90min\n",
      "removing /mnt/d/workspace/clotho/notebooks/checkpoints/stats_v7_lg_108.json\n",
      "removing /mnt/d/workspace/clotho/notebooks/checkpoints/harness_v7_lg_108.pkl\n",
      "epoch 116 version: 7\n"
     ]
    },
    {
     "data": {
      "application/vnd.jupyter.widget-view+json": {
       "model_id": "74ff0173948d461db5d33d109bd45698",
       "version_major": 2,
       "version_minor": 0
      },
      "text/plain": [
       "train:   0%|          | 0/20000 [00:00<?, ?it/s]"
      ]
     },
     "metadata": {},
     "output_type": "display_data"
    },
    {
     "data": {
      "application/vnd.jupyter.widget-view+json": {
       "model_id": "382cc5dddadc4899b0a2cd615c7f1382",
       "version_major": 2,
       "version_minor": 0
      },
      "text/plain": [
       "train val:   0%|          | 0/10000 [00:00<?, ?it/s]"
      ]
     },
     "metadata": {},
     "output_type": "display_data"
    },
    {
     "data": {
      "application/vnd.jupyter.widget-view+json": {
       "model_id": "b85ba338c84c46d198fbbb8d9f2922eb",
       "version_major": 2,
       "version_minor": 0
      },
      "text/plain": [
       "test:   0%|          | 0/10000 [00:00<?, ?it/s]"
      ]
     },
     "metadata": {},
     "output_type": "display_data"
    },
    {
     "name": "stdout",
     "output_type": "stream",
     "text": [
      "train: 0.8862 loss: 0.2669936276885247\n",
      "train val: 0.7841 loss: 0.4300037252131704\n",
      "test: 0.6006 loss: 0.6978086390912532\n",
      "epoch time: 52.64min\n",
      "removing /mnt/d/workspace/clotho/notebooks/checkpoints/stats_v7_lg_110.json\n",
      "removing /mnt/d/workspace/clotho/notebooks/checkpoints/harness_v7_lg_110.pkl\n",
      "epoch 117 version: 7\n"
     ]
    },
    {
     "data": {
      "application/vnd.jupyter.widget-view+json": {
       "model_id": "c12ee0d45d1444ddbbe5c4a6b671f490",
       "version_major": 2,
       "version_minor": 0
      },
      "text/plain": [
       "train:   0%|          | 0/20000 [00:00<?, ?it/s]"
      ]
     },
     "metadata": {},
     "output_type": "display_data"
    },
    {
     "data": {
      "application/vnd.jupyter.widget-view+json": {
       "model_id": "a63d8fc314a145b3925833ba167f2b14",
       "version_major": 2,
       "version_minor": 0
      },
      "text/plain": [
       "train val:   0%|          | 0/10000 [00:00<?, ?it/s]"
      ]
     },
     "metadata": {},
     "output_type": "display_data"
    },
    {
     "data": {
      "application/vnd.jupyter.widget-view+json": {
       "model_id": "c71846d514ac4ad4abf78ce553483855",
       "version_major": 2,
       "version_minor": 0
      },
      "text/plain": [
       "test:   0%|          | 0/10000 [00:00<?, ?it/s]"
      ]
     },
     "metadata": {},
     "output_type": "display_data"
    },
    {
     "name": "stdout",
     "output_type": "stream",
     "text": [
      "train: 0.88795 loss: 0.23544685338197177\n",
      "train val: 0.786 loss: 0.42369362017799866\n",
      "test: 0.6195 loss: 0.6682990686833858\n",
      "epoch time: 41.77min\n",
      "removing /mnt/d/workspace/clotho/notebooks/checkpoints/stats_v7_lg_113.json\n",
      "removing /mnt/d/workspace/clotho/notebooks/checkpoints/harness_v7_lg_113.pkl\n",
      "epoch 118 version: 7\n"
     ]
    },
    {
     "data": {
      "application/vnd.jupyter.widget-view+json": {
       "model_id": "b28e24ab38624783bd72e116a848d215",
       "version_major": 2,
       "version_minor": 0
      },
      "text/plain": [
       "train:   0%|          | 0/20000 [00:00<?, ?it/s]"
      ]
     },
     "metadata": {},
     "output_type": "display_data"
    },
    {
     "data": {
      "application/vnd.jupyter.widget-view+json": {
       "model_id": "22da0899839a4c08817b40fc7b0202a1",
       "version_major": 2,
       "version_minor": 0
      },
      "text/plain": [
       "train val:   0%|          | 0/10000 [00:00<?, ?it/s]"
      ]
     },
     "metadata": {},
     "output_type": "display_data"
    },
    {
     "data": {
      "application/vnd.jupyter.widget-view+json": {
       "model_id": "5673b51984fd45a58b63e67c6378f4e5",
       "version_major": 2,
       "version_minor": 0
      },
      "text/plain": [
       "test:   0%|          | 0/10000 [00:00<?, ?it/s]"
      ]
     },
     "metadata": {},
     "output_type": "display_data"
    },
    {
     "name": "stdout",
     "output_type": "stream",
     "text": [
      "train: 0.88495 loss: 0.2377157407395076\n",
      "train val: 0.7876 loss: 0.41121565336245985\n",
      "test: 0.6055 loss: 0.6637235795557499\n",
      "epoch time: 38.51min\n",
      "removing /mnt/d/workspace/clotho/notebooks/checkpoints/stats_v7_lg_109.json\n",
      "removing /mnt/d/workspace/clotho/notebooks/checkpoints/harness_v7_lg_109.pkl\n",
      "epoch 119 version: 7\n"
     ]
    },
    {
     "data": {
      "application/vnd.jupyter.widget-view+json": {
       "model_id": "06230043b6634e65ad8466aed6f6c394",
       "version_major": 2,
       "version_minor": 0
      },
      "text/plain": [
       "train:   0%|          | 0/20000 [00:00<?, ?it/s]"
      ]
     },
     "metadata": {},
     "output_type": "display_data"
    },
    {
     "data": {
      "application/vnd.jupyter.widget-view+json": {
       "model_id": "8003cc3f5603406b99f76afb36e9adbc",
       "version_major": 2,
       "version_minor": 0
      },
      "text/plain": [
       "train val:   0%|          | 0/10000 [00:00<?, ?it/s]"
      ]
     },
     "metadata": {},
     "output_type": "display_data"
    },
    {
     "data": {
      "application/vnd.jupyter.widget-view+json": {
       "model_id": "f3cb199e94074d688a3d7aa0fb618c80",
       "version_major": 2,
       "version_minor": 0
      },
      "text/plain": [
       "test:   0%|          | 0/10000 [00:00<?, ?it/s]"
      ]
     },
     "metadata": {},
     "output_type": "display_data"
    },
    {
     "name": "stdout",
     "output_type": "stream",
     "text": [
      "train: 0.89205 loss: 0.22627422869708816\n",
      "train val: 0.7835 loss: 0.4157945149488747\n",
      "test: 0.625 loss: 0.6556196522563696\n",
      "epoch time: 35.52min\n",
      "removing /mnt/d/workspace/clotho/notebooks/checkpoints/stats_v7_lg_115.json\n",
      "removing /mnt/d/workspace/clotho/notebooks/checkpoints/harness_v7_lg_115.pkl\n"
     ]
    }
   ],
   "source": [
    "model_final, harness_final, optimizer_final = run_training(120, 7)"
   ]
  },
  {
   "cell_type": "code",
   "execution_count": 13,
   "id": "c5a36224-b91d-4f21-9279-fa7c2a0e862f",
   "metadata": {},
   "outputs": [],
   "source": [
    "torch.save(model_final.state_dict(), get_model_filename(\n",
    "    harness_final,\n",
    "    MODEL_OUTPUT_BASE,\n",
    "    is_cuda=is_cuda,\n",
    "    ftype=\"model\",\n",
    "    epoch=None))\n",
    "torch.save(harness_final.state_dict(), get_model_filename(\n",
    "    harness_final,\n",
    "    MODEL_OUTPUT_BASE,\n",
    "    is_cuda=is_cuda,\n",
    "    ftype=\"harness\",\n",
    "    epoch=None))\n",
    "torch.save(optimizer_final.state_dict(), get_model_filename(\n",
    "    harness_final,\n",
    "    MODEL_OUTPUT_BASE,\n",
    "    is_cuda=is_cuda,\n",
    "    ftype=\"optimizer\",\n",
    "    epoch=None))"
   ]
  },
  {
   "cell_type": "code",
   "execution_count": 14,
   "id": "bff582b9-1447-425a-9b0f-36d9366e4ec7",
   "metadata": {},
   "outputs": [
    {
     "data": {
      "application/vnd.jupyter.widget-view+json": {
       "model_id": "63767a32b5e44b71bdce388f58513c58",
       "version_major": 2,
       "version_minor": 0
      },
      "text/plain": [
       "test val:   0%|          | 0/10000 [00:00<?, ?it/s]"
      ]
     },
     "metadata": {},
     "output_type": "display_data"
    },
    {
     "name": "stdout",
     "output_type": "stream",
     "text": [
      "test val: {'accuracy': 0.6303} loss: 0.6586172372460365\n"
     ]
    }
   ],
   "source": [
    "ttgen.reset()\n",
    "model_final.eval()\n",
    "harness_final.eval()\n",
    "dfs = []\n",
    "with torch.no_grad():\n",
    "    metric_val_test = evaluate.load(\"accuracy\")\n",
    "    test_val_loss = []\n",
    "    with tqdm(desc=\"test val\", total=ttgen.get_epoch_test_validation_size()) as progress_bar:\n",
    "        for test_val_df in ttgen.test_validation_dfs():\n",
    "            preds, loss = compute(harness_final, test_val_df)\n",
    "            test_val_loss.append(loss.item())\n",
    "            predictions = torch.argmax(preds, dim=-1)\n",
    "            metric_val_test.add_batch(\n",
    "                predictions=predictions,\n",
    "                references=test_val_df[\"correct_is_right\"].astype(int))\n",
    "            cur_df = test_val_df.copy()\n",
    "            cur_df[\"logit_left\"] = preds[:, 0].cpu()\n",
    "            cur_df[\"logit_right\"] = preds[:, 1].cpu()\n",
    "            cur_df[\"preds\"] = predictions.cpu()\n",
    "            cur_df[\"truth\"] = test_val_df[\"correct_is_right\"].astype(int)\n",
    "            dfs.append(cur_df)\n",
    "            progress_bar.update(test_val_df.shape[0])\n",
    "print(f\"test val: {metric_val_test.compute()} loss: {np.mean(test_val_loss)}\")\n",
    "validation_df = pd.concat(dfs)"
   ]
  },
  {
   "cell_type": "code",
   "execution_count": 15,
   "id": "e12c3406-9ff3-4576-93c2-daf914f3f8f0",
   "metadata": {},
   "outputs": [],
   "source": [
    "validation_df.to_csv(get_model_filename(\n",
    "    harness_final,\n",
    "    MODEL_OUTPUT_BASE,\n",
    "    is_cuda=is_cuda,\n",
    "    ftype=\"validation\",\n",
    "    epoch=None,\n",
    "    ext=\".csv\"))"
   ]
  },
  {
   "cell_type": "code",
   "execution_count": 16,
   "id": "0b76f390-5d4c-496c-9f47-4fcab527a4ca",
   "metadata": {},
   "outputs": [
    {
     "data": {
      "text/html": [
       "<div>\n",
       "<style scoped>\n",
       "    .dataframe tbody tr th:only-of-type {\n",
       "        vertical-align: middle;\n",
       "    }\n",
       "\n",
       "    .dataframe tbody tr th {\n",
       "        vertical-align: top;\n",
       "    }\n",
       "\n",
       "    .dataframe thead th {\n",
       "        text-align: right;\n",
       "    }\n",
       "</style>\n",
       "<table border=\"1\" class=\"dataframe\">\n",
       "  <thead>\n",
       "    <tr style=\"text-align: right;\">\n",
       "      <th></th>\n",
       "      <th>gen_name</th>\n",
       "      <th>parent_left</th>\n",
       "      <th>child_left</th>\n",
       "      <th>parent_right</th>\n",
       "      <th>child_right</th>\n",
       "      <th>sway_left</th>\n",
       "      <th>sway_right</th>\n",
       "      <th>correct_is_right</th>\n",
       "      <th>logit_left</th>\n",
       "      <th>logit_right</th>\n",
       "      <th>preds</th>\n",
       "      <th>truth</th>\n",
       "    </tr>\n",
       "  </thead>\n",
       "  <tbody>\n",
       "    <tr>\n",
       "      <th>0</th>\n",
       "      <td>*valid--!copy;(mtl:20);(sw);(st)</td>\n",
       "      <td>I once knew this family where the dad had to w...</td>\n",
       "      <td>What blows my mind about this the most is this...</td>\n",
       "      <td>What blows my mind about this the most is this...</td>\n",
       "      <td>I once knew this family where the dad had to w...</td>\n",
       "      <td>1.000000</td>\n",
       "      <td>1.645811e-38</td>\n",
       "      <td>False</td>\n",
       "      <td>0.704600</td>\n",
       "      <td>0.295400</td>\n",
       "      <td>0</td>\n",
       "      <td>0</td>\n",
       "    </tr>\n",
       "    <tr>\n",
       "      <th>1</th>\n",
       "      <td>random--valid;(sw);(st)</td>\n",
       "      <td>I'll take the roast. That was hilarious</td>\n",
       "      <td>Take care of your finances, your teeth, your b...</td>\n",
       "      <td>Would you be in favor of removing “One Nation ...</td>\n",
       "      <td>You don’t need to remove “One Nation.” Removin...</td>\n",
       "      <td>0.119203</td>\n",
       "      <td>8.807971e-01</td>\n",
       "      <td>True</td>\n",
       "      <td>0.228511</td>\n",
       "      <td>0.771489</td>\n",
       "      <td>1</td>\n",
       "      <td>1</td>\n",
       "    </tr>\n",
       "    <tr>\n",
       "      <th>2</th>\n",
       "      <td>random--valid;(sw);(st)</td>\n",
       "      <td>Totally would. I think the more exposure you h...</td>\n",
       "      <td>No clue how i didnt see it on the first couple...</td>\n",
       "      <td>What’s something weird that porn has normalised?</td>\n",
       "      <td>Women hissing</td>\n",
       "      <td>0.047426</td>\n",
       "      <td>9.525741e-01</td>\n",
       "      <td>True</td>\n",
       "      <td>0.251375</td>\n",
       "      <td>0.748625</td>\n",
       "      <td>1</td>\n",
       "      <td>1</td>\n",
       "    </tr>\n",
       "    <tr>\n",
       "      <th>3</th>\n",
       "      <td>random--valid;(sw);(st)</td>\n",
       "      <td>I really enjoyed Malcolm in the Middle as a ki...</td>\n",
       "      <td>Probably a young Steve buscemi at best.</td>\n",
       "      <td>I’m not sure what this is called, but I have a...</td>\n",
       "      <td>I don't put the blame for bad designs like Poc...</td>\n",
       "      <td>0.047426</td>\n",
       "      <td>9.525741e-01</td>\n",
       "      <td>True</td>\n",
       "      <td>0.371450</td>\n",
       "      <td>0.628550</td>\n",
       "      <td>1</td>\n",
       "      <td>1</td>\n",
       "    </tr>\n",
       "    <tr>\n",
       "      <th>0</th>\n",
       "      <td>random--valid;(sw);(st)</td>\n",
       "      <td>I edited it almost instantly</td>\n",
       "      <td>Because of those teachers in highschool my tea...</td>\n",
       "      <td>What dark secret are you hiding from everyone?</td>\n",
       "      <td>I won’t go on a throw away account. I became e...</td>\n",
       "      <td>0.047426</td>\n",
       "      <td>9.525741e-01</td>\n",
       "      <td>True</td>\n",
       "      <td>0.283972</td>\n",
       "      <td>0.716028</td>\n",
       "      <td>1</td>\n",
       "      <td>1</td>\n",
       "    </tr>\n",
       "  </tbody>\n",
       "</table>\n",
       "</div>"
      ],
      "text/plain": [
       "                           gen_name  \\\n",
       "0  *valid--!copy;(mtl:20);(sw);(st)   \n",
       "1           random--valid;(sw);(st)   \n",
       "2           random--valid;(sw);(st)   \n",
       "3           random--valid;(sw);(st)   \n",
       "0           random--valid;(sw);(st)   \n",
       "\n",
       "                                         parent_left  \\\n",
       "0  I once knew this family where the dad had to w...   \n",
       "1            I'll take the roast. That was hilarious   \n",
       "2  Totally would. I think the more exposure you h...   \n",
       "3  I really enjoyed Malcolm in the Middle as a ki...   \n",
       "0                       I edited it almost instantly   \n",
       "\n",
       "                                          child_left  \\\n",
       "0  What blows my mind about this the most is this...   \n",
       "1  Take care of your finances, your teeth, your b...   \n",
       "2  No clue how i didnt see it on the first couple...   \n",
       "3            Probably a young Steve buscemi at best.   \n",
       "0  Because of those teachers in highschool my tea...   \n",
       "\n",
       "                                        parent_right  \\\n",
       "0  What blows my mind about this the most is this...   \n",
       "1  Would you be in favor of removing “One Nation ...   \n",
       "2   What’s something weird that porn has normalised?   \n",
       "3  I’m not sure what this is called, but I have a...   \n",
       "0     What dark secret are you hiding from everyone?   \n",
       "\n",
       "                                         child_right  sway_left    sway_right  \\\n",
       "0  I once knew this family where the dad had to w...   1.000000  1.645811e-38   \n",
       "1  You don’t need to remove “One Nation.” Removin...   0.119203  8.807971e-01   \n",
       "2                                      Women hissing   0.047426  9.525741e-01   \n",
       "3  I don't put the blame for bad designs like Poc...   0.047426  9.525741e-01   \n",
       "0  I won’t go on a throw away account. I became e...   0.047426  9.525741e-01   \n",
       "\n",
       "   correct_is_right  logit_left  logit_right  preds  truth  \n",
       "0             False    0.704600     0.295400      0      0  \n",
       "1              True    0.228511     0.771489      1      1  \n",
       "2              True    0.251375     0.748625      1      1  \n",
       "3              True    0.371450     0.628550      1      1  \n",
       "0              True    0.283972     0.716028      1      1  "
      ]
     },
     "execution_count": 16,
     "metadata": {},
     "output_type": "execute_result"
    }
   ],
   "source": [
    "validation_df[validation_df[\"preds\"] == validation_df[\"truth\"]].head()"
   ]
  },
  {
   "cell_type": "code",
   "execution_count": 17,
   "id": "1dcb0772-acf6-40c0-aad0-6d2adbfcdadd",
   "metadata": {},
   "outputs": [
    {
     "data": {
      "text/html": [
       "<div>\n",
       "<style scoped>\n",
       "    .dataframe tbody tr th:only-of-type {\n",
       "        vertical-align: middle;\n",
       "    }\n",
       "\n",
       "    .dataframe tbody tr th {\n",
       "        vertical-align: top;\n",
       "    }\n",
       "\n",
       "    .dataframe thead th {\n",
       "        text-align: right;\n",
       "    }\n",
       "</style>\n",
       "<table border=\"1\" class=\"dataframe\">\n",
       "  <thead>\n",
       "    <tr style=\"text-align: right;\">\n",
       "      <th></th>\n",
       "      <th>gen_name</th>\n",
       "      <th>parent_left</th>\n",
       "      <th>child_left</th>\n",
       "      <th>parent_right</th>\n",
       "      <th>child_right</th>\n",
       "      <th>sway_left</th>\n",
       "      <th>sway_right</th>\n",
       "      <th>correct_is_right</th>\n",
       "      <th>logit_left</th>\n",
       "      <th>logit_right</th>\n",
       "      <th>preds</th>\n",
       "      <th>truth</th>\n",
       "    </tr>\n",
       "  </thead>\n",
       "  <tbody>\n",
       "    <tr>\n",
       "      <th>3</th>\n",
       "      <td>*valid--random;(sw);(st)</td>\n",
       "      <td>If I could have guaranteed my daughter would i...</td>\n",
       "      <td>Dude I thought of the exact same thing! My dau...</td>\n",
       "      <td>so then whats the difference between OP (and g...</td>\n",
       "      <td>Only if it comes with enforcing not driving li...</td>\n",
       "      <td>1.000000</td>\n",
       "      <td>7.753691e-96</td>\n",
       "      <td>False</td>\n",
       "      <td>0.363922</td>\n",
       "      <td>0.636078</td>\n",
       "      <td>1</td>\n",
       "      <td>0</td>\n",
       "    </tr>\n",
       "    <tr>\n",
       "      <th>0</th>\n",
       "      <td>*valid--random;(mtl:20);(sw);(st)</td>\n",
       "      <td>If you could rename America what would it be c...</td>\n",
       "      <td>Just name it all Florida</td>\n",
       "      <td>Cargo cults exist mostly because of the societ...</td>\n",
       "      <td>When your stomachs trap air then make a fart n...</td>\n",
       "      <td>1.000000</td>\n",
       "      <td>0.000000e+00</td>\n",
       "      <td>False</td>\n",
       "      <td>0.465955</td>\n",
       "      <td>0.534045</td>\n",
       "      <td>1</td>\n",
       "      <td>0</td>\n",
       "    </tr>\n",
       "    <tr>\n",
       "      <th>2</th>\n",
       "      <td>*valid--random;(sw);(st)</td>\n",
       "      <td>I followed all the rules like a good little bo...</td>\n",
       "      <td>I think that a big part of it...</td>\n",
       "      <td>call her mayonnaise and tell her that if she f...</td>\n",
       "      <td>We'll never know until we get there. You've go...</td>\n",
       "      <td>0.880797</td>\n",
       "      <td>1.192029e-01</td>\n",
       "      <td>False</td>\n",
       "      <td>0.331302</td>\n",
       "      <td>0.668698</td>\n",
       "      <td>1</td>\n",
       "      <td>0</td>\n",
       "    </tr>\n",
       "    <tr>\n",
       "      <th>3</th>\n",
       "      <td>*valid--random;(sw);(st)</td>\n",
       "      <td>Nice scumbag defence. Are you their legal coun...</td>\n",
       "      <td>Where do you see me defending any of these peo...</td>\n",
       "      <td>Girlfriend of 10 years convinced me to get her...</td>\n",
       "      <td>No problem, bud! 👍</td>\n",
       "      <td>0.997527</td>\n",
       "      <td>2.472623e-03</td>\n",
       "      <td>False</td>\n",
       "      <td>0.485748</td>\n",
       "      <td>0.514252</td>\n",
       "      <td>1</td>\n",
       "      <td>0</td>\n",
       "    </tr>\n",
       "    <tr>\n",
       "      <th>2</th>\n",
       "      <td>random--valid;(sw);(st)</td>\n",
       "      <td>exactly!! and even if they get a F, you should...</td>\n",
       "      <td>It was worse… much much worse. Open racism and...</td>\n",
       "      <td>After reading the comments, TIL a lot of peopl...</td>\n",
       "      <td>And also that americans call it \"tamale\" inste...</td>\n",
       "      <td>0.401312</td>\n",
       "      <td>5.986877e-01</td>\n",
       "      <td>True</td>\n",
       "      <td>0.530227</td>\n",
       "      <td>0.469773</td>\n",
       "      <td>0</td>\n",
       "      <td>1</td>\n",
       "    </tr>\n",
       "  </tbody>\n",
       "</table>\n",
       "</div>"
      ],
      "text/plain": [
       "                            gen_name  \\\n",
       "3           *valid--random;(sw);(st)   \n",
       "0  *valid--random;(mtl:20);(sw);(st)   \n",
       "2           *valid--random;(sw);(st)   \n",
       "3           *valid--random;(sw);(st)   \n",
       "2            random--valid;(sw);(st)   \n",
       "\n",
       "                                         parent_left  \\\n",
       "3  If I could have guaranteed my daughter would i...   \n",
       "0  If you could rename America what would it be c...   \n",
       "2  I followed all the rules like a good little bo...   \n",
       "3  Nice scumbag defence. Are you their legal coun...   \n",
       "2  exactly!! and even if they get a F, you should...   \n",
       "\n",
       "                                          child_left  \\\n",
       "3  Dude I thought of the exact same thing! My dau...   \n",
       "0                           Just name it all Florida   \n",
       "2                   I think that a big part of it...   \n",
       "3  Where do you see me defending any of these peo...   \n",
       "2  It was worse… much much worse. Open racism and...   \n",
       "\n",
       "                                        parent_right  \\\n",
       "3  so then whats the difference between OP (and g...   \n",
       "0  Cargo cults exist mostly because of the societ...   \n",
       "2  call her mayonnaise and tell her that if she f...   \n",
       "3  Girlfriend of 10 years convinced me to get her...   \n",
       "2  After reading the comments, TIL a lot of peopl...   \n",
       "\n",
       "                                         child_right  sway_left    sway_right  \\\n",
       "3  Only if it comes with enforcing not driving li...   1.000000  7.753691e-96   \n",
       "0  When your stomachs trap air then make a fart n...   1.000000  0.000000e+00   \n",
       "2  We'll never know until we get there. You've go...   0.880797  1.192029e-01   \n",
       "3                                 No problem, bud! 👍   0.997527  2.472623e-03   \n",
       "2  And also that americans call it \"tamale\" inste...   0.401312  5.986877e-01   \n",
       "\n",
       "   correct_is_right  logit_left  logit_right  preds  truth  \n",
       "3             False    0.363922     0.636078      1      0  \n",
       "0             False    0.465955     0.534045      1      0  \n",
       "2             False    0.331302     0.668698      1      0  \n",
       "3             False    0.485748     0.514252      1      0  \n",
       "2              True    0.530227     0.469773      0      1  "
      ]
     },
     "execution_count": 17,
     "metadata": {},
     "output_type": "execute_result"
    }
   ],
   "source": [
    "validation_df[validation_df[\"preds\"] != validation_df[\"truth\"]].head()"
   ]
  },
  {
   "cell_type": "code",
   "execution_count": 18,
   "id": "211e7f88-ff0c-4bad-bb47-2224bfedbc8b",
   "metadata": {},
   "outputs": [
    {
     "data": {
      "text/plain": [
       "array([[-0.06550326,  0.02709419,  0.21112214, ...,  0.11420967,\n",
       "        -0.38496572, -0.05269245],\n",
       "       [-0.06571657,  0.02793262,  0.2312173 , ...,  0.11194899,\n",
       "        -0.38510418, -0.05252533],\n",
       "       [-0.06566565,  0.02773809,  0.2264941 , ...,  0.11248553,\n",
       "        -0.38508695, -0.05256777],\n",
       "       [-0.06568879,  0.02782691,  0.22864635, ...,  0.11224143,\n",
       "        -0.38509583, -0.05254867]], dtype=float32)"
      ]
     },
     "metadata": {},
     "output_type": "display_data"
    },
    {
     "data": {
      "text/plain": [
       "array([[-0.06535928,  0.02648313,  0.19693018, ...,  0.11577048,\n",
       "        -0.38476798, -0.05278942],\n",
       "       [-0.06574368,  0.02803508,  0.23371796, ...,  0.11166368,\n",
       "        -0.38510934, -0.05250207],\n",
       "       [-0.0657125 ,  0.02791727,  0.23084284, ...,  0.11199162,\n",
       "        -0.3851029 , -0.05252872],\n",
       "       [-0.06563538,  0.02762094,  0.22366752, ...,  0.11280513,\n",
       "        -0.38507187, -0.05259226]], dtype=float32)"
      ]
     },
     "metadata": {},
     "output_type": "display_data"
    },
    {
     "data": {
      "text/plain": [
       "array([[-0.0656829 ,  0.02780432,  0.22809815, ...,  0.11230366,\n",
       "        -0.3850937 , -0.05255355],\n",
       "       [-0.06569798,  0.02786201,  0.2294989 , ...,  0.11214454,\n",
       "        -0.3850989 , -0.05254098],\n",
       "       [-0.06571472,  0.0279257 ,  0.23104848, ...,  0.11196826,\n",
       "        -0.3851037 , -0.05252688],\n",
       "       [-0.06575096,  0.02806242,  0.23438704, ...,  0.1115872 ,\n",
       "        -0.3851104 , -0.05249573]], dtype=float32)"
      ]
     },
     "metadata": {},
     "output_type": "display_data"
    },
    {
     "data": {
      "text/plain": [
       "array([[-0.06533301,  0.02636671,  0.19427145, ...,  0.11605955,\n",
       "        -0.38472182, -0.05280573],\n",
       "       [-0.06574761,  0.02804977,  0.23407796, ...,  0.11162256,\n",
       "        -0.3851099 , -0.05249863],\n",
       "       [-0.06567356,  0.02776845,  0.22722957, ...,  0.11240222,\n",
       "        -0.38509   , -0.05256129],\n",
       "       [-0.06568024,  0.02779406,  0.22784998, ...,  0.11233185,\n",
       "        -0.38509274, -0.0525558 ]], dtype=float32)"
      ]
     },
     "metadata": {},
     "output_type": "display_data"
    },
    {
     "data": {
      "text/plain": [
       "array([[-0.06561287,  0.02753301,  0.22155438, ...,  0.11304329,\n",
       "        -0.3850586 , -0.05261013],\n",
       "       [-0.06574942,  0.02805658,  0.23424454, ...,  0.11160348,\n",
       "        -0.3851102 , -0.05249709],\n",
       "       [-0.06573675,  0.02800887,  0.2330777 , ...,  0.11173683,\n",
       "        -0.38510838, -0.05250804],\n",
       "       [-0.06563716,  0.02762791,  0.22383493, ...,  0.11278623,\n",
       "        -0.38507292, -0.05259083]], dtype=float32)"
      ]
     },
     "metadata": {},
     "output_type": "display_data"
    },
    {
     "data": {
      "text/plain": [
       "array([[-0.06572815,  0.02797643,  0.23228577, ...,  0.11182722,\n",
       "        -0.38510668, -0.05251546],\n",
       "       [-0.06568072,  0.02779597,  0.22789657, ...,  0.11232647,\n",
       "        -0.38509297, -0.05255538],\n",
       "       [-0.06574763,  0.02804986,  0.23407973, ...,  0.11162236,\n",
       "        -0.38511008, -0.05249863],\n",
       "       [-0.06575137,  0.0280639 ,  0.23442353, ...,  0.11158305,\n",
       "        -0.3851104 , -0.05249535]], dtype=float32)"
      ]
     },
     "metadata": {},
     "output_type": "display_data"
    },
    {
     "data": {
      "text/plain": [
       "array([[-0.0656904 ,  0.02783306,  0.22879606, ...,  0.11222443,\n",
       "        -0.3850964 , -0.05254735],\n",
       "       [-0.06578612,  0.02819377,  0.23761076, ...,  0.11121783,\n",
       "        -0.38511246, -0.05246475],\n",
       "       [-0.06580459,  0.02826248,  0.23930213, ...,  0.11102349,\n",
       "        -0.3851116 , -0.05244821],\n",
       "       [-0.06556657,  0.02735009,  0.2171814 , ...,  0.11353415,\n",
       "        -0.38502502, -0.0526458 ]], dtype=float32)"
      ]
     },
     "metadata": {},
     "output_type": "display_data"
    },
    {
     "data": {
      "text/plain": [
       "array([[-0.06561741,  0.0275508 ,  0.22198111, ...,  0.11299524,\n",
       "        -0.38506138, -0.05260655],\n",
       "       [-0.06569718,  0.02785897,  0.22942495, ...,  0.11215296,\n",
       "        -0.38509858, -0.05254164],\n",
       "       [-0.06573445,  0.02800029,  0.23286769, ...,  0.11176081,\n",
       "        -0.385108  , -0.05251   ],\n",
       "       [-0.06568942,  0.02782934,  0.22870544, ...,  0.11223471,\n",
       "        -0.38509616, -0.05254814]], dtype=float32)"
      ]
     },
     "metadata": {},
     "output_type": "display_data"
    },
    {
     "data": {
      "text/plain": [
       "array([[-0.06559324,  0.0274559 ,  0.21970677, ...,  0.11325098,\n",
       "        -0.3850454 , -0.05262538],\n",
       "       [-0.06577191,  0.02814086,  0.23631021, ...,  0.11136699,\n",
       "        -0.38511208, -0.05247736],\n",
       "       [-0.06566589,  0.027739  ,  0.22651641, ...,  0.11248302,\n",
       "        -0.3850869 , -0.05256756],\n",
       "       [-0.06571781,  0.02793735,  0.23133253, ...,  0.11193586,\n",
       "        -0.38510448, -0.05252425]], dtype=float32)"
      ]
     },
     "metadata": {},
     "output_type": "display_data"
    },
    {
     "data": {
      "text/plain": [
       "array([[-0.06564257,  0.0276489 ,  0.22434081, ...,  0.11272905,\n",
       "        -0.38507572, -0.0525865 ],\n",
       "       [-0.06568698,  0.02781999,  0.2284786 , ...,  0.11226046,\n",
       "        -0.38509533, -0.05255016],\n",
       "       [-0.06566387,  0.02773128,  0.22632957, ...,  0.11250415,\n",
       "        -0.38508606, -0.05256923],\n",
       "       [-0.06555977,  0.02732293,  0.21653499, ...,  0.11360647,\n",
       "        -0.38501945, -0.05265088]], dtype=float32)"
      ]
     },
     "metadata": {},
     "output_type": "display_data"
    }
   ],
   "source": [
    "ttgen.reset()\n",
    "model_final.eval()\n",
    "harness_final.eval()\n",
    "with torch.no_grad():\n",
    "    count = 0\n",
    "    for test_val_df in ttgen.test_validation_dfs():\n",
    "        plefts = tokens(test_val_df[\"parent_left\"])\n",
    "        clefts = tokens(test_val_df[\"child_left\"])\n",
    "        prights = tokens(test_val_df[\"parent_right\"])\n",
    "        crights = tokens(test_val_df[\"child_right\"])\n",
    "        display(model_final.get_child_embed(\n",
    "            clefts[\"input_ids\"],\n",
    "            clefts[\"attention_mask\"]).cpu().numpy())\n",
    "        display(model_final.get_child_embed(\n",
    "            crights[\"input_ids\"],\n",
    "            crights[\"attention_mask\"]).cpu().numpy())\n",
    "        count += 1\n",
    "        if count >= 5:\n",
    "            break"
   ]
  },
  {
   "cell_type": "code",
   "execution_count": null,
   "id": "a98fd1aa-9723-4da8-8fcb-2d9500542f79",
   "metadata": {},
   "outputs": [],
   "source": []
  }
 ],
 "metadata": {
  "kernelspec": {
   "display_name": "Python [conda env:clotho]",
   "language": "python",
   "name": "conda-env-clotho-py"
  },
  "language_info": {
   "codemirror_mode": {
    "name": "ipython",
    "version": 3
   },
   "file_extension": ".py",
   "mimetype": "text/x-python",
   "name": "python",
   "nbconvert_exporter": "python",
   "pygments_lexer": "ipython3",
   "version": "3.10.6"
  }
 },
 "nbformat": 4,
 "nbformat_minor": 5
}

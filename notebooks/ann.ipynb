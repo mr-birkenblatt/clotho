{
 "cells": [
  {
   "cell_type": "code",
   "execution_count": 1,
   "id": "fa96be59-c658-4974-816f-a20e6fcedc98",
   "metadata": {},
   "outputs": [],
   "source": [
    "import os\n",
    "import sys\n",
    "import json\n",
    "import pandas as pd\n",
    "import numpy as np\n",
    "import torch\n",
    "from typing import Literal, TypedDict"
   ]
  },
  {
   "cell_type": "code",
   "execution_count": 2,
   "id": "aa1b474f-d259-408b-afb5-52bf87d680c1",
   "metadata": {},
   "outputs": [],
   "source": [
    "sys.path.append(\"..\")\n",
    "os.environ[\"USER_PATH\"] = \"../userdata/\""
   ]
  },
  {
   "cell_type": "code",
   "execution_count": 3,
   "id": "f98dddea-5b72-47c4-a8e9-ec264598eb36",
   "metadata": {},
   "outputs": [],
   "source": [
    "from system.namespace.store import get_namespace"
   ]
  },
  {
   "cell_type": "code",
   "execution_count": 4,
   "id": "6fce0aa5-0e31-4ec2-a0bb-f72e04dc6cf1",
   "metadata": {},
   "outputs": [],
   "source": [
    "namespace = get_namespace(\"train_db\")"
   ]
  },
  {
   "cell_type": "code",
   "execution_count": 5,
   "id": "e9d09485-4f8a-48ff-9ab8-4e3515262e0c",
   "metadata": {},
   "outputs": [],
   "source": [
    "from system.embedding.store import get_embed_store\n",
    "from misc.lru import LRU"
   ]
  },
  {
   "cell_type": "code",
   "execution_count": 6,
   "id": "bbc8ee08-44d1-470c-9206-385340a09f54",
   "metadata": {},
   "outputs": [],
   "source": [
    "embeds = get_embed_store(namespace)"
   ]
  },
  {
   "cell_type": "code",
   "execution_count": 7,
   "id": "9ca1ad16-eb6e-463a-802d-7b29a385cd79",
   "metadata": {},
   "outputs": [],
   "source": [
    "role_c = \"child\"\n",
    "role_p = \"parent\""
   ]
  },
  {
   "cell_type": "code",
   "execution_count": 8,
   "id": "b504219b-2b31-4fc5-9c20-48ad3fe19001",
   "metadata": {},
   "outputs": [
    {
     "data": {
      "text/plain": [
       "689418"
      ]
     },
     "execution_count": 8,
     "metadata": {},
     "output_type": "execute_result"
    }
   ],
   "source": [
    "total_c = embeds.get_embedding_count(role_c)\n",
    "total_c"
   ]
  },
  {
   "cell_type": "code",
   "execution_count": 9,
   "id": "fe03ab7e-57d7-401e-adee-3b555358e86f",
   "metadata": {},
   "outputs": [
    {
     "data": {
      "application/vnd.jupyter.widget-view+json": {
       "model_id": "564455dcb2264027b485dcf21ede3e6b",
       "version_major": 2,
       "version_minor": 0
      },
      "text/plain": [
       "  0%|          | 0/689418 [00:00<?, ?it/s]"
      ]
     },
     "metadata": {},
     "output_type": "display_data"
    }
   ],
   "source": [
    "x = np.vstack([\n",
    "    embed[1].ravel().detach().numpy()\n",
    "    for embed in embeds.get_all_embeddings(role_c, progress_bar=True)\n",
    "])\n",
    "x = x[:100000, :]"
   ]
  },
  {
   "cell_type": "code",
   "execution_count": 10,
   "id": "d7718486-5e93-4656-96b5-13f8ba88cc50",
   "metadata": {},
   "outputs": [
    {
     "data": {
      "text/plain": [
       "(100000, 768)"
      ]
     },
     "execution_count": 10,
     "metadata": {},
     "output_type": "execute_result"
    }
   ],
   "source": [
    "x.shape"
   ]
  },
  {
   "cell_type": "code",
   "execution_count": 12,
   "id": "6aaf142b-ec31-4f8c-9057-352d93ef7e22",
   "metadata": {},
   "outputs": [
    {
     "data": {
      "text/plain": [
       "(768,)"
      ]
     },
     "execution_count": 12,
     "metadata": {},
     "output_type": "execute_result"
    }
   ],
   "source": [
    "x[5, :].shape"
   ]
  },
  {
   "cell_type": "code",
   "execution_count": null,
   "id": "1e72fa8d-db40-4b9e-92d6-fa273550d786",
   "metadata": {},
   "outputs": [],
   "source": [
    "class DBScann:\n",
    "    def __init__(self, "
   ]
  }
 ],
 "metadata": {
  "kernelspec": {
   "display_name": "Python 3 (ipykernel)",
   "language": "python",
   "name": "python3"
  },
  "language_info": {
   "codemirror_mode": {
    "name": "ipython",
    "version": 3
   },
   "file_extension": ".py",
   "mimetype": "text/x-python",
   "name": "python",
   "nbconvert_exporter": "python",
   "pygments_lexer": "ipython3",
   "version": "3.10.6"
  }
 },
 "nbformat": 4,
 "nbformat_minor": 5
}

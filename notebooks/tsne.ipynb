{
 "cells": [
  {
   "cell_type": "code",
   "execution_count": 1,
   "id": "3adb50c3-1641-4779-92b3-fe4b2a9d9e64",
   "metadata": {},
   "outputs": [],
   "source": [
    "import os\n",
    "import sys\n",
    "import json\n",
    "import pandas as pd\n",
    "import numpy as np\n",
    "import torch\n",
    "from typing import Literal, TypedDict"
   ]
  },
  {
   "cell_type": "code",
   "execution_count": 2,
   "id": "a2ee183a-4eb8-4dba-8776-a0811d2305a0",
   "metadata": {},
   "outputs": [],
   "source": [
    "sys.path.append(\"..\")\n",
    "os.environ[\"USER_PATH\"] = \"../userdata/\""
   ]
  },
  {
   "cell_type": "code",
   "execution_count": 3,
   "id": "95d542a0-4e1d-4ed8-a873-a897ea8e78b2",
   "metadata": {},
   "outputs": [],
   "source": [
    "from system.namespace.store import get_namespace"
   ]
  },
  {
   "cell_type": "code",
   "execution_count": 4,
   "id": "e1146da3-9e67-4d6d-bc94-2a24db6297a3",
   "metadata": {},
   "outputs": [],
   "source": [
    "namespace = get_namespace(\"train_db\")"
   ]
  },
  {
   "cell_type": "code",
   "execution_count": 5,
   "id": "aae62dbd-93ff-4306-b7ed-4967daac1103",
   "metadata": {},
   "outputs": [],
   "source": [
    "from system.embedding.store import get_embed_store\n",
    "from misc.lru import LRU"
   ]
  },
  {
   "cell_type": "code",
   "execution_count": 6,
   "id": "8d55c490-acc0-41d9-b96a-00954cb1cc4f",
   "metadata": {},
   "outputs": [],
   "source": [
    "embeds = get_embed_store(namespace)"
   ]
  },
  {
   "cell_type": "code",
   "execution_count": 7,
   "id": "7a7d54b3-9d38-427a-a30b-089626b2cfd8",
   "metadata": {},
   "outputs": [],
   "source": [
    "role_c = \"child\"\n",
    "role_p = \"parent\""
   ]
  },
  {
   "cell_type": "code",
   "execution_count": 8,
   "id": "b9db8d56-388a-49ca-909a-737b11a527ba",
   "metadata": {},
   "outputs": [
    {
     "data": {
      "text/plain": [
       "689414"
      ]
     },
     "execution_count": 8,
     "metadata": {},
     "output_type": "execute_result"
    }
   ],
   "source": [
    "total_c = embeds.get_embedding_count(role_c)\n",
    "total_c"
   ]
  },
  {
   "cell_type": "code",
   "execution_count": 9,
   "id": "8b71e04d-d806-4e89-bceb-d2e5bccb0ffb",
   "metadata": {},
   "outputs": [
    {
     "data": {
      "text/plain": [
       "689414"
      ]
     },
     "execution_count": 9,
     "metadata": {},
     "output_type": "execute_result"
    }
   ],
   "source": [
    "total_p = embeds.get_embedding_count(role_p)\n",
    "total_p"
   ]
  },
  {
   "cell_type": "code",
   "execution_count": 10,
   "id": "41465fc8-1012-46a4-9438-2fd4b910faf2",
   "metadata": {},
   "outputs": [],
   "source": [
    "from sklearn.manifold import TSNE"
   ]
  },
  {
   "cell_type": "code",
   "execution_count": 11,
   "id": "cfa7ddf6-0d08-4c2d-ada9-4c27fc238106",
   "metadata": {},
   "outputs": [
    {
     "data": {
      "application/vnd.jupyter.widget-view+json": {
       "model_id": "3f264289c7ca44b7a90232b2c249d827",
       "version_major": 2,
       "version_minor": 0
      },
      "text/plain": [
       "  0%|          | 0/689414 [00:00<?, ?it/s]"
      ]
     },
     "metadata": {},
     "output_type": "display_data"
    },
    {
     "data": {
      "application/vnd.jupyter.widget-view+json": {
       "model_id": "064e96d88c5d431cb149ad7fcd83cd81",
       "version_major": 2,
       "version_minor": 0
      },
      "text/plain": [
       "  0%|          | 0/689414 [00:00<?, ?it/s]"
      ]
     },
     "metadata": {},
     "output_type": "display_data"
    },
    {
     "name": "stdout",
     "output_type": "stream",
     "text": [
      "CPU times: user 3min 35s, sys: 44.3 s, total: 4min 19s\n",
      "Wall time: 8min 38s\n"
     ]
    },
    {
     "data": {
      "text/plain": [
       "(1378828, 768)"
      ]
     },
     "execution_count": 11,
     "metadata": {},
     "output_type": "execute_result"
    }
   ],
   "source": [
    "%%time\n",
    "\n",
    "x_0 = np.vstack([\n",
    "    embed[1].ravel().detach().numpy()\n",
    "    for embed in embeds.get_all_embeddings(role_c, progress_bar=True)\n",
    "])\n",
    "y_0 = x_0.shape[0]\n",
    "x_1 = np.vstack([\n",
    "    embed[1].ravel().detach().numpy()\n",
    "    for embed in embeds.get_all_embeddings(role_p, progress_bar=True)\n",
    "])\n",
    "y_1 = x_1.shape[0]\n",
    "y = [\n",
    "    \"tab:blue\" for _ in range(y_0)\n",
    "] + [\n",
    "    \"tab:orange\" for _ in range(y_1)\n",
    "]\n",
    "x = np.vstack([x_0, x_1])\n",
    "x.shape"
   ]
  },
  {
   "cell_type": "code",
   "execution_count": 12,
   "id": "d4f5dc8f-6d66-4dbe-bb3c-1ac6088ee6e3",
   "metadata": {},
   "outputs": [
    {
     "data": {
      "text/plain": [
       "array([[-0.06251884,  0.06813351,  0.25403288, ...,  0.13894862,\n",
       "        -0.40365079, -0.04747996],\n",
       "       [-0.0618586 ,  0.06744971,  0.23952982, ...,  0.14076276,\n",
       "        -0.40367034, -0.04754893]])"
      ]
     },
     "execution_count": 12,
     "metadata": {},
     "output_type": "execute_result"
    }
   ],
   "source": [
    "x[:2, :]"
   ]
  },
  {
   "cell_type": "code",
   "execution_count": null,
   "id": "dfcaafc5-6fa9-472d-a286-690903bebacc",
   "metadata": {
    "tags": []
   },
   "outputs": [],
   "source": [
    "%%time\n",
    "\n",
    "x_embedded = TSNE(\n",
    "    n_components=2,\n",
    "    learning_rate=\"auto\",\n",
    "    init=\"random\",\n",
    "    # perplexity=10,\n",
    "    method=\"barnes_hut\",\n",
    "    random_state=42,\n",
    "    n_jobs=-1).fit_transform(x)"
   ]
  },
  {
   "cell_type": "code",
   "execution_count": null,
   "id": "4376238d-db12-4366-8fa2-4ae27cc49b07",
   "metadata": {},
   "outputs": [],
   "source": [
    "pd.DataFrame(x_embedded).plot.scatter(x=0, y=1, s=0.5, c=y, xlabel=\"\", ylabel=\"\")"
   ]
  },
  {
   "cell_type": "code",
   "execution_count": null,
   "id": "c52abaab-9d83-4694-8662-9d2ff3868645",
   "metadata": {},
   "outputs": [],
   "source": []
  }
 ],
 "metadata": {
  "kernelspec": {
   "display_name": "Python 3 (ipykernel)",
   "language": "python",
   "name": "python3"
  },
  "language_info": {
   "codemirror_mode": {
    "name": "ipython",
    "version": 3
   },
   "file_extension": ".py",
   "mimetype": "text/x-python",
   "name": "python",
   "nbconvert_exporter": "python",
   "pygments_lexer": "ipython3",
   "version": "3.10.6"
  }
 },
 "nbformat": 4,
 "nbformat_minor": 5
}

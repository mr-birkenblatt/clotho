{
 "cells": [
  {
   "cell_type": "code",
   "execution_count": 1,
   "id": "7c1265ba-c76b-4424-b577-a322e6b512af",
   "metadata": {},
   "outputs": [],
   "source": [
    "# in a terminal run\n",
    "# > USER_PATH=/home/krause/userdata/ make run-redis NS=train\n",
    "# > USER_PATH=/home/krause/userdata/ make run-redis NS=test\n",
    "# to allow access to the train and test namespaces"
   ]
  },
  {
   "cell_type": "code",
   "execution_count": 2,
   "id": "4e21c530-5f85-4b18-b9ed-c2fbe591b52f",
   "metadata": {},
   "outputs": [],
   "source": [
    "import os\n",
    "import sys\n",
    "import json\n",
    "import pandas as pd\n",
    "import numpy as np\n",
    "from typing import Literal, TypedDict"
   ]
  },
  {
   "cell_type": "code",
   "execution_count": 3,
   "id": "62721599-23d3-405a-bbb2-88a6f0a17a17",
   "metadata": {},
   "outputs": [],
   "source": [
    "sys.path.append(\"..\")\n",
    "os.environ[\"USER_PATH\"] = \"/home/krause/userdata/\"\n",
    "MODEL_OUTPUT_BASE = \"/mnt/d/workspace/clotho/notebooks\"\n",
    "MODEL_OUTPUT_CP = os.path.join(MODEL_OUTPUT_BASE, \"checkpoints\")"
   ]
  },
  {
   "cell_type": "code",
   "execution_count": 4,
   "id": "82c6f1c7-607b-479d-b2f6-3483cb91a57d",
   "metadata": {},
   "outputs": [],
   "source": [
    "from misc.redis import set_redis_slow_mode\n",
    "from misc.util import highest_number\n",
    "from misc.io import open_write\n",
    "from model.datagenerator import create_train_test\n",
    "from model.transformer_embed import (\n",
    "    get_epoch_and_load,\n",
    "    limit_epoch_data,\n",
    "    limit_epoch_data,\n",
    "    get_model_filename,\n",
    ")\n",
    "from system.namespace.store import get_namespace"
   ]
  },
  {
   "cell_type": "code",
   "execution_count": 5,
   "id": "1d8c7e9a-fa89-435d-a0a2-0a492056581e",
   "metadata": {},
   "outputs": [
    {
     "data": {
      "text/plain": [
       "True"
      ]
     },
     "execution_count": 5,
     "metadata": {},
     "output_type": "execute_result"
    }
   ],
   "source": [
    "import torch\n",
    "\n",
    "is_cuda = torch.cuda.is_available()\n",
    "is_cuda"
   ]
  },
  {
   "cell_type": "code",
   "execution_count": 6,
   "id": "0a897205-0707-4928-860d-5e8d58cef31a",
   "metadata": {},
   "outputs": [],
   "source": [
    "set_redis_slow_mode(\"never\")\n",
    "ns_test = get_namespace(\"test\")\n",
    "ns_train = get_namespace(\"train\")\n",
    "now = pd.Timestamp(\"2022-12-17\", tz=\"UTC\")\n",
    "train_plan = [\n",
    "    {\n",
    "        \"left\": {\"mode\": \"valid\", \"flip_pc\": 1.0},\n",
    "        \"right\": {\"mode\": \"valid\", \"flip_pc\": 0.0},\n",
    "        \"min_text_length\": None,\n",
    "        \"skip_weak\": False,\n",
    "        \"skip_topics\": True,\n",
    "        \"flip_lr\": 0.5,\n",
    "        \"first_epoch\": 10,\n",
    "        \"last_epoch\": None,\n",
    "        \"weight\": 50,\n",
    "    },\n",
    "    {\n",
    "        \"left\": {\"mode\": \"valid\", \"flip_pc\": 1.0},\n",
    "        \"right\": {\"mode\": \"valid\", \"flip_pc\": 0.0},\n",
    "        \"min_text_length\": None,\n",
    "        \"skip_weak\": False,\n",
    "        \"skip_topics\": True,\n",
    "        \"flip_lr\": 0.5,\n",
    "        \"first_epoch\": 10,\n",
    "        \"last_epoch\": None,\n",
    "        \"weight\": 50,\n",
    "    },\n",
    "    {\n",
    "        \"left\": {\"mode\": \"random\", \"flip_pc\": 0.0},\n",
    "        \"right\": {\"mode\": \"path\", \"flip_pc\": 0.0},\n",
    "        \"min_text_length\": None,\n",
    "        \"skip_weak\": True,\n",
    "        \"skip_topics\": True,\n",
    "        \"flip_lr\": 0.5,\n",
    "        \"first_epoch\": None,\n",
    "        \"last_epoch\": None,\n",
    "        \"weight\": 60,\n",
    "    },\n",
    "    {\n",
    "        \"left\": None,\n",
    "        \"right\": {\"mode\": \"path\", \"flip_pc\": 0.0},\n",
    "        \"min_text_length\": None,\n",
    "        \"skip_weak\": True,\n",
    "        \"skip_topics\": True,\n",
    "        \"flip_lr\": 0.5,\n",
    "        \"first_epoch\": None,\n",
    "        \"last_epoch\": None,\n",
    "        \"weight\": 40,\n",
    "    },\n",
    "     {\n",
    "        \"left\": {\"mode\": \"random\", \"flip_pc\": 0.0},\n",
    "        \"right\": {\"mode\": \"path\", \"flip_pc\": 0.0},\n",
    "        \"min_text_length\": None,\n",
    "        \"skip_weak\": False,\n",
    "        \"skip_topics\": True,\n",
    "        \"flip_lr\": 0.5,\n",
    "        \"first_epoch\": 5,\n",
    "        \"last_epoch\": None,\n",
    "        \"weight\": 60,\n",
    "    },\n",
    "    {\n",
    "        \"left\": None,\n",
    "        \"right\": {\"mode\": \"path\", \"flip_pc\": 0.0},\n",
    "        \"min_text_length\": None,\n",
    "        \"skip_weak\": True,\n",
    "        \"skip_topics\": True,\n",
    "        \"flip_lr\": 0.5,\n",
    "        \"first_epoch\": 5,\n",
    "        \"last_epoch\": None,\n",
    "        \"weight\": 40,\n",
    "    },\n",
    "    {\n",
    "        \"left\": {\"mode\": \"random\", \"flip_pc\": 0.0},\n",
    "        \"right\": {\"mode\": \"valid\", \"flip_pc\": 0.0},\n",
    "        \"min_text_length\": None,\n",
    "        \"skip_weak\": True,\n",
    "        \"skip_topics\": True,\n",
    "        \"flip_lr\": 0.5,\n",
    "        \"first_epoch\": None,\n",
    "        \"last_epoch\": None,\n",
    "        \"weight\": 60,\n",
    "    },\n",
    "    {\n",
    "        \"left\": None,\n",
    "        \"right\": {\"mode\": \"valid\", \"flip_pc\": 0.0},\n",
    "        \"min_text_length\": None,\n",
    "        \"skip_weak\": True,\n",
    "        \"skip_topics\": True,\n",
    "        \"flip_lr\": 0.5,\n",
    "        \"first_epoch\": None,\n",
    "        \"last_epoch\": None,\n",
    "        \"weight\": 40,\n",
    "    },\n",
    "    {\n",
    "        \"left\": {\"mode\": \"valid\", \"flip_pc\": 1.0},\n",
    "        \"right\": {\"mode\": \"valid\", \"flip_pc\": 0.0},\n",
    "        \"min_text_length\": None,\n",
    "        \"skip_weak\": False,\n",
    "        \"skip_topics\": True,\n",
    "        \"flip_lr\": 0.5,\n",
    "        \"first_epoch\": 15,\n",
    "        \"last_epoch\": None,\n",
    "        \"weight\": 50,\n",
    "    }\n",
    "]\n",
    "eval_plan = [\n",
    "    {\n",
    "        \"left\": {\"mode\": \"random\", \"flip_pc\": 0.0},\n",
    "        \"right\": {\"mode\": \"valid\", \"flip_pc\": 0.0},\n",
    "        \"min_text_length\": None,\n",
    "        \"skip_weak\": False,\n",
    "        \"skip_topics\": True,\n",
    "        \"flip_lr\": 0.5,\n",
    "        \"weight\": 60,\n",
    "    },\n",
    "    {\n",
    "        \"left\": None,\n",
    "        \"right\": {\"mode\": \"valid\", \"flip_pc\": 0.0},\n",
    "        \"min_text_length\": None,\n",
    "        \"skip_weak\": False,\n",
    "        \"skip_topics\": True,\n",
    "        \"flip_lr\": 0.5,\n",
    "        \"weight\": 40,\n",
    "    },\n",
    "    {\n",
    "        \"left\": {\"mode\": \"random\", \"flip_pc\": 0.0},\n",
    "        \"right\": {\"mode\": \"valid\", \"flip_pc\": 0.0},\n",
    "        \"min_text_length\": None,\n",
    "        \"skip_weak\": False,\n",
    "        \"skip_topics\": True,\n",
    "        \"flip_lr\": 0.5,\n",
    "        \"weight\": 60,\n",
    "    },\n",
    "    {\n",
    "        \"left\": None,\n",
    "        \"right\": {\"mode\": \"valid\", \"flip_pc\": 0.0},\n",
    "        \"min_text_length\": None,\n",
    "        \"skip_weak\": False,\n",
    "        \"skip_topics\": True,\n",
    "        \"flip_lr\": 0.5,\n",
    "        \"weight\": 40,\n",
    "    },\n",
    "]\n",
    "ttgen = create_train_test(\n",
    "    train_ns=ns_train,\n",
    "    train_validation_ns=ns_train,\n",
    "    test_ns=ns_test,\n",
    "    test_validation_ns=ns_test,\n",
    "    train_learning_plan=train_plan,\n",
    "    train_val_learning_plan=eval_plan,\n",
    "    test_learning_plan=eval_plan,\n",
    "    test_val_learning_plan=eval_plan,\n",
    "    batch_size=4 if is_cuda else 8,\n",
    "    epoch_batches=5000 if is_cuda else 500,\n",
    "    train_val_size=10000 if is_cuda else 1000,\n",
    "    test_size=10000 if is_cuda else 1000,\n",
    "    test_val_size=10000 if is_cuda else 1000,\n",
    "    compute_batch_size=100 if is_cuda else 100,\n",
    "    now=now)"
   ]
  },
  {
   "cell_type": "code",
   "execution_count": 7,
   "id": "9d7acd4d-0d4a-481f-901b-3e524ee02c6f",
   "metadata": {},
   "outputs": [],
   "source": [
    "import torch.nn as nn\n",
    "from torch.optim import AdamW\n",
    "from transformers import DistilBertTokenizer, DistilBertModel"
   ]
  },
  {
   "cell_type": "code",
   "execution_count": 8,
   "id": "927dbcbe-6df3-49c9-8449-041b1ab7a168",
   "metadata": {},
   "outputs": [
    {
     "data": {
      "text/plain": [
       "device(type='cuda')"
      ]
     },
     "execution_count": 8,
     "metadata": {},
     "output_type": "execute_result"
    }
   ],
   "source": [
    "device = torch.device(\"cuda\") if is_cuda else torch.device(\"cpu\")\n",
    "device"
   ]
  },
  {
   "cell_type": "code",
   "execution_count": 17,
   "id": "00819f53-a953-4b85-bcf8-6cba59a8bb67",
   "metadata": {},
   "outputs": [],
   "source": [
    "ProviderRole = Literal[\"child\", \"parent\"]\n",
    "\n",
    "tokenizer = DistilBertTokenizer.from_pretrained(\"distilbert-base-uncased\")\n",
    "EMBED_SIZE = 768\n",
    "\n",
    "TokenizedInput = TypedDict('TokenizedInput', {\n",
    "    \"input_ids\": torch.Tensor,\n",
    "    \"attention_mask\": torch.Tensor,\n",
    "})\n",
    "\n",
    "\n",
    "AggType = Literal[\"cls\", \"mean\"]\n",
    "AGG_CLS: AggType = \"cls\"\n",
    "AGG_MEAN: AggType = \"mean\"\n",
    "\n",
    "\n",
    "def tokens(texts: list[str]) -> TokenizedInput:\n",
    "    res = tokenizer(texts.tolist(), return_tensors=\"pt\", padding=True, truncation=True)\n",
    "    return {k: v.to(device) for k, v in res.items()}\n",
    "\n",
    "\n",
    "class Noise(nn.Module):\n",
    "    def __init__(self, std: float = 1.0, p: float = 0.5) -> None:\n",
    "        super().__init__()\n",
    "        self._std = std\n",
    "        self._p = p\n",
    "        self._dhold = nn.Parameter(torch.Tensor([0.0]), requires_grad=False)\n",
    "\n",
    "    def set_std(self, std: float) -> None:\n",
    "        self._std = std\n",
    "\n",
    "    def get_std(self) -> float:\n",
    "        return self._std\n",
    "\n",
    "    def forward(self, x: torch.Tensor) -> torch.Tensor:\n",
    "        if not self.training:\n",
    "            return x\n",
    "        prob = torch.rand(size=x.shape, device=self._dhold.device) < self._p\n",
    "        gauss = torch.normal(\n",
    "            mean=0.0, std=self._std, size=x.shape, device=self._dhold.device)\n",
    "        return x + prob * gauss\n",
    "\n",
    "\n",
    "class Model(nn.Module):\n",
    "    def __init__(self, version: int) -> None:\n",
    "        super().__init__()\n",
    "        assert version >= 0\n",
    "        self._bert_parent = DistilBertModel.from_pretrained(\n",
    "            \"distilbert-base-uncased\")\n",
    "        self._bert_child = DistilBertModel.from_pretrained(\n",
    "            \"distilbert-base-uncased\")\n",
    "        if version in (1, 3, 4, 6):\n",
    "            self._pdense: nn.Sequential | None = nn.Sequential(\n",
    "                nn.Linear(EMBED_SIZE, EMBED_SIZE),\n",
    "                nn.Dropout(p=0.2),\n",
    "                nn.ReLU(),\n",
    "                nn.Linear(EMBED_SIZE, EMBED_SIZE))\n",
    "            self._cdense: nn.Sequential | None = nn.Sequential(\n",
    "                nn.Linear(EMBED_SIZE, EMBED_SIZE),\n",
    "                nn.Dropout(p=0.2),\n",
    "                nn.ReLU(),\n",
    "                nn.Linear(EMBED_SIZE, EMBED_SIZE))\n",
    "        else:\n",
    "            self._pdense = None\n",
    "            self._cdense = None\n",
    "        if version < 4 or version > 5:\n",
    "            self._noise = None\n",
    "        else:\n",
    "            self._noise = Noise(std=1.0, p=0.2)\n",
    "        if version < 2 or version > 4:\n",
    "            self._cos = None\n",
    "        else:\n",
    "            self._cos = torch.nn.CosineSimilarity()\n",
    "        if version < 6:\n",
    "            self._agg = AGG_CLS\n",
    "        else:\n",
    "            self._agg = AGG_MEAN\n",
    "        self._version = version\n",
    "\n",
    "    def set_epoch(self, epoch: int) -> None:\n",
    "        noise = self._noise\n",
    "        if noise is not None:\n",
    "            noise.set_std(1 / (1.2 ** epoch))\n",
    "\n",
    "    def get_version(self) -> int:\n",
    "        return self._version\n",
    "\n",
    "    def get_agg(self, lhs: torch.Tensor) -> torch.Tensor:\n",
    "        if self._agg == AGG_CLS:\n",
    "            return lhs[:, 0]\n",
    "        if self._agg == AGG_MEAN:\n",
    "            return torch.mean(lhs, dim=1)\n",
    "        raise ValueError(f\"unknown aggregation: {self._agg}\")\n",
    "\n",
    "    def get_parent_embed(\n",
    "            self,\n",
    "            input_ids: torch.Tensor,\n",
    "            attention_mask: torch.Tensor) -> torch.Tensor:\n",
    "        outputs_parent = self._bert_parent(\n",
    "            input_ids=input_ids, attention_mask=attention_mask)\n",
    "        out = self.get_agg(outputs_parent.last_hidden_state)\n",
    "        if self._pdense is not None:\n",
    "            out = self._pdense(out)\n",
    "        if self._noise is not None:\n",
    "            out = self._noise(out)\n",
    "        return out\n",
    "\n",
    "    def get_child_embed(\n",
    "            self,\n",
    "            input_ids: torch.Tensor,\n",
    "            attention_mask: torch.Tensor) -> torch.Tensor:\n",
    "        outputs_child = self._bert_child(\n",
    "            input_ids=input_ids, attention_mask=attention_mask)\n",
    "        out = self.get_agg(outputs_child.last_hidden_state)\n",
    "        if self._cdense is not None:\n",
    "            out = self._cdense(out)\n",
    "        if self._noise is not None:\n",
    "            out = self._noise(out)\n",
    "        return out\n",
    "\n",
    "    def forward(self, x: dict[ProviderRole, TokenizedInput]) -> torch.Tensor:\n",
    "        parent_cls = self.get_parent_embed(\n",
    "            input_ids=x[\"parent\"][\"input_ids\"],\n",
    "            attention_mask=x[\"parent\"][\"attention_mask\"])\n",
    "        child_cls = self.get_child_embed(\n",
    "            input_ids=x[\"child\"][\"input_ids\"],\n",
    "            attention_mask=x[\"child\"][\"attention_mask\"])\n",
    "        if self._cos is not None:\n",
    "            return self._cos(parent_cls, child_cls).reshape([-1, 1])\n",
    "        batch_size = parent_cls.shape[0]\n",
    "        return torch.bmm(\n",
    "            parent_cls.reshape([batch_size, 1, -1]),\n",
    "            child_cls.reshape([batch_size, -1, 1])).reshape([-1, 1])\n",
    "\n",
    "\n",
    "class BaselineModel(nn.Module):\n",
    "    def __init__(self, version: int) -> None:\n",
    "        super().__init__()\n",
    "        assert version < 0\n",
    "        self._bert = DistilBertModel.from_pretrained(\n",
    "            \"distilbert-base-uncased\")\n",
    "        if version == -2:\n",
    "            self._agg = AGG_CLS\n",
    "        else:\n",
    "            self._agg = AGG_MEAN\n",
    "        self._version = version\n",
    "\n",
    "    def set_epoch(self, epoch: int) -> None:\n",
    "        pass\n",
    "\n",
    "    def get_version(self) -> int:\n",
    "        return self._version\n",
    "\n",
    "    def get_agg(self, lhs: torch.Tensor) -> torch.Tensor:\n",
    "        if self._agg == AGG_CLS:\n",
    "            return lhs[:, 0]\n",
    "        if self._agg == AGG_MEAN:\n",
    "            return torch.mean(lhs, dim=1)\n",
    "        raise ValueError(f\"unknown aggregation: {self._agg}\")\n",
    "\n",
    "    def _embed(\n",
    "            self,\n",
    "            input_ids: torch.Tensor,\n",
    "            attention_mask: torch.Tensor) -> torch.Tensor:\n",
    "        outputs = self._bert(\n",
    "            input_ids=input_ids, attention_mask=attention_mask)\n",
    "        return self.get_agg(outputs.last_hidden_state)\n",
    "\n",
    "    def get_parent_embed(\n",
    "            self,\n",
    "            input_ids: torch.Tensor,\n",
    "            attention_mask: torch.Tensor) -> torch.Tensor:\n",
    "        return self._embed(input_ids, attention_mask)\n",
    "\n",
    "    def get_child_embed(\n",
    "            self,\n",
    "            input_ids: torch.Tensor,\n",
    "            attention_mask: torch.Tensor) -> torch.Tensor:\n",
    "        return self._embed(input_ids, attention_mask)\n",
    "\n",
    "    def forward(self, x: dict[ProviderRole, TokenizedInput]) -> torch.Tensor:\n",
    "        parent_cls = self.get_parent_embed(\n",
    "            input_ids=x[\"parent\"][\"input_ids\"],\n",
    "            attention_mask=x[\"parent\"][\"attention_mask\"])\n",
    "        child_cls = self.get_child_embed(\n",
    "            input_ids=x[\"child\"][\"input_ids\"],\n",
    "            attention_mask=x[\"child\"][\"attention_mask\"])\n",
    "        batch_size = parent_cls.shape[0]\n",
    "        return torch.bmm(\n",
    "            parent_cls.reshape([batch_size, 1, -1]),\n",
    "            child_cls.reshape([batch_size, -1, 1])).reshape([-1, 1])\n",
    "\n",
    "\n",
    "EitherModel = Model | BaselineModel\n",
    "\n",
    "\n",
    "class TrainingHarness(nn.Module):\n",
    "    def __init__(self, model: EitherModel) -> None:\n",
    "        super().__init__()\n",
    "        self._model = model\n",
    "        self._softmax = nn.Softmax(dim=1)\n",
    "        self._loss = nn.BCELoss()\n",
    "\n",
    "    def get_version(self) -> int:\n",
    "        return self._model.get_version()\n",
    "\n",
    "    def forward(\n",
    "            self,\n",
    "            left: TokenizedInput,\n",
    "            right: TokenizedInput,\n",
    "            labels: torch.Tensor) -> tuple[torch.Tensor, torch.Tensor]:\n",
    "        out_left = self._model(left)\n",
    "        out_right = self._model(right)\n",
    "        preds = self._softmax(torch.hstack((out_left, out_right)))\n",
    "        return preds, self._loss(preds, labels)"
   ]
  },
  {
   "cell_type": "code",
   "execution_count": 18,
   "id": "6cde9030-931f-4f80-a118-d7f5ef2677d9",
   "metadata": {
    "tags": []
   },
   "outputs": [],
   "source": [
    "from transformers import get_scheduler\n",
    "# from tqdm.notebook import tqdm\n",
    "from tqdm.auto import tqdm\n",
    "import evaluate\n",
    "import time\n",
    "\n",
    "\n",
    "def create_model(version: int) -> EitherModel:\n",
    "    return Model(version) if version >= 0 else BaselineModel(version)\n",
    "\n",
    "\n",
    "def compute(harness, df):\n",
    "    plefts = tokens(df[\"parent_left\"])\n",
    "    clefts = tokens(df[\"child_left\"])\n",
    "    prights = tokens(df[\"parent_right\"])\n",
    "    crights = tokens(df[\"child_right\"])\n",
    "    labels = torch.tensor(\n",
    "        [~df[\"correct_is_right\"], df[\"correct_is_right\"]],\n",
    "        dtype=torch.float32).T.to(device)\n",
    "    return harness(\n",
    "        left={\"parent\": plefts, \"child\": clefts},\n",
    "        right={\"parent\": prights, \"child\": crights},\n",
    "        labels=labels)\n",
    "\n",
    "\n",
    "def run_training(num_epochs, version, force_restart):\n",
    "    model = create_model(version)\n",
    "    model.to(device)\n",
    "    harness = TrainingHarness(model)\n",
    "    harness.to(device)\n",
    "\n",
    "    mprev, epoch_offset = get_epoch_and_load(\n",
    "        harness,\n",
    "        MODEL_OUTPUT_CP,\n",
    "        ftype=\"harness\",\n",
    "        is_cuda=is_cuda,\n",
    "        device=device,\n",
    "        force_restart=force_restart)\n",
    "\n",
    "    optimizer = AdamW(harness.parameters(), lr=5e-5)\n",
    "    print(mprev, epoch_offset)\n",
    "    \n",
    "    num_epochs -= epoch_offset\n",
    "    if num_epochs <= 0:\n",
    "        print(\"already computed all epochs. nothing to do!\")\n",
    "        return model, harness, optimizer\n",
    "    \n",
    "    num_training_steps = num_epochs * ttgen.get_epoch_train_size()\n",
    "    warmup = 10000 if is_cuda else 10\n",
    "    lr_scheduler = get_scheduler(\n",
    "        name=\"linear\",\n",
    "        optimizer=optimizer,\n",
    "        num_warmup_steps=warmup,\n",
    "        num_training_steps=num_training_steps - warmup)\n",
    "    ttgen.set_epoch(epoch_offset)\n",
    "    \n",
    "    log_csv = get_model_filename(\n",
    "        harness,\n",
    "        MODEL_OUTPUT_BASE,\n",
    "        is_cuda=is_cuda,\n",
    "        ftype=\"val_log\",\n",
    "        epoch=None,\n",
    "        ext=\".csv\")\n",
    "    columns = [\n",
    "        \"epoch\",\n",
    "        \"train_acc\",\n",
    "        \"train_loss\",\n",
    "        \"train_val_acc\",\n",
    "        \"train_val_loss\",\n",
    "        \"test_acc\",\n",
    "        \"test_loss\",\n",
    "        \"time\",\n",
    "        \"version\",\n",
    "        \"fname\",\n",
    "    ]\n",
    "    if not os.path.exists(log_csv):\n",
    "        pd.DataFrame([], columns=columns).to_csv(\n",
    "            log_csv, header=True, mode=\"w\", columns=columns)\n",
    "\n",
    "    for _ in range(num_epochs):\n",
    "        epoch = ttgen.get_epoch()\n",
    "        print(f\"epoch {epoch} version: {harness.get_version()}\")\n",
    "        real_time = time.monotonic()\n",
    "\n",
    "        model.train()\n",
    "        harness.train()\n",
    "        model.set_epoch(epoch)\n",
    "        metric_train = evaluate.load(\"accuracy\")\n",
    "        train_loss = []\n",
    "        first = True\n",
    "        with tqdm(desc=\"train\", total=ttgen.get_epoch_train_size()) as progress_bar:\n",
    "            for train_df in ttgen.train_dfs():\n",
    "                preds, loss = compute(harness, train_df)\n",
    "                train_loss.append(loss.item())\n",
    "                loss.backward()\n",
    "\n",
    "                optimizer.step()\n",
    "                lr_scheduler.step()\n",
    "                optimizer.zero_grad()\n",
    "                progress_bar.update(train_df.shape[0])\n",
    "\n",
    "                predictions = torch.argmax(preds, dim=-1)\n",
    "                metric_train.add_batch(\n",
    "                    predictions=predictions,\n",
    "                    references=train_df[\"correct_is_right\"].astype(int))\n",
    "                if first:\n",
    "                    # display(train_df)\n",
    "                    first = False\n",
    "\n",
    "        model_fname = get_model_filename(\n",
    "            harness,\n",
    "            MODEL_OUTPUT_CP,\n",
    "            is_cuda=is_cuda,\n",
    "            ftype=\"harness\",\n",
    "            epoch=epoch)\n",
    "        torch.save(harness.state_dict(), model_fname)\n",
    "\n",
    "        model.eval()\n",
    "        harness.eval()\n",
    "        with torch.no_grad():\n",
    "            metric_val_train = evaluate.load(\"accuracy\")\n",
    "            train_val_loss = []\n",
    "            with tqdm(desc=\"train val\", total=ttgen.get_epoch_train_validation_size()) as progress_bar:\n",
    "                for train_validation_df in ttgen.train_validation_dfs():\n",
    "                    preds, loss = compute(harness, train_validation_df)\n",
    "                    train_val_loss.append(loss.item())\n",
    "                    predictions = torch.argmax(preds, dim=-1)\n",
    "                    metric_val_train.add_batch(\n",
    "                        predictions=predictions,\n",
    "                        references=train_validation_df[\"correct_is_right\"].astype(int))\n",
    "                    progress_bar.update(train_validation_df.shape[0])\n",
    "\n",
    "            metric_test = evaluate.load(\"accuracy\")\n",
    "            test_loss = []\n",
    "            with tqdm(desc=\"test\", total=ttgen.get_epoch_test_size()) as progress_bar:\n",
    "                for test_df in ttgen.test_dfs():\n",
    "                    preds, loss = compute(harness, test_df)\n",
    "                    test_loss.append(loss.item())\n",
    "                    predictions = torch.argmax(preds, dim=-1)\n",
    "                    metric_test.add_batch(\n",
    "                        predictions=predictions,\n",
    "                        references=test_df[\"correct_is_right\"].astype(int))\n",
    "                    progress_bar.update(test_df.shape[0])\n",
    "            stats = {\n",
    "                \"epoch\": int(epoch),\n",
    "                \"train_acc\": float(metric_train.compute()['accuracy']),\n",
    "                \"train_loss\": float(np.mean(train_loss)),\n",
    "                \"train_val_acc\": float(metric_val_train.compute()['accuracy']),\n",
    "                \"train_val_loss\": float(np.mean(train_val_loss)),\n",
    "                \"test_acc\": float(metric_test.compute()['accuracy']),\n",
    "                \"test_loss\": float(np.mean(test_loss)),\n",
    "                \"time\": 0.0,\n",
    "                \"version\": harness.get_version(),\n",
    "                \"fname\": model_fname,\n",
    "            }\n",
    "\n",
    "        print(f\"train: {stats['train_acc']} loss: {stats['train_loss']}\")\n",
    "        print(f\"train val: {stats['train_val_acc']} loss: {stats['train_val_loss']}\")\n",
    "        print(f\"test: {stats['test_acc']} loss: {stats['test_loss']}\")\n",
    "        ttgen.advance_epoch()\n",
    "        stats[\"time\"] = float((time.monotonic() - real_time) / 60.0)\n",
    "        print(f\"epoch time: {stats['time']:.2f}min\")\n",
    "        stats_fn = get_model_filename(\n",
    "            harness,\n",
    "            MODEL_OUTPUT_CP,\n",
    "            is_cuda=is_cuda,\n",
    "            ftype=\"stats\",\n",
    "            epoch=epoch,\n",
    "            ext=\".json\")\n",
    "        with open_write(stats_fn, text=True) as fout:\n",
    "            print(json.dumps(stats, indent=2, sort_keys=True), file=fout)\n",
    "        stats_df = pd.DataFrame(\n",
    "            {key: [val] for key, val in stats.items()},\n",
    "            columns=columns)\n",
    "        stats_df.to_csv(\n",
    "            log_csv, header=False, mode=\"a\")\n",
    "            \n",
    "        limit_epoch_data(\n",
    "            harness,\n",
    "            MODEL_OUTPUT_CP,\n",
    "            is_cuda=is_cuda,\n",
    "            ftype=\"stats\",\n",
    "            ext=\".json\",\n",
    "            count=5)\n",
    "    return model, harness, optimizer"
   ]
  },
  {
   "cell_type": "code",
   "execution_count": 19,
   "id": "c5a36224-b91d-4f21-9279-fa7c2a0e862f",
   "metadata": {},
   "outputs": [],
   "source": [
    "def save_model(model, harness, optimizer):\n",
    "    torch.save(model.state_dict(), get_model_filename(\n",
    "        harness,\n",
    "        MODEL_OUTPUT_BASE,\n",
    "        is_cuda=is_cuda,\n",
    "        ftype=\"model\",\n",
    "        epoch=None))\n",
    "    torch.save(harness.state_dict(), get_model_filename(\n",
    "        harness,\n",
    "        MODEL_OUTPUT_BASE,\n",
    "        is_cuda=is_cuda,\n",
    "        ftype=\"harness\",\n",
    "        epoch=None))\n",
    "    torch.save(optimizer.state_dict(), get_model_filename(\n",
    "        harness,\n",
    "        MODEL_OUTPUT_BASE,\n",
    "        is_cuda=is_cuda,\n",
    "        ftype=\"optimizer\",\n",
    "        epoch=None))"
   ]
  },
  {
   "cell_type": "code",
   "execution_count": 20,
   "id": "bff582b9-1447-425a-9b0f-36d9366e4ec7",
   "metadata": {},
   "outputs": [],
   "source": [
    "def validation(model, harness):\n",
    "    ttgen.reset()\n",
    "    model.eval()\n",
    "    harness.eval()\n",
    "    dfs = []\n",
    "    with torch.no_grad():\n",
    "        metric_val_test = evaluate.load(\"accuracy\")\n",
    "        test_val_loss = []\n",
    "        with tqdm(desc=\"test val\", total=ttgen.get_epoch_test_validation_size()) as progress_bar:\n",
    "            for test_val_df in ttgen.test_validation_dfs():\n",
    "                preds, loss = compute(harness, test_val_df)\n",
    "                test_val_loss.append(loss.item())\n",
    "                predictions = torch.argmax(preds, dim=-1)\n",
    "                metric_val_test.add_batch(\n",
    "                    predictions=predictions,\n",
    "                    references=test_val_df[\"correct_is_right\"].astype(int))\n",
    "                cur_df = test_val_df.copy()\n",
    "                cur_df[\"logit_left\"] = preds[:, 0].cpu()\n",
    "                cur_df[\"logit_right\"] = preds[:, 1].cpu()\n",
    "                cur_df[\"preds\"] = predictions.cpu()\n",
    "                cur_df[\"truth\"] = test_val_df[\"correct_is_right\"].astype(int)\n",
    "                dfs.append(cur_df)\n",
    "                progress_bar.update(test_val_df.shape[0])\n",
    "    print(f\"test val: {metric_val_test.compute()} loss: {np.mean(test_val_loss)}\")\n",
    "    validation_df = pd.concat(dfs)\n",
    "    validation_df.to_csv(get_model_filename(\n",
    "        harness,\n",
    "        MODEL_OUTPUT_BASE,\n",
    "        is_cuda=is_cuda,\n",
    "        ftype=\"validation\",\n",
    "        epoch=None,\n",
    "        ext=\".csv\"))\n",
    "    print(\"correct\")\n",
    "    display(validation_df[validation_df[\"preds\"] == validation_df[\"truth\"]].head())\n",
    "    print(\"incorrect\")\n",
    "    display(validation_df[validation_df[\"preds\"] != validation_df[\"truth\"]].head())"
   ]
  },
  {
   "cell_type": "code",
   "execution_count": 21,
   "id": "211e7f88-ff0c-4bad-bb47-2224bfedbc8b",
   "metadata": {},
   "outputs": [],
   "source": [
    "def embeds(model):\n",
    "    ttgen.reset()\n",
    "    model.eval()\n",
    "    with torch.no_grad():\n",
    "        count = 0\n",
    "        for test_val_df in ttgen.test_validation_dfs():\n",
    "            plefts = tokens(test_val_df[\"parent_left\"])\n",
    "            clefts = tokens(test_val_df[\"child_left\"])\n",
    "            prights = tokens(test_val_df[\"parent_right\"])\n",
    "            crights = tokens(test_val_df[\"child_right\"])\n",
    "            display(model.get_child_embed(\n",
    "                clefts[\"input_ids\"],\n",
    "                clefts[\"attention_mask\"]).cpu().numpy())\n",
    "            display(model.get_child_embed(\n",
    "                crights[\"input_ids\"],\n",
    "                crights[\"attention_mask\"]).cpu().numpy())\n",
    "            count += 1\n",
    "            if count >= 5:\n",
    "                break"
   ]
  },
  {
   "cell_type": "code",
   "execution_count": 22,
   "id": "a98fd1aa-9723-4da8-8fcb-2d9500542f79",
   "metadata": {},
   "outputs": [],
   "source": [
    "def full_run(*, num_epochs, version, force_restart):\n",
    "    model, harness, optimizer = run_training(\n",
    "        num_epochs, version, force_restart)\n",
    "    save_model(model, harness, optimizer)\n",
    "    validation(model, harness)\n",
    "    embeds(model)"
   ]
  },
  {
   "cell_type": "code",
   "execution_count": 23,
   "id": "28cae2dd-05dc-4864-80e2-64977d32ed3c",
   "metadata": {
    "tags": []
   },
   "outputs": [],
   "source": [
    "# for version in range(8):\n",
    "#     full_run(num_epochs=30, version=version, force_restart=False)"
   ]
  },
  {
   "cell_type": "code",
   "execution_count": null,
   "id": "f4a501c5-2870-4b82-b0d3-8df2df93a875",
   "metadata": {},
   "outputs": [
    {
     "name": "stderr",
     "output_type": "stream",
     "text": [
      "Some weights of the model checkpoint at distilbert-base-uncased were not used when initializing DistilBertModel: ['vocab_transform.bias', 'vocab_projector.bias', 'vocab_projector.weight', 'vocab_layer_norm.bias', 'vocab_transform.weight', 'vocab_layer_norm.weight']\n",
      "- This IS expected if you are initializing DistilBertModel from the checkpoint of a model trained on another task or with another architecture (e.g. initializing a BertForSequenceClassification model from a BertForPreTraining model).\n",
      "- This IS NOT expected if you are initializing DistilBertModel from the checkpoint of a model that you expect to be exactly identical (initializing a BertForSequenceClassification model from a BertForSequenceClassification model).\n"
     ]
    },
    {
     "name": "stdout",
     "output_type": "stream",
     "text": [
      "None 0\n",
      "epoch 0 version: -1\n"
     ]
    },
    {
     "data": {
      "application/vnd.jupyter.widget-view+json": {
       "model_id": "4f0570c89f464ad58601bb169388a660",
       "version_major": 2,
       "version_minor": 0
      },
      "text/plain": [
       "train:   0%|          | 0/20000 [00:00<?, ?it/s]"
      ]
     },
     "metadata": {},
     "output_type": "display_data"
    },
    {
     "data": {
      "application/vnd.jupyter.widget-view+json": {
       "model_id": "a6435fd466ee415a9057b41c55b50b65",
       "version_major": 2,
       "version_minor": 0
      },
      "text/plain": [
       "train val:   0%|          | 0/10000 [00:00<?, ?it/s]"
      ]
     },
     "metadata": {},
     "output_type": "display_data"
    },
    {
     "data": {
      "application/vnd.jupyter.widget-view+json": {
       "model_id": "975cdbdf64d34846b67eb541bdd5f0b3",
       "version_major": 2,
       "version_minor": 0
      },
      "text/plain": [
       "test:   0%|          | 0/10000 [00:00<?, ?it/s]"
      ]
     },
     "metadata": {},
     "output_type": "display_data"
    },
    {
     "name": "stdout",
     "output_type": "stream",
     "text": [
      "train: 0.56085 loss: 1.38945310176434\n",
      "train val: 0.5646 loss: 0.9130380945429206\n",
      "test: 0.577 loss: 0.9443815663428977\n",
      "epoch time: 97.83min\n",
      "best model: /mnt/d/workspace/clotho/notebooks/checkpoints/harness_v-1_lg_0.pkl\n",
      "best train: 0.56085\n",
      "best train val: 0.5646\n",
      "best test: 0.577\n",
      "epoch 1 version: -1\n"
     ]
    },
    {
     "data": {
      "application/vnd.jupyter.widget-view+json": {
       "model_id": "260e06e615004614a71e2a03d2b58752",
       "version_major": 2,
       "version_minor": 0
      },
      "text/plain": [
       "train:   0%|          | 0/20000 [00:00<?, ?it/s]"
      ]
     },
     "metadata": {},
     "output_type": "display_data"
    },
    {
     "data": {
      "application/vnd.jupyter.widget-view+json": {
       "model_id": "1b352b66d0ce46b89afdced2ec0c05b7",
       "version_major": 2,
       "version_minor": 0
      },
      "text/plain": [
       "train val:   0%|          | 0/10000 [00:00<?, ?it/s]"
      ]
     },
     "metadata": {},
     "output_type": "display_data"
    },
    {
     "data": {
      "application/vnd.jupyter.widget-view+json": {
       "model_id": "fb496fd45f4349f88b672af88de4ef5a",
       "version_major": 2,
       "version_minor": 0
      },
      "text/plain": [
       "test:   0%|          | 0/10000 [00:00<?, ?it/s]"
      ]
     },
     "metadata": {},
     "output_type": "display_data"
    },
    {
     "name": "stdout",
     "output_type": "stream",
     "text": [
      "train: 0.61815 loss: 0.7195573684424162\n",
      "train val: 0.6458 loss: 0.6127327186256647\n",
      "test: 0.597 loss: 0.7366132311806083\n",
      "epoch time: 97.07min\n",
      "best model: /mnt/d/workspace/clotho/notebooks/checkpoints/harness_v-1_lg_1.pkl\n",
      "best train: 0.61815\n",
      "best train val: 0.6458\n",
      "best test: 0.597\n",
      "epoch 2 version: -1\n"
     ]
    },
    {
     "data": {
      "application/vnd.jupyter.widget-view+json": {
       "model_id": "f7af0b5e647e433e8e05f5e5de70a07f",
       "version_major": 2,
       "version_minor": 0
      },
      "text/plain": [
       "train:   0%|          | 0/20000 [00:00<?, ?it/s]"
      ]
     },
     "metadata": {},
     "output_type": "display_data"
    },
    {
     "data": {
      "application/vnd.jupyter.widget-view+json": {
       "model_id": "1165816a53ff4706a2b44694013bf3bf",
       "version_major": 2,
       "version_minor": 0
      },
      "text/plain": [
       "train val:   0%|          | 0/10000 [00:00<?, ?it/s]"
      ]
     },
     "metadata": {},
     "output_type": "display_data"
    },
    {
     "data": {
      "application/vnd.jupyter.widget-view+json": {
       "model_id": "a18f6eca1b6d4774aeeeb5d5a0feeb23",
       "version_major": 2,
       "version_minor": 0
      },
      "text/plain": [
       "test:   0%|          | 0/10000 [00:00<?, ?it/s]"
      ]
     },
     "metadata": {},
     "output_type": "display_data"
    },
    {
     "name": "stdout",
     "output_type": "stream",
     "text": [
      "train: 0.70825 loss: 0.4987365668807179\n",
      "train val: 0.7209 loss: 0.48274152010558175\n",
      "test: 0.6563 loss: 0.6201377160090953\n",
      "epoch time: 98.35min\n",
      "best model: /mnt/d/workspace/clotho/notebooks/checkpoints/harness_v-1_lg_2.pkl\n",
      "best train: 0.70825\n",
      "best train val: 0.7209\n",
      "best test: 0.6563\n",
      "epoch 3 version: -1\n"
     ]
    },
    {
     "data": {
      "application/vnd.jupyter.widget-view+json": {
       "model_id": "7a0f7c9d398745db9b5c2b7384d2d3de",
       "version_major": 2,
       "version_minor": 0
      },
      "text/plain": [
       "train:   0%|          | 0/20000 [00:00<?, ?it/s]"
      ]
     },
     "metadata": {},
     "output_type": "display_data"
    },
    {
     "data": {
      "application/vnd.jupyter.widget-view+json": {
       "model_id": "cf7d8e40479f4dbdba3a1faca946a551",
       "version_major": 2,
       "version_minor": 0
      },
      "text/plain": [
       "train val:   0%|          | 0/10000 [00:00<?, ?it/s]"
      ]
     },
     "metadata": {},
     "output_type": "display_data"
    },
    {
     "data": {
      "application/vnd.jupyter.widget-view+json": {
       "model_id": "8ad04b1cf3274ec9b393782156061d89",
       "version_major": 2,
       "version_minor": 0
      },
      "text/plain": [
       "test:   0%|          | 0/10000 [00:00<?, ?it/s]"
      ]
     },
     "metadata": {},
     "output_type": "display_data"
    },
    {
     "name": "stdout",
     "output_type": "stream",
     "text": [
      "train: 0.7384 loss: 0.4419358304378111\n",
      "train val: 0.7286 loss: 0.47039060950055717\n",
      "test: 0.6355 loss: 0.6300585457876324\n",
      "epoch time: 98.31min\n",
      "best model: /mnt/d/workspace/clotho/notebooks/checkpoints/harness_v-1_lg_3.pkl\n",
      "best train: 0.7384\n",
      "best train val: 0.7286\n",
      "best test: 0.6355\n",
      "epoch 4 version: -1\n"
     ]
    },
    {
     "data": {
      "application/vnd.jupyter.widget-view+json": {
       "model_id": "a07b4930a23b4efc9d757af4ca4fa752",
       "version_major": 2,
       "version_minor": 0
      },
      "text/plain": [
       "train:   0%|          | 0/20000 [00:00<?, ?it/s]"
      ]
     },
     "metadata": {},
     "output_type": "display_data"
    },
    {
     "data": {
      "application/vnd.jupyter.widget-view+json": {
       "model_id": "eca494fe29bb477480933cc2d8441ca3",
       "version_major": 2,
       "version_minor": 0
      },
      "text/plain": [
       "train val:   0%|          | 0/10000 [00:00<?, ?it/s]"
      ]
     },
     "metadata": {},
     "output_type": "display_data"
    },
    {
     "data": {
      "application/vnd.jupyter.widget-view+json": {
       "model_id": "a18905a60ad24197b0702a3b9cb744a2",
       "version_major": 2,
       "version_minor": 0
      },
      "text/plain": [
       "test:   0%|          | 0/10000 [00:00<?, ?it/s]"
      ]
     },
     "metadata": {},
     "output_type": "display_data"
    },
    {
     "name": "stdout",
     "output_type": "stream",
     "text": [
      "train: 0.73115 loss: 0.45466241342632563\n",
      "train val: 0.7285 loss: 0.4810362111664377\n",
      "test: 0.6395 loss: 0.6366368094600737\n",
      "epoch time: 95.29min\n",
      "best model: /mnt/d/workspace/clotho/notebooks/checkpoints/harness_v-1_lg_3.pkl\n",
      "best train: 0.7384\n",
      "best train val: 0.7286\n",
      "best test: 0.6355\n",
      "epoch 5 version: -1\n"
     ]
    },
    {
     "data": {
      "application/vnd.jupyter.widget-view+json": {
       "model_id": "9ad42bdb94674331a3ff990217f6ef7a",
       "version_major": 2,
       "version_minor": 0
      },
      "text/plain": [
       "train:   0%|          | 0/20000 [00:00<?, ?it/s]"
      ]
     },
     "metadata": {},
     "output_type": "display_data"
    },
    {
     "data": {
      "application/vnd.jupyter.widget-view+json": {
       "model_id": "bfbea614ab6442f6839282d08d68c813",
       "version_major": 2,
       "version_minor": 0
      },
      "text/plain": [
       "train val:   0%|          | 0/10000 [00:00<?, ?it/s]"
      ]
     },
     "metadata": {},
     "output_type": "display_data"
    },
    {
     "data": {
      "application/vnd.jupyter.widget-view+json": {
       "model_id": "be76596cff8c43349ee989008e43b3bd",
       "version_major": 2,
       "version_minor": 0
      },
      "text/plain": [
       "test:   0%|          | 0/10000 [00:00<?, ?it/s]"
      ]
     },
     "metadata": {},
     "output_type": "display_data"
    },
    {
     "name": "stdout",
     "output_type": "stream",
     "text": [
      "train: 0.7381 loss: 0.44120950333508663\n",
      "train val: 0.7187 loss: 0.4886403533383273\n",
      "test: 0.6321 loss: 0.6491294624179602\n",
      "epoch time: 79.75min\n",
      "best model: /mnt/d/workspace/clotho/notebooks/checkpoints/harness_v-1_lg_3.pkl\n",
      "best train: 0.7384\n",
      "best train val: 0.7286\n",
      "best test: 0.6355\n",
      "epoch 6 version: -1\n"
     ]
    },
    {
     "data": {
      "application/vnd.jupyter.widget-view+json": {
       "model_id": "7eed4e8308014f45818f09bf29d4d08c",
       "version_major": 2,
       "version_minor": 0
      },
      "text/plain": [
       "train:   0%|          | 0/20000 [00:00<?, ?it/s]"
      ]
     },
     "metadata": {},
     "output_type": "display_data"
    },
    {
     "data": {
      "application/vnd.jupyter.widget-view+json": {
       "model_id": "d9167d4aa72440fda13cef9b0d672b70",
       "version_major": 2,
       "version_minor": 0
      },
      "text/plain": [
       "train val:   0%|          | 0/10000 [00:00<?, ?it/s]"
      ]
     },
     "metadata": {},
     "output_type": "display_data"
    },
    {
     "data": {
      "application/vnd.jupyter.widget-view+json": {
       "model_id": "ad07a1abdcf04563ad5f189b2776ddb6",
       "version_major": 2,
       "version_minor": 0
      },
      "text/plain": [
       "test:   0%|          | 0/10000 [00:00<?, ?it/s]"
      ]
     },
     "metadata": {},
     "output_type": "display_data"
    },
    {
     "name": "stdout",
     "output_type": "stream",
     "text": [
      "train: 0.7117 loss: 0.5119664853511379\n",
      "train val: 0.6149 loss: 0.6290137491881848\n",
      "test: 0.5461 loss: 0.697455470609665\n",
      "epoch time: 79.19min\n",
      "removing /mnt/d/workspace/clotho/notebooks/checkpoints/stats_v-1_lg_0.json\n",
      "removing /mnt/d/workspace/clotho/notebooks/checkpoints/harness_v-1_lg_0.pkl\n",
      "best model: /mnt/d/workspace/clotho/notebooks/checkpoints/harness_v-1_lg_3.pkl\n",
      "best train: 0.7384\n",
      "best train val: 0.7286\n",
      "best test: 0.6355\n",
      "epoch 7 version: -1\n"
     ]
    },
    {
     "data": {
      "application/vnd.jupyter.widget-view+json": {
       "model_id": "46ebaeb9a30d4c4d892b6cee03cd5094",
       "version_major": 2,
       "version_minor": 0
      },
      "text/plain": [
       "train:   0%|          | 0/20000 [00:00<?, ?it/s]"
      ]
     },
     "metadata": {},
     "output_type": "display_data"
    },
    {
     "data": {
      "application/vnd.jupyter.widget-view+json": {
       "model_id": "72a1c76183fa4b4c88bb1471594f90c7",
       "version_major": 2,
       "version_minor": 0
      },
      "text/plain": [
       "train val:   0%|          | 0/10000 [00:00<?, ?it/s]"
      ]
     },
     "metadata": {},
     "output_type": "display_data"
    },
    {
     "data": {
      "application/vnd.jupyter.widget-view+json": {
       "model_id": "7057e43f76134f14ad3d3f8f96781959",
       "version_major": 2,
       "version_minor": 0
      },
      "text/plain": [
       "test:   0%|          | 0/10000 [00:00<?, ?it/s]"
      ]
     },
     "metadata": {},
     "output_type": "display_data"
    },
    {
     "name": "stdout",
     "output_type": "stream",
     "text": [
      "train: 0.7091 loss: 0.4863916858772747\n",
      "train val: 0.6884 loss: 0.5252088767588139\n",
      "test: 0.597 loss: 0.6791111347079277\n",
      "epoch time: 11.08min\n",
      "removing /mnt/d/workspace/clotho/notebooks/checkpoints/stats_v-1_lg_6.json\n",
      "removing /mnt/d/workspace/clotho/notebooks/checkpoints/harness_v-1_lg_6.pkl\n",
      "best model: /mnt/d/workspace/clotho/notebooks/checkpoints/harness_v-1_lg_3.pkl\n",
      "best train: 0.7384\n",
      "best train val: 0.7286\n",
      "best test: 0.6355\n",
      "epoch 8 version: -1\n"
     ]
    },
    {
     "data": {
      "application/vnd.jupyter.widget-view+json": {
       "model_id": "022416585eb24e208413bc1a3525d33e",
       "version_major": 2,
       "version_minor": 0
      },
      "text/plain": [
       "train:   0%|          | 0/20000 [00:00<?, ?it/s]"
      ]
     },
     "metadata": {},
     "output_type": "display_data"
    },
    {
     "data": {
      "application/vnd.jupyter.widget-view+json": {
       "model_id": "a0da37c29ab24fcbab61173707b95955",
       "version_major": 2,
       "version_minor": 0
      },
      "text/plain": [
       "train val:   0%|          | 0/10000 [00:00<?, ?it/s]"
      ]
     },
     "metadata": {},
     "output_type": "display_data"
    },
    {
     "data": {
      "application/vnd.jupyter.widget-view+json": {
       "model_id": "925623800139403b8df2d5b02a710ac9",
       "version_major": 2,
       "version_minor": 0
      },
      "text/plain": [
       "test:   0%|          | 0/10000 [00:00<?, ?it/s]"
      ]
     },
     "metadata": {},
     "output_type": "display_data"
    },
    {
     "name": "stdout",
     "output_type": "stream",
     "text": [
      "train: 0.7504 loss: 0.41474713635820665\n",
      "train val: 0.7262 loss: 0.4749997805494815\n",
      "test: 0.633 loss: 0.6372083501785993\n",
      "epoch time: 10.15min\n",
      "removing /mnt/d/workspace/clotho/notebooks/checkpoints/stats_v-1_lg_1.json\n",
      "removing /mnt/d/workspace/clotho/notebooks/checkpoints/harness_v-1_lg_1.pkl\n",
      "best model: /mnt/d/workspace/clotho/notebooks/checkpoints/harness_v-1_lg_3.pkl\n",
      "best train: 0.7384\n",
      "best train val: 0.7286\n",
      "best test: 0.6355\n",
      "epoch 9 version: -1\n"
     ]
    },
    {
     "data": {
      "application/vnd.jupyter.widget-view+json": {
       "model_id": "3da35d562941419cb90c8c8728e48006",
       "version_major": 2,
       "version_minor": 0
      },
      "text/plain": [
       "train:   0%|          | 0/20000 [00:00<?, ?it/s]"
      ]
     },
     "metadata": {},
     "output_type": "display_data"
    },
    {
     "data": {
      "application/vnd.jupyter.widget-view+json": {
       "model_id": "9009173fd4ad448c857d7cb90ee6c865",
       "version_major": 2,
       "version_minor": 0
      },
      "text/plain": [
       "train val:   0%|          | 0/10000 [00:00<?, ?it/s]"
      ]
     },
     "metadata": {},
     "output_type": "display_data"
    },
    {
     "data": {
      "application/vnd.jupyter.widget-view+json": {
       "model_id": "6bffbf09c74e4574a907b1a6c00767e6",
       "version_major": 2,
       "version_minor": 0
      },
      "text/plain": [
       "test:   0%|          | 0/10000 [00:00<?, ?it/s]"
      ]
     },
     "metadata": {},
     "output_type": "display_data"
    },
    {
     "name": "stdout",
     "output_type": "stream",
     "text": [
      "train: 0.75555 loss: 0.39908629610524515\n",
      "train val: 0.725 loss: 0.4691934071943164\n",
      "test: 0.6395 loss: 0.5962330000519752\n",
      "epoch time: 9.92min\n",
      "removing /mnt/d/workspace/clotho/notebooks/checkpoints/stats_v-1_lg_7.json\n",
      "removing /mnt/d/workspace/clotho/notebooks/checkpoints/harness_v-1_lg_7.pkl\n",
      "best model: /mnt/d/workspace/clotho/notebooks/checkpoints/harness_v-1_lg_3.pkl\n",
      "best train: 0.7384\n",
      "best train val: 0.7286\n",
      "best test: 0.6355\n",
      "epoch 10 version: -1\n"
     ]
    },
    {
     "data": {
      "application/vnd.jupyter.widget-view+json": {
       "model_id": "bfc99bef43a340ae85d14b1f329b90a4",
       "version_major": 2,
       "version_minor": 0
      },
      "text/plain": [
       "train:   0%|          | 0/20000 [00:00<?, ?it/s]"
      ]
     },
     "metadata": {},
     "output_type": "display_data"
    },
    {
     "data": {
      "application/vnd.jupyter.widget-view+json": {
       "model_id": "88d8170e38214da6963112abb7e48a52",
       "version_major": 2,
       "version_minor": 0
      },
      "text/plain": [
       "train val:   0%|          | 0/10000 [00:00<?, ?it/s]"
      ]
     },
     "metadata": {},
     "output_type": "display_data"
    },
    {
     "data": {
      "application/vnd.jupyter.widget-view+json": {
       "model_id": "8f3018d980e14e11aa1dd48c9bde456d",
       "version_major": 2,
       "version_minor": 0
      },
      "text/plain": [
       "test:   0%|          | 0/10000 [00:00<?, ?it/s]"
      ]
     },
     "metadata": {},
     "output_type": "display_data"
    },
    {
     "name": "stdout",
     "output_type": "stream",
     "text": [
      "train: 0.6656 loss: 0.5723137661572546\n",
      "train val: 0.6997 loss: 0.5801102249622345\n",
      "test: 0.6081 loss: 0.6512970570802689\n",
      "epoch time: 11.60min\n",
      "removing /mnt/d/workspace/clotho/notebooks/checkpoints/stats_v-1_lg_5.json\n",
      "removing /mnt/d/workspace/clotho/notebooks/checkpoints/harness_v-1_lg_5.pkl\n",
      "best model: /mnt/d/workspace/clotho/notebooks/checkpoints/harness_v-1_lg_3.pkl\n",
      "best train: 0.7384\n",
      "best train val: 0.7286\n",
      "best test: 0.6355\n",
      "epoch 11 version: -1\n"
     ]
    },
    {
     "data": {
      "application/vnd.jupyter.widget-view+json": {
       "model_id": "39101987cbfd40b3a9e1949f4983c563",
       "version_major": 2,
       "version_minor": 0
      },
      "text/plain": [
       "train:   0%|          | 0/20000 [00:00<?, ?it/s]"
      ]
     },
     "metadata": {},
     "output_type": "display_data"
    },
    {
     "data": {
      "application/vnd.jupyter.widget-view+json": {
       "model_id": "f11acec15ed14e1397c9dd2f4f92ed99",
       "version_major": 2,
       "version_minor": 0
      },
      "text/plain": [
       "train val:   0%|          | 0/10000 [00:00<?, ?it/s]"
      ]
     },
     "metadata": {},
     "output_type": "display_data"
    },
    {
     "data": {
      "application/vnd.jupyter.widget-view+json": {
       "model_id": "e45100ef86aa4eec9cbe3f434e402b49",
       "version_major": 2,
       "version_minor": 0
      },
      "text/plain": [
       "test:   0%|          | 0/10000 [00:00<?, ?it/s]"
      ]
     },
     "metadata": {},
     "output_type": "display_data"
    },
    {
     "name": "stdout",
     "output_type": "stream",
     "text": [
      "train: 0.663 loss: 0.6155915836295157\n",
      "train val: 0.7101 loss: 0.5370593824446201\n",
      "test: 0.6272 loss: 0.6203643132865428\n",
      "epoch time: 10.27min\n",
      "removing /mnt/d/workspace/clotho/notebooks/checkpoints/stats_v-1_lg_10.json\n",
      "removing /mnt/d/workspace/clotho/notebooks/checkpoints/harness_v-1_lg_10.pkl\n",
      "best model: /mnt/d/workspace/clotho/notebooks/checkpoints/harness_v-1_lg_3.pkl\n",
      "best train: 0.7384\n",
      "best train val: 0.7286\n",
      "best test: 0.6355\n",
      "epoch 12 version: -1\n"
     ]
    },
    {
     "data": {
      "application/vnd.jupyter.widget-view+json": {
       "model_id": "d8a99c7ec14d42e293d85c4f6dcef4e9",
       "version_major": 2,
       "version_minor": 0
      },
      "text/plain": [
       "train:   0%|          | 0/20000 [00:00<?, ?it/s]"
      ]
     },
     "metadata": {},
     "output_type": "display_data"
    },
    {
     "data": {
      "application/vnd.jupyter.widget-view+json": {
       "model_id": "cfd0711572ca417b8e6dc58c7510c107",
       "version_major": 2,
       "version_minor": 0
      },
      "text/plain": [
       "train val:   0%|          | 0/10000 [00:00<?, ?it/s]"
      ]
     },
     "metadata": {},
     "output_type": "display_data"
    },
    {
     "data": {
      "application/vnd.jupyter.widget-view+json": {
       "model_id": "8ab5c060ea1440798d4bd9875e05ff5a",
       "version_major": 2,
       "version_minor": 0
      },
      "text/plain": [
       "test:   0%|          | 0/10000 [00:00<?, ?it/s]"
      ]
     },
     "metadata": {},
     "output_type": "display_data"
    },
    {
     "name": "stdout",
     "output_type": "stream",
     "text": [
      "train: 0.66775 loss: 0.5608567715289071\n",
      "train val: 0.6934 loss: 0.5418759477436542\n",
      "test: 0.6173 loss: 0.6326223272621632\n",
      "epoch time: 79.69min\n",
      "removing /mnt/d/workspace/clotho/notebooks/checkpoints/stats_v-1_lg_11.json\n",
      "removing /mnt/d/workspace/clotho/notebooks/checkpoints/harness_v-1_lg_11.pkl\n",
      "best model: /mnt/d/workspace/clotho/notebooks/checkpoints/harness_v-1_lg_3.pkl\n",
      "best train: 0.7384\n",
      "best train val: 0.7286\n",
      "best test: 0.6355\n",
      "epoch 13 version: -1\n"
     ]
    },
    {
     "data": {
      "application/vnd.jupyter.widget-view+json": {
       "model_id": "9d860a02506c4b7ea35f9b2f1f99726d",
       "version_major": 2,
       "version_minor": 0
      },
      "text/plain": [
       "train:   0%|          | 0/20000 [00:00<?, ?it/s]"
      ]
     },
     "metadata": {},
     "output_type": "display_data"
    },
    {
     "data": {
      "application/vnd.jupyter.widget-view+json": {
       "model_id": "a1b6b16df51e4e53b621c362717e3598",
       "version_major": 2,
       "version_minor": 0
      },
      "text/plain": [
       "train val:   0%|          | 0/10000 [00:00<?, ?it/s]"
      ]
     },
     "metadata": {},
     "output_type": "display_data"
    },
    {
     "data": {
      "application/vnd.jupyter.widget-view+json": {
       "model_id": "1369fca124b941549551c1dabe3f7218",
       "version_major": 2,
       "version_minor": 0
      },
      "text/plain": [
       "test:   0%|          | 0/10000 [00:00<?, ?it/s]"
      ]
     },
     "metadata": {},
     "output_type": "display_data"
    },
    {
     "name": "stdout",
     "output_type": "stream",
     "text": [
      "train: 0.66215 loss: 0.565260159339942\n",
      "train val: 0.6734 loss: 0.562143769866228\n",
      "test: 0.6155 loss: 0.6252480883657933\n",
      "epoch time: 77.96min\n",
      "removing /mnt/d/workspace/clotho/notebooks/checkpoints/stats_v-1_lg_12.json\n",
      "removing /mnt/d/workspace/clotho/notebooks/checkpoints/harness_v-1_lg_12.pkl\n",
      "best model: /mnt/d/workspace/clotho/notebooks/checkpoints/harness_v-1_lg_3.pkl\n",
      "best train: 0.7384\n",
      "best train val: 0.7286\n",
      "best test: 0.6355\n",
      "epoch 14 version: -1\n"
     ]
    },
    {
     "data": {
      "application/vnd.jupyter.widget-view+json": {
       "model_id": "17b23af2325c476a9c35c2e751276365",
       "version_major": 2,
       "version_minor": 0
      },
      "text/plain": [
       "train:   0%|          | 0/20000 [00:00<?, ?it/s]"
      ]
     },
     "metadata": {},
     "output_type": "display_data"
    },
    {
     "data": {
      "application/vnd.jupyter.widget-view+json": {
       "model_id": "1426252be1254c46a1849c483b61ee5e",
       "version_major": 2,
       "version_minor": 0
      },
      "text/plain": [
       "train val:   0%|          | 0/10000 [00:00<?, ?it/s]"
      ]
     },
     "metadata": {},
     "output_type": "display_data"
    },
    {
     "data": {
      "application/vnd.jupyter.widget-view+json": {
       "model_id": "af3006a280014f418a32eab76a50f22f",
       "version_major": 2,
       "version_minor": 0
      },
      "text/plain": [
       "test:   0%|          | 0/10000 [00:00<?, ?it/s]"
      ]
     },
     "metadata": {},
     "output_type": "display_data"
    },
    {
     "name": "stdout",
     "output_type": "stream",
     "text": [
      "train: 0.6664 loss: 0.5638407687030733\n",
      "train val: 0.6989 loss: 0.5676623407661915\n",
      "test: 0.6025 loss: 0.6452380327701569\n",
      "epoch time: 78.82min\n",
      "removing /mnt/d/workspace/clotho/notebooks/checkpoints/stats_v-1_lg_13.json\n",
      "removing /mnt/d/workspace/clotho/notebooks/checkpoints/harness_v-1_lg_13.pkl\n",
      "best model: /mnt/d/workspace/clotho/notebooks/checkpoints/harness_v-1_lg_3.pkl\n",
      "best train: 0.7384\n",
      "best train val: 0.7286\n",
      "best test: 0.6355\n",
      "epoch 15 version: -1\n"
     ]
    },
    {
     "data": {
      "application/vnd.jupyter.widget-view+json": {
       "model_id": "604425657b1c48a89e4d008a1b33bef3",
       "version_major": 2,
       "version_minor": 0
      },
      "text/plain": [
       "train:   0%|          | 0/20000 [00:00<?, ?it/s]"
      ]
     },
     "metadata": {},
     "output_type": "display_data"
    },
    {
     "data": {
      "application/vnd.jupyter.widget-view+json": {
       "model_id": "ba611e87381a49a9a603c3838f296edf",
       "version_major": 2,
       "version_minor": 0
      },
      "text/plain": [
       "train val:   0%|          | 0/10000 [00:00<?, ?it/s]"
      ]
     },
     "metadata": {},
     "output_type": "display_data"
    },
    {
     "data": {
      "application/vnd.jupyter.widget-view+json": {
       "model_id": "16548aa058c44b5da51125fcfc50c3fe",
       "version_major": 2,
       "version_minor": 0
      },
      "text/plain": [
       "test:   0%|          | 0/10000 [00:00<?, ?it/s]"
      ]
     },
     "metadata": {},
     "output_type": "display_data"
    }
   ],
   "source": [
    "full_run(num_epochs=30, version=-1, force_restart=False)"
   ]
  },
  {
   "cell_type": "code",
   "execution_count": null,
   "id": "de6e5294-644a-4ae7-8eff-06e8ec593037",
   "metadata": {},
   "outputs": [],
   "source": [
    "full_run(num_epochs=30, version=7, force_restart=False)"
   ]
  },
  {
   "cell_type": "code",
   "execution_count": null,
   "id": "01bc6a02-fccc-4ebd-aa12-42f1887bc2ba",
   "metadata": {},
   "outputs": [],
   "source": [
    "full_run(num_epochs=30, version=0, force_restart=False)"
   ]
  },
  {
   "cell_type": "code",
   "execution_count": null,
   "id": "4bb7b7fd-7e2d-4253-8192-f670106b8702",
   "metadata": {},
   "outputs": [],
   "source": [
    "full_run(num_epochs=30, version=5, force_restart=False)"
   ]
  },
  {
   "cell_type": "code",
   "execution_count": null,
   "id": "f5f22222-b2bd-4af9-bd14-254d394a9575",
   "metadata": {},
   "outputs": [],
   "source": [
    "full_run(num_epochs=60, version=-1, force_restart=False)"
   ]
  },
  {
   "cell_type": "code",
   "execution_count": null,
   "id": "a274797a-104c-4aba-87e4-8ac860c7b6b9",
   "metadata": {},
   "outputs": [],
   "source": [
    "full_run(num_epochs=60, version=7, force_restart=False)"
   ]
  },
  {
   "cell_type": "code",
   "execution_count": null,
   "id": "d20325a9-6827-4eb0-988e-4c5d9a8791dd",
   "metadata": {},
   "outputs": [],
   "source": [
    "full_run(num_epochs=60, version=0, force_restart=False)"
   ]
  },
  {
   "cell_type": "code",
   "execution_count": null,
   "id": "b08e677f-9171-4bb0-8ad2-11dfb550a56d",
   "metadata": {},
   "outputs": [],
   "source": [
    "full_run(num_epochs=60, version=5, force_restart=False)"
   ]
  },
  {
   "cell_type": "code",
   "execution_count": null,
   "id": "b973aae0-24c0-4866-aded-d815291112d6",
   "metadata": {},
   "outputs": [],
   "source": [
    "full_run(num_epochs=90, version=-1, force_restart=False)"
   ]
  },
  {
   "cell_type": "code",
   "execution_count": null,
   "id": "b8129b19-aec9-474f-ab8c-9805c2989ea1",
   "metadata": {},
   "outputs": [],
   "source": [
    "full_run(num_epochs=90, version=7, force_restart=False)"
   ]
  },
  {
   "cell_type": "code",
   "execution_count": null,
   "id": "e1303bc8-be04-4280-a6b9-d96f0dcccb93",
   "metadata": {},
   "outputs": [],
   "source": [
    "full_run(num_epochs=90, version=0, force_restart=False)"
   ]
  },
  {
   "cell_type": "code",
   "execution_count": null,
   "id": "70f99d8a-422f-42e5-b950-8ce08f3eacb1",
   "metadata": {},
   "outputs": [],
   "source": [
    "full_run(num_epochs=90, version=5, force_restart=False)"
   ]
  },
  {
   "cell_type": "code",
   "execution_count": null,
   "id": "a296d879-ace0-4c46-a0a5-e0e161a8742e",
   "metadata": {},
   "outputs": [],
   "source": [
    "full_run(num_epochs=120, version=-1, force_restart=False)"
   ]
  },
  {
   "cell_type": "code",
   "execution_count": null,
   "id": "a15e9ab6-0327-4e6c-b308-0b2b9673b73e",
   "metadata": {},
   "outputs": [],
   "source": [
    "full_run(num_epochs=120, version=7, force_restart=False)"
   ]
  },
  {
   "cell_type": "code",
   "execution_count": null,
   "id": "01e79c85-14f8-4302-8cf6-21be9e19562c",
   "metadata": {},
   "outputs": [],
   "source": [
    "full_run(num_epochs=120, version=0, force_restart=False)"
   ]
  },
  {
   "cell_type": "code",
   "execution_count": null,
   "id": "fde8d78f-327b-43d6-abaa-96b3784c871c",
   "metadata": {},
   "outputs": [],
   "source": [
    "full_run(num_epochs=120, version=5, force_restart=False)"
   ]
  },
  {
   "cell_type": "code",
   "execution_count": null,
   "id": "38f1fc11-2b71-4453-a6fa-3a73de48f9f6",
   "metadata": {},
   "outputs": [],
   "source": []
  }
 ],
 "metadata": {
  "kernelspec": {
   "display_name": "Python [conda env:clotho]",
   "language": "python",
   "name": "conda-env-clotho-py"
  },
  "language_info": {
   "codemirror_mode": {
    "name": "ipython",
    "version": 3
   },
   "file_extension": ".py",
   "mimetype": "text/x-python",
   "name": "python",
   "nbconvert_exporter": "python",
   "pygments_lexer": "ipython3",
   "version": "3.10.6"
  }
 },
 "nbformat": 4,
 "nbformat_minor": 5
}

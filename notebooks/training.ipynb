{
 "cells": [
  {
   "cell_type": "code",
   "execution_count": 1,
   "id": "7c1265ba-c76b-4424-b577-a322e6b512af",
   "metadata": {},
   "outputs": [],
   "source": [
    "# in a terminal run\n",
    "# > USER_PATH=/home/krause/userdata/ make run-redis NS=train\n",
    "# > USER_PATH=/home/krause/userdata/ make run-redis NS=test\n",
    "# to allow access to the train and test namespaces"
   ]
  },
  {
   "cell_type": "code",
   "execution_count": 2,
   "id": "4e21c530-5f85-4b18-b9ed-c2fbe591b52f",
   "metadata": {},
   "outputs": [],
   "source": [
    "import os\n",
    "import sys\n",
    "import json\n",
    "import pandas as pd\n",
    "import numpy as np\n",
    "from typing import Literal, TypedDict"
   ]
  },
  {
   "cell_type": "code",
   "execution_count": 3,
   "id": "62721599-23d3-405a-bbb2-88a6f0a17a17",
   "metadata": {},
   "outputs": [],
   "source": [
    "sys.path.append(\"..\")\n",
    "os.environ[\"USER_PATH\"] = \"/home/krause/userdata/\"\n",
    "MODEL_OUTPUT_BASE = \"/mnt/d/workspace/clotho/notebooks\"\n",
    "MODEL_OUTPUT_CP = os.path.join(MODEL_OUTPUT_BASE, \"checkpoints\")"
   ]
  },
  {
   "cell_type": "code",
   "execution_count": 4,
   "id": "82c6f1c7-607b-479d-b2f6-3483cb91a57d",
   "metadata": {},
   "outputs": [],
   "source": [
    "from misc.redis import set_redis_slow_mode\n",
    "from misc.util import highest_number\n",
    "from misc.io import open_write\n",
    "from model.datagenerator import create_train_test\n",
    "from model.transformer_embed import (\n",
    "    get_epoch_and_load,\n",
    "    limit_epoch_data,\n",
    "    limit_epoch_data,\n",
    "    get_model_filename,\n",
    ")\n",
    "from system.namespace.store import get_namespace"
   ]
  },
  {
   "cell_type": "code",
   "execution_count": 5,
   "id": "1d8c7e9a-fa89-435d-a0a2-0a492056581e",
   "metadata": {},
   "outputs": [
    {
     "data": {
      "text/plain": [
       "True"
      ]
     },
     "execution_count": 5,
     "metadata": {},
     "output_type": "execute_result"
    }
   ],
   "source": [
    "import torch\n",
    "\n",
    "is_cuda = torch.cuda.is_available()\n",
    "is_cuda"
   ]
  },
  {
   "cell_type": "code",
   "execution_count": 6,
   "id": "0a897205-0707-4928-860d-5e8d58cef31a",
   "metadata": {},
   "outputs": [],
   "source": [
    "set_redis_slow_mode(\"never\")\n",
    "ns_test = get_namespace(\"test\")\n",
    "ns_train = get_namespace(\"train\")\n",
    "now = pd.Timestamp(\"2022-12-17\", tz=\"UTC\")\n",
    "train_plan = [\n",
    "    {\n",
    "        \"left\": {\"mode\": \"valid\", \"flip_pc\": 1.0},\n",
    "        \"right\": {\"mode\": \"valid\", \"flip_pc\": 0.0},\n",
    "        \"min_text_length\": None,\n",
    "        \"skip_weak\": False,\n",
    "        \"skip_topics\": True,\n",
    "        \"flip_lr\": 0.5,\n",
    "        \"first_epoch\": 10,\n",
    "        \"last_epoch\": None,\n",
    "        \"weight\": 50,\n",
    "    },\n",
    "    {\n",
    "        \"left\": {\"mode\": \"valid\", \"flip_pc\": 1.0},\n",
    "        \"right\": {\"mode\": \"valid\", \"flip_pc\": 0.0},\n",
    "        \"min_text_length\": None,\n",
    "        \"skip_weak\": False,\n",
    "        \"skip_topics\": True,\n",
    "        \"flip_lr\": 0.5,\n",
    "        \"first_epoch\": 10,\n",
    "        \"last_epoch\": None,\n",
    "        \"weight\": 50,\n",
    "    },\n",
    "    {\n",
    "        \"left\": {\"mode\": \"random\", \"flip_pc\": 0.0},\n",
    "        \"right\": {\"mode\": \"path\", \"flip_pc\": 0.0},\n",
    "        \"min_text_length\": None,\n",
    "        \"skip_weak\": True,\n",
    "        \"skip_topics\": True,\n",
    "        \"flip_lr\": 0.5,\n",
    "        \"first_epoch\": None,\n",
    "        \"last_epoch\": None,\n",
    "        \"weight\": 60,\n",
    "    },\n",
    "    {\n",
    "        \"left\": None,\n",
    "        \"right\": {\"mode\": \"path\", \"flip_pc\": 0.0},\n",
    "        \"min_text_length\": None,\n",
    "        \"skip_weak\": True,\n",
    "        \"skip_topics\": True,\n",
    "        \"flip_lr\": 0.5,\n",
    "        \"first_epoch\": None,\n",
    "        \"last_epoch\": None,\n",
    "        \"weight\": 40,\n",
    "    },\n",
    "     {\n",
    "        \"left\": {\"mode\": \"random\", \"flip_pc\": 0.0},\n",
    "        \"right\": {\"mode\": \"path\", \"flip_pc\": 0.0},\n",
    "        \"min_text_length\": None,\n",
    "        \"skip_weak\": False,\n",
    "        \"skip_topics\": True,\n",
    "        \"flip_lr\": 0.5,\n",
    "        \"first_epoch\": 5,\n",
    "        \"last_epoch\": None,\n",
    "        \"weight\": 60,\n",
    "    },\n",
    "    {\n",
    "        \"left\": None,\n",
    "        \"right\": {\"mode\": \"path\", \"flip_pc\": 0.0},\n",
    "        \"min_text_length\": None,\n",
    "        \"skip_weak\": True,\n",
    "        \"skip_topics\": True,\n",
    "        \"flip_lr\": 0.5,\n",
    "        \"first_epoch\": 5,\n",
    "        \"last_epoch\": None,\n",
    "        \"weight\": 40,\n",
    "    },\n",
    "    {\n",
    "        \"left\": {\"mode\": \"random\", \"flip_pc\": 0.0},\n",
    "        \"right\": {\"mode\": \"valid\", \"flip_pc\": 0.0},\n",
    "        \"min_text_length\": None,\n",
    "        \"skip_weak\": True,\n",
    "        \"skip_topics\": True,\n",
    "        \"flip_lr\": 0.5,\n",
    "        \"first_epoch\": None,\n",
    "        \"last_epoch\": None,\n",
    "        \"weight\": 60,\n",
    "    },\n",
    "    {\n",
    "        \"left\": None,\n",
    "        \"right\": {\"mode\": \"valid\", \"flip_pc\": 0.0},\n",
    "        \"min_text_length\": None,\n",
    "        \"skip_weak\": True,\n",
    "        \"skip_topics\": True,\n",
    "        \"flip_lr\": 0.5,\n",
    "        \"first_epoch\": None,\n",
    "        \"last_epoch\": None,\n",
    "        \"weight\": 40,\n",
    "    },\n",
    "    {\n",
    "        \"left\": {\"mode\": \"valid\", \"flip_pc\": 1.0},\n",
    "        \"right\": {\"mode\": \"valid\", \"flip_pc\": 0.0},\n",
    "        \"min_text_length\": None,\n",
    "        \"skip_weak\": False,\n",
    "        \"skip_topics\": True,\n",
    "        \"flip_lr\": 0.5,\n",
    "        \"first_epoch\": 15,\n",
    "        \"last_epoch\": None,\n",
    "        \"weight\": 50,\n",
    "    }\n",
    "]\n",
    "eval_plan = [\n",
    "    {\n",
    "        \"left\": {\"mode\": \"random\", \"flip_pc\": 0.0},\n",
    "        \"right\": {\"mode\": \"valid\", \"flip_pc\": 0.0},\n",
    "        \"min_text_length\": None,\n",
    "        \"skip_weak\": False,\n",
    "        \"skip_topics\": True,\n",
    "        \"flip_lr\": 0.5,\n",
    "        \"weight\": 60,\n",
    "    },\n",
    "    {\n",
    "        \"left\": None,\n",
    "        \"right\": {\"mode\": \"valid\", \"flip_pc\": 0.0},\n",
    "        \"min_text_length\": None,\n",
    "        \"skip_weak\": False,\n",
    "        \"skip_topics\": True,\n",
    "        \"flip_lr\": 0.5,\n",
    "        \"weight\": 40,\n",
    "    },\n",
    "    {\n",
    "        \"left\": {\"mode\": \"random\", \"flip_pc\": 0.0},\n",
    "        \"right\": {\"mode\": \"valid\", \"flip_pc\": 0.0},\n",
    "        \"min_text_length\": None,\n",
    "        \"skip_weak\": False,\n",
    "        \"skip_topics\": True,\n",
    "        \"flip_lr\": 0.5,\n",
    "        \"weight\": 60,\n",
    "    },\n",
    "    {\n",
    "        \"left\": None,\n",
    "        \"right\": {\"mode\": \"valid\", \"flip_pc\": 0.0},\n",
    "        \"min_text_length\": None,\n",
    "        \"skip_weak\": False,\n",
    "        \"skip_topics\": True,\n",
    "        \"flip_lr\": 0.5,\n",
    "        \"weight\": 40,\n",
    "    },\n",
    "]\n",
    "ttgen = create_train_test(\n",
    "    train_ns=ns_train,\n",
    "    train_validation_ns=ns_train,\n",
    "    test_ns=ns_test,\n",
    "    test_validation_ns=ns_test,\n",
    "    train_learning_plan=train_plan,\n",
    "    train_val_learning_plan=eval_plan,\n",
    "    test_learning_plan=eval_plan,\n",
    "    test_val_learning_plan=eval_plan,\n",
    "    batch_size=4 if is_cuda else 8,\n",
    "    epoch_batches=5000 if is_cuda else 500,\n",
    "    train_val_size=10000 if is_cuda else 1000,\n",
    "    test_size=10000 if is_cuda else 1000,\n",
    "    test_val_size=10000 if is_cuda else 1000,\n",
    "    compute_batch_size=100 if is_cuda else 100,\n",
    "    now=now)"
   ]
  },
  {
   "cell_type": "code",
   "execution_count": 7,
   "id": "9d7acd4d-0d4a-481f-901b-3e524ee02c6f",
   "metadata": {},
   "outputs": [],
   "source": [
    "import torch.nn as nn\n",
    "from torch.optim import AdamW\n",
    "from transformers import DistilBertTokenizer, DistilBertModel"
   ]
  },
  {
   "cell_type": "code",
   "execution_count": 8,
   "id": "927dbcbe-6df3-49c9-8449-041b1ab7a168",
   "metadata": {},
   "outputs": [
    {
     "data": {
      "text/plain": [
       "device(type='cuda')"
      ]
     },
     "execution_count": 8,
     "metadata": {},
     "output_type": "execute_result"
    }
   ],
   "source": [
    "device = torch.device(\"cuda\") if is_cuda else torch.device(\"cpu\")\n",
    "device"
   ]
  },
  {
   "cell_type": "code",
   "execution_count": 17,
   "id": "00819f53-a953-4b85-bcf8-6cba59a8bb67",
   "metadata": {},
   "outputs": [],
   "source": [
    "ProviderRole = Literal[\"child\", \"parent\"]\n",
    "\n",
    "tokenizer = DistilBertTokenizer.from_pretrained(\"distilbert-base-uncased\")\n",
    "EMBED_SIZE = 768\n",
    "\n",
    "TokenizedInput = TypedDict('TokenizedInput', {\n",
    "    \"input_ids\": torch.Tensor,\n",
    "    \"attention_mask\": torch.Tensor,\n",
    "})\n",
    "\n",
    "\n",
    "AggType = Literal[\"cls\", \"mean\"]\n",
    "AGG_CLS: AggType = \"cls\"\n",
    "AGG_MEAN: AggType = \"mean\"\n",
    "\n",
    "\n",
    "def tokens(texts: list[str]) -> TokenizedInput:\n",
    "    res = tokenizer(texts.tolist(), return_tensors=\"pt\", padding=True, truncation=True)\n",
    "    return {k: v.to(device) for k, v in res.items()}\n",
    "\n",
    "\n",
    "class Noise(nn.Module):\n",
    "    def __init__(self, std: float = 1.0, p: float = 0.5) -> None:\n",
    "        super().__init__()\n",
    "        self._std = std\n",
    "        self._p = p\n",
    "        self._dhold = nn.Parameter(torch.Tensor([0.0]), requires_grad=False)\n",
    "\n",
    "    def set_std(self, std: float) -> None:\n",
    "        self._std = std\n",
    "\n",
    "    def get_std(self) -> float:\n",
    "        return self._std\n",
    "\n",
    "    def forward(self, x: torch.Tensor) -> torch.Tensor:\n",
    "        if not self.training:\n",
    "            return x\n",
    "        prob = torch.rand(size=x.shape, device=self._dhold.device) < self._p\n",
    "        gauss = torch.normal(\n",
    "            mean=0.0, std=self._std, size=x.shape, device=self._dhold.device)\n",
    "        return x + prob * gauss\n",
    "\n",
    "\n",
    "class Model(nn.Module):\n",
    "    def __init__(self, version: int) -> None:\n",
    "        super().__init__()\n",
    "        assert version >= 0\n",
    "        self._bert_parent = DistilBertModel.from_pretrained(\n",
    "            \"distilbert-base-uncased\")\n",
    "        self._bert_child = DistilBertModel.from_pretrained(\n",
    "            \"distilbert-base-uncased\")\n",
    "        if version in (1, 3, 4, 6):\n",
    "            self._pdense: nn.Sequential | None = nn.Sequential(\n",
    "                nn.Linear(EMBED_SIZE, EMBED_SIZE),\n",
    "                nn.Dropout(p=0.2),\n",
    "                nn.ReLU(),\n",
    "                nn.Linear(EMBED_SIZE, EMBED_SIZE))\n",
    "            self._cdense: nn.Sequential | None = nn.Sequential(\n",
    "                nn.Linear(EMBED_SIZE, EMBED_SIZE),\n",
    "                nn.Dropout(p=0.2),\n",
    "                nn.ReLU(),\n",
    "                nn.Linear(EMBED_SIZE, EMBED_SIZE))\n",
    "        else:\n",
    "            self._pdense = None\n",
    "            self._cdense = None\n",
    "        if version < 4 or version > 5:\n",
    "            self._noise = None\n",
    "        else:\n",
    "            self._noise = Noise(std=1.0, p=0.2)\n",
    "        if version < 2 or version > 4:\n",
    "            self._cos = None\n",
    "        else:\n",
    "            self._cos = torch.nn.CosineSimilarity()\n",
    "        if version < 6:\n",
    "            self._agg = AGG_CLS\n",
    "        else:\n",
    "            self._agg = AGG_MEAN\n",
    "        self._version = version\n",
    "\n",
    "    def set_epoch(self, epoch: int) -> None:\n",
    "        noise = self._noise\n",
    "        if noise is not None:\n",
    "            noise.set_std(1 / (1.2 ** epoch))\n",
    "\n",
    "    def get_version(self) -> int:\n",
    "        return self._version\n",
    "\n",
    "    def get_agg(self, lhs: torch.Tensor) -> torch.Tensor:\n",
    "        if self._agg == AGG_CLS:\n",
    "            return lhs[:, 0]\n",
    "        if self._agg == AGG_MEAN:\n",
    "            return torch.mean(lhs, dim=1)\n",
    "        raise ValueError(f\"unknown aggregation: {self._agg}\")\n",
    "\n",
    "    def get_parent_embed(\n",
    "            self,\n",
    "            input_ids: torch.Tensor,\n",
    "            attention_mask: torch.Tensor) -> torch.Tensor:\n",
    "        outputs_parent = self._bert_parent(\n",
    "            input_ids=input_ids, attention_mask=attention_mask)\n",
    "        out = self.get_agg(outputs_parent.last_hidden_state)\n",
    "        if self._pdense is not None:\n",
    "            out = self._pdense(out)\n",
    "        if self._noise is not None:\n",
    "            out = self._noise(out)\n",
    "        return out\n",
    "\n",
    "    def get_child_embed(\n",
    "            self,\n",
    "            input_ids: torch.Tensor,\n",
    "            attention_mask: torch.Tensor) -> torch.Tensor:\n",
    "        outputs_child = self._bert_child(\n",
    "            input_ids=input_ids, attention_mask=attention_mask)\n",
    "        out = self.get_agg(outputs_child.last_hidden_state)\n",
    "        if self._cdense is not None:\n",
    "            out = self._cdense(out)\n",
    "        if self._noise is not None:\n",
    "            out = self._noise(out)\n",
    "        return out\n",
    "\n",
    "    def forward(self, x: dict[ProviderRole, TokenizedInput]) -> torch.Tensor:\n",
    "        parent_cls = self.get_parent_embed(\n",
    "            input_ids=x[\"parent\"][\"input_ids\"],\n",
    "            attention_mask=x[\"parent\"][\"attention_mask\"])\n",
    "        child_cls = self.get_child_embed(\n",
    "            input_ids=x[\"child\"][\"input_ids\"],\n",
    "            attention_mask=x[\"child\"][\"attention_mask\"])\n",
    "        if self._cos is not None:\n",
    "            return self._cos(parent_cls, child_cls).reshape([-1, 1])\n",
    "        batch_size = parent_cls.shape[0]\n",
    "        return torch.bmm(\n",
    "            parent_cls.reshape([batch_size, 1, -1]),\n",
    "            child_cls.reshape([batch_size, -1, 1])).reshape([-1, 1])\n",
    "\n",
    "\n",
    "class BaselineModel(nn.Module):\n",
    "    def __init__(self, version: int) -> None:\n",
    "        super().__init__()\n",
    "        assert version < 0\n",
    "        self._bert = DistilBertModel.from_pretrained(\n",
    "            \"distilbert-base-uncased\")\n",
    "        if version == -2:\n",
    "            self._agg = AGG_CLS\n",
    "        else:\n",
    "            self._agg = AGG_MEAN\n",
    "        self._version = version\n",
    "\n",
    "    def set_epoch(self, epoch: int) -> None:\n",
    "        pass\n",
    "\n",
    "    def get_version(self) -> int:\n",
    "        return self._version\n",
    "\n",
    "    def get_agg(self, lhs: torch.Tensor) -> torch.Tensor:\n",
    "        if self._agg == AGG_CLS:\n",
    "            return lhs[:, 0]\n",
    "        if self._agg == AGG_MEAN:\n",
    "            return torch.mean(lhs, dim=1)\n",
    "        raise ValueError(f\"unknown aggregation: {self._agg}\")\n",
    "\n",
    "    def _embed(\n",
    "            self,\n",
    "            input_ids: torch.Tensor,\n",
    "            attention_mask: torch.Tensor) -> torch.Tensor:\n",
    "        outputs = self._bert(\n",
    "            input_ids=input_ids, attention_mask=attention_mask)\n",
    "        return self.get_agg(outputs.last_hidden_state)\n",
    "\n",
    "    def get_parent_embed(\n",
    "            self,\n",
    "            input_ids: torch.Tensor,\n",
    "            attention_mask: torch.Tensor) -> torch.Tensor:\n",
    "        return self._embed(input_ids, attention_mask)\n",
    "\n",
    "    def get_child_embed(\n",
    "            self,\n",
    "            input_ids: torch.Tensor,\n",
    "            attention_mask: torch.Tensor) -> torch.Tensor:\n",
    "        return self._embed(input_ids, attention_mask)\n",
    "\n",
    "    def forward(self, x: dict[ProviderRole, TokenizedInput]) -> torch.Tensor:\n",
    "        parent_cls = self.get_parent_embed(\n",
    "            input_ids=x[\"parent\"][\"input_ids\"],\n",
    "            attention_mask=x[\"parent\"][\"attention_mask\"])\n",
    "        child_cls = self.get_child_embed(\n",
    "            input_ids=x[\"child\"][\"input_ids\"],\n",
    "            attention_mask=x[\"child\"][\"attention_mask\"])\n",
    "        batch_size = parent_cls.shape[0]\n",
    "        return torch.bmm(\n",
    "            parent_cls.reshape([batch_size, 1, -1]),\n",
    "            child_cls.reshape([batch_size, -1, 1])).reshape([-1, 1])\n",
    "\n",
    "\n",
    "EitherModel = Model | BaselineModel\n",
    "\n",
    "\n",
    "class TrainingHarness(nn.Module):\n",
    "    def __init__(self, model: EitherModel) -> None:\n",
    "        super().__init__()\n",
    "        self._model = model\n",
    "        self._softmax = nn.Softmax(dim=1)\n",
    "        self._loss = nn.BCELoss()\n",
    "\n",
    "    def get_version(self) -> int:\n",
    "        return self._model.get_version()\n",
    "\n",
    "    def forward(\n",
    "            self,\n",
    "            left: TokenizedInput,\n",
    "            right: TokenizedInput,\n",
    "            labels: torch.Tensor) -> tuple[torch.Tensor, torch.Tensor]:\n",
    "        out_left = self._model(left)\n",
    "        out_right = self._model(right)\n",
    "        preds = self._softmax(torch.hstack((out_left, out_right)))\n",
    "        return preds, self._loss(preds, labels)"
   ]
  },
  {
   "cell_type": "code",
   "execution_count": 18,
   "id": "6cde9030-931f-4f80-a118-d7f5ef2677d9",
   "metadata": {
    "tags": []
   },
   "outputs": [],
   "source": [
    "from transformers import get_scheduler\n",
    "# from tqdm.notebook import tqdm\n",
    "from tqdm.auto import tqdm\n",
    "import evaluate\n",
    "import time\n",
    "\n",
    "\n",
    "def create_model(version: int) -> EitherModel:\n",
    "    return Model(version) if version >= 0 else BaselineModel(version)\n",
    "\n",
    "\n",
    "def compute(harness, df):\n",
    "    plefts = tokens(df[\"parent_left\"])\n",
    "    clefts = tokens(df[\"child_left\"])\n",
    "    prights = tokens(df[\"parent_right\"])\n",
    "    crights = tokens(df[\"child_right\"])\n",
    "    labels = torch.tensor(\n",
    "        [~df[\"correct_is_right\"], df[\"correct_is_right\"]],\n",
    "        dtype=torch.float32).T.to(device)\n",
    "    return harness(\n",
    "        left={\"parent\": plefts, \"child\": clefts},\n",
    "        right={\"parent\": prights, \"child\": crights},\n",
    "        labels=labels)\n",
    "\n",
    "\n",
    "def run_training(num_epochs, version, force_restart):\n",
    "    model = create_model(version)\n",
    "    model.to(device)\n",
    "    harness = TrainingHarness(model)\n",
    "    harness.to(device)\n",
    "\n",
    "    mprev, epoch_offset = get_epoch_and_load(\n",
    "        harness,\n",
    "        MODEL_OUTPUT_CP,\n",
    "        ftype=\"harness\",\n",
    "        is_cuda=is_cuda,\n",
    "        device=device,\n",
    "        force_restart=force_restart)\n",
    "\n",
    "    optimizer = AdamW(harness.parameters(), lr=5e-5)\n",
    "    print(mprev, epoch_offset)\n",
    "    \n",
    "    num_epochs -= epoch_offset\n",
    "    if num_epochs <= 0:\n",
    "        print(\"already computed all epochs. nothing to do!\")\n",
    "        return model, harness, optimizer\n",
    "    \n",
    "    num_training_steps = num_epochs * ttgen.get_epoch_train_size()\n",
    "    warmup = 10000 if is_cuda else 10\n",
    "    lr_scheduler = get_scheduler(\n",
    "        name=\"linear\",\n",
    "        optimizer=optimizer,\n",
    "        num_warmup_steps=warmup,\n",
    "        num_training_steps=num_training_steps - warmup)\n",
    "    ttgen.set_epoch(epoch_offset)\n",
    "    \n",
    "    log_csv = get_model_filename(\n",
    "        harness,\n",
    "        MODEL_OUTPUT_BASE,\n",
    "        is_cuda=is_cuda,\n",
    "        ftype=\"val_log\",\n",
    "        epoch=None,\n",
    "        ext=\".csv\")\n",
    "    columns = [\n",
    "        \"epoch\",\n",
    "        \"train_acc\",\n",
    "        \"train_loss\",\n",
    "        \"train_val_acc\",\n",
    "        \"train_val_loss\",\n",
    "        \"test_acc\",\n",
    "        \"test_loss\",\n",
    "        \"time\",\n",
    "        \"version\",\n",
    "        \"fname\",\n",
    "    ]\n",
    "    if not os.path.exists(log_csv):\n",
    "        pd.DataFrame([], columns=columns).to_csv(\n",
    "            log_csv, header=True, mode=\"w\", columns=columns)\n",
    "\n",
    "    for _ in range(num_epochs):\n",
    "        epoch = ttgen.get_epoch()\n",
    "        print(f\"epoch {epoch} version: {harness.get_version()}\")\n",
    "        real_time = time.monotonic()\n",
    "\n",
    "        model.train()\n",
    "        harness.train()\n",
    "        model.set_epoch(epoch)\n",
    "        metric_train = evaluate.load(\"accuracy\")\n",
    "        train_loss = []\n",
    "        first = True\n",
    "        with tqdm(desc=\"train\", total=ttgen.get_epoch_train_size()) as progress_bar:\n",
    "            for train_df in ttgen.train_dfs():\n",
    "                preds, loss = compute(harness, train_df)\n",
    "                train_loss.append(loss.item())\n",
    "                loss.backward()\n",
    "\n",
    "                optimizer.step()\n",
    "                lr_scheduler.step()\n",
    "                optimizer.zero_grad()\n",
    "                progress_bar.update(train_df.shape[0])\n",
    "\n",
    "                predictions = torch.argmax(preds, dim=-1)\n",
    "                metric_train.add_batch(\n",
    "                    predictions=predictions,\n",
    "                    references=train_df[\"correct_is_right\"].astype(int))\n",
    "                if first:\n",
    "                    # display(train_df)\n",
    "                    first = False\n",
    "\n",
    "        model_fname = get_model_filename(\n",
    "            harness,\n",
    "            MODEL_OUTPUT_CP,\n",
    "            is_cuda=is_cuda,\n",
    "            ftype=\"harness\",\n",
    "            epoch=epoch)\n",
    "        torch.save(harness.state_dict(), model_fname)\n",
    "\n",
    "        model.eval()\n",
    "        harness.eval()\n",
    "        with torch.no_grad():\n",
    "            metric_val_train = evaluate.load(\"accuracy\")\n",
    "            train_val_loss = []\n",
    "            with tqdm(desc=\"train val\", total=ttgen.get_epoch_train_validation_size()) as progress_bar:\n",
    "                for train_validation_df in ttgen.train_validation_dfs():\n",
    "                    preds, loss = compute(harness, train_validation_df)\n",
    "                    train_val_loss.append(loss.item())\n",
    "                    predictions = torch.argmax(preds, dim=-1)\n",
    "                    metric_val_train.add_batch(\n",
    "                        predictions=predictions,\n",
    "                        references=train_validation_df[\"correct_is_right\"].astype(int))\n",
    "                    progress_bar.update(train_validation_df.shape[0])\n",
    "\n",
    "            metric_test = evaluate.load(\"accuracy\")\n",
    "            test_loss = []\n",
    "            with tqdm(desc=\"test\", total=ttgen.get_epoch_test_size()) as progress_bar:\n",
    "                for test_df in ttgen.test_dfs():\n",
    "                    preds, loss = compute(harness, test_df)\n",
    "                    test_loss.append(loss.item())\n",
    "                    predictions = torch.argmax(preds, dim=-1)\n",
    "                    metric_test.add_batch(\n",
    "                        predictions=predictions,\n",
    "                        references=test_df[\"correct_is_right\"].astype(int))\n",
    "                    progress_bar.update(test_df.shape[0])\n",
    "            stats = {\n",
    "                \"epoch\": int(epoch),\n",
    "                \"train_acc\": float(metric_train.compute()['accuracy']),\n",
    "                \"train_loss\": float(np.mean(train_loss)),\n",
    "                \"train_val_acc\": float(metric_val_train.compute()['accuracy']),\n",
    "                \"train_val_loss\": float(np.mean(train_val_loss)),\n",
    "                \"test_acc\": float(metric_test.compute()['accuracy']),\n",
    "                \"test_loss\": float(np.mean(test_loss)),\n",
    "                \"time\": 0.0,\n",
    "                \"version\": harness.get_version(),\n",
    "                \"fname\": model_fname,\n",
    "            }\n",
    "\n",
    "        print(f\"train: {stats['train_acc']} loss: {stats['train_loss']}\")\n",
    "        print(f\"train val: {stats['train_val_acc']} loss: {stats['train_val_loss']}\")\n",
    "        print(f\"test: {stats['test_acc']} loss: {stats['test_loss']}\")\n",
    "        ttgen.advance_epoch()\n",
    "        stats[\"time\"] = float((time.monotonic() - real_time) / 60.0)\n",
    "        print(f\"epoch time: {stats['time']:.2f}min\")\n",
    "        stats_fn = get_model_filename(\n",
    "            harness,\n",
    "            MODEL_OUTPUT_CP,\n",
    "            is_cuda=is_cuda,\n",
    "            ftype=\"stats\",\n",
    "            epoch=epoch,\n",
    "            ext=\".json\")\n",
    "        with open_write(stats_fn, text=True) as fout:\n",
    "            print(json.dumps(stats, indent=2, sort_keys=True), file=fout)\n",
    "        stats_df = pd.DataFrame(\n",
    "            {key: [val] for key, val in stats.items()},\n",
    "            columns=columns)\n",
    "        stats_df.to_csv(\n",
    "            log_csv, header=False, mode=\"a\")\n",
    "            \n",
    "        limit_epoch_data(\n",
    "            harness,\n",
    "            MODEL_OUTPUT_CP,\n",
    "            is_cuda=is_cuda,\n",
    "            ftype=\"stats\",\n",
    "            ext=\".json\",\n",
    "            count=5)\n",
    "    return model, harness, optimizer"
   ]
  },
  {
   "cell_type": "code",
   "execution_count": 19,
   "id": "c5a36224-b91d-4f21-9279-fa7c2a0e862f",
   "metadata": {},
   "outputs": [],
   "source": [
    "def save_model(model, harness, optimizer):\n",
    "    torch.save(model.state_dict(), get_model_filename(\n",
    "        harness,\n",
    "        MODEL_OUTPUT_BASE,\n",
    "        is_cuda=is_cuda,\n",
    "        ftype=\"model\",\n",
    "        epoch=None))\n",
    "    torch.save(harness.state_dict(), get_model_filename(\n",
    "        harness,\n",
    "        MODEL_OUTPUT_BASE,\n",
    "        is_cuda=is_cuda,\n",
    "        ftype=\"harness\",\n",
    "        epoch=None))\n",
    "    torch.save(optimizer.state_dict(), get_model_filename(\n",
    "        harness,\n",
    "        MODEL_OUTPUT_BASE,\n",
    "        is_cuda=is_cuda,\n",
    "        ftype=\"optimizer\",\n",
    "        epoch=None))"
   ]
  },
  {
   "cell_type": "code",
   "execution_count": 20,
   "id": "bff582b9-1447-425a-9b0f-36d9366e4ec7",
   "metadata": {},
   "outputs": [],
   "source": [
    "def validation(model, harness):\n",
    "    ttgen.reset()\n",
    "    model.eval()\n",
    "    harness.eval()\n",
    "    dfs = []\n",
    "    with torch.no_grad():\n",
    "        metric_val_test = evaluate.load(\"accuracy\")\n",
    "        test_val_loss = []\n",
    "        with tqdm(desc=\"test val\", total=ttgen.get_epoch_test_validation_size()) as progress_bar:\n",
    "            for test_val_df in ttgen.test_validation_dfs():\n",
    "                preds, loss = compute(harness, test_val_df)\n",
    "                test_val_loss.append(loss.item())\n",
    "                predictions = torch.argmax(preds, dim=-1)\n",
    "                metric_val_test.add_batch(\n",
    "                    predictions=predictions,\n",
    "                    references=test_val_df[\"correct_is_right\"].astype(int))\n",
    "                cur_df = test_val_df.copy()\n",
    "                cur_df[\"logit_left\"] = preds[:, 0].cpu()\n",
    "                cur_df[\"logit_right\"] = preds[:, 1].cpu()\n",
    "                cur_df[\"preds\"] = predictions.cpu()\n",
    "                cur_df[\"truth\"] = test_val_df[\"correct_is_right\"].astype(int)\n",
    "                dfs.append(cur_df)\n",
    "                progress_bar.update(test_val_df.shape[0])\n",
    "    print(f\"test val: {metric_val_test.compute()} loss: {np.mean(test_val_loss)}\")\n",
    "    validation_df = pd.concat(dfs)\n",
    "    validation_df.to_csv(get_model_filename(\n",
    "        harness,\n",
    "        MODEL_OUTPUT_BASE,\n",
    "        is_cuda=is_cuda,\n",
    "        ftype=\"validation\",\n",
    "        epoch=None,\n",
    "        ext=\".csv\"))\n",
    "    print(\"correct\")\n",
    "    display(validation_df[validation_df[\"preds\"] == validation_df[\"truth\"]].head())\n",
    "    print(\"incorrect\")\n",
    "    display(validation_df[validation_df[\"preds\"] != validation_df[\"truth\"]].head())"
   ]
  },
  {
   "cell_type": "code",
   "execution_count": 21,
   "id": "211e7f88-ff0c-4bad-bb47-2224bfedbc8b",
   "metadata": {},
   "outputs": [],
   "source": [
    "def embeds(model):\n",
    "    ttgen.reset()\n",
    "    model.eval()\n",
    "    with torch.no_grad():\n",
    "        count = 0\n",
    "        for test_val_df in ttgen.test_validation_dfs():\n",
    "            plefts = tokens(test_val_df[\"parent_left\"])\n",
    "            clefts = tokens(test_val_df[\"child_left\"])\n",
    "            prights = tokens(test_val_df[\"parent_right\"])\n",
    "            crights = tokens(test_val_df[\"child_right\"])\n",
    "            display(model.get_child_embed(\n",
    "                clefts[\"input_ids\"],\n",
    "                clefts[\"attention_mask\"]).cpu().numpy())\n",
    "            display(model.get_child_embed(\n",
    "                crights[\"input_ids\"],\n",
    "                crights[\"attention_mask\"]).cpu().numpy())\n",
    "            count += 1\n",
    "            if count >= 5:\n",
    "                break"
   ]
  },
  {
   "cell_type": "code",
   "execution_count": 22,
   "id": "a98fd1aa-9723-4da8-8fcb-2d9500542f79",
   "metadata": {},
   "outputs": [],
   "source": [
    "def full_run(*, num_epochs, version, force_restart):\n",
    "    model, harness, optimizer = run_training(\n",
    "        num_epochs, version, force_restart)\n",
    "    save_model(model, harness, optimizer)\n",
    "    validation(model, harness)\n",
    "    embeds(model)"
   ]
  },
  {
   "cell_type": "code",
   "execution_count": 23,
   "id": "28cae2dd-05dc-4864-80e2-64977d32ed3c",
   "metadata": {
    "tags": []
   },
   "outputs": [],
   "source": [
    "# for version in range(8):\n",
    "#     full_run(num_epochs=30, version=version, force_restart=False)"
   ]
  },
  {
   "cell_type": "code",
   "execution_count": 24,
   "id": "f4a501c5-2870-4b82-b0d3-8df2df93a875",
   "metadata": {
    "collapsed": true,
    "jupyter": {
     "outputs_hidden": true
    },
    "tags": []
   },
   "outputs": [
    {
     "name": "stderr",
     "output_type": "stream",
     "text": [
      "Some weights of the model checkpoint at distilbert-base-uncased were not used when initializing DistilBertModel: ['vocab_transform.bias', 'vocab_projector.bias', 'vocab_projector.weight', 'vocab_layer_norm.bias', 'vocab_transform.weight', 'vocab_layer_norm.weight']\n",
      "- This IS expected if you are initializing DistilBertModel from the checkpoint of a model trained on another task or with another architecture (e.g. initializing a BertForSequenceClassification model from a BertForPreTraining model).\n",
      "- This IS NOT expected if you are initializing DistilBertModel from the checkpoint of a model that you expect to be exactly identical (initializing a BertForSequenceClassification model from a BertForSequenceClassification model).\n"
     ]
    },
    {
     "name": "stdout",
     "output_type": "stream",
     "text": [
      "None 0\n",
      "epoch 0 version: -1\n"
     ]
    },
    {
     "data": {
      "application/vnd.jupyter.widget-view+json": {
       "model_id": "4f0570c89f464ad58601bb169388a660",
       "version_major": 2,
       "version_minor": 0
      },
      "text/plain": [
       "train:   0%|          | 0/20000 [00:00<?, ?it/s]"
      ]
     },
     "metadata": {},
     "output_type": "display_data"
    },
    {
     "data": {
      "application/vnd.jupyter.widget-view+json": {
       "model_id": "a6435fd466ee415a9057b41c55b50b65",
       "version_major": 2,
       "version_minor": 0
      },
      "text/plain": [
       "train val:   0%|          | 0/10000 [00:00<?, ?it/s]"
      ]
     },
     "metadata": {},
     "output_type": "display_data"
    },
    {
     "data": {
      "application/vnd.jupyter.widget-view+json": {
       "model_id": "975cdbdf64d34846b67eb541bdd5f0b3",
       "version_major": 2,
       "version_minor": 0
      },
      "text/plain": [
       "test:   0%|          | 0/10000 [00:00<?, ?it/s]"
      ]
     },
     "metadata": {},
     "output_type": "display_data"
    },
    {
     "name": "stdout",
     "output_type": "stream",
     "text": [
      "train: 0.56085 loss: 1.38945310176434\n",
      "train val: 0.5646 loss: 0.9130380945429206\n",
      "test: 0.577 loss: 0.9443815663428977\n",
      "epoch time: 97.83min\n",
      "best model: /mnt/d/workspace/clotho/notebooks/checkpoints/harness_v-1_lg_0.pkl\n",
      "best train: 0.56085\n",
      "best train val: 0.5646\n",
      "best test: 0.577\n",
      "epoch 1 version: -1\n"
     ]
    },
    {
     "data": {
      "application/vnd.jupyter.widget-view+json": {
       "model_id": "260e06e615004614a71e2a03d2b58752",
       "version_major": 2,
       "version_minor": 0
      },
      "text/plain": [
       "train:   0%|          | 0/20000 [00:00<?, ?it/s]"
      ]
     },
     "metadata": {},
     "output_type": "display_data"
    },
    {
     "data": {
      "application/vnd.jupyter.widget-view+json": {
       "model_id": "1b352b66d0ce46b89afdced2ec0c05b7",
       "version_major": 2,
       "version_minor": 0
      },
      "text/plain": [
       "train val:   0%|          | 0/10000 [00:00<?, ?it/s]"
      ]
     },
     "metadata": {},
     "output_type": "display_data"
    },
    {
     "data": {
      "application/vnd.jupyter.widget-view+json": {
       "model_id": "fb496fd45f4349f88b672af88de4ef5a",
       "version_major": 2,
       "version_minor": 0
      },
      "text/plain": [
       "test:   0%|          | 0/10000 [00:00<?, ?it/s]"
      ]
     },
     "metadata": {},
     "output_type": "display_data"
    },
    {
     "name": "stdout",
     "output_type": "stream",
     "text": [
      "train: 0.61815 loss: 0.7195573684424162\n",
      "train val: 0.6458 loss: 0.6127327186256647\n",
      "test: 0.597 loss: 0.7366132311806083\n",
      "epoch time: 97.07min\n",
      "best model: /mnt/d/workspace/clotho/notebooks/checkpoints/harness_v-1_lg_1.pkl\n",
      "best train: 0.61815\n",
      "best train val: 0.6458\n",
      "best test: 0.597\n",
      "epoch 2 version: -1\n"
     ]
    },
    {
     "data": {
      "application/vnd.jupyter.widget-view+json": {
       "model_id": "f7af0b5e647e433e8e05f5e5de70a07f",
       "version_major": 2,
       "version_minor": 0
      },
      "text/plain": [
       "train:   0%|          | 0/20000 [00:00<?, ?it/s]"
      ]
     },
     "metadata": {},
     "output_type": "display_data"
    },
    {
     "data": {
      "application/vnd.jupyter.widget-view+json": {
       "model_id": "1165816a53ff4706a2b44694013bf3bf",
       "version_major": 2,
       "version_minor": 0
      },
      "text/plain": [
       "train val:   0%|          | 0/10000 [00:00<?, ?it/s]"
      ]
     },
     "metadata": {},
     "output_type": "display_data"
    },
    {
     "data": {
      "application/vnd.jupyter.widget-view+json": {
       "model_id": "a18f6eca1b6d4774aeeeb5d5a0feeb23",
       "version_major": 2,
       "version_minor": 0
      },
      "text/plain": [
       "test:   0%|          | 0/10000 [00:00<?, ?it/s]"
      ]
     },
     "metadata": {},
     "output_type": "display_data"
    },
    {
     "name": "stdout",
     "output_type": "stream",
     "text": [
      "train: 0.70825 loss: 0.4987365668807179\n",
      "train val: 0.7209 loss: 0.48274152010558175\n",
      "test: 0.6563 loss: 0.6201377160090953\n",
      "epoch time: 98.35min\n",
      "best model: /mnt/d/workspace/clotho/notebooks/checkpoints/harness_v-1_lg_2.pkl\n",
      "best train: 0.70825\n",
      "best train val: 0.7209\n",
      "best test: 0.6563\n",
      "epoch 3 version: -1\n"
     ]
    },
    {
     "data": {
      "application/vnd.jupyter.widget-view+json": {
       "model_id": "7a0f7c9d398745db9b5c2b7384d2d3de",
       "version_major": 2,
       "version_minor": 0
      },
      "text/plain": [
       "train:   0%|          | 0/20000 [00:00<?, ?it/s]"
      ]
     },
     "metadata": {},
     "output_type": "display_data"
    },
    {
     "data": {
      "application/vnd.jupyter.widget-view+json": {
       "model_id": "cf7d8e40479f4dbdba3a1faca946a551",
       "version_major": 2,
       "version_minor": 0
      },
      "text/plain": [
       "train val:   0%|          | 0/10000 [00:00<?, ?it/s]"
      ]
     },
     "metadata": {},
     "output_type": "display_data"
    },
    {
     "data": {
      "application/vnd.jupyter.widget-view+json": {
       "model_id": "8ad04b1cf3274ec9b393782156061d89",
       "version_major": 2,
       "version_minor": 0
      },
      "text/plain": [
       "test:   0%|          | 0/10000 [00:00<?, ?it/s]"
      ]
     },
     "metadata": {},
     "output_type": "display_data"
    },
    {
     "name": "stdout",
     "output_type": "stream",
     "text": [
      "train: 0.7384 loss: 0.4419358304378111\n",
      "train val: 0.7286 loss: 0.47039060950055717\n",
      "test: 0.6355 loss: 0.6300585457876324\n",
      "epoch time: 98.31min\n",
      "best model: /mnt/d/workspace/clotho/notebooks/checkpoints/harness_v-1_lg_3.pkl\n",
      "best train: 0.7384\n",
      "best train val: 0.7286\n",
      "best test: 0.6355\n",
      "epoch 4 version: -1\n"
     ]
    },
    {
     "data": {
      "application/vnd.jupyter.widget-view+json": {
       "model_id": "a07b4930a23b4efc9d757af4ca4fa752",
       "version_major": 2,
       "version_minor": 0
      },
      "text/plain": [
       "train:   0%|          | 0/20000 [00:00<?, ?it/s]"
      ]
     },
     "metadata": {},
     "output_type": "display_data"
    },
    {
     "data": {
      "application/vnd.jupyter.widget-view+json": {
       "model_id": "eca494fe29bb477480933cc2d8441ca3",
       "version_major": 2,
       "version_minor": 0
      },
      "text/plain": [
       "train val:   0%|          | 0/10000 [00:00<?, ?it/s]"
      ]
     },
     "metadata": {},
     "output_type": "display_data"
    },
    {
     "data": {
      "application/vnd.jupyter.widget-view+json": {
       "model_id": "a18905a60ad24197b0702a3b9cb744a2",
       "version_major": 2,
       "version_minor": 0
      },
      "text/plain": [
       "test:   0%|          | 0/10000 [00:00<?, ?it/s]"
      ]
     },
     "metadata": {},
     "output_type": "display_data"
    },
    {
     "name": "stdout",
     "output_type": "stream",
     "text": [
      "train: 0.73115 loss: 0.45466241342632563\n",
      "train val: 0.7285 loss: 0.4810362111664377\n",
      "test: 0.6395 loss: 0.6366368094600737\n",
      "epoch time: 95.29min\n",
      "best model: /mnt/d/workspace/clotho/notebooks/checkpoints/harness_v-1_lg_3.pkl\n",
      "best train: 0.7384\n",
      "best train val: 0.7286\n",
      "best test: 0.6355\n",
      "epoch 5 version: -1\n"
     ]
    },
    {
     "data": {
      "application/vnd.jupyter.widget-view+json": {
       "model_id": "9ad42bdb94674331a3ff990217f6ef7a",
       "version_major": 2,
       "version_minor": 0
      },
      "text/plain": [
       "train:   0%|          | 0/20000 [00:00<?, ?it/s]"
      ]
     },
     "metadata": {},
     "output_type": "display_data"
    },
    {
     "data": {
      "application/vnd.jupyter.widget-view+json": {
       "model_id": "bfbea614ab6442f6839282d08d68c813",
       "version_major": 2,
       "version_minor": 0
      },
      "text/plain": [
       "train val:   0%|          | 0/10000 [00:00<?, ?it/s]"
      ]
     },
     "metadata": {},
     "output_type": "display_data"
    },
    {
     "data": {
      "application/vnd.jupyter.widget-view+json": {
       "model_id": "be76596cff8c43349ee989008e43b3bd",
       "version_major": 2,
       "version_minor": 0
      },
      "text/plain": [
       "test:   0%|          | 0/10000 [00:00<?, ?it/s]"
      ]
     },
     "metadata": {},
     "output_type": "display_data"
    },
    {
     "name": "stdout",
     "output_type": "stream",
     "text": [
      "train: 0.7381 loss: 0.44120950333508663\n",
      "train val: 0.7187 loss: 0.4886403533383273\n",
      "test: 0.6321 loss: 0.6491294624179602\n",
      "epoch time: 79.75min\n",
      "best model: /mnt/d/workspace/clotho/notebooks/checkpoints/harness_v-1_lg_3.pkl\n",
      "best train: 0.7384\n",
      "best train val: 0.7286\n",
      "best test: 0.6355\n",
      "epoch 6 version: -1\n"
     ]
    },
    {
     "data": {
      "application/vnd.jupyter.widget-view+json": {
       "model_id": "7eed4e8308014f45818f09bf29d4d08c",
       "version_major": 2,
       "version_minor": 0
      },
      "text/plain": [
       "train:   0%|          | 0/20000 [00:00<?, ?it/s]"
      ]
     },
     "metadata": {},
     "output_type": "display_data"
    },
    {
     "data": {
      "application/vnd.jupyter.widget-view+json": {
       "model_id": "d9167d4aa72440fda13cef9b0d672b70",
       "version_major": 2,
       "version_minor": 0
      },
      "text/plain": [
       "train val:   0%|          | 0/10000 [00:00<?, ?it/s]"
      ]
     },
     "metadata": {},
     "output_type": "display_data"
    },
    {
     "data": {
      "application/vnd.jupyter.widget-view+json": {
       "model_id": "ad07a1abdcf04563ad5f189b2776ddb6",
       "version_major": 2,
       "version_minor": 0
      },
      "text/plain": [
       "test:   0%|          | 0/10000 [00:00<?, ?it/s]"
      ]
     },
     "metadata": {},
     "output_type": "display_data"
    },
    {
     "name": "stdout",
     "output_type": "stream",
     "text": [
      "train: 0.7117 loss: 0.5119664853511379\n",
      "train val: 0.6149 loss: 0.6290137491881848\n",
      "test: 0.5461 loss: 0.697455470609665\n",
      "epoch time: 79.19min\n",
      "removing /mnt/d/workspace/clotho/notebooks/checkpoints/stats_v-1_lg_0.json\n",
      "removing /mnt/d/workspace/clotho/notebooks/checkpoints/harness_v-1_lg_0.pkl\n",
      "best model: /mnt/d/workspace/clotho/notebooks/checkpoints/harness_v-1_lg_3.pkl\n",
      "best train: 0.7384\n",
      "best train val: 0.7286\n",
      "best test: 0.6355\n",
      "epoch 7 version: -1\n"
     ]
    },
    {
     "data": {
      "application/vnd.jupyter.widget-view+json": {
       "model_id": "46ebaeb9a30d4c4d892b6cee03cd5094",
       "version_major": 2,
       "version_minor": 0
      },
      "text/plain": [
       "train:   0%|          | 0/20000 [00:00<?, ?it/s]"
      ]
     },
     "metadata": {},
     "output_type": "display_data"
    },
    {
     "data": {
      "application/vnd.jupyter.widget-view+json": {
       "model_id": "72a1c76183fa4b4c88bb1471594f90c7",
       "version_major": 2,
       "version_minor": 0
      },
      "text/plain": [
       "train val:   0%|          | 0/10000 [00:00<?, ?it/s]"
      ]
     },
     "metadata": {},
     "output_type": "display_data"
    },
    {
     "data": {
      "application/vnd.jupyter.widget-view+json": {
       "model_id": "7057e43f76134f14ad3d3f8f96781959",
       "version_major": 2,
       "version_minor": 0
      },
      "text/plain": [
       "test:   0%|          | 0/10000 [00:00<?, ?it/s]"
      ]
     },
     "metadata": {},
     "output_type": "display_data"
    },
    {
     "name": "stdout",
     "output_type": "stream",
     "text": [
      "train: 0.7091 loss: 0.4863916858772747\n",
      "train val: 0.6884 loss: 0.5252088767588139\n",
      "test: 0.597 loss: 0.6791111347079277\n",
      "epoch time: 11.08min\n",
      "removing /mnt/d/workspace/clotho/notebooks/checkpoints/stats_v-1_lg_6.json\n",
      "removing /mnt/d/workspace/clotho/notebooks/checkpoints/harness_v-1_lg_6.pkl\n",
      "best model: /mnt/d/workspace/clotho/notebooks/checkpoints/harness_v-1_lg_3.pkl\n",
      "best train: 0.7384\n",
      "best train val: 0.7286\n",
      "best test: 0.6355\n",
      "epoch 8 version: -1\n"
     ]
    },
    {
     "data": {
      "application/vnd.jupyter.widget-view+json": {
       "model_id": "022416585eb24e208413bc1a3525d33e",
       "version_major": 2,
       "version_minor": 0
      },
      "text/plain": [
       "train:   0%|          | 0/20000 [00:00<?, ?it/s]"
      ]
     },
     "metadata": {},
     "output_type": "display_data"
    },
    {
     "data": {
      "application/vnd.jupyter.widget-view+json": {
       "model_id": "a0da37c29ab24fcbab61173707b95955",
       "version_major": 2,
       "version_minor": 0
      },
      "text/plain": [
       "train val:   0%|          | 0/10000 [00:00<?, ?it/s]"
      ]
     },
     "metadata": {},
     "output_type": "display_data"
    },
    {
     "data": {
      "application/vnd.jupyter.widget-view+json": {
       "model_id": "925623800139403b8df2d5b02a710ac9",
       "version_major": 2,
       "version_minor": 0
      },
      "text/plain": [
       "test:   0%|          | 0/10000 [00:00<?, ?it/s]"
      ]
     },
     "metadata": {},
     "output_type": "display_data"
    },
    {
     "name": "stdout",
     "output_type": "stream",
     "text": [
      "train: 0.7504 loss: 0.41474713635820665\n",
      "train val: 0.7262 loss: 0.4749997805494815\n",
      "test: 0.633 loss: 0.6372083501785993\n",
      "epoch time: 10.15min\n",
      "removing /mnt/d/workspace/clotho/notebooks/checkpoints/stats_v-1_lg_1.json\n",
      "removing /mnt/d/workspace/clotho/notebooks/checkpoints/harness_v-1_lg_1.pkl\n",
      "best model: /mnt/d/workspace/clotho/notebooks/checkpoints/harness_v-1_lg_3.pkl\n",
      "best train: 0.7384\n",
      "best train val: 0.7286\n",
      "best test: 0.6355\n",
      "epoch 9 version: -1\n"
     ]
    },
    {
     "data": {
      "application/vnd.jupyter.widget-view+json": {
       "model_id": "3da35d562941419cb90c8c8728e48006",
       "version_major": 2,
       "version_minor": 0
      },
      "text/plain": [
       "train:   0%|          | 0/20000 [00:00<?, ?it/s]"
      ]
     },
     "metadata": {},
     "output_type": "display_data"
    },
    {
     "data": {
      "application/vnd.jupyter.widget-view+json": {
       "model_id": "9009173fd4ad448c857d7cb90ee6c865",
       "version_major": 2,
       "version_minor": 0
      },
      "text/plain": [
       "train val:   0%|          | 0/10000 [00:00<?, ?it/s]"
      ]
     },
     "metadata": {},
     "output_type": "display_data"
    },
    {
     "data": {
      "application/vnd.jupyter.widget-view+json": {
       "model_id": "6bffbf09c74e4574a907b1a6c00767e6",
       "version_major": 2,
       "version_minor": 0
      },
      "text/plain": [
       "test:   0%|          | 0/10000 [00:00<?, ?it/s]"
      ]
     },
     "metadata": {},
     "output_type": "display_data"
    },
    {
     "name": "stdout",
     "output_type": "stream",
     "text": [
      "train: 0.75555 loss: 0.39908629610524515\n",
      "train val: 0.725 loss: 0.4691934071943164\n",
      "test: 0.6395 loss: 0.5962330000519752\n",
      "epoch time: 9.92min\n",
      "removing /mnt/d/workspace/clotho/notebooks/checkpoints/stats_v-1_lg_7.json\n",
      "removing /mnt/d/workspace/clotho/notebooks/checkpoints/harness_v-1_lg_7.pkl\n",
      "best model: /mnt/d/workspace/clotho/notebooks/checkpoints/harness_v-1_lg_3.pkl\n",
      "best train: 0.7384\n",
      "best train val: 0.7286\n",
      "best test: 0.6355\n",
      "epoch 10 version: -1\n"
     ]
    },
    {
     "data": {
      "application/vnd.jupyter.widget-view+json": {
       "model_id": "bfc99bef43a340ae85d14b1f329b90a4",
       "version_major": 2,
       "version_minor": 0
      },
      "text/plain": [
       "train:   0%|          | 0/20000 [00:00<?, ?it/s]"
      ]
     },
     "metadata": {},
     "output_type": "display_data"
    },
    {
     "data": {
      "application/vnd.jupyter.widget-view+json": {
       "model_id": "88d8170e38214da6963112abb7e48a52",
       "version_major": 2,
       "version_minor": 0
      },
      "text/plain": [
       "train val:   0%|          | 0/10000 [00:00<?, ?it/s]"
      ]
     },
     "metadata": {},
     "output_type": "display_data"
    },
    {
     "data": {
      "application/vnd.jupyter.widget-view+json": {
       "model_id": "8f3018d980e14e11aa1dd48c9bde456d",
       "version_major": 2,
       "version_minor": 0
      },
      "text/plain": [
       "test:   0%|          | 0/10000 [00:00<?, ?it/s]"
      ]
     },
     "metadata": {},
     "output_type": "display_data"
    },
    {
     "name": "stdout",
     "output_type": "stream",
     "text": [
      "train: 0.6656 loss: 0.5723137661572546\n",
      "train val: 0.6997 loss: 0.5801102249622345\n",
      "test: 0.6081 loss: 0.6512970570802689\n",
      "epoch time: 11.60min\n",
      "removing /mnt/d/workspace/clotho/notebooks/checkpoints/stats_v-1_lg_5.json\n",
      "removing /mnt/d/workspace/clotho/notebooks/checkpoints/harness_v-1_lg_5.pkl\n",
      "best model: /mnt/d/workspace/clotho/notebooks/checkpoints/harness_v-1_lg_3.pkl\n",
      "best train: 0.7384\n",
      "best train val: 0.7286\n",
      "best test: 0.6355\n",
      "epoch 11 version: -1\n"
     ]
    },
    {
     "data": {
      "application/vnd.jupyter.widget-view+json": {
       "model_id": "39101987cbfd40b3a9e1949f4983c563",
       "version_major": 2,
       "version_minor": 0
      },
      "text/plain": [
       "train:   0%|          | 0/20000 [00:00<?, ?it/s]"
      ]
     },
     "metadata": {},
     "output_type": "display_data"
    },
    {
     "data": {
      "application/vnd.jupyter.widget-view+json": {
       "model_id": "f11acec15ed14e1397c9dd2f4f92ed99",
       "version_major": 2,
       "version_minor": 0
      },
      "text/plain": [
       "train val:   0%|          | 0/10000 [00:00<?, ?it/s]"
      ]
     },
     "metadata": {},
     "output_type": "display_data"
    },
    {
     "data": {
      "application/vnd.jupyter.widget-view+json": {
       "model_id": "e45100ef86aa4eec9cbe3f434e402b49",
       "version_major": 2,
       "version_minor": 0
      },
      "text/plain": [
       "test:   0%|          | 0/10000 [00:00<?, ?it/s]"
      ]
     },
     "metadata": {},
     "output_type": "display_data"
    },
    {
     "name": "stdout",
     "output_type": "stream",
     "text": [
      "train: 0.663 loss: 0.6155915836295157\n",
      "train val: 0.7101 loss: 0.5370593824446201\n",
      "test: 0.6272 loss: 0.6203643132865428\n",
      "epoch time: 10.27min\n",
      "removing /mnt/d/workspace/clotho/notebooks/checkpoints/stats_v-1_lg_10.json\n",
      "removing /mnt/d/workspace/clotho/notebooks/checkpoints/harness_v-1_lg_10.pkl\n",
      "best model: /mnt/d/workspace/clotho/notebooks/checkpoints/harness_v-1_lg_3.pkl\n",
      "best train: 0.7384\n",
      "best train val: 0.7286\n",
      "best test: 0.6355\n",
      "epoch 12 version: -1\n"
     ]
    },
    {
     "data": {
      "application/vnd.jupyter.widget-view+json": {
       "model_id": "d8a99c7ec14d42e293d85c4f6dcef4e9",
       "version_major": 2,
       "version_minor": 0
      },
      "text/plain": [
       "train:   0%|          | 0/20000 [00:00<?, ?it/s]"
      ]
     },
     "metadata": {},
     "output_type": "display_data"
    },
    {
     "data": {
      "application/vnd.jupyter.widget-view+json": {
       "model_id": "cfd0711572ca417b8e6dc58c7510c107",
       "version_major": 2,
       "version_minor": 0
      },
      "text/plain": [
       "train val:   0%|          | 0/10000 [00:00<?, ?it/s]"
      ]
     },
     "metadata": {},
     "output_type": "display_data"
    },
    {
     "data": {
      "application/vnd.jupyter.widget-view+json": {
       "model_id": "8ab5c060ea1440798d4bd9875e05ff5a",
       "version_major": 2,
       "version_minor": 0
      },
      "text/plain": [
       "test:   0%|          | 0/10000 [00:00<?, ?it/s]"
      ]
     },
     "metadata": {},
     "output_type": "display_data"
    },
    {
     "name": "stdout",
     "output_type": "stream",
     "text": [
      "train: 0.66775 loss: 0.5608567715289071\n",
      "train val: 0.6934 loss: 0.5418759477436542\n",
      "test: 0.6173 loss: 0.6326223272621632\n",
      "epoch time: 79.69min\n",
      "removing /mnt/d/workspace/clotho/notebooks/checkpoints/stats_v-1_lg_11.json\n",
      "removing /mnt/d/workspace/clotho/notebooks/checkpoints/harness_v-1_lg_11.pkl\n",
      "best model: /mnt/d/workspace/clotho/notebooks/checkpoints/harness_v-1_lg_3.pkl\n",
      "best train: 0.7384\n",
      "best train val: 0.7286\n",
      "best test: 0.6355\n",
      "epoch 13 version: -1\n"
     ]
    },
    {
     "data": {
      "application/vnd.jupyter.widget-view+json": {
       "model_id": "9d860a02506c4b7ea35f9b2f1f99726d",
       "version_major": 2,
       "version_minor": 0
      },
      "text/plain": [
       "train:   0%|          | 0/20000 [00:00<?, ?it/s]"
      ]
     },
     "metadata": {},
     "output_type": "display_data"
    },
    {
     "data": {
      "application/vnd.jupyter.widget-view+json": {
       "model_id": "a1b6b16df51e4e53b621c362717e3598",
       "version_major": 2,
       "version_minor": 0
      },
      "text/plain": [
       "train val:   0%|          | 0/10000 [00:00<?, ?it/s]"
      ]
     },
     "metadata": {},
     "output_type": "display_data"
    },
    {
     "data": {
      "application/vnd.jupyter.widget-view+json": {
       "model_id": "1369fca124b941549551c1dabe3f7218",
       "version_major": 2,
       "version_minor": 0
      },
      "text/plain": [
       "test:   0%|          | 0/10000 [00:00<?, ?it/s]"
      ]
     },
     "metadata": {},
     "output_type": "display_data"
    },
    {
     "name": "stdout",
     "output_type": "stream",
     "text": [
      "train: 0.66215 loss: 0.565260159339942\n",
      "train val: 0.6734 loss: 0.562143769866228\n",
      "test: 0.6155 loss: 0.6252480883657933\n",
      "epoch time: 77.96min\n",
      "removing /mnt/d/workspace/clotho/notebooks/checkpoints/stats_v-1_lg_12.json\n",
      "removing /mnt/d/workspace/clotho/notebooks/checkpoints/harness_v-1_lg_12.pkl\n",
      "best model: /mnt/d/workspace/clotho/notebooks/checkpoints/harness_v-1_lg_3.pkl\n",
      "best train: 0.7384\n",
      "best train val: 0.7286\n",
      "best test: 0.6355\n",
      "epoch 14 version: -1\n"
     ]
    },
    {
     "data": {
      "application/vnd.jupyter.widget-view+json": {
       "model_id": "17b23af2325c476a9c35c2e751276365",
       "version_major": 2,
       "version_minor": 0
      },
      "text/plain": [
       "train:   0%|          | 0/20000 [00:00<?, ?it/s]"
      ]
     },
     "metadata": {},
     "output_type": "display_data"
    },
    {
     "data": {
      "application/vnd.jupyter.widget-view+json": {
       "model_id": "1426252be1254c46a1849c483b61ee5e",
       "version_major": 2,
       "version_minor": 0
      },
      "text/plain": [
       "train val:   0%|          | 0/10000 [00:00<?, ?it/s]"
      ]
     },
     "metadata": {},
     "output_type": "display_data"
    },
    {
     "data": {
      "application/vnd.jupyter.widget-view+json": {
       "model_id": "af3006a280014f418a32eab76a50f22f",
       "version_major": 2,
       "version_minor": 0
      },
      "text/plain": [
       "test:   0%|          | 0/10000 [00:00<?, ?it/s]"
      ]
     },
     "metadata": {},
     "output_type": "display_data"
    },
    {
     "name": "stdout",
     "output_type": "stream",
     "text": [
      "train: 0.6664 loss: 0.5638407687030733\n",
      "train val: 0.6989 loss: 0.5676623407661915\n",
      "test: 0.6025 loss: 0.6452380327701569\n",
      "epoch time: 78.82min\n",
      "removing /mnt/d/workspace/clotho/notebooks/checkpoints/stats_v-1_lg_13.json\n",
      "removing /mnt/d/workspace/clotho/notebooks/checkpoints/harness_v-1_lg_13.pkl\n",
      "best model: /mnt/d/workspace/clotho/notebooks/checkpoints/harness_v-1_lg_3.pkl\n",
      "best train: 0.7384\n",
      "best train val: 0.7286\n",
      "best test: 0.6355\n",
      "epoch 15 version: -1\n"
     ]
    },
    {
     "data": {
      "application/vnd.jupyter.widget-view+json": {
       "model_id": "604425657b1c48a89e4d008a1b33bef3",
       "version_major": 2,
       "version_minor": 0
      },
      "text/plain": [
       "train:   0%|          | 0/20000 [00:00<?, ?it/s]"
      ]
     },
     "metadata": {},
     "output_type": "display_data"
    },
    {
     "data": {
      "application/vnd.jupyter.widget-view+json": {
       "model_id": "ba611e87381a49a9a603c3838f296edf",
       "version_major": 2,
       "version_minor": 0
      },
      "text/plain": [
       "train val:   0%|          | 0/10000 [00:00<?, ?it/s]"
      ]
     },
     "metadata": {},
     "output_type": "display_data"
    },
    {
     "data": {
      "application/vnd.jupyter.widget-view+json": {
       "model_id": "16548aa058c44b5da51125fcfc50c3fe",
       "version_major": 2,
       "version_minor": 0
      },
      "text/plain": [
       "test:   0%|          | 0/10000 [00:00<?, ?it/s]"
      ]
     },
     "metadata": {},
     "output_type": "display_data"
    },
    {
     "name": "stdout",
     "output_type": "stream",
     "text": [
      "train: 0.6401 loss: 0.5911871332839131\n",
      "train val: 0.7001 loss: 0.5642062939286232\n",
      "test: 0.6039 loss: 0.6432137469649315\n",
      "epoch time: 80.10min\n",
      "removing /mnt/d/workspace/clotho/notebooks/checkpoints/stats_v-1_lg_14.json\n",
      "removing /mnt/d/workspace/clotho/notebooks/checkpoints/harness_v-1_lg_14.pkl\n",
      "best model: /mnt/d/workspace/clotho/notebooks/checkpoints/harness_v-1_lg_3.pkl\n",
      "best train: 0.7384\n",
      "best train val: 0.7286\n",
      "best test: 0.6355\n",
      "epoch 16 version: -1\n"
     ]
    },
    {
     "data": {
      "application/vnd.jupyter.widget-view+json": {
       "model_id": "998ed5a8848c4aae8fe8690845f72bef",
       "version_major": 2,
       "version_minor": 0
      },
      "text/plain": [
       "train:   0%|          | 0/20000 [00:00<?, ?it/s]"
      ]
     },
     "metadata": {},
     "output_type": "display_data"
    },
    {
     "data": {
      "application/vnd.jupyter.widget-view+json": {
       "model_id": "a1c9f1bf6805438b8501369d62b6604d",
       "version_major": 2,
       "version_minor": 0
      },
      "text/plain": [
       "train val:   0%|          | 0/10000 [00:00<?, ?it/s]"
      ]
     },
     "metadata": {},
     "output_type": "display_data"
    },
    {
     "data": {
      "application/vnd.jupyter.widget-view+json": {
       "model_id": "2fb225e6679848e8b88dc6785dadf06f",
       "version_major": 2,
       "version_minor": 0
      },
      "text/plain": [
       "test:   0%|          | 0/10000 [00:00<?, ?it/s]"
      ]
     },
     "metadata": {},
     "output_type": "display_data"
    },
    {
     "name": "stdout",
     "output_type": "stream",
     "text": [
      "train: 0.6388 loss: 0.5896157197862864\n",
      "train val: 0.6988 loss: 0.5453220775365829\n",
      "test: 0.6051 loss: 0.6405135773897171\n",
      "epoch time: 80.28min\n",
      "removing /mnt/d/workspace/clotho/notebooks/checkpoints/stats_v-1_lg_15.json\n",
      "removing /mnt/d/workspace/clotho/notebooks/checkpoints/harness_v-1_lg_15.pkl\n",
      "best model: /mnt/d/workspace/clotho/notebooks/checkpoints/harness_v-1_lg_3.pkl\n",
      "best train: 0.7384\n",
      "best train val: 0.7286\n",
      "best test: 0.6355\n",
      "epoch 17 version: -1\n"
     ]
    },
    {
     "data": {
      "application/vnd.jupyter.widget-view+json": {
       "model_id": "b118ed1a44fe440c97b8729776cc07bc",
       "version_major": 2,
       "version_minor": 0
      },
      "text/plain": [
       "train:   0%|          | 0/20000 [00:00<?, ?it/s]"
      ]
     },
     "metadata": {},
     "output_type": "display_data"
    },
    {
     "data": {
      "application/vnd.jupyter.widget-view+json": {
       "model_id": "6c70b517cfab405e92bf35ee40e43a17",
       "version_major": 2,
       "version_minor": 0
      },
      "text/plain": [
       "train val:   0%|          | 0/10000 [00:00<?, ?it/s]"
      ]
     },
     "metadata": {},
     "output_type": "display_data"
    },
    {
     "data": {
      "application/vnd.jupyter.widget-view+json": {
       "model_id": "e53ffaf1c71e4420b5285859bad94c0d",
       "version_major": 2,
       "version_minor": 0
      },
      "text/plain": [
       "test:   0%|          | 0/10000 [00:00<?, ?it/s]"
      ]
     },
     "metadata": {},
     "output_type": "display_data"
    },
    {
     "name": "stdout",
     "output_type": "stream",
     "text": [
      "train: 0.6415 loss: 0.589526033899188\n",
      "train val: 0.6637 loss: 0.5781770874798298\n",
      "test: 0.5754 loss: 0.6645675924062728\n",
      "epoch time: 80.26min\n",
      "removing /mnt/d/workspace/clotho/notebooks/checkpoints/stats_v-1_lg_16.json\n",
      "removing /mnt/d/workspace/clotho/notebooks/checkpoints/harness_v-1_lg_16.pkl\n",
      "best model: /mnt/d/workspace/clotho/notebooks/checkpoints/harness_v-1_lg_3.pkl\n",
      "best train: 0.7384\n",
      "best train val: 0.7286\n",
      "best test: 0.6355\n",
      "epoch 18 version: -1\n"
     ]
    },
    {
     "data": {
      "application/vnd.jupyter.widget-view+json": {
       "model_id": "98fae75e198d47b798ce2bdad0a061c7",
       "version_major": 2,
       "version_minor": 0
      },
      "text/plain": [
       "train:   0%|          | 0/20000 [00:00<?, ?it/s]"
      ]
     },
     "metadata": {},
     "output_type": "display_data"
    },
    {
     "data": {
      "application/vnd.jupyter.widget-view+json": {
       "model_id": "de57236597e44c5a8a484e0b4f7699a6",
       "version_major": 2,
       "version_minor": 0
      },
      "text/plain": [
       "train val:   0%|          | 0/10000 [00:00<?, ?it/s]"
      ]
     },
     "metadata": {},
     "output_type": "display_data"
    },
    {
     "data": {
      "application/vnd.jupyter.widget-view+json": {
       "model_id": "7912daaa3c75424081cf78944733b507",
       "version_major": 2,
       "version_minor": 0
      },
      "text/plain": [
       "test:   0%|          | 0/10000 [00:00<?, ?it/s]"
      ]
     },
     "metadata": {},
     "output_type": "display_data"
    },
    {
     "name": "stdout",
     "output_type": "stream",
     "text": [
      "train: 0.6386 loss: 0.5918147217854858\n",
      "train val: 0.7052 loss: 0.5636243393719196\n",
      "test: 0.6051 loss: 0.6511908037781715\n",
      "epoch time: 80.36min\n",
      "removing /mnt/d/workspace/clotho/notebooks/checkpoints/stats_v-1_lg_17.json\n",
      "removing /mnt/d/workspace/clotho/notebooks/checkpoints/harness_v-1_lg_17.pkl\n",
      "best model: /mnt/d/workspace/clotho/notebooks/checkpoints/harness_v-1_lg_3.pkl\n",
      "best train: 0.7384\n",
      "best train val: 0.7286\n",
      "best test: 0.6355\n",
      "epoch 19 version: -1\n"
     ]
    },
    {
     "data": {
      "application/vnd.jupyter.widget-view+json": {
       "model_id": "f05db5ab91ea477e84a08834c5319b42",
       "version_major": 2,
       "version_minor": 0
      },
      "text/plain": [
       "train:   0%|          | 0/20000 [00:00<?, ?it/s]"
      ]
     },
     "metadata": {},
     "output_type": "display_data"
    },
    {
     "data": {
      "application/vnd.jupyter.widget-view+json": {
       "model_id": "a89d68b485544c3ea96d602feb86d199",
       "version_major": 2,
       "version_minor": 0
      },
      "text/plain": [
       "train val:   0%|          | 0/10000 [00:00<?, ?it/s]"
      ]
     },
     "metadata": {},
     "output_type": "display_data"
    },
    {
     "data": {
      "application/vnd.jupyter.widget-view+json": {
       "model_id": "12ad945daff54565847bbe72db9e82ce",
       "version_major": 2,
       "version_minor": 0
      },
      "text/plain": [
       "test:   0%|          | 0/10000 [00:00<?, ?it/s]"
      ]
     },
     "metadata": {},
     "output_type": "display_data"
    },
    {
     "name": "stdout",
     "output_type": "stream",
     "text": [
      "train: 0.6397 loss: 0.6075041025727987\n",
      "train val: 0.7032 loss: 0.599556890130043\n",
      "test: 0.6009 loss: 0.6647529211878777\n",
      "epoch time: 79.85min\n",
      "removing /mnt/d/workspace/clotho/notebooks/checkpoints/stats_v-1_lg_18.json\n",
      "removing /mnt/d/workspace/clotho/notebooks/checkpoints/harness_v-1_lg_18.pkl\n",
      "best model: /mnt/d/workspace/clotho/notebooks/checkpoints/harness_v-1_lg_3.pkl\n",
      "best train: 0.7384\n",
      "best train val: 0.7286\n",
      "best test: 0.6355\n",
      "epoch 20 version: -1\n"
     ]
    },
    {
     "data": {
      "application/vnd.jupyter.widget-view+json": {
       "model_id": "f86d0e17702041209b51120c93d002bd",
       "version_major": 2,
       "version_minor": 0
      },
      "text/plain": [
       "train:   0%|          | 0/20000 [00:00<?, ?it/s]"
      ]
     },
     "metadata": {},
     "output_type": "display_data"
    },
    {
     "data": {
      "application/vnd.jupyter.widget-view+json": {
       "model_id": "a3ecc5b0e2ec452caf18593ba20bf784",
       "version_major": 2,
       "version_minor": 0
      },
      "text/plain": [
       "train val:   0%|          | 0/10000 [00:00<?, ?it/s]"
      ]
     },
     "metadata": {},
     "output_type": "display_data"
    },
    {
     "data": {
      "application/vnd.jupyter.widget-view+json": {
       "model_id": "e15d06a430c54599b05d3cb3a53d2b74",
       "version_major": 2,
       "version_minor": 0
      },
      "text/plain": [
       "test:   0%|          | 0/10000 [00:00<?, ?it/s]"
      ]
     },
     "metadata": {},
     "output_type": "display_data"
    },
    {
     "name": "stdout",
     "output_type": "stream",
     "text": [
      "train: 0.6476 loss: 0.5785623337294906\n",
      "train val: 0.7012 loss: 0.5731244492650032\n",
      "test: 0.6033 loss: 0.6502480636596679\n",
      "epoch time: 81.01min\n",
      "removing /mnt/d/workspace/clotho/notebooks/checkpoints/stats_v-1_lg_19.json\n",
      "removing /mnt/d/workspace/clotho/notebooks/checkpoints/harness_v-1_lg_19.pkl\n",
      "best model: /mnt/d/workspace/clotho/notebooks/checkpoints/harness_v-1_lg_3.pkl\n",
      "best train: 0.7384\n",
      "best train val: 0.7286\n",
      "best test: 0.6355\n",
      "epoch 21 version: -1\n"
     ]
    },
    {
     "data": {
      "application/vnd.jupyter.widget-view+json": {
       "model_id": "3e58ed64cc284212a467ab29a0daf551",
       "version_major": 2,
       "version_minor": 0
      },
      "text/plain": [
       "train:   0%|          | 0/20000 [00:00<?, ?it/s]"
      ]
     },
     "metadata": {},
     "output_type": "display_data"
    },
    {
     "data": {
      "application/vnd.jupyter.widget-view+json": {
       "model_id": "09c39d8cefe84d899a1e4f5e402b43eb",
       "version_major": 2,
       "version_minor": 0
      },
      "text/plain": [
       "train val:   0%|          | 0/10000 [00:00<?, ?it/s]"
      ]
     },
     "metadata": {},
     "output_type": "display_data"
    },
    {
     "data": {
      "application/vnd.jupyter.widget-view+json": {
       "model_id": "7eef85059cf440039c63d1f6e977aa7f",
       "version_major": 2,
       "version_minor": 0
      },
      "text/plain": [
       "test:   0%|          | 0/10000 [00:00<?, ?it/s]"
      ]
     },
     "metadata": {},
     "output_type": "display_data"
    },
    {
     "name": "stdout",
     "output_type": "stream",
     "text": [
      "train: 0.6453 loss: 0.5845880770996214\n",
      "train val: 0.6853 loss: 0.5851933311223984\n",
      "test: 0.5984 loss: 0.653357640016079\n",
      "epoch time: 84.79min\n",
      "removing /mnt/d/workspace/clotho/notebooks/checkpoints/stats_v-1_lg_20.json\n",
      "removing /mnt/d/workspace/clotho/notebooks/checkpoints/harness_v-1_lg_20.pkl\n",
      "best model: /mnt/d/workspace/clotho/notebooks/checkpoints/harness_v-1_lg_3.pkl\n",
      "best train: 0.7384\n",
      "best train val: 0.7286\n",
      "best test: 0.6355\n",
      "epoch 22 version: -1\n"
     ]
    },
    {
     "data": {
      "application/vnd.jupyter.widget-view+json": {
       "model_id": "81bc9a190c034a189303560ff1627a6c",
       "version_major": 2,
       "version_minor": 0
      },
      "text/plain": [
       "train:   0%|          | 0/20000 [00:00<?, ?it/s]"
      ]
     },
     "metadata": {},
     "output_type": "display_data"
    },
    {
     "data": {
      "application/vnd.jupyter.widget-view+json": {
       "model_id": "0616bc198bad439b9b57225a4342d71f",
       "version_major": 2,
       "version_minor": 0
      },
      "text/plain": [
       "train val:   0%|          | 0/10000 [00:00<?, ?it/s]"
      ]
     },
     "metadata": {},
     "output_type": "display_data"
    },
    {
     "data": {
      "application/vnd.jupyter.widget-view+json": {
       "model_id": "59786e9bd69b43df864f4a7b7ac2264b",
       "version_major": 2,
       "version_minor": 0
      },
      "text/plain": [
       "test:   0%|          | 0/10000 [00:00<?, ?it/s]"
      ]
     },
     "metadata": {},
     "output_type": "display_data"
    },
    {
     "name": "stdout",
     "output_type": "stream",
     "text": [
      "train: 0.64215 loss: 0.9563763603620231\n",
      "train val: 0.6743 loss: 0.5771103532195091\n",
      "test: 0.5755 loss: 0.6673170557260514\n",
      "epoch time: 88.16min\n",
      "removing /mnt/d/workspace/clotho/notebooks/checkpoints/stats_v-1_lg_21.json\n",
      "removing /mnt/d/workspace/clotho/notebooks/checkpoints/harness_v-1_lg_21.pkl\n",
      "best model: /mnt/d/workspace/clotho/notebooks/checkpoints/harness_v-1_lg_3.pkl\n",
      "best train: 0.7384\n",
      "best train val: 0.7286\n",
      "best test: 0.6355\n",
      "epoch 23 version: -1\n"
     ]
    },
    {
     "data": {
      "application/vnd.jupyter.widget-view+json": {
       "model_id": "06b956b403ab4ee2ac026cf871809677",
       "version_major": 2,
       "version_minor": 0
      },
      "text/plain": [
       "train:   0%|          | 0/20000 [00:00<?, ?it/s]"
      ]
     },
     "metadata": {},
     "output_type": "display_data"
    },
    {
     "data": {
      "application/vnd.jupyter.widget-view+json": {
       "model_id": "54645e17250b422a95111ec3cb48ace1",
       "version_major": 2,
       "version_minor": 0
      },
      "text/plain": [
       "train val:   0%|          | 0/10000 [00:00<?, ?it/s]"
      ]
     },
     "metadata": {},
     "output_type": "display_data"
    },
    {
     "data": {
      "application/vnd.jupyter.widget-view+json": {
       "model_id": "3174f401b8904be9ae79255ba358d43b",
       "version_major": 2,
       "version_minor": 0
      },
      "text/plain": [
       "test:   0%|          | 0/10000 [00:00<?, ?it/s]"
      ]
     },
     "metadata": {},
     "output_type": "display_data"
    },
    {
     "name": "stdout",
     "output_type": "stream",
     "text": [
      "train: 0.6439 loss: 0.5864277446314693\n",
      "train val: 0.7052 loss: 0.5517686339020729\n",
      "test: 0.5958 loss: 0.6454229927241802\n",
      "epoch time: 89.84min\n",
      "removing /mnt/d/workspace/clotho/notebooks/checkpoints/stats_v-1_lg_22.json\n",
      "removing /mnt/d/workspace/clotho/notebooks/checkpoints/harness_v-1_lg_22.pkl\n",
      "best model: /mnt/d/workspace/clotho/notebooks/checkpoints/harness_v-1_lg_3.pkl\n",
      "best train: 0.7384\n",
      "best train val: 0.7286\n",
      "best test: 0.6355\n",
      "epoch 24 version: -1\n"
     ]
    },
    {
     "data": {
      "application/vnd.jupyter.widget-view+json": {
       "model_id": "00635685739c4ef3b28b07c8b1e446ab",
       "version_major": 2,
       "version_minor": 0
      },
      "text/plain": [
       "train:   0%|          | 0/20000 [00:00<?, ?it/s]"
      ]
     },
     "metadata": {},
     "output_type": "display_data"
    },
    {
     "data": {
      "application/vnd.jupyter.widget-view+json": {
       "model_id": "1000fdaa73114f02b06a97fa0c26fd85",
       "version_major": 2,
       "version_minor": 0
      },
      "text/plain": [
       "train val:   0%|          | 0/10000 [00:00<?, ?it/s]"
      ]
     },
     "metadata": {},
     "output_type": "display_data"
    },
    {
     "data": {
      "application/vnd.jupyter.widget-view+json": {
       "model_id": "4d615046d9bd4c98b24bb2b69cf8fbc8",
       "version_major": 2,
       "version_minor": 0
      },
      "text/plain": [
       "test:   0%|          | 0/10000 [00:00<?, ?it/s]"
      ]
     },
     "metadata": {},
     "output_type": "display_data"
    },
    {
     "name": "stdout",
     "output_type": "stream",
     "text": [
      "train: 0.63385 loss: 0.6004580841161311\n",
      "train val: 0.6254 loss: 0.6312077641010284\n",
      "test: 0.5879 loss: 0.6607893728017807\n",
      "epoch time: 88.07min\n",
      "removing /mnt/d/workspace/clotho/notebooks/checkpoints/stats_v-1_lg_23.json\n",
      "removing /mnt/d/workspace/clotho/notebooks/checkpoints/harness_v-1_lg_23.pkl\n",
      "best model: /mnt/d/workspace/clotho/notebooks/checkpoints/harness_v-1_lg_3.pkl\n",
      "best train: 0.7384\n",
      "best train val: 0.7286\n",
      "best test: 0.6355\n",
      "epoch 25 version: -1\n"
     ]
    },
    {
     "data": {
      "application/vnd.jupyter.widget-view+json": {
       "model_id": "626fea884c804d23bb6c44493c042532",
       "version_major": 2,
       "version_minor": 0
      },
      "text/plain": [
       "train:   0%|          | 0/20000 [00:00<?, ?it/s]"
      ]
     },
     "metadata": {},
     "output_type": "display_data"
    },
    {
     "data": {
      "application/vnd.jupyter.widget-view+json": {
       "model_id": "95dc487a5faf4e1eba0f79d767574b65",
       "version_major": 2,
       "version_minor": 0
      },
      "text/plain": [
       "train val:   0%|          | 0/10000 [00:00<?, ?it/s]"
      ]
     },
     "metadata": {},
     "output_type": "display_data"
    },
    {
     "data": {
      "application/vnd.jupyter.widget-view+json": {
       "model_id": "5028f76b025345dfaae50dbbab9b4e97",
       "version_major": 2,
       "version_minor": 0
      },
      "text/plain": [
       "test:   0%|          | 0/10000 [00:00<?, ?it/s]"
      ]
     },
     "metadata": {},
     "output_type": "display_data"
    },
    {
     "name": "stdout",
     "output_type": "stream",
     "text": [
      "train: 0.63735 loss: 0.590343584985286\n",
      "train val: 0.685 loss: 0.5762076863110065\n",
      "test: 0.569 loss: 0.6720563063383103\n",
      "epoch time: 89.60min\n",
      "removing /mnt/d/workspace/clotho/notebooks/checkpoints/stats_v-1_lg_24.json\n",
      "removing /mnt/d/workspace/clotho/notebooks/checkpoints/harness_v-1_lg_24.pkl\n",
      "best model: /mnt/d/workspace/clotho/notebooks/checkpoints/harness_v-1_lg_3.pkl\n",
      "best train: 0.7384\n",
      "best train val: 0.7286\n",
      "best test: 0.6355\n",
      "epoch 26 version: -1\n"
     ]
    },
    {
     "data": {
      "application/vnd.jupyter.widget-view+json": {
       "model_id": "1e963d1a27374296a8d83260b8b49ee4",
       "version_major": 2,
       "version_minor": 0
      },
      "text/plain": [
       "train:   0%|          | 0/20000 [00:00<?, ?it/s]"
      ]
     },
     "metadata": {},
     "output_type": "display_data"
    },
    {
     "data": {
      "application/vnd.jupyter.widget-view+json": {
       "model_id": "9a76ec68799c4a2ca983d7f0424ec0ac",
       "version_major": 2,
       "version_minor": 0
      },
      "text/plain": [
       "train val:   0%|          | 0/10000 [00:00<?, ?it/s]"
      ]
     },
     "metadata": {},
     "output_type": "display_data"
    },
    {
     "data": {
      "application/vnd.jupyter.widget-view+json": {
       "model_id": "4da1fa05a45e46dbad71cf050d16653f",
       "version_major": 2,
       "version_minor": 0
      },
      "text/plain": [
       "test:   0%|          | 0/10000 [00:00<?, ?it/s]"
      ]
     },
     "metadata": {},
     "output_type": "display_data"
    },
    {
     "name": "stdout",
     "output_type": "stream",
     "text": [
      "train: 0.6356 loss: 0.5845916539721191\n",
      "train val: 0.6924 loss: 0.5747366861224175\n",
      "test: 0.59 loss: 0.6599507623076439\n",
      "epoch time: 88.57min\n",
      "removing /mnt/d/workspace/clotho/notebooks/checkpoints/stats_v-1_lg_25.json\n",
      "removing /mnt/d/workspace/clotho/notebooks/checkpoints/harness_v-1_lg_25.pkl\n",
      "best model: /mnt/d/workspace/clotho/notebooks/checkpoints/harness_v-1_lg_3.pkl\n",
      "best train: 0.7384\n",
      "best train val: 0.7286\n",
      "best test: 0.6355\n",
      "epoch 27 version: -1\n"
     ]
    },
    {
     "data": {
      "application/vnd.jupyter.widget-view+json": {
       "model_id": "dac381e8c6264b99bc887afe3c87c459",
       "version_major": 2,
       "version_minor": 0
      },
      "text/plain": [
       "train:   0%|          | 0/20000 [00:00<?, ?it/s]"
      ]
     },
     "metadata": {},
     "output_type": "display_data"
    },
    {
     "data": {
      "application/vnd.jupyter.widget-view+json": {
       "model_id": "8a79cb8cd1be48859e38578de04d427c",
       "version_major": 2,
       "version_minor": 0
      },
      "text/plain": [
       "train val:   0%|          | 0/10000 [00:00<?, ?it/s]"
      ]
     },
     "metadata": {},
     "output_type": "display_data"
    },
    {
     "data": {
      "application/vnd.jupyter.widget-view+json": {
       "model_id": "256130157d974bf693b427a4f8e503b2",
       "version_major": 2,
       "version_minor": 0
      },
      "text/plain": [
       "test:   0%|          | 0/10000 [00:00<?, ?it/s]"
      ]
     },
     "metadata": {},
     "output_type": "display_data"
    },
    {
     "name": "stdout",
     "output_type": "stream",
     "text": [
      "train: 0.64495 loss: 0.5836259418576956\n",
      "train val: 0.6952 loss: 0.5505485960066319\n",
      "test: 0.6006 loss: 0.6462153318285943\n",
      "epoch time: 89.83min\n",
      "removing /mnt/d/workspace/clotho/notebooks/checkpoints/stats_v-1_lg_26.json\n",
      "removing /mnt/d/workspace/clotho/notebooks/checkpoints/harness_v-1_lg_26.pkl\n",
      "best model: /mnt/d/workspace/clotho/notebooks/checkpoints/harness_v-1_lg_3.pkl\n",
      "best train: 0.7384\n",
      "best train val: 0.7286\n",
      "best test: 0.6355\n",
      "epoch 28 version: -1\n"
     ]
    },
    {
     "data": {
      "application/vnd.jupyter.widget-view+json": {
       "model_id": "c0533fe2f4c44c92b71b0783a9d3fd02",
       "version_major": 2,
       "version_minor": 0
      },
      "text/plain": [
       "train:   0%|          | 0/20000 [00:00<?, ?it/s]"
      ]
     },
     "metadata": {},
     "output_type": "display_data"
    },
    {
     "data": {
      "application/vnd.jupyter.widget-view+json": {
       "model_id": "67f1eef4a6184c1da12cac2c98b205a8",
       "version_major": 2,
       "version_minor": 0
      },
      "text/plain": [
       "train val:   0%|          | 0/10000 [00:00<?, ?it/s]"
      ]
     },
     "metadata": {},
     "output_type": "display_data"
    },
    {
     "data": {
      "application/vnd.jupyter.widget-view+json": {
       "model_id": "1b65c46330a04071be7860728693e062",
       "version_major": 2,
       "version_minor": 0
      },
      "text/plain": [
       "test:   0%|          | 0/10000 [00:00<?, ?it/s]"
      ]
     },
     "metadata": {},
     "output_type": "display_data"
    },
    {
     "name": "stdout",
     "output_type": "stream",
     "text": [
      "train: 0.641 loss: 0.581787889508158\n",
      "train val: 0.6963 loss: 0.5720851927399635\n",
      "test: 0.5898 loss: 0.6549621745228767\n",
      "epoch time: 89.59min\n",
      "removing /mnt/d/workspace/clotho/notebooks/checkpoints/stats_v-1_lg_27.json\n",
      "removing /mnt/d/workspace/clotho/notebooks/checkpoints/harness_v-1_lg_27.pkl\n",
      "best model: /mnt/d/workspace/clotho/notebooks/checkpoints/harness_v-1_lg_3.pkl\n",
      "best train: 0.7384\n",
      "best train val: 0.7286\n",
      "best test: 0.6355\n",
      "epoch 29 version: -1\n"
     ]
    },
    {
     "data": {
      "application/vnd.jupyter.widget-view+json": {
       "model_id": "5c1cd77448c34e8eb46c9167b6099fc8",
       "version_major": 2,
       "version_minor": 0
      },
      "text/plain": [
       "train:   0%|          | 0/20000 [00:00<?, ?it/s]"
      ]
     },
     "metadata": {},
     "output_type": "display_data"
    },
    {
     "data": {
      "application/vnd.jupyter.widget-view+json": {
       "model_id": "54606b08cf3f40bba0e0e8c88b6da21d",
       "version_major": 2,
       "version_minor": 0
      },
      "text/plain": [
       "train val:   0%|          | 0/10000 [00:00<?, ?it/s]"
      ]
     },
     "metadata": {},
     "output_type": "display_data"
    },
    {
     "data": {
      "application/vnd.jupyter.widget-view+json": {
       "model_id": "94c45bc1586a4852884c9d2439938f03",
       "version_major": 2,
       "version_minor": 0
      },
      "text/plain": [
       "test:   0%|          | 0/10000 [00:00<?, ?it/s]"
      ]
     },
     "metadata": {},
     "output_type": "display_data"
    },
    {
     "name": "stdout",
     "output_type": "stream",
     "text": [
      "train: 0.639 loss: 0.5855579840373248\n",
      "train val: 0.693 loss: 0.5727791177213192\n",
      "test: 0.5958 loss: 0.6543426186203957\n",
      "epoch time: 88.88min\n",
      "removing /mnt/d/workspace/clotho/notebooks/checkpoints/stats_v-1_lg_28.json\n",
      "removing /mnt/d/workspace/clotho/notebooks/checkpoints/harness_v-1_lg_28.pkl\n",
      "best model: /mnt/d/workspace/clotho/notebooks/checkpoints/harness_v-1_lg_3.pkl\n",
      "best train: 0.7384\n",
      "best train val: 0.7286\n",
      "best test: 0.6355\n"
     ]
    },
    {
     "data": {
      "application/vnd.jupyter.widget-view+json": {
       "model_id": "15665883c804456ea00e9d972755a808",
       "version_major": 2,
       "version_minor": 0
      },
      "text/plain": [
       "test val:   0%|          | 0/10000 [00:00<?, ?it/s]"
      ]
     },
     "metadata": {},
     "output_type": "display_data"
    },
    {
     "name": "stdout",
     "output_type": "stream",
     "text": [
      "test val: {'accuracy': 0.5956} loss: 0.6514595863461494\n",
      "correct\n"
     ]
    },
    {
     "data": {
      "text/html": [
       "<div>\n",
       "<style scoped>\n",
       "    .dataframe tbody tr th:only-of-type {\n",
       "        vertical-align: middle;\n",
       "    }\n",
       "\n",
       "    .dataframe tbody tr th {\n",
       "        vertical-align: top;\n",
       "    }\n",
       "\n",
       "    .dataframe thead th {\n",
       "        text-align: right;\n",
       "    }\n",
       "</style>\n",
       "<table border=\"1\" class=\"dataframe\">\n",
       "  <thead>\n",
       "    <tr style=\"text-align: right;\">\n",
       "      <th></th>\n",
       "      <th>gen_name</th>\n",
       "      <th>parent_left</th>\n",
       "      <th>child_left</th>\n",
       "      <th>parent_right</th>\n",
       "      <th>child_right</th>\n",
       "      <th>sway_left</th>\n",
       "      <th>sway_right</th>\n",
       "      <th>correct_is_right</th>\n",
       "      <th>logit_left</th>\n",
       "      <th>logit_right</th>\n",
       "      <th>preds</th>\n",
       "      <th>truth</th>\n",
       "    </tr>\n",
       "  </thead>\n",
       "  <tbody>\n",
       "    <tr>\n",
       "      <th>1</th>\n",
       "      <td>*valid--!copy;(st)</td>\n",
       "      <td>How do men feel about the \"men will fuck anyth...</td>\n",
       "      <td>Not really positive, I’d need to fuck it first.</td>\n",
       "      <td>Not really positive, I’d need to fuck it first.</td>\n",
       "      <td>How do men feel about the \"men will fuck anyth...</td>\n",
       "      <td>0.880797</td>\n",
       "      <td>0.119203</td>\n",
       "      <td>False</td>\n",
       "      <td>0.502861</td>\n",
       "      <td>0.497139</td>\n",
       "      <td>0</td>\n",
       "      <td>0</td>\n",
       "    </tr>\n",
       "    <tr>\n",
       "      <th>0</th>\n",
       "      <td>random--valid;(st)</td>\n",
       "      <td>Once is better than twice</td>\n",
       "      <td>Going too fast and coming out, hitting the buf...</td>\n",
       "      <td>What is 'hands down' the best Ice-cream flavour?</td>\n",
       "      <td>Pistacchio</td>\n",
       "      <td>0.000000</td>\n",
       "      <td>1.000000</td>\n",
       "      <td>True</td>\n",
       "      <td>0.351436</td>\n",
       "      <td>0.648564</td>\n",
       "      <td>1</td>\n",
       "      <td>1</td>\n",
       "    </tr>\n",
       "    <tr>\n",
       "      <th>0</th>\n",
       "      <td>*valid--random;(st)</td>\n",
       "      <td>What’s your controversial food opinion?</td>\n",
       "      <td>I like chocolate candy enough, but i'll usuall...</td>\n",
       "      <td>\"consent\" is the lack of disagreement. By defi...</td>\n",
       "      <td>Yeah, I agree with you 100%. The sad part is t...</td>\n",
       "      <td>0.731059</td>\n",
       "      <td>0.268941</td>\n",
       "      <td>False</td>\n",
       "      <td>0.658205</td>\n",
       "      <td>0.341795</td>\n",
       "      <td>0</td>\n",
       "      <td>0</td>\n",
       "    </tr>\n",
       "    <tr>\n",
       "      <th>1</th>\n",
       "      <td>*valid--!copy;(st)</td>\n",
       "      <td>You're trapped inside the last video game you ...</td>\n",
       "      <td>Death Stranding.....god help me</td>\n",
       "      <td>Death Stranding.....god help me</td>\n",
       "      <td>You're trapped inside the last video game you ...</td>\n",
       "      <td>0.997527</td>\n",
       "      <td>0.002473</td>\n",
       "      <td>False</td>\n",
       "      <td>0.500435</td>\n",
       "      <td>0.499565</td>\n",
       "      <td>0</td>\n",
       "      <td>0</td>\n",
       "    </tr>\n",
       "    <tr>\n",
       "      <th>2</th>\n",
       "      <td>*valid--random;(st)</td>\n",
       "      <td>Hypothetically, if you \\_absolute\\_ had to, ho...</td>\n",
       "      <td>A wet cloth over your nose and mouth may help ...</td>\n",
       "      <td>A snickers</td>\n",
       "      <td>My best friend and I are both deeply in love. ...</td>\n",
       "      <td>0.999665</td>\n",
       "      <td>0.000335</td>\n",
       "      <td>False</td>\n",
       "      <td>0.632183</td>\n",
       "      <td>0.367816</td>\n",
       "      <td>0</td>\n",
       "      <td>0</td>\n",
       "    </tr>\n",
       "  </tbody>\n",
       "</table>\n",
       "</div>"
      ],
      "text/plain": [
       "              gen_name                                        parent_left  \\\n",
       "1   *valid--!copy;(st)  How do men feel about the \"men will fuck anyth...   \n",
       "0   random--valid;(st)                          Once is better than twice   \n",
       "0  *valid--random;(st)            What’s your controversial food opinion?   \n",
       "1   *valid--!copy;(st)  You're trapped inside the last video game you ...   \n",
       "2  *valid--random;(st)  Hypothetically, if you \\_absolute\\_ had to, ho...   \n",
       "\n",
       "                                          child_left  \\\n",
       "1    Not really positive, I’d need to fuck it first.   \n",
       "0  Going too fast and coming out, hitting the buf...   \n",
       "0  I like chocolate candy enough, but i'll usuall...   \n",
       "1                    Death Stranding.....god help me   \n",
       "2  A wet cloth over your nose and mouth may help ...   \n",
       "\n",
       "                                        parent_right  \\\n",
       "1    Not really positive, I’d need to fuck it first.   \n",
       "0   What is 'hands down' the best Ice-cream flavour?   \n",
       "0  \"consent\" is the lack of disagreement. By defi...   \n",
       "1                    Death Stranding.....god help me   \n",
       "2                                         A snickers   \n",
       "\n",
       "                                         child_right  sway_left  sway_right  \\\n",
       "1  How do men feel about the \"men will fuck anyth...   0.880797    0.119203   \n",
       "0                                         Pistacchio   0.000000    1.000000   \n",
       "0  Yeah, I agree with you 100%. The sad part is t...   0.731059    0.268941   \n",
       "1  You're trapped inside the last video game you ...   0.997527    0.002473   \n",
       "2  My best friend and I are both deeply in love. ...   0.999665    0.000335   \n",
       "\n",
       "   correct_is_right  logit_left  logit_right  preds  truth  \n",
       "1             False    0.502861     0.497139      0      0  \n",
       "0              True    0.351436     0.648564      1      1  \n",
       "0             False    0.658205     0.341795      0      0  \n",
       "1             False    0.500435     0.499565      0      0  \n",
       "2             False    0.632183     0.367816      0      0  "
      ]
     },
     "metadata": {},
     "output_type": "display_data"
    },
    {
     "name": "stdout",
     "output_type": "stream",
     "text": [
      "incorrect\n"
     ]
    },
    {
     "data": {
      "text/html": [
       "<div>\n",
       "<style scoped>\n",
       "    .dataframe tbody tr th:only-of-type {\n",
       "        vertical-align: middle;\n",
       "    }\n",
       "\n",
       "    .dataframe tbody tr th {\n",
       "        vertical-align: top;\n",
       "    }\n",
       "\n",
       "    .dataframe thead th {\n",
       "        text-align: right;\n",
       "    }\n",
       "</style>\n",
       "<table border=\"1\" class=\"dataframe\">\n",
       "  <thead>\n",
       "    <tr style=\"text-align: right;\">\n",
       "      <th></th>\n",
       "      <th>gen_name</th>\n",
       "      <th>parent_left</th>\n",
       "      <th>child_left</th>\n",
       "      <th>parent_right</th>\n",
       "      <th>child_right</th>\n",
       "      <th>sway_left</th>\n",
       "      <th>sway_right</th>\n",
       "      <th>correct_is_right</th>\n",
       "      <th>logit_left</th>\n",
       "      <th>logit_right</th>\n",
       "      <th>preds</th>\n",
       "      <th>truth</th>\n",
       "    </tr>\n",
       "  </thead>\n",
       "  <tbody>\n",
       "    <tr>\n",
       "      <th>0</th>\n",
       "      <td>!copy--valid;(st)</td>\n",
       "      <td>Those pits with the spikes at the bottom</td>\n",
       "      <td>What's one of life's biggest traps that people...</td>\n",
       "      <td>What's one of life's biggest traps that people...</td>\n",
       "      <td>Those pits with the spikes at the bottom</td>\n",
       "      <td>0.268941</td>\n",
       "      <td>0.731059</td>\n",
       "      <td>True</td>\n",
       "      <td>0.500938</td>\n",
       "      <td>0.499062</td>\n",
       "      <td>0</td>\n",
       "      <td>1</td>\n",
       "    </tr>\n",
       "    <tr>\n",
       "      <th>2</th>\n",
       "      <td>random--valid;(st)</td>\n",
       "      <td>Absolutely. I do appreciate the fact he was ho...</td>\n",
       "      <td>Literally</td>\n",
       "      <td>Question for the men, what's the worst part of...</td>\n",
       "      <td>The constant burning desire to use it on women</td>\n",
       "      <td>0.268941</td>\n",
       "      <td>0.731059</td>\n",
       "      <td>True</td>\n",
       "      <td>0.532638</td>\n",
       "      <td>0.467362</td>\n",
       "      <td>0</td>\n",
       "      <td>1</td>\n",
       "    </tr>\n",
       "    <tr>\n",
       "      <th>3</th>\n",
       "      <td>random--valid;(st)</td>\n",
       "      <td>Save Money.</td>\n",
       "      <td>e * i * PI.</td>\n",
       "      <td>They dress like and try to act like they are g...</td>\n",
       "      <td>...Merle Haggard, Lefty Frizzell, Travis Tritt...</td>\n",
       "      <td>0.000006</td>\n",
       "      <td>0.999994</td>\n",
       "      <td>True</td>\n",
       "      <td>0.524749</td>\n",
       "      <td>0.475251</td>\n",
       "      <td>0</td>\n",
       "      <td>1</td>\n",
       "    </tr>\n",
       "    <tr>\n",
       "      <th>1</th>\n",
       "      <td>random--valid;(st)</td>\n",
       "      <td>When i was 15 i asked google how to get high w...</td>\n",
       "      <td>Top of the mornin</td>\n",
       "      <td>Met up with this guy from Tinder. After talkin...</td>\n",
       "      <td>r/suspiciouslyspecific</td>\n",
       "      <td>0.000335</td>\n",
       "      <td>0.999665</td>\n",
       "      <td>True</td>\n",
       "      <td>0.566180</td>\n",
       "      <td>0.433820</td>\n",
       "      <td>0</td>\n",
       "      <td>1</td>\n",
       "    </tr>\n",
       "    <tr>\n",
       "      <th>2</th>\n",
       "      <td>!copy--valid;(st)</td>\n",
       "      <td>Sit up straight</td>\n",
       "      <td>What should one do in their 20s to avoid regre...</td>\n",
       "      <td>What should one do in their 20s to avoid regre...</td>\n",
       "      <td>Sit up straight</td>\n",
       "      <td>0.268941</td>\n",
       "      <td>0.731059</td>\n",
       "      <td>True</td>\n",
       "      <td>0.500130</td>\n",
       "      <td>0.499870</td>\n",
       "      <td>0</td>\n",
       "      <td>1</td>\n",
       "    </tr>\n",
       "  </tbody>\n",
       "</table>\n",
       "</div>"
      ],
      "text/plain": [
       "             gen_name                                        parent_left  \\\n",
       "0   !copy--valid;(st)           Those pits with the spikes at the bottom   \n",
       "2  random--valid;(st)  Absolutely. I do appreciate the fact he was ho...   \n",
       "3  random--valid;(st)                                        Save Money.   \n",
       "1  random--valid;(st)  When i was 15 i asked google how to get high w...   \n",
       "2   !copy--valid;(st)                                    Sit up straight   \n",
       "\n",
       "                                          child_left  \\\n",
       "0  What's one of life's biggest traps that people...   \n",
       "2                                          Literally   \n",
       "3                                        e * i * PI.   \n",
       "1                                  Top of the mornin   \n",
       "2  What should one do in their 20s to avoid regre...   \n",
       "\n",
       "                                        parent_right  \\\n",
       "0  What's one of life's biggest traps that people...   \n",
       "2  Question for the men, what's the worst part of...   \n",
       "3  They dress like and try to act like they are g...   \n",
       "1  Met up with this guy from Tinder. After talkin...   \n",
       "2  What should one do in their 20s to avoid regre...   \n",
       "\n",
       "                                         child_right  sway_left  sway_right  \\\n",
       "0           Those pits with the spikes at the bottom   0.268941    0.731059   \n",
       "2     The constant burning desire to use it on women   0.268941    0.731059   \n",
       "3  ...Merle Haggard, Lefty Frizzell, Travis Tritt...   0.000006    0.999994   \n",
       "1                             r/suspiciouslyspecific   0.000335    0.999665   \n",
       "2                                    Sit up straight   0.268941    0.731059   \n",
       "\n",
       "   correct_is_right  logit_left  logit_right  preds  truth  \n",
       "0              True    0.500938     0.499062      0      1  \n",
       "2              True    0.532638     0.467362      0      1  \n",
       "3              True    0.524749     0.475251      0      1  \n",
       "1              True    0.566180     0.433820      0      1  \n",
       "2              True    0.500130     0.499870      0      1  "
      ]
     },
     "metadata": {},
     "output_type": "display_data"
    },
    {
     "data": {
      "text/plain": [
       "array([[0.05172537, 0.2616654 , 0.16059825, ..., 0.18875706, 0.09090954,\n",
       "        0.0569493 ],\n",
       "       [0.0667818 , 0.23610862, 0.17338227, ..., 0.21642873, 0.08729238,\n",
       "        0.13777624],\n",
       "       [0.05132895, 0.26178664, 0.15636002, ..., 0.20011243, 0.0822215 ,\n",
       "        0.1014479 ],\n",
       "       [0.04436886, 0.2747853 , 0.15668908, ..., 0.2243459 , 0.09403652,\n",
       "        0.10423953]], dtype=float32)"
      ]
     },
     "metadata": {},
     "output_type": "display_data"
    },
    {
     "data": {
      "text/plain": [
       "array([[0.10485673, 0.24969472, 0.14840814, ..., 0.22476393, 0.07986017,\n",
       "        0.12184577],\n",
       "       [0.03457205, 0.23018454, 0.20052108, ..., 0.20018904, 0.10036353,\n",
       "        0.07910628],\n",
       "       [0.07416499, 0.27039415, 0.15739883, ..., 0.21843106, 0.08888397,\n",
       "        0.1253656 ],\n",
       "       [0.08307   , 0.25807709, 0.1745292 , ..., 0.21982375, 0.09519888,\n",
       "        0.11396834]], dtype=float32)"
      ]
     },
     "metadata": {},
     "output_type": "display_data"
    },
    {
     "data": {
      "text/plain": [
       "array([[0.10809328, 0.24856174, 0.18278542, ..., 0.2267617 , 0.11335384,\n",
       "        0.13215177],\n",
       "       [0.03338067, 0.2578455 , 0.159392  , ..., 0.18650009, 0.10126952,\n",
       "        0.07427056],\n",
       "       [0.08723674, 0.22950628, 0.17995746, ..., 0.23410955, 0.08082322,\n",
       "        0.11344848],\n",
       "       [0.1221833 , 0.2955345 , 0.14812267, ..., 0.23145905, 0.09965942,\n",
       "        0.1166001 ]], dtype=float32)"
      ]
     },
     "metadata": {},
     "output_type": "display_data"
    },
    {
     "data": {
      "text/plain": [
       "array([[0.06975555, 0.26773864, 0.17263907, ..., 0.2291256 , 0.10721157,\n",
       "        0.10563242],\n",
       "       [0.07576317, 0.29177386, 0.15481092, ..., 0.23010202, 0.10351443,\n",
       "        0.10437338],\n",
       "       [0.03065643, 0.24088725, 0.14844838, ..., 0.17939828, 0.04985744,\n",
       "        0.13287757],\n",
       "       [0.09849106, 0.26060215, 0.1770672 , ..., 0.2311436 , 0.08980531,\n",
       "        0.153997  ]], dtype=float32)"
      ]
     },
     "metadata": {},
     "output_type": "display_data"
    },
    {
     "data": {
      "text/plain": [
       "array([[0.13462913, 0.27306882, 0.16230515, ..., 0.24041635, 0.09097393,\n",
       "        0.13100082],\n",
       "       [0.07982985, 0.26144907, 0.17884693, ..., 0.23426087, 0.09365927,\n",
       "        0.13433553],\n",
       "       [0.12603833, 0.2994165 , 0.14204693, ..., 0.20726651, 0.07357101,\n",
       "        0.07988702],\n",
       "       [0.10634112, 0.23392053, 0.16729814, ..., 0.23599091, 0.0597135 ,\n",
       "        0.13610387]], dtype=float32)"
      ]
     },
     "metadata": {},
     "output_type": "display_data"
    },
    {
     "data": {
      "text/plain": [
       "array([[0.04451372, 0.26753968, 0.14872947, ..., 0.2072586 , 0.05033529,\n",
       "        0.12699212],\n",
       "       [0.10094371, 0.27681297, 0.15124492, ..., 0.20351683, 0.08930163,\n",
       "        0.04914492],\n",
       "       [0.101463  , 0.24599555, 0.20501748, ..., 0.21281101, 0.08309069,\n",
       "        0.15020776],\n",
       "       [0.07212768, 0.24315128, 0.17190704, ..., 0.20010717, 0.07074664,\n",
       "        0.1240553 ]], dtype=float32)"
      ]
     },
     "metadata": {},
     "output_type": "display_data"
    },
    {
     "data": {
      "text/plain": [
       "array([[0.04088778, 0.22220714, 0.18750073, ..., 0.2110226 , 0.10171761,\n",
       "        0.09561012],\n",
       "       [0.07189051, 0.25865635, 0.19133043, ..., 0.21333188, 0.11329992,\n",
       "        0.09859306],\n",
       "       [0.10516229, 0.26286185, 0.1343041 , ..., 0.24138553, 0.03868827,\n",
       "        0.16120382],\n",
       "       [0.12646155, 0.2659252 , 0.15781476, ..., 0.21670517, 0.083362  ,\n",
       "        0.12453119]], dtype=float32)"
      ]
     },
     "metadata": {},
     "output_type": "display_data"
    },
    {
     "data": {
      "text/plain": [
       "array([[0.10278735, 0.261392  , 0.19462354, ..., 0.19629607, 0.10508237,\n",
       "        0.09148873],\n",
       "       [0.01169097, 0.21965125, 0.18232442, ..., 0.16835526, 0.07425379,\n",
       "        0.11272497],\n",
       "       [0.13274528, 0.27420542, 0.17499395, ..., 0.23856232, 0.09475509,\n",
       "        0.11544965],\n",
       "       [0.10445559, 0.2716134 , 0.19586547, ..., 0.23201224, 0.11532611,\n",
       "        0.10299481]], dtype=float32)"
      ]
     },
     "metadata": {},
     "output_type": "display_data"
    },
    {
     "data": {
      "text/plain": [
       "array([[0.04515429, 0.20944549, 0.16893414, ..., 0.23550043, 0.0762472 ,\n",
       "        0.1522683 ],\n",
       "       [0.1391955 , 0.27980894, 0.18513805, ..., 0.21002716, 0.085454  ,\n",
       "        0.10228127],\n",
       "       [0.10004909, 0.23407501, 0.1893128 , ..., 0.23639928, 0.08314568,\n",
       "        0.13458422],\n",
       "       [0.07630298, 0.2505793 , 0.17952417, ..., 0.23999168, 0.1128565 ,\n",
       "        0.08795626]], dtype=float32)"
      ]
     },
     "metadata": {},
     "output_type": "display_data"
    },
    {
     "data": {
      "text/plain": [
       "array([[0.05608737, 0.25853637, 0.1607169 , ..., 0.24087219, 0.1031827 ,\n",
       "        0.12489446],\n",
       "       [0.03183381, 0.22652684, 0.17239109, ..., 0.21221349, 0.09734751,\n",
       "        0.1003384 ],\n",
       "       [0.06282149, 0.23636988, 0.16687582, ..., 0.21612741, 0.09005637,\n",
       "        0.11346034],\n",
       "       [0.10946818, 0.27028346, 0.18167287, ..., 0.23133129, 0.08723096,\n",
       "        0.15608232]], dtype=float32)"
      ]
     },
     "metadata": {},
     "output_type": "display_data"
    }
   ],
   "source": [
    "full_run(num_epochs=30, version=-1, force_restart=False)"
   ]
  },
  {
   "cell_type": "code",
   "execution_count": 25,
   "id": "de6e5294-644a-4ae7-8eff-06e8ec593037",
   "metadata": {
    "collapsed": true,
    "jupyter": {
     "outputs_hidden": true
    },
    "tags": []
   },
   "outputs": [
    {
     "name": "stderr",
     "output_type": "stream",
     "text": [
      "Some weights of the model checkpoint at distilbert-base-uncased were not used when initializing DistilBertModel: ['vocab_transform.bias', 'vocab_projector.bias', 'vocab_projector.weight', 'vocab_layer_norm.bias', 'vocab_transform.weight', 'vocab_layer_norm.weight']\n",
      "- This IS expected if you are initializing DistilBertModel from the checkpoint of a model trained on another task or with another architecture (e.g. initializing a BertForSequenceClassification model from a BertForPreTraining model).\n",
      "- This IS NOT expected if you are initializing DistilBertModel from the checkpoint of a model that you expect to be exactly identical (initializing a BertForSequenceClassification model from a BertForSequenceClassification model).\n",
      "Some weights of the model checkpoint at distilbert-base-uncased were not used when initializing DistilBertModel: ['vocab_transform.bias', 'vocab_projector.bias', 'vocab_projector.weight', 'vocab_layer_norm.bias', 'vocab_transform.weight', 'vocab_layer_norm.weight']\n",
      "- This IS expected if you are initializing DistilBertModel from the checkpoint of a model trained on another task or with another architecture (e.g. initializing a BertForSequenceClassification model from a BertForPreTraining model).\n",
      "- This IS NOT expected if you are initializing DistilBertModel from the checkpoint of a model that you expect to be exactly identical (initializing a BertForSequenceClassification model from a BertForSequenceClassification model).\n"
     ]
    },
    {
     "name": "stdout",
     "output_type": "stream",
     "text": [
      "('harness_v7_lg_11.pkl', 11) 12\n",
      "epoch 12 version: 7\n"
     ]
    },
    {
     "data": {
      "application/vnd.jupyter.widget-view+json": {
       "model_id": "571bbc33c6a7418c9b8c93f87a4aff1e",
       "version_major": 2,
       "version_minor": 0
      },
      "text/plain": [
       "train:   0%|          | 0/20000 [00:00<?, ?it/s]"
      ]
     },
     "metadata": {},
     "output_type": "display_data"
    },
    {
     "data": {
      "application/vnd.jupyter.widget-view+json": {
       "model_id": "bdbca2b73d9345008f574208956ecf3b",
       "version_major": 2,
       "version_minor": 0
      },
      "text/plain": [
       "train val:   0%|          | 0/10000 [00:00<?, ?it/s]"
      ]
     },
     "metadata": {},
     "output_type": "display_data"
    },
    {
     "data": {
      "application/vnd.jupyter.widget-view+json": {
       "model_id": "5b21b2f3a99b4a50a6d95d715689f339",
       "version_major": 2,
       "version_minor": 0
      },
      "text/plain": [
       "test:   0%|          | 0/10000 [00:00<?, ?it/s]"
      ]
     },
     "metadata": {},
     "output_type": "display_data"
    },
    {
     "name": "stdout",
     "output_type": "stream",
     "text": [
      "train: 0.8316 loss: 0.3218663605826943\n",
      "train val: 0.7286 loss: 0.4963195043582935\n",
      "test: 0.6769 loss: 0.6066228310704231\n",
      "epoch time: 11.89min\n",
      "removing /mnt/d/workspace/clotho/notebooks/checkpoints/stats_v7_lg_11.json\n",
      "removing /mnt/d/workspace/clotho/notebooks/checkpoints/harness_v7_lg_11.pkl\n",
      "best model: /mnt/d/workspace/clotho/notebooks/checkpoints/harness_v7_lg_7.pkl\n",
      "best train: 0.86765\n",
      "best train val: 0.7702\n",
      "best test: 0.6667\n",
      "epoch 13 version: 7\n"
     ]
    },
    {
     "data": {
      "application/vnd.jupyter.widget-view+json": {
       "model_id": "f4151a255eae47cd8669c216412fd5cb",
       "version_major": 2,
       "version_minor": 0
      },
      "text/plain": [
       "train:   0%|          | 0/20000 [00:00<?, ?it/s]"
      ]
     },
     "metadata": {},
     "output_type": "display_data"
    },
    {
     "data": {
      "application/vnd.jupyter.widget-view+json": {
       "model_id": "77f9de164f8c474397ab123aeb0ca844",
       "version_major": 2,
       "version_minor": 0
      },
      "text/plain": [
       "train val:   0%|          | 0/10000 [00:00<?, ?it/s]"
      ]
     },
     "metadata": {},
     "output_type": "display_data"
    },
    {
     "data": {
      "application/vnd.jupyter.widget-view+json": {
       "model_id": "e260ac5b024c4df0b658951507919368",
       "version_major": 2,
       "version_minor": 0
      },
      "text/plain": [
       "test:   0%|          | 0/10000 [00:00<?, ?it/s]"
      ]
     },
     "metadata": {},
     "output_type": "display_data"
    },
    {
     "name": "stdout",
     "output_type": "stream",
     "text": [
      "train: 0.83465 loss: 0.3197351923821838\n",
      "train val: 0.725 loss: 0.4833948339025839\n",
      "test: 0.7125 loss: 0.6103091636538506\n",
      "epoch time: 12.43min\n",
      "removing /mnt/d/workspace/clotho/notebooks/checkpoints/stats_v7_lg_12.json\n",
      "removing /mnt/d/workspace/clotho/notebooks/checkpoints/harness_v7_lg_12.pkl\n",
      "best model: /mnt/d/workspace/clotho/notebooks/checkpoints/harness_v7_lg_7.pkl\n",
      "best train: 0.86765\n",
      "best train val: 0.7702\n",
      "best test: 0.6667\n",
      "epoch 14 version: 7\n"
     ]
    },
    {
     "data": {
      "application/vnd.jupyter.widget-view+json": {
       "model_id": "3d6e95063a5f4295aa95a02d56fea1f9",
       "version_major": 2,
       "version_minor": 0
      },
      "text/plain": [
       "train:   0%|          | 0/20000 [00:00<?, ?it/s]"
      ]
     },
     "metadata": {},
     "output_type": "display_data"
    },
    {
     "data": {
      "application/vnd.jupyter.widget-view+json": {
       "model_id": "cf3e48d5260d4ce1bc848229acdb10cd",
       "version_major": 2,
       "version_minor": 0
      },
      "text/plain": [
       "train val:   0%|          | 0/10000 [00:00<?, ?it/s]"
      ]
     },
     "metadata": {},
     "output_type": "display_data"
    },
    {
     "data": {
      "application/vnd.jupyter.widget-view+json": {
       "model_id": "8790fe8835cd4cdab022653e66019757",
       "version_major": 2,
       "version_minor": 0
      },
      "text/plain": [
       "test:   0%|          | 0/10000 [00:00<?, ?it/s]"
      ]
     },
     "metadata": {},
     "output_type": "display_data"
    },
    {
     "name": "stdout",
     "output_type": "stream",
     "text": [
      "train: 0.8253 loss: 0.3337356517088352\n",
      "train val: 0.732 loss: 0.46976738295692194\n",
      "test: 0.6804 loss: 0.6096486610293388\n",
      "epoch time: 11.68min\n",
      "removing /mnt/d/workspace/clotho/notebooks/checkpoints/stats_v7_lg_13.json\n",
      "removing /mnt/d/workspace/clotho/notebooks/checkpoints/harness_v7_lg_13.pkl\n",
      "best model: /mnt/d/workspace/clotho/notebooks/checkpoints/harness_v7_lg_7.pkl\n",
      "best train: 0.86765\n",
      "best train val: 0.7702\n",
      "best test: 0.6667\n",
      "epoch 15 version: 7\n"
     ]
    },
    {
     "data": {
      "application/vnd.jupyter.widget-view+json": {
       "model_id": "a428f3aabecb451e877ce5848a81e253",
       "version_major": 2,
       "version_minor": 0
      },
      "text/plain": [
       "train:   0%|          | 0/20000 [00:00<?, ?it/s]"
      ]
     },
     "metadata": {},
     "output_type": "display_data"
    },
    {
     "data": {
      "application/vnd.jupyter.widget-view+json": {
       "model_id": "62d619749bb3402e8009c61679f572fb",
       "version_major": 2,
       "version_minor": 0
      },
      "text/plain": [
       "train val:   0%|          | 0/10000 [00:00<?, ?it/s]"
      ]
     },
     "metadata": {},
     "output_type": "display_data"
    },
    {
     "data": {
      "application/vnd.jupyter.widget-view+json": {
       "model_id": "9407b14e25884130ba41f6aec8651602",
       "version_major": 2,
       "version_minor": 0
      },
      "text/plain": [
       "test:   0%|          | 0/10000 [00:00<?, ?it/s]"
      ]
     },
     "metadata": {},
     "output_type": "display_data"
    },
    {
     "name": "stdout",
     "output_type": "stream",
     "text": [
      "train: 0.8269 loss: 0.3343554809068167\n",
      "train val: 0.7261 loss: 0.4772868040919591\n",
      "test: 0.6713 loss: 0.6143515691936016\n",
      "epoch time: 12.09min\n",
      "removing /mnt/d/workspace/clotho/notebooks/checkpoints/stats_v7_lg_14.json\n",
      "removing /mnt/d/workspace/clotho/notebooks/checkpoints/harness_v7_lg_14.pkl\n",
      "best model: /mnt/d/workspace/clotho/notebooks/checkpoints/harness_v7_lg_7.pkl\n",
      "best train: 0.86765\n",
      "best train val: 0.7702\n",
      "best test: 0.6667\n",
      "epoch 16 version: 7\n"
     ]
    },
    {
     "data": {
      "application/vnd.jupyter.widget-view+json": {
       "model_id": "01262254768b40eea17ce3b9d243a9b7",
       "version_major": 2,
       "version_minor": 0
      },
      "text/plain": [
       "train:   0%|          | 0/20000 [00:00<?, ?it/s]"
      ]
     },
     "metadata": {},
     "output_type": "display_data"
    },
    {
     "data": {
      "application/vnd.jupyter.widget-view+json": {
       "model_id": "840c0e1082fd4fd68df024a0e55d1cf1",
       "version_major": 2,
       "version_minor": 0
      },
      "text/plain": [
       "train val:   0%|          | 0/10000 [00:00<?, ?it/s]"
      ]
     },
     "metadata": {},
     "output_type": "display_data"
    },
    {
     "data": {
      "application/vnd.jupyter.widget-view+json": {
       "model_id": "56c419b46ddf4bafa5d8909d872c5274",
       "version_major": 2,
       "version_minor": 0
      },
      "text/plain": [
       "test:   0%|          | 0/10000 [00:00<?, ?it/s]"
      ]
     },
     "metadata": {},
     "output_type": "display_data"
    },
    {
     "name": "stdout",
     "output_type": "stream",
     "text": [
      "train: 0.83015 loss: 0.36674712454255515\n",
      "train val: 0.7288 loss: 0.48026414904925185\n",
      "test: 0.6713 loss: 0.6200244775831699\n",
      "epoch time: 10.09min\n",
      "removing /mnt/d/workspace/clotho/notebooks/checkpoints/stats_v7_lg_15.json\n",
      "removing /mnt/d/workspace/clotho/notebooks/checkpoints/harness_v7_lg_15.pkl\n",
      "best model: /mnt/d/workspace/clotho/notebooks/checkpoints/harness_v7_lg_7.pkl\n",
      "best train: 0.86765\n",
      "best train val: 0.7702\n",
      "best test: 0.6667\n",
      "epoch 17 version: 7\n"
     ]
    },
    {
     "data": {
      "application/vnd.jupyter.widget-view+json": {
       "model_id": "44851a6cd67548a7a3f87b9de0affe45",
       "version_major": 2,
       "version_minor": 0
      },
      "text/plain": [
       "train:   0%|          | 0/20000 [00:00<?, ?it/s]"
      ]
     },
     "metadata": {},
     "output_type": "display_data"
    },
    {
     "data": {
      "application/vnd.jupyter.widget-view+json": {
       "model_id": "ae5f3b6ad39e4129b452e78cd66b197f",
       "version_major": 2,
       "version_minor": 0
      },
      "text/plain": [
       "train val:   0%|          | 0/10000 [00:00<?, ?it/s]"
      ]
     },
     "metadata": {},
     "output_type": "display_data"
    },
    {
     "data": {
      "application/vnd.jupyter.widget-view+json": {
       "model_id": "9de4c241e669495e83385c6583c4042e",
       "version_major": 2,
       "version_minor": 0
      },
      "text/plain": [
       "test:   0%|          | 0/10000 [00:00<?, ?it/s]"
      ]
     },
     "metadata": {},
     "output_type": "display_data"
    },
    {
     "name": "stdout",
     "output_type": "stream",
     "text": [
      "train: 0.61805 loss: 0.9263598433961749\n",
      "train val: 0.581 loss: 0.6540724976360798\n",
      "test: 0.5816 loss: 0.6883665808439254\n",
      "epoch time: 10.31min\n",
      "removing /mnt/d/workspace/clotho/notebooks/checkpoints/stats_v7_lg_16.json\n",
      "removing /mnt/d/workspace/clotho/notebooks/checkpoints/harness_v7_lg_16.pkl\n",
      "best model: /mnt/d/workspace/clotho/notebooks/checkpoints/harness_v7_lg_7.pkl\n",
      "best train: 0.86765\n",
      "best train val: 0.7702\n",
      "best test: 0.6667\n",
      "epoch 18 version: 7\n"
     ]
    },
    {
     "data": {
      "application/vnd.jupyter.widget-view+json": {
       "model_id": "5ddf0dff28b849f0a3a6ba623106e96e",
       "version_major": 2,
       "version_minor": 0
      },
      "text/plain": [
       "train:   0%|          | 0/20000 [00:00<?, ?it/s]"
      ]
     },
     "metadata": {},
     "output_type": "display_data"
    },
    {
     "data": {
      "application/vnd.jupyter.widget-view+json": {
       "model_id": "688fbc4f3f464a64ae35ceeed96ef482",
       "version_major": 2,
       "version_minor": 0
      },
      "text/plain": [
       "train val:   0%|          | 0/10000 [00:00<?, ?it/s]"
      ]
     },
     "metadata": {},
     "output_type": "display_data"
    },
    {
     "data": {
      "application/vnd.jupyter.widget-view+json": {
       "model_id": "9cb087ed8c4240beac6ed2688a3e5b14",
       "version_major": 2,
       "version_minor": 0
      },
      "text/plain": [
       "test:   0%|          | 0/10000 [00:00<?, ?it/s]"
      ]
     },
     "metadata": {},
     "output_type": "display_data"
    },
    {
     "name": "stdout",
     "output_type": "stream",
     "text": [
      "train: 0.6564 loss: 1.7823934301786364\n",
      "train val: 0.4192 loss: 1.2139735162496568\n",
      "test: 0.4283 loss: 1.9945186079621315\n",
      "epoch time: 11.72min\n",
      "removing /mnt/d/workspace/clotho/notebooks/checkpoints/stats_v7_lg_17.json\n",
      "removing /mnt/d/workspace/clotho/notebooks/checkpoints/harness_v7_lg_17.pkl\n",
      "best model: /mnt/d/workspace/clotho/notebooks/checkpoints/harness_v7_lg_7.pkl\n",
      "best train: 0.86765\n",
      "best train val: 0.7702\n",
      "best test: 0.6667\n",
      "epoch 19 version: 7\n"
     ]
    },
    {
     "data": {
      "application/vnd.jupyter.widget-view+json": {
       "model_id": "54bc60ebc2ee4b09ab8c5883272fdff7",
       "version_major": 2,
       "version_minor": 0
      },
      "text/plain": [
       "train:   0%|          | 0/20000 [00:00<?, ?it/s]"
      ]
     },
     "metadata": {},
     "output_type": "display_data"
    },
    {
     "data": {
      "application/vnd.jupyter.widget-view+json": {
       "model_id": "5aafe39e7a184fed861c4c8f588c8d6f",
       "version_major": 2,
       "version_minor": 0
      },
      "text/plain": [
       "train val:   0%|          | 0/10000 [00:00<?, ?it/s]"
      ]
     },
     "metadata": {},
     "output_type": "display_data"
    },
    {
     "data": {
      "application/vnd.jupyter.widget-view+json": {
       "model_id": "b71a3d2c78da4ca5a766c8ee942bb658",
       "version_major": 2,
       "version_minor": 0
      },
      "text/plain": [
       "test:   0%|          | 0/10000 [00:00<?, ?it/s]"
      ]
     },
     "metadata": {},
     "output_type": "display_data"
    },
    {
     "name": "stdout",
     "output_type": "stream",
     "text": [
      "train: 0.62945 loss: 0.7580428565181792\n",
      "train val: 0.6746 loss: 0.929365025022626\n",
      "test: 0.5405 loss: 2.42289126855582\n",
      "epoch time: 12.06min\n",
      "removing /mnt/d/workspace/clotho/notebooks/checkpoints/stats_v7_lg_18.json\n",
      "removing /mnt/d/workspace/clotho/notebooks/checkpoints/harness_v7_lg_18.pkl\n",
      "best model: /mnt/d/workspace/clotho/notebooks/checkpoints/harness_v7_lg_7.pkl\n",
      "best train: 0.86765\n",
      "best train val: 0.7702\n",
      "best test: 0.6667\n",
      "epoch 20 version: 7\n"
     ]
    },
    {
     "data": {
      "application/vnd.jupyter.widget-view+json": {
       "model_id": "850052f23fd941c5aa1cd1e8ddf2663c",
       "version_major": 2,
       "version_minor": 0
      },
      "text/plain": [
       "train:   0%|          | 0/20000 [00:00<?, ?it/s]"
      ]
     },
     "metadata": {},
     "output_type": "display_data"
    },
    {
     "data": {
      "application/vnd.jupyter.widget-view+json": {
       "model_id": "154fd5e9ec6c4b3e970c07a090f3940d",
       "version_major": 2,
       "version_minor": 0
      },
      "text/plain": [
       "train val:   0%|          | 0/10000 [00:00<?, ?it/s]"
      ]
     },
     "metadata": {},
     "output_type": "display_data"
    },
    {
     "data": {
      "application/vnd.jupyter.widget-view+json": {
       "model_id": "dad3a8b42c3b4d3d8a8a457a4f560a47",
       "version_major": 2,
       "version_minor": 0
      },
      "text/plain": [
       "test:   0%|          | 0/10000 [00:00<?, ?it/s]"
      ]
     },
     "metadata": {},
     "output_type": "display_data"
    },
    {
     "name": "stdout",
     "output_type": "stream",
     "text": [
      "train: 0.72855 loss: 0.5271372699208092\n",
      "train val: 0.6764 loss: 0.7985412669675425\n",
      "test: 0.6161 loss: 0.9256462417945266\n",
      "epoch time: 11.82min\n",
      "removing /mnt/d/workspace/clotho/notebooks/checkpoints/stats_v7_lg_19.json\n",
      "removing /mnt/d/workspace/clotho/notebooks/checkpoints/harness_v7_lg_19.pkl\n",
      "best model: /mnt/d/workspace/clotho/notebooks/checkpoints/harness_v7_lg_7.pkl\n",
      "best train: 0.86765\n",
      "best train val: 0.7702\n",
      "best test: 0.6667\n",
      "epoch 21 version: 7\n"
     ]
    },
    {
     "data": {
      "application/vnd.jupyter.widget-view+json": {
       "model_id": "6e4ca5ddd0ad46aabbf2bf7183de7b0e",
       "version_major": 2,
       "version_minor": 0
      },
      "text/plain": [
       "train:   0%|          | 0/20000 [00:00<?, ?it/s]"
      ]
     },
     "metadata": {},
     "output_type": "display_data"
    },
    {
     "data": {
      "application/vnd.jupyter.widget-view+json": {
       "model_id": "6a5700c11e34424a86fbcceb0b1575e9",
       "version_major": 2,
       "version_minor": 0
      },
      "text/plain": [
       "train val:   0%|          | 0/10000 [00:00<?, ?it/s]"
      ]
     },
     "metadata": {},
     "output_type": "display_data"
    },
    {
     "data": {
      "application/vnd.jupyter.widget-view+json": {
       "model_id": "23fc18f9c8c04b1c91e1337cd615b81b",
       "version_major": 2,
       "version_minor": 0
      },
      "text/plain": [
       "test:   0%|          | 0/10000 [00:00<?, ?it/s]"
      ]
     },
     "metadata": {},
     "output_type": "display_data"
    },
    {
     "name": "stdout",
     "output_type": "stream",
     "text": [
      "train: 0.74455 loss: 0.4658419504993595\n",
      "train val: 0.6754 loss: 0.6029574700646161\n",
      "test: 0.4988 loss: 0.8773100112378597\n",
      "epoch time: 9.85min\n",
      "removing /mnt/d/workspace/clotho/notebooks/checkpoints/stats_v7_lg_20.json\n",
      "removing /mnt/d/workspace/clotho/notebooks/checkpoints/harness_v7_lg_20.pkl\n",
      "best model: /mnt/d/workspace/clotho/notebooks/checkpoints/harness_v7_lg_7.pkl\n",
      "best train: 0.86765\n",
      "best train val: 0.7702\n",
      "best test: 0.6667\n",
      "epoch 22 version: 7\n"
     ]
    },
    {
     "data": {
      "application/vnd.jupyter.widget-view+json": {
       "model_id": "9f7d75d57c524f1a9f533ab507c6f87c",
       "version_major": 2,
       "version_minor": 0
      },
      "text/plain": [
       "train:   0%|          | 0/20000 [00:00<?, ?it/s]"
      ]
     },
     "metadata": {},
     "output_type": "display_data"
    },
    {
     "data": {
      "application/vnd.jupyter.widget-view+json": {
       "model_id": "4eb28d968c2d4567bac10fa80fb63627",
       "version_major": 2,
       "version_minor": 0
      },
      "text/plain": [
       "train val:   0%|          | 0/10000 [00:00<?, ?it/s]"
      ]
     },
     "metadata": {},
     "output_type": "display_data"
    },
    {
     "data": {
      "application/vnd.jupyter.widget-view+json": {
       "model_id": "d393fc8e9bee454d844e87321f3368fd",
       "version_major": 2,
       "version_minor": 0
      },
      "text/plain": [
       "test:   0%|          | 0/10000 [00:00<?, ?it/s]"
      ]
     },
     "metadata": {},
     "output_type": "display_data"
    },
    {
     "name": "stdout",
     "output_type": "stream",
     "text": [
      "train: 0.7774 loss: 0.4301696474901866\n",
      "train val: 0.693 loss: 0.6318229826723458\n",
      "test: 0.5243 loss: 0.9129233436137438\n",
      "epoch time: 9.65min\n",
      "removing /mnt/d/workspace/clotho/notebooks/checkpoints/stats_v7_lg_21.json\n",
      "removing /mnt/d/workspace/clotho/notebooks/checkpoints/harness_v7_lg_21.pkl\n",
      "best model: /mnt/d/workspace/clotho/notebooks/checkpoints/harness_v7_lg_7.pkl\n",
      "best train: 0.86765\n",
      "best train val: 0.7702\n",
      "best test: 0.6667\n",
      "epoch 23 version: 7\n"
     ]
    },
    {
     "data": {
      "application/vnd.jupyter.widget-view+json": {
       "model_id": "1e6afd2b44b54b7e8028dfd073d02260",
       "version_major": 2,
       "version_minor": 0
      },
      "text/plain": [
       "train:   0%|          | 0/20000 [00:00<?, ?it/s]"
      ]
     },
     "metadata": {},
     "output_type": "display_data"
    },
    {
     "data": {
      "application/vnd.jupyter.widget-view+json": {
       "model_id": "fd1a191ea9ff4279942ec0bcaf752cf7",
       "version_major": 2,
       "version_minor": 0
      },
      "text/plain": [
       "train val:   0%|          | 0/10000 [00:00<?, ?it/s]"
      ]
     },
     "metadata": {},
     "output_type": "display_data"
    },
    {
     "data": {
      "application/vnd.jupyter.widget-view+json": {
       "model_id": "6e7687a7b9e2476f81d6dee57f240d7f",
       "version_major": 2,
       "version_minor": 0
      },
      "text/plain": [
       "test:   0%|          | 0/10000 [00:00<?, ?it/s]"
      ]
     },
     "metadata": {},
     "output_type": "display_data"
    },
    {
     "name": "stdout",
     "output_type": "stream",
     "text": [
      "train: 0.80135 loss: 0.3665015610134171\n",
      "train val: 0.7178 loss: 0.5342864612337959\n",
      "test: 0.6439 loss: 0.6767418700605631\n",
      "epoch time: 11.36min\n",
      "removing /mnt/d/workspace/clotho/notebooks/checkpoints/stats_v7_lg_22.json\n",
      "removing /mnt/d/workspace/clotho/notebooks/checkpoints/harness_v7_lg_22.pkl\n",
      "best model: /mnt/d/workspace/clotho/notebooks/checkpoints/harness_v7_lg_7.pkl\n",
      "best train: 0.86765\n",
      "best train val: 0.7702\n",
      "best test: 0.6667\n",
      "epoch 24 version: 7\n"
     ]
    },
    {
     "data": {
      "application/vnd.jupyter.widget-view+json": {
       "model_id": "977def4fa16c482eb9cf77ea6e766c58",
       "version_major": 2,
       "version_minor": 0
      },
      "text/plain": [
       "train:   0%|          | 0/20000 [00:00<?, ?it/s]"
      ]
     },
     "metadata": {},
     "output_type": "display_data"
    },
    {
     "data": {
      "application/vnd.jupyter.widget-view+json": {
       "model_id": "fa020064c6334270bf397e773c1d34af",
       "version_major": 2,
       "version_minor": 0
      },
      "text/plain": [
       "train val:   0%|          | 0/10000 [00:00<?, ?it/s]"
      ]
     },
     "metadata": {},
     "output_type": "display_data"
    },
    {
     "data": {
      "application/vnd.jupyter.widget-view+json": {
       "model_id": "852de4e6059c449abf456042a38b43c0",
       "version_major": 2,
       "version_minor": 0
      },
      "text/plain": [
       "test:   0%|          | 0/10000 [00:00<?, ?it/s]"
      ]
     },
     "metadata": {},
     "output_type": "display_data"
    },
    {
     "name": "stdout",
     "output_type": "stream",
     "text": [
      "train: 0.82515 loss: 0.3406749350453927\n",
      "train val: 0.7165 loss: 0.48628076610416177\n",
      "test: 0.6718 loss: 0.60782540615201\n",
      "epoch time: 12.54min\n",
      "removing /mnt/d/workspace/clotho/notebooks/checkpoints/stats_v7_lg_23.json\n",
      "removing /mnt/d/workspace/clotho/notebooks/checkpoints/harness_v7_lg_23.pkl\n",
      "best model: /mnt/d/workspace/clotho/notebooks/checkpoints/harness_v7_lg_7.pkl\n",
      "best train: 0.86765\n",
      "best train val: 0.7702\n",
      "best test: 0.6667\n",
      "epoch 25 version: 7\n"
     ]
    },
    {
     "data": {
      "application/vnd.jupyter.widget-view+json": {
       "model_id": "8ddee251c34e4878a588656523f95f99",
       "version_major": 2,
       "version_minor": 0
      },
      "text/plain": [
       "train:   0%|          | 0/20000 [00:00<?, ?it/s]"
      ]
     },
     "metadata": {},
     "output_type": "display_data"
    },
    {
     "data": {
      "application/vnd.jupyter.widget-view+json": {
       "model_id": "a7618bd56f2a45c08430b6debfd222e5",
       "version_major": 2,
       "version_minor": 0
      },
      "text/plain": [
       "train val:   0%|          | 0/10000 [00:00<?, ?it/s]"
      ]
     },
     "metadata": {},
     "output_type": "display_data"
    },
    {
     "data": {
      "application/vnd.jupyter.widget-view+json": {
       "model_id": "f25c83f473c3461a86abd2529894cf87",
       "version_major": 2,
       "version_minor": 0
      },
      "text/plain": [
       "test:   0%|          | 0/10000 [00:00<?, ?it/s]"
      ]
     },
     "metadata": {},
     "output_type": "display_data"
    },
    {
     "name": "stdout",
     "output_type": "stream",
     "text": [
      "train: 0.83215 loss: 0.3290070270499995\n",
      "train val: 0.7364 loss: 0.46816060961205513\n",
      "test: 0.6638 loss: 0.6143329051315785\n",
      "epoch time: 12.10min\n",
      "removing /mnt/d/workspace/clotho/notebooks/checkpoints/stats_v7_lg_24.json\n",
      "removing /mnt/d/workspace/clotho/notebooks/checkpoints/harness_v7_lg_24.pkl\n",
      "best model: /mnt/d/workspace/clotho/notebooks/checkpoints/harness_v7_lg_7.pkl\n",
      "best train: 0.86765\n",
      "best train val: 0.7702\n",
      "best test: 0.6667\n",
      "epoch 26 version: 7\n"
     ]
    },
    {
     "data": {
      "application/vnd.jupyter.widget-view+json": {
       "model_id": "023366a969f64383807cd4a0e2fd3c7b",
       "version_major": 2,
       "version_minor": 0
      },
      "text/plain": [
       "train:   0%|          | 0/20000 [00:00<?, ?it/s]"
      ]
     },
     "metadata": {},
     "output_type": "display_data"
    },
    {
     "data": {
      "application/vnd.jupyter.widget-view+json": {
       "model_id": "34f789b5e6a14781b9d290d0539acf4a",
       "version_major": 2,
       "version_minor": 0
      },
      "text/plain": [
       "train val:   0%|          | 0/10000 [00:00<?, ?it/s]"
      ]
     },
     "metadata": {},
     "output_type": "display_data"
    },
    {
     "data": {
      "application/vnd.jupyter.widget-view+json": {
       "model_id": "29e299e2049843fba504a10313b6a7cf",
       "version_major": 2,
       "version_minor": 0
      },
      "text/plain": [
       "test:   0%|          | 0/10000 [00:00<?, ?it/s]"
      ]
     },
     "metadata": {},
     "output_type": "display_data"
    },
    {
     "name": "stdout",
     "output_type": "stream",
     "text": [
      "train: 0.80445 loss: 0.35264602242560017\n",
      "train val: 0.719 loss: 0.48822536666724775\n",
      "test: 0.6537 loss: 0.6270110027849675\n",
      "epoch time: 12.06min\n",
      "removing /mnt/d/workspace/clotho/notebooks/checkpoints/stats_v7_lg_25.json\n",
      "removing /mnt/d/workspace/clotho/notebooks/checkpoints/harness_v7_lg_25.pkl\n",
      "best model: /mnt/d/workspace/clotho/notebooks/checkpoints/harness_v7_lg_7.pkl\n",
      "best train: 0.86765\n",
      "best train val: 0.7702\n",
      "best test: 0.6667\n",
      "epoch 27 version: 7\n"
     ]
    },
    {
     "data": {
      "application/vnd.jupyter.widget-view+json": {
       "model_id": "3c5e3b9da3264702bebfd1094bb6835f",
       "version_major": 2,
       "version_minor": 0
      },
      "text/plain": [
       "train:   0%|          | 0/20000 [00:00<?, ?it/s]"
      ]
     },
     "metadata": {},
     "output_type": "display_data"
    },
    {
     "data": {
      "application/vnd.jupyter.widget-view+json": {
       "model_id": "9cb9060fce2249d2b52cb773ae90fc63",
       "version_major": 2,
       "version_minor": 0
      },
      "text/plain": [
       "train val:   0%|          | 0/10000 [00:00<?, ?it/s]"
      ]
     },
     "metadata": {},
     "output_type": "display_data"
    },
    {
     "data": {
      "application/vnd.jupyter.widget-view+json": {
       "model_id": "e2cc28f039cd42b481c9fac774ed567a",
       "version_major": 2,
       "version_minor": 0
      },
      "text/plain": [
       "test:   0%|          | 0/10000 [00:00<?, ?it/s]"
      ]
     },
     "metadata": {},
     "output_type": "display_data"
    },
    {
     "name": "stdout",
     "output_type": "stream",
     "text": [
      "train: 0.8326 loss: 0.31798327553434574\n",
      "train val: 0.7327 loss: 0.4664560620496515\n",
      "test: 0.6557 loss: 0.6194433892190456\n",
      "epoch time: 17.37min\n",
      "removing /mnt/d/workspace/clotho/notebooks/checkpoints/stats_v7_lg_26.json\n",
      "removing /mnt/d/workspace/clotho/notebooks/checkpoints/harness_v7_lg_26.pkl\n",
      "best model: /mnt/d/workspace/clotho/notebooks/checkpoints/harness_v7_lg_7.pkl\n",
      "best train: 0.86765\n",
      "best train val: 0.7702\n",
      "best test: 0.6667\n",
      "epoch 28 version: 7\n"
     ]
    },
    {
     "data": {
      "application/vnd.jupyter.widget-view+json": {
       "model_id": "9e26fa362e7541068609af3b726ecaf1",
       "version_major": 2,
       "version_minor": 0
      },
      "text/plain": [
       "train:   0%|          | 0/20000 [00:00<?, ?it/s]"
      ]
     },
     "metadata": {},
     "output_type": "display_data"
    },
    {
     "data": {
      "application/vnd.jupyter.widget-view+json": {
       "model_id": "49a605701c6d416496c9c870ae2a0604",
       "version_major": 2,
       "version_minor": 0
      },
      "text/plain": [
       "train val:   0%|          | 0/10000 [00:00<?, ?it/s]"
      ]
     },
     "metadata": {},
     "output_type": "display_data"
    },
    {
     "data": {
      "application/vnd.jupyter.widget-view+json": {
       "model_id": "2e8581984f4348e68eb139a96a254a5c",
       "version_major": 2,
       "version_minor": 0
      },
      "text/plain": [
       "test:   0%|          | 0/10000 [00:00<?, ?it/s]"
      ]
     },
     "metadata": {},
     "output_type": "display_data"
    },
    {
     "name": "stdout",
     "output_type": "stream",
     "text": [
      "train: 0.83875 loss: 0.3099230536383884\n",
      "train val: 0.7408 loss: 0.5179823271461675\n",
      "test: 0.6335 loss: 0.7020590723961592\n",
      "epoch time: 19.69min\n",
      "removing /mnt/d/workspace/clotho/notebooks/checkpoints/stats_v7_lg_27.json\n",
      "removing /mnt/d/workspace/clotho/notebooks/checkpoints/harness_v7_lg_27.pkl\n",
      "best model: /mnt/d/workspace/clotho/notebooks/checkpoints/harness_v7_lg_7.pkl\n",
      "best train: 0.86765\n",
      "best train val: 0.7702\n",
      "best test: 0.6667\n",
      "epoch 29 version: 7\n"
     ]
    },
    {
     "data": {
      "application/vnd.jupyter.widget-view+json": {
       "model_id": "5efde555a80d475fbe0fd36854e87473",
       "version_major": 2,
       "version_minor": 0
      },
      "text/plain": [
       "train:   0%|          | 0/20000 [00:00<?, ?it/s]"
      ]
     },
     "metadata": {},
     "output_type": "display_data"
    },
    {
     "data": {
      "application/vnd.jupyter.widget-view+json": {
       "model_id": "f2e646d94d5e48c08c496094fcc2c09d",
       "version_major": 2,
       "version_minor": 0
      },
      "text/plain": [
       "train val:   0%|          | 0/10000 [00:00<?, ?it/s]"
      ]
     },
     "metadata": {},
     "output_type": "display_data"
    },
    {
     "data": {
      "application/vnd.jupyter.widget-view+json": {
       "model_id": "b0d614360cdd4afea3481b907b0831d5",
       "version_major": 2,
       "version_minor": 0
      },
      "text/plain": [
       "test:   0%|          | 0/10000 [00:00<?, ?it/s]"
      ]
     },
     "metadata": {},
     "output_type": "display_data"
    },
    {
     "name": "stdout",
     "output_type": "stream",
     "text": [
      "train: 0.8376 loss: 0.31862424078370716\n",
      "train val: 0.7377 loss: 0.46788969291959565\n",
      "test: 0.6104 loss: 0.6495328749239445\n",
      "epoch time: 19.36min\n",
      "removing /mnt/d/workspace/clotho/notebooks/checkpoints/stats_v7_lg_6.json\n",
      "removing /mnt/d/workspace/clotho/notebooks/checkpoints/harness_v7_lg_6.pkl\n",
      "best model: /mnt/d/workspace/clotho/notebooks/checkpoints/harness_v7_lg_7.pkl\n",
      "best train: 0.86765\n",
      "best train val: 0.7702\n",
      "best test: 0.6667\n"
     ]
    },
    {
     "data": {
      "application/vnd.jupyter.widget-view+json": {
       "model_id": "7926c61aa52845308f7feae31fe64231",
       "version_major": 2,
       "version_minor": 0
      },
      "text/plain": [
       "test val:   0%|          | 0/10000 [00:00<?, ?it/s]"
      ]
     },
     "metadata": {},
     "output_type": "display_data"
    },
    {
     "name": "stdout",
     "output_type": "stream",
     "text": [
      "test val: {'accuracy': 0.619} loss: 0.6504103107094765\n",
      "correct\n"
     ]
    },
    {
     "data": {
      "text/html": [
       "<div>\n",
       "<style scoped>\n",
       "    .dataframe tbody tr th:only-of-type {\n",
       "        vertical-align: middle;\n",
       "    }\n",
       "\n",
       "    .dataframe tbody tr th {\n",
       "        vertical-align: top;\n",
       "    }\n",
       "\n",
       "    .dataframe thead th {\n",
       "        text-align: right;\n",
       "    }\n",
       "</style>\n",
       "<table border=\"1\" class=\"dataframe\">\n",
       "  <thead>\n",
       "    <tr style=\"text-align: right;\">\n",
       "      <th></th>\n",
       "      <th>gen_name</th>\n",
       "      <th>parent_left</th>\n",
       "      <th>child_left</th>\n",
       "      <th>parent_right</th>\n",
       "      <th>child_right</th>\n",
       "      <th>sway_left</th>\n",
       "      <th>sway_right</th>\n",
       "      <th>correct_is_right</th>\n",
       "      <th>logit_left</th>\n",
       "      <th>logit_right</th>\n",
       "      <th>preds</th>\n",
       "      <th>truth</th>\n",
       "    </tr>\n",
       "  </thead>\n",
       "  <tbody>\n",
       "    <tr>\n",
       "      <th>0</th>\n",
       "      <td>!copy--valid;(st)</td>\n",
       "      <td>Those pits with the spikes at the bottom</td>\n",
       "      <td>What's one of life's biggest traps that people...</td>\n",
       "      <td>What's one of life's biggest traps that people...</td>\n",
       "      <td>Those pits with the spikes at the bottom</td>\n",
       "      <td>0.268941</td>\n",
       "      <td>0.731059</td>\n",
       "      <td>True</td>\n",
       "      <td>0.280542</td>\n",
       "      <td>0.719458</td>\n",
       "      <td>1</td>\n",
       "      <td>1</td>\n",
       "    </tr>\n",
       "    <tr>\n",
       "      <th>1</th>\n",
       "      <td>*valid--!copy;(st)</td>\n",
       "      <td>How do men feel about the \"men will fuck anyth...</td>\n",
       "      <td>Not really positive, I’d need to fuck it first.</td>\n",
       "      <td>Not really positive, I’d need to fuck it first.</td>\n",
       "      <td>How do men feel about the \"men will fuck anyth...</td>\n",
       "      <td>0.880797</td>\n",
       "      <td>0.119203</td>\n",
       "      <td>False</td>\n",
       "      <td>0.715648</td>\n",
       "      <td>0.284352</td>\n",
       "      <td>0</td>\n",
       "      <td>0</td>\n",
       "    </tr>\n",
       "    <tr>\n",
       "      <th>0</th>\n",
       "      <td>random--valid;(st)</td>\n",
       "      <td>Once is better than twice</td>\n",
       "      <td>Going too fast and coming out, hitting the buf...</td>\n",
       "      <td>What is 'hands down' the best Ice-cream flavour?</td>\n",
       "      <td>Pistacchio</td>\n",
       "      <td>0.000000</td>\n",
       "      <td>1.000000</td>\n",
       "      <td>True</td>\n",
       "      <td>0.245040</td>\n",
       "      <td>0.754960</td>\n",
       "      <td>1</td>\n",
       "      <td>1</td>\n",
       "    </tr>\n",
       "    <tr>\n",
       "      <th>1</th>\n",
       "      <td>random--valid;(st)</td>\n",
       "      <td>When i was 15 i asked google how to get high w...</td>\n",
       "      <td>Top of the mornin</td>\n",
       "      <td>Met up with this guy from Tinder. After talkin...</td>\n",
       "      <td>r/suspiciouslyspecific</td>\n",
       "      <td>0.000335</td>\n",
       "      <td>0.999665</td>\n",
       "      <td>True</td>\n",
       "      <td>0.267298</td>\n",
       "      <td>0.732702</td>\n",
       "      <td>1</td>\n",
       "      <td>1</td>\n",
       "    </tr>\n",
       "    <tr>\n",
       "      <th>2</th>\n",
       "      <td>!copy--valid;(st)</td>\n",
       "      <td>Sit up straight</td>\n",
       "      <td>What should one do in their 20s to avoid regre...</td>\n",
       "      <td>What should one do in their 20s to avoid regre...</td>\n",
       "      <td>Sit up straight</td>\n",
       "      <td>0.268941</td>\n",
       "      <td>0.731059</td>\n",
       "      <td>True</td>\n",
       "      <td>0.282741</td>\n",
       "      <td>0.717259</td>\n",
       "      <td>1</td>\n",
       "      <td>1</td>\n",
       "    </tr>\n",
       "  </tbody>\n",
       "</table>\n",
       "</div>"
      ],
      "text/plain": [
       "             gen_name                                        parent_left  \\\n",
       "0   !copy--valid;(st)           Those pits with the spikes at the bottom   \n",
       "1  *valid--!copy;(st)  How do men feel about the \"men will fuck anyth...   \n",
       "0  random--valid;(st)                          Once is better than twice   \n",
       "1  random--valid;(st)  When i was 15 i asked google how to get high w...   \n",
       "2   !copy--valid;(st)                                    Sit up straight   \n",
       "\n",
       "                                          child_left  \\\n",
       "0  What's one of life's biggest traps that people...   \n",
       "1    Not really positive, I’d need to fuck it first.   \n",
       "0  Going too fast and coming out, hitting the buf...   \n",
       "1                                  Top of the mornin   \n",
       "2  What should one do in their 20s to avoid regre...   \n",
       "\n",
       "                                        parent_right  \\\n",
       "0  What's one of life's biggest traps that people...   \n",
       "1    Not really positive, I’d need to fuck it first.   \n",
       "0   What is 'hands down' the best Ice-cream flavour?   \n",
       "1  Met up with this guy from Tinder. After talkin...   \n",
       "2  What should one do in their 20s to avoid regre...   \n",
       "\n",
       "                                         child_right  sway_left  sway_right  \\\n",
       "0           Those pits with the spikes at the bottom   0.268941    0.731059   \n",
       "1  How do men feel about the \"men will fuck anyth...   0.880797    0.119203   \n",
       "0                                         Pistacchio   0.000000    1.000000   \n",
       "1                             r/suspiciouslyspecific   0.000335    0.999665   \n",
       "2                                    Sit up straight   0.268941    0.731059   \n",
       "\n",
       "   correct_is_right  logit_left  logit_right  preds  truth  \n",
       "0              True    0.280542     0.719458      1      1  \n",
       "1             False    0.715648     0.284352      0      0  \n",
       "0              True    0.245040     0.754960      1      1  \n",
       "1              True    0.267298     0.732702      1      1  \n",
       "2              True    0.282741     0.717259      1      1  "
      ]
     },
     "metadata": {},
     "output_type": "display_data"
    },
    {
     "name": "stdout",
     "output_type": "stream",
     "text": [
      "incorrect\n"
     ]
    },
    {
     "data": {
      "text/html": [
       "<div>\n",
       "<style scoped>\n",
       "    .dataframe tbody tr th:only-of-type {\n",
       "        vertical-align: middle;\n",
       "    }\n",
       "\n",
       "    .dataframe tbody tr th {\n",
       "        vertical-align: top;\n",
       "    }\n",
       "\n",
       "    .dataframe thead th {\n",
       "        text-align: right;\n",
       "    }\n",
       "</style>\n",
       "<table border=\"1\" class=\"dataframe\">\n",
       "  <thead>\n",
       "    <tr style=\"text-align: right;\">\n",
       "      <th></th>\n",
       "      <th>gen_name</th>\n",
       "      <th>parent_left</th>\n",
       "      <th>child_left</th>\n",
       "      <th>parent_right</th>\n",
       "      <th>child_right</th>\n",
       "      <th>sway_left</th>\n",
       "      <th>sway_right</th>\n",
       "      <th>correct_is_right</th>\n",
       "      <th>logit_left</th>\n",
       "      <th>logit_right</th>\n",
       "      <th>preds</th>\n",
       "      <th>truth</th>\n",
       "    </tr>\n",
       "  </thead>\n",
       "  <tbody>\n",
       "    <tr>\n",
       "      <th>2</th>\n",
       "      <td>random--valid;(st)</td>\n",
       "      <td>Absolutely. I do appreciate the fact he was ho...</td>\n",
       "      <td>Literally</td>\n",
       "      <td>Question for the men, what's the worst part of...</td>\n",
       "      <td>The constant burning desire to use it on women</td>\n",
       "      <td>0.268941</td>\n",
       "      <td>0.731059</td>\n",
       "      <td>True</td>\n",
       "      <td>0.743424</td>\n",
       "      <td>0.256576</td>\n",
       "      <td>0</td>\n",
       "      <td>1</td>\n",
       "    </tr>\n",
       "    <tr>\n",
       "      <th>3</th>\n",
       "      <td>random--valid;(st)</td>\n",
       "      <td>Save Money.</td>\n",
       "      <td>e * i * PI.</td>\n",
       "      <td>They dress like and try to act like they are g...</td>\n",
       "      <td>...Merle Haggard, Lefty Frizzell, Travis Tritt...</td>\n",
       "      <td>0.000006</td>\n",
       "      <td>0.999994</td>\n",
       "      <td>True</td>\n",
       "      <td>0.690412</td>\n",
       "      <td>0.309588</td>\n",
       "      <td>0</td>\n",
       "      <td>1</td>\n",
       "    </tr>\n",
       "    <tr>\n",
       "      <th>3</th>\n",
       "      <td>random--valid;(st)</td>\n",
       "      <td>Yikes. This is how you go broke. Buying cars j...</td>\n",
       "      <td>Not 1 to 10 cause it’s a negative number</td>\n",
       "      <td>Wow, I've never heard of any of this. And BTW,...</td>\n",
       "      <td>Yup. It’s ok if ADULTS want circumcision or la...</td>\n",
       "      <td>0.268941</td>\n",
       "      <td>0.731059</td>\n",
       "      <td>True</td>\n",
       "      <td>0.561384</td>\n",
       "      <td>0.438616</td>\n",
       "      <td>0</td>\n",
       "      <td>1</td>\n",
       "    </tr>\n",
       "    <tr>\n",
       "      <th>0</th>\n",
       "      <td>*valid--random;(st)</td>\n",
       "      <td>What’s your controversial food opinion?</td>\n",
       "      <td>I like chocolate candy enough, but i'll usuall...</td>\n",
       "      <td>\"consent\" is the lack of disagreement. By defi...</td>\n",
       "      <td>Yeah, I agree with you 100%. The sad part is t...</td>\n",
       "      <td>0.731059</td>\n",
       "      <td>0.268941</td>\n",
       "      <td>False</td>\n",
       "      <td>0.367150</td>\n",
       "      <td>0.632850</td>\n",
       "      <td>1</td>\n",
       "      <td>0</td>\n",
       "    </tr>\n",
       "    <tr>\n",
       "      <th>3</th>\n",
       "      <td>*valid--!copy;(st)</td>\n",
       "      <td>What's a women's thing men should absolutely s...</td>\n",
       "      <td>“Housework” type life-skills like sewing, cook...</td>\n",
       "      <td>“Housework” type life-skills like sewing, cook...</td>\n",
       "      <td>What's a women's thing men should absolutely s...</td>\n",
       "      <td>0.731059</td>\n",
       "      <td>0.268941</td>\n",
       "      <td>False</td>\n",
       "      <td>0.405519</td>\n",
       "      <td>0.594481</td>\n",
       "      <td>1</td>\n",
       "      <td>0</td>\n",
       "    </tr>\n",
       "  </tbody>\n",
       "</table>\n",
       "</div>"
      ],
      "text/plain": [
       "              gen_name                                        parent_left  \\\n",
       "2   random--valid;(st)  Absolutely. I do appreciate the fact he was ho...   \n",
       "3   random--valid;(st)                                        Save Money.   \n",
       "3   random--valid;(st)  Yikes. This is how you go broke. Buying cars j...   \n",
       "0  *valid--random;(st)            What’s your controversial food opinion?   \n",
       "3   *valid--!copy;(st)  What's a women's thing men should absolutely s...   \n",
       "\n",
       "                                          child_left  \\\n",
       "2                                          Literally   \n",
       "3                                        e * i * PI.   \n",
       "3           Not 1 to 10 cause it’s a negative number   \n",
       "0  I like chocolate candy enough, but i'll usuall...   \n",
       "3  “Housework” type life-skills like sewing, cook...   \n",
       "\n",
       "                                        parent_right  \\\n",
       "2  Question for the men, what's the worst part of...   \n",
       "3  They dress like and try to act like they are g...   \n",
       "3  Wow, I've never heard of any of this. And BTW,...   \n",
       "0  \"consent\" is the lack of disagreement. By defi...   \n",
       "3  “Housework” type life-skills like sewing, cook...   \n",
       "\n",
       "                                         child_right  sway_left  sway_right  \\\n",
       "2     The constant burning desire to use it on women   0.268941    0.731059   \n",
       "3  ...Merle Haggard, Lefty Frizzell, Travis Tritt...   0.000006    0.999994   \n",
       "3  Yup. It’s ok if ADULTS want circumcision or la...   0.268941    0.731059   \n",
       "0  Yeah, I agree with you 100%. The sad part is t...   0.731059    0.268941   \n",
       "3  What's a women's thing men should absolutely s...   0.731059    0.268941   \n",
       "\n",
       "   correct_is_right  logit_left  logit_right  preds  truth  \n",
       "2              True    0.743424     0.256576      0      1  \n",
       "3              True    0.690412     0.309588      0      1  \n",
       "3              True    0.561384     0.438616      0      1  \n",
       "0             False    0.367150     0.632850      1      0  \n",
       "3             False    0.405519     0.594481      1      0  "
      ]
     },
     "metadata": {},
     "output_type": "display_data"
    },
    {
     "data": {
      "text/plain": [
       "array([[ 0.63208026,  0.02971917, -0.8655138 , ...,  0.77816254,\n",
       "        -0.78798854,  0.07542356],\n",
       "       [ 0.63125205,  0.02959946, -0.86405826, ...,  0.7753299 ,\n",
       "        -0.7896352 ,  0.07494098],\n",
       "       [ 0.62970406,  0.03009954, -0.85970324, ...,  0.7678277 ,\n",
       "        -0.7940083 ,  0.07306255],\n",
       "       [ 0.62945324,  0.03029537, -0.8586474 , ...,  0.76620984,\n",
       "        -0.79496247,  0.0725788 ]], dtype=float32)"
      ]
     },
     "metadata": {},
     "output_type": "display_data"
    },
    {
     "data": {
      "text/plain": [
       "array([[ 0.6304852 ,  0.02969232, -0.8623169 , ...,  0.7721467 ,\n",
       "        -0.79149383,  0.0742398 ],\n",
       "       [ 0.6322219 ,  0.02975531, -0.8657384 , ...,  0.77861   ,\n",
       "        -0.78773075,  0.07548785],\n",
       "       [ 0.632756  ,  0.02992215, -0.8665465 , ...,  0.7802305 ,\n",
       "        -0.78680474,  0.07569592],\n",
       "       [ 0.63150424,  0.0296172 , -0.86453205, ...,  0.7762409 ,\n",
       "        -0.789107  ,  0.07510808]], dtype=float32)"
      ]
     },
     "metadata": {},
     "output_type": "display_data"
    },
    {
     "data": {
      "text/plain": [
       "array([[ 0.6308732 ,  0.02961412, -0.86326677, ...,  0.7738519 ,\n",
       "        -0.7904992 ,  0.07463566],\n",
       "       [ 0.63046825,  0.02969744, -0.86227083, ...,  0.77206606,\n",
       "        -0.79154086,  0.07421996],\n",
       "       [ 0.63154393,  0.02962121, -0.86460537, ...,  0.77637935,\n",
       "        -0.7890227 ,  0.07513541],\n",
       "       [ 0.6314123 ,  0.02960822, -0.86436427, ...,  0.7759142 ,\n",
       "        -0.78929406,  0.0750515 ]], dtype=float32)"
      ]
     },
     "metadata": {},
     "output_type": "display_data"
    },
    {
     "data": {
      "text/plain": [
       "array([[ 0.629475  ,  0.03027765, -0.85874164, ...,  0.7663516 ,\n",
       "        -0.7948781 ,  0.07262163],\n",
       "       [ 0.6294989 ,  0.03025841, -0.8588442 , ...,  0.76650673,\n",
       "        -0.79478633,  0.07266857],\n",
       "       [ 0.62956184,  0.03020836, -0.8591121 , ...,  0.766914  ,\n",
       "        -0.7945452 ,  0.072791  ],\n",
       "       [ 0.631897  ,  0.02967867, -0.8652142 , ...,  0.7775715 ,\n",
       "        -0.7883315 ,  0.0753327 ]], dtype=float32)"
      ]
     },
     "metadata": {},
     "output_type": "display_data"
    },
    {
     "data": {
      "text/plain": [
       "array([[ 0.63212216,  0.02972974, -0.86558115, ...,  0.77829695,\n",
       "        -0.78791106,  0.07544301],\n",
       "       [ 0.6309814 ,  0.02960441, -0.8635039 , ...,  0.7742895 ,\n",
       "        -0.7902433 ,  0.07472984],\n",
       "       [ 0.6318291 ,  0.02966508, -0.8651009 , ...,  0.7773468 ,\n",
       "        -0.7884608 ,  0.0752979 ],\n",
       "       [ 0.6336504 ,  0.03027808, -0.86779755, ...,  0.782762  ,\n",
       "        -0.78540075,  0.0759365 ]], dtype=float32)"
      ]
     },
     "metadata": {},
     "output_type": "display_data"
    },
    {
     "data": {
      "text/plain": [
       "array([[ 0.6303296 ,  0.0297453 , -0.86188084, ...,  0.7713893 ,\n",
       "        -0.79193443,  0.07404995],\n",
       "       [ 0.6306972 ,  0.02964074, -0.86285675, ...,  0.7731063 ,\n",
       "        -0.79093444,  0.07446814],\n",
       "       [ 0.6321327 ,  0.02973243, -0.8655982 , ...,  0.77833074,\n",
       "        -0.7878914 ,  0.07544802],\n",
       "       [ 0.6319434 ,  0.029688  , -0.8652916 , ...,  0.7777224 ,\n",
       "        -0.78824276,  0.07535724]], dtype=float32)"
      ]
     },
     "metadata": {},
     "output_type": "display_data"
    },
    {
     "data": {
      "text/plain": [
       "array([[ 0.63027716,  0.02976605, -0.8617264 , ...,  0.7711252 ,\n",
       "        -0.79208803,  0.07398187],\n",
       "       [ 0.6296586 ,  0.03013363, -0.8595165 , ...,  0.7675371 ,\n",
       "        -0.79417866,  0.07297672],\n",
       "       [ 0.6317902 ,  0.02965796, -0.8650355 , ...,  0.7772183 ,\n",
       "        -0.7885351 ,  0.07527722],\n",
       "       [ 0.631381  ,  0.02960585, -0.86430544, ...,  0.77580106,\n",
       "        -0.78935987,  0.07503057]], dtype=float32)"
      ]
     },
     "metadata": {},
     "output_type": "display_data"
    },
    {
     "data": {
      "text/plain": [
       "array([[ 0.6320891 ,  0.02972127, -0.8655277 , ...,  0.7781906 ,\n",
       "        -0.78797203,  0.07542776],\n",
       "       [ 0.63083607,  0.02961862, -0.86318225, ...,  0.7736973 ,\n",
       "        -0.7905892 ,  0.07460173],\n",
       "       [ 0.6318703 ,  0.02967309, -0.86517036, ...,  0.7774838 ,\n",
       "        -0.78838146,  0.07531975],\n",
       "       [ 0.6298625 ,  0.02998879, -0.86032414, ...,  0.76880944,\n",
       "        -0.79343504,  0.07334781]], dtype=float32)"
      ]
     },
     "metadata": {},
     "output_type": "display_data"
    },
    {
     "data": {
      "text/plain": [
       "array([[ 0.63005626,  0.02987203, -0.86101973, ...,  0.7699399 ,\n",
       "        -0.79277706,  0.07366505],\n",
       "       [ 0.63185006,  0.02966933, -0.86513627, ...,  0.7774174 ,\n",
       "        -0.7884205 ,  0.0753087 ],\n",
       "       [ 0.63085365,  0.02961643, -0.8632226 , ...,  0.77377075,\n",
       "        -0.7905463 ,  0.07461797],\n",
       "       [ 0.62971985,  0.030088  , -0.8597668 , ...,  0.76792705,\n",
       "        -0.7939502 ,  0.07309181]], dtype=float32)"
      ]
     },
     "metadata": {},
     "output_type": "display_data"
    },
    {
     "data": {
      "text/plain": [
       "array([[ 0.63005203,  0.02987439, -0.8610049 , ...,  0.76991546,\n",
       "        -0.7927915 ,  0.07365836],\n",
       "       [ 0.6317439 ,  0.02964981, -0.8649564 , ...,  0.7770627 ,\n",
       "        -0.7886252 ,  0.07525201],\n",
       "       [ 0.63119847,  0.02959836, -0.8639529 , ...,  0.77513003,\n",
       "        -0.789752  ,  0.07490178],\n",
       "       [ 0.63110656,  0.0295988 , -0.8637668 , ...,  0.77477986,\n",
       "        -0.7899567 ,  0.07483163]], dtype=float32)"
      ]
     },
     "metadata": {},
     "output_type": "display_data"
    }
   ],
   "source": [
    "full_run(num_epochs=30, version=7, force_restart=False)"
   ]
  },
  {
   "cell_type": "code",
   "execution_count": 26,
   "id": "01bc6a02-fccc-4ebd-aa12-42f1887bc2ba",
   "metadata": {},
   "outputs": [
    {
     "name": "stderr",
     "output_type": "stream",
     "text": [
      "Some weights of the model checkpoint at distilbert-base-uncased were not used when initializing DistilBertModel: ['vocab_transform.bias', 'vocab_projector.bias', 'vocab_projector.weight', 'vocab_layer_norm.bias', 'vocab_transform.weight', 'vocab_layer_norm.weight']\n",
      "- This IS expected if you are initializing DistilBertModel from the checkpoint of a model trained on another task or with another architecture (e.g. initializing a BertForSequenceClassification model from a BertForPreTraining model).\n",
      "- This IS NOT expected if you are initializing DistilBertModel from the checkpoint of a model that you expect to be exactly identical (initializing a BertForSequenceClassification model from a BertForSequenceClassification model).\n",
      "Some weights of the model checkpoint at distilbert-base-uncased were not used when initializing DistilBertModel: ['vocab_transform.bias', 'vocab_projector.bias', 'vocab_projector.weight', 'vocab_layer_norm.bias', 'vocab_transform.weight', 'vocab_layer_norm.weight']\n",
      "- This IS expected if you are initializing DistilBertModel from the checkpoint of a model trained on another task or with another architecture (e.g. initializing a BertForSequenceClassification model from a BertForPreTraining model).\n",
      "- This IS NOT expected if you are initializing DistilBertModel from the checkpoint of a model that you expect to be exactly identical (initializing a BertForSequenceClassification model from a BertForSequenceClassification model).\n"
     ]
    },
    {
     "name": "stdout",
     "output_type": "stream",
     "text": [
      "None 0\n",
      "epoch 0 version: 0\n"
     ]
    },
    {
     "data": {
      "application/vnd.jupyter.widget-view+json": {
       "model_id": "70a7219da4c547aea81e3e173e5b5427",
       "version_major": 2,
       "version_minor": 0
      },
      "text/plain": [
       "train:   0%|          | 0/20000 [00:00<?, ?it/s]"
      ]
     },
     "metadata": {},
     "output_type": "display_data"
    },
    {
     "data": {
      "application/vnd.jupyter.widget-view+json": {
       "model_id": "bc71ba02a9e64fafa1c7f1705132264f",
       "version_major": 2,
       "version_minor": 0
      },
      "text/plain": [
       "train val:   0%|          | 0/10000 [00:00<?, ?it/s]"
      ]
     },
     "metadata": {},
     "output_type": "display_data"
    },
    {
     "data": {
      "application/vnd.jupyter.widget-view+json": {
       "model_id": "efd1a5fa751c40e28408367b48581cf3",
       "version_major": 2,
       "version_minor": 0
      },
      "text/plain": [
       "test:   0%|          | 0/10000 [00:00<?, ?it/s]"
      ]
     },
     "metadata": {},
     "output_type": "display_data"
    },
    {
     "name": "stdout",
     "output_type": "stream",
     "text": [
      "train: 0.54315 loss: 3.5147343883627182\n",
      "train val: 0.4324 loss: 1.780831069996953\n",
      "test: 0.5075 loss: 1.5715440049499274\n",
      "epoch time: 19.12min\n",
      "best model: /mnt/d/workspace/clotho/notebooks/checkpoints/harness_v0_lg_0.pkl\n",
      "best train: 0.54315\n",
      "best train val: 0.4324\n",
      "best test: 0.5075\n",
      "epoch 1 version: 0\n"
     ]
    },
    {
     "data": {
      "application/vnd.jupyter.widget-view+json": {
       "model_id": "2cc9c86ab0f848baabc90b03119fb60b",
       "version_major": 2,
       "version_minor": 0
      },
      "text/plain": [
       "train:   0%|          | 0/20000 [00:00<?, ?it/s]"
      ]
     },
     "metadata": {},
     "output_type": "display_data"
    },
    {
     "data": {
      "application/vnd.jupyter.widget-view+json": {
       "model_id": "9c5d9be1a2dd43bcab800ca167464352",
       "version_major": 2,
       "version_minor": 0
      },
      "text/plain": [
       "train val:   0%|          | 0/10000 [00:00<?, ?it/s]"
      ]
     },
     "metadata": {},
     "output_type": "display_data"
    },
    {
     "data": {
      "application/vnd.jupyter.widget-view+json": {
       "model_id": "23a890ce2e744f8fbf4de72c36a92325",
       "version_major": 2,
       "version_minor": 0
      },
      "text/plain": [
       "test:   0%|          | 0/10000 [00:00<?, ?it/s]"
      ]
     },
     "metadata": {},
     "output_type": "display_data"
    },
    {
     "name": "stdout",
     "output_type": "stream",
     "text": [
      "train: 0.5034 loss: 1.6662567906881682\n",
      "train val: 0.666 loss: 0.6149761132508517\n",
      "test: 0.4926 loss: 0.8193769837677479\n",
      "epoch time: 22.72min\n",
      "best model: /mnt/d/workspace/clotho/notebooks/checkpoints/harness_v0_lg_1.pkl\n",
      "best train: 0.5034\n",
      "best train val: 0.666\n",
      "best test: 0.4926\n",
      "epoch 2 version: 0\n"
     ]
    },
    {
     "data": {
      "application/vnd.jupyter.widget-view+json": {
       "model_id": "192ac97270b140f891c9069ff43de0e3",
       "version_major": 2,
       "version_minor": 0
      },
      "text/plain": [
       "train:   0%|          | 0/20000 [00:00<?, ?it/s]"
      ]
     },
     "metadata": {},
     "output_type": "display_data"
    },
    {
     "data": {
      "application/vnd.jupyter.widget-view+json": {
       "model_id": "28fe491afeee436ba4a932b29a544f10",
       "version_major": 2,
       "version_minor": 0
      },
      "text/plain": [
       "train val:   0%|          | 0/10000 [00:00<?, ?it/s]"
      ]
     },
     "metadata": {},
     "output_type": "display_data"
    },
    {
     "data": {
      "application/vnd.jupyter.widget-view+json": {
       "model_id": "36dcea65422440a4a3f9a0b704240275",
       "version_major": 2,
       "version_minor": 0
      },
      "text/plain": [
       "test:   0%|          | 0/10000 [00:00<?, ?it/s]"
      ]
     },
     "metadata": {},
     "output_type": "display_data"
    },
    {
     "name": "stdout",
     "output_type": "stream",
     "text": [
      "train: 0.5932 loss: 1.0946836214133537\n",
      "train val: 0.6654 loss: 0.5613915847253055\n",
      "test: 0.5871 loss: 0.7020287726283073\n",
      "epoch time: 24.00min\n",
      "best model: /mnt/d/workspace/clotho/notebooks/checkpoints/harness_v0_lg_1.pkl\n",
      "best train: 0.5034\n",
      "best train val: 0.666\n",
      "best test: 0.4926\n",
      "epoch 3 version: 0\n"
     ]
    },
    {
     "data": {
      "application/vnd.jupyter.widget-view+json": {
       "model_id": "a6de6624dabe407a92dd1db868575ba0",
       "version_major": 2,
       "version_minor": 0
      },
      "text/plain": [
       "train:   0%|          | 0/20000 [00:00<?, ?it/s]"
      ]
     },
     "metadata": {},
     "output_type": "display_data"
    },
    {
     "data": {
      "application/vnd.jupyter.widget-view+json": {
       "model_id": "bf15d50fbb8745cba205dee39329fa97",
       "version_major": 2,
       "version_minor": 0
      },
      "text/plain": [
       "train val:   0%|          | 0/10000 [00:00<?, ?it/s]"
      ]
     },
     "metadata": {},
     "output_type": "display_data"
    },
    {
     "data": {
      "application/vnd.jupyter.widget-view+json": {
       "model_id": "bfa4aa9604074a0982ea290ac3014f0a",
       "version_major": 2,
       "version_minor": 0
      },
      "text/plain": [
       "test:   0%|          | 0/10000 [00:00<?, ?it/s]"
      ]
     },
     "metadata": {},
     "output_type": "display_data"
    },
    {
     "name": "stdout",
     "output_type": "stream",
     "text": [
      "train: 0.6976 loss: 0.6886984714076155\n",
      "train val: 0.6783 loss: 0.6680274018595169\n",
      "test: 0.6124 loss: 0.8057574693717062\n",
      "epoch time: 24.59min\n",
      "best model: /mnt/d/workspace/clotho/notebooks/checkpoints/harness_v0_lg_3.pkl\n",
      "best train: 0.6976\n",
      "best train val: 0.6783\n",
      "best test: 0.6124\n",
      "epoch 4 version: 0\n"
     ]
    },
    {
     "data": {
      "application/vnd.jupyter.widget-view+json": {
       "model_id": "1d66eed4bacc49c5b47f379c07ee418e",
       "version_major": 2,
       "version_minor": 0
      },
      "text/plain": [
       "train:   0%|          | 0/20000 [00:00<?, ?it/s]"
      ]
     },
     "metadata": {},
     "output_type": "display_data"
    },
    {
     "data": {
      "application/vnd.jupyter.widget-view+json": {
       "model_id": "bab0293aaa7c4ddea147b7628b4d4d64",
       "version_major": 2,
       "version_minor": 0
      },
      "text/plain": [
       "train val:   0%|          | 0/10000 [00:00<?, ?it/s]"
      ]
     },
     "metadata": {},
     "output_type": "display_data"
    },
    {
     "data": {
      "application/vnd.jupyter.widget-view+json": {
       "model_id": "12edfa7e9fdb404b8e470d7df033e725",
       "version_major": 2,
       "version_minor": 0
      },
      "text/plain": [
       "test:   0%|          | 0/10000 [00:00<?, ?it/s]"
      ]
     },
     "metadata": {},
     "output_type": "display_data"
    },
    {
     "name": "stdout",
     "output_type": "stream",
     "text": [
      "train: 0.73415 loss: 0.5340914635046021\n",
      "train val: 0.705 loss: 0.5449348812529875\n",
      "test: 0.6062 loss: 0.6889625865072012\n",
      "epoch time: 24.10min\n",
      "best model: /mnt/d/workspace/clotho/notebooks/checkpoints/harness_v0_lg_4.pkl\n",
      "best train: 0.73415\n",
      "best train val: 0.705\n",
      "best test: 0.6062\n",
      "epoch 5 version: 0\n"
     ]
    },
    {
     "data": {
      "application/vnd.jupyter.widget-view+json": {
       "model_id": "f766cbf31e224a1aa0bfcd89672b5a60",
       "version_major": 2,
       "version_minor": 0
      },
      "text/plain": [
       "train:   0%|          | 0/20000 [00:00<?, ?it/s]"
      ]
     },
     "metadata": {},
     "output_type": "display_data"
    },
    {
     "data": {
      "application/vnd.jupyter.widget-view+json": {
       "model_id": "dda8efdb37314a5bbeded694188ecc68",
       "version_major": 2,
       "version_minor": 0
      },
      "text/plain": [
       "train val:   0%|          | 0/10000 [00:00<?, ?it/s]"
      ]
     },
     "metadata": {},
     "output_type": "display_data"
    },
    {
     "data": {
      "application/vnd.jupyter.widget-view+json": {
       "model_id": "7ee387fe4d6a4da0846c9c7f27397206",
       "version_major": 2,
       "version_minor": 0
      },
      "text/plain": [
       "test:   0%|          | 0/10000 [00:00<?, ?it/s]"
      ]
     },
     "metadata": {},
     "output_type": "display_data"
    },
    {
     "name": "stdout",
     "output_type": "stream",
     "text": [
      "train: 0.8005 loss: 0.39448593816944005\n",
      "train val: 0.6869 loss: 0.5391181374797132\n",
      "test: 0.664 loss: 0.6108955920398236\n",
      "epoch time: 24.19min\n",
      "best model: /mnt/d/workspace/clotho/notebooks/checkpoints/harness_v0_lg_4.pkl\n",
      "best train: 0.73415\n",
      "best train val: 0.705\n",
      "best test: 0.6062\n",
      "epoch 6 version: 0\n"
     ]
    },
    {
     "data": {
      "application/vnd.jupyter.widget-view+json": {
       "model_id": "179c4a5c04eb413fb322bc4b27acae79",
       "version_major": 2,
       "version_minor": 0
      },
      "text/plain": [
       "train:   0%|          | 0/20000 [00:00<?, ?it/s]"
      ]
     },
     "metadata": {},
     "output_type": "display_data"
    },
    {
     "data": {
      "application/vnd.jupyter.widget-view+json": {
       "model_id": "74c20cae59054182b630c3dec9e807ba",
       "version_major": 2,
       "version_minor": 0
      },
      "text/plain": [
       "train val:   0%|          | 0/10000 [00:00<?, ?it/s]"
      ]
     },
     "metadata": {},
     "output_type": "display_data"
    },
    {
     "data": {
      "application/vnd.jupyter.widget-view+json": {
       "model_id": "40d0c065500f4e10b12816e3b3c70d4e",
       "version_major": 2,
       "version_minor": 0
      },
      "text/plain": [
       "test:   0%|          | 0/10000 [00:00<?, ?it/s]"
      ]
     },
     "metadata": {},
     "output_type": "display_data"
    },
    {
     "name": "stdout",
     "output_type": "stream",
     "text": [
      "train: 0.814 loss: 0.361622228161893\n",
      "train val: 0.7149 loss: 0.53299231589392\n",
      "test: 0.632 loss: 0.6553070891678333\n",
      "epoch time: 24.12min\n",
      "removing /mnt/d/workspace/clotho/notebooks/checkpoints/stats_v0_lg_0.json\n",
      "removing /mnt/d/workspace/clotho/notebooks/checkpoints/harness_v0_lg_0.pkl\n",
      "best model: /mnt/d/workspace/clotho/notebooks/checkpoints/harness_v0_lg_6.pkl\n",
      "best train: 0.814\n",
      "best train val: 0.7149\n",
      "best test: 0.632\n",
      "epoch 7 version: 0\n"
     ]
    },
    {
     "data": {
      "application/vnd.jupyter.widget-view+json": {
       "model_id": "0893621083a24b6e8112d2fc64dc290a",
       "version_major": 2,
       "version_minor": 0
      },
      "text/plain": [
       "train:   0%|          | 0/20000 [00:00<?, ?it/s]"
      ]
     },
     "metadata": {},
     "output_type": "display_data"
    },
    {
     "data": {
      "application/vnd.jupyter.widget-view+json": {
       "model_id": "96342717b3934c10b91914862e6e1e41",
       "version_major": 2,
       "version_minor": 0
      },
      "text/plain": [
       "train val:   0%|          | 0/10000 [00:00<?, ?it/s]"
      ]
     },
     "metadata": {},
     "output_type": "display_data"
    },
    {
     "data": {
      "application/vnd.jupyter.widget-view+json": {
       "model_id": "8acc9d8e320445f8a06d8548387da664",
       "version_major": 2,
       "version_minor": 0
      },
      "text/plain": [
       "test:   0%|          | 0/10000 [00:00<?, ?it/s]"
      ]
     },
     "metadata": {},
     "output_type": "display_data"
    },
    {
     "name": "stdout",
     "output_type": "stream",
     "text": [
      "train: 0.7882 loss: 0.6471550602907807\n",
      "train val: 0.6926 loss: 0.600301737936354\n",
      "test: 0.5934 loss: 0.7255660030975938\n",
      "epoch time: 23.83min\n",
      "removing /mnt/d/workspace/clotho/notebooks/checkpoints/stats_v0_lg_2.json\n",
      "removing /mnt/d/workspace/clotho/notebooks/checkpoints/harness_v0_lg_2.pkl\n",
      "best model: /mnt/d/workspace/clotho/notebooks/checkpoints/harness_v0_lg_6.pkl\n",
      "best train: 0.814\n",
      "best train val: 0.7149\n",
      "best test: 0.632\n",
      "epoch 8 version: 0\n"
     ]
    },
    {
     "data": {
      "application/vnd.jupyter.widget-view+json": {
       "model_id": "e3d01ea7fa544ef9a3c25278310b9993",
       "version_major": 2,
       "version_minor": 0
      },
      "text/plain": [
       "train:   0%|          | 0/20000 [00:00<?, ?it/s]"
      ]
     },
     "metadata": {},
     "output_type": "display_data"
    },
    {
     "data": {
      "application/vnd.jupyter.widget-view+json": {
       "model_id": "56217f90ef5e497ba5015fe67ec21a4e",
       "version_major": 2,
       "version_minor": 0
      },
      "text/plain": [
       "train val:   0%|          | 0/10000 [00:00<?, ?it/s]"
      ]
     },
     "metadata": {},
     "output_type": "display_data"
    },
    {
     "data": {
      "application/vnd.jupyter.widget-view+json": {
       "model_id": "3058ceb0aa67464a988ae916f9fb745c",
       "version_major": 2,
       "version_minor": 0
      },
      "text/plain": [
       "test:   0%|          | 0/10000 [00:00<?, ?it/s]"
      ]
     },
     "metadata": {},
     "output_type": "display_data"
    },
    {
     "name": "stdout",
     "output_type": "stream",
     "text": [
      "train: 0.81005 loss: 0.3829603927039773\n",
      "train val: 0.7011 loss: 0.5018820243503432\n",
      "test: 0.5993 loss: 0.6633563963532447\n",
      "epoch time: 23.89min\n",
      "removing /mnt/d/workspace/clotho/notebooks/checkpoints/stats_v0_lg_1.json\n",
      "removing /mnt/d/workspace/clotho/notebooks/checkpoints/harness_v0_lg_1.pkl\n",
      "best model: /mnt/d/workspace/clotho/notebooks/checkpoints/harness_v0_lg_6.pkl\n",
      "best train: 0.814\n",
      "best train val: 0.7149\n",
      "best test: 0.632\n",
      "epoch 9 version: 0\n"
     ]
    },
    {
     "data": {
      "application/vnd.jupyter.widget-view+json": {
       "model_id": "fcf1862aab5d4eea9f5fabd2b8147654",
       "version_major": 2,
       "version_minor": 0
      },
      "text/plain": [
       "train:   0%|          | 0/20000 [00:00<?, ?it/s]"
      ]
     },
     "metadata": {},
     "output_type": "display_data"
    },
    {
     "data": {
      "application/vnd.jupyter.widget-view+json": {
       "model_id": "90433386377b474ab5c9e1b31f3cda54",
       "version_major": 2,
       "version_minor": 0
      },
      "text/plain": [
       "train val:   0%|          | 0/10000 [00:00<?, ?it/s]"
      ]
     },
     "metadata": {},
     "output_type": "display_data"
    },
    {
     "data": {
      "application/vnd.jupyter.widget-view+json": {
       "model_id": "9fe1c33acb1141b3b00d50526667b1e9",
       "version_major": 2,
       "version_minor": 0
      },
      "text/plain": [
       "test:   0%|          | 0/10000 [00:00<?, ?it/s]"
      ]
     },
     "metadata": {},
     "output_type": "display_data"
    },
    {
     "name": "stdout",
     "output_type": "stream",
     "text": [
      "train: 0.83565 loss: 0.3272408008855768\n",
      "train val: 0.7 loss: 0.5112185107074678\n",
      "test: 0.6345 loss: 0.6393793481111526\n",
      "epoch time: 23.73min\n",
      "removing /mnt/d/workspace/clotho/notebooks/checkpoints/stats_v0_lg_3.json\n",
      "removing /mnt/d/workspace/clotho/notebooks/checkpoints/harness_v0_lg_3.pkl\n",
      "best model: /mnt/d/workspace/clotho/notebooks/checkpoints/harness_v0_lg_6.pkl\n",
      "best train: 0.814\n",
      "best train val: 0.7149\n",
      "best test: 0.632\n",
      "epoch 10 version: 0\n"
     ]
    },
    {
     "data": {
      "application/vnd.jupyter.widget-view+json": {
       "model_id": "802e118384684fd5b52782521b92e253",
       "version_major": 2,
       "version_minor": 0
      },
      "text/plain": [
       "train:   0%|          | 0/20000 [00:00<?, ?it/s]"
      ]
     },
     "metadata": {},
     "output_type": "display_data"
    },
    {
     "ename": "OSError",
     "evalue": "[Errno 28] No space left on device",
     "output_type": "error",
     "traceback": [
      "\u001b[0;31m---------------------------------------------------------------------------\u001b[0m",
      "\u001b[0;31mOSError\u001b[0m                                   Traceback (most recent call last)",
      "Cell \u001b[0;32mIn[26], line 1\u001b[0m\n\u001b[0;32m----> 1\u001b[0m \u001b[43mfull_run\u001b[49m\u001b[43m(\u001b[49m\u001b[43mnum_epochs\u001b[49m\u001b[38;5;241;43m=\u001b[39;49m\u001b[38;5;241;43m30\u001b[39;49m\u001b[43m,\u001b[49m\u001b[43m \u001b[49m\u001b[43mversion\u001b[49m\u001b[38;5;241;43m=\u001b[39;49m\u001b[38;5;241;43m0\u001b[39;49m\u001b[43m,\u001b[49m\u001b[43m \u001b[49m\u001b[43mforce_restart\u001b[49m\u001b[38;5;241;43m=\u001b[39;49m\u001b[38;5;28;43;01mFalse\u001b[39;49;00m\u001b[43m)\u001b[49m\n",
      "Cell \u001b[0;32mIn[22], line 2\u001b[0m, in \u001b[0;36mfull_run\u001b[0;34m(num_epochs, version, force_restart)\u001b[0m\n\u001b[1;32m      1\u001b[0m \u001b[38;5;28;01mdef\u001b[39;00m \u001b[38;5;21mfull_run\u001b[39m(\u001b[38;5;241m*\u001b[39m, num_epochs, version, force_restart):\n\u001b[0;32m----> 2\u001b[0m     model, harness, optimizer \u001b[38;5;241m=\u001b[39m \u001b[43mrun_training\u001b[49m\u001b[43m(\u001b[49m\n\u001b[1;32m      3\u001b[0m \u001b[43m        \u001b[49m\u001b[43mnum_epochs\u001b[49m\u001b[43m,\u001b[49m\u001b[43m \u001b[49m\u001b[43mversion\u001b[49m\u001b[43m,\u001b[49m\u001b[43m \u001b[49m\u001b[43mforce_restart\u001b[49m\u001b[43m)\u001b[49m\n\u001b[1;32m      4\u001b[0m     save_model(model, harness, optimizer)\n\u001b[1;32m      5\u001b[0m     validation(model, harness)\n",
      "Cell \u001b[0;32mIn[18], line 103\u001b[0m, in \u001b[0;36mrun_training\u001b[0;34m(num_epochs, version, force_restart)\u001b[0m\n\u001b[1;32m    100\u001b[0m progress_bar\u001b[38;5;241m.\u001b[39mupdate(train_df\u001b[38;5;241m.\u001b[39mshape[\u001b[38;5;241m0\u001b[39m])\n\u001b[1;32m    102\u001b[0m predictions \u001b[38;5;241m=\u001b[39m torch\u001b[38;5;241m.\u001b[39margmax(preds, dim\u001b[38;5;241m=\u001b[39m\u001b[38;5;241m-\u001b[39m\u001b[38;5;241m1\u001b[39m)\n\u001b[0;32m--> 103\u001b[0m \u001b[43mmetric_train\u001b[49m\u001b[38;5;241;43m.\u001b[39;49m\u001b[43madd_batch\u001b[49m\u001b[43m(\u001b[49m\n\u001b[1;32m    104\u001b[0m \u001b[43m    \u001b[49m\u001b[43mpredictions\u001b[49m\u001b[38;5;241;43m=\u001b[39;49m\u001b[43mpredictions\u001b[49m\u001b[43m,\u001b[49m\n\u001b[1;32m    105\u001b[0m \u001b[43m    \u001b[49m\u001b[43mreferences\u001b[49m\u001b[38;5;241;43m=\u001b[39;49m\u001b[43mtrain_df\u001b[49m\u001b[43m[\u001b[49m\u001b[38;5;124;43m\"\u001b[39;49m\u001b[38;5;124;43mcorrect_is_right\u001b[39;49m\u001b[38;5;124;43m\"\u001b[39;49m\u001b[43m]\u001b[49m\u001b[38;5;241;43m.\u001b[39;49m\u001b[43mastype\u001b[49m\u001b[43m(\u001b[49m\u001b[38;5;28;43mint\u001b[39;49m\u001b[43m)\u001b[49m\u001b[43m)\u001b[49m\n\u001b[1;32m    106\u001b[0m \u001b[38;5;28;01mif\u001b[39;00m first:\n\u001b[1;32m    107\u001b[0m     \u001b[38;5;66;03m# display(train_df)\u001b[39;00m\n\u001b[1;32m    108\u001b[0m     first \u001b[38;5;241m=\u001b[39m \u001b[38;5;28;01mFalse\u001b[39;00m\n",
      "File \u001b[0;32m~/miniconda3/envs/clotho/lib/python3.10/site-packages/evaluate/module.py:487\u001b[0m, in \u001b[0;36mEvaluationModule.add_batch\u001b[0;34m(self, predictions, references, **kwargs)\u001b[0m\n\u001b[1;32m    485\u001b[0m             \u001b[38;5;28mself\u001b[39m\u001b[38;5;241m.\u001b[39m_enforce_nested_string_type(\u001b[38;5;28mself\u001b[39m\u001b[38;5;241m.\u001b[39mselected_feature_format[key], column[\u001b[38;5;241m0\u001b[39m])\n\u001b[1;32m    486\u001b[0m     batch \u001b[38;5;241m=\u001b[39m \u001b[38;5;28mself\u001b[39m\u001b[38;5;241m.\u001b[39mselected_feature_format\u001b[38;5;241m.\u001b[39mencode_batch(batch)\n\u001b[0;32m--> 487\u001b[0m     \u001b[38;5;28;43mself\u001b[39;49m\u001b[38;5;241;43m.\u001b[39;49m\u001b[43mwriter\u001b[49m\u001b[38;5;241;43m.\u001b[39;49m\u001b[43mwrite_batch\u001b[49m\u001b[43m(\u001b[49m\u001b[43mbatch\u001b[49m\u001b[43m)\u001b[49m\n\u001b[1;32m    488\u001b[0m \u001b[38;5;28;01mexcept\u001b[39;00m (pa\u001b[38;5;241m.\u001b[39mArrowInvalid, \u001b[38;5;167;01mTypeError\u001b[39;00m):\n\u001b[1;32m    489\u001b[0m     \u001b[38;5;28;01mif\u001b[39;00m \u001b[38;5;28many\u001b[39m(\u001b[38;5;28mlen\u001b[39m(batch[c]) \u001b[38;5;241m!=\u001b[39m \u001b[38;5;28mlen\u001b[39m(\u001b[38;5;28mnext\u001b[39m(\u001b[38;5;28miter\u001b[39m(batch\u001b[38;5;241m.\u001b[39mvalues()))) \u001b[38;5;28;01mfor\u001b[39;00m c \u001b[38;5;129;01min\u001b[39;00m batch):\n",
      "File \u001b[0;32m~/miniconda3/envs/clotho/lib/python3.10/site-packages/datasets/arrow_writer.py:555\u001b[0m, in \u001b[0;36mArrowWriter.write_batch\u001b[0;34m(self, batch_examples, writer_batch_size)\u001b[0m\n\u001b[1;32m    553\u001b[0m schema \u001b[38;5;241m=\u001b[39m inferred_features\u001b[38;5;241m.\u001b[39marrow_schema \u001b[38;5;28;01mif\u001b[39;00m \u001b[38;5;28mself\u001b[39m\u001b[38;5;241m.\u001b[39mpa_writer \u001b[38;5;129;01mis\u001b[39;00m \u001b[38;5;28;01mNone\u001b[39;00m \u001b[38;5;28;01melse\u001b[39;00m \u001b[38;5;28mself\u001b[39m\u001b[38;5;241m.\u001b[39mschema\n\u001b[1;32m    554\u001b[0m pa_table \u001b[38;5;241m=\u001b[39m pa\u001b[38;5;241m.\u001b[39mTable\u001b[38;5;241m.\u001b[39mfrom_arrays(arrays, schema\u001b[38;5;241m=\u001b[39mschema)\n\u001b[0;32m--> 555\u001b[0m \u001b[38;5;28;43mself\u001b[39;49m\u001b[38;5;241;43m.\u001b[39;49m\u001b[43mwrite_table\u001b[49m\u001b[43m(\u001b[49m\u001b[43mpa_table\u001b[49m\u001b[43m,\u001b[49m\u001b[43m \u001b[49m\u001b[43mwriter_batch_size\u001b[49m\u001b[43m)\u001b[49m\n",
      "File \u001b[0;32m~/miniconda3/envs/clotho/lib/python3.10/site-packages/datasets/arrow_writer.py:572\u001b[0m, in \u001b[0;36mArrowWriter.write_table\u001b[0;34m(self, pa_table, writer_batch_size)\u001b[0m\n\u001b[1;32m    570\u001b[0m \u001b[38;5;28mself\u001b[39m\u001b[38;5;241m.\u001b[39m_num_bytes \u001b[38;5;241m+\u001b[39m\u001b[38;5;241m=\u001b[39m pa_table\u001b[38;5;241m.\u001b[39mnbytes\n\u001b[1;32m    571\u001b[0m \u001b[38;5;28mself\u001b[39m\u001b[38;5;241m.\u001b[39m_num_examples \u001b[38;5;241m+\u001b[39m\u001b[38;5;241m=\u001b[39m pa_table\u001b[38;5;241m.\u001b[39mnum_rows\n\u001b[0;32m--> 572\u001b[0m \u001b[38;5;28;43mself\u001b[39;49m\u001b[38;5;241;43m.\u001b[39;49m\u001b[43mpa_writer\u001b[49m\u001b[38;5;241;43m.\u001b[39;49m\u001b[43mwrite_table\u001b[49m\u001b[43m(\u001b[49m\u001b[43mpa_table\u001b[49m\u001b[43m,\u001b[49m\u001b[43m \u001b[49m\u001b[43mwriter_batch_size\u001b[49m\u001b[43m)\u001b[49m\n",
      "File \u001b[0;32m~/miniconda3/envs/clotho/lib/python3.10/site-packages/pyarrow/ipc.pxi:506\u001b[0m, in \u001b[0;36mpyarrow.lib._CRecordBatchWriter.write_table\u001b[0;34m()\u001b[0m\n",
      "File \u001b[0;32m~/miniconda3/envs/clotho/lib/python3.10/site-packages/fsspec/implementations/local.py:340\u001b[0m, in \u001b[0;36mLocalFileOpener.write\u001b[0;34m(self, *args, **kwargs)\u001b[0m\n\u001b[1;32m    339\u001b[0m \u001b[38;5;28;01mdef\u001b[39;00m \u001b[38;5;21mwrite\u001b[39m(\u001b[38;5;28mself\u001b[39m, \u001b[38;5;241m*\u001b[39margs, \u001b[38;5;241m*\u001b[39m\u001b[38;5;241m*\u001b[39mkwargs):\n\u001b[0;32m--> 340\u001b[0m     \u001b[38;5;28;01mreturn\u001b[39;00m \u001b[38;5;28;43mself\u001b[39;49m\u001b[38;5;241;43m.\u001b[39;49m\u001b[43mf\u001b[49m\u001b[38;5;241;43m.\u001b[39;49m\u001b[43mwrite\u001b[49m\u001b[43m(\u001b[49m\u001b[38;5;241;43m*\u001b[39;49m\u001b[43margs\u001b[49m\u001b[43m,\u001b[49m\u001b[43m \u001b[49m\u001b[38;5;241;43m*\u001b[39;49m\u001b[38;5;241;43m*\u001b[39;49m\u001b[43mkwargs\u001b[49m\u001b[43m)\u001b[49m\n",
      "\u001b[0;31mOSError\u001b[0m: [Errno 28] No space left on device"
     ]
    }
   ],
   "source": [
    "full_run(num_epochs=30, version=0, force_restart=False)"
   ]
  },
  {
   "cell_type": "code",
   "execution_count": null,
   "id": "4bb7b7fd-7e2d-4253-8192-f670106b8702",
   "metadata": {},
   "outputs": [],
   "source": [
    "full_run(num_epochs=30, version=5, force_restart=False)"
   ]
  },
  {
   "cell_type": "code",
   "execution_count": null,
   "id": "f5f22222-b2bd-4af9-bd14-254d394a9575",
   "metadata": {},
   "outputs": [],
   "source": [
    "full_run(num_epochs=60, version=-1, force_restart=False)"
   ]
  },
  {
   "cell_type": "code",
   "execution_count": null,
   "id": "a274797a-104c-4aba-87e4-8ac860c7b6b9",
   "metadata": {},
   "outputs": [],
   "source": [
    "full_run(num_epochs=60, version=7, force_restart=False)"
   ]
  },
  {
   "cell_type": "code",
   "execution_count": null,
   "id": "d20325a9-6827-4eb0-988e-4c5d9a8791dd",
   "metadata": {},
   "outputs": [],
   "source": [
    "full_run(num_epochs=60, version=0, force_restart=False)"
   ]
  },
  {
   "cell_type": "code",
   "execution_count": null,
   "id": "b08e677f-9171-4bb0-8ad2-11dfb550a56d",
   "metadata": {},
   "outputs": [],
   "source": [
    "full_run(num_epochs=60, version=5, force_restart=False)"
   ]
  },
  {
   "cell_type": "code",
   "execution_count": null,
   "id": "b973aae0-24c0-4866-aded-d815291112d6",
   "metadata": {},
   "outputs": [],
   "source": [
    "full_run(num_epochs=90, version=-1, force_restart=False)"
   ]
  },
  {
   "cell_type": "code",
   "execution_count": null,
   "id": "b8129b19-aec9-474f-ab8c-9805c2989ea1",
   "metadata": {},
   "outputs": [],
   "source": [
    "full_run(num_epochs=90, version=7, force_restart=False)"
   ]
  },
  {
   "cell_type": "code",
   "execution_count": null,
   "id": "e1303bc8-be04-4280-a6b9-d96f0dcccb93",
   "metadata": {},
   "outputs": [],
   "source": [
    "full_run(num_epochs=90, version=0, force_restart=False)"
   ]
  },
  {
   "cell_type": "code",
   "execution_count": null,
   "id": "70f99d8a-422f-42e5-b950-8ce08f3eacb1",
   "metadata": {},
   "outputs": [],
   "source": [
    "full_run(num_epochs=90, version=5, force_restart=False)"
   ]
  },
  {
   "cell_type": "code",
   "execution_count": null,
   "id": "a296d879-ace0-4c46-a0a5-e0e161a8742e",
   "metadata": {},
   "outputs": [],
   "source": [
    "full_run(num_epochs=120, version=-1, force_restart=False)"
   ]
  },
  {
   "cell_type": "code",
   "execution_count": null,
   "id": "a15e9ab6-0327-4e6c-b308-0b2b9673b73e",
   "metadata": {},
   "outputs": [],
   "source": [
    "full_run(num_epochs=120, version=7, force_restart=False)"
   ]
  },
  {
   "cell_type": "code",
   "execution_count": null,
   "id": "01e79c85-14f8-4302-8cf6-21be9e19562c",
   "metadata": {},
   "outputs": [],
   "source": [
    "full_run(num_epochs=120, version=0, force_restart=False)"
   ]
  },
  {
   "cell_type": "code",
   "execution_count": null,
   "id": "fde8d78f-327b-43d6-abaa-96b3784c871c",
   "metadata": {},
   "outputs": [],
   "source": [
    "full_run(num_epochs=120, version=5, force_restart=False)"
   ]
  },
  {
   "cell_type": "code",
   "execution_count": null,
   "id": "38f1fc11-2b71-4453-a6fa-3a73de48f9f6",
   "metadata": {},
   "outputs": [],
   "source": []
  }
 ],
 "metadata": {
  "kernelspec": {
   "display_name": "Python [conda env:clotho]",
   "language": "python",
   "name": "conda-env-clotho-py"
  },
  "language_info": {
   "codemirror_mode": {
    "name": "ipython",
    "version": 3
   },
   "file_extension": ".py",
   "mimetype": "text/x-python",
   "name": "python",
   "nbconvert_exporter": "python",
   "pygments_lexer": "ipython3",
   "version": "3.10.6"
  }
 },
 "nbformat": 4,
 "nbformat_minor": 5
}

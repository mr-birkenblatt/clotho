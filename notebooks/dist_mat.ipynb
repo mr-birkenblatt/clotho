{
 "cells": [
  {
   "cell_type": "code",
   "execution_count": 1,
   "id": "2aaaf3a0-3dee-4b5d-a86c-f38c5864a1d0",
   "metadata": {},
   "outputs": [],
   "source": [
    "import os\n",
    "import sys\n",
    "import json\n",
    "import pandas as pd\n",
    "import numpy as np\n",
    "import torch\n",
    "from typing import Literal, TypedDict"
   ]
  },
  {
   "cell_type": "code",
   "execution_count": 2,
   "id": "210bb245-eed8-4c11-8739-f4a4069ceead",
   "metadata": {},
   "outputs": [],
   "source": [
    "sys.path.append(\"..\")\n",
    "os.environ[\"USER_PATH\"] = \"../userdata/\""
   ]
  },
  {
   "cell_type": "code",
   "execution_count": 3,
   "id": "f0085c3a-932c-4100-a1e1-b331c7d40790",
   "metadata": {},
   "outputs": [],
   "source": [
    "from system.namespace.store import get_namespace"
   ]
  },
  {
   "cell_type": "code",
   "execution_count": 4,
   "id": "6cad07e2-d306-4780-80d0-95dd8442e788",
   "metadata": {},
   "outputs": [],
   "source": [
    "namespace = get_namespace(\"train_db\")"
   ]
  },
  {
   "cell_type": "code",
   "execution_count": 5,
   "id": "984fca60-2429-4ded-8b73-047d5ad10232",
   "metadata": {},
   "outputs": [],
   "source": [
    "from system.embedding.store import get_embed_store\n",
    "from misc.lru import LRU"
   ]
  },
  {
   "cell_type": "code",
   "execution_count": 6,
   "id": "cdfe9a83-c302-4496-923d-250e48a8d235",
   "metadata": {},
   "outputs": [],
   "source": [
    "embeds = get_embed_store(namespace)"
   ]
  },
  {
   "cell_type": "code",
   "execution_count": 7,
   "id": "362446b5-49c0-4275-9c56-199f5239e1b0",
   "metadata": {},
   "outputs": [],
   "source": [
    "role_c = \"child\"\n",
    "role_p = \"parent\""
   ]
  },
  {
   "cell_type": "code",
   "execution_count": 8,
   "id": "251bad94-a871-43ec-b0e6-2b786dfa2cc3",
   "metadata": {},
   "outputs": [
    {
     "data": {
      "text/plain": [
       "689414"
      ]
     },
     "execution_count": 8,
     "metadata": {},
     "output_type": "execute_result"
    }
   ],
   "source": [
    "total_c = embeds.get_embedding_count(role_c)\n",
    "total_c"
   ]
  },
  {
   "cell_type": "code",
   "execution_count": 9,
   "id": "ca22cad4-7778-4db2-87d7-59e1c3f2829f",
   "metadata": {},
   "outputs": [
    {
     "data": {
      "text/plain": [
       "689415"
      ]
     },
     "execution_count": 9,
     "metadata": {},
     "output_type": "execute_result"
    }
   ],
   "source": [
    "total_p = embeds.get_embedding_count(role_p)\n",
    "total_p"
   ]
  },
  {
   "cell_type": "code",
   "execution_count": 10,
   "id": "c12519f4-c51d-479d-99e9-56e47ddbdb02",
   "metadata": {},
   "outputs": [
    {
     "data": {
      "application/vnd.jupyter.widget-view+json": {
       "model_id": "5da473317a514b3ba3840f0299e58059",
       "version_major": 2,
       "version_minor": 0
      },
      "text/plain": [
       "  0%|          | 0/689414 [00:00<?, ?it/s]"
      ]
     },
     "metadata": {},
     "output_type": "display_data"
    },
    {
     "data": {
      "application/vnd.jupyter.widget-view+json": {
       "model_id": "bc19338a12804bbaa72b779a9e5b49a8",
       "version_major": 2,
       "version_minor": 0
      },
      "text/plain": [
       "  0%|          | 0/689415 [00:00<?, ?it/s]"
      ]
     },
     "metadata": {},
     "output_type": "display_data"
    },
    {
     "name": "stdout",
     "output_type": "stream",
     "text": [
      "CPU times: user 4min 52s, sys: 1min 27s, total: 6min 19s\n",
      "Wall time: 28min 11s\n"
     ]
    },
    {
     "data": {
      "text/plain": [
       "(1378829, 768)"
      ]
     },
     "execution_count": 10,
     "metadata": {},
     "output_type": "execute_result"
    }
   ],
   "source": [
    "%%time\n",
    "\n",
    "x_0 = np.vstack([\n",
    "    embed[1].ravel().detach().numpy()\n",
    "    for embed in embeds.get_all_embeddings(role_c, progress_bar=True)\n",
    "])\n",
    "y_0 = x_0.shape[0]\n",
    "x_1 = np.vstack([\n",
    "    embed[1].ravel().detach().numpy()\n",
    "    for embed in embeds.get_all_embeddings(role_p, progress_bar=True)\n",
    "])\n",
    "y_1 = x_1.shape[0]\n",
    "y = [\n",
    "    \"tab:blue\" for _ in range(y_0)\n",
    "] + [\n",
    "    \"tab:orange\" for _ in range(y_1)\n",
    "]\n",
    "x = np.vstack([x_0, x_1])\n",
    "x.shape"
   ]
  },
  {
   "cell_type": "code",
   "execution_count": 11,
   "id": "d43755b6-da29-4537-bf9c-3c1a1be5f4d8",
   "metadata": {},
   "outputs": [
    {
     "data": {
      "text/plain": [
       "array([[-0.12091923, -0.04834189,  0.05038018, ..., -0.05596649,\n",
       "         0.04401225, -1.84632361],\n",
       "       [-0.12091924, -0.04834188,  0.05038019, ..., -0.0559665 ,\n",
       "         0.04401225, -1.84632373]])"
      ]
     },
     "execution_count": 11,
     "metadata": {},
     "output_type": "execute_result"
    }
   ],
   "source": [
    "x[:2, :]"
   ]
  },
  {
   "cell_type": "code",
   "execution_count": 12,
   "id": "b39f3e21-973a-4774-a79a-e65058505fb8",
   "metadata": {},
   "outputs": [],
   "source": [
    "def sigmoid(x):  \n",
    "    return np.exp(-np.logaddexp(0, -x))\n",
    "\n",
    "def distance(a, b):\n",
    "    return np.log1p(np.exp(-np.dot(a, b)))\n",
    "    # return 1.0 - sigmoid(np.dot(a, b))"
   ]
  },
  {
   "cell_type": "code",
   "execution_count": 16,
   "id": "74c96ac5-0335-4e01-b393-ee64f47d9f58",
   "metadata": {},
   "outputs": [
    {
     "data": {
      "text/plain": [
       "1770.6019908571616"
      ]
     },
     "execution_count": 16,
     "metadata": {},
     "output_type": "execute_result"
    }
   ],
   "source": [
    "total = total_c + total_p\n",
    "# dists = np.zeros((total, total))\n",
    "total * total / 1024 / 1024 / 1024"
   ]
  },
  {
   "cell_type": "code",
   "execution_count": null,
   "id": "b685fbd3-58af-4598-8b4a-244f0fb5f872",
   "metadata": {},
   "outputs": [],
   "source": []
  }
 ],
 "metadata": {
  "kernelspec": {
   "display_name": "Python 3 (ipykernel)",
   "language": "python",
   "name": "python3"
  },
  "language_info": {
   "codemirror_mode": {
    "name": "ipython",
    "version": 3
   },
   "file_extension": ".py",
   "mimetype": "text/x-python",
   "name": "python",
   "nbconvert_exporter": "python",
   "pygments_lexer": "ipython3",
   "version": "3.10.6"
  }
 },
 "nbformat": 4,
 "nbformat_minor": 5
}

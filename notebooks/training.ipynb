{
 "cells": [
  {
   "cell_type": "code",
   "execution_count": 1,
   "id": "7c1265ba-c76b-4424-b577-a322e6b512af",
   "metadata": {},
   "outputs": [],
   "source": [
    "# in a terminal run\n",
    "# > USER_PATH=/home/krause/userdata/ make run-redis NS=train\n",
    "# > USER_PATH=/home/krause/userdata/ make run-redis NS=test\n",
    "# to allow access to the train and test namespaces"
   ]
  },
  {
   "cell_type": "code",
   "execution_count": 2,
   "id": "4e21c530-5f85-4b18-b9ed-c2fbe591b52f",
   "metadata": {},
   "outputs": [],
   "source": [
    "import os\n",
    "import sys\n",
    "import json\n",
    "import pandas as pd\n",
    "import numpy as np\n",
    "from typing import Literal, TypedDict"
   ]
  },
  {
   "cell_type": "code",
   "execution_count": 3,
   "id": "62721599-23d3-405a-bbb2-88a6f0a17a17",
   "metadata": {},
   "outputs": [],
   "source": [
    "sys.path.append(\"..\")\n",
    "os.environ[\"USER_PATH\"] = \"/home/krause/userdata/\"\n",
    "MODEL_OUTPUT_BASE = \"/mnt/d/workspace/clotho/notebooks\"\n",
    "MODEL_OUTPUT_CP = os.path.join(MODEL_OUTPUT_BASE, \"checkpoints\")"
   ]
  },
  {
   "cell_type": "code",
   "execution_count": 4,
   "id": "82c6f1c7-607b-479d-b2f6-3483cb91a57d",
   "metadata": {},
   "outputs": [],
   "source": [
    "from misc.redis import set_redis_slow_mode\n",
    "from misc.util import highest_number\n",
    "from misc.io import open_write\n",
    "from model.datagenerator import create_train_test\n",
    "from model.transformer_embed import (\n",
    "    get_epoch_and_load,\n",
    "    limit_epoch_data,\n",
    "    limit_epoch_data,\n",
    "    get_model_filename,\n",
    ")\n",
    "from system.namespace.store import get_namespace"
   ]
  },
  {
   "cell_type": "code",
   "execution_count": 5,
   "id": "1d8c7e9a-fa89-435d-a0a2-0a492056581e",
   "metadata": {},
   "outputs": [
    {
     "data": {
      "text/plain": [
       "True"
      ]
     },
     "execution_count": 5,
     "metadata": {},
     "output_type": "execute_result"
    }
   ],
   "source": [
    "import torch\n",
    "\n",
    "is_cuda = torch.cuda.is_available()\n",
    "is_cuda"
   ]
  },
  {
   "cell_type": "code",
   "execution_count": 6,
   "id": "0a897205-0707-4928-860d-5e8d58cef31a",
   "metadata": {},
   "outputs": [],
   "source": [
    "set_redis_slow_mode(\"never\")\n",
    "ns_test = get_namespace(\"test\")\n",
    "ns_train = get_namespace(\"train\")\n",
    "now = pd.Timestamp(\"2022-12-17\", tz=\"UTC\")\n",
    "train_plan = [\n",
    "    {\n",
    "        \"left\": {\"mode\": \"valid\", \"flip_pc\": 1.0},\n",
    "        \"right\": {\"mode\": \"valid\", \"flip_pc\": 0.0},\n",
    "        \"min_text_length\": 20,\n",
    "        \"skip_weak\": True,\n",
    "        \"skip_topics\": True,\n",
    "        \"flip_lr\": 0.5,\n",
    "        \"first_epoch\": 10,\n",
    "        \"last_epoch\": None,\n",
    "        \"weight\": 50,\n",
    "    },\n",
    "    {\n",
    "        \"left\": {\"mode\": \"valid\", \"flip_pc\": 1.0},\n",
    "        \"right\": {\"mode\": \"valid\", \"flip_pc\": 0.0},\n",
    "        \"min_text_length\": None,\n",
    "        \"skip_weak\": True,\n",
    "        \"skip_topics\": True,\n",
    "        \"flip_lr\": 0.5,\n",
    "        \"first_epoch\": 10,\n",
    "        \"last_epoch\": None,\n",
    "        \"weight\": 50,\n",
    "    },\n",
    "    {\n",
    "        \"left\": {\"mode\": \"random\", \"flip_pc\": 0.0},\n",
    "        \"right\": {\"mode\": \"path\", \"flip_pc\": 0.0},\n",
    "        \"min_text_length\": 20,\n",
    "        \"skip_weak\": True,\n",
    "        \"skip_topics\": True,\n",
    "        \"flip_lr\": 0.5,\n",
    "        \"first_epoch\": None,\n",
    "        \"last_epoch\": None,\n",
    "        \"weight\": 60,\n",
    "    },\n",
    "    {\n",
    "        \"left\": None,\n",
    "        \"right\": {\"mode\": \"path\", \"flip_pc\": 0.0},\n",
    "        \"min_text_length\": 20,\n",
    "        \"skip_weak\": True,\n",
    "        \"skip_topics\": True,\n",
    "        \"flip_lr\": 0.5,\n",
    "        \"first_epoch\": None,\n",
    "        \"last_epoch\": None,\n",
    "        \"weight\": 40,\n",
    "    },\n",
    "     {\n",
    "        \"left\": {\"mode\": \"random\", \"flip_pc\": 0.0},\n",
    "        \"right\": {\"mode\": \"path\", \"flip_pc\": 0.0},\n",
    "        \"min_text_length\": None,\n",
    "        \"skip_weak\": True,\n",
    "        \"skip_topics\": True,\n",
    "        \"flip_lr\": 0.5,\n",
    "        \"first_epoch\": 5,\n",
    "        \"last_epoch\": None,\n",
    "        \"weight\": 60,\n",
    "    },\n",
    "    {\n",
    "        \"left\": None,\n",
    "        \"right\": {\"mode\": \"path\", \"flip_pc\": 0.0},\n",
    "        \"min_text_length\": None,\n",
    "        \"skip_weak\": True,\n",
    "        \"skip_topics\": True,\n",
    "        \"flip_lr\": 0.5,\n",
    "        \"first_epoch\": 5,\n",
    "        \"last_epoch\": None,\n",
    "        \"weight\": 40,\n",
    "    },\n",
    "    {\n",
    "        \"left\": {\"mode\": \"random\", \"flip_pc\": 0.0},\n",
    "        \"right\": {\"mode\": \"valid\", \"flip_pc\": 0.0},\n",
    "        \"min_text_length\": None,\n",
    "        \"skip_weak\": True,\n",
    "        \"skip_topics\": True,\n",
    "        \"flip_lr\": 0.5,\n",
    "        \"first_epoch\": None,\n",
    "        \"last_epoch\": None,\n",
    "        \"weight\": 60,\n",
    "    },\n",
    "    {\n",
    "        \"left\": None,\n",
    "        \"right\": {\"mode\": \"valid\", \"flip_pc\": 0.0},\n",
    "        \"min_text_length\": None,\n",
    "        \"skip_weak\": True,\n",
    "        \"skip_topics\": True,\n",
    "        \"flip_lr\": 0.5,\n",
    "        \"first_epoch\": None,\n",
    "        \"last_epoch\": None,\n",
    "        \"weight\": 40,\n",
    "    },\n",
    "    {\n",
    "        \"left\": {\"mode\": \"valid\", \"flip_pc\": 1.0},\n",
    "        \"right\": {\"mode\": \"valid\", \"flip_pc\": 0.0},\n",
    "        \"min_text_length\": None,\n",
    "        \"skip_weak\": True,\n",
    "        \"skip_topics\": True,\n",
    "        \"flip_lr\": 0.5,\n",
    "        \"first_epoch\": 15,\n",
    "        \"last_epoch\": None,\n",
    "        \"weight\": 50,\n",
    "    }\n",
    "]\n",
    "eval_plan = [\n",
    "    {\n",
    "        \"left\": {\"mode\": \"random\", \"flip_pc\": 0.0},\n",
    "        \"right\": {\"mode\": \"valid\", \"flip_pc\": 0.0},\n",
    "        \"min_text_length\": 20,\n",
    "        \"skip_weak\": True,\n",
    "        \"skip_topics\": True,\n",
    "        \"flip_lr\": 0.5,\n",
    "        \"weight\": 60,\n",
    "    },\n",
    "    {\n",
    "        \"left\": None,\n",
    "        \"right\": {\"mode\": \"valid\", \"flip_pc\": 0.0},\n",
    "        \"min_text_length\": 20,\n",
    "        \"skip_weak\": True,\n",
    "        \"skip_topics\": True,\n",
    "        \"flip_lr\": 0.5,\n",
    "        \"weight\": 40,\n",
    "    },\n",
    "    {\n",
    "        \"left\": {\"mode\": \"random\", \"flip_pc\": 0.0},\n",
    "        \"right\": {\"mode\": \"valid\", \"flip_pc\": 0.0},\n",
    "        \"min_text_length\": None,\n",
    "        \"skip_weak\": True,\n",
    "        \"skip_topics\": True,\n",
    "        \"flip_lr\": 0.5,\n",
    "        \"weight\": 60,\n",
    "    },\n",
    "    {\n",
    "        \"left\": None,\n",
    "        \"right\": {\"mode\": \"valid\", \"flip_pc\": 0.0},\n",
    "        \"min_text_length\": None,\n",
    "        \"skip_weak\": True,\n",
    "        \"skip_topics\": True,\n",
    "        \"flip_lr\": 0.5,\n",
    "        \"weight\": 40,\n",
    "    },\n",
    "]\n",
    "ttgen = create_train_test(\n",
    "    train_ns=ns_train,\n",
    "    train_validation_ns=ns_train,\n",
    "    test_ns=ns_test,\n",
    "    test_validation_ns=ns_test,\n",
    "    train_learning_plan=train_plan,\n",
    "    train_val_learning_plan=eval_plan,\n",
    "    test_learning_plan=eval_plan,\n",
    "    test_val_learning_plan=eval_plan,\n",
    "    batch_size=4 if is_cuda else 8,\n",
    "    epoch_batches=5000 if is_cuda else 500,\n",
    "    train_val_size=10000 if is_cuda else 1000,\n",
    "    test_size=10000 if is_cuda else 1000,\n",
    "    test_val_size=10000 if is_cuda else 1000,\n",
    "    compute_batch_size=100 if is_cuda else 100,\n",
    "    now=now)"
   ]
  },
  {
   "cell_type": "code",
   "execution_count": 7,
   "id": "9d7acd4d-0d4a-481f-901b-3e524ee02c6f",
   "metadata": {},
   "outputs": [],
   "source": [
    "import torch.nn as nn\n",
    "from torch.optim import AdamW\n",
    "from transformers import DistilBertTokenizer, DistilBertModel"
   ]
  },
  {
   "cell_type": "code",
   "execution_count": 8,
   "id": "927dbcbe-6df3-49c9-8449-041b1ab7a168",
   "metadata": {},
   "outputs": [
    {
     "data": {
      "text/plain": [
       "device(type='cuda')"
      ]
     },
     "execution_count": 8,
     "metadata": {},
     "output_type": "execute_result"
    }
   ],
   "source": [
    "device = torch.device(\"cuda\") if is_cuda else torch.device(\"cpu\")\n",
    "device"
   ]
  },
  {
   "cell_type": "code",
   "execution_count": 9,
   "id": "00819f53-a953-4b85-bcf8-6cba59a8bb67",
   "metadata": {},
   "outputs": [],
   "source": [
    "ProviderRole = Literal[\"child\", \"parent\"]\n",
    "\n",
    "tokenizer = DistilBertTokenizer.from_pretrained(\"distilbert-base-uncased\")\n",
    "EMBED_SIZE = 768\n",
    "\n",
    "TokenizedInput = TypedDict('TokenizedInput', {\n",
    "    \"input_ids\": torch.Tensor,\n",
    "    \"attention_mask\": torch.Tensor,\n",
    "})\n",
    "\n",
    "\n",
    "AggType = Literal[\"cls\", \"mean\"]\n",
    "AGG_CLS: AggType = \"cls\"\n",
    "AGG_MEAN: AggType = \"mean\"\n",
    "\n",
    "\n",
    "def tokens(texts: list[str]) -> TokenizedInput:\n",
    "    res = tokenizer(texts.tolist(), return_tensors=\"pt\", padding=True, truncation=True)\n",
    "    return {k: v.to(device) for k, v in res.items()}\n",
    "\n",
    "\n",
    "class Noise(nn.Module):\n",
    "    def __init__(self, std: float = 1.0, p: float = 0.5) -> None:\n",
    "        super().__init__()\n",
    "        self._std = std\n",
    "        self._p = p\n",
    "        self._dhold = nn.Parameter(torch.Tensor([0.0]), requires_grad=False)\n",
    "\n",
    "    def set_std(self, std: float) -> None:\n",
    "        self._std = std\n",
    "\n",
    "    def get_std(self) -> float:\n",
    "        return self._std\n",
    "\n",
    "    def forward(self, x: torch.Tensor) -> torch.Tensor:\n",
    "        if not self.training:\n",
    "            return x\n",
    "        prob = torch.rand(size=x.shape, device=self._dhold.device) < self._p\n",
    "        gauss = torch.normal(\n",
    "            mean=0.0, std=self._std, size=x.shape, device=self._dhold.device)\n",
    "        return x + prob * gauss\n",
    "\n",
    "\n",
    "class Model(nn.Module):\n",
    "    def __init__(self, version: int) -> None:\n",
    "        super().__init__()\n",
    "        self._bert_parent = DistilBertModel.from_pretrained(\n",
    "            \"distilbert-base-uncased\")\n",
    "        self._bert_child = DistilBertModel.from_pretrained(\n",
    "            \"distilbert-base-uncased\")\n",
    "        if version in (1, 3, 4, 6):\n",
    "            self._pdense: nn.Sequential | None = nn.Sequential(\n",
    "                nn.Linear(EMBED_SIZE, EMBED_SIZE),\n",
    "                nn.Dropout(p=0.2),\n",
    "                nn.ReLU(),\n",
    "                nn.Linear(EMBED_SIZE, EMBED_SIZE))\n",
    "            self._cdense: nn.Sequential | None = nn.Sequential(\n",
    "                nn.Linear(EMBED_SIZE, EMBED_SIZE),\n",
    "                nn.Dropout(p=0.2),\n",
    "                nn.ReLU(),\n",
    "                nn.Linear(EMBED_SIZE, EMBED_SIZE))\n",
    "        else:\n",
    "            self._pdense = None\n",
    "            self._cdense = None\n",
    "        if version < 4 or version > 5:\n",
    "            self._noise = None\n",
    "        else:\n",
    "            self._noise = Noise(std=1.0, p=0.2)\n",
    "        if version < 2 or version > 4:\n",
    "            self._cos = None\n",
    "        else:\n",
    "            self._cos = torch.nn.CosineSimilarity()\n",
    "        if version < 6:\n",
    "            self._agg = AGG_CLS\n",
    "        else:\n",
    "            self._agg = AGG_MEAN\n",
    "        self._version = version\n",
    "\n",
    "    def set_epoch(self, epoch: int) -> None:\n",
    "        noise = self._noise\n",
    "        if noise is not None:\n",
    "            noise.set_std(1 / (1.2 ** epoch))\n",
    "\n",
    "    def get_version(self) -> int:\n",
    "        return self._version\n",
    "    \n",
    "    def get_agg(self, lhs: torch.Tensor) -> torch.Tensor:\n",
    "        if self._agg == AGG_CLS:\n",
    "            return lhs[:, 0]\n",
    "        if self._agg == AGG_MEAN:\n",
    "            return torch.mean(lhs, dim=1)\n",
    "        raise ValueError(f\"unknown aggregation: {self._agg}\")\n",
    "\n",
    "    def get_parent_embed(\n",
    "            self,\n",
    "            input_ids: torch.Tensor,\n",
    "            attention_mask: torch.Tensor) -> torch.Tensor:\n",
    "        outputs_parent = self._bert_parent(\n",
    "            input_ids=input_ids, attention_mask=attention_mask)\n",
    "        out = self.get_agg(outputs_parent.last_hidden_state)\n",
    "        if self._pdense is not None:\n",
    "            out = self._pdense(out)\n",
    "        if self._noise is not None:\n",
    "            out = self._noise(out)\n",
    "        return out\n",
    "\n",
    "    def get_child_embed(\n",
    "            self,\n",
    "            input_ids: torch.Tensor,\n",
    "            attention_mask: torch.Tensor) -> torch.Tensor:\n",
    "        outputs_child = self._bert_child(\n",
    "            input_ids=input_ids, attention_mask=attention_mask)\n",
    "        out = self.get_agg(outputs_child.last_hidden_state)\n",
    "        if self._cdense is not None:\n",
    "            out = self._cdense(out)\n",
    "        if self._noise is not None:\n",
    "            out = self._noise(out)\n",
    "        return out\n",
    "\n",
    "    def forward(self, x: dict[ProviderRole, TokenizedInput]) -> torch.Tensor:\n",
    "        parent_cls = self.get_parent_embed(\n",
    "            input_ids=x[\"parent\"][\"input_ids\"],\n",
    "            attention_mask=x[\"parent\"][\"attention_mask\"])\n",
    "        child_cls = self.get_child_embed(\n",
    "            input_ids=x[\"child\"][\"input_ids\"],\n",
    "            attention_mask=x[\"child\"][\"attention_mask\"])\n",
    "        if self._cos is not None:\n",
    "            return self._cos(parent_cls, child_cls).reshape([-1, 1])\n",
    "        batch_size = parent_cls.shape[0]\n",
    "        return torch.bmm(\n",
    "            parent_cls.reshape([batch_size, 1, -1]),\n",
    "            child_cls.reshape([batch_size, -1, 1])).reshape([-1, 1])\n",
    "\n",
    "\n",
    "class TrainingHarness(nn.Module):\n",
    "    def __init__(self, model: Model) -> None:\n",
    "        super().__init__()\n",
    "        self._model = model\n",
    "        self._softmax = nn.Softmax(dim=1)\n",
    "        self._loss = nn.BCELoss()\n",
    "\n",
    "    def get_version(self) -> int:\n",
    "        return self._model.get_version()\n",
    "\n",
    "    def forward(\n",
    "            self,\n",
    "            left: TokenizedInput,\n",
    "            right: TokenizedInput,\n",
    "            labels: torch.Tensor) -> tuple[torch.Tensor, torch.Tensor]:\n",
    "        out_left = self._model(left)\n",
    "        out_right = self._model(right)\n",
    "        preds = self._softmax(torch.hstack((out_left, out_right)))\n",
    "        return preds, self._loss(preds, labels)"
   ]
  },
  {
   "cell_type": "code",
   "execution_count": 10,
   "id": "6cde9030-931f-4f80-a118-d7f5ef2677d9",
   "metadata": {
    "tags": []
   },
   "outputs": [],
   "source": [
    "from transformers import get_scheduler\n",
    "# from tqdm.notebook import tqdm\n",
    "from tqdm.auto import tqdm\n",
    "import evaluate\n",
    "import time\n",
    "\n",
    "\n",
    "def compute(harness, df):\n",
    "    plefts = tokens(df[\"parent_left\"])\n",
    "    clefts = tokens(df[\"child_left\"])\n",
    "    prights = tokens(df[\"parent_right\"])\n",
    "    crights = tokens(df[\"child_right\"])\n",
    "    labels = torch.tensor(\n",
    "        [~df[\"correct_is_right\"], df[\"correct_is_right\"]],\n",
    "        dtype=torch.float32).T.to(device)\n",
    "    return harness(\n",
    "        left={\"parent\": plefts, \"child\": clefts},\n",
    "        right={\"parent\": prights, \"child\": crights},\n",
    "        labels=labels)\n",
    "\n",
    "\n",
    "def run_training(num_epochs, version, force_restart):\n",
    "    model = Model(version=version)\n",
    "    model.to(device)\n",
    "    harness = TrainingHarness(model)\n",
    "    harness.to(device)\n",
    "\n",
    "    mprev, epoch_offset = get_epoch_and_load(\n",
    "        harness,\n",
    "        MODEL_OUTPUT_CP,\n",
    "        ftype=\"harness\",\n",
    "        is_cuda=is_cuda,\n",
    "        device=device,\n",
    "        force_restart=force_restart)\n",
    "\n",
    "    optimizer = AdamW(harness.parameters(), lr=5e-5)\n",
    "    print(mprev, epoch_offset)\n",
    "    \n",
    "    num_epochs -= epoch_offset\n",
    "    if num_epochs <= 0:\n",
    "        print(\"already computed all epochs. nothing to do!\")\n",
    "        return model, harness, optimizer\n",
    "    \n",
    "    num_training_steps = num_epochs * ttgen.get_epoch_train_size()\n",
    "    warmup = 10000 if is_cuda else 10\n",
    "    lr_scheduler = get_scheduler(\n",
    "        name=\"linear\",\n",
    "        optimizer=optimizer,\n",
    "        num_warmup_steps=warmup,\n",
    "        num_training_steps=num_training_steps - warmup)\n",
    "    ttgen.set_epoch(epoch_offset)\n",
    "    \n",
    "    log_csv = get_model_filename(\n",
    "        harness,\n",
    "        MODEL_OUTPUT_BASE,\n",
    "        is_cuda=is_cuda,\n",
    "        ftype=\"val_log\",\n",
    "        epoch=None,\n",
    "        ext=\".csv\")\n",
    "    columns = [\n",
    "        \"epoch\",\n",
    "        \"train_acc\",\n",
    "        \"train_loss\",\n",
    "        \"train_val_acc\",\n",
    "        \"train_val_loss\",\n",
    "        \"test_acc\",\n",
    "        \"test_loss\",\n",
    "        \"time\",\n",
    "        \"version\",\n",
    "        \"fname\",\n",
    "    ]\n",
    "    if not os.path.exists(log_csv):\n",
    "        pd.DataFrame([], columns=columns).to_csv(\n",
    "            log_csv, header=True, mode=\"w\", columns=columns)\n",
    "\n",
    "    for _ in range(num_epochs):\n",
    "        epoch = ttgen.get_epoch()\n",
    "        print(f\"epoch {epoch} version: {harness.get_version()}\")\n",
    "        real_time = time.monotonic()\n",
    "\n",
    "        model.train()\n",
    "        harness.train()\n",
    "        model.set_epoch(epoch)\n",
    "        metric_train = evaluate.load(\"accuracy\")\n",
    "        train_loss = []\n",
    "        first = True\n",
    "        with tqdm(desc=\"train\", total=ttgen.get_epoch_train_size()) as progress_bar:\n",
    "            for train_df in ttgen.train_dfs():\n",
    "                preds, loss = compute(harness, train_df)\n",
    "                train_loss.append(loss.item())\n",
    "                loss.backward()\n",
    "\n",
    "                optimizer.step()\n",
    "                lr_scheduler.step()\n",
    "                optimizer.zero_grad()\n",
    "                progress_bar.update(train_df.shape[0])\n",
    "\n",
    "                predictions = torch.argmax(preds, dim=-1)\n",
    "                metric_train.add_batch(\n",
    "                    predictions=predictions,\n",
    "                    references=train_df[\"correct_is_right\"].astype(int))\n",
    "                if first:\n",
    "                    # display(train_df)\n",
    "                    first = False\n",
    "\n",
    "        model_fname = get_model_filename(\n",
    "            harness,\n",
    "            MODEL_OUTPUT_CP,\n",
    "            is_cuda=is_cuda,\n",
    "            ftype=\"harness\",\n",
    "            epoch=epoch)\n",
    "        torch.save(harness.state_dict(), model_fname)\n",
    "\n",
    "        model.eval()\n",
    "        harness.eval()\n",
    "        with torch.no_grad():\n",
    "            metric_val_train = evaluate.load(\"accuracy\")\n",
    "            train_val_loss = []\n",
    "            with tqdm(desc=\"train val\", total=ttgen.get_epoch_train_validation_size()) as progress_bar:\n",
    "                for train_validation_df in ttgen.train_validation_dfs():\n",
    "                    preds, loss = compute(harness, train_validation_df)\n",
    "                    train_val_loss.append(loss.item())\n",
    "                    predictions = torch.argmax(preds, dim=-1)\n",
    "                    metric_val_train.add_batch(\n",
    "                        predictions=predictions,\n",
    "                        references=train_validation_df[\"correct_is_right\"].astype(int))\n",
    "                    progress_bar.update(train_validation_df.shape[0])\n",
    "\n",
    "            metric_test = evaluate.load(\"accuracy\")\n",
    "            test_loss = []\n",
    "            with tqdm(desc=\"test\", total=ttgen.get_epoch_test_size()) as progress_bar:\n",
    "                for test_df in ttgen.test_dfs():\n",
    "                    preds, loss = compute(harness, test_df)\n",
    "                    test_loss.append(loss.item())\n",
    "                    predictions = torch.argmax(preds, dim=-1)\n",
    "                    metric_test.add_batch(\n",
    "                        predictions=predictions,\n",
    "                        references=test_df[\"correct_is_right\"].astype(int))\n",
    "                    progress_bar.update(test_df.shape[0])\n",
    "            stats = {\n",
    "                \"epoch\": int(epoch),\n",
    "                \"train_acc\": float(metric_train.compute()['accuracy']),\n",
    "                \"train_loss\": float(np.mean(train_loss)),\n",
    "                \"train_val_acc\": float(metric_val_train.compute()['accuracy']),\n",
    "                \"train_val_loss\": float(np.mean(train_val_loss)),\n",
    "                \"test_acc\": float(metric_test.compute()['accuracy']),\n",
    "                \"test_loss\": float(np.mean(test_loss)),\n",
    "                \"time\": 0.0,\n",
    "                \"version\": harness.get_version(),\n",
    "                \"fname\": model_fname,\n",
    "            }\n",
    "\n",
    "        print(f\"train: {stats['train_acc']} loss: {stats['train_loss']}\")\n",
    "        print(f\"train val: {stats['train_val_acc']} loss: {stats['train_val_loss']}\")\n",
    "        print(f\"test: {stats['test_acc']} loss: {stats['test_loss']}\")\n",
    "        ttgen.advance_epoch()\n",
    "        stats[\"time\"] = float((time.monotonic() - real_time) / 60.0)\n",
    "        print(f\"epoch time: {stats['time']:.2f}min\")\n",
    "        stats_fn = get_model_filename(\n",
    "            harness,\n",
    "            MODEL_OUTPUT_CP,\n",
    "            is_cuda=is_cuda,\n",
    "            ftype=\"stats\",\n",
    "            epoch=epoch,\n",
    "            ext=\".json\")\n",
    "        with open_write(stats_fn, text=True) as fout:\n",
    "            print(json.dumps(stats, indent=2, sort_keys=True), file=fout)\n",
    "        stats_df = pd.DataFrame(\n",
    "            {key: [val] for key, val in stats.items()},\n",
    "            columns=columns)\n",
    "        stats_df.to_csv(\n",
    "            log_csv, header=False, mode=\"a\")\n",
    "            \n",
    "        limit_epoch_data(\n",
    "            harness,\n",
    "            MODEL_OUTPUT_CP,\n",
    "            is_cuda=is_cuda,\n",
    "            ftype=\"stats\",\n",
    "            ext=\".json\",\n",
    "            count=5)\n",
    "    return model, harness, optimizer"
   ]
  },
  {
   "cell_type": "code",
   "execution_count": 11,
   "id": "c5a36224-b91d-4f21-9279-fa7c2a0e862f",
   "metadata": {},
   "outputs": [],
   "source": [
    "def save_model(model, harness, optimizer):\n",
    "    torch.save(model.state_dict(), get_model_filename(\n",
    "        harness,\n",
    "        MODEL_OUTPUT_BASE,\n",
    "        is_cuda=is_cuda,\n",
    "        ftype=\"model\",\n",
    "        epoch=None))\n",
    "    torch.save(harness.state_dict(), get_model_filename(\n",
    "        harness,\n",
    "        MODEL_OUTPUT_BASE,\n",
    "        is_cuda=is_cuda,\n",
    "        ftype=\"harness\",\n",
    "        epoch=None))\n",
    "    torch.save(optimizer.state_dict(), get_model_filename(\n",
    "        harness,\n",
    "        MODEL_OUTPUT_BASE,\n",
    "        is_cuda=is_cuda,\n",
    "        ftype=\"optimizer\",\n",
    "        epoch=None))"
   ]
  },
  {
   "cell_type": "code",
   "execution_count": 12,
   "id": "bff582b9-1447-425a-9b0f-36d9366e4ec7",
   "metadata": {},
   "outputs": [],
   "source": [
    "def validation(model, harness):\n",
    "    ttgen.reset()\n",
    "    model.eval()\n",
    "    harness.eval()\n",
    "    dfs = []\n",
    "    with torch.no_grad():\n",
    "        metric_val_test = evaluate.load(\"accuracy\")\n",
    "        test_val_loss = []\n",
    "        with tqdm(desc=\"test val\", total=ttgen.get_epoch_test_validation_size()) as progress_bar:\n",
    "            for test_val_df in ttgen.test_validation_dfs():\n",
    "                preds, loss = compute(harness, test_val_df)\n",
    "                test_val_loss.append(loss.item())\n",
    "                predictions = torch.argmax(preds, dim=-1)\n",
    "                metric_val_test.add_batch(\n",
    "                    predictions=predictions,\n",
    "                    references=test_val_df[\"correct_is_right\"].astype(int))\n",
    "                cur_df = test_val_df.copy()\n",
    "                cur_df[\"logit_left\"] = preds[:, 0].cpu()\n",
    "                cur_df[\"logit_right\"] = preds[:, 1].cpu()\n",
    "                cur_df[\"preds\"] = predictions.cpu()\n",
    "                cur_df[\"truth\"] = test_val_df[\"correct_is_right\"].astype(int)\n",
    "                dfs.append(cur_df)\n",
    "                progress_bar.update(test_val_df.shape[0])\n",
    "    print(f\"test val: {metric_val_test.compute()} loss: {np.mean(test_val_loss)}\")\n",
    "    validation_df = pd.concat(dfs)\n",
    "    validation_df.to_csv(get_model_filename(\n",
    "        harness,\n",
    "        MODEL_OUTPUT_BASE,\n",
    "        is_cuda=is_cuda,\n",
    "        ftype=\"validation\",\n",
    "        epoch=None,\n",
    "        ext=\".csv\"))\n",
    "    print(\"correct\")\n",
    "    display(validation_df[validation_df[\"preds\"] == validation_df[\"truth\"]].head())\n",
    "    print(\"incorrect\")\n",
    "    display(validation_df[validation_df[\"preds\"] != validation_df[\"truth\"]].head())"
   ]
  },
  {
   "cell_type": "code",
   "execution_count": 13,
   "id": "211e7f88-ff0c-4bad-bb47-2224bfedbc8b",
   "metadata": {},
   "outputs": [],
   "source": [
    "def embeds(model):\n",
    "    ttgen.reset()\n",
    "    model.eval()\n",
    "    with torch.no_grad():\n",
    "        count = 0\n",
    "        for test_val_df in ttgen.test_validation_dfs():\n",
    "            plefts = tokens(test_val_df[\"parent_left\"])\n",
    "            clefts = tokens(test_val_df[\"child_left\"])\n",
    "            prights = tokens(test_val_df[\"parent_right\"])\n",
    "            crights = tokens(test_val_df[\"child_right\"])\n",
    "            display(model.get_child_embed(\n",
    "                clefts[\"input_ids\"],\n",
    "                clefts[\"attention_mask\"]).cpu().numpy())\n",
    "            display(model.get_child_embed(\n",
    "                crights[\"input_ids\"],\n",
    "                crights[\"attention_mask\"]).cpu().numpy())\n",
    "            count += 1\n",
    "            if count >= 5:\n",
    "                break"
   ]
  },
  {
   "cell_type": "code",
   "execution_count": 14,
   "id": "a98fd1aa-9723-4da8-8fcb-2d9500542f79",
   "metadata": {},
   "outputs": [],
   "source": [
    "def full_run(*, num_epochs, version, force_restart):\n",
    "    model, harness, optimizer = run_training(\n",
    "        num_epochs, version, force_restart)\n",
    "    save_model(model, harness, optimizer)\n",
    "    validation(model, harness)\n",
    "    embeds(model)"
   ]
  },
  {
   "cell_type": "code",
   "execution_count": 15,
   "id": "28cae2dd-05dc-4864-80e2-64977d32ed3c",
   "metadata": {},
   "outputs": [
    {
     "name": "stderr",
     "output_type": "stream",
     "text": [
      "Some weights of the model checkpoint at distilbert-base-uncased were not used when initializing DistilBertModel: ['vocab_transform.bias', 'vocab_projector.bias', 'vocab_transform.weight', 'vocab_layer_norm.bias', 'vocab_layer_norm.weight', 'vocab_projector.weight']\n",
      "- This IS expected if you are initializing DistilBertModel from the checkpoint of a model trained on another task or with another architecture (e.g. initializing a BertForSequenceClassification model from a BertForPreTraining model).\n",
      "- This IS NOT expected if you are initializing DistilBertModel from the checkpoint of a model that you expect to be exactly identical (initializing a BertForSequenceClassification model from a BertForSequenceClassification model).\n",
      "Some weights of the model checkpoint at distilbert-base-uncased were not used when initializing DistilBertModel: ['vocab_transform.bias', 'vocab_projector.bias', 'vocab_transform.weight', 'vocab_layer_norm.bias', 'vocab_layer_norm.weight', 'vocab_projector.weight']\n",
      "- This IS expected if you are initializing DistilBertModel from the checkpoint of a model trained on another task or with another architecture (e.g. initializing a BertForSequenceClassification model from a BertForPreTraining model).\n",
      "- This IS NOT expected if you are initializing DistilBertModel from the checkpoint of a model that you expect to be exactly identical (initializing a BertForSequenceClassification model from a BertForSequenceClassification model).\n"
     ]
    },
    {
     "name": "stdout",
     "output_type": "stream",
     "text": [
      "None 0\n",
      "epoch 0 version: 0\n"
     ]
    },
    {
     "data": {
      "application/vnd.jupyter.widget-view+json": {
       "model_id": "9047e62a59324363b613e20274bc2b98",
       "version_major": 2,
       "version_minor": 0
      },
      "text/plain": [
       "train:   0%|          | 0/20000 [00:00<?, ?it/s]"
      ]
     },
     "metadata": {},
     "output_type": "display_data"
    },
    {
     "data": {
      "application/vnd.jupyter.widget-view+json": {
       "model_id": "1ecb439cd151486f94ffdf835c3d856a",
       "version_major": 2,
       "version_minor": 0
      },
      "text/plain": [
       "train val:   0%|          | 0/10000 [00:00<?, ?it/s]"
      ]
     },
     "metadata": {},
     "output_type": "display_data"
    },
    {
     "data": {
      "application/vnd.jupyter.widget-view+json": {
       "model_id": "66431f3120af4844880c969abc3a7cdf",
       "version_major": 2,
       "version_minor": 0
      },
      "text/plain": [
       "test:   0%|          | 0/10000 [00:00<?, ?it/s]"
      ]
     },
     "metadata": {},
     "output_type": "display_data"
    },
    {
     "name": "stdout",
     "output_type": "stream",
     "text": [
      "train: 0.55935 loss: 3.352052914298071\n",
      "train val: 0.5942 loss: 0.9736679400078952\n",
      "test: 0.6044 loss: 0.9560981833364814\n",
      "epoch time: 382.00min\n",
      "best model: /mnt/d/workspace/clotho/notebooks/checkpoints/harness_v0_lg_0.pkl\n",
      "best train: 0.55935\n",
      "best train val: 0.5942\n",
      "best test: 0.6044\n",
      "epoch 1 version: 0\n"
     ]
    },
    {
     "data": {
      "application/vnd.jupyter.widget-view+json": {
       "model_id": "79d7134689e64560973f808cf7b66b5c",
       "version_major": 2,
       "version_minor": 0
      },
      "text/plain": [
       "train:   0%|          | 0/20000 [00:00<?, ?it/s]"
      ]
     },
     "metadata": {},
     "output_type": "display_data"
    },
    {
     "data": {
      "application/vnd.jupyter.widget-view+json": {
       "model_id": "353a1d8d4c2044059d0d081e8e61eb06",
       "version_major": 2,
       "version_minor": 0
      },
      "text/plain": [
       "train val:   0%|          | 0/10000 [00:00<?, ?it/s]"
      ]
     },
     "metadata": {},
     "output_type": "display_data"
    },
    {
     "data": {
      "application/vnd.jupyter.widget-view+json": {
       "model_id": "a7d840822c5d4757b0c0e383e7599005",
       "version_major": 2,
       "version_minor": 0
      },
      "text/plain": [
       "test:   0%|          | 0/10000 [00:00<?, ?it/s]"
      ]
     },
     "metadata": {},
     "output_type": "display_data"
    },
    {
     "name": "stdout",
     "output_type": "stream",
     "text": [
      "train: 0.65155 loss: 0.8869360913270153\n",
      "train val: 0.7179 loss: 0.5731456519750878\n",
      "test: 0.6461 loss: 0.7169723329342902\n",
      "epoch time: 13.21min\n",
      "best model: /mnt/d/workspace/clotho/notebooks/checkpoints/harness_v0_lg_1.pkl\n",
      "best train: 0.65155\n",
      "best train val: 0.7179\n",
      "best test: 0.6461\n",
      "epoch 2 version: 0\n"
     ]
    },
    {
     "data": {
      "application/vnd.jupyter.widget-view+json": {
       "model_id": "919b1ce16fc84c8d981f7e5a560d2c8b",
       "version_major": 2,
       "version_minor": 0
      },
      "text/plain": [
       "train:   0%|          | 0/20000 [00:00<?, ?it/s]"
      ]
     },
     "metadata": {},
     "output_type": "display_data"
    },
    {
     "data": {
      "application/vnd.jupyter.widget-view+json": {
       "model_id": "4b66b228647d4800b02a79aac72409e3",
       "version_major": 2,
       "version_minor": 0
      },
      "text/plain": [
       "train val:   0%|          | 0/10000 [00:00<?, ?it/s]"
      ]
     },
     "metadata": {},
     "output_type": "display_data"
    },
    {
     "data": {
      "application/vnd.jupyter.widget-view+json": {
       "model_id": "5954886309a541e79b7f68e39e4a8d3b",
       "version_major": 2,
       "version_minor": 0
      },
      "text/plain": [
       "test:   0%|          | 0/10000 [00:00<?, ?it/s]"
      ]
     },
     "metadata": {},
     "output_type": "display_data"
    },
    {
     "name": "stdout",
     "output_type": "stream",
     "text": [
      "train: 0.6355 loss: 1.0218310791182796\n",
      "train val: 0.5845 loss: 0.6663006847500801\n",
      "test: 0.5182 loss: 0.7017655182123185\n",
      "epoch time: 13.14min\n",
      "best model: /mnt/d/workspace/clotho/notebooks/checkpoints/harness_v0_lg_1.pkl\n",
      "best train: 0.65155\n",
      "best train val: 0.7179\n",
      "best test: 0.6461\n",
      "epoch 3 version: 0\n"
     ]
    },
    {
     "data": {
      "application/vnd.jupyter.widget-view+json": {
       "model_id": "8cf69fa0022d4421bfac83a9886e8f58",
       "version_major": 2,
       "version_minor": 0
      },
      "text/plain": [
       "train:   0%|          | 0/20000 [00:00<?, ?it/s]"
      ]
     },
     "metadata": {},
     "output_type": "display_data"
    },
    {
     "data": {
      "application/vnd.jupyter.widget-view+json": {
       "model_id": "b48cc020e84d478c8956ba6625820581",
       "version_major": 2,
       "version_minor": 0
      },
      "text/plain": [
       "train val:   0%|          | 0/10000 [00:00<?, ?it/s]"
      ]
     },
     "metadata": {},
     "output_type": "display_data"
    },
    {
     "data": {
      "application/vnd.jupyter.widget-view+json": {
       "model_id": "8bdef3a2913a49469ce670924c0508ed",
       "version_major": 2,
       "version_minor": 0
      },
      "text/plain": [
       "test:   0%|          | 0/10000 [00:00<?, ?it/s]"
      ]
     },
     "metadata": {},
     "output_type": "display_data"
    },
    {
     "name": "stdout",
     "output_type": "stream",
     "text": [
      "train: 0.54475 loss: 1.3130267222916707\n",
      "train val: 0.6596 loss: 0.5963076619826257\n",
      "test: 0.561 loss: 0.7149791924297809\n",
      "epoch time: 13.45min\n",
      "best model: /mnt/d/workspace/clotho/notebooks/checkpoints/harness_v0_lg_1.pkl\n",
      "best train: 0.65155\n",
      "best train val: 0.7179\n",
      "best test: 0.6461\n",
      "epoch 4 version: 0\n"
     ]
    },
    {
     "data": {
      "application/vnd.jupyter.widget-view+json": {
       "model_id": "661ad5368f4740d2a3a35eac5e90caf3",
       "version_major": 2,
       "version_minor": 0
      },
      "text/plain": [
       "train:   0%|          | 0/20000 [00:00<?, ?it/s]"
      ]
     },
     "metadata": {},
     "output_type": "display_data"
    },
    {
     "data": {
      "application/vnd.jupyter.widget-view+json": {
       "model_id": "bde968818e3f4e53b7dc5ebeb2bd0772",
       "version_major": 2,
       "version_minor": 0
      },
      "text/plain": [
       "train val:   0%|          | 0/10000 [00:00<?, ?it/s]"
      ]
     },
     "metadata": {},
     "output_type": "display_data"
    },
    {
     "data": {
      "application/vnd.jupyter.widget-view+json": {
       "model_id": "5ef1ff4f4a714e4ea25959710ed14b20",
       "version_major": 2,
       "version_minor": 0
      },
      "text/plain": [
       "test:   0%|          | 0/10000 [00:00<?, ?it/s]"
      ]
     },
     "metadata": {},
     "output_type": "display_data"
    },
    {
     "name": "stdout",
     "output_type": "stream",
     "text": [
      "train: 0.67095 loss: 0.7214475464519579\n",
      "train val: 0.6756 loss: 0.5346202725146897\n",
      "test: 0.5576 loss: 0.6934523519396782\n",
      "epoch time: 13.55min\n",
      "best model: /mnt/d/workspace/clotho/notebooks/checkpoints/harness_v0_lg_1.pkl\n",
      "best train: 0.65155\n",
      "best train val: 0.7179\n",
      "best test: 0.6461\n",
      "epoch 5 version: 0\n"
     ]
    },
    {
     "data": {
      "application/vnd.jupyter.widget-view+json": {
       "model_id": "91c1fd7d96514212b112386664f7c7af",
       "version_major": 2,
       "version_minor": 0
      },
      "text/plain": [
       "train:   0%|          | 0/20000 [00:00<?, ?it/s]"
      ]
     },
     "metadata": {},
     "output_type": "display_data"
    },
    {
     "data": {
      "application/vnd.jupyter.widget-view+json": {
       "model_id": "182fd69906984e7db6603771c6199483",
       "version_major": 2,
       "version_minor": 0
      },
      "text/plain": [
       "train val:   0%|          | 0/10000 [00:00<?, ?it/s]"
      ]
     },
     "metadata": {},
     "output_type": "display_data"
    },
    {
     "data": {
      "application/vnd.jupyter.widget-view+json": {
       "model_id": "ea038d78297546299c59877592f139c7",
       "version_major": 2,
       "version_minor": 0
      },
      "text/plain": [
       "test:   0%|          | 0/10000 [00:00<?, ?it/s]"
      ]
     },
     "metadata": {},
     "output_type": "display_data"
    },
    {
     "name": "stdout",
     "output_type": "stream",
     "text": [
      "train: 0.76895 loss: 0.46139734542614314\n",
      "train val: 0.6768 loss: 0.5350437356937676\n",
      "test: 0.5693 loss: 0.6968949237704277\n",
      "epoch time: 13.51min\n",
      "best model: /mnt/d/workspace/clotho/notebooks/checkpoints/harness_v0_lg_1.pkl\n",
      "best train: 0.65155\n",
      "best train val: 0.7179\n",
      "best test: 0.6461\n",
      "epoch 6 version: 0\n"
     ]
    },
    {
     "data": {
      "application/vnd.jupyter.widget-view+json": {
       "model_id": "4615b5cf203a448d9865ce871f6de113",
       "version_major": 2,
       "version_minor": 0
      },
      "text/plain": [
       "train:   0%|          | 0/20000 [00:00<?, ?it/s]"
      ]
     },
     "metadata": {},
     "output_type": "display_data"
    },
    {
     "data": {
      "application/vnd.jupyter.widget-view+json": {
       "model_id": "ccb9a291f36c49fba346d3b35aff4e65",
       "version_major": 2,
       "version_minor": 0
      },
      "text/plain": [
       "train val:   0%|          | 0/10000 [00:00<?, ?it/s]"
      ]
     },
     "metadata": {},
     "output_type": "display_data"
    },
    {
     "data": {
      "application/vnd.jupyter.widget-view+json": {
       "model_id": "e9dfbb3cfed54dd993f04199180c087f",
       "version_major": 2,
       "version_minor": 0
      },
      "text/plain": [
       "test:   0%|          | 0/10000 [00:00<?, ?it/s]"
      ]
     },
     "metadata": {},
     "output_type": "display_data"
    },
    {
     "name": "stdout",
     "output_type": "stream",
     "text": [
      "train: 0.7961 loss: 0.4247380390111655\n",
      "train val: 0.6874 loss: 0.5878600777112646\n",
      "test: 0.5702 loss: 0.7324761573195457\n",
      "epoch time: 13.16min\n",
      "removing /mnt/d/workspace/clotho/notebooks/checkpoints/stats_v0_lg_2.json\n",
      "removing /mnt/d/workspace/clotho/notebooks/checkpoints/harness_v0_lg_2.pkl\n",
      "best model: /mnt/d/workspace/clotho/notebooks/checkpoints/harness_v0_lg_1.pkl\n",
      "best train: 0.65155\n",
      "best train val: 0.7179\n",
      "best test: 0.6461\n",
      "epoch 7 version: 0\n"
     ]
    },
    {
     "data": {
      "application/vnd.jupyter.widget-view+json": {
       "model_id": "6c97aebcd2d5434f8adbb3c79b6f527f",
       "version_major": 2,
       "version_minor": 0
      },
      "text/plain": [
       "train:   0%|          | 0/20000 [00:00<?, ?it/s]"
      ]
     },
     "metadata": {},
     "output_type": "display_data"
    },
    {
     "data": {
      "application/vnd.jupyter.widget-view+json": {
       "model_id": "2f1cc1c4701f4cf49c8b962db97284f1",
       "version_major": 2,
       "version_minor": 0
      },
      "text/plain": [
       "train val:   0%|          | 0/10000 [00:00<?, ?it/s]"
      ]
     },
     "metadata": {},
     "output_type": "display_data"
    },
    {
     "data": {
      "application/vnd.jupyter.widget-view+json": {
       "model_id": "74229f5817654348aafae417a673e8cb",
       "version_major": 2,
       "version_minor": 0
      },
      "text/plain": [
       "test:   0%|          | 0/10000 [00:00<?, ?it/s]"
      ]
     },
     "metadata": {},
     "output_type": "display_data"
    },
    {
     "name": "stdout",
     "output_type": "stream",
     "text": [
      "train: 0.81125 loss: 0.3938406159650538\n",
      "train val: 0.6868 loss: 0.5700957158848643\n",
      "test: 0.5654 loss: 0.7661647034734488\n",
      "epoch time: 13.26min\n",
      "removing /mnt/d/workspace/clotho/notebooks/checkpoints/stats_v0_lg_0.json\n",
      "removing /mnt/d/workspace/clotho/notebooks/checkpoints/harness_v0_lg_0.pkl\n",
      "best model: /mnt/d/workspace/clotho/notebooks/checkpoints/harness_v0_lg_1.pkl\n",
      "best train: 0.65155\n",
      "best train val: 0.7179\n",
      "best test: 0.6461\n",
      "epoch 8 version: 0\n"
     ]
    },
    {
     "data": {
      "application/vnd.jupyter.widget-view+json": {
       "model_id": "e4e796db5a2f400d8890d04e725de48e",
       "version_major": 2,
       "version_minor": 0
      },
      "text/plain": [
       "train:   0%|          | 0/20000 [00:00<?, ?it/s]"
      ]
     },
     "metadata": {},
     "output_type": "display_data"
    },
    {
     "data": {
      "application/vnd.jupyter.widget-view+json": {
       "model_id": "e86e758fd6d640d088d2f501496b709c",
       "version_major": 2,
       "version_minor": 0
      },
      "text/plain": [
       "train val:   0%|          | 0/10000 [00:00<?, ?it/s]"
      ]
     },
     "metadata": {},
     "output_type": "display_data"
    },
    {
     "data": {
      "application/vnd.jupyter.widget-view+json": {
       "model_id": "9fc8b3cb38944571a29e67fc5e163340",
       "version_major": 2,
       "version_minor": 0
      },
      "text/plain": [
       "test:   0%|          | 0/10000 [00:00<?, ?it/s]"
      ]
     },
     "metadata": {},
     "output_type": "display_data"
    },
    {
     "name": "stdout",
     "output_type": "stream",
     "text": [
      "train: 0.82225 loss: 0.34318834802054204\n",
      "train val: 0.6895 loss: 0.5366566250034259\n",
      "test: 0.5538 loss: 0.7296822218716145\n",
      "epoch time: 13.40min\n",
      "removing /mnt/d/workspace/clotho/notebooks/checkpoints/stats_v0_lg_3.json\n",
      "removing /mnt/d/workspace/clotho/notebooks/checkpoints/harness_v0_lg_3.pkl\n",
      "best model: /mnt/d/workspace/clotho/notebooks/checkpoints/harness_v0_lg_1.pkl\n",
      "best train: 0.65155\n",
      "best train val: 0.7179\n",
      "best test: 0.6461\n",
      "epoch 9 version: 0\n"
     ]
    },
    {
     "data": {
      "application/vnd.jupyter.widget-view+json": {
       "model_id": "cb5494b4cc1241c285ff9de9b63af102",
       "version_major": 2,
       "version_minor": 0
      },
      "text/plain": [
       "train:   0%|          | 0/20000 [00:00<?, ?it/s]"
      ]
     },
     "metadata": {},
     "output_type": "display_data"
    },
    {
     "data": {
      "application/vnd.jupyter.widget-view+json": {
       "model_id": "be42253d5293473892880857e5fc82d5",
       "version_major": 2,
       "version_minor": 0
      },
      "text/plain": [
       "train val:   0%|          | 0/10000 [00:00<?, ?it/s]"
      ]
     },
     "metadata": {},
     "output_type": "display_data"
    },
    {
     "data": {
      "application/vnd.jupyter.widget-view+json": {
       "model_id": "48d66945cc0743228a9014b0eb393099",
       "version_major": 2,
       "version_minor": 0
      },
      "text/plain": [
       "test:   0%|          | 0/10000 [00:00<?, ?it/s]"
      ]
     },
     "metadata": {},
     "output_type": "display_data"
    },
    {
     "name": "stdout",
     "output_type": "stream",
     "text": [
      "train: 0.83355 loss: 0.3647210231402678\n",
      "train val: 0.6978 loss: 0.5280818137230352\n",
      "test: 0.566 loss: 0.732627209085226\n",
      "epoch time: 13.67min\n",
      "removing /mnt/d/workspace/clotho/notebooks/checkpoints/stats_v0_lg_4.json\n",
      "removing /mnt/d/workspace/clotho/notebooks/checkpoints/harness_v0_lg_4.pkl\n",
      "best model: /mnt/d/workspace/clotho/notebooks/checkpoints/harness_v0_lg_1.pkl\n",
      "best train: 0.65155\n",
      "best train val: 0.7179\n",
      "best test: 0.6461\n",
      "epoch 10 version: 0\n"
     ]
    },
    {
     "data": {
      "application/vnd.jupyter.widget-view+json": {
       "model_id": "6da95c585bd94d28b3a1cff46508a1ed",
       "version_major": 2,
       "version_minor": 0
      },
      "text/plain": [
       "train:   0%|          | 0/20000 [00:00<?, ?it/s]"
      ]
     },
     "metadata": {},
     "output_type": "display_data"
    },
    {
     "data": {
      "application/vnd.jupyter.widget-view+json": {
       "model_id": "a043778c6de143fdbbe5a30e3837dc91",
       "version_major": 2,
       "version_minor": 0
      },
      "text/plain": [
       "train val:   0%|          | 0/10000 [00:00<?, ?it/s]"
      ]
     },
     "metadata": {},
     "output_type": "display_data"
    },
    {
     "data": {
      "application/vnd.jupyter.widget-view+json": {
       "model_id": "e138d5fcba38421fa1a0a9636604fdca",
       "version_major": 2,
       "version_minor": 0
      },
      "text/plain": [
       "test:   0%|          | 0/10000 [00:00<?, ?it/s]"
      ]
     },
     "metadata": {},
     "output_type": "display_data"
    },
    {
     "name": "stdout",
     "output_type": "stream",
     "text": [
      "train: 0.8256 loss: 0.342054622005063\n",
      "train val: 0.7155 loss: 0.49610226929080675\n",
      "test: 0.5969 loss: 0.6681984926581382\n",
      "epoch time: 13.41min\n",
      "removing /mnt/d/workspace/clotho/notebooks/checkpoints/stats_v0_lg_5.json\n",
      "removing /mnt/d/workspace/clotho/notebooks/checkpoints/harness_v0_lg_5.pkl\n",
      "best model: /mnt/d/workspace/clotho/notebooks/checkpoints/harness_v0_lg_1.pkl\n",
      "best train: 0.65155\n",
      "best train val: 0.7179\n",
      "best test: 0.6461\n",
      "epoch 11 version: 0\n"
     ]
    },
    {
     "data": {
      "application/vnd.jupyter.widget-view+json": {
       "model_id": "45828971fcd24443a346144cf1c389cc",
       "version_major": 2,
       "version_minor": 0
      },
      "text/plain": [
       "train:   0%|          | 0/20000 [00:00<?, ?it/s]"
      ]
     },
     "metadata": {},
     "output_type": "display_data"
    },
    {
     "data": {
      "application/vnd.jupyter.widget-view+json": {
       "model_id": "8d29571a9c6f45d4bb823e0cf840a6b6",
       "version_major": 2,
       "version_minor": 0
      },
      "text/plain": [
       "train val:   0%|          | 0/10000 [00:00<?, ?it/s]"
      ]
     },
     "metadata": {},
     "output_type": "display_data"
    },
    {
     "data": {
      "application/vnd.jupyter.widget-view+json": {
       "model_id": "17260f9248d9465cacecba8c34bcd7d1",
       "version_major": 2,
       "version_minor": 0
      },
      "text/plain": [
       "test:   0%|          | 0/10000 [00:00<?, ?it/s]"
      ]
     },
     "metadata": {},
     "output_type": "display_data"
    },
    {
     "name": "stdout",
     "output_type": "stream",
     "text": [
      "train: 0.78525 loss: 0.7765342488288921\n",
      "train val: 0.7054 loss: 0.5095887706808367\n",
      "test: 0.5959 loss: 0.6755767182707787\n",
      "epoch time: 13.87min\n",
      "removing /mnt/d/workspace/clotho/notebooks/checkpoints/stats_v0_lg_7.json\n",
      "removing /mnt/d/workspace/clotho/notebooks/checkpoints/harness_v0_lg_7.pkl\n",
      "best model: /mnt/d/workspace/clotho/notebooks/checkpoints/harness_v0_lg_1.pkl\n",
      "best train: 0.65155\n",
      "best train val: 0.7179\n",
      "best test: 0.6461\n",
      "epoch 12 version: 0\n"
     ]
    },
    {
     "data": {
      "application/vnd.jupyter.widget-view+json": {
       "model_id": "8647eaf2f5564b91bc5bf7803ff0d0a7",
       "version_major": 2,
       "version_minor": 0
      },
      "text/plain": [
       "train:   0%|          | 0/20000 [00:00<?, ?it/s]"
      ]
     },
     "metadata": {},
     "output_type": "display_data"
    },
    {
     "data": {
      "application/vnd.jupyter.widget-view+json": {
       "model_id": "be72cf61a99544619d8cc5e27919ba9f",
       "version_major": 2,
       "version_minor": 0
      },
      "text/plain": [
       "train val:   0%|          | 0/10000 [00:00<?, ?it/s]"
      ]
     },
     "metadata": {},
     "output_type": "display_data"
    },
    {
     "data": {
      "application/vnd.jupyter.widget-view+json": {
       "model_id": "84775f4500344ecaa5ffce882b79d37e",
       "version_major": 2,
       "version_minor": 0
      },
      "text/plain": [
       "test:   0%|          | 0/10000 [00:00<?, ?it/s]"
      ]
     },
     "metadata": {},
     "output_type": "display_data"
    },
    {
     "name": "stdout",
     "output_type": "stream",
     "text": [
      "train: 0.8275 loss: 0.365783574446039\n",
      "train val: 0.7132 loss: 0.5009044643007219\n",
      "test: 0.5968 loss: 0.6688777284383773\n",
      "epoch time: 13.57min\n",
      "removing /mnt/d/workspace/clotho/notebooks/checkpoints/stats_v0_lg_6.json\n",
      "removing /mnt/d/workspace/clotho/notebooks/checkpoints/harness_v0_lg_6.pkl\n",
      "best model: /mnt/d/workspace/clotho/notebooks/checkpoints/harness_v0_lg_1.pkl\n",
      "best train: 0.65155\n",
      "best train val: 0.7179\n",
      "best test: 0.6461\n",
      "epoch 13 version: 0\n"
     ]
    },
    {
     "data": {
      "application/vnd.jupyter.widget-view+json": {
       "model_id": "1205b6bd92874e75bde4be7d5530ec5f",
       "version_major": 2,
       "version_minor": 0
      },
      "text/plain": [
       "train:   0%|          | 0/20000 [00:00<?, ?it/s]"
      ]
     },
     "metadata": {},
     "output_type": "display_data"
    },
    {
     "data": {
      "application/vnd.jupyter.widget-view+json": {
       "model_id": "f003b434aa1444869771663e7207f9da",
       "version_major": 2,
       "version_minor": 0
      },
      "text/plain": [
       "train val:   0%|          | 0/10000 [00:00<?, ?it/s]"
      ]
     },
     "metadata": {},
     "output_type": "display_data"
    },
    {
     "data": {
      "application/vnd.jupyter.widget-view+json": {
       "model_id": "fc52e659426f46308d69bf1a2a161c83",
       "version_major": 2,
       "version_minor": 0
      },
      "text/plain": [
       "test:   0%|          | 0/10000 [00:00<?, ?it/s]"
      ]
     },
     "metadata": {},
     "output_type": "display_data"
    },
    {
     "name": "stdout",
     "output_type": "stream",
     "text": [
      "train: 0.83435 loss: 0.35041186180261064\n",
      "train val: 0.7227 loss: 0.5615974120778264\n",
      "test: 0.5811 loss: 0.6910121179521084\n",
      "epoch time: 13.62min\n",
      "removing /mnt/d/workspace/clotho/notebooks/checkpoints/stats_v0_lg_8.json\n",
      "removing /mnt/d/workspace/clotho/notebooks/checkpoints/harness_v0_lg_8.pkl\n",
      "best model: /mnt/d/workspace/clotho/notebooks/checkpoints/harness_v0_lg_13.pkl\n",
      "best train: 0.83435\n",
      "best train val: 0.7227\n",
      "best test: 0.5811\n",
      "epoch 14 version: 0\n"
     ]
    },
    {
     "data": {
      "application/vnd.jupyter.widget-view+json": {
       "model_id": "f7f966e9b7d84f7fb43e9b550f20c0e8",
       "version_major": 2,
       "version_minor": 0
      },
      "text/plain": [
       "train:   0%|          | 0/20000 [00:00<?, ?it/s]"
      ]
     },
     "metadata": {},
     "output_type": "display_data"
    },
    {
     "data": {
      "application/vnd.jupyter.widget-view+json": {
       "model_id": "2e7625d1d1a84f9ebaa006ba7b7fd99f",
       "version_major": 2,
       "version_minor": 0
      },
      "text/plain": [
       "train val:   0%|          | 0/10000 [00:00<?, ?it/s]"
      ]
     },
     "metadata": {},
     "output_type": "display_data"
    },
    {
     "data": {
      "application/vnd.jupyter.widget-view+json": {
       "model_id": "f60f346652164963a4382fc8bee7e82a",
       "version_major": 2,
       "version_minor": 0
      },
      "text/plain": [
       "test:   0%|          | 0/10000 [00:00<?, ?it/s]"
      ]
     },
     "metadata": {},
     "output_type": "display_data"
    },
    {
     "name": "stdout",
     "output_type": "stream",
     "text": [
      "train: 0.8354 loss: 0.3965080950863377\n",
      "train val: 0.7262 loss: 0.5484570084583363\n",
      "test: 0.5876 loss: 0.6957989581763744\n",
      "epoch time: 13.66min\n",
      "removing /mnt/d/workspace/clotho/notebooks/checkpoints/stats_v0_lg_9.json\n",
      "removing /mnt/d/workspace/clotho/notebooks/checkpoints/harness_v0_lg_9.pkl\n",
      "best model: /mnt/d/workspace/clotho/notebooks/checkpoints/harness_v0_lg_14.pkl\n",
      "best train: 0.8354\n",
      "best train val: 0.7262\n",
      "best test: 0.5876\n",
      "epoch 15 version: 0\n"
     ]
    },
    {
     "data": {
      "application/vnd.jupyter.widget-view+json": {
       "model_id": "315e40f2dbf44545ab7bdcdee8428e27",
       "version_major": 2,
       "version_minor": 0
      },
      "text/plain": [
       "train:   0%|          | 0/20000 [00:00<?, ?it/s]"
      ]
     },
     "metadata": {},
     "output_type": "display_data"
    },
    {
     "data": {
      "application/vnd.jupyter.widget-view+json": {
       "model_id": "50fc7e2f289745dbab3fba850c4d6eaa",
       "version_major": 2,
       "version_minor": 0
      },
      "text/plain": [
       "train val:   0%|          | 0/10000 [00:00<?, ?it/s]"
      ]
     },
     "metadata": {},
     "output_type": "display_data"
    },
    {
     "data": {
      "application/vnd.jupyter.widget-view+json": {
       "model_id": "9084903122994361a604931363590236",
       "version_major": 2,
       "version_minor": 0
      },
      "text/plain": [
       "test:   0%|          | 0/10000 [00:00<?, ?it/s]"
      ]
     },
     "metadata": {},
     "output_type": "display_data"
    },
    {
     "name": "stdout",
     "output_type": "stream",
     "text": [
      "train: 0.83485 loss: 0.39182786592188773\n",
      "train val: 0.731 loss: 0.4888885040677269\n",
      "test: 0.6053 loss: 0.6751552597522735\n",
      "epoch time: 13.88min\n",
      "removing /mnt/d/workspace/clotho/notebooks/checkpoints/stats_v0_lg_11.json\n",
      "removing /mnt/d/workspace/clotho/notebooks/checkpoints/harness_v0_lg_11.pkl\n",
      "best model: /mnt/d/workspace/clotho/notebooks/checkpoints/harness_v0_lg_15.pkl\n",
      "best train: 0.83485\n",
      "best train val: 0.731\n",
      "best test: 0.6053\n",
      "epoch 16 version: 0\n"
     ]
    },
    {
     "data": {
      "application/vnd.jupyter.widget-view+json": {
       "model_id": "aa79fcb6b9d14a31935d396c09de3e5b",
       "version_major": 2,
       "version_minor": 0
      },
      "text/plain": [
       "train:   0%|          | 0/20000 [00:00<?, ?it/s]"
      ]
     },
     "metadata": {},
     "output_type": "display_data"
    },
    {
     "data": {
      "application/vnd.jupyter.widget-view+json": {
       "model_id": "aeb078dc5e204dc7968d724c6d405a6d",
       "version_major": 2,
       "version_minor": 0
      },
      "text/plain": [
       "train val:   0%|          | 0/10000 [00:00<?, ?it/s]"
      ]
     },
     "metadata": {},
     "output_type": "display_data"
    },
    {
     "data": {
      "application/vnd.jupyter.widget-view+json": {
       "model_id": "c99467a3f1fa4b41a390b9846fadf868",
       "version_major": 2,
       "version_minor": 0
      },
      "text/plain": [
       "test:   0%|          | 0/10000 [00:00<?, ?it/s]"
      ]
     },
     "metadata": {},
     "output_type": "display_data"
    },
    {
     "name": "stdout",
     "output_type": "stream",
     "text": [
      "train: 0.83255 loss: 0.6108165907337845\n",
      "train val: 0.7305 loss: 0.5062134432052727\n",
      "test: 0.603 loss: 0.6977322362244129\n",
      "epoch time: 13.84min\n",
      "removing /mnt/d/workspace/clotho/notebooks/checkpoints/stats_v0_lg_12.json\n",
      "removing /mnt/d/workspace/clotho/notebooks/checkpoints/harness_v0_lg_12.pkl\n",
      "best model: /mnt/d/workspace/clotho/notebooks/checkpoints/harness_v0_lg_15.pkl\n",
      "best train: 0.83485\n",
      "best train val: 0.731\n",
      "best test: 0.6053\n",
      "epoch 17 version: 0\n"
     ]
    },
    {
     "data": {
      "application/vnd.jupyter.widget-view+json": {
       "model_id": "7e29fe544a334a0cb307a88be13b3eb4",
       "version_major": 2,
       "version_minor": 0
      },
      "text/plain": [
       "train:   0%|          | 0/20000 [00:00<?, ?it/s]"
      ]
     },
     "metadata": {},
     "output_type": "display_data"
    },
    {
     "data": {
      "application/vnd.jupyter.widget-view+json": {
       "model_id": "7dc0aabd400f42349fe1b67ff83e026b",
       "version_major": 2,
       "version_minor": 0
      },
      "text/plain": [
       "train val:   0%|          | 0/10000 [00:00<?, ?it/s]"
      ]
     },
     "metadata": {},
     "output_type": "display_data"
    },
    {
     "data": {
      "application/vnd.jupyter.widget-view+json": {
       "model_id": "16d0efdddd1f439f9a4070140ebd4172",
       "version_major": 2,
       "version_minor": 0
      },
      "text/plain": [
       "test:   0%|          | 0/10000 [00:00<?, ?it/s]"
      ]
     },
     "metadata": {},
     "output_type": "display_data"
    },
    {
     "name": "stdout",
     "output_type": "stream",
     "text": [
      "train: 0.8401 loss: 0.3713691776767191\n",
      "train val: 0.7251 loss: 0.49837933776173743\n",
      "test: 0.6221 loss: 0.6784345151007175\n",
      "epoch time: 13.77min\n",
      "removing /mnt/d/workspace/clotho/notebooks/checkpoints/stats_v0_lg_10.json\n",
      "removing /mnt/d/workspace/clotho/notebooks/checkpoints/harness_v0_lg_10.pkl\n",
      "best model: /mnt/d/workspace/clotho/notebooks/checkpoints/harness_v0_lg_15.pkl\n",
      "best train: 0.83485\n",
      "best train val: 0.731\n",
      "best test: 0.6053\n",
      "epoch 18 version: 0\n"
     ]
    },
    {
     "data": {
      "application/vnd.jupyter.widget-view+json": {
       "model_id": "7c1fb025e0da45d8bec777656c11f940",
       "version_major": 2,
       "version_minor": 0
      },
      "text/plain": [
       "train:   0%|          | 0/20000 [00:00<?, ?it/s]"
      ]
     },
     "metadata": {},
     "output_type": "display_data"
    },
    {
     "data": {
      "application/vnd.jupyter.widget-view+json": {
       "model_id": "2d50d8844e5c4a3db60e1fbf38d56fd6",
       "version_major": 2,
       "version_minor": 0
      },
      "text/plain": [
       "train val:   0%|          | 0/10000 [00:00<?, ?it/s]"
      ]
     },
     "metadata": {},
     "output_type": "display_data"
    },
    {
     "data": {
      "application/vnd.jupyter.widget-view+json": {
       "model_id": "68ffcbb6758945cea0bbeaae01bbf599",
       "version_major": 2,
       "version_minor": 0
      },
      "text/plain": [
       "test:   0%|          | 0/10000 [00:00<?, ?it/s]"
      ]
     },
     "metadata": {},
     "output_type": "display_data"
    },
    {
     "name": "stdout",
     "output_type": "stream",
     "text": [
      "train: 0.84665 loss: 0.36494319473185927\n",
      "train val: 0.7357 loss: 0.4863825129638892\n",
      "test: 0.624 loss: 0.6481490107417107\n",
      "epoch time: 13.84min\n",
      "removing /mnt/d/workspace/clotho/notebooks/checkpoints/stats_v0_lg_1.json\n",
      "removing /mnt/d/workspace/clotho/notebooks/checkpoints/harness_v0_lg_1.pkl\n",
      "best model: /mnt/d/workspace/clotho/notebooks/checkpoints/harness_v0_lg_18.pkl\n",
      "best train: 0.84665\n",
      "best train val: 0.7357\n",
      "best test: 0.624\n",
      "epoch 19 version: 0\n"
     ]
    },
    {
     "data": {
      "application/vnd.jupyter.widget-view+json": {
       "model_id": "756f5916c8404792bf6e07966a1d1aba",
       "version_major": 2,
       "version_minor": 0
      },
      "text/plain": [
       "train:   0%|          | 0/20000 [00:00<?, ?it/s]"
      ]
     },
     "metadata": {},
     "output_type": "display_data"
    },
    {
     "data": {
      "application/vnd.jupyter.widget-view+json": {
       "model_id": "89d8b269b6bd45f8ad2184c4cd310365",
       "version_major": 2,
       "version_minor": 0
      },
      "text/plain": [
       "train val:   0%|          | 0/10000 [00:00<?, ?it/s]"
      ]
     },
     "metadata": {},
     "output_type": "display_data"
    },
    {
     "data": {
      "application/vnd.jupyter.widget-view+json": {
       "model_id": "50e80c7e823841daae3c5219326efd69",
       "version_major": 2,
       "version_minor": 0
      },
      "text/plain": [
       "test:   0%|          | 0/10000 [00:00<?, ?it/s]"
      ]
     },
     "metadata": {},
     "output_type": "display_data"
    },
    {
     "name": "stdout",
     "output_type": "stream",
     "text": [
      "train: 0.84995 loss: 0.30079699465904075\n",
      "train val: 0.7311 loss: 0.562404506408464\n",
      "test: 0.5822 loss: 0.7214083472967148\n",
      "epoch time: 13.70min\n",
      "removing /mnt/d/workspace/clotho/notebooks/checkpoints/stats_v0_lg_13.json\n",
      "removing /mnt/d/workspace/clotho/notebooks/checkpoints/harness_v0_lg_13.pkl\n",
      "best model: /mnt/d/workspace/clotho/notebooks/checkpoints/harness_v0_lg_18.pkl\n",
      "best train: 0.84665\n",
      "best train val: 0.7357\n",
      "best test: 0.624\n",
      "epoch 20 version: 0\n"
     ]
    },
    {
     "data": {
      "application/vnd.jupyter.widget-view+json": {
       "model_id": "191c16cdd4de4432a68f74a7d80c143a",
       "version_major": 2,
       "version_minor": 0
      },
      "text/plain": [
       "train:   0%|          | 0/20000 [00:00<?, ?it/s]"
      ]
     },
     "metadata": {},
     "output_type": "display_data"
    },
    {
     "data": {
      "application/vnd.jupyter.widget-view+json": {
       "model_id": "7d44a94059f84c9ba642943f019d2a9f",
       "version_major": 2,
       "version_minor": 0
      },
      "text/plain": [
       "train val:   0%|          | 0/10000 [00:00<?, ?it/s]"
      ]
     },
     "metadata": {},
     "output_type": "display_data"
    },
    {
     "data": {
      "application/vnd.jupyter.widget-view+json": {
       "model_id": "bad23ce295394b2b9e03322c12eb818c",
       "version_major": 2,
       "version_minor": 0
      },
      "text/plain": [
       "test:   0%|          | 0/10000 [00:00<?, ?it/s]"
      ]
     },
     "metadata": {},
     "output_type": "display_data"
    },
    {
     "name": "stdout",
     "output_type": "stream",
     "text": [
      "train: 0.8477 loss: 0.29592661397925585\n",
      "train val: 0.7339 loss: 0.48284582288526\n",
      "test: 0.6145 loss: 0.6618737086594105\n",
      "epoch time: 13.72min\n",
      "removing /mnt/d/workspace/clotho/notebooks/checkpoints/stats_v0_lg_17.json\n",
      "removing /mnt/d/workspace/clotho/notebooks/checkpoints/harness_v0_lg_17.pkl\n",
      "best model: /mnt/d/workspace/clotho/notebooks/checkpoints/harness_v0_lg_18.pkl\n",
      "best train: 0.84665\n",
      "best train val: 0.7357\n",
      "best test: 0.624\n",
      "epoch 21 version: 0\n"
     ]
    },
    {
     "data": {
      "application/vnd.jupyter.widget-view+json": {
       "model_id": "f4d8bb219e174cd4a9896995c020426e",
       "version_major": 2,
       "version_minor": 0
      },
      "text/plain": [
       "train:   0%|          | 0/20000 [00:00<?, ?it/s]"
      ]
     },
     "metadata": {},
     "output_type": "display_data"
    },
    {
     "data": {
      "application/vnd.jupyter.widget-view+json": {
       "model_id": "813c384a1afb4e18a313150f4409f0a1",
       "version_major": 2,
       "version_minor": 0
      },
      "text/plain": [
       "train val:   0%|          | 0/10000 [00:00<?, ?it/s]"
      ]
     },
     "metadata": {},
     "output_type": "display_data"
    },
    {
     "data": {
      "application/vnd.jupyter.widget-view+json": {
       "model_id": "2e1dc1511ad340e6a9a19eb69acdeb1c",
       "version_major": 2,
       "version_minor": 0
      },
      "text/plain": [
       "test:   0%|          | 0/10000 [00:00<?, ?it/s]"
      ]
     },
     "metadata": {},
     "output_type": "display_data"
    },
    {
     "name": "stdout",
     "output_type": "stream",
     "text": [
      "train: 0.85095 loss: 0.5730828672718846\n",
      "train val: 0.7406 loss: 0.48914581016413866\n",
      "test: 0.6129 loss: 0.6623505784809589\n",
      "epoch time: 13.68min\n",
      "removing /mnt/d/workspace/clotho/notebooks/checkpoints/stats_v0_lg_14.json\n",
      "removing /mnt/d/workspace/clotho/notebooks/checkpoints/harness_v0_lg_14.pkl\n",
      "best model: /mnt/d/workspace/clotho/notebooks/checkpoints/harness_v0_lg_21.pkl\n",
      "best train: 0.85095\n",
      "best train val: 0.7406\n",
      "best test: 0.6129\n",
      "epoch 22 version: 0\n"
     ]
    },
    {
     "data": {
      "application/vnd.jupyter.widget-view+json": {
       "model_id": "71aaf1e772254f6fbc2bb43ffe139796",
       "version_major": 2,
       "version_minor": 0
      },
      "text/plain": [
       "train:   0%|          | 0/20000 [00:00<?, ?it/s]"
      ]
     },
     "metadata": {},
     "output_type": "display_data"
    },
    {
     "data": {
      "application/vnd.jupyter.widget-view+json": {
       "model_id": "4b574249c7164c909f7774d872297ea4",
       "version_major": 2,
       "version_minor": 0
      },
      "text/plain": [
       "train val:   0%|          | 0/10000 [00:00<?, ?it/s]"
      ]
     },
     "metadata": {},
     "output_type": "display_data"
    },
    {
     "data": {
      "application/vnd.jupyter.widget-view+json": {
       "model_id": "2e055b68693c4f9a93eae1664cb24ac5",
       "version_major": 2,
       "version_minor": 0
      },
      "text/plain": [
       "test:   0%|          | 0/10000 [00:00<?, ?it/s]"
      ]
     },
     "metadata": {},
     "output_type": "display_data"
    },
    {
     "name": "stdout",
     "output_type": "stream",
     "text": [
      "train: 0.8527 loss: 0.3591562378388204\n",
      "train val: 0.7396 loss: 0.4848551947860047\n",
      "test: 0.6098 loss: 0.6824743772029876\n",
      "epoch time: 13.80min\n",
      "removing /mnt/d/workspace/clotho/notebooks/checkpoints/stats_v0_lg_16.json\n",
      "removing /mnt/d/workspace/clotho/notebooks/checkpoints/harness_v0_lg_16.pkl\n",
      "best model: /mnt/d/workspace/clotho/notebooks/checkpoints/harness_v0_lg_21.pkl\n",
      "best train: 0.85095\n",
      "best train val: 0.7406\n",
      "best test: 0.6129\n",
      "epoch 23 version: 0\n"
     ]
    },
    {
     "data": {
      "application/vnd.jupyter.widget-view+json": {
       "model_id": "6478fc0ea72e48919b2f1b35cdb9563b",
       "version_major": 2,
       "version_minor": 0
      },
      "text/plain": [
       "train:   0%|          | 0/20000 [00:00<?, ?it/s]"
      ]
     },
     "metadata": {},
     "output_type": "display_data"
    },
    {
     "data": {
      "application/vnd.jupyter.widget-view+json": {
       "model_id": "7550d5da8b7546cc8512a0a4855cfc7f",
       "version_major": 2,
       "version_minor": 0
      },
      "text/plain": [
       "train val:   0%|          | 0/10000 [00:00<?, ?it/s]"
      ]
     },
     "metadata": {},
     "output_type": "display_data"
    },
    {
     "data": {
      "application/vnd.jupyter.widget-view+json": {
       "model_id": "bfb5d5b7cb37481bbbb12d5a6d5ca484",
       "version_major": 2,
       "version_minor": 0
      },
      "text/plain": [
       "test:   0%|          | 0/10000 [00:00<?, ?it/s]"
      ]
     },
     "metadata": {},
     "output_type": "display_data"
    },
    {
     "name": "stdout",
     "output_type": "stream",
     "text": [
      "train: 0.84675 loss: 0.3235592260357171\n",
      "train val: 0.7352 loss: 0.49281299302978443\n",
      "test: 0.5912 loss: 0.7220216275990009\n",
      "epoch time: 14.07min\n",
      "removing /mnt/d/workspace/clotho/notebooks/checkpoints/stats_v0_lg_15.json\n",
      "removing /mnt/d/workspace/clotho/notebooks/checkpoints/harness_v0_lg_15.pkl\n",
      "best model: /mnt/d/workspace/clotho/notebooks/checkpoints/harness_v0_lg_21.pkl\n",
      "best train: 0.85095\n",
      "best train val: 0.7406\n",
      "best test: 0.6129\n",
      "epoch 24 version: 0\n"
     ]
    },
    {
     "data": {
      "application/vnd.jupyter.widget-view+json": {
       "model_id": "3f3a06cd3bc940d5b91d636ecf0d1de3",
       "version_major": 2,
       "version_minor": 0
      },
      "text/plain": [
       "train:   0%|          | 0/20000 [00:00<?, ?it/s]"
      ]
     },
     "metadata": {},
     "output_type": "display_data"
    },
    {
     "data": {
      "application/vnd.jupyter.widget-view+json": {
       "model_id": "2302d1b63785431dbc834184e9a5cec5",
       "version_major": 2,
       "version_minor": 0
      },
      "text/plain": [
       "train val:   0%|          | 0/10000 [00:00<?, ?it/s]"
      ]
     },
     "metadata": {},
     "output_type": "display_data"
    },
    {
     "data": {
      "application/vnd.jupyter.widget-view+json": {
       "model_id": "bf7fead45bc0440480ef3792c4d74c57",
       "version_major": 2,
       "version_minor": 0
      },
      "text/plain": [
       "test:   0%|          | 0/10000 [00:00<?, ?it/s]"
      ]
     },
     "metadata": {},
     "output_type": "display_data"
    },
    {
     "name": "stdout",
     "output_type": "stream",
     "text": [
      "train: 0.86085 loss: 0.2855711382955538\n",
      "train val: 0.7401 loss: 0.47013885506542863\n",
      "test: 0.6019 loss: 0.6613961251437664\n",
      "epoch time: 13.66min\n",
      "removing /mnt/d/workspace/clotho/notebooks/checkpoints/stats_v0_lg_19.json\n",
      "removing /mnt/d/workspace/clotho/notebooks/checkpoints/harness_v0_lg_19.pkl\n",
      "best model: /mnt/d/workspace/clotho/notebooks/checkpoints/harness_v0_lg_21.pkl\n",
      "best train: 0.85095\n",
      "best train val: 0.7406\n",
      "best test: 0.6129\n",
      "epoch 25 version: 0\n"
     ]
    },
    {
     "data": {
      "application/vnd.jupyter.widget-view+json": {
       "model_id": "122aab6fb57c48488508df098443353e",
       "version_major": 2,
       "version_minor": 0
      },
      "text/plain": [
       "train:   0%|          | 0/20000 [00:00<?, ?it/s]"
      ]
     },
     "metadata": {},
     "output_type": "display_data"
    },
    {
     "data": {
      "application/vnd.jupyter.widget-view+json": {
       "model_id": "527e55342ad741d283ee4082f1c78cf1",
       "version_major": 2,
       "version_minor": 0
      },
      "text/plain": [
       "train val:   0%|          | 0/10000 [00:00<?, ?it/s]"
      ]
     },
     "metadata": {},
     "output_type": "display_data"
    },
    {
     "data": {
      "application/vnd.jupyter.widget-view+json": {
       "model_id": "5986f4bc291d46f1878788fcd6e44f1d",
       "version_major": 2,
       "version_minor": 0
      },
      "text/plain": [
       "test:   0%|          | 0/10000 [00:00<?, ?it/s]"
      ]
     },
     "metadata": {},
     "output_type": "display_data"
    },
    {
     "name": "stdout",
     "output_type": "stream",
     "text": [
      "train: 0.8613 loss: 0.2891033058916529\n",
      "train val: 0.747 loss: 0.5092574126703665\n",
      "test: 0.6089 loss: 0.6960500382840633\n",
      "epoch time: 13.33min\n",
      "removing /mnt/d/workspace/clotho/notebooks/checkpoints/stats_v0_lg_20.json\n",
      "removing /mnt/d/workspace/clotho/notebooks/checkpoints/harness_v0_lg_20.pkl\n",
      "best model: /mnt/d/workspace/clotho/notebooks/checkpoints/harness_v0_lg_25.pkl\n",
      "best train: 0.8613\n",
      "best train val: 0.747\n",
      "best test: 0.6089\n",
      "epoch 26 version: 0\n"
     ]
    },
    {
     "data": {
      "application/vnd.jupyter.widget-view+json": {
       "model_id": "8c73846d25b7421984f98fa2d298e21a",
       "version_major": 2,
       "version_minor": 0
      },
      "text/plain": [
       "train:   0%|          | 0/20000 [00:00<?, ?it/s]"
      ]
     },
     "metadata": {},
     "output_type": "display_data"
    },
    {
     "data": {
      "application/vnd.jupyter.widget-view+json": {
       "model_id": "7b3f8510a9714a059b39295dc87b4c3f",
       "version_major": 2,
       "version_minor": 0
      },
      "text/plain": [
       "train val:   0%|          | 0/10000 [00:00<?, ?it/s]"
      ]
     },
     "metadata": {},
     "output_type": "display_data"
    },
    {
     "data": {
      "application/vnd.jupyter.widget-view+json": {
       "model_id": "8ab29023248f429f9d436cbe9aea8dd4",
       "version_major": 2,
       "version_minor": 0
      },
      "text/plain": [
       "test:   0%|          | 0/10000 [00:00<?, ?it/s]"
      ]
     },
     "metadata": {},
     "output_type": "display_data"
    },
    {
     "name": "stdout",
     "output_type": "stream",
     "text": [
      "train: 0.84485 loss: 1.7154595810871502\n",
      "train val: 0.7482 loss: 0.4683800053209241\n",
      "test: 0.597 loss: 0.6755780146956444\n",
      "epoch time: 13.31min\n",
      "removing /mnt/d/workspace/clotho/notebooks/checkpoints/stats_v0_lg_23.json\n",
      "removing /mnt/d/workspace/clotho/notebooks/checkpoints/harness_v0_lg_23.pkl\n",
      "best model: /mnt/d/workspace/clotho/notebooks/checkpoints/harness_v0_lg_26.pkl\n",
      "best train: 0.84485\n",
      "best train val: 0.7482\n",
      "best test: 0.597\n",
      "epoch 27 version: 0\n"
     ]
    },
    {
     "data": {
      "application/vnd.jupyter.widget-view+json": {
       "model_id": "2ba278545a9345fc958fb1ddc489d634",
       "version_major": 2,
       "version_minor": 0
      },
      "text/plain": [
       "train:   0%|          | 0/20000 [00:00<?, ?it/s]"
      ]
     },
     "metadata": {},
     "output_type": "display_data"
    },
    {
     "data": {
      "application/vnd.jupyter.widget-view+json": {
       "model_id": "381ad1ac04dc4646b6991e5bde21536e",
       "version_major": 2,
       "version_minor": 0
      },
      "text/plain": [
       "train val:   0%|          | 0/10000 [00:00<?, ?it/s]"
      ]
     },
     "metadata": {},
     "output_type": "display_data"
    },
    {
     "data": {
      "application/vnd.jupyter.widget-view+json": {
       "model_id": "f93e82fb152c408cbdbe27c112381803",
       "version_major": 2,
       "version_minor": 0
      },
      "text/plain": [
       "test:   0%|          | 0/10000 [00:00<?, ?it/s]"
      ]
     },
     "metadata": {},
     "output_type": "display_data"
    },
    {
     "name": "stdout",
     "output_type": "stream",
     "text": [
      "train: 0.86105 loss: 0.28024927469551875\n",
      "train val: 0.7511 loss: 0.46480224946480303\n",
      "test: 0.6041 loss: 0.672553276014328\n",
      "epoch time: 13.85min\n",
      "removing /mnt/d/workspace/clotho/notebooks/checkpoints/stats_v0_lg_18.json\n",
      "removing /mnt/d/workspace/clotho/notebooks/checkpoints/harness_v0_lg_18.pkl\n",
      "best model: /mnt/d/workspace/clotho/notebooks/checkpoints/harness_v0_lg_27.pkl\n",
      "best train: 0.86105\n",
      "best train val: 0.7511\n",
      "best test: 0.6041\n",
      "epoch 28 version: 0\n"
     ]
    },
    {
     "data": {
      "application/vnd.jupyter.widget-view+json": {
       "model_id": "f22ac72860ca4a188fae49039a8db02c",
       "version_major": 2,
       "version_minor": 0
      },
      "text/plain": [
       "train:   0%|          | 0/20000 [00:00<?, ?it/s]"
      ]
     },
     "metadata": {},
     "output_type": "display_data"
    },
    {
     "data": {
      "application/vnd.jupyter.widget-view+json": {
       "model_id": "2964c6ccb2424d5cb3b5243723aa8f69",
       "version_major": 2,
       "version_minor": 0
      },
      "text/plain": [
       "train val:   0%|          | 0/10000 [00:00<?, ?it/s]"
      ]
     },
     "metadata": {},
     "output_type": "display_data"
    },
    {
     "data": {
      "application/vnd.jupyter.widget-view+json": {
       "model_id": "e2a92f0cc5a94d62b8680723b950efbb",
       "version_major": 2,
       "version_minor": 0
      },
      "text/plain": [
       "test:   0%|          | 0/10000 [00:00<?, ?it/s]"
      ]
     },
     "metadata": {},
     "output_type": "display_data"
    },
    {
     "name": "stdout",
     "output_type": "stream",
     "text": [
      "train: 0.86205 loss: 0.2749132668401202\n",
      "train val: 0.7438 loss: 0.47114133361568095\n",
      "test: 0.5964 loss: 0.6830610546827316\n",
      "epoch time: 13.67min\n",
      "removing /mnt/d/workspace/clotho/notebooks/checkpoints/stats_v0_lg_22.json\n",
      "removing /mnt/d/workspace/clotho/notebooks/checkpoints/harness_v0_lg_22.pkl\n",
      "best model: /mnt/d/workspace/clotho/notebooks/checkpoints/harness_v0_lg_27.pkl\n",
      "best train: 0.86105\n",
      "best train val: 0.7511\n",
      "best test: 0.6041\n",
      "epoch 29 version: 0\n"
     ]
    },
    {
     "data": {
      "application/vnd.jupyter.widget-view+json": {
       "model_id": "97ddc949432a4f198bd7bc5f9f677f58",
       "version_major": 2,
       "version_minor": 0
      },
      "text/plain": [
       "train:   0%|          | 0/20000 [00:00<?, ?it/s]"
      ]
     },
     "metadata": {},
     "output_type": "display_data"
    },
    {
     "data": {
      "application/vnd.jupyter.widget-view+json": {
       "model_id": "08dfa6fcbcb348fa9533ebb1d8899e20",
       "version_major": 2,
       "version_minor": 0
      },
      "text/plain": [
       "train val:   0%|          | 0/10000 [00:00<?, ?it/s]"
      ]
     },
     "metadata": {},
     "output_type": "display_data"
    },
    {
     "data": {
      "application/vnd.jupyter.widget-view+json": {
       "model_id": "3be1b8f970624189843d76e184d3db68",
       "version_major": 2,
       "version_minor": 0
      },
      "text/plain": [
       "test:   0%|          | 0/10000 [00:00<?, ?it/s]"
      ]
     },
     "metadata": {},
     "output_type": "display_data"
    },
    {
     "name": "stdout",
     "output_type": "stream",
     "text": [
      "train: 0.86815 loss: 0.2677014533635284\n",
      "train val: 0.7478 loss: 0.46723010782357305\n",
      "test: 0.6085 loss: 0.6893656387925148\n",
      "epoch time: 13.75min\n",
      "removing /mnt/d/workspace/clotho/notebooks/checkpoints/stats_v0_lg_24.json\n",
      "removing /mnt/d/workspace/clotho/notebooks/checkpoints/harness_v0_lg_24.pkl\n",
      "best model: /mnt/d/workspace/clotho/notebooks/checkpoints/harness_v0_lg_27.pkl\n",
      "best train: 0.86105\n",
      "best train val: 0.7511\n",
      "best test: 0.6041\n"
     ]
    },
    {
     "data": {
      "application/vnd.jupyter.widget-view+json": {
       "model_id": "32ad5df918654038b666093f8e23cc29",
       "version_major": 2,
       "version_minor": 0
      },
      "text/plain": [
       "test val:   0%|          | 0/10000 [00:00<?, ?it/s]"
      ]
     },
     "metadata": {},
     "output_type": "display_data"
    },
    {
     "name": "stdout",
     "output_type": "stream",
     "text": [
      "test val: {'accuracy': 0.612} loss: 0.6797253951728344\n",
      "correct\n"
     ]
    },
    {
     "data": {
      "text/html": [
       "<div>\n",
       "<style scoped>\n",
       "    .dataframe tbody tr th:only-of-type {\n",
       "        vertical-align: middle;\n",
       "    }\n",
       "\n",
       "    .dataframe tbody tr th {\n",
       "        vertical-align: top;\n",
       "    }\n",
       "\n",
       "    .dataframe thead th {\n",
       "        text-align: right;\n",
       "    }\n",
       "</style>\n",
       "<table border=\"1\" class=\"dataframe\">\n",
       "  <thead>\n",
       "    <tr style=\"text-align: right;\">\n",
       "      <th></th>\n",
       "      <th>gen_name</th>\n",
       "      <th>parent_left</th>\n",
       "      <th>child_left</th>\n",
       "      <th>parent_right</th>\n",
       "      <th>child_right</th>\n",
       "      <th>sway_left</th>\n",
       "      <th>sway_right</th>\n",
       "      <th>correct_is_right</th>\n",
       "      <th>logit_left</th>\n",
       "      <th>logit_right</th>\n",
       "      <th>preds</th>\n",
       "      <th>truth</th>\n",
       "    </tr>\n",
       "  </thead>\n",
       "  <tbody>\n",
       "    <tr>\n",
       "      <th>0</th>\n",
       "      <td>!copy--valid;(mtl:20);(sw);(st)</td>\n",
       "      <td>Gonna ride the baloney pony all the way to Was...</td>\n",
       "      <td>I'd literally take the law into my own hands.</td>\n",
       "      <td>I'd literally take the law into my own hands.</td>\n",
       "      <td>Gonna ride the baloney pony all the way to Was...</td>\n",
       "      <td>4.662937e-15</td>\n",
       "      <td>1.000000e+00</td>\n",
       "      <td>True</td>\n",
       "      <td>0.435376</td>\n",
       "      <td>0.564624</td>\n",
       "      <td>1</td>\n",
       "      <td>1</td>\n",
       "    </tr>\n",
       "    <tr>\n",
       "      <th>3</th>\n",
       "      <td>random--valid;(sw);(st)</td>\n",
       "      <td>I always brush my teeth but need to floss more...</td>\n",
       "      <td>As an american all I can say is: why?</td>\n",
       "      <td>[removed]</td>\n",
       "      <td>User profile checks out. Bet you're on a list ...</td>\n",
       "      <td>1.192029e-01</td>\n",
       "      <td>8.807971e-01</td>\n",
       "      <td>True</td>\n",
       "      <td>0.005049</td>\n",
       "      <td>0.994951</td>\n",
       "      <td>1</td>\n",
       "      <td>1</td>\n",
       "    </tr>\n",
       "    <tr>\n",
       "      <th>0</th>\n",
       "      <td>*valid--random;(sw);(st)</td>\n",
       "      <td>And they taste delicious when chopped into hal...</td>\n",
       "      <td>In Spain/Portugal we also cook them \"a feira\" ...</td>\n",
       "      <td>Seinfeld seems to be the one that paved the wa...</td>\n",
       "      <td>Wiping down gym equipment.</td>\n",
       "      <td>9.933071e-01</td>\n",
       "      <td>6.692851e-03</td>\n",
       "      <td>False</td>\n",
       "      <td>0.712754</td>\n",
       "      <td>0.287246</td>\n",
       "      <td>0</td>\n",
       "      <td>0</td>\n",
       "    </tr>\n",
       "    <tr>\n",
       "      <th>1</th>\n",
       "      <td>*valid--!copy;(mtl:20);(sw);(st)</td>\n",
       "      <td>Yeah that's a thing. I spend my summer vacatio...</td>\n",
       "      <td>you ever done on going maintenance on a boat? ...</td>\n",
       "      <td>you ever done on going maintenance on a boat? ...</td>\n",
       "      <td>Yeah that's a thing. I spend my summer vacatio...</td>\n",
       "      <td>1.000000e+00</td>\n",
       "      <td>1.562882e-18</td>\n",
       "      <td>False</td>\n",
       "      <td>0.765095</td>\n",
       "      <td>0.234905</td>\n",
       "      <td>0</td>\n",
       "      <td>0</td>\n",
       "    </tr>\n",
       "    <tr>\n",
       "      <th>2</th>\n",
       "      <td>*valid--!copy;(sw);(st)</td>\n",
       "      <td>She actually has a song where this is the poin...</td>\n",
       "      <td>Yep, this one came to mind. She is incredible ...</td>\n",
       "      <td>Yep, this one came to mind. She is incredible ...</td>\n",
       "      <td>She actually has a song where this is the poin...</td>\n",
       "      <td>9.975274e-01</td>\n",
       "      <td>2.472623e-03</td>\n",
       "      <td>False</td>\n",
       "      <td>0.760728</td>\n",
       "      <td>0.239272</td>\n",
       "      <td>0</td>\n",
       "      <td>0</td>\n",
       "    </tr>\n",
       "  </tbody>\n",
       "</table>\n",
       "</div>"
      ],
      "text/plain": [
       "                           gen_name  \\\n",
       "0   !copy--valid;(mtl:20);(sw);(st)   \n",
       "3           random--valid;(sw);(st)   \n",
       "0          *valid--random;(sw);(st)   \n",
       "1  *valid--!copy;(mtl:20);(sw);(st)   \n",
       "2           *valid--!copy;(sw);(st)   \n",
       "\n",
       "                                         parent_left  \\\n",
       "0  Gonna ride the baloney pony all the way to Was...   \n",
       "3  I always brush my teeth but need to floss more...   \n",
       "0  And they taste delicious when chopped into hal...   \n",
       "1  Yeah that's a thing. I spend my summer vacatio...   \n",
       "2  She actually has a song where this is the poin...   \n",
       "\n",
       "                                          child_left  \\\n",
       "0      I'd literally take the law into my own hands.   \n",
       "3              As an american all I can say is: why?   \n",
       "0  In Spain/Portugal we also cook them \"a feira\" ...   \n",
       "1  you ever done on going maintenance on a boat? ...   \n",
       "2  Yep, this one came to mind. She is incredible ...   \n",
       "\n",
       "                                        parent_right  \\\n",
       "0      I'd literally take the law into my own hands.   \n",
       "3                                          [removed]   \n",
       "0  Seinfeld seems to be the one that paved the wa...   \n",
       "1  you ever done on going maintenance on a boat? ...   \n",
       "2  Yep, this one came to mind. She is incredible ...   \n",
       "\n",
       "                                         child_right     sway_left  \\\n",
       "0  Gonna ride the baloney pony all the way to Was...  4.662937e-15   \n",
       "3  User profile checks out. Bet you're on a list ...  1.192029e-01   \n",
       "0                         Wiping down gym equipment.  9.933071e-01   \n",
       "1  Yeah that's a thing. I spend my summer vacatio...  1.000000e+00   \n",
       "2  She actually has a song where this is the poin...  9.975274e-01   \n",
       "\n",
       "     sway_right  correct_is_right  logit_left  logit_right  preds  truth  \n",
       "0  1.000000e+00              True    0.435376     0.564624      1      1  \n",
       "3  8.807971e-01              True    0.005049     0.994951      1      1  \n",
       "0  6.692851e-03             False    0.712754     0.287246      0      0  \n",
       "1  1.562882e-18             False    0.765095     0.234905      0      0  \n",
       "2  2.472623e-03             False    0.760728     0.239272      0      0  "
      ]
     },
     "metadata": {},
     "output_type": "display_data"
    },
    {
     "name": "stdout",
     "output_type": "stream",
     "text": [
      "incorrect\n"
     ]
    },
    {
     "data": {
      "text/html": [
       "<div>\n",
       "<style scoped>\n",
       "    .dataframe tbody tr th:only-of-type {\n",
       "        vertical-align: middle;\n",
       "    }\n",
       "\n",
       "    .dataframe tbody tr th {\n",
       "        vertical-align: top;\n",
       "    }\n",
       "\n",
       "    .dataframe thead th {\n",
       "        text-align: right;\n",
       "    }\n",
       "</style>\n",
       "<table border=\"1\" class=\"dataframe\">\n",
       "  <thead>\n",
       "    <tr style=\"text-align: right;\">\n",
       "      <th></th>\n",
       "      <th>gen_name</th>\n",
       "      <th>parent_left</th>\n",
       "      <th>child_left</th>\n",
       "      <th>parent_right</th>\n",
       "      <th>child_right</th>\n",
       "      <th>sway_left</th>\n",
       "      <th>sway_right</th>\n",
       "      <th>correct_is_right</th>\n",
       "      <th>logit_left</th>\n",
       "      <th>logit_right</th>\n",
       "      <th>preds</th>\n",
       "      <th>truth</th>\n",
       "    </tr>\n",
       "  </thead>\n",
       "  <tbody>\n",
       "    <tr>\n",
       "      <th>1</th>\n",
       "      <td>*valid--!copy;(mtl:20);(sw);(st)</td>\n",
       "      <td>Men are still plenty selective about who they ...</td>\n",
       "      <td>Men are selective, as in, they'll select from ...</td>\n",
       "      <td>Men are selective, as in, they'll select from ...</td>\n",
       "      <td>Men are still plenty selective about who they ...</td>\n",
       "      <td>0.999877</td>\n",
       "      <td>0.000123</td>\n",
       "      <td>False</td>\n",
       "      <td>0.346787</td>\n",
       "      <td>0.653213</td>\n",
       "      <td>1</td>\n",
       "      <td>0</td>\n",
       "    </tr>\n",
       "    <tr>\n",
       "      <th>2</th>\n",
       "      <td>random--valid;(sw);(st)</td>\n",
       "      <td>Dungeons and Dragons</td>\n",
       "      <td>Did you see this post a week ago and got jealo...</td>\n",
       "      <td>Question for the men, what's the worst part of...</td>\n",
       "      <td>When sitting wrong on your bike seat and cutti...</td>\n",
       "      <td>0.119203</td>\n",
       "      <td>0.880797</td>\n",
       "      <td>True</td>\n",
       "      <td>0.661878</td>\n",
       "      <td>0.338122</td>\n",
       "      <td>0</td>\n",
       "      <td>1</td>\n",
       "    </tr>\n",
       "    <tr>\n",
       "      <th>0</th>\n",
       "      <td>random--valid;(mtl:20);(sw);(st)</td>\n",
       "      <td>So that's where it came from albeit it's still...</td>\n",
       "      <td>Yeah that's pretty much what he did. Epstein h...</td>\n",
       "      <td>I work in a kitchen full of men and it's quite...</td>\n",
       "      <td>Tears are for the French</td>\n",
       "      <td>0.000911</td>\n",
       "      <td>0.999089</td>\n",
       "      <td>True</td>\n",
       "      <td>0.513867</td>\n",
       "      <td>0.486133</td>\n",
       "      <td>0</td>\n",
       "      <td>1</td>\n",
       "    </tr>\n",
       "    <tr>\n",
       "      <th>1</th>\n",
       "      <td>random--valid;(mtl:20);(sw);(st)</td>\n",
       "      <td>I am uncomfortably comfortable not trying.</td>\n",
       "      <td>They're slightly better than nickleback. Haha</td>\n",
       "      <td>US uses 120 VAC (RMS), so the wattage is half ...</td>\n",
       "      <td>Interesting!! I came into this not knowing muc...</td>\n",
       "      <td>0.119203</td>\n",
       "      <td>0.880797</td>\n",
       "      <td>True</td>\n",
       "      <td>0.715443</td>\n",
       "      <td>0.284557</td>\n",
       "      <td>0</td>\n",
       "      <td>1</td>\n",
       "    </tr>\n",
       "    <tr>\n",
       "      <th>2</th>\n",
       "      <td>*valid--!copy;(sw);(st)</td>\n",
       "      <td>I called the number at the end of his addictio...</td>\n",
       "      <td>Right. He's the real deal. He will answer his ...</td>\n",
       "      <td>Right. He's the real deal. He will answer his ...</td>\n",
       "      <td>I called the number at the end of his addictio...</td>\n",
       "      <td>1.000000</td>\n",
       "      <td>0.000000</td>\n",
       "      <td>False</td>\n",
       "      <td>0.377781</td>\n",
       "      <td>0.622219</td>\n",
       "      <td>1</td>\n",
       "      <td>0</td>\n",
       "    </tr>\n",
       "  </tbody>\n",
       "</table>\n",
       "</div>"
      ],
      "text/plain": [
       "                           gen_name  \\\n",
       "1  *valid--!copy;(mtl:20);(sw);(st)   \n",
       "2           random--valid;(sw);(st)   \n",
       "0  random--valid;(mtl:20);(sw);(st)   \n",
       "1  random--valid;(mtl:20);(sw);(st)   \n",
       "2           *valid--!copy;(sw);(st)   \n",
       "\n",
       "                                         parent_left  \\\n",
       "1  Men are still plenty selective about who they ...   \n",
       "2                               Dungeons and Dragons   \n",
       "0  So that's where it came from albeit it's still...   \n",
       "1         I am uncomfortably comfortable not trying.   \n",
       "2  I called the number at the end of his addictio...   \n",
       "\n",
       "                                          child_left  \\\n",
       "1  Men are selective, as in, they'll select from ...   \n",
       "2  Did you see this post a week ago and got jealo...   \n",
       "0  Yeah that's pretty much what he did. Epstein h...   \n",
       "1      They're slightly better than nickleback. Haha   \n",
       "2  Right. He's the real deal. He will answer his ...   \n",
       "\n",
       "                                        parent_right  \\\n",
       "1  Men are selective, as in, they'll select from ...   \n",
       "2  Question for the men, what's the worst part of...   \n",
       "0  I work in a kitchen full of men and it's quite...   \n",
       "1  US uses 120 VAC (RMS), so the wattage is half ...   \n",
       "2  Right. He's the real deal. He will answer his ...   \n",
       "\n",
       "                                         child_right  sway_left  sway_right  \\\n",
       "1  Men are still plenty selective about who they ...   0.999877    0.000123   \n",
       "2  When sitting wrong on your bike seat and cutti...   0.119203    0.880797   \n",
       "0                           Tears are for the French   0.000911    0.999089   \n",
       "1  Interesting!! I came into this not knowing muc...   0.119203    0.880797   \n",
       "2  I called the number at the end of his addictio...   1.000000    0.000000   \n",
       "\n",
       "   correct_is_right  logit_left  logit_right  preds  truth  \n",
       "1             False    0.346787     0.653213      1      0  \n",
       "2              True    0.661878     0.338122      0      1  \n",
       "0              True    0.513867     0.486133      0      1  \n",
       "1              True    0.715443     0.284557      0      1  \n",
       "2             False    0.377781     0.622219      1      0  "
      ]
     },
     "metadata": {},
     "output_type": "display_data"
    },
    {
     "data": {
      "text/plain": [
       "array([[-0.2504432 ,  0.26919276,  0.25542802, ...,  0.19207422,\n",
       "         0.05956524, -0.0959368 ],\n",
       "       [-0.2504815 ,  0.27079436,  0.2581747 , ...,  0.18608788,\n",
       "         0.05706534, -0.09215498],\n",
       "       [-0.2504617 ,  0.2698929 ,  0.25662425, ...,  0.18947943,\n",
       "         0.05848274, -0.09429861],\n",
       "       [-0.25049344,  0.2715137 ,  0.25942034, ...,  0.18333705,\n",
       "         0.05591338, -0.090414  ]], dtype=float32)"
      ]
     },
     "metadata": {},
     "output_type": "display_data"
    },
    {
     "data": {
      "text/plain": [
       "array([[-0.25047064,  0.27027607,  0.2572818 , ...,  0.18804526,\n",
       "         0.05788374, -0.09339242],\n",
       "       [-0.25047523,  0.27048683,  0.25764447, ...,  0.1872518 ,\n",
       "         0.05755213, -0.09289098],\n",
       "       [-0.25048962,  0.27126357,  0.2589863 , ...,  0.18429826,\n",
       "         0.05631619, -0.09102268],\n",
       "       [-0.25045753,  0.26972583,  0.25633833, ...,  0.1901015 ,\n",
       "         0.05874242, -0.09469149]], dtype=float32)"
      ]
     },
     "metadata": {},
     "output_type": "display_data"
    },
    {
     "data": {
      "text/plain": [
       "array([[-0.25049362,  0.27152923,  0.25944757, ...,  0.1832769 ,\n",
       "         0.0558882 , -0.09037599],\n",
       "       [-0.250404  ,  0.26791093,  0.25325304, ...,  0.19674474,\n",
       "         0.06150976, -0.09888262],\n",
       "       [-0.25046986,  0.27024305,  0.25722528, ...,  0.18816887,\n",
       "         0.05793539, -0.0934706 ],\n",
       "       [-0.25045317,  0.26955962,  0.2560539 , ...,  0.1907189 ,\n",
       "         0.05900013, -0.0950814 ]], dtype=float32)"
      ]
     },
     "metadata": {},
     "output_type": "display_data"
    },
    {
     "data": {
      "text/plain": [
       "array([[-0.25045547,  0.2696493 ,  0.2562074 , ...,  0.19038591,\n",
       "         0.05886114, -0.09487112],\n",
       "       [-0.2504778 ,  0.2706087 ,  0.2578545 , ...,  0.18679121,\n",
       "         0.0573597 , -0.09259986],\n",
       "       [-0.25050092,  0.27218696,  0.26059476, ...,  0.18072118,\n",
       "         0.05481599, -0.08875631],\n",
       "       [-0.2504704 ,  0.2702645 ,  0.2572621 , ...,  0.1880885 ,\n",
       "         0.05790183, -0.09341978]], dtype=float32)"
      ]
     },
     "metadata": {},
     "output_type": "display_data"
    },
    {
     "data": {
      "text/plain": [
       "array([[-0.2503862 ,  0.26738137,  0.25235963, ...,  0.19864725,\n",
       "         0.06230053, -0.10008163],\n",
       "       [-0.25039077,  0.26751366,  0.25258264, ...,  0.19817339,\n",
       "         0.06210356, -0.09978299],\n",
       "       [-0.25046727,  0.27012733,  0.25702637, ...,  0.1886033 ,\n",
       "         0.05811691, -0.09374516],\n",
       "       [-0.25043592,  0.26893696,  0.25499257, ...,  0.19301385,\n",
       "         0.05995691, -0.09652983]], dtype=float32)"
      ]
     },
     "metadata": {},
     "output_type": "display_data"
    },
    {
     "data": {
      "text/plain": [
       "array([[-0.25043687,  0.26897165,  0.25505173, ...,  0.19288637,\n",
       "         0.05990376, -0.09644944],\n",
       "       [-0.25039795,  0.26772612,  0.25294092, ...,  0.19741045,\n",
       "         0.06178648, -0.09930222],\n",
       "       [-0.25045383,  0.26958495,  0.25609693, ...,  0.19062567,\n",
       "         0.05896135, -0.09502292],\n",
       "       [-0.25044852,  0.26938704,  0.25575933, ...,  0.1913574 ,\n",
       "         0.05926645, -0.09548447]], dtype=float32)"
      ]
     },
     "metadata": {},
     "output_type": "display_data"
    },
    {
     "data": {
      "text/plain": [
       "array([[-0.25043103,  0.26877353,  0.2547149 , ...,  0.19361201,\n",
       "         0.06020606, -0.09690728],\n",
       "       [-0.25047314,  0.27038756,  0.2574734 , ...,  0.1876261 ,\n",
       "         0.05770862, -0.09312756],\n",
       "       [-0.25048196,  0.2708212 ,  0.25822115, ...,  0.18598558,\n",
       "         0.05702266, -0.09209041],\n",
       "       [-0.25042763,  0.26865885,  0.25452003, ...,  0.19403128,\n",
       "         0.06038073, -0.09717172]], dtype=float32)"
      ]
     },
     "metadata": {},
     "output_type": "display_data"
    },
    {
     "data": {
      "text/plain": [
       "array([[-0.2504797 ,  0.2707029 ,  0.25801662, ...,  0.1864342 ,\n",
       "         0.05721049, -0.0923745 ],\n",
       "       [-0.25044444,  0.26923636,  0.2555021 , ...,  0.19191384,\n",
       "         0.05949843, -0.09583563],\n",
       "       [-0.25043994,  0.26907888,  0.25523406, ...,  0.19249283,\n",
       "         0.05973979, -0.09620109],\n",
       "       [-0.2504905 ,  0.2713167 ,  0.25907856, ...,  0.18409449,\n",
       "         0.05623079, -0.09089358]], dtype=float32)"
      ]
     },
     "metadata": {},
     "output_type": "display_data"
    },
    {
     "data": {
      "text/plain": [
       "array([[-0.2504565 ,  0.2696903 ,  0.25627694, ...,  0.19023363,\n",
       "         0.05879777, -0.09477506],\n",
       "       [-0.25044593,  0.26929295,  0.25559872, ...,  0.19170508,\n",
       "         0.05941139, -0.09570391],\n",
       "       [-0.2504642 ,  0.26999548,  0.25680014, ...,  0.18909653,\n",
       "         0.0583228 , -0.09405667],\n",
       "       [-0.25046283,  0.26994082,  0.25670645, ...,  0.18930066,\n",
       "         0.05840812, -0.09418573]], dtype=float32)"
      ]
     },
     "metadata": {},
     "output_type": "display_data"
    },
    {
     "data": {
      "text/plain": [
       "array([[-0.2504599 ,  0.26982254,  0.2565038 , ...,  0.1897418 ,\n",
       "         0.05859233, -0.09446436],\n",
       "       [-0.25044852,  0.26938686,  0.255759  , ...,  0.1913581 ,\n",
       "         0.05926671, -0.0954849 ],\n",
       "       [-0.2504683 ,  0.2701725 ,  0.25710398, ...,  0.18843375,\n",
       "         0.05804602, -0.093638  ],\n",
       "       [-0.25047782,  0.2706095 ,  0.2578558 , ...,  0.18678829,\n",
       "         0.05735826, -0.0925978 ]], dtype=float32)"
      ]
     },
     "metadata": {},
     "output_type": "display_data"
    },
    {
     "name": "stderr",
     "output_type": "stream",
     "text": [
      "Some weights of the model checkpoint at distilbert-base-uncased were not used when initializing DistilBertModel: ['vocab_transform.bias', 'vocab_projector.bias', 'vocab_transform.weight', 'vocab_layer_norm.bias', 'vocab_layer_norm.weight', 'vocab_projector.weight']\n",
      "- This IS expected if you are initializing DistilBertModel from the checkpoint of a model trained on another task or with another architecture (e.g. initializing a BertForSequenceClassification model from a BertForPreTraining model).\n",
      "- This IS NOT expected if you are initializing DistilBertModel from the checkpoint of a model that you expect to be exactly identical (initializing a BertForSequenceClassification model from a BertForSequenceClassification model).\n",
      "Some weights of the model checkpoint at distilbert-base-uncased were not used when initializing DistilBertModel: ['vocab_transform.bias', 'vocab_projector.bias', 'vocab_transform.weight', 'vocab_layer_norm.bias', 'vocab_layer_norm.weight', 'vocab_projector.weight']\n",
      "- This IS expected if you are initializing DistilBertModel from the checkpoint of a model trained on another task or with another architecture (e.g. initializing a BertForSequenceClassification model from a BertForPreTraining model).\n",
      "- This IS NOT expected if you are initializing DistilBertModel from the checkpoint of a model that you expect to be exactly identical (initializing a BertForSequenceClassification model from a BertForSequenceClassification model).\n"
     ]
    },
    {
     "name": "stdout",
     "output_type": "stream",
     "text": [
      "None 0\n",
      "epoch 0 version: 1\n"
     ]
    },
    {
     "data": {
      "application/vnd.jupyter.widget-view+json": {
       "model_id": "3255059e311d4ddc8a8311c4dd8d1e7b",
       "version_major": 2,
       "version_minor": 0
      },
      "text/plain": [
       "train:   0%|          | 0/20000 [00:00<?, ?it/s]"
      ]
     },
     "metadata": {},
     "output_type": "display_data"
    },
    {
     "data": {
      "application/vnd.jupyter.widget-view+json": {
       "model_id": "941bacca84c9451fba14c6bb028089a0",
       "version_major": 2,
       "version_minor": 0
      },
      "text/plain": [
       "train val:   0%|          | 0/10000 [00:00<?, ?it/s]"
      ]
     },
     "metadata": {},
     "output_type": "display_data"
    },
    {
     "data": {
      "application/vnd.jupyter.widget-view+json": {
       "model_id": "17c1826642a84b3a8d82c7c131571ad3",
       "version_major": 2,
       "version_minor": 0
      },
      "text/plain": [
       "test:   0%|          | 0/10000 [00:00<?, ?it/s]"
      ]
     },
     "metadata": {},
     "output_type": "display_data"
    },
    {
     "name": "stdout",
     "output_type": "stream",
     "text": [
      "train: 0.7132 loss: 0.5017334903860697\n",
      "train val: 0.7246 loss: 0.4846846006604377\n",
      "test: 0.6305 loss: 0.6252342349648475\n",
      "epoch time: 12.14min\n",
      "best model: /mnt/d/workspace/clotho/notebooks/checkpoints/harness_v1_lg_0.pkl\n",
      "best train: 0.7132\n",
      "best train val: 0.7246\n",
      "best test: 0.6305\n",
      "epoch 1 version: 1\n"
     ]
    },
    {
     "data": {
      "application/vnd.jupyter.widget-view+json": {
       "model_id": "6622771265c044419759242838c7bff4",
       "version_major": 2,
       "version_minor": 0
      },
      "text/plain": [
       "train:   0%|          | 0/20000 [00:00<?, ?it/s]"
      ]
     },
     "metadata": {},
     "output_type": "display_data"
    },
    {
     "data": {
      "application/vnd.jupyter.widget-view+json": {
       "model_id": "69c92fbc20ae4206b947d30a443442ce",
       "version_major": 2,
       "version_minor": 0
      },
      "text/plain": [
       "train val:   0%|          | 0/10000 [00:00<?, ?it/s]"
      ]
     },
     "metadata": {},
     "output_type": "display_data"
    },
    {
     "data": {
      "application/vnd.jupyter.widget-view+json": {
       "model_id": "94efa5d930bf48f7b627f0a2a8931326",
       "version_major": 2,
       "version_minor": 0
      },
      "text/plain": [
       "test:   0%|          | 0/10000 [00:00<?, ?it/s]"
      ]
     },
     "metadata": {},
     "output_type": "display_data"
    },
    {
     "name": "stdout",
     "output_type": "stream",
     "text": [
      "train: 0.77765 loss: 0.42867201781437037\n",
      "train val: 0.7201 loss: 0.49862171598263083\n",
      "test: 0.6293 loss: 0.6392749866127968\n",
      "epoch time: 12.31min\n",
      "best model: /mnt/d/workspace/clotho/notebooks/checkpoints/harness_v1_lg_0.pkl\n",
      "best train: 0.7132\n",
      "best train val: 0.7246\n",
      "best test: 0.6305\n",
      "epoch 2 version: 1\n"
     ]
    },
    {
     "data": {
      "application/vnd.jupyter.widget-view+json": {
       "model_id": "d0909385d36d420bbb0495e7da347c6b",
       "version_major": 2,
       "version_minor": 0
      },
      "text/plain": [
       "train:   0%|          | 0/20000 [00:00<?, ?it/s]"
      ]
     },
     "metadata": {},
     "output_type": "display_data"
    },
    {
     "data": {
      "application/vnd.jupyter.widget-view+json": {
       "model_id": "2af5f687ba2e4e20945191b315091461",
       "version_major": 2,
       "version_minor": 0
      },
      "text/plain": [
       "train val:   0%|          | 0/10000 [00:00<?, ?it/s]"
      ]
     },
     "metadata": {},
     "output_type": "display_data"
    },
    {
     "data": {
      "application/vnd.jupyter.widget-view+json": {
       "model_id": "921e90b34f324d3a94c5421559f4b608",
       "version_major": 2,
       "version_minor": 0
      },
      "text/plain": [
       "test:   0%|          | 0/10000 [00:00<?, ?it/s]"
      ]
     },
     "metadata": {},
     "output_type": "display_data"
    },
    {
     "name": "stdout",
     "output_type": "stream",
     "text": [
      "train: 0.7915 loss: 0.41096946440601023\n",
      "train val: 0.7226 loss: 0.5112191793816164\n",
      "test: 0.5878 loss: 0.7020967981636524\n",
      "epoch time: 12.02min\n",
      "best model: /mnt/d/workspace/clotho/notebooks/checkpoints/harness_v1_lg_0.pkl\n",
      "best train: 0.7132\n",
      "best train val: 0.7246\n",
      "best test: 0.6305\n",
      "epoch 3 version: 1\n"
     ]
    },
    {
     "data": {
      "application/vnd.jupyter.widget-view+json": {
       "model_id": "792638712f9740838075965106f9eea3",
       "version_major": 2,
       "version_minor": 0
      },
      "text/plain": [
       "train:   0%|          | 0/20000 [00:00<?, ?it/s]"
      ]
     },
     "metadata": {},
     "output_type": "display_data"
    },
    {
     "data": {
      "application/vnd.jupyter.widget-view+json": {
       "model_id": "209ab9d1d4734edfb689e5c265376d86",
       "version_major": 2,
       "version_minor": 0
      },
      "text/plain": [
       "train val:   0%|          | 0/10000 [00:00<?, ?it/s]"
      ]
     },
     "metadata": {},
     "output_type": "display_data"
    },
    {
     "data": {
      "application/vnd.jupyter.widget-view+json": {
       "model_id": "7868915fcd784e718bad9a84b7051476",
       "version_major": 2,
       "version_minor": 0
      },
      "text/plain": [
       "test:   0%|          | 0/10000 [00:00<?, ?it/s]"
      ]
     },
     "metadata": {},
     "output_type": "display_data"
    },
    {
     "name": "stdout",
     "output_type": "stream",
     "text": [
      "train: 0.7963 loss: 0.3917966575597064\n",
      "train val: 0.7087 loss: 0.5068314800444059\n",
      "test: 0.6296 loss: 0.6343447849214077\n",
      "epoch time: 11.73min\n",
      "best model: /mnt/d/workspace/clotho/notebooks/checkpoints/harness_v1_lg_0.pkl\n",
      "best train: 0.7132\n",
      "best train val: 0.7246\n",
      "best test: 0.6305\n",
      "epoch 4 version: 1\n"
     ]
    },
    {
     "data": {
      "application/vnd.jupyter.widget-view+json": {
       "model_id": "57b12102052e4006901652e2da8a9bff",
       "version_major": 2,
       "version_minor": 0
      },
      "text/plain": [
       "train:   0%|          | 0/20000 [00:00<?, ?it/s]"
      ]
     },
     "metadata": {},
     "output_type": "display_data"
    },
    {
     "data": {
      "application/vnd.jupyter.widget-view+json": {
       "model_id": "8c80ecf79f9f47faa0844d1481bfec83",
       "version_major": 2,
       "version_minor": 0
      },
      "text/plain": [
       "train val:   0%|          | 0/10000 [00:00<?, ?it/s]"
      ]
     },
     "metadata": {},
     "output_type": "display_data"
    },
    {
     "data": {
      "application/vnd.jupyter.widget-view+json": {
       "model_id": "696149979b764c87a758d32b839c7f8e",
       "version_major": 2,
       "version_minor": 0
      },
      "text/plain": [
       "test:   0%|          | 0/10000 [00:00<?, ?it/s]"
      ]
     },
     "metadata": {},
     "output_type": "display_data"
    },
    {
     "name": "stdout",
     "output_type": "stream",
     "text": [
      "train: 0.7967 loss: 0.38790015840873093\n",
      "train val: 0.7404 loss: 0.4756645157625899\n",
      "test: 0.6238 loss: 0.6404555241942406\n",
      "epoch time: 11.82min\n",
      "best model: /mnt/d/workspace/clotho/notebooks/checkpoints/harness_v1_lg_4.pkl\n",
      "best train: 0.7967\n",
      "best train val: 0.7404\n",
      "best test: 0.6238\n",
      "epoch 5 version: 1\n"
     ]
    },
    {
     "data": {
      "application/vnd.jupyter.widget-view+json": {
       "model_id": "36f67601491044799f40fae75109acfd",
       "version_major": 2,
       "version_minor": 0
      },
      "text/plain": [
       "train:   0%|          | 0/20000 [00:00<?, ?it/s]"
      ]
     },
     "metadata": {},
     "output_type": "display_data"
    },
    {
     "data": {
      "application/vnd.jupyter.widget-view+json": {
       "model_id": "1fabe0462c06411eb80549654b15ad8e",
       "version_major": 2,
       "version_minor": 0
      },
      "text/plain": [
       "train val:   0%|          | 0/10000 [00:00<?, ?it/s]"
      ]
     },
     "metadata": {},
     "output_type": "display_data"
    },
    {
     "data": {
      "application/vnd.jupyter.widget-view+json": {
       "model_id": "7ba3b0eb594b4cdaa9fb13e1a0d28223",
       "version_major": 2,
       "version_minor": 0
      },
      "text/plain": [
       "test:   0%|          | 0/10000 [00:00<?, ?it/s]"
      ]
     },
     "metadata": {},
     "output_type": "display_data"
    },
    {
     "name": "stdout",
     "output_type": "stream",
     "text": [
      "train: 0.8279 loss: 0.34107063434466833\n",
      "train val: 0.7078 loss: 0.5287012936805506\n",
      "test: 0.6227 loss: 0.6568252017617225\n",
      "epoch time: 12.75min\n",
      "best model: /mnt/d/workspace/clotho/notebooks/checkpoints/harness_v1_lg_4.pkl\n",
      "best train: 0.7967\n",
      "best train val: 0.7404\n",
      "best test: 0.6238\n",
      "epoch 6 version: 1\n"
     ]
    },
    {
     "data": {
      "application/vnd.jupyter.widget-view+json": {
       "model_id": "ec8a03acd2f14955b32b53acaae3fd03",
       "version_major": 2,
       "version_minor": 0
      },
      "text/plain": [
       "train:   0%|          | 0/20000 [00:00<?, ?it/s]"
      ]
     },
     "metadata": {},
     "output_type": "display_data"
    },
    {
     "data": {
      "application/vnd.jupyter.widget-view+json": {
       "model_id": "391ad8dd16464a00a3662b8bbd128583",
       "version_major": 2,
       "version_minor": 0
      },
      "text/plain": [
       "train val:   0%|          | 0/10000 [00:00<?, ?it/s]"
      ]
     },
     "metadata": {},
     "output_type": "display_data"
    },
    {
     "data": {
      "application/vnd.jupyter.widget-view+json": {
       "model_id": "7c11d4a50cd74146b7304294981d0431",
       "version_major": 2,
       "version_minor": 0
      },
      "text/plain": [
       "test:   0%|          | 0/10000 [00:00<?, ?it/s]"
      ]
     },
     "metadata": {},
     "output_type": "display_data"
    },
    {
     "name": "stdout",
     "output_type": "stream",
     "text": [
      "train: 0.84185 loss: 0.31689761902048413\n",
      "train val: 0.6997 loss: 0.5401779724892461\n",
      "test: 0.5899 loss: 0.6952695739090443\n",
      "epoch time: 11.92min\n",
      "removing /mnt/d/workspace/clotho/notebooks/checkpoints/stats_v1_lg_5.json\n",
      "removing /mnt/d/workspace/clotho/notebooks/checkpoints/harness_v1_lg_5.pkl\n",
      "best model: /mnt/d/workspace/clotho/notebooks/checkpoints/harness_v1_lg_4.pkl\n",
      "best train: 0.7967\n",
      "best train val: 0.7404\n",
      "best test: 0.6238\n",
      "epoch 7 version: 1\n"
     ]
    },
    {
     "data": {
      "application/vnd.jupyter.widget-view+json": {
       "model_id": "d04af04a5dae4f4e9dda83d13cda3594",
       "version_major": 2,
       "version_minor": 0
      },
      "text/plain": [
       "train:   0%|          | 0/20000 [00:00<?, ?it/s]"
      ]
     },
     "metadata": {},
     "output_type": "display_data"
    },
    {
     "data": {
      "application/vnd.jupyter.widget-view+json": {
       "model_id": "fbd06ef34262469982c9b200417ff8fa",
       "version_major": 2,
       "version_minor": 0
      },
      "text/plain": [
       "train val:   0%|          | 0/10000 [00:00<?, ?it/s]"
      ]
     },
     "metadata": {},
     "output_type": "display_data"
    },
    {
     "data": {
      "application/vnd.jupyter.widget-view+json": {
       "model_id": "7e74029e8df24143aaa9eed325204474",
       "version_major": 2,
       "version_minor": 0
      },
      "text/plain": [
       "test:   0%|          | 0/10000 [00:00<?, ?it/s]"
      ]
     },
     "metadata": {},
     "output_type": "display_data"
    },
    {
     "name": "stdout",
     "output_type": "stream",
     "text": [
      "train: 0.8413 loss: 0.3143098585572157\n",
      "train val: 0.7183 loss: 0.5054096812322736\n",
      "test: 0.6065 loss: 0.6647814108908177\n",
      "epoch time: 12.61min\n",
      "removing /mnt/d/workspace/clotho/notebooks/checkpoints/stats_v1_lg_6.json\n",
      "removing /mnt/d/workspace/clotho/notebooks/checkpoints/harness_v1_lg_6.pkl\n",
      "best model: /mnt/d/workspace/clotho/notebooks/checkpoints/harness_v1_lg_4.pkl\n",
      "best train: 0.7967\n",
      "best train val: 0.7404\n",
      "best test: 0.6238\n",
      "epoch 8 version: 1\n"
     ]
    },
    {
     "data": {
      "application/vnd.jupyter.widget-view+json": {
       "model_id": "1bea5320a3bc4cb59c1d7c03d18ade86",
       "version_major": 2,
       "version_minor": 0
      },
      "text/plain": [
       "train:   0%|          | 0/20000 [00:00<?, ?it/s]"
      ]
     },
     "metadata": {},
     "output_type": "display_data"
    },
    {
     "data": {
      "application/vnd.jupyter.widget-view+json": {
       "model_id": "d7b66a44fb0140949eadc4afdc83b39a",
       "version_major": 2,
       "version_minor": 0
      },
      "text/plain": [
       "train val:   0%|          | 0/10000 [00:00<?, ?it/s]"
      ]
     },
     "metadata": {},
     "output_type": "display_data"
    },
    {
     "data": {
      "application/vnd.jupyter.widget-view+json": {
       "model_id": "925e97ccff0c441eb0ac0315d89faf9f",
       "version_major": 2,
       "version_minor": 0
      },
      "text/plain": [
       "test:   0%|          | 0/10000 [00:00<?, ?it/s]"
      ]
     },
     "metadata": {},
     "output_type": "display_data"
    },
    {
     "name": "stdout",
     "output_type": "stream",
     "text": [
      "train: 0.85165 loss: 0.2955857342290706\n",
      "train val: 0.7146 loss: 0.49476167361987755\n",
      "test: 0.5672 loss: 0.677502811217308\n",
      "epoch time: 12.18min\n",
      "removing /mnt/d/workspace/clotho/notebooks/checkpoints/stats_v1_lg_3.json\n",
      "removing /mnt/d/workspace/clotho/notebooks/checkpoints/harness_v1_lg_3.pkl\n",
      "best model: /mnt/d/workspace/clotho/notebooks/checkpoints/harness_v1_lg_4.pkl\n",
      "best train: 0.7967\n",
      "best train val: 0.7404\n",
      "best test: 0.6238\n",
      "epoch 9 version: 1\n"
     ]
    },
    {
     "data": {
      "application/vnd.jupyter.widget-view+json": {
       "model_id": "2a8dbc744fad49a9bb4f5a18f3323274",
       "version_major": 2,
       "version_minor": 0
      },
      "text/plain": [
       "train:   0%|          | 0/20000 [00:00<?, ?it/s]"
      ]
     },
     "metadata": {},
     "output_type": "display_data"
    },
    {
     "data": {
      "application/vnd.jupyter.widget-view+json": {
       "model_id": "5ea934343f8f476c86236f40bdd635e5",
       "version_major": 2,
       "version_minor": 0
      },
      "text/plain": [
       "train val:   0%|          | 0/10000 [00:00<?, ?it/s]"
      ]
     },
     "metadata": {},
     "output_type": "display_data"
    },
    {
     "data": {
      "application/vnd.jupyter.widget-view+json": {
       "model_id": "cc7a07a8868f48a684fa369845734c8a",
       "version_major": 2,
       "version_minor": 0
      },
      "text/plain": [
       "test:   0%|          | 0/10000 [00:00<?, ?it/s]"
      ]
     },
     "metadata": {},
     "output_type": "display_data"
    },
    {
     "name": "stdout",
     "output_type": "stream",
     "text": [
      "train: 0.83785 loss: 0.3269555242642882\n",
      "train val: 0.6885 loss: 0.5231861948633566\n",
      "test: 0.5911 loss: 0.678696991366148\n",
      "epoch time: 11.71min\n",
      "removing /mnt/d/workspace/clotho/notebooks/checkpoints/stats_v1_lg_8.json\n",
      "removing /mnt/d/workspace/clotho/notebooks/checkpoints/harness_v1_lg_8.pkl\n",
      "best model: /mnt/d/workspace/clotho/notebooks/checkpoints/harness_v1_lg_4.pkl\n",
      "best train: 0.7967\n",
      "best train val: 0.7404\n",
      "best test: 0.6238\n",
      "epoch 10 version: 1\n"
     ]
    },
    {
     "data": {
      "application/vnd.jupyter.widget-view+json": {
       "model_id": "050c30b5541f4f90906d4e527866f5ff",
       "version_major": 2,
       "version_minor": 0
      },
      "text/plain": [
       "train:   0%|          | 0/20000 [00:00<?, ?it/s]"
      ]
     },
     "metadata": {},
     "output_type": "display_data"
    },
    {
     "data": {
      "application/vnd.jupyter.widget-view+json": {
       "model_id": "0af72a6aae9643aa940d400f889d9547",
       "version_major": 2,
       "version_minor": 0
      },
      "text/plain": [
       "train val:   0%|          | 0/10000 [00:00<?, ?it/s]"
      ]
     },
     "metadata": {},
     "output_type": "display_data"
    },
    {
     "data": {
      "application/vnd.jupyter.widget-view+json": {
       "model_id": "dc75a88f66a348c8b17c2027f9701310",
       "version_major": 2,
       "version_minor": 0
      },
      "text/plain": [
       "test:   0%|          | 0/10000 [00:00<?, ?it/s]"
      ]
     },
     "metadata": {},
     "output_type": "display_data"
    },
    {
     "name": "stdout",
     "output_type": "stream",
     "text": [
      "train: 0.7859 loss: 0.39266161631591656\n",
      "train val: 0.6426 loss: 0.6751437024593353\n",
      "test: 0.5997 loss: 0.680644779920578\n",
      "epoch time: 11.76min\n",
      "removing /mnt/d/workspace/clotho/notebooks/checkpoints/stats_v1_lg_9.json\n",
      "removing /mnt/d/workspace/clotho/notebooks/checkpoints/harness_v1_lg_9.pkl\n",
      "best model: /mnt/d/workspace/clotho/notebooks/checkpoints/harness_v1_lg_4.pkl\n",
      "best train: 0.7967\n",
      "best train val: 0.7404\n",
      "best test: 0.6238\n",
      "epoch 11 version: 1\n"
     ]
    },
    {
     "data": {
      "application/vnd.jupyter.widget-view+json": {
       "model_id": "d4c81e74381048e187e59a26e5942c4e",
       "version_major": 2,
       "version_minor": 0
      },
      "text/plain": [
       "train:   0%|          | 0/20000 [00:00<?, ?it/s]"
      ]
     },
     "metadata": {},
     "output_type": "display_data"
    },
    {
     "data": {
      "application/vnd.jupyter.widget-view+json": {
       "model_id": "efc9742e08494c63a7c6017a07f20543",
       "version_major": 2,
       "version_minor": 0
      },
      "text/plain": [
       "train val:   0%|          | 0/10000 [00:00<?, ?it/s]"
      ]
     },
     "metadata": {},
     "output_type": "display_data"
    },
    {
     "data": {
      "application/vnd.jupyter.widget-view+json": {
       "model_id": "a302de7ad629493b8668a9b5386978cf",
       "version_major": 2,
       "version_minor": 0
      },
      "text/plain": [
       "test:   0%|          | 0/10000 [00:00<?, ?it/s]"
      ]
     },
     "metadata": {},
     "output_type": "display_data"
    },
    {
     "name": "stdout",
     "output_type": "stream",
     "text": [
      "train: 0.78225 loss: 0.40858261410455454\n",
      "train val: 0.7072 loss: 0.5126781366297976\n",
      "test: 0.6184 loss: 0.6603403116494417\n",
      "epoch time: 12.34min\n",
      "removing /mnt/d/workspace/clotho/notebooks/checkpoints/stats_v1_lg_10.json\n",
      "removing /mnt/d/workspace/clotho/notebooks/checkpoints/harness_v1_lg_10.pkl\n",
      "best model: /mnt/d/workspace/clotho/notebooks/checkpoints/harness_v1_lg_4.pkl\n",
      "best train: 0.7967\n",
      "best train val: 0.7404\n",
      "best test: 0.6238\n",
      "epoch 12 version: 1\n"
     ]
    },
    {
     "data": {
      "application/vnd.jupyter.widget-view+json": {
       "model_id": "168e050482914d97b8067d25f3ef5371",
       "version_major": 2,
       "version_minor": 0
      },
      "text/plain": [
       "train:   0%|          | 0/20000 [00:00<?, ?it/s]"
      ]
     },
     "metadata": {},
     "output_type": "display_data"
    },
    {
     "data": {
      "application/vnd.jupyter.widget-view+json": {
       "model_id": "911b064e36074da682bf5e412eb39bb1",
       "version_major": 2,
       "version_minor": 0
      },
      "text/plain": [
       "train val:   0%|          | 0/10000 [00:00<?, ?it/s]"
      ]
     },
     "metadata": {},
     "output_type": "display_data"
    },
    {
     "data": {
      "application/vnd.jupyter.widget-view+json": {
       "model_id": "ca910a4907d9410e9dcd3da4000849f9",
       "version_major": 2,
       "version_minor": 0
      },
      "text/plain": [
       "test:   0%|          | 0/10000 [00:00<?, ?it/s]"
      ]
     },
     "metadata": {},
     "output_type": "display_data"
    },
    {
     "name": "stdout",
     "output_type": "stream",
     "text": [
      "train: 0.816 loss: 0.3378374571927474\n",
      "train val: 0.698 loss: 0.5271102300822735\n",
      "test: 0.6009 loss: 0.6679642030537128\n",
      "epoch time: 12.47min\n",
      "removing /mnt/d/workspace/clotho/notebooks/checkpoints/stats_v1_lg_11.json\n",
      "removing /mnt/d/workspace/clotho/notebooks/checkpoints/harness_v1_lg_11.pkl\n",
      "best model: /mnt/d/workspace/clotho/notebooks/checkpoints/harness_v1_lg_4.pkl\n",
      "best train: 0.7967\n",
      "best train val: 0.7404\n",
      "best test: 0.6238\n",
      "epoch 13 version: 1\n"
     ]
    },
    {
     "data": {
      "application/vnd.jupyter.widget-view+json": {
       "model_id": "d2fa4f74877d4808bd96d8096dfd9af4",
       "version_major": 2,
       "version_minor": 0
      },
      "text/plain": [
       "train:   0%|          | 0/20000 [00:00<?, ?it/s]"
      ]
     },
     "metadata": {},
     "output_type": "display_data"
    },
    {
     "data": {
      "application/vnd.jupyter.widget-view+json": {
       "model_id": "68a9da3aeda9496e8dd0f0154116a559",
       "version_major": 2,
       "version_minor": 0
      },
      "text/plain": [
       "train val:   0%|          | 0/10000 [00:00<?, ?it/s]"
      ]
     },
     "metadata": {},
     "output_type": "display_data"
    },
    {
     "data": {
      "application/vnd.jupyter.widget-view+json": {
       "model_id": "78a75bc699094c6db46e8a9ff9510ce2",
       "version_major": 2,
       "version_minor": 0
      },
      "text/plain": [
       "test:   0%|          | 0/10000 [00:00<?, ?it/s]"
      ]
     },
     "metadata": {},
     "output_type": "display_data"
    },
    {
     "name": "stdout",
     "output_type": "stream",
     "text": [
      "train: 0.7995 loss: 0.3730807661987143\n",
      "train val: 0.6973 loss: 0.5118417954889126\n",
      "test: 0.5804 loss: 0.674078323417902\n",
      "epoch time: 11.84min\n",
      "removing /mnt/d/workspace/clotho/notebooks/checkpoints/stats_v1_lg_12.json\n",
      "removing /mnt/d/workspace/clotho/notebooks/checkpoints/harness_v1_lg_12.pkl\n",
      "best model: /mnt/d/workspace/clotho/notebooks/checkpoints/harness_v1_lg_4.pkl\n",
      "best train: 0.7967\n",
      "best train val: 0.7404\n",
      "best test: 0.6238\n",
      "epoch 14 version: 1\n"
     ]
    },
    {
     "data": {
      "application/vnd.jupyter.widget-view+json": {
       "model_id": "b8dd2a560ae6447c9d51f79e2b17fb21",
       "version_major": 2,
       "version_minor": 0
      },
      "text/plain": [
       "train:   0%|          | 0/20000 [00:00<?, ?it/s]"
      ]
     },
     "metadata": {},
     "output_type": "display_data"
    },
    {
     "data": {
      "application/vnd.jupyter.widget-view+json": {
       "model_id": "06411a7bd6d741368f8c3be09765c3c2",
       "version_major": 2,
       "version_minor": 0
      },
      "text/plain": [
       "train val:   0%|          | 0/10000 [00:00<?, ?it/s]"
      ]
     },
     "metadata": {},
     "output_type": "display_data"
    },
    {
     "data": {
      "application/vnd.jupyter.widget-view+json": {
       "model_id": "f300a4325a664bdfb20d55fdbd1aedb3",
       "version_major": 2,
       "version_minor": 0
      },
      "text/plain": [
       "test:   0%|          | 0/10000 [00:00<?, ?it/s]"
      ]
     },
     "metadata": {},
     "output_type": "display_data"
    },
    {
     "name": "stdout",
     "output_type": "stream",
     "text": [
      "train: 0.8008 loss: 0.3582791952083917\n",
      "train val: 0.7158 loss: 0.49544791013267825\n",
      "test: 0.5973 loss: 0.6682889256238937\n",
      "epoch time: 11.80min\n",
      "removing /mnt/d/workspace/clotho/notebooks/checkpoints/stats_v1_lg_13.json\n",
      "removing /mnt/d/workspace/clotho/notebooks/checkpoints/harness_v1_lg_13.pkl\n",
      "best model: /mnt/d/workspace/clotho/notebooks/checkpoints/harness_v1_lg_4.pkl\n",
      "best train: 0.7967\n",
      "best train val: 0.7404\n",
      "best test: 0.6238\n",
      "epoch 15 version: 1\n"
     ]
    },
    {
     "data": {
      "application/vnd.jupyter.widget-view+json": {
       "model_id": "077fa415f94243f6bdf9b0f6abf4fda1",
       "version_major": 2,
       "version_minor": 0
      },
      "text/plain": [
       "train:   0%|          | 0/20000 [00:00<?, ?it/s]"
      ]
     },
     "metadata": {},
     "output_type": "display_data"
    },
    {
     "data": {
      "application/vnd.jupyter.widget-view+json": {
       "model_id": "8ec3da2b70dc4412be1fed10650589c8",
       "version_major": 2,
       "version_minor": 0
      },
      "text/plain": [
       "train val:   0%|          | 0/10000 [00:00<?, ?it/s]"
      ]
     },
     "metadata": {},
     "output_type": "display_data"
    },
    {
     "data": {
      "application/vnd.jupyter.widget-view+json": {
       "model_id": "b8ffb388ea414396b4d9a0292fea340a",
       "version_major": 2,
       "version_minor": 0
      },
      "text/plain": [
       "test:   0%|          | 0/10000 [00:00<?, ?it/s]"
      ]
     },
     "metadata": {},
     "output_type": "display_data"
    },
    {
     "name": "stdout",
     "output_type": "stream",
     "text": [
      "train: 0.79565 loss: 0.3673930954673018\n",
      "train val: 0.7148 loss: 0.5299848202777961\n",
      "test: 0.5999 loss: 0.6766994301557541\n",
      "epoch time: 12.36min\n",
      "removing /mnt/d/workspace/clotho/notebooks/checkpoints/stats_v1_lg_14.json\n",
      "removing /mnt/d/workspace/clotho/notebooks/checkpoints/harness_v1_lg_14.pkl\n",
      "best model: /mnt/d/workspace/clotho/notebooks/checkpoints/harness_v1_lg_4.pkl\n",
      "best train: 0.7967\n",
      "best train val: 0.7404\n",
      "best test: 0.6238\n",
      "epoch 16 version: 1\n"
     ]
    },
    {
     "data": {
      "application/vnd.jupyter.widget-view+json": {
       "model_id": "45482c4bbf0244eb89524be88ed770fb",
       "version_major": 2,
       "version_minor": 0
      },
      "text/plain": [
       "train:   0%|          | 0/20000 [00:00<?, ?it/s]"
      ]
     },
     "metadata": {},
     "output_type": "display_data"
    },
    {
     "data": {
      "application/vnd.jupyter.widget-view+json": {
       "model_id": "02e19141ee554a2e91f2445a8763a1a0",
       "version_major": 2,
       "version_minor": 0
      },
      "text/plain": [
       "train val:   0%|          | 0/10000 [00:00<?, ?it/s]"
      ]
     },
     "metadata": {},
     "output_type": "display_data"
    },
    {
     "data": {
      "application/vnd.jupyter.widget-view+json": {
       "model_id": "cee1b9e05f974cc698cef8440ccdc841",
       "version_major": 2,
       "version_minor": 0
      },
      "text/plain": [
       "test:   0%|          | 0/10000 [00:00<?, ?it/s]"
      ]
     },
     "metadata": {},
     "output_type": "display_data"
    },
    {
     "name": "stdout",
     "output_type": "stream",
     "text": [
      "train: 0.6385 loss: 27.030408537567006\n",
      "train val: 0.3436 loss: 1.050881676888466\n",
      "test: 0.496 loss: 1.5369874935269356\n",
      "epoch time: 12.49min\n",
      "removing /mnt/d/workspace/clotho/notebooks/checkpoints/stats_v1_lg_15.json\n",
      "removing /mnt/d/workspace/clotho/notebooks/checkpoints/harness_v1_lg_15.pkl\n",
      "best model: /mnt/d/workspace/clotho/notebooks/checkpoints/harness_v1_lg_4.pkl\n",
      "best train: 0.7967\n",
      "best train val: 0.7404\n",
      "best test: 0.6238\n",
      "epoch 17 version: 1\n"
     ]
    },
    {
     "data": {
      "application/vnd.jupyter.widget-view+json": {
       "model_id": "553b17e148d84b5c9e7cfae94bd76fea",
       "version_major": 2,
       "version_minor": 0
      },
      "text/plain": [
       "train:   0%|          | 0/20000 [00:00<?, ?it/s]"
      ]
     },
     "metadata": {},
     "output_type": "display_data"
    },
    {
     "data": {
      "application/vnd.jupyter.widget-view+json": {
       "model_id": "4c9dcfdb6ae54d3da747a4ffb742c3d5",
       "version_major": 2,
       "version_minor": 0
      },
      "text/plain": [
       "train val:   0%|          | 0/10000 [00:00<?, ?it/s]"
      ]
     },
     "metadata": {},
     "output_type": "display_data"
    },
    {
     "data": {
      "application/vnd.jupyter.widget-view+json": {
       "model_id": "d7ceeda0a9ac49e5a47c37e90656ed4c",
       "version_major": 2,
       "version_minor": 0
      },
      "text/plain": [
       "test:   0%|          | 0/10000 [00:00<?, ?it/s]"
      ]
     },
     "metadata": {},
     "output_type": "display_data"
    },
    {
     "name": "stdout",
     "output_type": "stream",
     "text": [
      "train: 0.4973 loss: 50.194410585306315\n",
      "train val: 0.5038 loss: 0.746741083574295\n",
      "test: 0.521 loss: 0.7223520092487336\n",
      "epoch time: 12.38min\n",
      "removing /mnt/d/workspace/clotho/notebooks/checkpoints/stats_v1_lg_16.json\n",
      "removing /mnt/d/workspace/clotho/notebooks/checkpoints/harness_v1_lg_16.pkl\n",
      "best model: /mnt/d/workspace/clotho/notebooks/checkpoints/harness_v1_lg_4.pkl\n",
      "best train: 0.7967\n",
      "best train val: 0.7404\n",
      "best test: 0.6238\n",
      "epoch 18 version: 1\n"
     ]
    },
    {
     "data": {
      "application/vnd.jupyter.widget-view+json": {
       "model_id": "9d2b325fb24a417dbeb7cc499029bb2d",
       "version_major": 2,
       "version_minor": 0
      },
      "text/plain": [
       "train:   0%|          | 0/20000 [00:00<?, ?it/s]"
      ]
     },
     "metadata": {},
     "output_type": "display_data"
    },
    {
     "data": {
      "application/vnd.jupyter.widget-view+json": {
       "model_id": "eefda152fe994d679efbf1ba706db45c",
       "version_major": 2,
       "version_minor": 0
      },
      "text/plain": [
       "train val:   0%|          | 0/10000 [00:00<?, ?it/s]"
      ]
     },
     "metadata": {},
     "output_type": "display_data"
    },
    {
     "data": {
      "application/vnd.jupyter.widget-view+json": {
       "model_id": "0b7f06a6b7e24d8984a261095031e125",
       "version_major": 2,
       "version_minor": 0
      },
      "text/plain": [
       "test:   0%|          | 0/10000 [00:00<?, ?it/s]"
      ]
     },
     "metadata": {},
     "output_type": "display_data"
    },
    {
     "name": "stdout",
     "output_type": "stream",
     "text": [
      "train: 0.50155 loss: 49.81733717427254\n",
      "train val: 0.3892 loss: 1.915625043272972\n",
      "test: 0.4657 loss: 1.6232771537706256\n",
      "epoch time: 12.48min\n",
      "removing /mnt/d/workspace/clotho/notebooks/checkpoints/stats_v1_lg_17.json\n",
      "removing /mnt/d/workspace/clotho/notebooks/checkpoints/harness_v1_lg_17.pkl\n",
      "best model: /mnt/d/workspace/clotho/notebooks/checkpoints/harness_v1_lg_4.pkl\n",
      "best train: 0.7967\n",
      "best train val: 0.7404\n",
      "best test: 0.6238\n",
      "epoch 19 version: 1\n"
     ]
    },
    {
     "data": {
      "application/vnd.jupyter.widget-view+json": {
       "model_id": "6c0248f08fb24a0e96d5acc27bb2f7d1",
       "version_major": 2,
       "version_minor": 0
      },
      "text/plain": [
       "train:   0%|          | 0/20000 [00:00<?, ?it/s]"
      ]
     },
     "metadata": {},
     "output_type": "display_data"
    },
    {
     "data": {
      "application/vnd.jupyter.widget-view+json": {
       "model_id": "3256a177d5504bd08d98a13e42aa6367",
       "version_major": 2,
       "version_minor": 0
      },
      "text/plain": [
       "train val:   0%|          | 0/10000 [00:00<?, ?it/s]"
      ]
     },
     "metadata": {},
     "output_type": "display_data"
    },
    {
     "data": {
      "application/vnd.jupyter.widget-view+json": {
       "model_id": "aafd98e1bcf24d969d14096b0cdf2ecc",
       "version_major": 2,
       "version_minor": 0
      },
      "text/plain": [
       "test:   0%|          | 0/10000 [00:00<?, ?it/s]"
      ]
     },
     "metadata": {},
     "output_type": "display_data"
    },
    {
     "name": "stdout",
     "output_type": "stream",
     "text": [
      "train: 0.50025 loss: 49.944751196074264\n",
      "train val: 0.662 loss: 10.37769546270267\n",
      "test: 0.5624 loss: 18.142325737375735\n",
      "epoch time: 12.47min\n",
      "removing /mnt/d/workspace/clotho/notebooks/checkpoints/stats_v1_lg_18.json\n",
      "removing /mnt/d/workspace/clotho/notebooks/checkpoints/harness_v1_lg_18.pkl\n",
      "best model: /mnt/d/workspace/clotho/notebooks/checkpoints/harness_v1_lg_4.pkl\n",
      "best train: 0.7967\n",
      "best train val: 0.7404\n",
      "best test: 0.6238\n",
      "epoch 20 version: 1\n"
     ]
    },
    {
     "data": {
      "application/vnd.jupyter.widget-view+json": {
       "model_id": "76bc67f19a7346e7bc23b2c11a1c6830",
       "version_major": 2,
       "version_minor": 0
      },
      "text/plain": [
       "train:   0%|          | 0/20000 [00:00<?, ?it/s]"
      ]
     },
     "metadata": {},
     "output_type": "display_data"
    },
    {
     "data": {
      "application/vnd.jupyter.widget-view+json": {
       "model_id": "a30c6b3d4a5b46b3be53bf90f63549ec",
       "version_major": 2,
       "version_minor": 0
      },
      "text/plain": [
       "train val:   0%|          | 0/10000 [00:00<?, ?it/s]"
      ]
     },
     "metadata": {},
     "output_type": "display_data"
    },
    {
     "data": {
      "application/vnd.jupyter.widget-view+json": {
       "model_id": "8250d68a24cb402093ffbee16338c777",
       "version_major": 2,
       "version_minor": 0
      },
      "text/plain": [
       "test:   0%|          | 0/10000 [00:00<?, ?it/s]"
      ]
     },
     "metadata": {},
     "output_type": "display_data"
    },
    {
     "name": "stdout",
     "output_type": "stream",
     "text": [
      "train: 0.4992 loss: 50.07208055458069\n",
      "train val: 0.3267 loss: 24.24533764414809\n",
      "test: 0.4358 loss: 28.339827883603242\n",
      "epoch time: 12.34min\n",
      "removing /mnt/d/workspace/clotho/notebooks/checkpoints/stats_v1_lg_19.json\n",
      "removing /mnt/d/workspace/clotho/notebooks/checkpoints/harness_v1_lg_19.pkl\n",
      "best model: /mnt/d/workspace/clotho/notebooks/checkpoints/harness_v1_lg_4.pkl\n",
      "best train: 0.7967\n",
      "best train val: 0.7404\n",
      "best test: 0.6238\n",
      "epoch 21 version: 1\n"
     ]
    },
    {
     "data": {
      "application/vnd.jupyter.widget-view+json": {
       "model_id": "3d9b2f9322d4404189b0ab720687672c",
       "version_major": 2,
       "version_minor": 0
      },
      "text/plain": [
       "train:   0%|          | 0/20000 [00:00<?, ?it/s]"
      ]
     },
     "metadata": {},
     "output_type": "display_data"
    },
    {
     "data": {
      "application/vnd.jupyter.widget-view+json": {
       "model_id": "780d65fe512b44ea85230b7408850553",
       "version_major": 2,
       "version_minor": 0
      },
      "text/plain": [
       "train val:   0%|          | 0/10000 [00:00<?, ?it/s]"
      ]
     },
     "metadata": {},
     "output_type": "display_data"
    },
    {
     "data": {
      "application/vnd.jupyter.widget-view+json": {
       "model_id": "852c626996aa48fda8d021a95629e750",
       "version_major": 2,
       "version_minor": 0
      },
      "text/plain": [
       "test:   0%|          | 0/10000 [00:00<?, ?it/s]"
      ]
     },
     "metadata": {},
     "output_type": "display_data"
    },
    {
     "name": "stdout",
     "output_type": "stream",
     "text": [
      "train: 0.52225 loss: 47.74694011605978\n",
      "train val: 0.6429 loss: 12.259224948472832\n",
      "test: 0.5623 loss: 22.6667450896178\n",
      "epoch time: 11.58min\n",
      "removing /mnt/d/workspace/clotho/notebooks/checkpoints/stats_v1_lg_20.json\n",
      "removing /mnt/d/workspace/clotho/notebooks/checkpoints/harness_v1_lg_20.pkl\n",
      "best model: /mnt/d/workspace/clotho/notebooks/checkpoints/harness_v1_lg_4.pkl\n",
      "best train: 0.7967\n",
      "best train val: 0.7404\n",
      "best test: 0.6238\n",
      "epoch 22 version: 1\n"
     ]
    },
    {
     "data": {
      "application/vnd.jupyter.widget-view+json": {
       "model_id": "74b6bd2ccd7e4662ba63d9657ff6b5c2",
       "version_major": 2,
       "version_minor": 0
      },
      "text/plain": [
       "train:   0%|          | 0/20000 [00:00<?, ?it/s]"
      ]
     },
     "metadata": {},
     "output_type": "display_data"
    },
    {
     "data": {
      "application/vnd.jupyter.widget-view+json": {
       "model_id": "c11c1ba0e634469ab0118363ed89045d",
       "version_major": 2,
       "version_minor": 0
      },
      "text/plain": [
       "train val:   0%|          | 0/10000 [00:00<?, ?it/s]"
      ]
     },
     "metadata": {},
     "output_type": "display_data"
    },
    {
     "data": {
      "application/vnd.jupyter.widget-view+json": {
       "model_id": "0d5312c176d9452d95d878dba6891be3",
       "version_major": 2,
       "version_minor": 0
      },
      "text/plain": [
       "test:   0%|          | 0/10000 [00:00<?, ?it/s]"
      ]
     },
     "metadata": {},
     "output_type": "display_data"
    },
    {
     "name": "stdout",
     "output_type": "stream",
     "text": [
      "train: 0.5332 loss: 46.669964304852485\n",
      "train val: 0.6582 loss: 11.289478110607627\n",
      "test: 0.5568 loss: 20.955925363391817\n",
      "epoch time: 12.59min\n",
      "removing /mnt/d/workspace/clotho/notebooks/checkpoints/stats_v1_lg_21.json\n",
      "removing /mnt/d/workspace/clotho/notebooks/checkpoints/harness_v1_lg_21.pkl\n",
      "best model: /mnt/d/workspace/clotho/notebooks/checkpoints/harness_v1_lg_4.pkl\n",
      "best train: 0.7967\n",
      "best train val: 0.7404\n",
      "best test: 0.6238\n",
      "epoch 23 version: 1\n"
     ]
    },
    {
     "data": {
      "application/vnd.jupyter.widget-view+json": {
       "model_id": "75bb230aaee0459199c390e828519f60",
       "version_major": 2,
       "version_minor": 0
      },
      "text/plain": [
       "train:   0%|          | 0/20000 [00:00<?, ?it/s]"
      ]
     },
     "metadata": {},
     "output_type": "display_data"
    },
    {
     "data": {
      "application/vnd.jupyter.widget-view+json": {
       "model_id": "cb488ed6e03743c784cfe97a5da2c9e5",
       "version_major": 2,
       "version_minor": 0
      },
      "text/plain": [
       "train val:   0%|          | 0/10000 [00:00<?, ?it/s]"
      ]
     },
     "metadata": {},
     "output_type": "display_data"
    },
    {
     "data": {
      "application/vnd.jupyter.widget-view+json": {
       "model_id": "2502abf1958343d99503b7fe62163a90",
       "version_major": 2,
       "version_minor": 0
      },
      "text/plain": [
       "test:   0%|          | 0/10000 [00:00<?, ?it/s]"
      ]
     },
     "metadata": {},
     "output_type": "display_data"
    },
    {
     "name": "stdout",
     "output_type": "stream",
     "text": [
      "train: 0.50995 loss: 48.988715807724\n",
      "train val: 0.3464 loss: 25.065784277103173\n",
      "test: 0.4745 loss: 21.690325876494036\n",
      "epoch time: 12.13min\n",
      "removing /mnt/d/workspace/clotho/notebooks/checkpoints/stats_v1_lg_22.json\n",
      "removing /mnt/d/workspace/clotho/notebooks/checkpoints/harness_v1_lg_22.pkl\n",
      "best model: /mnt/d/workspace/clotho/notebooks/checkpoints/harness_v1_lg_4.pkl\n",
      "best train: 0.7967\n",
      "best train val: 0.7404\n",
      "best test: 0.6238\n",
      "epoch 24 version: 1\n"
     ]
    },
    {
     "data": {
      "application/vnd.jupyter.widget-view+json": {
       "model_id": "c3edae9c9f9542159ea52df5cb1efedd",
       "version_major": 2,
       "version_minor": 0
      },
      "text/plain": [
       "train:   0%|          | 0/20000 [00:00<?, ?it/s]"
      ]
     },
     "metadata": {},
     "output_type": "display_data"
    },
    {
     "data": {
      "application/vnd.jupyter.widget-view+json": {
       "model_id": "4092b7635dca4bd6bfe3c8bb779ca855",
       "version_major": 2,
       "version_minor": 0
      },
      "text/plain": [
       "train val:   0%|          | 0/10000 [00:00<?, ?it/s]"
      ]
     },
     "metadata": {},
     "output_type": "display_data"
    },
    {
     "data": {
      "application/vnd.jupyter.widget-view+json": {
       "model_id": "71a87f36f69e4104b881fc1515696ec5",
       "version_major": 2,
       "version_minor": 0
      },
      "text/plain": [
       "test:   0%|          | 0/10000 [00:00<?, ?it/s]"
      ]
     },
     "metadata": {},
     "output_type": "display_data"
    },
    {
     "name": "stdout",
     "output_type": "stream",
     "text": [
      "train: 0.5026 loss: 49.735440678787235\n",
      "train val: 0.3593 loss: 28.24382880662794\n",
      "test: 0.4927 loss: 23.16735185020277\n",
      "epoch time: 12.09min\n",
      "removing /mnt/d/workspace/clotho/notebooks/checkpoints/stats_v1_lg_23.json\n",
      "removing /mnt/d/workspace/clotho/notebooks/checkpoints/harness_v1_lg_23.pkl\n",
      "best model: /mnt/d/workspace/clotho/notebooks/checkpoints/harness_v1_lg_4.pkl\n",
      "best train: 0.7967\n",
      "best train val: 0.7404\n",
      "best test: 0.6238\n",
      "epoch 25 version: 1\n"
     ]
    },
    {
     "data": {
      "application/vnd.jupyter.widget-view+json": {
       "model_id": "2bd78b6987d34b5b837ac7cd99115b93",
       "version_major": 2,
       "version_minor": 0
      },
      "text/plain": [
       "train:   0%|          | 0/20000 [00:00<?, ?it/s]"
      ]
     },
     "metadata": {},
     "output_type": "display_data"
    },
    {
     "data": {
      "application/vnd.jupyter.widget-view+json": {
       "model_id": "79161018866e40a58a10ab38ec83b6fc",
       "version_major": 2,
       "version_minor": 0
      },
      "text/plain": [
       "train val:   0%|          | 0/10000 [00:00<?, ?it/s]"
      ]
     },
     "metadata": {},
     "output_type": "display_data"
    },
    {
     "data": {
      "application/vnd.jupyter.widget-view+json": {
       "model_id": "827c32b9185340c8b263516f284249cd",
       "version_major": 2,
       "version_minor": 0
      },
      "text/plain": [
       "test:   0%|          | 0/10000 [00:00<?, ?it/s]"
      ]
     },
     "metadata": {},
     "output_type": "display_data"
    },
    {
     "name": "stdout",
     "output_type": "stream",
     "text": [
      "train: 0.5037 loss: 49.62121589508057\n",
      "train val: 0.523 loss: 25.317519090477322\n",
      "test: 0.4787 loss: 26.984557366690378\n",
      "epoch time: 12.28min\n",
      "removing /mnt/d/workspace/clotho/notebooks/checkpoints/stats_v1_lg_24.json\n",
      "removing /mnt/d/workspace/clotho/notebooks/checkpoints/harness_v1_lg_24.pkl\n",
      "best model: /mnt/d/workspace/clotho/notebooks/checkpoints/harness_v1_lg_4.pkl\n",
      "best train: 0.7967\n",
      "best train val: 0.7404\n",
      "best test: 0.6238\n",
      "epoch 26 version: 1\n"
     ]
    },
    {
     "data": {
      "application/vnd.jupyter.widget-view+json": {
       "model_id": "6be7c78bc6c24ee293e48386864abb46",
       "version_major": 2,
       "version_minor": 0
      },
      "text/plain": [
       "train:   0%|          | 0/20000 [00:00<?, ?it/s]"
      ]
     },
     "metadata": {},
     "output_type": "display_data"
    },
    {
     "data": {
      "application/vnd.jupyter.widget-view+json": {
       "model_id": "47cc49582fda4baabd0007ef01dc1e74",
       "version_major": 2,
       "version_minor": 0
      },
      "text/plain": [
       "train val:   0%|          | 0/10000 [00:00<?, ?it/s]"
      ]
     },
     "metadata": {},
     "output_type": "display_data"
    },
    {
     "data": {
      "application/vnd.jupyter.widget-view+json": {
       "model_id": "260edcdedfc748eebdbd69965775f696",
       "version_major": 2,
       "version_minor": 0
      },
      "text/plain": [
       "test:   0%|          | 0/10000 [00:00<?, ?it/s]"
      ]
     },
     "metadata": {},
     "output_type": "display_data"
    },
    {
     "name": "stdout",
     "output_type": "stream",
     "text": [
      "train: 0.4995 loss: 50.048625\n",
      "train val: 0.4695 loss: 33.73699609097387\n",
      "test: 0.4789 loss: 32.34724007236868\n",
      "epoch time: 12.30min\n",
      "removing /mnt/d/workspace/clotho/notebooks/checkpoints/stats_v1_lg_25.json\n",
      "removing /mnt/d/workspace/clotho/notebooks/checkpoints/harness_v1_lg_25.pkl\n",
      "best model: /mnt/d/workspace/clotho/notebooks/checkpoints/harness_v1_lg_4.pkl\n",
      "best train: 0.7967\n",
      "best train val: 0.7404\n",
      "best test: 0.6238\n",
      "epoch 27 version: 1\n"
     ]
    },
    {
     "data": {
      "application/vnd.jupyter.widget-view+json": {
       "model_id": "99a1dfe0274143d8b4d9d09d09457a57",
       "version_major": 2,
       "version_minor": 0
      },
      "text/plain": [
       "train:   0%|          | 0/20000 [00:00<?, ?it/s]"
      ]
     },
     "metadata": {},
     "output_type": "display_data"
    },
    {
     "data": {
      "application/vnd.jupyter.widget-view+json": {
       "model_id": "486f4e5c4fc14bf5a09191649acdee20",
       "version_major": 2,
       "version_minor": 0
      },
      "text/plain": [
       "train val:   0%|          | 0/10000 [00:00<?, ?it/s]"
      ]
     },
     "metadata": {},
     "output_type": "display_data"
    },
    {
     "data": {
      "application/vnd.jupyter.widget-view+json": {
       "model_id": "619ce915f94e4423a62bad3c79ea0000",
       "version_major": 2,
       "version_minor": 0
      },
      "text/plain": [
       "test:   0%|          | 0/10000 [00:00<?, ?it/s]"
      ]
     },
     "metadata": {},
     "output_type": "display_data"
    },
    {
     "name": "stdout",
     "output_type": "stream",
     "text": [
      "train: 0.4914 loss: 50.848805027008055\n",
      "train val: 0.6735 loss: 10.180343389879466\n",
      "test: 0.5533 loss: 15.884017224394816\n",
      "epoch time: 12.64min\n",
      "removing /mnt/d/workspace/clotho/notebooks/checkpoints/stats_v1_lg_26.json\n",
      "removing /mnt/d/workspace/clotho/notebooks/checkpoints/harness_v1_lg_26.pkl\n",
      "best model: /mnt/d/workspace/clotho/notebooks/checkpoints/harness_v1_lg_4.pkl\n",
      "best train: 0.7967\n",
      "best train val: 0.7404\n",
      "best test: 0.6238\n",
      "epoch 28 version: 1\n"
     ]
    },
    {
     "data": {
      "application/vnd.jupyter.widget-view+json": {
       "model_id": "540836ab22054f36a7d3eaeb822632e3",
       "version_major": 2,
       "version_minor": 0
      },
      "text/plain": [
       "train:   0%|          | 0/20000 [00:00<?, ?it/s]"
      ]
     },
     "metadata": {},
     "output_type": "display_data"
    },
    {
     "data": {
      "application/vnd.jupyter.widget-view+json": {
       "model_id": "3b88267d35ac423cbe0f72c3c7c0ad9e",
       "version_major": 2,
       "version_minor": 0
      },
      "text/plain": [
       "train val:   0%|          | 0/10000 [00:00<?, ?it/s]"
      ]
     },
     "metadata": {},
     "output_type": "display_data"
    },
    {
     "data": {
      "application/vnd.jupyter.widget-view+json": {
       "model_id": "9006cb10f76242d3b44bbbca8a4d8e5f",
       "version_major": 2,
       "version_minor": 0
      },
      "text/plain": [
       "test:   0%|          | 0/10000 [00:00<?, ?it/s]"
      ]
     },
     "metadata": {},
     "output_type": "display_data"
    },
    {
     "name": "stdout",
     "output_type": "stream",
     "text": [
      "train: 0.51505 loss: 48.49062222595215\n",
      "train val: 0.5584 loss: 43.48087832421981\n",
      "test: 0.436 loss: 56.285347221338746\n",
      "epoch time: 12.33min\n",
      "removing /mnt/d/workspace/clotho/notebooks/checkpoints/stats_v1_lg_27.json\n",
      "removing /mnt/d/workspace/clotho/notebooks/checkpoints/harness_v1_lg_27.pkl\n",
      "best model: /mnt/d/workspace/clotho/notebooks/checkpoints/harness_v1_lg_4.pkl\n",
      "best train: 0.7967\n",
      "best train val: 0.7404\n",
      "best test: 0.6238\n",
      "epoch 29 version: 1\n"
     ]
    },
    {
     "data": {
      "application/vnd.jupyter.widget-view+json": {
       "model_id": "1f7ad4015cb94679b6f1092e279a3b5d",
       "version_major": 2,
       "version_minor": 0
      },
      "text/plain": [
       "train:   0%|          | 0/20000 [00:00<?, ?it/s]"
      ]
     },
     "metadata": {},
     "output_type": "display_data"
    },
    {
     "data": {
      "application/vnd.jupyter.widget-view+json": {
       "model_id": "d288853eddc0488f841a765534c2ca2b",
       "version_major": 2,
       "version_minor": 0
      },
      "text/plain": [
       "train val:   0%|          | 0/10000 [00:00<?, ?it/s]"
      ]
     },
     "metadata": {},
     "output_type": "display_data"
    },
    {
     "data": {
      "application/vnd.jupyter.widget-view+json": {
       "model_id": "90591ae4ef4747ec976ac3cf66ea1a00",
       "version_major": 2,
       "version_minor": 0
      },
      "text/plain": [
       "test:   0%|          | 0/10000 [00:00<?, ?it/s]"
      ]
     },
     "metadata": {},
     "output_type": "display_data"
    },
    {
     "name": "stdout",
     "output_type": "stream",
     "text": [
      "train: 0.50105 loss: 49.8879390625\n",
      "train val: 0.3741 loss: 8.84468714413643\n",
      "test: 0.4749 loss: 2.147155709424242\n",
      "epoch time: 12.43min\n",
      "removing /mnt/d/workspace/clotho/notebooks/checkpoints/stats_v1_lg_28.json\n",
      "removing /mnt/d/workspace/clotho/notebooks/checkpoints/harness_v1_lg_28.pkl\n",
      "best model: /mnt/d/workspace/clotho/notebooks/checkpoints/harness_v1_lg_4.pkl\n",
      "best train: 0.7967\n",
      "best train val: 0.7404\n",
      "best test: 0.6238\n"
     ]
    },
    {
     "data": {
      "application/vnd.jupyter.widget-view+json": {
       "model_id": "e167eaae59db4ea597b222f00d5e284e",
       "version_major": 2,
       "version_minor": 0
      },
      "text/plain": [
       "test val:   0%|          | 0/10000 [00:00<?, ?it/s]"
      ]
     },
     "metadata": {},
     "output_type": "display_data"
    },
    {
     "name": "stdout",
     "output_type": "stream",
     "text": [
      "test val: {'accuracy': 0.4764} loss: 2.130697231856617\n",
      "correct\n"
     ]
    },
    {
     "data": {
      "text/html": [
       "<div>\n",
       "<style scoped>\n",
       "    .dataframe tbody tr th:only-of-type {\n",
       "        vertical-align: middle;\n",
       "    }\n",
       "\n",
       "    .dataframe tbody tr th {\n",
       "        vertical-align: top;\n",
       "    }\n",
       "\n",
       "    .dataframe thead th {\n",
       "        text-align: right;\n",
       "    }\n",
       "</style>\n",
       "<table border=\"1\" class=\"dataframe\">\n",
       "  <thead>\n",
       "    <tr style=\"text-align: right;\">\n",
       "      <th></th>\n",
       "      <th>gen_name</th>\n",
       "      <th>parent_left</th>\n",
       "      <th>child_left</th>\n",
       "      <th>parent_right</th>\n",
       "      <th>child_right</th>\n",
       "      <th>sway_left</th>\n",
       "      <th>sway_right</th>\n",
       "      <th>correct_is_right</th>\n",
       "      <th>logit_left</th>\n",
       "      <th>logit_right</th>\n",
       "      <th>preds</th>\n",
       "      <th>truth</th>\n",
       "    </tr>\n",
       "  </thead>\n",
       "  <tbody>\n",
       "    <tr>\n",
       "      <th>1</th>\n",
       "      <td>*valid--!copy;(mtl:20);(sw);(st)</td>\n",
       "      <td>Men are still plenty selective about who they ...</td>\n",
       "      <td>Men are selective, as in, they'll select from ...</td>\n",
       "      <td>Men are selective, as in, they'll select from ...</td>\n",
       "      <td>Men are still plenty selective about who they ...</td>\n",
       "      <td>0.999877</td>\n",
       "      <td>0.000123</td>\n",
       "      <td>False</td>\n",
       "      <td>0.991422</td>\n",
       "      <td>0.008577</td>\n",
       "      <td>0</td>\n",
       "      <td>0</td>\n",
       "    </tr>\n",
       "    <tr>\n",
       "      <th>2</th>\n",
       "      <td>random--valid;(sw);(st)</td>\n",
       "      <td>Dungeons and Dragons</td>\n",
       "      <td>Did you see this post a week ago and got jealo...</td>\n",
       "      <td>Question for the men, what's the worst part of...</td>\n",
       "      <td>When sitting wrong on your bike seat and cutti...</td>\n",
       "      <td>0.119203</td>\n",
       "      <td>0.880797</td>\n",
       "      <td>True</td>\n",
       "      <td>0.437824</td>\n",
       "      <td>0.562177</td>\n",
       "      <td>1</td>\n",
       "      <td>1</td>\n",
       "    </tr>\n",
       "    <tr>\n",
       "      <th>3</th>\n",
       "      <td>random--valid;(sw);(st)</td>\n",
       "      <td>I always brush my teeth but need to floss more...</td>\n",
       "      <td>As an american all I can say is: why?</td>\n",
       "      <td>[removed]</td>\n",
       "      <td>User profile checks out. Bet you're on a list ...</td>\n",
       "      <td>0.119203</td>\n",
       "      <td>0.880797</td>\n",
       "      <td>True</td>\n",
       "      <td>0.377541</td>\n",
       "      <td>0.622459</td>\n",
       "      <td>1</td>\n",
       "      <td>1</td>\n",
       "    </tr>\n",
       "    <tr>\n",
       "      <th>3</th>\n",
       "      <td>*valid--random;(mtl:20);(sw);(st)</td>\n",
       "      <td>The cigarette industry social lied about cigar...</td>\n",
       "      <td>covid vaccines can protect from covid</td>\n",
       "      <td>“Women get sex so easy!” “Man I bet no one wan...</td>\n",
       "      <td>You guys watch porn with sound on??? What a pr...</td>\n",
       "      <td>0.880797</td>\n",
       "      <td>0.119203</td>\n",
       "      <td>False</td>\n",
       "      <td>0.998073</td>\n",
       "      <td>0.001927</td>\n",
       "      <td>0</td>\n",
       "      <td>0</td>\n",
       "    </tr>\n",
       "    <tr>\n",
       "      <th>2</th>\n",
       "      <td>*valid--random;(sw);(st)</td>\n",
       "      <td>$5 and I'll never tell him i won as I wouldn't...</td>\n",
       "      <td>Sounds like a plot to a movie lol</td>\n",
       "      <td>The last iteration of them yeah, just thanks t...</td>\n",
       "      <td>Don't throw away your money. When you get paid...</td>\n",
       "      <td>0.880797</td>\n",
       "      <td>0.119203</td>\n",
       "      <td>False</td>\n",
       "      <td>0.731059</td>\n",
       "      <td>0.268941</td>\n",
       "      <td>0</td>\n",
       "      <td>0</td>\n",
       "    </tr>\n",
       "  </tbody>\n",
       "</table>\n",
       "</div>"
      ],
      "text/plain": [
       "                            gen_name  \\\n",
       "1   *valid--!copy;(mtl:20);(sw);(st)   \n",
       "2            random--valid;(sw);(st)   \n",
       "3            random--valid;(sw);(st)   \n",
       "3  *valid--random;(mtl:20);(sw);(st)   \n",
       "2           *valid--random;(sw);(st)   \n",
       "\n",
       "                                         parent_left  \\\n",
       "1  Men are still plenty selective about who they ...   \n",
       "2                               Dungeons and Dragons   \n",
       "3  I always brush my teeth but need to floss more...   \n",
       "3  The cigarette industry social lied about cigar...   \n",
       "2  $5 and I'll never tell him i won as I wouldn't...   \n",
       "\n",
       "                                          child_left  \\\n",
       "1  Men are selective, as in, they'll select from ...   \n",
       "2  Did you see this post a week ago and got jealo...   \n",
       "3              As an american all I can say is: why?   \n",
       "3              covid vaccines can protect from covid   \n",
       "2                  Sounds like a plot to a movie lol   \n",
       "\n",
       "                                        parent_right  \\\n",
       "1  Men are selective, as in, they'll select from ...   \n",
       "2  Question for the men, what's the worst part of...   \n",
       "3                                          [removed]   \n",
       "3  “Women get sex so easy!” “Man I bet no one wan...   \n",
       "2  The last iteration of them yeah, just thanks t...   \n",
       "\n",
       "                                         child_right  sway_left  sway_right  \\\n",
       "1  Men are still plenty selective about who they ...   0.999877    0.000123   \n",
       "2  When sitting wrong on your bike seat and cutti...   0.119203    0.880797   \n",
       "3  User profile checks out. Bet you're on a list ...   0.119203    0.880797   \n",
       "3  You guys watch porn with sound on??? What a pr...   0.880797    0.119203   \n",
       "2  Don't throw away your money. When you get paid...   0.880797    0.119203   \n",
       "\n",
       "   correct_is_right  logit_left  logit_right  preds  truth  \n",
       "1             False    0.991422     0.008577      0      0  \n",
       "2              True    0.437824     0.562177      1      1  \n",
       "3              True    0.377541     0.622459      1      1  \n",
       "3             False    0.998073     0.001927      0      0  \n",
       "2             False    0.731059     0.268941      0      0  "
      ]
     },
     "metadata": {},
     "output_type": "display_data"
    },
    {
     "name": "stdout",
     "output_type": "stream",
     "text": [
      "incorrect\n"
     ]
    },
    {
     "data": {
      "text/html": [
       "<div>\n",
       "<style scoped>\n",
       "    .dataframe tbody tr th:only-of-type {\n",
       "        vertical-align: middle;\n",
       "    }\n",
       "\n",
       "    .dataframe tbody tr th {\n",
       "        vertical-align: top;\n",
       "    }\n",
       "\n",
       "    .dataframe thead th {\n",
       "        text-align: right;\n",
       "    }\n",
       "</style>\n",
       "<table border=\"1\" class=\"dataframe\">\n",
       "  <thead>\n",
       "    <tr style=\"text-align: right;\">\n",
       "      <th></th>\n",
       "      <th>gen_name</th>\n",
       "      <th>parent_left</th>\n",
       "      <th>child_left</th>\n",
       "      <th>parent_right</th>\n",
       "      <th>child_right</th>\n",
       "      <th>sway_left</th>\n",
       "      <th>sway_right</th>\n",
       "      <th>correct_is_right</th>\n",
       "      <th>logit_left</th>\n",
       "      <th>logit_right</th>\n",
       "      <th>preds</th>\n",
       "      <th>truth</th>\n",
       "    </tr>\n",
       "  </thead>\n",
       "  <tbody>\n",
       "    <tr>\n",
       "      <th>0</th>\n",
       "      <td>!copy--valid;(mtl:20);(sw);(st)</td>\n",
       "      <td>Gonna ride the baloney pony all the way to Was...</td>\n",
       "      <td>I'd literally take the law into my own hands.</td>\n",
       "      <td>I'd literally take the law into my own hands.</td>\n",
       "      <td>Gonna ride the baloney pony all the way to Was...</td>\n",
       "      <td>4.662937e-15</td>\n",
       "      <td>1.000000e+00</td>\n",
       "      <td>True</td>\n",
       "      <td>0.500000</td>\n",
       "      <td>0.500000</td>\n",
       "      <td>0</td>\n",
       "      <td>1</td>\n",
       "    </tr>\n",
       "    <tr>\n",
       "      <th>0</th>\n",
       "      <td>*valid--random;(sw);(st)</td>\n",
       "      <td>And they taste delicious when chopped into hal...</td>\n",
       "      <td>In Spain/Portugal we also cook them \"a feira\" ...</td>\n",
       "      <td>Seinfeld seems to be the one that paved the wa...</td>\n",
       "      <td>Wiping down gym equipment.</td>\n",
       "      <td>9.933071e-01</td>\n",
       "      <td>6.692851e-03</td>\n",
       "      <td>False</td>\n",
       "      <td>0.001501</td>\n",
       "      <td>0.998499</td>\n",
       "      <td>1</td>\n",
       "      <td>0</td>\n",
       "    </tr>\n",
       "    <tr>\n",
       "      <th>1</th>\n",
       "      <td>*valid--!copy;(mtl:20);(sw);(st)</td>\n",
       "      <td>Yeah that's a thing. I spend my summer vacatio...</td>\n",
       "      <td>you ever done on going maintenance on a boat? ...</td>\n",
       "      <td>you ever done on going maintenance on a boat? ...</td>\n",
       "      <td>Yeah that's a thing. I spend my summer vacatio...</td>\n",
       "      <td>1.000000e+00</td>\n",
       "      <td>1.562882e-18</td>\n",
       "      <td>False</td>\n",
       "      <td>0.022977</td>\n",
       "      <td>0.977023</td>\n",
       "      <td>1</td>\n",
       "      <td>0</td>\n",
       "    </tr>\n",
       "    <tr>\n",
       "      <th>2</th>\n",
       "      <td>*valid--!copy;(sw);(st)</td>\n",
       "      <td>She actually has a song where this is the poin...</td>\n",
       "      <td>Yep, this one came to mind. She is incredible ...</td>\n",
       "      <td>Yep, this one came to mind. She is incredible ...</td>\n",
       "      <td>She actually has a song where this is the poin...</td>\n",
       "      <td>9.975274e-01</td>\n",
       "      <td>2.472623e-03</td>\n",
       "      <td>False</td>\n",
       "      <td>0.268941</td>\n",
       "      <td>0.731059</td>\n",
       "      <td>1</td>\n",
       "      <td>0</td>\n",
       "    </tr>\n",
       "    <tr>\n",
       "      <th>0</th>\n",
       "      <td>random--valid;(mtl:20);(sw);(st)</td>\n",
       "      <td>So that's where it came from albeit it's still...</td>\n",
       "      <td>Yeah that's pretty much what he did. Epstein h...</td>\n",
       "      <td>I work in a kitchen full of men and it's quite...</td>\n",
       "      <td>Tears are for the French</td>\n",
       "      <td>9.110512e-04</td>\n",
       "      <td>9.990889e-01</td>\n",
       "      <td>True</td>\n",
       "      <td>0.977023</td>\n",
       "      <td>0.022977</td>\n",
       "      <td>0</td>\n",
       "      <td>1</td>\n",
       "    </tr>\n",
       "  </tbody>\n",
       "</table>\n",
       "</div>"
      ],
      "text/plain": [
       "                           gen_name  \\\n",
       "0   !copy--valid;(mtl:20);(sw);(st)   \n",
       "0          *valid--random;(sw);(st)   \n",
       "1  *valid--!copy;(mtl:20);(sw);(st)   \n",
       "2           *valid--!copy;(sw);(st)   \n",
       "0  random--valid;(mtl:20);(sw);(st)   \n",
       "\n",
       "                                         parent_left  \\\n",
       "0  Gonna ride the baloney pony all the way to Was...   \n",
       "0  And they taste delicious when chopped into hal...   \n",
       "1  Yeah that's a thing. I spend my summer vacatio...   \n",
       "2  She actually has a song where this is the poin...   \n",
       "0  So that's where it came from albeit it's still...   \n",
       "\n",
       "                                          child_left  \\\n",
       "0      I'd literally take the law into my own hands.   \n",
       "0  In Spain/Portugal we also cook them \"a feira\" ...   \n",
       "1  you ever done on going maintenance on a boat? ...   \n",
       "2  Yep, this one came to mind. She is incredible ...   \n",
       "0  Yeah that's pretty much what he did. Epstein h...   \n",
       "\n",
       "                                        parent_right  \\\n",
       "0      I'd literally take the law into my own hands.   \n",
       "0  Seinfeld seems to be the one that paved the wa...   \n",
       "1  you ever done on going maintenance on a boat? ...   \n",
       "2  Yep, this one came to mind. She is incredible ...   \n",
       "0  I work in a kitchen full of men and it's quite...   \n",
       "\n",
       "                                         child_right     sway_left  \\\n",
       "0  Gonna ride the baloney pony all the way to Was...  4.662937e-15   \n",
       "0                         Wiping down gym equipment.  9.933071e-01   \n",
       "1  Yeah that's a thing. I spend my summer vacatio...  1.000000e+00   \n",
       "2  She actually has a song where this is the poin...  9.975274e-01   \n",
       "0                           Tears are for the French  9.110512e-04   \n",
       "\n",
       "     sway_right  correct_is_right  logit_left  logit_right  preds  truth  \n",
       "0  1.000000e+00              True    0.500000     0.500000      0      1  \n",
       "0  6.692851e-03             False    0.001501     0.998499      1      0  \n",
       "1  1.562882e-18             False    0.022977     0.977023      1      0  \n",
       "2  2.472623e-03             False    0.268941     0.731059      1      0  \n",
       "0  9.990889e-01              True    0.977023     0.022977      0      1  "
      ]
     },
     "metadata": {},
     "output_type": "display_data"
    },
    {
     "data": {
      "text/plain": [
       "array([[-35.501076, -38.933743, -30.15163 , ...,  40.259182,  37.36583 ,\n",
       "         39.754585],\n",
       "       [-35.50106 , -38.933727, -30.151619, ...,  40.259163,  37.365814,\n",
       "         39.75457 ],\n",
       "       [-35.501072, -38.93374 , -30.151628, ...,  40.259174,  37.365826,\n",
       "         39.75458 ],\n",
       "       [-35.50107 , -38.933735, -30.151627, ...,  40.25917 ,  37.36582 ,\n",
       "         39.754578]], dtype=float32)"
      ]
     },
     "metadata": {},
     "output_type": "display_data"
    },
    {
     "data": {
      "text/plain": [
       "array([[-35.501072, -38.933743, -30.151628, ...,  40.25918 ,  37.365826,\n",
       "         39.754585],\n",
       "       [-35.501072, -38.933735, -30.151628, ...,  40.259174,  37.365826,\n",
       "         39.754578],\n",
       "       [-35.501072, -38.93374 , -30.151628, ...,  40.259174,  37.365826,\n",
       "         39.75458 ],\n",
       "       [-35.501072, -38.93374 , -30.151628, ...,  40.259174,  37.365826,\n",
       "         39.75458 ]], dtype=float32)"
      ]
     },
     "metadata": {},
     "output_type": "display_data"
    },
    {
     "data": {
      "text/plain": [
       "array([[-35.501072, -38.933735, -30.151628, ...,  40.259174,  37.365826,\n",
       "         39.754578],\n",
       "       [-35.501072, -38.933735, -30.151628, ...,  40.259174,  37.365826,\n",
       "         39.754578],\n",
       "       [-35.50107 , -38.933735, -30.151628, ...,  40.25917 ,  37.36582 ,\n",
       "         39.754578],\n",
       "       [-35.50107 , -38.933735, -30.151628, ...,  40.259174,  37.365826,\n",
       "         39.75458 ]], dtype=float32)"
      ]
     },
     "metadata": {},
     "output_type": "display_data"
    },
    {
     "data": {
      "text/plain": [
       "array([[-35.501076, -38.933743, -30.15163 , ...,  40.25918 ,  37.36583 ,\n",
       "         39.754585],\n",
       "       [-35.501045, -38.933712, -30.15161 , ...,  40.259148,  37.365803,\n",
       "         39.754555],\n",
       "       [-35.50107 , -38.933735, -30.151627, ...,  40.25917 ,  37.36582 ,\n",
       "         39.754578],\n",
       "       [-35.501072, -38.933735, -30.151628, ...,  40.259174,  37.365826,\n",
       "         39.75458 ]], dtype=float32)"
      ]
     },
     "metadata": {},
     "output_type": "display_data"
    },
    {
     "data": {
      "text/plain": [
       "array([[-35.50106 , -38.93373 , -30.151623, ...,  40.259167,  37.365814,\n",
       "         39.75457 ],\n",
       "       [-35.501076, -38.93374 , -30.15163 , ...,  40.259174,  37.36583 ,\n",
       "         39.754585],\n",
       "       [-35.501076, -38.933743, -30.151634, ...,  40.259182,  37.36583 ,\n",
       "         39.754585],\n",
       "       [-35.501076, -38.933743, -30.151634, ...,  40.259182,  37.36583 ,\n",
       "         39.754585]], dtype=float32)"
      ]
     },
     "metadata": {},
     "output_type": "display_data"
    },
    {
     "data": {
      "text/plain": [
       "array([[-35.501076, -38.93374 , -30.15163 , ...,  40.25918 ,  37.365826,\n",
       "         39.754585],\n",
       "       [-35.501076, -38.933743, -30.15163 , ...,  40.25918 ,  37.36583 ,\n",
       "         39.754585],\n",
       "       [-35.501007, -38.93367 , -30.151577, ...,  40.2591  ,  37.365765,\n",
       "         39.754513],\n",
       "       [-35.501076, -38.933743, -30.151634, ...,  40.25918 ,  37.36583 ,\n",
       "         39.754585]], dtype=float32)"
      ]
     },
     "metadata": {},
     "output_type": "display_data"
    },
    {
     "data": {
      "text/plain": [
       "array([[-35.50106 , -38.933727, -30.15162 , ...,  40.259163,  37.365814,\n",
       "         39.75457 ],\n",
       "       [-35.50107 , -38.933735, -30.151627, ...,  40.25917 ,  37.365826,\n",
       "         39.754578],\n",
       "       [-35.501053, -38.933716, -30.151611, ...,  40.25915 ,  37.365807,\n",
       "         39.754562],\n",
       "       [-35.501076, -38.933743, -30.151634, ...,  40.25918 ,  37.36583 ,\n",
       "         39.754585]], dtype=float32)"
      ]
     },
     "metadata": {},
     "output_type": "display_data"
    },
    {
     "data": {
      "text/plain": [
       "array([[-35.50106 , -38.933727, -30.151619, ...,  40.259163,  37.365814,\n",
       "         39.75457 ],\n",
       "       [-35.501076, -38.933743, -30.15163 , ...,  40.25918 ,  37.36583 ,\n",
       "         39.754585],\n",
       "       [-35.501076, -38.933743, -30.151634, ...,  40.25918 ,  37.36583 ,\n",
       "         39.754585],\n",
       "       [-35.501076, -38.933743, -30.151634, ...,  40.259182,  37.36583 ,\n",
       "         39.754585]], dtype=float32)"
      ]
     },
     "metadata": {},
     "output_type": "display_data"
    },
    {
     "data": {
      "text/plain": [
       "array([[-35.501015, -38.933678, -30.15158 , ...,  40.259106,  37.36577 ,\n",
       "         39.75452 ],\n",
       "       [-35.501076, -38.93374 , -30.151628, ...,  40.25918 ,  37.36583 ,\n",
       "         39.754585],\n",
       "       [-35.50107 , -38.933735, -30.151628, ...,  40.25917 ,  37.365826,\n",
       "         39.754578],\n",
       "       [-35.50107 , -38.933735, -30.151628, ...,  40.259174,  37.365826,\n",
       "         39.754578]], dtype=float32)"
      ]
     },
     "metadata": {},
     "output_type": "display_data"
    },
    {
     "data": {
      "text/plain": [
       "array([[-35.501076, -38.933743, -30.15163 , ...,  40.25918 ,  37.365826,\n",
       "         39.754585],\n",
       "       [-35.501076, -38.933743, -30.15163 , ...,  40.25918 ,  37.365826,\n",
       "         39.754585],\n",
       "       [-35.501072, -38.933735, -30.151628, ...,  40.259174,  37.365826,\n",
       "         39.754578],\n",
       "       [-35.501076, -38.93374 , -30.151628, ...,  40.25918 ,  37.36583 ,\n",
       "         39.75458 ]], dtype=float32)"
      ]
     },
     "metadata": {},
     "output_type": "display_data"
    },
    {
     "name": "stderr",
     "output_type": "stream",
     "text": [
      "Some weights of the model checkpoint at distilbert-base-uncased were not used when initializing DistilBertModel: ['vocab_transform.bias', 'vocab_projector.bias', 'vocab_transform.weight', 'vocab_layer_norm.bias', 'vocab_layer_norm.weight', 'vocab_projector.weight']\n",
      "- This IS expected if you are initializing DistilBertModel from the checkpoint of a model trained on another task or with another architecture (e.g. initializing a BertForSequenceClassification model from a BertForPreTraining model).\n",
      "- This IS NOT expected if you are initializing DistilBertModel from the checkpoint of a model that you expect to be exactly identical (initializing a BertForSequenceClassification model from a BertForSequenceClassification model).\n",
      "Some weights of the model checkpoint at distilbert-base-uncased were not used when initializing DistilBertModel: ['vocab_transform.bias', 'vocab_projector.bias', 'vocab_transform.weight', 'vocab_layer_norm.bias', 'vocab_layer_norm.weight', 'vocab_projector.weight']\n",
      "- This IS expected if you are initializing DistilBertModel from the checkpoint of a model trained on another task or with another architecture (e.g. initializing a BertForSequenceClassification model from a BertForPreTraining model).\n",
      "- This IS NOT expected if you are initializing DistilBertModel from the checkpoint of a model that you expect to be exactly identical (initializing a BertForSequenceClassification model from a BertForSequenceClassification model).\n"
     ]
    },
    {
     "name": "stdout",
     "output_type": "stream",
     "text": [
      "None 0\n",
      "epoch 0 version: 2\n"
     ]
    },
    {
     "data": {
      "application/vnd.jupyter.widget-view+json": {
       "model_id": "993e3d9b086147648c30fe50baf5a3d8",
       "version_major": 2,
       "version_minor": 0
      },
      "text/plain": [
       "train:   0%|          | 0/20000 [00:00<?, ?it/s]"
      ]
     },
     "metadata": {},
     "output_type": "display_data"
    },
    {
     "data": {
      "application/vnd.jupyter.widget-view+json": {
       "model_id": "5eede07d1a4744d69665b13ab536f8cd",
       "version_major": 2,
       "version_minor": 0
      },
      "text/plain": [
       "train val:   0%|          | 0/10000 [00:00<?, ?it/s]"
      ]
     },
     "metadata": {},
     "output_type": "display_data"
    },
    {
     "data": {
      "application/vnd.jupyter.widget-view+json": {
       "model_id": "28c8082caeb444e8bb58406c859b6282",
       "version_major": 2,
       "version_minor": 0
      },
      "text/plain": [
       "test:   0%|          | 0/10000 [00:00<?, ?it/s]"
      ]
     },
     "metadata": {},
     "output_type": "display_data"
    },
    {
     "name": "stdout",
     "output_type": "stream",
     "text": [
      "train: 0.7382 loss: 0.5436004432678223\n",
      "train val: 0.7219 loss: 0.5373253197908402\n",
      "test: 0.6437 loss: 0.6466006888747216\n",
      "epoch time: 12.16min\n",
      "best model: /mnt/d/workspace/clotho/notebooks/checkpoints/harness_v2_lg_0.pkl\n",
      "best train: 0.7382\n",
      "best train val: 0.7219\n",
      "best test: 0.6437\n",
      "epoch 1 version: 2\n"
     ]
    },
    {
     "data": {
      "application/vnd.jupyter.widget-view+json": {
       "model_id": "ffe6f00dce694ebe8f4128d566ca67a3",
       "version_major": 2,
       "version_minor": 0
      },
      "text/plain": [
       "train:   0%|          | 0/20000 [00:00<?, ?it/s]"
      ]
     },
     "metadata": {},
     "output_type": "display_data"
    },
    {
     "data": {
      "application/vnd.jupyter.widget-view+json": {
       "model_id": "afeac86a12c24e13b429359acf0cf53b",
       "version_major": 2,
       "version_minor": 0
      },
      "text/plain": [
       "train val:   0%|          | 0/10000 [00:00<?, ?it/s]"
      ]
     },
     "metadata": {},
     "output_type": "display_data"
    },
    {
     "data": {
      "application/vnd.jupyter.widget-view+json": {
       "model_id": "6e2f5e010b89426dba1f0fb837d0f0b4",
       "version_major": 2,
       "version_minor": 0
      },
      "text/plain": [
       "test:   0%|          | 0/10000 [00:00<?, ?it/s]"
      ]
     },
     "metadata": {},
     "output_type": "display_data"
    },
    {
     "name": "stdout",
     "output_type": "stream",
     "text": [
      "train: 0.77575 loss: 0.4879291292309761\n",
      "train val: 0.7181 loss: 0.5370447759866714\n",
      "test: 0.5996 loss: 0.65916873036623\n",
      "epoch time: 12.33min\n",
      "best model: /mnt/d/workspace/clotho/notebooks/checkpoints/harness_v2_lg_0.pkl\n",
      "best train: 0.7382\n",
      "best train val: 0.7219\n",
      "best test: 0.6437\n",
      "epoch 2 version: 2\n"
     ]
    },
    {
     "data": {
      "application/vnd.jupyter.widget-view+json": {
       "model_id": "2f8eb42e2417407da3d7e976106d1277",
       "version_major": 2,
       "version_minor": 0
      },
      "text/plain": [
       "train:   0%|          | 0/20000 [00:00<?, ?it/s]"
      ]
     },
     "metadata": {},
     "output_type": "display_data"
    },
    {
     "data": {
      "application/vnd.jupyter.widget-view+json": {
       "model_id": "a0eda270a3254379a063a2426804898f",
       "version_major": 2,
       "version_minor": 0
      },
      "text/plain": [
       "train val:   0%|          | 0/10000 [00:00<?, ?it/s]"
      ]
     },
     "metadata": {},
     "output_type": "display_data"
    },
    {
     "data": {
      "application/vnd.jupyter.widget-view+json": {
       "model_id": "e8bb95ad66b044fdac3ed241dbcb09d0",
       "version_major": 2,
       "version_minor": 0
      },
      "text/plain": [
       "test:   0%|          | 0/10000 [00:00<?, ?it/s]"
      ]
     },
     "metadata": {},
     "output_type": "display_data"
    },
    {
     "name": "stdout",
     "output_type": "stream",
     "text": [
      "train: 0.78305 loss: 0.47299463711977\n",
      "train val: 0.6743 loss: 0.5451672175824642\n",
      "test: 0.5279 loss: 0.6726683840751648\n",
      "epoch time: 12.19min\n",
      "best model: /mnt/d/workspace/clotho/notebooks/checkpoints/harness_v2_lg_0.pkl\n",
      "best train: 0.7382\n",
      "best train val: 0.7219\n",
      "best test: 0.6437\n",
      "epoch 3 version: 2\n"
     ]
    },
    {
     "data": {
      "application/vnd.jupyter.widget-view+json": {
       "model_id": "d6d48f7b8b2a4e539a41a64f7a4ab346",
       "version_major": 2,
       "version_minor": 0
      },
      "text/plain": [
       "train:   0%|          | 0/20000 [00:00<?, ?it/s]"
      ]
     },
     "metadata": {},
     "output_type": "display_data"
    },
    {
     "data": {
      "application/vnd.jupyter.widget-view+json": {
       "model_id": "f3abd6faca7d477ba63dbf8a376101bb",
       "version_major": 2,
       "version_minor": 0
      },
      "text/plain": [
       "train val:   0%|          | 0/10000 [00:00<?, ?it/s]"
      ]
     },
     "metadata": {},
     "output_type": "display_data"
    },
    {
     "data": {
      "application/vnd.jupyter.widget-view+json": {
       "model_id": "c5427ccac56242abb4d6958faf519a27",
       "version_major": 2,
       "version_minor": 0
      },
      "text/plain": [
       "test:   0%|          | 0/10000 [00:00<?, ?it/s]"
      ]
     },
     "metadata": {},
     "output_type": "display_data"
    },
    {
     "name": "stdout",
     "output_type": "stream",
     "text": [
      "train: 0.7771 loss: 0.46247362550199034\n",
      "train val: 0.6916 loss: 0.554022440713644\n",
      "test: 0.5806 loss: 0.6761620312452317\n",
      "epoch time: 11.89min\n",
      "best model: /mnt/d/workspace/clotho/notebooks/checkpoints/harness_v2_lg_0.pkl\n",
      "best train: 0.7382\n",
      "best train val: 0.7219\n",
      "best test: 0.6437\n",
      "epoch 4 version: 2\n"
     ]
    },
    {
     "data": {
      "application/vnd.jupyter.widget-view+json": {
       "model_id": "bbcdb180a3cd4fc1848ff5c8d26fae98",
       "version_major": 2,
       "version_minor": 0
      },
      "text/plain": [
       "train:   0%|          | 0/20000 [00:00<?, ?it/s]"
      ]
     },
     "metadata": {},
     "output_type": "display_data"
    },
    {
     "data": {
      "application/vnd.jupyter.widget-view+json": {
       "model_id": "4e007b2da1db473eb21e5e754b0d819f",
       "version_major": 2,
       "version_minor": 0
      },
      "text/plain": [
       "train val:   0%|          | 0/10000 [00:00<?, ?it/s]"
      ]
     },
     "metadata": {},
     "output_type": "display_data"
    },
    {
     "data": {
      "application/vnd.jupyter.widget-view+json": {
       "model_id": "3959f57235e3405f82a5295f510b3e01",
       "version_major": 2,
       "version_minor": 0
      },
      "text/plain": [
       "test:   0%|          | 0/10000 [00:00<?, ?it/s]"
      ]
     },
     "metadata": {},
     "output_type": "display_data"
    },
    {
     "name": "stdout",
     "output_type": "stream",
     "text": [
      "train: 0.75365 loss: 0.4799625008225441\n",
      "train val: 0.6531 loss: 0.5686483474910259\n",
      "test: 0.502 loss: 0.682471077299118\n",
      "epoch time: 12.32min\n",
      "best model: /mnt/d/workspace/clotho/notebooks/checkpoints/harness_v2_lg_0.pkl\n",
      "best train: 0.7382\n",
      "best train val: 0.7219\n",
      "best test: 0.6437\n",
      "epoch 5 version: 2\n"
     ]
    },
    {
     "data": {
      "application/vnd.jupyter.widget-view+json": {
       "model_id": "fced1d8fb76f4f7ebc8012c4a6a83d82",
       "version_major": 2,
       "version_minor": 0
      },
      "text/plain": [
       "train:   0%|          | 0/20000 [00:00<?, ?it/s]"
      ]
     },
     "metadata": {},
     "output_type": "display_data"
    },
    {
     "data": {
      "application/vnd.jupyter.widget-view+json": {
       "model_id": "a596cff983664f2ebbbd3dbaa91db18a",
       "version_major": 2,
       "version_minor": 0
      },
      "text/plain": [
       "train val:   0%|          | 0/10000 [00:00<?, ?it/s]"
      ]
     },
     "metadata": {},
     "output_type": "display_data"
    },
    {
     "data": {
      "application/vnd.jupyter.widget-view+json": {
       "model_id": "d2895ba2bc1e49589b5cba00588b1dc0",
       "version_major": 2,
       "version_minor": 0
      },
      "text/plain": [
       "test:   0%|          | 0/10000 [00:00<?, ?it/s]"
      ]
     },
     "metadata": {},
     "output_type": "display_data"
    },
    {
     "name": "stdout",
     "output_type": "stream",
     "text": [
      "train: 0.7677 loss: 0.44780092733502386\n",
      "train val: 0.6621 loss: 0.5482684583961963\n",
      "test: 0.5419 loss: 0.676467588531971\n",
      "epoch time: 12.49min\n",
      "best model: /mnt/d/workspace/clotho/notebooks/checkpoints/harness_v2_lg_0.pkl\n",
      "best train: 0.7382\n",
      "best train val: 0.7219\n",
      "best test: 0.6437\n",
      "epoch 6 version: 2\n"
     ]
    },
    {
     "data": {
      "application/vnd.jupyter.widget-view+json": {
       "model_id": "3a1c370cb85843ce84211a48d47f259b",
       "version_major": 2,
       "version_minor": 0
      },
      "text/plain": [
       "train:   0%|          | 0/20000 [00:00<?, ?it/s]"
      ]
     },
     "metadata": {},
     "output_type": "display_data"
    },
    {
     "data": {
      "application/vnd.jupyter.widget-view+json": {
       "model_id": "ae79dab632ca4394bfbcb6f1a49dbed7",
       "version_major": 2,
       "version_minor": 0
      },
      "text/plain": [
       "train val:   0%|          | 0/10000 [00:00<?, ?it/s]"
      ]
     },
     "metadata": {},
     "output_type": "display_data"
    },
    {
     "data": {
      "application/vnd.jupyter.widget-view+json": {
       "model_id": "fb591af5833f414f8d15b301a536ba5e",
       "version_major": 2,
       "version_minor": 0
      },
      "text/plain": [
       "test:   0%|          | 0/10000 [00:00<?, ?it/s]"
      ]
     },
     "metadata": {},
     "output_type": "display_data"
    },
    {
     "name": "stdout",
     "output_type": "stream",
     "text": [
      "train: 0.72785 loss: 0.5050181359857321\n",
      "train val: 0.6269 loss: 0.5664390466213226\n",
      "test: 0.5066 loss: 0.6991027557849884\n",
      "epoch time: 12.41min\n",
      "removing /mnt/d/workspace/clotho/notebooks/checkpoints/stats_v2_lg_4.json\n",
      "removing /mnt/d/workspace/clotho/notebooks/checkpoints/harness_v2_lg_4.pkl\n",
      "best model: /mnt/d/workspace/clotho/notebooks/checkpoints/harness_v2_lg_0.pkl\n",
      "best train: 0.7382\n",
      "best train val: 0.7219\n",
      "best test: 0.6437\n",
      "epoch 7 version: 2\n"
     ]
    },
    {
     "data": {
      "application/vnd.jupyter.widget-view+json": {
       "model_id": "a382fbfa31b54720b4eee06c14e15f52",
       "version_major": 2,
       "version_minor": 0
      },
      "text/plain": [
       "train:   0%|          | 0/20000 [00:00<?, ?it/s]"
      ]
     },
     "metadata": {},
     "output_type": "display_data"
    },
    {
     "data": {
      "application/vnd.jupyter.widget-view+json": {
       "model_id": "db936531add6491fbea46c9b337afb57",
       "version_major": 2,
       "version_minor": 0
      },
      "text/plain": [
       "train val:   0%|          | 0/10000 [00:00<?, ?it/s]"
      ]
     },
     "metadata": {},
     "output_type": "display_data"
    },
    {
     "data": {
      "application/vnd.jupyter.widget-view+json": {
       "model_id": "e2cd7f161be842cf9a5e635f4d626203",
       "version_major": 2,
       "version_minor": 0
      },
      "text/plain": [
       "test:   0%|          | 0/10000 [00:00<?, ?it/s]"
      ]
     },
     "metadata": {},
     "output_type": "display_data"
    },
    {
     "name": "stdout",
     "output_type": "stream",
     "text": [
      "train: 0.74825 loss: 0.4825803387731314\n",
      "train val: 0.6624 loss: 0.5648609751880169\n",
      "test: 0.5442 loss: 0.6939609698772431\n",
      "epoch time: 12.47min\n",
      "removing /mnt/d/workspace/clotho/notebooks/checkpoints/stats_v2_lg_6.json\n",
      "removing /mnt/d/workspace/clotho/notebooks/checkpoints/harness_v2_lg_6.pkl\n",
      "best model: /mnt/d/workspace/clotho/notebooks/checkpoints/harness_v2_lg_0.pkl\n",
      "best train: 0.7382\n",
      "best train val: 0.7219\n",
      "best test: 0.6437\n",
      "epoch 8 version: 2\n"
     ]
    },
    {
     "data": {
      "application/vnd.jupyter.widget-view+json": {
       "model_id": "8a065054c3674439b29cbffcb3fc7f04",
       "version_major": 2,
       "version_minor": 0
      },
      "text/plain": [
       "train:   0%|          | 0/20000 [00:00<?, ?it/s]"
      ]
     },
     "metadata": {},
     "output_type": "display_data"
    },
    {
     "data": {
      "application/vnd.jupyter.widget-view+json": {
       "model_id": "4e3f2376e1d7434595a565314641c2b7",
       "version_major": 2,
       "version_minor": 0
      },
      "text/plain": [
       "train val:   0%|          | 0/10000 [00:00<?, ?it/s]"
      ]
     },
     "metadata": {},
     "output_type": "display_data"
    },
    {
     "data": {
      "application/vnd.jupyter.widget-view+json": {
       "model_id": "656866b520fd441b946f3bdce38ebdac",
       "version_major": 2,
       "version_minor": 0
      },
      "text/plain": [
       "test:   0%|          | 0/10000 [00:00<?, ?it/s]"
      ]
     },
     "metadata": {},
     "output_type": "display_data"
    },
    {
     "name": "stdout",
     "output_type": "stream",
     "text": [
      "train: 0.721 loss: 0.5010376846224069\n",
      "train val: 0.6379 loss: 0.5682460744261741\n",
      "test: 0.5112 loss: 0.6818918744921685\n",
      "epoch time: 12.16min\n",
      "removing /mnt/d/workspace/clotho/notebooks/checkpoints/stats_v2_lg_5.json\n",
      "removing /mnt/d/workspace/clotho/notebooks/checkpoints/harness_v2_lg_5.pkl\n",
      "best model: /mnt/d/workspace/clotho/notebooks/checkpoints/harness_v2_lg_0.pkl\n",
      "best train: 0.7382\n",
      "best train val: 0.7219\n",
      "best test: 0.6437\n",
      "epoch 9 version: 2\n"
     ]
    },
    {
     "data": {
      "application/vnd.jupyter.widget-view+json": {
       "model_id": "08b9d69d7d0a4cf6a6fe7533a2cd05ec",
       "version_major": 2,
       "version_minor": 0
      },
      "text/plain": [
       "train:   0%|          | 0/20000 [00:00<?, ?it/s]"
      ]
     },
     "metadata": {},
     "output_type": "display_data"
    },
    {
     "data": {
      "application/vnd.jupyter.widget-view+json": {
       "model_id": "97aa0ea941624e5aae36eeade3fb18c1",
       "version_major": 2,
       "version_minor": 0
      },
      "text/plain": [
       "train val:   0%|          | 0/10000 [00:00<?, ?it/s]"
      ]
     },
     "metadata": {},
     "output_type": "display_data"
    },
    {
     "data": {
      "application/vnd.jupyter.widget-view+json": {
       "model_id": "3940454d741d4c0b90773ec4730a8ffd",
       "version_major": 2,
       "version_minor": 0
      },
      "text/plain": [
       "test:   0%|          | 0/10000 [00:00<?, ?it/s]"
      ]
     },
     "metadata": {},
     "output_type": "display_data"
    },
    {
     "name": "stdout",
     "output_type": "stream",
     "text": [
      "train: 0.74375 loss: 0.476468591606617\n",
      "train val: 0.6319 loss: 0.556985398465395\n",
      "test: 0.5384 loss: 0.6767604033946991\n",
      "epoch time: 12.46min\n",
      "removing /mnt/d/workspace/clotho/notebooks/checkpoints/stats_v2_lg_8.json\n",
      "removing /mnt/d/workspace/clotho/notebooks/checkpoints/harness_v2_lg_8.pkl\n",
      "best model: /mnt/d/workspace/clotho/notebooks/checkpoints/harness_v2_lg_0.pkl\n",
      "best train: 0.7382\n",
      "best train val: 0.7219\n",
      "best test: 0.6437\n",
      "epoch 10 version: 2\n"
     ]
    },
    {
     "data": {
      "application/vnd.jupyter.widget-view+json": {
       "model_id": "e877aa1922c045a980d034f1481e73c0",
       "version_major": 2,
       "version_minor": 0
      },
      "text/plain": [
       "train:   0%|          | 0/20000 [00:00<?, ?it/s]"
      ]
     },
     "metadata": {},
     "output_type": "display_data"
    },
    {
     "data": {
      "application/vnd.jupyter.widget-view+json": {
       "model_id": "4b732e93f6564db38cf62020b11eb747",
       "version_major": 2,
       "version_minor": 0
      },
      "text/plain": [
       "train val:   0%|          | 0/10000 [00:00<?, ?it/s]"
      ]
     },
     "metadata": {},
     "output_type": "display_data"
    },
    {
     "data": {
      "application/vnd.jupyter.widget-view+json": {
       "model_id": "e7a7f32d5b0148268e57fe869f3444cb",
       "version_major": 2,
       "version_minor": 0
      },
      "text/plain": [
       "test:   0%|          | 0/10000 [00:00<?, ?it/s]"
      ]
     },
     "metadata": {},
     "output_type": "display_data"
    },
    {
     "name": "stdout",
     "output_type": "stream",
     "text": [
      "train: 0.71405 loss: 0.5264103473514319\n",
      "train val: 0.646 loss: 0.600843989121914\n",
      "test: 0.5507 loss: 0.6919250538349152\n",
      "epoch time: 12.49min\n",
      "removing /mnt/d/workspace/clotho/notebooks/checkpoints/stats_v2_lg_9.json\n",
      "removing /mnt/d/workspace/clotho/notebooks/checkpoints/harness_v2_lg_9.pkl\n",
      "best model: /mnt/d/workspace/clotho/notebooks/checkpoints/harness_v2_lg_0.pkl\n",
      "best train: 0.7382\n",
      "best train val: 0.7219\n",
      "best test: 0.6437\n",
      "epoch 11 version: 2\n"
     ]
    },
    {
     "data": {
      "application/vnd.jupyter.widget-view+json": {
       "model_id": "6da3dfa4d0bf441e887392aa1778c4a7",
       "version_major": 2,
       "version_minor": 0
      },
      "text/plain": [
       "train:   0%|          | 0/20000 [00:00<?, ?it/s]"
      ]
     },
     "metadata": {},
     "output_type": "display_data"
    },
    {
     "data": {
      "application/vnd.jupyter.widget-view+json": {
       "model_id": "6a2501f1db724d449cdca7ce533dc728",
       "version_major": 2,
       "version_minor": 0
      },
      "text/plain": [
       "train val:   0%|          | 0/10000 [00:00<?, ?it/s]"
      ]
     },
     "metadata": {},
     "output_type": "display_data"
    },
    {
     "data": {
      "application/vnd.jupyter.widget-view+json": {
       "model_id": "cadbf497f8544e9486903ef4d81479eb",
       "version_major": 2,
       "version_minor": 0
      },
      "text/plain": [
       "test:   0%|          | 0/10000 [00:00<?, ?it/s]"
      ]
     },
     "metadata": {},
     "output_type": "display_data"
    },
    {
     "name": "stdout",
     "output_type": "stream",
     "text": [
      "train: 0.73615 loss: 0.4970443810015917\n",
      "train val: 0.6362 loss: 0.6158906040668487\n",
      "test: 0.5404 loss: 0.7157549296855926\n",
      "epoch time: 12.07min\n",
      "removing /mnt/d/workspace/clotho/notebooks/checkpoints/stats_v2_lg_10.json\n",
      "removing /mnt/d/workspace/clotho/notebooks/checkpoints/harness_v2_lg_10.pkl\n",
      "best model: /mnt/d/workspace/clotho/notebooks/checkpoints/harness_v2_lg_0.pkl\n",
      "best train: 0.7382\n",
      "best train val: 0.7219\n",
      "best test: 0.6437\n",
      "epoch 12 version: 2\n"
     ]
    },
    {
     "data": {
      "application/vnd.jupyter.widget-view+json": {
       "model_id": "5ea3de109c634891a4d91d5c92bf4268",
       "version_major": 2,
       "version_minor": 0
      },
      "text/plain": [
       "train:   0%|          | 0/20000 [00:00<?, ?it/s]"
      ]
     },
     "metadata": {},
     "output_type": "display_data"
    },
    {
     "data": {
      "application/vnd.jupyter.widget-view+json": {
       "model_id": "6b19e8d235984433b5223b7ecde65c81",
       "version_major": 2,
       "version_minor": 0
      },
      "text/plain": [
       "train val:   0%|          | 0/10000 [00:00<?, ?it/s]"
      ]
     },
     "metadata": {},
     "output_type": "display_data"
    },
    {
     "data": {
      "application/vnd.jupyter.widget-view+json": {
       "model_id": "6ad8dee9e28b40a4a4f1faca46283195",
       "version_major": 2,
       "version_minor": 0
      },
      "text/plain": [
       "test:   0%|          | 0/10000 [00:00<?, ?it/s]"
      ]
     },
     "metadata": {},
     "output_type": "display_data"
    },
    {
     "name": "stdout",
     "output_type": "stream",
     "text": [
      "train: 0.73605 loss: 0.4852493601769209\n",
      "train val: 0.6316 loss: 0.5621234013736248\n",
      "test: 0.5102 loss: 0.6946030510425567\n",
      "epoch time: 12.03min\n",
      "removing /mnt/d/workspace/clotho/notebooks/checkpoints/stats_v2_lg_11.json\n",
      "removing /mnt/d/workspace/clotho/notebooks/checkpoints/harness_v2_lg_11.pkl\n",
      "best model: /mnt/d/workspace/clotho/notebooks/checkpoints/harness_v2_lg_0.pkl\n",
      "best train: 0.7382\n",
      "best train val: 0.7219\n",
      "best test: 0.6437\n",
      "epoch 13 version: 2\n"
     ]
    },
    {
     "data": {
      "application/vnd.jupyter.widget-view+json": {
       "model_id": "b90ddcc021e94b2e825c6b229c8dbd47",
       "version_major": 2,
       "version_minor": 0
      },
      "text/plain": [
       "train:   0%|          | 0/20000 [00:00<?, ?it/s]"
      ]
     },
     "metadata": {},
     "output_type": "display_data"
    },
    {
     "data": {
      "application/vnd.jupyter.widget-view+json": {
       "model_id": "7d11351be8f44a2dbcc0339e3d500b2e",
       "version_major": 2,
       "version_minor": 0
      },
      "text/plain": [
       "train val:   0%|          | 0/10000 [00:00<?, ?it/s]"
      ]
     },
     "metadata": {},
     "output_type": "display_data"
    },
    {
     "data": {
      "application/vnd.jupyter.widget-view+json": {
       "model_id": "0f2d145b78ad4c56bba401a155e580d8",
       "version_major": 2,
       "version_minor": 0
      },
      "text/plain": [
       "test:   0%|          | 0/10000 [00:00<?, ?it/s]"
      ]
     },
     "metadata": {},
     "output_type": "display_data"
    },
    {
     "name": "stdout",
     "output_type": "stream",
     "text": [
      "train: 0.71 loss: 0.5411568253099919\n",
      "train val: 0.6672 loss: 0.5711875532388687\n",
      "test: 0.5403 loss: 0.6978048977971077\n",
      "epoch time: 12.18min\n",
      "removing /mnt/d/workspace/clotho/notebooks/checkpoints/stats_v2_lg_12.json\n",
      "removing /mnt/d/workspace/clotho/notebooks/checkpoints/harness_v2_lg_12.pkl\n",
      "best model: /mnt/d/workspace/clotho/notebooks/checkpoints/harness_v2_lg_0.pkl\n",
      "best train: 0.7382\n",
      "best train val: 0.7219\n",
      "best test: 0.6437\n",
      "epoch 14 version: 2\n"
     ]
    },
    {
     "data": {
      "application/vnd.jupyter.widget-view+json": {
       "model_id": "6de89d9589ad443aa33d21edc2d4cff9",
       "version_major": 2,
       "version_minor": 0
      },
      "text/plain": [
       "train:   0%|          | 0/20000 [00:00<?, ?it/s]"
      ]
     },
     "metadata": {},
     "output_type": "display_data"
    },
    {
     "data": {
      "application/vnd.jupyter.widget-view+json": {
       "model_id": "835ec5434c204d5b9f392d7a5caa80be",
       "version_major": 2,
       "version_minor": 0
      },
      "text/plain": [
       "train val:   0%|          | 0/10000 [00:00<?, ?it/s]"
      ]
     },
     "metadata": {},
     "output_type": "display_data"
    },
    {
     "data": {
      "application/vnd.jupyter.widget-view+json": {
       "model_id": "eb3c366f059049eaa54d384f4687d3d2",
       "version_major": 2,
       "version_minor": 0
      },
      "text/plain": [
       "test:   0%|          | 0/10000 [00:00<?, ?it/s]"
      ]
     },
     "metadata": {},
     "output_type": "display_data"
    },
    {
     "name": "stdout",
     "output_type": "stream",
     "text": [
      "train: 0.6893 loss: 0.553735734051466\n",
      "train val: 0.6381 loss: 0.6145506540060043\n",
      "test: 0.496 loss: 0.7237619694590569\n",
      "epoch time: 12.24min\n",
      "removing /mnt/d/workspace/clotho/notebooks/checkpoints/stats_v2_lg_7.json\n",
      "removing /mnt/d/workspace/clotho/notebooks/checkpoints/harness_v2_lg_7.pkl\n",
      "best model: /mnt/d/workspace/clotho/notebooks/checkpoints/harness_v2_lg_0.pkl\n",
      "best train: 0.7382\n",
      "best train val: 0.7219\n",
      "best test: 0.6437\n",
      "epoch 15 version: 2\n"
     ]
    },
    {
     "data": {
      "application/vnd.jupyter.widget-view+json": {
       "model_id": "426a6f01f433441b89033c651c4f1c16",
       "version_major": 2,
       "version_minor": 0
      },
      "text/plain": [
       "train:   0%|          | 0/20000 [00:00<?, ?it/s]"
      ]
     },
     "metadata": {},
     "output_type": "display_data"
    },
    {
     "data": {
      "application/vnd.jupyter.widget-view+json": {
       "model_id": "5cc85d44fd6c496090f4541d14751708",
       "version_major": 2,
       "version_minor": 0
      },
      "text/plain": [
       "train val:   0%|          | 0/10000 [00:00<?, ?it/s]"
      ]
     },
     "metadata": {},
     "output_type": "display_data"
    },
    {
     "data": {
      "application/vnd.jupyter.widget-view+json": {
       "model_id": "fd671f516afa4984972cca20c5ed1f97",
       "version_major": 2,
       "version_minor": 0
      },
      "text/plain": [
       "test:   0%|          | 0/10000 [00:00<?, ?it/s]"
      ]
     },
     "metadata": {},
     "output_type": "display_data"
    },
    {
     "name": "stdout",
     "output_type": "stream",
     "text": [
      "train: 0.68445 loss: 0.5621690855115652\n",
      "train val: 0.6618 loss: 0.5948223791122437\n",
      "test: 0.5388 loss: 0.7124242303788662\n",
      "epoch time: 12.51min\n",
      "removing /mnt/d/workspace/clotho/notebooks/checkpoints/stats_v2_lg_14.json\n",
      "removing /mnt/d/workspace/clotho/notebooks/checkpoints/harness_v2_lg_14.pkl\n",
      "best model: /mnt/d/workspace/clotho/notebooks/checkpoints/harness_v2_lg_0.pkl\n",
      "best train: 0.7382\n",
      "best train val: 0.7219\n",
      "best test: 0.6437\n",
      "epoch 16 version: 2\n"
     ]
    },
    {
     "data": {
      "application/vnd.jupyter.widget-view+json": {
       "model_id": "5047f814f7d64ae1a35fe6cc7c398263",
       "version_major": 2,
       "version_minor": 0
      },
      "text/plain": [
       "train:   0%|          | 0/20000 [00:00<?, ?it/s]"
      ]
     },
     "metadata": {},
     "output_type": "display_data"
    },
    {
     "data": {
      "application/vnd.jupyter.widget-view+json": {
       "model_id": "e40bab3e330545e0aced799dc005ccf6",
       "version_major": 2,
       "version_minor": 0
      },
      "text/plain": [
       "train val:   0%|          | 0/10000 [00:00<?, ?it/s]"
      ]
     },
     "metadata": {},
     "output_type": "display_data"
    },
    {
     "data": {
      "application/vnd.jupyter.widget-view+json": {
       "model_id": "d4bd0f878b504fdc995a7711123d22fe",
       "version_major": 2,
       "version_minor": 0
      },
      "text/plain": [
       "test:   0%|          | 0/10000 [00:00<?, ?it/s]"
      ]
     },
     "metadata": {},
     "output_type": "display_data"
    },
    {
     "name": "stdout",
     "output_type": "stream",
     "text": [
      "train: 0.6664 loss: 0.5518452081650496\n",
      "train val: 0.6476 loss: 0.5717746386408806\n",
      "test: 0.5586 loss: 0.6970139467477798\n",
      "epoch time: 11.87min\n",
      "removing /mnt/d/workspace/clotho/notebooks/checkpoints/stats_v2_lg_15.json\n",
      "removing /mnt/d/workspace/clotho/notebooks/checkpoints/harness_v2_lg_15.pkl\n",
      "best model: /mnt/d/workspace/clotho/notebooks/checkpoints/harness_v2_lg_0.pkl\n",
      "best train: 0.7382\n",
      "best train val: 0.7219\n",
      "best test: 0.6437\n",
      "epoch 17 version: 2\n"
     ]
    },
    {
     "data": {
      "application/vnd.jupyter.widget-view+json": {
       "model_id": "406dd45845fa49c8b45bad2a1efde662",
       "version_major": 2,
       "version_minor": 0
      },
      "text/plain": [
       "train:   0%|          | 0/20000 [00:00<?, ?it/s]"
      ]
     },
     "metadata": {},
     "output_type": "display_data"
    },
    {
     "data": {
      "application/vnd.jupyter.widget-view+json": {
       "model_id": "d60880d89264458981bd9207b4150da3",
       "version_major": 2,
       "version_minor": 0
      },
      "text/plain": [
       "train val:   0%|          | 0/10000 [00:00<?, ?it/s]"
      ]
     },
     "metadata": {},
     "output_type": "display_data"
    },
    {
     "data": {
      "application/vnd.jupyter.widget-view+json": {
       "model_id": "342dc08921364192a4c34412eb62901b",
       "version_major": 2,
       "version_minor": 0
      },
      "text/plain": [
       "test:   0%|          | 0/10000 [00:00<?, ?it/s]"
      ]
     },
     "metadata": {},
     "output_type": "display_data"
    },
    {
     "name": "stdout",
     "output_type": "stream",
     "text": [
      "train: 0.70355 loss: 0.5424724908173084\n",
      "train val: 0.6623 loss: 0.5956092210650444\n",
      "test: 0.5647 loss: 0.7070258922219277\n",
      "epoch time: 12.52min\n",
      "removing /mnt/d/workspace/clotho/notebooks/checkpoints/stats_v2_lg_16.json\n",
      "removing /mnt/d/workspace/clotho/notebooks/checkpoints/harness_v2_lg_16.pkl\n",
      "best model: /mnt/d/workspace/clotho/notebooks/checkpoints/harness_v2_lg_0.pkl\n",
      "best train: 0.7382\n",
      "best train val: 0.7219\n",
      "best test: 0.6437\n",
      "epoch 18 version: 2\n"
     ]
    },
    {
     "data": {
      "application/vnd.jupyter.widget-view+json": {
       "model_id": "e99c7f89e12a4952bc50f46a1e5cae2f",
       "version_major": 2,
       "version_minor": 0
      },
      "text/plain": [
       "train:   0%|          | 0/20000 [00:00<?, ?it/s]"
      ]
     },
     "metadata": {},
     "output_type": "display_data"
    },
    {
     "data": {
      "application/vnd.jupyter.widget-view+json": {
       "model_id": "0f7b41ed67904eb3a03d2003e54c66c2",
       "version_major": 2,
       "version_minor": 0
      },
      "text/plain": [
       "train val:   0%|          | 0/10000 [00:00<?, ?it/s]"
      ]
     },
     "metadata": {},
     "output_type": "display_data"
    },
    {
     "data": {
      "application/vnd.jupyter.widget-view+json": {
       "model_id": "6ec74cadd64f482b9fa884fb60c9aca7",
       "version_major": 2,
       "version_minor": 0
      },
      "text/plain": [
       "test:   0%|          | 0/10000 [00:00<?, ?it/s]"
      ]
     },
     "metadata": {},
     "output_type": "display_data"
    },
    {
     "name": "stdout",
     "output_type": "stream",
     "text": [
      "train: 0.72 loss: 0.5346715016037226\n",
      "train val: 0.6609 loss: 0.5765202501952649\n",
      "test: 0.5314 loss: 0.7025192899823188\n",
      "epoch time: 12.16min\n",
      "removing /mnt/d/workspace/clotho/notebooks/checkpoints/stats_v2_lg_17.json\n",
      "removing /mnt/d/workspace/clotho/notebooks/checkpoints/harness_v2_lg_17.pkl\n",
      "best model: /mnt/d/workspace/clotho/notebooks/checkpoints/harness_v2_lg_0.pkl\n",
      "best train: 0.7382\n",
      "best train val: 0.7219\n",
      "best test: 0.6437\n",
      "epoch 19 version: 2\n"
     ]
    },
    {
     "data": {
      "application/vnd.jupyter.widget-view+json": {
       "model_id": "c69d3217d23a4aab807b919e0ae36e70",
       "version_major": 2,
       "version_minor": 0
      },
      "text/plain": [
       "train:   0%|          | 0/20000 [00:00<?, ?it/s]"
      ]
     },
     "metadata": {},
     "output_type": "display_data"
    },
    {
     "data": {
      "application/vnd.jupyter.widget-view+json": {
       "model_id": "fa0047644c7b4f0bb6e60b5586dbe9f8",
       "version_major": 2,
       "version_minor": 0
      },
      "text/plain": [
       "train val:   0%|          | 0/10000 [00:00<?, ?it/s]"
      ]
     },
     "metadata": {},
     "output_type": "display_data"
    },
    {
     "data": {
      "application/vnd.jupyter.widget-view+json": {
       "model_id": "9af72e1b9ce94b8bacb1ca68b6ff5626",
       "version_major": 2,
       "version_minor": 0
      },
      "text/plain": [
       "test:   0%|          | 0/10000 [00:00<?, ?it/s]"
      ]
     },
     "metadata": {},
     "output_type": "display_data"
    },
    {
     "name": "stdout",
     "output_type": "stream",
     "text": [
      "train: 0.72485 loss: 0.5216017502844333\n",
      "train val: 0.6671 loss: 0.5780805082082748\n",
      "test: 0.532 loss: 0.7117546213388443\n",
      "epoch time: 12.07min\n",
      "removing /mnt/d/workspace/clotho/notebooks/checkpoints/stats_v2_lg_18.json\n",
      "removing /mnt/d/workspace/clotho/notebooks/checkpoints/harness_v2_lg_18.pkl\n",
      "best model: /mnt/d/workspace/clotho/notebooks/checkpoints/harness_v2_lg_0.pkl\n",
      "best train: 0.7382\n",
      "best train val: 0.7219\n",
      "best test: 0.6437\n",
      "epoch 20 version: 2\n"
     ]
    },
    {
     "data": {
      "application/vnd.jupyter.widget-view+json": {
       "model_id": "d35de25b5b0c4c9c95a68bf1a3009c7a",
       "version_major": 2,
       "version_minor": 0
      },
      "text/plain": [
       "train:   0%|          | 0/20000 [00:00<?, ?it/s]"
      ]
     },
     "metadata": {},
     "output_type": "display_data"
    },
    {
     "data": {
      "application/vnd.jupyter.widget-view+json": {
       "model_id": "b556ced9464945c08a22243b7bb3985a",
       "version_major": 2,
       "version_minor": 0
      },
      "text/plain": [
       "train val:   0%|          | 0/10000 [00:00<?, ?it/s]"
      ]
     },
     "metadata": {},
     "output_type": "display_data"
    },
    {
     "data": {
      "application/vnd.jupyter.widget-view+json": {
       "model_id": "d4b467b9ea58464cb2cddde6e9a9b6c2",
       "version_major": 2,
       "version_minor": 0
      },
      "text/plain": [
       "test:   0%|          | 0/10000 [00:00<?, ?it/s]"
      ]
     },
     "metadata": {},
     "output_type": "display_data"
    },
    {
     "name": "stdout",
     "output_type": "stream",
     "text": [
      "train: 0.72425 loss: 0.5179894398450852\n",
      "train val: 0.6062 loss: 0.6023272743463516\n",
      "test: 0.5008 loss: 0.730035565173626\n",
      "epoch time: 12.44min\n",
      "removing /mnt/d/workspace/clotho/notebooks/checkpoints/stats_v2_lg_19.json\n",
      "removing /mnt/d/workspace/clotho/notebooks/checkpoints/harness_v2_lg_19.pkl\n",
      "best model: /mnt/d/workspace/clotho/notebooks/checkpoints/harness_v2_lg_0.pkl\n",
      "best train: 0.7382\n",
      "best train val: 0.7219\n",
      "best test: 0.6437\n",
      "epoch 21 version: 2\n"
     ]
    },
    {
     "data": {
      "application/vnd.jupyter.widget-view+json": {
       "model_id": "d352647f77884a65b7e26bbf917dcaa1",
       "version_major": 2,
       "version_minor": 0
      },
      "text/plain": [
       "train:   0%|          | 0/20000 [00:00<?, ?it/s]"
      ]
     },
     "metadata": {},
     "output_type": "display_data"
    },
    {
     "data": {
      "application/vnd.jupyter.widget-view+json": {
       "model_id": "5a71cc79f5994de584c7b9d3299fc899",
       "version_major": 2,
       "version_minor": 0
      },
      "text/plain": [
       "train val:   0%|          | 0/10000 [00:00<?, ?it/s]"
      ]
     },
     "metadata": {},
     "output_type": "display_data"
    },
    {
     "data": {
      "application/vnd.jupyter.widget-view+json": {
       "model_id": "dc9c1e231c98401ba359fd0c01153290",
       "version_major": 2,
       "version_minor": 0
      },
      "text/plain": [
       "test:   0%|          | 0/10000 [00:00<?, ?it/s]"
      ]
     },
     "metadata": {},
     "output_type": "display_data"
    },
    {
     "name": "stdout",
     "output_type": "stream",
     "text": [
      "train: 0.674 loss: 0.5505021845072507\n",
      "train val: 0.6234 loss: 0.6887335543632507\n",
      "test: 0.5189 loss: 0.6870060274362564\n",
      "epoch time: 12.31min\n",
      "removing /mnt/d/workspace/clotho/notebooks/checkpoints/stats_v2_lg_20.json\n",
      "removing /mnt/d/workspace/clotho/notebooks/checkpoints/harness_v2_lg_20.pkl\n",
      "best model: /mnt/d/workspace/clotho/notebooks/checkpoints/harness_v2_lg_0.pkl\n",
      "best train: 0.7382\n",
      "best train val: 0.7219\n",
      "best test: 0.6437\n",
      "epoch 22 version: 2\n"
     ]
    },
    {
     "data": {
      "application/vnd.jupyter.widget-view+json": {
       "model_id": "4875dd8a684e4cc395b09d0563ab2fee",
       "version_major": 2,
       "version_minor": 0
      },
      "text/plain": [
       "train:   0%|          | 0/20000 [00:00<?, ?it/s]"
      ]
     },
     "metadata": {},
     "output_type": "display_data"
    },
    {
     "data": {
      "application/vnd.jupyter.widget-view+json": {
       "model_id": "962520a3b2574179a733275725bd85a4",
       "version_major": 2,
       "version_minor": 0
      },
      "text/plain": [
       "train val:   0%|          | 0/10000 [00:00<?, ?it/s]"
      ]
     },
     "metadata": {},
     "output_type": "display_data"
    },
    {
     "data": {
      "application/vnd.jupyter.widget-view+json": {
       "model_id": "f7ee2ddc7b404fe0803c917ed87745d9",
       "version_major": 2,
       "version_minor": 0
      },
      "text/plain": [
       "test:   0%|          | 0/10000 [00:00<?, ?it/s]"
      ]
     },
     "metadata": {},
     "output_type": "display_data"
    },
    {
     "name": "stdout",
     "output_type": "stream",
     "text": [
      "train: 0.6258 loss: 0.6275800784528256\n",
      "train val: 0.665 loss: 0.5798922597289086\n",
      "test: 0.5323 loss: 0.7176657816648483\n",
      "epoch time: 12.13min\n",
      "removing /mnt/d/workspace/clotho/notebooks/checkpoints/stats_v2_lg_21.json\n",
      "removing /mnt/d/workspace/clotho/notebooks/checkpoints/harness_v2_lg_21.pkl\n",
      "best model: /mnt/d/workspace/clotho/notebooks/checkpoints/harness_v2_lg_0.pkl\n",
      "best train: 0.7382\n",
      "best train val: 0.7219\n",
      "best test: 0.6437\n",
      "epoch 23 version: 2\n"
     ]
    },
    {
     "data": {
      "application/vnd.jupyter.widget-view+json": {
       "model_id": "a290e8ce836f45aeadbc83823fcee88e",
       "version_major": 2,
       "version_minor": 0
      },
      "text/plain": [
       "train:   0%|          | 0/20000 [00:00<?, ?it/s]"
      ]
     },
     "metadata": {},
     "output_type": "display_data"
    },
    {
     "data": {
      "application/vnd.jupyter.widget-view+json": {
       "model_id": "65a6b7ce339b4c15beccd36663af1f22",
       "version_major": 2,
       "version_minor": 0
      },
      "text/plain": [
       "train val:   0%|          | 0/10000 [00:00<?, ?it/s]"
      ]
     },
     "metadata": {},
     "output_type": "display_data"
    },
    {
     "data": {
      "application/vnd.jupyter.widget-view+json": {
       "model_id": "d35c7191c969435e8dfa4ff3b1ad7ac8",
       "version_major": 2,
       "version_minor": 0
      },
      "text/plain": [
       "test:   0%|          | 0/10000 [00:00<?, ?it/s]"
      ]
     },
     "metadata": {},
     "output_type": "display_data"
    },
    {
     "name": "stdout",
     "output_type": "stream",
     "text": [
      "train: 0.7041 loss: 0.521009984651208\n",
      "train val: 0.6581 loss: 0.6115516387760639\n",
      "test: 0.5403 loss: 0.739108122164011\n",
      "epoch time: 12.30min\n",
      "removing /mnt/d/workspace/clotho/notebooks/checkpoints/stats_v2_lg_22.json\n",
      "removing /mnt/d/workspace/clotho/notebooks/checkpoints/harness_v2_lg_22.pkl\n",
      "best model: /mnt/d/workspace/clotho/notebooks/checkpoints/harness_v2_lg_0.pkl\n",
      "best train: 0.7382\n",
      "best train val: 0.7219\n",
      "best test: 0.6437\n",
      "epoch 24 version: 2\n"
     ]
    },
    {
     "data": {
      "application/vnd.jupyter.widget-view+json": {
       "model_id": "4f36ee5f7ce14040a7e5a42f76b33efb",
       "version_major": 2,
       "version_minor": 0
      },
      "text/plain": [
       "train:   0%|          | 0/20000 [00:00<?, ?it/s]"
      ]
     },
     "metadata": {},
     "output_type": "display_data"
    },
    {
     "data": {
      "application/vnd.jupyter.widget-view+json": {
       "model_id": "47d33a71d795401498e9f51532418485",
       "version_major": 2,
       "version_minor": 0
      },
      "text/plain": [
       "train val:   0%|          | 0/10000 [00:00<?, ?it/s]"
      ]
     },
     "metadata": {},
     "output_type": "display_data"
    },
    {
     "data": {
      "application/vnd.jupyter.widget-view+json": {
       "model_id": "bf48b94c06434c79a5bc8bd95f9fc0c1",
       "version_major": 2,
       "version_minor": 0
      },
      "text/plain": [
       "test:   0%|          | 0/10000 [00:00<?, ?it/s]"
      ]
     },
     "metadata": {},
     "output_type": "display_data"
    },
    {
     "name": "stdout",
     "output_type": "stream",
     "text": [
      "train: 0.69075 loss: 0.5376470417052508\n",
      "train val: 0.6375 loss: 0.573294308423996\n",
      "test: 0.5424 loss: 0.7036630336761475\n",
      "epoch time: 12.05min\n",
      "removing /mnt/d/workspace/clotho/notebooks/checkpoints/stats_v2_lg_23.json\n",
      "removing /mnt/d/workspace/clotho/notebooks/checkpoints/harness_v2_lg_23.pkl\n",
      "best model: /mnt/d/workspace/clotho/notebooks/checkpoints/harness_v2_lg_0.pkl\n",
      "best train: 0.7382\n",
      "best train val: 0.7219\n",
      "best test: 0.6437\n",
      "epoch 25 version: 2\n"
     ]
    },
    {
     "data": {
      "application/vnd.jupyter.widget-view+json": {
       "model_id": "cedb100457b94c75b6d5ffff4607ee4e",
       "version_major": 2,
       "version_minor": 0
      },
      "text/plain": [
       "train:   0%|          | 0/20000 [00:00<?, ?it/s]"
      ]
     },
     "metadata": {},
     "output_type": "display_data"
    },
    {
     "data": {
      "application/vnd.jupyter.widget-view+json": {
       "model_id": "5b510e7b6c414f8091580fe1f609307b",
       "version_major": 2,
       "version_minor": 0
      },
      "text/plain": [
       "train val:   0%|          | 0/10000 [00:00<?, ?it/s]"
      ]
     },
     "metadata": {},
     "output_type": "display_data"
    },
    {
     "data": {
      "application/vnd.jupyter.widget-view+json": {
       "model_id": "c3c4c96200a440c5945f069e7505a693",
       "version_major": 2,
       "version_minor": 0
      },
      "text/plain": [
       "test:   0%|          | 0/10000 [00:00<?, ?it/s]"
      ]
     },
     "metadata": {},
     "output_type": "display_data"
    },
    {
     "name": "stdout",
     "output_type": "stream",
     "text": [
      "train: 0.7173 loss: 0.5006520924389363\n",
      "train val: 0.6684 loss: 0.5739845311641694\n",
      "test: 0.5567 loss: 0.7050605735898018\n",
      "epoch time: 12.41min\n",
      "removing /mnt/d/workspace/clotho/notebooks/checkpoints/stats_v2_lg_24.json\n",
      "removing /mnt/d/workspace/clotho/notebooks/checkpoints/harness_v2_lg_24.pkl\n",
      "best model: /mnt/d/workspace/clotho/notebooks/checkpoints/harness_v2_lg_0.pkl\n",
      "best train: 0.7382\n",
      "best train val: 0.7219\n",
      "best test: 0.6437\n",
      "epoch 26 version: 2\n"
     ]
    },
    {
     "data": {
      "application/vnd.jupyter.widget-view+json": {
       "model_id": "0d202674548f4ff6954c85e08c8a9425",
       "version_major": 2,
       "version_minor": 0
      },
      "text/plain": [
       "train:   0%|          | 0/20000 [00:00<?, ?it/s]"
      ]
     },
     "metadata": {},
     "output_type": "display_data"
    },
    {
     "data": {
      "application/vnd.jupyter.widget-view+json": {
       "model_id": "75948a8992774dde95b238f054804ea0",
       "version_major": 2,
       "version_minor": 0
      },
      "text/plain": [
       "train val:   0%|          | 0/10000 [00:00<?, ?it/s]"
      ]
     },
     "metadata": {},
     "output_type": "display_data"
    },
    {
     "data": {
      "application/vnd.jupyter.widget-view+json": {
       "model_id": "ceac0c12ea504139930cb1dae3abb4d0",
       "version_major": 2,
       "version_minor": 0
      },
      "text/plain": [
       "test:   0%|          | 0/10000 [00:00<?, ?it/s]"
      ]
     },
     "metadata": {},
     "output_type": "display_data"
    },
    {
     "name": "stdout",
     "output_type": "stream",
     "text": [
      "train: 0.70925 loss: 0.5127677287817002\n",
      "train val: 0.4935 loss: 0.6791227298974991\n",
      "test: 0.492 loss: 0.7062642375349999\n",
      "epoch time: 12.25min\n",
      "removing /mnt/d/workspace/clotho/notebooks/checkpoints/stats_v2_lg_13.json\n",
      "removing /mnt/d/workspace/clotho/notebooks/checkpoints/harness_v2_lg_13.pkl\n",
      "best model: /mnt/d/workspace/clotho/notebooks/checkpoints/harness_v2_lg_0.pkl\n",
      "best train: 0.7382\n",
      "best train val: 0.7219\n",
      "best test: 0.6437\n",
      "epoch 27 version: 2\n"
     ]
    },
    {
     "data": {
      "application/vnd.jupyter.widget-view+json": {
       "model_id": "7d7116597c8b4258927e7ceabfb1474d",
       "version_major": 2,
       "version_minor": 0
      },
      "text/plain": [
       "train:   0%|          | 0/20000 [00:00<?, ?it/s]"
      ]
     },
     "metadata": {},
     "output_type": "display_data"
    },
    {
     "data": {
      "application/vnd.jupyter.widget-view+json": {
       "model_id": "2605acc8d1b24608b2c21cbe729762c1",
       "version_major": 2,
       "version_minor": 0
      },
      "text/plain": [
       "train val:   0%|          | 0/10000 [00:00<?, ?it/s]"
      ]
     },
     "metadata": {},
     "output_type": "display_data"
    },
    {
     "data": {
      "application/vnd.jupyter.widget-view+json": {
       "model_id": "9730bf0ce86c4593904e663747829b33",
       "version_major": 2,
       "version_minor": 0
      },
      "text/plain": [
       "test:   0%|          | 0/10000 [00:00<?, ?it/s]"
      ]
     },
     "metadata": {},
     "output_type": "display_data"
    },
    {
     "name": "stdout",
     "output_type": "stream",
     "text": [
      "train: 0.6626 loss: 0.5905535309731961\n",
      "train val: 0.6255 loss: 0.6275408550024033\n",
      "test: 0.4795 loss: 0.8362869766831398\n",
      "epoch time: 12.06min\n",
      "removing /mnt/d/workspace/clotho/notebooks/checkpoints/stats_v2_lg_26.json\n",
      "removing /mnt/d/workspace/clotho/notebooks/checkpoints/harness_v2_lg_26.pkl\n",
      "best model: /mnt/d/workspace/clotho/notebooks/checkpoints/harness_v2_lg_0.pkl\n",
      "best train: 0.7382\n",
      "best train val: 0.7219\n",
      "best test: 0.6437\n",
      "epoch 28 version: 2\n"
     ]
    },
    {
     "data": {
      "application/vnd.jupyter.widget-view+json": {
       "model_id": "f398535763184d3c89336f649825353d",
       "version_major": 2,
       "version_minor": 0
      },
      "text/plain": [
       "train:   0%|          | 0/20000 [00:00<?, ?it/s]"
      ]
     },
     "metadata": {},
     "output_type": "display_data"
    },
    {
     "data": {
      "application/vnd.jupyter.widget-view+json": {
       "model_id": "c4cfca52f6d94caa984e3e476a684e2e",
       "version_major": 2,
       "version_minor": 0
      },
      "text/plain": [
       "train val:   0%|          | 0/10000 [00:00<?, ?it/s]"
      ]
     },
     "metadata": {},
     "output_type": "display_data"
    },
    {
     "data": {
      "application/vnd.jupyter.widget-view+json": {
       "model_id": "5d53531c0db84ba0be64f8d8c68c5e38",
       "version_major": 2,
       "version_minor": 0
      },
      "text/plain": [
       "test:   0%|          | 0/10000 [00:00<?, ?it/s]"
      ]
     },
     "metadata": {},
     "output_type": "display_data"
    },
    {
     "name": "stdout",
     "output_type": "stream",
     "text": [
      "train: 0.7042 loss: 0.5375048423677683\n",
      "train val: 0.6644 loss: 0.5784277902841568\n",
      "test: 0.4971 loss: 0.7197438518762589\n",
      "epoch time: 12.17min\n",
      "removing /mnt/d/workspace/clotho/notebooks/checkpoints/stats_v2_lg_27.json\n",
      "removing /mnt/d/workspace/clotho/notebooks/checkpoints/harness_v2_lg_27.pkl\n",
      "best model: /mnt/d/workspace/clotho/notebooks/checkpoints/harness_v2_lg_0.pkl\n",
      "best train: 0.7382\n",
      "best train val: 0.7219\n",
      "best test: 0.6437\n",
      "epoch 29 version: 2\n"
     ]
    },
    {
     "data": {
      "application/vnd.jupyter.widget-view+json": {
       "model_id": "a54563de1ac444a1b0a1b1a6ec9085bb",
       "version_major": 2,
       "version_minor": 0
      },
      "text/plain": [
       "train:   0%|          | 0/20000 [00:00<?, ?it/s]"
      ]
     },
     "metadata": {},
     "output_type": "display_data"
    },
    {
     "data": {
      "application/vnd.jupyter.widget-view+json": {
       "model_id": "5b0efe616f784867b73f0b4756415be3",
       "version_major": 2,
       "version_minor": 0
      },
      "text/plain": [
       "train val:   0%|          | 0/10000 [00:00<?, ?it/s]"
      ]
     },
     "metadata": {},
     "output_type": "display_data"
    },
    {
     "data": {
      "application/vnd.jupyter.widget-view+json": {
       "model_id": "d3d13f5c9c2f4aa59b9343e7350f7974",
       "version_major": 2,
       "version_minor": 0
      },
      "text/plain": [
       "test:   0%|          | 0/10000 [00:00<?, ?it/s]"
      ]
     },
     "metadata": {},
     "output_type": "display_data"
    },
    {
     "name": "stdout",
     "output_type": "stream",
     "text": [
      "train: 0.72485 loss: 0.5113693304032088\n",
      "train val: 0.6446 loss: 0.5867487464129925\n",
      "test: 0.5313 loss: 0.7140842463970184\n",
      "epoch time: 12.28min\n",
      "removing /mnt/d/workspace/clotho/notebooks/checkpoints/stats_v2_lg_28.json\n",
      "removing /mnt/d/workspace/clotho/notebooks/checkpoints/harness_v2_lg_28.pkl\n",
      "best model: /mnt/d/workspace/clotho/notebooks/checkpoints/harness_v2_lg_0.pkl\n",
      "best train: 0.7382\n",
      "best train val: 0.7219\n",
      "best test: 0.6437\n"
     ]
    },
    {
     "data": {
      "application/vnd.jupyter.widget-view+json": {
       "model_id": "612f1076426446b29232f99e35c23ba0",
       "version_major": 2,
       "version_minor": 0
      },
      "text/plain": [
       "test val:   0%|          | 0/10000 [00:00<?, ?it/s]"
      ]
     },
     "metadata": {},
     "output_type": "display_data"
    },
    {
     "name": "stdout",
     "output_type": "stream",
     "text": [
      "test val: {'accuracy': 0.5348} loss: 0.7052360381543636\n",
      "correct\n"
     ]
    },
    {
     "data": {
      "text/html": [
       "<div>\n",
       "<style scoped>\n",
       "    .dataframe tbody tr th:only-of-type {\n",
       "        vertical-align: middle;\n",
       "    }\n",
       "\n",
       "    .dataframe tbody tr th {\n",
       "        vertical-align: top;\n",
       "    }\n",
       "\n",
       "    .dataframe thead th {\n",
       "        text-align: right;\n",
       "    }\n",
       "</style>\n",
       "<table border=\"1\" class=\"dataframe\">\n",
       "  <thead>\n",
       "    <tr style=\"text-align: right;\">\n",
       "      <th></th>\n",
       "      <th>gen_name</th>\n",
       "      <th>parent_left</th>\n",
       "      <th>child_left</th>\n",
       "      <th>parent_right</th>\n",
       "      <th>child_right</th>\n",
       "      <th>sway_left</th>\n",
       "      <th>sway_right</th>\n",
       "      <th>correct_is_right</th>\n",
       "      <th>logit_left</th>\n",
       "      <th>logit_right</th>\n",
       "      <th>preds</th>\n",
       "      <th>truth</th>\n",
       "    </tr>\n",
       "  </thead>\n",
       "  <tbody>\n",
       "    <tr>\n",
       "      <th>0</th>\n",
       "      <td>!copy--valid;(mtl:20);(sw);(st)</td>\n",
       "      <td>Gonna ride the baloney pony all the way to Was...</td>\n",
       "      <td>I'd literally take the law into my own hands.</td>\n",
       "      <td>I'd literally take the law into my own hands.</td>\n",
       "      <td>Gonna ride the baloney pony all the way to Was...</td>\n",
       "      <td>4.662937e-15</td>\n",
       "      <td>1.000000</td>\n",
       "      <td>True</td>\n",
       "      <td>0.499946</td>\n",
       "      <td>0.500054</td>\n",
       "      <td>1</td>\n",
       "      <td>1</td>\n",
       "    </tr>\n",
       "    <tr>\n",
       "      <th>1</th>\n",
       "      <td>*valid--!copy;(mtl:20);(sw);(st)</td>\n",
       "      <td>Men are still plenty selective about who they ...</td>\n",
       "      <td>Men are selective, as in, they'll select from ...</td>\n",
       "      <td>Men are selective, as in, they'll select from ...</td>\n",
       "      <td>Men are still plenty selective about who they ...</td>\n",
       "      <td>9.998766e-01</td>\n",
       "      <td>0.000123</td>\n",
       "      <td>False</td>\n",
       "      <td>0.529094</td>\n",
       "      <td>0.470906</td>\n",
       "      <td>0</td>\n",
       "      <td>0</td>\n",
       "    </tr>\n",
       "    <tr>\n",
       "      <th>2</th>\n",
       "      <td>random--valid;(sw);(st)</td>\n",
       "      <td>Dungeons and Dragons</td>\n",
       "      <td>Did you see this post a week ago and got jealo...</td>\n",
       "      <td>Question for the men, what's the worst part of...</td>\n",
       "      <td>When sitting wrong on your bike seat and cutti...</td>\n",
       "      <td>1.192029e-01</td>\n",
       "      <td>0.880797</td>\n",
       "      <td>True</td>\n",
       "      <td>0.499985</td>\n",
       "      <td>0.500015</td>\n",
       "      <td>1</td>\n",
       "      <td>1</td>\n",
       "    </tr>\n",
       "    <tr>\n",
       "      <th>3</th>\n",
       "      <td>random--valid;(sw);(st)</td>\n",
       "      <td>I always brush my teeth but need to floss more...</td>\n",
       "      <td>As an american all I can say is: why?</td>\n",
       "      <td>[removed]</td>\n",
       "      <td>User profile checks out. Bet you're on a list ...</td>\n",
       "      <td>1.192029e-01</td>\n",
       "      <td>0.880797</td>\n",
       "      <td>True</td>\n",
       "      <td>0.119820</td>\n",
       "      <td>0.880180</td>\n",
       "      <td>1</td>\n",
       "      <td>1</td>\n",
       "    </tr>\n",
       "    <tr>\n",
       "      <th>0</th>\n",
       "      <td>*valid--random;(sw);(st)</td>\n",
       "      <td>And they taste delicious when chopped into hal...</td>\n",
       "      <td>In Spain/Portugal we also cook them \"a feira\" ...</td>\n",
       "      <td>Seinfeld seems to be the one that paved the wa...</td>\n",
       "      <td>Wiping down gym equipment.</td>\n",
       "      <td>9.933071e-01</td>\n",
       "      <td>0.006693</td>\n",
       "      <td>False</td>\n",
       "      <td>0.734537</td>\n",
       "      <td>0.265463</td>\n",
       "      <td>0</td>\n",
       "      <td>0</td>\n",
       "    </tr>\n",
       "  </tbody>\n",
       "</table>\n",
       "</div>"
      ],
      "text/plain": [
       "                           gen_name  \\\n",
       "0   !copy--valid;(mtl:20);(sw);(st)   \n",
       "1  *valid--!copy;(mtl:20);(sw);(st)   \n",
       "2           random--valid;(sw);(st)   \n",
       "3           random--valid;(sw);(st)   \n",
       "0          *valid--random;(sw);(st)   \n",
       "\n",
       "                                         parent_left  \\\n",
       "0  Gonna ride the baloney pony all the way to Was...   \n",
       "1  Men are still plenty selective about who they ...   \n",
       "2                               Dungeons and Dragons   \n",
       "3  I always brush my teeth but need to floss more...   \n",
       "0  And they taste delicious when chopped into hal...   \n",
       "\n",
       "                                          child_left  \\\n",
       "0      I'd literally take the law into my own hands.   \n",
       "1  Men are selective, as in, they'll select from ...   \n",
       "2  Did you see this post a week ago and got jealo...   \n",
       "3              As an american all I can say is: why?   \n",
       "0  In Spain/Portugal we also cook them \"a feira\" ...   \n",
       "\n",
       "                                        parent_right  \\\n",
       "0      I'd literally take the law into my own hands.   \n",
       "1  Men are selective, as in, they'll select from ...   \n",
       "2  Question for the men, what's the worst part of...   \n",
       "3                                          [removed]   \n",
       "0  Seinfeld seems to be the one that paved the wa...   \n",
       "\n",
       "                                         child_right     sway_left  \\\n",
       "0  Gonna ride the baloney pony all the way to Was...  4.662937e-15   \n",
       "1  Men are still plenty selective about who they ...  9.998766e-01   \n",
       "2  When sitting wrong on your bike seat and cutti...  1.192029e-01   \n",
       "3  User profile checks out. Bet you're on a list ...  1.192029e-01   \n",
       "0                         Wiping down gym equipment.  9.933071e-01   \n",
       "\n",
       "   sway_right  correct_is_right  logit_left  logit_right  preds  truth  \n",
       "0    1.000000              True    0.499946     0.500054      1      1  \n",
       "1    0.000123             False    0.529094     0.470906      0      0  \n",
       "2    0.880797              True    0.499985     0.500015      1      1  \n",
       "3    0.880797              True    0.119820     0.880180      1      1  \n",
       "0    0.006693             False    0.734537     0.265463      0      0  "
      ]
     },
     "metadata": {},
     "output_type": "display_data"
    },
    {
     "name": "stdout",
     "output_type": "stream",
     "text": [
      "incorrect\n"
     ]
    },
    {
     "data": {
      "text/html": [
       "<div>\n",
       "<style scoped>\n",
       "    .dataframe tbody tr th:only-of-type {\n",
       "        vertical-align: middle;\n",
       "    }\n",
       "\n",
       "    .dataframe tbody tr th {\n",
       "        vertical-align: top;\n",
       "    }\n",
       "\n",
       "    .dataframe thead th {\n",
       "        text-align: right;\n",
       "    }\n",
       "</style>\n",
       "<table border=\"1\" class=\"dataframe\">\n",
       "  <thead>\n",
       "    <tr style=\"text-align: right;\">\n",
       "      <th></th>\n",
       "      <th>gen_name</th>\n",
       "      <th>parent_left</th>\n",
       "      <th>child_left</th>\n",
       "      <th>parent_right</th>\n",
       "      <th>child_right</th>\n",
       "      <th>sway_left</th>\n",
       "      <th>sway_right</th>\n",
       "      <th>correct_is_right</th>\n",
       "      <th>logit_left</th>\n",
       "      <th>logit_right</th>\n",
       "      <th>preds</th>\n",
       "      <th>truth</th>\n",
       "    </tr>\n",
       "  </thead>\n",
       "  <tbody>\n",
       "    <tr>\n",
       "      <th>2</th>\n",
       "      <td>*valid--!copy;(sw);(st)</td>\n",
       "      <td>She actually has a song where this is the poin...</td>\n",
       "      <td>Yep, this one came to mind. She is incredible ...</td>\n",
       "      <td>Yep, this one came to mind. She is incredible ...</td>\n",
       "      <td>She actually has a song where this is the poin...</td>\n",
       "      <td>0.997527</td>\n",
       "      <td>0.002473</td>\n",
       "      <td>False</td>\n",
       "      <td>0.430999</td>\n",
       "      <td>0.569001</td>\n",
       "      <td>1</td>\n",
       "      <td>0</td>\n",
       "    </tr>\n",
       "    <tr>\n",
       "      <th>0</th>\n",
       "      <td>random--valid;(mtl:20);(sw);(st)</td>\n",
       "      <td>So that's where it came from albeit it's still...</td>\n",
       "      <td>Yeah that's pretty much what he did. Epstein h...</td>\n",
       "      <td>I work in a kitchen full of men and it's quite...</td>\n",
       "      <td>Tears are for the French</td>\n",
       "      <td>0.000911</td>\n",
       "      <td>0.999089</td>\n",
       "      <td>True</td>\n",
       "      <td>0.500104</td>\n",
       "      <td>0.499896</td>\n",
       "      <td>0</td>\n",
       "      <td>1</td>\n",
       "    </tr>\n",
       "    <tr>\n",
       "      <th>2</th>\n",
       "      <td>*valid--random;(sw);(st)</td>\n",
       "      <td>$5 and I'll never tell him i won as I wouldn't...</td>\n",
       "      <td>Sounds like a plot to a movie lol</td>\n",
       "      <td>The last iteration of them yeah, just thanks t...</td>\n",
       "      <td>Don't throw away your money. When you get paid...</td>\n",
       "      <td>0.880797</td>\n",
       "      <td>0.119203</td>\n",
       "      <td>False</td>\n",
       "      <td>0.499969</td>\n",
       "      <td>0.500031</td>\n",
       "      <td>1</td>\n",
       "      <td>0</td>\n",
       "    </tr>\n",
       "    <tr>\n",
       "      <th>3</th>\n",
       "      <td>*valid--!copy;(mtl:20);(sw);(st)</td>\n",
       "      <td>You can tell I used to be pretty 10 years ago</td>\n",
       "      <td>Felt this in my soul</td>\n",
       "      <td>Felt this in my soul</td>\n",
       "      <td>You can tell I used to be pretty 10 years ago</td>\n",
       "      <td>0.993307</td>\n",
       "      <td>0.006693</td>\n",
       "      <td>False</td>\n",
       "      <td>0.499932</td>\n",
       "      <td>0.500068</td>\n",
       "      <td>1</td>\n",
       "      <td>0</td>\n",
       "    </tr>\n",
       "    <tr>\n",
       "      <th>2</th>\n",
       "      <td>*valid--random;(mtl:20);(sw);(st)</td>\n",
       "      <td>“Repetitive discography” but you don’t even kn...</td>\n",
       "      <td>Are you not comprehending that *I'm* not the o...</td>\n",
       "      <td>Best kept as a fantasy.</td>\n",
       "      <td>*chumbawumba pumping in the background* ROUND 2</td>\n",
       "      <td>0.880797</td>\n",
       "      <td>0.119203</td>\n",
       "      <td>False</td>\n",
       "      <td>0.499981</td>\n",
       "      <td>0.500019</td>\n",
       "      <td>1</td>\n",
       "      <td>0</td>\n",
       "    </tr>\n",
       "  </tbody>\n",
       "</table>\n",
       "</div>"
      ],
      "text/plain": [
       "                            gen_name  \\\n",
       "2            *valid--!copy;(sw);(st)   \n",
       "0   random--valid;(mtl:20);(sw);(st)   \n",
       "2           *valid--random;(sw);(st)   \n",
       "3   *valid--!copy;(mtl:20);(sw);(st)   \n",
       "2  *valid--random;(mtl:20);(sw);(st)   \n",
       "\n",
       "                                         parent_left  \\\n",
       "2  She actually has a song where this is the poin...   \n",
       "0  So that's where it came from albeit it's still...   \n",
       "2  $5 and I'll never tell him i won as I wouldn't...   \n",
       "3      You can tell I used to be pretty 10 years ago   \n",
       "2  “Repetitive discography” but you don’t even kn...   \n",
       "\n",
       "                                          child_left  \\\n",
       "2  Yep, this one came to mind. She is incredible ...   \n",
       "0  Yeah that's pretty much what he did. Epstein h...   \n",
       "2                  Sounds like a plot to a movie lol   \n",
       "3                               Felt this in my soul   \n",
       "2  Are you not comprehending that *I'm* not the o...   \n",
       "\n",
       "                                        parent_right  \\\n",
       "2  Yep, this one came to mind. She is incredible ...   \n",
       "0  I work in a kitchen full of men and it's quite...   \n",
       "2  The last iteration of them yeah, just thanks t...   \n",
       "3                               Felt this in my soul   \n",
       "2                            Best kept as a fantasy.   \n",
       "\n",
       "                                         child_right  sway_left  sway_right  \\\n",
       "2  She actually has a song where this is the poin...   0.997527    0.002473   \n",
       "0                           Tears are for the French   0.000911    0.999089   \n",
       "2  Don't throw away your money. When you get paid...   0.880797    0.119203   \n",
       "3      You can tell I used to be pretty 10 years ago   0.993307    0.006693   \n",
       "2    *chumbawumba pumping in the background* ROUND 2   0.880797    0.119203   \n",
       "\n",
       "   correct_is_right  logit_left  logit_right  preds  truth  \n",
       "2             False    0.430999     0.569001      1      0  \n",
       "0              True    0.500104     0.499896      0      1  \n",
       "2             False    0.499969     0.500031      1      0  \n",
       "3             False    0.499932     0.500068      1      0  \n",
       "2             False    0.499981     0.500019      1      0  "
      ]
     },
     "metadata": {},
     "output_type": "display_data"
    },
    {
     "data": {
      "text/plain": [
       "array([[-0.10982576,  0.13541806, -0.3482886 , ...,  0.25888145,\n",
       "         0.27427363,  0.47009835],\n",
       "       [-0.1098257 ,  0.13541807, -0.34828863, ...,  0.25888148,\n",
       "         0.27427363,  0.47009838],\n",
       "       [-0.10982577,  0.13541804, -0.34828863, ...,  0.25888136,\n",
       "         0.27427363,  0.47009832],\n",
       "       [-0.10982579,  0.1354181 , -0.34828866, ...,  0.25888142,\n",
       "         0.27427366,  0.47009838]], dtype=float32)"
      ]
     },
     "metadata": {},
     "output_type": "display_data"
    },
    {
     "data": {
      "text/plain": [
       "array([[-0.10982579,  0.13541813, -0.34828863, ...,  0.25888142,\n",
       "         0.27427363,  0.47009858],\n",
       "       [-0.10982574,  0.13541807, -0.34828857, ...,  0.25888142,\n",
       "         0.27427357,  0.47009847],\n",
       "       [-0.10982574,  0.13541813, -0.3482885 , ...,  0.2588814 ,\n",
       "         0.27427357,  0.47009847],\n",
       "       [-0.10982577,  0.13541812, -0.3482886 , ...,  0.25888136,\n",
       "         0.27427357,  0.4700985 ]], dtype=float32)"
      ]
     },
     "metadata": {},
     "output_type": "display_data"
    },
    {
     "data": {
      "text/plain": [
       "array([[-0.1098258 ,  0.1354181 , -0.3482885 , ...,  0.2588814 ,\n",
       "         0.2742736 ,  0.47009847],\n",
       "       [-0.10982576,  0.13541815, -0.3482885 , ...,  0.25888136,\n",
       "         0.27427357,  0.4700985 ],\n",
       "       [-0.10982575,  0.13541813, -0.3482885 , ...,  0.25888136,\n",
       "         0.27427363,  0.47009853],\n",
       "       [-0.1098258 ,  0.13541812, -0.34828866, ...,  0.25888148,\n",
       "         0.2742736 ,  0.4700985 ]], dtype=float32)"
      ]
     },
     "metadata": {},
     "output_type": "display_data"
    },
    {
     "data": {
      "text/plain": [
       "array([[-0.10982578,  0.13541807, -0.34828866, ...,  0.25888142,\n",
       "         0.2742736 ,  0.47009838],\n",
       "       [-0.10982575,  0.13541804, -0.3482885 , ...,  0.25888142,\n",
       "         0.27427357,  0.47009835],\n",
       "       [-0.10982575,  0.1354181 , -0.3482885 , ...,  0.25888142,\n",
       "         0.27427357,  0.47009838],\n",
       "       [-0.1098258 ,  0.13541807, -0.3482886 , ...,  0.25888142,\n",
       "         0.27427363,  0.47009838]], dtype=float32)"
      ]
     },
     "metadata": {},
     "output_type": "display_data"
    },
    {
     "data": {
      "text/plain": [
       "array([[-0.1098258 ,  0.13541806, -0.34828866, ...,  0.25888145,\n",
       "         0.27427363,  0.47009838],\n",
       "       [-0.10982575,  0.13541806, -0.3482886 , ...,  0.25888142,\n",
       "         0.27427363,  0.47009832],\n",
       "       [-0.10982575,  0.13541806, -0.34828863, ...,  0.25888136,\n",
       "         0.27427363,  0.4700983 ],\n",
       "       [-0.10982577,  0.13541812, -0.34828863, ...,  0.25888133,\n",
       "         0.2742736 ,  0.4700983 ]], dtype=float32)"
      ]
     },
     "metadata": {},
     "output_type": "display_data"
    },
    {
     "data": {
      "text/plain": [
       "array([[-0.10982582,  0.13541807, -0.3482886 , ...,  0.25888148,\n",
       "         0.27427354,  0.47009838],\n",
       "       [-0.10982582,  0.13541807, -0.34828863, ...,  0.2588814 ,\n",
       "         0.27427354,  0.4700984 ],\n",
       "       [-0.10982575,  0.13541813, -0.34828833, ...,  0.25888124,\n",
       "         0.27427328,  0.47009805],\n",
       "       [-0.10982579,  0.1354181 , -0.34828863, ...,  0.25888145,\n",
       "         0.27427357,  0.4700984 ]], dtype=float32)"
      ]
     },
     "metadata": {},
     "output_type": "display_data"
    },
    {
     "data": {
      "text/plain": [
       "array([[-0.10982575,  0.1354181 , -0.34828848, ...,  0.25888145,\n",
       "         0.27427363,  0.47009838],\n",
       "       [-0.10982577,  0.1354181 , -0.34828863, ...,  0.25888145,\n",
       "         0.27427363,  0.47009838],\n",
       "       [-0.10982579,  0.13541803, -0.34828857, ...,  0.25888148,\n",
       "         0.27427354,  0.47009838],\n",
       "       [-0.10982574,  0.13541815, -0.34828857, ...,  0.25888127,\n",
       "         0.27427354,  0.4700983 ]], dtype=float32)"
      ]
     },
     "metadata": {},
     "output_type": "display_data"
    },
    {
     "data": {
      "text/plain": [
       "array([[-0.10982577,  0.13541806, -0.34828866, ...,  0.2588814 ,\n",
       "         0.2742735 ,  0.4700984 ],\n",
       "       [-0.10982581,  0.13541806, -0.34828863, ...,  0.25888142,\n",
       "         0.27427357,  0.47009847],\n",
       "       [-0.10982582,  0.1354181 , -0.34828866, ...,  0.25888145,\n",
       "         0.2742736 ,  0.4700984 ],\n",
       "       [-0.1098258 ,  0.13541812, -0.34828863, ...,  0.25888142,\n",
       "         0.27427357,  0.47009838]], dtype=float32)"
      ]
     },
     "metadata": {},
     "output_type": "display_data"
    },
    {
     "data": {
      "text/plain": [
       "array([[-0.10982617,  0.13541828, -0.34828892, ...,  0.25888133,\n",
       "         0.27427375,  0.4700983 ],\n",
       "       [-0.10982577,  0.13541807, -0.34828863, ...,  0.25888148,\n",
       "         0.2742736 ,  0.47009838],\n",
       "       [-0.10982577,  0.1354181 , -0.34828863, ...,  0.25888145,\n",
       "         0.27427354,  0.47009835],\n",
       "       [-0.10982577,  0.13541807, -0.34828857, ...,  0.25888145,\n",
       "         0.27427357,  0.4700984 ]], dtype=float32)"
      ]
     },
     "metadata": {},
     "output_type": "display_data"
    },
    {
     "data": {
      "text/plain": [
       "array([[-0.10982578,  0.13541812, -0.34828866, ...,  0.25888145,\n",
       "         0.27427363,  0.4700985 ],\n",
       "       [-0.10982579,  0.1354181 , -0.34828866, ...,  0.25888145,\n",
       "         0.27427363,  0.47009856],\n",
       "       [-0.10982575,  0.13541812, -0.3482885 , ...,  0.25888136,\n",
       "         0.27427357,  0.47009838],\n",
       "       [-0.10982579,  0.13541812, -0.34828857, ...,  0.25888142,\n",
       "         0.2742736 ,  0.4700985 ]], dtype=float32)"
      ]
     },
     "metadata": {},
     "output_type": "display_data"
    },
    {
     "name": "stderr",
     "output_type": "stream",
     "text": [
      "Some weights of the model checkpoint at distilbert-base-uncased were not used when initializing DistilBertModel: ['vocab_transform.bias', 'vocab_projector.bias', 'vocab_transform.weight', 'vocab_layer_norm.bias', 'vocab_layer_norm.weight', 'vocab_projector.weight']\n",
      "- This IS expected if you are initializing DistilBertModel from the checkpoint of a model trained on another task or with another architecture (e.g. initializing a BertForSequenceClassification model from a BertForPreTraining model).\n",
      "- This IS NOT expected if you are initializing DistilBertModel from the checkpoint of a model that you expect to be exactly identical (initializing a BertForSequenceClassification model from a BertForSequenceClassification model).\n",
      "Some weights of the model checkpoint at distilbert-base-uncased were not used when initializing DistilBertModel: ['vocab_transform.bias', 'vocab_projector.bias', 'vocab_transform.weight', 'vocab_layer_norm.bias', 'vocab_layer_norm.weight', 'vocab_projector.weight']\n",
      "- This IS expected if you are initializing DistilBertModel from the checkpoint of a model trained on another task or with another architecture (e.g. initializing a BertForSequenceClassification model from a BertForPreTraining model).\n",
      "- This IS NOT expected if you are initializing DistilBertModel from the checkpoint of a model that you expect to be exactly identical (initializing a BertForSequenceClassification model from a BertForSequenceClassification model).\n"
     ]
    },
    {
     "name": "stdout",
     "output_type": "stream",
     "text": [
      "None 0\n",
      "epoch 0 version: 3\n"
     ]
    },
    {
     "data": {
      "application/vnd.jupyter.widget-view+json": {
       "model_id": "f47df7ef87484cf6a0c50a306c3c6fd4",
       "version_major": 2,
       "version_minor": 0
      },
      "text/plain": [
       "train:   0%|          | 0/20000 [00:00<?, ?it/s]"
      ]
     },
     "metadata": {},
     "output_type": "display_data"
    },
    {
     "data": {
      "application/vnd.jupyter.widget-view+json": {
       "model_id": "f43d442233bb4abd9a44afbaab1630c0",
       "version_major": 2,
       "version_minor": 0
      },
      "text/plain": [
       "train val:   0%|          | 0/10000 [00:00<?, ?it/s]"
      ]
     },
     "metadata": {},
     "output_type": "display_data"
    },
    {
     "data": {
      "application/vnd.jupyter.widget-view+json": {
       "model_id": "66df8890d2204cdab46521b68060ad64",
       "version_major": 2,
       "version_minor": 0
      },
      "text/plain": [
       "test:   0%|          | 0/10000 [00:00<?, ?it/s]"
      ]
     },
     "metadata": {},
     "output_type": "display_data"
    },
    {
     "name": "stdout",
     "output_type": "stream",
     "text": [
      "train: 0.7033 loss: 0.5617496463954449\n",
      "train val: 0.6892 loss: 0.5678591298043728\n",
      "test: 0.6324 loss: 0.6619643114566803\n",
      "epoch time: 12.22min\n",
      "best model: /mnt/d/workspace/clotho/notebooks/checkpoints/harness_v3_lg_0.pkl\n",
      "best train: 0.7033\n",
      "best train val: 0.6892\n",
      "best test: 0.6324\n",
      "epoch 1 version: 3\n"
     ]
    },
    {
     "data": {
      "application/vnd.jupyter.widget-view+json": {
       "model_id": "ddcdaa715a834f5fa8919ce607339260",
       "version_major": 2,
       "version_minor": 0
      },
      "text/plain": [
       "train:   0%|          | 0/20000 [00:00<?, ?it/s]"
      ]
     },
     "metadata": {},
     "output_type": "display_data"
    },
    {
     "data": {
      "application/vnd.jupyter.widget-view+json": {
       "model_id": "ee805c6438a24a269bd787741d9003ab",
       "version_major": 2,
       "version_minor": 0
      },
      "text/plain": [
       "train val:   0%|          | 0/10000 [00:00<?, ?it/s]"
      ]
     },
     "metadata": {},
     "output_type": "display_data"
    },
    {
     "data": {
      "application/vnd.jupyter.widget-view+json": {
       "model_id": "f02ef363dbad49d18ec9f8c8a4790645",
       "version_major": 2,
       "version_minor": 0
      },
      "text/plain": [
       "test:   0%|          | 0/10000 [00:00<?, ?it/s]"
      ]
     },
     "metadata": {},
     "output_type": "display_data"
    },
    {
     "name": "stdout",
     "output_type": "stream",
     "text": [
      "train: 0.7419 loss: 0.5085124225139618\n",
      "train val: 0.6764 loss: 0.5534535784065724\n",
      "test: 0.6031 loss: 0.6642347450375556\n",
      "epoch time: 12.42min\n",
      "best model: /mnt/d/workspace/clotho/notebooks/checkpoints/harness_v3_lg_0.pkl\n",
      "best train: 0.7033\n",
      "best train val: 0.6892\n",
      "best test: 0.6324\n",
      "epoch 2 version: 3\n"
     ]
    },
    {
     "data": {
      "application/vnd.jupyter.widget-view+json": {
       "model_id": "114ddfc51dbf403bb2e4a60ab5d55b1d",
       "version_major": 2,
       "version_minor": 0
      },
      "text/plain": [
       "train:   0%|          | 0/20000 [00:00<?, ?it/s]"
      ]
     },
     "metadata": {},
     "output_type": "display_data"
    },
    {
     "data": {
      "application/vnd.jupyter.widget-view+json": {
       "model_id": "4ffbfaa2bb7b43c182f6423d6384b4f7",
       "version_major": 2,
       "version_minor": 0
      },
      "text/plain": [
       "train val:   0%|          | 0/10000 [00:00<?, ?it/s]"
      ]
     },
     "metadata": {},
     "output_type": "display_data"
    },
    {
     "data": {
      "application/vnd.jupyter.widget-view+json": {
       "model_id": "e97e0b7851a845dd933aff8c8381908a",
       "version_major": 2,
       "version_minor": 0
      },
      "text/plain": [
       "test:   0%|          | 0/10000 [00:00<?, ?it/s]"
      ]
     },
     "metadata": {},
     "output_type": "display_data"
    },
    {
     "name": "stdout",
     "output_type": "stream",
     "text": [
      "train: 0.73585 loss: 0.5102201949387789\n",
      "train val: 0.66 loss: 0.5653609725475311\n",
      "test: 0.5335 loss: 0.6861743380188942\n",
      "epoch time: 12.28min\n",
      "best model: /mnt/d/workspace/clotho/notebooks/checkpoints/harness_v3_lg_0.pkl\n",
      "best train: 0.7033\n",
      "best train val: 0.6892\n",
      "best test: 0.6324\n",
      "epoch 3 version: 3\n"
     ]
    },
    {
     "data": {
      "application/vnd.jupyter.widget-view+json": {
       "model_id": "f19a8aeecb5340199a6d1fe363108f8c",
       "version_major": 2,
       "version_minor": 0
      },
      "text/plain": [
       "train:   0%|          | 0/20000 [00:00<?, ?it/s]"
      ]
     },
     "metadata": {},
     "output_type": "display_data"
    },
    {
     "data": {
      "application/vnd.jupyter.widget-view+json": {
       "model_id": "b626563477d44dfab9120d419be030d1",
       "version_major": 2,
       "version_minor": 0
      },
      "text/plain": [
       "train val:   0%|          | 0/10000 [00:00<?, ?it/s]"
      ]
     },
     "metadata": {},
     "output_type": "display_data"
    },
    {
     "data": {
      "application/vnd.jupyter.widget-view+json": {
       "model_id": "b0ea86c8fc2d40cf910cce69bcce5c3f",
       "version_major": 2,
       "version_minor": 0
      },
      "text/plain": [
       "test:   0%|          | 0/10000 [00:00<?, ?it/s]"
      ]
     },
     "metadata": {},
     "output_type": "display_data"
    },
    {
     "name": "stdout",
     "output_type": "stream",
     "text": [
      "train: 0.64005 loss: 0.5852636605888605\n",
      "train val: 0.5589 loss: 0.6929148038387298\n",
      "test: 0.5185 loss: 0.6930917269945145\n",
      "epoch time: 12.20min\n",
      "best model: /mnt/d/workspace/clotho/notebooks/checkpoints/harness_v3_lg_0.pkl\n",
      "best train: 0.7033\n",
      "best train val: 0.6892\n",
      "best test: 0.6324\n",
      "epoch 4 version: 3\n"
     ]
    },
    {
     "data": {
      "application/vnd.jupyter.widget-view+json": {
       "model_id": "1622154360ff48efb72d9a2f9717419f",
       "version_major": 2,
       "version_minor": 0
      },
      "text/plain": [
       "train:   0%|          | 0/20000 [00:00<?, ?it/s]"
      ]
     },
     "metadata": {},
     "output_type": "display_data"
    },
    {
     "data": {
      "application/vnd.jupyter.widget-view+json": {
       "model_id": "f108f0c5c37747d591d54ad3914fa2d3",
       "version_major": 2,
       "version_minor": 0
      },
      "text/plain": [
       "train val:   0%|          | 0/10000 [00:00<?, ?it/s]"
      ]
     },
     "metadata": {},
     "output_type": "display_data"
    },
    {
     "data": {
      "application/vnd.jupyter.widget-view+json": {
       "model_id": "1422d67540b94bd68e6c3077441639e1",
       "version_major": 2,
       "version_minor": 0
      },
      "text/plain": [
       "test:   0%|          | 0/10000 [00:00<?, ?it/s]"
      ]
     },
     "metadata": {},
     "output_type": "display_data"
    },
    {
     "name": "stdout",
     "output_type": "stream",
     "text": [
      "train: 0.50915 loss: 0.6916855801939964\n",
      "train val: 0.6076 loss: 0.6931371712207794\n",
      "test: 0.4989 loss: 0.6931468685865402\n",
      "epoch time: 12.24min\n",
      "best model: /mnt/d/workspace/clotho/notebooks/checkpoints/harness_v3_lg_0.pkl\n",
      "best train: 0.7033\n",
      "best train val: 0.6892\n",
      "best test: 0.6324\n",
      "epoch 5 version: 3\n"
     ]
    },
    {
     "data": {
      "application/vnd.jupyter.widget-view+json": {
       "model_id": "fdd32da40a5941fe98ff9cb7749cb27d",
       "version_major": 2,
       "version_minor": 0
      },
      "text/plain": [
       "train:   0%|          | 0/20000 [00:00<?, ?it/s]"
      ]
     },
     "metadata": {},
     "output_type": "display_data"
    },
    {
     "data": {
      "application/vnd.jupyter.widget-view+json": {
       "model_id": "31b28f4cf22d44e3aded1da71c60e9d0",
       "version_major": 2,
       "version_minor": 0
      },
      "text/plain": [
       "train val:   0%|          | 0/10000 [00:00<?, ?it/s]"
      ]
     },
     "metadata": {},
     "output_type": "display_data"
    },
    {
     "data": {
      "application/vnd.jupyter.widget-view+json": {
       "model_id": "19cb14e8ea34453899aac7b47c559e3f",
       "version_major": 2,
       "version_minor": 0
      },
      "text/plain": [
       "test:   0%|          | 0/10000 [00:00<?, ?it/s]"
      ]
     },
     "metadata": {},
     "output_type": "display_data"
    },
    {
     "name": "stdout",
     "output_type": "stream",
     "text": [
      "train: 0.5102 loss: 0.6915565792202949\n",
      "train val: 0.4412 loss: 0.6931739897251129\n",
      "test: 0.4479 loss: 0.6931699772119522\n",
      "epoch time: 12.52min\n",
      "best model: /mnt/d/workspace/clotho/notebooks/checkpoints/harness_v3_lg_0.pkl\n",
      "best train: 0.7033\n",
      "best train val: 0.6892\n",
      "best test: 0.6324\n",
      "epoch 6 version: 3\n"
     ]
    },
    {
     "data": {
      "application/vnd.jupyter.widget-view+json": {
       "model_id": "3535fddb523b4de29f9070bcdbeb8370",
       "version_major": 2,
       "version_minor": 0
      },
      "text/plain": [
       "train:   0%|          | 0/20000 [00:00<?, ?it/s]"
      ]
     },
     "metadata": {},
     "output_type": "display_data"
    },
    {
     "data": {
      "application/vnd.jupyter.widget-view+json": {
       "model_id": "15b3120b05a64e38a953f8c9b9f32305",
       "version_major": 2,
       "version_minor": 0
      },
      "text/plain": [
       "train val:   0%|          | 0/10000 [00:00<?, ?it/s]"
      ]
     },
     "metadata": {},
     "output_type": "display_data"
    },
    {
     "data": {
      "application/vnd.jupyter.widget-view+json": {
       "model_id": "8b8ae787c7f04029b131e1c998b2bbc8",
       "version_major": 2,
       "version_minor": 0
      },
      "text/plain": [
       "test:   0%|          | 0/10000 [00:00<?, ?it/s]"
      ]
     },
     "metadata": {},
     "output_type": "display_data"
    },
    {
     "name": "stdout",
     "output_type": "stream",
     "text": [
      "train: 0.5149 loss: 0.6856931548565626\n",
      "train val: 0.6326 loss: 0.6810694022417069\n",
      "test: 0.5572 loss: 0.6877330417394638\n",
      "epoch time: 12.62min\n",
      "removing /mnt/d/workspace/clotho/notebooks/checkpoints/stats_v3_lg_5.json\n",
      "removing /mnt/d/workspace/clotho/notebooks/checkpoints/harness_v3_lg_5.pkl\n",
      "best model: /mnt/d/workspace/clotho/notebooks/checkpoints/harness_v3_lg_0.pkl\n",
      "best train: 0.7033\n",
      "best train val: 0.6892\n",
      "best test: 0.6324\n",
      "epoch 7 version: 3\n"
     ]
    },
    {
     "data": {
      "application/vnd.jupyter.widget-view+json": {
       "model_id": "69f6fde9aeae48cf9f40d285e116f07d",
       "version_major": 2,
       "version_minor": 0
      },
      "text/plain": [
       "train:   0%|          | 0/20000 [00:00<?, ?it/s]"
      ]
     },
     "metadata": {},
     "output_type": "display_data"
    },
    {
     "data": {
      "application/vnd.jupyter.widget-view+json": {
       "model_id": "c6320d4b1f6347ef9d59546376fdf057",
       "version_major": 2,
       "version_minor": 0
      },
      "text/plain": [
       "train val:   0%|          | 0/10000 [00:00<?, ?it/s]"
      ]
     },
     "metadata": {},
     "output_type": "display_data"
    },
    {
     "data": {
      "application/vnd.jupyter.widget-view+json": {
       "model_id": "869640e964ee4d45935b781c3095fcc8",
       "version_major": 2,
       "version_minor": 0
      },
      "text/plain": [
       "test:   0%|          | 0/10000 [00:00<?, ?it/s]"
      ]
     },
     "metadata": {},
     "output_type": "display_data"
    },
    {
     "name": "stdout",
     "output_type": "stream",
     "text": [
      "train: 0.57815 loss: 0.6606382358938455\n",
      "train val: 0.6264 loss: 0.693165477347374\n",
      "test: 0.5127 loss: 0.6931443924427032\n",
      "epoch time: 12.25min\n",
      "removing /mnt/d/workspace/clotho/notebooks/checkpoints/stats_v3_lg_3.json\n",
      "removing /mnt/d/workspace/clotho/notebooks/checkpoints/harness_v3_lg_3.pkl\n",
      "best model: /mnt/d/workspace/clotho/notebooks/checkpoints/harness_v3_lg_0.pkl\n",
      "best train: 0.7033\n",
      "best train val: 0.6892\n",
      "best test: 0.6324\n",
      "epoch 8 version: 3\n"
     ]
    },
    {
     "data": {
      "application/vnd.jupyter.widget-view+json": {
       "model_id": "03963e3818204972bd9458939c0bdc14",
       "version_major": 2,
       "version_minor": 0
      },
      "text/plain": [
       "train:   0%|          | 0/20000 [00:00<?, ?it/s]"
      ]
     },
     "metadata": {},
     "output_type": "display_data"
    },
    {
     "data": {
      "application/vnd.jupyter.widget-view+json": {
       "model_id": "d818b254f6c74480a7a270f8b747b7e7",
       "version_major": 2,
       "version_minor": 0
      },
      "text/plain": [
       "train val:   0%|          | 0/10000 [00:00<?, ?it/s]"
      ]
     },
     "metadata": {},
     "output_type": "display_data"
    },
    {
     "data": {
      "application/vnd.jupyter.widget-view+json": {
       "model_id": "257dcf93433e41cc8f12f301dbecd392",
       "version_major": 2,
       "version_minor": 0
      },
      "text/plain": [
       "test:   0%|          | 0/10000 [00:00<?, ?it/s]"
      ]
     },
     "metadata": {},
     "output_type": "display_data"
    },
    {
     "name": "stdout",
     "output_type": "stream",
     "text": [
      "train: 0.50255 loss: 0.6930046233057976\n",
      "train val: 0.4187 loss: 0.6927673726797103\n",
      "test: 0.5288 loss: 0.685167306804657\n",
      "epoch time: 12.29min\n",
      "removing /mnt/d/workspace/clotho/notebooks/checkpoints/stats_v3_lg_4.json\n",
      "removing /mnt/d/workspace/clotho/notebooks/checkpoints/harness_v3_lg_4.pkl\n",
      "best model: /mnt/d/workspace/clotho/notebooks/checkpoints/harness_v3_lg_0.pkl\n",
      "best train: 0.7033\n",
      "best train val: 0.6892\n",
      "best test: 0.6324\n",
      "epoch 9 version: 3\n"
     ]
    },
    {
     "data": {
      "application/vnd.jupyter.widget-view+json": {
       "model_id": "e3d34c31ddd84401b05c56f3f9c99b69",
       "version_major": 2,
       "version_minor": 0
      },
      "text/plain": [
       "train:   0%|          | 0/20000 [00:00<?, ?it/s]"
      ]
     },
     "metadata": {},
     "output_type": "display_data"
    },
    {
     "data": {
      "application/vnd.jupyter.widget-view+json": {
       "model_id": "446c3cb439c74289bb354e247491791e",
       "version_major": 2,
       "version_minor": 0
      },
      "text/plain": [
       "train val:   0%|          | 0/10000 [00:00<?, ?it/s]"
      ]
     },
     "metadata": {},
     "output_type": "display_data"
    },
    {
     "data": {
      "application/vnd.jupyter.widget-view+json": {
       "model_id": "5b0b56d45f0743abaf7cffe0e411df7c",
       "version_major": 2,
       "version_minor": 0
      },
      "text/plain": [
       "test:   0%|          | 0/10000 [00:00<?, ?it/s]"
      ]
     },
     "metadata": {},
     "output_type": "display_data"
    },
    {
     "name": "stdout",
     "output_type": "stream",
     "text": [
      "train: 0.51085 loss: 0.691262641108036\n",
      "train val: 0.4301 loss: 0.6933011065721512\n",
      "test: 0.4978 loss: 0.6930873106002807\n",
      "epoch time: 12.63min\n",
      "removing /mnt/d/workspace/clotho/notebooks/checkpoints/stats_v3_lg_8.json\n",
      "removing /mnt/d/workspace/clotho/notebooks/checkpoints/harness_v3_lg_8.pkl\n",
      "best model: /mnt/d/workspace/clotho/notebooks/checkpoints/harness_v3_lg_0.pkl\n",
      "best train: 0.7033\n",
      "best train val: 0.6892\n",
      "best test: 0.6324\n",
      "epoch 10 version: 3\n"
     ]
    },
    {
     "data": {
      "application/vnd.jupyter.widget-view+json": {
       "model_id": "066b38c6e7ea47fc970632408d06bf7d",
       "version_major": 2,
       "version_minor": 0
      },
      "text/plain": [
       "train:   0%|          | 0/20000 [00:00<?, ?it/s]"
      ]
     },
     "metadata": {},
     "output_type": "display_data"
    },
    {
     "data": {
      "application/vnd.jupyter.widget-view+json": {
       "model_id": "1013c6455de549d2acd974022c8e5ff7",
       "version_major": 2,
       "version_minor": 0
      },
      "text/plain": [
       "train val:   0%|          | 0/10000 [00:00<?, ?it/s]"
      ]
     },
     "metadata": {},
     "output_type": "display_data"
    },
    {
     "data": {
      "application/vnd.jupyter.widget-view+json": {
       "model_id": "80201d817ee0462a88e611e137b93672",
       "version_major": 2,
       "version_minor": 0
      },
      "text/plain": [
       "test:   0%|          | 0/10000 [00:00<?, ?it/s]"
      ]
     },
     "metadata": {},
     "output_type": "display_data"
    },
    {
     "name": "stdout",
     "output_type": "stream",
     "text": [
      "train: 0.49815 loss: 0.69316381534338\n",
      "train val: 0.6636 loss: 0.6931356738328933\n",
      "test: 0.5688 loss: 0.6931432903289795\n",
      "epoch time: 12.23min\n",
      "removing /mnt/d/workspace/clotho/notebooks/checkpoints/stats_v3_lg_9.json\n",
      "removing /mnt/d/workspace/clotho/notebooks/checkpoints/harness_v3_lg_9.pkl\n",
      "best model: /mnt/d/workspace/clotho/notebooks/checkpoints/harness_v3_lg_0.pkl\n",
      "best train: 0.7033\n",
      "best train val: 0.6892\n",
      "best test: 0.6324\n",
      "epoch 11 version: 3\n"
     ]
    },
    {
     "data": {
      "application/vnd.jupyter.widget-view+json": {
       "model_id": "e56b9a0a2a03404c83dbf5ab303f0d95",
       "version_major": 2,
       "version_minor": 0
      },
      "text/plain": [
       "train:   0%|          | 0/20000 [00:00<?, ?it/s]"
      ]
     },
     "metadata": {},
     "output_type": "display_data"
    },
    {
     "data": {
      "application/vnd.jupyter.widget-view+json": {
       "model_id": "d68367bc34104499a08026b1b13b44e0",
       "version_major": 2,
       "version_minor": 0
      },
      "text/plain": [
       "train val:   0%|          | 0/10000 [00:00<?, ?it/s]"
      ]
     },
     "metadata": {},
     "output_type": "display_data"
    },
    {
     "data": {
      "application/vnd.jupyter.widget-view+json": {
       "model_id": "21956c86eba541f69310903b5a27d21e",
       "version_major": 2,
       "version_minor": 0
      },
      "text/plain": [
       "test:   0%|          | 0/10000 [00:00<?, ?it/s]"
      ]
     },
     "metadata": {},
     "output_type": "display_data"
    },
    {
     "name": "stdout",
     "output_type": "stream",
     "text": [
      "train: 0.4966 loss: 0.6931263701915741\n",
      "train val: 0.4975 loss: 0.6931471840381622\n",
      "test: 0.5014 loss: 0.6931471832275391\n",
      "epoch time: 12.38min\n",
      "removing /mnt/d/workspace/clotho/notebooks/checkpoints/stats_v3_lg_7.json\n",
      "removing /mnt/d/workspace/clotho/notebooks/checkpoints/harness_v3_lg_7.pkl\n",
      "best model: /mnt/d/workspace/clotho/notebooks/checkpoints/harness_v3_lg_0.pkl\n",
      "best train: 0.7033\n",
      "best train val: 0.6892\n",
      "best test: 0.6324\n",
      "epoch 12 version: 3\n"
     ]
    },
    {
     "data": {
      "application/vnd.jupyter.widget-view+json": {
       "model_id": "c43889bb58574356bf72307c36eb1192",
       "version_major": 2,
       "version_minor": 0
      },
      "text/plain": [
       "train:   0%|          | 0/20000 [00:00<?, ?it/s]"
      ]
     },
     "metadata": {},
     "output_type": "display_data"
    },
    {
     "data": {
      "application/vnd.jupyter.widget-view+json": {
       "model_id": "77c3b33c6144410a8fa7664f9ab5cd5b",
       "version_major": 2,
       "version_minor": 0
      },
      "text/plain": [
       "train val:   0%|          | 0/10000 [00:00<?, ?it/s]"
      ]
     },
     "metadata": {},
     "output_type": "display_data"
    },
    {
     "data": {
      "application/vnd.jupyter.widget-view+json": {
       "model_id": "c9a1a98ad00c490d985bd42cd9843af2",
       "version_major": 2,
       "version_minor": 0
      },
      "text/plain": [
       "test:   0%|          | 0/10000 [00:00<?, ?it/s]"
      ]
     },
     "metadata": {},
     "output_type": "display_data"
    },
    {
     "name": "stdout",
     "output_type": "stream",
     "text": [
      "train: 0.49845 loss: 0.6934263385772705\n",
      "train val: 0.6239 loss: 0.6931465582847596\n",
      "test: 0.5858 loss: 0.6931467081785202\n",
      "epoch time: 12.50min\n",
      "removing /mnt/d/workspace/clotho/notebooks/checkpoints/stats_v3_lg_11.json\n",
      "removing /mnt/d/workspace/clotho/notebooks/checkpoints/harness_v3_lg_11.pkl\n",
      "best model: /mnt/d/workspace/clotho/notebooks/checkpoints/harness_v3_lg_0.pkl\n",
      "best train: 0.7033\n",
      "best train val: 0.6892\n",
      "best test: 0.6324\n",
      "epoch 13 version: 3\n"
     ]
    },
    {
     "data": {
      "application/vnd.jupyter.widget-view+json": {
       "model_id": "2f0d838d2d3d4efea480250d413086b3",
       "version_major": 2,
       "version_minor": 0
      },
      "text/plain": [
       "train:   0%|          | 0/20000 [00:00<?, ?it/s]"
      ]
     },
     "metadata": {},
     "output_type": "display_data"
    },
    {
     "data": {
      "application/vnd.jupyter.widget-view+json": {
       "model_id": "c52783ffb44c4f6abff87a88c8d17a8a",
       "version_major": 2,
       "version_minor": 0
      },
      "text/plain": [
       "train val:   0%|          | 0/10000 [00:00<?, ?it/s]"
      ]
     },
     "metadata": {},
     "output_type": "display_data"
    },
    {
     "data": {
      "application/vnd.jupyter.widget-view+json": {
       "model_id": "beab7c4963774739a3b7f0dc94532986",
       "version_major": 2,
       "version_minor": 0
      },
      "text/plain": [
       "test:   0%|          | 0/10000 [00:00<?, ?it/s]"
      ]
     },
     "metadata": {},
     "output_type": "display_data"
    },
    {
     "name": "stdout",
     "output_type": "stream",
     "text": [
      "train: 0.52725 loss: 0.6846488631904125\n",
      "train val: 0.6393 loss: 0.6645096280932427\n",
      "test: 0.5747 loss: 0.6869184143781663\n",
      "epoch time: 12.36min\n",
      "removing /mnt/d/workspace/clotho/notebooks/checkpoints/stats_v3_lg_12.json\n",
      "removing /mnt/d/workspace/clotho/notebooks/checkpoints/harness_v3_lg_12.pkl\n",
      "best model: /mnt/d/workspace/clotho/notebooks/checkpoints/harness_v3_lg_0.pkl\n",
      "best train: 0.7033\n",
      "best train val: 0.6892\n",
      "best test: 0.6324\n",
      "epoch 14 version: 3\n"
     ]
    },
    {
     "data": {
      "application/vnd.jupyter.widget-view+json": {
       "model_id": "aa68209d09f94439b84ba7de4e295a83",
       "version_major": 2,
       "version_minor": 0
      },
      "text/plain": [
       "train:   0%|          | 0/20000 [00:00<?, ?it/s]"
      ]
     },
     "metadata": {},
     "output_type": "display_data"
    },
    {
     "data": {
      "application/vnd.jupyter.widget-view+json": {
       "model_id": "eb3a9d8a71b34d83acef3eb2ddfd3649",
       "version_major": 2,
       "version_minor": 0
      },
      "text/plain": [
       "train val:   0%|          | 0/10000 [00:00<?, ?it/s]"
      ]
     },
     "metadata": {},
     "output_type": "display_data"
    },
    {
     "data": {
      "application/vnd.jupyter.widget-view+json": {
       "model_id": "205a9b0e6eaf41a88d616234d1db8608",
       "version_major": 2,
       "version_minor": 0
      },
      "text/plain": [
       "test:   0%|          | 0/10000 [00:00<?, ?it/s]"
      ]
     },
     "metadata": {},
     "output_type": "display_data"
    },
    {
     "name": "stdout",
     "output_type": "stream",
     "text": [
      "train: 0.5705 loss: 0.6634780151605606\n",
      "train val: 0.574 loss: 0.6749198101043701\n",
      "test: 0.531 loss: 0.7146374702572823\n",
      "epoch time: 12.59min\n",
      "removing /mnt/d/workspace/clotho/notebooks/checkpoints/stats_v3_lg_6.json\n",
      "removing /mnt/d/workspace/clotho/notebooks/checkpoints/harness_v3_lg_6.pkl\n",
      "best model: /mnt/d/workspace/clotho/notebooks/checkpoints/harness_v3_lg_0.pkl\n",
      "best train: 0.7033\n",
      "best train val: 0.6892\n",
      "best test: 0.6324\n",
      "epoch 15 version: 3\n"
     ]
    },
    {
     "data": {
      "application/vnd.jupyter.widget-view+json": {
       "model_id": "ee4602ad02924db08f1a1b4ad2432d29",
       "version_major": 2,
       "version_minor": 0
      },
      "text/plain": [
       "train:   0%|          | 0/20000 [00:00<?, ?it/s]"
      ]
     },
     "metadata": {},
     "output_type": "display_data"
    },
    {
     "data": {
      "application/vnd.jupyter.widget-view+json": {
       "model_id": "e82461c1b4b445218518af42f541f9b7",
       "version_major": 2,
       "version_minor": 0
      },
      "text/plain": [
       "train val:   0%|          | 0/10000 [00:00<?, ?it/s]"
      ]
     },
     "metadata": {},
     "output_type": "display_data"
    },
    {
     "data": {
      "application/vnd.jupyter.widget-view+json": {
       "model_id": "9498bd16975742aab84cf520da6a464e",
       "version_major": 2,
       "version_minor": 0
      },
      "text/plain": [
       "test:   0%|          | 0/10000 [00:00<?, ?it/s]"
      ]
     },
     "metadata": {},
     "output_type": "display_data"
    },
    {
     "name": "stdout",
     "output_type": "stream",
     "text": [
      "train: 0.5852 loss: 0.6583482306480408\n",
      "train val: 0.5026 loss: 0.6690360897302627\n",
      "test: 0.5134 loss: 0.7075913267374039\n",
      "epoch time: 12.75min\n",
      "removing /mnt/d/workspace/clotho/notebooks/checkpoints/stats_v3_lg_14.json\n",
      "removing /mnt/d/workspace/clotho/notebooks/checkpoints/harness_v3_lg_14.pkl\n",
      "best model: /mnt/d/workspace/clotho/notebooks/checkpoints/harness_v3_lg_0.pkl\n",
      "best train: 0.7033\n",
      "best train val: 0.6892\n",
      "best test: 0.6324\n",
      "epoch 16 version: 3\n"
     ]
    },
    {
     "data": {
      "application/vnd.jupyter.widget-view+json": {
       "model_id": "61d39aaee2594052967ac5d2d162e411",
       "version_major": 2,
       "version_minor": 0
      },
      "text/plain": [
       "train:   0%|          | 0/20000 [00:00<?, ?it/s]"
      ]
     },
     "metadata": {},
     "output_type": "display_data"
    },
    {
     "data": {
      "application/vnd.jupyter.widget-view+json": {
       "model_id": "76d443d9539f40da93e1449536eff1b3",
       "version_major": 2,
       "version_minor": 0
      },
      "text/plain": [
       "train val:   0%|          | 0/10000 [00:00<?, ?it/s]"
      ]
     },
     "metadata": {},
     "output_type": "display_data"
    },
    {
     "data": {
      "application/vnd.jupyter.widget-view+json": {
       "model_id": "53dc6022c2544d29bdce59f3a11485b4",
       "version_major": 2,
       "version_minor": 0
      },
      "text/plain": [
       "test:   0%|          | 0/10000 [00:00<?, ?it/s]"
      ]
     },
     "metadata": {},
     "output_type": "display_data"
    },
    {
     "name": "stdout",
     "output_type": "stream",
     "text": [
      "train: 0.58185 loss: 0.6599824712514877\n",
      "train val: 0.5197 loss: 0.6599380514860154\n",
      "test: 0.4745 loss: 0.7072553661227227\n",
      "epoch time: 12.36min\n",
      "removing /mnt/d/workspace/clotho/notebooks/checkpoints/stats_v3_lg_15.json\n",
      "removing /mnt/d/workspace/clotho/notebooks/checkpoints/harness_v3_lg_15.pkl\n",
      "best model: /mnt/d/workspace/clotho/notebooks/checkpoints/harness_v3_lg_0.pkl\n",
      "best train: 0.7033\n",
      "best train val: 0.6892\n",
      "best test: 0.6324\n",
      "epoch 17 version: 3\n"
     ]
    },
    {
     "data": {
      "application/vnd.jupyter.widget-view+json": {
       "model_id": "b7353dfeabd94edcbae0d6da227fb446",
       "version_major": 2,
       "version_minor": 0
      },
      "text/plain": [
       "train:   0%|          | 0/20000 [00:00<?, ?it/s]"
      ]
     },
     "metadata": {},
     "output_type": "display_data"
    },
    {
     "data": {
      "application/vnd.jupyter.widget-view+json": {
       "model_id": "4f4897472caf4538b999bf5937709f9d",
       "version_major": 2,
       "version_minor": 0
      },
      "text/plain": [
       "train val:   0%|          | 0/10000 [00:00<?, ?it/s]"
      ]
     },
     "metadata": {},
     "output_type": "display_data"
    },
    {
     "data": {
      "application/vnd.jupyter.widget-view+json": {
       "model_id": "9bf3c41ce5db4b8780ca8043e50d8a4a",
       "version_major": 2,
       "version_minor": 0
      },
      "text/plain": [
       "test:   0%|          | 0/10000 [00:00<?, ?it/s]"
      ]
     },
     "metadata": {},
     "output_type": "display_data"
    },
    {
     "name": "stdout",
     "output_type": "stream",
     "text": [
      "train: 0.5028 loss: 0.6926906289517879\n",
      "train val: 0.6223 loss: 0.6929803556442261\n",
      "test: 0.5279 loss: 0.6930851772785187\n",
      "epoch time: 12.70min\n",
      "removing /mnt/d/workspace/clotho/notebooks/checkpoints/stats_v3_lg_16.json\n",
      "removing /mnt/d/workspace/clotho/notebooks/checkpoints/harness_v3_lg_16.pkl\n",
      "best model: /mnt/d/workspace/clotho/notebooks/checkpoints/harness_v3_lg_0.pkl\n",
      "best train: 0.7033\n",
      "best train val: 0.6892\n",
      "best test: 0.6324\n",
      "epoch 18 version: 3\n"
     ]
    },
    {
     "data": {
      "application/vnd.jupyter.widget-view+json": {
       "model_id": "9d6c326887594c35b049781a98b4bc78",
       "version_major": 2,
       "version_minor": 0
      },
      "text/plain": [
       "train:   0%|          | 0/20000 [00:00<?, ?it/s]"
      ]
     },
     "metadata": {},
     "output_type": "display_data"
    },
    {
     "data": {
      "application/vnd.jupyter.widget-view+json": {
       "model_id": "3d0bcac2b1204b39a956dea2234cfedb",
       "version_major": 2,
       "version_minor": 0
      },
      "text/plain": [
       "train val:   0%|          | 0/10000 [00:00<?, ?it/s]"
      ]
     },
     "metadata": {},
     "output_type": "display_data"
    },
    {
     "data": {
      "application/vnd.jupyter.widget-view+json": {
       "model_id": "723d4b2352c04bb0a4eab16583f1115f",
       "version_major": 2,
       "version_minor": 0
      },
      "text/plain": [
       "test:   0%|          | 0/10000 [00:00<?, ?it/s]"
      ]
     },
     "metadata": {},
     "output_type": "display_data"
    },
    {
     "name": "stdout",
     "output_type": "stream",
     "text": [
      "train: 0.51055 loss: 0.6924999232113361\n",
      "train val: 0.6046 loss: 0.6930612421035767\n",
      "test: 0.5004 loss: 0.6931534148454667\n",
      "epoch time: 12.33min\n",
      "removing /mnt/d/workspace/clotho/notebooks/checkpoints/stats_v3_lg_17.json\n",
      "removing /mnt/d/workspace/clotho/notebooks/checkpoints/harness_v3_lg_17.pkl\n",
      "best model: /mnt/d/workspace/clotho/notebooks/checkpoints/harness_v3_lg_0.pkl\n",
      "best train: 0.7033\n",
      "best train val: 0.6892\n",
      "best test: 0.6324\n",
      "epoch 19 version: 3\n"
     ]
    },
    {
     "data": {
      "application/vnd.jupyter.widget-view+json": {
       "model_id": "9156dc92e65e4b9db42992dd43277955",
       "version_major": 2,
       "version_minor": 0
      },
      "text/plain": [
       "train:   0%|          | 0/20000 [00:00<?, ?it/s]"
      ]
     },
     "metadata": {},
     "output_type": "display_data"
    },
    {
     "data": {
      "application/vnd.jupyter.widget-view+json": {
       "model_id": "c0925ead178648ccb3b9a8f2e879b89a",
       "version_major": 2,
       "version_minor": 0
      },
      "text/plain": [
       "train val:   0%|          | 0/10000 [00:00<?, ?it/s]"
      ]
     },
     "metadata": {},
     "output_type": "display_data"
    },
    {
     "data": {
      "application/vnd.jupyter.widget-view+json": {
       "model_id": "7dc48d1c92224a3093b5e71649213fa8",
       "version_major": 2,
       "version_minor": 0
      },
      "text/plain": [
       "test:   0%|          | 0/10000 [00:00<?, ?it/s]"
      ]
     },
     "metadata": {},
     "output_type": "display_data"
    },
    {
     "name": "stdout",
     "output_type": "stream",
     "text": [
      "train: 0.5434 loss: 0.6759001689016819\n",
      "train val: 0.6134 loss: 0.6789492708206176\n",
      "test: 0.5486 loss: 0.686909495317936\n",
      "epoch time: 12.45min\n",
      "removing /mnt/d/workspace/clotho/notebooks/checkpoints/stats_v3_lg_18.json\n",
      "removing /mnt/d/workspace/clotho/notebooks/checkpoints/harness_v3_lg_18.pkl\n",
      "best model: /mnt/d/workspace/clotho/notebooks/checkpoints/harness_v3_lg_0.pkl\n",
      "best train: 0.7033\n",
      "best train val: 0.6892\n",
      "best test: 0.6324\n",
      "epoch 20 version: 3\n"
     ]
    },
    {
     "data": {
      "application/vnd.jupyter.widget-view+json": {
       "model_id": "a295039dc12445f3993697aada429208",
       "version_major": 2,
       "version_minor": 0
      },
      "text/plain": [
       "train:   0%|          | 0/20000 [00:00<?, ?it/s]"
      ]
     },
     "metadata": {},
     "output_type": "display_data"
    },
    {
     "data": {
      "application/vnd.jupyter.widget-view+json": {
       "model_id": "cdff9530a7a049fa91bd3f43475045e1",
       "version_major": 2,
       "version_minor": 0
      },
      "text/plain": [
       "train val:   0%|          | 0/10000 [00:00<?, ?it/s]"
      ]
     },
     "metadata": {},
     "output_type": "display_data"
    },
    {
     "data": {
      "application/vnd.jupyter.widget-view+json": {
       "model_id": "09cb0f3895bd48ed9ca8211ed1298967",
       "version_major": 2,
       "version_minor": 0
      },
      "text/plain": [
       "test:   0%|          | 0/10000 [00:00<?, ?it/s]"
      ]
     },
     "metadata": {},
     "output_type": "display_data"
    },
    {
     "name": "stdout",
     "output_type": "stream",
     "text": [
      "train: 0.5068 loss: 0.6910870630145073\n",
      "train val: 0.6372 loss: 0.6919001587867737\n",
      "test: 0.5473 loss: 0.6917337539672852\n",
      "epoch time: 12.45min\n",
      "removing /mnt/d/workspace/clotho/notebooks/checkpoints/stats_v3_lg_19.json\n",
      "removing /mnt/d/workspace/clotho/notebooks/checkpoints/harness_v3_lg_19.pkl\n",
      "best model: /mnt/d/workspace/clotho/notebooks/checkpoints/harness_v3_lg_0.pkl\n",
      "best train: 0.7033\n",
      "best train val: 0.6892\n",
      "best test: 0.6324\n",
      "epoch 21 version: 3\n"
     ]
    },
    {
     "data": {
      "application/vnd.jupyter.widget-view+json": {
       "model_id": "7cc2c6671f134a5daad121c88ff61c46",
       "version_major": 2,
       "version_minor": 0
      },
      "text/plain": [
       "train:   0%|          | 0/20000 [00:00<?, ?it/s]"
      ]
     },
     "metadata": {},
     "output_type": "display_data"
    },
    {
     "data": {
      "application/vnd.jupyter.widget-view+json": {
       "model_id": "e043999136d74807870550b2245dbfe8",
       "version_major": 2,
       "version_minor": 0
      },
      "text/plain": [
       "train val:   0%|          | 0/10000 [00:00<?, ?it/s]"
      ]
     },
     "metadata": {},
     "output_type": "display_data"
    },
    {
     "data": {
      "application/vnd.jupyter.widget-view+json": {
       "model_id": "c330afcae15c4ab4b37f3c64a6836f6e",
       "version_major": 2,
       "version_minor": 0
      },
      "text/plain": [
       "test:   0%|          | 0/10000 [00:00<?, ?it/s]"
      ]
     },
     "metadata": {},
     "output_type": "display_data"
    },
    {
     "name": "stdout",
     "output_type": "stream",
     "text": [
      "train: 0.59535 loss: 0.6650364360630512\n",
      "train val: 0.6284 loss: 0.6569222520112992\n",
      "test: 0.5377 loss: 0.6923804758429527\n",
      "epoch time: 12.38min\n",
      "removing /mnt/d/workspace/clotho/notebooks/checkpoints/stats_v3_lg_20.json\n",
      "removing /mnt/d/workspace/clotho/notebooks/checkpoints/harness_v3_lg_20.pkl\n",
      "best model: /mnt/d/workspace/clotho/notebooks/checkpoints/harness_v3_lg_0.pkl\n",
      "best train: 0.7033\n",
      "best train val: 0.6892\n",
      "best test: 0.6324\n",
      "epoch 22 version: 3\n"
     ]
    },
    {
     "data": {
      "application/vnd.jupyter.widget-view+json": {
       "model_id": "18cb740c4dc343e88452c8888b906808",
       "version_major": 2,
       "version_minor": 0
      },
      "text/plain": [
       "train:   0%|          | 0/20000 [00:00<?, ?it/s]"
      ]
     },
     "metadata": {},
     "output_type": "display_data"
    },
    {
     "data": {
      "application/vnd.jupyter.widget-view+json": {
       "model_id": "8ba1ddbd8d494b5fb7b08edd92a38f32",
       "version_major": 2,
       "version_minor": 0
      },
      "text/plain": [
       "train val:   0%|          | 0/10000 [00:00<?, ?it/s]"
      ]
     },
     "metadata": {},
     "output_type": "display_data"
    },
    {
     "data": {
      "application/vnd.jupyter.widget-view+json": {
       "model_id": "dc215a26c0d048d380fc0fc70844889d",
       "version_major": 2,
       "version_minor": 0
      },
      "text/plain": [
       "test:   0%|          | 0/10000 [00:00<?, ?it/s]"
      ]
     },
     "metadata": {},
     "output_type": "display_data"
    },
    {
     "name": "stdout",
     "output_type": "stream",
     "text": [
      "train: 0.60145 loss: 0.6624089622735977\n",
      "train val: 0.6348 loss: 0.6567256286859512\n",
      "test: 0.5343 loss: 0.6946913577795029\n",
      "epoch time: 12.70min\n",
      "removing /mnt/d/workspace/clotho/notebooks/checkpoints/stats_v3_lg_21.json\n",
      "removing /mnt/d/workspace/clotho/notebooks/checkpoints/harness_v3_lg_21.pkl\n",
      "best model: /mnt/d/workspace/clotho/notebooks/checkpoints/harness_v3_lg_0.pkl\n",
      "best train: 0.7033\n",
      "best train val: 0.6892\n",
      "best test: 0.6324\n",
      "epoch 23 version: 3\n"
     ]
    },
    {
     "data": {
      "application/vnd.jupyter.widget-view+json": {
       "model_id": "3eaf67b4f73e474dadb689e1f6598b05",
       "version_major": 2,
       "version_minor": 0
      },
      "text/plain": [
       "train:   0%|          | 0/20000 [00:00<?, ?it/s]"
      ]
     },
     "metadata": {},
     "output_type": "display_data"
    },
    {
     "data": {
      "application/vnd.jupyter.widget-view+json": {
       "model_id": "59850005025a463393b427f18468c4e4",
       "version_major": 2,
       "version_minor": 0
      },
      "text/plain": [
       "train val:   0%|          | 0/10000 [00:00<?, ?it/s]"
      ]
     },
     "metadata": {},
     "output_type": "display_data"
    },
    {
     "data": {
      "application/vnd.jupyter.widget-view+json": {
       "model_id": "e0f47bb23b7f4228a0b1cfae4ba36f03",
       "version_major": 2,
       "version_minor": 0
      },
      "text/plain": [
       "test:   0%|          | 0/10000 [00:00<?, ?it/s]"
      ]
     },
     "metadata": {},
     "output_type": "display_data"
    },
    {
     "name": "stdout",
     "output_type": "stream",
     "text": [
      "train: 0.55535 loss: 0.6804445593297481\n",
      "train val: 0.3954 loss: 0.6924059812784195\n",
      "test: 0.5133 loss: 0.6922453813910484\n",
      "epoch time: 12.48min\n",
      "removing /mnt/d/workspace/clotho/notebooks/checkpoints/stats_v3_lg_22.json\n",
      "removing /mnt/d/workspace/clotho/notebooks/checkpoints/harness_v3_lg_22.pkl\n",
      "best model: /mnt/d/workspace/clotho/notebooks/checkpoints/harness_v3_lg_0.pkl\n",
      "best train: 0.7033\n",
      "best train val: 0.6892\n",
      "best test: 0.6324\n",
      "epoch 24 version: 3\n"
     ]
    },
    {
     "data": {
      "application/vnd.jupyter.widget-view+json": {
       "model_id": "54960b971c474284ba4ab9726c781fb9",
       "version_major": 2,
       "version_minor": 0
      },
      "text/plain": [
       "train:   0%|          | 0/20000 [00:00<?, ?it/s]"
      ]
     },
     "metadata": {},
     "output_type": "display_data"
    },
    {
     "data": {
      "application/vnd.jupyter.widget-view+json": {
       "model_id": "0f4e0b4a169948a1804bc105bcd760a4",
       "version_major": 2,
       "version_minor": 0
      },
      "text/plain": [
       "train val:   0%|          | 0/10000 [00:00<?, ?it/s]"
      ]
     },
     "metadata": {},
     "output_type": "display_data"
    },
    {
     "data": {
      "application/vnd.jupyter.widget-view+json": {
       "model_id": "8306c49248a44cb398d58a2414d418b1",
       "version_major": 2,
       "version_minor": 0
      },
      "text/plain": [
       "test:   0%|          | 0/10000 [00:00<?, ?it/s]"
      ]
     },
     "metadata": {},
     "output_type": "display_data"
    },
    {
     "name": "stdout",
     "output_type": "stream",
     "text": [
      "train: 0.52795 loss: 0.689588915258646\n",
      "train val: 0.3752 loss: 0.6937927819490433\n",
      "test: 0.4661 loss: 0.6947247461557389\n",
      "epoch time: 12.81min\n",
      "removing /mnt/d/workspace/clotho/notebooks/checkpoints/stats_v3_lg_23.json\n",
      "removing /mnt/d/workspace/clotho/notebooks/checkpoints/harness_v3_lg_23.pkl\n",
      "best model: /mnt/d/workspace/clotho/notebooks/checkpoints/harness_v3_lg_0.pkl\n",
      "best train: 0.7033\n",
      "best train val: 0.6892\n",
      "best test: 0.6324\n",
      "epoch 25 version: 3\n"
     ]
    },
    {
     "data": {
      "application/vnd.jupyter.widget-view+json": {
       "model_id": "73c13824f30046fdb1c87ebf23f08ebe",
       "version_major": 2,
       "version_minor": 0
      },
      "text/plain": [
       "train:   0%|          | 0/20000 [00:00<?, ?it/s]"
      ]
     },
     "metadata": {},
     "output_type": "display_data"
    },
    {
     "data": {
      "application/vnd.jupyter.widget-view+json": {
       "model_id": "070df528284f4077861ae25e6a73d34a",
       "version_major": 2,
       "version_minor": 0
      },
      "text/plain": [
       "train val:   0%|          | 0/10000 [00:00<?, ?it/s]"
      ]
     },
     "metadata": {},
     "output_type": "display_data"
    },
    {
     "data": {
      "application/vnd.jupyter.widget-view+json": {
       "model_id": "55e49bfa4a3a4b08a08f1e572e2fdfaf",
       "version_major": 2,
       "version_minor": 0
      },
      "text/plain": [
       "test:   0%|          | 0/10000 [00:00<?, ?it/s]"
      ]
     },
     "metadata": {},
     "output_type": "display_data"
    },
    {
     "name": "stdout",
     "output_type": "stream",
     "text": [
      "train: 0.54095 loss: 0.6894388364255428\n",
      "train val: 0.5601 loss: 0.6931441653251648\n",
      "test: 0.4823 loss: 0.6931466552495956\n",
      "epoch time: 12.78min\n",
      "removing /mnt/d/workspace/clotho/notebooks/checkpoints/stats_v3_lg_24.json\n",
      "removing /mnt/d/workspace/clotho/notebooks/checkpoints/harness_v3_lg_24.pkl\n",
      "best model: /mnt/d/workspace/clotho/notebooks/checkpoints/harness_v3_lg_0.pkl\n",
      "best train: 0.7033\n",
      "best train val: 0.6892\n",
      "best test: 0.6324\n",
      "epoch 26 version: 3\n"
     ]
    },
    {
     "data": {
      "application/vnd.jupyter.widget-view+json": {
       "model_id": "30c2a7241b274207ba78a5acbf810836",
       "version_major": 2,
       "version_minor": 0
      },
      "text/plain": [
       "train:   0%|          | 0/20000 [00:00<?, ?it/s]"
      ]
     },
     "metadata": {},
     "output_type": "display_data"
    },
    {
     "data": {
      "application/vnd.jupyter.widget-view+json": {
       "model_id": "8f4ce5c8c8874c50ad3a7e27774947f3",
       "version_major": 2,
       "version_minor": 0
      },
      "text/plain": [
       "train val:   0%|          | 0/10000 [00:00<?, ?it/s]"
      ]
     },
     "metadata": {},
     "output_type": "display_data"
    },
    {
     "data": {
      "application/vnd.jupyter.widget-view+json": {
       "model_id": "6f9813d691fc42bfbbf9549074922745",
       "version_major": 2,
       "version_minor": 0
      },
      "text/plain": [
       "test:   0%|          | 0/10000 [00:00<?, ?it/s]"
      ]
     },
     "metadata": {},
     "output_type": "display_data"
    },
    {
     "name": "stdout",
     "output_type": "stream",
     "text": [
      "train: 0.55155 loss: 0.685929891115427\n",
      "train val: 0.588 loss: 0.6930867851734162\n",
      "test: 0.5018 loss: 0.6931084100723267\n",
      "epoch time: 12.53min\n",
      "removing /mnt/d/workspace/clotho/notebooks/checkpoints/stats_v3_lg_25.json\n",
      "removing /mnt/d/workspace/clotho/notebooks/checkpoints/harness_v3_lg_25.pkl\n",
      "best model: /mnt/d/workspace/clotho/notebooks/checkpoints/harness_v3_lg_0.pkl\n",
      "best train: 0.7033\n",
      "best train val: 0.6892\n",
      "best test: 0.6324\n",
      "epoch 27 version: 3\n"
     ]
    },
    {
     "data": {
      "application/vnd.jupyter.widget-view+json": {
       "model_id": "b41d1355e2e249ea926c342dcb35174b",
       "version_major": 2,
       "version_minor": 0
      },
      "text/plain": [
       "train:   0%|          | 0/20000 [00:00<?, ?it/s]"
      ]
     },
     "metadata": {},
     "output_type": "display_data"
    },
    {
     "data": {
      "application/vnd.jupyter.widget-view+json": {
       "model_id": "5c045270f8bb49379f8b28ea7f2c577b",
       "version_major": 2,
       "version_minor": 0
      },
      "text/plain": [
       "train val:   0%|          | 0/10000 [00:00<?, ?it/s]"
      ]
     },
     "metadata": {},
     "output_type": "display_data"
    },
    {
     "data": {
      "application/vnd.jupyter.widget-view+json": {
       "model_id": "eb838a60a6fc4ac885b15fccf507c355",
       "version_major": 2,
       "version_minor": 0
      },
      "text/plain": [
       "test:   0%|          | 0/10000 [00:00<?, ?it/s]"
      ]
     },
     "metadata": {},
     "output_type": "display_data"
    },
    {
     "name": "stdout",
     "output_type": "stream",
     "text": [
      "train: 0.5614 loss: 0.6801022741258145\n",
      "train val: 0.5858 loss: 0.6924727399587631\n",
      "test: 0.5308 loss: 0.6919081317424775\n",
      "epoch time: 12.40min\n",
      "removing /mnt/d/workspace/clotho/notebooks/checkpoints/stats_v3_lg_26.json\n",
      "removing /mnt/d/workspace/clotho/notebooks/checkpoints/harness_v3_lg_26.pkl\n",
      "best model: /mnt/d/workspace/clotho/notebooks/checkpoints/harness_v3_lg_0.pkl\n",
      "best train: 0.7033\n",
      "best train val: 0.6892\n",
      "best test: 0.6324\n",
      "epoch 28 version: 3\n"
     ]
    },
    {
     "data": {
      "application/vnd.jupyter.widget-view+json": {
       "model_id": "f7d84e20cc7e4e5fab813ba73d7141d2",
       "version_major": 2,
       "version_minor": 0
      },
      "text/plain": [
       "train:   0%|          | 0/20000 [00:00<?, ?it/s]"
      ]
     },
     "metadata": {},
     "output_type": "display_data"
    },
    {
     "data": {
      "application/vnd.jupyter.widget-view+json": {
       "model_id": "bd5d0efd624f47eeaf1afa7fa4937736",
       "version_major": 2,
       "version_minor": 0
      },
      "text/plain": [
       "train val:   0%|          | 0/10000 [00:00<?, ?it/s]"
      ]
     },
     "metadata": {},
     "output_type": "display_data"
    },
    {
     "data": {
      "application/vnd.jupyter.widget-view+json": {
       "model_id": "f9636eac1b16447cb9199ecb63e7ffc3",
       "version_major": 2,
       "version_minor": 0
      },
      "text/plain": [
       "test:   0%|          | 0/10000 [00:00<?, ?it/s]"
      ]
     },
     "metadata": {},
     "output_type": "display_data"
    },
    {
     "name": "stdout",
     "output_type": "stream",
     "text": [
      "train: 0.5958 loss: 0.6656784185826778\n",
      "train val: 0.6329 loss: 0.6854583766818046\n",
      "test: 0.5675 loss: 0.7057419133126736\n",
      "epoch time: 12.38min\n",
      "removing /mnt/d/workspace/clotho/notebooks/checkpoints/stats_v3_lg_27.json\n",
      "removing /mnt/d/workspace/clotho/notebooks/checkpoints/harness_v3_lg_27.pkl\n",
      "best model: /mnt/d/workspace/clotho/notebooks/checkpoints/harness_v3_lg_0.pkl\n",
      "best train: 0.7033\n",
      "best train val: 0.6892\n",
      "best test: 0.6324\n",
      "epoch 29 version: 3\n"
     ]
    },
    {
     "data": {
      "application/vnd.jupyter.widget-view+json": {
       "model_id": "34068af2069f4aa8b09f6ff6f4d430dc",
       "version_major": 2,
       "version_minor": 0
      },
      "text/plain": [
       "train:   0%|          | 0/20000 [00:00<?, ?it/s]"
      ]
     },
     "metadata": {},
     "output_type": "display_data"
    },
    {
     "data": {
      "application/vnd.jupyter.widget-view+json": {
       "model_id": "46f79ae6c9654b529114e9a58e65f012",
       "version_major": 2,
       "version_minor": 0
      },
      "text/plain": [
       "train val:   0%|          | 0/10000 [00:00<?, ?it/s]"
      ]
     },
     "metadata": {},
     "output_type": "display_data"
    },
    {
     "data": {
      "application/vnd.jupyter.widget-view+json": {
       "model_id": "85a4307642e44134a3958dce93808168",
       "version_major": 2,
       "version_minor": 0
      },
      "text/plain": [
       "test:   0%|          | 0/10000 [00:00<?, ?it/s]"
      ]
     },
     "metadata": {},
     "output_type": "display_data"
    },
    {
     "name": "stdout",
     "output_type": "stream",
     "text": [
      "train: 0.65625 loss: 0.5985681997001171\n",
      "train val: 0.654 loss: 0.593029794305563\n",
      "test: 0.5372 loss: 0.6867613129377365\n",
      "epoch time: 12.40min\n",
      "removing /mnt/d/workspace/clotho/notebooks/checkpoints/stats_v3_lg_28.json\n",
      "removing /mnt/d/workspace/clotho/notebooks/checkpoints/harness_v3_lg_28.pkl\n",
      "best model: /mnt/d/workspace/clotho/notebooks/checkpoints/harness_v3_lg_0.pkl\n",
      "best train: 0.7033\n",
      "best train val: 0.6892\n",
      "best test: 0.6324\n"
     ]
    },
    {
     "data": {
      "application/vnd.jupyter.widget-view+json": {
       "model_id": "b3736fe65c5e40868492e938f35896ad",
       "version_major": 2,
       "version_minor": 0
      },
      "text/plain": [
       "test val:   0%|          | 0/10000 [00:00<?, ?it/s]"
      ]
     },
     "metadata": {},
     "output_type": "display_data"
    },
    {
     "name": "stdout",
     "output_type": "stream",
     "text": [
      "test val: {'accuracy': 0.5475} loss: 0.6842035049557685\n",
      "correct\n"
     ]
    },
    {
     "data": {
      "text/html": [
       "<div>\n",
       "<style scoped>\n",
       "    .dataframe tbody tr th:only-of-type {\n",
       "        vertical-align: middle;\n",
       "    }\n",
       "\n",
       "    .dataframe tbody tr th {\n",
       "        vertical-align: top;\n",
       "    }\n",
       "\n",
       "    .dataframe thead th {\n",
       "        text-align: right;\n",
       "    }\n",
       "</style>\n",
       "<table border=\"1\" class=\"dataframe\">\n",
       "  <thead>\n",
       "    <tr style=\"text-align: right;\">\n",
       "      <th></th>\n",
       "      <th>gen_name</th>\n",
       "      <th>parent_left</th>\n",
       "      <th>child_left</th>\n",
       "      <th>parent_right</th>\n",
       "      <th>child_right</th>\n",
       "      <th>sway_left</th>\n",
       "      <th>sway_right</th>\n",
       "      <th>correct_is_right</th>\n",
       "      <th>logit_left</th>\n",
       "      <th>logit_right</th>\n",
       "      <th>preds</th>\n",
       "      <th>truth</th>\n",
       "    </tr>\n",
       "  </thead>\n",
       "  <tbody>\n",
       "    <tr>\n",
       "      <th>1</th>\n",
       "      <td>*valid--!copy;(mtl:20);(sw);(st)</td>\n",
       "      <td>Men are still plenty selective about who they ...</td>\n",
       "      <td>Men are selective, as in, they'll select from ...</td>\n",
       "      <td>Men are selective, as in, they'll select from ...</td>\n",
       "      <td>Men are still plenty selective about who they ...</td>\n",
       "      <td>0.999877</td>\n",
       "      <td>1.233946e-04</td>\n",
       "      <td>False</td>\n",
       "      <td>0.540767</td>\n",
       "      <td>0.459233</td>\n",
       "      <td>0</td>\n",
       "      <td>0</td>\n",
       "    </tr>\n",
       "    <tr>\n",
       "      <th>2</th>\n",
       "      <td>random--valid;(sw);(st)</td>\n",
       "      <td>Dungeons and Dragons</td>\n",
       "      <td>Did you see this post a week ago and got jealo...</td>\n",
       "      <td>Question for the men, what's the worst part of...</td>\n",
       "      <td>When sitting wrong on your bike seat and cutti...</td>\n",
       "      <td>0.119203</td>\n",
       "      <td>8.807971e-01</td>\n",
       "      <td>True</td>\n",
       "      <td>0.319530</td>\n",
       "      <td>0.680470</td>\n",
       "      <td>1</td>\n",
       "      <td>1</td>\n",
       "    </tr>\n",
       "    <tr>\n",
       "      <th>3</th>\n",
       "      <td>random--valid;(sw);(st)</td>\n",
       "      <td>I always brush my teeth but need to floss more...</td>\n",
       "      <td>As an american all I can say is: why?</td>\n",
       "      <td>[removed]</td>\n",
       "      <td>User profile checks out. Bet you're on a list ...</td>\n",
       "      <td>0.119203</td>\n",
       "      <td>8.807971e-01</td>\n",
       "      <td>True</td>\n",
       "      <td>0.237406</td>\n",
       "      <td>0.762594</td>\n",
       "      <td>1</td>\n",
       "      <td>1</td>\n",
       "    </tr>\n",
       "    <tr>\n",
       "      <th>0</th>\n",
       "      <td>*valid--random;(sw);(st)</td>\n",
       "      <td>And they taste delicious when chopped into hal...</td>\n",
       "      <td>In Spain/Portugal we also cook them \"a feira\" ...</td>\n",
       "      <td>Seinfeld seems to be the one that paved the wa...</td>\n",
       "      <td>Wiping down gym equipment.</td>\n",
       "      <td>0.993307</td>\n",
       "      <td>6.692851e-03</td>\n",
       "      <td>False</td>\n",
       "      <td>0.550512</td>\n",
       "      <td>0.449488</td>\n",
       "      <td>0</td>\n",
       "      <td>0</td>\n",
       "    </tr>\n",
       "    <tr>\n",
       "      <th>1</th>\n",
       "      <td>*valid--!copy;(mtl:20);(sw);(st)</td>\n",
       "      <td>Yeah that's a thing. I spend my summer vacatio...</td>\n",
       "      <td>you ever done on going maintenance on a boat? ...</td>\n",
       "      <td>you ever done on going maintenance on a boat? ...</td>\n",
       "      <td>Yeah that's a thing. I spend my summer vacatio...</td>\n",
       "      <td>1.000000</td>\n",
       "      <td>1.562882e-18</td>\n",
       "      <td>False</td>\n",
       "      <td>0.566271</td>\n",
       "      <td>0.433729</td>\n",
       "      <td>0</td>\n",
       "      <td>0</td>\n",
       "    </tr>\n",
       "  </tbody>\n",
       "</table>\n",
       "</div>"
      ],
      "text/plain": [
       "                           gen_name  \\\n",
       "1  *valid--!copy;(mtl:20);(sw);(st)   \n",
       "2           random--valid;(sw);(st)   \n",
       "3           random--valid;(sw);(st)   \n",
       "0          *valid--random;(sw);(st)   \n",
       "1  *valid--!copy;(mtl:20);(sw);(st)   \n",
       "\n",
       "                                         parent_left  \\\n",
       "1  Men are still plenty selective about who they ...   \n",
       "2                               Dungeons and Dragons   \n",
       "3  I always brush my teeth but need to floss more...   \n",
       "0  And they taste delicious when chopped into hal...   \n",
       "1  Yeah that's a thing. I spend my summer vacatio...   \n",
       "\n",
       "                                          child_left  \\\n",
       "1  Men are selective, as in, they'll select from ...   \n",
       "2  Did you see this post a week ago and got jealo...   \n",
       "3              As an american all I can say is: why?   \n",
       "0  In Spain/Portugal we also cook them \"a feira\" ...   \n",
       "1  you ever done on going maintenance on a boat? ...   \n",
       "\n",
       "                                        parent_right  \\\n",
       "1  Men are selective, as in, they'll select from ...   \n",
       "2  Question for the men, what's the worst part of...   \n",
       "3                                          [removed]   \n",
       "0  Seinfeld seems to be the one that paved the wa...   \n",
       "1  you ever done on going maintenance on a boat? ...   \n",
       "\n",
       "                                         child_right  sway_left    sway_right  \\\n",
       "1  Men are still plenty selective about who they ...   0.999877  1.233946e-04   \n",
       "2  When sitting wrong on your bike seat and cutti...   0.119203  8.807971e-01   \n",
       "3  User profile checks out. Bet you're on a list ...   0.119203  8.807971e-01   \n",
       "0                         Wiping down gym equipment.   0.993307  6.692851e-03   \n",
       "1  Yeah that's a thing. I spend my summer vacatio...   1.000000  1.562882e-18   \n",
       "\n",
       "   correct_is_right  logit_left  logit_right  preds  truth  \n",
       "1             False    0.540767     0.459233      0      0  \n",
       "2              True    0.319530     0.680470      1      1  \n",
       "3              True    0.237406     0.762594      1      1  \n",
       "0             False    0.550512     0.449488      0      0  \n",
       "1             False    0.566271     0.433729      0      0  "
      ]
     },
     "metadata": {},
     "output_type": "display_data"
    },
    {
     "name": "stdout",
     "output_type": "stream",
     "text": [
      "incorrect\n"
     ]
    },
    {
     "data": {
      "text/html": [
       "<div>\n",
       "<style scoped>\n",
       "    .dataframe tbody tr th:only-of-type {\n",
       "        vertical-align: middle;\n",
       "    }\n",
       "\n",
       "    .dataframe tbody tr th {\n",
       "        vertical-align: top;\n",
       "    }\n",
       "\n",
       "    .dataframe thead th {\n",
       "        text-align: right;\n",
       "    }\n",
       "</style>\n",
       "<table border=\"1\" class=\"dataframe\">\n",
       "  <thead>\n",
       "    <tr style=\"text-align: right;\">\n",
       "      <th></th>\n",
       "      <th>gen_name</th>\n",
       "      <th>parent_left</th>\n",
       "      <th>child_left</th>\n",
       "      <th>parent_right</th>\n",
       "      <th>child_right</th>\n",
       "      <th>sway_left</th>\n",
       "      <th>sway_right</th>\n",
       "      <th>correct_is_right</th>\n",
       "      <th>logit_left</th>\n",
       "      <th>logit_right</th>\n",
       "      <th>preds</th>\n",
       "      <th>truth</th>\n",
       "    </tr>\n",
       "  </thead>\n",
       "  <tbody>\n",
       "    <tr>\n",
       "      <th>0</th>\n",
       "      <td>!copy--valid;(mtl:20);(sw);(st)</td>\n",
       "      <td>Gonna ride the baloney pony all the way to Was...</td>\n",
       "      <td>I'd literally take the law into my own hands.</td>\n",
       "      <td>I'd literally take the law into my own hands.</td>\n",
       "      <td>Gonna ride the baloney pony all the way to Was...</td>\n",
       "      <td>4.662937e-15</td>\n",
       "      <td>1.000000</td>\n",
       "      <td>True</td>\n",
       "      <td>0.580115</td>\n",
       "      <td>0.419885</td>\n",
       "      <td>0</td>\n",
       "      <td>1</td>\n",
       "    </tr>\n",
       "    <tr>\n",
       "      <th>2</th>\n",
       "      <td>*valid--!copy;(sw);(st)</td>\n",
       "      <td>She actually has a song where this is the poin...</td>\n",
       "      <td>Yep, this one came to mind. She is incredible ...</td>\n",
       "      <td>Yep, this one came to mind. She is incredible ...</td>\n",
       "      <td>She actually has a song where this is the poin...</td>\n",
       "      <td>9.975274e-01</td>\n",
       "      <td>0.002473</td>\n",
       "      <td>False</td>\n",
       "      <td>0.293630</td>\n",
       "      <td>0.706370</td>\n",
       "      <td>1</td>\n",
       "      <td>0</td>\n",
       "    </tr>\n",
       "    <tr>\n",
       "      <th>2</th>\n",
       "      <td>*valid--random;(sw);(st)</td>\n",
       "      <td>$5 and I'll never tell him i won as I wouldn't...</td>\n",
       "      <td>Sounds like a plot to a movie lol</td>\n",
       "      <td>The last iteration of them yeah, just thanks t...</td>\n",
       "      <td>Don't throw away your money. When you get paid...</td>\n",
       "      <td>8.807971e-01</td>\n",
       "      <td>0.119203</td>\n",
       "      <td>False</td>\n",
       "      <td>0.460682</td>\n",
       "      <td>0.539318</td>\n",
       "      <td>1</td>\n",
       "      <td>0</td>\n",
       "    </tr>\n",
       "    <tr>\n",
       "      <th>2</th>\n",
       "      <td>*valid--!copy;(sw);(st)</td>\n",
       "      <td>I called the number at the end of his addictio...</td>\n",
       "      <td>Right. He's the real deal. He will answer his ...</td>\n",
       "      <td>Right. He's the real deal. He will answer his ...</td>\n",
       "      <td>I called the number at the end of his addictio...</td>\n",
       "      <td>1.000000e+00</td>\n",
       "      <td>0.000000</td>\n",
       "      <td>False</td>\n",
       "      <td>0.486756</td>\n",
       "      <td>0.513244</td>\n",
       "      <td>1</td>\n",
       "      <td>0</td>\n",
       "    </tr>\n",
       "    <tr>\n",
       "      <th>0</th>\n",
       "      <td>random--valid;(mtl:20);(sw);(st)</td>\n",
       "      <td>Day-bird aaaAAAAaaaa Fighter of the Night-bird...</td>\n",
       "      <td>Happy endings. Very underrated</td>\n",
       "      <td>You just described my relationship Lol</td>\n",
       "      <td>That doesn't sound healthy, it's not supposed ...</td>\n",
       "      <td>1.798621e-02</td>\n",
       "      <td>0.982014</td>\n",
       "      <td>True</td>\n",
       "      <td>0.640024</td>\n",
       "      <td>0.359976</td>\n",
       "      <td>0</td>\n",
       "      <td>1</td>\n",
       "    </tr>\n",
       "  </tbody>\n",
       "</table>\n",
       "</div>"
      ],
      "text/plain": [
       "                           gen_name  \\\n",
       "0   !copy--valid;(mtl:20);(sw);(st)   \n",
       "2           *valid--!copy;(sw);(st)   \n",
       "2          *valid--random;(sw);(st)   \n",
       "2           *valid--!copy;(sw);(st)   \n",
       "0  random--valid;(mtl:20);(sw);(st)   \n",
       "\n",
       "                                         parent_left  \\\n",
       "0  Gonna ride the baloney pony all the way to Was...   \n",
       "2  She actually has a song where this is the poin...   \n",
       "2  $5 and I'll never tell him i won as I wouldn't...   \n",
       "2  I called the number at the end of his addictio...   \n",
       "0  Day-bird aaaAAAAaaaa Fighter of the Night-bird...   \n",
       "\n",
       "                                          child_left  \\\n",
       "0      I'd literally take the law into my own hands.   \n",
       "2  Yep, this one came to mind. She is incredible ...   \n",
       "2                  Sounds like a plot to a movie lol   \n",
       "2  Right. He's the real deal. He will answer his ...   \n",
       "0                     Happy endings. Very underrated   \n",
       "\n",
       "                                        parent_right  \\\n",
       "0      I'd literally take the law into my own hands.   \n",
       "2  Yep, this one came to mind. She is incredible ...   \n",
       "2  The last iteration of them yeah, just thanks t...   \n",
       "2  Right. He's the real deal. He will answer his ...   \n",
       "0             You just described my relationship Lol   \n",
       "\n",
       "                                         child_right     sway_left  \\\n",
       "0  Gonna ride the baloney pony all the way to Was...  4.662937e-15   \n",
       "2  She actually has a song where this is the poin...  9.975274e-01   \n",
       "2  Don't throw away your money. When you get paid...  8.807971e-01   \n",
       "2  I called the number at the end of his addictio...  1.000000e+00   \n",
       "0  That doesn't sound healthy, it's not supposed ...  1.798621e-02   \n",
       "\n",
       "   sway_right  correct_is_right  logit_left  logit_right  preds  truth  \n",
       "0    1.000000              True    0.580115     0.419885      0      1  \n",
       "2    0.002473             False    0.293630     0.706370      1      0  \n",
       "2    0.119203             False    0.460682     0.539318      1      0  \n",
       "2    0.000000             False    0.486756     0.513244      1      0  \n",
       "0    0.982014              True    0.640024     0.359976      0      1  "
      ]
     },
     "metadata": {},
     "output_type": "display_data"
    },
    {
     "data": {
      "text/plain": [
       "array([[ 8.666577 ,  4.9840765,  6.3375483, ..., 10.800936 ,  1.2757801,\n",
       "         1.7305932],\n",
       "       [ 8.666577 ,  4.984076 ,  6.3375483, ..., 10.800936 ,  1.27578  ,\n",
       "         1.730593 ],\n",
       "       [ 8.666577 ,  4.984075 ,  6.337547 , ..., 10.800936 ,  1.27578  ,\n",
       "         1.7305928],\n",
       "       [ 8.666577 ,  4.984075 ,  6.337547 , ..., 10.800935 ,  1.27578  ,\n",
       "         1.7305928]], dtype=float32)"
      ]
     },
     "metadata": {},
     "output_type": "display_data"
    },
    {
     "data": {
      "text/plain": [
       "array([[ 8.666577 ,  4.984076 ,  6.3375483, ..., 10.800936 ,  1.2757802,\n",
       "         1.7305931],\n",
       "       [ 8.666577 ,  4.984075 ,  6.3375473, ..., 10.800935 ,  1.27578  ,\n",
       "         1.7305931],\n",
       "       [ 8.666577 ,  4.984076 ,  6.3375483, ..., 10.800936 ,  1.2757802,\n",
       "         1.7305932],\n",
       "       [ 8.666577 ,  4.984075 ,  6.3375473, ..., 10.800935 ,  1.2757798,\n",
       "         1.730593 ]], dtype=float32)"
      ]
     },
     "metadata": {},
     "output_type": "display_data"
    },
    {
     "data": {
      "text/plain": [
       "array([[ 8.666577 ,  4.984076 ,  6.3375483, ..., 10.800937 ,  1.2757801,\n",
       "         1.7305931],\n",
       "       [ 8.666577 ,  4.984076 ,  6.337547 , ..., 10.800935 ,  1.27578  ,\n",
       "         1.7305928],\n",
       "       [ 8.666577 ,  4.984076 ,  6.3375483, ..., 10.800936 ,  1.27578  ,\n",
       "         1.7305931],\n",
       "       [ 8.666577 ,  4.9840755,  6.3375473, ..., 10.800936 ,  1.2757798,\n",
       "         1.7305928]], dtype=float32)"
      ]
     },
     "metadata": {},
     "output_type": "display_data"
    },
    {
     "data": {
      "text/plain": [
       "array([[ 8.666577 ,  4.984076 ,  6.3375473, ..., 10.800936 ,  1.2757801,\n",
       "         1.7305931],\n",
       "       [ 8.666577 ,  4.984076 ,  6.3375483, ..., 10.800936 ,  1.27578  ,\n",
       "         1.7305931],\n",
       "       [ 8.666577 ,  4.984076 ,  6.3375483, ..., 10.800936 ,  1.2757798,\n",
       "         1.7305931],\n",
       "       [ 8.666577 ,  4.984076 ,  6.3375473, ..., 10.800936 ,  1.27578  ,\n",
       "         1.7305931]], dtype=float32)"
      ]
     },
     "metadata": {},
     "output_type": "display_data"
    },
    {
     "data": {
      "text/plain": [
       "array([[ 8.666577 ,  4.984076 ,  6.3375483, ..., 10.800936 ,  1.2757798,\n",
       "         1.730593 ],\n",
       "       [ 8.666577 ,  4.9840755,  6.3375473, ..., 10.800935 ,  1.27578  ,\n",
       "         1.7305931],\n",
       "       [ 8.666577 ,  4.984076 ,  6.3375483, ..., 10.800936 ,  1.27578  ,\n",
       "         1.7305931],\n",
       "       [ 8.666577 ,  4.984076 ,  6.3375483, ..., 10.800936 ,  1.2757798,\n",
       "         1.7305931]], dtype=float32)"
      ]
     },
     "metadata": {},
     "output_type": "display_data"
    },
    {
     "data": {
      "text/plain": [
       "array([[ 8.666577 ,  4.984076 ,  6.3375473, ..., 10.800936 ,  1.27578  ,\n",
       "         1.7305931],\n",
       "       [ 8.666577 ,  4.984076 ,  6.3375483, ..., 10.800935 ,  1.2757797,\n",
       "         1.730593 ],\n",
       "       [ 8.666577 ,  4.984076 ,  6.337547 , ..., 10.800935 ,  1.27578  ,\n",
       "         1.7305931],\n",
       "       [ 8.666577 ,  4.984076 ,  6.337547 , ..., 10.800935 ,  1.2757798,\n",
       "         1.7305928]], dtype=float32)"
      ]
     },
     "metadata": {},
     "output_type": "display_data"
    },
    {
     "data": {
      "text/plain": [
       "array([[ 8.666577 ,  4.984076 ,  6.3375483, ..., 10.800936 ,  1.27578  ,\n",
       "         1.7305931],\n",
       "       [ 8.666577 ,  4.9840765,  6.3375483, ..., 10.800936 ,  1.2757801,\n",
       "         1.7305932],\n",
       "       [ 8.666577 ,  4.984076 ,  6.3375483, ..., 10.800936 ,  1.27578  ,\n",
       "         1.7305931],\n",
       "       [ 8.666577 ,  4.984076 ,  6.3375483, ..., 10.800936 ,  1.27578  ,\n",
       "         1.7305931]], dtype=float32)"
      ]
     },
     "metadata": {},
     "output_type": "display_data"
    },
    {
     "data": {
      "text/plain": [
       "array([[ 8.666577 ,  4.984076 ,  6.3375483, ..., 10.800937 ,  1.27578  ,\n",
       "         1.7305931],\n",
       "       [ 8.666577 ,  4.984076 ,  6.3375483, ..., 10.800935 ,  1.27578  ,\n",
       "         1.7305931],\n",
       "       [ 8.666577 ,  4.984076 ,  6.3375483, ..., 10.800936 ,  1.2757801,\n",
       "         1.7305933],\n",
       "       [ 8.666577 ,  4.984076 ,  6.3375483, ..., 10.800936 ,  1.2757801,\n",
       "         1.7305931]], dtype=float32)"
      ]
     },
     "metadata": {},
     "output_type": "display_data"
    },
    {
     "data": {
      "text/plain": [
       "array([[ 8.666577 ,  4.984076 ,  6.3375483, ..., 10.800936 ,  1.2757802,\n",
       "         1.7305931],\n",
       "       [ 8.666577 ,  4.984076 ,  6.3375473, ..., 10.800936 ,  1.27578  ,\n",
       "         1.7305931],\n",
       "       [ 8.666577 ,  4.984076 ,  6.3375483, ..., 10.800936 ,  1.2757801,\n",
       "         1.7305928],\n",
       "       [ 8.666577 ,  4.984076 ,  6.3375483, ..., 10.800936 ,  1.27578  ,\n",
       "         1.7305931]], dtype=float32)"
      ]
     },
     "metadata": {},
     "output_type": "display_data"
    },
    {
     "data": {
      "text/plain": [
       "array([[ 8.666577 ,  4.984076 ,  6.3375483, ..., 10.800936 ,  1.2757802,\n",
       "         1.7305931],\n",
       "       [ 8.666577 ,  4.984076 ,  6.3375483, ..., 10.800936 ,  1.2757801,\n",
       "         1.7305931],\n",
       "       [ 8.666577 ,  4.984076 ,  6.3375473, ..., 10.800935 ,  1.2757801,\n",
       "         1.7305931],\n",
       "       [ 8.666577 ,  4.984076 ,  6.3375483, ..., 10.800936 ,  1.27578  ,\n",
       "         1.7305931]], dtype=float32)"
      ]
     },
     "metadata": {},
     "output_type": "display_data"
    },
    {
     "name": "stderr",
     "output_type": "stream",
     "text": [
      "Some weights of the model checkpoint at distilbert-base-uncased were not used when initializing DistilBertModel: ['vocab_transform.bias', 'vocab_projector.bias', 'vocab_transform.weight', 'vocab_layer_norm.bias', 'vocab_layer_norm.weight', 'vocab_projector.weight']\n",
      "- This IS expected if you are initializing DistilBertModel from the checkpoint of a model trained on another task or with another architecture (e.g. initializing a BertForSequenceClassification model from a BertForPreTraining model).\n",
      "- This IS NOT expected if you are initializing DistilBertModel from the checkpoint of a model that you expect to be exactly identical (initializing a BertForSequenceClassification model from a BertForSequenceClassification model).\n",
      "Some weights of the model checkpoint at distilbert-base-uncased were not used when initializing DistilBertModel: ['vocab_transform.bias', 'vocab_projector.bias', 'vocab_transform.weight', 'vocab_layer_norm.bias', 'vocab_layer_norm.weight', 'vocab_projector.weight']\n",
      "- This IS expected if you are initializing DistilBertModel from the checkpoint of a model trained on another task or with another architecture (e.g. initializing a BertForSequenceClassification model from a BertForPreTraining model).\n",
      "- This IS NOT expected if you are initializing DistilBertModel from the checkpoint of a model that you expect to be exactly identical (initializing a BertForSequenceClassification model from a BertForSequenceClassification model).\n"
     ]
    },
    {
     "name": "stdout",
     "output_type": "stream",
     "text": [
      "None 0\n",
      "epoch 0 version: 4\n"
     ]
    },
    {
     "data": {
      "application/vnd.jupyter.widget-view+json": {
       "model_id": "53f9c68bf97f455bab57c68e2c95df44",
       "version_major": 2,
       "version_minor": 0
      },
      "text/plain": [
       "train:   0%|          | 0/20000 [00:00<?, ?it/s]"
      ]
     },
     "metadata": {},
     "output_type": "display_data"
    },
    {
     "data": {
      "application/vnd.jupyter.widget-view+json": {
       "model_id": "8dc0da12cbd242bb85cb647667e5bcaf",
       "version_major": 2,
       "version_minor": 0
      },
      "text/plain": [
       "train val:   0%|          | 0/10000 [00:00<?, ?it/s]"
      ]
     },
     "metadata": {},
     "output_type": "display_data"
    },
    {
     "data": {
      "application/vnd.jupyter.widget-view+json": {
       "model_id": "909a4d497f2542939c2778392c84fb74",
       "version_major": 2,
       "version_minor": 0
      },
      "text/plain": [
       "test:   0%|          | 0/10000 [00:00<?, ?it/s]"
      ]
     },
     "metadata": {},
     "output_type": "display_data"
    },
    {
     "name": "stdout",
     "output_type": "stream",
     "text": [
      "train: 0.6473 loss: 0.5979720050871372\n",
      "train val: 0.6787 loss: 0.575093693369627\n",
      "test: 0.5759 loss: 0.6906725792646408\n",
      "epoch time: 12.64min\n",
      "best model: /mnt/d/workspace/clotho/notebooks/checkpoints/harness_v4_lg_0.pkl\n",
      "best train: 0.6473\n",
      "best train val: 0.6787\n",
      "best test: 0.5759\n",
      "epoch 1 version: 4\n"
     ]
    },
    {
     "data": {
      "application/vnd.jupyter.widget-view+json": {
       "model_id": "9c597b386d344e1dae7b1c34833852a1",
       "version_major": 2,
       "version_minor": 0
      },
      "text/plain": [
       "train:   0%|          | 0/20000 [00:00<?, ?it/s]"
      ]
     },
     "metadata": {},
     "output_type": "display_data"
    },
    {
     "data": {
      "application/vnd.jupyter.widget-view+json": {
       "model_id": "da436ccce088420eabfc9d265c99e258",
       "version_major": 2,
       "version_minor": 0
      },
      "text/plain": [
       "train val:   0%|          | 0/10000 [00:00<?, ?it/s]"
      ]
     },
     "metadata": {},
     "output_type": "display_data"
    },
    {
     "data": {
      "application/vnd.jupyter.widget-view+json": {
       "model_id": "6d2f0323bfdb421ea3b9bdaccd4441b4",
       "version_major": 2,
       "version_minor": 0
      },
      "text/plain": [
       "test:   0%|          | 0/10000 [00:00<?, ?it/s]"
      ]
     },
     "metadata": {},
     "output_type": "display_data"
    },
    {
     "name": "stdout",
     "output_type": "stream",
     "text": [
      "train: 0.7213 loss: 0.5294552909135819\n",
      "train val: 0.6823 loss: 0.553416972476244\n",
      "test: 0.5997 loss: 0.6605589924693107\n",
      "epoch time: 12.79min\n",
      "best model: /mnt/d/workspace/clotho/notebooks/checkpoints/harness_v4_lg_1.pkl\n",
      "best train: 0.7213\n",
      "best train val: 0.6823\n",
      "best test: 0.5997\n",
      "epoch 2 version: 4\n"
     ]
    },
    {
     "data": {
      "application/vnd.jupyter.widget-view+json": {
       "model_id": "684a0d81e87c4365ad921e0d06161fed",
       "version_major": 2,
       "version_minor": 0
      },
      "text/plain": [
       "train:   0%|          | 0/20000 [00:00<?, ?it/s]"
      ]
     },
     "metadata": {},
     "output_type": "display_data"
    },
    {
     "data": {
      "application/vnd.jupyter.widget-view+json": {
       "model_id": "929ca65d1c8543aa8653cb1727da58f0",
       "version_major": 2,
       "version_minor": 0
      },
      "text/plain": [
       "train val:   0%|          | 0/10000 [00:00<?, ?it/s]"
      ]
     },
     "metadata": {},
     "output_type": "display_data"
    },
    {
     "data": {
      "application/vnd.jupyter.widget-view+json": {
       "model_id": "86f271d2e3304b76a139dbd171331115",
       "version_major": 2,
       "version_minor": 0
      },
      "text/plain": [
       "test:   0%|          | 0/10000 [00:00<?, ?it/s]"
      ]
     },
     "metadata": {},
     "output_type": "display_data"
    },
    {
     "name": "stdout",
     "output_type": "stream",
     "text": [
      "train: 0.6593 loss: 0.5678863708436489\n",
      "train val: 0.6289 loss: 0.6924168056726455\n",
      "test: 0.4748 loss: 0.6930315237998962\n",
      "epoch time: 12.62min\n",
      "best model: /mnt/d/workspace/clotho/notebooks/checkpoints/harness_v4_lg_1.pkl\n",
      "best train: 0.7213\n",
      "best train val: 0.6823\n",
      "best test: 0.5997\n",
      "epoch 3 version: 4\n"
     ]
    },
    {
     "data": {
      "application/vnd.jupyter.widget-view+json": {
       "model_id": "ab0f073bfe1a4d0293ab4a90bfe0694f",
       "version_major": 2,
       "version_minor": 0
      },
      "text/plain": [
       "train:   0%|          | 0/20000 [00:00<?, ?it/s]"
      ]
     },
     "metadata": {},
     "output_type": "display_data"
    },
    {
     "data": {
      "application/vnd.jupyter.widget-view+json": {
       "model_id": "8e99ecfaa10349c8aec00c396da63b95",
       "version_major": 2,
       "version_minor": 0
      },
      "text/plain": [
       "train val:   0%|          | 0/10000 [00:00<?, ?it/s]"
      ]
     },
     "metadata": {},
     "output_type": "display_data"
    },
    {
     "data": {
      "application/vnd.jupyter.widget-view+json": {
       "model_id": "2837d87d08d44acd8911b71b23516a30",
       "version_major": 2,
       "version_minor": 0
      },
      "text/plain": [
       "test:   0%|          | 0/10000 [00:00<?, ?it/s]"
      ]
     },
     "metadata": {},
     "output_type": "display_data"
    },
    {
     "name": "stdout",
     "output_type": "stream",
     "text": [
      "train: 0.5696 loss: 0.6696468878030777\n",
      "train val: 0.5442 loss: 0.6889070762872695\n",
      "test: 0.4909 loss: 0.6965346777677536\n",
      "epoch time: 12.78min\n",
      "best model: /mnt/d/workspace/clotho/notebooks/checkpoints/harness_v4_lg_1.pkl\n",
      "best train: 0.7213\n",
      "best train val: 0.6823\n",
      "best test: 0.5997\n",
      "epoch 4 version: 4\n"
     ]
    },
    {
     "data": {
      "application/vnd.jupyter.widget-view+json": {
       "model_id": "747367c1838c426694c593d5c517c0ea",
       "version_major": 2,
       "version_minor": 0
      },
      "text/plain": [
       "train:   0%|          | 0/20000 [00:00<?, ?it/s]"
      ]
     },
     "metadata": {},
     "output_type": "display_data"
    },
    {
     "data": {
      "application/vnd.jupyter.widget-view+json": {
       "model_id": "303bac51a1f6458bac57289bc29a2298",
       "version_major": 2,
       "version_minor": 0
      },
      "text/plain": [
       "train val:   0%|          | 0/10000 [00:00<?, ?it/s]"
      ]
     },
     "metadata": {},
     "output_type": "display_data"
    },
    {
     "data": {
      "application/vnd.jupyter.widget-view+json": {
       "model_id": "45d97aa4eadf4c8fa497c6dcbce6dbd6",
       "version_major": 2,
       "version_minor": 0
      },
      "text/plain": [
       "test:   0%|          | 0/10000 [00:00<?, ?it/s]"
      ]
     },
     "metadata": {},
     "output_type": "display_data"
    },
    {
     "name": "stdout",
     "output_type": "stream",
     "text": [
      "train: 0.52475 loss: 0.6854286384940147\n",
      "train val: 0.5652 loss: 0.6931220393657684\n",
      "test: 0.4913 loss: 0.6931569410085678\n",
      "epoch time: 12.56min\n",
      "best model: /mnt/d/workspace/clotho/notebooks/checkpoints/harness_v4_lg_1.pkl\n",
      "best train: 0.7213\n",
      "best train val: 0.6823\n",
      "best test: 0.5997\n",
      "epoch 5 version: 4\n"
     ]
    },
    {
     "data": {
      "application/vnd.jupyter.widget-view+json": {
       "model_id": "376a81c413cd426d8a5acf2a7f98b88e",
       "version_major": 2,
       "version_minor": 0
      },
      "text/plain": [
       "train:   0%|          | 0/20000 [00:00<?, ?it/s]"
      ]
     },
     "metadata": {},
     "output_type": "display_data"
    },
    {
     "data": {
      "application/vnd.jupyter.widget-view+json": {
       "model_id": "7a70a063636b4993b04b1f82a8f223e6",
       "version_major": 2,
       "version_minor": 0
      },
      "text/plain": [
       "train val:   0%|          | 0/10000 [00:00<?, ?it/s]"
      ]
     },
     "metadata": {},
     "output_type": "display_data"
    },
    {
     "data": {
      "application/vnd.jupyter.widget-view+json": {
       "model_id": "370e86e441284b17b4fec4fc5776e048",
       "version_major": 2,
       "version_minor": 0
      },
      "text/plain": [
       "test:   0%|          | 0/10000 [00:00<?, ?it/s]"
      ]
     },
     "metadata": {},
     "output_type": "display_data"
    },
    {
     "name": "stdout",
     "output_type": "stream",
     "text": [
      "train: 0.5511 loss: 0.6695182458877563\n",
      "train val: 0.6396 loss: 0.5817186285912991\n",
      "test: 0.506 loss: 0.6938764681696892\n",
      "epoch time: 12.80min\n",
      "best model: /mnt/d/workspace/clotho/notebooks/checkpoints/harness_v4_lg_1.pkl\n",
      "best train: 0.7213\n",
      "best train val: 0.6823\n",
      "best test: 0.5997\n",
      "epoch 6 version: 4\n"
     ]
    },
    {
     "data": {
      "application/vnd.jupyter.widget-view+json": {
       "model_id": "3495695c30a247bcb624df585007ee5f",
       "version_major": 2,
       "version_minor": 0
      },
      "text/plain": [
       "train:   0%|          | 0/20000 [00:00<?, ?it/s]"
      ]
     },
     "metadata": {},
     "output_type": "display_data"
    },
    {
     "data": {
      "application/vnd.jupyter.widget-view+json": {
       "model_id": "d71937c4c72646ad8f96afca05804ab5",
       "version_major": 2,
       "version_minor": 0
      },
      "text/plain": [
       "train val:   0%|          | 0/10000 [00:00<?, ?it/s]"
      ]
     },
     "metadata": {},
     "output_type": "display_data"
    },
    {
     "data": {
      "application/vnd.jupyter.widget-view+json": {
       "model_id": "cf2bab90e0954ab88322c93eb819867a",
       "version_major": 2,
       "version_minor": 0
      },
      "text/plain": [
       "test:   0%|          | 0/10000 [00:00<?, ?it/s]"
      ]
     },
     "metadata": {},
     "output_type": "display_data"
    },
    {
     "name": "stdout",
     "output_type": "stream",
     "text": [
      "train: 0.62155 loss: 0.6163800644427538\n",
      "train val: 0.5197 loss: 0.677640681540966\n",
      "test: 0.4857 loss: 0.7043273192882538\n",
      "epoch time: 12.76min\n",
      "removing /mnt/d/workspace/clotho/notebooks/checkpoints/stats_v4_lg_3.json\n",
      "removing /mnt/d/workspace/clotho/notebooks/checkpoints/harness_v4_lg_3.pkl\n",
      "best model: /mnt/d/workspace/clotho/notebooks/checkpoints/harness_v4_lg_1.pkl\n",
      "best train: 0.7213\n",
      "best train val: 0.6823\n",
      "best test: 0.5997\n",
      "epoch 7 version: 4\n"
     ]
    },
    {
     "data": {
      "application/vnd.jupyter.widget-view+json": {
       "model_id": "a2f7185e130046308904ab92a4b2ba32",
       "version_major": 2,
       "version_minor": 0
      },
      "text/plain": [
       "train:   0%|          | 0/20000 [00:00<?, ?it/s]"
      ]
     },
     "metadata": {},
     "output_type": "display_data"
    },
    {
     "data": {
      "application/vnd.jupyter.widget-view+json": {
       "model_id": "affc95f5b0b6470ca456b87cba9c3555",
       "version_major": 2,
       "version_minor": 0
      },
      "text/plain": [
       "train val:   0%|          | 0/10000 [00:00<?, ?it/s]"
      ]
     },
     "metadata": {},
     "output_type": "display_data"
    },
    {
     "data": {
      "application/vnd.jupyter.widget-view+json": {
       "model_id": "379938e76c47444898e9c9f1b530ba3f",
       "version_major": 2,
       "version_minor": 0
      },
      "text/plain": [
       "test:   0%|          | 0/10000 [00:00<?, ?it/s]"
      ]
     },
     "metadata": {},
     "output_type": "display_data"
    },
    {
     "name": "stdout",
     "output_type": "stream",
     "text": [
      "train: 0.5673 loss: 0.6721110775649548\n",
      "train val: 0.6478 loss: 0.6347744095683098\n",
      "test: 0.5387 loss: 0.7220456448793411\n",
      "epoch time: 12.45min\n",
      "removing /mnt/d/workspace/clotho/notebooks/checkpoints/stats_v4_lg_6.json\n",
      "removing /mnt/d/workspace/clotho/notebooks/checkpoints/harness_v4_lg_6.pkl\n",
      "best model: /mnt/d/workspace/clotho/notebooks/checkpoints/harness_v4_lg_1.pkl\n",
      "best train: 0.7213\n",
      "best train val: 0.6823\n",
      "best test: 0.5997\n",
      "epoch 8 version: 4\n"
     ]
    },
    {
     "data": {
      "application/vnd.jupyter.widget-view+json": {
       "model_id": "4b933c3e10354b87a7cf54e5f7639e1c",
       "version_major": 2,
       "version_minor": 0
      },
      "text/plain": [
       "train:   0%|          | 0/20000 [00:00<?, ?it/s]"
      ]
     },
     "metadata": {},
     "output_type": "display_data"
    },
    {
     "data": {
      "application/vnd.jupyter.widget-view+json": {
       "model_id": "bc2713b6ef1243f78c5566161be22028",
       "version_major": 2,
       "version_minor": 0
      },
      "text/plain": [
       "train val:   0%|          | 0/10000 [00:00<?, ?it/s]"
      ]
     },
     "metadata": {},
     "output_type": "display_data"
    },
    {
     "data": {
      "application/vnd.jupyter.widget-view+json": {
       "model_id": "3391e18bc09043f1aad0465f4a43531f",
       "version_major": 2,
       "version_minor": 0
      },
      "text/plain": [
       "test:   0%|          | 0/10000 [00:00<?, ?it/s]"
      ]
     },
     "metadata": {},
     "output_type": "display_data"
    },
    {
     "name": "stdout",
     "output_type": "stream",
     "text": [
      "train: 0.62775 loss: 0.6175937473803759\n",
      "train val: 0.6549 loss: 0.5710406693935395\n",
      "test: 0.5316 loss: 0.6884492003202438\n",
      "epoch time: 12.63min\n",
      "removing /mnt/d/workspace/clotho/notebooks/checkpoints/stats_v4_lg_4.json\n",
      "removing /mnt/d/workspace/clotho/notebooks/checkpoints/harness_v4_lg_4.pkl\n",
      "best model: /mnt/d/workspace/clotho/notebooks/checkpoints/harness_v4_lg_1.pkl\n",
      "best train: 0.7213\n",
      "best train val: 0.6823\n",
      "best test: 0.5997\n",
      "epoch 9 version: 4\n"
     ]
    },
    {
     "data": {
      "application/vnd.jupyter.widget-view+json": {
       "model_id": "5cd7cde4b50e436e9096960c4a52962d",
       "version_major": 2,
       "version_minor": 0
      },
      "text/plain": [
       "train:   0%|          | 0/20000 [00:00<?, ?it/s]"
      ]
     },
     "metadata": {},
     "output_type": "display_data"
    },
    {
     "data": {
      "application/vnd.jupyter.widget-view+json": {
       "model_id": "df250a4a204f4ff1b52cd22a485c855d",
       "version_major": 2,
       "version_minor": 0
      },
      "text/plain": [
       "train val:   0%|          | 0/10000 [00:00<?, ?it/s]"
      ]
     },
     "metadata": {},
     "output_type": "display_data"
    },
    {
     "data": {
      "application/vnd.jupyter.widget-view+json": {
       "model_id": "751182b4d6244f98b14f494108514008",
       "version_major": 2,
       "version_minor": 0
      },
      "text/plain": [
       "test:   0%|          | 0/10000 [00:00<?, ?it/s]"
      ]
     },
     "metadata": {},
     "output_type": "display_data"
    },
    {
     "name": "stdout",
     "output_type": "stream",
     "text": [
      "train: 0.6745 loss: 0.5749760392427444\n",
      "train val: 0.6123 loss: 0.6042520640552044\n",
      "test: 0.5169 loss: 0.7074414461016655\n",
      "epoch time: 12.53min\n",
      "removing /mnt/d/workspace/clotho/notebooks/checkpoints/stats_v4_lg_2.json\n",
      "removing /mnt/d/workspace/clotho/notebooks/checkpoints/harness_v4_lg_2.pkl\n",
      "best model: /mnt/d/workspace/clotho/notebooks/checkpoints/harness_v4_lg_1.pkl\n",
      "best train: 0.7213\n",
      "best train val: 0.6823\n",
      "best test: 0.5997\n",
      "epoch 10 version: 4\n"
     ]
    },
    {
     "data": {
      "application/vnd.jupyter.widget-view+json": {
       "model_id": "7cef6580cb1641e3aa5c55c9191677ba",
       "version_major": 2,
       "version_minor": 0
      },
      "text/plain": [
       "train:   0%|          | 0/20000 [00:00<?, ?it/s]"
      ]
     },
     "metadata": {},
     "output_type": "display_data"
    },
    {
     "data": {
      "application/vnd.jupyter.widget-view+json": {
       "model_id": "db025b5416594e2083738c28096302e3",
       "version_major": 2,
       "version_minor": 0
      },
      "text/plain": [
       "train val:   0%|          | 0/10000 [00:00<?, ?it/s]"
      ]
     },
     "metadata": {},
     "output_type": "display_data"
    },
    {
     "data": {
      "application/vnd.jupyter.widget-view+json": {
       "model_id": "6b39033d41e54e34adca51a639ff5b7d",
       "version_major": 2,
       "version_minor": 0
      },
      "text/plain": [
       "test:   0%|          | 0/10000 [00:00<?, ?it/s]"
      ]
     },
     "metadata": {},
     "output_type": "display_data"
    },
    {
     "name": "stdout",
     "output_type": "stream",
     "text": [
      "train: 0.61345 loss: 0.6341280465304852\n",
      "train val: 0.439 loss: 0.6886432605743408\n",
      "test: 0.4892 loss: 0.693917150425911\n",
      "epoch time: 12.42min\n",
      "removing /mnt/d/workspace/clotho/notebooks/checkpoints/stats_v4_lg_9.json\n",
      "removing /mnt/d/workspace/clotho/notebooks/checkpoints/harness_v4_lg_9.pkl\n",
      "best model: /mnt/d/workspace/clotho/notebooks/checkpoints/harness_v4_lg_1.pkl\n",
      "best train: 0.7213\n",
      "best train val: 0.6823\n",
      "best test: 0.5997\n",
      "epoch 11 version: 4\n"
     ]
    },
    {
     "data": {
      "application/vnd.jupyter.widget-view+json": {
       "model_id": "75093c0fb5604b709b8b1b500692bd4e",
       "version_major": 2,
       "version_minor": 0
      },
      "text/plain": [
       "train:   0%|          | 0/20000 [00:00<?, ?it/s]"
      ]
     },
     "metadata": {},
     "output_type": "display_data"
    },
    {
     "data": {
      "application/vnd.jupyter.widget-view+json": {
       "model_id": "7b62d791c53b40be95b8a7fa35f3f051",
       "version_major": 2,
       "version_minor": 0
      },
      "text/plain": [
       "train val:   0%|          | 0/10000 [00:00<?, ?it/s]"
      ]
     },
     "metadata": {},
     "output_type": "display_data"
    },
    {
     "data": {
      "application/vnd.jupyter.widget-view+json": {
       "model_id": "9a5e134d220d4aa393f0a3ffcfd0945a",
       "version_major": 2,
       "version_minor": 0
      },
      "text/plain": [
       "test:   0%|          | 0/10000 [00:00<?, ?it/s]"
      ]
     },
     "metadata": {},
     "output_type": "display_data"
    },
    {
     "name": "stdout",
     "output_type": "stream",
     "text": [
      "train: 0.57825 loss: 0.6635438888758421\n",
      "train val: 0.601 loss: 0.6929783692121506\n",
      "test: 0.5315 loss: 0.69292891933918\n",
      "epoch time: 12.79min\n",
      "removing /mnt/d/workspace/clotho/notebooks/checkpoints/stats_v4_lg_10.json\n",
      "removing /mnt/d/workspace/clotho/notebooks/checkpoints/harness_v4_lg_10.pkl\n",
      "best model: /mnt/d/workspace/clotho/notebooks/checkpoints/harness_v4_lg_1.pkl\n",
      "best train: 0.7213\n",
      "best train val: 0.6823\n",
      "best test: 0.5997\n",
      "epoch 12 version: 4\n"
     ]
    },
    {
     "data": {
      "application/vnd.jupyter.widget-view+json": {
       "model_id": "39ed292c246c41538e5f770f619232f8",
       "version_major": 2,
       "version_minor": 0
      },
      "text/plain": [
       "train:   0%|          | 0/20000 [00:00<?, ?it/s]"
      ]
     },
     "metadata": {},
     "output_type": "display_data"
    },
    {
     "data": {
      "application/vnd.jupyter.widget-view+json": {
       "model_id": "4bc918ebe66e45e281ad57323a9c7b23",
       "version_major": 2,
       "version_minor": 0
      },
      "text/plain": [
       "train val:   0%|          | 0/10000 [00:00<?, ?it/s]"
      ]
     },
     "metadata": {},
     "output_type": "display_data"
    },
    {
     "data": {
      "application/vnd.jupyter.widget-view+json": {
       "model_id": "2b74638566c8490fbe33b3dbc7992aa2",
       "version_major": 2,
       "version_minor": 0
      },
      "text/plain": [
       "test:   0%|          | 0/10000 [00:00<?, ?it/s]"
      ]
     },
     "metadata": {},
     "output_type": "display_data"
    },
    {
     "name": "stdout",
     "output_type": "stream",
     "text": [
      "train: 0.56905 loss: 0.6654649960964918\n",
      "train val: 0.617 loss: 0.6070077902972698\n",
      "test: 0.5147 loss: 0.7037773508429527\n",
      "epoch time: 12.65min\n",
      "removing /mnt/d/workspace/clotho/notebooks/checkpoints/stats_v4_lg_11.json\n",
      "removing /mnt/d/workspace/clotho/notebooks/checkpoints/harness_v4_lg_11.pkl\n",
      "best model: /mnt/d/workspace/clotho/notebooks/checkpoints/harness_v4_lg_1.pkl\n",
      "best train: 0.7213\n",
      "best train val: 0.6823\n",
      "best test: 0.5997\n",
      "epoch 13 version: 4\n"
     ]
    },
    {
     "data": {
      "application/vnd.jupyter.widget-view+json": {
       "model_id": "842c2379e2c04a198c5211c8a76fb81c",
       "version_major": 2,
       "version_minor": 0
      },
      "text/plain": [
       "train:   0%|          | 0/20000 [00:00<?, ?it/s]"
      ]
     },
     "metadata": {},
     "output_type": "display_data"
    },
    {
     "data": {
      "application/vnd.jupyter.widget-view+json": {
       "model_id": "074dcdb1dde249f4a99102b0d4062a55",
       "version_major": 2,
       "version_minor": 0
      },
      "text/plain": [
       "train val:   0%|          | 0/10000 [00:00<?, ?it/s]"
      ]
     },
     "metadata": {},
     "output_type": "display_data"
    },
    {
     "data": {
      "application/vnd.jupyter.widget-view+json": {
       "model_id": "49612f7c323b4c34b2578a59373bb833",
       "version_major": 2,
       "version_minor": 0
      },
      "text/plain": [
       "test:   0%|          | 0/10000 [00:00<?, ?it/s]"
      ]
     },
     "metadata": {},
     "output_type": "display_data"
    },
    {
     "name": "stdout",
     "output_type": "stream",
     "text": [
      "train: 0.6018 loss: 0.5909450045377016\n",
      "train val: 0.6106 loss: 0.5732471791267395\n",
      "test: 0.5416 loss: 0.6771932997941971\n",
      "epoch time: 12.69min\n",
      "removing /mnt/d/workspace/clotho/notebooks/checkpoints/stats_v4_lg_12.json\n",
      "removing /mnt/d/workspace/clotho/notebooks/checkpoints/harness_v4_lg_12.pkl\n",
      "best model: /mnt/d/workspace/clotho/notebooks/checkpoints/harness_v4_lg_1.pkl\n",
      "best train: 0.7213\n",
      "best train val: 0.6823\n",
      "best test: 0.5997\n",
      "epoch 14 version: 4\n"
     ]
    },
    {
     "data": {
      "application/vnd.jupyter.widget-view+json": {
       "model_id": "e754f60e2f3b41a796e7c9b7e700906e",
       "version_major": 2,
       "version_minor": 0
      },
      "text/plain": [
       "train:   0%|          | 0/20000 [00:00<?, ?it/s]"
      ]
     },
     "metadata": {},
     "output_type": "display_data"
    },
    {
     "data": {
      "application/vnd.jupyter.widget-view+json": {
       "model_id": "e88a22817d6a42fca9005fd295d59fb4",
       "version_major": 2,
       "version_minor": 0
      },
      "text/plain": [
       "train val:   0%|          | 0/10000 [00:00<?, ?it/s]"
      ]
     },
     "metadata": {},
     "output_type": "display_data"
    },
    {
     "data": {
      "application/vnd.jupyter.widget-view+json": {
       "model_id": "e028fc8f3ef54cd38492870dd63b469e",
       "version_major": 2,
       "version_minor": 0
      },
      "text/plain": [
       "test:   0%|          | 0/10000 [00:00<?, ?it/s]"
      ]
     },
     "metadata": {},
     "output_type": "display_data"
    },
    {
     "name": "stdout",
     "output_type": "stream",
     "text": [
      "train: 0.59815 loss: 0.597304334077239\n",
      "train val: 0.6184 loss: 0.5971737518250942\n",
      "test: 0.5064 loss: 0.6851110226750374\n",
      "epoch time: 12.79min\n",
      "removing /mnt/d/workspace/clotho/notebooks/checkpoints/stats_v4_lg_13.json\n",
      "removing /mnt/d/workspace/clotho/notebooks/checkpoints/harness_v4_lg_13.pkl\n",
      "best model: /mnt/d/workspace/clotho/notebooks/checkpoints/harness_v4_lg_1.pkl\n",
      "best train: 0.7213\n",
      "best train val: 0.6823\n",
      "best test: 0.5997\n",
      "epoch 15 version: 4\n"
     ]
    },
    {
     "data": {
      "application/vnd.jupyter.widget-view+json": {
       "model_id": "e532c3da849f4c2e8e3e2aa1d6885b9b",
       "version_major": 2,
       "version_minor": 0
      },
      "text/plain": [
       "train:   0%|          | 0/20000 [00:00<?, ?it/s]"
      ]
     },
     "metadata": {},
     "output_type": "display_data"
    },
    {
     "data": {
      "application/vnd.jupyter.widget-view+json": {
       "model_id": "53ce72cb9b3844b0950f99e9795dbfdf",
       "version_major": 2,
       "version_minor": 0
      },
      "text/plain": [
       "train val:   0%|          | 0/10000 [00:00<?, ?it/s]"
      ]
     },
     "metadata": {},
     "output_type": "display_data"
    },
    {
     "data": {
      "application/vnd.jupyter.widget-view+json": {
       "model_id": "7b01c70fe8aa4e4db0245bff65983faa",
       "version_major": 2,
       "version_minor": 0
      },
      "text/plain": [
       "test:   0%|          | 0/10000 [00:00<?, ?it/s]"
      ]
     },
     "metadata": {},
     "output_type": "display_data"
    },
    {
     "name": "stdout",
     "output_type": "stream",
     "text": [
      "train: 0.59585 loss: 0.603380867883563\n",
      "train val: 0.6341 loss: 0.5889571899652482\n",
      "test: 0.514 loss: 0.6869030817508698\n",
      "epoch time: 12.84min\n",
      "removing /mnt/d/workspace/clotho/notebooks/checkpoints/stats_v4_lg_14.json\n",
      "removing /mnt/d/workspace/clotho/notebooks/checkpoints/harness_v4_lg_14.pkl\n",
      "best model: /mnt/d/workspace/clotho/notebooks/checkpoints/harness_v4_lg_1.pkl\n",
      "best train: 0.7213\n",
      "best train val: 0.6823\n",
      "best test: 0.5997\n",
      "epoch 16 version: 4\n"
     ]
    },
    {
     "data": {
      "application/vnd.jupyter.widget-view+json": {
       "model_id": "33262124b75149da89a1a3010a31586f",
       "version_major": 2,
       "version_minor": 0
      },
      "text/plain": [
       "train:   0%|          | 0/20000 [00:00<?, ?it/s]"
      ]
     },
     "metadata": {},
     "output_type": "display_data"
    },
    {
     "data": {
      "application/vnd.jupyter.widget-view+json": {
       "model_id": "985ff48faa934446bbf0018c4114a454",
       "version_major": 2,
       "version_minor": 0
      },
      "text/plain": [
       "train val:   0%|          | 0/10000 [00:00<?, ?it/s]"
      ]
     },
     "metadata": {},
     "output_type": "display_data"
    },
    {
     "data": {
      "application/vnd.jupyter.widget-view+json": {
       "model_id": "bcd136befddc4b83a76d57149be630f5",
       "version_major": 2,
       "version_minor": 0
      },
      "text/plain": [
       "test:   0%|          | 0/10000 [00:00<?, ?it/s]"
      ]
     },
     "metadata": {},
     "output_type": "display_data"
    },
    {
     "name": "stdout",
     "output_type": "stream",
     "text": [
      "train: 0.5994 loss: 0.5967513921290636\n",
      "train val: 0.5768 loss: 0.577267360842228\n",
      "test: 0.4891 loss: 0.6849916202545167\n",
      "epoch time: 12.49min\n",
      "removing /mnt/d/workspace/clotho/notebooks/checkpoints/stats_v4_lg_15.json\n",
      "removing /mnt/d/workspace/clotho/notebooks/checkpoints/harness_v4_lg_15.pkl\n",
      "best model: /mnt/d/workspace/clotho/notebooks/checkpoints/harness_v4_lg_1.pkl\n",
      "best train: 0.7213\n",
      "best train val: 0.6823\n",
      "best test: 0.5997\n",
      "epoch 17 version: 4\n"
     ]
    },
    {
     "data": {
      "application/vnd.jupyter.widget-view+json": {
       "model_id": "296dc0ee26804c3ca475da0cb0fd1890",
       "version_major": 2,
       "version_minor": 0
      },
      "text/plain": [
       "train:   0%|          | 0/20000 [00:00<?, ?it/s]"
      ]
     },
     "metadata": {},
     "output_type": "display_data"
    },
    {
     "data": {
      "application/vnd.jupyter.widget-view+json": {
       "model_id": "7a1248f6c1234f00b322c3dc67cd5fe3",
       "version_major": 2,
       "version_minor": 0
      },
      "text/plain": [
       "train val:   0%|          | 0/10000 [00:00<?, ?it/s]"
      ]
     },
     "metadata": {},
     "output_type": "display_data"
    },
    {
     "data": {
      "application/vnd.jupyter.widget-view+json": {
       "model_id": "9ccc861251264e63b03e877e5da25660",
       "version_major": 2,
       "version_minor": 0
      },
      "text/plain": [
       "test:   0%|          | 0/10000 [00:00<?, ?it/s]"
      ]
     },
     "metadata": {},
     "output_type": "display_data"
    },
    {
     "name": "stdout",
     "output_type": "stream",
     "text": [
      "train: 0.6131 loss: 0.5971927326887846\n",
      "train val: 0.6104 loss: 0.6514701115429401\n",
      "test: 0.5157 loss: 0.7342007438838482\n",
      "epoch time: 12.59min\n",
      "removing /mnt/d/workspace/clotho/notebooks/checkpoints/stats_v4_lg_16.json\n",
      "removing /mnt/d/workspace/clotho/notebooks/checkpoints/harness_v4_lg_16.pkl\n",
      "best model: /mnt/d/workspace/clotho/notebooks/checkpoints/harness_v4_lg_1.pkl\n",
      "best train: 0.7213\n",
      "best train val: 0.6823\n",
      "best test: 0.5997\n",
      "epoch 18 version: 4\n"
     ]
    },
    {
     "data": {
      "application/vnd.jupyter.widget-view+json": {
       "model_id": "7adef15a19b24641966ff52fe0565575",
       "version_major": 2,
       "version_minor": 0
      },
      "text/plain": [
       "train:   0%|          | 0/20000 [00:00<?, ?it/s]"
      ]
     },
     "metadata": {},
     "output_type": "display_data"
    },
    {
     "data": {
      "application/vnd.jupyter.widget-view+json": {
       "model_id": "bd3584e0bec1491d9c4eedf8d58a468e",
       "version_major": 2,
       "version_minor": 0
      },
      "text/plain": [
       "train val:   0%|          | 0/10000 [00:00<?, ?it/s]"
      ]
     },
     "metadata": {},
     "output_type": "display_data"
    },
    {
     "data": {
      "application/vnd.jupyter.widget-view+json": {
       "model_id": "6831066a4e5246b99b617da4bd0b90e0",
       "version_major": 2,
       "version_minor": 0
      },
      "text/plain": [
       "test:   0%|          | 0/10000 [00:00<?, ?it/s]"
      ]
     },
     "metadata": {},
     "output_type": "display_data"
    },
    {
     "name": "stdout",
     "output_type": "stream",
     "text": [
      "train: 0.54225 loss: 0.6836750732004643\n",
      "train val: 0.4891 loss: 0.692934410238266\n",
      "test: 0.4883 loss: 0.693694920039177\n",
      "epoch time: 12.36min\n",
      "removing /mnt/d/workspace/clotho/notebooks/checkpoints/stats_v4_lg_17.json\n",
      "removing /mnt/d/workspace/clotho/notebooks/checkpoints/harness_v4_lg_17.pkl\n",
      "best model: /mnt/d/workspace/clotho/notebooks/checkpoints/harness_v4_lg_1.pkl\n",
      "best train: 0.7213\n",
      "best train val: 0.6823\n",
      "best test: 0.5997\n",
      "epoch 19 version: 4\n"
     ]
    },
    {
     "data": {
      "application/vnd.jupyter.widget-view+json": {
       "model_id": "e7811c4a714944e8b1cf52c5be1441c9",
       "version_major": 2,
       "version_minor": 0
      },
      "text/plain": [
       "train:   0%|          | 0/20000 [00:00<?, ?it/s]"
      ]
     },
     "metadata": {},
     "output_type": "display_data"
    },
    {
     "data": {
      "application/vnd.jupyter.widget-view+json": {
       "model_id": "71a8fda56b3143ffb21d83f212c28627",
       "version_major": 2,
       "version_minor": 0
      },
      "text/plain": [
       "train val:   0%|          | 0/10000 [00:00<?, ?it/s]"
      ]
     },
     "metadata": {},
     "output_type": "display_data"
    },
    {
     "data": {
      "application/vnd.jupyter.widget-view+json": {
       "model_id": "b745dee2f47b4b91b2c594f6c0a5d082",
       "version_major": 2,
       "version_minor": 0
      },
      "text/plain": [
       "test:   0%|          | 0/10000 [00:00<?, ?it/s]"
      ]
     },
     "metadata": {},
     "output_type": "display_data"
    },
    {
     "name": "stdout",
     "output_type": "stream",
     "text": [
      "train: 0.51605 loss: 0.6915618938922882\n",
      "train val: 0.451 loss: 0.6931702060699463\n",
      "test: 0.5007 loss: 0.6932228076457977\n",
      "epoch time: 12.73min\n",
      "removing /mnt/d/workspace/clotho/notebooks/checkpoints/stats_v4_lg_18.json\n",
      "removing /mnt/d/workspace/clotho/notebooks/checkpoints/harness_v4_lg_18.pkl\n",
      "best model: /mnt/d/workspace/clotho/notebooks/checkpoints/harness_v4_lg_1.pkl\n",
      "best train: 0.7213\n",
      "best train val: 0.6823\n",
      "best test: 0.5997\n",
      "epoch 20 version: 4\n"
     ]
    },
    {
     "data": {
      "application/vnd.jupyter.widget-view+json": {
       "model_id": "c71661a99ea34419b68d7ac7eea18485",
       "version_major": 2,
       "version_minor": 0
      },
      "text/plain": [
       "train:   0%|          | 0/20000 [00:00<?, ?it/s]"
      ]
     },
     "metadata": {},
     "output_type": "display_data"
    },
    {
     "data": {
      "application/vnd.jupyter.widget-view+json": {
       "model_id": "7038f93d6d86443886231dd3f7c6a9ab",
       "version_major": 2,
       "version_minor": 0
      },
      "text/plain": [
       "train val:   0%|          | 0/10000 [00:00<?, ?it/s]"
      ]
     },
     "metadata": {},
     "output_type": "display_data"
    },
    {
     "data": {
      "application/vnd.jupyter.widget-view+json": {
       "model_id": "87702f254f6649a683031d9d090df05a",
       "version_major": 2,
       "version_minor": 0
      },
      "text/plain": [
       "test:   0%|          | 0/10000 [00:00<?, ?it/s]"
      ]
     },
     "metadata": {},
     "output_type": "display_data"
    },
    {
     "name": "stdout",
     "output_type": "stream",
     "text": [
      "train: 0.5373 loss: 0.6887928634524345\n",
      "train val: 0.5858 loss: 0.6930787186145783\n",
      "test: 0.5217 loss: 0.6930987491130829\n",
      "epoch time: 12.64min\n",
      "removing /mnt/d/workspace/clotho/notebooks/checkpoints/stats_v4_lg_19.json\n",
      "removing /mnt/d/workspace/clotho/notebooks/checkpoints/harness_v4_lg_19.pkl\n",
      "best model: /mnt/d/workspace/clotho/notebooks/checkpoints/harness_v4_lg_1.pkl\n",
      "best train: 0.7213\n",
      "best train val: 0.6823\n",
      "best test: 0.5997\n",
      "epoch 21 version: 4\n"
     ]
    },
    {
     "data": {
      "application/vnd.jupyter.widget-view+json": {
       "model_id": "1a07b76e415446c3beae7330c244d353",
       "version_major": 2,
       "version_minor": 0
      },
      "text/plain": [
       "train:   0%|          | 0/20000 [00:00<?, ?it/s]"
      ]
     },
     "metadata": {},
     "output_type": "display_data"
    },
    {
     "data": {
      "application/vnd.jupyter.widget-view+json": {
       "model_id": "192715f1dc0f42e0bcf144e9680df28c",
       "version_major": 2,
       "version_minor": 0
      },
      "text/plain": [
       "train val:   0%|          | 0/10000 [00:00<?, ?it/s]"
      ]
     },
     "metadata": {},
     "output_type": "display_data"
    },
    {
     "data": {
      "application/vnd.jupyter.widget-view+json": {
       "model_id": "6dbe8a885c8246dbacf2e409a852c8c1",
       "version_major": 2,
       "version_minor": 0
      },
      "text/plain": [
       "test:   0%|          | 0/10000 [00:00<?, ?it/s]"
      ]
     },
     "metadata": {},
     "output_type": "display_data"
    },
    {
     "name": "stdout",
     "output_type": "stream",
     "text": [
      "train: 0.53705 loss: 0.6896456265866756\n",
      "train val: 0.509 loss: 0.6931553163528442\n",
      "test: 0.5143 loss: 0.6952776779890061\n",
      "epoch time: 12.44min\n",
      "removing /mnt/d/workspace/clotho/notebooks/checkpoints/stats_v4_lg_20.json\n",
      "removing /mnt/d/workspace/clotho/notebooks/checkpoints/harness_v4_lg_20.pkl\n",
      "best model: /mnt/d/workspace/clotho/notebooks/checkpoints/harness_v4_lg_1.pkl\n",
      "best train: 0.7213\n",
      "best train val: 0.6823\n",
      "best test: 0.5997\n",
      "epoch 22 version: 4\n"
     ]
    },
    {
     "data": {
      "application/vnd.jupyter.widget-view+json": {
       "model_id": "e2670cf8160d4a85aeda5879565ae6e0",
       "version_major": 2,
       "version_minor": 0
      },
      "text/plain": [
       "train:   0%|          | 0/20000 [00:00<?, ?it/s]"
      ]
     },
     "metadata": {},
     "output_type": "display_data"
    },
    {
     "data": {
      "application/vnd.jupyter.widget-view+json": {
       "model_id": "32879902dcfc4134b3c6c86b6dee8065",
       "version_major": 2,
       "version_minor": 0
      },
      "text/plain": [
       "train val:   0%|          | 0/10000 [00:00<?, ?it/s]"
      ]
     },
     "metadata": {},
     "output_type": "display_data"
    },
    {
     "data": {
      "application/vnd.jupyter.widget-view+json": {
       "model_id": "153bd37100ff4bb080ac4596d6fa744a",
       "version_major": 2,
       "version_minor": 0
      },
      "text/plain": [
       "test:   0%|          | 0/10000 [00:00<?, ?it/s]"
      ]
     },
     "metadata": {},
     "output_type": "display_data"
    },
    {
     "name": "stdout",
     "output_type": "stream",
     "text": [
      "train: 0.5736 loss: 0.6579242166757584\n",
      "train val: 0.635 loss: 0.6006361843883992\n",
      "test: 0.5064 loss: 0.6923291197061539\n",
      "epoch time: 12.50min\n",
      "removing /mnt/d/workspace/clotho/notebooks/checkpoints/stats_v4_lg_21.json\n",
      "removing /mnt/d/workspace/clotho/notebooks/checkpoints/harness_v4_lg_21.pkl\n",
      "best model: /mnt/d/workspace/clotho/notebooks/checkpoints/harness_v4_lg_1.pkl\n",
      "best train: 0.7213\n",
      "best train val: 0.6823\n",
      "best test: 0.5997\n",
      "epoch 23 version: 4\n"
     ]
    },
    {
     "data": {
      "application/vnd.jupyter.widget-view+json": {
       "model_id": "0d964c818cdc4ab4a5e9ca806dd4b03b",
       "version_major": 2,
       "version_minor": 0
      },
      "text/plain": [
       "train:   0%|          | 0/20000 [00:00<?, ?it/s]"
      ]
     },
     "metadata": {},
     "output_type": "display_data"
    },
    {
     "data": {
      "application/vnd.jupyter.widget-view+json": {
       "model_id": "638af8275f5346e9b8c65a117b10d964",
       "version_major": 2,
       "version_minor": 0
      },
      "text/plain": [
       "train val:   0%|          | 0/10000 [00:00<?, ?it/s]"
      ]
     },
     "metadata": {},
     "output_type": "display_data"
    },
    {
     "data": {
      "application/vnd.jupyter.widget-view+json": {
       "model_id": "c1bf16592fe5408c8e78e67ff95f3b35",
       "version_major": 2,
       "version_minor": 0
      },
      "text/plain": [
       "test:   0%|          | 0/10000 [00:00<?, ?it/s]"
      ]
     },
     "metadata": {},
     "output_type": "display_data"
    },
    {
     "name": "stdout",
     "output_type": "stream",
     "text": [
      "train: 0.63475 loss: 0.5888750919282436\n",
      "train val: 0.6262 loss: 0.5819112200319767\n",
      "test: 0.5002 loss: 0.6941292966723442\n",
      "epoch time: 12.68min\n",
      "removing /mnt/d/workspace/clotho/notebooks/checkpoints/stats_v4_lg_22.json\n",
      "removing /mnt/d/workspace/clotho/notebooks/checkpoints/harness_v4_lg_22.pkl\n",
      "best model: /mnt/d/workspace/clotho/notebooks/checkpoints/harness_v4_lg_1.pkl\n",
      "best train: 0.7213\n",
      "best train val: 0.6823\n",
      "best test: 0.5997\n",
      "epoch 24 version: 4\n"
     ]
    },
    {
     "data": {
      "application/vnd.jupyter.widget-view+json": {
       "model_id": "37e35b941b584970a21b7b2f5bf714c8",
       "version_major": 2,
       "version_minor": 0
      },
      "text/plain": [
       "train:   0%|          | 0/20000 [00:00<?, ?it/s]"
      ]
     },
     "metadata": {},
     "output_type": "display_data"
    },
    {
     "data": {
      "application/vnd.jupyter.widget-view+json": {
       "model_id": "76962da76df54784bb1021df3f3511bf",
       "version_major": 2,
       "version_minor": 0
      },
      "text/plain": [
       "train val:   0%|          | 0/10000 [00:00<?, ?it/s]"
      ]
     },
     "metadata": {},
     "output_type": "display_data"
    },
    {
     "data": {
      "application/vnd.jupyter.widget-view+json": {
       "model_id": "b979e53ada664d52a230eac29a9b6f08",
       "version_major": 2,
       "version_minor": 0
      },
      "text/plain": [
       "test:   0%|          | 0/10000 [00:00<?, ?it/s]"
      ]
     },
     "metadata": {},
     "output_type": "display_data"
    },
    {
     "name": "stdout",
     "output_type": "stream",
     "text": [
      "train: 0.6304 loss: 0.602682014632225\n",
      "train val: 0.6239 loss: 0.619433401453495\n",
      "test: 0.4983 loss: 0.6963883791327476\n",
      "epoch time: 12.50min\n",
      "removing /mnt/d/workspace/clotho/notebooks/checkpoints/stats_v4_lg_23.json\n",
      "removing /mnt/d/workspace/clotho/notebooks/checkpoints/harness_v4_lg_23.pkl\n",
      "best model: /mnt/d/workspace/clotho/notebooks/checkpoints/harness_v4_lg_1.pkl\n",
      "best train: 0.7213\n",
      "best train val: 0.6823\n",
      "best test: 0.5997\n",
      "epoch 25 version: 4\n"
     ]
    },
    {
     "data": {
      "application/vnd.jupyter.widget-view+json": {
       "model_id": "d9b11a86e50141bbafd216ea1da36cbd",
       "version_major": 2,
       "version_minor": 0
      },
      "text/plain": [
       "train:   0%|          | 0/20000 [00:00<?, ?it/s]"
      ]
     },
     "metadata": {},
     "output_type": "display_data"
    },
    {
     "data": {
      "application/vnd.jupyter.widget-view+json": {
       "model_id": "31fe8038b6c24141918805e24bfd829c",
       "version_major": 2,
       "version_minor": 0
      },
      "text/plain": [
       "train val:   0%|          | 0/10000 [00:00<?, ?it/s]"
      ]
     },
     "metadata": {},
     "output_type": "display_data"
    },
    {
     "data": {
      "application/vnd.jupyter.widget-view+json": {
       "model_id": "10b90463162c47299b0560a49a43c3dc",
       "version_major": 2,
       "version_minor": 0
      },
      "text/plain": [
       "test:   0%|          | 0/10000 [00:00<?, ?it/s]"
      ]
     },
     "metadata": {},
     "output_type": "display_data"
    },
    {
     "name": "stdout",
     "output_type": "stream",
     "text": [
      "train: 0.64255 loss: 0.5708352890789509\n",
      "train val: 0.6435 loss: 0.5746357249498367\n",
      "test: 0.5103 loss: 0.6955260101079941\n",
      "epoch time: 12.78min\n",
      "removing /mnt/d/workspace/clotho/notebooks/checkpoints/stats_v4_lg_24.json\n",
      "removing /mnt/d/workspace/clotho/notebooks/checkpoints/harness_v4_lg_24.pkl\n",
      "best model: /mnt/d/workspace/clotho/notebooks/checkpoints/harness_v4_lg_1.pkl\n",
      "best train: 0.7213\n",
      "best train val: 0.6823\n",
      "best test: 0.5997\n",
      "epoch 26 version: 4\n"
     ]
    },
    {
     "data": {
      "application/vnd.jupyter.widget-view+json": {
       "model_id": "25a701516482426bb994e83aee53908b",
       "version_major": 2,
       "version_minor": 0
      },
      "text/plain": [
       "train:   0%|          | 0/20000 [00:00<?, ?it/s]"
      ]
     },
     "metadata": {},
     "output_type": "display_data"
    },
    {
     "data": {
      "application/vnd.jupyter.widget-view+json": {
       "model_id": "085cd4434e47458baca2faf3fe0d5c58",
       "version_major": 2,
       "version_minor": 0
      },
      "text/plain": [
       "train val:   0%|          | 0/10000 [00:00<?, ?it/s]"
      ]
     },
     "metadata": {},
     "output_type": "display_data"
    },
    {
     "data": {
      "application/vnd.jupyter.widget-view+json": {
       "model_id": "3eb4cdcd19c540d194fc3b031efa88c6",
       "version_major": 2,
       "version_minor": 0
      },
      "text/plain": [
       "test:   0%|          | 0/10000 [00:00<?, ?it/s]"
      ]
     },
     "metadata": {},
     "output_type": "display_data"
    },
    {
     "name": "stdout",
     "output_type": "stream",
     "text": [
      "train: 0.6486 loss: 0.5668161426365376\n",
      "train val: 0.6199 loss: 0.5714111444711685\n",
      "test: 0.5002 loss: 0.6821892236232757\n",
      "epoch time: 12.65min\n",
      "removing /mnt/d/workspace/clotho/notebooks/checkpoints/stats_v4_lg_5.json\n",
      "removing /mnt/d/workspace/clotho/notebooks/checkpoints/harness_v4_lg_5.pkl\n",
      "best model: /mnt/d/workspace/clotho/notebooks/checkpoints/harness_v4_lg_1.pkl\n",
      "best train: 0.7213\n",
      "best train val: 0.6823\n",
      "best test: 0.5997\n",
      "epoch 27 version: 4\n"
     ]
    },
    {
     "data": {
      "application/vnd.jupyter.widget-view+json": {
       "model_id": "1946e416890d41af977fbc45aaef6a6a",
       "version_major": 2,
       "version_minor": 0
      },
      "text/plain": [
       "train:   0%|          | 0/20000 [00:00<?, ?it/s]"
      ]
     },
     "metadata": {},
     "output_type": "display_data"
    },
    {
     "data": {
      "application/vnd.jupyter.widget-view+json": {
       "model_id": "47f3c330d70b47d2a08410a8f692a20c",
       "version_major": 2,
       "version_minor": 0
      },
      "text/plain": [
       "train val:   0%|          | 0/10000 [00:00<?, ?it/s]"
      ]
     },
     "metadata": {},
     "output_type": "display_data"
    },
    {
     "data": {
      "application/vnd.jupyter.widget-view+json": {
       "model_id": "3ee4cd87cdda462d80fb73bfe3cb2cce",
       "version_major": 2,
       "version_minor": 0
      },
      "text/plain": [
       "test:   0%|          | 0/10000 [00:00<?, ?it/s]"
      ]
     },
     "metadata": {},
     "output_type": "display_data"
    },
    {
     "name": "stdout",
     "output_type": "stream",
     "text": [
      "train: 0.63385 loss: 0.5735134291231633\n",
      "train val: 0.622 loss: 0.5694981135010719\n",
      "test: 0.4979 loss: 0.68143065533638\n",
      "epoch time: 12.66min\n",
      "removing /mnt/d/workspace/clotho/notebooks/checkpoints/stats_v4_lg_26.json\n",
      "removing /mnt/d/workspace/clotho/notebooks/checkpoints/harness_v4_lg_26.pkl\n",
      "best model: /mnt/d/workspace/clotho/notebooks/checkpoints/harness_v4_lg_1.pkl\n",
      "best train: 0.7213\n",
      "best train val: 0.6823\n",
      "best test: 0.5997\n",
      "epoch 28 version: 4\n"
     ]
    },
    {
     "data": {
      "application/vnd.jupyter.widget-view+json": {
       "model_id": "53566374fea44e6daf63e633e46599ad",
       "version_major": 2,
       "version_minor": 0
      },
      "text/plain": [
       "train:   0%|          | 0/20000 [00:00<?, ?it/s]"
      ]
     },
     "metadata": {},
     "output_type": "display_data"
    },
    {
     "data": {
      "application/vnd.jupyter.widget-view+json": {
       "model_id": "4d1b031758dd48b995f8a6eafb55d142",
       "version_major": 2,
       "version_minor": 0
      },
      "text/plain": [
       "train val:   0%|          | 0/10000 [00:00<?, ?it/s]"
      ]
     },
     "metadata": {},
     "output_type": "display_data"
    },
    {
     "data": {
      "application/vnd.jupyter.widget-view+json": {
       "model_id": "54bff8f3c0274a14b8a27421840a8edd",
       "version_major": 2,
       "version_minor": 0
      },
      "text/plain": [
       "test:   0%|          | 0/10000 [00:00<?, ?it/s]"
      ]
     },
     "metadata": {},
     "output_type": "display_data"
    },
    {
     "name": "stdout",
     "output_type": "stream",
     "text": [
      "train: 0.6234 loss: 0.576854264691472\n",
      "train val: 0.612 loss: 0.5674688564717769\n",
      "test: 0.5025 loss: 0.6799674209952354\n",
      "epoch time: 12.51min\n",
      "removing /mnt/d/workspace/clotho/notebooks/checkpoints/stats_v4_lg_27.json\n",
      "removing /mnt/d/workspace/clotho/notebooks/checkpoints/harness_v4_lg_27.pkl\n",
      "best model: /mnt/d/workspace/clotho/notebooks/checkpoints/harness_v4_lg_1.pkl\n",
      "best train: 0.7213\n",
      "best train val: 0.6823\n",
      "best test: 0.5997\n",
      "epoch 29 version: 4\n"
     ]
    },
    {
     "data": {
      "application/vnd.jupyter.widget-view+json": {
       "model_id": "af742151dbf54b96b4a8ed804c9bc76a",
       "version_major": 2,
       "version_minor": 0
      },
      "text/plain": [
       "train:   0%|          | 0/20000 [00:00<?, ?it/s]"
      ]
     },
     "metadata": {},
     "output_type": "display_data"
    },
    {
     "data": {
      "application/vnd.jupyter.widget-view+json": {
       "model_id": "67692a70e0b44a379a90bf1e7287a0d9",
       "version_major": 2,
       "version_minor": 0
      },
      "text/plain": [
       "train val:   0%|          | 0/10000 [00:00<?, ?it/s]"
      ]
     },
     "metadata": {},
     "output_type": "display_data"
    },
    {
     "data": {
      "application/vnd.jupyter.widget-view+json": {
       "model_id": "72187b11b74d4b809bcc9943306e18d0",
       "version_major": 2,
       "version_minor": 0
      },
      "text/plain": [
       "test:   0%|          | 0/10000 [00:00<?, ?it/s]"
      ]
     },
     "metadata": {},
     "output_type": "display_data"
    },
    {
     "name": "stdout",
     "output_type": "stream",
     "text": [
      "train: 0.60755 loss: 0.6077915422469378\n",
      "train val: 0.4885 loss: 0.6944189430952072\n",
      "test: 0.4872 loss: 0.7097502334594726\n",
      "epoch time: 12.29min\n",
      "removing /mnt/d/workspace/clotho/notebooks/checkpoints/stats_v4_lg_28.json\n",
      "removing /mnt/d/workspace/clotho/notebooks/checkpoints/harness_v4_lg_28.pkl\n",
      "best model: /mnt/d/workspace/clotho/notebooks/checkpoints/harness_v4_lg_1.pkl\n",
      "best train: 0.7213\n",
      "best train val: 0.6823\n",
      "best test: 0.5997\n"
     ]
    },
    {
     "data": {
      "application/vnd.jupyter.widget-view+json": {
       "model_id": "e4dc799929e349928515401340fd1746",
       "version_major": 2,
       "version_minor": 0
      },
      "text/plain": [
       "test val:   0%|          | 0/10000 [00:00<?, ?it/s]"
      ]
     },
     "metadata": {},
     "output_type": "display_data"
    },
    {
     "name": "stdout",
     "output_type": "stream",
     "text": [
      "test val: {'accuracy': 0.4824} loss: 0.711129313826561\n",
      "correct\n"
     ]
    },
    {
     "data": {
      "text/html": [
       "<div>\n",
       "<style scoped>\n",
       "    .dataframe tbody tr th:only-of-type {\n",
       "        vertical-align: middle;\n",
       "    }\n",
       "\n",
       "    .dataframe tbody tr th {\n",
       "        vertical-align: top;\n",
       "    }\n",
       "\n",
       "    .dataframe thead th {\n",
       "        text-align: right;\n",
       "    }\n",
       "</style>\n",
       "<table border=\"1\" class=\"dataframe\">\n",
       "  <thead>\n",
       "    <tr style=\"text-align: right;\">\n",
       "      <th></th>\n",
       "      <th>gen_name</th>\n",
       "      <th>parent_left</th>\n",
       "      <th>child_left</th>\n",
       "      <th>parent_right</th>\n",
       "      <th>child_right</th>\n",
       "      <th>sway_left</th>\n",
       "      <th>sway_right</th>\n",
       "      <th>correct_is_right</th>\n",
       "      <th>logit_left</th>\n",
       "      <th>logit_right</th>\n",
       "      <th>preds</th>\n",
       "      <th>truth</th>\n",
       "    </tr>\n",
       "  </thead>\n",
       "  <tbody>\n",
       "    <tr>\n",
       "      <th>2</th>\n",
       "      <td>*valid--!copy;(sw);(st)</td>\n",
       "      <td>She actually has a song where this is the poin...</td>\n",
       "      <td>Yep, this one came to mind. She is incredible ...</td>\n",
       "      <td>Yep, this one came to mind. She is incredible ...</td>\n",
       "      <td>She actually has a song where this is the poin...</td>\n",
       "      <td>0.997527</td>\n",
       "      <td>0.002473</td>\n",
       "      <td>False</td>\n",
       "      <td>0.500002</td>\n",
       "      <td>0.499998</td>\n",
       "      <td>0</td>\n",
       "      <td>0</td>\n",
       "    </tr>\n",
       "    <tr>\n",
       "      <th>3</th>\n",
       "      <td>*valid--random;(mtl:20);(sw);(st)</td>\n",
       "      <td>The cigarette industry social lied about cigar...</td>\n",
       "      <td>covid vaccines can protect from covid</td>\n",
       "      <td>“Women get sex so easy!” “Man I bet no one wan...</td>\n",
       "      <td>You guys watch porn with sound on??? What a pr...</td>\n",
       "      <td>0.880797</td>\n",
       "      <td>0.119203</td>\n",
       "      <td>False</td>\n",
       "      <td>0.504899</td>\n",
       "      <td>0.495101</td>\n",
       "      <td>0</td>\n",
       "      <td>0</td>\n",
       "    </tr>\n",
       "    <tr>\n",
       "      <th>0</th>\n",
       "      <td>random--valid;(mtl:20);(sw);(st)</td>\n",
       "      <td>So that's where it came from albeit it's still...</td>\n",
       "      <td>Yeah that's pretty much what he did. Epstein h...</td>\n",
       "      <td>I work in a kitchen full of men and it's quite...</td>\n",
       "      <td>Tears are for the French</td>\n",
       "      <td>0.000911</td>\n",
       "      <td>0.999089</td>\n",
       "      <td>True</td>\n",
       "      <td>0.398905</td>\n",
       "      <td>0.601095</td>\n",
       "      <td>1</td>\n",
       "      <td>1</td>\n",
       "    </tr>\n",
       "    <tr>\n",
       "      <th>1</th>\n",
       "      <td>random--valid;(mtl:20);(sw);(st)</td>\n",
       "      <td>I am uncomfortably comfortable not trying.</td>\n",
       "      <td>They're slightly better than nickleback. Haha</td>\n",
       "      <td>US uses 120 VAC (RMS), so the wattage is half ...</td>\n",
       "      <td>Interesting!! I came into this not knowing muc...</td>\n",
       "      <td>0.119203</td>\n",
       "      <td>0.880797</td>\n",
       "      <td>True</td>\n",
       "      <td>0.499998</td>\n",
       "      <td>0.500002</td>\n",
       "      <td>1</td>\n",
       "      <td>1</td>\n",
       "    </tr>\n",
       "    <tr>\n",
       "      <th>2</th>\n",
       "      <td>*valid--random;(sw);(st)</td>\n",
       "      <td>$5 and I'll never tell him i won as I wouldn't...</td>\n",
       "      <td>Sounds like a plot to a movie lol</td>\n",
       "      <td>The last iteration of them yeah, just thanks t...</td>\n",
       "      <td>Don't throw away your money. When you get paid...</td>\n",
       "      <td>0.880797</td>\n",
       "      <td>0.119203</td>\n",
       "      <td>False</td>\n",
       "      <td>0.601102</td>\n",
       "      <td>0.398898</td>\n",
       "      <td>0</td>\n",
       "      <td>0</td>\n",
       "    </tr>\n",
       "  </tbody>\n",
       "</table>\n",
       "</div>"
      ],
      "text/plain": [
       "                            gen_name  \\\n",
       "2            *valid--!copy;(sw);(st)   \n",
       "3  *valid--random;(mtl:20);(sw);(st)   \n",
       "0   random--valid;(mtl:20);(sw);(st)   \n",
       "1   random--valid;(mtl:20);(sw);(st)   \n",
       "2           *valid--random;(sw);(st)   \n",
       "\n",
       "                                         parent_left  \\\n",
       "2  She actually has a song where this is the poin...   \n",
       "3  The cigarette industry social lied about cigar...   \n",
       "0  So that's where it came from albeit it's still...   \n",
       "1         I am uncomfortably comfortable not trying.   \n",
       "2  $5 and I'll never tell him i won as I wouldn't...   \n",
       "\n",
       "                                          child_left  \\\n",
       "2  Yep, this one came to mind. She is incredible ...   \n",
       "3              covid vaccines can protect from covid   \n",
       "0  Yeah that's pretty much what he did. Epstein h...   \n",
       "1      They're slightly better than nickleback. Haha   \n",
       "2                  Sounds like a plot to a movie lol   \n",
       "\n",
       "                                        parent_right  \\\n",
       "2  Yep, this one came to mind. She is incredible ...   \n",
       "3  “Women get sex so easy!” “Man I bet no one wan...   \n",
       "0  I work in a kitchen full of men and it's quite...   \n",
       "1  US uses 120 VAC (RMS), so the wattage is half ...   \n",
       "2  The last iteration of them yeah, just thanks t...   \n",
       "\n",
       "                                         child_right  sway_left  sway_right  \\\n",
       "2  She actually has a song where this is the poin...   0.997527    0.002473   \n",
       "3  You guys watch porn with sound on??? What a pr...   0.880797    0.119203   \n",
       "0                           Tears are for the French   0.000911    0.999089   \n",
       "1  Interesting!! I came into this not knowing muc...   0.119203    0.880797   \n",
       "2  Don't throw away your money. When you get paid...   0.880797    0.119203   \n",
       "\n",
       "   correct_is_right  logit_left  logit_right  preds  truth  \n",
       "2             False    0.500002     0.499998      0      0  \n",
       "3             False    0.504899     0.495101      0      0  \n",
       "0              True    0.398905     0.601095      1      1  \n",
       "1              True    0.499998     0.500002      1      1  \n",
       "2             False    0.601102     0.398898      0      0  "
      ]
     },
     "metadata": {},
     "output_type": "display_data"
    },
    {
     "name": "stdout",
     "output_type": "stream",
     "text": [
      "incorrect\n"
     ]
    },
    {
     "data": {
      "text/html": [
       "<div>\n",
       "<style scoped>\n",
       "    .dataframe tbody tr th:only-of-type {\n",
       "        vertical-align: middle;\n",
       "    }\n",
       "\n",
       "    .dataframe tbody tr th {\n",
       "        vertical-align: top;\n",
       "    }\n",
       "\n",
       "    .dataframe thead th {\n",
       "        text-align: right;\n",
       "    }\n",
       "</style>\n",
       "<table border=\"1\" class=\"dataframe\">\n",
       "  <thead>\n",
       "    <tr style=\"text-align: right;\">\n",
       "      <th></th>\n",
       "      <th>gen_name</th>\n",
       "      <th>parent_left</th>\n",
       "      <th>child_left</th>\n",
       "      <th>parent_right</th>\n",
       "      <th>child_right</th>\n",
       "      <th>sway_left</th>\n",
       "      <th>sway_right</th>\n",
       "      <th>correct_is_right</th>\n",
       "      <th>logit_left</th>\n",
       "      <th>logit_right</th>\n",
       "      <th>preds</th>\n",
       "      <th>truth</th>\n",
       "    </tr>\n",
       "  </thead>\n",
       "  <tbody>\n",
       "    <tr>\n",
       "      <th>0</th>\n",
       "      <td>!copy--valid;(mtl:20);(sw);(st)</td>\n",
       "      <td>Gonna ride the baloney pony all the way to Was...</td>\n",
       "      <td>I'd literally take the law into my own hands.</td>\n",
       "      <td>I'd literally take the law into my own hands.</td>\n",
       "      <td>Gonna ride the baloney pony all the way to Was...</td>\n",
       "      <td>4.662937e-15</td>\n",
       "      <td>1.000000</td>\n",
       "      <td>True</td>\n",
       "      <td>0.596427</td>\n",
       "      <td>0.403573</td>\n",
       "      <td>0</td>\n",
       "      <td>1</td>\n",
       "    </tr>\n",
       "    <tr>\n",
       "      <th>1</th>\n",
       "      <td>*valid--!copy;(mtl:20);(sw);(st)</td>\n",
       "      <td>Men are still plenty selective about who they ...</td>\n",
       "      <td>Men are selective, as in, they'll select from ...</td>\n",
       "      <td>Men are selective, as in, they'll select from ...</td>\n",
       "      <td>Men are still plenty selective about who they ...</td>\n",
       "      <td>9.998766e-01</td>\n",
       "      <td>0.000123</td>\n",
       "      <td>False</td>\n",
       "      <td>0.499994</td>\n",
       "      <td>0.500006</td>\n",
       "      <td>1</td>\n",
       "      <td>0</td>\n",
       "    </tr>\n",
       "    <tr>\n",
       "      <th>2</th>\n",
       "      <td>random--valid;(sw);(st)</td>\n",
       "      <td>Dungeons and Dragons</td>\n",
       "      <td>Did you see this post a week ago and got jealo...</td>\n",
       "      <td>Question for the men, what's the worst part of...</td>\n",
       "      <td>When sitting wrong on your bike seat and cutti...</td>\n",
       "      <td>1.192029e-01</td>\n",
       "      <td>0.880797</td>\n",
       "      <td>True</td>\n",
       "      <td>0.500008</td>\n",
       "      <td>0.499992</td>\n",
       "      <td>0</td>\n",
       "      <td>1</td>\n",
       "    </tr>\n",
       "    <tr>\n",
       "      <th>3</th>\n",
       "      <td>random--valid;(sw);(st)</td>\n",
       "      <td>I always brush my teeth but need to floss more...</td>\n",
       "      <td>As an american all I can say is: why?</td>\n",
       "      <td>[removed]</td>\n",
       "      <td>User profile checks out. Bet you're on a list ...</td>\n",
       "      <td>1.192029e-01</td>\n",
       "      <td>0.880797</td>\n",
       "      <td>True</td>\n",
       "      <td>0.601125</td>\n",
       "      <td>0.398875</td>\n",
       "      <td>0</td>\n",
       "      <td>1</td>\n",
       "    </tr>\n",
       "    <tr>\n",
       "      <th>0</th>\n",
       "      <td>*valid--random;(sw);(st)</td>\n",
       "      <td>And they taste delicious when chopped into hal...</td>\n",
       "      <td>In Spain/Portugal we also cook them \"a feira\" ...</td>\n",
       "      <td>Seinfeld seems to be the one that paved the wa...</td>\n",
       "      <td>Wiping down gym equipment.</td>\n",
       "      <td>9.933071e-01</td>\n",
       "      <td>0.006693</td>\n",
       "      <td>False</td>\n",
       "      <td>0.398877</td>\n",
       "      <td>0.601123</td>\n",
       "      <td>1</td>\n",
       "      <td>0</td>\n",
       "    </tr>\n",
       "  </tbody>\n",
       "</table>\n",
       "</div>"
      ],
      "text/plain": [
       "                           gen_name  \\\n",
       "0   !copy--valid;(mtl:20);(sw);(st)   \n",
       "1  *valid--!copy;(mtl:20);(sw);(st)   \n",
       "2           random--valid;(sw);(st)   \n",
       "3           random--valid;(sw);(st)   \n",
       "0          *valid--random;(sw);(st)   \n",
       "\n",
       "                                         parent_left  \\\n",
       "0  Gonna ride the baloney pony all the way to Was...   \n",
       "1  Men are still plenty selective about who they ...   \n",
       "2                               Dungeons and Dragons   \n",
       "3  I always brush my teeth but need to floss more...   \n",
       "0  And they taste delicious when chopped into hal...   \n",
       "\n",
       "                                          child_left  \\\n",
       "0      I'd literally take the law into my own hands.   \n",
       "1  Men are selective, as in, they'll select from ...   \n",
       "2  Did you see this post a week ago and got jealo...   \n",
       "3              As an american all I can say is: why?   \n",
       "0  In Spain/Portugal we also cook them \"a feira\" ...   \n",
       "\n",
       "                                        parent_right  \\\n",
       "0      I'd literally take the law into my own hands.   \n",
       "1  Men are selective, as in, they'll select from ...   \n",
       "2  Question for the men, what's the worst part of...   \n",
       "3                                          [removed]   \n",
       "0  Seinfeld seems to be the one that paved the wa...   \n",
       "\n",
       "                                         child_right     sway_left  \\\n",
       "0  Gonna ride the baloney pony all the way to Was...  4.662937e-15   \n",
       "1  Men are still plenty selective about who they ...  9.998766e-01   \n",
       "2  When sitting wrong on your bike seat and cutti...  1.192029e-01   \n",
       "3  User profile checks out. Bet you're on a list ...  1.192029e-01   \n",
       "0                         Wiping down gym equipment.  9.933071e-01   \n",
       "\n",
       "   sway_right  correct_is_right  logit_left  logit_right  preds  truth  \n",
       "0    1.000000              True    0.596427     0.403573      0      1  \n",
       "1    0.000123             False    0.499994     0.500006      1      0  \n",
       "2    0.880797              True    0.500008     0.499992      0      1  \n",
       "3    0.880797              True    0.601125     0.398875      0      1  \n",
       "0    0.006693             False    0.398877     0.601123      1      0  "
      ]
     },
     "metadata": {},
     "output_type": "display_data"
    },
    {
     "data": {
      "text/plain": [
       "array([[ -5.5141153,   9.044989 , -31.054817 , ...,  -5.765789 ,\n",
       "          1.6973658,  38.0201   ],\n",
       "       [  2.4493523,  -1.2062029, -25.710094 , ..., -30.202929 ,\n",
       "         28.304255 ,  29.005411 ],\n",
       "       [  2.4443328,  -1.1933109, -25.796654 , ..., -30.265146 ,\n",
       "         28.360348 ,  29.088915 ],\n",
       "       [ -4.8776374,   8.160881 , -27.576668 , ...,  -4.6755104,\n",
       "          0.6063639,  34.189426 ]], dtype=float32)"
      ]
     },
     "metadata": {},
     "output_type": "display_data"
    },
    {
     "data": {
      "text/plain": [
       "array([[  2.4481952,  -1.2033818, -25.72742  , ..., -30.214876 ,\n",
       "         28.315321 ,  29.02198  ],\n",
       "       [  2.4477866,  -1.2023114, -25.735184 , ..., -30.220766 ,\n",
       "         28.320482 ,  29.029535 ],\n",
       "       [  2.4462852,  -1.1985096, -25.760689 , ..., -30.23946  ,\n",
       "         28.337133 ,  29.054201 ],\n",
       "       [  2.4459023,  -1.1975831, -25.765926 , ..., -30.242685 ,\n",
       "         28.340334 ,  29.059114 ]], dtype=float32)"
      ]
     },
     "metadata": {},
     "output_type": "display_data"
    },
    {
     "data": {
      "text/plain": [
       "array([[  2.445209  ,  -1.1956297 , -25.78091   , ..., -30.254072  ,\n",
       "         28.350254  ,  29.073763  ],\n",
       "       [  2.4468923 ,  -1.200091  , -25.74943   , ..., -30.230898  ,\n",
       "         28.329674  ,  29.04323   ],\n",
       "       [  2.4487844 ,  -1.2048225 , -25.718475  , ..., -30.208658  ,\n",
       "         28.309593  ,  29.013414  ],\n",
       "       [ -4.878682  ,   8.162063  , -27.581423  , ...,  -4.676206  ,\n",
       "          0.60657036,  34.195087  ]], dtype=float32)"
      ]
     },
     "metadata": {},
     "output_type": "display_data"
    },
    {
     "data": {
      "text/plain": [
       "array([[ -4.8785563,   8.161921 , -27.58085  , ...,  -4.6761227,\n",
       "          0.6065458,  34.1944   ],\n",
       "       [  2.4408793,  -1.1840903, -25.859398 , ..., -30.309908 ,\n",
       "         28.40057  ,  29.149448 ],\n",
       "       [  2.4493713,  -1.2062863, -25.708912 , ..., -30.201809 ,\n",
       "         28.303381 ,  29.004202 ],\n",
       "       [ -5.5141273,   9.04501  , -31.0549   , ...,  -5.7658443,\n",
       "          1.6974282,  38.020176 ]], dtype=float32)"
      ]
     },
     "metadata": {},
     "output_type": "display_data"
    },
    {
     "data": {
      "text/plain": [
       "array([[  2.4385178 ,  -1.1777536 , -25.901848  , ..., -30.340334  ,\n",
       "         28.427639  ,  29.190416  ],\n",
       "       [ -5.514207  ,   9.045146  , -31.055452  , ...,  -5.766234  ,\n",
       "          1.6978741 ,  38.02068   ],\n",
       "       [ -4.8784933 ,   8.161849  , -27.580564  , ...,  -4.67608   ,\n",
       "          0.60653305,  34.194057  ],\n",
       "       [ -4.87847   ,   8.161822  , -27.580456  , ...,  -4.6760645 ,\n",
       "          0.60652864,  34.19393   ]], dtype=float32)"
      ]
     },
     "metadata": {},
     "output_type": "display_data"
    },
    {
     "data": {
      "text/plain": [
       "array([[ -4.87859   ,   8.161959  , -27.581005  , ...,  -4.6761446 ,\n",
       "          0.60655254,  34.194588  ],\n",
       "       [ -5.514116  ,   9.044991  , -31.054821  , ...,  -5.765791  ,\n",
       "          1.6973675 ,  38.020107  ],\n",
       "       [  2.4401698 ,  -1.1821436 , -25.873573  , ..., -30.321194  ,\n",
       "         28.409954  ,  29.163486  ],\n",
       "       [ -4.8775597 ,   8.160793  , -27.576313  , ...,  -4.675459  ,\n",
       "          0.60634834,  34.189007  ]], dtype=float32)"
      ]
     },
     "metadata": {},
     "output_type": "display_data"
    },
    {
     "data": {
      "text/plain": [
       "array([[  2.45079   ,  -1.2098842 , -25.684277  , ..., -30.183773  ,\n",
       "         28.287184  ,  28.980368  ],\n",
       "       [  2.45063   ,  -1.2094291 , -25.688234  , ..., -30.186987  ,\n",
       "         28.289919  ,  28.984282  ],\n",
       "       [  2.4494162 ,  -1.2063949 , -25.708258  , ..., -30.201365  ,\n",
       "         28.302963  ,  29.003578  ],\n",
       "       [ -4.87862   ,   8.161992  , -27.58114   , ...,  -4.6761646 ,\n",
       "          0.60655844,  34.194744  ]], dtype=float32)"
      ]
     },
     "metadata": {},
     "output_type": "display_data"
    },
    {
     "data": {
      "text/plain": [
       "array([[  2.4337804,  -1.1642884, -25.989208 , ..., -30.400358 ,\n",
       "         28.482494 ,  29.274292 ],\n",
       "       [ -4.8785667,   8.161932 , -27.580898 , ...,  -4.6761293,\n",
       "          0.6065476,  34.194458 ],\n",
       "       [ -5.5141487,   9.045046 , -31.05505  , ...,  -5.765951 ,\n",
       "          1.6975509,  38.020317 ],\n",
       "       [  2.4473264,  -1.2012572, -25.740698 , ..., -30.22417  ,\n",
       "         28.323845 ,  29.034712 ]], dtype=float32)"
      ]
     },
     "metadata": {},
     "output_type": "display_data"
    },
    {
     "data": {
      "text/plain": [
       "array([[  2.443903  ,  -1.1920716 , -25.807037  , ..., -30.27395   ,\n",
       "         28.36748   ,  29.099361  ],\n",
       "       [ -4.8786235 ,   8.161997  , -27.58116   , ...,  -4.6761675 ,\n",
       "          0.60655904,  34.194767  ],\n",
       "       [  2.4425223 ,  -1.1884961 , -25.829363  , ..., -30.288313  ,\n",
       "         28.381304  ,  29.120428  ],\n",
       "       [  2.4463482 ,  -1.1986724 , -25.759533  , ..., -30.238575  ,\n",
       "         28.336367  ,  29.053072  ]], dtype=float32)"
      ]
     },
     "metadata": {},
     "output_type": "display_data"
    },
    {
     "data": {
      "text/plain": [
       "array([[ -4.8785057,   8.161863 , -27.58062  , ...,  -4.6760883,\n",
       "          0.6065355,  34.19413  ],\n",
       "       [  2.447299 ,  -1.2010677, -25.743698 , ..., -30.227066 ,\n",
       "         28.32607  ,  29.037786 ],\n",
       "       [  2.4476943,  -1.2020344, -25.737751 , ..., -30.222965 ,\n",
       "         28.322279 ,  29.032103 ],\n",
       "       [ -4.8785753,   8.161942 , -27.580938 , ...,  -4.676135 ,\n",
       "          0.606549 ,  34.194504 ]], dtype=float32)"
      ]
     },
     "metadata": {},
     "output_type": "display_data"
    },
    {
     "name": "stderr",
     "output_type": "stream",
     "text": [
      "Some weights of the model checkpoint at distilbert-base-uncased were not used when initializing DistilBertModel: ['vocab_transform.bias', 'vocab_projector.bias', 'vocab_transform.weight', 'vocab_layer_norm.bias', 'vocab_layer_norm.weight', 'vocab_projector.weight']\n",
      "- This IS expected if you are initializing DistilBertModel from the checkpoint of a model trained on another task or with another architecture (e.g. initializing a BertForSequenceClassification model from a BertForPreTraining model).\n",
      "- This IS NOT expected if you are initializing DistilBertModel from the checkpoint of a model that you expect to be exactly identical (initializing a BertForSequenceClassification model from a BertForSequenceClassification model).\n",
      "Some weights of the model checkpoint at distilbert-base-uncased were not used when initializing DistilBertModel: ['vocab_transform.bias', 'vocab_projector.bias', 'vocab_transform.weight', 'vocab_layer_norm.bias', 'vocab_layer_norm.weight', 'vocab_projector.weight']\n",
      "- This IS expected if you are initializing DistilBertModel from the checkpoint of a model trained on another task or with another architecture (e.g. initializing a BertForSequenceClassification model from a BertForPreTraining model).\n",
      "- This IS NOT expected if you are initializing DistilBertModel from the checkpoint of a model that you expect to be exactly identical (initializing a BertForSequenceClassification model from a BertForSequenceClassification model).\n"
     ]
    },
    {
     "name": "stdout",
     "output_type": "stream",
     "text": [
      "None 0\n",
      "epoch 0 version: 5\n"
     ]
    },
    {
     "data": {
      "application/vnd.jupyter.widget-view+json": {
       "model_id": "4701a91008b74ef094edbadaacfc29a3",
       "version_major": 2,
       "version_minor": 0
      },
      "text/plain": [
       "train:   0%|          | 0/20000 [00:00<?, ?it/s]"
      ]
     },
     "metadata": {},
     "output_type": "display_data"
    },
    {
     "data": {
      "application/vnd.jupyter.widget-view+json": {
       "model_id": "a81d4c1c5e154020a8cc8943e70a962a",
       "version_major": 2,
       "version_minor": 0
      },
      "text/plain": [
       "train val:   0%|          | 0/10000 [00:00<?, ?it/s]"
      ]
     },
     "metadata": {},
     "output_type": "display_data"
    },
    {
     "data": {
      "application/vnd.jupyter.widget-view+json": {
       "model_id": "4fb478e1dbad4dbfb11fe0cd672f379b",
       "version_major": 2,
       "version_minor": 0
      },
      "text/plain": [
       "test:   0%|          | 0/10000 [00:00<?, ?it/s]"
      ]
     },
     "metadata": {},
     "output_type": "display_data"
    },
    {
     "name": "stdout",
     "output_type": "stream",
     "text": [
      "train: 0.5124 loss: 15.49084200267191\n",
      "train val: 0.5607 loss: 0.692069203710556\n",
      "test: 0.5275 loss: 0.7090290358424187\n",
      "epoch time: 12.08min\n",
      "best model: /mnt/d/workspace/clotho/notebooks/checkpoints/harness_v5_lg_0.pkl\n",
      "best train: 0.5124\n",
      "best train val: 0.5607\n",
      "best test: 0.5275\n",
      "epoch 1 version: 5\n"
     ]
    },
    {
     "data": {
      "application/vnd.jupyter.widget-view+json": {
       "model_id": "6cbeff28c64140d7be06db0c85f5d6d0",
       "version_major": 2,
       "version_minor": 0
      },
      "text/plain": [
       "train:   0%|          | 0/20000 [00:00<?, ?it/s]"
      ]
     },
     "metadata": {},
     "output_type": "display_data"
    },
    {
     "data": {
      "application/vnd.jupyter.widget-view+json": {
       "model_id": "91c5009b56a84771a802ba0112f07aa3",
       "version_major": 2,
       "version_minor": 0
      },
      "text/plain": [
       "train val:   0%|          | 0/10000 [00:00<?, ?it/s]"
      ]
     },
     "metadata": {},
     "output_type": "display_data"
    },
    {
     "data": {
      "application/vnd.jupyter.widget-view+json": {
       "model_id": "38a3115bdf25482a97d999f0d210bf2a",
       "version_major": 2,
       "version_minor": 0
      },
      "text/plain": [
       "test:   0%|          | 0/10000 [00:00<?, ?it/s]"
      ]
     },
     "metadata": {},
     "output_type": "display_data"
    },
    {
     "name": "stdout",
     "output_type": "stream",
     "text": [
      "train: 0.5018 loss: 12.30151793807464\n",
      "train val: 0.4277 loss: 0.6954786846637726\n",
      "test: 0.4827 loss: 0.6938259245872498\n",
      "epoch time: 12.24min\n",
      "best model: /mnt/d/workspace/clotho/notebooks/checkpoints/harness_v5_lg_0.pkl\n",
      "best train: 0.5124\n",
      "best train val: 0.5607\n",
      "best test: 0.5275\n",
      "epoch 2 version: 5\n"
     ]
    },
    {
     "data": {
      "application/vnd.jupyter.widget-view+json": {
       "model_id": "403a9365926e4682a1998168e069b557",
       "version_major": 2,
       "version_minor": 0
      },
      "text/plain": [
       "train:   0%|          | 0/20000 [00:00<?, ?it/s]"
      ]
     },
     "metadata": {},
     "output_type": "display_data"
    },
    {
     "data": {
      "application/vnd.jupyter.widget-view+json": {
       "model_id": "9fe01d30940348cd889b1639aa199267",
       "version_major": 2,
       "version_minor": 0
      },
      "text/plain": [
       "train val:   0%|          | 0/10000 [00:00<?, ?it/s]"
      ]
     },
     "metadata": {},
     "output_type": "display_data"
    },
    {
     "data": {
      "application/vnd.jupyter.widget-view+json": {
       "model_id": "3f7820f644ed438b9098e952fbc1fc53",
       "version_major": 2,
       "version_minor": 0
      },
      "text/plain": [
       "test:   0%|          | 0/10000 [00:00<?, ?it/s]"
      ]
     },
     "metadata": {},
     "output_type": "display_data"
    },
    {
     "name": "stdout",
     "output_type": "stream",
     "text": [
      "train: 0.5012 loss: 10.787513082538497\n",
      "train val: 0.5257 loss: 0.6936739743232727\n",
      "test: 0.5372 loss: 0.6931018321752548\n",
      "epoch time: 12.19min\n",
      "best model: /mnt/d/workspace/clotho/notebooks/checkpoints/harness_v5_lg_0.pkl\n",
      "best train: 0.5124\n",
      "best train val: 0.5607\n",
      "best test: 0.5275\n",
      "epoch 3 version: 5\n"
     ]
    },
    {
     "data": {
      "application/vnd.jupyter.widget-view+json": {
       "model_id": "e24d2b2992474f60a56b15ab85e0d33e",
       "version_major": 2,
       "version_minor": 0
      },
      "text/plain": [
       "train:   0%|          | 0/20000 [00:00<?, ?it/s]"
      ]
     },
     "metadata": {},
     "output_type": "display_data"
    },
    {
     "data": {
      "application/vnd.jupyter.widget-view+json": {
       "model_id": "1f1f72a5bf34430590c8df081eabb4c6",
       "version_major": 2,
       "version_minor": 0
      },
      "text/plain": [
       "train val:   0%|          | 0/10000 [00:00<?, ?it/s]"
      ]
     },
     "metadata": {},
     "output_type": "display_data"
    },
    {
     "data": {
      "application/vnd.jupyter.widget-view+json": {
       "model_id": "61ea8e2328144be0b22e2e0cf3f045be",
       "version_major": 2,
       "version_minor": 0
      },
      "text/plain": [
       "test:   0%|          | 0/10000 [00:00<?, ?it/s]"
      ]
     },
     "metadata": {},
     "output_type": "display_data"
    },
    {
     "name": "stdout",
     "output_type": "stream",
     "text": [
      "train: 0.50785 loss: 9.027155975110782\n",
      "train val: 0.5515 loss: 0.6929506484270096\n",
      "test: 0.5216 loss: 0.6930907460212707\n",
      "epoch time: 12.14min\n",
      "best model: /mnt/d/workspace/clotho/notebooks/checkpoints/harness_v5_lg_0.pkl\n",
      "best train: 0.5124\n",
      "best train val: 0.5607\n",
      "best test: 0.5275\n",
      "epoch 4 version: 5\n"
     ]
    },
    {
     "data": {
      "application/vnd.jupyter.widget-view+json": {
       "model_id": "49d59f3e27034c539c6f6052d763d6d1",
       "version_major": 2,
       "version_minor": 0
      },
      "text/plain": [
       "train:   0%|          | 0/20000 [00:00<?, ?it/s]"
      ]
     },
     "metadata": {},
     "output_type": "display_data"
    },
    {
     "data": {
      "application/vnd.jupyter.widget-view+json": {
       "model_id": "fdbca50874b04f3787924679927f02fe",
       "version_major": 2,
       "version_minor": 0
      },
      "text/plain": [
       "train val:   0%|          | 0/10000 [00:00<?, ?it/s]"
      ]
     },
     "metadata": {},
     "output_type": "display_data"
    },
    {
     "data": {
      "application/vnd.jupyter.widget-view+json": {
       "model_id": "cd16a56281824053a10f7f98d7dcc44c",
       "version_major": 2,
       "version_minor": 0
      },
      "text/plain": [
       "test:   0%|          | 0/10000 [00:00<?, ?it/s]"
      ]
     },
     "metadata": {},
     "output_type": "display_data"
    },
    {
     "name": "stdout",
     "output_type": "stream",
     "text": [
      "train: 0.50085 loss: 8.070581946259194\n",
      "train val: 0.4682 loss: 0.6934021499633789\n",
      "test: 0.4415 loss: 0.6932738023519516\n",
      "epoch time: 11.98min\n",
      "best model: /mnt/d/workspace/clotho/notebooks/checkpoints/harness_v5_lg_0.pkl\n",
      "best train: 0.5124\n",
      "best train val: 0.5607\n",
      "best test: 0.5275\n",
      "epoch 5 version: 5\n"
     ]
    },
    {
     "data": {
      "application/vnd.jupyter.widget-view+json": {
       "model_id": "6a8a424262214eefa6cc1af28e6ce775",
       "version_major": 2,
       "version_minor": 0
      },
      "text/plain": [
       "train:   0%|          | 0/20000 [00:00<?, ?it/s]"
      ]
     },
     "metadata": {},
     "output_type": "display_data"
    },
    {
     "data": {
      "application/vnd.jupyter.widget-view+json": {
       "model_id": "df7087ac80074c00b22476f67b7d9a3f",
       "version_major": 2,
       "version_minor": 0
      },
      "text/plain": [
       "train val:   0%|          | 0/10000 [00:00<?, ?it/s]"
      ]
     },
     "metadata": {},
     "output_type": "display_data"
    },
    {
     "data": {
      "application/vnd.jupyter.widget-view+json": {
       "model_id": "4d51434d93be4830b028cb785074f94c",
       "version_major": 2,
       "version_minor": 0
      },
      "text/plain": [
       "test:   0%|          | 0/10000 [00:00<?, ?it/s]"
      ]
     },
     "metadata": {},
     "output_type": "display_data"
    },
    {
     "name": "stdout",
     "output_type": "stream",
     "text": [
      "train: 0.4967 loss: 6.743519980129495\n",
      "train val: 0.4195 loss: 0.6932168829441071\n",
      "test: 0.498 loss: 0.6931307865858078\n",
      "epoch time: 12.16min\n",
      "best model: /mnt/d/workspace/clotho/notebooks/checkpoints/harness_v5_lg_0.pkl\n",
      "best train: 0.5124\n",
      "best train val: 0.5607\n",
      "best test: 0.5275\n",
      "epoch 6 version: 5\n"
     ]
    },
    {
     "data": {
      "application/vnd.jupyter.widget-view+json": {
       "model_id": "8264f81805474d08a32d4f1adf7136d3",
       "version_major": 2,
       "version_minor": 0
      },
      "text/plain": [
       "train:   0%|          | 0/20000 [00:00<?, ?it/s]"
      ]
     },
     "metadata": {},
     "output_type": "display_data"
    },
    {
     "data": {
      "application/vnd.jupyter.widget-view+json": {
       "model_id": "b0083f69d30b4335b485080950b4e192",
       "version_major": 2,
       "version_minor": 0
      },
      "text/plain": [
       "train val:   0%|          | 0/10000 [00:00<?, ?it/s]"
      ]
     },
     "metadata": {},
     "output_type": "display_data"
    },
    {
     "data": {
      "application/vnd.jupyter.widget-view+json": {
       "model_id": "a41d8e67386944cfbcdc21e6c84ca118",
       "version_major": 2,
       "version_minor": 0
      },
      "text/plain": [
       "test:   0%|          | 0/10000 [00:00<?, ?it/s]"
      ]
     },
     "metadata": {},
     "output_type": "display_data"
    },
    {
     "name": "stdout",
     "output_type": "stream",
     "text": [
      "train: 0.50905 loss: 5.460568293827223\n",
      "train val: 0.4136 loss: 0.6932007447957993\n",
      "test: 0.485 loss: 0.6931213898658752\n",
      "epoch time: 12.09min\n",
      "removing /mnt/d/workspace/clotho/notebooks/checkpoints/stats_v5_lg_5.json\n",
      "removing /mnt/d/workspace/clotho/notebooks/checkpoints/harness_v5_lg_5.pkl\n",
      "best model: /mnt/d/workspace/clotho/notebooks/checkpoints/harness_v5_lg_0.pkl\n",
      "best train: 0.5124\n",
      "best train val: 0.5607\n",
      "best test: 0.5275\n",
      "epoch 7 version: 5\n"
     ]
    },
    {
     "data": {
      "application/vnd.jupyter.widget-view+json": {
       "model_id": "051d8fbbd25d46249d33a368376e8d25",
       "version_major": 2,
       "version_minor": 0
      },
      "text/plain": [
       "train:   0%|          | 0/20000 [00:00<?, ?it/s]"
      ]
     },
     "metadata": {},
     "output_type": "display_data"
    },
    {
     "data": {
      "application/vnd.jupyter.widget-view+json": {
       "model_id": "05ec5e1c665e4da090797a6f8d4685b9",
       "version_major": 2,
       "version_minor": 0
      },
      "text/plain": [
       "train val:   0%|          | 0/10000 [00:00<?, ?it/s]"
      ]
     },
     "metadata": {},
     "output_type": "display_data"
    },
    {
     "data": {
      "application/vnd.jupyter.widget-view+json": {
       "model_id": "4f2978774a564535b35da9da0b5ae13d",
       "version_major": 2,
       "version_minor": 0
      },
      "text/plain": [
       "test:   0%|          | 0/10000 [00:00<?, ?it/s]"
      ]
     },
     "metadata": {},
     "output_type": "display_data"
    },
    {
     "name": "stdout",
     "output_type": "stream",
     "text": [
      "train: 0.5024 loss: 4.644774866327901\n",
      "train val: 0.5846 loss: 0.6923048345088959\n",
      "test: 0.4642 loss: 0.7031250957489014\n",
      "epoch time: 12.05min\n",
      "removing /mnt/d/workspace/clotho/notebooks/checkpoints/stats_v5_lg_6.json\n",
      "removing /mnt/d/workspace/clotho/notebooks/checkpoints/harness_v5_lg_6.pkl\n",
      "best model: /mnt/d/workspace/clotho/notebooks/checkpoints/harness_v5_lg_7.pkl\n",
      "best train: 0.5024\n",
      "best train val: 0.5846\n",
      "best test: 0.4642\n",
      "epoch 8 version: 5\n"
     ]
    },
    {
     "data": {
      "application/vnd.jupyter.widget-view+json": {
       "model_id": "e3983ed86eeb4de2830c9b67439fd0ac",
       "version_major": 2,
       "version_minor": 0
      },
      "text/plain": [
       "train:   0%|          | 0/20000 [00:00<?, ?it/s]"
      ]
     },
     "metadata": {},
     "output_type": "display_data"
    },
    {
     "data": {
      "application/vnd.jupyter.widget-view+json": {
       "model_id": "cd5aa6656b3e4c6cb6beb3b4614e82b1",
       "version_major": 2,
       "version_minor": 0
      },
      "text/plain": [
       "train val:   0%|          | 0/10000 [00:00<?, ?it/s]"
      ]
     },
     "metadata": {},
     "output_type": "display_data"
    },
    {
     "data": {
      "application/vnd.jupyter.widget-view+json": {
       "model_id": "3233f53c43ed464e872f750c315602d1",
       "version_major": 2,
       "version_minor": 0
      },
      "text/plain": [
       "test:   0%|          | 0/10000 [00:00<?, ?it/s]"
      ]
     },
     "metadata": {},
     "output_type": "display_data"
    },
    {
     "name": "stdout",
     "output_type": "stream",
     "text": [
      "train: 0.50375 loss: 3.5469214188688856\n",
      "train val: 0.5232 loss: 0.6931337061405182\n",
      "test: 0.5298 loss: 0.6931248193740844\n",
      "epoch time: 11.53min\n",
      "removing /mnt/d/workspace/clotho/notebooks/checkpoints/stats_v5_lg_1.json\n",
      "removing /mnt/d/workspace/clotho/notebooks/checkpoints/harness_v5_lg_1.pkl\n",
      "best model: /mnt/d/workspace/clotho/notebooks/checkpoints/harness_v5_lg_7.pkl\n",
      "best train: 0.5024\n",
      "best train val: 0.5846\n",
      "best test: 0.4642\n",
      "epoch 9 version: 5\n"
     ]
    },
    {
     "data": {
      "application/vnd.jupyter.widget-view+json": {
       "model_id": "8911d882ad114e7fba3aa0b2360250c0",
       "version_major": 2,
       "version_minor": 0
      },
      "text/plain": [
       "train:   0%|          | 0/20000 [00:00<?, ?it/s]"
      ]
     },
     "metadata": {},
     "output_type": "display_data"
    },
    {
     "data": {
      "application/vnd.jupyter.widget-view+json": {
       "model_id": "1f7d1474956440ba8278c764e35a8bbe",
       "version_major": 2,
       "version_minor": 0
      },
      "text/plain": [
       "train val:   0%|          | 0/10000 [00:00<?, ?it/s]"
      ]
     },
     "metadata": {},
     "output_type": "display_data"
    },
    {
     "data": {
      "application/vnd.jupyter.widget-view+json": {
       "model_id": "1499a5083f9549efbae7897e3dd73fe6",
       "version_major": 2,
       "version_minor": 0
      },
      "text/plain": [
       "test:   0%|          | 0/10000 [00:00<?, ?it/s]"
      ]
     },
     "metadata": {},
     "output_type": "display_data"
    },
    {
     "name": "stdout",
     "output_type": "stream",
     "text": [
      "train: 0.5078 loss: 2.985410696429416\n",
      "train val: 0.4967 loss: 0.6931561813354492\n",
      "test: 0.4924 loss: 0.6931466828584671\n",
      "epoch time: 12.16min\n",
      "removing /mnt/d/workspace/clotho/notebooks/checkpoints/stats_v5_lg_4.json\n",
      "removing /mnt/d/workspace/clotho/notebooks/checkpoints/harness_v5_lg_4.pkl\n",
      "best model: /mnt/d/workspace/clotho/notebooks/checkpoints/harness_v5_lg_7.pkl\n",
      "best train: 0.5024\n",
      "best train val: 0.5846\n",
      "best test: 0.4642\n",
      "epoch 10 version: 5\n"
     ]
    },
    {
     "data": {
      "application/vnd.jupyter.widget-view+json": {
       "model_id": "e5efe342e3704a8690b7f65923db7303",
       "version_major": 2,
       "version_minor": 0
      },
      "text/plain": [
       "train:   0%|          | 0/20000 [00:00<?, ?it/s]"
      ]
     },
     "metadata": {},
     "output_type": "display_data"
    },
    {
     "data": {
      "application/vnd.jupyter.widget-view+json": {
       "model_id": "b129509e56b244049e73b683f077ed92",
       "version_major": 2,
       "version_minor": 0
      },
      "text/plain": [
       "train val:   0%|          | 0/10000 [00:00<?, ?it/s]"
      ]
     },
     "metadata": {},
     "output_type": "display_data"
    },
    {
     "data": {
      "application/vnd.jupyter.widget-view+json": {
       "model_id": "c24df942a4db4c2ba5db69cd5907cb57",
       "version_major": 2,
       "version_minor": 0
      },
      "text/plain": [
       "test:   0%|          | 0/10000 [00:00<?, ?it/s]"
      ]
     },
     "metadata": {},
     "output_type": "display_data"
    },
    {
     "name": "stdout",
     "output_type": "stream",
     "text": [
      "train: 0.5047 loss: 2.445631775299646\n",
      "train val: 0.5239 loss: 0.693143875670433\n",
      "test: 0.5026 loss: 0.6931472195386886\n",
      "epoch time: 12.03min\n",
      "removing /mnt/d/workspace/clotho/notebooks/checkpoints/stats_v5_lg_9.json\n",
      "removing /mnt/d/workspace/clotho/notebooks/checkpoints/harness_v5_lg_9.pkl\n",
      "best model: /mnt/d/workspace/clotho/notebooks/checkpoints/harness_v5_lg_7.pkl\n",
      "best train: 0.5024\n",
      "best train val: 0.5846\n",
      "best test: 0.4642\n",
      "epoch 11 version: 5\n"
     ]
    },
    {
     "data": {
      "application/vnd.jupyter.widget-view+json": {
       "model_id": "6a4f1eb58a62439b932b5e5394d57816",
       "version_major": 2,
       "version_minor": 0
      },
      "text/plain": [
       "train:   0%|          | 0/20000 [00:00<?, ?it/s]"
      ]
     },
     "metadata": {},
     "output_type": "display_data"
    },
    {
     "data": {
      "application/vnd.jupyter.widget-view+json": {
       "model_id": "df52475be2af4e5c8685680a6230df9f",
       "version_major": 2,
       "version_minor": 0
      },
      "text/plain": [
       "train val:   0%|          | 0/10000 [00:00<?, ?it/s]"
      ]
     },
     "metadata": {},
     "output_type": "display_data"
    },
    {
     "data": {
      "application/vnd.jupyter.widget-view+json": {
       "model_id": "4067dc0fb796492385db61cfadbf9333",
       "version_major": 2,
       "version_minor": 0
      },
      "text/plain": [
       "test:   0%|          | 0/10000 [00:00<?, ?it/s]"
      ]
     },
     "metadata": {},
     "output_type": "display_data"
    },
    {
     "name": "stdout",
     "output_type": "stream",
     "text": [
      "train: 0.5005 loss: 2.0753793276003094\n",
      "train val: 0.5198 loss: 0.6931455617666245\n",
      "test: 0.4997 loss: 0.6931502801418304\n",
      "epoch time: 12.11min\n",
      "removing /mnt/d/workspace/clotho/notebooks/checkpoints/stats_v5_lg_8.json\n",
      "removing /mnt/d/workspace/clotho/notebooks/checkpoints/harness_v5_lg_8.pkl\n",
      "best model: /mnt/d/workspace/clotho/notebooks/checkpoints/harness_v5_lg_7.pkl\n",
      "best train: 0.5024\n",
      "best train val: 0.5846\n",
      "best test: 0.4642\n",
      "epoch 12 version: 5\n"
     ]
    },
    {
     "data": {
      "application/vnd.jupyter.widget-view+json": {
       "model_id": "922d337614b1409696ad230ff55c7de9",
       "version_major": 2,
       "version_minor": 0
      },
      "text/plain": [
       "train:   0%|          | 0/20000 [00:00<?, ?it/s]"
      ]
     },
     "metadata": {},
     "output_type": "display_data"
    },
    {
     "data": {
      "application/vnd.jupyter.widget-view+json": {
       "model_id": "f390d233df4546dc97c8c86db5cbf807",
       "version_major": 2,
       "version_minor": 0
      },
      "text/plain": [
       "train val:   0%|          | 0/10000 [00:00<?, ?it/s]"
      ]
     },
     "metadata": {},
     "output_type": "display_data"
    },
    {
     "data": {
      "application/vnd.jupyter.widget-view+json": {
       "model_id": "bd6beee5fb5841babcb33f6e160ee4c4",
       "version_major": 2,
       "version_minor": 0
      },
      "text/plain": [
       "test:   0%|          | 0/10000 [00:00<?, ?it/s]"
      ]
     },
     "metadata": {},
     "output_type": "display_data"
    },
    {
     "name": "stdout",
     "output_type": "stream",
     "text": [
      "train: 0.5041 loss: 1.8059638323711698\n",
      "train val: 0.495 loss: 0.6931466546058654\n",
      "test: 0.5116 loss: 0.6931426744937896\n",
      "epoch time: 11.56min\n",
      "removing /mnt/d/workspace/clotho/notebooks/checkpoints/stats_v5_lg_11.json\n",
      "removing /mnt/d/workspace/clotho/notebooks/checkpoints/harness_v5_lg_11.pkl\n",
      "best model: /mnt/d/workspace/clotho/notebooks/checkpoints/harness_v5_lg_7.pkl\n",
      "best train: 0.5024\n",
      "best train val: 0.5846\n",
      "best test: 0.4642\n",
      "epoch 13 version: 5\n"
     ]
    },
    {
     "data": {
      "application/vnd.jupyter.widget-view+json": {
       "model_id": "4cb4495560e741d4b0ec507a14208c1f",
       "version_major": 2,
       "version_minor": 0
      },
      "text/plain": [
       "train:   0%|          | 0/20000 [00:00<?, ?it/s]"
      ]
     },
     "metadata": {},
     "output_type": "display_data"
    },
    {
     "data": {
      "application/vnd.jupyter.widget-view+json": {
       "model_id": "e6272c9f091541d28883188b782ae280",
       "version_major": 2,
       "version_minor": 0
      },
      "text/plain": [
       "train val:   0%|          | 0/10000 [00:00<?, ?it/s]"
      ]
     },
     "metadata": {},
     "output_type": "display_data"
    },
    {
     "data": {
      "application/vnd.jupyter.widget-view+json": {
       "model_id": "9c11d477567248af98e8ea9cf1d00ec8",
       "version_major": 2,
       "version_minor": 0
      },
      "text/plain": [
       "test:   0%|          | 0/10000 [00:00<?, ?it/s]"
      ]
     },
     "metadata": {},
     "output_type": "display_data"
    },
    {
     "name": "stdout",
     "output_type": "stream",
     "text": [
      "train: 0.50395 loss: 1.5710935600684024\n",
      "train val: 0.5155 loss: 0.6931433555603027\n",
      "test: 0.5128 loss: 0.6931441612243653\n",
      "epoch time: 12.22min\n",
      "removing /mnt/d/workspace/clotho/notebooks/checkpoints/stats_v5_lg_12.json\n",
      "removing /mnt/d/workspace/clotho/notebooks/checkpoints/harness_v5_lg_12.pkl\n",
      "best model: /mnt/d/workspace/clotho/notebooks/checkpoints/harness_v5_lg_7.pkl\n",
      "best train: 0.5024\n",
      "best train val: 0.5846\n",
      "best test: 0.4642\n",
      "epoch 14 version: 5\n"
     ]
    },
    {
     "data": {
      "application/vnd.jupyter.widget-view+json": {
       "model_id": "811b6c4866154cc6975b1e061a646885",
       "version_major": 2,
       "version_minor": 0
      },
      "text/plain": [
       "train:   0%|          | 0/20000 [00:00<?, ?it/s]"
      ]
     },
     "metadata": {},
     "output_type": "display_data"
    },
    {
     "data": {
      "application/vnd.jupyter.widget-view+json": {
       "model_id": "d3359cc6639f466dbd8198c638fd097e",
       "version_major": 2,
       "version_minor": 0
      },
      "text/plain": [
       "train val:   0%|          | 0/10000 [00:00<?, ?it/s]"
      ]
     },
     "metadata": {},
     "output_type": "display_data"
    },
    {
     "data": {
      "application/vnd.jupyter.widget-view+json": {
       "model_id": "3a2c74275b6d447b9b1ef499873a1aed",
       "version_major": 2,
       "version_minor": 0
      },
      "text/plain": [
       "test:   0%|          | 0/10000 [00:00<?, ?it/s]"
      ]
     },
     "metadata": {},
     "output_type": "display_data"
    },
    {
     "name": "stdout",
     "output_type": "stream",
     "text": [
      "train: 0.50355 loss: 1.6887984605108388\n",
      "train val: 0.6005 loss: 1.561040269088745\n",
      "test: 0.5149 loss: 2.3436809191823005\n",
      "epoch time: 11.82min\n",
      "removing /mnt/d/workspace/clotho/notebooks/checkpoints/stats_v5_lg_13.json\n",
      "removing /mnt/d/workspace/clotho/notebooks/checkpoints/harness_v5_lg_13.pkl\n",
      "best model: /mnt/d/workspace/clotho/notebooks/checkpoints/harness_v5_lg_14.pkl\n",
      "best train: 0.50355\n",
      "best train val: 0.6005\n",
      "best test: 0.5149\n",
      "epoch 15 version: 5\n"
     ]
    },
    {
     "data": {
      "application/vnd.jupyter.widget-view+json": {
       "model_id": "9d8e23d9d0ab4feda3e047a993caac9d",
       "version_major": 2,
       "version_minor": 0
      },
      "text/plain": [
       "train:   0%|          | 0/20000 [00:00<?, ?it/s]"
      ]
     },
     "metadata": {},
     "output_type": "display_data"
    },
    {
     "data": {
      "application/vnd.jupyter.widget-view+json": {
       "model_id": "1d74082b54cf402786e47ac1a2fd34d7",
       "version_major": 2,
       "version_minor": 0
      },
      "text/plain": [
       "train val:   0%|          | 0/10000 [00:00<?, ?it/s]"
      ]
     },
     "metadata": {},
     "output_type": "display_data"
    },
    {
     "data": {
      "application/vnd.jupyter.widget-view+json": {
       "model_id": "7f71a0b071de4df49cf14082b7436411",
       "version_major": 2,
       "version_minor": 0
      },
      "text/plain": [
       "test:   0%|          | 0/10000 [00:00<?, ?it/s]"
      ]
     },
     "metadata": {},
     "output_type": "display_data"
    },
    {
     "name": "stdout",
     "output_type": "stream",
     "text": [
      "train: 0.5322 loss: 2.538003856804408\n",
      "train val: 0.6048 loss: 1.4093581914186477\n",
      "test: 0.5037 loss: 2.0866986381530763\n",
      "epoch time: 12.18min\n",
      "removing /mnt/d/workspace/clotho/notebooks/checkpoints/stats_v5_lg_10.json\n",
      "removing /mnt/d/workspace/clotho/notebooks/checkpoints/harness_v5_lg_10.pkl\n",
      "best model: /mnt/d/workspace/clotho/notebooks/checkpoints/harness_v5_lg_15.pkl\n",
      "best train: 0.5322\n",
      "best train val: 0.6048\n",
      "best test: 0.5037\n",
      "epoch 16 version: 5\n"
     ]
    },
    {
     "data": {
      "application/vnd.jupyter.widget-view+json": {
       "model_id": "bd683bb360f8493a9ce37a2cca82bc53",
       "version_major": 2,
       "version_minor": 0
      },
      "text/plain": [
       "train:   0%|          | 0/20000 [00:00<?, ?it/s]"
      ]
     },
     "metadata": {},
     "output_type": "display_data"
    },
    {
     "data": {
      "application/vnd.jupyter.widget-view+json": {
       "model_id": "cbbd798ef4424611b8f1c065ba1c952b",
       "version_major": 2,
       "version_minor": 0
      },
      "text/plain": [
       "train val:   0%|          | 0/10000 [00:00<?, ?it/s]"
      ]
     },
     "metadata": {},
     "output_type": "display_data"
    },
    {
     "data": {
      "application/vnd.jupyter.widget-view+json": {
       "model_id": "b8c720d4267945d380969b6aea3e15f9",
       "version_major": 2,
       "version_minor": 0
      },
      "text/plain": [
       "test:   0%|          | 0/10000 [00:00<?, ?it/s]"
      ]
     },
     "metadata": {},
     "output_type": "display_data"
    },
    {
     "name": "stdout",
     "output_type": "stream",
     "text": [
      "train: 0.54 loss: 2.0165807614155113\n",
      "train val: 0.4941 loss: 1.8071628792226315\n",
      "test: 0.4837 loss: 2.2921057878255846\n",
      "epoch time: 12.27min\n",
      "removing /mnt/d/workspace/clotho/notebooks/checkpoints/stats_v5_lg_2.json\n",
      "removing /mnt/d/workspace/clotho/notebooks/checkpoints/harness_v5_lg_2.pkl\n",
      "best model: /mnt/d/workspace/clotho/notebooks/checkpoints/harness_v5_lg_15.pkl\n",
      "best train: 0.5322\n",
      "best train val: 0.6048\n",
      "best test: 0.5037\n",
      "epoch 17 version: 5\n"
     ]
    },
    {
     "data": {
      "application/vnd.jupyter.widget-view+json": {
       "model_id": "bb8e1def92814c26bedcf02fcd962b0e",
       "version_major": 2,
       "version_minor": 0
      },
      "text/plain": [
       "train:   0%|          | 0/20000 [00:00<?, ?it/s]"
      ]
     },
     "metadata": {},
     "output_type": "display_data"
    },
    {
     "data": {
      "application/vnd.jupyter.widget-view+json": {
       "model_id": "c2f335dcc4124414b36e21b3f02da082",
       "version_major": 2,
       "version_minor": 0
      },
      "text/plain": [
       "train val:   0%|          | 0/10000 [00:00<?, ?it/s]"
      ]
     },
     "metadata": {},
     "output_type": "display_data"
    },
    {
     "data": {
      "application/vnd.jupyter.widget-view+json": {
       "model_id": "e5bd10afb1a54b4f94b6a77761388f06",
       "version_major": 2,
       "version_minor": 0
      },
      "text/plain": [
       "test:   0%|          | 0/10000 [00:00<?, ?it/s]"
      ]
     },
     "metadata": {},
     "output_type": "display_data"
    },
    {
     "name": "stdout",
     "output_type": "stream",
     "text": [
      "train: 0.55615 loss: 0.982832669574488\n",
      "train val: 0.6619 loss: 0.622569235156104\n",
      "test: 0.5501 loss: 0.7459016922354699\n",
      "epoch time: 12.23min\n",
      "removing /mnt/d/workspace/clotho/notebooks/checkpoints/stats_v5_lg_16.json\n",
      "removing /mnt/d/workspace/clotho/notebooks/checkpoints/harness_v5_lg_16.pkl\n",
      "best model: /mnt/d/workspace/clotho/notebooks/checkpoints/harness_v5_lg_17.pkl\n",
      "best train: 0.55615\n",
      "best train val: 0.6619\n",
      "best test: 0.5501\n",
      "epoch 18 version: 5\n"
     ]
    },
    {
     "data": {
      "application/vnd.jupyter.widget-view+json": {
       "model_id": "7460ca894dba4c0280f88a3d564c38b8",
       "version_major": 2,
       "version_minor": 0
      },
      "text/plain": [
       "train:   0%|          | 0/20000 [00:00<?, ?it/s]"
      ]
     },
     "metadata": {},
     "output_type": "display_data"
    },
    {
     "data": {
      "application/vnd.jupyter.widget-view+json": {
       "model_id": "9041772b3c134ef7b75b14547d701464",
       "version_major": 2,
       "version_minor": 0
      },
      "text/plain": [
       "train val:   0%|          | 0/10000 [00:00<?, ?it/s]"
      ]
     },
     "metadata": {},
     "output_type": "display_data"
    },
    {
     "data": {
      "application/vnd.jupyter.widget-view+json": {
       "model_id": "67dcd1892a00469a975e2b8292701360",
       "version_major": 2,
       "version_minor": 0
      },
      "text/plain": [
       "test:   0%|          | 0/10000 [00:00<?, ?it/s]"
      ]
     },
     "metadata": {},
     "output_type": "display_data"
    },
    {
     "name": "stdout",
     "output_type": "stream",
     "text": [
      "train: 0.67735 loss: 0.7766322918241378\n",
      "train val: 0.67 loss: 1.5042771409680542\n",
      "test: 0.6358 loss: 1.0148659125864505\n",
      "epoch time: 12.02min\n",
      "removing /mnt/d/workspace/clotho/notebooks/checkpoints/stats_v5_lg_3.json\n",
      "removing /mnt/d/workspace/clotho/notebooks/checkpoints/harness_v5_lg_3.pkl\n",
      "best model: /mnt/d/workspace/clotho/notebooks/checkpoints/harness_v5_lg_18.pkl\n",
      "best train: 0.67735\n",
      "best train val: 0.67\n",
      "best test: 0.6358\n",
      "epoch 19 version: 5\n"
     ]
    },
    {
     "data": {
      "application/vnd.jupyter.widget-view+json": {
       "model_id": "ae00ffda120946c69cd23f9249910800",
       "version_major": 2,
       "version_minor": 0
      },
      "text/plain": [
       "train:   0%|          | 0/20000 [00:00<?, ?it/s]"
      ]
     },
     "metadata": {},
     "output_type": "display_data"
    },
    {
     "data": {
      "application/vnd.jupyter.widget-view+json": {
       "model_id": "bb9b35de019d40d1b6cde1602bbc8c10",
       "version_major": 2,
       "version_minor": 0
      },
      "text/plain": [
       "train val:   0%|          | 0/10000 [00:00<?, ?it/s]"
      ]
     },
     "metadata": {},
     "output_type": "display_data"
    },
    {
     "data": {
      "application/vnd.jupyter.widget-view+json": {
       "model_id": "7547ea9e6bda4ff58c01aa2c63a9e493",
       "version_major": 2,
       "version_minor": 0
      },
      "text/plain": [
       "test:   0%|          | 0/10000 [00:00<?, ?it/s]"
      ]
     },
     "metadata": {},
     "output_type": "display_data"
    },
    {
     "name": "stdout",
     "output_type": "stream",
     "text": [
      "train: 0.70295 loss: 0.9138207558692666\n",
      "train val: 0.6774 loss: 0.5632765248656273\n",
      "test: 0.5952 loss: 0.6863343617528677\n",
      "epoch time: 12.27min\n",
      "removing /mnt/d/workspace/clotho/notebooks/checkpoints/stats_v5_lg_0.json\n",
      "removing /mnt/d/workspace/clotho/notebooks/checkpoints/harness_v5_lg_0.pkl\n",
      "best model: /mnt/d/workspace/clotho/notebooks/checkpoints/harness_v5_lg_19.pkl\n",
      "best train: 0.70295\n",
      "best train val: 0.6774\n",
      "best test: 0.5952\n",
      "epoch 20 version: 5\n"
     ]
    },
    {
     "data": {
      "application/vnd.jupyter.widget-view+json": {
       "model_id": "16e9d93fe1534b5cb3fd8cde8741f77a",
       "version_major": 2,
       "version_minor": 0
      },
      "text/plain": [
       "train:   0%|          | 0/20000 [00:00<?, ?it/s]"
      ]
     },
     "metadata": {},
     "output_type": "display_data"
    },
    {
     "data": {
      "application/vnd.jupyter.widget-view+json": {
       "model_id": "92b8daca6d4343b0ad75a33c391fcef2",
       "version_major": 2,
       "version_minor": 0
      },
      "text/plain": [
       "train val:   0%|          | 0/10000 [00:00<?, ?it/s]"
      ]
     },
     "metadata": {},
     "output_type": "display_data"
    },
    {
     "data": {
      "application/vnd.jupyter.widget-view+json": {
       "model_id": "4ba0b893f7df4a62895850abe8802684",
       "version_major": 2,
       "version_minor": 0
      },
      "text/plain": [
       "test:   0%|          | 0/10000 [00:00<?, ?it/s]"
      ]
     },
     "metadata": {},
     "output_type": "display_data"
    },
    {
     "name": "stdout",
     "output_type": "stream",
     "text": [
      "train: 0.7412 loss: 0.5156928931663962\n",
      "train val: 0.6819 loss: 0.5426402902441165\n",
      "test: 0.6138 loss: 0.6615298364579678\n",
      "epoch time: 12.44min\n",
      "removing /mnt/d/workspace/clotho/notebooks/checkpoints/stats_v5_lg_7.json\n",
      "removing /mnt/d/workspace/clotho/notebooks/checkpoints/harness_v5_lg_7.pkl\n",
      "best model: /mnt/d/workspace/clotho/notebooks/checkpoints/harness_v5_lg_20.pkl\n",
      "best train: 0.7412\n",
      "best train val: 0.6819\n",
      "best test: 0.6138\n",
      "epoch 21 version: 5\n"
     ]
    },
    {
     "data": {
      "application/vnd.jupyter.widget-view+json": {
       "model_id": "d0b5c38ae9ad4cadb512bf91db485578",
       "version_major": 2,
       "version_minor": 0
      },
      "text/plain": [
       "train:   0%|          | 0/20000 [00:00<?, ?it/s]"
      ]
     },
     "metadata": {},
     "output_type": "display_data"
    },
    {
     "data": {
      "application/vnd.jupyter.widget-view+json": {
       "model_id": "0ca0295d2cdf4b0f862c424ab0c74699",
       "version_major": 2,
       "version_minor": 0
      },
      "text/plain": [
       "train val:   0%|          | 0/10000 [00:00<?, ?it/s]"
      ]
     },
     "metadata": {},
     "output_type": "display_data"
    },
    {
     "data": {
      "application/vnd.jupyter.widget-view+json": {
       "model_id": "f86ad61a80974dfc9a899c791ed6dcf9",
       "version_major": 2,
       "version_minor": 0
      },
      "text/plain": [
       "test:   0%|          | 0/10000 [00:00<?, ?it/s]"
      ]
     },
     "metadata": {},
     "output_type": "display_data"
    },
    {
     "name": "stdout",
     "output_type": "stream",
     "text": [
      "train: 0.7634 loss: 0.4596094323984882\n",
      "train val: 0.6849 loss: 0.5210247419701333\n",
      "test: 0.6001 loss: 0.6599770497560501\n",
      "epoch time: 12.02min\n",
      "removing /mnt/d/workspace/clotho/notebooks/checkpoints/stats_v5_lg_14.json\n",
      "removing /mnt/d/workspace/clotho/notebooks/checkpoints/harness_v5_lg_14.pkl\n",
      "best model: /mnt/d/workspace/clotho/notebooks/checkpoints/harness_v5_lg_21.pkl\n",
      "best train: 0.7634\n",
      "best train val: 0.6849\n",
      "best test: 0.6001\n",
      "epoch 22 version: 5\n"
     ]
    },
    {
     "data": {
      "application/vnd.jupyter.widget-view+json": {
       "model_id": "76199851c80f4fb48a13096d45b969ff",
       "version_major": 2,
       "version_minor": 0
      },
      "text/plain": [
       "train:   0%|          | 0/20000 [00:00<?, ?it/s]"
      ]
     },
     "metadata": {},
     "output_type": "display_data"
    },
    {
     "data": {
      "application/vnd.jupyter.widget-view+json": {
       "model_id": "f97d7ddc0b3742a6a227dd6cdd9ebeb2",
       "version_major": 2,
       "version_minor": 0
      },
      "text/plain": [
       "train val:   0%|          | 0/10000 [00:00<?, ?it/s]"
      ]
     },
     "metadata": {},
     "output_type": "display_data"
    },
    {
     "data": {
      "application/vnd.jupyter.widget-view+json": {
       "model_id": "4dc513f3487c427db419ed0414a86af1",
       "version_major": 2,
       "version_minor": 0
      },
      "text/plain": [
       "test:   0%|          | 0/10000 [00:00<?, ?it/s]"
      ]
     },
     "metadata": {},
     "output_type": "display_data"
    },
    {
     "name": "stdout",
     "output_type": "stream",
     "text": [
      "train: 0.77255 loss: 0.4329931208132293\n",
      "train val: 0.6861 loss: 0.5478422407143662\n",
      "test: 0.5815 loss: 0.6981615740478039\n",
      "epoch time: 11.76min\n",
      "removing /mnt/d/workspace/clotho/notebooks/checkpoints/stats_v5_lg_15.json\n",
      "removing /mnt/d/workspace/clotho/notebooks/checkpoints/harness_v5_lg_15.pkl\n",
      "best model: /mnt/d/workspace/clotho/notebooks/checkpoints/harness_v5_lg_22.pkl\n",
      "best train: 0.77255\n",
      "best train val: 0.6861\n",
      "best test: 0.5815\n",
      "epoch 23 version: 5\n"
     ]
    },
    {
     "data": {
      "application/vnd.jupyter.widget-view+json": {
       "model_id": "138ae07b0f7f4516b77039801d7be400",
       "version_major": 2,
       "version_minor": 0
      },
      "text/plain": [
       "train:   0%|          | 0/20000 [00:00<?, ?it/s]"
      ]
     },
     "metadata": {},
     "output_type": "display_data"
    },
    {
     "data": {
      "application/vnd.jupyter.widget-view+json": {
       "model_id": "f9e7dede1f1048249dc294546c209240",
       "version_major": 2,
       "version_minor": 0
      },
      "text/plain": [
       "train val:   0%|          | 0/10000 [00:00<?, ?it/s]"
      ]
     },
     "metadata": {},
     "output_type": "display_data"
    },
    {
     "data": {
      "application/vnd.jupyter.widget-view+json": {
       "model_id": "dda94d2e20d34ccdada0e346b806a9e8",
       "version_major": 2,
       "version_minor": 0
      },
      "text/plain": [
       "test:   0%|          | 0/10000 [00:00<?, ?it/s]"
      ]
     },
     "metadata": {},
     "output_type": "display_data"
    },
    {
     "name": "stdout",
     "output_type": "stream",
     "text": [
      "train: 0.77825 loss: 0.41491101223200677\n",
      "train val: 0.7007 loss: 0.5198177046968805\n",
      "test: 0.6006 loss: 0.6663915285646915\n",
      "epoch time: 11.88min\n",
      "removing /mnt/d/workspace/clotho/notebooks/checkpoints/stats_v5_lg_17.json\n",
      "removing /mnt/d/workspace/clotho/notebooks/checkpoints/harness_v5_lg_17.pkl\n",
      "best model: /mnt/d/workspace/clotho/notebooks/checkpoints/harness_v5_lg_23.pkl\n",
      "best train: 0.77825\n",
      "best train val: 0.7007\n",
      "best test: 0.6006\n",
      "epoch 24 version: 5\n"
     ]
    },
    {
     "data": {
      "application/vnd.jupyter.widget-view+json": {
       "model_id": "ec63498a399546b9820bb481c4ba503d",
       "version_major": 2,
       "version_minor": 0
      },
      "text/plain": [
       "train:   0%|          | 0/20000 [00:00<?, ?it/s]"
      ]
     },
     "metadata": {},
     "output_type": "display_data"
    },
    {
     "data": {
      "application/vnd.jupyter.widget-view+json": {
       "model_id": "630d7efe3fc14afa930dd0c1963ceba6",
       "version_major": 2,
       "version_minor": 0
      },
      "text/plain": [
       "train val:   0%|          | 0/10000 [00:00<?, ?it/s]"
      ]
     },
     "metadata": {},
     "output_type": "display_data"
    },
    {
     "data": {
      "application/vnd.jupyter.widget-view+json": {
       "model_id": "e3009f78c0dd490c84b4f24ee1393ee3",
       "version_major": 2,
       "version_minor": 0
      },
      "text/plain": [
       "test:   0%|          | 0/10000 [00:00<?, ?it/s]"
      ]
     },
     "metadata": {},
     "output_type": "display_data"
    },
    {
     "name": "stdout",
     "output_type": "stream",
     "text": [
      "train: 0.79095 loss: 0.39369543007077007\n",
      "train val: 0.6939 loss: 0.5270905346778294\n",
      "test: 0.6213 loss: 0.6574454555630684\n",
      "epoch time: 12.22min\n",
      "removing /mnt/d/workspace/clotho/notebooks/checkpoints/stats_v5_lg_18.json\n",
      "removing /mnt/d/workspace/clotho/notebooks/checkpoints/harness_v5_lg_18.pkl\n",
      "best model: /mnt/d/workspace/clotho/notebooks/checkpoints/harness_v5_lg_23.pkl\n",
      "best train: 0.77825\n",
      "best train val: 0.7007\n",
      "best test: 0.6006\n",
      "epoch 25 version: 5\n"
     ]
    },
    {
     "data": {
      "application/vnd.jupyter.widget-view+json": {
       "model_id": "01a21beb9f5746769f742ec531d62047",
       "version_major": 2,
       "version_minor": 0
      },
      "text/plain": [
       "train:   0%|          | 0/20000 [00:00<?, ?it/s]"
      ]
     },
     "metadata": {},
     "output_type": "display_data"
    },
    {
     "data": {
      "application/vnd.jupyter.widget-view+json": {
       "model_id": "5256e41dad6344d082315f55194a507c",
       "version_major": 2,
       "version_minor": 0
      },
      "text/plain": [
       "train val:   0%|          | 0/10000 [00:00<?, ?it/s]"
      ]
     },
     "metadata": {},
     "output_type": "display_data"
    },
    {
     "data": {
      "application/vnd.jupyter.widget-view+json": {
       "model_id": "02bd24cb1c1c429fbab8fa74c3175559",
       "version_major": 2,
       "version_minor": 0
      },
      "text/plain": [
       "test:   0%|          | 0/10000 [00:00<?, ?it/s]"
      ]
     },
     "metadata": {},
     "output_type": "display_data"
    },
    {
     "name": "stdout",
     "output_type": "stream",
     "text": [
      "train: 0.7942 loss: 0.38079975544025585\n",
      "train val: 0.7028 loss: 0.5169964360220823\n",
      "test: 0.6106 loss: 0.6675813419759273\n",
      "epoch time: 11.80min\n",
      "removing /mnt/d/workspace/clotho/notebooks/checkpoints/stats_v5_lg_19.json\n",
      "removing /mnt/d/workspace/clotho/notebooks/checkpoints/harness_v5_lg_19.pkl\n",
      "best model: /mnt/d/workspace/clotho/notebooks/checkpoints/harness_v5_lg_25.pkl\n",
      "best train: 0.7942\n",
      "best train val: 0.7028\n",
      "best test: 0.6106\n",
      "epoch 26 version: 5\n"
     ]
    },
    {
     "data": {
      "application/vnd.jupyter.widget-view+json": {
       "model_id": "a6365b163ebf4f0aa8644f8334c4fa40",
       "version_major": 2,
       "version_minor": 0
      },
      "text/plain": [
       "train:   0%|          | 0/20000 [00:00<?, ?it/s]"
      ]
     },
     "metadata": {},
     "output_type": "display_data"
    },
    {
     "data": {
      "application/vnd.jupyter.widget-view+json": {
       "model_id": "37eb50a6f65e4615bd73356d8a6c50a0",
       "version_major": 2,
       "version_minor": 0
      },
      "text/plain": [
       "train val:   0%|          | 0/10000 [00:00<?, ?it/s]"
      ]
     },
     "metadata": {},
     "output_type": "display_data"
    },
    {
     "data": {
      "application/vnd.jupyter.widget-view+json": {
       "model_id": "4a10f21d8f2c4c0e843c2abb0a6bbe6a",
       "version_major": 2,
       "version_minor": 0
      },
      "text/plain": [
       "test:   0%|          | 0/10000 [00:00<?, ?it/s]"
      ]
     },
     "metadata": {},
     "output_type": "display_data"
    },
    {
     "name": "stdout",
     "output_type": "stream",
     "text": [
      "train: 0.80735 loss: 0.4033535264191989\n",
      "train val: 0.7014 loss: 0.5244288647991383\n",
      "test: 0.5989 loss: 0.6822789943933487\n",
      "epoch time: 11.92min\n",
      "removing /mnt/d/workspace/clotho/notebooks/checkpoints/stats_v5_lg_20.json\n",
      "removing /mnt/d/workspace/clotho/notebooks/checkpoints/harness_v5_lg_20.pkl\n",
      "best model: /mnt/d/workspace/clotho/notebooks/checkpoints/harness_v5_lg_25.pkl\n",
      "best train: 0.7942\n",
      "best train val: 0.7028\n",
      "best test: 0.6106\n",
      "epoch 27 version: 5\n"
     ]
    },
    {
     "data": {
      "application/vnd.jupyter.widget-view+json": {
       "model_id": "ad00d616ad514fa0b0a72911cb5f3fdb",
       "version_major": 2,
       "version_minor": 0
      },
      "text/plain": [
       "train:   0%|          | 0/20000 [00:00<?, ?it/s]"
      ]
     },
     "metadata": {},
     "output_type": "display_data"
    },
    {
     "data": {
      "application/vnd.jupyter.widget-view+json": {
       "model_id": "f56f2653cddf415ea7cd2ede54f92848",
       "version_major": 2,
       "version_minor": 0
      },
      "text/plain": [
       "train val:   0%|          | 0/10000 [00:00<?, ?it/s]"
      ]
     },
     "metadata": {},
     "output_type": "display_data"
    },
    {
     "data": {
      "application/vnd.jupyter.widget-view+json": {
       "model_id": "1e7aa2b93fe147d4a022cf21987bc049",
       "version_major": 2,
       "version_minor": 0
      },
      "text/plain": [
       "test:   0%|          | 0/10000 [00:00<?, ?it/s]"
      ]
     },
     "metadata": {},
     "output_type": "display_data"
    },
    {
     "name": "stdout",
     "output_type": "stream",
     "text": [
      "train: 0.8041 loss: 0.36627331793508494\n",
      "train val: 0.7102 loss: 0.5047814257414429\n",
      "test: 0.5841 loss: 0.6739215078115464\n",
      "epoch time: 12.25min\n",
      "removing /mnt/d/workspace/clotho/notebooks/checkpoints/stats_v5_lg_21.json\n",
      "removing /mnt/d/workspace/clotho/notebooks/checkpoints/harness_v5_lg_21.pkl\n",
      "best model: /mnt/d/workspace/clotho/notebooks/checkpoints/harness_v5_lg_27.pkl\n",
      "best train: 0.8041\n",
      "best train val: 0.7102\n",
      "best test: 0.5841\n",
      "epoch 28 version: 5\n"
     ]
    },
    {
     "data": {
      "application/vnd.jupyter.widget-view+json": {
       "model_id": "6ab34aa3d94647018e1b7679dae51d40",
       "version_major": 2,
       "version_minor": 0
      },
      "text/plain": [
       "train:   0%|          | 0/20000 [00:00<?, ?it/s]"
      ]
     },
     "metadata": {},
     "output_type": "display_data"
    },
    {
     "data": {
      "application/vnd.jupyter.widget-view+json": {
       "model_id": "a0a12a302d524f1b88b4905b7cb976d3",
       "version_major": 2,
       "version_minor": 0
      },
      "text/plain": [
       "train val:   0%|          | 0/10000 [00:00<?, ?it/s]"
      ]
     },
     "metadata": {},
     "output_type": "display_data"
    },
    {
     "data": {
      "application/vnd.jupyter.widget-view+json": {
       "model_id": "cb21772032404433ad807df13e6b82b1",
       "version_major": 2,
       "version_minor": 0
      },
      "text/plain": [
       "test:   0%|          | 0/10000 [00:00<?, ?it/s]"
      ]
     },
     "metadata": {},
     "output_type": "display_data"
    },
    {
     "name": "stdout",
     "output_type": "stream",
     "text": [
      "train: 0.81065 loss: 0.3531682250114143\n",
      "train val: 0.697 loss: 0.5190192678402644\n",
      "test: 0.5679 loss: 0.6865593840956687\n",
      "epoch time: 11.96min\n",
      "removing /mnt/d/workspace/clotho/notebooks/checkpoints/stats_v5_lg_22.json\n",
      "removing /mnt/d/workspace/clotho/notebooks/checkpoints/harness_v5_lg_22.pkl\n",
      "best model: /mnt/d/workspace/clotho/notebooks/checkpoints/harness_v5_lg_27.pkl\n",
      "best train: 0.8041\n",
      "best train val: 0.7102\n",
      "best test: 0.5841\n",
      "epoch 29 version: 5\n"
     ]
    },
    {
     "data": {
      "application/vnd.jupyter.widget-view+json": {
       "model_id": "35481211876a42efbad4db766ce01d38",
       "version_major": 2,
       "version_minor": 0
      },
      "text/plain": [
       "train:   0%|          | 0/20000 [00:00<?, ?it/s]"
      ]
     },
     "metadata": {},
     "output_type": "display_data"
    },
    {
     "data": {
      "application/vnd.jupyter.widget-view+json": {
       "model_id": "973bad14fbf6462580345d802855dfda",
       "version_major": 2,
       "version_minor": 0
      },
      "text/plain": [
       "train val:   0%|          | 0/10000 [00:00<?, ?it/s]"
      ]
     },
     "metadata": {},
     "output_type": "display_data"
    },
    {
     "data": {
      "application/vnd.jupyter.widget-view+json": {
       "model_id": "10158ed9273d4e58b51ab42fd527f0a1",
       "version_major": 2,
       "version_minor": 0
      },
      "text/plain": [
       "test:   0%|          | 0/10000 [00:00<?, ?it/s]"
      ]
     },
     "metadata": {},
     "output_type": "display_data"
    },
    {
     "name": "stdout",
     "output_type": "stream",
     "text": [
      "train: 0.8262 loss: 0.3322411826904223\n",
      "train val: 0.7181 loss: 0.4973251761728883\n",
      "test: 0.6045 loss: 0.6627839342415333\n",
      "epoch time: 12.08min\n",
      "removing /mnt/d/workspace/clotho/notebooks/checkpoints/stats_v5_lg_24.json\n",
      "removing /mnt/d/workspace/clotho/notebooks/checkpoints/harness_v5_lg_24.pkl\n",
      "best model: /mnt/d/workspace/clotho/notebooks/checkpoints/harness_v5_lg_29.pkl\n",
      "best train: 0.8262\n",
      "best train val: 0.7181\n",
      "best test: 0.6045\n"
     ]
    },
    {
     "data": {
      "application/vnd.jupyter.widget-view+json": {
       "model_id": "e0c1d2aad8104154aaa8c7da88617dac",
       "version_major": 2,
       "version_minor": 0
      },
      "text/plain": [
       "test val:   0%|          | 0/10000 [00:00<?, ?it/s]"
      ]
     },
     "metadata": {},
     "output_type": "display_data"
    },
    {
     "name": "stdout",
     "output_type": "stream",
     "text": [
      "test val: {'accuracy': 0.6147} loss: 0.6567791040837765\n",
      "correct\n"
     ]
    },
    {
     "data": {
      "text/html": [
       "<div>\n",
       "<style scoped>\n",
       "    .dataframe tbody tr th:only-of-type {\n",
       "        vertical-align: middle;\n",
       "    }\n",
       "\n",
       "    .dataframe tbody tr th {\n",
       "        vertical-align: top;\n",
       "    }\n",
       "\n",
       "    .dataframe thead th {\n",
       "        text-align: right;\n",
       "    }\n",
       "</style>\n",
       "<table border=\"1\" class=\"dataframe\">\n",
       "  <thead>\n",
       "    <tr style=\"text-align: right;\">\n",
       "      <th></th>\n",
       "      <th>gen_name</th>\n",
       "      <th>parent_left</th>\n",
       "      <th>child_left</th>\n",
       "      <th>parent_right</th>\n",
       "      <th>child_right</th>\n",
       "      <th>sway_left</th>\n",
       "      <th>sway_right</th>\n",
       "      <th>correct_is_right</th>\n",
       "      <th>logit_left</th>\n",
       "      <th>logit_right</th>\n",
       "      <th>preds</th>\n",
       "      <th>truth</th>\n",
       "    </tr>\n",
       "  </thead>\n",
       "  <tbody>\n",
       "    <tr>\n",
       "      <th>2</th>\n",
       "      <td>random--valid;(sw);(st)</td>\n",
       "      <td>Dungeons and Dragons</td>\n",
       "      <td>Did you see this post a week ago and got jealo...</td>\n",
       "      <td>Question for the men, what's the worst part of...</td>\n",
       "      <td>When sitting wrong on your bike seat and cutti...</td>\n",
       "      <td>0.119203</td>\n",
       "      <td>8.807971e-01</td>\n",
       "      <td>True</td>\n",
       "      <td>0.306294</td>\n",
       "      <td>0.693706</td>\n",
       "      <td>1</td>\n",
       "      <td>1</td>\n",
       "    </tr>\n",
       "    <tr>\n",
       "      <th>3</th>\n",
       "      <td>random--valid;(sw);(st)</td>\n",
       "      <td>I always brush my teeth but need to floss more...</td>\n",
       "      <td>As an american all I can say is: why?</td>\n",
       "      <td>[removed]</td>\n",
       "      <td>User profile checks out. Bet you're on a list ...</td>\n",
       "      <td>0.119203</td>\n",
       "      <td>8.807971e-01</td>\n",
       "      <td>True</td>\n",
       "      <td>0.001176</td>\n",
       "      <td>0.998824</td>\n",
       "      <td>1</td>\n",
       "      <td>1</td>\n",
       "    </tr>\n",
       "    <tr>\n",
       "      <th>0</th>\n",
       "      <td>*valid--random;(sw);(st)</td>\n",
       "      <td>And they taste delicious when chopped into hal...</td>\n",
       "      <td>In Spain/Portugal we also cook them \"a feira\" ...</td>\n",
       "      <td>Seinfeld seems to be the one that paved the wa...</td>\n",
       "      <td>Wiping down gym equipment.</td>\n",
       "      <td>0.993307</td>\n",
       "      <td>6.692851e-03</td>\n",
       "      <td>False</td>\n",
       "      <td>0.507354</td>\n",
       "      <td>0.492646</td>\n",
       "      <td>0</td>\n",
       "      <td>0</td>\n",
       "    </tr>\n",
       "    <tr>\n",
       "      <th>1</th>\n",
       "      <td>*valid--!copy;(mtl:20);(sw);(st)</td>\n",
       "      <td>Yeah that's a thing. I spend my summer vacatio...</td>\n",
       "      <td>you ever done on going maintenance on a boat? ...</td>\n",
       "      <td>you ever done on going maintenance on a boat? ...</td>\n",
       "      <td>Yeah that's a thing. I spend my summer vacatio...</td>\n",
       "      <td>1.000000</td>\n",
       "      <td>1.562882e-18</td>\n",
       "      <td>False</td>\n",
       "      <td>0.706697</td>\n",
       "      <td>0.293303</td>\n",
       "      <td>0</td>\n",
       "      <td>0</td>\n",
       "    </tr>\n",
       "    <tr>\n",
       "      <th>2</th>\n",
       "      <td>*valid--!copy;(sw);(st)</td>\n",
       "      <td>She actually has a song where this is the poin...</td>\n",
       "      <td>Yep, this one came to mind. She is incredible ...</td>\n",
       "      <td>Yep, this one came to mind. She is incredible ...</td>\n",
       "      <td>She actually has a song where this is the poin...</td>\n",
       "      <td>0.997527</td>\n",
       "      <td>2.472623e-03</td>\n",
       "      <td>False</td>\n",
       "      <td>0.549429</td>\n",
       "      <td>0.450571</td>\n",
       "      <td>0</td>\n",
       "      <td>0</td>\n",
       "    </tr>\n",
       "  </tbody>\n",
       "</table>\n",
       "</div>"
      ],
      "text/plain": [
       "                           gen_name  \\\n",
       "2           random--valid;(sw);(st)   \n",
       "3           random--valid;(sw);(st)   \n",
       "0          *valid--random;(sw);(st)   \n",
       "1  *valid--!copy;(mtl:20);(sw);(st)   \n",
       "2           *valid--!copy;(sw);(st)   \n",
       "\n",
       "                                         parent_left  \\\n",
       "2                               Dungeons and Dragons   \n",
       "3  I always brush my teeth but need to floss more...   \n",
       "0  And they taste delicious when chopped into hal...   \n",
       "1  Yeah that's a thing. I spend my summer vacatio...   \n",
       "2  She actually has a song where this is the poin...   \n",
       "\n",
       "                                          child_left  \\\n",
       "2  Did you see this post a week ago and got jealo...   \n",
       "3              As an american all I can say is: why?   \n",
       "0  In Spain/Portugal we also cook them \"a feira\" ...   \n",
       "1  you ever done on going maintenance on a boat? ...   \n",
       "2  Yep, this one came to mind. She is incredible ...   \n",
       "\n",
       "                                        parent_right  \\\n",
       "2  Question for the men, what's the worst part of...   \n",
       "3                                          [removed]   \n",
       "0  Seinfeld seems to be the one that paved the wa...   \n",
       "1  you ever done on going maintenance on a boat? ...   \n",
       "2  Yep, this one came to mind. She is incredible ...   \n",
       "\n",
       "                                         child_right  sway_left    sway_right  \\\n",
       "2  When sitting wrong on your bike seat and cutti...   0.119203  8.807971e-01   \n",
       "3  User profile checks out. Bet you're on a list ...   0.119203  8.807971e-01   \n",
       "0                         Wiping down gym equipment.   0.993307  6.692851e-03   \n",
       "1  Yeah that's a thing. I spend my summer vacatio...   1.000000  1.562882e-18   \n",
       "2  She actually has a song where this is the poin...   0.997527  2.472623e-03   \n",
       "\n",
       "   correct_is_right  logit_left  logit_right  preds  truth  \n",
       "2              True    0.306294     0.693706      1      1  \n",
       "3              True    0.001176     0.998824      1      1  \n",
       "0             False    0.507354     0.492646      0      0  \n",
       "1             False    0.706697     0.293303      0      0  \n",
       "2             False    0.549429     0.450571      0      0  "
      ]
     },
     "metadata": {},
     "output_type": "display_data"
    },
    {
     "name": "stdout",
     "output_type": "stream",
     "text": [
      "incorrect\n"
     ]
    },
    {
     "data": {
      "text/html": [
       "<div>\n",
       "<style scoped>\n",
       "    .dataframe tbody tr th:only-of-type {\n",
       "        vertical-align: middle;\n",
       "    }\n",
       "\n",
       "    .dataframe tbody tr th {\n",
       "        vertical-align: top;\n",
       "    }\n",
       "\n",
       "    .dataframe thead th {\n",
       "        text-align: right;\n",
       "    }\n",
       "</style>\n",
       "<table border=\"1\" class=\"dataframe\">\n",
       "  <thead>\n",
       "    <tr style=\"text-align: right;\">\n",
       "      <th></th>\n",
       "      <th>gen_name</th>\n",
       "      <th>parent_left</th>\n",
       "      <th>child_left</th>\n",
       "      <th>parent_right</th>\n",
       "      <th>child_right</th>\n",
       "      <th>sway_left</th>\n",
       "      <th>sway_right</th>\n",
       "      <th>correct_is_right</th>\n",
       "      <th>logit_left</th>\n",
       "      <th>logit_right</th>\n",
       "      <th>preds</th>\n",
       "      <th>truth</th>\n",
       "    </tr>\n",
       "  </thead>\n",
       "  <tbody>\n",
       "    <tr>\n",
       "      <th>0</th>\n",
       "      <td>!copy--valid;(mtl:20);(sw);(st)</td>\n",
       "      <td>Gonna ride the baloney pony all the way to Was...</td>\n",
       "      <td>I'd literally take the law into my own hands.</td>\n",
       "      <td>I'd literally take the law into my own hands.</td>\n",
       "      <td>Gonna ride the baloney pony all the way to Was...</td>\n",
       "      <td>4.662937e-15</td>\n",
       "      <td>1.000000</td>\n",
       "      <td>True</td>\n",
       "      <td>0.761206</td>\n",
       "      <td>0.238794</td>\n",
       "      <td>0</td>\n",
       "      <td>1</td>\n",
       "    </tr>\n",
       "    <tr>\n",
       "      <th>1</th>\n",
       "      <td>*valid--!copy;(mtl:20);(sw);(st)</td>\n",
       "      <td>Men are still plenty selective about who they ...</td>\n",
       "      <td>Men are selective, as in, they'll select from ...</td>\n",
       "      <td>Men are selective, as in, they'll select from ...</td>\n",
       "      <td>Men are still plenty selective about who they ...</td>\n",
       "      <td>9.998766e-01</td>\n",
       "      <td>0.000123</td>\n",
       "      <td>False</td>\n",
       "      <td>0.473718</td>\n",
       "      <td>0.526282</td>\n",
       "      <td>1</td>\n",
       "      <td>0</td>\n",
       "    </tr>\n",
       "    <tr>\n",
       "      <th>3</th>\n",
       "      <td>*valid--random;(mtl:20);(sw);(st)</td>\n",
       "      <td>The cigarette industry social lied about cigar...</td>\n",
       "      <td>covid vaccines can protect from covid</td>\n",
       "      <td>“Women get sex so easy!” “Man I bet no one wan...</td>\n",
       "      <td>You guys watch porn with sound on??? What a pr...</td>\n",
       "      <td>8.807971e-01</td>\n",
       "      <td>0.119203</td>\n",
       "      <td>False</td>\n",
       "      <td>0.418727</td>\n",
       "      <td>0.581273</td>\n",
       "      <td>1</td>\n",
       "      <td>0</td>\n",
       "    </tr>\n",
       "    <tr>\n",
       "      <th>1</th>\n",
       "      <td>random--valid;(mtl:20);(sw);(st)</td>\n",
       "      <td>I am uncomfortably comfortable not trying.</td>\n",
       "      <td>They're slightly better than nickleback. Haha</td>\n",
       "      <td>US uses 120 VAC (RMS), so the wattage is half ...</td>\n",
       "      <td>Interesting!! I came into this not knowing muc...</td>\n",
       "      <td>1.192029e-01</td>\n",
       "      <td>0.880797</td>\n",
       "      <td>True</td>\n",
       "      <td>0.626153</td>\n",
       "      <td>0.373847</td>\n",
       "      <td>0</td>\n",
       "      <td>1</td>\n",
       "    </tr>\n",
       "    <tr>\n",
       "      <th>2</th>\n",
       "      <td>*valid--random;(mtl:20);(sw);(st)</td>\n",
       "      <td>“Repetitive discography” but you don’t even kn...</td>\n",
       "      <td>Are you not comprehending that *I'm* not the o...</td>\n",
       "      <td>Best kept as a fantasy.</td>\n",
       "      <td>*chumbawumba pumping in the background* ROUND 2</td>\n",
       "      <td>8.807971e-01</td>\n",
       "      <td>0.119203</td>\n",
       "      <td>False</td>\n",
       "      <td>0.458894</td>\n",
       "      <td>0.541106</td>\n",
       "      <td>1</td>\n",
       "      <td>0</td>\n",
       "    </tr>\n",
       "  </tbody>\n",
       "</table>\n",
       "</div>"
      ],
      "text/plain": [
       "                            gen_name  \\\n",
       "0    !copy--valid;(mtl:20);(sw);(st)   \n",
       "1   *valid--!copy;(mtl:20);(sw);(st)   \n",
       "3  *valid--random;(mtl:20);(sw);(st)   \n",
       "1   random--valid;(mtl:20);(sw);(st)   \n",
       "2  *valid--random;(mtl:20);(sw);(st)   \n",
       "\n",
       "                                         parent_left  \\\n",
       "0  Gonna ride the baloney pony all the way to Was...   \n",
       "1  Men are still plenty selective about who they ...   \n",
       "3  The cigarette industry social lied about cigar...   \n",
       "1         I am uncomfortably comfortable not trying.   \n",
       "2  “Repetitive discography” but you don’t even kn...   \n",
       "\n",
       "                                          child_left  \\\n",
       "0      I'd literally take the law into my own hands.   \n",
       "1  Men are selective, as in, they'll select from ...   \n",
       "3              covid vaccines can protect from covid   \n",
       "1      They're slightly better than nickleback. Haha   \n",
       "2  Are you not comprehending that *I'm* not the o...   \n",
       "\n",
       "                                        parent_right  \\\n",
       "0      I'd literally take the law into my own hands.   \n",
       "1  Men are selective, as in, they'll select from ...   \n",
       "3  “Women get sex so easy!” “Man I bet no one wan...   \n",
       "1  US uses 120 VAC (RMS), so the wattage is half ...   \n",
       "2                            Best kept as a fantasy.   \n",
       "\n",
       "                                         child_right     sway_left  \\\n",
       "0  Gonna ride the baloney pony all the way to Was...  4.662937e-15   \n",
       "1  Men are still plenty selective about who they ...  9.998766e-01   \n",
       "3  You guys watch porn with sound on??? What a pr...  8.807971e-01   \n",
       "1  Interesting!! I came into this not knowing muc...  1.192029e-01   \n",
       "2    *chumbawumba pumping in the background* ROUND 2  8.807971e-01   \n",
       "\n",
       "   sway_right  correct_is_right  logit_left  logit_right  preds  truth  \n",
       "0    1.000000              True    0.761206     0.238794      0      1  \n",
       "1    0.000123             False    0.473718     0.526282      1      0  \n",
       "3    0.119203             False    0.418727     0.581273      1      0  \n",
       "1    0.880797              True    0.626153     0.373847      0      1  \n",
       "2    0.119203             False    0.458894     0.541106      1      0  "
      ]
     },
     "metadata": {},
     "output_type": "display_data"
    },
    {
     "data": {
      "text/plain": [
       "array([[-0.67384326,  0.22092262,  0.75438   , ...,  0.3191897 ,\n",
       "         0.7139604 ,  0.3768081 ],\n",
       "       [-0.67370796,  0.22007982,  0.7529957 , ...,  0.3193534 ,\n",
       "         0.7133509 ,  0.37701836],\n",
       "       [-0.67408174,  0.222236  ,  0.75668603, ...,  0.31889346,\n",
       "         0.714904  ,  0.37651086],\n",
       "       [-0.6730024 ,  0.21514376,  0.7455417 , ...,  0.32014063,\n",
       "         0.70964795,  0.37829036]], dtype=float32)"
      ]
     },
     "metadata": {},
     "output_type": "display_data"
    },
    {
     "data": {
      "text/plain": [
       "array([[-0.6729191 ,  0.21454546,  0.7446769 , ...,  0.32022795,\n",
       "         0.7091843 ,  0.3784364 ],\n",
       "       [-0.6741481 ,  0.222558  ,  0.75729245, ...,  0.31880838,\n",
       "         0.71513486,  0.3764475 ],\n",
       "       [-0.67383265,  0.2208571 ,  0.75427085, ...,  0.3192036 ,\n",
       "         0.7139136 ,  0.3768245 ],\n",
       "       [-0.6744545 ,  0.2237597 ,  0.75982285, ...,  0.3184105 ,\n",
       "         0.716009  ,  0.37628248]], dtype=float32)"
      ]
     },
     "metadata": {},
     "output_type": "display_data"
    },
    {
     "data": {
      "text/plain": [
       "array([[-0.67386717,  0.22105782,  0.7546103 , ...,  0.3191638 ,\n",
       "         0.7140591 ,  0.37677643],\n",
       "       [-0.67464674,  0.22427867,  0.761165  , ...,  0.31816024,\n",
       "         0.7163996 ,  0.3762866 ],\n",
       "       [-0.6749009 ,  0.2247216 ,  0.76265913, ...,  0.31783524,\n",
       "         0.71674854,  0.37640813],\n",
       "       [-0.673444  ,  0.21830137,  0.7502163 , ...,  0.31965902,\n",
       "         0.7120424 ,  0.37748066]], dtype=float32)"
      ]
     },
     "metadata": {},
     "output_type": "display_data"
    },
    {
     "data": {
      "text/plain": [
       "array([[-0.6745047 ,  0.22391213,  0.76019156, ...,  0.31834483,\n",
       "         0.7161223 ,  0.3762758 ],\n",
       "       [-0.67414314,  0.22253384,  0.7572463 , ...,  0.3188153 ,\n",
       "         0.71511793,  0.376452  ],\n",
       "       [-0.6737957 ,  0.22063446,  0.7539    , ...,  0.31924745,\n",
       "         0.7137522 ,  0.37687877],\n",
       "       [-0.6734011 ,  0.2179999 ,  0.74975896, ...,  0.3197076 ,\n",
       "         0.71181846,  0.37756002]], dtype=float32)"
      ]
     },
     "metadata": {},
     "output_type": "display_data"
    },
    {
     "data": {
      "text/plain": [
       "array([[-0.6742808 ,  0.22313668,  0.75844544, ...,  0.31863704,\n",
       "         0.7155525 ,  0.37634966],\n",
       "       [-0.67510325,  0.22490834,  0.7636408 , ...,  0.3175854 ,\n",
       "         0.71691215,  0.37658542],\n",
       "       [-0.67411304,  0.22239088,  0.75697494, ...,  0.31885314,\n",
       "         0.7150147 ,  0.3764797 ],\n",
       "       [-0.67417824,  0.22269681,  0.7575607 , ...,  0.31876975,\n",
       "         0.7152345 ,  0.37642172]], dtype=float32)"
      ]
     },
     "metadata": {},
     "output_type": "display_data"
    },
    {
     "data": {
      "text/plain": [
       "array([[-0.67510784,  0.22491129,  0.763662  , ...,  0.31757972,\n",
       "         0.71691513,  0.3765904 ],\n",
       "       [-0.6738604 ,  0.22102083,  0.7545465 , ...,  0.3191708 ,\n",
       "         0.714032  ,  0.3767852 ],\n",
       "       [-0.673881  ,  0.221157  ,  0.75476813, ...,  0.3191367 ,\n",
       "         0.71414   ,  0.37674978],\n",
       "       [-0.674677  ,  0.22434537,  0.7613592 , ...,  0.318121  ,\n",
       "         0.71645   ,  0.37629417]], dtype=float32)"
      ]
     },
     "metadata": {},
     "output_type": "display_data"
    },
    {
     "data": {
      "text/plain": [
       "array([[-0.67441475,  0.22362918,  0.7595182 , ...,  0.31846306,\n",
       "         0.71591276,  0.37629178],\n",
       "       [-0.673668  ,  0.21981995,  0.7525795 , ...,  0.3194011 ,\n",
       "         0.7131614 ,  0.3770851 ],\n",
       "       [-0.6740287 ,  0.22196387,  0.75618887, ...,  0.31896105,\n",
       "         0.71470904,  0.3765681 ],\n",
       "       [-0.6750383 ,  0.22486238,  0.76334405, ...,  0.3176647 ,\n",
       "         0.71686953,  0.37652162]], dtype=float32)"
      ]
     },
     "metadata": {},
     "output_type": "display_data"
    },
    {
     "data": {
      "text/plain": [
       "array([[-0.6732099 ,  0.2166364 ,  0.7477241 , ...,  0.31991896,\n",
       "         0.71079147,  0.3779142 ],\n",
       "       [-0.6748046 ,  0.22458383,  0.76212966, ...,  0.31795698,\n",
       "         0.71663666,  0.37634742],\n",
       "       [-0.67531186,  0.22497937,  0.76449424, ...,  0.31733596,\n",
       "         0.7169971 ,  0.37682965],\n",
       "       [-0.67329514,  0.21725026,  0.7486338 , ...,  0.3198251 ,\n",
       "         0.71125567,  0.37775525]], dtype=float32)"
      ]
     },
     "metadata": {},
     "output_type": "display_data"
    },
    {
     "data": {
      "text/plain": [
       "array([[-0.6739897 ,  0.21697494,  0.75073165, ...,  0.32043427,\n",
       "         0.7100134 ,  0.37912762],\n",
       "       [-0.674153  ,  0.22258134,  0.7573373 , ...,  0.3188018 ,\n",
       "         0.7151516 ,  0.376443  ],\n",
       "       [-0.6732067 ,  0.21660897,  0.747684  , ...,  0.3199235 ,\n",
       "         0.7107715 ,  0.37792155],\n",
       "       [-0.67413694,  0.22250585,  0.7571926 , ...,  0.31882277,\n",
       "         0.7150984 ,  0.3764574 ]], dtype=float32)"
      ]
     },
     "metadata": {},
     "output_type": "display_data"
    },
    {
     "data": {
      "text/plain": [
       "array([[-0.6753178 ,  0.22497961,  0.7645168 , ...,  0.3173287 ,\n",
       "         0.71699816,  0.37683785],\n",
       "       [-0.67442805,  0.22367427,  0.7596222 , ...,  0.31844515,\n",
       "         0.7159459 ,  0.3762883 ],\n",
       "       [-0.67329156,  0.21722272,  0.74859285, ...,  0.31982937,\n",
       "         0.71123475,  0.37776247],\n",
       "       [-0.67334026,  0.21756923,  0.7491105 , ...,  0.31977555,\n",
       "         0.7114957 ,  0.37767228]], dtype=float32)"
      ]
     },
     "metadata": {},
     "output_type": "display_data"
    },
    {
     "name": "stderr",
     "output_type": "stream",
     "text": [
      "Some weights of the model checkpoint at distilbert-base-uncased were not used when initializing DistilBertModel: ['vocab_transform.bias', 'vocab_projector.bias', 'vocab_transform.weight', 'vocab_layer_norm.bias', 'vocab_layer_norm.weight', 'vocab_projector.weight']\n",
      "- This IS expected if you are initializing DistilBertModel from the checkpoint of a model trained on another task or with another architecture (e.g. initializing a BertForSequenceClassification model from a BertForPreTraining model).\n",
      "- This IS NOT expected if you are initializing DistilBertModel from the checkpoint of a model that you expect to be exactly identical (initializing a BertForSequenceClassification model from a BertForSequenceClassification model).\n",
      "Some weights of the model checkpoint at distilbert-base-uncased were not used when initializing DistilBertModel: ['vocab_transform.bias', 'vocab_projector.bias', 'vocab_transform.weight', 'vocab_layer_norm.bias', 'vocab_layer_norm.weight', 'vocab_projector.weight']\n",
      "- This IS expected if you are initializing DistilBertModel from the checkpoint of a model trained on another task or with another architecture (e.g. initializing a BertForSequenceClassification model from a BertForPreTraining model).\n",
      "- This IS NOT expected if you are initializing DistilBertModel from the checkpoint of a model that you expect to be exactly identical (initializing a BertForSequenceClassification model from a BertForSequenceClassification model).\n"
     ]
    },
    {
     "name": "stdout",
     "output_type": "stream",
     "text": [
      "None 0\n",
      "epoch 0 version: 6\n"
     ]
    },
    {
     "data": {
      "application/vnd.jupyter.widget-view+json": {
       "model_id": "e15b89758f1f49139fc66129c72fdd73",
       "version_major": 2,
       "version_minor": 0
      },
      "text/plain": [
       "train:   0%|          | 0/20000 [00:00<?, ?it/s]"
      ]
     },
     "metadata": {},
     "output_type": "display_data"
    },
    {
     "data": {
      "application/vnd.jupyter.widget-view+json": {
       "model_id": "5adf9d8bb01b4400811385bbdac0744c",
       "version_major": 2,
       "version_minor": 0
      },
      "text/plain": [
       "train val:   0%|          | 0/10000 [00:00<?, ?it/s]"
      ]
     },
     "metadata": {},
     "output_type": "display_data"
    },
    {
     "data": {
      "application/vnd.jupyter.widget-view+json": {
       "model_id": "306db7c1f8164fb88b1d69c9f0f9201f",
       "version_major": 2,
       "version_minor": 0
      },
      "text/plain": [
       "test:   0%|          | 0/10000 [00:00<?, ?it/s]"
      ]
     },
     "metadata": {},
     "output_type": "display_data"
    },
    {
     "name": "stdout",
     "output_type": "stream",
     "text": [
      "train: 0.7332 loss: 0.48818620220576414\n",
      "train val: 0.7525 loss: 0.46517444884608267\n",
      "test: 0.6504 loss: 0.6184796117722988\n",
      "epoch time: 12.03min\n",
      "best model: /mnt/d/workspace/clotho/notebooks/checkpoints/harness_v6_lg_0.pkl\n",
      "best train: 0.7332\n",
      "best train val: 0.7525\n",
      "best test: 0.6504\n",
      "epoch 1 version: 6\n"
     ]
    },
    {
     "data": {
      "application/vnd.jupyter.widget-view+json": {
       "model_id": "df04d44ec6de4ea5acf66f1c7d45aead",
       "version_major": 2,
       "version_minor": 0
      },
      "text/plain": [
       "train:   0%|          | 0/20000 [00:00<?, ?it/s]"
      ]
     },
     "metadata": {},
     "output_type": "display_data"
    },
    {
     "data": {
      "application/vnd.jupyter.widget-view+json": {
       "model_id": "b18b789012c141799121cf2d004fee3f",
       "version_major": 2,
       "version_minor": 0
      },
      "text/plain": [
       "train val:   0%|          | 0/10000 [00:00<?, ?it/s]"
      ]
     },
     "metadata": {},
     "output_type": "display_data"
    },
    {
     "data": {
      "application/vnd.jupyter.widget-view+json": {
       "model_id": "34f2ef6ec3db4e5ab03ae243e39dda3c",
       "version_major": 2,
       "version_minor": 0
      },
      "text/plain": [
       "test:   0%|          | 0/10000 [00:00<?, ?it/s]"
      ]
     },
     "metadata": {},
     "output_type": "display_data"
    },
    {
     "name": "stdout",
     "output_type": "stream",
     "text": [
      "train: 0.7872 loss: 0.4212688070033881\n",
      "train val: 0.6824 loss: 0.5854752740688622\n",
      "test: 0.6086 loss: 0.6712882932186127\n",
      "epoch time: 12.46min\n",
      "best model: /mnt/d/workspace/clotho/notebooks/checkpoints/harness_v6_lg_0.pkl\n",
      "best train: 0.7332\n",
      "best train val: 0.7525\n",
      "best test: 0.6504\n",
      "epoch 2 version: 6\n"
     ]
    },
    {
     "data": {
      "application/vnd.jupyter.widget-view+json": {
       "model_id": "09dcd7a72b7540acaaebaa0224b0424d",
       "version_major": 2,
       "version_minor": 0
      },
      "text/plain": [
       "train:   0%|          | 0/20000 [00:00<?, ?it/s]"
      ]
     },
     "metadata": {},
     "output_type": "display_data"
    },
    {
     "data": {
      "application/vnd.jupyter.widget-view+json": {
       "model_id": "c68fa75092d045728c91169df2b7420d",
       "version_major": 2,
       "version_minor": 0
      },
      "text/plain": [
       "train val:   0%|          | 0/10000 [00:00<?, ?it/s]"
      ]
     },
     "metadata": {},
     "output_type": "display_data"
    },
    {
     "data": {
      "application/vnd.jupyter.widget-view+json": {
       "model_id": "009b6c7ee5934086848a7535300168e5",
       "version_major": 2,
       "version_minor": 0
      },
      "text/plain": [
       "test:   0%|          | 0/10000 [00:00<?, ?it/s]"
      ]
     },
     "metadata": {},
     "output_type": "display_data"
    },
    {
     "name": "stdout",
     "output_type": "stream",
     "text": [
      "train: 0.79115 loss: 0.40997804764311296\n",
      "train val: 0.7405 loss: 0.4737699679868296\n",
      "test: 0.637 loss: 0.6282015978753567\n",
      "epoch time: 12.50min\n",
      "best model: /mnt/d/workspace/clotho/notebooks/checkpoints/harness_v6_lg_0.pkl\n",
      "best train: 0.7332\n",
      "best train val: 0.7525\n",
      "best test: 0.6504\n",
      "epoch 3 version: 6\n"
     ]
    },
    {
     "data": {
      "application/vnd.jupyter.widget-view+json": {
       "model_id": "a1898e08261f410da59b9f5490adf414",
       "version_major": 2,
       "version_minor": 0
      },
      "text/plain": [
       "train:   0%|          | 0/20000 [00:00<?, ?it/s]"
      ]
     },
     "metadata": {},
     "output_type": "display_data"
    },
    {
     "data": {
      "application/vnd.jupyter.widget-view+json": {
       "model_id": "76b2b5ea50fc4701bcc57cec8f767af5",
       "version_major": 2,
       "version_minor": 0
      },
      "text/plain": [
       "train val:   0%|          | 0/10000 [00:00<?, ?it/s]"
      ]
     },
     "metadata": {},
     "output_type": "display_data"
    },
    {
     "data": {
      "application/vnd.jupyter.widget-view+json": {
       "model_id": "54a895d5131c4f409fb925f17c137358",
       "version_major": 2,
       "version_minor": 0
      },
      "text/plain": [
       "test:   0%|          | 0/10000 [00:00<?, ?it/s]"
      ]
     },
     "metadata": {},
     "output_type": "display_data"
    },
    {
     "name": "stdout",
     "output_type": "stream",
     "text": [
      "train: 0.80485 loss: 0.3846466132761416\n",
      "train val: 0.7319 loss: 0.49165933673612017\n",
      "test: 0.6467 loss: 0.6205471907138824\n",
      "epoch time: 11.74min\n",
      "best model: /mnt/d/workspace/clotho/notebooks/checkpoints/harness_v6_lg_0.pkl\n",
      "best train: 0.7332\n",
      "best train val: 0.7525\n",
      "best test: 0.6504\n",
      "epoch 4 version: 6\n"
     ]
    },
    {
     "data": {
      "application/vnd.jupyter.widget-view+json": {
       "model_id": "6ee38c54d20448f38e02ba4e3a4e8d92",
       "version_major": 2,
       "version_minor": 0
      },
      "text/plain": [
       "train:   0%|          | 0/20000 [00:00<?, ?it/s]"
      ]
     },
     "metadata": {},
     "output_type": "display_data"
    },
    {
     "data": {
      "application/vnd.jupyter.widget-view+json": {
       "model_id": "00ea8a652ec74b74a74900343702f640",
       "version_major": 2,
       "version_minor": 0
      },
      "text/plain": [
       "train val:   0%|          | 0/10000 [00:00<?, ?it/s]"
      ]
     },
     "metadata": {},
     "output_type": "display_data"
    },
    {
     "data": {
      "application/vnd.jupyter.widget-view+json": {
       "model_id": "a285eab4991145ddb1f3a8e927080e43",
       "version_major": 2,
       "version_minor": 0
      },
      "text/plain": [
       "test:   0%|          | 0/10000 [00:00<?, ?it/s]"
      ]
     },
     "metadata": {},
     "output_type": "display_data"
    },
    {
     "name": "stdout",
     "output_type": "stream",
     "text": [
      "train: 0.80535 loss: 0.38252966411075723\n",
      "train val: 0.7363 loss: 0.47933327532885595\n",
      "test: 0.6149 loss: 0.6526708350300788\n",
      "epoch time: 12.16min\n",
      "best model: /mnt/d/workspace/clotho/notebooks/checkpoints/harness_v6_lg_0.pkl\n",
      "best train: 0.7332\n",
      "best train val: 0.7525\n",
      "best test: 0.6504\n",
      "epoch 5 version: 6\n"
     ]
    },
    {
     "data": {
      "application/vnd.jupyter.widget-view+json": {
       "model_id": "d9cd4157b7d84083bccabad707238e62",
       "version_major": 2,
       "version_minor": 0
      },
      "text/plain": [
       "train:   0%|          | 0/20000 [00:00<?, ?it/s]"
      ]
     },
     "metadata": {},
     "output_type": "display_data"
    },
    {
     "data": {
      "application/vnd.jupyter.widget-view+json": {
       "model_id": "4b94a4e603da459c9f977a8d6bcb44b5",
       "version_major": 2,
       "version_minor": 0
      },
      "text/plain": [
       "train val:   0%|          | 0/10000 [00:00<?, ?it/s]"
      ]
     },
     "metadata": {},
     "output_type": "display_data"
    },
    {
     "data": {
      "application/vnd.jupyter.widget-view+json": {
       "model_id": "2e8c212668624ca9ac92a4523a7bb8cb",
       "version_major": 2,
       "version_minor": 0
      },
      "text/plain": [
       "test:   0%|          | 0/10000 [00:00<?, ?it/s]"
      ]
     },
     "metadata": {},
     "output_type": "display_data"
    },
    {
     "name": "stdout",
     "output_type": "stream",
     "text": [
      "train: 0.8461 loss: 0.31605073712317533\n",
      "train val: 0.737 loss: 0.5071698420344269\n",
      "test: 0.6174 loss: 0.6666951045572758\n",
      "epoch time: 11.94min\n",
      "best model: /mnt/d/workspace/clotho/notebooks/checkpoints/harness_v6_lg_0.pkl\n",
      "best train: 0.7332\n",
      "best train val: 0.7525\n",
      "best test: 0.6504\n",
      "epoch 6 version: 6\n"
     ]
    },
    {
     "data": {
      "application/vnd.jupyter.widget-view+json": {
       "model_id": "667164a264ea4ca983287348148cf421",
       "version_major": 2,
       "version_minor": 0
      },
      "text/plain": [
       "train:   0%|          | 0/20000 [00:00<?, ?it/s]"
      ]
     },
     "metadata": {},
     "output_type": "display_data"
    },
    {
     "data": {
      "application/vnd.jupyter.widget-view+json": {
       "model_id": "e2c4eb48038e4f0e9358c43ccd523282",
       "version_major": 2,
       "version_minor": 0
      },
      "text/plain": [
       "train val:   0%|          | 0/10000 [00:00<?, ?it/s]"
      ]
     },
     "metadata": {},
     "output_type": "display_data"
    },
    {
     "data": {
      "application/vnd.jupyter.widget-view+json": {
       "model_id": "514c23bba62346cdb96cc62c7f11d4d7",
       "version_major": 2,
       "version_minor": 0
      },
      "text/plain": [
       "test:   0%|          | 0/10000 [00:00<?, ?it/s]"
      ]
     },
     "metadata": {},
     "output_type": "display_data"
    },
    {
     "name": "stdout",
     "output_type": "stream",
     "text": [
      "train: 0.8442 loss: 0.3163593923499542\n",
      "train val: 0.7235 loss: 0.5250659038059413\n",
      "test: 0.5844 loss: 0.733663065969944\n",
      "epoch time: 12.84min\n",
      "removing /mnt/d/workspace/clotho/notebooks/checkpoints/stats_v6_lg_1.json\n",
      "removing /mnt/d/workspace/clotho/notebooks/checkpoints/harness_v6_lg_1.pkl\n",
      "best model: /mnt/d/workspace/clotho/notebooks/checkpoints/harness_v6_lg_0.pkl\n",
      "best train: 0.7332\n",
      "best train val: 0.7525\n",
      "best test: 0.6504\n",
      "epoch 7 version: 6\n"
     ]
    },
    {
     "data": {
      "application/vnd.jupyter.widget-view+json": {
       "model_id": "84f3e8a2bbe14f2b94a7a6c0ef15be58",
       "version_major": 2,
       "version_minor": 0
      },
      "text/plain": [
       "train:   0%|          | 0/20000 [00:00<?, ?it/s]"
      ]
     },
     "metadata": {},
     "output_type": "display_data"
    },
    {
     "data": {
      "application/vnd.jupyter.widget-view+json": {
       "model_id": "0c036b383ef749be9f6f6795989fa901",
       "version_major": 2,
       "version_minor": 0
      },
      "text/plain": [
       "train val:   0%|          | 0/10000 [00:00<?, ?it/s]"
      ]
     },
     "metadata": {},
     "output_type": "display_data"
    },
    {
     "data": {
      "application/vnd.jupyter.widget-view+json": {
       "model_id": "9f8a23a31caa47698b5453e4c3b242c2",
       "version_major": 2,
       "version_minor": 0
      },
      "text/plain": [
       "test:   0%|          | 0/10000 [00:00<?, ?it/s]"
      ]
     },
     "metadata": {},
     "output_type": "display_data"
    },
    {
     "name": "stdout",
     "output_type": "stream",
     "text": [
      "train: 0.84055 loss: 0.31488618020583325\n",
      "train val: 0.7263 loss: 0.5009109037939459\n",
      "test: 0.5817 loss: 0.7140583528876304\n",
      "epoch time: 12.60min\n",
      "removing /mnt/d/workspace/clotho/notebooks/checkpoints/stats_v6_lg_6.json\n",
      "removing /mnt/d/workspace/clotho/notebooks/checkpoints/harness_v6_lg_6.pkl\n",
      "best model: /mnt/d/workspace/clotho/notebooks/checkpoints/harness_v6_lg_0.pkl\n",
      "best train: 0.7332\n",
      "best train val: 0.7525\n",
      "best test: 0.6504\n",
      "epoch 8 version: 6\n"
     ]
    },
    {
     "data": {
      "application/vnd.jupyter.widget-view+json": {
       "model_id": "5abd522078584a28ba5da24ad29c3143",
       "version_major": 2,
       "version_minor": 0
      },
      "text/plain": [
       "train:   0%|          | 0/20000 [00:00<?, ?it/s]"
      ]
     },
     "metadata": {},
     "output_type": "display_data"
    },
    {
     "data": {
      "application/vnd.jupyter.widget-view+json": {
       "model_id": "18dc293e7c704e678ef8814c9f757629",
       "version_major": 2,
       "version_minor": 0
      },
      "text/plain": [
       "train val:   0%|          | 0/10000 [00:00<?, ?it/s]"
      ]
     },
     "metadata": {},
     "output_type": "display_data"
    },
    {
     "data": {
      "application/vnd.jupyter.widget-view+json": {
       "model_id": "f4e1bd5dd9b7402eb3885250b5996b45",
       "version_major": 2,
       "version_minor": 0
      },
      "text/plain": [
       "test:   0%|          | 0/10000 [00:00<?, ?it/s]"
      ]
     },
     "metadata": {},
     "output_type": "display_data"
    },
    {
     "name": "stdout",
     "output_type": "stream",
     "text": [
      "train: 0.83025 loss: 0.33325075525976683\n",
      "train val: 0.6934 loss: 0.5208458706812001\n",
      "test: 0.5786 loss: 0.6733221934378147\n",
      "epoch time: 12.27min\n",
      "removing /mnt/d/workspace/clotho/notebooks/checkpoints/stats_v6_lg_7.json\n",
      "removing /mnt/d/workspace/clotho/notebooks/checkpoints/harness_v6_lg_7.pkl\n",
      "best model: /mnt/d/workspace/clotho/notebooks/checkpoints/harness_v6_lg_0.pkl\n",
      "best train: 0.7332\n",
      "best train val: 0.7525\n",
      "best test: 0.6504\n",
      "epoch 9 version: 6\n"
     ]
    },
    {
     "data": {
      "application/vnd.jupyter.widget-view+json": {
       "model_id": "838039ce19fd4f49aaf3fd8b4d0382f3",
       "version_major": 2,
       "version_minor": 0
      },
      "text/plain": [
       "train:   0%|          | 0/20000 [00:00<?, ?it/s]"
      ]
     },
     "metadata": {},
     "output_type": "display_data"
    },
    {
     "data": {
      "application/vnd.jupyter.widget-view+json": {
       "model_id": "395fce2ef93d40178874e684c30f17e5",
       "version_major": 2,
       "version_minor": 0
      },
      "text/plain": [
       "train val:   0%|          | 0/10000 [00:00<?, ?it/s]"
      ]
     },
     "metadata": {},
     "output_type": "display_data"
    },
    {
     "data": {
      "application/vnd.jupyter.widget-view+json": {
       "model_id": "686266a8c1194d938d1fee7e73b771cb",
       "version_major": 2,
       "version_minor": 0
      },
      "text/plain": [
       "test:   0%|          | 0/10000 [00:00<?, ?it/s]"
      ]
     },
     "metadata": {},
     "output_type": "display_data"
    },
    {
     "name": "stdout",
     "output_type": "stream",
     "text": [
      "train: 0.83535 loss: 0.3218698040960615\n",
      "train val: 0.6907 loss: 0.5211916905514896\n",
      "test: 0.5877 loss: 0.6706608513474465\n",
      "epoch time: 12.51min\n",
      "removing /mnt/d/workspace/clotho/notebooks/checkpoints/stats_v6_lg_8.json\n",
      "removing /mnt/d/workspace/clotho/notebooks/checkpoints/harness_v6_lg_8.pkl\n",
      "best model: /mnt/d/workspace/clotho/notebooks/checkpoints/harness_v6_lg_0.pkl\n",
      "best train: 0.7332\n",
      "best train val: 0.7525\n",
      "best test: 0.6504\n",
      "epoch 10 version: 6\n"
     ]
    },
    {
     "data": {
      "application/vnd.jupyter.widget-view+json": {
       "model_id": "6fdad96c4ccb4e99ab6bccf6ff07ffad",
       "version_major": 2,
       "version_minor": 0
      },
      "text/plain": [
       "train:   0%|          | 0/20000 [00:00<?, ?it/s]"
      ]
     },
     "metadata": {},
     "output_type": "display_data"
    },
    {
     "data": {
      "application/vnd.jupyter.widget-view+json": {
       "model_id": "1d7c315010cb4dc4ab8f6480e6444d0b",
       "version_major": 2,
       "version_minor": 0
      },
      "text/plain": [
       "train val:   0%|          | 0/10000 [00:00<?, ?it/s]"
      ]
     },
     "metadata": {},
     "output_type": "display_data"
    },
    {
     "data": {
      "application/vnd.jupyter.widget-view+json": {
       "model_id": "393e15e8f8f84c3f84ac98d946205d72",
       "version_major": 2,
       "version_minor": 0
      },
      "text/plain": [
       "test:   0%|          | 0/10000 [00:00<?, ?it/s]"
      ]
     },
     "metadata": {},
     "output_type": "display_data"
    },
    {
     "name": "stdout",
     "output_type": "stream",
     "text": [
      "train: 0.80315 loss: 0.36219286434601855\n",
      "train val: 0.7117 loss: 0.5031748682703823\n",
      "test: 0.6008 loss: 0.6669673808336258\n",
      "epoch time: 12.36min\n",
      "removing /mnt/d/workspace/clotho/notebooks/checkpoints/stats_v6_lg_9.json\n",
      "removing /mnt/d/workspace/clotho/notebooks/checkpoints/harness_v6_lg_9.pkl\n",
      "best model: /mnt/d/workspace/clotho/notebooks/checkpoints/harness_v6_lg_0.pkl\n",
      "best train: 0.7332\n",
      "best train val: 0.7525\n",
      "best test: 0.6504\n",
      "epoch 11 version: 6\n"
     ]
    },
    {
     "data": {
      "application/vnd.jupyter.widget-view+json": {
       "model_id": "5bf92a7ba7454880a205c78711eb2784",
       "version_major": 2,
       "version_minor": 0
      },
      "text/plain": [
       "train:   0%|          | 0/20000 [00:00<?, ?it/s]"
      ]
     },
     "metadata": {},
     "output_type": "display_data"
    },
    {
     "data": {
      "application/vnd.jupyter.widget-view+json": {
       "model_id": "8127b259be064a898c4a708d38e47605",
       "version_major": 2,
       "version_minor": 0
      },
      "text/plain": [
       "train val:   0%|          | 0/10000 [00:00<?, ?it/s]"
      ]
     },
     "metadata": {},
     "output_type": "display_data"
    },
    {
     "data": {
      "application/vnd.jupyter.widget-view+json": {
       "model_id": "2faf272de3a447f5b91cf79be9c59e9c",
       "version_major": 2,
       "version_minor": 0
      },
      "text/plain": [
       "test:   0%|          | 0/10000 [00:00<?, ?it/s]"
      ]
     },
     "metadata": {},
     "output_type": "display_data"
    },
    {
     "name": "stdout",
     "output_type": "stream",
     "text": [
      "train: 0.80875 loss: 0.35575528357946207\n",
      "train val: 0.711 loss: 0.5080701637345628\n",
      "test: 0.6083 loss: 0.6616555043578148\n",
      "epoch time: 12.32min\n",
      "removing /mnt/d/workspace/clotho/notebooks/checkpoints/stats_v6_lg_10.json\n",
      "removing /mnt/d/workspace/clotho/notebooks/checkpoints/harness_v6_lg_10.pkl\n",
      "best model: /mnt/d/workspace/clotho/notebooks/checkpoints/harness_v6_lg_0.pkl\n",
      "best train: 0.7332\n",
      "best train val: 0.7525\n",
      "best test: 0.6504\n",
      "epoch 12 version: 6\n"
     ]
    },
    {
     "data": {
      "application/vnd.jupyter.widget-view+json": {
       "model_id": "314274515d4e41e3b1c1e4b40d0ad8ba",
       "version_major": 2,
       "version_minor": 0
      },
      "text/plain": [
       "train:   0%|          | 0/20000 [00:00<?, ?it/s]"
      ]
     },
     "metadata": {},
     "output_type": "display_data"
    },
    {
     "data": {
      "application/vnd.jupyter.widget-view+json": {
       "model_id": "80ef46da540d47b48248af3dfd5ea0d6",
       "version_major": 2,
       "version_minor": 0
      },
      "text/plain": [
       "train val:   0%|          | 0/10000 [00:00<?, ?it/s]"
      ]
     },
     "metadata": {},
     "output_type": "display_data"
    },
    {
     "data": {
      "application/vnd.jupyter.widget-view+json": {
       "model_id": "b0b220a0443a43ae8b205ec88b99e8bc",
       "version_major": 2,
       "version_minor": 0
      },
      "text/plain": [
       "test:   0%|          | 0/10000 [00:00<?, ?it/s]"
      ]
     },
     "metadata": {},
     "output_type": "display_data"
    },
    {
     "name": "stdout",
     "output_type": "stream",
     "text": [
      "train: 0.811 loss: 0.35205347564942713\n",
      "train val: 0.7156 loss: 0.5058628937192261\n",
      "test: 0.6014 loss: 0.6623292964696884\n",
      "epoch time: 12.46min\n",
      "removing /mnt/d/workspace/clotho/notebooks/checkpoints/stats_v6_lg_11.json\n",
      "removing /mnt/d/workspace/clotho/notebooks/checkpoints/harness_v6_lg_11.pkl\n",
      "best model: /mnt/d/workspace/clotho/notebooks/checkpoints/harness_v6_lg_0.pkl\n",
      "best train: 0.7332\n",
      "best train val: 0.7525\n",
      "best test: 0.6504\n",
      "epoch 13 version: 6\n"
     ]
    },
    {
     "data": {
      "application/vnd.jupyter.widget-view+json": {
       "model_id": "5ad85bfe7f2840319ddeb834995d4ea9",
       "version_major": 2,
       "version_minor": 0
      },
      "text/plain": [
       "train:   0%|          | 0/20000 [00:00<?, ?it/s]"
      ]
     },
     "metadata": {},
     "output_type": "display_data"
    },
    {
     "data": {
      "application/vnd.jupyter.widget-view+json": {
       "model_id": "c9285087f36e4aefbc195bc6a66b4e48",
       "version_major": 2,
       "version_minor": 0
      },
      "text/plain": [
       "train val:   0%|          | 0/10000 [00:00<?, ?it/s]"
      ]
     },
     "metadata": {},
     "output_type": "display_data"
    },
    {
     "data": {
      "application/vnd.jupyter.widget-view+json": {
       "model_id": "667e8105540d4340b402aac49ac63315",
       "version_major": 2,
       "version_minor": 0
      },
      "text/plain": [
       "test:   0%|          | 0/10000 [00:00<?, ?it/s]"
      ]
     },
     "metadata": {},
     "output_type": "display_data"
    },
    {
     "name": "stdout",
     "output_type": "stream",
     "text": [
      "train: 0.80725 loss: 0.35842145580022955\n",
      "train val: 0.7189 loss: 0.4941935920235701\n",
      "test: 0.5846 loss: 0.6750245284557342\n",
      "epoch time: 12.19min\n",
      "removing /mnt/d/workspace/clotho/notebooks/checkpoints/stats_v6_lg_12.json\n",
      "removing /mnt/d/workspace/clotho/notebooks/checkpoints/harness_v6_lg_12.pkl\n",
      "best model: /mnt/d/workspace/clotho/notebooks/checkpoints/harness_v6_lg_0.pkl\n",
      "best train: 0.7332\n",
      "best train val: 0.7525\n",
      "best test: 0.6504\n",
      "epoch 14 version: 6\n"
     ]
    },
    {
     "data": {
      "application/vnd.jupyter.widget-view+json": {
       "model_id": "595f35b516ae427793fb92f9704b862e",
       "version_major": 2,
       "version_minor": 0
      },
      "text/plain": [
       "train:   0%|          | 0/20000 [00:00<?, ?it/s]"
      ]
     },
     "metadata": {},
     "output_type": "display_data"
    },
    {
     "data": {
      "application/vnd.jupyter.widget-view+json": {
       "model_id": "fceb8cc6ffde4a9296d4845488c89ddd",
       "version_major": 2,
       "version_minor": 0
      },
      "text/plain": [
       "train val:   0%|          | 0/10000 [00:00<?, ?it/s]"
      ]
     },
     "metadata": {},
     "output_type": "display_data"
    },
    {
     "data": {
      "application/vnd.jupyter.widget-view+json": {
       "model_id": "989ae87fc0574f42a00fe8336066f9e8",
       "version_major": 2,
       "version_minor": 0
      },
      "text/plain": [
       "test:   0%|          | 0/10000 [00:00<?, ?it/s]"
      ]
     },
     "metadata": {},
     "output_type": "display_data"
    },
    {
     "name": "stdout",
     "output_type": "stream",
     "text": [
      "train: 0.8056 loss: 0.3561828934922232\n",
      "train val: 0.7203 loss: 0.5061897926099002\n",
      "test: 0.5974 loss: 0.6750096005201339\n",
      "epoch time: 12.45min\n",
      "removing /mnt/d/workspace/clotho/notebooks/checkpoints/stats_v6_lg_13.json\n",
      "removing /mnt/d/workspace/clotho/notebooks/checkpoints/harness_v6_lg_13.pkl\n",
      "best model: /mnt/d/workspace/clotho/notebooks/checkpoints/harness_v6_lg_0.pkl\n",
      "best train: 0.7332\n",
      "best train val: 0.7525\n",
      "best test: 0.6504\n",
      "epoch 15 version: 6\n"
     ]
    },
    {
     "data": {
      "application/vnd.jupyter.widget-view+json": {
       "model_id": "90e653b4a65241d6ad2e83bca1479a31",
       "version_major": 2,
       "version_minor": 0
      },
      "text/plain": [
       "train:   0%|          | 0/20000 [00:00<?, ?it/s]"
      ]
     },
     "metadata": {},
     "output_type": "display_data"
    },
    {
     "data": {
      "application/vnd.jupyter.widget-view+json": {
       "model_id": "819c602bce554d1685915ef4b10787e5",
       "version_major": 2,
       "version_minor": 0
      },
      "text/plain": [
       "train val:   0%|          | 0/10000 [00:00<?, ?it/s]"
      ]
     },
     "metadata": {},
     "output_type": "display_data"
    },
    {
     "data": {
      "application/vnd.jupyter.widget-view+json": {
       "model_id": "8ed65422cfb1483fa7c7446d23b58623",
       "version_major": 2,
       "version_minor": 0
      },
      "text/plain": [
       "test:   0%|          | 0/10000 [00:00<?, ?it/s]"
      ]
     },
     "metadata": {},
     "output_type": "display_data"
    },
    {
     "name": "stdout",
     "output_type": "stream",
     "text": [
      "train: 0.80745 loss: 0.35577637498407105\n",
      "train val: 0.723 loss: 0.4898808456759434\n",
      "test: 0.6059 loss: 0.6643300914943219\n",
      "epoch time: 12.25min\n",
      "removing /mnt/d/workspace/clotho/notebooks/checkpoints/stats_v6_lg_14.json\n",
      "removing /mnt/d/workspace/clotho/notebooks/checkpoints/harness_v6_lg_14.pkl\n",
      "best model: /mnt/d/workspace/clotho/notebooks/checkpoints/harness_v6_lg_0.pkl\n",
      "best train: 0.7332\n",
      "best train val: 0.7525\n",
      "best test: 0.6504\n",
      "epoch 16 version: 6\n"
     ]
    },
    {
     "data": {
      "application/vnd.jupyter.widget-view+json": {
       "model_id": "47cd5cd0e62d48679745f2422c918618",
       "version_major": 2,
       "version_minor": 0
      },
      "text/plain": [
       "train:   0%|          | 0/20000 [00:00<?, ?it/s]"
      ]
     },
     "metadata": {},
     "output_type": "display_data"
    },
    {
     "data": {
      "application/vnd.jupyter.widget-view+json": {
       "model_id": "35c76978debd449eb2b31fe3bb034d89",
       "version_major": 2,
       "version_minor": 0
      },
      "text/plain": [
       "train val:   0%|          | 0/10000 [00:00<?, ?it/s]"
      ]
     },
     "metadata": {},
     "output_type": "display_data"
    },
    {
     "data": {
      "application/vnd.jupyter.widget-view+json": {
       "model_id": "5af25c16b0424993b24c1fa6ce75df4a",
       "version_major": 2,
       "version_minor": 0
      },
      "text/plain": [
       "test:   0%|          | 0/10000 [00:00<?, ?it/s]"
      ]
     },
     "metadata": {},
     "output_type": "display_data"
    },
    {
     "name": "stdout",
     "output_type": "stream",
     "text": [
      "train: 0.7991 loss: 0.4074606903744255\n",
      "train val: 0.7125 loss: 0.5326093631253767\n",
      "test: 0.6047 loss: 0.6897414577394724\n",
      "epoch time: 12.28min\n",
      "removing /mnt/d/workspace/clotho/notebooks/checkpoints/stats_v6_lg_15.json\n",
      "removing /mnt/d/workspace/clotho/notebooks/checkpoints/harness_v6_lg_15.pkl\n",
      "best model: /mnt/d/workspace/clotho/notebooks/checkpoints/harness_v6_lg_0.pkl\n",
      "best train: 0.7332\n",
      "best train val: 0.7525\n",
      "best test: 0.6504\n",
      "epoch 17 version: 6\n"
     ]
    },
    {
     "data": {
      "application/vnd.jupyter.widget-view+json": {
       "model_id": "db1a513b5f8446ca9a5f7dea0fe47814",
       "version_major": 2,
       "version_minor": 0
      },
      "text/plain": [
       "train:   0%|          | 0/20000 [00:00<?, ?it/s]"
      ]
     },
     "metadata": {},
     "output_type": "display_data"
    },
    {
     "data": {
      "application/vnd.jupyter.widget-view+json": {
       "model_id": "7efacaa179ea4897a706d7c8c7e23873",
       "version_major": 2,
       "version_minor": 0
      },
      "text/plain": [
       "train val:   0%|          | 0/10000 [00:00<?, ?it/s]"
      ]
     },
     "metadata": {},
     "output_type": "display_data"
    },
    {
     "data": {
      "application/vnd.jupyter.widget-view+json": {
       "model_id": "6a461b097f8d4a1989b74580fa8a7f90",
       "version_major": 2,
       "version_minor": 0
      },
      "text/plain": [
       "test:   0%|          | 0/10000 [00:00<?, ?it/s]"
      ]
     },
     "metadata": {},
     "output_type": "display_data"
    },
    {
     "name": "stdout",
     "output_type": "stream",
     "text": [
      "train: 0.79255 loss: 0.3845917424747602\n",
      "train val: 0.7156 loss: 0.4903769145688508\n",
      "test: 0.6173 loss: 0.6474854667544365\n",
      "epoch time: 12.33min\n",
      "removing /mnt/d/workspace/clotho/notebooks/checkpoints/stats_v6_lg_16.json\n",
      "removing /mnt/d/workspace/clotho/notebooks/checkpoints/harness_v6_lg_16.pkl\n",
      "best model: /mnt/d/workspace/clotho/notebooks/checkpoints/harness_v6_lg_0.pkl\n",
      "best train: 0.7332\n",
      "best train val: 0.7525\n",
      "best test: 0.6504\n",
      "epoch 18 version: 6\n"
     ]
    },
    {
     "data": {
      "application/vnd.jupyter.widget-view+json": {
       "model_id": "65157e73bcca4039ab8ac838ed9af723",
       "version_major": 2,
       "version_minor": 0
      },
      "text/plain": [
       "train:   0%|          | 0/20000 [00:00<?, ?it/s]"
      ]
     },
     "metadata": {},
     "output_type": "display_data"
    },
    {
     "data": {
      "application/vnd.jupyter.widget-view+json": {
       "model_id": "a669c083877d4fd58cbf220b84489cb9",
       "version_major": 2,
       "version_minor": 0
      },
      "text/plain": [
       "train val:   0%|          | 0/10000 [00:00<?, ?it/s]"
      ]
     },
     "metadata": {},
     "output_type": "display_data"
    },
    {
     "data": {
      "application/vnd.jupyter.widget-view+json": {
       "model_id": "ea21f6bc86df4f209a1ba47b4ef38e73",
       "version_major": 2,
       "version_minor": 0
      },
      "text/plain": [
       "test:   0%|          | 0/10000 [00:00<?, ?it/s]"
      ]
     },
     "metadata": {},
     "output_type": "display_data"
    },
    {
     "name": "stdout",
     "output_type": "stream",
     "text": [
      "train: 0.66695 loss: 13.690719044582185\n",
      "train val: 0.6569 loss: 0.6899208131551743\n",
      "test: 0.503 loss: 0.6937750320911408\n",
      "epoch time: 12.11min\n",
      "removing /mnt/d/workspace/clotho/notebooks/checkpoints/stats_v6_lg_17.json\n",
      "removing /mnt/d/workspace/clotho/notebooks/checkpoints/harness_v6_lg_17.pkl\n",
      "best model: /mnt/d/workspace/clotho/notebooks/checkpoints/harness_v6_lg_0.pkl\n",
      "best train: 0.7332\n",
      "best train val: 0.7525\n",
      "best test: 0.6504\n",
      "epoch 19 version: 6\n"
     ]
    },
    {
     "data": {
      "application/vnd.jupyter.widget-view+json": {
       "model_id": "40fe865d20684480beec3b34e53cace4",
       "version_major": 2,
       "version_minor": 0
      },
      "text/plain": [
       "train:   0%|          | 0/20000 [00:00<?, ?it/s]"
      ]
     },
     "metadata": {},
     "output_type": "display_data"
    },
    {
     "data": {
      "application/vnd.jupyter.widget-view+json": {
       "model_id": "aa6fae2e5fd5460f9e6d6c2ff3a78ff3",
       "version_major": 2,
       "version_minor": 0
      },
      "text/plain": [
       "train val:   0%|          | 0/10000 [00:00<?, ?it/s]"
      ]
     },
     "metadata": {},
     "output_type": "display_data"
    },
    {
     "data": {
      "application/vnd.jupyter.widget-view+json": {
       "model_id": "a7db04739e4140f6828194345a111d88",
       "version_major": 2,
       "version_minor": 0
      },
      "text/plain": [
       "test:   0%|          | 0/10000 [00:00<?, ?it/s]"
      ]
     },
     "metadata": {},
     "output_type": "display_data"
    },
    {
     "name": "stdout",
     "output_type": "stream",
     "text": [
      "train: 0.49865 loss: 46.71370835829582\n",
      "train val: 0.5758 loss: 0.6914377968549729\n",
      "test: 0.4341 loss: 0.6937788139104843\n",
      "epoch time: 12.49min\n",
      "removing /mnt/d/workspace/clotho/notebooks/checkpoints/stats_v6_lg_18.json\n",
      "removing /mnt/d/workspace/clotho/notebooks/checkpoints/harness_v6_lg_18.pkl\n",
      "best model: /mnt/d/workspace/clotho/notebooks/checkpoints/harness_v6_lg_0.pkl\n",
      "best train: 0.7332\n",
      "best train val: 0.7525\n",
      "best test: 0.6504\n",
      "epoch 20 version: 6\n"
     ]
    },
    {
     "data": {
      "application/vnd.jupyter.widget-view+json": {
       "model_id": "0ac01858b4db47f2a70abef66d179da1",
       "version_major": 2,
       "version_minor": 0
      },
      "text/plain": [
       "train:   0%|          | 0/20000 [00:00<?, ?it/s]"
      ]
     },
     "metadata": {},
     "output_type": "display_data"
    },
    {
     "data": {
      "application/vnd.jupyter.widget-view+json": {
       "model_id": "1548de89c5da43eab3e21e9421179793",
       "version_major": 2,
       "version_minor": 0
      },
      "text/plain": [
       "train val:   0%|          | 0/10000 [00:00<?, ?it/s]"
      ]
     },
     "metadata": {},
     "output_type": "display_data"
    },
    {
     "data": {
      "application/vnd.jupyter.widget-view+json": {
       "model_id": "21fb9599e7064b569fb0b53a905d39f6",
       "version_major": 2,
       "version_minor": 0
      },
      "text/plain": [
       "test:   0%|          | 0/10000 [00:00<?, ?it/s]"
      ]
     },
     "metadata": {},
     "output_type": "display_data"
    },
    {
     "name": "stdout",
     "output_type": "stream",
     "text": [
      "train: 0.50025 loss: 48.57904476507552\n",
      "train val: 0.4201 loss: 0.6937505393981933\n",
      "test: 0.4585 loss: 0.6933913734436035\n",
      "epoch time: 12.59min\n",
      "removing /mnt/d/workspace/clotho/notebooks/checkpoints/stats_v6_lg_19.json\n",
      "removing /mnt/d/workspace/clotho/notebooks/checkpoints/harness_v6_lg_19.pkl\n",
      "best model: /mnt/d/workspace/clotho/notebooks/checkpoints/harness_v6_lg_0.pkl\n",
      "best train: 0.7332\n",
      "best train val: 0.7525\n",
      "best test: 0.6504\n",
      "epoch 21 version: 6\n"
     ]
    },
    {
     "data": {
      "application/vnd.jupyter.widget-view+json": {
       "model_id": "93758a2f19a7418698bf89635d7d5d3e",
       "version_major": 2,
       "version_minor": 0
      },
      "text/plain": [
       "train:   0%|          | 0/20000 [00:00<?, ?it/s]"
      ]
     },
     "metadata": {},
     "output_type": "display_data"
    },
    {
     "data": {
      "application/vnd.jupyter.widget-view+json": {
       "model_id": "54b69b7b70954685baf17d40de82caf8",
       "version_major": 2,
       "version_minor": 0
      },
      "text/plain": [
       "train val:   0%|          | 0/10000 [00:00<?, ?it/s]"
      ]
     },
     "metadata": {},
     "output_type": "display_data"
    },
    {
     "data": {
      "application/vnd.jupyter.widget-view+json": {
       "model_id": "f4243dd6fd644a8ba10bbcbd9af9b15b",
       "version_major": 2,
       "version_minor": 0
      },
      "text/plain": [
       "test:   0%|          | 0/10000 [00:00<?, ?it/s]"
      ]
     },
     "metadata": {},
     "output_type": "display_data"
    },
    {
     "name": "stdout",
     "output_type": "stream",
     "text": [
      "train: 0.4983 loss: 49.235184776296556\n",
      "train val: 0.3785 loss: 0.6946483438491822\n",
      "test: 0.488 loss: 0.693354755783081\n",
      "epoch time: 12.31min\n",
      "removing /mnt/d/workspace/clotho/notebooks/checkpoints/stats_v6_lg_20.json\n",
      "removing /mnt/d/workspace/clotho/notebooks/checkpoints/harness_v6_lg_20.pkl\n",
      "best model: /mnt/d/workspace/clotho/notebooks/checkpoints/harness_v6_lg_0.pkl\n",
      "best train: 0.7332\n",
      "best train val: 0.7525\n",
      "best test: 0.6504\n",
      "epoch 22 version: 6\n"
     ]
    },
    {
     "data": {
      "application/vnd.jupyter.widget-view+json": {
       "model_id": "d4a0689d8ca245649595df3c432082ac",
       "version_major": 2,
       "version_minor": 0
      },
      "text/plain": [
       "train:   0%|          | 0/20000 [00:00<?, ?it/s]"
      ]
     },
     "metadata": {},
     "output_type": "display_data"
    },
    {
     "data": {
      "application/vnd.jupyter.widget-view+json": {
       "model_id": "d48998a28d9346e88955c7fb5551d4c7",
       "version_major": 2,
       "version_minor": 0
      },
      "text/plain": [
       "train val:   0%|          | 0/10000 [00:00<?, ?it/s]"
      ]
     },
     "metadata": {},
     "output_type": "display_data"
    },
    {
     "data": {
      "application/vnd.jupyter.widget-view+json": {
       "model_id": "1e13c72663c6402e81764807d7788e96",
       "version_major": 2,
       "version_minor": 0
      },
      "text/plain": [
       "test:   0%|          | 0/10000 [00:00<?, ?it/s]"
      ]
     },
     "metadata": {},
     "output_type": "display_data"
    },
    {
     "name": "stdout",
     "output_type": "stream",
     "text": [
      "train: 0.4993 loss: 49.47641962960302\n",
      "train val: 0.5745 loss: 0.6925731330871582\n",
      "test: 0.5094 loss: 0.6930759880065918\n",
      "epoch time: 12.22min\n",
      "removing /mnt/d/workspace/clotho/notebooks/checkpoints/stats_v6_lg_21.json\n",
      "removing /mnt/d/workspace/clotho/notebooks/checkpoints/harness_v6_lg_21.pkl\n",
      "best model: /mnt/d/workspace/clotho/notebooks/checkpoints/harness_v6_lg_0.pkl\n",
      "best train: 0.7332\n",
      "best train val: 0.7525\n",
      "best test: 0.6504\n",
      "epoch 23 version: 6\n"
     ]
    },
    {
     "data": {
      "application/vnd.jupyter.widget-view+json": {
       "model_id": "8f9589e53a93407196fa554f17807bc9",
       "version_major": 2,
       "version_minor": 0
      },
      "text/plain": [
       "train:   0%|          | 0/20000 [00:00<?, ?it/s]"
      ]
     },
     "metadata": {},
     "output_type": "display_data"
    },
    {
     "data": {
      "application/vnd.jupyter.widget-view+json": {
       "model_id": "5a0d39abccfa4bd083fb61167b46837d",
       "version_major": 2,
       "version_minor": 0
      },
      "text/plain": [
       "train val:   0%|          | 0/10000 [00:00<?, ?it/s]"
      ]
     },
     "metadata": {},
     "output_type": "display_data"
    },
    {
     "data": {
      "application/vnd.jupyter.widget-view+json": {
       "model_id": "1bde5d13ca3142b792fa86ed0968a9f8",
       "version_major": 2,
       "version_minor": 0
      },
      "text/plain": [
       "test:   0%|          | 0/10000 [00:00<?, ?it/s]"
      ]
     },
     "metadata": {},
     "output_type": "display_data"
    },
    {
     "name": "stdout",
     "output_type": "stream",
     "text": [
      "train: 0.5027 loss: 49.22736178179609\n",
      "train val: 0.3527 loss: 0.737173505282402\n",
      "test: 0.5379 loss: 0.6895982605934143\n",
      "epoch time: 12.30min\n",
      "removing /mnt/d/workspace/clotho/notebooks/checkpoints/stats_v6_lg_22.json\n",
      "removing /mnt/d/workspace/clotho/notebooks/checkpoints/harness_v6_lg_22.pkl\n",
      "best model: /mnt/d/workspace/clotho/notebooks/checkpoints/harness_v6_lg_0.pkl\n",
      "best train: 0.7332\n",
      "best train val: 0.7525\n",
      "best test: 0.6504\n",
      "epoch 24 version: 6\n"
     ]
    },
    {
     "data": {
      "application/vnd.jupyter.widget-view+json": {
       "model_id": "d6a51cf726db4e1eae55fe97d3f3ee33",
       "version_major": 2,
       "version_minor": 0
      },
      "text/plain": [
       "train:   0%|          | 0/20000 [00:00<?, ?it/s]"
      ]
     },
     "metadata": {},
     "output_type": "display_data"
    },
    {
     "data": {
      "application/vnd.jupyter.widget-view+json": {
       "model_id": "4642db69c3564386ae04ec63057f8821",
       "version_major": 2,
       "version_minor": 0
      },
      "text/plain": [
       "train val:   0%|          | 0/10000 [00:00<?, ?it/s]"
      ]
     },
     "metadata": {},
     "output_type": "display_data"
    },
    {
     "data": {
      "application/vnd.jupyter.widget-view+json": {
       "model_id": "69779519288a40a3ad55855bba81a084",
       "version_major": 2,
       "version_minor": 0
      },
      "text/plain": [
       "test:   0%|          | 0/10000 [00:00<?, ?it/s]"
      ]
     },
     "metadata": {},
     "output_type": "display_data"
    },
    {
     "name": "stdout",
     "output_type": "stream",
     "text": [
      "train: 0.4991 loss: 49.660955799971745\n",
      "train val: 0.6426 loss: 0.6855821759223938\n",
      "test: 0.5055 loss: 0.6929944447278976\n",
      "epoch time: 12.45min\n",
      "removing /mnt/d/workspace/clotho/notebooks/checkpoints/stats_v6_lg_23.json\n",
      "removing /mnt/d/workspace/clotho/notebooks/checkpoints/harness_v6_lg_23.pkl\n",
      "best model: /mnt/d/workspace/clotho/notebooks/checkpoints/harness_v6_lg_0.pkl\n",
      "best train: 0.7332\n",
      "best train val: 0.7525\n",
      "best test: 0.6504\n",
      "epoch 25 version: 6\n"
     ]
    },
    {
     "data": {
      "application/vnd.jupyter.widget-view+json": {
       "model_id": "e1c131efeadf4b45ad35b43b457c9b95",
       "version_major": 2,
       "version_minor": 0
      },
      "text/plain": [
       "train:   0%|          | 0/20000 [00:00<?, ?it/s]"
      ]
     },
     "metadata": {},
     "output_type": "display_data"
    },
    {
     "data": {
      "application/vnd.jupyter.widget-view+json": {
       "model_id": "66d8ab61d52646c0b644f18779dbb176",
       "version_major": 2,
       "version_minor": 0
      },
      "text/plain": [
       "train val:   0%|          | 0/10000 [00:00<?, ?it/s]"
      ]
     },
     "metadata": {},
     "output_type": "display_data"
    },
    {
     "data": {
      "application/vnd.jupyter.widget-view+json": {
       "model_id": "d377a4fb0fec4b45a8aeba1aed978ac4",
       "version_major": 2,
       "version_minor": 0
      },
      "text/plain": [
       "test:   0%|          | 0/10000 [00:00<?, ?it/s]"
      ]
     },
     "metadata": {},
     "output_type": "display_data"
    },
    {
     "name": "stdout",
     "output_type": "stream",
     "text": [
      "train: 0.5029 loss: 49.38376763835287\n",
      "train val: 0.4874 loss: 0.6858832339048385\n",
      "test: 0.5195 loss: 0.7000978005170823\n",
      "epoch time: 12.08min\n",
      "removing /mnt/d/workspace/clotho/notebooks/checkpoints/stats_v6_lg_24.json\n",
      "removing /mnt/d/workspace/clotho/notebooks/checkpoints/harness_v6_lg_24.pkl\n",
      "best model: /mnt/d/workspace/clotho/notebooks/checkpoints/harness_v6_lg_0.pkl\n",
      "best train: 0.7332\n",
      "best train val: 0.7525\n",
      "best test: 0.6504\n",
      "epoch 26 version: 6\n"
     ]
    },
    {
     "data": {
      "application/vnd.jupyter.widget-view+json": {
       "model_id": "48c36a8ab26e4f58ba64f2055073c803",
       "version_major": 2,
       "version_minor": 0
      },
      "text/plain": [
       "train:   0%|          | 0/20000 [00:00<?, ?it/s]"
      ]
     },
     "metadata": {},
     "output_type": "display_data"
    },
    {
     "data": {
      "application/vnd.jupyter.widget-view+json": {
       "model_id": "32fb9342bda248bea98404e8ae9489d9",
       "version_major": 2,
       "version_minor": 0
      },
      "text/plain": [
       "train val:   0%|          | 0/10000 [00:00<?, ?it/s]"
      ]
     },
     "metadata": {},
     "output_type": "display_data"
    },
    {
     "data": {
      "application/vnd.jupyter.widget-view+json": {
       "model_id": "aa462563ab2946fa9e3c6d83bdb77e76",
       "version_major": 2,
       "version_minor": 0
      },
      "text/plain": [
       "test:   0%|          | 0/10000 [00:00<?, ?it/s]"
      ]
     },
     "metadata": {},
     "output_type": "display_data"
    },
    {
     "name": "stdout",
     "output_type": "stream",
     "text": [
      "train: 0.50505 loss: 49.238888828129376\n",
      "train val: 0.4887 loss: 0.693315909576416\n",
      "test: 0.5021 loss: 0.6931404533386231\n",
      "epoch time: 12.51min\n",
      "removing /mnt/d/workspace/clotho/notebooks/checkpoints/stats_v6_lg_25.json\n",
      "removing /mnt/d/workspace/clotho/notebooks/checkpoints/harness_v6_lg_25.pkl\n",
      "best model: /mnt/d/workspace/clotho/notebooks/checkpoints/harness_v6_lg_0.pkl\n",
      "best train: 0.7332\n",
      "best train val: 0.7525\n",
      "best test: 0.6504\n",
      "epoch 27 version: 6\n"
     ]
    },
    {
     "data": {
      "application/vnd.jupyter.widget-view+json": {
       "model_id": "3a7042f7c0ae4f749d5e9c7dd53ac6b5",
       "version_major": 2,
       "version_minor": 0
      },
      "text/plain": [
       "train:   0%|          | 0/20000 [00:00<?, ?it/s]"
      ]
     },
     "metadata": {},
     "output_type": "display_data"
    },
    {
     "data": {
      "application/vnd.jupyter.widget-view+json": {
       "model_id": "d5861b3a6f6f4ad990d0bbf4f3776741",
       "version_major": 2,
       "version_minor": 0
      },
      "text/plain": [
       "train val:   0%|          | 0/10000 [00:00<?, ?it/s]"
      ]
     },
     "metadata": {},
     "output_type": "display_data"
    },
    {
     "data": {
      "application/vnd.jupyter.widget-view+json": {
       "model_id": "147493cfa51d45439de4fae56e25d46d",
       "version_major": 2,
       "version_minor": 0
      },
      "text/plain": [
       "test:   0%|          | 0/10000 [00:00<?, ?it/s]"
      ]
     },
     "metadata": {},
     "output_type": "display_data"
    },
    {
     "name": "stdout",
     "output_type": "stream",
     "text": [
      "train: 0.50145 loss: 49.619895359927376\n",
      "train val: 0.4792 loss: 0.6936970970153808\n",
      "test: 0.4987 loss: 0.6931588249206543\n",
      "epoch time: 12.17min\n",
      "removing /mnt/d/workspace/clotho/notebooks/checkpoints/stats_v6_lg_26.json\n",
      "removing /mnt/d/workspace/clotho/notebooks/checkpoints/harness_v6_lg_26.pkl\n",
      "best model: /mnt/d/workspace/clotho/notebooks/checkpoints/harness_v6_lg_0.pkl\n",
      "best train: 0.7332\n",
      "best train val: 0.7525\n",
      "best test: 0.6504\n",
      "epoch 28 version: 6\n"
     ]
    },
    {
     "data": {
      "application/vnd.jupyter.widget-view+json": {
       "model_id": "592155783ce34b1aa59705e4560983f2",
       "version_major": 2,
       "version_minor": 0
      },
      "text/plain": [
       "train:   0%|          | 0/20000 [00:00<?, ?it/s]"
      ]
     },
     "metadata": {},
     "output_type": "display_data"
    },
    {
     "data": {
      "application/vnd.jupyter.widget-view+json": {
       "model_id": "881333fb14454a8188873673ab168d36",
       "version_major": 2,
       "version_minor": 0
      },
      "text/plain": [
       "train val:   0%|          | 0/10000 [00:00<?, ?it/s]"
      ]
     },
     "metadata": {},
     "output_type": "display_data"
    },
    {
     "data": {
      "application/vnd.jupyter.widget-view+json": {
       "model_id": "84d01b9063f8480e82dde87cf9a21647",
       "version_major": 2,
       "version_minor": 0
      },
      "text/plain": [
       "test:   0%|          | 0/10000 [00:00<?, ?it/s]"
      ]
     },
     "metadata": {},
     "output_type": "display_data"
    },
    {
     "name": "stdout",
     "output_type": "stream",
     "text": [
      "train: 0.49725 loss: 50.0638295347793\n",
      "train val: 0.5137 loss: 0.6929742240905762\n",
      "test: 0.5157 loss: 0.6928926872253418\n",
      "epoch time: 11.83min\n",
      "removing /mnt/d/workspace/clotho/notebooks/checkpoints/stats_v6_lg_27.json\n",
      "removing /mnt/d/workspace/clotho/notebooks/checkpoints/harness_v6_lg_27.pkl\n",
      "best model: /mnt/d/workspace/clotho/notebooks/checkpoints/harness_v6_lg_0.pkl\n",
      "best train: 0.7332\n",
      "best train val: 0.7525\n",
      "best test: 0.6504\n",
      "epoch 29 version: 6\n"
     ]
    },
    {
     "data": {
      "application/vnd.jupyter.widget-view+json": {
       "model_id": "afc3a5e99b894631acb5e847d51a4208",
       "version_major": 2,
       "version_minor": 0
      },
      "text/plain": [
       "train:   0%|          | 0/20000 [00:00<?, ?it/s]"
      ]
     },
     "metadata": {},
     "output_type": "display_data"
    },
    {
     "data": {
      "application/vnd.jupyter.widget-view+json": {
       "model_id": "2f1b18f7ac9941c5a7f05b8b1b8f3785",
       "version_major": 2,
       "version_minor": 0
      },
      "text/plain": [
       "train val:   0%|          | 0/10000 [00:00<?, ?it/s]"
      ]
     },
     "metadata": {},
     "output_type": "display_data"
    },
    {
     "data": {
      "application/vnd.jupyter.widget-view+json": {
       "model_id": "6276b51ae291446391f3f00bbb07cf2d",
       "version_major": 2,
       "version_minor": 0
      },
      "text/plain": [
       "test:   0%|          | 0/10000 [00:00<?, ?it/s]"
      ]
     },
     "metadata": {},
     "output_type": "display_data"
    },
    {
     "name": "stdout",
     "output_type": "stream",
     "text": [
      "train: 0.50135 loss: 49.69540810501074\n",
      "train val: 0.5323 loss: 2.0886081813686292\n",
      "test: 0.4731 loss: 2.1254481077454517\n",
      "epoch time: 11.94min\n",
      "removing /mnt/d/workspace/clotho/notebooks/checkpoints/stats_v6_lg_28.json\n",
      "removing /mnt/d/workspace/clotho/notebooks/checkpoints/harness_v6_lg_28.pkl\n",
      "best model: /mnt/d/workspace/clotho/notebooks/checkpoints/harness_v6_lg_0.pkl\n",
      "best train: 0.7332\n",
      "best train val: 0.7525\n",
      "best test: 0.6504\n"
     ]
    },
    {
     "data": {
      "application/vnd.jupyter.widget-view+json": {
       "model_id": "8ab87dd45a0e4125b9fed254cc851c03",
       "version_major": 2,
       "version_minor": 0
      },
      "text/plain": [
       "test val:   0%|          | 0/10000 [00:00<?, ?it/s]"
      ]
     },
     "metadata": {},
     "output_type": "display_data"
    },
    {
     "name": "stdout",
     "output_type": "stream",
     "text": [
      "test val: {'accuracy': 0.4849} loss: 2.1199638451452136\n",
      "correct\n"
     ]
    },
    {
     "data": {
      "text/html": [
       "<div>\n",
       "<style scoped>\n",
       "    .dataframe tbody tr th:only-of-type {\n",
       "        vertical-align: middle;\n",
       "    }\n",
       "\n",
       "    .dataframe tbody tr th {\n",
       "        vertical-align: top;\n",
       "    }\n",
       "\n",
       "    .dataframe thead th {\n",
       "        text-align: right;\n",
       "    }\n",
       "</style>\n",
       "<table border=\"1\" class=\"dataframe\">\n",
       "  <thead>\n",
       "    <tr style=\"text-align: right;\">\n",
       "      <th></th>\n",
       "      <th>gen_name</th>\n",
       "      <th>parent_left</th>\n",
       "      <th>child_left</th>\n",
       "      <th>parent_right</th>\n",
       "      <th>child_right</th>\n",
       "      <th>sway_left</th>\n",
       "      <th>sway_right</th>\n",
       "      <th>correct_is_right</th>\n",
       "      <th>logit_left</th>\n",
       "      <th>logit_right</th>\n",
       "      <th>preds</th>\n",
       "      <th>truth</th>\n",
       "    </tr>\n",
       "  </thead>\n",
       "  <tbody>\n",
       "    <tr>\n",
       "      <th>1</th>\n",
       "      <td>*valid--!copy;(mtl:20);(sw);(st)</td>\n",
       "      <td>Men are still plenty selective about who they ...</td>\n",
       "      <td>Men are selective, as in, they'll select from ...</td>\n",
       "      <td>Men are selective, as in, they'll select from ...</td>\n",
       "      <td>Men are still plenty selective about who they ...</td>\n",
       "      <td>0.999877</td>\n",
       "      <td>0.000123</td>\n",
       "      <td>False</td>\n",
       "      <td>0.942507</td>\n",
       "      <td>0.057493</td>\n",
       "      <td>0</td>\n",
       "      <td>0</td>\n",
       "    </tr>\n",
       "    <tr>\n",
       "      <th>2</th>\n",
       "      <td>random--valid;(sw);(st)</td>\n",
       "      <td>Dungeons and Dragons</td>\n",
       "      <td>Did you see this post a week ago and got jealo...</td>\n",
       "      <td>Question for the men, what's the worst part of...</td>\n",
       "      <td>When sitting wrong on your bike seat and cutti...</td>\n",
       "      <td>0.119203</td>\n",
       "      <td>0.880797</td>\n",
       "      <td>True</td>\n",
       "      <td>0.468791</td>\n",
       "      <td>0.531209</td>\n",
       "      <td>1</td>\n",
       "      <td>1</td>\n",
       "    </tr>\n",
       "    <tr>\n",
       "      <th>3</th>\n",
       "      <td>random--valid;(sw);(st)</td>\n",
       "      <td>I always brush my teeth but need to floss more...</td>\n",
       "      <td>As an american all I can say is: why?</td>\n",
       "      <td>[removed]</td>\n",
       "      <td>User profile checks out. Bet you're on a list ...</td>\n",
       "      <td>0.119203</td>\n",
       "      <td>0.880797</td>\n",
       "      <td>True</td>\n",
       "      <td>0.488283</td>\n",
       "      <td>0.511717</td>\n",
       "      <td>1</td>\n",
       "      <td>1</td>\n",
       "    </tr>\n",
       "    <tr>\n",
       "      <th>2</th>\n",
       "      <td>*valid--!copy;(sw);(st)</td>\n",
       "      <td>She actually has a song where this is the poin...</td>\n",
       "      <td>Yep, this one came to mind. She is incredible ...</td>\n",
       "      <td>Yep, this one came to mind. She is incredible ...</td>\n",
       "      <td>She actually has a song where this is the poin...</td>\n",
       "      <td>0.997527</td>\n",
       "      <td>0.002473</td>\n",
       "      <td>False</td>\n",
       "      <td>0.500000</td>\n",
       "      <td>0.500000</td>\n",
       "      <td>0</td>\n",
       "      <td>0</td>\n",
       "    </tr>\n",
       "    <tr>\n",
       "      <th>1</th>\n",
       "      <td>random--valid;(mtl:20);(sw);(st)</td>\n",
       "      <td>I am uncomfortably comfortable not trying.</td>\n",
       "      <td>They're slightly better than nickleback. Haha</td>\n",
       "      <td>US uses 120 VAC (RMS), so the wattage is half ...</td>\n",
       "      <td>Interesting!! I came into this not knowing muc...</td>\n",
       "      <td>0.119203</td>\n",
       "      <td>0.880797</td>\n",
       "      <td>True</td>\n",
       "      <td>0.496094</td>\n",
       "      <td>0.503906</td>\n",
       "      <td>1</td>\n",
       "      <td>1</td>\n",
       "    </tr>\n",
       "  </tbody>\n",
       "</table>\n",
       "</div>"
      ],
      "text/plain": [
       "                           gen_name  \\\n",
       "1  *valid--!copy;(mtl:20);(sw);(st)   \n",
       "2           random--valid;(sw);(st)   \n",
       "3           random--valid;(sw);(st)   \n",
       "2           *valid--!copy;(sw);(st)   \n",
       "1  random--valid;(mtl:20);(sw);(st)   \n",
       "\n",
       "                                         parent_left  \\\n",
       "1  Men are still plenty selective about who they ...   \n",
       "2                               Dungeons and Dragons   \n",
       "3  I always brush my teeth but need to floss more...   \n",
       "2  She actually has a song where this is the poin...   \n",
       "1         I am uncomfortably comfortable not trying.   \n",
       "\n",
       "                                          child_left  \\\n",
       "1  Men are selective, as in, they'll select from ...   \n",
       "2  Did you see this post a week ago and got jealo...   \n",
       "3              As an american all I can say is: why?   \n",
       "2  Yep, this one came to mind. She is incredible ...   \n",
       "1      They're slightly better than nickleback. Haha   \n",
       "\n",
       "                                        parent_right  \\\n",
       "1  Men are selective, as in, they'll select from ...   \n",
       "2  Question for the men, what's the worst part of...   \n",
       "3                                          [removed]   \n",
       "2  Yep, this one came to mind. She is incredible ...   \n",
       "1  US uses 120 VAC (RMS), so the wattage is half ...   \n",
       "\n",
       "                                         child_right  sway_left  sway_right  \\\n",
       "1  Men are still plenty selective about who they ...   0.999877    0.000123   \n",
       "2  When sitting wrong on your bike seat and cutti...   0.119203    0.880797   \n",
       "3  User profile checks out. Bet you're on a list ...   0.119203    0.880797   \n",
       "2  She actually has a song where this is the poin...   0.997527    0.002473   \n",
       "1  Interesting!! I came into this not knowing muc...   0.119203    0.880797   \n",
       "\n",
       "   correct_is_right  logit_left  logit_right  preds  truth  \n",
       "1             False    0.942507     0.057493      0      0  \n",
       "2              True    0.468791     0.531209      1      1  \n",
       "3              True    0.488283     0.511717      1      1  \n",
       "2             False    0.500000     0.500000      0      0  \n",
       "1              True    0.496094     0.503906      1      1  "
      ]
     },
     "metadata": {},
     "output_type": "display_data"
    },
    {
     "name": "stdout",
     "output_type": "stream",
     "text": [
      "incorrect\n"
     ]
    },
    {
     "data": {
      "text/html": [
       "<div>\n",
       "<style scoped>\n",
       "    .dataframe tbody tr th:only-of-type {\n",
       "        vertical-align: middle;\n",
       "    }\n",
       "\n",
       "    .dataframe tbody tr th {\n",
       "        vertical-align: top;\n",
       "    }\n",
       "\n",
       "    .dataframe thead th {\n",
       "        text-align: right;\n",
       "    }\n",
       "</style>\n",
       "<table border=\"1\" class=\"dataframe\">\n",
       "  <thead>\n",
       "    <tr style=\"text-align: right;\">\n",
       "      <th></th>\n",
       "      <th>gen_name</th>\n",
       "      <th>parent_left</th>\n",
       "      <th>child_left</th>\n",
       "      <th>parent_right</th>\n",
       "      <th>child_right</th>\n",
       "      <th>sway_left</th>\n",
       "      <th>sway_right</th>\n",
       "      <th>correct_is_right</th>\n",
       "      <th>logit_left</th>\n",
       "      <th>logit_right</th>\n",
       "      <th>preds</th>\n",
       "      <th>truth</th>\n",
       "    </tr>\n",
       "  </thead>\n",
       "  <tbody>\n",
       "    <tr>\n",
       "      <th>0</th>\n",
       "      <td>!copy--valid;(mtl:20);(sw);(st)</td>\n",
       "      <td>Gonna ride the baloney pony all the way to Was...</td>\n",
       "      <td>I'd literally take the law into my own hands.</td>\n",
       "      <td>I'd literally take the law into my own hands.</td>\n",
       "      <td>Gonna ride the baloney pony all the way to Was...</td>\n",
       "      <td>4.662937e-15</td>\n",
       "      <td>1.000000e+00</td>\n",
       "      <td>True</td>\n",
       "      <td>0.600188</td>\n",
       "      <td>0.399812</td>\n",
       "      <td>0</td>\n",
       "      <td>1</td>\n",
       "    </tr>\n",
       "    <tr>\n",
       "      <th>0</th>\n",
       "      <td>*valid--random;(sw);(st)</td>\n",
       "      <td>And they taste delicious when chopped into hal...</td>\n",
       "      <td>In Spain/Portugal we also cook them \"a feira\" ...</td>\n",
       "      <td>Seinfeld seems to be the one that paved the wa...</td>\n",
       "      <td>Wiping down gym equipment.</td>\n",
       "      <td>9.933071e-01</td>\n",
       "      <td>6.692851e-03</td>\n",
       "      <td>False</td>\n",
       "      <td>0.000869</td>\n",
       "      <td>0.999131</td>\n",
       "      <td>1</td>\n",
       "      <td>0</td>\n",
       "    </tr>\n",
       "    <tr>\n",
       "      <th>1</th>\n",
       "      <td>*valid--!copy;(mtl:20);(sw);(st)</td>\n",
       "      <td>Yeah that's a thing. I spend my summer vacatio...</td>\n",
       "      <td>you ever done on going maintenance on a boat? ...</td>\n",
       "      <td>you ever done on going maintenance on a boat? ...</td>\n",
       "      <td>Yeah that's a thing. I spend my summer vacatio...</td>\n",
       "      <td>1.000000e+00</td>\n",
       "      <td>1.562882e-18</td>\n",
       "      <td>False</td>\n",
       "      <td>0.000883</td>\n",
       "      <td>0.999117</td>\n",
       "      <td>1</td>\n",
       "      <td>0</td>\n",
       "    </tr>\n",
       "    <tr>\n",
       "      <th>3</th>\n",
       "      <td>*valid--random;(mtl:20);(sw);(st)</td>\n",
       "      <td>The cigarette industry social lied about cigar...</td>\n",
       "      <td>covid vaccines can protect from covid</td>\n",
       "      <td>“Women get sex so easy!” “Man I bet no one wan...</td>\n",
       "      <td>You guys watch porn with sound on??? What a pr...</td>\n",
       "      <td>8.807971e-01</td>\n",
       "      <td>1.192029e-01</td>\n",
       "      <td>False</td>\n",
       "      <td>0.001525</td>\n",
       "      <td>0.998475</td>\n",
       "      <td>1</td>\n",
       "      <td>0</td>\n",
       "    </tr>\n",
       "    <tr>\n",
       "      <th>0</th>\n",
       "      <td>random--valid;(mtl:20);(sw);(st)</td>\n",
       "      <td>So that's where it came from albeit it's still...</td>\n",
       "      <td>Yeah that's pretty much what he did. Epstein h...</td>\n",
       "      <td>I work in a kitchen full of men and it's quite...</td>\n",
       "      <td>Tears are for the French</td>\n",
       "      <td>9.110512e-04</td>\n",
       "      <td>9.990889e-01</td>\n",
       "      <td>True</td>\n",
       "      <td>0.500000</td>\n",
       "      <td>0.500000</td>\n",
       "      <td>0</td>\n",
       "      <td>1</td>\n",
       "    </tr>\n",
       "  </tbody>\n",
       "</table>\n",
       "</div>"
      ],
      "text/plain": [
       "                            gen_name  \\\n",
       "0    !copy--valid;(mtl:20);(sw);(st)   \n",
       "0           *valid--random;(sw);(st)   \n",
       "1   *valid--!copy;(mtl:20);(sw);(st)   \n",
       "3  *valid--random;(mtl:20);(sw);(st)   \n",
       "0   random--valid;(mtl:20);(sw);(st)   \n",
       "\n",
       "                                         parent_left  \\\n",
       "0  Gonna ride the baloney pony all the way to Was...   \n",
       "0  And they taste delicious when chopped into hal...   \n",
       "1  Yeah that's a thing. I spend my summer vacatio...   \n",
       "3  The cigarette industry social lied about cigar...   \n",
       "0  So that's where it came from albeit it's still...   \n",
       "\n",
       "                                          child_left  \\\n",
       "0      I'd literally take the law into my own hands.   \n",
       "0  In Spain/Portugal we also cook them \"a feira\" ...   \n",
       "1  you ever done on going maintenance on a boat? ...   \n",
       "3              covid vaccines can protect from covid   \n",
       "0  Yeah that's pretty much what he did. Epstein h...   \n",
       "\n",
       "                                        parent_right  \\\n",
       "0      I'd literally take the law into my own hands.   \n",
       "0  Seinfeld seems to be the one that paved the wa...   \n",
       "1  you ever done on going maintenance on a boat? ...   \n",
       "3  “Women get sex so easy!” “Man I bet no one wan...   \n",
       "0  I work in a kitchen full of men and it's quite...   \n",
       "\n",
       "                                         child_right     sway_left  \\\n",
       "0  Gonna ride the baloney pony all the way to Was...  4.662937e-15   \n",
       "0                         Wiping down gym equipment.  9.933071e-01   \n",
       "1  Yeah that's a thing. I spend my summer vacatio...  1.000000e+00   \n",
       "3  You guys watch porn with sound on??? What a pr...  8.807971e-01   \n",
       "0                           Tears are for the French  9.110512e-04   \n",
       "\n",
       "     sway_right  correct_is_right  logit_left  logit_right  preds  truth  \n",
       "0  1.000000e+00              True    0.600188     0.399812      0      1  \n",
       "0  6.692851e-03             False    0.000869     0.999131      1      0  \n",
       "1  1.562882e-18             False    0.000883     0.999117      1      0  \n",
       "3  1.192029e-01             False    0.001525     0.998475      1      0  \n",
       "0  9.990889e-01              True    0.500000     0.500000      0      1  "
      ]
     },
     "metadata": {},
     "output_type": "display_data"
    },
    {
     "data": {
      "text/plain": [
       "array([[-0.13402689,  0.11265951, -0.11515143, ...,  0.12815818,\n",
       "         0.13821185, -0.12555055],\n",
       "       [-0.13402689,  0.11265951, -0.11515143, ...,  0.12815818,\n",
       "         0.13821185, -0.12555055],\n",
       "       [-0.13402689,  0.11265951, -0.11515143, ...,  0.12815818,\n",
       "         0.13821185, -0.12555055],\n",
       "       [-0.13402689,  0.11265951, -0.11515143, ...,  0.12815818,\n",
       "         0.13821185, -0.12555055]], dtype=float32)"
      ]
     },
     "metadata": {},
     "output_type": "display_data"
    },
    {
     "data": {
      "text/plain": [
       "array([[-0.13402689,  0.11265951, -0.11515143, ...,  0.12815818,\n",
       "         0.13821185, -0.12555055],\n",
       "       [-0.13402689,  0.11265951, -0.11515143, ...,  0.12815818,\n",
       "         0.13821185, -0.12555055],\n",
       "       [-0.13402689,  0.11265951, -0.11515143, ...,  0.12815818,\n",
       "         0.13821185, -0.12555055],\n",
       "       [-0.13402689,  0.11265951, -0.11515143, ...,  0.12815818,\n",
       "         0.13821185, -0.12555055]], dtype=float32)"
      ]
     },
     "metadata": {},
     "output_type": "display_data"
    },
    {
     "data": {
      "text/plain": [
       "array([[-0.13402689,  0.11265951, -0.11515143, ...,  0.12815818,\n",
       "         0.13821185, -0.12555055],\n",
       "       [-0.13402689,  0.11265951, -0.11515143, ...,  0.12815818,\n",
       "         0.13821185, -0.12555055],\n",
       "       [-0.13402689,  0.11265951, -0.11515143, ...,  0.12815818,\n",
       "         0.13821185, -0.12555055],\n",
       "       [-0.13402689,  0.11265951, -0.11515143, ...,  0.12815818,\n",
       "         0.13821185, -0.12555055]], dtype=float32)"
      ]
     },
     "metadata": {},
     "output_type": "display_data"
    },
    {
     "data": {
      "text/plain": [
       "array([[-0.13402689,  0.11265951, -0.11515143, ...,  0.12815818,\n",
       "         0.13821185, -0.12555055],\n",
       "       [-0.13402689,  0.11265951, -0.11515143, ...,  0.12815818,\n",
       "         0.13821185, -0.12555055],\n",
       "       [-0.13402689,  0.11265951, -0.11515143, ...,  0.12815818,\n",
       "         0.13821185, -0.12555055],\n",
       "       [-0.13402689,  0.11265951, -0.11515143, ...,  0.12815818,\n",
       "         0.13821185, -0.12555055]], dtype=float32)"
      ]
     },
     "metadata": {},
     "output_type": "display_data"
    },
    {
     "data": {
      "text/plain": [
       "array([[-0.13402689,  0.11265951, -0.11515143, ...,  0.12815818,\n",
       "         0.13821185, -0.12555055],\n",
       "       [-0.13402689,  0.11265951, -0.11515143, ...,  0.12815818,\n",
       "         0.13821185, -0.12555055],\n",
       "       [-0.13402689,  0.11265951, -0.11515143, ...,  0.12815818,\n",
       "         0.13821185, -0.12555055],\n",
       "       [-0.13402689,  0.11265951, -0.11515143, ...,  0.12815818,\n",
       "         0.13821185, -0.12555055]], dtype=float32)"
      ]
     },
     "metadata": {},
     "output_type": "display_data"
    },
    {
     "data": {
      "text/plain": [
       "array([[-0.13402689,  0.11265951, -0.11515143, ...,  0.12815818,\n",
       "         0.13821185, -0.12555055],\n",
       "       [-0.13402689,  0.11265951, -0.11515143, ...,  0.12815818,\n",
       "         0.13821185, -0.12555055],\n",
       "       [-0.13402689,  0.11265951, -0.11515143, ...,  0.12815818,\n",
       "         0.13821185, -0.12555055],\n",
       "       [-0.13402689,  0.11265951, -0.11515143, ...,  0.12815818,\n",
       "         0.13821185, -0.12555055]], dtype=float32)"
      ]
     },
     "metadata": {},
     "output_type": "display_data"
    },
    {
     "data": {
      "text/plain": [
       "array([[-0.13402689,  0.11265951, -0.11515143, ...,  0.12815818,\n",
       "         0.13821185, -0.12555055],\n",
       "       [-0.13402689,  0.11265951, -0.11515143, ...,  0.12815818,\n",
       "         0.13821185, -0.12555055],\n",
       "       [-0.13402689,  0.11265951, -0.11515143, ...,  0.12815818,\n",
       "         0.13821185, -0.12555055],\n",
       "       [-0.13402689,  0.11265951, -0.11515143, ...,  0.12815818,\n",
       "         0.13821185, -0.12555055]], dtype=float32)"
      ]
     },
     "metadata": {},
     "output_type": "display_data"
    },
    {
     "data": {
      "text/plain": [
       "array([[-0.13402689,  0.11265951, -0.11515143, ...,  0.12815818,\n",
       "         0.13821185, -0.12555055],\n",
       "       [-0.13402689,  0.11265951, -0.11515143, ...,  0.12815818,\n",
       "         0.13821185, -0.12555055],\n",
       "       [-0.13402689,  0.11265951, -0.11515143, ...,  0.12815818,\n",
       "         0.13821185, -0.12555055],\n",
       "       [-0.13402689,  0.11265951, -0.11515143, ...,  0.12815818,\n",
       "         0.13821185, -0.12555055]], dtype=float32)"
      ]
     },
     "metadata": {},
     "output_type": "display_data"
    },
    {
     "data": {
      "text/plain": [
       "array([[-0.13402689,  0.11265951, -0.11515143, ...,  0.12815818,\n",
       "         0.13821185, -0.12555055],\n",
       "       [-0.13402689,  0.11265951, -0.11515143, ...,  0.12815818,\n",
       "         0.13821185, -0.12555055],\n",
       "       [-0.13402689,  0.11265951, -0.11515143, ...,  0.12815818,\n",
       "         0.13821185, -0.12555055],\n",
       "       [-0.13402689,  0.11265951, -0.11515143, ...,  0.12815818,\n",
       "         0.13821185, -0.12555055]], dtype=float32)"
      ]
     },
     "metadata": {},
     "output_type": "display_data"
    },
    {
     "data": {
      "text/plain": [
       "array([[-0.13402689,  0.11265951, -0.11515143, ...,  0.12815818,\n",
       "         0.13821185, -0.12555055],\n",
       "       [-0.13402689,  0.11265951, -0.11515143, ...,  0.12815818,\n",
       "         0.13821185, -0.12555055],\n",
       "       [-0.13402689,  0.11265951, -0.11515143, ...,  0.12815818,\n",
       "         0.13821185, -0.12555055],\n",
       "       [-0.13402689,  0.11265951, -0.11515143, ...,  0.12815818,\n",
       "         0.13821185, -0.12555055]], dtype=float32)"
      ]
     },
     "metadata": {},
     "output_type": "display_data"
    },
    {
     "name": "stderr",
     "output_type": "stream",
     "text": [
      "Some weights of the model checkpoint at distilbert-base-uncased were not used when initializing DistilBertModel: ['vocab_transform.bias', 'vocab_projector.bias', 'vocab_transform.weight', 'vocab_layer_norm.bias', 'vocab_layer_norm.weight', 'vocab_projector.weight']\n",
      "- This IS expected if you are initializing DistilBertModel from the checkpoint of a model trained on another task or with another architecture (e.g. initializing a BertForSequenceClassification model from a BertForPreTraining model).\n",
      "- This IS NOT expected if you are initializing DistilBertModel from the checkpoint of a model that you expect to be exactly identical (initializing a BertForSequenceClassification model from a BertForSequenceClassification model).\n",
      "Some weights of the model checkpoint at distilbert-base-uncased were not used when initializing DistilBertModel: ['vocab_transform.bias', 'vocab_projector.bias', 'vocab_transform.weight', 'vocab_layer_norm.bias', 'vocab_layer_norm.weight', 'vocab_projector.weight']\n",
      "- This IS expected if you are initializing DistilBertModel from the checkpoint of a model trained on another task or with another architecture (e.g. initializing a BertForSequenceClassification model from a BertForPreTraining model).\n",
      "- This IS NOT expected if you are initializing DistilBertModel from the checkpoint of a model that you expect to be exactly identical (initializing a BertForSequenceClassification model from a BertForSequenceClassification model).\n"
     ]
    },
    {
     "name": "stdout",
     "output_type": "stream",
     "text": [
      "None 0\n",
      "epoch 0 version: 7\n"
     ]
    },
    {
     "data": {
      "application/vnd.jupyter.widget-view+json": {
       "model_id": "1fb1b67e540e46ea845b3b0bb3032a70",
       "version_major": 2,
       "version_minor": 0
      },
      "text/plain": [
       "train:   0%|          | 0/20000 [00:00<?, ?it/s]"
      ]
     },
     "metadata": {},
     "output_type": "display_data"
    },
    {
     "data": {
      "application/vnd.jupyter.widget-view+json": {
       "model_id": "a56b9cf34f784d27b682f0a1555112fd",
       "version_major": 2,
       "version_minor": 0
      },
      "text/plain": [
       "train val:   0%|          | 0/10000 [00:00<?, ?it/s]"
      ]
     },
     "metadata": {},
     "output_type": "display_data"
    },
    {
     "data": {
      "application/vnd.jupyter.widget-view+json": {
       "model_id": "c9bf938cd827464c97af1a67d573e16e",
       "version_major": 2,
       "version_minor": 0
      },
      "text/plain": [
       "test:   0%|          | 0/10000 [00:00<?, ?it/s]"
      ]
     },
     "metadata": {},
     "output_type": "display_data"
    },
    {
     "name": "stdout",
     "output_type": "stream",
     "text": [
      "train: 0.62185 loss: 1.7745394072067335\n",
      "train val: 0.6013 loss: 1.4023633702451364\n",
      "test: 0.5507 loss: 1.70880985946632\n",
      "epoch time: 11.83min\n",
      "best model: /mnt/d/workspace/clotho/notebooks/checkpoints/harness_v7_lg_0.pkl\n",
      "best train: 0.62185\n",
      "best train val: 0.6013\n",
      "best test: 0.5507\n",
      "epoch 1 version: 7\n"
     ]
    },
    {
     "data": {
      "application/vnd.jupyter.widget-view+json": {
       "model_id": "e9b6cb9050da494d89d921f5ddbe1182",
       "version_major": 2,
       "version_minor": 0
      },
      "text/plain": [
       "train:   0%|          | 0/20000 [00:00<?, ?it/s]"
      ]
     },
     "metadata": {},
     "output_type": "display_data"
    },
    {
     "data": {
      "application/vnd.jupyter.widget-view+json": {
       "model_id": "d03adfb03d19478b84c2ac75c6eb35a9",
       "version_major": 2,
       "version_minor": 0
      },
      "text/plain": [
       "train val:   0%|          | 0/10000 [00:00<?, ?it/s]"
      ]
     },
     "metadata": {},
     "output_type": "display_data"
    },
    {
     "data": {
      "application/vnd.jupyter.widget-view+json": {
       "model_id": "0a5e734688464889afb9f3c9632418e1",
       "version_major": 2,
       "version_minor": 0
      },
      "text/plain": [
       "test:   0%|          | 0/10000 [00:00<?, ?it/s]"
      ]
     },
     "metadata": {},
     "output_type": "display_data"
    },
    {
     "name": "stdout",
     "output_type": "stream",
     "text": [
      "train: 0.6031 loss: 0.7781518956616521\n",
      "train val: 0.6634 loss: 0.5839086244288832\n",
      "test: 0.5655 loss: 0.72518733895123\n",
      "epoch time: 11.48min\n",
      "best model: /mnt/d/workspace/clotho/notebooks/checkpoints/harness_v7_lg_1.pkl\n",
      "best train: 0.6031\n",
      "best train val: 0.6634\n",
      "best test: 0.5655\n",
      "epoch 2 version: 7\n"
     ]
    },
    {
     "data": {
      "application/vnd.jupyter.widget-view+json": {
       "model_id": "f35261f653f64ff39f1a8fc3f704ba10",
       "version_major": 2,
       "version_minor": 0
      },
      "text/plain": [
       "train:   0%|          | 0/20000 [00:00<?, ?it/s]"
      ]
     },
     "metadata": {},
     "output_type": "display_data"
    },
    {
     "data": {
      "application/vnd.jupyter.widget-view+json": {
       "model_id": "3c6fa5485de146dba38f7fe4f326996d",
       "version_major": 2,
       "version_minor": 0
      },
      "text/plain": [
       "train val:   0%|          | 0/10000 [00:00<?, ?it/s]"
      ]
     },
     "metadata": {},
     "output_type": "display_data"
    },
    {
     "data": {
      "application/vnd.jupyter.widget-view+json": {
       "model_id": "60121725a5c34f3a99daf31f7ac493d7",
       "version_major": 2,
       "version_minor": 0
      },
      "text/plain": [
       "test:   0%|          | 0/10000 [00:00<?, ?it/s]"
      ]
     },
     "metadata": {},
     "output_type": "display_data"
    },
    {
     "name": "stdout",
     "output_type": "stream",
     "text": [
      "train: 0.7256 loss: 0.5131121148750186\n",
      "train val: 0.6772 loss: 0.5553551696198061\n",
      "test: 0.583 loss: 0.7066839819133282\n",
      "epoch time: 12.08min\n",
      "best model: /mnt/d/workspace/clotho/notebooks/checkpoints/harness_v7_lg_2.pkl\n",
      "best train: 0.7256\n",
      "best train val: 0.6772\n",
      "best test: 0.583\n",
      "epoch 3 version: 7\n"
     ]
    },
    {
     "data": {
      "application/vnd.jupyter.widget-view+json": {
       "model_id": "37382e0eee6849f3a44413c616b2ef56",
       "version_major": 2,
       "version_minor": 0
      },
      "text/plain": [
       "train:   0%|          | 0/20000 [00:00<?, ?it/s]"
      ]
     },
     "metadata": {},
     "output_type": "display_data"
    },
    {
     "data": {
      "application/vnd.jupyter.widget-view+json": {
       "model_id": "4a425012410947bb8df8ace7ca07458f",
       "version_major": 2,
       "version_minor": 0
      },
      "text/plain": [
       "train val:   0%|          | 0/10000 [00:00<?, ?it/s]"
      ]
     },
     "metadata": {},
     "output_type": "display_data"
    },
    {
     "data": {
      "application/vnd.jupyter.widget-view+json": {
       "model_id": "27e399de73a1469fae2da93db4cd468b",
       "version_major": 2,
       "version_minor": 0
      },
      "text/plain": [
       "test:   0%|          | 0/10000 [00:00<?, ?it/s]"
      ]
     },
     "metadata": {},
     "output_type": "display_data"
    },
    {
     "name": "stdout",
     "output_type": "stream",
     "text": [
      "train: 0.7613 loss: 0.44680245517046424\n",
      "train val: 0.6899 loss: 0.5536354661806254\n",
      "test: 0.6096 loss: 0.6820989182412625\n",
      "epoch time: 12.01min\n",
      "best model: /mnt/d/workspace/clotho/notebooks/checkpoints/harness_v7_lg_3.pkl\n",
      "best train: 0.7613\n",
      "best train val: 0.6899\n",
      "best test: 0.6096\n",
      "epoch 4 version: 7\n"
     ]
    },
    {
     "data": {
      "application/vnd.jupyter.widget-view+json": {
       "model_id": "98374b026ac94f68bc77dba226fc45ab",
       "version_major": 2,
       "version_minor": 0
      },
      "text/plain": [
       "train:   0%|          | 0/20000 [00:00<?, ?it/s]"
      ]
     },
     "metadata": {},
     "output_type": "display_data"
    },
    {
     "data": {
      "application/vnd.jupyter.widget-view+json": {
       "model_id": "4cd8d123dc574c269776d93f96449b55",
       "version_major": 2,
       "version_minor": 0
      },
      "text/plain": [
       "train val:   0%|          | 0/10000 [00:00<?, ?it/s]"
      ]
     },
     "metadata": {},
     "output_type": "display_data"
    },
    {
     "data": {
      "application/vnd.jupyter.widget-view+json": {
       "model_id": "2934f53bb1104475b6fc786e860ba1df",
       "version_major": 2,
       "version_minor": 0
      },
      "text/plain": [
       "test:   0%|          | 0/10000 [00:00<?, ?it/s]"
      ]
     },
     "metadata": {},
     "output_type": "display_data"
    },
    {
     "name": "stdout",
     "output_type": "stream",
     "text": [
      "train: 0.77095 loss: 0.423101530269075\n",
      "train val: 0.6971 loss: 0.5101440171981231\n",
      "test: 0.5887 loss: 0.6672375190675258\n",
      "epoch time: 11.98min\n",
      "best model: /mnt/d/workspace/clotho/notebooks/checkpoints/harness_v7_lg_4.pkl\n",
      "best train: 0.77095\n",
      "best train val: 0.6971\n",
      "best test: 0.5887\n",
      "epoch 5 version: 7\n"
     ]
    },
    {
     "data": {
      "application/vnd.jupyter.widget-view+json": {
       "model_id": "9909f326dc9f48fab3f6ef8035e3c629",
       "version_major": 2,
       "version_minor": 0
      },
      "text/plain": [
       "train:   0%|          | 0/20000 [00:00<?, ?it/s]"
      ]
     },
     "metadata": {},
     "output_type": "display_data"
    },
    {
     "data": {
      "application/vnd.jupyter.widget-view+json": {
       "model_id": "c493d9581e1349e791871add71a79c10",
       "version_major": 2,
       "version_minor": 0
      },
      "text/plain": [
       "train val:   0%|          | 0/10000 [00:00<?, ?it/s]"
      ]
     },
     "metadata": {},
     "output_type": "display_data"
    },
    {
     "data": {
      "application/vnd.jupyter.widget-view+json": {
       "model_id": "b5c62679217f4f28adb5de2252fd0e62",
       "version_major": 2,
       "version_minor": 0
      },
      "text/plain": [
       "test:   0%|          | 0/10000 [00:00<?, ?it/s]"
      ]
     },
     "metadata": {},
     "output_type": "display_data"
    },
    {
     "name": "stdout",
     "output_type": "stream",
     "text": [
      "train: 0.8168 loss: 0.35408319746564687\n",
      "train val: 0.694 loss: 0.5179621286929352\n",
      "test: 0.5941 loss: 0.6617787913322448\n",
      "epoch time: 12.10min\n",
      "best model: /mnt/d/workspace/clotho/notebooks/checkpoints/harness_v7_lg_4.pkl\n",
      "best train: 0.77095\n",
      "best train val: 0.6971\n",
      "best test: 0.5887\n",
      "epoch 6 version: 7\n"
     ]
    },
    {
     "data": {
      "application/vnd.jupyter.widget-view+json": {
       "model_id": "7ced3a731d404a06b325941ac41bedee",
       "version_major": 2,
       "version_minor": 0
      },
      "text/plain": [
       "train:   0%|          | 0/20000 [00:00<?, ?it/s]"
      ]
     },
     "metadata": {},
     "output_type": "display_data"
    },
    {
     "data": {
      "application/vnd.jupyter.widget-view+json": {
       "model_id": "12c734265df348d18134388f333e0257",
       "version_major": 2,
       "version_minor": 0
      },
      "text/plain": [
       "train val:   0%|          | 0/10000 [00:00<?, ?it/s]"
      ]
     },
     "metadata": {},
     "output_type": "display_data"
    },
    {
     "data": {
      "application/vnd.jupyter.widget-view+json": {
       "model_id": "628ca4448fa04decb940870eb1032b29",
       "version_major": 2,
       "version_minor": 0
      },
      "text/plain": [
       "test:   0%|          | 0/10000 [00:00<?, ?it/s]"
      ]
     },
     "metadata": {},
     "output_type": "display_data"
    },
    {
     "name": "stdout",
     "output_type": "stream",
     "text": [
      "train: 0.78075 loss: 0.5136843757559474\n",
      "train val: 0.683 loss: 0.5614753312140703\n",
      "test: 0.5657 loss: 0.7074917588174343\n",
      "epoch time: 11.98min\n",
      "removing /mnt/d/workspace/clotho/notebooks/checkpoints/stats_v7_lg_0.json\n",
      "removing /mnt/d/workspace/clotho/notebooks/checkpoints/harness_v7_lg_0.pkl\n",
      "best model: /mnt/d/workspace/clotho/notebooks/checkpoints/harness_v7_lg_4.pkl\n",
      "best train: 0.77095\n",
      "best train val: 0.6971\n",
      "best test: 0.5887\n",
      "epoch 7 version: 7\n"
     ]
    },
    {
     "data": {
      "application/vnd.jupyter.widget-view+json": {
       "model_id": "7fc6bb3af80148188277c64ebcaf3723",
       "version_major": 2,
       "version_minor": 0
      },
      "text/plain": [
       "train:   0%|          | 0/20000 [00:00<?, ?it/s]"
      ]
     },
     "metadata": {},
     "output_type": "display_data"
    },
    {
     "data": {
      "application/vnd.jupyter.widget-view+json": {
       "model_id": "28d417b743da4c498d7b926e900831ae",
       "version_major": 2,
       "version_minor": 0
      },
      "text/plain": [
       "train val:   0%|          | 0/10000 [00:00<?, ?it/s]"
      ]
     },
     "metadata": {},
     "output_type": "display_data"
    },
    {
     "data": {
      "application/vnd.jupyter.widget-view+json": {
       "model_id": "b18fed8cad064a2a81b42171e667e8d7",
       "version_major": 2,
       "version_minor": 0
      },
      "text/plain": [
       "test:   0%|          | 0/10000 [00:00<?, ?it/s]"
      ]
     },
     "metadata": {},
     "output_type": "display_data"
    },
    {
     "name": "stdout",
     "output_type": "stream",
     "text": [
      "train: 0.82295 loss: 0.3390327628902047\n",
      "train val: 0.6934 loss: 0.5313079586483538\n",
      "test: 0.5928 loss: 0.695860969042778\n",
      "epoch time: 11.65min\n",
      "removing /mnt/d/workspace/clotho/notebooks/checkpoints/stats_v7_lg_1.json\n",
      "removing /mnt/d/workspace/clotho/notebooks/checkpoints/harness_v7_lg_1.pkl\n",
      "best model: /mnt/d/workspace/clotho/notebooks/checkpoints/harness_v7_lg_4.pkl\n",
      "best train: 0.77095\n",
      "best train val: 0.6971\n",
      "best test: 0.5887\n",
      "epoch 8 version: 7\n"
     ]
    },
    {
     "data": {
      "application/vnd.jupyter.widget-view+json": {
       "model_id": "d7dd3a548de34a06b27a272ab824913e",
       "version_major": 2,
       "version_minor": 0
      },
      "text/plain": [
       "train:   0%|          | 0/20000 [00:00<?, ?it/s]"
      ]
     },
     "metadata": {},
     "output_type": "display_data"
    },
    {
     "data": {
      "application/vnd.jupyter.widget-view+json": {
       "model_id": "3a94174a407a41f58e81c016ec663b3e",
       "version_major": 2,
       "version_minor": 0
      },
      "text/plain": [
       "train val:   0%|          | 0/10000 [00:00<?, ?it/s]"
      ]
     },
     "metadata": {},
     "output_type": "display_data"
    },
    {
     "data": {
      "application/vnd.jupyter.widget-view+json": {
       "model_id": "a9d830e8e4c548caafa56b3a5134ed4e",
       "version_major": 2,
       "version_minor": 0
      },
      "text/plain": [
       "test:   0%|          | 0/10000 [00:00<?, ?it/s]"
      ]
     },
     "metadata": {},
     "output_type": "display_data"
    },
    {
     "name": "stdout",
     "output_type": "stream",
     "text": [
      "train: 0.83655 loss: 0.4002296531963692\n",
      "train val: 0.7084 loss: 0.509014545772253\n",
      "test: 0.5744 loss: 0.6748736840426922\n",
      "epoch time: 11.62min\n",
      "removing /mnt/d/workspace/clotho/notebooks/checkpoints/stats_v7_lg_2.json\n",
      "removing /mnt/d/workspace/clotho/notebooks/checkpoints/harness_v7_lg_2.pkl\n",
      "best model: /mnt/d/workspace/clotho/notebooks/checkpoints/harness_v7_lg_8.pkl\n",
      "best train: 0.83655\n",
      "best train val: 0.7084\n",
      "best test: 0.5744\n",
      "epoch 9 version: 7\n"
     ]
    },
    {
     "data": {
      "application/vnd.jupyter.widget-view+json": {
       "model_id": "892cd2c65a9f48fc9de3af9f1e7c6db7",
       "version_major": 2,
       "version_minor": 0
      },
      "text/plain": [
       "train:   0%|          | 0/20000 [00:00<?, ?it/s]"
      ]
     },
     "metadata": {},
     "output_type": "display_data"
    },
    {
     "data": {
      "application/vnd.jupyter.widget-view+json": {
       "model_id": "7fc81b494e1b4f8a93a9bc15e9fd7f56",
       "version_major": 2,
       "version_minor": 0
      },
      "text/plain": [
       "train val:   0%|          | 0/10000 [00:00<?, ?it/s]"
      ]
     },
     "metadata": {},
     "output_type": "display_data"
    },
    {
     "data": {
      "application/vnd.jupyter.widget-view+json": {
       "model_id": "cc2343cc128246859ad8169c3d669a74",
       "version_major": 2,
       "version_minor": 0
      },
      "text/plain": [
       "test:   0%|          | 0/10000 [00:00<?, ?it/s]"
      ]
     },
     "metadata": {},
     "output_type": "display_data"
    },
    {
     "name": "stdout",
     "output_type": "stream",
     "text": [
      "train: 0.84595 loss: 0.31049162761586013\n",
      "train val: 0.7025 loss: 0.549667366528511\n",
      "test: 0.5759 loss: 0.7576123836874962\n",
      "epoch time: 11.90min\n",
      "removing /mnt/d/workspace/clotho/notebooks/checkpoints/stats_v7_lg_6.json\n",
      "removing /mnt/d/workspace/clotho/notebooks/checkpoints/harness_v7_lg_6.pkl\n",
      "best model: /mnt/d/workspace/clotho/notebooks/checkpoints/harness_v7_lg_8.pkl\n",
      "best train: 0.83655\n",
      "best train val: 0.7084\n",
      "best test: 0.5744\n",
      "epoch 10 version: 7\n"
     ]
    },
    {
     "data": {
      "application/vnd.jupyter.widget-view+json": {
       "model_id": "cc015796cb64489fb9a986168b3227dd",
       "version_major": 2,
       "version_minor": 0
      },
      "text/plain": [
       "train:   0%|          | 0/20000 [00:00<?, ?it/s]"
      ]
     },
     "metadata": {},
     "output_type": "display_data"
    },
    {
     "data": {
      "application/vnd.jupyter.widget-view+json": {
       "model_id": "4e41a3f7394643cbbee76eb6e869df54",
       "version_major": 2,
       "version_minor": 0
      },
      "text/plain": [
       "train val:   0%|          | 0/10000 [00:00<?, ?it/s]"
      ]
     },
     "metadata": {},
     "output_type": "display_data"
    },
    {
     "data": {
      "application/vnd.jupyter.widget-view+json": {
       "model_id": "5f790aa873264eb6a4a97b0eddd759ed",
       "version_major": 2,
       "version_minor": 0
      },
      "text/plain": [
       "test:   0%|          | 0/10000 [00:00<?, ?it/s]"
      ]
     },
     "metadata": {},
     "output_type": "display_data"
    },
    {
     "name": "stdout",
     "output_type": "stream",
     "text": [
      "train: 0.8362 loss: 0.31990451351657356\n",
      "train val: 0.7122 loss: 0.5171322136909701\n",
      "test: 0.5792 loss: 0.7035541096687317\n",
      "epoch time: 11.43min\n",
      "removing /mnt/d/workspace/clotho/notebooks/checkpoints/stats_v7_lg_3.json\n",
      "removing /mnt/d/workspace/clotho/notebooks/checkpoints/harness_v7_lg_3.pkl\n",
      "best model: /mnt/d/workspace/clotho/notebooks/checkpoints/harness_v7_lg_10.pkl\n",
      "best train: 0.8362\n",
      "best train val: 0.7122\n",
      "best test: 0.5792\n",
      "epoch 11 version: 7\n"
     ]
    },
    {
     "data": {
      "application/vnd.jupyter.widget-view+json": {
       "model_id": "738ebaf4a9e044e6b4a759962d99128a",
       "version_major": 2,
       "version_minor": 0
      },
      "text/plain": [
       "train:   0%|          | 0/20000 [00:00<?, ?it/s]"
      ]
     },
     "metadata": {},
     "output_type": "display_data"
    },
    {
     "data": {
      "application/vnd.jupyter.widget-view+json": {
       "model_id": "c9c2c0b075c740938befd873c1c01918",
       "version_major": 2,
       "version_minor": 0
      },
      "text/plain": [
       "train val:   0%|          | 0/10000 [00:00<?, ?it/s]"
      ]
     },
     "metadata": {},
     "output_type": "display_data"
    },
    {
     "data": {
      "application/vnd.jupyter.widget-view+json": {
       "model_id": "75da7bf41aa74b36af009c11658434a3",
       "version_major": 2,
       "version_minor": 0
      },
      "text/plain": [
       "test:   0%|          | 0/10000 [00:00<?, ?it/s]"
      ]
     },
     "metadata": {},
     "output_type": "display_data"
    },
    {
     "name": "stdout",
     "output_type": "stream",
     "text": [
      "train: 0.83255 loss: 0.3202941599355918\n",
      "train val: 0.7148 loss: 0.5086763628699293\n",
      "test: 0.5951 loss: 0.6802368289977312\n",
      "epoch time: 12.24min\n",
      "removing /mnt/d/workspace/clotho/notebooks/checkpoints/stats_v7_lg_7.json\n",
      "removing /mnt/d/workspace/clotho/notebooks/checkpoints/harness_v7_lg_7.pkl\n",
      "best model: /mnt/d/workspace/clotho/notebooks/checkpoints/harness_v7_lg_11.pkl\n",
      "best train: 0.83255\n",
      "best train val: 0.7148\n",
      "best test: 0.5951\n",
      "epoch 12 version: 7\n"
     ]
    },
    {
     "data": {
      "application/vnd.jupyter.widget-view+json": {
       "model_id": "36f51e35a3854561a1c664a134edad65",
       "version_major": 2,
       "version_minor": 0
      },
      "text/plain": [
       "train:   0%|          | 0/20000 [00:00<?, ?it/s]"
      ]
     },
     "metadata": {},
     "output_type": "display_data"
    },
    {
     "data": {
      "application/vnd.jupyter.widget-view+json": {
       "model_id": "3d044b2a37a8432791faab6aa7203d95",
       "version_major": 2,
       "version_minor": 0
      },
      "text/plain": [
       "train val:   0%|          | 0/10000 [00:00<?, ?it/s]"
      ]
     },
     "metadata": {},
     "output_type": "display_data"
    },
    {
     "data": {
      "application/vnd.jupyter.widget-view+json": {
       "model_id": "5d929cf5cd3c4287831cfb6dd3aec4f8",
       "version_major": 2,
       "version_minor": 0
      },
      "text/plain": [
       "test:   0%|          | 0/10000 [00:00<?, ?it/s]"
      ]
     },
     "metadata": {},
     "output_type": "display_data"
    },
    {
     "name": "stdout",
     "output_type": "stream",
     "text": [
      "train: 0.83815 loss: 0.314087191529307\n",
      "train val: 0.7176 loss: 0.514269862486422\n",
      "test: 0.5933 loss: 0.6659267780900001\n",
      "epoch time: 12.04min\n",
      "removing /mnt/d/workspace/clotho/notebooks/checkpoints/stats_v7_lg_5.json\n",
      "removing /mnt/d/workspace/clotho/notebooks/checkpoints/harness_v7_lg_5.pkl\n",
      "best model: /mnt/d/workspace/clotho/notebooks/checkpoints/harness_v7_lg_12.pkl\n",
      "best train: 0.83815\n",
      "best train val: 0.7176\n",
      "best test: 0.5933\n",
      "epoch 13 version: 7\n"
     ]
    },
    {
     "data": {
      "application/vnd.jupyter.widget-view+json": {
       "model_id": "9b1c91d22d4e47d9899e321eaa878fcd",
       "version_major": 2,
       "version_minor": 0
      },
      "text/plain": [
       "train:   0%|          | 0/20000 [00:00<?, ?it/s]"
      ]
     },
     "metadata": {},
     "output_type": "display_data"
    },
    {
     "data": {
      "application/vnd.jupyter.widget-view+json": {
       "model_id": "a6d124ddad384b1fa167999e90a38196",
       "version_major": 2,
       "version_minor": 0
      },
      "text/plain": [
       "train val:   0%|          | 0/10000 [00:00<?, ?it/s]"
      ]
     },
     "metadata": {},
     "output_type": "display_data"
    },
    {
     "data": {
      "application/vnd.jupyter.widget-view+json": {
       "model_id": "22a4bec2383840189c2c5bdc32566e5c",
       "version_major": 2,
       "version_minor": 0
      },
      "text/plain": [
       "test:   0%|          | 0/10000 [00:00<?, ?it/s]"
      ]
     },
     "metadata": {},
     "output_type": "display_data"
    },
    {
     "name": "stdout",
     "output_type": "stream",
     "text": [
      "train: 0.83095 loss: 0.34650854276302345\n",
      "train val: 0.7063 loss: 0.4937385989313945\n",
      "test: 0.5661 loss: 0.6882416447460651\n",
      "epoch time: 12.40min\n",
      "removing /mnt/d/workspace/clotho/notebooks/checkpoints/stats_v7_lg_4.json\n",
      "removing /mnt/d/workspace/clotho/notebooks/checkpoints/harness_v7_lg_4.pkl\n",
      "best model: /mnt/d/workspace/clotho/notebooks/checkpoints/harness_v7_lg_12.pkl\n",
      "best train: 0.83815\n",
      "best train val: 0.7176\n",
      "best test: 0.5933\n",
      "epoch 14 version: 7\n"
     ]
    },
    {
     "data": {
      "application/vnd.jupyter.widget-view+json": {
       "model_id": "fd12702ebfcd42638674210a330c736a",
       "version_major": 2,
       "version_minor": 0
      },
      "text/plain": [
       "train:   0%|          | 0/20000 [00:00<?, ?it/s]"
      ]
     },
     "metadata": {},
     "output_type": "display_data"
    },
    {
     "data": {
      "application/vnd.jupyter.widget-view+json": {
       "model_id": "b978abed46a542e5a1cb5cb0c3b1400b",
       "version_major": 2,
       "version_minor": 0
      },
      "text/plain": [
       "train val:   0%|          | 0/10000 [00:00<?, ?it/s]"
      ]
     },
     "metadata": {},
     "output_type": "display_data"
    },
    {
     "data": {
      "application/vnd.jupyter.widget-view+json": {
       "model_id": "7b5fbbc141764b40a5f5f2b8996cb994",
       "version_major": 2,
       "version_minor": 0
      },
      "text/plain": [
       "test:   0%|          | 0/10000 [00:00<?, ?it/s]"
      ]
     },
     "metadata": {},
     "output_type": "display_data"
    },
    {
     "name": "stdout",
     "output_type": "stream",
     "text": [
      "train: 0.83685 loss: 0.31117436063498627\n",
      "train val: 0.727 loss: 0.4852307893070392\n",
      "test: 0.6052 loss: 0.667114349937439\n",
      "epoch time: 11.81min\n",
      "removing /mnt/d/workspace/clotho/notebooks/checkpoints/stats_v7_lg_9.json\n",
      "removing /mnt/d/workspace/clotho/notebooks/checkpoints/harness_v7_lg_9.pkl\n",
      "best model: /mnt/d/workspace/clotho/notebooks/checkpoints/harness_v7_lg_14.pkl\n",
      "best train: 0.83685\n",
      "best train val: 0.727\n",
      "best test: 0.6052\n",
      "epoch 15 version: 7\n"
     ]
    },
    {
     "data": {
      "application/vnd.jupyter.widget-view+json": {
       "model_id": "18ba5abde10b4841bdd3c10f9ecc21c0",
       "version_major": 2,
       "version_minor": 0
      },
      "text/plain": [
       "train:   0%|          | 0/20000 [00:00<?, ?it/s]"
      ]
     },
     "metadata": {},
     "output_type": "display_data"
    },
    {
     "data": {
      "application/vnd.jupyter.widget-view+json": {
       "model_id": "efb05ff450c84b518e22942f9afdbb87",
       "version_major": 2,
       "version_minor": 0
      },
      "text/plain": [
       "train val:   0%|          | 0/10000 [00:00<?, ?it/s]"
      ]
     },
     "metadata": {},
     "output_type": "display_data"
    },
    {
     "data": {
      "application/vnd.jupyter.widget-view+json": {
       "model_id": "65db667d4074498bbc15985114cf0ac2",
       "version_major": 2,
       "version_minor": 0
      },
      "text/plain": [
       "test:   0%|          | 0/10000 [00:00<?, ?it/s]"
      ]
     },
     "metadata": {},
     "output_type": "display_data"
    },
    {
     "name": "stdout",
     "output_type": "stream",
     "text": [
      "train: 0.84245 loss: 0.30641611365351273\n",
      "train val: 0.7352 loss: 0.49112230277342317\n",
      "test: 0.6098 loss: 0.6781145765304566\n",
      "epoch time: 12.12min\n",
      "removing /mnt/d/workspace/clotho/notebooks/checkpoints/stats_v7_lg_13.json\n",
      "removing /mnt/d/workspace/clotho/notebooks/checkpoints/harness_v7_lg_13.pkl\n",
      "best model: /mnt/d/workspace/clotho/notebooks/checkpoints/harness_v7_lg_15.pkl\n",
      "best train: 0.84245\n",
      "best train val: 0.7352\n",
      "best test: 0.6098\n",
      "epoch 16 version: 7\n"
     ]
    },
    {
     "data": {
      "application/vnd.jupyter.widget-view+json": {
       "model_id": "c4695badeea843baab565857d28468ba",
       "version_major": 2,
       "version_minor": 0
      },
      "text/plain": [
       "train:   0%|          | 0/20000 [00:00<?, ?it/s]"
      ]
     },
     "metadata": {},
     "output_type": "display_data"
    },
    {
     "data": {
      "application/vnd.jupyter.widget-view+json": {
       "model_id": "ece93fb8efe74ba7988af9bca85f61d6",
       "version_major": 2,
       "version_minor": 0
      },
      "text/plain": [
       "train val:   0%|          | 0/10000 [00:00<?, ?it/s]"
      ]
     },
     "metadata": {},
     "output_type": "display_data"
    },
    {
     "data": {
      "application/vnd.jupyter.widget-view+json": {
       "model_id": "bc0ded5949574ea9ba2d4a26167dd748",
       "version_major": 2,
       "version_minor": 0
      },
      "text/plain": [
       "test:   0%|          | 0/10000 [00:00<?, ?it/s]"
      ]
     },
     "metadata": {},
     "output_type": "display_data"
    },
    {
     "name": "stdout",
     "output_type": "stream",
     "text": [
      "train: 0.8378 loss: 0.3415661134566633\n",
      "train val: 0.7313 loss: 0.5192235174039712\n",
      "test: 0.6034 loss: 0.7444085005253553\n",
      "epoch time: 12.11min\n",
      "removing /mnt/d/workspace/clotho/notebooks/checkpoints/stats_v7_lg_8.json\n",
      "removing /mnt/d/workspace/clotho/notebooks/checkpoints/harness_v7_lg_8.pkl\n",
      "best model: /mnt/d/workspace/clotho/notebooks/checkpoints/harness_v7_lg_15.pkl\n",
      "best train: 0.84245\n",
      "best train val: 0.7352\n",
      "best test: 0.6098\n",
      "epoch 17 version: 7\n"
     ]
    },
    {
     "data": {
      "application/vnd.jupyter.widget-view+json": {
       "model_id": "5aa852fcb2d3495599319c00dcce09a5",
       "version_major": 2,
       "version_minor": 0
      },
      "text/plain": [
       "train:   0%|          | 0/20000 [00:00<?, ?it/s]"
      ]
     },
     "metadata": {},
     "output_type": "display_data"
    },
    {
     "data": {
      "application/vnd.jupyter.widget-view+json": {
       "model_id": "9f24181842db43e0ab03eec5244582d5",
       "version_major": 2,
       "version_minor": 0
      },
      "text/plain": [
       "train val:   0%|          | 0/10000 [00:00<?, ?it/s]"
      ]
     },
     "metadata": {},
     "output_type": "display_data"
    },
    {
     "data": {
      "application/vnd.jupyter.widget-view+json": {
       "model_id": "98f7a0dbeac94d229fc044d927ab56f9",
       "version_major": 2,
       "version_minor": 0
      },
      "text/plain": [
       "test:   0%|          | 0/10000 [00:00<?, ?it/s]"
      ]
     },
     "metadata": {},
     "output_type": "display_data"
    },
    {
     "name": "stdout",
     "output_type": "stream",
     "text": [
      "train: 0.83975 loss: 0.3104730922760644\n",
      "train val: 0.7308 loss: 0.48431492136353627\n",
      "test: 0.6178 loss: 0.66953666639328\n",
      "epoch time: 11.77min\n",
      "removing /mnt/d/workspace/clotho/notebooks/checkpoints/stats_v7_lg_10.json\n",
      "removing /mnt/d/workspace/clotho/notebooks/checkpoints/harness_v7_lg_10.pkl\n",
      "best model: /mnt/d/workspace/clotho/notebooks/checkpoints/harness_v7_lg_15.pkl\n",
      "best train: 0.84245\n",
      "best train val: 0.7352\n",
      "best test: 0.6098\n",
      "epoch 18 version: 7\n"
     ]
    },
    {
     "data": {
      "application/vnd.jupyter.widget-view+json": {
       "model_id": "43072a47b69f4950a992d49ac74952a2",
       "version_major": 2,
       "version_minor": 0
      },
      "text/plain": [
       "train:   0%|          | 0/20000 [00:00<?, ?it/s]"
      ]
     },
     "metadata": {},
     "output_type": "display_data"
    },
    {
     "data": {
      "application/vnd.jupyter.widget-view+json": {
       "model_id": "fe37e6613fa048ebb25864ed5565b646",
       "version_major": 2,
       "version_minor": 0
      },
      "text/plain": [
       "train val:   0%|          | 0/10000 [00:00<?, ?it/s]"
      ]
     },
     "metadata": {},
     "output_type": "display_data"
    },
    {
     "data": {
      "application/vnd.jupyter.widget-view+json": {
       "model_id": "62e7dfb46fed4e5fbddc0051471397d5",
       "version_major": 2,
       "version_minor": 0
      },
      "text/plain": [
       "test:   0%|          | 0/10000 [00:00<?, ?it/s]"
      ]
     },
     "metadata": {},
     "output_type": "display_data"
    },
    {
     "name": "stdout",
     "output_type": "stream",
     "text": [
      "train: 0.8488 loss: 0.29460772819906267\n",
      "train val: 0.7423 loss: 0.47122300749302376\n",
      "test: 0.6354 loss: 0.6348423278808594\n",
      "epoch time: 11.80min\n",
      "removing /mnt/d/workspace/clotho/notebooks/checkpoints/stats_v7_lg_11.json\n",
      "removing /mnt/d/workspace/clotho/notebooks/checkpoints/harness_v7_lg_11.pkl\n",
      "best model: /mnt/d/workspace/clotho/notebooks/checkpoints/harness_v7_lg_18.pkl\n",
      "best train: 0.8488\n",
      "best train val: 0.7423\n",
      "best test: 0.6354\n",
      "epoch 19 version: 7\n"
     ]
    },
    {
     "data": {
      "application/vnd.jupyter.widget-view+json": {
       "model_id": "6d53e7eeb2cc4f62a687f831ba14638d",
       "version_major": 2,
       "version_minor": 0
      },
      "text/plain": [
       "train:   0%|          | 0/20000 [00:00<?, ?it/s]"
      ]
     },
     "metadata": {},
     "output_type": "display_data"
    },
    {
     "data": {
      "application/vnd.jupyter.widget-view+json": {
       "model_id": "808453f59eb04a9b8bc2cf55dbe30335",
       "version_major": 2,
       "version_minor": 0
      },
      "text/plain": [
       "train val:   0%|          | 0/10000 [00:00<?, ?it/s]"
      ]
     },
     "metadata": {},
     "output_type": "display_data"
    },
    {
     "data": {
      "application/vnd.jupyter.widget-view+json": {
       "model_id": "2f62f0e1482e4b47a899f96212c1e66d",
       "version_major": 2,
       "version_minor": 0
      },
      "text/plain": [
       "test:   0%|          | 0/10000 [00:00<?, ?it/s]"
      ]
     },
     "metadata": {},
     "output_type": "display_data"
    },
    {
     "name": "stdout",
     "output_type": "stream",
     "text": [
      "train: 0.8383 loss: 0.32709947251068733\n",
      "train val: 0.7434 loss: 0.48898517724201085\n",
      "test: 0.6047 loss: 0.6973569317281246\n",
      "epoch time: 11.57min\n",
      "removing /mnt/d/workspace/clotho/notebooks/checkpoints/stats_v7_lg_12.json\n",
      "removing /mnt/d/workspace/clotho/notebooks/checkpoints/harness_v7_lg_12.pkl\n",
      "best model: /mnt/d/workspace/clotho/notebooks/checkpoints/harness_v7_lg_19.pkl\n",
      "best train: 0.8383\n",
      "best train val: 0.7434\n",
      "best test: 0.6047\n",
      "epoch 20 version: 7\n"
     ]
    },
    {
     "data": {
      "application/vnd.jupyter.widget-view+json": {
       "model_id": "df9d88b90cda4dde8babf1cde153c07f",
       "version_major": 2,
       "version_minor": 0
      },
      "text/plain": [
       "train:   0%|          | 0/20000 [00:00<?, ?it/s]"
      ]
     },
     "metadata": {},
     "output_type": "display_data"
    },
    {
     "data": {
      "application/vnd.jupyter.widget-view+json": {
       "model_id": "f82d3405dc8344b5986e4eebe030df8e",
       "version_major": 2,
       "version_minor": 0
      },
      "text/plain": [
       "train val:   0%|          | 0/10000 [00:00<?, ?it/s]"
      ]
     },
     "metadata": {},
     "output_type": "display_data"
    },
    {
     "data": {
      "application/vnd.jupyter.widget-view+json": {
       "model_id": "8c14938d8ff3405aaef3d610e3606132",
       "version_major": 2,
       "version_minor": 0
      },
      "text/plain": [
       "test:   0%|          | 0/10000 [00:00<?, ?it/s]"
      ]
     },
     "metadata": {},
     "output_type": "display_data"
    },
    {
     "name": "stdout",
     "output_type": "stream",
     "text": [
      "train: 0.8459 loss: 0.2964082527023929\n",
      "train val: 0.7472 loss: 0.4788614019801851\n",
      "test: 0.6214 loss: 0.6695426309078932\n",
      "epoch time: 12.09min\n",
      "removing /mnt/d/workspace/clotho/notebooks/checkpoints/stats_v7_lg_14.json\n",
      "removing /mnt/d/workspace/clotho/notebooks/checkpoints/harness_v7_lg_14.pkl\n",
      "best model: /mnt/d/workspace/clotho/notebooks/checkpoints/harness_v7_lg_20.pkl\n",
      "best train: 0.8459\n",
      "best train val: 0.7472\n",
      "best test: 0.6214\n",
      "epoch 21 version: 7\n"
     ]
    },
    {
     "data": {
      "application/vnd.jupyter.widget-view+json": {
       "model_id": "e669441f714444ffa8e746ad0087b6b7",
       "version_major": 2,
       "version_minor": 0
      },
      "text/plain": [
       "train:   0%|          | 0/20000 [00:00<?, ?it/s]"
      ]
     },
     "metadata": {},
     "output_type": "display_data"
    },
    {
     "data": {
      "application/vnd.jupyter.widget-view+json": {
       "model_id": "e50a4a78ede847e88351d6006e3ee6fa",
       "version_major": 2,
       "version_minor": 0
      },
      "text/plain": [
       "train val:   0%|          | 0/10000 [00:00<?, ?it/s]"
      ]
     },
     "metadata": {},
     "output_type": "display_data"
    },
    {
     "data": {
      "application/vnd.jupyter.widget-view+json": {
       "model_id": "a2b42cae3a3548b9ba3568bd0c90f04a",
       "version_major": 2,
       "version_minor": 0
      },
      "text/plain": [
       "test:   0%|          | 0/10000 [00:00<?, ?it/s]"
      ]
     },
     "metadata": {},
     "output_type": "display_data"
    },
    {
     "name": "stdout",
     "output_type": "stream",
     "text": [
      "train: 0.85825 loss: 0.2876457078683141\n",
      "train val: 0.7483 loss: 0.4705887165047607\n",
      "test: 0.6055 loss: 0.6826833169519901\n",
      "epoch time: 11.25min\n",
      "removing /mnt/d/workspace/clotho/notebooks/checkpoints/stats_v7_lg_17.json\n",
      "removing /mnt/d/workspace/clotho/notebooks/checkpoints/harness_v7_lg_17.pkl\n",
      "best model: /mnt/d/workspace/clotho/notebooks/checkpoints/harness_v7_lg_21.pkl\n",
      "best train: 0.85825\n",
      "best train val: 0.7483\n",
      "best test: 0.6055\n",
      "epoch 22 version: 7\n"
     ]
    },
    {
     "data": {
      "application/vnd.jupyter.widget-view+json": {
       "model_id": "850ea3c54bd24db5b0bfb935a1ba9fc3",
       "version_major": 2,
       "version_minor": 0
      },
      "text/plain": [
       "train:   0%|          | 0/20000 [00:00<?, ?it/s]"
      ]
     },
     "metadata": {},
     "output_type": "display_data"
    },
    {
     "data": {
      "application/vnd.jupyter.widget-view+json": {
       "model_id": "4f751e1c96444ebdbd43d0b157c39830",
       "version_major": 2,
       "version_minor": 0
      },
      "text/plain": [
       "train val:   0%|          | 0/10000 [00:00<?, ?it/s]"
      ]
     },
     "metadata": {},
     "output_type": "display_data"
    },
    {
     "data": {
      "application/vnd.jupyter.widget-view+json": {
       "model_id": "7bb3985674094014b8694618efd95827",
       "version_major": 2,
       "version_minor": 0
      },
      "text/plain": [
       "test:   0%|          | 0/10000 [00:00<?, ?it/s]"
      ]
     },
     "metadata": {},
     "output_type": "display_data"
    },
    {
     "name": "stdout",
     "output_type": "stream",
     "text": [
      "train: 0.8545 loss: 0.28514605140814986\n",
      "train val: 0.7453 loss: 0.4778335502685921\n",
      "test: 0.5978 loss: 0.7125196521520615\n",
      "epoch time: 11.98min\n",
      "removing /mnt/d/workspace/clotho/notebooks/checkpoints/stats_v7_lg_16.json\n",
      "removing /mnt/d/workspace/clotho/notebooks/checkpoints/harness_v7_lg_16.pkl\n",
      "best model: /mnt/d/workspace/clotho/notebooks/checkpoints/harness_v7_lg_21.pkl\n",
      "best train: 0.85825\n",
      "best train val: 0.7483\n",
      "best test: 0.6055\n",
      "epoch 23 version: 7\n"
     ]
    },
    {
     "data": {
      "application/vnd.jupyter.widget-view+json": {
       "model_id": "5e2ad1c8416d4e05b6331df5abe59138",
       "version_major": 2,
       "version_minor": 0
      },
      "text/plain": [
       "train:   0%|          | 0/20000 [00:00<?, ?it/s]"
      ]
     },
     "metadata": {},
     "output_type": "display_data"
    },
    {
     "data": {
      "application/vnd.jupyter.widget-view+json": {
       "model_id": "3b5030715ff44ce79fa30f7d9497e1b7",
       "version_major": 2,
       "version_minor": 0
      },
      "text/plain": [
       "train val:   0%|          | 0/10000 [00:00<?, ?it/s]"
      ]
     },
     "metadata": {},
     "output_type": "display_data"
    },
    {
     "data": {
      "application/vnd.jupyter.widget-view+json": {
       "model_id": "47c3112f187840f88fb6a85af1c182d4",
       "version_major": 2,
       "version_minor": 0
      },
      "text/plain": [
       "test:   0%|          | 0/10000 [00:00<?, ?it/s]"
      ]
     },
     "metadata": {},
     "output_type": "display_data"
    },
    {
     "name": "stdout",
     "output_type": "stream",
     "text": [
      "train: 0.85235 loss: 0.2948363781483185\n",
      "train val: 0.751 loss: 0.4559442458899692\n",
      "test: 0.6012 loss: 0.6644754538655281\n",
      "epoch time: 11.97min\n",
      "removing /mnt/d/workspace/clotho/notebooks/checkpoints/stats_v7_lg_15.json\n",
      "removing /mnt/d/workspace/clotho/notebooks/checkpoints/harness_v7_lg_15.pkl\n",
      "best model: /mnt/d/workspace/clotho/notebooks/checkpoints/harness_v7_lg_23.pkl\n",
      "best train: 0.85235\n",
      "best train val: 0.751\n",
      "best test: 0.6012\n",
      "epoch 24 version: 7\n"
     ]
    },
    {
     "data": {
      "application/vnd.jupyter.widget-view+json": {
       "model_id": "259dcf5c87ca471a84f98174a9fbf02c",
       "version_major": 2,
       "version_minor": 0
      },
      "text/plain": [
       "train:   0%|          | 0/20000 [00:00<?, ?it/s]"
      ]
     },
     "metadata": {},
     "output_type": "display_data"
    },
    {
     "data": {
      "application/vnd.jupyter.widget-view+json": {
       "model_id": "89163688294d43b6a3c7efa7bde662d1",
       "version_major": 2,
       "version_minor": 0
      },
      "text/plain": [
       "train val:   0%|          | 0/10000 [00:00<?, ?it/s]"
      ]
     },
     "metadata": {},
     "output_type": "display_data"
    },
    {
     "data": {
      "application/vnd.jupyter.widget-view+json": {
       "model_id": "ffc370b808304faa9622eaada67fbd2d",
       "version_major": 2,
       "version_minor": 0
      },
      "text/plain": [
       "test:   0%|          | 0/10000 [00:00<?, ?it/s]"
      ]
     },
     "metadata": {},
     "output_type": "display_data"
    },
    {
     "name": "stdout",
     "output_type": "stream",
     "text": [
      "train: 0.86165 loss: 0.27824685959739454\n",
      "train val: 0.7346 loss: 1.2730958347572865\n",
      "test: 0.6076 loss: 0.6576379602789879\n",
      "epoch time: 11.89min\n",
      "removing /mnt/d/workspace/clotho/notebooks/checkpoints/stats_v7_lg_18.json\n",
      "removing /mnt/d/workspace/clotho/notebooks/checkpoints/harness_v7_lg_18.pkl\n",
      "best model: /mnt/d/workspace/clotho/notebooks/checkpoints/harness_v7_lg_23.pkl\n",
      "best train: 0.85235\n",
      "best train val: 0.751\n",
      "best test: 0.6012\n",
      "epoch 25 version: 7\n"
     ]
    },
    {
     "data": {
      "application/vnd.jupyter.widget-view+json": {
       "model_id": "cf623ae840a64a5681b124eb418941e3",
       "version_major": 2,
       "version_minor": 0
      },
      "text/plain": [
       "train:   0%|          | 0/20000 [00:00<?, ?it/s]"
      ]
     },
     "metadata": {},
     "output_type": "display_data"
    },
    {
     "data": {
      "application/vnd.jupyter.widget-view+json": {
       "model_id": "326f2d65a73e4dda8eb5ff713e8fb844",
       "version_major": 2,
       "version_minor": 0
      },
      "text/plain": [
       "train val:   0%|          | 0/10000 [00:00<?, ?it/s]"
      ]
     },
     "metadata": {},
     "output_type": "display_data"
    },
    {
     "data": {
      "application/vnd.jupyter.widget-view+json": {
       "model_id": "3ce16d5c77c840d8b4c62cc8a6e33cd3",
       "version_major": 2,
       "version_minor": 0
      },
      "text/plain": [
       "test:   0%|          | 0/10000 [00:00<?, ?it/s]"
      ]
     },
     "metadata": {},
     "output_type": "display_data"
    },
    {
     "name": "stdout",
     "output_type": "stream",
     "text": [
      "train: 0.8593 loss: 0.2858693088912776\n",
      "train val: 0.7472 loss: 0.4897236751932767\n",
      "test: 0.6072 loss: 0.7150841431081295\n",
      "epoch time: 11.63min\n",
      "removing /mnt/d/workspace/clotho/notebooks/checkpoints/stats_v7_lg_24.json\n",
      "removing /mnt/d/workspace/clotho/notebooks/checkpoints/harness_v7_lg_24.pkl\n",
      "best model: /mnt/d/workspace/clotho/notebooks/checkpoints/harness_v7_lg_23.pkl\n",
      "best train: 0.85235\n",
      "best train val: 0.751\n",
      "best test: 0.6012\n",
      "epoch 26 version: 7\n"
     ]
    },
    {
     "data": {
      "application/vnd.jupyter.widget-view+json": {
       "model_id": "f0d1ff79142348b9ba0e249197ed8e5c",
       "version_major": 2,
       "version_minor": 0
      },
      "text/plain": [
       "train:   0%|          | 0/20000 [00:00<?, ?it/s]"
      ]
     },
     "metadata": {},
     "output_type": "display_data"
    },
    {
     "data": {
      "application/vnd.jupyter.widget-view+json": {
       "model_id": "930089a06b93443bb4ae8cadcfa5f7f2",
       "version_major": 2,
       "version_minor": 0
      },
      "text/plain": [
       "train val:   0%|          | 0/10000 [00:00<?, ?it/s]"
      ]
     },
     "metadata": {},
     "output_type": "display_data"
    },
    {
     "data": {
      "application/vnd.jupyter.widget-view+json": {
       "model_id": "828895cb6e3848a5beeab3d2aa2fb772",
       "version_major": 2,
       "version_minor": 0
      },
      "text/plain": [
       "test:   0%|          | 0/10000 [00:00<?, ?it/s]"
      ]
     },
     "metadata": {},
     "output_type": "display_data"
    },
    {
     "name": "stdout",
     "output_type": "stream",
     "text": [
      "train: 0.85935 loss: 0.28399239301964835\n",
      "train val: 0.7389 loss: 0.4651710458979942\n",
      "test: 0.5772 loss: 0.6954235296189785\n",
      "epoch time: 11.89min\n",
      "removing /mnt/d/workspace/clotho/notebooks/checkpoints/stats_v7_lg_19.json\n",
      "removing /mnt/d/workspace/clotho/notebooks/checkpoints/harness_v7_lg_19.pkl\n",
      "best model: /mnt/d/workspace/clotho/notebooks/checkpoints/harness_v7_lg_23.pkl\n",
      "best train: 0.85235\n",
      "best train val: 0.751\n",
      "best test: 0.6012\n",
      "epoch 27 version: 7\n"
     ]
    },
    {
     "data": {
      "application/vnd.jupyter.widget-view+json": {
       "model_id": "58ec7f92e5604180a4eb706f0485d38f",
       "version_major": 2,
       "version_minor": 0
      },
      "text/plain": [
       "train:   0%|          | 0/20000 [00:00<?, ?it/s]"
      ]
     },
     "metadata": {},
     "output_type": "display_data"
    },
    {
     "data": {
      "application/vnd.jupyter.widget-view+json": {
       "model_id": "024b72898dac477d9fa8ee13d876cf68",
       "version_major": 2,
       "version_minor": 0
      },
      "text/plain": [
       "train val:   0%|          | 0/10000 [00:00<?, ?it/s]"
      ]
     },
     "metadata": {},
     "output_type": "display_data"
    },
    {
     "data": {
      "application/vnd.jupyter.widget-view+json": {
       "model_id": "e47e8eb0258d418a8d8960f926e17ebd",
       "version_major": 2,
       "version_minor": 0
      },
      "text/plain": [
       "test:   0%|          | 0/10000 [00:00<?, ?it/s]"
      ]
     },
     "metadata": {},
     "output_type": "display_data"
    },
    {
     "name": "stdout",
     "output_type": "stream",
     "text": [
      "train: 0.85925 loss: 0.28355703282083555\n",
      "train val: 0.7526 loss: 0.45705522775987995\n",
      "test: 0.5894 loss: 0.693178917351365\n",
      "epoch time: 11.78min\n",
      "removing /mnt/d/workspace/clotho/notebooks/checkpoints/stats_v7_lg_26.json\n",
      "removing /mnt/d/workspace/clotho/notebooks/checkpoints/harness_v7_lg_26.pkl\n",
      "best model: /mnt/d/workspace/clotho/notebooks/checkpoints/harness_v7_lg_27.pkl\n",
      "best train: 0.85925\n",
      "best train val: 0.7526\n",
      "best test: 0.5894\n",
      "epoch 28 version: 7\n"
     ]
    },
    {
     "data": {
      "application/vnd.jupyter.widget-view+json": {
       "model_id": "7eb59348eb954714928489f1cfb35a7f",
       "version_major": 2,
       "version_minor": 0
      },
      "text/plain": [
       "train:   0%|          | 0/20000 [00:00<?, ?it/s]"
      ]
     },
     "metadata": {},
     "output_type": "display_data"
    },
    {
     "data": {
      "application/vnd.jupyter.widget-view+json": {
       "model_id": "906f33a98ff84aa9bd19821462443e6a",
       "version_major": 2,
       "version_minor": 0
      },
      "text/plain": [
       "train val:   0%|          | 0/10000 [00:00<?, ?it/s]"
      ]
     },
     "metadata": {},
     "output_type": "display_data"
    },
    {
     "data": {
      "application/vnd.jupyter.widget-view+json": {
       "model_id": "71cb4097ae9441aebc5fcee9c8c2d6a0",
       "version_major": 2,
       "version_minor": 0
      },
      "text/plain": [
       "test:   0%|          | 0/10000 [00:00<?, ?it/s]"
      ]
     },
     "metadata": {},
     "output_type": "display_data"
    },
    {
     "name": "stdout",
     "output_type": "stream",
     "text": [
      "train: 0.8616 loss: 0.27298160836456836\n",
      "train val: 0.75 loss: 0.45901810668881043\n",
      "test: 0.6057 loss: 0.6738091388583183\n",
      "epoch time: 12.07min\n",
      "removing /mnt/d/workspace/clotho/notebooks/checkpoints/stats_v7_lg_22.json\n",
      "removing /mnt/d/workspace/clotho/notebooks/checkpoints/harness_v7_lg_22.pkl\n",
      "best model: /mnt/d/workspace/clotho/notebooks/checkpoints/harness_v7_lg_27.pkl\n",
      "best train: 0.85925\n",
      "best train val: 0.7526\n",
      "best test: 0.5894\n",
      "epoch 29 version: 7\n"
     ]
    },
    {
     "data": {
      "application/vnd.jupyter.widget-view+json": {
       "model_id": "ba4c81d8b71244a29ad02d985675625c",
       "version_major": 2,
       "version_minor": 0
      },
      "text/plain": [
       "train:   0%|          | 0/20000 [00:00<?, ?it/s]"
      ]
     },
     "metadata": {},
     "output_type": "display_data"
    },
    {
     "data": {
      "application/vnd.jupyter.widget-view+json": {
       "model_id": "7d28a5720a054641bd0c6a5caea90e81",
       "version_major": 2,
       "version_minor": 0
      },
      "text/plain": [
       "train val:   0%|          | 0/10000 [00:00<?, ?it/s]"
      ]
     },
     "metadata": {},
     "output_type": "display_data"
    },
    {
     "data": {
      "application/vnd.jupyter.widget-view+json": {
       "model_id": "d99183f2eb7b4dd4a3fa3deaab1a67fe",
       "version_major": 2,
       "version_minor": 0
      },
      "text/plain": [
       "test:   0%|          | 0/10000 [00:00<?, ?it/s]"
      ]
     },
     "metadata": {},
     "output_type": "display_data"
    },
    {
     "name": "stdout",
     "output_type": "stream",
     "text": [
      "train: 0.86905 loss: 0.2690407262679932\n",
      "train val: 0.759 loss: 0.4763432358721413\n",
      "test: 0.611 loss: 0.6874653227001428\n",
      "epoch time: 11.98min\n",
      "removing /mnt/d/workspace/clotho/notebooks/checkpoints/stats_v7_lg_25.json\n",
      "removing /mnt/d/workspace/clotho/notebooks/checkpoints/harness_v7_lg_25.pkl\n",
      "best model: /mnt/d/workspace/clotho/notebooks/checkpoints/harness_v7_lg_29.pkl\n",
      "best train: 0.86905\n",
      "best train val: 0.759\n",
      "best test: 0.611\n"
     ]
    },
    {
     "data": {
      "application/vnd.jupyter.widget-view+json": {
       "model_id": "f7c6ef788f1c44fabf3854657213b02f",
       "version_major": 2,
       "version_minor": 0
      },
      "text/plain": [
       "test val:   0%|          | 0/10000 [00:00<?, ?it/s]"
      ]
     },
     "metadata": {},
     "output_type": "display_data"
    },
    {
     "name": "stdout",
     "output_type": "stream",
     "text": [
      "test val: {'accuracy': 0.6173} loss: 0.6819494714677334\n",
      "correct\n"
     ]
    },
    {
     "data": {
      "text/html": [
       "<div>\n",
       "<style scoped>\n",
       "    .dataframe tbody tr th:only-of-type {\n",
       "        vertical-align: middle;\n",
       "    }\n",
       "\n",
       "    .dataframe tbody tr th {\n",
       "        vertical-align: top;\n",
       "    }\n",
       "\n",
       "    .dataframe thead th {\n",
       "        text-align: right;\n",
       "    }\n",
       "</style>\n",
       "<table border=\"1\" class=\"dataframe\">\n",
       "  <thead>\n",
       "    <tr style=\"text-align: right;\">\n",
       "      <th></th>\n",
       "      <th>gen_name</th>\n",
       "      <th>parent_left</th>\n",
       "      <th>child_left</th>\n",
       "      <th>parent_right</th>\n",
       "      <th>child_right</th>\n",
       "      <th>sway_left</th>\n",
       "      <th>sway_right</th>\n",
       "      <th>correct_is_right</th>\n",
       "      <th>logit_left</th>\n",
       "      <th>logit_right</th>\n",
       "      <th>preds</th>\n",
       "      <th>truth</th>\n",
       "    </tr>\n",
       "  </thead>\n",
       "  <tbody>\n",
       "    <tr>\n",
       "      <th>1</th>\n",
       "      <td>*valid--!copy;(mtl:20);(sw);(st)</td>\n",
       "      <td>Men are still plenty selective about who they ...</td>\n",
       "      <td>Men are selective, as in, they'll select from ...</td>\n",
       "      <td>Men are selective, as in, they'll select from ...</td>\n",
       "      <td>Men are still plenty selective about who they ...</td>\n",
       "      <td>0.999877</td>\n",
       "      <td>1.233946e-04</td>\n",
       "      <td>False</td>\n",
       "      <td>0.578769</td>\n",
       "      <td>0.421231</td>\n",
       "      <td>0</td>\n",
       "      <td>0</td>\n",
       "    </tr>\n",
       "    <tr>\n",
       "      <th>2</th>\n",
       "      <td>random--valid;(sw);(st)</td>\n",
       "      <td>Dungeons and Dragons</td>\n",
       "      <td>Did you see this post a week ago and got jealo...</td>\n",
       "      <td>Question for the men, what's the worst part of...</td>\n",
       "      <td>When sitting wrong on your bike seat and cutti...</td>\n",
       "      <td>0.119203</td>\n",
       "      <td>8.807971e-01</td>\n",
       "      <td>True</td>\n",
       "      <td>0.191766</td>\n",
       "      <td>0.808234</td>\n",
       "      <td>1</td>\n",
       "      <td>1</td>\n",
       "    </tr>\n",
       "    <tr>\n",
       "      <th>3</th>\n",
       "      <td>random--valid;(sw);(st)</td>\n",
       "      <td>I always brush my teeth but need to floss more...</td>\n",
       "      <td>As an american all I can say is: why?</td>\n",
       "      <td>[removed]</td>\n",
       "      <td>User profile checks out. Bet you're on a list ...</td>\n",
       "      <td>0.119203</td>\n",
       "      <td>8.807971e-01</td>\n",
       "      <td>True</td>\n",
       "      <td>0.000179</td>\n",
       "      <td>0.999821</td>\n",
       "      <td>1</td>\n",
       "      <td>1</td>\n",
       "    </tr>\n",
       "    <tr>\n",
       "      <th>1</th>\n",
       "      <td>*valid--!copy;(mtl:20);(sw);(st)</td>\n",
       "      <td>Yeah that's a thing. I spend my summer vacatio...</td>\n",
       "      <td>you ever done on going maintenance on a boat? ...</td>\n",
       "      <td>you ever done on going maintenance on a boat? ...</td>\n",
       "      <td>Yeah that's a thing. I spend my summer vacatio...</td>\n",
       "      <td>1.000000</td>\n",
       "      <td>1.562882e-18</td>\n",
       "      <td>False</td>\n",
       "      <td>0.784672</td>\n",
       "      <td>0.215328</td>\n",
       "      <td>0</td>\n",
       "      <td>0</td>\n",
       "    </tr>\n",
       "    <tr>\n",
       "      <th>2</th>\n",
       "      <td>*valid--!copy;(sw);(st)</td>\n",
       "      <td>She actually has a song where this is the poin...</td>\n",
       "      <td>Yep, this one came to mind. She is incredible ...</td>\n",
       "      <td>Yep, this one came to mind. She is incredible ...</td>\n",
       "      <td>She actually has a song where this is the poin...</td>\n",
       "      <td>0.997527</td>\n",
       "      <td>2.472623e-03</td>\n",
       "      <td>False</td>\n",
       "      <td>0.994568</td>\n",
       "      <td>0.005432</td>\n",
       "      <td>0</td>\n",
       "      <td>0</td>\n",
       "    </tr>\n",
       "  </tbody>\n",
       "</table>\n",
       "</div>"
      ],
      "text/plain": [
       "                           gen_name  \\\n",
       "1  *valid--!copy;(mtl:20);(sw);(st)   \n",
       "2           random--valid;(sw);(st)   \n",
       "3           random--valid;(sw);(st)   \n",
       "1  *valid--!copy;(mtl:20);(sw);(st)   \n",
       "2           *valid--!copy;(sw);(st)   \n",
       "\n",
       "                                         parent_left  \\\n",
       "1  Men are still plenty selective about who they ...   \n",
       "2                               Dungeons and Dragons   \n",
       "3  I always brush my teeth but need to floss more...   \n",
       "1  Yeah that's a thing. I spend my summer vacatio...   \n",
       "2  She actually has a song where this is the poin...   \n",
       "\n",
       "                                          child_left  \\\n",
       "1  Men are selective, as in, they'll select from ...   \n",
       "2  Did you see this post a week ago and got jealo...   \n",
       "3              As an american all I can say is: why?   \n",
       "1  you ever done on going maintenance on a boat? ...   \n",
       "2  Yep, this one came to mind. She is incredible ...   \n",
       "\n",
       "                                        parent_right  \\\n",
       "1  Men are selective, as in, they'll select from ...   \n",
       "2  Question for the men, what's the worst part of...   \n",
       "3                                          [removed]   \n",
       "1  you ever done on going maintenance on a boat? ...   \n",
       "2  Yep, this one came to mind. She is incredible ...   \n",
       "\n",
       "                                         child_right  sway_left    sway_right  \\\n",
       "1  Men are still plenty selective about who they ...   0.999877  1.233946e-04   \n",
       "2  When sitting wrong on your bike seat and cutti...   0.119203  8.807971e-01   \n",
       "3  User profile checks out. Bet you're on a list ...   0.119203  8.807971e-01   \n",
       "1  Yeah that's a thing. I spend my summer vacatio...   1.000000  1.562882e-18   \n",
       "2  She actually has a song where this is the poin...   0.997527  2.472623e-03   \n",
       "\n",
       "   correct_is_right  logit_left  logit_right  preds  truth  \n",
       "1             False    0.578769     0.421231      0      0  \n",
       "2              True    0.191766     0.808234      1      1  \n",
       "3              True    0.000179     0.999821      1      1  \n",
       "1             False    0.784672     0.215328      0      0  \n",
       "2             False    0.994568     0.005432      0      0  "
      ]
     },
     "metadata": {},
     "output_type": "display_data"
    },
    {
     "name": "stdout",
     "output_type": "stream",
     "text": [
      "incorrect\n"
     ]
    },
    {
     "data": {
      "text/html": [
       "<div>\n",
       "<style scoped>\n",
       "    .dataframe tbody tr th:only-of-type {\n",
       "        vertical-align: middle;\n",
       "    }\n",
       "\n",
       "    .dataframe tbody tr th {\n",
       "        vertical-align: top;\n",
       "    }\n",
       "\n",
       "    .dataframe thead th {\n",
       "        text-align: right;\n",
       "    }\n",
       "</style>\n",
       "<table border=\"1\" class=\"dataframe\">\n",
       "  <thead>\n",
       "    <tr style=\"text-align: right;\">\n",
       "      <th></th>\n",
       "      <th>gen_name</th>\n",
       "      <th>parent_left</th>\n",
       "      <th>child_left</th>\n",
       "      <th>parent_right</th>\n",
       "      <th>child_right</th>\n",
       "      <th>sway_left</th>\n",
       "      <th>sway_right</th>\n",
       "      <th>correct_is_right</th>\n",
       "      <th>logit_left</th>\n",
       "      <th>logit_right</th>\n",
       "      <th>preds</th>\n",
       "      <th>truth</th>\n",
       "    </tr>\n",
       "  </thead>\n",
       "  <tbody>\n",
       "    <tr>\n",
       "      <th>0</th>\n",
       "      <td>!copy--valid;(mtl:20);(sw);(st)</td>\n",
       "      <td>Gonna ride the baloney pony all the way to Was...</td>\n",
       "      <td>I'd literally take the law into my own hands.</td>\n",
       "      <td>I'd literally take the law into my own hands.</td>\n",
       "      <td>Gonna ride the baloney pony all the way to Was...</td>\n",
       "      <td>4.662937e-15</td>\n",
       "      <td>1.000000</td>\n",
       "      <td>True</td>\n",
       "      <td>0.635587</td>\n",
       "      <td>0.364413</td>\n",
       "      <td>0</td>\n",
       "      <td>1</td>\n",
       "    </tr>\n",
       "    <tr>\n",
       "      <th>0</th>\n",
       "      <td>*valid--random;(sw);(st)</td>\n",
       "      <td>And they taste delicious when chopped into hal...</td>\n",
       "      <td>In Spain/Portugal we also cook them \"a feira\" ...</td>\n",
       "      <td>Seinfeld seems to be the one that paved the wa...</td>\n",
       "      <td>Wiping down gym equipment.</td>\n",
       "      <td>9.933071e-01</td>\n",
       "      <td>0.006693</td>\n",
       "      <td>False</td>\n",
       "      <td>0.468190</td>\n",
       "      <td>0.531810</td>\n",
       "      <td>1</td>\n",
       "      <td>0</td>\n",
       "    </tr>\n",
       "    <tr>\n",
       "      <th>1</th>\n",
       "      <td>random--valid;(mtl:20);(sw);(st)</td>\n",
       "      <td>I am uncomfortably comfortable not trying.</td>\n",
       "      <td>They're slightly better than nickleback. Haha</td>\n",
       "      <td>US uses 120 VAC (RMS), so the wattage is half ...</td>\n",
       "      <td>Interesting!! I came into this not knowing muc...</td>\n",
       "      <td>1.192029e-01</td>\n",
       "      <td>0.880797</td>\n",
       "      <td>True</td>\n",
       "      <td>0.707786</td>\n",
       "      <td>0.292214</td>\n",
       "      <td>0</td>\n",
       "      <td>1</td>\n",
       "    </tr>\n",
       "    <tr>\n",
       "      <th>1</th>\n",
       "      <td>!copy--valid;(mtl:20);(sw);(st)</td>\n",
       "      <td>I remember learning in 2nd grade that pizza wa...</td>\n",
       "      <td>The food pyramid -brought to you by big grain</td>\n",
       "      <td>The food pyramid -brought to you by big grain</td>\n",
       "      <td>I remember learning in 2nd grade that pizza wa...</td>\n",
       "      <td>0.000000e+00</td>\n",
       "      <td>1.000000</td>\n",
       "      <td>True</td>\n",
       "      <td>0.581855</td>\n",
       "      <td>0.418146</td>\n",
       "      <td>0</td>\n",
       "      <td>1</td>\n",
       "    </tr>\n",
       "    <tr>\n",
       "      <th>0</th>\n",
       "      <td>random--valid;(mtl:20);(sw);(st)</td>\n",
       "      <td>Day-bird aaaAAAAaaaa Fighter of the Night-bird...</td>\n",
       "      <td>Happy endings. Very underrated</td>\n",
       "      <td>You just described my relationship Lol</td>\n",
       "      <td>That doesn't sound healthy, it's not supposed ...</td>\n",
       "      <td>1.798621e-02</td>\n",
       "      <td>0.982014</td>\n",
       "      <td>True</td>\n",
       "      <td>0.556109</td>\n",
       "      <td>0.443891</td>\n",
       "      <td>0</td>\n",
       "      <td>1</td>\n",
       "    </tr>\n",
       "  </tbody>\n",
       "</table>\n",
       "</div>"
      ],
      "text/plain": [
       "                           gen_name  \\\n",
       "0   !copy--valid;(mtl:20);(sw);(st)   \n",
       "0          *valid--random;(sw);(st)   \n",
       "1  random--valid;(mtl:20);(sw);(st)   \n",
       "1   !copy--valid;(mtl:20);(sw);(st)   \n",
       "0  random--valid;(mtl:20);(sw);(st)   \n",
       "\n",
       "                                         parent_left  \\\n",
       "0  Gonna ride the baloney pony all the way to Was...   \n",
       "0  And they taste delicious when chopped into hal...   \n",
       "1         I am uncomfortably comfortable not trying.   \n",
       "1  I remember learning in 2nd grade that pizza wa...   \n",
       "0  Day-bird aaaAAAAaaaa Fighter of the Night-bird...   \n",
       "\n",
       "                                          child_left  \\\n",
       "0      I'd literally take the law into my own hands.   \n",
       "0  In Spain/Portugal we also cook them \"a feira\" ...   \n",
       "1      They're slightly better than nickleback. Haha   \n",
       "1      The food pyramid -brought to you by big grain   \n",
       "0                     Happy endings. Very underrated   \n",
       "\n",
       "                                        parent_right  \\\n",
       "0      I'd literally take the law into my own hands.   \n",
       "0  Seinfeld seems to be the one that paved the wa...   \n",
       "1  US uses 120 VAC (RMS), so the wattage is half ...   \n",
       "1      The food pyramid -brought to you by big grain   \n",
       "0             You just described my relationship Lol   \n",
       "\n",
       "                                         child_right     sway_left  \\\n",
       "0  Gonna ride the baloney pony all the way to Was...  4.662937e-15   \n",
       "0                         Wiping down gym equipment.  9.933071e-01   \n",
       "1  Interesting!! I came into this not knowing muc...  1.192029e-01   \n",
       "1  I remember learning in 2nd grade that pizza wa...  0.000000e+00   \n",
       "0  That doesn't sound healthy, it's not supposed ...  1.798621e-02   \n",
       "\n",
       "   sway_right  correct_is_right  logit_left  logit_right  preds  truth  \n",
       "0    1.000000              True    0.635587     0.364413      0      1  \n",
       "0    0.006693             False    0.468190     0.531810      1      0  \n",
       "1    0.880797              True    0.707786     0.292214      0      1  \n",
       "1    1.000000              True    0.581855     0.418146      0      1  \n",
       "0    0.982014              True    0.556109     0.443891      0      1  "
      ]
     },
     "metadata": {},
     "output_type": "display_data"
    },
    {
     "data": {
      "text/plain": [
       "array([[-0.7014988 ,  0.558522  ,  0.47718802, ...,  0.6170604 ,\n",
       "         0.2213868 , -0.21728808],\n",
       "       [-0.701512  ,  0.55946547,  0.47733477, ...,  0.61641407,\n",
       "         0.22057512, -0.21764515],\n",
       "       [-0.70152026,  0.56015974,  0.4774379 , ...,  0.6159454 ,\n",
       "         0.21998498, -0.217913  ],\n",
       "       [-0.7015317 ,  0.56164986,  0.4776472 , ...,  0.6149612 ,\n",
       "         0.21873413, -0.21849404]], dtype=float32)"
      ]
     },
     "metadata": {},
     "output_type": "display_data"
    },
    {
     "data": {
      "text/plain": [
       "array([[-0.70152587,  0.56072503,  0.47751904, ...,  0.61556876,\n",
       "         0.2195084 , -0.21813285],\n",
       "       [-0.7015125 ,  0.5595083 ,  0.4773413 , ...,  0.616385  ,\n",
       "         0.22053847, -0.21766162],\n",
       "       [-0.7015233 ,  0.5604583 ,  0.47748107, ...,  0.615746  ,\n",
       "         0.2197328 , -0.21802902],\n",
       "       [-0.7014934 ,  0.5581708 ,  0.4771313 , ...,  0.61730343,\n",
       "         0.22169217, -0.21715793]], dtype=float32)"
      ]
     },
     "metadata": {},
     "output_type": "display_data"
    },
    {
     "data": {
      "text/plain": [
       "array([[-0.7015011 ,  0.5586797 ,  0.47721317, ...,  0.6169514 ,\n",
       "         0.22125024, -0.21734709],\n",
       "       [-0.7014876 ,  0.55780137,  0.47707024, ...,  0.6175607 ,\n",
       "         0.22201538, -0.217023  ],\n",
       "       [-0.7015094 ,  0.55926555,  0.4773044 , ...,  0.6165499 ,\n",
       "         0.220746  , -0.21756876],\n",
       "       [-0.7014947 ,  0.5582557 ,  0.47714502, ...,  0.6172448 ,\n",
       "         0.22161825, -0.2171892 ]], dtype=float32)"
      ]
     },
     "metadata": {},
     "output_type": "display_data"
    },
    {
     "data": {
      "text/plain": [
       "array([[-0.70149744,  0.55844015,  0.47717485, ...,  0.6171169 ,\n",
       "         0.22145776, -0.21725756],\n",
       "       [-0.70150363,  0.55886126,  0.47724175, ...,  0.6168268 ,\n",
       "         0.22109339, -0.2174154 ],\n",
       "       [-0.7015221 ,  0.56033874,  0.47746387, ...,  0.6158258 ,\n",
       "         0.21983369, -0.21798249],\n",
       "       [-0.7015023 ,  0.55876666,  0.47722682, ...,  0.6168918 ,\n",
       "         0.22117516, -0.21737969]], dtype=float32)"
      ]
     },
     "metadata": {},
     "output_type": "display_data"
    },
    {
     "data": {
      "text/plain": [
       "array([[-0.70150644,  0.55905694,  0.47727212, ...,  0.6166928 ,\n",
       "         0.22092512, -0.21748938],\n",
       "       [-0.70148534,  0.55765635,  0.4770458 , ...,  0.6176617 ,\n",
       "         0.22214273, -0.2169707 ],\n",
       "       [-0.70149946,  0.55857396,  0.47719628, ...,  0.61702466,\n",
       "         0.22134188, -0.21730743],\n",
       "       [-0.7015099 ,  0.5592961 ,  0.47730902, ...,  0.6165292 ,\n",
       "         0.22071981, -0.21758041]], dtype=float32)"
      ]
     },
     "metadata": {},
     "output_type": "display_data"
    },
    {
     "data": {
      "text/plain": [
       "array([[-0.7014963 ,  0.5583602 ,  0.47716212, ...,  0.6171723 ,\n",
       "         0.22152714, -0.21722798],\n",
       "       [-0.70152104,  0.5602039 ,  0.47744462, ...,  0.6159156 ,\n",
       "         0.21994747, -0.21793029],\n",
       "       [-0.7015076 ,  0.5591319 ,  0.47728375, ...,  0.6166413 ,\n",
       "         0.22086078, -0.21751785],\n",
       "       [-0.7014914 ,  0.55803305,  0.47710872, ...,  0.61739945,\n",
       "         0.2218126 , -0.21710734]], dtype=float32)"
      ]
     },
     "metadata": {},
     "output_type": "display_data"
    },
    {
     "data": {
      "text/plain": [
       "array([[-0.70150536,  0.5589707 ,  0.47725892, ...,  0.6167516 ,\n",
       "         0.22099914, -0.21745671],\n",
       "       [-0.7015103 ,  0.559334  ,  0.47731477, ...,  0.61650366,\n",
       "         0.2206876 , -0.2175948 ],\n",
       "       [-0.70150584,  0.5590114 ,  0.47726515, ...,  0.61672384,\n",
       "         0.22096418, -0.21747212],\n",
       "       [-0.7014894 ,  0.5578963 ,  0.47708607, ...,  0.6174944 ,\n",
       "         0.22193211, -0.21705748]], dtype=float32)"
      ]
     },
     "metadata": {},
     "output_type": "display_data"
    },
    {
     "data": {
      "text/plain": [
       "array([[-0.70151764,  0.55991906,  0.4774026 , ...,  0.6161072 ,\n",
       "         0.22018886, -0.21781982],\n",
       "       [-0.7014901 ,  0.55796295,  0.477097  , ...,  0.6174479 ,\n",
       "         0.22187367, -0.21708177],\n",
       "       [-0.7014944 ,  0.55822754,  0.47714046, ...,  0.61726433,\n",
       "         0.22164273, -0.21717884],\n",
       "       [-0.70152205,  0.5603171 ,  0.4774607 , ...,  0.61584026,\n",
       "         0.21985196, -0.2179741 ]], dtype=float32)"
      ]
     },
     "metadata": {},
     "output_type": "display_data"
    },
    {
     "data": {
      "text/plain": [
       "array([[-0.70150536,  0.55894566,  0.47725493, ...,  0.616769  ,\n",
       "         0.22102089, -0.21744728],\n",
       "       [-0.70149225,  0.5580835 ,  0.47711673, ...,  0.61736476,\n",
       "         0.22176851, -0.21712583],\n",
       "       [-0.7015084 ,  0.5592023 ,  0.47729468, ...,  0.6165936 ,\n",
       "         0.22080043, -0.21754456],\n",
       "       [-0.70150876,  0.5592128 ,  0.4772961 , ...,  0.61658645,\n",
       "         0.22079137, -0.2175485 ]], dtype=float32)"
      ]
     },
     "metadata": {},
     "output_type": "display_data"
    },
    {
     "data": {
      "text/plain": [
       "array([[-0.7014938 ,  0.5581999 ,  0.47713593, ...,  0.6172834 ,\n",
       "         0.2216669 , -0.21716861],\n",
       "       [-0.70149606,  0.5583425 ,  0.47715905, ...,  0.61718446,\n",
       "         0.22154258, -0.2172214 ],\n",
       "       [-0.70150423,  0.558891  ,  0.47724634, ...,  0.6168063 ,\n",
       "         0.22106788, -0.21742655],\n",
       "       [-0.70150715,  0.55909896,  0.4772787 , ...,  0.61666375,\n",
       "         0.22088885, -0.21750543]], dtype=float32)"
      ]
     },
     "metadata": {},
     "output_type": "display_data"
    }
   ],
   "source": [
    "for version in range(8):\n",
    "    full_run(num_epochs=30, version=version, force_restart=True)"
   ]
  }
 ],
 "metadata": {
  "kernelspec": {
   "display_name": "Python [conda env:clotho]",
   "language": "python",
   "name": "conda-env-clotho-py"
  },
  "language_info": {
   "codemirror_mode": {
    "name": "ipython",
    "version": 3
   },
   "file_extension": ".py",
   "mimetype": "text/x-python",
   "name": "python",
   "nbconvert_exporter": "python",
   "pygments_lexer": "ipython3",
   "version": "3.10.6"
  }
 },
 "nbformat": 4,
 "nbformat_minor": 5
}

{
 "cells": [
  {
   "cell_type": "code",
   "execution_count": 1,
   "id": "7c1265ba-c76b-4424-b577-a322e6b512af",
   "metadata": {},
   "outputs": [],
   "source": [
    "# in a terminal run\n",
    "# > USER_PATH=~/userdata/ make run-redis NS=train\n",
    "# > USER_PATH=~/userdata/ make run-redis NS=test\n",
    "# to allow access to the train and test namespaces"
   ]
  },
  {
   "cell_type": "code",
   "execution_count": 2,
   "id": "4e21c530-5f85-4b18-b9ed-c2fbe591b52f",
   "metadata": {},
   "outputs": [],
   "source": [
    "import os\n",
    "import sys\n",
    "import json\n",
    "import pandas as pd\n",
    "import numpy as np\n",
    "from typing import Literal, TypedDict"
   ]
  },
  {
   "cell_type": "code",
   "execution_count": 3,
   "id": "62721599-23d3-405a-bbb2-88a6f0a17a17",
   "metadata": {},
   "outputs": [],
   "source": [
    "sys.path.append(\"..\")\n",
    "os.environ[\"USER_PATH\"] = \"/home/krause/userdata/\"\n",
    "MODEL_OUTPUT_BASE = \"/mnt/d/workspace/clotho/notebooks\"\n",
    "MODEL_OUTPUT_CP = os.path.join(MODEL_OUTPUT_BASE, \"checkpoints\")"
   ]
  },
  {
   "cell_type": "code",
   "execution_count": 4,
   "id": "82c6f1c7-607b-479d-b2f6-3483cb91a57d",
   "metadata": {},
   "outputs": [
    {
     "name": "stderr",
     "output_type": "stream",
     "text": [
      "2023-02-07 09:48:36.560539: I tensorflow/core/platform/cpu_feature_guard.cc:193] This TensorFlow binary is optimized with oneAPI Deep Neural Network Library (oneDNN) to use the following CPU instructions in performance-critical operations:  AVX2 FMA\n",
      "To enable them in other operations, rebuild TensorFlow with the appropriate compiler flags.\n",
      "2023-02-07 09:48:37.071620: W tensorflow/compiler/xla/stream_executor/platform/default/dso_loader.cc:64] Could not load dynamic library 'libnvinfer.so.7'; dlerror: libnvinfer.so.7: cannot open shared object file: No such file or directory\n",
      "2023-02-07 09:48:37.071675: W tensorflow/compiler/xla/stream_executor/platform/default/dso_loader.cc:64] Could not load dynamic library 'libnvinfer_plugin.so.7'; dlerror: libnvinfer_plugin.so.7: cannot open shared object file: No such file or directory\n",
      "2023-02-07 09:48:37.071679: W tensorflow/compiler/tf2tensorrt/utils/py_utils.cc:38] TF-TRT Warning: Cannot dlopen some TensorRT libraries. If you would like to use Nvidia GPU with TensorRT, please make sure the missing libraries mentioned above are installed properly.\n"
     ]
    }
   ],
   "source": [
    "from misc.redis import set_redis_slow_mode\n",
    "from misc.util import highest_number\n",
    "from misc.io import open_write\n",
    "from model.datagenerator import create_train_test\n",
    "from model.transformer_embed import (\n",
    "    get_epoch_and_load,\n",
    "    limit_epoch_data,\n",
    "    limit_epoch_data,\n",
    "    get_model_filename,\n",
    ")\n",
    "from system.namespace.store import get_namespace"
   ]
  },
  {
   "cell_type": "code",
   "execution_count": 5,
   "id": "1d8c7e9a-fa89-435d-a0a2-0a492056581e",
   "metadata": {},
   "outputs": [
    {
     "data": {
      "text/plain": [
       "True"
      ]
     },
     "execution_count": 5,
     "metadata": {},
     "output_type": "execute_result"
    }
   ],
   "source": [
    "import torch\n",
    "\n",
    "is_cuda = torch.cuda.is_available()\n",
    "is_cuda"
   ]
  },
  {
   "cell_type": "code",
   "execution_count": 6,
   "id": "0a897205-0707-4928-860d-5e8d58cef31a",
   "metadata": {},
   "outputs": [],
   "source": [
    "set_redis_slow_mode(\"never\")\n",
    "ns_test = get_namespace(\"test\")\n",
    "ns_train = get_namespace(\"train\")\n",
    "now = pd.Timestamp(\"2022-12-17\", tz=\"UTC\")\n",
    "train_plan = [\n",
    "    {\n",
    "        \"left\": {\"mode\": \"valid\", \"flip_pc\": 1.0},\n",
    "        \"right\": {\"mode\": \"valid\", \"flip_pc\": 0.0},\n",
    "        \"min_text_length\": None,\n",
    "        \"skip_weak\": False,\n",
    "        \"skip_topics\": True,\n",
    "        \"flip_lr\": 0.5,\n",
    "        \"first_epoch\": 10,\n",
    "        \"last_epoch\": None,\n",
    "        \"weight\": 50,\n",
    "    },\n",
    "    {\n",
    "        \"left\": {\"mode\": \"valid\", \"flip_pc\": 1.0},\n",
    "        \"right\": {\"mode\": \"valid\", \"flip_pc\": 0.0},\n",
    "        \"min_text_length\": None,\n",
    "        \"skip_weak\": False,\n",
    "        \"skip_topics\": True,\n",
    "        \"flip_lr\": 0.5,\n",
    "        \"first_epoch\": 20,\n",
    "        \"last_epoch\": None,\n",
    "        \"weight\": 50,\n",
    "    },\n",
    "    # {\n",
    "    #     \"left\": {\"mode\": \"random\", \"flip_pc\": 0.0},\n",
    "    #     \"right\": {\"mode\": \"path\", \"flip_pc\": 0.0},\n",
    "    #     \"min_text_length\": None,\n",
    "    #     \"skip_weak\": True,\n",
    "    #     \"skip_topics\": True,\n",
    "    #     \"flip_lr\": 0.5,\n",
    "    #     \"first_epoch\": None,\n",
    "    #     \"last_epoch\": None,\n",
    "    #     \"weight\": 60,\n",
    "    # },\n",
    "    # {\n",
    "    #     \"left\": None,\n",
    "    #     \"right\": {\"mode\": \"path\", \"flip_pc\": 0.0},\n",
    "    #     \"min_text_length\": None,\n",
    "    #     \"skip_weak\": True,\n",
    "    #     \"skip_topics\": True,\n",
    "    #     \"flip_lr\": 0.5,\n",
    "    #     \"first_epoch\": None,\n",
    "    #     \"last_epoch\": None,\n",
    "    #     \"weight\": 40,\n",
    "    # },\n",
    "    # {\n",
    "    #     \"left\": {\"mode\": \"random\", \"flip_pc\": 0.0},\n",
    "    #     \"right\": {\"mode\": \"path\", \"flip_pc\": 0.0},\n",
    "    #     \"min_text_length\": None,\n",
    "    #     \"skip_weak\": False,\n",
    "    #     \"skip_topics\": True,\n",
    "    #     \"flip_lr\": 0.5,\n",
    "    #     \"first_epoch\": 5,\n",
    "    #     \"last_epoch\": None,\n",
    "    #     \"weight\": 60,\n",
    "    # },\n",
    "    # {\n",
    "    #     \"left\": None,\n",
    "    #     \"right\": {\"mode\": \"path\", \"flip_pc\": 0.0},\n",
    "    #     \"min_text_length\": None,\n",
    "    #     \"skip_weak\": True,\n",
    "    #     \"skip_topics\": True,\n",
    "    #     \"flip_lr\": 0.5,\n",
    "    #     \"first_epoch\": 5,\n",
    "    #     \"last_epoch\": None,\n",
    "    #     \"weight\": 40,\n",
    "    # },\n",
    "    {\n",
    "        \"left\": {\"mode\": \"random\", \"flip_pc\": 0.0},\n",
    "        \"right\": {\"mode\": \"valid\", \"flip_pc\": 0.0},\n",
    "        \"min_text_length\": None,\n",
    "        \"skip_weak\": True,\n",
    "        \"skip_topics\": True,\n",
    "        \"flip_lr\": 0.5,\n",
    "        \"first_epoch\": None,\n",
    "        \"last_epoch\": None,\n",
    "        \"weight\": 60,\n",
    "    },\n",
    "    {\n",
    "        \"left\": None,\n",
    "        \"right\": {\"mode\": \"valid\", \"flip_pc\": 0.0},\n",
    "        \"min_text_length\": None,\n",
    "        \"skip_weak\": True,\n",
    "        \"skip_topics\": True,\n",
    "        \"flip_lr\": 0.5,\n",
    "        \"first_epoch\": None,\n",
    "        \"last_epoch\": None,\n",
    "        \"weight\": 40,\n",
    "    },\n",
    "    {\n",
    "        \"left\": {\"mode\": \"valid\", \"flip_pc\": 1.0},\n",
    "        \"right\": {\"mode\": \"valid\", \"flip_pc\": 0.0},\n",
    "        \"min_text_length\": None,\n",
    "        \"skip_weak\": False,\n",
    "        \"skip_topics\": True,\n",
    "        \"flip_lr\": 0.5,\n",
    "        \"first_epoch\": 15,\n",
    "        \"last_epoch\": None,\n",
    "        \"weight\": 50,\n",
    "    }\n",
    "]\n",
    "eval_plan = [\n",
    "    {\n",
    "        \"left\": {\"mode\": \"random\", \"flip_pc\": 0.0},\n",
    "        \"right\": {\"mode\": \"valid\", \"flip_pc\": 0.0},\n",
    "        \"min_text_length\": None,\n",
    "        \"skip_weak\": False,\n",
    "        \"skip_topics\": True,\n",
    "        \"flip_lr\": 0.5,\n",
    "        \"weight\": 60,\n",
    "    },\n",
    "    {\n",
    "        \"left\": None,\n",
    "        \"right\": {\"mode\": \"valid\", \"flip_pc\": 0.0},\n",
    "        \"min_text_length\": None,\n",
    "        \"skip_weak\": False,\n",
    "        \"skip_topics\": True,\n",
    "        \"flip_lr\": 0.5,\n",
    "        \"weight\": 40,\n",
    "    },\n",
    "    {\n",
    "        \"left\": {\"mode\": \"random\", \"flip_pc\": 0.0},\n",
    "        \"right\": {\"mode\": \"valid\", \"flip_pc\": 0.0},\n",
    "        \"min_text_length\": None,\n",
    "        \"skip_weak\": False,\n",
    "        \"skip_topics\": True,\n",
    "        \"flip_lr\": 0.5,\n",
    "        \"weight\": 60,\n",
    "    },\n",
    "    {\n",
    "        \"left\": None,\n",
    "        \"right\": {\"mode\": \"valid\", \"flip_pc\": 0.0},\n",
    "        \"min_text_length\": None,\n",
    "        \"skip_weak\": False,\n",
    "        \"skip_topics\": True,\n",
    "        \"flip_lr\": 0.5,\n",
    "        \"weight\": 40,\n",
    "    },\n",
    "]\n",
    "ttgen = create_train_test(\n",
    "    train_ns=ns_train,\n",
    "    train_validation_ns=ns_train,\n",
    "    test_ns=ns_test,\n",
    "    test_validation_ns=ns_test,\n",
    "    train_learning_plan=train_plan,\n",
    "    train_val_learning_plan=eval_plan,\n",
    "    test_learning_plan=eval_plan,\n",
    "    test_val_learning_plan=eval_plan,\n",
    "    batch_size=4 if is_cuda else 8,\n",
    "    epoch_batches=5000 if is_cuda else 500,\n",
    "    train_val_size=10000 if is_cuda else 1000,\n",
    "    test_size=10000 if is_cuda else 1000,\n",
    "    test_val_size=10000 if is_cuda else 1000,\n",
    "    use_fast_gen_only=True,\n",
    "    compute_batch_size=100 if is_cuda else 100,\n",
    "    now=now)"
   ]
  },
  {
   "cell_type": "code",
   "execution_count": 7,
   "id": "9d7acd4d-0d4a-481f-901b-3e524ee02c6f",
   "metadata": {},
   "outputs": [],
   "source": [
    "import torch.nn as nn\n",
    "from torch.optim import AdamW\n",
    "from transformers import DistilBertTokenizer, DistilBertModel"
   ]
  },
  {
   "cell_type": "code",
   "execution_count": 8,
   "id": "927dbcbe-6df3-49c9-8449-041b1ab7a168",
   "metadata": {},
   "outputs": [
    {
     "data": {
      "text/plain": [
       "device(type='cuda')"
      ]
     },
     "execution_count": 8,
     "metadata": {},
     "output_type": "execute_result"
    }
   ],
   "source": [
    "device = torch.device(\"cuda\") if is_cuda else torch.device(\"cpu\")\n",
    "device"
   ]
  },
  {
   "cell_type": "code",
   "execution_count": 9,
   "id": "00819f53-a953-4b85-bcf8-6cba59a8bb67",
   "metadata": {},
   "outputs": [],
   "source": [
    "from model.transformer_embed import (\n",
    "    EMBED_SIZE,\n",
    "    TokenizedInput,\n",
    "    Model,\n",
    "    BaselineModel,\n",
    "    EitherModel,\n",
    "    TrainingHarness,\n",
    "    get_tokenizer,\n",
    ")\n",
    "\n",
    "\n",
    "tokens = get_tokenizer()"
   ]
  },
  {
   "cell_type": "code",
   "execution_count": 10,
   "id": "6cde9030-931f-4f80-a118-d7f5ef2677d9",
   "metadata": {
    "tags": []
   },
   "outputs": [],
   "source": [
    "from transformers import get_scheduler\n",
    "# from tqdm.notebook import tqdm\n",
    "from tqdm.auto import tqdm\n",
    "import evaluate\n",
    "import time\n",
    "\n",
    "\n",
    "def create_model(version: int) -> EitherModel:\n",
    "    if version < 0:\n",
    "        return BaselineModel(version, ignore_pretrained_warning=True)\n",
    "    return Model(version, ignore_pretrained_warning=True)\n",
    "\n",
    "\n",
    "def compute(harness, df):\n",
    "    plefts = tokens(df[\"parent_left\"].tolist())\n",
    "    clefts = tokens(df[\"child_left\"].tolist())\n",
    "    prights = tokens(df[\"parent_right\"].tolist())\n",
    "    crights = tokens(df[\"child_right\"].tolist())\n",
    "    labels = torch.tensor(\n",
    "        [~df[\"correct_is_right\"], df[\"correct_is_right\"]],\n",
    "        dtype=torch.float32).T.to(device)\n",
    "   \n",
    "    preds, loss = harness(\n",
    "        left={\"parent\": plefts, \"child\": clefts},\n",
    "        right={\"parent\": prights, \"child\": crights},\n",
    "        labels=labels)\n",
    "    # TODO add selective push losses\n",
    "    return preds, loss\n",
    "\n",
    "\n",
    "def run_training(num_epochs, version, force_restart):\n",
    "    model = create_model(version)\n",
    "    model.to(device)\n",
    "    harness = TrainingHarness(model)\n",
    "    harness.to(device)\n",
    "\n",
    "    mprev, epoch_offset = get_epoch_and_load(\n",
    "        harness,\n",
    "        MODEL_OUTPUT_CP,\n",
    "        ftype=\"harness\",\n",
    "        is_cuda=is_cuda,\n",
    "        device=device,\n",
    "        force_restart=force_restart)\n",
    "\n",
    "    optimizer = AdamW(harness.parameters(), lr=5e-5)\n",
    "    print(mprev, epoch_offset)\n",
    "    \n",
    "    num_epochs -= epoch_offset\n",
    "    if num_epochs <= 0:\n",
    "        print(\"already computed all epochs. nothing to do!\")\n",
    "        return model, harness, optimizer\n",
    "    \n",
    "    num_training_steps = num_epochs * ttgen.get_epoch_train_size()\n",
    "    warmup = 10000 if is_cuda else 10\n",
    "    lr_scheduler = get_scheduler(\n",
    "        name=\"linear\",\n",
    "        optimizer=optimizer,\n",
    "        num_warmup_steps=warmup,\n",
    "        num_training_steps=num_training_steps - warmup)\n",
    "    ttgen.set_epoch(epoch_offset)\n",
    "    \n",
    "    log_csv = get_model_filename(\n",
    "        harness,\n",
    "        MODEL_OUTPUT_BASE,\n",
    "        is_cuda=is_cuda,\n",
    "        ftype=\"val_log\",\n",
    "        epoch=None,\n",
    "        ext=\".csv\")\n",
    "    columns = [\n",
    "        \"epoch\",\n",
    "        \"train_acc\",\n",
    "        \"train_loss\",\n",
    "        \"train_val_acc\",\n",
    "        \"train_val_loss\",\n",
    "        \"test_acc\",\n",
    "        \"test_loss\",\n",
    "        \"time\",\n",
    "        \"version\",\n",
    "        \"fname\",\n",
    "    ]\n",
    "    if not os.path.exists(log_csv):\n",
    "        pd.DataFrame([], columns=columns).to_csv(\n",
    "            log_csv, header=True, mode=\"w\", columns=columns)\n",
    "\n",
    "    for _ in range(num_epochs):\n",
    "        epoch = ttgen.get_epoch()\n",
    "        print(f\"epoch {epoch} version: {harness.get_version()}\")\n",
    "        real_time = time.monotonic()\n",
    "\n",
    "        model.train()\n",
    "        harness.train()\n",
    "        model.set_epoch(epoch)\n",
    "        metric_train = evaluate.load(\"accuracy\")\n",
    "        train_loss = []\n",
    "        first = True\n",
    "        with tqdm(desc=\"train\", total=ttgen.get_epoch_train_size()) as progress_bar:\n",
    "            for train_df in ttgen.train_dfs():\n",
    "                preds, loss = compute(harness, train_df)\n",
    "                train_loss.append(loss.item())\n",
    "                loss.backward()\n",
    "\n",
    "                optimizer.step()\n",
    "                lr_scheduler.step()\n",
    "                optimizer.zero_grad()\n",
    "                progress_bar.update(train_df.shape[0])\n",
    "\n",
    "                predictions = torch.argmax(preds, dim=-1)\n",
    "                metric_train.add_batch(\n",
    "                    predictions=predictions,\n",
    "                    references=train_df[\"correct_is_right\"].astype(int))\n",
    "                if first:\n",
    "                    # display(train_df)\n",
    "                    first = False\n",
    "\n",
    "        model_fname = get_model_filename(\n",
    "            harness,\n",
    "            MODEL_OUTPUT_CP,\n",
    "            is_cuda=is_cuda,\n",
    "            ftype=\"harness\",\n",
    "            epoch=epoch)\n",
    "        torch.save(harness.state_dict(), model_fname)\n",
    "\n",
    "        model.eval()\n",
    "        harness.eval()\n",
    "        with torch.no_grad():\n",
    "            metric_val_train = evaluate.load(\"accuracy\")\n",
    "            train_val_loss = []\n",
    "            with tqdm(desc=\"train val\", total=ttgen.get_epoch_train_validation_size()) as progress_bar:\n",
    "                for train_validation_df in ttgen.train_validation_dfs():\n",
    "                    preds, loss = compute(harness, train_validation_df)\n",
    "                    train_val_loss.append(loss.item())\n",
    "                    predictions = torch.argmax(preds, dim=-1)\n",
    "                    metric_val_train.add_batch(\n",
    "                        predictions=predictions,\n",
    "                        references=train_validation_df[\"correct_is_right\"].astype(int))\n",
    "                    progress_bar.update(train_validation_df.shape[0])\n",
    "\n",
    "            metric_test = evaluate.load(\"accuracy\")\n",
    "            test_loss = []\n",
    "            with tqdm(desc=\"test\", total=ttgen.get_epoch_test_size()) as progress_bar:\n",
    "                for test_df in ttgen.test_dfs():\n",
    "                    preds, loss = compute(harness, test_df)\n",
    "                    test_loss.append(loss.item())\n",
    "                    predictions = torch.argmax(preds, dim=-1)\n",
    "                    metric_test.add_batch(\n",
    "                        predictions=predictions,\n",
    "                        references=test_df[\"correct_is_right\"].astype(int))\n",
    "                    progress_bar.update(test_df.shape[0])\n",
    "            stats = {\n",
    "                \"epoch\": int(epoch),\n",
    "                \"train_acc\": float(metric_train.compute()['accuracy']),\n",
    "                \"train_loss\": float(np.mean(train_loss)),\n",
    "                \"train_val_acc\": float(metric_val_train.compute()['accuracy']),\n",
    "                \"train_val_loss\": float(np.mean(train_val_loss)),\n",
    "                \"test_acc\": float(metric_test.compute()['accuracy']),\n",
    "                \"test_loss\": float(np.mean(test_loss)),\n",
    "                \"time\": 0.0,\n",
    "                \"version\": harness.get_version(),\n",
    "                \"fname\": model_fname,\n",
    "            }\n",
    "\n",
    "        print(f\"train: {stats['train_acc']} loss: {stats['train_loss']}\")\n",
    "        print(f\"train val: {stats['train_val_acc']} loss: {stats['train_val_loss']}\")\n",
    "        print(f\"test: {stats['test_acc']} loss: {stats['test_loss']}\")\n",
    "        ttgen.advance_epoch()\n",
    "        stats[\"time\"] = float((time.monotonic() - real_time) / 60.0)\n",
    "        print(f\"epoch time: {stats['time']:.2f}min\")\n",
    "        stats_fn = get_model_filename(\n",
    "            harness,\n",
    "            MODEL_OUTPUT_CP,\n",
    "            is_cuda=is_cuda,\n",
    "            ftype=\"stats\",\n",
    "            epoch=epoch,\n",
    "            ext=\".json\")\n",
    "        with open_write(stats_fn, text=True) as fout:\n",
    "            print(json.dumps(stats, indent=2, sort_keys=True), file=fout)\n",
    "        stats_df = pd.DataFrame(\n",
    "            {key: [val] for key, val in stats.items()},\n",
    "            columns=columns)\n",
    "        stats_df.to_csv(\n",
    "            log_csv, header=False, mode=\"a\")\n",
    "            \n",
    "        limit_epoch_data(\n",
    "            harness,\n",
    "            MODEL_OUTPUT_CP,\n",
    "            is_cuda=is_cuda,\n",
    "            ftype=\"stats\",\n",
    "            ext=\".json\",\n",
    "            count=5)\n",
    "    return model, harness, optimizer"
   ]
  },
  {
   "cell_type": "code",
   "execution_count": 11,
   "id": "c5a36224-b91d-4f21-9279-fa7c2a0e862f",
   "metadata": {},
   "outputs": [],
   "source": [
    "def save_model(model, harness, optimizer):\n",
    "    torch.save(model.state_dict(), get_model_filename(\n",
    "        harness,\n",
    "        MODEL_OUTPUT_BASE,\n",
    "        is_cuda=is_cuda,\n",
    "        ftype=\"model\",\n",
    "        epoch=None))\n",
    "    torch.save(harness.state_dict(), get_model_filename(\n",
    "        harness,\n",
    "        MODEL_OUTPUT_BASE,\n",
    "        is_cuda=is_cuda,\n",
    "        ftype=\"harness\",\n",
    "        epoch=None))\n",
    "    torch.save(optimizer.state_dict(), get_model_filename(\n",
    "        harness,\n",
    "        MODEL_OUTPUT_BASE,\n",
    "        is_cuda=is_cuda,\n",
    "        ftype=\"optimizer\",\n",
    "        epoch=None))"
   ]
  },
  {
   "cell_type": "code",
   "execution_count": 12,
   "id": "bff582b9-1447-425a-9b0f-36d9366e4ec7",
   "metadata": {},
   "outputs": [],
   "source": [
    "def validation(model, harness):\n",
    "    ttgen.reset()\n",
    "    model.eval()\n",
    "    harness.eval()\n",
    "    dfs = []\n",
    "    with torch.no_grad():\n",
    "        metric_val_test = evaluate.load(\"accuracy\")\n",
    "        test_val_loss = []\n",
    "        with tqdm(desc=\"test val\", total=ttgen.get_epoch_test_validation_size()) as progress_bar:\n",
    "            for test_val_df in ttgen.test_validation_dfs():\n",
    "                preds, loss = compute(harness, test_val_df)\n",
    "                test_val_loss.append(loss.item())\n",
    "                predictions = torch.argmax(preds, dim=-1)\n",
    "                metric_val_test.add_batch(\n",
    "                    predictions=predictions,\n",
    "                    references=test_val_df[\"correct_is_right\"].astype(int))\n",
    "                cur_df = test_val_df.copy()\n",
    "                cur_df[\"logit_left\"] = preds[:, 0].cpu()\n",
    "                cur_df[\"logit_right\"] = preds[:, 1].cpu()\n",
    "                cur_df[\"preds\"] = predictions.cpu()\n",
    "                cur_df[\"truth\"] = test_val_df[\"correct_is_right\"].astype(int)\n",
    "                dfs.append(cur_df)\n",
    "                progress_bar.update(test_val_df.shape[0])\n",
    "    print(f\"test val: {metric_val_test.compute()} loss: {np.mean(test_val_loss)}\")\n",
    "    validation_df = pd.concat(dfs)\n",
    "    validation_df.to_csv(get_model_filename(\n",
    "        harness,\n",
    "        MODEL_OUTPUT_BASE,\n",
    "        is_cuda=is_cuda,\n",
    "        ftype=\"validation\",\n",
    "        epoch=None,\n",
    "        ext=\".csv\"))\n",
    "    print(\"correct\")\n",
    "    display(validation_df[validation_df[\"preds\"] == validation_df[\"truth\"]].head())\n",
    "    print(\"incorrect\")\n",
    "    display(validation_df[validation_df[\"preds\"] != validation_df[\"truth\"]].head())"
   ]
  },
  {
   "cell_type": "code",
   "execution_count": 13,
   "id": "211e7f88-ff0c-4bad-bb47-2224bfedbc8b",
   "metadata": {},
   "outputs": [],
   "source": [
    "def embeds(model):\n",
    "    ttgen.reset()\n",
    "    model.eval()\n",
    "    with torch.no_grad():\n",
    "        count = 0\n",
    "        for test_val_df in ttgen.test_validation_dfs():\n",
    "            plefts = tokens(test_val_df[\"parent_left\"].tolist())\n",
    "            clefts = tokens(test_val_df[\"child_left\"].tolist())\n",
    "            prights = tokens(test_val_df[\"parent_right\"].tolist())\n",
    "            crights = tokens(test_val_df[\"child_right\"].tolist())\n",
    "            display(model.get_child_embed(\n",
    "                clefts[\"input_ids\"],\n",
    "                clefts[\"attention_mask\"]).cpu().numpy())\n",
    "            display(model.get_child_embed(\n",
    "                crights[\"input_ids\"],\n",
    "                crights[\"attention_mask\"]).cpu().numpy())\n",
    "            count += 1\n",
    "            if count >= 5:\n",
    "                break"
   ]
  },
  {
   "cell_type": "code",
   "execution_count": 14,
   "id": "a98fd1aa-9723-4da8-8fcb-2d9500542f79",
   "metadata": {},
   "outputs": [],
   "source": [
    "def full_run(*, num_epochs, version, force_restart):\n",
    "    model, harness, optimizer = run_training(\n",
    "        num_epochs, version, force_restart)\n",
    "    save_model(model, harness, optimizer)\n",
    "    validation(model, harness)\n",
    "    embeds(model)"
   ]
  },
  {
   "cell_type": "code",
   "execution_count": 15,
   "id": "28cae2dd-05dc-4864-80e2-64977d32ed3c",
   "metadata": {
    "tags": []
   },
   "outputs": [],
   "source": [
    "# for version in range(8):\n",
    "#     full_run(num_epochs=30, version=version, force_restart=False)"
   ]
  },
  {
   "cell_type": "code",
   "execution_count": 16,
   "id": "f4a501c5-2870-4b82-b0d3-8df2df93a875",
   "metadata": {
    "collapsed": true,
    "jupyter": {
     "outputs_hidden": true
    },
    "tags": []
   },
   "outputs": [
    {
     "name": "stderr",
     "output_type": "stream",
     "text": [
      "Some weights of the model checkpoint at distilbert-base-uncased were not used when initializing DistilBertModel: ['vocab_transform.bias', 'vocab_transform.weight', 'vocab_layer_norm.bias', 'vocab_layer_norm.weight', 'vocab_projector.bias', 'vocab_projector.weight']\n",
      "- This IS expected if you are initializing DistilBertModel from the checkpoint of a model trained on another task or with another architecture (e.g. initializing a BertForSequenceClassification model from a BertForPreTraining model).\n",
      "- This IS NOT expected if you are initializing DistilBertModel from the checkpoint of a model that you expect to be exactly identical (initializing a BertForSequenceClassification model from a BertForSequenceClassification model).\n"
     ]
    },
    {
     "name": "stdout",
     "output_type": "stream",
     "text": [
      "None 0\n",
      "epoch 0 version: -1\n"
     ]
    },
    {
     "data": {
      "application/vnd.jupyter.widget-view+json": {
       "model_id": "3da98098461245c8bc46b54c40a3fe0b",
       "version_major": 2,
       "version_minor": 0
      },
      "text/plain": [
       "train:   0%|          | 0/20000 [00:00<?, ?it/s]"
      ]
     },
     "metadata": {},
     "output_type": "display_data"
    },
    {
     "name": "stdout",
     "output_type": "stream",
     "text": [
      "built strong_links_cache in 58.8546s (275808 links)\n"
     ]
    },
    {
     "data": {
      "application/vnd.jupyter.widget-view+json": {
       "model_id": "c977c9fcb01f4153a80b89d0ec613a4e",
       "version_major": 2,
       "version_minor": 0
      },
      "text/plain": [
       "train val:   0%|          | 0/10000 [00:00<?, ?it/s]"
      ]
     },
     "metadata": {},
     "output_type": "display_data"
    },
    {
     "name": "stdout",
     "output_type": "stream",
     "text": [
      "built all_links_cache in 65.2737s (605713 links)\n"
     ]
    },
    {
     "data": {
      "application/vnd.jupyter.widget-view+json": {
       "model_id": "f3c4b395c3874540bd058d10506dadbb",
       "version_major": 2,
       "version_minor": 0
      },
      "text/plain": [
       "test:   0%|          | 0/10000 [00:00<?, ?it/s]"
      ]
     },
     "metadata": {},
     "output_type": "display_data"
    },
    {
     "name": "stdout",
     "output_type": "stream",
     "text": [
      "built all_links_cache in 54.1116s (490724 links)\n",
      "train: 0.57475 loss: 1.4561594261151591\n",
      "train val: 0.6028 loss: 0.804417739744857\n",
      "test: 0.5569 loss: 0.9650021713331342\n",
      "epoch time: 136.19min\n",
      "best model: /mnt/d/workspace/clotho/notebooks/checkpoints/harness_v-1_lg_0.pkl\n",
      "best train: 0.57475\n",
      "best train val: 0.6028\n",
      "best test: 0.5569\n",
      "epoch 1 version: -1\n"
     ]
    },
    {
     "data": {
      "application/vnd.jupyter.widget-view+json": {
       "model_id": "ec67af3c8c744ffe89565552d8c5db2d",
       "version_major": 2,
       "version_minor": 0
      },
      "text/plain": [
       "train:   0%|          | 0/20000 [00:00<?, ?it/s]"
      ]
     },
     "metadata": {},
     "output_type": "display_data"
    },
    {
     "data": {
      "application/vnd.jupyter.widget-view+json": {
       "model_id": "c0de4b1b360f4880978e713cd29e26bb",
       "version_major": 2,
       "version_minor": 0
      },
      "text/plain": [
       "train val:   0%|          | 0/10000 [00:00<?, ?it/s]"
      ]
     },
     "metadata": {},
     "output_type": "display_data"
    },
    {
     "data": {
      "application/vnd.jupyter.widget-view+json": {
       "model_id": "e3b36c09c8d4454097e9bff06219350f",
       "version_major": 2,
       "version_minor": 0
      },
      "text/plain": [
       "test:   0%|          | 0/10000 [00:00<?, ?it/s]"
      ]
     },
     "metadata": {},
     "output_type": "display_data"
    },
    {
     "name": "stdout",
     "output_type": "stream",
     "text": [
      "train: 0.58285 loss: 0.7515144526388496\n",
      "train val: 0.611 loss: 0.636214503288269\n",
      "test: 0.5566 loss: 0.6944640449911356\n",
      "epoch time: 67.04min\n",
      "best model: /mnt/d/workspace/clotho/notebooks/checkpoints/harness_v-1_lg_1.pkl\n",
      "best train: 0.58285\n",
      "best train val: 0.611\n",
      "best test: 0.5566\n",
      "epoch 2 version: -1\n"
     ]
    },
    {
     "data": {
      "application/vnd.jupyter.widget-view+json": {
       "model_id": "c99f20f7f2a74878a21082f7cc5212a4",
       "version_major": 2,
       "version_minor": 0
      },
      "text/plain": [
       "train:   0%|          | 0/20000 [00:00<?, ?it/s]"
      ]
     },
     "metadata": {},
     "output_type": "display_data"
    },
    {
     "data": {
      "application/vnd.jupyter.widget-view+json": {
       "model_id": "96275d5278a34fb4a8ecc92d83687665",
       "version_major": 2,
       "version_minor": 0
      },
      "text/plain": [
       "train val:   0%|          | 0/10000 [00:00<?, ?it/s]"
      ]
     },
     "metadata": {},
     "output_type": "display_data"
    },
    {
     "data": {
      "application/vnd.jupyter.widget-view+json": {
       "model_id": "db7648e62ade40569c7b40cc9ee28519",
       "version_major": 2,
       "version_minor": 0
      },
      "text/plain": [
       "test:   0%|          | 0/10000 [00:00<?, ?it/s]"
      ]
     },
     "metadata": {},
     "output_type": "display_data"
    },
    {
     "name": "stdout",
     "output_type": "stream",
     "text": [
      "train: 0.6445 loss: 0.596906612881273\n",
      "train val: 0.7041 loss: 0.4887786029085517\n",
      "test: 0.6442 loss: 0.6029045284330845\n",
      "epoch time: 66.58min\n",
      "best model: /mnt/d/workspace/clotho/notebooks/checkpoints/harness_v-1_lg_2.pkl\n",
      "best train: 0.6445\n",
      "best train val: 0.7041\n",
      "best test: 0.6442\n",
      "epoch 3 version: -1\n"
     ]
    },
    {
     "data": {
      "application/vnd.jupyter.widget-view+json": {
       "model_id": "029a439355044fe087cd6bb994f471b9",
       "version_major": 2,
       "version_minor": 0
      },
      "text/plain": [
       "train:   0%|          | 0/20000 [00:00<?, ?it/s]"
      ]
     },
     "metadata": {},
     "output_type": "display_data"
    },
    {
     "data": {
      "application/vnd.jupyter.widget-view+json": {
       "model_id": "4aa0a0699726404798b1255777dc4694",
       "version_major": 2,
       "version_minor": 0
      },
      "text/plain": [
       "train val:   0%|          | 0/10000 [00:00<?, ?it/s]"
      ]
     },
     "metadata": {},
     "output_type": "display_data"
    },
    {
     "data": {
      "application/vnd.jupyter.widget-view+json": {
       "model_id": "38ed314223224caeaa52898dd5f9493c",
       "version_major": 2,
       "version_minor": 0
      },
      "text/plain": [
       "test:   0%|          | 0/10000 [00:00<?, ?it/s]"
      ]
     },
     "metadata": {},
     "output_type": "display_data"
    },
    {
     "name": "stdout",
     "output_type": "stream",
     "text": [
      "train: 0.7213 loss: 0.48039174534613266\n",
      "train val: 0.7418 loss: 0.44398434667214753\n",
      "test: 0.6993 loss: 0.5120001047462225\n",
      "epoch time: 65.32min\n",
      "best model: /mnt/d/workspace/clotho/notebooks/checkpoints/harness_v-1_lg_3.pkl\n",
      "best train: 0.7213\n",
      "best train val: 0.7418\n",
      "best test: 0.6993\n",
      "epoch 4 version: -1\n"
     ]
    },
    {
     "data": {
      "application/vnd.jupyter.widget-view+json": {
       "model_id": "b3329dda9e8240b9b4969be90d5f4d22",
       "version_major": 2,
       "version_minor": 0
      },
      "text/plain": [
       "train:   0%|          | 0/20000 [00:00<?, ?it/s]"
      ]
     },
     "metadata": {},
     "output_type": "display_data"
    },
    {
     "data": {
      "application/vnd.jupyter.widget-view+json": {
       "model_id": "4bbf70d9415d4471b641c3f02f7a2210",
       "version_major": 2,
       "version_minor": 0
      },
      "text/plain": [
       "train val:   0%|          | 0/10000 [00:00<?, ?it/s]"
      ]
     },
     "metadata": {},
     "output_type": "display_data"
    },
    {
     "data": {
      "application/vnd.jupyter.widget-view+json": {
       "model_id": "d408393301cb4f36900e353b6662c696",
       "version_major": 2,
       "version_minor": 0
      },
      "text/plain": [
       "test:   0%|          | 0/10000 [00:00<?, ?it/s]"
      ]
     },
     "metadata": {},
     "output_type": "display_data"
    },
    {
     "name": "stdout",
     "output_type": "stream",
     "text": [
      "train: 0.7198 loss: 0.4779414538129699\n",
      "train val: 0.7364 loss: 0.4356625056039542\n",
      "test: 0.6646 loss: 0.5759088016944006\n",
      "epoch time: 65.17min\n",
      "best model: /mnt/d/workspace/clotho/notebooks/checkpoints/harness_v-1_lg_3.pkl\n",
      "best train: 0.7213\n",
      "best train val: 0.7418\n",
      "best test: 0.6993\n",
      "epoch 5 version: -1\n"
     ]
    },
    {
     "data": {
      "application/vnd.jupyter.widget-view+json": {
       "model_id": "19887868bb5e48ae8a946dbb81e1699d",
       "version_major": 2,
       "version_minor": 0
      },
      "text/plain": [
       "train:   0%|          | 0/20000 [00:00<?, ?it/s]"
      ]
     },
     "metadata": {},
     "output_type": "display_data"
    },
    {
     "data": {
      "application/vnd.jupyter.widget-view+json": {
       "model_id": "c5ddfe5c2c0d4c45964802d36717c60d",
       "version_major": 2,
       "version_minor": 0
      },
      "text/plain": [
       "train val:   0%|          | 0/10000 [00:00<?, ?it/s]"
      ]
     },
     "metadata": {},
     "output_type": "display_data"
    },
    {
     "data": {
      "application/vnd.jupyter.widget-view+json": {
       "model_id": "60c0ddb07efd4e44952e867eb12e7859",
       "version_major": 2,
       "version_minor": 0
      },
      "text/plain": [
       "test:   0%|          | 0/10000 [00:00<?, ?it/s]"
      ]
     },
     "metadata": {},
     "output_type": "display_data"
    },
    {
     "name": "stdout",
     "output_type": "stream",
     "text": [
      "train: 0.7148 loss: 0.47402250756355935\n",
      "train val: 0.7461 loss: 0.42896948322020473\n",
      "test: 0.6771 loss: 0.5382375219240785\n",
      "epoch time: 66.01min\n",
      "best model: /mnt/d/workspace/clotho/notebooks/checkpoints/harness_v-1_lg_5.pkl\n",
      "best train: 0.7148\n",
      "best train val: 0.7461\n",
      "best test: 0.6771\n",
      "epoch 6 version: -1\n"
     ]
    },
    {
     "data": {
      "application/vnd.jupyter.widget-view+json": {
       "model_id": "28a2d315206b40e1b51fd90a1352101f",
       "version_major": 2,
       "version_minor": 0
      },
      "text/plain": [
       "train:   0%|          | 0/20000 [00:00<?, ?it/s]"
      ]
     },
     "metadata": {},
     "output_type": "display_data"
    },
    {
     "data": {
      "application/vnd.jupyter.widget-view+json": {
       "model_id": "d5cf9f35ac254371af03087854878c8f",
       "version_major": 2,
       "version_minor": 0
      },
      "text/plain": [
       "train val:   0%|          | 0/10000 [00:00<?, ?it/s]"
      ]
     },
     "metadata": {},
     "output_type": "display_data"
    },
    {
     "data": {
      "application/vnd.jupyter.widget-view+json": {
       "model_id": "e961a8ab215a4480ac10480c4280ac3d",
       "version_major": 2,
       "version_minor": 0
      },
      "text/plain": [
       "test:   0%|          | 0/10000 [00:00<?, ?it/s]"
      ]
     },
     "metadata": {},
     "output_type": "display_data"
    },
    {
     "name": "stdout",
     "output_type": "stream",
     "text": [
      "train: 0.71445 loss: 0.4668908732617274\n",
      "train val: 0.7382 loss: 0.46183974278569223\n",
      "test: 0.6615 loss: 0.5707450155198575\n",
      "epoch time: 65.51min\n",
      "removing /mnt/d/workspace/clotho/notebooks/checkpoints/stats_v-1_lg_0.json\n",
      "removing /mnt/d/workspace/clotho/notebooks/checkpoints/harness_v-1_lg_0.pkl\n",
      "best model: /mnt/d/workspace/clotho/notebooks/checkpoints/harness_v-1_lg_5.pkl\n",
      "best train: 0.7148\n",
      "best train val: 0.7461\n",
      "best test: 0.6771\n",
      "epoch 7 version: -1\n"
     ]
    },
    {
     "data": {
      "application/vnd.jupyter.widget-view+json": {
       "model_id": "9e13ac01f9584ccfbf35e3137fc7a384",
       "version_major": 2,
       "version_minor": 0
      },
      "text/plain": [
       "train:   0%|          | 0/20000 [00:00<?, ?it/s]"
      ]
     },
     "metadata": {},
     "output_type": "display_data"
    },
    {
     "data": {
      "application/vnd.jupyter.widget-view+json": {
       "model_id": "0b52b7fb872e42558cc987de561721a5",
       "version_major": 2,
       "version_minor": 0
      },
      "text/plain": [
       "train val:   0%|          | 0/10000 [00:00<?, ?it/s]"
      ]
     },
     "metadata": {},
     "output_type": "display_data"
    },
    {
     "data": {
      "application/vnd.jupyter.widget-view+json": {
       "model_id": "b6bee0e8a0d24aa0bc3340aac0826700",
       "version_major": 2,
       "version_minor": 0
      },
      "text/plain": [
       "test:   0%|          | 0/10000 [00:00<?, ?it/s]"
      ]
     },
     "metadata": {},
     "output_type": "display_data"
    },
    {
     "name": "stdout",
     "output_type": "stream",
     "text": [
      "train: 0.72845 loss: 0.45411953497028446\n",
      "train val: 0.7462 loss: 0.4375369450226426\n",
      "test: 0.653 loss: 0.5887501503564417\n",
      "epoch time: 65.27min\n",
      "removing /mnt/d/workspace/clotho/notebooks/checkpoints/stats_v-1_lg_1.json\n",
      "removing /mnt/d/workspace/clotho/notebooks/checkpoints/harness_v-1_lg_1.pkl\n",
      "best model: /mnt/d/workspace/clotho/notebooks/checkpoints/harness_v-1_lg_7.pkl\n",
      "best train: 0.72845\n",
      "best train val: 0.7462\n",
      "best test: 0.653\n",
      "epoch 8 version: -1\n"
     ]
    },
    {
     "data": {
      "application/vnd.jupyter.widget-view+json": {
       "model_id": "dfeea71f2e4642f6bb1a18f7ac34ad6c",
       "version_major": 2,
       "version_minor": 0
      },
      "text/plain": [
       "train:   0%|          | 0/20000 [00:00<?, ?it/s]"
      ]
     },
     "metadata": {},
     "output_type": "display_data"
    },
    {
     "data": {
      "application/vnd.jupyter.widget-view+json": {
       "model_id": "f9d68f177df243a2b76dd0015b12389b",
       "version_major": 2,
       "version_minor": 0
      },
      "text/plain": [
       "train val:   0%|          | 0/10000 [00:00<?, ?it/s]"
      ]
     },
     "metadata": {},
     "output_type": "display_data"
    },
    {
     "data": {
      "application/vnd.jupyter.widget-view+json": {
       "model_id": "bbd1cbae64d246d6ba055f74bbba845d",
       "version_major": 2,
       "version_minor": 0
      },
      "text/plain": [
       "test:   0%|          | 0/10000 [00:00<?, ?it/s]"
      ]
     },
     "metadata": {},
     "output_type": "display_data"
    },
    {
     "name": "stdout",
     "output_type": "stream",
     "text": [
      "train: 0.7305 loss: 0.44931339020729066\n",
      "train val: 0.7327 loss: 0.4516820371979848\n",
      "test: 0.6621 loss: 0.5731022862710059\n",
      "epoch time: 65.64min\n",
      "removing /mnt/d/workspace/clotho/notebooks/checkpoints/stats_v-1_lg_2.json\n",
      "removing /mnt/d/workspace/clotho/notebooks/checkpoints/harness_v-1_lg_2.pkl\n",
      "best model: /mnt/d/workspace/clotho/notebooks/checkpoints/harness_v-1_lg_7.pkl\n",
      "best train: 0.72845\n",
      "best train val: 0.7462\n",
      "best test: 0.653\n",
      "epoch 9 version: -1\n"
     ]
    },
    {
     "data": {
      "application/vnd.jupyter.widget-view+json": {
       "model_id": "714c1f043e054c388afe69a136b21ccd",
       "version_major": 2,
       "version_minor": 0
      },
      "text/plain": [
       "train:   0%|          | 0/20000 [00:00<?, ?it/s]"
      ]
     },
     "metadata": {},
     "output_type": "display_data"
    },
    {
     "data": {
      "application/vnd.jupyter.widget-view+json": {
       "model_id": "91315e82682b41439f28b2ff133c1bde",
       "version_major": 2,
       "version_minor": 0
      },
      "text/plain": [
       "train val:   0%|          | 0/10000 [00:00<?, ?it/s]"
      ]
     },
     "metadata": {},
     "output_type": "display_data"
    },
    {
     "data": {
      "application/vnd.jupyter.widget-view+json": {
       "model_id": "88792d5609e348819e31f373d7e9e409",
       "version_major": 2,
       "version_minor": 0
      },
      "text/plain": [
       "test:   0%|          | 0/10000 [00:00<?, ?it/s]"
      ]
     },
     "metadata": {},
     "output_type": "display_data"
    },
    {
     "name": "stdout",
     "output_type": "stream",
     "text": [
      "train: 0.7337 loss: 0.4434501055164961\n",
      "train val: 0.7465 loss: 0.42946581036727877\n",
      "test: 0.6634 loss: 0.5882063890874386\n",
      "epoch time: 65.18min\n",
      "removing /mnt/d/workspace/clotho/notebooks/checkpoints/stats_v-1_lg_8.json\n",
      "removing /mnt/d/workspace/clotho/notebooks/checkpoints/harness_v-1_lg_8.pkl\n",
      "best model: /mnt/d/workspace/clotho/notebooks/checkpoints/harness_v-1_lg_9.pkl\n",
      "best train: 0.7337\n",
      "best train val: 0.7465\n",
      "best test: 0.6634\n"
     ]
    },
    {
     "data": {
      "application/vnd.jupyter.widget-view+json": {
       "model_id": "6fc7d2d477424dd7b19d287651d5b7d9",
       "version_major": 2,
       "version_minor": 0
      },
      "text/plain": [
       "test val:   0%|          | 0/10000 [00:00<?, ?it/s]"
      ]
     },
     "metadata": {},
     "output_type": "display_data"
    },
    {
     "name": "stdout",
     "output_type": "stream",
     "text": [
      "built all_links_cache in 55.5743s (490724 links)\n",
      "test val: {'accuracy': 0.6605} loss: 0.58060964432545\n",
      "correct\n"
     ]
    },
    {
     "data": {
      "text/html": [
       "<div>\n",
       "<style scoped>\n",
       "    .dataframe tbody tr th:only-of-type {\n",
       "        vertical-align: middle;\n",
       "    }\n",
       "\n",
       "    .dataframe tbody tr th {\n",
       "        vertical-align: top;\n",
       "    }\n",
       "\n",
       "    .dataframe thead th {\n",
       "        text-align: right;\n",
       "    }\n",
       "</style>\n",
       "<table border=\"1\" class=\"dataframe\">\n",
       "  <thead>\n",
       "    <tr style=\"text-align: right;\">\n",
       "      <th></th>\n",
       "      <th>gen_name</th>\n",
       "      <th>parent_left</th>\n",
       "      <th>child_left</th>\n",
       "      <th>parent_right</th>\n",
       "      <th>child_right</th>\n",
       "      <th>score_left</th>\n",
       "      <th>score_right</th>\n",
       "      <th>correct_is_right</th>\n",
       "      <th>logit_left</th>\n",
       "      <th>logit_right</th>\n",
       "      <th>preds</th>\n",
       "      <th>truth</th>\n",
       "    </tr>\n",
       "  </thead>\n",
       "  <tbody>\n",
       "    <tr>\n",
       "      <th>1</th>\n",
       "      <td>*valid_weak--!copy;(st)</td>\n",
       "      <td>Not using 1-10, how attractive are you?</td>\n",
       "      <td>Let's just say my Facebook relationship status...</td>\n",
       "      <td>Let's just say my Facebook relationship status...</td>\n",
       "      <td>Not using 1-10, how attractive are you?</td>\n",
       "      <td>1</td>\n",
       "      <td>0</td>\n",
       "      <td>False</td>\n",
       "      <td>0.512990</td>\n",
       "      <td>0.487010</td>\n",
       "      <td>0</td>\n",
       "      <td>0</td>\n",
       "    </tr>\n",
       "    <tr>\n",
       "      <th>2</th>\n",
       "      <td>random--valid_weak;(st)</td>\n",
       "      <td>White Lotus</td>\n",
       "      <td>She Heard</td>\n",
       "      <td>Sewing. Sewing is awesome. I learned basic sew...</td>\n",
       "      <td>I started sewing to make a quilt out of a pile...</td>\n",
       "      <td>0</td>\n",
       "      <td>3</td>\n",
       "      <td>True</td>\n",
       "      <td>0.164651</td>\n",
       "      <td>0.835349</td>\n",
       "      <td>1</td>\n",
       "      <td>1</td>\n",
       "    </tr>\n",
       "    <tr>\n",
       "      <th>0</th>\n",
       "      <td>random--valid_weak;(st)</td>\n",
       "      <td>It's baffling. With as far as they bend over b...</td>\n",
       "      <td>My girlfriends Dad is 75. If he started doing ...</td>\n",
       "      <td>If you could rename America what would it be c...</td>\n",
       "      <td>Gods Country Giant Sowglobe Dunning Kruger Cou...</td>\n",
       "      <td>0</td>\n",
       "      <td>1</td>\n",
       "      <td>True</td>\n",
       "      <td>0.326580</td>\n",
       "      <td>0.673420</td>\n",
       "      <td>1</td>\n",
       "      <td>1</td>\n",
       "    </tr>\n",
       "    <tr>\n",
       "      <th>1</th>\n",
       "      <td>random--valid_weak;(st)</td>\n",
       "      <td>i was gonna say, he knocks it out of the park ...</td>\n",
       "      <td>when itv drugs you and ruins your life fuck th...</td>\n",
       "      <td>[Serious] How would you react if your partner ...</td>\n",
       "      <td>Immediate breakup.</td>\n",
       "      <td>0</td>\n",
       "      <td>1</td>\n",
       "      <td>True</td>\n",
       "      <td>0.173586</td>\n",
       "      <td>0.826414</td>\n",
       "      <td>1</td>\n",
       "      <td>1</td>\n",
       "    </tr>\n",
       "    <tr>\n",
       "      <th>2</th>\n",
       "      <td>!copy--valid_weak;(st)</td>\n",
       "      <td>plus all the bodies you can bury with no one n...</td>\n",
       "      <td>Landscape maintenance, particularly if the cli...</td>\n",
       "      <td>Landscape maintenance, particularly if the cli...</td>\n",
       "      <td>plus all the bodies you can bury with no one n...</td>\n",
       "      <td>0</td>\n",
       "      <td>6</td>\n",
       "      <td>True</td>\n",
       "      <td>0.415981</td>\n",
       "      <td>0.584019</td>\n",
       "      <td>1</td>\n",
       "      <td>1</td>\n",
       "    </tr>\n",
       "  </tbody>\n",
       "</table>\n",
       "</div>"
      ],
      "text/plain": [
       "                  gen_name                                        parent_left  \\\n",
       "1  *valid_weak--!copy;(st)            Not using 1-10, how attractive are you?   \n",
       "2  random--valid_weak;(st)                                        White Lotus   \n",
       "0  random--valid_weak;(st)  It's baffling. With as far as they bend over b...   \n",
       "1  random--valid_weak;(st)  i was gonna say, he knocks it out of the park ...   \n",
       "2   !copy--valid_weak;(st)  plus all the bodies you can bury with no one n...   \n",
       "\n",
       "                                          child_left  \\\n",
       "1  Let's just say my Facebook relationship status...   \n",
       "2                                          She Heard   \n",
       "0  My girlfriends Dad is 75. If he started doing ...   \n",
       "1  when itv drugs you and ruins your life fuck th...   \n",
       "2  Landscape maintenance, particularly if the cli...   \n",
       "\n",
       "                                        parent_right  \\\n",
       "1  Let's just say my Facebook relationship status...   \n",
       "2  Sewing. Sewing is awesome. I learned basic sew...   \n",
       "0  If you could rename America what would it be c...   \n",
       "1  [Serious] How would you react if your partner ...   \n",
       "2  Landscape maintenance, particularly if the cli...   \n",
       "\n",
       "                                         child_right  score_left  score_right  \\\n",
       "1            Not using 1-10, how attractive are you?           1            0   \n",
       "2  I started sewing to make a quilt out of a pile...           0            3   \n",
       "0  Gods Country Giant Sowglobe Dunning Kruger Cou...           0            1   \n",
       "1                                 Immediate breakup.           0            1   \n",
       "2  plus all the bodies you can bury with no one n...           0            6   \n",
       "\n",
       "   correct_is_right  logit_left  logit_right  preds  truth  \n",
       "1             False    0.512990     0.487010      0      0  \n",
       "2              True    0.164651     0.835349      1      1  \n",
       "0              True    0.326580     0.673420      1      1  \n",
       "1              True    0.173586     0.826414      1      1  \n",
       "2              True    0.415981     0.584019      1      1  "
      ]
     },
     "metadata": {},
     "output_type": "display_data"
    },
    {
     "name": "stdout",
     "output_type": "stream",
     "text": [
      "incorrect\n"
     ]
    },
    {
     "data": {
      "text/html": [
       "<div>\n",
       "<style scoped>\n",
       "    .dataframe tbody tr th:only-of-type {\n",
       "        vertical-align: middle;\n",
       "    }\n",
       "\n",
       "    .dataframe tbody tr th {\n",
       "        vertical-align: top;\n",
       "    }\n",
       "\n",
       "    .dataframe thead th {\n",
       "        text-align: right;\n",
       "    }\n",
       "</style>\n",
       "<table border=\"1\" class=\"dataframe\">\n",
       "  <thead>\n",
       "    <tr style=\"text-align: right;\">\n",
       "      <th></th>\n",
       "      <th>gen_name</th>\n",
       "      <th>parent_left</th>\n",
       "      <th>child_left</th>\n",
       "      <th>parent_right</th>\n",
       "      <th>child_right</th>\n",
       "      <th>score_left</th>\n",
       "      <th>score_right</th>\n",
       "      <th>correct_is_right</th>\n",
       "      <th>logit_left</th>\n",
       "      <th>logit_right</th>\n",
       "      <th>preds</th>\n",
       "      <th>truth</th>\n",
       "    </tr>\n",
       "  </thead>\n",
       "  <tbody>\n",
       "    <tr>\n",
       "      <th>0</th>\n",
       "      <td>!copy--valid_weak;(st)</td>\n",
       "      <td>Well, shit dude.</td>\n",
       "      <td>Everyone in my family is nagging me with the f...</td>\n",
       "      <td>Everyone in my family is nagging me with the f...</td>\n",
       "      <td>Well, shit dude.</td>\n",
       "      <td>0</td>\n",
       "      <td>1</td>\n",
       "      <td>True</td>\n",
       "      <td>0.507705</td>\n",
       "      <td>0.492295</td>\n",
       "      <td>0</td>\n",
       "      <td>1</td>\n",
       "    </tr>\n",
       "    <tr>\n",
       "      <th>3</th>\n",
       "      <td>random--valid_weak;(st)</td>\n",
       "      <td>I can’t stand the smell of truffle oil. Makes ...</td>\n",
       "      <td>my cat's name is Guy, just so I can go \"hey Gu...</td>\n",
       "      <td>Guys….what is a big turn off that girls still ...</td>\n",
       "      <td>Long manicured nails</td>\n",
       "      <td>0</td>\n",
       "      <td>5</td>\n",
       "      <td>True</td>\n",
       "      <td>0.777406</td>\n",
       "      <td>0.222594</td>\n",
       "      <td>0</td>\n",
       "      <td>1</td>\n",
       "    </tr>\n",
       "    <tr>\n",
       "      <th>3</th>\n",
       "      <td>random--valid_weak;(st)</td>\n",
       "      <td>Perfect Dark (N64)</td>\n",
       "      <td>Exactly. In the 1960s I had their album, \"[The...</td>\n",
       "      <td>Not using 1-10, how attractive are you?</td>\n",
       "      <td>I look like a dwarf from Middle Earth.</td>\n",
       "      <td>0</td>\n",
       "      <td>1</td>\n",
       "      <td>True</td>\n",
       "      <td>0.553754</td>\n",
       "      <td>0.446246</td>\n",
       "      <td>0</td>\n",
       "      <td>1</td>\n",
       "    </tr>\n",
       "    <tr>\n",
       "      <th>0</th>\n",
       "      <td>*valid_weak--random;(st)</td>\n",
       "      <td>&gt;Some day true 3D will be invented with true e...</td>\n",
       "      <td>It will also put strain on your eyes with exte...</td>\n",
       "      <td>Hard to find someone to suck it.</td>\n",
       "      <td>I'm with you 100% on Radiohead. All of their s...</td>\n",
       "      <td>8</td>\n",
       "      <td>0</td>\n",
       "      <td>False</td>\n",
       "      <td>0.499191</td>\n",
       "      <td>0.500809</td>\n",
       "      <td>1</td>\n",
       "      <td>0</td>\n",
       "    </tr>\n",
       "    <tr>\n",
       "      <th>2</th>\n",
       "      <td>*valid_weak--random;(st)</td>\n",
       "      <td>https://youtu.be/_BtemfoJ-WI</td>\n",
       "      <td>I looked it up, and this aired on November 18,...</td>\n",
       "      <td>I have phimosis, a condition that causes the f...</td>\n",
       "      <td>Elizabeth.</td>\n",
       "      <td>29</td>\n",
       "      <td>0</td>\n",
       "      <td>False</td>\n",
       "      <td>0.359041</td>\n",
       "      <td>0.640959</td>\n",
       "      <td>1</td>\n",
       "      <td>0</td>\n",
       "    </tr>\n",
       "  </tbody>\n",
       "</table>\n",
       "</div>"
      ],
      "text/plain": [
       "                   gen_name  \\\n",
       "0    !copy--valid_weak;(st)   \n",
       "3   random--valid_weak;(st)   \n",
       "3   random--valid_weak;(st)   \n",
       "0  *valid_weak--random;(st)   \n",
       "2  *valid_weak--random;(st)   \n",
       "\n",
       "                                         parent_left  \\\n",
       "0                                   Well, shit dude.   \n",
       "3  I can’t stand the smell of truffle oil. Makes ...   \n",
       "3                                 Perfect Dark (N64)   \n",
       "0  >Some day true 3D will be invented with true e...   \n",
       "2                       https://youtu.be/_BtemfoJ-WI   \n",
       "\n",
       "                                          child_left  \\\n",
       "0  Everyone in my family is nagging me with the f...   \n",
       "3  my cat's name is Guy, just so I can go \"hey Gu...   \n",
       "3  Exactly. In the 1960s I had their album, \"[The...   \n",
       "0  It will also put strain on your eyes with exte...   \n",
       "2  I looked it up, and this aired on November 18,...   \n",
       "\n",
       "                                        parent_right  \\\n",
       "0  Everyone in my family is nagging me with the f...   \n",
       "3  Guys….what is a big turn off that girls still ...   \n",
       "3            Not using 1-10, how attractive are you?   \n",
       "0                   Hard to find someone to suck it.   \n",
       "2  I have phimosis, a condition that causes the f...   \n",
       "\n",
       "                                         child_right  score_left  score_right  \\\n",
       "0                                   Well, shit dude.           0            1   \n",
       "3                               Long manicured nails           0            5   \n",
       "3             I look like a dwarf from Middle Earth.           0            1   \n",
       "0  I'm with you 100% on Radiohead. All of their s...           8            0   \n",
       "2                                         Elizabeth.          29            0   \n",
       "\n",
       "   correct_is_right  logit_left  logit_right  preds  truth  \n",
       "0              True    0.507705     0.492295      0      1  \n",
       "3              True    0.777406     0.222594      0      1  \n",
       "3              True    0.553754     0.446246      0      1  \n",
       "0             False    0.499191     0.500809      1      0  \n",
       "2             False    0.359041     0.640959      1      0  "
      ]
     },
     "metadata": {},
     "output_type": "display_data"
    },
    {
     "data": {
      "text/plain": [
       "array([[-0.4075959 , -0.23345944, -0.01180358, ..., -0.13939595,\n",
       "        -0.46553603,  0.27674976],\n",
       "       [-0.40026432, -0.36437356,  0.08238135, ..., -0.17898268,\n",
       "        -0.44860733,  0.29146346],\n",
       "       [-0.40285423, -0.31498367, -0.04670013, ..., -0.17055361,\n",
       "        -0.45247257,  0.20332722],\n",
       "       [-0.31170046, -0.16896212,  0.03891014, ..., -0.08258432,\n",
       "        -0.38792032,  0.34423688]], dtype=float32)"
      ]
     },
     "metadata": {},
     "output_type": "display_data"
    },
    {
     "data": {
      "text/plain": [
       "array([[-0.25116652, -0.11322735, -0.0171727 , ..., -0.15735826,\n",
       "        -0.45011294,  0.06978679],\n",
       "       [-0.23526254, -0.21574123,  0.15255773, ..., -0.05438564,\n",
       "        -0.5374919 ,  0.1958049 ],\n",
       "       [-0.07723356, -0.07845949, -0.01403654, ..., -0.12130187,\n",
       "        -0.62972665,  0.09238427],\n",
       "       [-0.15813515, -0.10327072, -0.07796466, ..., -0.16311797,\n",
       "        -0.5224762 ,  0.10273325]], dtype=float32)"
      ]
     },
     "metadata": {},
     "output_type": "display_data"
    },
    {
     "data": {
      "text/plain": [
       "array([[-0.30178326, -0.2575774 ,  0.14660217, ..., -0.11010267,\n",
       "        -0.41753078,  0.16140084],\n",
       "       [-0.1919019 , -0.25409386,  0.03395756, ..., -0.07522913,\n",
       "        -0.36944175,  0.03582776],\n",
       "       [-0.08521129, -0.17271289,  0.08078622, ..., -0.1041089 ,\n",
       "        -0.5652239 ,  0.07464703],\n",
       "       [-0.31895557, -0.20767581,  0.00998466, ...,  0.019191  ,\n",
       "        -0.51461667,  0.04821803]], dtype=float32)"
      ]
     },
     "metadata": {},
     "output_type": "display_data"
    },
    {
     "data": {
      "text/plain": [
       "array([[-0.1719338 , -0.11795855,  0.0028754 , ..., -0.10123236,\n",
       "        -0.5337324 ,  0.06788024],\n",
       "       [-0.4690594 , -0.24458438,  0.09008028, ..., -0.13521318,\n",
       "        -0.5391552 ,  0.12304395],\n",
       "       [-0.13802738, -0.04904838, -0.13969214, ..., -0.02065352,\n",
       "        -0.4758281 ,  0.0707789 ],\n",
       "       [-0.2747349 , -0.17201601,  0.01114252, ..., -0.00747248,\n",
       "        -0.37351632,  0.17928955]], dtype=float32)"
      ]
     },
     "metadata": {},
     "output_type": "display_data"
    },
    {
     "data": {
      "text/plain": [
       "array([[-0.26978067, -0.143043  ,  0.02720921, ..., -0.07855345,\n",
       "        -0.59046465,  0.07716998],\n",
       "       [-0.29788536, -0.2834143 ,  0.0706984 , ..., -0.05036949,\n",
       "        -0.4343482 ,  0.16797668],\n",
       "       [-0.45388058, -0.28734818,  0.02982843, ...,  0.02811077,\n",
       "        -0.3129618 ,  0.06455494],\n",
       "       [-0.3430821 , -0.14563894, -0.03826142, ..., -0.12800522,\n",
       "        -0.48046276,  0.16309486]], dtype=float32)"
      ]
     },
     "metadata": {},
     "output_type": "display_data"
    },
    {
     "data": {
      "text/plain": [
       "array([[-0.31996   , -0.18189602,  0.04552735, ..., -0.02894457,\n",
       "        -0.51777965,  0.10447377],\n",
       "       [-0.22432768, -0.26319695, -0.00541963, ..., -0.23549968,\n",
       "        -0.44711626,  0.14477317],\n",
       "       [-0.42644092, -0.31610385, -0.00110136, ..., -0.19524191,\n",
       "        -0.4225089 ,  0.16476563],\n",
       "       [-0.17943653, -0.04492769, -0.06243049, ..., -0.03048744,\n",
       "        -0.5084228 ,  0.09863101]], dtype=float32)"
      ]
     },
     "metadata": {},
     "output_type": "display_data"
    },
    {
     "data": {
      "text/plain": [
       "array([[-0.28534377, -0.25085065,  0.05657804, ..., -0.09019367,\n",
       "        -0.49878597,  0.07130849],\n",
       "       [-0.28549457, -0.15648247,  0.03173396, ..., -0.13362385,\n",
       "        -0.51019704,  0.17323522],\n",
       "       [-0.3285185 , -0.13108797,  0.00783163, ..., -0.06438348,\n",
       "        -0.5392172 ,  0.16921283],\n",
       "       [-0.2580646 , -0.25254366, -0.00509375, ..., -0.22343965,\n",
       "        -0.54704016, -0.12402717]], dtype=float32)"
      ]
     },
     "metadata": {},
     "output_type": "display_data"
    },
    {
     "data": {
      "text/plain": [
       "array([[-0.23507394, -0.2149986 ,  0.15219322, ..., -0.0545599 ,\n",
       "        -0.53707856,  0.19537094],\n",
       "       [-0.3740637 , -0.21756266,  0.08900664, ..., -0.04310518,\n",
       "        -0.4557495 ,  0.14327519],\n",
       "       [-0.24479079, -0.15962875,  0.00336285, ...,  0.02736009,\n",
       "        -0.5058877 ,  0.11675741],\n",
       "       [-0.29903898, -0.13651219,  0.00763706, ..., -0.07129624,\n",
       "        -0.46715093,  0.23860513]], dtype=float32)"
      ]
     },
     "metadata": {},
     "output_type": "display_data"
    },
    {
     "data": {
      "text/plain": [
       "array([[-0.24545267, -0.04849231, -0.02618548, ..., -0.04108666,\n",
       "        -0.45333636,  0.18225846],\n",
       "       [-0.18380015, -0.09204808,  0.12611233, ..., -0.1137217 ,\n",
       "        -0.5861045 ,  0.15950808],\n",
       "       [-0.3506324 , -0.3963967 ,  0.03940408, ..., -0.24258454,\n",
       "        -0.4424194 ,  0.33546925],\n",
       "       [-0.1995926 , -0.19216421, -0.01602685, ..., -0.10625524,\n",
       "        -0.505377  ,  0.12715074]], dtype=float32)"
      ]
     },
     "metadata": {},
     "output_type": "display_data"
    },
    {
     "data": {
      "text/plain": [
       "array([[-0.2836144 , -0.15677814, -0.09459592, ..., -0.06293986,\n",
       "        -0.49806505,  0.03525713],\n",
       "       [-0.1720153 , -0.04246559,  0.01070807, ..., -0.05250976,\n",
       "        -0.44890565,  0.1713177 ],\n",
       "       [-0.33019862, -0.19076915,  0.06658162, ..., -0.14227286,\n",
       "        -0.38891786,  0.30292824],\n",
       "       [-0.35658443, -0.40284097,  0.08302368, ..., -0.10343052,\n",
       "        -0.5820363 ,  0.24354072]], dtype=float32)"
      ]
     },
     "metadata": {},
     "output_type": "display_data"
    }
   ],
   "source": [
    "full_run(num_epochs=10, version=-1, force_restart=False)"
   ]
  },
  {
   "cell_type": "code",
   "execution_count": 17,
   "id": "de6e5294-644a-4ae7-8eff-06e8ec593037",
   "metadata": {
    "collapsed": true,
    "jupyter": {
     "outputs_hidden": true
    },
    "tags": []
   },
   "outputs": [
    {
     "name": "stderr",
     "output_type": "stream",
     "text": [
      "Some weights of the model checkpoint at distilbert-base-uncased were not used when initializing DistilBertModel: ['vocab_transform.bias', 'vocab_transform.weight', 'vocab_layer_norm.bias', 'vocab_layer_norm.weight', 'vocab_projector.bias', 'vocab_projector.weight']\n",
      "- This IS expected if you are initializing DistilBertModel from the checkpoint of a model trained on another task or with another architecture (e.g. initializing a BertForSequenceClassification model from a BertForPreTraining model).\n",
      "- This IS NOT expected if you are initializing DistilBertModel from the checkpoint of a model that you expect to be exactly identical (initializing a BertForSequenceClassification model from a BertForSequenceClassification model).\n",
      "Some weights of the model checkpoint at distilbert-base-uncased were not used when initializing DistilBertModel: ['vocab_transform.bias', 'vocab_transform.weight', 'vocab_layer_norm.bias', 'vocab_layer_norm.weight', 'vocab_projector.bias', 'vocab_projector.weight']\n",
      "- This IS expected if you are initializing DistilBertModel from the checkpoint of a model trained on another task or with another architecture (e.g. initializing a BertForSequenceClassification model from a BertForPreTraining model).\n",
      "- This IS NOT expected if you are initializing DistilBertModel from the checkpoint of a model that you expect to be exactly identical (initializing a BertForSequenceClassification model from a BertForSequenceClassification model).\n"
     ]
    },
    {
     "name": "stdout",
     "output_type": "stream",
     "text": [
      "None 0\n",
      "epoch 0 version: 7\n"
     ]
    },
    {
     "data": {
      "application/vnd.jupyter.widget-view+json": {
       "model_id": "196b613d7ac64920bdb6bcb5aed7beb8",
       "version_major": 2,
       "version_minor": 0
      },
      "text/plain": [
       "train:   0%|          | 0/20000 [00:00<?, ?it/s]"
      ]
     },
     "metadata": {},
     "output_type": "display_data"
    },
    {
     "data": {
      "application/vnd.jupyter.widget-view+json": {
       "model_id": "8fe8cf4ef765442db1c1aa7ff6df0a32",
       "version_major": 2,
       "version_minor": 0
      },
      "text/plain": [
       "train val:   0%|          | 0/10000 [00:00<?, ?it/s]"
      ]
     },
     "metadata": {},
     "output_type": "display_data"
    },
    {
     "data": {
      "application/vnd.jupyter.widget-view+json": {
       "model_id": "79b26fa6870a40158ae0710bb1b76241",
       "version_major": 2,
       "version_minor": 0
      },
      "text/plain": [
       "test:   0%|          | 0/10000 [00:00<?, ?it/s]"
      ]
     },
     "metadata": {},
     "output_type": "display_data"
    },
    {
     "name": "stdout",
     "output_type": "stream",
     "text": [
      "train: 0.55765 loss: 1.771445218581685\n",
      "train val: 0.5241 loss: 1.3986840008581056\n",
      "test: 0.5498 loss: 1.392096783080697\n",
      "epoch time: 11.83min\n",
      "best model: /mnt/d/workspace/clotho/notebooks/checkpoints/harness_v7_lg_0.pkl\n",
      "best train: 0.55765\n",
      "best train val: 0.5241\n",
      "best test: 0.5498\n",
      "epoch 1 version: 7\n"
     ]
    },
    {
     "data": {
      "application/vnd.jupyter.widget-view+json": {
       "model_id": "58f43a714478411aa1a67ee42a423e3d",
       "version_major": 2,
       "version_minor": 0
      },
      "text/plain": [
       "train:   0%|          | 0/20000 [00:00<?, ?it/s]"
      ]
     },
     "metadata": {},
     "output_type": "display_data"
    },
    {
     "data": {
      "application/vnd.jupyter.widget-view+json": {
       "model_id": "1d9cb40f81644ce3a71b51ca23b305b8",
       "version_major": 2,
       "version_minor": 0
      },
      "text/plain": [
       "train val:   0%|          | 0/10000 [00:00<?, ?it/s]"
      ]
     },
     "metadata": {},
     "output_type": "display_data"
    },
    {
     "data": {
      "application/vnd.jupyter.widget-view+json": {
       "model_id": "2b016cc9c33a457fb48d8d17544fce15",
       "version_major": 2,
       "version_minor": 0
      },
      "text/plain": [
       "test:   0%|          | 0/10000 [00:00<?, ?it/s]"
      ]
     },
     "metadata": {},
     "output_type": "display_data"
    },
    {
     "name": "stdout",
     "output_type": "stream",
     "text": [
      "train: 0.64955 loss: 0.7839478418106213\n",
      "train val: 0.7758 loss: 0.4246448068290949\n",
      "test: 0.6271 loss: 0.6692056165128947\n",
      "epoch time: 11.79min\n",
      "best model: /mnt/d/workspace/clotho/notebooks/checkpoints/harness_v7_lg_1.pkl\n",
      "best train: 0.64955\n",
      "best train val: 0.7758\n",
      "best test: 0.6271\n",
      "epoch 2 version: 7\n"
     ]
    },
    {
     "data": {
      "application/vnd.jupyter.widget-view+json": {
       "model_id": "184871f5fa0841748cdc336118472ce5",
       "version_major": 2,
       "version_minor": 0
      },
      "text/plain": [
       "train:   0%|          | 0/20000 [00:00<?, ?it/s]"
      ]
     },
     "metadata": {},
     "output_type": "display_data"
    },
    {
     "data": {
      "application/vnd.jupyter.widget-view+json": {
       "model_id": "07b81ca1148c47439a9a8daeffd521a9",
       "version_major": 2,
       "version_minor": 0
      },
      "text/plain": [
       "train val:   0%|          | 0/10000 [00:00<?, ?it/s]"
      ]
     },
     "metadata": {},
     "output_type": "display_data"
    },
    {
     "data": {
      "application/vnd.jupyter.widget-view+json": {
       "model_id": "2a902e49ec674a3baec8d084d7a68284",
       "version_major": 2,
       "version_minor": 0
      },
      "text/plain": [
       "test:   0%|          | 0/10000 [00:00<?, ?it/s]"
      ]
     },
     "metadata": {},
     "output_type": "display_data"
    },
    {
     "name": "stdout",
     "output_type": "stream",
     "text": [
      "train: 0.7292 loss: 0.5055544800042174\n",
      "train val: 0.7838 loss: 0.40588051176611334\n",
      "test: 0.617 loss: 0.6942275518923998\n",
      "epoch time: 10.92min\n",
      "best model: /mnt/d/workspace/clotho/notebooks/checkpoints/harness_v7_lg_2.pkl\n",
      "best train: 0.7292\n",
      "best train val: 0.7838\n",
      "best test: 0.617\n",
      "epoch 3 version: 7\n"
     ]
    },
    {
     "data": {
      "application/vnd.jupyter.widget-view+json": {
       "model_id": "3f6c4764578046d6b0ca99c755f1d34c",
       "version_major": 2,
       "version_minor": 0
      },
      "text/plain": [
       "train:   0%|          | 0/20000 [00:00<?, ?it/s]"
      ]
     },
     "metadata": {},
     "output_type": "display_data"
    },
    {
     "data": {
      "application/vnd.jupyter.widget-view+json": {
       "model_id": "a242e6aecdb5448a99c5ec9a0c78fa2c",
       "version_major": 2,
       "version_minor": 0
      },
      "text/plain": [
       "train val:   0%|          | 0/10000 [00:00<?, ?it/s]"
      ]
     },
     "metadata": {},
     "output_type": "display_data"
    },
    {
     "data": {
      "application/vnd.jupyter.widget-view+json": {
       "model_id": "dd2cb8f9a23d46f98451f86ad6ef084c",
       "version_major": 2,
       "version_minor": 0
      },
      "text/plain": [
       "test:   0%|          | 0/10000 [00:00<?, ?it/s]"
      ]
     },
     "metadata": {},
     "output_type": "display_data"
    },
    {
     "name": "stdout",
     "output_type": "stream",
     "text": [
      "train: 0.725 loss: 0.4964475937343232\n",
      "train val: 0.7985 loss: 0.37304775798972695\n",
      "test: 0.6332 loss: 0.6407570268601179\n",
      "epoch time: 11.39min\n",
      "best model: /mnt/d/workspace/clotho/notebooks/checkpoints/harness_v7_lg_3.pkl\n",
      "best train: 0.725\n",
      "best train val: 0.7985\n",
      "best test: 0.6332\n",
      "epoch 4 version: 7\n"
     ]
    },
    {
     "data": {
      "application/vnd.jupyter.widget-view+json": {
       "model_id": "37accf1beb2c4d36adc887f820fc7d80",
       "version_major": 2,
       "version_minor": 0
      },
      "text/plain": [
       "train:   0%|          | 0/20000 [00:00<?, ?it/s]"
      ]
     },
     "metadata": {},
     "output_type": "display_data"
    },
    {
     "data": {
      "application/vnd.jupyter.widget-view+json": {
       "model_id": "db2eced623484fecbf5c374ab032d6a8",
       "version_major": 2,
       "version_minor": 0
      },
      "text/plain": [
       "train val:   0%|          | 0/10000 [00:00<?, ?it/s]"
      ]
     },
     "metadata": {},
     "output_type": "display_data"
    },
    {
     "data": {
      "application/vnd.jupyter.widget-view+json": {
       "model_id": "6204392774754176a2e6c87f4e0fe1c3",
       "version_major": 2,
       "version_minor": 0
      },
      "text/plain": [
       "test:   0%|          | 0/10000 [00:00<?, ?it/s]"
      ]
     },
     "metadata": {},
     "output_type": "display_data"
    },
    {
     "name": "stdout",
     "output_type": "stream",
     "text": [
      "train: 0.7179 loss: 0.4938161885912676\n",
      "train val: 0.7973 loss: 0.3871563240034138\n",
      "test: 0.6904 loss: 0.6026701218098403\n",
      "epoch time: 11.30min\n",
      "best model: /mnt/d/workspace/clotho/notebooks/checkpoints/harness_v7_lg_3.pkl\n",
      "best train: 0.725\n",
      "best train val: 0.7985\n",
      "best test: 0.6332\n",
      "epoch 5 version: 7\n"
     ]
    },
    {
     "data": {
      "application/vnd.jupyter.widget-view+json": {
       "model_id": "947decf27886450c8acd43a3d81991d7",
       "version_major": 2,
       "version_minor": 0
      },
      "text/plain": [
       "train:   0%|          | 0/20000 [00:00<?, ?it/s]"
      ]
     },
     "metadata": {},
     "output_type": "display_data"
    },
    {
     "data": {
      "application/vnd.jupyter.widget-view+json": {
       "model_id": "dc0bc40df0d64f128f144013dc49340d",
       "version_major": 2,
       "version_minor": 0
      },
      "text/plain": [
       "train val:   0%|          | 0/10000 [00:00<?, ?it/s]"
      ]
     },
     "metadata": {},
     "output_type": "display_data"
    },
    {
     "data": {
      "application/vnd.jupyter.widget-view+json": {
       "model_id": "f35e701757ce40299a3f6f2a8d9c7736",
       "version_major": 2,
       "version_minor": 0
      },
      "text/plain": [
       "test:   0%|          | 0/10000 [00:00<?, ?it/s]"
      ]
     },
     "metadata": {},
     "output_type": "display_data"
    },
    {
     "name": "stdout",
     "output_type": "stream",
     "text": [
      "train: 0.71755 loss: 0.4903852278494396\n",
      "train val: 0.7955 loss: 0.38077526197479183\n",
      "test: 0.7035 loss: 0.5905006343238056\n",
      "epoch time: 11.42min\n",
      "best model: /mnt/d/workspace/clotho/notebooks/checkpoints/harness_v7_lg_3.pkl\n",
      "best train: 0.725\n",
      "best train val: 0.7985\n",
      "best test: 0.6332\n",
      "epoch 6 version: 7\n"
     ]
    },
    {
     "data": {
      "application/vnd.jupyter.widget-view+json": {
       "model_id": "41c6a9bbe0a94720bfea2f68ec80d3b0",
       "version_major": 2,
       "version_minor": 0
      },
      "text/plain": [
       "train:   0%|          | 0/20000 [00:00<?, ?it/s]"
      ]
     },
     "metadata": {},
     "output_type": "display_data"
    },
    {
     "data": {
      "application/vnd.jupyter.widget-view+json": {
       "model_id": "c812ee29663c480d957d167d74aa8d88",
       "version_major": 2,
       "version_minor": 0
      },
      "text/plain": [
       "train val:   0%|          | 0/10000 [00:00<?, ?it/s]"
      ]
     },
     "metadata": {},
     "output_type": "display_data"
    },
    {
     "data": {
      "application/vnd.jupyter.widget-view+json": {
       "model_id": "83a3c28483644b399c44d41fe01a57c1",
       "version_major": 2,
       "version_minor": 0
      },
      "text/plain": [
       "test:   0%|          | 0/10000 [00:00<?, ?it/s]"
      ]
     },
     "metadata": {},
     "output_type": "display_data"
    },
    {
     "name": "stdout",
     "output_type": "stream",
     "text": [
      "train: 0.7263 loss: 0.4845443436950911\n",
      "train val: 0.7999 loss: 0.36647338193419854\n",
      "test: 0.6637 loss: 0.6254245568983257\n",
      "epoch time: 11.62min\n",
      "removing /mnt/d/workspace/clotho/notebooks/checkpoints/stats_v7_lg_0.json\n",
      "removing /mnt/d/workspace/clotho/notebooks/checkpoints/harness_v7_lg_0.pkl\n",
      "best model: /mnt/d/workspace/clotho/notebooks/checkpoints/harness_v7_lg_6.pkl\n",
      "best train: 0.7263\n",
      "best train val: 0.7999\n",
      "best test: 0.6637\n",
      "epoch 7 version: 7\n"
     ]
    },
    {
     "data": {
      "application/vnd.jupyter.widget-view+json": {
       "model_id": "16b8a790db114e02b3dfd3bdc8ad9664",
       "version_major": 2,
       "version_minor": 0
      },
      "text/plain": [
       "train:   0%|          | 0/20000 [00:00<?, ?it/s]"
      ]
     },
     "metadata": {},
     "output_type": "display_data"
    },
    {
     "data": {
      "application/vnd.jupyter.widget-view+json": {
       "model_id": "23b36b001dd44247bb909976ecb6133c",
       "version_major": 2,
       "version_minor": 0
      },
      "text/plain": [
       "train val:   0%|          | 0/10000 [00:00<?, ?it/s]"
      ]
     },
     "metadata": {},
     "output_type": "display_data"
    },
    {
     "data": {
      "application/vnd.jupyter.widget-view+json": {
       "model_id": "523b2b88b9214f0696bb88236b2c3f96",
       "version_major": 2,
       "version_minor": 0
      },
      "text/plain": [
       "test:   0%|          | 0/10000 [00:00<?, ?it/s]"
      ]
     },
     "metadata": {},
     "output_type": "display_data"
    },
    {
     "name": "stdout",
     "output_type": "stream",
     "text": [
      "train: 0.73705 loss: 1.3257296836888475\n",
      "train val: 0.8095 loss: 0.3496959325480275\n",
      "test: 0.681 loss: 0.593804488146305\n",
      "epoch time: 12.00min\n",
      "removing /mnt/d/workspace/clotho/notebooks/checkpoints/stats_v7_lg_1.json\n",
      "removing /mnt/d/workspace/clotho/notebooks/checkpoints/harness_v7_lg_1.pkl\n",
      "best model: /mnt/d/workspace/clotho/notebooks/checkpoints/harness_v7_lg_7.pkl\n",
      "best train: 0.73705\n",
      "best train val: 0.8095\n",
      "best test: 0.681\n",
      "epoch 8 version: 7\n"
     ]
    },
    {
     "data": {
      "application/vnd.jupyter.widget-view+json": {
       "model_id": "fabe55c8782843449db9cc8b066744d5",
       "version_major": 2,
       "version_minor": 0
      },
      "text/plain": [
       "train:   0%|          | 0/20000 [00:00<?, ?it/s]"
      ]
     },
     "metadata": {},
     "output_type": "display_data"
    },
    {
     "data": {
      "application/vnd.jupyter.widget-view+json": {
       "model_id": "972e30778b2e4521ad85f160d9aa8f1c",
       "version_major": 2,
       "version_minor": 0
      },
      "text/plain": [
       "train val:   0%|          | 0/10000 [00:00<?, ?it/s]"
      ]
     },
     "metadata": {},
     "output_type": "display_data"
    },
    {
     "data": {
      "application/vnd.jupyter.widget-view+json": {
       "model_id": "1cc591953c374ef38db78cbb1e226fe1",
       "version_major": 2,
       "version_minor": 0
      },
      "text/plain": [
       "test:   0%|          | 0/10000 [00:00<?, ?it/s]"
      ]
     },
     "metadata": {},
     "output_type": "display_data"
    },
    {
     "name": "stdout",
     "output_type": "stream",
     "text": [
      "train: 0.74795 loss: 0.4585620377162195\n",
      "train val: 0.8088 loss: 0.3536169365056325\n",
      "test: 0.6462 loss: 0.6406729422658682\n",
      "epoch time: 11.92min\n",
      "removing /mnt/d/workspace/clotho/notebooks/checkpoints/stats_v7_lg_2.json\n",
      "removing /mnt/d/workspace/clotho/notebooks/checkpoints/harness_v7_lg_2.pkl\n",
      "best model: /mnt/d/workspace/clotho/notebooks/checkpoints/harness_v7_lg_7.pkl\n",
      "best train: 0.73705\n",
      "best train val: 0.8095\n",
      "best test: 0.681\n",
      "epoch 9 version: 7\n"
     ]
    },
    {
     "data": {
      "application/vnd.jupyter.widget-view+json": {
       "model_id": "c11fccdfcd314050ba6f18913d318921",
       "version_major": 2,
       "version_minor": 0
      },
      "text/plain": [
       "train:   0%|          | 0/20000 [00:00<?, ?it/s]"
      ]
     },
     "metadata": {},
     "output_type": "display_data"
    },
    {
     "data": {
      "application/vnd.jupyter.widget-view+json": {
       "model_id": "77a3ca8c80ab4237bc5583261cde24d6",
       "version_major": 2,
       "version_minor": 0
      },
      "text/plain": [
       "train val:   0%|          | 0/10000 [00:00<?, ?it/s]"
      ]
     },
     "metadata": {},
     "output_type": "display_data"
    },
    {
     "data": {
      "application/vnd.jupyter.widget-view+json": {
       "model_id": "2003ba8f665c42e3b9514f87867466f7",
       "version_major": 2,
       "version_minor": 0
      },
      "text/plain": [
       "test:   0%|          | 0/10000 [00:00<?, ?it/s]"
      ]
     },
     "metadata": {},
     "output_type": "display_data"
    },
    {
     "name": "stdout",
     "output_type": "stream",
     "text": [
      "train: 0.75795 loss: 0.45012366322113084\n",
      "train val: 0.8215 loss: 0.35322229031957686\n",
      "test: 0.6365 loss: 0.6375003811359405\n",
      "epoch time: 11.38min\n",
      "removing /mnt/d/workspace/clotho/notebooks/checkpoints/stats_v7_lg_5.json\n",
      "removing /mnt/d/workspace/clotho/notebooks/checkpoints/harness_v7_lg_5.pkl\n",
      "best model: /mnt/d/workspace/clotho/notebooks/checkpoints/harness_v7_lg_9.pkl\n",
      "best train: 0.75795\n",
      "best train val: 0.8215\n",
      "best test: 0.6365\n"
     ]
    },
    {
     "data": {
      "application/vnd.jupyter.widget-view+json": {
       "model_id": "82eda8bef4034f329f396888b6eaf2cc",
       "version_major": 2,
       "version_minor": 0
      },
      "text/plain": [
       "test val:   0%|          | 0/10000 [00:00<?, ?it/s]"
      ]
     },
     "metadata": {},
     "output_type": "display_data"
    },
    {
     "name": "stdout",
     "output_type": "stream",
     "text": [
      "test val: {'accuracy': 0.6332} loss: 0.6423513069570065\n",
      "correct\n"
     ]
    },
    {
     "data": {
      "text/html": [
       "<div>\n",
       "<style scoped>\n",
       "    .dataframe tbody tr th:only-of-type {\n",
       "        vertical-align: middle;\n",
       "    }\n",
       "\n",
       "    .dataframe tbody tr th {\n",
       "        vertical-align: top;\n",
       "    }\n",
       "\n",
       "    .dataframe thead th {\n",
       "        text-align: right;\n",
       "    }\n",
       "</style>\n",
       "<table border=\"1\" class=\"dataframe\">\n",
       "  <thead>\n",
       "    <tr style=\"text-align: right;\">\n",
       "      <th></th>\n",
       "      <th>gen_name</th>\n",
       "      <th>parent_left</th>\n",
       "      <th>child_left</th>\n",
       "      <th>parent_right</th>\n",
       "      <th>child_right</th>\n",
       "      <th>score_left</th>\n",
       "      <th>score_right</th>\n",
       "      <th>correct_is_right</th>\n",
       "      <th>logit_left</th>\n",
       "      <th>logit_right</th>\n",
       "      <th>preds</th>\n",
       "      <th>truth</th>\n",
       "    </tr>\n",
       "  </thead>\n",
       "  <tbody>\n",
       "    <tr>\n",
       "      <th>0</th>\n",
       "      <td>!copy--valid_weak;(st)</td>\n",
       "      <td>Well, shit dude.</td>\n",
       "      <td>Everyone in my family is nagging me with the f...</td>\n",
       "      <td>Everyone in my family is nagging me with the f...</td>\n",
       "      <td>Well, shit dude.</td>\n",
       "      <td>0</td>\n",
       "      <td>1</td>\n",
       "      <td>True</td>\n",
       "      <td>0.065224</td>\n",
       "      <td>0.934776</td>\n",
       "      <td>1</td>\n",
       "      <td>1</td>\n",
       "    </tr>\n",
       "    <tr>\n",
       "      <th>1</th>\n",
       "      <td>*valid_weak--!copy;(st)</td>\n",
       "      <td>Not using 1-10, how attractive are you?</td>\n",
       "      <td>Let's just say my Facebook relationship status...</td>\n",
       "      <td>Let's just say my Facebook relationship status...</td>\n",
       "      <td>Not using 1-10, how attractive are you?</td>\n",
       "      <td>1</td>\n",
       "      <td>0</td>\n",
       "      <td>False</td>\n",
       "      <td>0.579508</td>\n",
       "      <td>0.420492</td>\n",
       "      <td>0</td>\n",
       "      <td>0</td>\n",
       "    </tr>\n",
       "    <tr>\n",
       "      <th>3</th>\n",
       "      <td>random--valid_weak;(st)</td>\n",
       "      <td>I can’t stand the smell of truffle oil. Makes ...</td>\n",
       "      <td>my cat's name is Guy, just so I can go \"hey Gu...</td>\n",
       "      <td>Guys….what is a big turn off that girls still ...</td>\n",
       "      <td>Long manicured nails</td>\n",
       "      <td>0</td>\n",
       "      <td>5</td>\n",
       "      <td>True</td>\n",
       "      <td>0.471581</td>\n",
       "      <td>0.528419</td>\n",
       "      <td>1</td>\n",
       "      <td>1</td>\n",
       "    </tr>\n",
       "    <tr>\n",
       "      <th>0</th>\n",
       "      <td>*valid_weak--random;(st)</td>\n",
       "      <td>&gt;Some day true 3D will be invented with true e...</td>\n",
       "      <td>It will also put strain on your eyes with exte...</td>\n",
       "      <td>Hard to find someone to suck it.</td>\n",
       "      <td>I'm with you 100% on Radiohead. All of their s...</td>\n",
       "      <td>8</td>\n",
       "      <td>0</td>\n",
       "      <td>False</td>\n",
       "      <td>0.596911</td>\n",
       "      <td>0.403089</td>\n",
       "      <td>0</td>\n",
       "      <td>0</td>\n",
       "    </tr>\n",
       "    <tr>\n",
       "      <th>1</th>\n",
       "      <td>*valid_weak--!copy;(st)</td>\n",
       "      <td>How do men feel about the \"men will fuck anyth...</td>\n",
       "      <td>I can't imagine what you expected when you pos...</td>\n",
       "      <td>I can't imagine what you expected when you pos...</td>\n",
       "      <td>How do men feel about the \"men will fuck anyth...</td>\n",
       "      <td>1</td>\n",
       "      <td>0</td>\n",
       "      <td>False</td>\n",
       "      <td>0.789971</td>\n",
       "      <td>0.210029</td>\n",
       "      <td>0</td>\n",
       "      <td>0</td>\n",
       "    </tr>\n",
       "  </tbody>\n",
       "</table>\n",
       "</div>"
      ],
      "text/plain": [
       "                   gen_name  \\\n",
       "0    !copy--valid_weak;(st)   \n",
       "1   *valid_weak--!copy;(st)   \n",
       "3   random--valid_weak;(st)   \n",
       "0  *valid_weak--random;(st)   \n",
       "1   *valid_weak--!copy;(st)   \n",
       "\n",
       "                                         parent_left  \\\n",
       "0                                   Well, shit dude.   \n",
       "1            Not using 1-10, how attractive are you?   \n",
       "3  I can’t stand the smell of truffle oil. Makes ...   \n",
       "0  >Some day true 3D will be invented with true e...   \n",
       "1  How do men feel about the \"men will fuck anyth...   \n",
       "\n",
       "                                          child_left  \\\n",
       "0  Everyone in my family is nagging me with the f...   \n",
       "1  Let's just say my Facebook relationship status...   \n",
       "3  my cat's name is Guy, just so I can go \"hey Gu...   \n",
       "0  It will also put strain on your eyes with exte...   \n",
       "1  I can't imagine what you expected when you pos...   \n",
       "\n",
       "                                        parent_right  \\\n",
       "0  Everyone in my family is nagging me with the f...   \n",
       "1  Let's just say my Facebook relationship status...   \n",
       "3  Guys….what is a big turn off that girls still ...   \n",
       "0                   Hard to find someone to suck it.   \n",
       "1  I can't imagine what you expected when you pos...   \n",
       "\n",
       "                                         child_right  score_left  score_right  \\\n",
       "0                                   Well, shit dude.           0            1   \n",
       "1            Not using 1-10, how attractive are you?           1            0   \n",
       "3                               Long manicured nails           0            5   \n",
       "0  I'm with you 100% on Radiohead. All of their s...           8            0   \n",
       "1  How do men feel about the \"men will fuck anyth...           1            0   \n",
       "\n",
       "   correct_is_right  logit_left  logit_right  preds  truth  \n",
       "0              True    0.065224     0.934776      1      1  \n",
       "1             False    0.579508     0.420492      0      0  \n",
       "3              True    0.471581     0.528419      1      1  \n",
       "0             False    0.596911     0.403089      0      0  \n",
       "1             False    0.789971     0.210029      0      0  "
      ]
     },
     "metadata": {},
     "output_type": "display_data"
    },
    {
     "name": "stdout",
     "output_type": "stream",
     "text": [
      "incorrect\n"
     ]
    },
    {
     "data": {
      "text/html": [
       "<div>\n",
       "<style scoped>\n",
       "    .dataframe tbody tr th:only-of-type {\n",
       "        vertical-align: middle;\n",
       "    }\n",
       "\n",
       "    .dataframe tbody tr th {\n",
       "        vertical-align: top;\n",
       "    }\n",
       "\n",
       "    .dataframe thead th {\n",
       "        text-align: right;\n",
       "    }\n",
       "</style>\n",
       "<table border=\"1\" class=\"dataframe\">\n",
       "  <thead>\n",
       "    <tr style=\"text-align: right;\">\n",
       "      <th></th>\n",
       "      <th>gen_name</th>\n",
       "      <th>parent_left</th>\n",
       "      <th>child_left</th>\n",
       "      <th>parent_right</th>\n",
       "      <th>child_right</th>\n",
       "      <th>score_left</th>\n",
       "      <th>score_right</th>\n",
       "      <th>correct_is_right</th>\n",
       "      <th>logit_left</th>\n",
       "      <th>logit_right</th>\n",
       "      <th>preds</th>\n",
       "      <th>truth</th>\n",
       "    </tr>\n",
       "  </thead>\n",
       "  <tbody>\n",
       "    <tr>\n",
       "      <th>2</th>\n",
       "      <td>random--valid_weak;(st)</td>\n",
       "      <td>White Lotus</td>\n",
       "      <td>She Heard</td>\n",
       "      <td>Sewing. Sewing is awesome. I learned basic sew...</td>\n",
       "      <td>I started sewing to make a quilt out of a pile...</td>\n",
       "      <td>0</td>\n",
       "      <td>3</td>\n",
       "      <td>True</td>\n",
       "      <td>0.502270</td>\n",
       "      <td>0.497730</td>\n",
       "      <td>0</td>\n",
       "      <td>1</td>\n",
       "    </tr>\n",
       "    <tr>\n",
       "      <th>0</th>\n",
       "      <td>random--valid_weak;(st)</td>\n",
       "      <td>It's baffling. With as far as they bend over b...</td>\n",
       "      <td>My girlfriends Dad is 75. If he started doing ...</td>\n",
       "      <td>If you could rename America what would it be c...</td>\n",
       "      <td>Gods Country Giant Sowglobe Dunning Kruger Cou...</td>\n",
       "      <td>0</td>\n",
       "      <td>1</td>\n",
       "      <td>True</td>\n",
       "      <td>0.519689</td>\n",
       "      <td>0.480311</td>\n",
       "      <td>0</td>\n",
       "      <td>1</td>\n",
       "    </tr>\n",
       "    <tr>\n",
       "      <th>1</th>\n",
       "      <td>random--valid_weak;(st)</td>\n",
       "      <td>i was gonna say, he knocks it out of the park ...</td>\n",
       "      <td>when itv drugs you and ruins your life fuck th...</td>\n",
       "      <td>[Serious] How would you react if your partner ...</td>\n",
       "      <td>Immediate breakup.</td>\n",
       "      <td>0</td>\n",
       "      <td>1</td>\n",
       "      <td>True</td>\n",
       "      <td>0.522476</td>\n",
       "      <td>0.477524</td>\n",
       "      <td>0</td>\n",
       "      <td>1</td>\n",
       "    </tr>\n",
       "    <tr>\n",
       "      <th>2</th>\n",
       "      <td>!copy--valid_weak;(st)</td>\n",
       "      <td>plus all the bodies you can bury with no one n...</td>\n",
       "      <td>Landscape maintenance, particularly if the cli...</td>\n",
       "      <td>Landscape maintenance, particularly if the cli...</td>\n",
       "      <td>plus all the bodies you can bury with no one n...</td>\n",
       "      <td>0</td>\n",
       "      <td>6</td>\n",
       "      <td>True</td>\n",
       "      <td>0.515620</td>\n",
       "      <td>0.484380</td>\n",
       "      <td>0</td>\n",
       "      <td>1</td>\n",
       "    </tr>\n",
       "    <tr>\n",
       "      <th>3</th>\n",
       "      <td>random--valid_weak;(st)</td>\n",
       "      <td>Perfect Dark (N64)</td>\n",
       "      <td>Exactly. In the 1960s I had their album, \"[The...</td>\n",
       "      <td>Not using 1-10, how attractive are you?</td>\n",
       "      <td>I look like a dwarf from Middle Earth.</td>\n",
       "      <td>0</td>\n",
       "      <td>1</td>\n",
       "      <td>True</td>\n",
       "      <td>0.566892</td>\n",
       "      <td>0.433108</td>\n",
       "      <td>0</td>\n",
       "      <td>1</td>\n",
       "    </tr>\n",
       "  </tbody>\n",
       "</table>\n",
       "</div>"
      ],
      "text/plain": [
       "                  gen_name                                        parent_left  \\\n",
       "2  random--valid_weak;(st)                                        White Lotus   \n",
       "0  random--valid_weak;(st)  It's baffling. With as far as they bend over b...   \n",
       "1  random--valid_weak;(st)  i was gonna say, he knocks it out of the park ...   \n",
       "2   !copy--valid_weak;(st)  plus all the bodies you can bury with no one n...   \n",
       "3  random--valid_weak;(st)                                 Perfect Dark (N64)   \n",
       "\n",
       "                                          child_left  \\\n",
       "2                                          She Heard   \n",
       "0  My girlfriends Dad is 75. If he started doing ...   \n",
       "1  when itv drugs you and ruins your life fuck th...   \n",
       "2  Landscape maintenance, particularly if the cli...   \n",
       "3  Exactly. In the 1960s I had their album, \"[The...   \n",
       "\n",
       "                                        parent_right  \\\n",
       "2  Sewing. Sewing is awesome. I learned basic sew...   \n",
       "0  If you could rename America what would it be c...   \n",
       "1  [Serious] How would you react if your partner ...   \n",
       "2  Landscape maintenance, particularly if the cli...   \n",
       "3            Not using 1-10, how attractive are you?   \n",
       "\n",
       "                                         child_right  score_left  score_right  \\\n",
       "2  I started sewing to make a quilt out of a pile...           0            3   \n",
       "0  Gods Country Giant Sowglobe Dunning Kruger Cou...           0            1   \n",
       "1                                 Immediate breakup.           0            1   \n",
       "2  plus all the bodies you can bury with no one n...           0            6   \n",
       "3             I look like a dwarf from Middle Earth.           0            1   \n",
       "\n",
       "   correct_is_right  logit_left  logit_right  preds  truth  \n",
       "2              True    0.502270     0.497730      0      1  \n",
       "0              True    0.519689     0.480311      0      1  \n",
       "1              True    0.522476     0.477524      0      1  \n",
       "2              True    0.515620     0.484380      0      1  \n",
       "3              True    0.566892     0.433108      0      1  "
      ]
     },
     "metadata": {},
     "output_type": "display_data"
    },
    {
     "data": {
      "text/plain": [
       "array([[ 0.1536293 , -0.01627917,  0.33200935, ..., -0.26263905,\n",
       "        -0.40982357, -0.39172256],\n",
       "       [ 0.15270957, -0.01650224,  0.33277738, ..., -0.2626633 ,\n",
       "        -0.4092269 , -0.39097872],\n",
       "       [ 0.15383445, -0.0162029 ,  0.33138683, ..., -0.26241046,\n",
       "        -0.41048986, -0.39137837],\n",
       "       [ 0.15376762, -0.01651771,  0.33210543, ..., -0.2627422 ,\n",
       "        -0.4097767 , -0.39189672]], dtype=float32)"
      ]
     },
     "metadata": {},
     "output_type": "display_data"
    },
    {
     "data": {
      "text/plain": [
       "array([[ 0.15394072, -0.01604402,  0.33103833, ..., -0.26232317,\n",
       "        -0.41086176, -0.39122036],\n",
       "       [ 0.15359023, -0.01625383,  0.3316733 , ..., -0.26248133,\n",
       "        -0.41022038, -0.39125267],\n",
       "       [ 0.15376765, -0.01620757,  0.33168826, ..., -0.26253498,\n",
       "        -0.41012552, -0.39156392],\n",
       "       [ 0.15373808, -0.01663327,  0.3321537 , ..., -0.26282707,\n",
       "        -0.40967998, -0.39188904]], dtype=float32)"
      ]
     },
     "metadata": {},
     "output_type": "display_data"
    },
    {
     "data": {
      "text/plain": [
       "array([[ 0.15225957, -0.01657777,  0.33332852, ..., -0.26274663,\n",
       "        -0.4086714 , -0.3908833 ],\n",
       "       [ 0.15222855, -0.01660276,  0.3333929 , ..., -0.26277068,\n",
       "        -0.40860918, -0.39089873],\n",
       "       [ 0.15387514, -0.0162255 ,  0.3314189 , ..., -0.26243326,\n",
       "        -0.4104503 , -0.39142293],\n",
       "       [ 0.15394862, -0.0158391 ,  0.33080706, ..., -0.262265  ,\n",
       "        -0.4111256 , -0.39107037]], dtype=float32)"
      ]
     },
     "metadata": {},
     "output_type": "display_data"
    },
    {
     "data": {
      "text/plain": [
       "array([[ 0.151401  , -0.01694223,  0.33462334, ..., -0.2630473 ,\n",
       "        -0.40736926, -0.3908731 ],\n",
       "       [ 0.15401573, -0.01617648,  0.33116737, ..., -0.26240104,\n",
       "        -0.41079232, -0.39131725],\n",
       "       [ 0.15373312, -0.01611559,  0.3315651 , ..., -0.26245826,\n",
       "        -0.41028216, -0.3913979 ],\n",
       "       [ 0.15076315, -0.01727567,  0.3357157 , ..., -0.26331282,\n",
       "        -0.406256  , -0.3908848 ]], dtype=float32)"
      ]
     },
     "metadata": {},
     "output_type": "display_data"
    },
    {
     "data": {
      "text/plain": [
       "array([[ 0.15381828, -0.01607529,  0.3313371 , ..., -0.26237434,\n",
       "        -0.41054562, -0.3912708 ],\n",
       "       [ 0.15345505, -0.01628411,  0.33187753, ..., -0.26254123,\n",
       "        -0.41003788, -0.39123595],\n",
       "       [ 0.15370756, -0.01613318,  0.3314827 , ..., -0.26247942,\n",
       "        -0.4103875 , -0.39131242],\n",
       "       [ 0.15413721, -0.01610424,  0.33090445, ..., -0.26227197,\n",
       "        -0.41107264, -0.39122495]], dtype=float32)"
      ]
     },
     "metadata": {},
     "output_type": "display_data"
    },
    {
     "data": {
      "text/plain": [
       "array([[ 0.15317209, -0.01637083,  0.3324464 , ..., -0.26272395,\n",
       "        -0.4094483 , -0.39147052],\n",
       "       [ 0.15112469, -0.01707165,  0.33510372, ..., -0.26316535,\n",
       "        -0.40688244, -0.39087895],\n",
       "       [ 0.15414964, -0.01612075,  0.3308985 , ..., -0.26227653,\n",
       "        -0.41103074, -0.39128587],\n",
       "       [ 0.15379551, -0.01631948,  0.33170503, ..., -0.26253867,\n",
       "        -0.4101446 , -0.3915898 ]], dtype=float32)"
      ]
     },
     "metadata": {},
     "output_type": "display_data"
    },
    {
     "data": {
      "text/plain": [
       "array([[ 0.15259278, -0.01645915,  0.33284116, ..., -0.262647  ,\n",
       "        -0.40916398, -0.39093488],\n",
       "       [ 0.15410806, -0.01619131,  0.33105955, ..., -0.2622943 ,\n",
       "        -0.41087475, -0.3913051 ],\n",
       "       [ 0.15378176, -0.01658783,  0.3319818 , ..., -0.26271415,\n",
       "        -0.40984014, -0.39181912],\n",
       "       [ 0.15387282, -0.01604198,  0.33126932, ..., -0.2623554 ,\n",
       "        -0.41060454, -0.3912958 ]], dtype=float32)"
      ]
     },
     "metadata": {},
     "output_type": "display_data"
    },
    {
     "data": {
      "text/plain": [
       "array([[ 0.15358977, -0.01625163,  0.33167383, ..., -0.26248142,\n",
       "        -0.41021925, -0.39125365],\n",
       "       [ 0.1538627 , -0.01621407,  0.331552  , ..., -0.2625309 ,\n",
       "        -0.4102168 , -0.39165995],\n",
       "       [ 0.15382624, -0.01627597,  0.33154655, ..., -0.26249218,\n",
       "        -0.41029543, -0.39150324],\n",
       "       [ 0.15382366, -0.01648651,  0.3317377 , ..., -0.26261643,\n",
       "        -0.41005772, -0.3917225 ]], dtype=float32)"
      ]
     },
     "metadata": {},
     "output_type": "display_data"
    },
    {
     "data": {
      "text/plain": [
       "array([[ 0.15360354, -0.01634669,  0.331905  , ..., -0.2626833 ,\n",
       "        -0.40991956, -0.39157563],\n",
       "       [ 0.15343067, -0.01616175,  0.3318389 , ..., -0.26247603,\n",
       "        -0.41006944, -0.39119908],\n",
       "       [ 0.15363127, -0.01622319,  0.33185542, ..., -0.26258898,\n",
       "        -0.41001844, -0.391536  ],\n",
       "       [ 0.1542004 , -0.01581695,  0.33049482, ..., -0.26213753,\n",
       "        -0.41141093, -0.39106625]], dtype=float32)"
      ]
     },
     "metadata": {},
     "output_type": "display_data"
    },
    {
     "data": {
      "text/plain": [
       "array([[ 0.15199007, -0.01673173,  0.333813  , ..., -0.26293018,\n",
       "        -0.40814906, -0.39097825],\n",
       "       [ 0.1535879 , -0.01627171,  0.33200118, ..., -0.2626154 ,\n",
       "        -0.4098485 , -0.39165238],\n",
       "       [ 0.15386835, -0.01609899,  0.33130145, ..., -0.26239312,\n",
       "        -0.41058218, -0.39131835],\n",
       "       [ 0.15377785, -0.01626401,  0.3316562 , ..., -0.26250106,\n",
       "        -0.41019544, -0.39151612]], dtype=float32)"
      ]
     },
     "metadata": {},
     "output_type": "display_data"
    }
   ],
   "source": [
    "full_run(num_epochs=10, version=7, force_restart=False)"
   ]
  },
  {
   "cell_type": "code",
   "execution_count": 18,
   "id": "01bc6a02-fccc-4ebd-aa12-42f1887bc2ba",
   "metadata": {
    "collapsed": true,
    "jupyter": {
     "outputs_hidden": true
    },
    "tags": []
   },
   "outputs": [
    {
     "name": "stderr",
     "output_type": "stream",
     "text": [
      "Some weights of the model checkpoint at distilbert-base-uncased were not used when initializing DistilBertModel: ['vocab_transform.bias', 'vocab_transform.weight', 'vocab_layer_norm.bias', 'vocab_layer_norm.weight', 'vocab_projector.bias', 'vocab_projector.weight']\n",
      "- This IS expected if you are initializing DistilBertModel from the checkpoint of a model trained on another task or with another architecture (e.g. initializing a BertForSequenceClassification model from a BertForPreTraining model).\n",
      "- This IS NOT expected if you are initializing DistilBertModel from the checkpoint of a model that you expect to be exactly identical (initializing a BertForSequenceClassification model from a BertForSequenceClassification model).\n",
      "Some weights of the model checkpoint at distilbert-base-uncased were not used when initializing DistilBertModel: ['vocab_transform.bias', 'vocab_transform.weight', 'vocab_layer_norm.bias', 'vocab_layer_norm.weight', 'vocab_projector.bias', 'vocab_projector.weight']\n",
      "- This IS expected if you are initializing DistilBertModel from the checkpoint of a model trained on another task or with another architecture (e.g. initializing a BertForSequenceClassification model from a BertForPreTraining model).\n",
      "- This IS NOT expected if you are initializing DistilBertModel from the checkpoint of a model that you expect to be exactly identical (initializing a BertForSequenceClassification model from a BertForSequenceClassification model).\n"
     ]
    },
    {
     "name": "stdout",
     "output_type": "stream",
     "text": [
      "None 0\n",
      "epoch 0 version: 0\n"
     ]
    },
    {
     "data": {
      "application/vnd.jupyter.widget-view+json": {
       "model_id": "af5b707b5a7146aba965d8797d96ce7b",
       "version_major": 2,
       "version_minor": 0
      },
      "text/plain": [
       "train:   0%|          | 0/20000 [00:00<?, ?it/s]"
      ]
     },
     "metadata": {},
     "output_type": "display_data"
    },
    {
     "data": {
      "application/vnd.jupyter.widget-view+json": {
       "model_id": "a88ad9885c7c4c8f9b98fac138de4015",
       "version_major": 2,
       "version_minor": 0
      },
      "text/plain": [
       "train val:   0%|          | 0/10000 [00:00<?, ?it/s]"
      ]
     },
     "metadata": {},
     "output_type": "display_data"
    },
    {
     "data": {
      "application/vnd.jupyter.widget-view+json": {
       "model_id": "9eb70718621440299f6facc42b02d93c",
       "version_major": 2,
       "version_minor": 0
      },
      "text/plain": [
       "test:   0%|          | 0/10000 [00:00<?, ?it/s]"
      ]
     },
     "metadata": {},
     "output_type": "display_data"
    },
    {
     "name": "stdout",
     "output_type": "stream",
     "text": [
      "train: 0.56045 loss: 3.5682985075041334\n",
      "train val: 0.4938 loss: 0.9929010335683822\n",
      "test: 0.5566 loss: 0.8856339730769396\n",
      "epoch time: 11.45min\n",
      "best model: /mnt/d/workspace/clotho/notebooks/checkpoints/harness_v0_lg_0.pkl\n",
      "best train: 0.56045\n",
      "best train val: 0.4938\n",
      "best test: 0.5566\n",
      "epoch 1 version: 0\n"
     ]
    },
    {
     "data": {
      "application/vnd.jupyter.widget-view+json": {
       "model_id": "23fc0ad567b7473399b05cb0ad029bfd",
       "version_major": 2,
       "version_minor": 0
      },
      "text/plain": [
       "train:   0%|          | 0/20000 [00:00<?, ?it/s]"
      ]
     },
     "metadata": {},
     "output_type": "display_data"
    },
    {
     "data": {
      "application/vnd.jupyter.widget-view+json": {
       "model_id": "c3b126bf509c49979cdabeb2a8e896ea",
       "version_major": 2,
       "version_minor": 0
      },
      "text/plain": [
       "train val:   0%|          | 0/10000 [00:00<?, ?it/s]"
      ]
     },
     "metadata": {},
     "output_type": "display_data"
    },
    {
     "data": {
      "application/vnd.jupyter.widget-view+json": {
       "model_id": "b1548d1be36f4aaca633114aeeb5b47e",
       "version_major": 2,
       "version_minor": 0
      },
      "text/plain": [
       "test:   0%|          | 0/10000 [00:00<?, ?it/s]"
      ]
     },
     "metadata": {},
     "output_type": "display_data"
    },
    {
     "name": "stdout",
     "output_type": "stream",
     "text": [
      "train: 0.58335 loss: 1.0941785889361053\n",
      "train val: 0.7626 loss: 0.4509539352891967\n",
      "test: 0.6343 loss: 0.6646734191149474\n",
      "epoch time: 11.49min\n",
      "best model: /mnt/d/workspace/clotho/notebooks/checkpoints/harness_v0_lg_1.pkl\n",
      "best train: 0.58335\n",
      "best train val: 0.7626\n",
      "best test: 0.6343\n",
      "epoch 2 version: 0\n"
     ]
    },
    {
     "data": {
      "application/vnd.jupyter.widget-view+json": {
       "model_id": "718ea45ff07c49778f44bfab220f9c03",
       "version_major": 2,
       "version_minor": 0
      },
      "text/plain": [
       "train:   0%|          | 0/20000 [00:00<?, ?it/s]"
      ]
     },
     "metadata": {},
     "output_type": "display_data"
    },
    {
     "data": {
      "application/vnd.jupyter.widget-view+json": {
       "model_id": "9fee6dc4ee3645f3aa2c4933026661b3",
       "version_major": 2,
       "version_minor": 0
      },
      "text/plain": [
       "train val:   0%|          | 0/10000 [00:00<?, ?it/s]"
      ]
     },
     "metadata": {},
     "output_type": "display_data"
    },
    {
     "data": {
      "application/vnd.jupyter.widget-view+json": {
       "model_id": "23d7afec8bf8480c89bd970d5348848c",
       "version_major": 2,
       "version_minor": 0
      },
      "text/plain": [
       "test:   0%|          | 0/10000 [00:00<?, ?it/s]"
      ]
     },
     "metadata": {},
     "output_type": "display_data"
    },
    {
     "name": "stdout",
     "output_type": "stream",
     "text": [
      "train: 0.6829 loss: 0.692451108440943\n",
      "train val: 0.7964 loss: 0.3848864518510178\n",
      "test: 0.7389 loss: 0.5354428632616997\n",
      "epoch time: 11.89min\n",
      "best model: /mnt/d/workspace/clotho/notebooks/checkpoints/harness_v0_lg_2.pkl\n",
      "best train: 0.6829\n",
      "best train val: 0.7964\n",
      "best test: 0.7389\n",
      "epoch 3 version: 0\n"
     ]
    },
    {
     "data": {
      "application/vnd.jupyter.widget-view+json": {
       "model_id": "a4e70d77bdb04bb0951a577bf36d9854",
       "version_major": 2,
       "version_minor": 0
      },
      "text/plain": [
       "train:   0%|          | 0/20000 [00:00<?, ?it/s]"
      ]
     },
     "metadata": {},
     "output_type": "display_data"
    },
    {
     "data": {
      "application/vnd.jupyter.widget-view+json": {
       "model_id": "69f451563c3a479dba0633da64a52bbb",
       "version_major": 2,
       "version_minor": 0
      },
      "text/plain": [
       "train val:   0%|          | 0/10000 [00:00<?, ?it/s]"
      ]
     },
     "metadata": {},
     "output_type": "display_data"
    },
    {
     "data": {
      "application/vnd.jupyter.widget-view+json": {
       "model_id": "add47babd1a94d718f00faf1414e3207",
       "version_major": 2,
       "version_minor": 0
      },
      "text/plain": [
       "test:   0%|          | 0/10000 [00:00<?, ?it/s]"
      ]
     },
     "metadata": {},
     "output_type": "display_data"
    },
    {
     "name": "stdout",
     "output_type": "stream",
     "text": [
      "train: 0.7023 loss: 0.6080124692836841\n",
      "train val: 0.7958 loss: 0.3829987866957672\n",
      "test: 0.6213 loss: 0.6760923187687993\n",
      "epoch time: 11.62min\n",
      "best model: /mnt/d/workspace/clotho/notebooks/checkpoints/harness_v0_lg_2.pkl\n",
      "best train: 0.6829\n",
      "best train val: 0.7964\n",
      "best test: 0.7389\n",
      "epoch 4 version: 0\n"
     ]
    },
    {
     "data": {
      "application/vnd.jupyter.widget-view+json": {
       "model_id": "7103550739094541a71ea077bc2811df",
       "version_major": 2,
       "version_minor": 0
      },
      "text/plain": [
       "train:   0%|          | 0/20000 [00:00<?, ?it/s]"
      ]
     },
     "metadata": {},
     "output_type": "display_data"
    },
    {
     "data": {
      "application/vnd.jupyter.widget-view+json": {
       "model_id": "95723039cd124495a86578220404a523",
       "version_major": 2,
       "version_minor": 0
      },
      "text/plain": [
       "train val:   0%|          | 0/10000 [00:00<?, ?it/s]"
      ]
     },
     "metadata": {},
     "output_type": "display_data"
    },
    {
     "data": {
      "application/vnd.jupyter.widget-view+json": {
       "model_id": "4010d1a615d145239525ed447ed34e33",
       "version_major": 2,
       "version_minor": 0
      },
      "text/plain": [
       "test:   0%|          | 0/10000 [00:00<?, ?it/s]"
      ]
     },
     "metadata": {},
     "output_type": "display_data"
    },
    {
     "name": "stdout",
     "output_type": "stream",
     "text": [
      "train: 0.70025 loss: 0.5610396810432198\n",
      "train val: 0.796 loss: 0.3716858251158701\n",
      "test: 0.6912 loss: 0.5838584692120552\n",
      "epoch time: 11.47min\n",
      "best model: /mnt/d/workspace/clotho/notebooks/checkpoints/harness_v0_lg_2.pkl\n",
      "best train: 0.6829\n",
      "best train val: 0.7964\n",
      "best test: 0.7389\n",
      "epoch 5 version: 0\n"
     ]
    },
    {
     "data": {
      "application/vnd.jupyter.widget-view+json": {
       "model_id": "992ba3aa22c842fc95f903a33726f277",
       "version_major": 2,
       "version_minor": 0
      },
      "text/plain": [
       "train:   0%|          | 0/20000 [00:00<?, ?it/s]"
      ]
     },
     "metadata": {},
     "output_type": "display_data"
    },
    {
     "data": {
      "application/vnd.jupyter.widget-view+json": {
       "model_id": "0e4502fc5b7f444c8d512e918d5e97f7",
       "version_major": 2,
       "version_minor": 0
      },
      "text/plain": [
       "train val:   0%|          | 0/10000 [00:00<?, ?it/s]"
      ]
     },
     "metadata": {},
     "output_type": "display_data"
    },
    {
     "data": {
      "application/vnd.jupyter.widget-view+json": {
       "model_id": "bfe82705cc3b4e728d888a56bd81c2c3",
       "version_major": 2,
       "version_minor": 0
      },
      "text/plain": [
       "test:   0%|          | 0/10000 [00:00<?, ?it/s]"
      ]
     },
     "metadata": {},
     "output_type": "display_data"
    },
    {
     "name": "stdout",
     "output_type": "stream",
     "text": [
      "train: 0.70805 loss: 0.5110008688022674\n",
      "train val: 0.7951 loss: 0.3606841998110176\n",
      "test: 0.6955 loss: 0.593873965921998\n",
      "epoch time: 11.83min\n",
      "best model: /mnt/d/workspace/clotho/notebooks/checkpoints/harness_v0_lg_2.pkl\n",
      "best train: 0.6829\n",
      "best train val: 0.7964\n",
      "best test: 0.7389\n",
      "epoch 6 version: 0\n"
     ]
    },
    {
     "data": {
      "application/vnd.jupyter.widget-view+json": {
       "model_id": "57e2f7a7e86848f6b725251e153e975d",
       "version_major": 2,
       "version_minor": 0
      },
      "text/plain": [
       "train:   0%|          | 0/20000 [00:00<?, ?it/s]"
      ]
     },
     "metadata": {},
     "output_type": "display_data"
    },
    {
     "data": {
      "application/vnd.jupyter.widget-view+json": {
       "model_id": "a64cdba125c84730876e49d55975d04b",
       "version_major": 2,
       "version_minor": 0
      },
      "text/plain": [
       "train val:   0%|          | 0/10000 [00:00<?, ?it/s]"
      ]
     },
     "metadata": {},
     "output_type": "display_data"
    },
    {
     "data": {
      "application/vnd.jupyter.widget-view+json": {
       "model_id": "af09bfd9bdb2466f8e33c9d9c46e5862",
       "version_major": 2,
       "version_minor": 0
      },
      "text/plain": [
       "test:   0%|          | 0/10000 [00:00<?, ?it/s]"
      ]
     },
     "metadata": {},
     "output_type": "display_data"
    },
    {
     "name": "stdout",
     "output_type": "stream",
     "text": [
      "train: 0.7218 loss: 0.4934131390466413\n",
      "train val: 0.7964 loss: 0.36530485929197165\n",
      "test: 0.6716 loss: 0.611246825966239\n",
      "epoch time: 12.04min\n",
      "removing /mnt/d/workspace/clotho/notebooks/checkpoints/stats_v0_lg_0.json\n",
      "removing /mnt/d/workspace/clotho/notebooks/checkpoints/harness_v0_lg_0.pkl\n",
      "best model: /mnt/d/workspace/clotho/notebooks/checkpoints/harness_v0_lg_2.pkl\n",
      "best train: 0.6829\n",
      "best train val: 0.7964\n",
      "best test: 0.7389\n",
      "epoch 7 version: 0\n"
     ]
    },
    {
     "data": {
      "application/vnd.jupyter.widget-view+json": {
       "model_id": "213130f3d9944ebda7e20320fe37f650",
       "version_major": 2,
       "version_minor": 0
      },
      "text/plain": [
       "train:   0%|          | 0/20000 [00:00<?, ?it/s]"
      ]
     },
     "metadata": {},
     "output_type": "display_data"
    },
    {
     "data": {
      "application/vnd.jupyter.widget-view+json": {
       "model_id": "30b42841ac0a4d2e9bc3a965e529d2f8",
       "version_major": 2,
       "version_minor": 0
      },
      "text/plain": [
       "train val:   0%|          | 0/10000 [00:00<?, ?it/s]"
      ]
     },
     "metadata": {},
     "output_type": "display_data"
    },
    {
     "data": {
      "application/vnd.jupyter.widget-view+json": {
       "model_id": "0a10bac5478345bfacfa6e988d46c0df",
       "version_major": 2,
       "version_minor": 0
      },
      "text/plain": [
       "test:   0%|          | 0/10000 [00:00<?, ?it/s]"
      ]
     },
     "metadata": {},
     "output_type": "display_data"
    },
    {
     "name": "stdout",
     "output_type": "stream",
     "text": [
      "train: 0.74085 loss: 0.4644983371813694\n",
      "train val: 0.8085 loss: 0.3519992327651009\n",
      "test: 0.7127 loss: 0.564300590763241\n",
      "epoch time: 11.20min\n",
      "removing /mnt/d/workspace/clotho/notebooks/checkpoints/stats_v0_lg_1.json\n",
      "removing /mnt/d/workspace/clotho/notebooks/checkpoints/harness_v0_lg_1.pkl\n",
      "best model: /mnt/d/workspace/clotho/notebooks/checkpoints/harness_v0_lg_7.pkl\n",
      "best train: 0.74085\n",
      "best train val: 0.8085\n",
      "best test: 0.7127\n",
      "epoch 8 version: 0\n"
     ]
    },
    {
     "data": {
      "application/vnd.jupyter.widget-view+json": {
       "model_id": "56aff8774f3542edb007991323b1037c",
       "version_major": 2,
       "version_minor": 0
      },
      "text/plain": [
       "train:   0%|          | 0/20000 [00:00<?, ?it/s]"
      ]
     },
     "metadata": {},
     "output_type": "display_data"
    },
    {
     "data": {
      "application/vnd.jupyter.widget-view+json": {
       "model_id": "2ba5996a9b9f49c7952ae9ea14774c5b",
       "version_major": 2,
       "version_minor": 0
      },
      "text/plain": [
       "train val:   0%|          | 0/10000 [00:00<?, ?it/s]"
      ]
     },
     "metadata": {},
     "output_type": "display_data"
    },
    {
     "data": {
      "application/vnd.jupyter.widget-view+json": {
       "model_id": "aef51abd8a2f42889d7fdc05c032a34e",
       "version_major": 2,
       "version_minor": 0
      },
      "text/plain": [
       "test:   0%|          | 0/10000 [00:00<?, ?it/s]"
      ]
     },
     "metadata": {},
     "output_type": "display_data"
    },
    {
     "name": "stdout",
     "output_type": "stream",
     "text": [
      "train: 0.7439 loss: 0.4719092584089667\n",
      "train val: 0.8063 loss: 0.3534063412827323\n",
      "test: 0.6658 loss: 0.6336014240991324\n",
      "epoch time: 10.90min\n",
      "removing /mnt/d/workspace/clotho/notebooks/checkpoints/stats_v0_lg_5.json\n",
      "removing /mnt/d/workspace/clotho/notebooks/checkpoints/harness_v0_lg_5.pkl\n",
      "best model: /mnt/d/workspace/clotho/notebooks/checkpoints/harness_v0_lg_7.pkl\n",
      "best train: 0.74085\n",
      "best train val: 0.8085\n",
      "best test: 0.7127\n",
      "epoch 9 version: 0\n"
     ]
    },
    {
     "data": {
      "application/vnd.jupyter.widget-view+json": {
       "model_id": "aa3fd90fd25e4ea7905233e0349ab751",
       "version_major": 2,
       "version_minor": 0
      },
      "text/plain": [
       "train:   0%|          | 0/20000 [00:00<?, ?it/s]"
      ]
     },
     "metadata": {},
     "output_type": "display_data"
    },
    {
     "data": {
      "application/vnd.jupyter.widget-view+json": {
       "model_id": "e9b07b511a7543818964884c38d97d35",
       "version_major": 2,
       "version_minor": 0
      },
      "text/plain": [
       "train val:   0%|          | 0/10000 [00:00<?, ?it/s]"
      ]
     },
     "metadata": {},
     "output_type": "display_data"
    },
    {
     "data": {
      "application/vnd.jupyter.widget-view+json": {
       "model_id": "9c090fd9b11144bbac909f798e4bfcec",
       "version_major": 2,
       "version_minor": 0
      },
      "text/plain": [
       "test:   0%|          | 0/10000 [00:00<?, ?it/s]"
      ]
     },
     "metadata": {},
     "output_type": "display_data"
    },
    {
     "name": "stdout",
     "output_type": "stream",
     "text": [
      "train: 0.7575 loss: 0.4451393203186919\n",
      "train val: 0.8181 loss: 0.3557152548909187\n",
      "test: 0.6535 loss: 0.6253932402253151\n",
      "epoch time: 11.90min\n",
      "removing /mnt/d/workspace/clotho/notebooks/checkpoints/stats_v0_lg_3.json\n",
      "removing /mnt/d/workspace/clotho/notebooks/checkpoints/harness_v0_lg_3.pkl\n",
      "best model: /mnt/d/workspace/clotho/notebooks/checkpoints/harness_v0_lg_9.pkl\n",
      "best train: 0.7575\n",
      "best train val: 0.8181\n",
      "best test: 0.6535\n"
     ]
    },
    {
     "data": {
      "application/vnd.jupyter.widget-view+json": {
       "model_id": "22f19cff2e2641fc9168d2e1f423056a",
       "version_major": 2,
       "version_minor": 0
      },
      "text/plain": [
       "test val:   0%|          | 0/10000 [00:00<?, ?it/s]"
      ]
     },
     "metadata": {},
     "output_type": "display_data"
    },
    {
     "name": "stdout",
     "output_type": "stream",
     "text": [
      "test val: {'accuracy': 0.65} loss: 0.6279840561628341\n",
      "correct\n"
     ]
    },
    {
     "data": {
      "text/html": [
       "<div>\n",
       "<style scoped>\n",
       "    .dataframe tbody tr th:only-of-type {\n",
       "        vertical-align: middle;\n",
       "    }\n",
       "\n",
       "    .dataframe tbody tr th {\n",
       "        vertical-align: top;\n",
       "    }\n",
       "\n",
       "    .dataframe thead th {\n",
       "        text-align: right;\n",
       "    }\n",
       "</style>\n",
       "<table border=\"1\" class=\"dataframe\">\n",
       "  <thead>\n",
       "    <tr style=\"text-align: right;\">\n",
       "      <th></th>\n",
       "      <th>gen_name</th>\n",
       "      <th>parent_left</th>\n",
       "      <th>child_left</th>\n",
       "      <th>parent_right</th>\n",
       "      <th>child_right</th>\n",
       "      <th>score_left</th>\n",
       "      <th>score_right</th>\n",
       "      <th>correct_is_right</th>\n",
       "      <th>logit_left</th>\n",
       "      <th>logit_right</th>\n",
       "      <th>preds</th>\n",
       "      <th>truth</th>\n",
       "    </tr>\n",
       "  </thead>\n",
       "  <tbody>\n",
       "    <tr>\n",
       "      <th>0</th>\n",
       "      <td>!copy--valid_weak;(st)</td>\n",
       "      <td>Well, shit dude.</td>\n",
       "      <td>Everyone in my family is nagging me with the f...</td>\n",
       "      <td>Everyone in my family is nagging me with the f...</td>\n",
       "      <td>Well, shit dude.</td>\n",
       "      <td>0</td>\n",
       "      <td>1</td>\n",
       "      <td>True</td>\n",
       "      <td>0.185864</td>\n",
       "      <td>0.814136</td>\n",
       "      <td>1</td>\n",
       "      <td>1</td>\n",
       "    </tr>\n",
       "    <tr>\n",
       "      <th>1</th>\n",
       "      <td>*valid_weak--!copy;(st)</td>\n",
       "      <td>Not using 1-10, how attractive are you?</td>\n",
       "      <td>Let's just say my Facebook relationship status...</td>\n",
       "      <td>Let's just say my Facebook relationship status...</td>\n",
       "      <td>Not using 1-10, how attractive are you?</td>\n",
       "      <td>1</td>\n",
       "      <td>0</td>\n",
       "      <td>False</td>\n",
       "      <td>0.567188</td>\n",
       "      <td>0.432812</td>\n",
       "      <td>0</td>\n",
       "      <td>0</td>\n",
       "    </tr>\n",
       "    <tr>\n",
       "      <th>1</th>\n",
       "      <td>random--valid_weak;(st)</td>\n",
       "      <td>i was gonna say, he knocks it out of the park ...</td>\n",
       "      <td>when itv drugs you and ruins your life fuck th...</td>\n",
       "      <td>[Serious] How would you react if your partner ...</td>\n",
       "      <td>Immediate breakup.</td>\n",
       "      <td>0</td>\n",
       "      <td>1</td>\n",
       "      <td>True</td>\n",
       "      <td>0.364661</td>\n",
       "      <td>0.635339</td>\n",
       "      <td>1</td>\n",
       "      <td>1</td>\n",
       "    </tr>\n",
       "    <tr>\n",
       "      <th>0</th>\n",
       "      <td>*valid_weak--random;(st)</td>\n",
       "      <td>&gt;Some day true 3D will be invented with true e...</td>\n",
       "      <td>It will also put strain on your eyes with exte...</td>\n",
       "      <td>Hard to find someone to suck it.</td>\n",
       "      <td>I'm with you 100% on Radiohead. All of their s...</td>\n",
       "      <td>8</td>\n",
       "      <td>0</td>\n",
       "      <td>False</td>\n",
       "      <td>0.619482</td>\n",
       "      <td>0.380518</td>\n",
       "      <td>0</td>\n",
       "      <td>0</td>\n",
       "    </tr>\n",
       "    <tr>\n",
       "      <th>1</th>\n",
       "      <td>*valid_weak--!copy;(st)</td>\n",
       "      <td>How do men feel about the \"men will fuck anyth...</td>\n",
       "      <td>I can't imagine what you expected when you pos...</td>\n",
       "      <td>I can't imagine what you expected when you pos...</td>\n",
       "      <td>How do men feel about the \"men will fuck anyth...</td>\n",
       "      <td>1</td>\n",
       "      <td>0</td>\n",
       "      <td>False</td>\n",
       "      <td>0.794559</td>\n",
       "      <td>0.205441</td>\n",
       "      <td>0</td>\n",
       "      <td>0</td>\n",
       "    </tr>\n",
       "  </tbody>\n",
       "</table>\n",
       "</div>"
      ],
      "text/plain": [
       "                   gen_name  \\\n",
       "0    !copy--valid_weak;(st)   \n",
       "1   *valid_weak--!copy;(st)   \n",
       "1   random--valid_weak;(st)   \n",
       "0  *valid_weak--random;(st)   \n",
       "1   *valid_weak--!copy;(st)   \n",
       "\n",
       "                                         parent_left  \\\n",
       "0                                   Well, shit dude.   \n",
       "1            Not using 1-10, how attractive are you?   \n",
       "1  i was gonna say, he knocks it out of the park ...   \n",
       "0  >Some day true 3D will be invented with true e...   \n",
       "1  How do men feel about the \"men will fuck anyth...   \n",
       "\n",
       "                                          child_left  \\\n",
       "0  Everyone in my family is nagging me with the f...   \n",
       "1  Let's just say my Facebook relationship status...   \n",
       "1  when itv drugs you and ruins your life fuck th...   \n",
       "0  It will also put strain on your eyes with exte...   \n",
       "1  I can't imagine what you expected when you pos...   \n",
       "\n",
       "                                        parent_right  \\\n",
       "0  Everyone in my family is nagging me with the f...   \n",
       "1  Let's just say my Facebook relationship status...   \n",
       "1  [Serious] How would you react if your partner ...   \n",
       "0                   Hard to find someone to suck it.   \n",
       "1  I can't imagine what you expected when you pos...   \n",
       "\n",
       "                                         child_right  score_left  score_right  \\\n",
       "0                                   Well, shit dude.           0            1   \n",
       "1            Not using 1-10, how attractive are you?           1            0   \n",
       "1                                 Immediate breakup.           0            1   \n",
       "0  I'm with you 100% on Radiohead. All of their s...           8            0   \n",
       "1  How do men feel about the \"men will fuck anyth...           1            0   \n",
       "\n",
       "   correct_is_right  logit_left  logit_right  preds  truth  \n",
       "0              True    0.185864     0.814136      1      1  \n",
       "1             False    0.567188     0.432812      0      0  \n",
       "1              True    0.364661     0.635339      1      1  \n",
       "0             False    0.619482     0.380518      0      0  \n",
       "1             False    0.794559     0.205441      0      0  "
      ]
     },
     "metadata": {},
     "output_type": "display_data"
    },
    {
     "name": "stdout",
     "output_type": "stream",
     "text": [
      "incorrect\n"
     ]
    },
    {
     "data": {
      "text/html": [
       "<div>\n",
       "<style scoped>\n",
       "    .dataframe tbody tr th:only-of-type {\n",
       "        vertical-align: middle;\n",
       "    }\n",
       "\n",
       "    .dataframe tbody tr th {\n",
       "        vertical-align: top;\n",
       "    }\n",
       "\n",
       "    .dataframe thead th {\n",
       "        text-align: right;\n",
       "    }\n",
       "</style>\n",
       "<table border=\"1\" class=\"dataframe\">\n",
       "  <thead>\n",
       "    <tr style=\"text-align: right;\">\n",
       "      <th></th>\n",
       "      <th>gen_name</th>\n",
       "      <th>parent_left</th>\n",
       "      <th>child_left</th>\n",
       "      <th>parent_right</th>\n",
       "      <th>child_right</th>\n",
       "      <th>score_left</th>\n",
       "      <th>score_right</th>\n",
       "      <th>correct_is_right</th>\n",
       "      <th>logit_left</th>\n",
       "      <th>logit_right</th>\n",
       "      <th>preds</th>\n",
       "      <th>truth</th>\n",
       "    </tr>\n",
       "  </thead>\n",
       "  <tbody>\n",
       "    <tr>\n",
       "      <th>2</th>\n",
       "      <td>random--valid_weak;(st)</td>\n",
       "      <td>White Lotus</td>\n",
       "      <td>She Heard</td>\n",
       "      <td>Sewing. Sewing is awesome. I learned basic sew...</td>\n",
       "      <td>I started sewing to make a quilt out of a pile...</td>\n",
       "      <td>0</td>\n",
       "      <td>3</td>\n",
       "      <td>True</td>\n",
       "      <td>0.506530</td>\n",
       "      <td>0.493470</td>\n",
       "      <td>0</td>\n",
       "      <td>1</td>\n",
       "    </tr>\n",
       "    <tr>\n",
       "      <th>3</th>\n",
       "      <td>random--valid_weak;(st)</td>\n",
       "      <td>I can’t stand the smell of truffle oil. Makes ...</td>\n",
       "      <td>my cat's name is Guy, just so I can go \"hey Gu...</td>\n",
       "      <td>Guys….what is a big turn off that girls still ...</td>\n",
       "      <td>Long manicured nails</td>\n",
       "      <td>0</td>\n",
       "      <td>5</td>\n",
       "      <td>True</td>\n",
       "      <td>0.574066</td>\n",
       "      <td>0.425934</td>\n",
       "      <td>0</td>\n",
       "      <td>1</td>\n",
       "    </tr>\n",
       "    <tr>\n",
       "      <th>0</th>\n",
       "      <td>random--valid_weak;(st)</td>\n",
       "      <td>It's baffling. With as far as they bend over b...</td>\n",
       "      <td>My girlfriends Dad is 75. If he started doing ...</td>\n",
       "      <td>If you could rename America what would it be c...</td>\n",
       "      <td>Gods Country Giant Sowglobe Dunning Kruger Cou...</td>\n",
       "      <td>0</td>\n",
       "      <td>1</td>\n",
       "      <td>True</td>\n",
       "      <td>0.628382</td>\n",
       "      <td>0.371618</td>\n",
       "      <td>0</td>\n",
       "      <td>1</td>\n",
       "    </tr>\n",
       "    <tr>\n",
       "      <th>2</th>\n",
       "      <td>!copy--valid_weak;(st)</td>\n",
       "      <td>plus all the bodies you can bury with no one n...</td>\n",
       "      <td>Landscape maintenance, particularly if the cli...</td>\n",
       "      <td>Landscape maintenance, particularly if the cli...</td>\n",
       "      <td>plus all the bodies you can bury with no one n...</td>\n",
       "      <td>0</td>\n",
       "      <td>6</td>\n",
       "      <td>True</td>\n",
       "      <td>0.521182</td>\n",
       "      <td>0.478818</td>\n",
       "      <td>0</td>\n",
       "      <td>1</td>\n",
       "    </tr>\n",
       "    <tr>\n",
       "      <th>3</th>\n",
       "      <td>random--valid_weak;(st)</td>\n",
       "      <td>Perfect Dark (N64)</td>\n",
       "      <td>Exactly. In the 1960s I had their album, \"[The...</td>\n",
       "      <td>Not using 1-10, how attractive are you?</td>\n",
       "      <td>I look like a dwarf from Middle Earth.</td>\n",
       "      <td>0</td>\n",
       "      <td>1</td>\n",
       "      <td>True</td>\n",
       "      <td>0.599214</td>\n",
       "      <td>0.400786</td>\n",
       "      <td>0</td>\n",
       "      <td>1</td>\n",
       "    </tr>\n",
       "  </tbody>\n",
       "</table>\n",
       "</div>"
      ],
      "text/plain": [
       "                  gen_name                                        parent_left  \\\n",
       "2  random--valid_weak;(st)                                        White Lotus   \n",
       "3  random--valid_weak;(st)  I can’t stand the smell of truffle oil. Makes ...   \n",
       "0  random--valid_weak;(st)  It's baffling. With as far as they bend over b...   \n",
       "2   !copy--valid_weak;(st)  plus all the bodies you can bury with no one n...   \n",
       "3  random--valid_weak;(st)                                 Perfect Dark (N64)   \n",
       "\n",
       "                                          child_left  \\\n",
       "2                                          She Heard   \n",
       "3  my cat's name is Guy, just so I can go \"hey Gu...   \n",
       "0  My girlfriends Dad is 75. If he started doing ...   \n",
       "2  Landscape maintenance, particularly if the cli...   \n",
       "3  Exactly. In the 1960s I had their album, \"[The...   \n",
       "\n",
       "                                        parent_right  \\\n",
       "2  Sewing. Sewing is awesome. I learned basic sew...   \n",
       "3  Guys….what is a big turn off that girls still ...   \n",
       "0  If you could rename America what would it be c...   \n",
       "2  Landscape maintenance, particularly if the cli...   \n",
       "3            Not using 1-10, how attractive are you?   \n",
       "\n",
       "                                         child_right  score_left  score_right  \\\n",
       "2  I started sewing to make a quilt out of a pile...           0            3   \n",
       "3                               Long manicured nails           0            5   \n",
       "0  Gods Country Giant Sowglobe Dunning Kruger Cou...           0            1   \n",
       "2  plus all the bodies you can bury with no one n...           0            6   \n",
       "3             I look like a dwarf from Middle Earth.           0            1   \n",
       "\n",
       "   correct_is_right  logit_left  logit_right  preds  truth  \n",
       "2              True    0.506530     0.493470      0      1  \n",
       "3              True    0.574066     0.425934      0      1  \n",
       "0              True    0.628382     0.371618      0      1  \n",
       "2              True    0.521182     0.478818      0      1  \n",
       "3              True    0.599214     0.400786      0      1  "
      ]
     },
     "metadata": {},
     "output_type": "display_data"
    },
    {
     "data": {
      "text/plain": [
       "array([[-0.4625927 ,  0.07901097,  0.01362571, ...,  0.59352714,\n",
       "        -0.19397321, -0.05137759],\n",
       "       [-0.46075237,  0.08019783,  0.01638941, ...,  0.5908342 ,\n",
       "        -0.19306032, -0.05001802],\n",
       "       [-0.45803058,  0.08154219,  0.02175214, ...,  0.5855488 ,\n",
       "        -0.19031745, -0.04811976],\n",
       "       [-0.46107453,  0.08008439,  0.01576736, ...,  0.5913857 ,\n",
       "        -0.19335324, -0.05014595]], dtype=float32)"
      ]
     },
     "metadata": {},
     "output_type": "display_data"
    },
    {
     "data": {
      "text/plain": [
       "array([[-0.4574213 ,  0.08179417,  0.02293079, ...,  0.5844352 ,\n",
       "        -0.18973972, -0.04774902],\n",
       "       [-0.4596514 ,  0.08075567,  0.018542  , ...,  0.5887022 ,\n",
       "        -0.1919242 , -0.04923059],\n",
       "       [-0.4622288 ,  0.07911038,  0.0142084 , ...,  0.59289956,\n",
       "        -0.19347373, -0.05121775],\n",
       "       [-0.46279413,  0.07893475,  0.01260415, ...,  0.5945151 ,\n",
       "        -0.19463313, -0.05177381]], dtype=float32)"
      ]
     },
     "metadata": {},
     "output_type": "display_data"
    },
    {
     "data": {
      "text/plain": [
       "array([[-0.4614208 ,  0.07987257,  0.01507023, ...,  0.59210414,\n",
       "        -0.19375515, -0.05045047],\n",
       "       [-0.46735966,  0.07668591,  0.00340619, ...,  0.6033716 ,\n",
       "        -0.19974199, -0.05455109],\n",
       "       [-0.4590154 ,  0.08106501,  0.0197979 , ...,  0.5874861 ,\n",
       "        -0.19128868, -0.04878372],\n",
       "       [-0.45549634,  0.08280134,  0.0267324 , ...,  0.58065724,\n",
       "        -0.1878221 , -0.04627246]], dtype=float32)"
      ]
     },
     "metadata": {},
     "output_type": "display_data"
    },
    {
     "data": {
      "text/plain": [
       "array([[-0.46857893,  0.07607195,  0.00095985, ...,  0.60597897,\n",
       "        -0.20119159, -0.0553772 ],\n",
       "       [-0.4569811 ,  0.08185418,  0.02399625, ...,  0.5834547 ,\n",
       "        -0.189053  , -0.04753912],\n",
       "       [-0.4591996 ,  0.08093518,  0.01941507, ...,  0.5879122 ,\n",
       "        -0.1915279 , -0.04899651],\n",
       "       [-0.46707284,  0.07726836,  0.0040093 , ...,  0.60255146,\n",
       "        -0.1985523 , -0.05452096]], dtype=float32)"
      ]
     },
     "metadata": {},
     "output_type": "display_data"
    },
    {
     "data": {
      "text/plain": [
       "array([[-0.4584268 ,  0.08132808,  0.02094358, ...,  0.5863688 ,\n",
       "        -0.19072771, -0.04842386],\n",
       "       [-0.46066394,  0.08027971,  0.01655439, ...,  0.5906196 ,\n",
       "        -0.19293869, -0.0499156 ],\n",
       "       [-0.45953223,  0.08082117,  0.01877708, ...,  0.5884622 ,\n",
       "        -0.19179548, -0.0491627 ],\n",
       "       [-0.4557541 ,  0.08256537,  0.02623066, ...,  0.5810831 ,\n",
       "        -0.18808387, -0.04647135]], dtype=float32)"
      ]
     },
     "metadata": {},
     "output_type": "display_data"
    },
    {
     "data": {
      "text/plain": [
       "array([[-0.4606564 ,  0.08024991,  0.0165747 , ...,  0.5906613 ,\n",
       "        -0.19296117, -0.04994956],\n",
       "       [-0.46711433,  0.07688809,  0.00388761, ...,  0.6029753 ,\n",
       "        -0.19947438, -0.05427572],\n",
       "       [-0.45682853,  0.0821236 ,  0.02410733, ...,  0.58319867,\n",
       "        -0.18914217, -0.04719081],\n",
       "       [-0.46270558,  0.07897757,  0.01270098, ...,  0.59443027,\n",
       "        -0.1945493 , -0.05174243]], dtype=float32)"
      ]
     },
     "metadata": {},
     "output_type": "display_data"
    },
    {
     "data": {
      "text/plain": [
       "array([[-0.4616736 ,  0.07975656,  0.01457711, ...,  0.5925977 ,\n",
       "        -0.19401273, -0.05059686],\n",
       "       [-0.45543495,  0.08277738,  0.02685146, ...,  0.58042043,\n",
       "        -0.18778118, -0.04611072],\n",
       "       [-0.4599418 ,  0.08048163,  0.01792709, ...,  0.5894423 ,\n",
       "        -0.19233714, -0.04966655],\n",
       "       [-0.4590897 ,  0.08102452,  0.01964624, ...,  0.58763206,\n",
       "        -0.19136946, -0.04886032]], dtype=float32)"
      ]
     },
     "metadata": {},
     "output_type": "display_data"
    },
    {
     "data": {
      "text/plain": [
       "array([[-0.4596514 ,  0.08075567,  0.018542  , ...,  0.5887022 ,\n",
       "        -0.1919242 , -0.04923059],\n",
       "       [-0.4634743 ,  0.0785196 ,  0.01219696, ...,  0.59481853,\n",
       "        -0.19419654, -0.05189609],\n",
       "       [-0.460584  ,  0.08031858,  0.01670034, ...,  0.5904858 ,\n",
       "        -0.19286123, -0.049862  ],\n",
       "       [-0.4616337 ,  0.0795188 ,  0.01459071, ...,  0.5926226 ,\n",
       "        -0.19360392, -0.05114024]], dtype=float32)"
      ]
     },
     "metadata": {},
     "output_type": "display_data"
    },
    {
     "data": {
      "text/plain": [
       "array([[-0.45932078,  0.0809054 ,  0.01918497, ...,  0.5881377 ,\n",
       "        -0.19163613, -0.04904153],\n",
       "       [-0.46132892,  0.07981806,  0.01542836, ...,  0.5918567 ,\n",
       "        -0.19340846, -0.05046479],\n",
       "       [-0.4607174 ,  0.08023208,  0.01646917, ...,  0.5907444 ,\n",
       "        -0.19299553, -0.04994405],\n",
       "       [-0.4556565 ,  0.08264702,  0.02641972, ...,  0.5809186 ,\n",
       "        -0.1879809 , -0.04639998]], dtype=float32)"
      ]
     },
     "metadata": {},
     "output_type": "display_data"
    },
    {
     "data": {
      "text/plain": [
       "array([[-0.46533385,  0.07775874,  0.00788106, ...,  0.5988517 ,\n",
       "        -0.19684808, -0.05323636],\n",
       "       [-0.45999107,  0.08060847,  0.01790004, ...,  0.589321  ,\n",
       "        -0.19223897, -0.04943401],\n",
       "       [-0.45952138,  0.08083861,  0.01881001, ...,  0.5884512 ,\n",
       "        -0.19178158, -0.04914878],\n",
       "       [-0.46184498,  0.07928681,  0.01474312, ...,  0.5924585 ,\n",
       "        -0.19344038, -0.05107198]], dtype=float32)"
      ]
     },
     "metadata": {},
     "output_type": "display_data"
    }
   ],
   "source": [
    "full_run(num_epochs=10, version=0, force_restart=False)"
   ]
  },
  {
   "cell_type": "code",
   "execution_count": 19,
   "id": "4bb7b7fd-7e2d-4253-8192-f670106b8702",
   "metadata": {
    "collapsed": true,
    "jupyter": {
     "outputs_hidden": true
    },
    "tags": []
   },
   "outputs": [
    {
     "name": "stderr",
     "output_type": "stream",
     "text": [
      "Some weights of the model checkpoint at distilbert-base-uncased were not used when initializing DistilBertModel: ['vocab_transform.bias', 'vocab_transform.weight', 'vocab_layer_norm.bias', 'vocab_layer_norm.weight', 'vocab_projector.bias', 'vocab_projector.weight']\n",
      "- This IS expected if you are initializing DistilBertModel from the checkpoint of a model trained on another task or with another architecture (e.g. initializing a BertForSequenceClassification model from a BertForPreTraining model).\n",
      "- This IS NOT expected if you are initializing DistilBertModel from the checkpoint of a model that you expect to be exactly identical (initializing a BertForSequenceClassification model from a BertForSequenceClassification model).\n",
      "Some weights of the model checkpoint at distilbert-base-uncased were not used when initializing DistilBertModel: ['vocab_transform.bias', 'vocab_transform.weight', 'vocab_layer_norm.bias', 'vocab_layer_norm.weight', 'vocab_projector.bias', 'vocab_projector.weight']\n",
      "- This IS expected if you are initializing DistilBertModel from the checkpoint of a model trained on another task or with another architecture (e.g. initializing a BertForSequenceClassification model from a BertForPreTraining model).\n",
      "- This IS NOT expected if you are initializing DistilBertModel from the checkpoint of a model that you expect to be exactly identical (initializing a BertForSequenceClassification model from a BertForSequenceClassification model).\n"
     ]
    },
    {
     "name": "stdout",
     "output_type": "stream",
     "text": [
      "None 0\n",
      "epoch 0 version: 5\n"
     ]
    },
    {
     "data": {
      "application/vnd.jupyter.widget-view+json": {
       "model_id": "dcfa420c0f044934be66e570728c4f60",
       "version_major": 2,
       "version_minor": 0
      },
      "text/plain": [
       "train:   0%|          | 0/20000 [00:00<?, ?it/s]"
      ]
     },
     "metadata": {},
     "output_type": "display_data"
    },
    {
     "data": {
      "application/vnd.jupyter.widget-view+json": {
       "model_id": "fc3b5114e8ea440d94ada965a9608803",
       "version_major": 2,
       "version_minor": 0
      },
      "text/plain": [
       "train val:   0%|          | 0/10000 [00:00<?, ?it/s]"
      ]
     },
     "metadata": {},
     "output_type": "display_data"
    },
    {
     "data": {
      "application/vnd.jupyter.widget-view+json": {
       "model_id": "d6262130f972418eaaebe03b246f483a",
       "version_major": 2,
       "version_minor": 0
      },
      "text/plain": [
       "test:   0%|          | 0/10000 [00:00<?, ?it/s]"
      ]
     },
     "metadata": {},
     "output_type": "display_data"
    },
    {
     "name": "stdout",
     "output_type": "stream",
     "text": [
      "train: 0.5192 loss: 15.83118714581418\n",
      "train val: 0.4883 loss: 0.7153533622741699\n",
      "test: 0.4906 loss: 0.7200685551047326\n",
      "epoch time: 11.54min\n",
      "best model: /mnt/d/workspace/clotho/notebooks/checkpoints/harness_v5_lg_0.pkl\n",
      "best train: 0.5192\n",
      "best train val: 0.4883\n",
      "best test: 0.4906\n",
      "epoch 1 version: 5\n"
     ]
    },
    {
     "data": {
      "application/vnd.jupyter.widget-view+json": {
       "model_id": "bb24913f063849c9b5327f1a6e629cfe",
       "version_major": 2,
       "version_minor": 0
      },
      "text/plain": [
       "train:   0%|          | 0/20000 [00:00<?, ?it/s]"
      ]
     },
     "metadata": {},
     "output_type": "display_data"
    },
    {
     "data": {
      "application/vnd.jupyter.widget-view+json": {
       "model_id": "4d2139b4eacf4338aa09600d601a8fe5",
       "version_major": 2,
       "version_minor": 0
      },
      "text/plain": [
       "train val:   0%|          | 0/10000 [00:00<?, ?it/s]"
      ]
     },
     "metadata": {},
     "output_type": "display_data"
    },
    {
     "data": {
      "application/vnd.jupyter.widget-view+json": {
       "model_id": "624e07b762c0480bbc0faec1cca1cec0",
       "version_major": 2,
       "version_minor": 0
      },
      "text/plain": [
       "test:   0%|          | 0/10000 [00:00<?, ?it/s]"
      ]
     },
     "metadata": {},
     "output_type": "display_data"
    },
    {
     "name": "stdout",
     "output_type": "stream",
     "text": [
      "train: 0.4992 loss: 12.455320471919672\n",
      "train val: 0.4884 loss: 0.6937045360803604\n",
      "test: 0.5496 loss: 0.6913015429258347\n",
      "epoch time: 11.70min\n",
      "best model: /mnt/d/workspace/clotho/notebooks/checkpoints/harness_v5_lg_1.pkl\n",
      "best train: 0.4992\n",
      "best train val: 0.4884\n",
      "best test: 0.5496\n",
      "epoch 2 version: 5\n"
     ]
    },
    {
     "data": {
      "application/vnd.jupyter.widget-view+json": {
       "model_id": "77ac357d62d3422fb721533cc7bd74ab",
       "version_major": 2,
       "version_minor": 0
      },
      "text/plain": [
       "train:   0%|          | 0/20000 [00:00<?, ?it/s]"
      ]
     },
     "metadata": {},
     "output_type": "display_data"
    },
    {
     "data": {
      "application/vnd.jupyter.widget-view+json": {
       "model_id": "68d49f0c6c2b4f77bb069c7e25832512",
       "version_major": 2,
       "version_minor": 0
      },
      "text/plain": [
       "train val:   0%|          | 0/10000 [00:00<?, ?it/s]"
      ]
     },
     "metadata": {},
     "output_type": "display_data"
    },
    {
     "data": {
      "application/vnd.jupyter.widget-view+json": {
       "model_id": "f75180d225984beeae93eca4ab6ac593",
       "version_major": 2,
       "version_minor": 0
      },
      "text/plain": [
       "test:   0%|          | 0/10000 [00:00<?, ?it/s]"
      ]
     },
     "metadata": {},
     "output_type": "display_data"
    },
    {
     "name": "stdout",
     "output_type": "stream",
     "text": [
      "train: 0.4989 loss: 10.75259375093682\n",
      "train val: 0.3204 loss: 0.6943339343309403\n",
      "test: 0.4448 loss: 0.6937829238176346\n",
      "epoch time: 10.97min\n",
      "best model: /mnt/d/workspace/clotho/notebooks/checkpoints/harness_v5_lg_1.pkl\n",
      "best train: 0.4992\n",
      "best train val: 0.4884\n",
      "best test: 0.5496\n",
      "epoch 3 version: 5\n"
     ]
    },
    {
     "data": {
      "application/vnd.jupyter.widget-view+json": {
       "model_id": "c3dd5ea919944d75bb79e4e3f7c42b90",
       "version_major": 2,
       "version_minor": 0
      },
      "text/plain": [
       "train:   0%|          | 0/20000 [00:00<?, ?it/s]"
      ]
     },
     "metadata": {},
     "output_type": "display_data"
    },
    {
     "data": {
      "application/vnd.jupyter.widget-view+json": {
       "model_id": "c174d80bd1cd4ddd8f15607e9cbaa8c6",
       "version_major": 2,
       "version_minor": 0
      },
      "text/plain": [
       "train val:   0%|          | 0/10000 [00:00<?, ?it/s]"
      ]
     },
     "metadata": {},
     "output_type": "display_data"
    },
    {
     "data": {
      "application/vnd.jupyter.widget-view+json": {
       "model_id": "f591af7b51f946e3bd5fd3b4f7de0eff",
       "version_major": 2,
       "version_minor": 0
      },
      "text/plain": [
       "test:   0%|          | 0/10000 [00:00<?, ?it/s]"
      ]
     },
     "metadata": {},
     "output_type": "display_data"
    },
    {
     "name": "stdout",
     "output_type": "stream",
     "text": [
      "train: 0.50405 loss: 9.081369365858077\n",
      "train val: 0.3831 loss: 0.6932153350830078\n",
      "test: 0.4502 loss: 0.6931769266843796\n",
      "epoch time: 12.10min\n",
      "best model: /mnt/d/workspace/clotho/notebooks/checkpoints/harness_v5_lg_1.pkl\n",
      "best train: 0.4992\n",
      "best train val: 0.4884\n",
      "best test: 0.5496\n",
      "epoch 4 version: 5\n"
     ]
    },
    {
     "data": {
      "application/vnd.jupyter.widget-view+json": {
       "model_id": "88578b7dd9f84770ac41d7315dde9b34",
       "version_major": 2,
       "version_minor": 0
      },
      "text/plain": [
       "train:   0%|          | 0/20000 [00:00<?, ?it/s]"
      ]
     },
     "metadata": {},
     "output_type": "display_data"
    },
    {
     "data": {
      "application/vnd.jupyter.widget-view+json": {
       "model_id": "da0dd36b72954060a41279f8524bc1c1",
       "version_major": 2,
       "version_minor": 0
      },
      "text/plain": [
       "train val:   0%|          | 0/10000 [00:00<?, ?it/s]"
      ]
     },
     "metadata": {},
     "output_type": "display_data"
    },
    {
     "data": {
      "application/vnd.jupyter.widget-view+json": {
       "model_id": "d268e1bbe3cb4346b1f3abe7f8f3898a",
       "version_major": 2,
       "version_minor": 0
      },
      "text/plain": [
       "test:   0%|          | 0/10000 [00:00<?, ?it/s]"
      ]
     },
     "metadata": {},
     "output_type": "display_data"
    },
    {
     "name": "stdout",
     "output_type": "stream",
     "text": [
      "train: 0.50135 loss: 7.909156895579976\n",
      "train val: 0.3454 loss: 0.6934300962924957\n",
      "test: 0.4512 loss: 0.69326570520401\n",
      "epoch time: 11.11min\n",
      "best model: /mnt/d/workspace/clotho/notebooks/checkpoints/harness_v5_lg_1.pkl\n",
      "best train: 0.4992\n",
      "best train val: 0.4884\n",
      "best test: 0.5496\n",
      "epoch 5 version: 5\n"
     ]
    },
    {
     "data": {
      "application/vnd.jupyter.widget-view+json": {
       "model_id": "34971ab5c1d4467ba74ff3b51f61c046",
       "version_major": 2,
       "version_minor": 0
      },
      "text/plain": [
       "train:   0%|          | 0/20000 [00:00<?, ?it/s]"
      ]
     },
     "metadata": {},
     "output_type": "display_data"
    },
    {
     "data": {
      "application/vnd.jupyter.widget-view+json": {
       "model_id": "a140e9d556aa41a1a346c3ee5e6ac372",
       "version_major": 2,
       "version_minor": 0
      },
      "text/plain": [
       "train val:   0%|          | 0/10000 [00:00<?, ?it/s]"
      ]
     },
     "metadata": {},
     "output_type": "display_data"
    },
    {
     "data": {
      "application/vnd.jupyter.widget-view+json": {
       "model_id": "2bd3ba1547b04094a44daded640aa064",
       "version_major": 2,
       "version_minor": 0
      },
      "text/plain": [
       "test:   0%|          | 0/10000 [00:00<?, ?it/s]"
      ]
     },
     "metadata": {},
     "output_type": "display_data"
    },
    {
     "name": "stdout",
     "output_type": "stream",
     "text": [
      "train: 0.49755 loss: 6.5511417946808335\n",
      "train val: 0.3975 loss: 0.6931826505184173\n",
      "test: 0.5082 loss: 0.6931438806295395\n",
      "epoch time: 11.81min\n",
      "best model: /mnt/d/workspace/clotho/notebooks/checkpoints/harness_v5_lg_1.pkl\n",
      "best train: 0.4992\n",
      "best train val: 0.4884\n",
      "best test: 0.5496\n",
      "epoch 6 version: 5\n"
     ]
    },
    {
     "data": {
      "application/vnd.jupyter.widget-view+json": {
       "model_id": "0298b37c7e25442cb7b62ebf15ee532e",
       "version_major": 2,
       "version_minor": 0
      },
      "text/plain": [
       "train:   0%|          | 0/20000 [00:00<?, ?it/s]"
      ]
     },
     "metadata": {},
     "output_type": "display_data"
    },
    {
     "data": {
      "application/vnd.jupyter.widget-view+json": {
       "model_id": "b07f76da51344b888a98ca0dbf43e6c1",
       "version_major": 2,
       "version_minor": 0
      },
      "text/plain": [
       "train val:   0%|          | 0/10000 [00:00<?, ?it/s]"
      ]
     },
     "metadata": {},
     "output_type": "display_data"
    },
    {
     "data": {
      "application/vnd.jupyter.widget-view+json": {
       "model_id": "6ae7ee54546144c59c05db33889e324c",
       "version_major": 2,
       "version_minor": 0
      },
      "text/plain": [
       "test:   0%|          | 0/10000 [00:00<?, ?it/s]"
      ]
     },
     "metadata": {},
     "output_type": "display_data"
    },
    {
     "name": "stdout",
     "output_type": "stream",
     "text": [
      "train: 0.50075 loss: 5.373460801599408\n",
      "train val: 0.5337 loss: 0.6931405052661895\n",
      "test: 0.4806 loss: 0.6931503440856933\n",
      "epoch time: 11.45min\n",
      "removing /mnt/d/workspace/clotho/notebooks/checkpoints/stats_v5_lg_2.json\n",
      "removing /mnt/d/workspace/clotho/notebooks/checkpoints/harness_v5_lg_2.pkl\n",
      "best model: /mnt/d/workspace/clotho/notebooks/checkpoints/harness_v5_lg_6.pkl\n",
      "best train: 0.50075\n",
      "best train val: 0.5337\n",
      "best test: 0.4806\n",
      "epoch 7 version: 5\n"
     ]
    },
    {
     "data": {
      "application/vnd.jupyter.widget-view+json": {
       "model_id": "03b849546f9f447d9f5c297cfadc3956",
       "version_major": 2,
       "version_minor": 0
      },
      "text/plain": [
       "train:   0%|          | 0/20000 [00:00<?, ?it/s]"
      ]
     },
     "metadata": {},
     "output_type": "display_data"
    },
    {
     "data": {
      "application/vnd.jupyter.widget-view+json": {
       "model_id": "73cd7d86a9544ace8ed31e9821d14927",
       "version_major": 2,
       "version_minor": 0
      },
      "text/plain": [
       "train val:   0%|          | 0/10000 [00:00<?, ?it/s]"
      ]
     },
     "metadata": {},
     "output_type": "display_data"
    },
    {
     "data": {
      "application/vnd.jupyter.widget-view+json": {
       "model_id": "a5e8a6c683ba4625967a99f9ea2a6b78",
       "version_major": 2,
       "version_minor": 0
      },
      "text/plain": [
       "test:   0%|          | 0/10000 [00:00<?, ?it/s]"
      ]
     },
     "metadata": {},
     "output_type": "display_data"
    },
    {
     "name": "stdout",
     "output_type": "stream",
     "text": [
      "train: 0.5005 loss: 4.483215746455103\n",
      "train val: 0.5237 loss: 0.6931221861839294\n",
      "test: 0.4506 loss: 0.6932044440031052\n",
      "epoch time: 11.65min\n",
      "removing /mnt/d/workspace/clotho/notebooks/checkpoints/stats_v5_lg_4.json\n",
      "removing /mnt/d/workspace/clotho/notebooks/checkpoints/harness_v5_lg_4.pkl\n",
      "best model: /mnt/d/workspace/clotho/notebooks/checkpoints/harness_v5_lg_6.pkl\n",
      "best train: 0.50075\n",
      "best train val: 0.5337\n",
      "best test: 0.4806\n",
      "epoch 8 version: 5\n"
     ]
    },
    {
     "data": {
      "application/vnd.jupyter.widget-view+json": {
       "model_id": "c9b88df97a0c44468ca8c59a31144d2d",
       "version_major": 2,
       "version_minor": 0
      },
      "text/plain": [
       "train:   0%|          | 0/20000 [00:00<?, ?it/s]"
      ]
     },
     "metadata": {},
     "output_type": "display_data"
    },
    {
     "data": {
      "application/vnd.jupyter.widget-view+json": {
       "model_id": "ee76926c83e54228af932b524a51601e",
       "version_major": 2,
       "version_minor": 0
      },
      "text/plain": [
       "train val:   0%|          | 0/10000 [00:00<?, ?it/s]"
      ]
     },
     "metadata": {},
     "output_type": "display_data"
    },
    {
     "data": {
      "application/vnd.jupyter.widget-view+json": {
       "model_id": "e62108d0b6f9482f99fe1ac8d3201035",
       "version_major": 2,
       "version_minor": 0
      },
      "text/plain": [
       "test:   0%|          | 0/10000 [00:00<?, ?it/s]"
      ]
     },
     "metadata": {},
     "output_type": "display_data"
    },
    {
     "name": "stdout",
     "output_type": "stream",
     "text": [
      "train: 0.4964 loss: 4.063489686433811\n",
      "train val: 0.5147 loss: 0.6931432945251464\n",
      "test: 0.5027 loss: 0.6931470664978028\n",
      "epoch time: 11.33min\n",
      "removing /mnt/d/workspace/clotho/notebooks/checkpoints/stats_v5_lg_3.json\n",
      "removing /mnt/d/workspace/clotho/notebooks/checkpoints/harness_v5_lg_3.pkl\n",
      "best model: /mnt/d/workspace/clotho/notebooks/checkpoints/harness_v5_lg_6.pkl\n",
      "best train: 0.50075\n",
      "best train val: 0.5337\n",
      "best test: 0.4806\n",
      "epoch 9 version: 5\n"
     ]
    },
    {
     "data": {
      "application/vnd.jupyter.widget-view+json": {
       "model_id": "100065e33175437eb6cc090565c5b230",
       "version_major": 2,
       "version_minor": 0
      },
      "text/plain": [
       "train:   0%|          | 0/20000 [00:00<?, ?it/s]"
      ]
     },
     "metadata": {},
     "output_type": "display_data"
    },
    {
     "data": {
      "application/vnd.jupyter.widget-view+json": {
       "model_id": "f39c1a42d44847fab34a5d23710e91d1",
       "version_major": 2,
       "version_minor": 0
      },
      "text/plain": [
       "train val:   0%|          | 0/10000 [00:00<?, ?it/s]"
      ]
     },
     "metadata": {},
     "output_type": "display_data"
    },
    {
     "data": {
      "application/vnd.jupyter.widget-view+json": {
       "model_id": "d5e74b1e1ea54556b0122d9587caaea9",
       "version_major": 2,
       "version_minor": 0
      },
      "text/plain": [
       "test:   0%|          | 0/10000 [00:00<?, ?it/s]"
      ]
     },
     "metadata": {},
     "output_type": "display_data"
    },
    {
     "name": "stdout",
     "output_type": "stream",
     "text": [
      "train: 0.4971 loss: 2.851807884817783\n",
      "train val: 0.5047 loss: 0.6931453148126602\n",
      "test: 0.4806 loss: 0.6931525535583496\n",
      "epoch time: 11.67min\n",
      "removing /mnt/d/workspace/clotho/notebooks/checkpoints/stats_v5_lg_5.json\n",
      "removing /mnt/d/workspace/clotho/notebooks/checkpoints/harness_v5_lg_5.pkl\n",
      "best model: /mnt/d/workspace/clotho/notebooks/checkpoints/harness_v5_lg_6.pkl\n",
      "best train: 0.50075\n",
      "best train val: 0.5337\n",
      "best test: 0.4806\n"
     ]
    },
    {
     "data": {
      "application/vnd.jupyter.widget-view+json": {
       "model_id": "8c9975fd75a445679edd3c0aa6a6b5fa",
       "version_major": 2,
       "version_minor": 0
      },
      "text/plain": [
       "test val:   0%|          | 0/10000 [00:00<?, ?it/s]"
      ]
     },
     "metadata": {},
     "output_type": "display_data"
    },
    {
     "name": "stdout",
     "output_type": "stream",
     "text": [
      "test val: {'accuracy': 0.4706} loss: 0.6931550560474395\n",
      "correct\n"
     ]
    },
    {
     "data": {
      "text/html": [
       "<div>\n",
       "<style scoped>\n",
       "    .dataframe tbody tr th:only-of-type {\n",
       "        vertical-align: middle;\n",
       "    }\n",
       "\n",
       "    .dataframe tbody tr th {\n",
       "        vertical-align: top;\n",
       "    }\n",
       "\n",
       "    .dataframe thead th {\n",
       "        text-align: right;\n",
       "    }\n",
       "</style>\n",
       "<table border=\"1\" class=\"dataframe\">\n",
       "  <thead>\n",
       "    <tr style=\"text-align: right;\">\n",
       "      <th></th>\n",
       "      <th>gen_name</th>\n",
       "      <th>parent_left</th>\n",
       "      <th>child_left</th>\n",
       "      <th>parent_right</th>\n",
       "      <th>child_right</th>\n",
       "      <th>score_left</th>\n",
       "      <th>score_right</th>\n",
       "      <th>correct_is_right</th>\n",
       "      <th>logit_left</th>\n",
       "      <th>logit_right</th>\n",
       "      <th>preds</th>\n",
       "      <th>truth</th>\n",
       "    </tr>\n",
       "  </thead>\n",
       "  <tbody>\n",
       "    <tr>\n",
       "      <th>2</th>\n",
       "      <td>random--valid_weak;(st)</td>\n",
       "      <td>White Lotus</td>\n",
       "      <td>She Heard</td>\n",
       "      <td>Sewing. Sewing is awesome. I learned basic sew...</td>\n",
       "      <td>I started sewing to make a quilt out of a pile...</td>\n",
       "      <td>0</td>\n",
       "      <td>3</td>\n",
       "      <td>True</td>\n",
       "      <td>0.499969</td>\n",
       "      <td>0.500031</td>\n",
       "      <td>1</td>\n",
       "      <td>1</td>\n",
       "    </tr>\n",
       "    <tr>\n",
       "      <th>3</th>\n",
       "      <td>random--valid_weak;(st)</td>\n",
       "      <td>I can’t stand the smell of truffle oil. Makes ...</td>\n",
       "      <td>my cat's name is Guy, just so I can go \"hey Gu...</td>\n",
       "      <td>Guys….what is a big turn off that girls still ...</td>\n",
       "      <td>Long manicured nails</td>\n",
       "      <td>0</td>\n",
       "      <td>5</td>\n",
       "      <td>True</td>\n",
       "      <td>0.499969</td>\n",
       "      <td>0.500031</td>\n",
       "      <td>1</td>\n",
       "      <td>1</td>\n",
       "    </tr>\n",
       "    <tr>\n",
       "      <th>2</th>\n",
       "      <td>!copy--valid_weak;(st)</td>\n",
       "      <td>plus all the bodies you can bury with no one n...</td>\n",
       "      <td>Landscape maintenance, particularly if the cli...</td>\n",
       "      <td>Landscape maintenance, particularly if the cli...</td>\n",
       "      <td>plus all the bodies you can bury with no one n...</td>\n",
       "      <td>0</td>\n",
       "      <td>6</td>\n",
       "      <td>True</td>\n",
       "      <td>0.499969</td>\n",
       "      <td>0.500031</td>\n",
       "      <td>1</td>\n",
       "      <td>1</td>\n",
       "    </tr>\n",
       "    <tr>\n",
       "      <th>3</th>\n",
       "      <td>random--valid_weak;(st)</td>\n",
       "      <td>Perfect Dark (N64)</td>\n",
       "      <td>Exactly. In the 1960s I had their album, \"[The...</td>\n",
       "      <td>Not using 1-10, how attractive are you?</td>\n",
       "      <td>I look like a dwarf from Middle Earth.</td>\n",
       "      <td>0</td>\n",
       "      <td>1</td>\n",
       "      <td>True</td>\n",
       "      <td>0.499969</td>\n",
       "      <td>0.500031</td>\n",
       "      <td>1</td>\n",
       "      <td>1</td>\n",
       "    </tr>\n",
       "    <tr>\n",
       "      <th>0</th>\n",
       "      <td>*valid_weak--random;(st)</td>\n",
       "      <td>&gt;Some day true 3D will be invented with true e...</td>\n",
       "      <td>It will also put strain on your eyes with exte...</td>\n",
       "      <td>Hard to find someone to suck it.</td>\n",
       "      <td>I'm with you 100% on Radiohead. All of their s...</td>\n",
       "      <td>8</td>\n",
       "      <td>0</td>\n",
       "      <td>False</td>\n",
       "      <td>0.500031</td>\n",
       "      <td>0.499969</td>\n",
       "      <td>0</td>\n",
       "      <td>0</td>\n",
       "    </tr>\n",
       "  </tbody>\n",
       "</table>\n",
       "</div>"
      ],
      "text/plain": [
       "                   gen_name  \\\n",
       "2   random--valid_weak;(st)   \n",
       "3   random--valid_weak;(st)   \n",
       "2    !copy--valid_weak;(st)   \n",
       "3   random--valid_weak;(st)   \n",
       "0  *valid_weak--random;(st)   \n",
       "\n",
       "                                         parent_left  \\\n",
       "2                                        White Lotus   \n",
       "3  I can’t stand the smell of truffle oil. Makes ...   \n",
       "2  plus all the bodies you can bury with no one n...   \n",
       "3                                 Perfect Dark (N64)   \n",
       "0  >Some day true 3D will be invented with true e...   \n",
       "\n",
       "                                          child_left  \\\n",
       "2                                          She Heard   \n",
       "3  my cat's name is Guy, just so I can go \"hey Gu...   \n",
       "2  Landscape maintenance, particularly if the cli...   \n",
       "3  Exactly. In the 1960s I had their album, \"[The...   \n",
       "0  It will also put strain on your eyes with exte...   \n",
       "\n",
       "                                        parent_right  \\\n",
       "2  Sewing. Sewing is awesome. I learned basic sew...   \n",
       "3  Guys….what is a big turn off that girls still ...   \n",
       "2  Landscape maintenance, particularly if the cli...   \n",
       "3            Not using 1-10, how attractive are you?   \n",
       "0                   Hard to find someone to suck it.   \n",
       "\n",
       "                                         child_right  score_left  score_right  \\\n",
       "2  I started sewing to make a quilt out of a pile...           0            3   \n",
       "3                               Long manicured nails           0            5   \n",
       "2  plus all the bodies you can bury with no one n...           0            6   \n",
       "3             I look like a dwarf from Middle Earth.           0            1   \n",
       "0  I'm with you 100% on Radiohead. All of their s...           8            0   \n",
       "\n",
       "   correct_is_right  logit_left  logit_right  preds  truth  \n",
       "2              True    0.499969     0.500031      1      1  \n",
       "3              True    0.499969     0.500031      1      1  \n",
       "2              True    0.499969     0.500031      1      1  \n",
       "3              True    0.499969     0.500031      1      1  \n",
       "0             False    0.500031     0.499969      0      0  "
      ]
     },
     "metadata": {},
     "output_type": "display_data"
    },
    {
     "name": "stdout",
     "output_type": "stream",
     "text": [
      "incorrect\n"
     ]
    },
    {
     "data": {
      "text/html": [
       "<div>\n",
       "<style scoped>\n",
       "    .dataframe tbody tr th:only-of-type {\n",
       "        vertical-align: middle;\n",
       "    }\n",
       "\n",
       "    .dataframe tbody tr th {\n",
       "        vertical-align: top;\n",
       "    }\n",
       "\n",
       "    .dataframe thead th {\n",
       "        text-align: right;\n",
       "    }\n",
       "</style>\n",
       "<table border=\"1\" class=\"dataframe\">\n",
       "  <thead>\n",
       "    <tr style=\"text-align: right;\">\n",
       "      <th></th>\n",
       "      <th>gen_name</th>\n",
       "      <th>parent_left</th>\n",
       "      <th>child_left</th>\n",
       "      <th>parent_right</th>\n",
       "      <th>child_right</th>\n",
       "      <th>score_left</th>\n",
       "      <th>score_right</th>\n",
       "      <th>correct_is_right</th>\n",
       "      <th>logit_left</th>\n",
       "      <th>logit_right</th>\n",
       "      <th>preds</th>\n",
       "      <th>truth</th>\n",
       "    </tr>\n",
       "  </thead>\n",
       "  <tbody>\n",
       "    <tr>\n",
       "      <th>0</th>\n",
       "      <td>!copy--valid_weak;(st)</td>\n",
       "      <td>Well, shit dude.</td>\n",
       "      <td>Everyone in my family is nagging me with the f...</td>\n",
       "      <td>Everyone in my family is nagging me with the f...</td>\n",
       "      <td>Well, shit dude.</td>\n",
       "      <td>0</td>\n",
       "      <td>1</td>\n",
       "      <td>True</td>\n",
       "      <td>0.500000</td>\n",
       "      <td>0.500000</td>\n",
       "      <td>0</td>\n",
       "      <td>1</td>\n",
       "    </tr>\n",
       "    <tr>\n",
       "      <th>1</th>\n",
       "      <td>*valid_weak--!copy;(st)</td>\n",
       "      <td>Not using 1-10, how attractive are you?</td>\n",
       "      <td>Let's just say my Facebook relationship status...</td>\n",
       "      <td>Let's just say my Facebook relationship status...</td>\n",
       "      <td>Not using 1-10, how attractive are you?</td>\n",
       "      <td>1</td>\n",
       "      <td>0</td>\n",
       "      <td>False</td>\n",
       "      <td>0.499969</td>\n",
       "      <td>0.500031</td>\n",
       "      <td>1</td>\n",
       "      <td>0</td>\n",
       "    </tr>\n",
       "    <tr>\n",
       "      <th>0</th>\n",
       "      <td>random--valid_weak;(st)</td>\n",
       "      <td>It's baffling. With as far as they bend over b...</td>\n",
       "      <td>My girlfriends Dad is 75. If he started doing ...</td>\n",
       "      <td>If you could rename America what would it be c...</td>\n",
       "      <td>Gods Country Giant Sowglobe Dunning Kruger Cou...</td>\n",
       "      <td>0</td>\n",
       "      <td>1</td>\n",
       "      <td>True</td>\n",
       "      <td>0.500000</td>\n",
       "      <td>0.500000</td>\n",
       "      <td>0</td>\n",
       "      <td>1</td>\n",
       "    </tr>\n",
       "    <tr>\n",
       "      <th>1</th>\n",
       "      <td>random--valid_weak;(st)</td>\n",
       "      <td>i was gonna say, he knocks it out of the park ...</td>\n",
       "      <td>when itv drugs you and ruins your life fuck th...</td>\n",
       "      <td>[Serious] How would you react if your partner ...</td>\n",
       "      <td>Immediate breakup.</td>\n",
       "      <td>0</td>\n",
       "      <td>1</td>\n",
       "      <td>True</td>\n",
       "      <td>0.500061</td>\n",
       "      <td>0.499939</td>\n",
       "      <td>0</td>\n",
       "      <td>1</td>\n",
       "    </tr>\n",
       "    <tr>\n",
       "      <th>0</th>\n",
       "      <td>*valid_weak--!copy;(st)</td>\n",
       "      <td>Not using 1-10, how attractive are you?</td>\n",
       "      <td>Springsteen: Thunder Road: You ain’t a beauty,...</td>\n",
       "      <td>Springsteen: Thunder Road: You ain’t a beauty,...</td>\n",
       "      <td>Not using 1-10, how attractive are you?</td>\n",
       "      <td>1</td>\n",
       "      <td>0</td>\n",
       "      <td>False</td>\n",
       "      <td>0.499939</td>\n",
       "      <td>0.500061</td>\n",
       "      <td>1</td>\n",
       "      <td>0</td>\n",
       "    </tr>\n",
       "  </tbody>\n",
       "</table>\n",
       "</div>"
      ],
      "text/plain": [
       "                  gen_name                                        parent_left  \\\n",
       "0   !copy--valid_weak;(st)                                   Well, shit dude.   \n",
       "1  *valid_weak--!copy;(st)            Not using 1-10, how attractive are you?   \n",
       "0  random--valid_weak;(st)  It's baffling. With as far as they bend over b...   \n",
       "1  random--valid_weak;(st)  i was gonna say, he knocks it out of the park ...   \n",
       "0  *valid_weak--!copy;(st)            Not using 1-10, how attractive are you?   \n",
       "\n",
       "                                          child_left  \\\n",
       "0  Everyone in my family is nagging me with the f...   \n",
       "1  Let's just say my Facebook relationship status...   \n",
       "0  My girlfriends Dad is 75. If he started doing ...   \n",
       "1  when itv drugs you and ruins your life fuck th...   \n",
       "0  Springsteen: Thunder Road: You ain’t a beauty,...   \n",
       "\n",
       "                                        parent_right  \\\n",
       "0  Everyone in my family is nagging me with the f...   \n",
       "1  Let's just say my Facebook relationship status...   \n",
       "0  If you could rename America what would it be c...   \n",
       "1  [Serious] How would you react if your partner ...   \n",
       "0  Springsteen: Thunder Road: You ain’t a beauty,...   \n",
       "\n",
       "                                         child_right  score_left  score_right  \\\n",
       "0                                   Well, shit dude.           0            1   \n",
       "1            Not using 1-10, how attractive are you?           1            0   \n",
       "0  Gods Country Giant Sowglobe Dunning Kruger Cou...           0            1   \n",
       "1                                 Immediate breakup.           0            1   \n",
       "0            Not using 1-10, how attractive are you?           1            0   \n",
       "\n",
       "   correct_is_right  logit_left  logit_right  preds  truth  \n",
       "0              True    0.500000     0.500000      0      1  \n",
       "1             False    0.499969     0.500031      1      0  \n",
       "0              True    0.500000     0.500000      0      1  \n",
       "1              True    0.500061     0.499939      0      1  \n",
       "0             False    0.499939     0.500061      1      0  "
      ]
     },
     "metadata": {},
     "output_type": "display_data"
    },
    {
     "data": {
      "text/plain": [
       "array([[-0.44461572,  0.16472924,  1.7887629 , ...,  0.20999028,\n",
       "         0.7548615 ,  0.2653837 ],\n",
       "       [-0.44465595,  0.16473888,  1.7887021 , ...,  0.21003886,\n",
       "         0.75499034,  0.26537737],\n",
       "       [-0.44464856,  0.16479994,  1.7886547 , ...,  0.21007961,\n",
       "         0.7550183 ,  0.26535788],\n",
       "       [-0.44465774,  0.16472837,  1.7887119 , ...,  0.21003601,\n",
       "         0.7549954 ,  0.26537785]], dtype=float32)"
      ]
     },
     "metadata": {},
     "output_type": "display_data"
    },
    {
     "data": {
      "text/plain": [
       "array([[-0.44465965,  0.1647929 ,  1.788657  , ...,  0.21007624,\n",
       "         0.7550353 ,  0.26535693],\n",
       "       [-0.44466367,  0.1647391 ,  1.7887036 , ...,  0.21004637,\n",
       "         0.75501627,  0.26537466],\n",
       "       [-0.4446502 ,  0.16472459,  1.7887238 , ...,  0.21002999,\n",
       "         0.7549808 ,  0.2653825 ],\n",
       "       [-0.44465443,  0.16479789,  1.7886577 , ...,  0.21007963,\n",
       "         0.7550243 ,  0.26535928]], dtype=float32)"
      ]
     },
     "metadata": {},
     "output_type": "display_data"
    },
    {
     "data": {
      "text/plain": [
       "array([[-0.44465533,  0.16474128,  1.788706  , ...,  0.21003951,\n",
       "         0.7549989 ,  0.26537883],\n",
       "       [-0.44466612,  0.1647636 ,  1.7886854 , ...,  0.21006094,\n",
       "         0.75503707,  0.26536804],\n",
       "       [-0.44467017,  0.16476059,  1.7886832 , ...,  0.21006218,\n",
       "         0.7550418 ,  0.26536834],\n",
       "       [-0.44466698,  0.1647335 ,  1.7887019 , ...,  0.2100444 ,\n",
       "         0.7550217 ,  0.26537287]], dtype=float32)"
      ]
     },
     "metadata": {},
     "output_type": "display_data"
    },
    {
     "data": {
      "text/plain": [
       "array([[-0.44465628,  0.16479729,  1.7886567 , ...,  0.2100787 ,\n",
       "         0.7550284 ,  0.26535907],\n",
       "       [-0.44466245,  0.16479647,  1.7886539 , ...,  0.21007665,\n",
       "         0.7550358 ,  0.26535842],\n",
       "       [-0.44467077,  0.1647489 ,  1.7886933 , ...,  0.21005793,\n",
       "         0.75503445,  0.2653696 ],\n",
       "       [-0.44466504,  0.16476493,  1.7886784 , ...,  0.21005991,\n",
       "         0.7550341 ,  0.26536813]], dtype=float32)"
      ]
     },
     "metadata": {},
     "output_type": "display_data"
    },
    {
     "data": {
      "text/plain": [
       "array([[-0.44463208,  0.16472483,  1.7887449 , ...,  0.21001206,\n",
       "         0.7549239 ,  0.2653841 ],\n",
       "       [-0.44465864,  0.16473371,  1.7887121 , ...,  0.2100377 ,\n",
       "         0.7549999 ,  0.26537797],\n",
       "       [-0.44463807,  0.16472603,  1.7887377 , ...,  0.21001506,\n",
       "         0.7549264 ,  0.2653787 ],\n",
       "       [-0.4446566 ,  0.16479692,  1.7886559 , ...,  0.210077  ,\n",
       "         0.75503117,  0.2653577 ]], dtype=float32)"
      ]
     },
     "metadata": {},
     "output_type": "display_data"
    },
    {
     "data": {
      "text/plain": [
       "array([[-0.4446466 ,  0.16472916,  1.7887194 , ...,  0.21003033,\n",
       "         0.7549762 ,  0.26538116],\n",
       "       [-0.44466233,  0.16473214,  1.78871   , ...,  0.21003981,\n",
       "         0.7550081 ,  0.26537806],\n",
       "       [-0.44466135,  0.16479735,  1.7886525 , ...,  0.21007645,\n",
       "         0.7550349 ,  0.2653579 ],\n",
       "       [-0.44465277,  0.16479829,  1.7886556 , ...,  0.21007927,\n",
       "         0.75502414,  0.2653583 ]], dtype=float32)"
      ]
     },
     "metadata": {},
     "output_type": "display_data"
    },
    {
     "data": {
      "text/plain": [
       "array([[-0.44464773,  0.16473775,  1.788715  , ...,  0.21003178,\n",
       "         0.75497925,  0.26538152],\n",
       "       [-0.44465244,  0.16479717,  1.7886583 , ...,  0.21008062,\n",
       "         0.75502247,  0.26535922],\n",
       "       [-0.44465217,  0.16479768,  1.7886572 , ...,  0.21008056,\n",
       "         0.7550222 ,  0.26535848],\n",
       "       [-0.44464484,  0.16473027,  1.7887256 , ...,  0.21002483,\n",
       "         0.75496656,  0.26538375]], dtype=float32)"
      ]
     },
     "metadata": {},
     "output_type": "display_data"
    },
    {
     "data": {
      "text/plain": [
       "array([[-0.44466367,  0.1647391 ,  1.7887036 , ...,  0.21004637,\n",
       "         0.75501627,  0.26537466],\n",
       "       [-0.4446453 ,  0.16472583,  1.7887255 , ...,  0.21002299,\n",
       "         0.754956  ,  0.265379  ],\n",
       "       [-0.4446523 ,  0.16473037,  1.7887186 , ...,  0.21003224,\n",
       "         0.75498337,  0.26538077],\n",
       "       [-0.44465107,  0.1647973 ,  1.7886585 , ...,  0.21008077,\n",
       "         0.75502014,  0.26535875]], dtype=float32)"
      ]
     },
     "metadata": {},
     "output_type": "display_data"
    },
    {
     "data": {
      "text/plain": [
       "array([[-0.4446519 ,  0.16479881,  1.7886555 , ...,  0.21007937,\n",
       "         0.7550225 ,  0.26535836],\n",
       "       [-0.4446618 ,  0.16475886,  1.7886858 , ...,  0.21005493,\n",
       "         0.7550226 ,  0.26537266],\n",
       "       [-0.44466838,  0.16476107,  1.7886758 , ...,  0.21005951,\n",
       "         0.75503117,  0.26537117],\n",
       "       [-0.4446548 ,  0.16480014,  1.7886482 , ...,  0.21007669,\n",
       "         0.7550296 ,  0.26535547]], dtype=float32)"
      ]
     },
     "metadata": {},
     "output_type": "display_data"
    },
    {
     "data": {
      "text/plain": [
       "array([[-0.44466224,  0.16478032,  1.7886703 , ...,  0.21006854,\n",
       "         0.75503945,  0.26536435],\n",
       "       [-0.44466528,  0.16473693,  1.7887007 , ...,  0.21004643,\n",
       "         0.7550191 ,  0.2653742 ],\n",
       "       [-0.44464275,  0.16473179,  1.7887274 , ...,  0.21002187,\n",
       "         0.7549559 ,  0.26538557],\n",
       "       [-0.4446629 ,  0.16474798,  1.7886933 , ...,  0.21004863,\n",
       "         0.75501585,  0.2653735 ]], dtype=float32)"
      ]
     },
     "metadata": {},
     "output_type": "display_data"
    }
   ],
   "source": [
    "full_run(num_epochs=10, version=5, force_restart=False)"
   ]
  },
  {
   "cell_type": "code",
   "execution_count": 16,
   "id": "6f96ea3a-c5a9-4f38-959e-5f09dd6cca59",
   "metadata": {},
   "outputs": [
    {
     "name": "stdout",
     "output_type": "stream",
     "text": [
      "None 0\n",
      "epoch 0 version: -3\n"
     ]
    },
    {
     "data": {
      "application/vnd.jupyter.widget-view+json": {
       "model_id": "542ca5ec5436471fafb962edbffb4d0e",
       "version_major": 2,
       "version_minor": 0
      },
      "text/plain": [
       "train:   0%|          | 0/20000 [00:00<?, ?it/s]"
      ]
     },
     "metadata": {},
     "output_type": "display_data"
    },
    {
     "name": "stdout",
     "output_type": "stream",
     "text": [
      "built strong_links_cache in 70.6575s (275808 links)\n"
     ]
    },
    {
     "data": {
      "application/vnd.jupyter.widget-view+json": {
       "model_id": "29526ff6bcaa4e91b8357a5f52b2506e",
       "version_major": 2,
       "version_minor": 0
      },
      "text/plain": [
       "train val:   0%|          | 0/10000 [00:00<?, ?it/s]"
      ]
     },
     "metadata": {},
     "output_type": "display_data"
    },
    {
     "name": "stdout",
     "output_type": "stream",
     "text": [
      "built all_links_cache in 76.2563s (605713 links)\n"
     ]
    },
    {
     "data": {
      "application/vnd.jupyter.widget-view+json": {
       "model_id": "b40a8e5e29044875a5437c47140b2979",
       "version_major": 2,
       "version_minor": 0
      },
      "text/plain": [
       "test:   0%|          | 0/10000 [00:00<?, ?it/s]"
      ]
     },
     "metadata": {},
     "output_type": "display_data"
    },
    {
     "name": "stdout",
     "output_type": "stream",
     "text": [
      "built all_links_cache in 57.3800s (490724 links)\n",
      "train: 0.7029 loss: 0.5096569758756494\n",
      "train val: 0.8056 loss: 0.36415695526001507\n",
      "test: 0.6929 loss: 0.59414340736866\n",
      "epoch time: 129.79min\n",
      "best model: /mnt/d/workspace/clotho/notebooks/checkpoints/harness_v-3_lg_0.pkl\n",
      "best train: 0.7029\n",
      "best train val: 0.8056\n",
      "best test: 0.6929\n",
      "epoch 1 version: -3\n"
     ]
    },
    {
     "data": {
      "application/vnd.jupyter.widget-view+json": {
       "model_id": "4ceb1240f5354086937dcf45ff532221",
       "version_major": 2,
       "version_minor": 0
      },
      "text/plain": [
       "train:   0%|          | 0/20000 [00:00<?, ?it/s]"
      ]
     },
     "metadata": {},
     "output_type": "display_data"
    },
    {
     "data": {
      "application/vnd.jupyter.widget-view+json": {
       "model_id": "8a2752c7b6204c649e41df6114abc8d7",
       "version_major": 2,
       "version_minor": 0
      },
      "text/plain": [
       "train val:   0%|          | 0/10000 [00:00<?, ?it/s]"
      ]
     },
     "metadata": {},
     "output_type": "display_data"
    },
    {
     "data": {
      "application/vnd.jupyter.widget-view+json": {
       "model_id": "4bdd62d31b4c43fb84318be3699d7ecc",
       "version_major": 2,
       "version_minor": 0
      },
      "text/plain": [
       "test:   0%|          | 0/10000 [00:00<?, ?it/s]"
      ]
     },
     "metadata": {},
     "output_type": "display_data"
    },
    {
     "name": "stdout",
     "output_type": "stream",
     "text": [
      "train: 0.7521 loss: 0.4572932373171905\n",
      "train val: 0.799 loss: 0.3855644997537136\n",
      "test: 0.6387 loss: 0.6544704988852144\n",
      "epoch time: 65.72min\n",
      "best model: /mnt/d/workspace/clotho/notebooks/checkpoints/harness_v-3_lg_0.pkl\n",
      "best train: 0.7029\n",
      "best train val: 0.8056\n",
      "best test: 0.6929\n",
      "epoch 2 version: -3\n"
     ]
    },
    {
     "data": {
      "application/vnd.jupyter.widget-view+json": {
       "model_id": "48ae632b002348d7be9c6fe31d30d1c1",
       "version_major": 2,
       "version_minor": 0
      },
      "text/plain": [
       "train:   0%|          | 0/20000 [00:00<?, ?it/s]"
      ]
     },
     "metadata": {},
     "output_type": "display_data"
    },
    {
     "data": {
      "application/vnd.jupyter.widget-view+json": {
       "model_id": "a979f8a7679242bd9a7ad9c1ce0ee973",
       "version_major": 2,
       "version_minor": 0
      },
      "text/plain": [
       "train val:   0%|          | 0/10000 [00:00<?, ?it/s]"
      ]
     },
     "metadata": {},
     "output_type": "display_data"
    },
    {
     "data": {
      "application/vnd.jupyter.widget-view+json": {
       "model_id": "69f302cda2a24734989002e419d6ae2b",
       "version_major": 2,
       "version_minor": 0
      },
      "text/plain": [
       "test:   0%|          | 0/10000 [00:00<?, ?it/s]"
      ]
     },
     "metadata": {},
     "output_type": "display_data"
    },
    {
     "name": "stdout",
     "output_type": "stream",
     "text": [
      "train: 0.7584 loss: 0.44276316833591556\n",
      "train val: 0.8127 loss: 0.34400530768531246\n",
      "test: 0.5933 loss: 0.6576951273173094\n",
      "epoch time: 65.89min\n",
      "best model: /mnt/d/workspace/clotho/notebooks/checkpoints/harness_v-3_lg_2.pkl\n",
      "best train: 0.7584\n",
      "best train val: 0.8127\n",
      "best test: 0.5933\n",
      "epoch 3 version: -3\n"
     ]
    },
    {
     "data": {
      "application/vnd.jupyter.widget-view+json": {
       "model_id": "034c349f95744c48bc399443a1967b46",
       "version_major": 2,
       "version_minor": 0
      },
      "text/plain": [
       "train:   0%|          | 0/20000 [00:00<?, ?it/s]"
      ]
     },
     "metadata": {},
     "output_type": "display_data"
    },
    {
     "data": {
      "application/vnd.jupyter.widget-view+json": {
       "model_id": "5894b19e5cbb4efd9433b26f14c89656",
       "version_major": 2,
       "version_minor": 0
      },
      "text/plain": [
       "train val:   0%|          | 0/10000 [00:00<?, ?it/s]"
      ]
     },
     "metadata": {},
     "output_type": "display_data"
    },
    {
     "data": {
      "application/vnd.jupyter.widget-view+json": {
       "model_id": "17d3f694b6814427bdb13d2a7549e6e2",
       "version_major": 2,
       "version_minor": 0
      },
      "text/plain": [
       "test:   0%|          | 0/10000 [00:00<?, ?it/s]"
      ]
     },
     "metadata": {},
     "output_type": "display_data"
    },
    {
     "name": "stdout",
     "output_type": "stream",
     "text": [
      "train: 0.77465 loss: 0.4263849455788684\n",
      "train val: 0.8377 loss: 0.3110871869337512\n",
      "test: 0.6978 loss: 0.5630477796137333\n",
      "epoch time: 65.92min\n",
      "best model: /mnt/d/workspace/clotho/notebooks/checkpoints/harness_v-3_lg_3.pkl\n",
      "best train: 0.77465\n",
      "best train val: 0.8377\n",
      "best test: 0.6978\n",
      "epoch 4 version: -3\n"
     ]
    },
    {
     "data": {
      "application/vnd.jupyter.widget-view+json": {
       "model_id": "0c0acc89a6134172847927211bb89838",
       "version_major": 2,
       "version_minor": 0
      },
      "text/plain": [
       "train:   0%|          | 0/20000 [00:00<?, ?it/s]"
      ]
     },
     "metadata": {},
     "output_type": "display_data"
    },
    {
     "data": {
      "application/vnd.jupyter.widget-view+json": {
       "model_id": "fc489b4384824d4f88575b8e11d97764",
       "version_major": 2,
       "version_minor": 0
      },
      "text/plain": [
       "train val:   0%|          | 0/10000 [00:00<?, ?it/s]"
      ]
     },
     "metadata": {},
     "output_type": "display_data"
    },
    {
     "data": {
      "application/vnd.jupyter.widget-view+json": {
       "model_id": "9d5fd2dced9e4f27bfdb203b31667729",
       "version_major": 2,
       "version_minor": 0
      },
      "text/plain": [
       "test:   0%|          | 0/10000 [00:00<?, ?it/s]"
      ]
     },
     "metadata": {},
     "output_type": "display_data"
    },
    {
     "name": "stdout",
     "output_type": "stream",
     "text": [
      "train: 0.77885 loss: 0.4200058979800917\n",
      "train val: 0.8368 loss: 0.3109822786802426\n",
      "test: 0.6973 loss: 0.5674353887081146\n",
      "epoch time: 65.75min\n",
      "best model: /mnt/d/workspace/clotho/notebooks/checkpoints/harness_v-3_lg_3.pkl\n",
      "best train: 0.77465\n",
      "best train val: 0.8377\n",
      "best test: 0.6978\n",
      "epoch 5 version: -3\n"
     ]
    },
    {
     "data": {
      "application/vnd.jupyter.widget-view+json": {
       "model_id": "687783ae4e8e458f97d56f8d7ae65559",
       "version_major": 2,
       "version_minor": 0
      },
      "text/plain": [
       "train:   0%|          | 0/20000 [00:00<?, ?it/s]"
      ]
     },
     "metadata": {},
     "output_type": "display_data"
    },
    {
     "data": {
      "application/vnd.jupyter.widget-view+json": {
       "model_id": "01f3f94266fe40b2806093b9bcccb8fe",
       "version_major": 2,
       "version_minor": 0
      },
      "text/plain": [
       "train val:   0%|          | 0/10000 [00:00<?, ?it/s]"
      ]
     },
     "metadata": {},
     "output_type": "display_data"
    },
    {
     "data": {
      "application/vnd.jupyter.widget-view+json": {
       "model_id": "e448b41fac264749ad9c02fe7b178331",
       "version_major": 2,
       "version_minor": 0
      },
      "text/plain": [
       "test:   0%|          | 0/10000 [00:00<?, ?it/s]"
      ]
     },
     "metadata": {},
     "output_type": "display_data"
    },
    {
     "name": "stdout",
     "output_type": "stream",
     "text": [
      "train: 0.78905 loss: 0.4058155041833397\n",
      "train val: 0.842 loss: 0.3010558128292221\n",
      "test: 0.7413 loss: 0.5255230778977275\n",
      "epoch time: 65.84min\n",
      "best model: /mnt/d/workspace/clotho/notebooks/checkpoints/harness_v-3_lg_5.pkl\n",
      "best train: 0.78905\n",
      "best train val: 0.842\n",
      "best test: 0.7413\n",
      "epoch 6 version: -3\n"
     ]
    },
    {
     "data": {
      "application/vnd.jupyter.widget-view+json": {
       "model_id": "4b2b7b369fe04a4390b73eee83d2c83f",
       "version_major": 2,
       "version_minor": 0
      },
      "text/plain": [
       "train:   0%|          | 0/20000 [00:00<?, ?it/s]"
      ]
     },
     "metadata": {},
     "output_type": "display_data"
    },
    {
     "data": {
      "application/vnd.jupyter.widget-view+json": {
       "model_id": "5d6a502fda1d4bce98445b4909c29b7c",
       "version_major": 2,
       "version_minor": 0
      },
      "text/plain": [
       "train val:   0%|          | 0/10000 [00:00<?, ?it/s]"
      ]
     },
     "metadata": {},
     "output_type": "display_data"
    },
    {
     "data": {
      "application/vnd.jupyter.widget-view+json": {
       "model_id": "b111904914bf47b6959facf52c13d474",
       "version_major": 2,
       "version_minor": 0
      },
      "text/plain": [
       "test:   0%|          | 0/10000 [00:00<?, ?it/s]"
      ]
     },
     "metadata": {},
     "output_type": "display_data"
    },
    {
     "name": "stdout",
     "output_type": "stream",
     "text": [
      "train: 0.78765 loss: 0.40664703186455736\n",
      "train val: 0.8278 loss: 0.337340392997826\n",
      "test: 0.6645 loss: 0.6486616037163884\n",
      "epoch time: 65.99min\n",
      "removing /mnt/d/workspace/clotho/notebooks/checkpoints/stats_v-3_lg_1.json\n",
      "removing /mnt/d/workspace/clotho/notebooks/checkpoints/harness_v-3_lg_1.pkl\n",
      "best model: /mnt/d/workspace/clotho/notebooks/checkpoints/harness_v-3_lg_5.pkl\n",
      "best train: 0.78905\n",
      "best train val: 0.842\n",
      "best test: 0.7413\n",
      "epoch 7 version: -3\n"
     ]
    },
    {
     "data": {
      "application/vnd.jupyter.widget-view+json": {
       "model_id": "0261e3cd131f4bafaa8189703d29e20a",
       "version_major": 2,
       "version_minor": 0
      },
      "text/plain": [
       "train:   0%|          | 0/20000 [00:00<?, ?it/s]"
      ]
     },
     "metadata": {},
     "output_type": "display_data"
    },
    {
     "data": {
      "application/vnd.jupyter.widget-view+json": {
       "model_id": "89a9f0274b234dfaaf4375a74cdf2abf",
       "version_major": 2,
       "version_minor": 0
      },
      "text/plain": [
       "train val:   0%|          | 0/10000 [00:00<?, ?it/s]"
      ]
     },
     "metadata": {},
     "output_type": "display_data"
    },
    {
     "data": {
      "application/vnd.jupyter.widget-view+json": {
       "model_id": "7c0010a510f0414bbeb553d0f27f6edb",
       "version_major": 2,
       "version_minor": 0
      },
      "text/plain": [
       "test:   0%|          | 0/10000 [00:00<?, ?it/s]"
      ]
     },
     "metadata": {},
     "output_type": "display_data"
    },
    {
     "name": "stdout",
     "output_type": "stream",
     "text": [
      "train: 0.79685 loss: 0.39022107010645557\n",
      "train val: 0.843 loss: 0.2970799304151442\n",
      "test: 0.6895 loss: 0.5897641366258264\n",
      "epoch time: 65.91min\n",
      "removing /mnt/d/workspace/clotho/notebooks/checkpoints/stats_v-3_lg_0.json\n",
      "removing /mnt/d/workspace/clotho/notebooks/checkpoints/harness_v-3_lg_0.pkl\n",
      "best model: /mnt/d/workspace/clotho/notebooks/checkpoints/harness_v-3_lg_7.pkl\n",
      "best train: 0.79685\n",
      "best train val: 0.843\n",
      "best test: 0.6895\n",
      "epoch 8 version: -3\n"
     ]
    },
    {
     "data": {
      "application/vnd.jupyter.widget-view+json": {
       "model_id": "fc224780fb2a4f278f0dbd316ce8782e",
       "version_major": 2,
       "version_minor": 0
      },
      "text/plain": [
       "train:   0%|          | 0/20000 [00:00<?, ?it/s]"
      ]
     },
     "metadata": {},
     "output_type": "display_data"
    },
    {
     "data": {
      "application/vnd.jupyter.widget-view+json": {
       "model_id": "71df1dc455554cffb844f4bae77d12cc",
       "version_major": 2,
       "version_minor": 0
      },
      "text/plain": [
       "train val:   0%|          | 0/10000 [00:00<?, ?it/s]"
      ]
     },
     "metadata": {},
     "output_type": "display_data"
    },
    {
     "data": {
      "application/vnd.jupyter.widget-view+json": {
       "model_id": "181bce42ae0b4d3ebab3ad1a77860f77",
       "version_major": 2,
       "version_minor": 0
      },
      "text/plain": [
       "test:   0%|          | 0/10000 [00:00<?, ?it/s]"
      ]
     },
     "metadata": {},
     "output_type": "display_data"
    },
    {
     "name": "stdout",
     "output_type": "stream",
     "text": [
      "train: 0.79085 loss: 0.3971323452944693\n",
      "train val: 0.8393 loss: 0.30378693270824736\n",
      "test: 0.6839 loss: 0.5882849711820484\n",
      "epoch time: 66.39min\n",
      "removing /mnt/d/workspace/clotho/notebooks/checkpoints/stats_v-3_lg_2.json\n",
      "removing /mnt/d/workspace/clotho/notebooks/checkpoints/harness_v-3_lg_2.pkl\n",
      "best model: /mnt/d/workspace/clotho/notebooks/checkpoints/harness_v-3_lg_7.pkl\n",
      "best train: 0.79685\n",
      "best train val: 0.843\n",
      "best test: 0.6895\n",
      "epoch 9 version: -3\n"
     ]
    },
    {
     "data": {
      "application/vnd.jupyter.widget-view+json": {
       "model_id": "30d54b5797de4cf69d35109ee13a67fd",
       "version_major": 2,
       "version_minor": 0
      },
      "text/plain": [
       "train:   0%|          | 0/20000 [00:00<?, ?it/s]"
      ]
     },
     "metadata": {},
     "output_type": "display_data"
    },
    {
     "data": {
      "application/vnd.jupyter.widget-view+json": {
       "model_id": "ec57759fd90b44afbca1ebbdfb9304d7",
       "version_major": 2,
       "version_minor": 0
      },
      "text/plain": [
       "train val:   0%|          | 0/10000 [00:00<?, ?it/s]"
      ]
     },
     "metadata": {},
     "output_type": "display_data"
    },
    {
     "data": {
      "application/vnd.jupyter.widget-view+json": {
       "model_id": "5bdbde9b7e3f4296b28898aeedeeca20",
       "version_major": 2,
       "version_minor": 0
      },
      "text/plain": [
       "test:   0%|          | 0/10000 [00:00<?, ?it/s]"
      ]
     },
     "metadata": {},
     "output_type": "display_data"
    },
    {
     "name": "stdout",
     "output_type": "stream",
     "text": [
      "train: 0.80595 loss: 0.3752342271019035\n",
      "train val: 0.851 loss: 0.2985785769894952\n",
      "test: 0.6836 loss: 0.5982264354646206\n",
      "epoch time: 66.99min\n",
      "removing /mnt/d/workspace/clotho/notebooks/checkpoints/stats_v-3_lg_6.json\n",
      "removing /mnt/d/workspace/clotho/notebooks/checkpoints/harness_v-3_lg_6.pkl\n",
      "best model: /mnt/d/workspace/clotho/notebooks/checkpoints/harness_v-3_lg_9.pkl\n",
      "best train: 0.80595\n",
      "best train val: 0.851\n",
      "best test: 0.6836\n"
     ]
    },
    {
     "data": {
      "application/vnd.jupyter.widget-view+json": {
       "model_id": "b9efcde1645548dc8257ec1fd6334c15",
       "version_major": 2,
       "version_minor": 0
      },
      "text/plain": [
       "test val:   0%|          | 0/10000 [00:00<?, ?it/s]"
      ]
     },
     "metadata": {},
     "output_type": "display_data"
    },
    {
     "name": "stdout",
     "output_type": "stream",
     "text": [
      "built all_links_cache in 72.4994s (490724 links)\n",
      "test val: {'accuracy': 0.6807} loss: 0.6015771520972252\n",
      "correct\n"
     ]
    },
    {
     "data": {
      "text/html": [
       "<div>\n",
       "<style scoped>\n",
       "    .dataframe tbody tr th:only-of-type {\n",
       "        vertical-align: middle;\n",
       "    }\n",
       "\n",
       "    .dataframe tbody tr th {\n",
       "        vertical-align: top;\n",
       "    }\n",
       "\n",
       "    .dataframe thead th {\n",
       "        text-align: right;\n",
       "    }\n",
       "</style>\n",
       "<table border=\"1\" class=\"dataframe\">\n",
       "  <thead>\n",
       "    <tr style=\"text-align: right;\">\n",
       "      <th></th>\n",
       "      <th>gen_name</th>\n",
       "      <th>parent_left</th>\n",
       "      <th>child_left</th>\n",
       "      <th>parent_right</th>\n",
       "      <th>child_right</th>\n",
       "      <th>score_left</th>\n",
       "      <th>score_right</th>\n",
       "      <th>correct_is_right</th>\n",
       "      <th>logit_left</th>\n",
       "      <th>logit_right</th>\n",
       "      <th>preds</th>\n",
       "      <th>truth</th>\n",
       "    </tr>\n",
       "  </thead>\n",
       "  <tbody>\n",
       "    <tr>\n",
       "      <th>0</th>\n",
       "      <td>!copy--valid_weak;(st)</td>\n",
       "      <td>Well, shit dude.</td>\n",
       "      <td>Everyone in my family is nagging me with the f...</td>\n",
       "      <td>Everyone in my family is nagging me with the f...</td>\n",
       "      <td>Well, shit dude.</td>\n",
       "      <td>0</td>\n",
       "      <td>1</td>\n",
       "      <td>True</td>\n",
       "      <td>0.128658</td>\n",
       "      <td>0.871342</td>\n",
       "      <td>1</td>\n",
       "      <td>1</td>\n",
       "    </tr>\n",
       "    <tr>\n",
       "      <th>2</th>\n",
       "      <td>random--valid_weak;(st)</td>\n",
       "      <td>White Lotus</td>\n",
       "      <td>She Heard</td>\n",
       "      <td>Sewing. Sewing is awesome. I learned basic sew...</td>\n",
       "      <td>I started sewing to make a quilt out of a pile...</td>\n",
       "      <td>0</td>\n",
       "      <td>3</td>\n",
       "      <td>True</td>\n",
       "      <td>0.168017</td>\n",
       "      <td>0.831983</td>\n",
       "      <td>1</td>\n",
       "      <td>1</td>\n",
       "    </tr>\n",
       "    <tr>\n",
       "      <th>1</th>\n",
       "      <td>random--valid_weak;(st)</td>\n",
       "      <td>i was gonna say, he knocks it out of the park ...</td>\n",
       "      <td>when itv drugs you and ruins your life fuck th...</td>\n",
       "      <td>[Serious] How would you react if your partner ...</td>\n",
       "      <td>Immediate breakup.</td>\n",
       "      <td>0</td>\n",
       "      <td>1</td>\n",
       "      <td>True</td>\n",
       "      <td>0.108864</td>\n",
       "      <td>0.891136</td>\n",
       "      <td>1</td>\n",
       "      <td>1</td>\n",
       "    </tr>\n",
       "    <tr>\n",
       "      <th>2</th>\n",
       "      <td>!copy--valid_weak;(st)</td>\n",
       "      <td>plus all the bodies you can bury with no one n...</td>\n",
       "      <td>Landscape maintenance, particularly if the cli...</td>\n",
       "      <td>Landscape maintenance, particularly if the cli...</td>\n",
       "      <td>plus all the bodies you can bury with no one n...</td>\n",
       "      <td>0</td>\n",
       "      <td>6</td>\n",
       "      <td>True</td>\n",
       "      <td>0.441642</td>\n",
       "      <td>0.558358</td>\n",
       "      <td>1</td>\n",
       "      <td>1</td>\n",
       "    </tr>\n",
       "    <tr>\n",
       "      <th>0</th>\n",
       "      <td>*valid_weak--random;(st)</td>\n",
       "      <td>&gt;Some day true 3D will be invented with true e...</td>\n",
       "      <td>It will also put strain on your eyes with exte...</td>\n",
       "      <td>Hard to find someone to suck it.</td>\n",
       "      <td>I'm with you 100% on Radiohead. All of their s...</td>\n",
       "      <td>8</td>\n",
       "      <td>0</td>\n",
       "      <td>False</td>\n",
       "      <td>0.963053</td>\n",
       "      <td>0.036947</td>\n",
       "      <td>0</td>\n",
       "      <td>0</td>\n",
       "    </tr>\n",
       "  </tbody>\n",
       "</table>\n",
       "</div>"
      ],
      "text/plain": [
       "                   gen_name  \\\n",
       "0    !copy--valid_weak;(st)   \n",
       "2   random--valid_weak;(st)   \n",
       "1   random--valid_weak;(st)   \n",
       "2    !copy--valid_weak;(st)   \n",
       "0  *valid_weak--random;(st)   \n",
       "\n",
       "                                         parent_left  \\\n",
       "0                                   Well, shit dude.   \n",
       "2                                        White Lotus   \n",
       "1  i was gonna say, he knocks it out of the park ...   \n",
       "2  plus all the bodies you can bury with no one n...   \n",
       "0  >Some day true 3D will be invented with true e...   \n",
       "\n",
       "                                          child_left  \\\n",
       "0  Everyone in my family is nagging me with the f...   \n",
       "2                                          She Heard   \n",
       "1  when itv drugs you and ruins your life fuck th...   \n",
       "2  Landscape maintenance, particularly if the cli...   \n",
       "0  It will also put strain on your eyes with exte...   \n",
       "\n",
       "                                        parent_right  \\\n",
       "0  Everyone in my family is nagging me with the f...   \n",
       "2  Sewing. Sewing is awesome. I learned basic sew...   \n",
       "1  [Serious] How would you react if your partner ...   \n",
       "2  Landscape maintenance, particularly if the cli...   \n",
       "0                   Hard to find someone to suck it.   \n",
       "\n",
       "                                         child_right  score_left  score_right  \\\n",
       "0                                   Well, shit dude.           0            1   \n",
       "2  I started sewing to make a quilt out of a pile...           0            3   \n",
       "1                                 Immediate breakup.           0            1   \n",
       "2  plus all the bodies you can bury with no one n...           0            6   \n",
       "0  I'm with you 100% on Radiohead. All of their s...           8            0   \n",
       "\n",
       "   correct_is_right  logit_left  logit_right  preds  truth  \n",
       "0              True    0.128658     0.871342      1      1  \n",
       "2              True    0.168017     0.831983      1      1  \n",
       "1              True    0.108864     0.891136      1      1  \n",
       "2              True    0.441642     0.558358      1      1  \n",
       "0             False    0.963053     0.036947      0      0  "
      ]
     },
     "metadata": {},
     "output_type": "display_data"
    },
    {
     "name": "stdout",
     "output_type": "stream",
     "text": [
      "incorrect\n"
     ]
    },
    {
     "data": {
      "text/html": [
       "<div>\n",
       "<style scoped>\n",
       "    .dataframe tbody tr th:only-of-type {\n",
       "        vertical-align: middle;\n",
       "    }\n",
       "\n",
       "    .dataframe tbody tr th {\n",
       "        vertical-align: top;\n",
       "    }\n",
       "\n",
       "    .dataframe thead th {\n",
       "        text-align: right;\n",
       "    }\n",
       "</style>\n",
       "<table border=\"1\" class=\"dataframe\">\n",
       "  <thead>\n",
       "    <tr style=\"text-align: right;\">\n",
       "      <th></th>\n",
       "      <th>gen_name</th>\n",
       "      <th>parent_left</th>\n",
       "      <th>child_left</th>\n",
       "      <th>parent_right</th>\n",
       "      <th>child_right</th>\n",
       "      <th>score_left</th>\n",
       "      <th>score_right</th>\n",
       "      <th>correct_is_right</th>\n",
       "      <th>logit_left</th>\n",
       "      <th>logit_right</th>\n",
       "      <th>preds</th>\n",
       "      <th>truth</th>\n",
       "    </tr>\n",
       "  </thead>\n",
       "  <tbody>\n",
       "    <tr>\n",
       "      <th>1</th>\n",
       "      <td>*valid_weak--!copy;(st)</td>\n",
       "      <td>Not using 1-10, how attractive are you?</td>\n",
       "      <td>Let's just say my Facebook relationship status...</td>\n",
       "      <td>Let's just say my Facebook relationship status...</td>\n",
       "      <td>Not using 1-10, how attractive are you?</td>\n",
       "      <td>1</td>\n",
       "      <td>0</td>\n",
       "      <td>False</td>\n",
       "      <td>0.338560</td>\n",
       "      <td>0.661440</td>\n",
       "      <td>1</td>\n",
       "      <td>0</td>\n",
       "    </tr>\n",
       "    <tr>\n",
       "      <th>3</th>\n",
       "      <td>random--valid_weak;(st)</td>\n",
       "      <td>I can’t stand the smell of truffle oil. Makes ...</td>\n",
       "      <td>my cat's name is Guy, just so I can go \"hey Gu...</td>\n",
       "      <td>Guys….what is a big turn off that girls still ...</td>\n",
       "      <td>Long manicured nails</td>\n",
       "      <td>0</td>\n",
       "      <td>5</td>\n",
       "      <td>True</td>\n",
       "      <td>0.736657</td>\n",
       "      <td>0.263343</td>\n",
       "      <td>0</td>\n",
       "      <td>1</td>\n",
       "    </tr>\n",
       "    <tr>\n",
       "      <th>0</th>\n",
       "      <td>random--valid_weak;(st)</td>\n",
       "      <td>It's baffling. With as far as they bend over b...</td>\n",
       "      <td>My girlfriends Dad is 75. If he started doing ...</td>\n",
       "      <td>If you could rename America what would it be c...</td>\n",
       "      <td>Gods Country Giant Sowglobe Dunning Kruger Cou...</td>\n",
       "      <td>0</td>\n",
       "      <td>1</td>\n",
       "      <td>True</td>\n",
       "      <td>0.651265</td>\n",
       "      <td>0.348735</td>\n",
       "      <td>0</td>\n",
       "      <td>1</td>\n",
       "    </tr>\n",
       "    <tr>\n",
       "      <th>3</th>\n",
       "      <td>random--valid_weak;(st)</td>\n",
       "      <td>Perfect Dark (N64)</td>\n",
       "      <td>Exactly. In the 1960s I had their album, \"[The...</td>\n",
       "      <td>Not using 1-10, how attractive are you?</td>\n",
       "      <td>I look like a dwarf from Middle Earth.</td>\n",
       "      <td>0</td>\n",
       "      <td>1</td>\n",
       "      <td>True</td>\n",
       "      <td>0.935849</td>\n",
       "      <td>0.064151</td>\n",
       "      <td>0</td>\n",
       "      <td>1</td>\n",
       "    </tr>\n",
       "    <tr>\n",
       "      <th>2</th>\n",
       "      <td>*valid_weak--random;(st)</td>\n",
       "      <td>https://youtu.be/_BtemfoJ-WI</td>\n",
       "      <td>I looked it up, and this aired on November 18,...</td>\n",
       "      <td>I have phimosis, a condition that causes the f...</td>\n",
       "      <td>Elizabeth.</td>\n",
       "      <td>29</td>\n",
       "      <td>0</td>\n",
       "      <td>False</td>\n",
       "      <td>0.191251</td>\n",
       "      <td>0.808749</td>\n",
       "      <td>1</td>\n",
       "      <td>0</td>\n",
       "    </tr>\n",
       "  </tbody>\n",
       "</table>\n",
       "</div>"
      ],
      "text/plain": [
       "                   gen_name  \\\n",
       "1   *valid_weak--!copy;(st)   \n",
       "3   random--valid_weak;(st)   \n",
       "0   random--valid_weak;(st)   \n",
       "3   random--valid_weak;(st)   \n",
       "2  *valid_weak--random;(st)   \n",
       "\n",
       "                                         parent_left  \\\n",
       "1            Not using 1-10, how attractive are you?   \n",
       "3  I can’t stand the smell of truffle oil. Makes ...   \n",
       "0  It's baffling. With as far as they bend over b...   \n",
       "3                                 Perfect Dark (N64)   \n",
       "2                       https://youtu.be/_BtemfoJ-WI   \n",
       "\n",
       "                                          child_left  \\\n",
       "1  Let's just say my Facebook relationship status...   \n",
       "3  my cat's name is Guy, just so I can go \"hey Gu...   \n",
       "0  My girlfriends Dad is 75. If he started doing ...   \n",
       "3  Exactly. In the 1960s I had their album, \"[The...   \n",
       "2  I looked it up, and this aired on November 18,...   \n",
       "\n",
       "                                        parent_right  \\\n",
       "1  Let's just say my Facebook relationship status...   \n",
       "3  Guys….what is a big turn off that girls still ...   \n",
       "0  If you could rename America what would it be c...   \n",
       "3            Not using 1-10, how attractive are you?   \n",
       "2  I have phimosis, a condition that causes the f...   \n",
       "\n",
       "                                         child_right  score_left  score_right  \\\n",
       "1            Not using 1-10, how attractive are you?           1            0   \n",
       "3                               Long manicured nails           0            5   \n",
       "0  Gods Country Giant Sowglobe Dunning Kruger Cou...           0            1   \n",
       "3             I look like a dwarf from Middle Earth.           0            1   \n",
       "2                                         Elizabeth.          29            0   \n",
       "\n",
       "   correct_is_right  logit_left  logit_right  preds  truth  \n",
       "1             False    0.338560     0.661440      1      0  \n",
       "3              True    0.736657     0.263343      0      1  \n",
       "0              True    0.651265     0.348735      0      1  \n",
       "3              True    0.935849     0.064151      0      1  \n",
       "2             False    0.191251     0.808749      1      0  "
      ]
     },
     "metadata": {},
     "output_type": "display_data"
    },
    {
     "data": {
      "text/plain": [
       "array([[ 0.10768738, -0.08131819,  0.09858336, ..., -0.04356524,\n",
       "         0.01051933,  0.06033326],\n",
       "       [ 0.06492839, -0.05782213,  0.12229303, ..., -0.01920811,\n",
       "        -0.01286402,  0.04693888],\n",
       "       [-0.07097816, -0.03028177,  0.00886991, ..., -0.00946192,\n",
       "        -0.0337793 ,  0.0316041 ],\n",
       "       [-0.06181205,  0.06405862,  0.02625861, ..., -0.01270687,\n",
       "        -0.0016647 ,  0.06377281]], dtype=float32)"
      ]
     },
     "metadata": {},
     "output_type": "display_data"
    },
    {
     "data": {
      "text/plain": [
       "array([[-0.12447418,  0.00372925, -0.00475148, ...,  0.02081423,\n",
       "        -0.03710068, -0.01270879],\n",
       "       [-0.0291151 , -0.04420244,  0.02658057, ..., -0.02897739,\n",
       "        -0.09735007,  0.01067257],\n",
       "       [-0.04199046,  0.02537395,  0.00273097, ...,  0.01001184,\n",
       "        -0.08772774,  0.00347354],\n",
       "       [-0.02721385,  0.05499309,  0.0015216 , ..., -0.01031906,\n",
       "        -0.04150498,  0.05685985]], dtype=float32)"
      ]
     },
     "metadata": {},
     "output_type": "display_data"
    },
    {
     "data": {
      "text/plain": [
       "array([[-0.02523269, -0.01989212,  0.07330058, ...,  0.01213347,\n",
       "        -0.00379977,  0.00495582],\n",
       "       [ 0.03068529,  0.00764788, -0.06221808, ..., -0.01132019,\n",
       "        -0.04229642, -0.05313117],\n",
       "       [ 0.05562111, -0.06507725,  0.10803166, ...,  0.01483918,\n",
       "        -0.04379604, -0.01363704],\n",
       "       [-0.07516155, -0.01789999,  0.04845142, ...,  0.03983324,\n",
       "        -0.0077657 ,  0.03110836]], dtype=float32)"
      ]
     },
     "metadata": {},
     "output_type": "display_data"
    },
    {
     "data": {
      "text/plain": [
       "array([[-0.01524033, -0.0684968 ,  0.00780444, ...,  0.04278596,\n",
       "         0.02850527, -0.0119625 ],\n",
       "       [-0.10548459, -0.07035603, -0.00908784, ..., -0.01669315,\n",
       "        -0.09310503, -0.02225007],\n",
       "       [-0.0417087 ,  0.06396069, -0.07288795, ..., -0.02101443,\n",
       "        -0.05808226, -0.00573212],\n",
       "       [ 0.00531721,  0.06074793,  0.01790211, ...,  0.03289253,\n",
       "         0.0074426 ,  0.00760467]], dtype=float32)"
      ]
     },
     "metadata": {},
     "output_type": "display_data"
    },
    {
     "data": {
      "text/plain": [
       "array([[-0.05692117, -0.00439228,  0.06115094, ..., -0.0306766 ,\n",
       "        -0.10194326,  0.02380882],\n",
       "       [-0.02749131, -0.06126942,  0.01160748, ..., -0.02009454,\n",
       "        -0.02843967,  0.01348238],\n",
       "       [ 0.04592033, -0.07610321,  0.09405955, ..., -0.02786008,\n",
       "         0.05320943,  0.09069087],\n",
       "       [-0.06734598, -0.00116071, -0.04983638, ..., -0.0200885 ,\n",
       "        -0.03491648,  0.02463596]], dtype=float32)"
      ]
     },
     "metadata": {},
     "output_type": "display_data"
    },
    {
     "data": {
      "text/plain": [
       "array([[-0.01216118, -0.01027532,  0.05986409, ...,  0.00814815,\n",
       "         0.0119706 ,  0.0627512 ],\n",
       "       [ 0.15700738, -0.0628274 ,  0.03205046, ..., -0.04882665,\n",
       "         0.03913112, -0.01106808],\n",
       "       [-0.04884599,  0.03536889,  0.01952939, ..., -0.01736142,\n",
       "        -0.01588253,  0.07578498],\n",
       "       [-0.0386449 ,  0.08544032, -0.02326893, ..., -0.00108779,\n",
       "        -0.05551765,  0.03536721]], dtype=float32)"
      ]
     },
     "metadata": {},
     "output_type": "display_data"
    },
    {
     "data": {
      "text/plain": [
       "array([[-0.04273321,  0.01149174,  0.05313378, ...,  0.00142086,\n",
       "        -0.00078021,  0.04105023],\n",
       "       [-0.03048875,  0.0349448 ,  0.01686766, ...,  0.00365246,\n",
       "        -0.02248074,  0.06952373],\n",
       "       [-0.07949167,  0.01704806,  0.00135581, ...,  0.00447649,\n",
       "        -0.07217579,  0.02655156],\n",
       "       [-0.07770352, -0.09272111,  0.04150224, ..., -0.00820773,\n",
       "        -0.12882787, -0.13225487]], dtype=float32)"
      ]
     },
     "metadata": {},
     "output_type": "display_data"
    },
    {
     "data": {
      "text/plain": [
       "array([[-0.02874596, -0.04377675,  0.02673315, ..., -0.02858031,\n",
       "        -0.09688856,  0.01075301],\n",
       "       [ 0.04059798, -0.08266897,  0.038612  , ..., -0.01230833,\n",
       "         0.05540211,  0.03382163],\n",
       "       [ 0.07226831, -0.03781992,  0.06010635, ..., -0.04824931,\n",
       "         0.02993268,  0.05259719],\n",
       "       [-0.07388042,  0.06284337, -0.02998865, ...,  0.00921352,\n",
       "         0.00510864,  0.0192851 ]], dtype=float32)"
      ]
     },
     "metadata": {},
     "output_type": "display_data"
    },
    {
     "data": {
      "text/plain": [
       "array([[-0.02623415,  0.07114965,  0.04847452, ...,  0.03733629,\n",
       "        -0.04904086,  0.02071522],\n",
       "       [-0.07902232, -0.00171336, -0.03483646, ..., -0.00937016,\n",
       "        -0.11148877, -0.07994886],\n",
       "       [-0.00438465,  0.00019584,  0.04109041, ..., -0.01610458,\n",
       "         0.02371685,  0.06993052],\n",
       "       [-0.15049002, -0.02222895, -0.02070254, ...,  0.01974531,\n",
       "        -0.06894305,  0.01096964]], dtype=float32)"
      ]
     },
     "metadata": {},
     "output_type": "display_data"
    },
    {
     "data": {
      "text/plain": [
       "array([[ 0.04715401, -0.03544792,  0.02919866, ..., -0.02807448,\n",
       "        -0.02867752,  0.04718057],\n",
       "       [-0.00957002, -0.1633473 , -0.02208889, ..., -0.00587601,\n",
       "        -0.06482904,  0.01275759],\n",
       "       [-0.07073933,  0.08292375, -0.01460287, ...,  0.0041601 ,\n",
       "        -0.04598795,  0.00825759],\n",
       "       [-0.04071502,  0.00965045, -0.00085335, ..., -0.03802673,\n",
       "        -0.10826242, -0.01524383]], dtype=float32)"
      ]
     },
     "metadata": {},
     "output_type": "display_data"
    }
   ],
   "source": [
    "full_run(num_epochs=10, version=-3, force_restart=False)"
   ]
  },
  {
   "cell_type": "code",
   "execution_count": 20,
   "id": "871b92df-f498-4a04-af33-b82e4c9a0688",
   "metadata": {
    "collapsed": true,
    "jupyter": {
     "outputs_hidden": true
    },
    "tags": []
   },
   "outputs": [
    {
     "name": "stderr",
     "output_type": "stream",
     "text": [
      "Some weights of the model checkpoint at distilbert-base-uncased were not used when initializing DistilBertModel: ['vocab_transform.bias', 'vocab_transform.weight', 'vocab_layer_norm.bias', 'vocab_layer_norm.weight', 'vocab_projector.bias', 'vocab_projector.weight']\n",
      "- This IS expected if you are initializing DistilBertModel from the checkpoint of a model trained on another task or with another architecture (e.g. initializing a BertForSequenceClassification model from a BertForPreTraining model).\n",
      "- This IS NOT expected if you are initializing DistilBertModel from the checkpoint of a model that you expect to be exactly identical (initializing a BertForSequenceClassification model from a BertForSequenceClassification model).\n"
     ]
    },
    {
     "name": "stdout",
     "output_type": "stream",
     "text": [
      "('harness_v-1_lg_9.pkl', 9) 10\n",
      "epoch 10 version: -1\n"
     ]
    },
    {
     "data": {
      "application/vnd.jupyter.widget-view+json": {
       "model_id": "2ab710590e124020a15f1265883132a0",
       "version_major": 2,
       "version_minor": 0
      },
      "text/plain": [
       "train:   0%|          | 0/20000 [00:00<?, ?it/s]"
      ]
     },
     "metadata": {},
     "output_type": "display_data"
    },
    {
     "name": "stdout",
     "output_type": "stream",
     "text": [
      "built all_links_cache in 68.8344s (605713 links)\n"
     ]
    },
    {
     "data": {
      "application/vnd.jupyter.widget-view+json": {
       "model_id": "80a9769ee80542bbad205deef86a8b07",
       "version_major": 2,
       "version_minor": 0
      },
      "text/plain": [
       "train val:   0%|          | 0/10000 [00:00<?, ?it/s]"
      ]
     },
     "metadata": {},
     "output_type": "display_data"
    },
    {
     "data": {
      "application/vnd.jupyter.widget-view+json": {
       "model_id": "ead700f91db447e38ece26e58fdfc18f",
       "version_major": 2,
       "version_minor": 0
      },
      "text/plain": [
       "test:   0%|          | 0/10000 [00:00<?, ?it/s]"
      ]
     },
     "metadata": {},
     "output_type": "display_data"
    },
    {
     "name": "stdout",
     "output_type": "stream",
     "text": [
      "train: 0.65615 loss: 0.597411443001777\n",
      "train val: 0.7417 loss: 0.47847927834391596\n",
      "test: 0.6572 loss: 0.5696673914462328\n",
      "epoch time: 75.89min\n",
      "removing /mnt/d/workspace/clotho/notebooks/checkpoints/stats_v-1_lg_4.json\n",
      "removing /mnt/d/workspace/clotho/notebooks/checkpoints/harness_v-1_lg_4.pkl\n",
      "best model: /mnt/d/workspace/clotho/notebooks/checkpoints/harness_v-1_lg_9.pkl\n",
      "best train: 0.7337\n",
      "best train val: 0.7465\n",
      "best test: 0.6634\n",
      "epoch 11 version: -1\n"
     ]
    },
    {
     "data": {
      "application/vnd.jupyter.widget-view+json": {
       "model_id": "eaa55ac7e7b54e6cb0e83ec0178872b1",
       "version_major": 2,
       "version_minor": 0
      },
      "text/plain": [
       "train:   0%|          | 0/20000 [00:00<?, ?it/s]"
      ]
     },
     "metadata": {},
     "output_type": "display_data"
    },
    {
     "data": {
      "application/vnd.jupyter.widget-view+json": {
       "model_id": "ff5c21c4a40e49819c5e079dbbcaa6ea",
       "version_major": 2,
       "version_minor": 0
      },
      "text/plain": [
       "train val:   0%|          | 0/10000 [00:00<?, ?it/s]"
      ]
     },
     "metadata": {},
     "output_type": "display_data"
    },
    {
     "data": {
      "application/vnd.jupyter.widget-view+json": {
       "model_id": "c36a8bf5e40d4a25923199be3c4852e2",
       "version_major": 2,
       "version_minor": 0
      },
      "text/plain": [
       "test:   0%|          | 0/10000 [00:00<?, ?it/s]"
      ]
     },
     "metadata": {},
     "output_type": "display_data"
    },
    {
     "name": "stdout",
     "output_type": "stream",
     "text": [
      "train: 0.65285 loss: 0.595761116977036\n",
      "train val: 0.7344 loss: 0.48728228056877854\n",
      "test: 0.6561 loss: 0.5815867699414492\n",
      "epoch time: 71.61min\n",
      "removing /mnt/d/workspace/clotho/notebooks/checkpoints/stats_v-1_lg_6.json\n",
      "removing /mnt/d/workspace/clotho/notebooks/checkpoints/harness_v-1_lg_6.pkl\n",
      "best model: /mnt/d/workspace/clotho/notebooks/checkpoints/harness_v-1_lg_9.pkl\n",
      "best train: 0.7337\n",
      "best train val: 0.7465\n",
      "best test: 0.6634\n",
      "epoch 12 version: -1\n"
     ]
    },
    {
     "data": {
      "application/vnd.jupyter.widget-view+json": {
       "model_id": "aca1e89d20dd4272941c408603ffa101",
       "version_major": 2,
       "version_minor": 0
      },
      "text/plain": [
       "train:   0%|          | 0/20000 [00:00<?, ?it/s]"
      ]
     },
     "metadata": {},
     "output_type": "display_data"
    },
    {
     "data": {
      "application/vnd.jupyter.widget-view+json": {
       "model_id": "c565e0d7c5654635999289f7d03c8c38",
       "version_major": 2,
       "version_minor": 0
      },
      "text/plain": [
       "train val:   0%|          | 0/10000 [00:00<?, ?it/s]"
      ]
     },
     "metadata": {},
     "output_type": "display_data"
    },
    {
     "data": {
      "application/vnd.jupyter.widget-view+json": {
       "model_id": "d765378b59dd4f448fcaa75428322751",
       "version_major": 2,
       "version_minor": 0
      },
      "text/plain": [
       "test:   0%|          | 0/10000 [00:00<?, ?it/s]"
      ]
     },
     "metadata": {},
     "output_type": "display_data"
    },
    {
     "name": "stdout",
     "output_type": "stream",
     "text": [
      "train: 0.6476 loss: 0.604348613782227\n",
      "train val: 0.7322 loss: 0.5172313256800175\n",
      "test: 0.6617 loss: 0.5845172898352146\n",
      "epoch time: 77.95min\n",
      "removing /mnt/d/workspace/clotho/notebooks/checkpoints/stats_v-1_lg_11.json\n",
      "removing /mnt/d/workspace/clotho/notebooks/checkpoints/harness_v-1_lg_11.pkl\n",
      "best model: /mnt/d/workspace/clotho/notebooks/checkpoints/harness_v-1_lg_9.pkl\n",
      "best train: 0.7337\n",
      "best train val: 0.7465\n",
      "best test: 0.6634\n",
      "epoch 13 version: -1\n"
     ]
    },
    {
     "data": {
      "application/vnd.jupyter.widget-view+json": {
       "model_id": "bde0b353e8a34d03ad2046d02bf52582",
       "version_major": 2,
       "version_minor": 0
      },
      "text/plain": [
       "train:   0%|          | 0/20000 [00:00<?, ?it/s]"
      ]
     },
     "metadata": {},
     "output_type": "display_data"
    },
    {
     "data": {
      "application/vnd.jupyter.widget-view+json": {
       "model_id": "5011763aa8544be8991ee1943dce189a",
       "version_major": 2,
       "version_minor": 0
      },
      "text/plain": [
       "train val:   0%|          | 0/10000 [00:00<?, ?it/s]"
      ]
     },
     "metadata": {},
     "output_type": "display_data"
    },
    {
     "data": {
      "application/vnd.jupyter.widget-view+json": {
       "model_id": "b08986daeb3f41efb505264f312da01b",
       "version_major": 2,
       "version_minor": 0
      },
      "text/plain": [
       "test:   0%|          | 0/10000 [00:00<?, ?it/s]"
      ]
     },
     "metadata": {},
     "output_type": "display_data"
    },
    {
     "name": "stdout",
     "output_type": "stream",
     "text": [
      "train: 0.6384 loss: 0.611833129325509\n",
      "train val: 0.734 loss: 0.524866348874569\n",
      "test: 0.6443 loss: 0.6077706357717514\n",
      "epoch time: 69.58min\n",
      "removing /mnt/d/workspace/clotho/notebooks/checkpoints/stats_v-1_lg_12.json\n",
      "removing /mnt/d/workspace/clotho/notebooks/checkpoints/harness_v-1_lg_12.pkl\n",
      "best model: /mnt/d/workspace/clotho/notebooks/checkpoints/harness_v-1_lg_9.pkl\n",
      "best train: 0.7337\n",
      "best train val: 0.7465\n",
      "best test: 0.6634\n",
      "epoch 14 version: -1\n"
     ]
    },
    {
     "data": {
      "application/vnd.jupyter.widget-view+json": {
       "model_id": "8192f90a81cc4f28ae302b53e5b60ae9",
       "version_major": 2,
       "version_minor": 0
      },
      "text/plain": [
       "train:   0%|          | 0/20000 [00:00<?, ?it/s]"
      ]
     },
     "metadata": {},
     "output_type": "display_data"
    },
    {
     "data": {
      "application/vnd.jupyter.widget-view+json": {
       "model_id": "7256459cf00849d88c5b689d346efc56",
       "version_major": 2,
       "version_minor": 0
      },
      "text/plain": [
       "train val:   0%|          | 0/10000 [00:00<?, ?it/s]"
      ]
     },
     "metadata": {},
     "output_type": "display_data"
    },
    {
     "data": {
      "application/vnd.jupyter.widget-view+json": {
       "model_id": "5a3b8e651fa54902bd56ee9866b78048",
       "version_major": 2,
       "version_minor": 0
      },
      "text/plain": [
       "test:   0%|          | 0/10000 [00:00<?, ?it/s]"
      ]
     },
     "metadata": {},
     "output_type": "display_data"
    },
    {
     "name": "stdout",
     "output_type": "stream",
     "text": [
      "train: 0.6444 loss: 0.6125589140027762\n",
      "train val: 0.7308 loss: 0.503226122623682\n",
      "test: 0.6439 loss: 0.602715317195654\n",
      "epoch time: 67.33min\n",
      "removing /mnt/d/workspace/clotho/notebooks/checkpoints/stats_v-1_lg_13.json\n",
      "removing /mnt/d/workspace/clotho/notebooks/checkpoints/harness_v-1_lg_13.pkl\n",
      "best model: /mnt/d/workspace/clotho/notebooks/checkpoints/harness_v-1_lg_9.pkl\n",
      "best train: 0.7337\n",
      "best train val: 0.7465\n",
      "best test: 0.6634\n",
      "epoch 15 version: -1\n"
     ]
    },
    {
     "data": {
      "application/vnd.jupyter.widget-view+json": {
       "model_id": "15ad6feb8c0b4b379fa525829e8b614e",
       "version_major": 2,
       "version_minor": 0
      },
      "text/plain": [
       "train:   0%|          | 0/20000 [00:00<?, ?it/s]"
      ]
     },
     "metadata": {},
     "output_type": "display_data"
    },
    {
     "data": {
      "application/vnd.jupyter.widget-view+json": {
       "model_id": "de5ffc6c8b5f4cef83ff44888cfe13db",
       "version_major": 2,
       "version_minor": 0
      },
      "text/plain": [
       "train val:   0%|          | 0/10000 [00:00<?, ?it/s]"
      ]
     },
     "metadata": {},
     "output_type": "display_data"
    },
    {
     "data": {
      "application/vnd.jupyter.widget-view+json": {
       "model_id": "c8a786da3eda4a9587435a2c167506d0",
       "version_major": 2,
       "version_minor": 0
      },
      "text/plain": [
       "test:   0%|          | 0/10000 [00:00<?, ?it/s]"
      ]
     },
     "metadata": {},
     "output_type": "display_data"
    },
    {
     "name": "stdout",
     "output_type": "stream",
     "text": [
      "train: 0.608 loss: 0.6479104961425066\n",
      "train val: 0.7245 loss: 0.5662819211959839\n",
      "test: 0.6194 loss: 0.6368333508014679\n",
      "epoch time: 66.88min\n",
      "removing /mnt/d/workspace/clotho/notebooks/checkpoints/stats_v-1_lg_14.json\n",
      "removing /mnt/d/workspace/clotho/notebooks/checkpoints/harness_v-1_lg_14.pkl\n",
      "best model: /mnt/d/workspace/clotho/notebooks/checkpoints/harness_v-1_lg_9.pkl\n",
      "best train: 0.7337\n",
      "best train val: 0.7465\n",
      "best test: 0.6634\n",
      "epoch 16 version: -1\n"
     ]
    },
    {
     "data": {
      "application/vnd.jupyter.widget-view+json": {
       "model_id": "0d2b20b8a13f4401ad5dcf9b8089d29b",
       "version_major": 2,
       "version_minor": 0
      },
      "text/plain": [
       "train:   0%|          | 0/20000 [00:00<?, ?it/s]"
      ]
     },
     "metadata": {},
     "output_type": "display_data"
    },
    {
     "data": {
      "application/vnd.jupyter.widget-view+json": {
       "model_id": "4d2e57c9a12f4420b1376637f10f2ea3",
       "version_major": 2,
       "version_minor": 0
      },
      "text/plain": [
       "train val:   0%|          | 0/10000 [00:00<?, ?it/s]"
      ]
     },
     "metadata": {},
     "output_type": "display_data"
    },
    {
     "data": {
      "application/vnd.jupyter.widget-view+json": {
       "model_id": "6d789b6efb4a4492ac8a08b05d3cb5ef",
       "version_major": 2,
       "version_minor": 0
      },
      "text/plain": [
       "test:   0%|          | 0/10000 [00:00<?, ?it/s]"
      ]
     },
     "metadata": {},
     "output_type": "display_data"
    },
    {
     "name": "stdout",
     "output_type": "stream",
     "text": [
      "train: 0.59765 loss: 0.6537652813345194\n",
      "train val: 0.7035 loss: 0.6081181736588478\n",
      "test: 0.6199 loss: 0.6539357124209404\n",
      "epoch time: 66.14min\n",
      "removing /mnt/d/workspace/clotho/notebooks/checkpoints/stats_v-1_lg_15.json\n",
      "removing /mnt/d/workspace/clotho/notebooks/checkpoints/harness_v-1_lg_15.pkl\n",
      "best model: /mnt/d/workspace/clotho/notebooks/checkpoints/harness_v-1_lg_9.pkl\n",
      "best train: 0.7337\n",
      "best train val: 0.7465\n",
      "best test: 0.6634\n",
      "epoch 17 version: -1\n"
     ]
    },
    {
     "data": {
      "application/vnd.jupyter.widget-view+json": {
       "model_id": "1a1c189dd86c40dcbdafa75eea1d8341",
       "version_major": 2,
       "version_minor": 0
      },
      "text/plain": [
       "train:   0%|          | 0/20000 [00:00<?, ?it/s]"
      ]
     },
     "metadata": {},
     "output_type": "display_data"
    },
    {
     "data": {
      "application/vnd.jupyter.widget-view+json": {
       "model_id": "fab16857595a4c26b1a5b44692ef2618",
       "version_major": 2,
       "version_minor": 0
      },
      "text/plain": [
       "train val:   0%|          | 0/10000 [00:00<?, ?it/s]"
      ]
     },
     "metadata": {},
     "output_type": "display_data"
    },
    {
     "data": {
      "application/vnd.jupyter.widget-view+json": {
       "model_id": "bf237b313c1e4279ae7edfef53377c73",
       "version_major": 2,
       "version_minor": 0
      },
      "text/plain": [
       "test:   0%|          | 0/10000 [00:00<?, ?it/s]"
      ]
     },
     "metadata": {},
     "output_type": "display_data"
    },
    {
     "name": "stdout",
     "output_type": "stream",
     "text": [
      "train: 0.5908 loss: 0.666096198529005\n",
      "train val: 0.7141 loss: 0.564372495085001\n",
      "test: 0.6352 loss: 0.6275992492079735\n",
      "epoch time: 65.49min\n",
      "removing /mnt/d/workspace/clotho/notebooks/checkpoints/stats_v-1_lg_16.json\n",
      "removing /mnt/d/workspace/clotho/notebooks/checkpoints/harness_v-1_lg_16.pkl\n",
      "best model: /mnt/d/workspace/clotho/notebooks/checkpoints/harness_v-1_lg_9.pkl\n",
      "best train: 0.7337\n",
      "best train val: 0.7465\n",
      "best test: 0.6634\n",
      "epoch 18 version: -1\n"
     ]
    },
    {
     "data": {
      "application/vnd.jupyter.widget-view+json": {
       "model_id": "874a259072ac4ffaa8d4785355b6749e",
       "version_major": 2,
       "version_minor": 0
      },
      "text/plain": [
       "train:   0%|          | 0/20000 [00:00<?, ?it/s]"
      ]
     },
     "metadata": {},
     "output_type": "display_data"
    },
    {
     "data": {
      "application/vnd.jupyter.widget-view+json": {
       "model_id": "7985192e986f441fb474dc1690a71d56",
       "version_major": 2,
       "version_minor": 0
      },
      "text/plain": [
       "train val:   0%|          | 0/10000 [00:00<?, ?it/s]"
      ]
     },
     "metadata": {},
     "output_type": "display_data"
    },
    {
     "data": {
      "application/vnd.jupyter.widget-view+json": {
       "model_id": "b04626a5b1b7426298f9ed484be5c955",
       "version_major": 2,
       "version_minor": 0
      },
      "text/plain": [
       "test:   0%|          | 0/10000 [00:00<?, ?it/s]"
      ]
     },
     "metadata": {},
     "output_type": "display_data"
    },
    {
     "name": "stdout",
     "output_type": "stream",
     "text": [
      "train: 0.6015 loss: 0.6652018338263035\n",
      "train val: 0.7291 loss: 0.5753090496182441\n",
      "test: 0.63 loss: 0.6339717852950096\n",
      "epoch time: 65.62min\n",
      "removing /mnt/d/workspace/clotho/notebooks/checkpoints/stats_v-1_lg_17.json\n",
      "removing /mnt/d/workspace/clotho/notebooks/checkpoints/harness_v-1_lg_17.pkl\n",
      "best model: /mnt/d/workspace/clotho/notebooks/checkpoints/harness_v-1_lg_9.pkl\n",
      "best train: 0.7337\n",
      "best train val: 0.7465\n",
      "best test: 0.6634\n",
      "epoch 19 version: -1\n"
     ]
    },
    {
     "data": {
      "application/vnd.jupyter.widget-view+json": {
       "model_id": "672e7541efcd4628b22743747ddd7880",
       "version_major": 2,
       "version_minor": 0
      },
      "text/plain": [
       "train:   0%|          | 0/20000 [00:00<?, ?it/s]"
      ]
     },
     "metadata": {},
     "output_type": "display_data"
    },
    {
     "data": {
      "application/vnd.jupyter.widget-view+json": {
       "model_id": "93ed6c6422d2432c9e2d277c126c4cac",
       "version_major": 2,
       "version_minor": 0
      },
      "text/plain": [
       "train val:   0%|          | 0/10000 [00:00<?, ?it/s]"
      ]
     },
     "metadata": {},
     "output_type": "display_data"
    },
    {
     "data": {
      "application/vnd.jupyter.widget-view+json": {
       "model_id": "07d40875b6b64f708c1b033bb7235bde",
       "version_major": 2,
       "version_minor": 0
      },
      "text/plain": [
       "test:   0%|          | 0/10000 [00:00<?, ?it/s]"
      ]
     },
     "metadata": {},
     "output_type": "display_data"
    },
    {
     "name": "stdout",
     "output_type": "stream",
     "text": [
      "train: 0.56665 loss: 0.7366283603131771\n",
      "train val: 0.6359 loss: 0.6626220513701438\n",
      "test: 0.5706 loss: 0.6804914269924164\n",
      "epoch time: 65.21min\n",
      "removing /mnt/d/workspace/clotho/notebooks/checkpoints/stats_v-1_lg_18.json\n",
      "removing /mnt/d/workspace/clotho/notebooks/checkpoints/harness_v-1_lg_18.pkl\n",
      "best model: /mnt/d/workspace/clotho/notebooks/checkpoints/harness_v-1_lg_9.pkl\n",
      "best train: 0.7337\n",
      "best train val: 0.7465\n",
      "best test: 0.6634\n",
      "epoch 20 version: -1\n"
     ]
    },
    {
     "data": {
      "application/vnd.jupyter.widget-view+json": {
       "model_id": "a7f0d2c3867c4f0093bf6748fc3db66a",
       "version_major": 2,
       "version_minor": 0
      },
      "text/plain": [
       "train:   0%|          | 0/20000 [00:00<?, ?it/s]"
      ]
     },
     "metadata": {},
     "output_type": "display_data"
    },
    {
     "data": {
      "application/vnd.jupyter.widget-view+json": {
       "model_id": "7ac545df6d5642d4b70fa0e10b0d8937",
       "version_major": 2,
       "version_minor": 0
      },
      "text/plain": [
       "train val:   0%|          | 0/10000 [00:00<?, ?it/s]"
      ]
     },
     "metadata": {},
     "output_type": "display_data"
    },
    {
     "data": {
      "application/vnd.jupyter.widget-view+json": {
       "model_id": "5c2b411cd9ad4eb4b82003b5ac435253",
       "version_major": 2,
       "version_minor": 0
      },
      "text/plain": [
       "test:   0%|          | 0/10000 [00:00<?, ?it/s]"
      ]
     },
     "metadata": {},
     "output_type": "display_data"
    },
    {
     "name": "stdout",
     "output_type": "stream",
     "text": [
      "train: 0.56015 loss: 0.6794795898675918\n",
      "train val: 0.6646 loss: 0.6486635946154594\n",
      "test: 0.5791 loss: 0.6768705542564392\n",
      "epoch time: 65.49min\n",
      "removing /mnt/d/workspace/clotho/notebooks/checkpoints/stats_v-1_lg_19.json\n",
      "removing /mnt/d/workspace/clotho/notebooks/checkpoints/harness_v-1_lg_19.pkl\n",
      "best model: /mnt/d/workspace/clotho/notebooks/checkpoints/harness_v-1_lg_9.pkl\n",
      "best train: 0.7337\n",
      "best train val: 0.7465\n",
      "best test: 0.6634\n",
      "epoch 21 version: -1\n"
     ]
    },
    {
     "data": {
      "application/vnd.jupyter.widget-view+json": {
       "model_id": "7396b703716046748501ef84c295b173",
       "version_major": 2,
       "version_minor": 0
      },
      "text/plain": [
       "train:   0%|          | 0/20000 [00:00<?, ?it/s]"
      ]
     },
     "metadata": {},
     "output_type": "display_data"
    },
    {
     "data": {
      "application/vnd.jupyter.widget-view+json": {
       "model_id": "a910dbf0864f4d64b5f715022c3a0623",
       "version_major": 2,
       "version_minor": 0
      },
      "text/plain": [
       "train val:   0%|          | 0/10000 [00:00<?, ?it/s]"
      ]
     },
     "metadata": {},
     "output_type": "display_data"
    },
    {
     "data": {
      "application/vnd.jupyter.widget-view+json": {
       "model_id": "e38e5b32f4ab40fbb62a839306b07c11",
       "version_major": 2,
       "version_minor": 0
      },
      "text/plain": [
       "test:   0%|          | 0/10000 [00:00<?, ?it/s]"
      ]
     },
     "metadata": {},
     "output_type": "display_data"
    },
    {
     "name": "stdout",
     "output_type": "stream",
     "text": [
      "train: 0.57085 loss: 0.674562119269371\n",
      "train val: 0.6946 loss: 0.6101052498102189\n",
      "test: 0.5948 loss: 0.6636063745856285\n",
      "epoch time: 65.43min\n",
      "removing /mnt/d/workspace/clotho/notebooks/checkpoints/stats_v-1_lg_20.json\n",
      "removing /mnt/d/workspace/clotho/notebooks/checkpoints/harness_v-1_lg_20.pkl\n",
      "best model: /mnt/d/workspace/clotho/notebooks/checkpoints/harness_v-1_lg_9.pkl\n",
      "best train: 0.7337\n",
      "best train val: 0.7465\n",
      "best test: 0.6634\n",
      "epoch 22 version: -1\n"
     ]
    },
    {
     "data": {
      "application/vnd.jupyter.widget-view+json": {
       "model_id": "8c17f4ad204246989f1712f100b17222",
       "version_major": 2,
       "version_minor": 0
      },
      "text/plain": [
       "train:   0%|          | 0/20000 [00:00<?, ?it/s]"
      ]
     },
     "metadata": {},
     "output_type": "display_data"
    },
    {
     "data": {
      "application/vnd.jupyter.widget-view+json": {
       "model_id": "84a91b8842cf4a44bc95baf62e829ef3",
       "version_major": 2,
       "version_minor": 0
      },
      "text/plain": [
       "train val:   0%|          | 0/10000 [00:00<?, ?it/s]"
      ]
     },
     "metadata": {},
     "output_type": "display_data"
    },
    {
     "data": {
      "application/vnd.jupyter.widget-view+json": {
       "model_id": "0d310394533548878d05aeb4032d4b5f",
       "version_major": 2,
       "version_minor": 0
      },
      "text/plain": [
       "test:   0%|          | 0/10000 [00:00<?, ?it/s]"
      ]
     },
     "metadata": {},
     "output_type": "display_data"
    },
    {
     "name": "stdout",
     "output_type": "stream",
     "text": [
      "train: 0.5734 loss: 0.6707601020276547\n",
      "train val: 0.7124 loss: 0.582824704015255\n",
      "test: 0.6134 loss: 0.6457760782599449\n",
      "epoch time: 64.96min\n",
      "removing /mnt/d/workspace/clotho/notebooks/checkpoints/stats_v-1_lg_21.json\n",
      "removing /mnt/d/workspace/clotho/notebooks/checkpoints/harness_v-1_lg_21.pkl\n",
      "best model: /mnt/d/workspace/clotho/notebooks/checkpoints/harness_v-1_lg_9.pkl\n",
      "best train: 0.7337\n",
      "best train val: 0.7465\n",
      "best test: 0.6634\n",
      "epoch 23 version: -1\n"
     ]
    },
    {
     "data": {
      "application/vnd.jupyter.widget-view+json": {
       "model_id": "cd451f6f13974a18a5d631e6604129b4",
       "version_major": 2,
       "version_minor": 0
      },
      "text/plain": [
       "train:   0%|          | 0/20000 [00:00<?, ?it/s]"
      ]
     },
     "metadata": {},
     "output_type": "display_data"
    },
    {
     "data": {
      "application/vnd.jupyter.widget-view+json": {
       "model_id": "9cf4a01fc5134e3391a7cfb02a8d510d",
       "version_major": 2,
       "version_minor": 0
      },
      "text/plain": [
       "train val:   0%|          | 0/10000 [00:00<?, ?it/s]"
      ]
     },
     "metadata": {},
     "output_type": "display_data"
    },
    {
     "data": {
      "application/vnd.jupyter.widget-view+json": {
       "model_id": "4b0596b282fa42c5801c9422876220b9",
       "version_major": 2,
       "version_minor": 0
      },
      "text/plain": [
       "test:   0%|          | 0/10000 [00:00<?, ?it/s]"
      ]
     },
     "metadata": {},
     "output_type": "display_data"
    },
    {
     "name": "stdout",
     "output_type": "stream",
     "text": [
      "train: 0.58015 loss: 0.6712478433847427\n",
      "train val: 0.677 loss: 0.5977899958312511\n",
      "test: 0.61 loss: 0.6408036467790603\n",
      "epoch time: 64.89min\n",
      "removing /mnt/d/workspace/clotho/notebooks/checkpoints/stats_v-1_lg_22.json\n",
      "removing /mnt/d/workspace/clotho/notebooks/checkpoints/harness_v-1_lg_22.pkl\n",
      "best model: /mnt/d/workspace/clotho/notebooks/checkpoints/harness_v-1_lg_9.pkl\n",
      "best train: 0.7337\n",
      "best train val: 0.7465\n",
      "best test: 0.6634\n",
      "epoch 24 version: -1\n"
     ]
    },
    {
     "data": {
      "application/vnd.jupyter.widget-view+json": {
       "model_id": "d8e9d03808e34849a3272aaf2ff58842",
       "version_major": 2,
       "version_minor": 0
      },
      "text/plain": [
       "train:   0%|          | 0/20000 [00:00<?, ?it/s]"
      ]
     },
     "metadata": {},
     "output_type": "display_data"
    },
    {
     "data": {
      "application/vnd.jupyter.widget-view+json": {
       "model_id": "0f4cf37cd9814674b8570ac26a5a2a6a",
       "version_major": 2,
       "version_minor": 0
      },
      "text/plain": [
       "train val:   0%|          | 0/10000 [00:00<?, ?it/s]"
      ]
     },
     "metadata": {},
     "output_type": "display_data"
    },
    {
     "data": {
      "application/vnd.jupyter.widget-view+json": {
       "model_id": "e2adc7416588498bbfd680ecd6d1c71f",
       "version_major": 2,
       "version_minor": 0
      },
      "text/plain": [
       "test:   0%|          | 0/10000 [00:00<?, ?it/s]"
      ]
     },
     "metadata": {},
     "output_type": "display_data"
    },
    {
     "name": "stdout",
     "output_type": "stream",
     "text": [
      "train: 0.56765 loss: 0.6721104172229767\n",
      "train val: 0.6899 loss: 0.5992989549636841\n",
      "test: 0.5852 loss: 0.6623459218978882\n",
      "epoch time: 65.59min\n",
      "removing /mnt/d/workspace/clotho/notebooks/checkpoints/stats_v-1_lg_23.json\n",
      "removing /mnt/d/workspace/clotho/notebooks/checkpoints/harness_v-1_lg_23.pkl\n",
      "best model: /mnt/d/workspace/clotho/notebooks/checkpoints/harness_v-1_lg_9.pkl\n",
      "best train: 0.7337\n",
      "best train val: 0.7465\n",
      "best test: 0.6634\n",
      "epoch 25 version: -1\n"
     ]
    },
    {
     "data": {
      "application/vnd.jupyter.widget-view+json": {
       "model_id": "3ed21cf4b3224dfbbee2a0b59d5d5db4",
       "version_major": 2,
       "version_minor": 0
      },
      "text/plain": [
       "train:   0%|          | 0/20000 [00:00<?, ?it/s]"
      ]
     },
     "metadata": {},
     "output_type": "display_data"
    },
    {
     "data": {
      "application/vnd.jupyter.widget-view+json": {
       "model_id": "f1e52064dc494005b97121f5bca3ba4d",
       "version_major": 2,
       "version_minor": 0
      },
      "text/plain": [
       "train val:   0%|          | 0/10000 [00:00<?, ?it/s]"
      ]
     },
     "metadata": {},
     "output_type": "display_data"
    },
    {
     "data": {
      "application/vnd.jupyter.widget-view+json": {
       "model_id": "c355805c98f0496681874f2794a4a7ad",
       "version_major": 2,
       "version_minor": 0
      },
      "text/plain": [
       "test:   0%|          | 0/10000 [00:00<?, ?it/s]"
      ]
     },
     "metadata": {},
     "output_type": "display_data"
    },
    {
     "name": "stdout",
     "output_type": "stream",
     "text": [
      "train: 0.57945 loss: 0.6775069969296456\n",
      "train val: 0.6973 loss: 0.5905710513710976\n",
      "test: 0.6077 loss: 0.6495954065799713\n",
      "epoch time: 65.61min\n",
      "removing /mnt/d/workspace/clotho/notebooks/checkpoints/stats_v-1_lg_24.json\n",
      "removing /mnt/d/workspace/clotho/notebooks/checkpoints/harness_v-1_lg_24.pkl\n",
      "best model: /mnt/d/workspace/clotho/notebooks/checkpoints/harness_v-1_lg_9.pkl\n",
      "best train: 0.7337\n",
      "best train val: 0.7465\n",
      "best test: 0.6634\n",
      "epoch 26 version: -1\n"
     ]
    },
    {
     "data": {
      "application/vnd.jupyter.widget-view+json": {
       "model_id": "182cd6b0cda546f683509f364727d33c",
       "version_major": 2,
       "version_minor": 0
      },
      "text/plain": [
       "train:   0%|          | 0/20000 [00:00<?, ?it/s]"
      ]
     },
     "metadata": {},
     "output_type": "display_data"
    },
    {
     "data": {
      "application/vnd.jupyter.widget-view+json": {
       "model_id": "693cdf8d25e94c2faddd46306aa1c145",
       "version_major": 2,
       "version_minor": 0
      },
      "text/plain": [
       "train val:   0%|          | 0/10000 [00:00<?, ?it/s]"
      ]
     },
     "metadata": {},
     "output_type": "display_data"
    },
    {
     "data": {
      "application/vnd.jupyter.widget-view+json": {
       "model_id": "60f768ef01e54fd5977f095d7966692c",
       "version_major": 2,
       "version_minor": 0
      },
      "text/plain": [
       "test:   0%|          | 0/10000 [00:00<?, ?it/s]"
      ]
     },
     "metadata": {},
     "output_type": "display_data"
    },
    {
     "name": "stdout",
     "output_type": "stream",
     "text": [
      "train: 0.56615 loss: 0.6726798747003079\n",
      "train val: 0.6841 loss: 0.6189922579288483\n",
      "test: 0.5892 loss: 0.6628651360630989\n",
      "epoch time: 65.10min\n",
      "removing /mnt/d/workspace/clotho/notebooks/checkpoints/stats_v-1_lg_25.json\n",
      "removing /mnt/d/workspace/clotho/notebooks/checkpoints/harness_v-1_lg_25.pkl\n",
      "best model: /mnt/d/workspace/clotho/notebooks/checkpoints/harness_v-1_lg_9.pkl\n",
      "best train: 0.7337\n",
      "best train val: 0.7465\n",
      "best test: 0.6634\n",
      "epoch 27 version: -1\n"
     ]
    },
    {
     "data": {
      "application/vnd.jupyter.widget-view+json": {
       "model_id": "f46c104b4a5549d991564b260940f351",
       "version_major": 2,
       "version_minor": 0
      },
      "text/plain": [
       "train:   0%|          | 0/20000 [00:00<?, ?it/s]"
      ]
     },
     "metadata": {},
     "output_type": "display_data"
    },
    {
     "data": {
      "application/vnd.jupyter.widget-view+json": {
       "model_id": "0d7cccc949474f62995a499a6fffd6f6",
       "version_major": 2,
       "version_minor": 0
      },
      "text/plain": [
       "train val:   0%|          | 0/10000 [00:00<?, ?it/s]"
      ]
     },
     "metadata": {},
     "output_type": "display_data"
    },
    {
     "data": {
      "application/vnd.jupyter.widget-view+json": {
       "model_id": "f3dc771fe0a1414d9edf1341106fa69e",
       "version_major": 2,
       "version_minor": 0
      },
      "text/plain": [
       "test:   0%|          | 0/10000 [00:00<?, ?it/s]"
      ]
     },
     "metadata": {},
     "output_type": "display_data"
    },
    {
     "name": "stdout",
     "output_type": "stream",
     "text": [
      "train: 0.56845 loss: 0.71427269166708\n",
      "train val: 0.7001 loss: 0.6064792775392532\n",
      "test: 0.6025 loss: 0.6586856439113616\n",
      "epoch time: 65.06min\n",
      "removing /mnt/d/workspace/clotho/notebooks/checkpoints/stats_v-1_lg_26.json\n",
      "removing /mnt/d/workspace/clotho/notebooks/checkpoints/harness_v-1_lg_26.pkl\n",
      "best model: /mnt/d/workspace/clotho/notebooks/checkpoints/harness_v-1_lg_9.pkl\n",
      "best train: 0.7337\n",
      "best train val: 0.7465\n",
      "best test: 0.6634\n",
      "epoch 28 version: -1\n"
     ]
    },
    {
     "data": {
      "application/vnd.jupyter.widget-view+json": {
       "model_id": "9f27481918644c538134e1b607b5c0b4",
       "version_major": 2,
       "version_minor": 0
      },
      "text/plain": [
       "train:   0%|          | 0/20000 [00:00<?, ?it/s]"
      ]
     },
     "metadata": {},
     "output_type": "display_data"
    },
    {
     "data": {
      "application/vnd.jupyter.widget-view+json": {
       "model_id": "1b51aaff7af54ec191d040bf1bea8309",
       "version_major": 2,
       "version_minor": 0
      },
      "text/plain": [
       "train val:   0%|          | 0/10000 [00:00<?, ?it/s]"
      ]
     },
     "metadata": {},
     "output_type": "display_data"
    },
    {
     "data": {
      "application/vnd.jupyter.widget-view+json": {
       "model_id": "89acb8cf660b47228a7c332d14d1cf18",
       "version_major": 2,
       "version_minor": 0
      },
      "text/plain": [
       "test:   0%|          | 0/10000 [00:00<?, ?it/s]"
      ]
     },
     "metadata": {},
     "output_type": "display_data"
    },
    {
     "name": "stdout",
     "output_type": "stream",
     "text": [
      "train: 0.5707 loss: 0.6726779572606086\n",
      "train val: 0.6775 loss: 0.6139620951175689\n",
      "test: 0.5911 loss: 0.6560835363030434\n",
      "epoch time: 65.49min\n",
      "removing /mnt/d/workspace/clotho/notebooks/checkpoints/stats_v-1_lg_27.json\n",
      "removing /mnt/d/workspace/clotho/notebooks/checkpoints/harness_v-1_lg_27.pkl\n",
      "best model: /mnt/d/workspace/clotho/notebooks/checkpoints/harness_v-1_lg_9.pkl\n",
      "best train: 0.7337\n",
      "best train val: 0.7465\n",
      "best test: 0.6634\n",
      "epoch 29 version: -1\n"
     ]
    },
    {
     "data": {
      "application/vnd.jupyter.widget-view+json": {
       "model_id": "afc98541f38a40c2b9d31a3619b20dfe",
       "version_major": 2,
       "version_minor": 0
      },
      "text/plain": [
       "train:   0%|          | 0/20000 [00:00<?, ?it/s]"
      ]
     },
     "metadata": {},
     "output_type": "display_data"
    },
    {
     "data": {
      "application/vnd.jupyter.widget-view+json": {
       "model_id": "f15d33a0484e40229dccb45bb192fb2a",
       "version_major": 2,
       "version_minor": 0
      },
      "text/plain": [
       "train val:   0%|          | 0/10000 [00:00<?, ?it/s]"
      ]
     },
     "metadata": {},
     "output_type": "display_data"
    },
    {
     "data": {
      "application/vnd.jupyter.widget-view+json": {
       "model_id": "e5b1b58414b84ebaa6cca7e7464ec061",
       "version_major": 2,
       "version_minor": 0
      },
      "text/plain": [
       "test:   0%|          | 0/10000 [00:00<?, ?it/s]"
      ]
     },
     "metadata": {},
     "output_type": "display_data"
    },
    {
     "name": "stdout",
     "output_type": "stream",
     "text": [
      "train: 0.5793 loss: 0.7050237389802932\n",
      "train val: 0.6899 loss: 0.5847786742568016\n",
      "test: 0.6086 loss: 0.6488981542110444\n",
      "epoch time: 65.55min\n",
      "removing /mnt/d/workspace/clotho/notebooks/checkpoints/stats_v-1_lg_28.json\n",
      "removing /mnt/d/workspace/clotho/notebooks/checkpoints/harness_v-1_lg_28.pkl\n",
      "best model: /mnt/d/workspace/clotho/notebooks/checkpoints/harness_v-1_lg_9.pkl\n",
      "best train: 0.7337\n",
      "best train val: 0.7465\n",
      "best test: 0.6634\n"
     ]
    },
    {
     "data": {
      "application/vnd.jupyter.widget-view+json": {
       "model_id": "6e9203d78c07462b8a8c62e6c8ccf368",
       "version_major": 2,
       "version_minor": 0
      },
      "text/plain": [
       "test val:   0%|          | 0/10000 [00:00<?, ?it/s]"
      ]
     },
     "metadata": {},
     "output_type": "display_data"
    },
    {
     "name": "stdout",
     "output_type": "stream",
     "text": [
      "test val: {'accuracy': 0.6017} loss: 0.6497914968013764\n",
      "correct\n"
     ]
    },
    {
     "data": {
      "text/html": [
       "<div>\n",
       "<style scoped>\n",
       "    .dataframe tbody tr th:only-of-type {\n",
       "        vertical-align: middle;\n",
       "    }\n",
       "\n",
       "    .dataframe tbody tr th {\n",
       "        vertical-align: top;\n",
       "    }\n",
       "\n",
       "    .dataframe thead th {\n",
       "        text-align: right;\n",
       "    }\n",
       "</style>\n",
       "<table border=\"1\" class=\"dataframe\">\n",
       "  <thead>\n",
       "    <tr style=\"text-align: right;\">\n",
       "      <th></th>\n",
       "      <th>gen_name</th>\n",
       "      <th>parent_left</th>\n",
       "      <th>child_left</th>\n",
       "      <th>parent_right</th>\n",
       "      <th>child_right</th>\n",
       "      <th>score_left</th>\n",
       "      <th>score_right</th>\n",
       "      <th>correct_is_right</th>\n",
       "      <th>logit_left</th>\n",
       "      <th>logit_right</th>\n",
       "      <th>preds</th>\n",
       "      <th>truth</th>\n",
       "    </tr>\n",
       "  </thead>\n",
       "  <tbody>\n",
       "    <tr>\n",
       "      <th>0</th>\n",
       "      <td>random--valid_weak;(st)</td>\n",
       "      <td>It's baffling. With as far as they bend over b...</td>\n",
       "      <td>My girlfriends Dad is 75. If he started doing ...</td>\n",
       "      <td>If you could rename America what would it be c...</td>\n",
       "      <td>Gods Country Giant Sowglobe Dunning Kruger Cou...</td>\n",
       "      <td>0</td>\n",
       "      <td>1</td>\n",
       "      <td>True</td>\n",
       "      <td>0.479039</td>\n",
       "      <td>0.520961</td>\n",
       "      <td>1</td>\n",
       "      <td>1</td>\n",
       "    </tr>\n",
       "    <tr>\n",
       "      <th>2</th>\n",
       "      <td>!copy--valid_weak;(st)</td>\n",
       "      <td>plus all the bodies you can bury with no one n...</td>\n",
       "      <td>Landscape maintenance, particularly if the cli...</td>\n",
       "      <td>Landscape maintenance, particularly if the cli...</td>\n",
       "      <td>plus all the bodies you can bury with no one n...</td>\n",
       "      <td>0</td>\n",
       "      <td>6</td>\n",
       "      <td>True</td>\n",
       "      <td>0.497337</td>\n",
       "      <td>0.502663</td>\n",
       "      <td>1</td>\n",
       "      <td>1</td>\n",
       "    </tr>\n",
       "    <tr>\n",
       "      <th>2</th>\n",
       "      <td>*valid_weak--!copy;(st)</td>\n",
       "      <td>Aliens are here, they ask for the best song we...</td>\n",
       "      <td>Space oddity</td>\n",
       "      <td>Space oddity</td>\n",
       "      <td>Aliens are here, they ask for the best song we...</td>\n",
       "      <td>1</td>\n",
       "      <td>0</td>\n",
       "      <td>False</td>\n",
       "      <td>0.500092</td>\n",
       "      <td>0.499908</td>\n",
       "      <td>0</td>\n",
       "      <td>0</td>\n",
       "    </tr>\n",
       "    <tr>\n",
       "      <th>0</th>\n",
       "      <td>random--valid_weak;(st)</td>\n",
       "      <td>Astrology - is absolute nonsense and people wh...</td>\n",
       "      <td>Angels WITH wings</td>\n",
       "      <td>What’s your favorite word in ANY language?</td>\n",
       "      <td>Solitude past tense predicated adjunct who giv...</td>\n",
       "      <td>0</td>\n",
       "      <td>1</td>\n",
       "      <td>True</td>\n",
       "      <td>0.393811</td>\n",
       "      <td>0.606189</td>\n",
       "      <td>1</td>\n",
       "      <td>1</td>\n",
       "    </tr>\n",
       "    <tr>\n",
       "      <th>1</th>\n",
       "      <td>*valid_weak--!copy;(st)</td>\n",
       "      <td>Fellow Non-Americans, what is something quite ...</td>\n",
       "      <td>Great asphalt, pavement. Not the mine fields y...</td>\n",
       "      <td>Great asphalt, pavement. Not the mine fields y...</td>\n",
       "      <td>Fellow Non-Americans, what is something quite ...</td>\n",
       "      <td>1</td>\n",
       "      <td>0</td>\n",
       "      <td>False</td>\n",
       "      <td>0.500233</td>\n",
       "      <td>0.499767</td>\n",
       "      <td>0</td>\n",
       "      <td>0</td>\n",
       "    </tr>\n",
       "  </tbody>\n",
       "</table>\n",
       "</div>"
      ],
      "text/plain": [
       "                  gen_name                                        parent_left  \\\n",
       "0  random--valid_weak;(st)  It's baffling. With as far as they bend over b...   \n",
       "2   !copy--valid_weak;(st)  plus all the bodies you can bury with no one n...   \n",
       "2  *valid_weak--!copy;(st)  Aliens are here, they ask for the best song we...   \n",
       "0  random--valid_weak;(st)  Astrology - is absolute nonsense and people wh...   \n",
       "1  *valid_weak--!copy;(st)  Fellow Non-Americans, what is something quite ...   \n",
       "\n",
       "                                          child_left  \\\n",
       "0  My girlfriends Dad is 75. If he started doing ...   \n",
       "2  Landscape maintenance, particularly if the cli...   \n",
       "2                                       Space oddity   \n",
       "0                                  Angels WITH wings   \n",
       "1  Great asphalt, pavement. Not the mine fields y...   \n",
       "\n",
       "                                        parent_right  \\\n",
       "0  If you could rename America what would it be c...   \n",
       "2  Landscape maintenance, particularly if the cli...   \n",
       "2                                       Space oddity   \n",
       "0         What’s your favorite word in ANY language?   \n",
       "1  Great asphalt, pavement. Not the mine fields y...   \n",
       "\n",
       "                                         child_right  score_left  score_right  \\\n",
       "0  Gods Country Giant Sowglobe Dunning Kruger Cou...           0            1   \n",
       "2  plus all the bodies you can bury with no one n...           0            6   \n",
       "2  Aliens are here, they ask for the best song we...           1            0   \n",
       "0  Solitude past tense predicated adjunct who giv...           0            1   \n",
       "1  Fellow Non-Americans, what is something quite ...           1            0   \n",
       "\n",
       "   correct_is_right  logit_left  logit_right  preds  truth  \n",
       "0              True    0.479039     0.520961      1      1  \n",
       "2              True    0.497337     0.502663      1      1  \n",
       "2             False    0.500092     0.499908      0      0  \n",
       "0              True    0.393811     0.606189      1      1  \n",
       "1             False    0.500233     0.499767      0      0  "
      ]
     },
     "metadata": {},
     "output_type": "display_data"
    },
    {
     "name": "stdout",
     "output_type": "stream",
     "text": [
      "incorrect\n"
     ]
    },
    {
     "data": {
      "text/html": [
       "<div>\n",
       "<style scoped>\n",
       "    .dataframe tbody tr th:only-of-type {\n",
       "        vertical-align: middle;\n",
       "    }\n",
       "\n",
       "    .dataframe tbody tr th {\n",
       "        vertical-align: top;\n",
       "    }\n",
       "\n",
       "    .dataframe thead th {\n",
       "        text-align: right;\n",
       "    }\n",
       "</style>\n",
       "<table border=\"1\" class=\"dataframe\">\n",
       "  <thead>\n",
       "    <tr style=\"text-align: right;\">\n",
       "      <th></th>\n",
       "      <th>gen_name</th>\n",
       "      <th>parent_left</th>\n",
       "      <th>child_left</th>\n",
       "      <th>parent_right</th>\n",
       "      <th>child_right</th>\n",
       "      <th>score_left</th>\n",
       "      <th>score_right</th>\n",
       "      <th>correct_is_right</th>\n",
       "      <th>logit_left</th>\n",
       "      <th>logit_right</th>\n",
       "      <th>preds</th>\n",
       "      <th>truth</th>\n",
       "    </tr>\n",
       "  </thead>\n",
       "  <tbody>\n",
       "    <tr>\n",
       "      <th>0</th>\n",
       "      <td>!copy--valid_weak;(st)</td>\n",
       "      <td>Well, shit dude.</td>\n",
       "      <td>Everyone in my family is nagging me with the f...</td>\n",
       "      <td>Everyone in my family is nagging me with the f...</td>\n",
       "      <td>Well, shit dude.</td>\n",
       "      <td>0</td>\n",
       "      <td>1</td>\n",
       "      <td>True</td>\n",
       "      <td>0.500168</td>\n",
       "      <td>0.499832</td>\n",
       "      <td>0</td>\n",
       "      <td>1</td>\n",
       "    </tr>\n",
       "    <tr>\n",
       "      <th>1</th>\n",
       "      <td>*valid_weak--!copy;(st)</td>\n",
       "      <td>Not using 1-10, how attractive are you?</td>\n",
       "      <td>Let's just say my Facebook relationship status...</td>\n",
       "      <td>Let's just say my Facebook relationship status...</td>\n",
       "      <td>Not using 1-10, how attractive are you?</td>\n",
       "      <td>1</td>\n",
       "      <td>0</td>\n",
       "      <td>False</td>\n",
       "      <td>0.499668</td>\n",
       "      <td>0.500332</td>\n",
       "      <td>1</td>\n",
       "      <td>0</td>\n",
       "    </tr>\n",
       "    <tr>\n",
       "      <th>2</th>\n",
       "      <td>random--valid_weak;(st)</td>\n",
       "      <td>White Lotus</td>\n",
       "      <td>She Heard</td>\n",
       "      <td>Sewing. Sewing is awesome. I learned basic sew...</td>\n",
       "      <td>I started sewing to make a quilt out of a pile...</td>\n",
       "      <td>0</td>\n",
       "      <td>3</td>\n",
       "      <td>True</td>\n",
       "      <td>0.543723</td>\n",
       "      <td>0.456277</td>\n",
       "      <td>0</td>\n",
       "      <td>1</td>\n",
       "    </tr>\n",
       "    <tr>\n",
       "      <th>3</th>\n",
       "      <td>random--valid_weak;(st)</td>\n",
       "      <td>I can’t stand the smell of truffle oil. Makes ...</td>\n",
       "      <td>my cat's name is Guy, just so I can go \"hey Gu...</td>\n",
       "      <td>Guys….what is a big turn off that girls still ...</td>\n",
       "      <td>Long manicured nails</td>\n",
       "      <td>0</td>\n",
       "      <td>5</td>\n",
       "      <td>True</td>\n",
       "      <td>0.550147</td>\n",
       "      <td>0.449853</td>\n",
       "      <td>0</td>\n",
       "      <td>1</td>\n",
       "    </tr>\n",
       "    <tr>\n",
       "      <th>1</th>\n",
       "      <td>random--valid_weak;(st)</td>\n",
       "      <td>i was gonna say, he knocks it out of the park ...</td>\n",
       "      <td>when itv drugs you and ruins your life fuck th...</td>\n",
       "      <td>[Serious] How would you react if your partner ...</td>\n",
       "      <td>Immediate breakup.</td>\n",
       "      <td>0</td>\n",
       "      <td>1</td>\n",
       "      <td>True</td>\n",
       "      <td>0.641359</td>\n",
       "      <td>0.358641</td>\n",
       "      <td>0</td>\n",
       "      <td>1</td>\n",
       "    </tr>\n",
       "  </tbody>\n",
       "</table>\n",
       "</div>"
      ],
      "text/plain": [
       "                  gen_name                                        parent_left  \\\n",
       "0   !copy--valid_weak;(st)                                   Well, shit dude.   \n",
       "1  *valid_weak--!copy;(st)            Not using 1-10, how attractive are you?   \n",
       "2  random--valid_weak;(st)                                        White Lotus   \n",
       "3  random--valid_weak;(st)  I can’t stand the smell of truffle oil. Makes ...   \n",
       "1  random--valid_weak;(st)  i was gonna say, he knocks it out of the park ...   \n",
       "\n",
       "                                          child_left  \\\n",
       "0  Everyone in my family is nagging me with the f...   \n",
       "1  Let's just say my Facebook relationship status...   \n",
       "2                                          She Heard   \n",
       "3  my cat's name is Guy, just so I can go \"hey Gu...   \n",
       "1  when itv drugs you and ruins your life fuck th...   \n",
       "\n",
       "                                        parent_right  \\\n",
       "0  Everyone in my family is nagging me with the f...   \n",
       "1  Let's just say my Facebook relationship status...   \n",
       "2  Sewing. Sewing is awesome. I learned basic sew...   \n",
       "3  Guys….what is a big turn off that girls still ...   \n",
       "1  [Serious] How would you react if your partner ...   \n",
       "\n",
       "                                         child_right  score_left  score_right  \\\n",
       "0                                   Well, shit dude.           0            1   \n",
       "1            Not using 1-10, how attractive are you?           1            0   \n",
       "2  I started sewing to make a quilt out of a pile...           0            3   \n",
       "3                               Long manicured nails           0            5   \n",
       "1                                 Immediate breakup.           0            1   \n",
       "\n",
       "   correct_is_right  logit_left  logit_right  preds  truth  \n",
       "0              True    0.500168     0.499832      0      1  \n",
       "1             False    0.499668     0.500332      1      0  \n",
       "2              True    0.543723     0.456277      0      1  \n",
       "3              True    0.550147     0.449853      0      1  \n",
       "1              True    0.641359     0.358641      0      1  "
      ]
     },
     "metadata": {},
     "output_type": "display_data"
    },
    {
     "data": {
      "text/plain": [
       "array([[-0.17977321, -0.03550394,  0.03775113, ...,  0.41167232,\n",
       "        -0.13000967, -0.00394272],\n",
       "       [-0.20240802, -0.06748848,  0.07771071, ...,  0.41528365,\n",
       "        -0.10716297, -0.00312138],\n",
       "       [-0.27947587, -0.07534123,  0.05990807, ...,  0.3327881 ,\n",
       "        -0.09132803,  0.03308413],\n",
       "       [-0.22918384, -0.05856928,  0.03910108, ...,  0.34439608,\n",
       "        -0.14842615,  0.01379438]], dtype=float32)"
      ]
     },
     "metadata": {},
     "output_type": "display_data"
    },
    {
     "data": {
      "text/plain": [
       "array([[-0.22382972, -0.0448324 ,  0.05543359, ...,  0.37906277,\n",
       "        -0.11149677,  0.00192956],\n",
       "       [-0.19922128, -0.03885331,  0.07838915, ...,  0.38828218,\n",
       "        -0.13070251,  0.01429273],\n",
       "       [-0.16885966, -0.04876931,  0.04405484, ...,  0.37296674,\n",
       "        -0.1660793 , -0.00097882],\n",
       "       [-0.2829559 , -0.07789068,  0.10613482, ...,  0.30945504,\n",
       "        -0.10019731,  0.02492238]], dtype=float32)"
      ]
     },
     "metadata": {},
     "output_type": "display_data"
    },
    {
     "data": {
      "text/plain": [
       "array([[-0.21882196, -0.06165564,  0.0817126 , ...,  0.3633775 ,\n",
       "        -0.12774377,  0.00484317],\n",
       "       [-0.17944878, -0.05968795,  0.01634369, ...,  0.37668103,\n",
       "        -0.16578051, -0.00229488],\n",
       "       [-0.14317027, -0.06542496,  0.08709719, ...,  0.39817005,\n",
       "        -0.13438594, -0.01611415],\n",
       "       [-0.22457173, -0.04193518,  0.06520648, ...,  0.38260227,\n",
       "        -0.0989443 , -0.01795064]], dtype=float32)"
      ]
     },
     "metadata": {},
     "output_type": "display_data"
    },
    {
     "data": {
      "text/plain": [
       "array([[-0.21645573, -0.04999232,  0.01534906, ...,  0.33659026,\n",
       "        -0.12096732,  0.03157941],\n",
       "       [-0.308467  , -0.10323017,  0.08838318, ...,  0.31344467,\n",
       "        -0.07611558,  0.03423808],\n",
       "       [-0.17379105, -0.08477516,  0.00360119, ...,  0.3688797 ,\n",
       "        -0.1573735 ,  0.03018542],\n",
       "       [-0.25100994, -0.10861668,  0.02474808, ...,  0.34187198,\n",
       "        -0.10014509,  0.06046539]], dtype=float32)"
      ]
     },
     "metadata": {},
     "output_type": "display_data"
    },
    {
     "data": {
      "text/plain": [
       "array([[-0.18299462, -0.08911631, -0.00150541, ...,  0.41739082,\n",
       "        -0.14916137,  0.01113496],\n",
       "       [-0.24525675, -0.06265371,  0.10126764, ...,  0.37241593,\n",
       "        -0.08066951, -0.00437258],\n",
       "       [-0.16228074, -0.03783703,  0.02874499, ...,  0.43392545,\n",
       "        -0.11959487, -0.02487446],\n",
       "       [-0.2926683 , -0.07820795,  0.09503706, ...,  0.32711488,\n",
       "        -0.07944737,  0.02151183]], dtype=float32)"
      ]
     },
     "metadata": {},
     "output_type": "display_data"
    },
    {
     "data": {
      "text/plain": [
       "array([[-0.21961202, -0.04409703,  0.05316635, ...,  0.38636613,\n",
       "        -0.11702938, -0.00676587],\n",
       "       [-0.20398249, -0.07169177, -0.00202861, ...,  0.37212148,\n",
       "        -0.16131754,  0.02692908],\n",
       "       [-0.28699008, -0.07522519,  0.05004616, ...,  0.3264634 ,\n",
       "        -0.08981069,  0.0399402 ],\n",
       "       [-0.25826797, -0.07547107,  0.06327439, ...,  0.32132956,\n",
       "        -0.12475533,  0.034598  ]], dtype=float32)"
      ]
     },
     "metadata": {},
     "output_type": "display_data"
    },
    {
     "data": {
      "text/plain": [
       "array([[-0.22160861, -0.04976817,  0.03992751, ...,  0.3760917 ,\n",
       "        -0.12957464,  0.00533186],\n",
       "       [-0.28045282, -0.08875145,  0.05451649, ...,  0.32292292,\n",
       "        -0.08700256,  0.0470499 ],\n",
       "       [-0.26689667, -0.06571285,  0.07573073, ...,  0.32195577,\n",
       "        -0.10957669,  0.03330638],\n",
       "       [-0.15940319, -0.10788478,  0.00121373, ...,  0.37272626,\n",
       "        -0.17257047,  0.01053531]], dtype=float32)"
      ]
     },
     "metadata": {},
     "output_type": "display_data"
    },
    {
     "data": {
      "text/plain": [
       "array([[-0.1992735 , -0.03889766,  0.07838546, ...,  0.38821036,\n",
       "        -0.1306535 ,  0.01420154],\n",
       "       [-0.19906367, -0.03751208,  0.06115982, ...,  0.40918177,\n",
       "        -0.0956584 , -0.02325248],\n",
       "       [-0.21448606, -0.041462  ,  0.05891516, ...,  0.3911989 ,\n",
       "        -0.10137113,  0.00237555],\n",
       "       [-0.26895744, -0.07274017,  0.05818442, ...,  0.3270503 ,\n",
       "        -0.11442769,  0.02584561]], dtype=float32)"
      ]
     },
     "metadata": {},
     "output_type": "display_data"
    },
    {
     "data": {
      "text/plain": [
       "array([[-0.25777555, -0.10431144,  0.0057184 , ...,  0.33074743,\n",
       "        -0.13257839,  0.05520876],\n",
       "       [-0.20931312, -0.04331321,  0.08796676, ...,  0.33835173,\n",
       "        -0.12737481,  0.01743154],\n",
       "       [-0.22849943, -0.09178904, -0.00588514, ...,  0.34379232,\n",
       "        -0.10203103,  0.06130239],\n",
       "       [-0.23603255, -0.05493734,  0.06183036, ...,  0.38459352,\n",
       "        -0.07469484,  0.0087808 ]], dtype=float32)"
      ]
     },
     "metadata": {},
     "output_type": "display_data"
    },
    {
     "data": {
      "text/plain": [
       "array([[-2.24060282e-01, -8.54282305e-02,  5.69192460e-03, ...,\n",
       "         3.67946833e-01, -1.16841555e-01,  5.04465178e-02],\n",
       "       [-1.96839437e-01, -2.44045239e-02,  3.05816494e-02, ...,\n",
       "         3.87275487e-01, -1.14892118e-01,  3.29019618e-04],\n",
       "       [-2.24905625e-01, -4.28817756e-02,  5.75421154e-02, ...,\n",
       "         3.55464488e-01, -1.43760338e-01, -4.51324834e-03],\n",
       "       [-2.15533048e-01, -9.41237807e-02,  4.65311445e-02, ...,\n",
       "         3.64747316e-01, -1.20042078e-01,  3.17580700e-02]], dtype=float32)"
      ]
     },
     "metadata": {},
     "output_type": "display_data"
    }
   ],
   "source": [
    "full_run(num_epochs=30, version=-1, force_restart=False)"
   ]
  },
  {
   "cell_type": "code",
   "execution_count": 21,
   "id": "d4993bd3-e5c1-4a92-a3b6-4c3e1c1c1ee2",
   "metadata": {
    "collapsed": true,
    "jupyter": {
     "outputs_hidden": true
    },
    "tags": []
   },
   "outputs": [
    {
     "name": "stderr",
     "output_type": "stream",
     "text": [
      "Some weights of the model checkpoint at distilbert-base-uncased were not used when initializing DistilBertModel: ['vocab_transform.bias', 'vocab_transform.weight', 'vocab_layer_norm.bias', 'vocab_layer_norm.weight', 'vocab_projector.bias', 'vocab_projector.weight']\n",
      "- This IS expected if you are initializing DistilBertModel from the checkpoint of a model trained on another task or with another architecture (e.g. initializing a BertForSequenceClassification model from a BertForPreTraining model).\n",
      "- This IS NOT expected if you are initializing DistilBertModel from the checkpoint of a model that you expect to be exactly identical (initializing a BertForSequenceClassification model from a BertForSequenceClassification model).\n",
      "Some weights of the model checkpoint at distilbert-base-uncased were not used when initializing DistilBertModel: ['vocab_transform.bias', 'vocab_transform.weight', 'vocab_layer_norm.bias', 'vocab_layer_norm.weight', 'vocab_projector.bias', 'vocab_projector.weight']\n",
      "- This IS expected if you are initializing DistilBertModel from the checkpoint of a model trained on another task or with another architecture (e.g. initializing a BertForSequenceClassification model from a BertForPreTraining model).\n",
      "- This IS NOT expected if you are initializing DistilBertModel from the checkpoint of a model that you expect to be exactly identical (initializing a BertForSequenceClassification model from a BertForSequenceClassification model).\n"
     ]
    },
    {
     "name": "stdout",
     "output_type": "stream",
     "text": [
      "('harness_v7_lg_9.pkl', 9) 10\n",
      "epoch 10 version: 7\n"
     ]
    },
    {
     "data": {
      "application/vnd.jupyter.widget-view+json": {
       "model_id": "87b6c0800435486db2f8e848a5520cbf",
       "version_major": 2,
       "version_minor": 0
      },
      "text/plain": [
       "train:   0%|          | 0/20000 [00:00<?, ?it/s]"
      ]
     },
     "metadata": {},
     "output_type": "display_data"
    },
    {
     "data": {
      "application/vnd.jupyter.widget-view+json": {
       "model_id": "1779ce40c1994badbc9b13b2110c1d42",
       "version_major": 2,
       "version_minor": 0
      },
      "text/plain": [
       "train val:   0%|          | 0/10000 [00:00<?, ?it/s]"
      ]
     },
     "metadata": {},
     "output_type": "display_data"
    },
    {
     "data": {
      "application/vnd.jupyter.widget-view+json": {
       "model_id": "ffb76e539a31465dbba4ee9af068a443",
       "version_major": 2,
       "version_minor": 0
      },
      "text/plain": [
       "test:   0%|          | 0/10000 [00:00<?, ?it/s]"
      ]
     },
     "metadata": {},
     "output_type": "display_data"
    },
    {
     "name": "stdout",
     "output_type": "stream",
     "text": [
      "train: 0.80135 loss: 0.4044903117150501\n",
      "train val: 0.8221 loss: 0.3298655967544837\n",
      "test: 0.6512 loss: 0.6251274079740048\n",
      "epoch time: 12.20min\n",
      "removing /mnt/d/workspace/clotho/notebooks/checkpoints/stats_v7_lg_4.json\n",
      "removing /mnt/d/workspace/clotho/notebooks/checkpoints/harness_v7_lg_4.pkl\n",
      "best model: /mnt/d/workspace/clotho/notebooks/checkpoints/harness_v7_lg_10.pkl\n",
      "best train: 0.80135\n",
      "best train val: 0.8221\n",
      "best test: 0.6512\n",
      "epoch 11 version: 7\n"
     ]
    },
    {
     "data": {
      "application/vnd.jupyter.widget-view+json": {
       "model_id": "9acaac40030c4e85b3ed8b16e2f2bfa6",
       "version_major": 2,
       "version_minor": 0
      },
      "text/plain": [
       "train:   0%|          | 0/20000 [00:00<?, ?it/s]"
      ]
     },
     "metadata": {},
     "output_type": "display_data"
    },
    {
     "data": {
      "application/vnd.jupyter.widget-view+json": {
       "model_id": "6a4b4434c79e4310b5ee44be2bb1216b",
       "version_major": 2,
       "version_minor": 0
      },
      "text/plain": [
       "train val:   0%|          | 0/10000 [00:00<?, ?it/s]"
      ]
     },
     "metadata": {},
     "output_type": "display_data"
    },
    {
     "data": {
      "application/vnd.jupyter.widget-view+json": {
       "model_id": "bda25d76a1dc4a8abe602cafde6669b7",
       "version_major": 2,
       "version_minor": 0
      },
      "text/plain": [
       "test:   0%|          | 0/10000 [00:00<?, ?it/s]"
      ]
     },
     "metadata": {},
     "output_type": "display_data"
    },
    {
     "name": "stdout",
     "output_type": "stream",
     "text": [
      "train: 0.79305 loss: 1.2559348700861717\n",
      "train val: 0.8163 loss: 0.3473569176799996\n",
      "test: 0.6261 loss: 0.6579953615665436\n",
      "epoch time: 12.18min\n",
      "removing /mnt/d/workspace/clotho/notebooks/checkpoints/stats_v7_lg_3.json\n",
      "removing /mnt/d/workspace/clotho/notebooks/checkpoints/harness_v7_lg_3.pkl\n",
      "best model: /mnt/d/workspace/clotho/notebooks/checkpoints/harness_v7_lg_10.pkl\n",
      "best train: 0.80135\n",
      "best train val: 0.8221\n",
      "best test: 0.6512\n",
      "epoch 12 version: 7\n"
     ]
    },
    {
     "data": {
      "application/vnd.jupyter.widget-view+json": {
       "model_id": "1eb455f3b3e1437d99585474aa6e7349",
       "version_major": 2,
       "version_minor": 0
      },
      "text/plain": [
       "train:   0%|          | 0/20000 [00:00<?, ?it/s]"
      ]
     },
     "metadata": {},
     "output_type": "display_data"
    },
    {
     "data": {
      "application/vnd.jupyter.widget-view+json": {
       "model_id": "84a0a7c6d4d642c48366867ba2c7ff06",
       "version_major": 2,
       "version_minor": 0
      },
      "text/plain": [
       "train val:   0%|          | 0/10000 [00:00<?, ?it/s]"
      ]
     },
     "metadata": {},
     "output_type": "display_data"
    },
    {
     "data": {
      "application/vnd.jupyter.widget-view+json": {
       "model_id": "1a589fc27c55437a9fb4b3239fbe5e21",
       "version_major": 2,
       "version_minor": 0
      },
      "text/plain": [
       "test:   0%|          | 0/10000 [00:00<?, ?it/s]"
      ]
     },
     "metadata": {},
     "output_type": "display_data"
    },
    {
     "name": "stdout",
     "output_type": "stream",
     "text": [
      "train: 0.79965 loss: 0.3750880866170257\n",
      "train val: 0.8171 loss: 0.34218028564005143\n",
      "test: 0.682 loss: 0.6130437518924474\n",
      "epoch time: 11.99min\n",
      "removing /mnt/d/workspace/clotho/notebooks/checkpoints/stats_v7_lg_6.json\n",
      "removing /mnt/d/workspace/clotho/notebooks/checkpoints/harness_v7_lg_6.pkl\n",
      "best model: /mnt/d/workspace/clotho/notebooks/checkpoints/harness_v7_lg_10.pkl\n",
      "best train: 0.80135\n",
      "best train val: 0.8221\n",
      "best test: 0.6512\n",
      "epoch 13 version: 7\n"
     ]
    },
    {
     "data": {
      "application/vnd.jupyter.widget-view+json": {
       "model_id": "13d7b397e76d4cc4863be3057ab20e74",
       "version_major": 2,
       "version_minor": 0
      },
      "text/plain": [
       "train:   0%|          | 0/20000 [00:00<?, ?it/s]"
      ]
     },
     "metadata": {},
     "output_type": "display_data"
    },
    {
     "data": {
      "application/vnd.jupyter.widget-view+json": {
       "model_id": "e5747fdc8ed045eeaca4043d8fb72e9c",
       "version_major": 2,
       "version_minor": 0
      },
      "text/plain": [
       "train val:   0%|          | 0/10000 [00:00<?, ?it/s]"
      ]
     },
     "metadata": {},
     "output_type": "display_data"
    },
    {
     "data": {
      "application/vnd.jupyter.widget-view+json": {
       "model_id": "93bef5753b5a4675b31b04adf233e456",
       "version_major": 2,
       "version_minor": 0
      },
      "text/plain": [
       "test:   0%|          | 0/10000 [00:00<?, ?it/s]"
      ]
     },
     "metadata": {},
     "output_type": "display_data"
    },
    {
     "name": "stdout",
     "output_type": "stream",
     "text": [
      "train: 0.79295 loss: 0.9763051780236869\n",
      "train val: 0.8104 loss: 1.986738573863638\n",
      "test: 0.671 loss: 1.1571012225210666\n",
      "epoch time: 12.76min\n",
      "removing /mnt/d/workspace/clotho/notebooks/checkpoints/stats_v7_lg_8.json\n",
      "removing /mnt/d/workspace/clotho/notebooks/checkpoints/harness_v7_lg_8.pkl\n",
      "best model: /mnt/d/workspace/clotho/notebooks/checkpoints/harness_v7_lg_10.pkl\n",
      "best train: 0.80135\n",
      "best train val: 0.8221\n",
      "best test: 0.6512\n",
      "epoch 14 version: 7\n"
     ]
    },
    {
     "data": {
      "application/vnd.jupyter.widget-view+json": {
       "model_id": "e67dfeec69444859ab6960a6f0b6d526",
       "version_major": 2,
       "version_minor": 0
      },
      "text/plain": [
       "train:   0%|          | 0/20000 [00:00<?, ?it/s]"
      ]
     },
     "metadata": {},
     "output_type": "display_data"
    },
    {
     "data": {
      "application/vnd.jupyter.widget-view+json": {
       "model_id": "05ee0792dee4426d8b3dfa6d703a0ab8",
       "version_major": 2,
       "version_minor": 0
      },
      "text/plain": [
       "train val:   0%|          | 0/10000 [00:00<?, ?it/s]"
      ]
     },
     "metadata": {},
     "output_type": "display_data"
    },
    {
     "data": {
      "application/vnd.jupyter.widget-view+json": {
       "model_id": "f5fb2833567e4209a2d3feeb9faedb86",
       "version_major": 2,
       "version_minor": 0
      },
      "text/plain": [
       "test:   0%|          | 0/10000 [00:00<?, ?it/s]"
      ]
     },
     "metadata": {},
     "output_type": "display_data"
    },
    {
     "name": "stdout",
     "output_type": "stream",
     "text": [
      "train: 0.7923 loss: 1.349142796240291\n",
      "train val: 0.8219 loss: 0.35088920281729713\n",
      "test: 0.6444 loss: 0.6360808927893639\n",
      "epoch time: 11.76min\n",
      "removing /mnt/d/workspace/clotho/notebooks/checkpoints/stats_v7_lg_7.json\n",
      "removing /mnt/d/workspace/clotho/notebooks/checkpoints/harness_v7_lg_7.pkl\n",
      "best model: /mnt/d/workspace/clotho/notebooks/checkpoints/harness_v7_lg_10.pkl\n",
      "best train: 0.80135\n",
      "best train val: 0.8221\n",
      "best test: 0.6512\n",
      "epoch 15 version: 7\n"
     ]
    },
    {
     "data": {
      "application/vnd.jupyter.widget-view+json": {
       "model_id": "cd0f6c61a9804808841f66d4fbda383c",
       "version_major": 2,
       "version_minor": 0
      },
      "text/plain": [
       "train:   0%|          | 0/20000 [00:00<?, ?it/s]"
      ]
     },
     "metadata": {},
     "output_type": "display_data"
    },
    {
     "data": {
      "application/vnd.jupyter.widget-view+json": {
       "model_id": "6d9a16e6a12b4a4790df55c438b6c53c",
       "version_major": 2,
       "version_minor": 0
      },
      "text/plain": [
       "train val:   0%|          | 0/10000 [00:00<?, ?it/s]"
      ]
     },
     "metadata": {},
     "output_type": "display_data"
    },
    {
     "data": {
      "application/vnd.jupyter.widget-view+json": {
       "model_id": "d77b1f3859b94685b757a2c82fea62e8",
       "version_major": 2,
       "version_minor": 0
      },
      "text/plain": [
       "test:   0%|          | 0/10000 [00:00<?, ?it/s]"
      ]
     },
     "metadata": {},
     "output_type": "display_data"
    },
    {
     "name": "stdout",
     "output_type": "stream",
     "text": [
      "train: 0.8271 loss: 0.49893084094423973\n",
      "train val: 0.8259 loss: 0.4619961058626781\n",
      "test: 0.6618 loss: 0.6562356619030237\n",
      "epoch time: 12.30min\n",
      "removing /mnt/d/workspace/clotho/notebooks/checkpoints/stats_v7_lg_13.json\n",
      "removing /mnt/d/workspace/clotho/notebooks/checkpoints/harness_v7_lg_13.pkl\n",
      "best model: /mnt/d/workspace/clotho/notebooks/checkpoints/harness_v7_lg_15.pkl\n",
      "best train: 0.8271\n",
      "best train val: 0.8259\n",
      "best test: 0.6618\n",
      "epoch 16 version: 7\n"
     ]
    },
    {
     "data": {
      "application/vnd.jupyter.widget-view+json": {
       "model_id": "d588b4243a1b428c822d1d0a4828ce33",
       "version_major": 2,
       "version_minor": 0
      },
      "text/plain": [
       "train:   0%|          | 0/20000 [00:00<?, ?it/s]"
      ]
     },
     "metadata": {},
     "output_type": "display_data"
    },
    {
     "data": {
      "application/vnd.jupyter.widget-view+json": {
       "model_id": "33914703c0014effa02f3258e5d70d4d",
       "version_major": 2,
       "version_minor": 0
      },
      "text/plain": [
       "train val:   0%|          | 0/10000 [00:00<?, ?it/s]"
      ]
     },
     "metadata": {},
     "output_type": "display_data"
    },
    {
     "data": {
      "application/vnd.jupyter.widget-view+json": {
       "model_id": "9cfd7491c9f84ede967f5c209683ed8b",
       "version_major": 2,
       "version_minor": 0
      },
      "text/plain": [
       "test:   0%|          | 0/10000 [00:00<?, ?it/s]"
      ]
     },
     "metadata": {},
     "output_type": "display_data"
    },
    {
     "name": "stdout",
     "output_type": "stream",
     "text": [
      "train: 0.8305 loss: 0.3930885978330176\n",
      "train val: 0.8275 loss: 0.3324185497084964\n",
      "test: 0.6921 loss: 0.5841136631160975\n",
      "epoch time: 12.59min\n",
      "removing /mnt/d/workspace/clotho/notebooks/checkpoints/stats_v7_lg_11.json\n",
      "removing /mnt/d/workspace/clotho/notebooks/checkpoints/harness_v7_lg_11.pkl\n",
      "best model: /mnt/d/workspace/clotho/notebooks/checkpoints/harness_v7_lg_16.pkl\n",
      "best train: 0.8305\n",
      "best train val: 0.8275\n",
      "best test: 0.6921\n",
      "epoch 17 version: 7\n"
     ]
    },
    {
     "data": {
      "application/vnd.jupyter.widget-view+json": {
       "model_id": "7da0b3e4cf334480ba69bd3b4522cdb6",
       "version_major": 2,
       "version_minor": 0
      },
      "text/plain": [
       "train:   0%|          | 0/20000 [00:00<?, ?it/s]"
      ]
     },
     "metadata": {},
     "output_type": "display_data"
    },
    {
     "data": {
      "application/vnd.jupyter.widget-view+json": {
       "model_id": "e051b4dbfeb646f9b87d69ab71b9934d",
       "version_major": 2,
       "version_minor": 0
      },
      "text/plain": [
       "train val:   0%|          | 0/10000 [00:00<?, ?it/s]"
      ]
     },
     "metadata": {},
     "output_type": "display_data"
    },
    {
     "data": {
      "application/vnd.jupyter.widget-view+json": {
       "model_id": "012e341ae2974f7dac801b1ee5edeeef",
       "version_major": 2,
       "version_minor": 0
      },
      "text/plain": [
       "test:   0%|          | 0/10000 [00:00<?, ?it/s]"
      ]
     },
     "metadata": {},
     "output_type": "display_data"
    },
    {
     "name": "stdout",
     "output_type": "stream",
     "text": [
      "train: 0.82895 loss: 0.3294015609751172\n",
      "train val: 0.8213 loss: 0.3377221612729249\n",
      "test: 0.6827 loss: 0.593112232887745\n",
      "epoch time: 12.31min\n",
      "removing /mnt/d/workspace/clotho/notebooks/checkpoints/stats_v7_lg_12.json\n",
      "removing /mnt/d/workspace/clotho/notebooks/checkpoints/harness_v7_lg_12.pkl\n",
      "best model: /mnt/d/workspace/clotho/notebooks/checkpoints/harness_v7_lg_16.pkl\n",
      "best train: 0.8305\n",
      "best train val: 0.8275\n",
      "best test: 0.6921\n",
      "epoch 18 version: 7\n"
     ]
    },
    {
     "data": {
      "application/vnd.jupyter.widget-view+json": {
       "model_id": "bbe72196ae0d4e5db35a125d5348b365",
       "version_major": 2,
       "version_minor": 0
      },
      "text/plain": [
       "train:   0%|          | 0/20000 [00:00<?, ?it/s]"
      ]
     },
     "metadata": {},
     "output_type": "display_data"
    },
    {
     "data": {
      "application/vnd.jupyter.widget-view+json": {
       "model_id": "a4618031df214811b7cc1aa9247e3fe7",
       "version_major": 2,
       "version_minor": 0
      },
      "text/plain": [
       "train val:   0%|          | 0/10000 [00:00<?, ?it/s]"
      ]
     },
     "metadata": {},
     "output_type": "display_data"
    },
    {
     "data": {
      "application/vnd.jupyter.widget-view+json": {
       "model_id": "ddccf1b3dced44f4b7279d72ef8c36f0",
       "version_major": 2,
       "version_minor": 0
      },
      "text/plain": [
       "test:   0%|          | 0/10000 [00:00<?, ?it/s]"
      ]
     },
     "metadata": {},
     "output_type": "display_data"
    },
    {
     "name": "stdout",
     "output_type": "stream",
     "text": [
      "train: 0.82715 loss: 0.5766655659109559\n",
      "train val: 0.827 loss: 0.3336287773194257\n",
      "test: 0.673 loss: 0.6222650697469712\n",
      "epoch time: 11.30min\n",
      "removing /mnt/d/workspace/clotho/notebooks/checkpoints/stats_v7_lg_17.json\n",
      "removing /mnt/d/workspace/clotho/notebooks/checkpoints/harness_v7_lg_17.pkl\n",
      "best model: /mnt/d/workspace/clotho/notebooks/checkpoints/harness_v7_lg_16.pkl\n",
      "best train: 0.8305\n",
      "best train val: 0.8275\n",
      "best test: 0.6921\n",
      "epoch 19 version: 7\n"
     ]
    },
    {
     "data": {
      "application/vnd.jupyter.widget-view+json": {
       "model_id": "07029083f2b840efb86b7f550eb7760e",
       "version_major": 2,
       "version_minor": 0
      },
      "text/plain": [
       "train:   0%|          | 0/20000 [00:00<?, ?it/s]"
      ]
     },
     "metadata": {},
     "output_type": "display_data"
    },
    {
     "data": {
      "application/vnd.jupyter.widget-view+json": {
       "model_id": "363d496181db46fd8b5ef73d53be9344",
       "version_major": 2,
       "version_minor": 0
      },
      "text/plain": [
       "train val:   0%|          | 0/10000 [00:00<?, ?it/s]"
      ]
     },
     "metadata": {},
     "output_type": "display_data"
    },
    {
     "data": {
      "application/vnd.jupyter.widget-view+json": {
       "model_id": "1b17fd23b67a446989210b5edb1ae3c0",
       "version_major": 2,
       "version_minor": 0
      },
      "text/plain": [
       "test:   0%|          | 0/10000 [00:00<?, ?it/s]"
      ]
     },
     "metadata": {},
     "output_type": "display_data"
    },
    {
     "name": "stdout",
     "output_type": "stream",
     "text": [
      "train: 0.8309 loss: 0.33497696732003535\n",
      "train val: 0.8232 loss: 0.3281183341064439\n",
      "test: 0.6354 loss: 0.6452374830543995\n",
      "epoch time: 12.12min\n",
      "removing /mnt/d/workspace/clotho/notebooks/checkpoints/stats_v7_lg_9.json\n",
      "removing /mnt/d/workspace/clotho/notebooks/checkpoints/harness_v7_lg_9.pkl\n",
      "best model: /mnt/d/workspace/clotho/notebooks/checkpoints/harness_v7_lg_16.pkl\n",
      "best train: 0.8305\n",
      "best train val: 0.8275\n",
      "best test: 0.6921\n",
      "epoch 20 version: 7\n"
     ]
    },
    {
     "data": {
      "application/vnd.jupyter.widget-view+json": {
       "model_id": "3561a13437f94d2da052f428fd2923d8",
       "version_major": 2,
       "version_minor": 0
      },
      "text/plain": [
       "train:   0%|          | 0/20000 [00:00<?, ?it/s]"
      ]
     },
     "metadata": {},
     "output_type": "display_data"
    },
    {
     "data": {
      "application/vnd.jupyter.widget-view+json": {
       "model_id": "adce907f7a18434a817a076709096b75",
       "version_major": 2,
       "version_minor": 0
      },
      "text/plain": [
       "train val:   0%|          | 0/10000 [00:00<?, ?it/s]"
      ]
     },
     "metadata": {},
     "output_type": "display_data"
    },
    {
     "data": {
      "application/vnd.jupyter.widget-view+json": {
       "model_id": "9a4e95222879416591a382e97383ea91",
       "version_major": 2,
       "version_minor": 0
      },
      "text/plain": [
       "test:   0%|          | 0/10000 [00:00<?, ?it/s]"
      ]
     },
     "metadata": {},
     "output_type": "display_data"
    },
    {
     "name": "stdout",
     "output_type": "stream",
     "text": [
      "train: 0.80005 loss: 4.258729443280144\n",
      "train val: 0.3718 loss: 46.409785071396826\n",
      "test: 0.6869 loss: 1.5807947924554349\n",
      "epoch time: 12.51min\n",
      "removing /mnt/d/workspace/clotho/notebooks/checkpoints/stats_v7_lg_14.json\n",
      "removing /mnt/d/workspace/clotho/notebooks/checkpoints/harness_v7_lg_14.pkl\n",
      "best model: /mnt/d/workspace/clotho/notebooks/checkpoints/harness_v7_lg_16.pkl\n",
      "best train: 0.8305\n",
      "best train val: 0.8275\n",
      "best test: 0.6921\n",
      "epoch 21 version: 7\n"
     ]
    },
    {
     "data": {
      "application/vnd.jupyter.widget-view+json": {
       "model_id": "262476d389f443be8ce182ccb27772c1",
       "version_major": 2,
       "version_minor": 0
      },
      "text/plain": [
       "train:   0%|          | 0/20000 [00:00<?, ?it/s]"
      ]
     },
     "metadata": {},
     "output_type": "display_data"
    },
    {
     "data": {
      "application/vnd.jupyter.widget-view+json": {
       "model_id": "d86bbcd3840b4b16bf88fcee955458cc",
       "version_major": 2,
       "version_minor": 0
      },
      "text/plain": [
       "train val:   0%|          | 0/10000 [00:00<?, ?it/s]"
      ]
     },
     "metadata": {},
     "output_type": "display_data"
    },
    {
     "data": {
      "application/vnd.jupyter.widget-view+json": {
       "model_id": "6af5ee356f2e46d98e86b9d555daace2",
       "version_major": 2,
       "version_minor": 0
      },
      "text/plain": [
       "test:   0%|          | 0/10000 [00:00<?, ?it/s]"
      ]
     },
     "metadata": {},
     "output_type": "display_data"
    },
    {
     "name": "stdout",
     "output_type": "stream",
     "text": [
      "train: 0.79875 loss: 2.8308857950407895\n",
      "train val: 0.8259 loss: 0.6649395983673748\n",
      "test: 0.6627 loss: 0.7706318855762482\n",
      "epoch time: 12.26min\n",
      "removing /mnt/d/workspace/clotho/notebooks/checkpoints/stats_v7_lg_20.json\n",
      "removing /mnt/d/workspace/clotho/notebooks/checkpoints/harness_v7_lg_20.pkl\n",
      "best model: /mnt/d/workspace/clotho/notebooks/checkpoints/harness_v7_lg_16.pkl\n",
      "best train: 0.8305\n",
      "best train val: 0.8275\n",
      "best test: 0.6921\n",
      "epoch 22 version: 7\n"
     ]
    },
    {
     "data": {
      "application/vnd.jupyter.widget-view+json": {
       "model_id": "87ad9589922440f28a63f2c9460f1d7c",
       "version_major": 2,
       "version_minor": 0
      },
      "text/plain": [
       "train:   0%|          | 0/20000 [00:00<?, ?it/s]"
      ]
     },
     "metadata": {},
     "output_type": "display_data"
    },
    {
     "data": {
      "application/vnd.jupyter.widget-view+json": {
       "model_id": "34ed9c417a034b94ac72ce3b2a4b4a53",
       "version_major": 2,
       "version_minor": 0
      },
      "text/plain": [
       "train val:   0%|          | 0/10000 [00:00<?, ?it/s]"
      ]
     },
     "metadata": {},
     "output_type": "display_data"
    },
    {
     "data": {
      "application/vnd.jupyter.widget-view+json": {
       "model_id": "701ff0df059f4d9bba8130a783708d24",
       "version_major": 2,
       "version_minor": 0
      },
      "text/plain": [
       "test:   0%|          | 0/10000 [00:00<?, ?it/s]"
      ]
     },
     "metadata": {},
     "output_type": "display_data"
    },
    {
     "name": "stdout",
     "output_type": "stream",
     "text": [
      "train: 0.6691 loss: 17.668372750538925\n",
      "train val: 0.8321 loss: 0.33047936610114037\n",
      "test: 0.6248 loss: 0.6558838804960251\n",
      "epoch time: 12.64min\n",
      "removing /mnt/d/workspace/clotho/notebooks/checkpoints/stats_v7_lg_10.json\n",
      "removing /mnt/d/workspace/clotho/notebooks/checkpoints/harness_v7_lg_10.pkl\n",
      "best model: /mnt/d/workspace/clotho/notebooks/checkpoints/harness_v7_lg_22.pkl\n",
      "best train: 0.6691\n",
      "best train val: 0.8321\n",
      "best test: 0.6248\n",
      "epoch 23 version: 7\n"
     ]
    },
    {
     "data": {
      "application/vnd.jupyter.widget-view+json": {
       "model_id": "5cb4c688934c47728fe97af05a31f2b7",
       "version_major": 2,
       "version_minor": 0
      },
      "text/plain": [
       "train:   0%|          | 0/20000 [00:00<?, ?it/s]"
      ]
     },
     "metadata": {},
     "output_type": "display_data"
    },
    {
     "data": {
      "application/vnd.jupyter.widget-view+json": {
       "model_id": "5eccfd71ee3d4380a0acbf95a88603f6",
       "version_major": 2,
       "version_minor": 0
      },
      "text/plain": [
       "train val:   0%|          | 0/10000 [00:00<?, ?it/s]"
      ]
     },
     "metadata": {},
     "output_type": "display_data"
    },
    {
     "data": {
      "application/vnd.jupyter.widget-view+json": {
       "model_id": "9592cedcb3c74e38a368ca596810c339",
       "version_major": 2,
       "version_minor": 0
      },
      "text/plain": [
       "test:   0%|          | 0/10000 [00:00<?, ?it/s]"
      ]
     },
     "metadata": {},
     "output_type": "display_data"
    },
    {
     "name": "stdout",
     "output_type": "stream",
     "text": [
      "train: 0.8469 loss: 0.29899554408402435\n",
      "train val: 0.8336 loss: 0.32101076956106334\n",
      "test: 0.6645 loss: 0.6251547799348831\n",
      "epoch time: 12.69min\n",
      "removing /mnt/d/workspace/clotho/notebooks/checkpoints/stats_v7_lg_19.json\n",
      "removing /mnt/d/workspace/clotho/notebooks/checkpoints/harness_v7_lg_19.pkl\n",
      "best model: /mnt/d/workspace/clotho/notebooks/checkpoints/harness_v7_lg_23.pkl\n",
      "best train: 0.8469\n",
      "best train val: 0.8336\n",
      "best test: 0.6645\n",
      "epoch 24 version: 7\n"
     ]
    },
    {
     "data": {
      "application/vnd.jupyter.widget-view+json": {
       "model_id": "213fa5a8f2784e4894f9126246582b65",
       "version_major": 2,
       "version_minor": 0
      },
      "text/plain": [
       "train:   0%|          | 0/20000 [00:00<?, ?it/s]"
      ]
     },
     "metadata": {},
     "output_type": "display_data"
    },
    {
     "data": {
      "application/vnd.jupyter.widget-view+json": {
       "model_id": "46e429af1d5d4a48a3b22eb4ccaa6f51",
       "version_major": 2,
       "version_minor": 0
      },
      "text/plain": [
       "train val:   0%|          | 0/10000 [00:00<?, ?it/s]"
      ]
     },
     "metadata": {},
     "output_type": "display_data"
    },
    {
     "data": {
      "application/vnd.jupyter.widget-view+json": {
       "model_id": "a08bd51ee06c4f62aa283891e0fdda50",
       "version_major": 2,
       "version_minor": 0
      },
      "text/plain": [
       "test:   0%|          | 0/10000 [00:00<?, ?it/s]"
      ]
     },
     "metadata": {},
     "output_type": "display_data"
    },
    {
     "name": "stdout",
     "output_type": "stream",
     "text": [
      "train: 0.8445 loss: 0.3002853947001946\n",
      "train val: 0.8359 loss: 0.3164704914848786\n",
      "test: 0.6826 loss: 0.6096701553344727\n",
      "epoch time: 11.47min\n",
      "removing /mnt/d/workspace/clotho/notebooks/checkpoints/stats_v7_lg_15.json\n",
      "removing /mnt/d/workspace/clotho/notebooks/checkpoints/harness_v7_lg_15.pkl\n",
      "best model: /mnt/d/workspace/clotho/notebooks/checkpoints/harness_v7_lg_24.pkl\n",
      "best train: 0.8445\n",
      "best train val: 0.8359\n",
      "best test: 0.6826\n",
      "epoch 25 version: 7\n"
     ]
    },
    {
     "data": {
      "application/vnd.jupyter.widget-view+json": {
       "model_id": "950fdececde246ffa867bbcfe07ee7aa",
       "version_major": 2,
       "version_minor": 0
      },
      "text/plain": [
       "train:   0%|          | 0/20000 [00:00<?, ?it/s]"
      ]
     },
     "metadata": {},
     "output_type": "display_data"
    },
    {
     "data": {
      "application/vnd.jupyter.widget-view+json": {
       "model_id": "7a8785009b9949e0a47c2a81f6b21a44",
       "version_major": 2,
       "version_minor": 0
      },
      "text/plain": [
       "train val:   0%|          | 0/10000 [00:00<?, ?it/s]"
      ]
     },
     "metadata": {},
     "output_type": "display_data"
    },
    {
     "data": {
      "application/vnd.jupyter.widget-view+json": {
       "model_id": "fb8358b640884e12b789faf2f93e3927",
       "version_major": 2,
       "version_minor": 0
      },
      "text/plain": [
       "test:   0%|          | 0/10000 [00:00<?, ?it/s]"
      ]
     },
     "metadata": {},
     "output_type": "display_data"
    },
    {
     "name": "stdout",
     "output_type": "stream",
     "text": [
      "train: 0.84905 loss: 0.3083398362992946\n",
      "train val: 0.8318 loss: 0.3194511234292295\n",
      "test: 0.6413 loss: 0.6438004281044006\n",
      "epoch time: 12.60min\n",
      "removing /mnt/d/workspace/clotho/notebooks/checkpoints/stats_v7_lg_21.json\n",
      "removing /mnt/d/workspace/clotho/notebooks/checkpoints/harness_v7_lg_21.pkl\n",
      "best model: /mnt/d/workspace/clotho/notebooks/checkpoints/harness_v7_lg_24.pkl\n",
      "best train: 0.8445\n",
      "best train val: 0.8359\n",
      "best test: 0.6826\n",
      "epoch 26 version: 7\n"
     ]
    },
    {
     "data": {
      "application/vnd.jupyter.widget-view+json": {
       "model_id": "a51c393d9bba4072b99cc43395d15669",
       "version_major": 2,
       "version_minor": 0
      },
      "text/plain": [
       "train:   0%|          | 0/20000 [00:00<?, ?it/s]"
      ]
     },
     "metadata": {},
     "output_type": "display_data"
    },
    {
     "data": {
      "application/vnd.jupyter.widget-view+json": {
       "model_id": "e5cb992faac2407daf064ead43458cd1",
       "version_major": 2,
       "version_minor": 0
      },
      "text/plain": [
       "train val:   0%|          | 0/10000 [00:00<?, ?it/s]"
      ]
     },
     "metadata": {},
     "output_type": "display_data"
    },
    {
     "data": {
      "application/vnd.jupyter.widget-view+json": {
       "model_id": "12b27d0ad8194ef1b42cb75bad907f68",
       "version_major": 2,
       "version_minor": 0
      },
      "text/plain": [
       "test:   0%|          | 0/10000 [00:00<?, ?it/s]"
      ]
     },
     "metadata": {},
     "output_type": "display_data"
    },
    {
     "name": "stdout",
     "output_type": "stream",
     "text": [
      "train: 0.8465 loss: 0.3013929504090378\n",
      "train val: 0.821 loss: 0.3282841122048092\n",
      "test: 0.6487 loss: 0.6287989239692688\n",
      "epoch time: 14.10min\n",
      "removing /mnt/d/workspace/clotho/notebooks/checkpoints/stats_v7_lg_18.json\n",
      "removing /mnt/d/workspace/clotho/notebooks/checkpoints/harness_v7_lg_18.pkl\n",
      "best model: /mnt/d/workspace/clotho/notebooks/checkpoints/harness_v7_lg_24.pkl\n",
      "best train: 0.8445\n",
      "best train val: 0.8359\n",
      "best test: 0.6826\n",
      "epoch 27 version: 7\n"
     ]
    },
    {
     "data": {
      "application/vnd.jupyter.widget-view+json": {
       "model_id": "ccb271fe239c43248b0398c9d2563199",
       "version_major": 2,
       "version_minor": 0
      },
      "text/plain": [
       "train:   0%|          | 0/20000 [00:00<?, ?it/s]"
      ]
     },
     "metadata": {},
     "output_type": "display_data"
    },
    {
     "data": {
      "application/vnd.jupyter.widget-view+json": {
       "model_id": "640779d07022404c95b2960836d97782",
       "version_major": 2,
       "version_minor": 0
      },
      "text/plain": [
       "train val:   0%|          | 0/10000 [00:00<?, ?it/s]"
      ]
     },
     "metadata": {},
     "output_type": "display_data"
    },
    {
     "data": {
      "application/vnd.jupyter.widget-view+json": {
       "model_id": "a0a6ea91038b412d975a09f83df1b5a9",
       "version_major": 2,
       "version_minor": 0
      },
      "text/plain": [
       "test:   0%|          | 0/10000 [00:00<?, ?it/s]"
      ]
     },
     "metadata": {},
     "output_type": "display_data"
    },
    {
     "name": "stdout",
     "output_type": "stream",
     "text": [
      "train: 0.8397 loss: 0.31835744024052637\n",
      "train val: 0.8275 loss: 0.32241023422653087\n",
      "test: 0.6654 loss: 0.6252994380146265\n",
      "epoch time: 11.74min\n",
      "removing /mnt/d/workspace/clotho/notebooks/checkpoints/stats_v7_lg_26.json\n",
      "removing /mnt/d/workspace/clotho/notebooks/checkpoints/harness_v7_lg_26.pkl\n",
      "best model: /mnt/d/workspace/clotho/notebooks/checkpoints/harness_v7_lg_24.pkl\n",
      "best train: 0.8445\n",
      "best train val: 0.8359\n",
      "best test: 0.6826\n",
      "epoch 28 version: 7\n"
     ]
    },
    {
     "data": {
      "application/vnd.jupyter.widget-view+json": {
       "model_id": "440edfcd6bf04e46af7f98e415035a7e",
       "version_major": 2,
       "version_minor": 0
      },
      "text/plain": [
       "train:   0%|          | 0/20000 [00:00<?, ?it/s]"
      ]
     },
     "metadata": {},
     "output_type": "display_data"
    },
    {
     "data": {
      "application/vnd.jupyter.widget-view+json": {
       "model_id": "5933070d3098432dbc3177528f8fd146",
       "version_major": 2,
       "version_minor": 0
      },
      "text/plain": [
       "train val:   0%|          | 0/10000 [00:00<?, ?it/s]"
      ]
     },
     "metadata": {},
     "output_type": "display_data"
    },
    {
     "data": {
      "application/vnd.jupyter.widget-view+json": {
       "model_id": "b6ba325a7594476e89217538f13f0dfb",
       "version_major": 2,
       "version_minor": 0
      },
      "text/plain": [
       "test:   0%|          | 0/10000 [00:00<?, ?it/s]"
      ]
     },
     "metadata": {},
     "output_type": "display_data"
    },
    {
     "name": "stdout",
     "output_type": "stream",
     "text": [
      "train: 0.8462 loss: 0.3005618887885665\n",
      "train val: 0.831 loss: 0.33815853153262\n",
      "test: 0.6793 loss: 0.6249441091775895\n",
      "epoch time: 11.61min\n",
      "removing /mnt/d/workspace/clotho/notebooks/checkpoints/stats_v7_lg_27.json\n",
      "removing /mnt/d/workspace/clotho/notebooks/checkpoints/harness_v7_lg_27.pkl\n",
      "best model: /mnt/d/workspace/clotho/notebooks/checkpoints/harness_v7_lg_24.pkl\n",
      "best train: 0.8445\n",
      "best train val: 0.8359\n",
      "best test: 0.6826\n",
      "epoch 29 version: 7\n"
     ]
    },
    {
     "data": {
      "application/vnd.jupyter.widget-view+json": {
       "model_id": "f23677b5ce5145fe85c25aec8058d991",
       "version_major": 2,
       "version_minor": 0
      },
      "text/plain": [
       "train:   0%|          | 0/20000 [00:00<?, ?it/s]"
      ]
     },
     "metadata": {},
     "output_type": "display_data"
    },
    {
     "data": {
      "application/vnd.jupyter.widget-view+json": {
       "model_id": "55878ca8850f48e88c32553b1247f8a3",
       "version_major": 2,
       "version_minor": 0
      },
      "text/plain": [
       "train val:   0%|          | 0/10000 [00:00<?, ?it/s]"
      ]
     },
     "metadata": {},
     "output_type": "display_data"
    },
    {
     "data": {
      "application/vnd.jupyter.widget-view+json": {
       "model_id": "f96ec2c5308944879c8532afcaf8fe46",
       "version_major": 2,
       "version_minor": 0
      },
      "text/plain": [
       "test:   0%|          | 0/10000 [00:00<?, ?it/s]"
      ]
     },
     "metadata": {},
     "output_type": "display_data"
    },
    {
     "name": "stdout",
     "output_type": "stream",
     "text": [
      "train: 0.85345 loss: 0.29736660999910963\n",
      "train val: 0.8317 loss: 0.32081929715680746\n",
      "test: 0.6258 loss: 0.6718673333168029\n",
      "epoch time: 11.62min\n",
      "removing /mnt/d/workspace/clotho/notebooks/checkpoints/stats_v7_lg_16.json\n",
      "removing /mnt/d/workspace/clotho/notebooks/checkpoints/harness_v7_lg_16.pkl\n",
      "best model: /mnt/d/workspace/clotho/notebooks/checkpoints/harness_v7_lg_24.pkl\n",
      "best train: 0.8445\n",
      "best train val: 0.8359\n",
      "best test: 0.6826\n"
     ]
    },
    {
     "data": {
      "application/vnd.jupyter.widget-view+json": {
       "model_id": "82d6fab2e48440efbfca932724f5bd87",
       "version_major": 2,
       "version_minor": 0
      },
      "text/plain": [
       "test val:   0%|          | 0/10000 [00:00<?, ?it/s]"
      ]
     },
     "metadata": {},
     "output_type": "display_data"
    },
    {
     "name": "stdout",
     "output_type": "stream",
     "text": [
      "test val: {'accuracy': 0.6284} loss: 0.6706409839510917\n",
      "correct\n"
     ]
    },
    {
     "data": {
      "text/html": [
       "<div>\n",
       "<style scoped>\n",
       "    .dataframe tbody tr th:only-of-type {\n",
       "        vertical-align: middle;\n",
       "    }\n",
       "\n",
       "    .dataframe tbody tr th {\n",
       "        vertical-align: top;\n",
       "    }\n",
       "\n",
       "    .dataframe thead th {\n",
       "        text-align: right;\n",
       "    }\n",
       "</style>\n",
       "<table border=\"1\" class=\"dataframe\">\n",
       "  <thead>\n",
       "    <tr style=\"text-align: right;\">\n",
       "      <th></th>\n",
       "      <th>gen_name</th>\n",
       "      <th>parent_left</th>\n",
       "      <th>child_left</th>\n",
       "      <th>parent_right</th>\n",
       "      <th>child_right</th>\n",
       "      <th>score_left</th>\n",
       "      <th>score_right</th>\n",
       "      <th>correct_is_right</th>\n",
       "      <th>logit_left</th>\n",
       "      <th>logit_right</th>\n",
       "      <th>preds</th>\n",
       "      <th>truth</th>\n",
       "    </tr>\n",
       "  </thead>\n",
       "  <tbody>\n",
       "    <tr>\n",
       "      <th>0</th>\n",
       "      <td>!copy--valid_weak;(st)</td>\n",
       "      <td>Well, shit dude.</td>\n",
       "      <td>Everyone in my family is nagging me with the f...</td>\n",
       "      <td>Everyone in my family is nagging me with the f...</td>\n",
       "      <td>Well, shit dude.</td>\n",
       "      <td>0</td>\n",
       "      <td>1</td>\n",
       "      <td>True</td>\n",
       "      <td>0.006334</td>\n",
       "      <td>0.993666</td>\n",
       "      <td>1</td>\n",
       "      <td>1</td>\n",
       "    </tr>\n",
       "    <tr>\n",
       "      <th>1</th>\n",
       "      <td>*valid_weak--!copy;(st)</td>\n",
       "      <td>Not using 1-10, how attractive are you?</td>\n",
       "      <td>Let's just say my Facebook relationship status...</td>\n",
       "      <td>Let's just say my Facebook relationship status...</td>\n",
       "      <td>Not using 1-10, how attractive are you?</td>\n",
       "      <td>1</td>\n",
       "      <td>0</td>\n",
       "      <td>False</td>\n",
       "      <td>0.609560</td>\n",
       "      <td>0.390440</td>\n",
       "      <td>0</td>\n",
       "      <td>0</td>\n",
       "    </tr>\n",
       "    <tr>\n",
       "      <th>3</th>\n",
       "      <td>random--valid_weak;(st)</td>\n",
       "      <td>I can’t stand the smell of truffle oil. Makes ...</td>\n",
       "      <td>my cat's name is Guy, just so I can go \"hey Gu...</td>\n",
       "      <td>Guys….what is a big turn off that girls still ...</td>\n",
       "      <td>Long manicured nails</td>\n",
       "      <td>0</td>\n",
       "      <td>5</td>\n",
       "      <td>True</td>\n",
       "      <td>0.331502</td>\n",
       "      <td>0.668498</td>\n",
       "      <td>1</td>\n",
       "      <td>1</td>\n",
       "    </tr>\n",
       "    <tr>\n",
       "      <th>2</th>\n",
       "      <td>!copy--valid_weak;(st)</td>\n",
       "      <td>plus all the bodies you can bury with no one n...</td>\n",
       "      <td>Landscape maintenance, particularly if the cli...</td>\n",
       "      <td>Landscape maintenance, particularly if the cli...</td>\n",
       "      <td>plus all the bodies you can bury with no one n...</td>\n",
       "      <td>0</td>\n",
       "      <td>6</td>\n",
       "      <td>True</td>\n",
       "      <td>0.408660</td>\n",
       "      <td>0.591340</td>\n",
       "      <td>1</td>\n",
       "      <td>1</td>\n",
       "    </tr>\n",
       "    <tr>\n",
       "      <th>3</th>\n",
       "      <td>random--valid_weak;(st)</td>\n",
       "      <td>Perfect Dark (N64)</td>\n",
       "      <td>Exactly. In the 1960s I had their album, \"[The...</td>\n",
       "      <td>Not using 1-10, how attractive are you?</td>\n",
       "      <td>I look like a dwarf from Middle Earth.</td>\n",
       "      <td>0</td>\n",
       "      <td>1</td>\n",
       "      <td>True</td>\n",
       "      <td>0.344313</td>\n",
       "      <td>0.655687</td>\n",
       "      <td>1</td>\n",
       "      <td>1</td>\n",
       "    </tr>\n",
       "  </tbody>\n",
       "</table>\n",
       "</div>"
      ],
      "text/plain": [
       "                  gen_name                                        parent_left  \\\n",
       "0   !copy--valid_weak;(st)                                   Well, shit dude.   \n",
       "1  *valid_weak--!copy;(st)            Not using 1-10, how attractive are you?   \n",
       "3  random--valid_weak;(st)  I can’t stand the smell of truffle oil. Makes ...   \n",
       "2   !copy--valid_weak;(st)  plus all the bodies you can bury with no one n...   \n",
       "3  random--valid_weak;(st)                                 Perfect Dark (N64)   \n",
       "\n",
       "                                          child_left  \\\n",
       "0  Everyone in my family is nagging me with the f...   \n",
       "1  Let's just say my Facebook relationship status...   \n",
       "3  my cat's name is Guy, just so I can go \"hey Gu...   \n",
       "2  Landscape maintenance, particularly if the cli...   \n",
       "3  Exactly. In the 1960s I had their album, \"[The...   \n",
       "\n",
       "                                        parent_right  \\\n",
       "0  Everyone in my family is nagging me with the f...   \n",
       "1  Let's just say my Facebook relationship status...   \n",
       "3  Guys….what is a big turn off that girls still ...   \n",
       "2  Landscape maintenance, particularly if the cli...   \n",
       "3            Not using 1-10, how attractive are you?   \n",
       "\n",
       "                                         child_right  score_left  score_right  \\\n",
       "0                                   Well, shit dude.           0            1   \n",
       "1            Not using 1-10, how attractive are you?           1            0   \n",
       "3                               Long manicured nails           0            5   \n",
       "2  plus all the bodies you can bury with no one n...           0            6   \n",
       "3             I look like a dwarf from Middle Earth.           0            1   \n",
       "\n",
       "   correct_is_right  logit_left  logit_right  preds  truth  \n",
       "0              True    0.006334     0.993666      1      1  \n",
       "1             False    0.609560     0.390440      0      0  \n",
       "3              True    0.331502     0.668498      1      1  \n",
       "2              True    0.408660     0.591340      1      1  \n",
       "3              True    0.344313     0.655687      1      1  "
      ]
     },
     "metadata": {},
     "output_type": "display_data"
    },
    {
     "name": "stdout",
     "output_type": "stream",
     "text": [
      "incorrect\n"
     ]
    },
    {
     "data": {
      "text/html": [
       "<div>\n",
       "<style scoped>\n",
       "    .dataframe tbody tr th:only-of-type {\n",
       "        vertical-align: middle;\n",
       "    }\n",
       "\n",
       "    .dataframe tbody tr th {\n",
       "        vertical-align: top;\n",
       "    }\n",
       "\n",
       "    .dataframe thead th {\n",
       "        text-align: right;\n",
       "    }\n",
       "</style>\n",
       "<table border=\"1\" class=\"dataframe\">\n",
       "  <thead>\n",
       "    <tr style=\"text-align: right;\">\n",
       "      <th></th>\n",
       "      <th>gen_name</th>\n",
       "      <th>parent_left</th>\n",
       "      <th>child_left</th>\n",
       "      <th>parent_right</th>\n",
       "      <th>child_right</th>\n",
       "      <th>score_left</th>\n",
       "      <th>score_right</th>\n",
       "      <th>correct_is_right</th>\n",
       "      <th>logit_left</th>\n",
       "      <th>logit_right</th>\n",
       "      <th>preds</th>\n",
       "      <th>truth</th>\n",
       "    </tr>\n",
       "  </thead>\n",
       "  <tbody>\n",
       "    <tr>\n",
       "      <th>2</th>\n",
       "      <td>random--valid_weak;(st)</td>\n",
       "      <td>White Lotus</td>\n",
       "      <td>She Heard</td>\n",
       "      <td>Sewing. Sewing is awesome. I learned basic sew...</td>\n",
       "      <td>I started sewing to make a quilt out of a pile...</td>\n",
       "      <td>0</td>\n",
       "      <td>3</td>\n",
       "      <td>True</td>\n",
       "      <td>0.731320</td>\n",
       "      <td>0.268681</td>\n",
       "      <td>0</td>\n",
       "      <td>1</td>\n",
       "    </tr>\n",
       "    <tr>\n",
       "      <th>0</th>\n",
       "      <td>random--valid_weak;(st)</td>\n",
       "      <td>It's baffling. With as far as they bend over b...</td>\n",
       "      <td>My girlfriends Dad is 75. If he started doing ...</td>\n",
       "      <td>If you could rename America what would it be c...</td>\n",
       "      <td>Gods Country Giant Sowglobe Dunning Kruger Cou...</td>\n",
       "      <td>0</td>\n",
       "      <td>1</td>\n",
       "      <td>True</td>\n",
       "      <td>0.767600</td>\n",
       "      <td>0.232400</td>\n",
       "      <td>0</td>\n",
       "      <td>1</td>\n",
       "    </tr>\n",
       "    <tr>\n",
       "      <th>1</th>\n",
       "      <td>random--valid_weak;(st)</td>\n",
       "      <td>i was gonna say, he knocks it out of the park ...</td>\n",
       "      <td>when itv drugs you and ruins your life fuck th...</td>\n",
       "      <td>[Serious] How would you react if your partner ...</td>\n",
       "      <td>Immediate breakup.</td>\n",
       "      <td>0</td>\n",
       "      <td>1</td>\n",
       "      <td>True</td>\n",
       "      <td>0.607445</td>\n",
       "      <td>0.392555</td>\n",
       "      <td>0</td>\n",
       "      <td>1</td>\n",
       "    </tr>\n",
       "    <tr>\n",
       "      <th>2</th>\n",
       "      <td>*valid_weak--random;(st)</td>\n",
       "      <td>https://youtu.be/_BtemfoJ-WI</td>\n",
       "      <td>I looked it up, and this aired on November 18,...</td>\n",
       "      <td>I have phimosis, a condition that causes the f...</td>\n",
       "      <td>Elizabeth.</td>\n",
       "      <td>29</td>\n",
       "      <td>0</td>\n",
       "      <td>False</td>\n",
       "      <td>0.173345</td>\n",
       "      <td>0.826655</td>\n",
       "      <td>1</td>\n",
       "      <td>0</td>\n",
       "    </tr>\n",
       "    <tr>\n",
       "      <th>3</th>\n",
       "      <td>*valid_weak--!copy;(st)</td>\n",
       "      <td>Hard wood saw dust or lilac</td>\n",
       "      <td>Hard word?</td>\n",
       "      <td>Hard word?</td>\n",
       "      <td>Hard wood saw dust or lilac</td>\n",
       "      <td>1</td>\n",
       "      <td>0</td>\n",
       "      <td>False</td>\n",
       "      <td>0.490819</td>\n",
       "      <td>0.509181</td>\n",
       "      <td>1</td>\n",
       "      <td>0</td>\n",
       "    </tr>\n",
       "  </tbody>\n",
       "</table>\n",
       "</div>"
      ],
      "text/plain": [
       "                   gen_name  \\\n",
       "2   random--valid_weak;(st)   \n",
       "0   random--valid_weak;(st)   \n",
       "1   random--valid_weak;(st)   \n",
       "2  *valid_weak--random;(st)   \n",
       "3   *valid_weak--!copy;(st)   \n",
       "\n",
       "                                         parent_left  \\\n",
       "2                                        White Lotus   \n",
       "0  It's baffling. With as far as they bend over b...   \n",
       "1  i was gonna say, he knocks it out of the park ...   \n",
       "2                       https://youtu.be/_BtemfoJ-WI   \n",
       "3                        Hard wood saw dust or lilac   \n",
       "\n",
       "                                          child_left  \\\n",
       "2                                          She Heard   \n",
       "0  My girlfriends Dad is 75. If he started doing ...   \n",
       "1  when itv drugs you and ruins your life fuck th...   \n",
       "2  I looked it up, and this aired on November 18,...   \n",
       "3                                         Hard word?   \n",
       "\n",
       "                                        parent_right  \\\n",
       "2  Sewing. Sewing is awesome. I learned basic sew...   \n",
       "0  If you could rename America what would it be c...   \n",
       "1  [Serious] How would you react if your partner ...   \n",
       "2  I have phimosis, a condition that causes the f...   \n",
       "3                                         Hard word?   \n",
       "\n",
       "                                         child_right  score_left  score_right  \\\n",
       "2  I started sewing to make a quilt out of a pile...           0            3   \n",
       "0  Gods Country Giant Sowglobe Dunning Kruger Cou...           0            1   \n",
       "1                                 Immediate breakup.           0            1   \n",
       "2                                         Elizabeth.          29            0   \n",
       "3                        Hard wood saw dust or lilac           1            0   \n",
       "\n",
       "   correct_is_right  logit_left  logit_right  preds  truth  \n",
       "2              True    0.731320     0.268681      0      1  \n",
       "0              True    0.767600     0.232400      0      1  \n",
       "1              True    0.607445     0.392555      0      1  \n",
       "2             False    0.173345     0.826655      1      0  \n",
       "3             False    0.490819     0.509181      1      0  "
      ]
     },
     "metadata": {},
     "output_type": "display_data"
    },
    {
     "data": {
      "text/plain": [
       "array([[-0.08618017,  0.21017866,  0.0118128 , ...,  0.2832164 ,\n",
       "         0.11513367, -0.01789313],\n",
       "       [-0.07860414,  0.21219763,  0.01426594, ...,  0.2914135 ,\n",
       "         0.10790537, -0.0142574 ],\n",
       "       [-0.07504392,  0.20838213,  0.01389778, ...,  0.2918309 ,\n",
       "         0.10900781, -0.01474933],\n",
       "       [-0.08016531,  0.21175975,  0.01377104, ...,  0.28972164,\n",
       "         0.1094191 , -0.01500963]], dtype=float32)"
      ]
     },
     "metadata": {},
     "output_type": "display_data"
    },
    {
     "data": {
      "text/plain": [
       "array([[-0.07504208,  0.2083834 ,  0.01389826, ...,  0.29183215,\n",
       "         0.10900639, -0.01474832],\n",
       "       [-0.07504371,  0.20838223,  0.01389779, ...,  0.29183102,\n",
       "         0.10900774, -0.01474921],\n",
       "       [-0.08222423,  0.21094899,  0.01309142, ...,  0.28734782,\n",
       "         0.11166412, -0.01600154],\n",
       "       [-0.07504351,  0.20838234,  0.01389783, ...,  0.29183108,\n",
       "         0.10900761, -0.01474914]], dtype=float32)"
      ]
     },
     "metadata": {},
     "output_type": "display_data"
    },
    {
     "data": {
      "text/plain": [
       "array([[-0.07856144,  0.2120104 ,  0.01425187, ...,  0.2913334 ,\n",
       "         0.10806108, -0.01424382],\n",
       "       [-0.0782567 ,  0.21220475,  0.01435487, ...,  0.2917244 ,\n",
       "         0.10765366, -0.01409421],\n",
       "       [-0.07774851,  0.21225792,  0.01449534, ...,  0.29221135,\n",
       "         0.10724624, -0.01385201],\n",
       "       [-0.07779253,  0.21201988,  0.01448297, ...,  0.2920521 ,\n",
       "         0.10752257, -0.01387954]], dtype=float32)"
      ]
     },
     "metadata": {},
     "output_type": "display_data"
    },
    {
     "data": {
      "text/plain": [
       "array([[-0.08533636,  0.21033612,  0.01208707, ...,  0.28409538,\n",
       "         0.11440133, -0.01749043],\n",
       "       [-0.07504179,  0.2083836 ,  0.01389832, ...,  0.2918323 ,\n",
       "         0.10900622, -0.01474822],\n",
       "       [-0.07504413,  0.20838188,  0.01389775, ...,  0.29183078,\n",
       "         0.10900798, -0.01474946],\n",
       "       [-0.07956818,  0.21147197,  0.01393928, ...,  0.29011947,\n",
       "         0.10930841, -0.01473475]], dtype=float32)"
      ]
     },
     "metadata": {},
     "output_type": "display_data"
    },
    {
     "data": {
      "text/plain": [
       "array([[-0.07878177,  0.21179567,  0.01418111, ...,  0.291016  ,\n",
       "         0.1084362 , -0.014353  ],\n",
       "       [-0.07884042,  0.21202804,  0.01417445, ...,  0.29108956,\n",
       "         0.10823633, -0.01437511],\n",
       "       [-0.08013974,  0.21140233,  0.01375541, ...,  0.28954247,\n",
       "         0.10977842, -0.01500265],\n",
       "       [-0.07718061,  0.21247847,  0.01465395, ...,  0.29283842,\n",
       "         0.10663344, -0.01357139]], dtype=float32)"
      ]
     },
     "metadata": {},
     "output_type": "display_data"
    },
    {
     "data": {
      "text/plain": [
       "array([[-0.07935055,  0.21158572,  0.01400581, ...,  0.29037917,\n",
       "         0.10904216, -0.01462834],\n",
       "       [-0.08490666,  0.21069957,  0.01225568, ...,  0.28471687,\n",
       "         0.11371367, -0.01728587],\n",
       "       [-0.07504256,  0.20838307,  0.01389816, ...,  0.2918318 ,\n",
       "         0.10900675, -0.01474865],\n",
       "       [-0.07762751,  0.21225423,  0.01452948, ...,  0.29232016,\n",
       "         0.10716264, -0.01379664]], dtype=float32)"
      ]
     },
     "metadata": {},
     "output_type": "display_data"
    },
    {
     "data": {
      "text/plain": [
       "array([[-0.07795603,  0.21209046,  0.01443061, ...,  0.29193237,\n",
       "         0.10756481, -0.01395315],\n",
       "       [-0.07504303,  0.20838282,  0.01389799, ...,  0.29183152,\n",
       "         0.10900712, -0.01474884],\n",
       "       [-0.07727753,  0.21240996,  0.01462973, ...,  0.29271808,\n",
       "         0.10675905, -0.01362717],\n",
       "       [-0.07869792,  0.21175092,  0.01421007, ...,  0.2910747 ,\n",
       "         0.10841942, -0.01431812]], dtype=float32)"
      ]
     },
     "metadata": {},
     "output_type": "display_data"
    },
    {
     "data": {
      "text/plain": [
       "array([[-0.07504371,  0.20838222,  0.01389779, ...,  0.29183102,\n",
       "         0.10900774, -0.01474921],\n",
       "       [-0.08224577,  0.2109459 ,  0.01308403, ...,  0.28732508,\n",
       "         0.11168354, -0.01601104],\n",
       "       [-0.07802614,  0.21219367,  0.01441499, ...,  0.29192385,\n",
       "         0.1075049 , -0.0139851 ],\n",
       "       [-0.07504339,  0.2083825 ,  0.01389794, ...,  0.29183125,\n",
       "         0.10900749, -0.01474909]], dtype=float32)"
      ]
     },
     "metadata": {},
     "output_type": "display_data"
    },
    {
     "data": {
      "text/plain": [
       "array([[-0.07504279,  0.20838293,  0.01389811, ...,  0.2918316 ,\n",
       "         0.10900691, -0.01474874],\n",
       "       [-0.07883827,  0.21171436,  0.01416582, ...,  0.2909256 ,\n",
       "         0.10855535, -0.01438385],\n",
       "       [-0.07883434,  0.21171962,  0.01416536, ...,  0.2909298 ,\n",
       "         0.10855313, -0.01437866],\n",
       "       [-0.07504065,  0.20838454,  0.01389871, ...,  0.2918331 ,\n",
       "         0.10900527, -0.01474755]], dtype=float32)"
      ]
     },
     "metadata": {},
     "output_type": "display_data"
    },
    {
     "data": {
      "text/plain": [
       "array([[-0.07778417,  0.21223882,  0.0144852 , ...,  0.29216912,\n",
       "         0.10728837, -0.01387072],\n",
       "       [-0.07867824,  0.21175914,  0.01421465, ...,  0.29109645,\n",
       "         0.10840179, -0.01430578],\n",
       "       [-0.07687777,  0.2124221 ,  0.01473345, ...,  0.29308596,\n",
       "         0.10646579, -0.01343586],\n",
       "       [-0.07787353,  0.2120403 ,  0.01445652, ...,  0.29198626,\n",
       "         0.1075583 , -0.01391599]], dtype=float32)"
      ]
     },
     "metadata": {},
     "output_type": "display_data"
    }
   ],
   "source": [
    "full_run(num_epochs=30, version=7, force_restart=False)"
   ]
  },
  {
   "cell_type": "code",
   "execution_count": 22,
   "id": "b0abb55e-a0e7-4bc5-a17d-eb0ba4ce07f7",
   "metadata": {
    "collapsed": true,
    "jupyter": {
     "outputs_hidden": true
    },
    "tags": []
   },
   "outputs": [
    {
     "name": "stderr",
     "output_type": "stream",
     "text": [
      "Some weights of the model checkpoint at distilbert-base-uncased were not used when initializing DistilBertModel: ['vocab_transform.bias', 'vocab_transform.weight', 'vocab_layer_norm.bias', 'vocab_layer_norm.weight', 'vocab_projector.bias', 'vocab_projector.weight']\n",
      "- This IS expected if you are initializing DistilBertModel from the checkpoint of a model trained on another task or with another architecture (e.g. initializing a BertForSequenceClassification model from a BertForPreTraining model).\n",
      "- This IS NOT expected if you are initializing DistilBertModel from the checkpoint of a model that you expect to be exactly identical (initializing a BertForSequenceClassification model from a BertForSequenceClassification model).\n",
      "Some weights of the model checkpoint at distilbert-base-uncased were not used when initializing DistilBertModel: ['vocab_transform.bias', 'vocab_transform.weight', 'vocab_layer_norm.bias', 'vocab_layer_norm.weight', 'vocab_projector.bias', 'vocab_projector.weight']\n",
      "- This IS expected if you are initializing DistilBertModel from the checkpoint of a model trained on another task or with another architecture (e.g. initializing a BertForSequenceClassification model from a BertForPreTraining model).\n",
      "- This IS NOT expected if you are initializing DistilBertModel from the checkpoint of a model that you expect to be exactly identical (initializing a BertForSequenceClassification model from a BertForSequenceClassification model).\n"
     ]
    },
    {
     "name": "stdout",
     "output_type": "stream",
     "text": [
      "('harness_v0_lg_9.pkl', 9) 10\n",
      "epoch 10 version: 0\n"
     ]
    },
    {
     "data": {
      "application/vnd.jupyter.widget-view+json": {
       "model_id": "399ae37c81da475b9192356210a602b4",
       "version_major": 2,
       "version_minor": 0
      },
      "text/plain": [
       "train:   0%|          | 0/20000 [00:00<?, ?it/s]"
      ]
     },
     "metadata": {},
     "output_type": "display_data"
    },
    {
     "data": {
      "application/vnd.jupyter.widget-view+json": {
       "model_id": "e442acb9f87e4082b9e1beb84841198d",
       "version_major": 2,
       "version_minor": 0
      },
      "text/plain": [
       "train val:   0%|          | 0/10000 [00:00<?, ?it/s]"
      ]
     },
     "metadata": {},
     "output_type": "display_data"
    },
    {
     "data": {
      "application/vnd.jupyter.widget-view+json": {
       "model_id": "8f8be46dfd114acc833ac2dba78664db",
       "version_major": 2,
       "version_minor": 0
      },
      "text/plain": [
       "test:   0%|          | 0/10000 [00:00<?, ?it/s]"
      ]
     },
     "metadata": {},
     "output_type": "display_data"
    },
    {
     "name": "stdout",
     "output_type": "stream",
     "text": [
      "train: 0.8031 loss: 0.376480638437366\n",
      "train val: 0.8228 loss: 0.3370023237985384\n",
      "test: 0.6644 loss: 0.6248710798442364\n",
      "epoch time: 12.74min\n",
      "removing /mnt/d/workspace/clotho/notebooks/checkpoints/stats_v0_lg_4.json\n",
      "removing /mnt/d/workspace/clotho/notebooks/checkpoints/harness_v0_lg_4.pkl\n",
      "best model: /mnt/d/workspace/clotho/notebooks/checkpoints/harness_v0_lg_10.pkl\n",
      "best train: 0.8031\n",
      "best train val: 0.8228\n",
      "best test: 0.6644\n",
      "epoch 11 version: 0\n"
     ]
    },
    {
     "data": {
      "application/vnd.jupyter.widget-view+json": {
       "model_id": "17084fcfe5034f72b5143dbfed4b4836",
       "version_major": 2,
       "version_minor": 0
      },
      "text/plain": [
       "train:   0%|          | 0/20000 [00:00<?, ?it/s]"
      ]
     },
     "metadata": {},
     "output_type": "display_data"
    },
    {
     "data": {
      "application/vnd.jupyter.widget-view+json": {
       "model_id": "ed2d027265ad4cde86871d4d05ee25f0",
       "version_major": 2,
       "version_minor": 0
      },
      "text/plain": [
       "train val:   0%|          | 0/10000 [00:00<?, ?it/s]"
      ]
     },
     "metadata": {},
     "output_type": "display_data"
    },
    {
     "data": {
      "application/vnd.jupyter.widget-view+json": {
       "model_id": "645448788bbc4e5189ca1dd75e0bd338",
       "version_major": 2,
       "version_minor": 0
      },
      "text/plain": [
       "test:   0%|          | 0/10000 [00:00<?, ?it/s]"
      ]
     },
     "metadata": {},
     "output_type": "display_data"
    },
    {
     "name": "stdout",
     "output_type": "stream",
     "text": [
      "train: 0.7983 loss: 0.3782217312169058\n",
      "train val: 0.8161 loss: 0.3529779554692119\n",
      "test: 0.6419 loss: 0.6420734712123871\n",
      "epoch time: 12.15min\n",
      "removing /mnt/d/workspace/clotho/notebooks/checkpoints/stats_v0_lg_6.json\n",
      "removing /mnt/d/workspace/clotho/notebooks/checkpoints/harness_v0_lg_6.pkl\n",
      "best model: /mnt/d/workspace/clotho/notebooks/checkpoints/harness_v0_lg_10.pkl\n",
      "best train: 0.8031\n",
      "best train val: 0.8228\n",
      "best test: 0.6644\n",
      "epoch 12 version: 0\n"
     ]
    },
    {
     "data": {
      "application/vnd.jupyter.widget-view+json": {
       "model_id": "323d3463a80e46c9b848c9026400fcc4",
       "version_major": 2,
       "version_minor": 0
      },
      "text/plain": [
       "train:   0%|          | 0/20000 [00:00<?, ?it/s]"
      ]
     },
     "metadata": {},
     "output_type": "display_data"
    },
    {
     "data": {
      "application/vnd.jupyter.widget-view+json": {
       "model_id": "7c8feb824b264fc487d4ce416b5ffc46",
       "version_major": 2,
       "version_minor": 0
      },
      "text/plain": [
       "train val:   0%|          | 0/10000 [00:00<?, ?it/s]"
      ]
     },
     "metadata": {},
     "output_type": "display_data"
    },
    {
     "data": {
      "application/vnd.jupyter.widget-view+json": {
       "model_id": "8ddfb333b0f9489db061c7ef6f27afc2",
       "version_major": 2,
       "version_minor": 0
      },
      "text/plain": [
       "test:   0%|          | 0/10000 [00:00<?, ?it/s]"
      ]
     },
     "metadata": {},
     "output_type": "display_data"
    },
    {
     "name": "stdout",
     "output_type": "stream",
     "text": [
      "train: 0.7998 loss: 0.41688419145310834\n",
      "train val: 0.8224 loss: 0.3389306511581293\n",
      "test: 0.6799 loss: 0.6059638457715512\n",
      "epoch time: 12.00min\n",
      "removing /mnt/d/workspace/clotho/notebooks/checkpoints/stats_v0_lg_2.json\n",
      "removing /mnt/d/workspace/clotho/notebooks/checkpoints/harness_v0_lg_2.pkl\n",
      "best model: /mnt/d/workspace/clotho/notebooks/checkpoints/harness_v0_lg_10.pkl\n",
      "best train: 0.8031\n",
      "best train val: 0.8228\n",
      "best test: 0.6644\n",
      "epoch 13 version: 0\n"
     ]
    },
    {
     "data": {
      "application/vnd.jupyter.widget-view+json": {
       "model_id": "ad28ac776950437891c7c0f1ff8535a9",
       "version_major": 2,
       "version_minor": 0
      },
      "text/plain": [
       "train:   0%|          | 0/20000 [00:00<?, ?it/s]"
      ]
     },
     "metadata": {},
     "output_type": "display_data"
    },
    {
     "data": {
      "application/vnd.jupyter.widget-view+json": {
       "model_id": "3123749d9ae84d7a948f307c9c6c596b",
       "version_major": 2,
       "version_minor": 0
      },
      "text/plain": [
       "train val:   0%|          | 0/10000 [00:00<?, ?it/s]"
      ]
     },
     "metadata": {},
     "output_type": "display_data"
    },
    {
     "data": {
      "application/vnd.jupyter.widget-view+json": {
       "model_id": "41318ce771894aa2b66e8a6c5427dcf3",
       "version_major": 2,
       "version_minor": 0
      },
      "text/plain": [
       "test:   0%|          | 0/10000 [00:00<?, ?it/s]"
      ]
     },
     "metadata": {},
     "output_type": "display_data"
    },
    {
     "name": "stdout",
     "output_type": "stream",
     "text": [
      "train: 0.7813 loss: 1.5865011113879204\n",
      "train val: 0.8092 loss: 0.3509040169040378\n",
      "test: 0.6299 loss: 0.6427276950240135\n",
      "epoch time: 12.61min\n",
      "removing /mnt/d/workspace/clotho/notebooks/checkpoints/stats_v0_lg_8.json\n",
      "removing /mnt/d/workspace/clotho/notebooks/checkpoints/harness_v0_lg_8.pkl\n",
      "best model: /mnt/d/workspace/clotho/notebooks/checkpoints/harness_v0_lg_10.pkl\n",
      "best train: 0.8031\n",
      "best train val: 0.8228\n",
      "best test: 0.6644\n",
      "epoch 14 version: 0\n"
     ]
    },
    {
     "data": {
      "application/vnd.jupyter.widget-view+json": {
       "model_id": "0f698d56c69c440d8f4f6ca5834a8411",
       "version_major": 2,
       "version_minor": 0
      },
      "text/plain": [
       "train:   0%|          | 0/20000 [00:00<?, ?it/s]"
      ]
     },
     "metadata": {},
     "output_type": "display_data"
    },
    {
     "data": {
      "application/vnd.jupyter.widget-view+json": {
       "model_id": "14d151ecc3f9427293e93d2a5f82405e",
       "version_major": 2,
       "version_minor": 0
      },
      "text/plain": [
       "train val:   0%|          | 0/10000 [00:00<?, ?it/s]"
      ]
     },
     "metadata": {},
     "output_type": "display_data"
    },
    {
     "data": {
      "application/vnd.jupyter.widget-view+json": {
       "model_id": "56044ad4a27343959bd9200e68267bff",
       "version_major": 2,
       "version_minor": 0
      },
      "text/plain": [
       "test:   0%|          | 0/10000 [00:00<?, ?it/s]"
      ]
     },
     "metadata": {},
     "output_type": "display_data"
    },
    {
     "name": "stdout",
     "output_type": "stream",
     "text": [
      "train: 0.8015 loss: 0.3739061497040901\n",
      "train val: 0.817 loss: 0.35746862606074864\n",
      "test: 0.6621 loss: 0.631569459438324\n",
      "epoch time: 12.37min\n",
      "removing /mnt/d/workspace/clotho/notebooks/checkpoints/stats_v0_lg_7.json\n",
      "removing /mnt/d/workspace/clotho/notebooks/checkpoints/harness_v0_lg_7.pkl\n",
      "best model: /mnt/d/workspace/clotho/notebooks/checkpoints/harness_v0_lg_10.pkl\n",
      "best train: 0.8031\n",
      "best train val: 0.8228\n",
      "best test: 0.6644\n",
      "epoch 15 version: 0\n"
     ]
    },
    {
     "data": {
      "application/vnd.jupyter.widget-view+json": {
       "model_id": "fb6031dbbee8480aa9b8daf3167e391a",
       "version_major": 2,
       "version_minor": 0
      },
      "text/plain": [
       "train:   0%|          | 0/20000 [00:00<?, ?it/s]"
      ]
     },
     "metadata": {},
     "output_type": "display_data"
    },
    {
     "data": {
      "application/vnd.jupyter.widget-view+json": {
       "model_id": "199b58705288425499a7af8b371935c1",
       "version_major": 2,
       "version_minor": 0
      },
      "text/plain": [
       "train val:   0%|          | 0/10000 [00:00<?, ?it/s]"
      ]
     },
     "metadata": {},
     "output_type": "display_data"
    },
    {
     "data": {
      "application/vnd.jupyter.widget-view+json": {
       "model_id": "a74868ae85fd4cbc94c50152cd144236",
       "version_major": 2,
       "version_minor": 0
      },
      "text/plain": [
       "test:   0%|          | 0/10000 [00:00<?, ?it/s]"
      ]
     },
     "metadata": {},
     "output_type": "display_data"
    },
    {
     "name": "stdout",
     "output_type": "stream",
     "text": [
      "train: 0.81065 loss: 0.40083241417258253\n",
      "train val: 0.8189 loss: 0.33527418184585367\n",
      "test: 0.6968 loss: 0.586345024472475\n",
      "epoch time: 11.87min\n",
      "removing /mnt/d/workspace/clotho/notebooks/checkpoints/stats_v0_lg_13.json\n",
      "removing /mnt/d/workspace/clotho/notebooks/checkpoints/harness_v0_lg_13.pkl\n",
      "best model: /mnt/d/workspace/clotho/notebooks/checkpoints/harness_v0_lg_10.pkl\n",
      "best train: 0.8031\n",
      "best train val: 0.8228\n",
      "best test: 0.6644\n",
      "epoch 16 version: 0\n"
     ]
    },
    {
     "data": {
      "application/vnd.jupyter.widget-view+json": {
       "model_id": "0ea8bb7b129d47b5966ce1244044a321",
       "version_major": 2,
       "version_minor": 0
      },
      "text/plain": [
       "train:   0%|          | 0/20000 [00:00<?, ?it/s]"
      ]
     },
     "metadata": {},
     "output_type": "display_data"
    },
    {
     "data": {
      "application/vnd.jupyter.widget-view+json": {
       "model_id": "aa507d0316d745d2ac86375de1681e1f",
       "version_major": 2,
       "version_minor": 0
      },
      "text/plain": [
       "train val:   0%|          | 0/10000 [00:00<?, ?it/s]"
      ]
     },
     "metadata": {},
     "output_type": "display_data"
    },
    {
     "data": {
      "application/vnd.jupyter.widget-view+json": {
       "model_id": "9de84a7ed46541268f3625e46e5ec4ab",
       "version_major": 2,
       "version_minor": 0
      },
      "text/plain": [
       "test:   0%|          | 0/10000 [00:00<?, ?it/s]"
      ]
     },
     "metadata": {},
     "output_type": "display_data"
    },
    {
     "name": "stdout",
     "output_type": "stream",
     "text": [
      "train: 0.82705 loss: 0.34970081730039426\n",
      "train val: 0.8253 loss: 0.32854281201365665\n",
      "test: 0.679 loss: 0.596982350063324\n",
      "epoch time: 11.17min\n",
      "removing /mnt/d/workspace/clotho/notebooks/checkpoints/stats_v0_lg_11.json\n",
      "removing /mnt/d/workspace/clotho/notebooks/checkpoints/harness_v0_lg_11.pkl\n",
      "best model: /mnt/d/workspace/clotho/notebooks/checkpoints/harness_v0_lg_16.pkl\n",
      "best train: 0.82705\n",
      "best train val: 0.8253\n",
      "best test: 0.679\n",
      "epoch 17 version: 0\n"
     ]
    },
    {
     "data": {
      "application/vnd.jupyter.widget-view+json": {
       "model_id": "3ef2d6cfa79c45b98bb81e5a1591a805",
       "version_major": 2,
       "version_minor": 0
      },
      "text/plain": [
       "train:   0%|          | 0/20000 [00:00<?, ?it/s]"
      ]
     },
     "metadata": {},
     "output_type": "display_data"
    },
    {
     "data": {
      "application/vnd.jupyter.widget-view+json": {
       "model_id": "5c25e71360614c3088cffccc82c899f7",
       "version_major": 2,
       "version_minor": 0
      },
      "text/plain": [
       "train val:   0%|          | 0/10000 [00:00<?, ?it/s]"
      ]
     },
     "metadata": {},
     "output_type": "display_data"
    },
    {
     "data": {
      "application/vnd.jupyter.widget-view+json": {
       "model_id": "494c4406b1d44fd4a95f3602ebe9f458",
       "version_major": 2,
       "version_minor": 0
      },
      "text/plain": [
       "test:   0%|          | 0/10000 [00:00<?, ?it/s]"
      ]
     },
     "metadata": {},
     "output_type": "display_data"
    },
    {
     "name": "stdout",
     "output_type": "stream",
     "text": [
      "train: 0.8203 loss: 0.39295006814889166\n",
      "train val: 0.8184 loss: 0.3385297625351843\n",
      "test: 0.6893 loss: 0.5936579930484295\n",
      "epoch time: 11.54min\n",
      "removing /mnt/d/workspace/clotho/notebooks/checkpoints/stats_v0_lg_14.json\n",
      "removing /mnt/d/workspace/clotho/notebooks/checkpoints/harness_v0_lg_14.pkl\n",
      "best model: /mnt/d/workspace/clotho/notebooks/checkpoints/harness_v0_lg_16.pkl\n",
      "best train: 0.82705\n",
      "best train val: 0.8253\n",
      "best test: 0.679\n",
      "epoch 18 version: 0\n"
     ]
    },
    {
     "data": {
      "application/vnd.jupyter.widget-view+json": {
       "model_id": "e21b5fa84fae425f85b9ded8c88c64d1",
       "version_major": 2,
       "version_minor": 0
      },
      "text/plain": [
       "train:   0%|          | 0/20000 [00:00<?, ?it/s]"
      ]
     },
     "metadata": {},
     "output_type": "display_data"
    },
    {
     "data": {
      "application/vnd.jupyter.widget-view+json": {
       "model_id": "672e4684bbfe40c39ed5f5f00f691f87",
       "version_major": 2,
       "version_minor": 0
      },
      "text/plain": [
       "train val:   0%|          | 0/10000 [00:00<?, ?it/s]"
      ]
     },
     "metadata": {},
     "output_type": "display_data"
    },
    {
     "data": {
      "application/vnd.jupyter.widget-view+json": {
       "model_id": "680cbafaa426409780344da41aa429dd",
       "version_major": 2,
       "version_minor": 0
      },
      "text/plain": [
       "test:   0%|          | 0/10000 [00:00<?, ?it/s]"
      ]
     },
     "metadata": {},
     "output_type": "display_data"
    },
    {
     "name": "stdout",
     "output_type": "stream",
     "text": [
      "train: 0.8311 loss: 0.32697988737028927\n",
      "train val: 0.825 loss: 0.3418781376953004\n",
      "test: 0.6869 loss: 0.6045112045288086\n",
      "epoch time: 10.86min\n",
      "removing /mnt/d/workspace/clotho/notebooks/checkpoints/stats_v0_lg_9.json\n",
      "removing /mnt/d/workspace/clotho/notebooks/checkpoints/harness_v0_lg_9.pkl\n",
      "best model: /mnt/d/workspace/clotho/notebooks/checkpoints/harness_v0_lg_16.pkl\n",
      "best train: 0.82705\n",
      "best train val: 0.8253\n",
      "best test: 0.679\n",
      "epoch 19 version: 0\n"
     ]
    },
    {
     "data": {
      "application/vnd.jupyter.widget-view+json": {
       "model_id": "c5a364e6523d444496acfa57a7e17b08",
       "version_major": 2,
       "version_minor": 0
      },
      "text/plain": [
       "train:   0%|          | 0/20000 [00:00<?, ?it/s]"
      ]
     },
     "metadata": {},
     "output_type": "display_data"
    },
    {
     "data": {
      "application/vnd.jupyter.widget-view+json": {
       "model_id": "349a3de4bd5f4ad4ad22b15e3e1434e6",
       "version_major": 2,
       "version_minor": 0
      },
      "text/plain": [
       "train val:   0%|          | 0/10000 [00:00<?, ?it/s]"
      ]
     },
     "metadata": {},
     "output_type": "display_data"
    },
    {
     "data": {
      "application/vnd.jupyter.widget-view+json": {
       "model_id": "3582d365ff2d46b682b0b12598710ba5",
       "version_major": 2,
       "version_minor": 0
      },
      "text/plain": [
       "test:   0%|          | 0/10000 [00:00<?, ?it/s]"
      ]
     },
     "metadata": {},
     "output_type": "display_data"
    },
    {
     "name": "stdout",
     "output_type": "stream",
     "text": [
      "train: 0.83175 loss: 0.3240999914830495\n",
      "train val: 0.8279 loss: 0.3432629117341724\n",
      "test: 0.6729 loss: 0.6188077236950398\n",
      "epoch time: 11.35min\n",
      "removing /mnt/d/workspace/clotho/notebooks/checkpoints/stats_v0_lg_17.json\n",
      "removing /mnt/d/workspace/clotho/notebooks/checkpoints/harness_v0_lg_17.pkl\n",
      "best model: /mnt/d/workspace/clotho/notebooks/checkpoints/harness_v0_lg_19.pkl\n",
      "best train: 0.83175\n",
      "best train val: 0.8279\n",
      "best test: 0.6729\n",
      "epoch 20 version: 0\n"
     ]
    },
    {
     "data": {
      "application/vnd.jupyter.widget-view+json": {
       "model_id": "05580ded95754e9992c2fa1de2a14973",
       "version_major": 2,
       "version_minor": 0
      },
      "text/plain": [
       "train:   0%|          | 0/20000 [00:00<?, ?it/s]"
      ]
     },
     "metadata": {},
     "output_type": "display_data"
    },
    {
     "data": {
      "application/vnd.jupyter.widget-view+json": {
       "model_id": "65d18033895c4bce80345a8ba0a6dd3a",
       "version_major": 2,
       "version_minor": 0
      },
      "text/plain": [
       "train val:   0%|          | 0/10000 [00:00<?, ?it/s]"
      ]
     },
     "metadata": {},
     "output_type": "display_data"
    },
    {
     "data": {
      "application/vnd.jupyter.widget-view+json": {
       "model_id": "a9ad43a9ec98415aad21cb5a3eebc1c9",
       "version_major": 2,
       "version_minor": 0
      },
      "text/plain": [
       "test:   0%|          | 0/10000 [00:00<?, ?it/s]"
      ]
     },
     "metadata": {},
     "output_type": "display_data"
    },
    {
     "name": "stdout",
     "output_type": "stream",
     "text": [
      "train: 0.8461 loss: 0.3136706553564703\n",
      "train val: 0.8283 loss: 0.3539659164046687\n",
      "test: 0.6556 loss: 0.6315905260682106\n",
      "epoch time: 11.50min\n",
      "removing /mnt/d/workspace/clotho/notebooks/checkpoints/stats_v0_lg_15.json\n",
      "removing /mnt/d/workspace/clotho/notebooks/checkpoints/harness_v0_lg_15.pkl\n",
      "best model: /mnt/d/workspace/clotho/notebooks/checkpoints/harness_v0_lg_20.pkl\n",
      "best train: 0.8461\n",
      "best train val: 0.8283\n",
      "best test: 0.6556\n",
      "epoch 21 version: 0\n"
     ]
    },
    {
     "data": {
      "application/vnd.jupyter.widget-view+json": {
       "model_id": "85ae92b201b143ab995b0ba3ee796065",
       "version_major": 2,
       "version_minor": 0
      },
      "text/plain": [
       "train:   0%|          | 0/20000 [00:00<?, ?it/s]"
      ]
     },
     "metadata": {},
     "output_type": "display_data"
    },
    {
     "data": {
      "application/vnd.jupyter.widget-view+json": {
       "model_id": "3e4a2d412ea54e1f8ea3673565bcf468",
       "version_major": 2,
       "version_minor": 0
      },
      "text/plain": [
       "train val:   0%|          | 0/10000 [00:00<?, ?it/s]"
      ]
     },
     "metadata": {},
     "output_type": "display_data"
    },
    {
     "data": {
      "application/vnd.jupyter.widget-view+json": {
       "model_id": "e516c3b19fce42f4a1f7b1455f9af434",
       "version_major": 2,
       "version_minor": 0
      },
      "text/plain": [
       "test:   0%|          | 0/10000 [00:00<?, ?it/s]"
      ]
     },
     "metadata": {},
     "output_type": "display_data"
    },
    {
     "name": "stdout",
     "output_type": "stream",
     "text": [
      "train: 0.84115 loss: 0.3345130998131777\n",
      "train val: 0.8234 loss: 0.3332724490972847\n",
      "test: 0.6444 loss: 0.6474694880902767\n",
      "epoch time: 11.94min\n",
      "removing /mnt/d/workspace/clotho/notebooks/checkpoints/stats_v0_lg_12.json\n",
      "removing /mnt/d/workspace/clotho/notebooks/checkpoints/harness_v0_lg_12.pkl\n",
      "best model: /mnt/d/workspace/clotho/notebooks/checkpoints/harness_v0_lg_20.pkl\n",
      "best train: 0.8461\n",
      "best train val: 0.8283\n",
      "best test: 0.6556\n",
      "epoch 22 version: 0\n"
     ]
    },
    {
     "data": {
      "application/vnd.jupyter.widget-view+json": {
       "model_id": "93099dc1a5fc420cb65b93cef3fbf4b4",
       "version_major": 2,
       "version_minor": 0
      },
      "text/plain": [
       "train:   0%|          | 0/20000 [00:00<?, ?it/s]"
      ]
     },
     "metadata": {},
     "output_type": "display_data"
    },
    {
     "data": {
      "application/vnd.jupyter.widget-view+json": {
       "model_id": "09741d00883e4ad4bd210dece35c0685",
       "version_major": 2,
       "version_minor": 0
      },
      "text/plain": [
       "train val:   0%|          | 0/10000 [00:00<?, ?it/s]"
      ]
     },
     "metadata": {},
     "output_type": "display_data"
    },
    {
     "data": {
      "application/vnd.jupyter.widget-view+json": {
       "model_id": "35fe030710da4033885f40f84d014f38",
       "version_major": 2,
       "version_minor": 0
      },
      "text/plain": [
       "test:   0%|          | 0/10000 [00:00<?, ?it/s]"
      ]
     },
     "metadata": {},
     "output_type": "display_data"
    },
    {
     "name": "stdout",
     "output_type": "stream",
     "text": [
      "train: 0.83765 loss: 0.33123594739471446\n",
      "train val: 0.8206 loss: 0.33542213021288625\n",
      "test: 0.6766 loss: 0.6095643632650375\n",
      "epoch time: 11.84min\n",
      "removing /mnt/d/workspace/clotho/notebooks/checkpoints/stats_v0_lg_10.json\n",
      "removing /mnt/d/workspace/clotho/notebooks/checkpoints/harness_v0_lg_10.pkl\n",
      "best model: /mnt/d/workspace/clotho/notebooks/checkpoints/harness_v0_lg_20.pkl\n",
      "best train: 0.8461\n",
      "best train val: 0.8283\n",
      "best test: 0.6556\n",
      "epoch 23 version: 0\n"
     ]
    },
    {
     "data": {
      "application/vnd.jupyter.widget-view+json": {
       "model_id": "548c27b3edf44ce4ae0fe768fcc269f1",
       "version_major": 2,
       "version_minor": 0
      },
      "text/plain": [
       "train:   0%|          | 0/20000 [00:00<?, ?it/s]"
      ]
     },
     "metadata": {},
     "output_type": "display_data"
    },
    {
     "data": {
      "application/vnd.jupyter.widget-view+json": {
       "model_id": "eff9bafa34104a2396f71df5e69b0e7f",
       "version_major": 2,
       "version_minor": 0
      },
      "text/plain": [
       "train val:   0%|          | 0/10000 [00:00<?, ?it/s]"
      ]
     },
     "metadata": {},
     "output_type": "display_data"
    },
    {
     "data": {
      "application/vnd.jupyter.widget-view+json": {
       "model_id": "1cec44e72b474eb9b6cd05b64238d5d0",
       "version_major": 2,
       "version_minor": 0
      },
      "text/plain": [
       "test:   0%|          | 0/10000 [00:00<?, ?it/s]"
      ]
     },
     "metadata": {},
     "output_type": "display_data"
    },
    {
     "name": "stdout",
     "output_type": "stream",
     "text": [
      "train: 0.812 loss: 3.522769586103072\n",
      "train val: 0.4142 loss: 41.77239756847918\n",
      "test: 0.6801 loss: 0.6293308455765247\n",
      "epoch time: 11.52min\n",
      "removing /mnt/d/workspace/clotho/notebooks/checkpoints/stats_v0_lg_22.json\n",
      "removing /mnt/d/workspace/clotho/notebooks/checkpoints/harness_v0_lg_22.pkl\n",
      "best model: /mnt/d/workspace/clotho/notebooks/checkpoints/harness_v0_lg_20.pkl\n",
      "best train: 0.8461\n",
      "best train val: 0.8283\n",
      "best test: 0.6556\n",
      "epoch 24 version: 0\n"
     ]
    },
    {
     "data": {
      "application/vnd.jupyter.widget-view+json": {
       "model_id": "39f27bb1042645a3835d8e6314655b39",
       "version_major": 2,
       "version_minor": 0
      },
      "text/plain": [
       "train:   0%|          | 0/20000 [00:00<?, ?it/s]"
      ]
     },
     "metadata": {},
     "output_type": "display_data"
    },
    {
     "data": {
      "application/vnd.jupyter.widget-view+json": {
       "model_id": "5994af936976496f847d93ad04d0109d",
       "version_major": 2,
       "version_minor": 0
      },
      "text/plain": [
       "train val:   0%|          | 0/10000 [00:00<?, ?it/s]"
      ]
     },
     "metadata": {},
     "output_type": "display_data"
    },
    {
     "data": {
      "application/vnd.jupyter.widget-view+json": {
       "model_id": "f217162ec2414a1d9ec4cd74b065743f",
       "version_major": 2,
       "version_minor": 0
      },
      "text/plain": [
       "test:   0%|          | 0/10000 [00:00<?, ?it/s]"
      ]
     },
     "metadata": {},
     "output_type": "display_data"
    },
    {
     "name": "stdout",
     "output_type": "stream",
     "text": [
      "train: 0.5358 loss: 31.948390162144136\n",
      "train val: 0.4421 loss: 39.43589987837076\n",
      "test: 0.6779 loss: 0.6189495800584555\n",
      "epoch time: 11.32min\n",
      "removing /mnt/d/workspace/clotho/notebooks/checkpoints/stats_v0_lg_23.json\n",
      "removing /mnt/d/workspace/clotho/notebooks/checkpoints/harness_v0_lg_23.pkl\n",
      "best model: /mnt/d/workspace/clotho/notebooks/checkpoints/harness_v0_lg_20.pkl\n",
      "best train: 0.8461\n",
      "best train val: 0.8283\n",
      "best test: 0.6556\n",
      "epoch 25 version: 0\n"
     ]
    },
    {
     "data": {
      "application/vnd.jupyter.widget-view+json": {
       "model_id": "be9272eab1144750ac6ad8d949cf14f5",
       "version_major": 2,
       "version_minor": 0
      },
      "text/plain": [
       "train:   0%|          | 0/20000 [00:00<?, ?it/s]"
      ]
     },
     "metadata": {},
     "output_type": "display_data"
    },
    {
     "data": {
      "application/vnd.jupyter.widget-view+json": {
       "model_id": "aa61184e04be4bb094f8221652910056",
       "version_major": 2,
       "version_minor": 0
      },
      "text/plain": [
       "train val:   0%|          | 0/10000 [00:00<?, ?it/s]"
      ]
     },
     "metadata": {},
     "output_type": "display_data"
    },
    {
     "data": {
      "application/vnd.jupyter.widget-view+json": {
       "model_id": "770e51d3a5b14b32a18e05e2aeedafae",
       "version_major": 2,
       "version_minor": 0
      },
      "text/plain": [
       "test:   0%|          | 0/10000 [00:00<?, ?it/s]"
      ]
     },
     "metadata": {},
     "output_type": "display_data"
    },
    {
     "name": "stdout",
     "output_type": "stream",
     "text": [
      "train: 0.84275 loss: 0.8408707002551823\n",
      "train val: 0.8343 loss: 0.3329192027433659\n",
      "test: 0.6657 loss: 0.6298574543714524\n",
      "epoch time: 11.25min\n",
      "removing /mnt/d/workspace/clotho/notebooks/checkpoints/stats_v0_lg_24.json\n",
      "removing /mnt/d/workspace/clotho/notebooks/checkpoints/harness_v0_lg_24.pkl\n",
      "best model: /mnt/d/workspace/clotho/notebooks/checkpoints/harness_v0_lg_25.pkl\n",
      "best train: 0.84275\n",
      "best train val: 0.8343\n",
      "best test: 0.6657\n",
      "epoch 26 version: 0\n"
     ]
    },
    {
     "data": {
      "application/vnd.jupyter.widget-view+json": {
       "model_id": "782da4617ddc4f5e8cae3a41b1243db3",
       "version_major": 2,
       "version_minor": 0
      },
      "text/plain": [
       "train:   0%|          | 0/20000 [00:00<?, ?it/s]"
      ]
     },
     "metadata": {},
     "output_type": "display_data"
    },
    {
     "data": {
      "application/vnd.jupyter.widget-view+json": {
       "model_id": "82f46d4ddf1d424484ab7c76317b8344",
       "version_major": 2,
       "version_minor": 0
      },
      "text/plain": [
       "train val:   0%|          | 0/10000 [00:00<?, ?it/s]"
      ]
     },
     "metadata": {},
     "output_type": "display_data"
    },
    {
     "data": {
      "application/vnd.jupyter.widget-view+json": {
       "model_id": "ef6a974260a74c9280b1b4bac04a2bbe",
       "version_major": 2,
       "version_minor": 0
      },
      "text/plain": [
       "test:   0%|          | 0/10000 [00:00<?, ?it/s]"
      ]
     },
     "metadata": {},
     "output_type": "display_data"
    },
    {
     "name": "stdout",
     "output_type": "stream",
     "text": [
      "train: 0.84815 loss: 0.2983896049431802\n",
      "train val: 0.8327 loss: 0.3194345407232948\n",
      "test: 0.6785 loss: 0.6130925935983658\n",
      "epoch time: 11.90min\n",
      "removing /mnt/d/workspace/clotho/notebooks/checkpoints/stats_v0_lg_21.json\n",
      "removing /mnt/d/workspace/clotho/notebooks/checkpoints/harness_v0_lg_21.pkl\n",
      "best model: /mnt/d/workspace/clotho/notebooks/checkpoints/harness_v0_lg_25.pkl\n",
      "best train: 0.84275\n",
      "best train val: 0.8343\n",
      "best test: 0.6657\n",
      "epoch 27 version: 0\n"
     ]
    },
    {
     "data": {
      "application/vnd.jupyter.widget-view+json": {
       "model_id": "018baf091c444bf297300efaf68ea512",
       "version_major": 2,
       "version_minor": 0
      },
      "text/plain": [
       "train:   0%|          | 0/20000 [00:00<?, ?it/s]"
      ]
     },
     "metadata": {},
     "output_type": "display_data"
    },
    {
     "data": {
      "application/vnd.jupyter.widget-view+json": {
       "model_id": "dd923280cd374769a9d27413662fba28",
       "version_major": 2,
       "version_minor": 0
      },
      "text/plain": [
       "train val:   0%|          | 0/10000 [00:00<?, ?it/s]"
      ]
     },
     "metadata": {},
     "output_type": "display_data"
    },
    {
     "data": {
      "application/vnd.jupyter.widget-view+json": {
       "model_id": "68f26aae1079417f8f1fec665f342897",
       "version_major": 2,
       "version_minor": 0
      },
      "text/plain": [
       "test:   0%|          | 0/10000 [00:00<?, ?it/s]"
      ]
     },
     "metadata": {},
     "output_type": "display_data"
    },
    {
     "name": "stdout",
     "output_type": "stream",
     "text": [
      "train: 0.8401 loss: 0.36093892041415676\n",
      "train val: 0.8184 loss: 0.3360269413171452\n",
      "test: 0.6587 loss: 0.6179270111739635\n",
      "epoch time: 10.67min\n",
      "removing /mnt/d/workspace/clotho/notebooks/checkpoints/stats_v0_lg_18.json\n",
      "removing /mnt/d/workspace/clotho/notebooks/checkpoints/harness_v0_lg_18.pkl\n",
      "best model: /mnt/d/workspace/clotho/notebooks/checkpoints/harness_v0_lg_25.pkl\n",
      "best train: 0.84275\n",
      "best train val: 0.8343\n",
      "best test: 0.6657\n",
      "epoch 28 version: 0\n"
     ]
    },
    {
     "data": {
      "application/vnd.jupyter.widget-view+json": {
       "model_id": "e2ef45f3f40f4b35b34307f7486f7b7c",
       "version_major": 2,
       "version_minor": 0
      },
      "text/plain": [
       "train:   0%|          | 0/20000 [00:00<?, ?it/s]"
      ]
     },
     "metadata": {},
     "output_type": "display_data"
    },
    {
     "data": {
      "application/vnd.jupyter.widget-view+json": {
       "model_id": "24c0675ba6eb43cdb4852e52e82629e2",
       "version_major": 2,
       "version_minor": 0
      },
      "text/plain": [
       "train val:   0%|          | 0/10000 [00:00<?, ?it/s]"
      ]
     },
     "metadata": {},
     "output_type": "display_data"
    },
    {
     "data": {
      "application/vnd.jupyter.widget-view+json": {
       "model_id": "30486fa9293440f9a3aba55fde36090c",
       "version_major": 2,
       "version_minor": 0
      },
      "text/plain": [
       "test:   0%|          | 0/10000 [00:00<?, ?it/s]"
      ]
     },
     "metadata": {},
     "output_type": "display_data"
    },
    {
     "name": "stdout",
     "output_type": "stream",
     "text": [
      "train: 0.8424 loss: 0.3447860384019434\n",
      "train val: 0.8282 loss: 0.326823478954719\n",
      "test: 0.6336 loss: 0.6622910275220871\n",
      "epoch time: 10.19min\n",
      "removing /mnt/d/workspace/clotho/notebooks/checkpoints/stats_v0_lg_27.json\n",
      "removing /mnt/d/workspace/clotho/notebooks/checkpoints/harness_v0_lg_27.pkl\n",
      "best model: /mnt/d/workspace/clotho/notebooks/checkpoints/harness_v0_lg_25.pkl\n",
      "best train: 0.84275\n",
      "best train val: 0.8343\n",
      "best test: 0.6657\n",
      "epoch 29 version: 0\n"
     ]
    },
    {
     "data": {
      "application/vnd.jupyter.widget-view+json": {
       "model_id": "6ded8614a6e741b598e23d8196db7441",
       "version_major": 2,
       "version_minor": 0
      },
      "text/plain": [
       "train:   0%|          | 0/20000 [00:00<?, ?it/s]"
      ]
     },
     "metadata": {},
     "output_type": "display_data"
    },
    {
     "data": {
      "application/vnd.jupyter.widget-view+json": {
       "model_id": "d441843bde464d16b3d17dd349612531",
       "version_major": 2,
       "version_minor": 0
      },
      "text/plain": [
       "train val:   0%|          | 0/10000 [00:00<?, ?it/s]"
      ]
     },
     "metadata": {},
     "output_type": "display_data"
    },
    {
     "data": {
      "application/vnd.jupyter.widget-view+json": {
       "model_id": "5a3316aba7e74eb3b0a70fa5bdc6f842",
       "version_major": 2,
       "version_minor": 0
      },
      "text/plain": [
       "test:   0%|          | 0/10000 [00:00<?, ?it/s]"
      ]
     },
     "metadata": {},
     "output_type": "display_data"
    },
    {
     "name": "stdout",
     "output_type": "stream",
     "text": [
      "train: 0.84685 loss: 0.29811085972355666\n",
      "train val: 0.8306 loss: 0.3246894651920048\n",
      "test: 0.6429 loss: 0.6370158423900604\n",
      "epoch time: 11.36min\n",
      "removing /mnt/d/workspace/clotho/notebooks/checkpoints/stats_v0_lg_16.json\n",
      "removing /mnt/d/workspace/clotho/notebooks/checkpoints/harness_v0_lg_16.pkl\n",
      "best model: /mnt/d/workspace/clotho/notebooks/checkpoints/harness_v0_lg_25.pkl\n",
      "best train: 0.84275\n",
      "best train val: 0.8343\n",
      "best test: 0.6657\n"
     ]
    },
    {
     "data": {
      "application/vnd.jupyter.widget-view+json": {
       "model_id": "eb74c69f73e344fdb363ae3d66a8a3d1",
       "version_major": 2,
       "version_minor": 0
      },
      "text/plain": [
       "test val:   0%|          | 0/10000 [00:00<?, ?it/s]"
      ]
     },
     "metadata": {},
     "output_type": "display_data"
    },
    {
     "name": "stdout",
     "output_type": "stream",
     "text": [
      "test val: {'accuracy': 0.6415} loss: 0.6392107607722283\n",
      "correct\n"
     ]
    },
    {
     "data": {
      "text/html": [
       "<div>\n",
       "<style scoped>\n",
       "    .dataframe tbody tr th:only-of-type {\n",
       "        vertical-align: middle;\n",
       "    }\n",
       "\n",
       "    .dataframe tbody tr th {\n",
       "        vertical-align: top;\n",
       "    }\n",
       "\n",
       "    .dataframe thead th {\n",
       "        text-align: right;\n",
       "    }\n",
       "</style>\n",
       "<table border=\"1\" class=\"dataframe\">\n",
       "  <thead>\n",
       "    <tr style=\"text-align: right;\">\n",
       "      <th></th>\n",
       "      <th>gen_name</th>\n",
       "      <th>parent_left</th>\n",
       "      <th>child_left</th>\n",
       "      <th>parent_right</th>\n",
       "      <th>child_right</th>\n",
       "      <th>score_left</th>\n",
       "      <th>score_right</th>\n",
       "      <th>correct_is_right</th>\n",
       "      <th>logit_left</th>\n",
       "      <th>logit_right</th>\n",
       "      <th>preds</th>\n",
       "      <th>truth</th>\n",
       "    </tr>\n",
       "  </thead>\n",
       "  <tbody>\n",
       "    <tr>\n",
       "      <th>0</th>\n",
       "      <td>!copy--valid_weak;(st)</td>\n",
       "      <td>Well, shit dude.</td>\n",
       "      <td>Everyone in my family is nagging me with the f...</td>\n",
       "      <td>Everyone in my family is nagging me with the f...</td>\n",
       "      <td>Well, shit dude.</td>\n",
       "      <td>0</td>\n",
       "      <td>1</td>\n",
       "      <td>True</td>\n",
       "      <td>0.096102</td>\n",
       "      <td>0.903898</td>\n",
       "      <td>1</td>\n",
       "      <td>1</td>\n",
       "    </tr>\n",
       "    <tr>\n",
       "      <th>1</th>\n",
       "      <td>*valid_weak--!copy;(st)</td>\n",
       "      <td>Not using 1-10, how attractive are you?</td>\n",
       "      <td>Let's just say my Facebook relationship status...</td>\n",
       "      <td>Let's just say my Facebook relationship status...</td>\n",
       "      <td>Not using 1-10, how attractive are you?</td>\n",
       "      <td>1</td>\n",
       "      <td>0</td>\n",
       "      <td>False</td>\n",
       "      <td>0.975133</td>\n",
       "      <td>0.024867</td>\n",
       "      <td>0</td>\n",
       "      <td>0</td>\n",
       "    </tr>\n",
       "    <tr>\n",
       "      <th>3</th>\n",
       "      <td>random--valid_weak;(st)</td>\n",
       "      <td>I can’t stand the smell of truffle oil. Makes ...</td>\n",
       "      <td>my cat's name is Guy, just so I can go \"hey Gu...</td>\n",
       "      <td>Guys….what is a big turn off that girls still ...</td>\n",
       "      <td>Long manicured nails</td>\n",
       "      <td>0</td>\n",
       "      <td>5</td>\n",
       "      <td>True</td>\n",
       "      <td>0.464545</td>\n",
       "      <td>0.535455</td>\n",
       "      <td>1</td>\n",
       "      <td>1</td>\n",
       "    </tr>\n",
       "    <tr>\n",
       "      <th>1</th>\n",
       "      <td>random--valid_weak;(st)</td>\n",
       "      <td>i was gonna say, he knocks it out of the park ...</td>\n",
       "      <td>when itv drugs you and ruins your life fuck th...</td>\n",
       "      <td>[Serious] How would you react if your partner ...</td>\n",
       "      <td>Immediate breakup.</td>\n",
       "      <td>0</td>\n",
       "      <td>1</td>\n",
       "      <td>True</td>\n",
       "      <td>0.376204</td>\n",
       "      <td>0.623796</td>\n",
       "      <td>1</td>\n",
       "      <td>1</td>\n",
       "    </tr>\n",
       "    <tr>\n",
       "      <th>2</th>\n",
       "      <td>!copy--valid_weak;(st)</td>\n",
       "      <td>plus all the bodies you can bury with no one n...</td>\n",
       "      <td>Landscape maintenance, particularly if the cli...</td>\n",
       "      <td>Landscape maintenance, particularly if the cli...</td>\n",
       "      <td>plus all the bodies you can bury with no one n...</td>\n",
       "      <td>0</td>\n",
       "      <td>6</td>\n",
       "      <td>True</td>\n",
       "      <td>0.315130</td>\n",
       "      <td>0.684870</td>\n",
       "      <td>1</td>\n",
       "      <td>1</td>\n",
       "    </tr>\n",
       "  </tbody>\n",
       "</table>\n",
       "</div>"
      ],
      "text/plain": [
       "                  gen_name                                        parent_left  \\\n",
       "0   !copy--valid_weak;(st)                                   Well, shit dude.   \n",
       "1  *valid_weak--!copy;(st)            Not using 1-10, how attractive are you?   \n",
       "3  random--valid_weak;(st)  I can’t stand the smell of truffle oil. Makes ...   \n",
       "1  random--valid_weak;(st)  i was gonna say, he knocks it out of the park ...   \n",
       "2   !copy--valid_weak;(st)  plus all the bodies you can bury with no one n...   \n",
       "\n",
       "                                          child_left  \\\n",
       "0  Everyone in my family is nagging me with the f...   \n",
       "1  Let's just say my Facebook relationship status...   \n",
       "3  my cat's name is Guy, just so I can go \"hey Gu...   \n",
       "1  when itv drugs you and ruins your life fuck th...   \n",
       "2  Landscape maintenance, particularly if the cli...   \n",
       "\n",
       "                                        parent_right  \\\n",
       "0  Everyone in my family is nagging me with the f...   \n",
       "1  Let's just say my Facebook relationship status...   \n",
       "3  Guys….what is a big turn off that girls still ...   \n",
       "1  [Serious] How would you react if your partner ...   \n",
       "2  Landscape maintenance, particularly if the cli...   \n",
       "\n",
       "                                         child_right  score_left  score_right  \\\n",
       "0                                   Well, shit dude.           0            1   \n",
       "1            Not using 1-10, how attractive are you?           1            0   \n",
       "3                               Long manicured nails           0            5   \n",
       "1                                 Immediate breakup.           0            1   \n",
       "2  plus all the bodies you can bury with no one n...           0            6   \n",
       "\n",
       "   correct_is_right  logit_left  logit_right  preds  truth  \n",
       "0              True    0.096102     0.903898      1      1  \n",
       "1             False    0.975133     0.024867      0      0  \n",
       "3              True    0.464545     0.535455      1      1  \n",
       "1              True    0.376204     0.623796      1      1  \n",
       "2              True    0.315130     0.684870      1      1  "
      ]
     },
     "metadata": {},
     "output_type": "display_data"
    },
    {
     "name": "stdout",
     "output_type": "stream",
     "text": [
      "incorrect\n"
     ]
    },
    {
     "data": {
      "text/html": [
       "<div>\n",
       "<style scoped>\n",
       "    .dataframe tbody tr th:only-of-type {\n",
       "        vertical-align: middle;\n",
       "    }\n",
       "\n",
       "    .dataframe tbody tr th {\n",
       "        vertical-align: top;\n",
       "    }\n",
       "\n",
       "    .dataframe thead th {\n",
       "        text-align: right;\n",
       "    }\n",
       "</style>\n",
       "<table border=\"1\" class=\"dataframe\">\n",
       "  <thead>\n",
       "    <tr style=\"text-align: right;\">\n",
       "      <th></th>\n",
       "      <th>gen_name</th>\n",
       "      <th>parent_left</th>\n",
       "      <th>child_left</th>\n",
       "      <th>parent_right</th>\n",
       "      <th>child_right</th>\n",
       "      <th>score_left</th>\n",
       "      <th>score_right</th>\n",
       "      <th>correct_is_right</th>\n",
       "      <th>logit_left</th>\n",
       "      <th>logit_right</th>\n",
       "      <th>preds</th>\n",
       "      <th>truth</th>\n",
       "    </tr>\n",
       "  </thead>\n",
       "  <tbody>\n",
       "    <tr>\n",
       "      <th>2</th>\n",
       "      <td>random--valid_weak;(st)</td>\n",
       "      <td>White Lotus</td>\n",
       "      <td>She Heard</td>\n",
       "      <td>Sewing. Sewing is awesome. I learned basic sew...</td>\n",
       "      <td>I started sewing to make a quilt out of a pile...</td>\n",
       "      <td>0</td>\n",
       "      <td>3</td>\n",
       "      <td>True</td>\n",
       "      <td>0.745288</td>\n",
       "      <td>0.254712</td>\n",
       "      <td>0</td>\n",
       "      <td>1</td>\n",
       "    </tr>\n",
       "    <tr>\n",
       "      <th>0</th>\n",
       "      <td>random--valid_weak;(st)</td>\n",
       "      <td>It's baffling. With as far as they bend over b...</td>\n",
       "      <td>My girlfriends Dad is 75. If he started doing ...</td>\n",
       "      <td>If you could rename America what would it be c...</td>\n",
       "      <td>Gods Country Giant Sowglobe Dunning Kruger Cou...</td>\n",
       "      <td>0</td>\n",
       "      <td>1</td>\n",
       "      <td>True</td>\n",
       "      <td>0.659734</td>\n",
       "      <td>0.340266</td>\n",
       "      <td>0</td>\n",
       "      <td>1</td>\n",
       "    </tr>\n",
       "    <tr>\n",
       "      <th>2</th>\n",
       "      <td>*valid_weak--random;(st)</td>\n",
       "      <td>https://youtu.be/_BtemfoJ-WI</td>\n",
       "      <td>I looked it up, and this aired on November 18,...</td>\n",
       "      <td>I have phimosis, a condition that causes the f...</td>\n",
       "      <td>Elizabeth.</td>\n",
       "      <td>29</td>\n",
       "      <td>0</td>\n",
       "      <td>False</td>\n",
       "      <td>0.170262</td>\n",
       "      <td>0.829738</td>\n",
       "      <td>1</td>\n",
       "      <td>0</td>\n",
       "    </tr>\n",
       "    <tr>\n",
       "      <th>3</th>\n",
       "      <td>*valid_weak--random;(st)</td>\n",
       "      <td>Was it though?</td>\n",
       "      <td>That they linked up? Yeah. That he was an assh...</td>\n",
       "      <td>Shit, I've probably spent a couple hundred on ...</td>\n",
       "      <td>Cuntsland</td>\n",
       "      <td>72</td>\n",
       "      <td>0</td>\n",
       "      <td>False</td>\n",
       "      <td>0.252998</td>\n",
       "      <td>0.747002</td>\n",
       "      <td>1</td>\n",
       "      <td>0</td>\n",
       "    </tr>\n",
       "    <tr>\n",
       "      <th>0</th>\n",
       "      <td>random--valid_weak;(st)</td>\n",
       "      <td>Astrology - is absolute nonsense and people wh...</td>\n",
       "      <td>Angels WITH wings</td>\n",
       "      <td>What’s your favorite word in ANY language?</td>\n",
       "      <td>Solitude past tense predicated adjunct who giv...</td>\n",
       "      <td>0</td>\n",
       "      <td>1</td>\n",
       "      <td>True</td>\n",
       "      <td>0.787405</td>\n",
       "      <td>0.212595</td>\n",
       "      <td>0</td>\n",
       "      <td>1</td>\n",
       "    </tr>\n",
       "  </tbody>\n",
       "</table>\n",
       "</div>"
      ],
      "text/plain": [
       "                   gen_name  \\\n",
       "2   random--valid_weak;(st)   \n",
       "0   random--valid_weak;(st)   \n",
       "2  *valid_weak--random;(st)   \n",
       "3  *valid_weak--random;(st)   \n",
       "0   random--valid_weak;(st)   \n",
       "\n",
       "                                         parent_left  \\\n",
       "2                                        White Lotus   \n",
       "0  It's baffling. With as far as they bend over b...   \n",
       "2                       https://youtu.be/_BtemfoJ-WI   \n",
       "3                                     Was it though?   \n",
       "0  Astrology - is absolute nonsense and people wh...   \n",
       "\n",
       "                                          child_left  \\\n",
       "2                                          She Heard   \n",
       "0  My girlfriends Dad is 75. If he started doing ...   \n",
       "2  I looked it up, and this aired on November 18,...   \n",
       "3  That they linked up? Yeah. That he was an assh...   \n",
       "0                                  Angels WITH wings   \n",
       "\n",
       "                                        parent_right  \\\n",
       "2  Sewing. Sewing is awesome. I learned basic sew...   \n",
       "0  If you could rename America what would it be c...   \n",
       "2  I have phimosis, a condition that causes the f...   \n",
       "3  Shit, I've probably spent a couple hundred on ...   \n",
       "0         What’s your favorite word in ANY language?   \n",
       "\n",
       "                                         child_right  score_left  score_right  \\\n",
       "2  I started sewing to make a quilt out of a pile...           0            3   \n",
       "0  Gods Country Giant Sowglobe Dunning Kruger Cou...           0            1   \n",
       "2                                         Elizabeth.          29            0   \n",
       "3                                          Cuntsland          72            0   \n",
       "0  Solitude past tense predicated adjunct who giv...           0            1   \n",
       "\n",
       "   correct_is_right  logit_left  logit_right  preds  truth  \n",
       "2              True    0.745288     0.254712      0      1  \n",
       "0              True    0.659734     0.340266      0      1  \n",
       "2             False    0.170262     0.829738      1      0  \n",
       "3             False    0.252998     0.747002      1      0  \n",
       "0              True    0.787405     0.212595      0      1  "
      ]
     },
     "metadata": {},
     "output_type": "display_data"
    },
    {
     "data": {
      "text/plain": [
       "array([[-0.18903811,  0.15928222, -0.0527788 , ...,  0.6145364 ,\n",
       "        -0.22557625,  0.14473355],\n",
       "       [-0.18906884,  0.15927224, -0.05249028, ...,  0.6144212 ,\n",
       "        -0.22542676,  0.14448823],\n",
       "       [-0.17509244,  0.15056206, -0.04685172, ...,  0.61178964,\n",
       "        -0.21640953,  0.12389012],\n",
       "       [-0.18652487,  0.1576466 , -0.05183437, ...,  0.61404645,\n",
       "        -0.22393334,  0.14091113]], dtype=float32)"
      ]
     },
     "metadata": {},
     "output_type": "display_data"
    },
    {
     "data": {
      "text/plain": [
       "array([[-0.17444259,  0.15015328, -0.04659871, ...,  0.6116795 ,\n",
       "        -0.2159882 ,  0.12293474],\n",
       "       [-0.19213846,  0.16119663, -0.05402029, ...,  0.61519367,\n",
       "        -0.22748919,  0.1493094 ],\n",
       "       [-0.20420685,  0.17043662, -0.05894369, ...,  0.6178567 ,\n",
       "        -0.23622464,  0.16956583],\n",
       "       [-0.17132479,  0.1481865 , -0.04539993, ...,  0.6111693 ,\n",
       "        -0.21396674,  0.11835057]], dtype=float32)"
      ]
     },
     "metadata": {},
     "output_type": "display_data"
    },
    {
     "data": {
      "text/plain": [
       "array([[-0.1832141 ,  0.15565352, -0.05008394, ...,  0.6132529 ,\n",
       "        -0.22166695,  0.1358265 ],\n",
       "       [-0.20230286,  0.1680563 , -0.05833068, ...,  0.61745656,\n",
       "        -0.23434101,  0.165297  ],\n",
       "       [-0.18621732,  0.15730089, -0.05159917, ...,  0.6139218 ,\n",
       "        -0.2236144 ,  0.14024474],\n",
       "       [-0.18236718,  0.15500878, -0.05004562, ...,  0.61319065,\n",
       "        -0.22129072,  0.13475844]], dtype=float32)"
      ]
     },
     "metadata": {},
     "output_type": "display_data"
    },
    {
     "data": {
      "text/plain": [
       "array([[-0.20424004,  0.1703834 , -0.05897979, ...,  0.61787117,\n",
       "        -0.23621751,  0.16952479],\n",
       "       [-0.1722572 ,  0.14877588, -0.04575575, ...,  0.61131877,\n",
       "        -0.21457157,  0.11972161],\n",
       "       [-0.17325112,  0.14940216, -0.04613762, ...,  0.6114804 ,\n",
       "        -0.21521571,  0.12118484],\n",
       "       [-0.19928716,  0.16581015, -0.05701586, ...,  0.6167828 ,\n",
       "        -0.23213933,  0.1603489 ]], dtype=float32)"
      ]
     },
     "metadata": {},
     "output_type": "display_data"
    },
    {
     "data": {
      "text/plain": [
       "array([[-0.18303968,  0.15532655, -0.05036268, ...,  0.61330456,\n",
       "        -0.22162624,  0.13558026],\n",
       "       [-0.1906924 ,  0.16017632, -0.05324355, ...,  0.61475843,\n",
       "        -0.22643168,  0.1468947 ],\n",
       "       [-0.18892165,  0.15909378, -0.05275239, ...,  0.6144687 ,\n",
       "        -0.22538994,  0.14433753],\n",
       "       [-0.17929342,  0.15319884, -0.04850899, ...,  0.6125277 ,\n",
       "        -0.21913108,  0.1300637 ]], dtype=float32)"
      ]
     },
     "metadata": {},
     "output_type": "display_data"
    },
    {
     "data": {
      "text/plain": [
       "array([[-0.19641358,  0.1638949 , -0.05576622, ...,  0.61611634,\n",
       "        -0.23020928,  0.15588959],\n",
       "       [-0.20421572,  0.1707516 , -0.05883898, ...,  0.61781377,\n",
       "        -0.23634212,  0.1699594 ],\n",
       "       [-0.17337953,  0.1494838 , -0.04618713, ...,  0.61150223,\n",
       "        -0.21529917,  0.12137192],\n",
       "       [-0.18240395,  0.15514705, -0.04975638, ...,  0.61310023,\n",
       "        -0.22114293,  0.13463421]], dtype=float32)"
      ]
     },
     "metadata": {},
     "output_type": "display_data"
    },
    {
     "data": {
      "text/plain": [
       "array([[-0.19246943,  0.16124313, -0.05412439, ...,  0.6152364 ,\n",
       "        -0.22763155,  0.14969908],\n",
       "       [-0.16975932,  0.14719453, -0.04480873, ...,  0.6109251 ,\n",
       "        -0.21295175,  0.1160465 ],\n",
       "       [-0.17175756,  0.14846031, -0.04556479, ...,  0.6112383 ,\n",
       "        -0.21424747,  0.11898696],\n",
       "       [-0.19060473,  0.16024835, -0.05350209, ...,  0.6148716 ,\n",
       "        -0.22651757,  0.1469806 ]], dtype=float32)"
      ]
     },
     "metadata": {},
     "output_type": "display_data"
    },
    {
     "data": {
      "text/plain": [
       "array([[-0.19213846,  0.16119663, -0.05402029, ...,  0.61519367,\n",
       "        -0.22748919,  0.1493094 ],\n",
       "       [-0.19006215,  0.15996988, -0.05321482, ...,  0.6147754 ,\n",
       "        -0.22626182,  0.14633766],\n",
       "       [-0.19292988,  0.16155486, -0.05433647, ...,  0.6152889 ,\n",
       "        -0.22790429,  0.15026657],\n",
       "       [-0.1711714 ,  0.14808954, -0.04534175, ...,  0.61114496,\n",
       "        -0.21386725,  0.1181245 ]], dtype=float32)"
      ]
     },
     "metadata": {},
     "output_type": "display_data"
    },
    {
     "data": {
      "text/plain": [
       "array([[-0.17171295,  0.14843212, -0.04554779, ...,  0.6112311 ,\n",
       "        -0.2142186 ,  0.11892121],\n",
       "       [-0.1885171 ,  0.15891275, -0.05228226, ...,  0.61431587,\n",
       "        -0.22506978,  0.14367312],\n",
       "       [-0.18433131,  0.15623218, -0.0509072 , ...,  0.6135764 ,\n",
       "        -0.22249167,  0.13760167],\n",
       "       [-0.17189452,  0.14854684, -0.04561708, ...,  0.61126024,\n",
       "        -0.21433637,  0.11918832]], dtype=float32)"
      ]
     },
     "metadata": {},
     "output_type": "display_data"
    },
    {
     "data": {
      "text/plain": [
       "array([[-0.20390502,  0.16950344, -0.05898563, ...,  0.6178173 ,\n",
       "        -0.23567957,  0.16822062],\n",
       "       [-0.19555695,  0.1632354 , -0.05540396, ...,  0.6159294 ,\n",
       "        -0.22963817,  0.15448786],\n",
       "       [-0.18899806,  0.15928404, -0.05287395, ...,  0.6145487 ,\n",
       "        -0.22555712,  0.1446712 ],\n",
       "       [-0.18487792,  0.15655766, -0.05111208, ...,  0.61368376,\n",
       "        -0.22283004,  0.13839918]], dtype=float32)"
      ]
     },
     "metadata": {},
     "output_type": "display_data"
    }
   ],
   "source": [
    "full_run(num_epochs=30, version=0, force_restart=False)"
   ]
  },
  {
   "cell_type": "code",
   "execution_count": 23,
   "id": "16f0cfbf-e1c2-4ef2-877a-968f7911a956",
   "metadata": {
    "collapsed": true,
    "jupyter": {
     "outputs_hidden": true
    },
    "tags": []
   },
   "outputs": [
    {
     "name": "stderr",
     "output_type": "stream",
     "text": [
      "Some weights of the model checkpoint at distilbert-base-uncased were not used when initializing DistilBertModel: ['vocab_transform.bias', 'vocab_transform.weight', 'vocab_layer_norm.bias', 'vocab_layer_norm.weight', 'vocab_projector.bias', 'vocab_projector.weight']\n",
      "- This IS expected if you are initializing DistilBertModel from the checkpoint of a model trained on another task or with another architecture (e.g. initializing a BertForSequenceClassification model from a BertForPreTraining model).\n",
      "- This IS NOT expected if you are initializing DistilBertModel from the checkpoint of a model that you expect to be exactly identical (initializing a BertForSequenceClassification model from a BertForSequenceClassification model).\n",
      "Some weights of the model checkpoint at distilbert-base-uncased were not used when initializing DistilBertModel: ['vocab_transform.bias', 'vocab_transform.weight', 'vocab_layer_norm.bias', 'vocab_layer_norm.weight', 'vocab_projector.bias', 'vocab_projector.weight']\n",
      "- This IS expected if you are initializing DistilBertModel from the checkpoint of a model trained on another task or with another architecture (e.g. initializing a BertForSequenceClassification model from a BertForPreTraining model).\n",
      "- This IS NOT expected if you are initializing DistilBertModel from the checkpoint of a model that you expect to be exactly identical (initializing a BertForSequenceClassification model from a BertForSequenceClassification model).\n"
     ]
    },
    {
     "name": "stdout",
     "output_type": "stream",
     "text": [
      "('harness_v5_lg_9.pkl', 9) 10\n",
      "epoch 10 version: 5\n"
     ]
    },
    {
     "data": {
      "application/vnd.jupyter.widget-view+json": {
       "model_id": "1ee6680745714ab480563581c0a2b533",
       "version_major": 2,
       "version_minor": 0
      },
      "text/plain": [
       "train:   0%|          | 0/20000 [00:00<?, ?it/s]"
      ]
     },
     "metadata": {},
     "output_type": "display_data"
    },
    {
     "data": {
      "application/vnd.jupyter.widget-view+json": {
       "model_id": "eadd8fdefc3140a9bfbf755a5db7ccae",
       "version_major": 2,
       "version_minor": 0
      },
      "text/plain": [
       "train val:   0%|          | 0/10000 [00:00<?, ?it/s]"
      ]
     },
     "metadata": {},
     "output_type": "display_data"
    },
    {
     "data": {
      "application/vnd.jupyter.widget-view+json": {
       "model_id": "3a1ee3d06e8840eeb3356f889fcaa459",
       "version_major": 2,
       "version_minor": 0
      },
      "text/plain": [
       "test:   0%|          | 0/10000 [00:00<?, ?it/s]"
      ]
     },
     "metadata": {},
     "output_type": "display_data"
    },
    {
     "name": "stdout",
     "output_type": "stream",
     "text": [
      "train: 0.502 loss: 2.259174826675863\n",
      "train val: 0.3574 loss: 0.6931907436132431\n",
      "test: 0.4644 loss: 0.6931555198669433\n",
      "epoch time: 11.88min\n",
      "removing /mnt/d/workspace/clotho/notebooks/checkpoints/stats_v5_lg_0.json\n",
      "removing /mnt/d/workspace/clotho/notebooks/checkpoints/harness_v5_lg_0.pkl\n",
      "best model: /mnt/d/workspace/clotho/notebooks/checkpoints/harness_v5_lg_6.pkl\n",
      "best train: 0.50075\n",
      "best train val: 0.5337\n",
      "best test: 0.4806\n",
      "epoch 11 version: 5\n"
     ]
    },
    {
     "data": {
      "application/vnd.jupyter.widget-view+json": {
       "model_id": "f5f81e5ad0fb4998b814fc4131e260d2",
       "version_major": 2,
       "version_minor": 0
      },
      "text/plain": [
       "train:   0%|          | 0/20000 [00:00<?, ?it/s]"
      ]
     },
     "metadata": {},
     "output_type": "display_data"
    },
    {
     "data": {
      "application/vnd.jupyter.widget-view+json": {
       "model_id": "cb10ea4997344f8ba132f6149b4a99e7",
       "version_major": 2,
       "version_minor": 0
      },
      "text/plain": [
       "train val:   0%|          | 0/10000 [00:00<?, ?it/s]"
      ]
     },
     "metadata": {},
     "output_type": "display_data"
    },
    {
     "data": {
      "application/vnd.jupyter.widget-view+json": {
       "model_id": "cd91aad504d54e4289be2f864de9037f",
       "version_major": 2,
       "version_minor": 0
      },
      "text/plain": [
       "test:   0%|          | 0/10000 [00:00<?, ?it/s]"
      ]
     },
     "metadata": {},
     "output_type": "display_data"
    },
    {
     "name": "stdout",
     "output_type": "stream",
     "text": [
      "train: 0.5033 loss: 1.933770158039825\n",
      "train val: 0.4736 loss: 0.6931517723083496\n",
      "test: 0.486 loss: 0.6931507225036622\n",
      "epoch time: 11.76min\n",
      "removing /mnt/d/workspace/clotho/notebooks/checkpoints/stats_v5_lg_10.json\n",
      "removing /mnt/d/workspace/clotho/notebooks/checkpoints/harness_v5_lg_10.pkl\n",
      "best model: /mnt/d/workspace/clotho/notebooks/checkpoints/harness_v5_lg_6.pkl\n",
      "best train: 0.50075\n",
      "best train val: 0.5337\n",
      "best test: 0.4806\n",
      "epoch 12 version: 5\n"
     ]
    },
    {
     "data": {
      "application/vnd.jupyter.widget-view+json": {
       "model_id": "f91d54c5f17243699b3dbd1ff8222bbc",
       "version_major": 2,
       "version_minor": 0
      },
      "text/plain": [
       "train:   0%|          | 0/20000 [00:00<?, ?it/s]"
      ]
     },
     "metadata": {},
     "output_type": "display_data"
    },
    {
     "data": {
      "application/vnd.jupyter.widget-view+json": {
       "model_id": "de66b8ce27974296b6b31db89c48c609",
       "version_major": 2,
       "version_minor": 0
      },
      "text/plain": [
       "train val:   0%|          | 0/10000 [00:00<?, ?it/s]"
      ]
     },
     "metadata": {},
     "output_type": "display_data"
    },
    {
     "data": {
      "application/vnd.jupyter.widget-view+json": {
       "model_id": "9707e36651964f0dbd4473fb91c82c86",
       "version_major": 2,
       "version_minor": 0
      },
      "text/plain": [
       "test:   0%|          | 0/10000 [00:00<?, ?it/s]"
      ]
     },
     "metadata": {},
     "output_type": "display_data"
    },
    {
     "name": "stdout",
     "output_type": "stream",
     "text": [
      "train: 0.49735 loss: 1.9440316986781156\n",
      "train val: 0.53 loss: 0.6928911514520645\n",
      "test: 0.5274 loss: 0.6927534380197525\n",
      "epoch time: 11.40min\n",
      "removing /mnt/d/workspace/clotho/notebooks/checkpoints/stats_v5_lg_11.json\n",
      "removing /mnt/d/workspace/clotho/notebooks/checkpoints/harness_v5_lg_11.pkl\n",
      "best model: /mnt/d/workspace/clotho/notebooks/checkpoints/harness_v5_lg_6.pkl\n",
      "best train: 0.50075\n",
      "best train val: 0.5337\n",
      "best test: 0.4806\n",
      "epoch 13 version: 5\n"
     ]
    },
    {
     "data": {
      "application/vnd.jupyter.widget-view+json": {
       "model_id": "a6fa19428ca9438fb6a0ae575b247df9",
       "version_major": 2,
       "version_minor": 0
      },
      "text/plain": [
       "train:   0%|          | 0/20000 [00:00<?, ?it/s]"
      ]
     },
     "metadata": {},
     "output_type": "display_data"
    },
    {
     "data": {
      "application/vnd.jupyter.widget-view+json": {
       "model_id": "bd7d2aca52b44d5d9c393fd9fb1ff40f",
       "version_major": 2,
       "version_minor": 0
      },
      "text/plain": [
       "train val:   0%|          | 0/10000 [00:00<?, ?it/s]"
      ]
     },
     "metadata": {},
     "output_type": "display_data"
    },
    {
     "data": {
      "application/vnd.jupyter.widget-view+json": {
       "model_id": "f77e33155f2541799c3eb34dcff1d35a",
       "version_major": 2,
       "version_minor": 0
      },
      "text/plain": [
       "test:   0%|          | 0/10000 [00:00<?, ?it/s]"
      ]
     },
     "metadata": {},
     "output_type": "display_data"
    },
    {
     "name": "stdout",
     "output_type": "stream",
     "text": [
      "train: 0.50175 loss: 1.7904672534613404\n",
      "train val: 0.543 loss: 0.6931336408615112\n",
      "test: 0.5081 loss: 0.6931430436372757\n",
      "epoch time: 11.89min\n",
      "removing /mnt/d/workspace/clotho/notebooks/checkpoints/stats_v5_lg_1.json\n",
      "removing /mnt/d/workspace/clotho/notebooks/checkpoints/harness_v5_lg_1.pkl\n",
      "best model: /mnt/d/workspace/clotho/notebooks/checkpoints/harness_v5_lg_13.pkl\n",
      "best train: 0.50175\n",
      "best train val: 0.543\n",
      "best test: 0.5081\n",
      "epoch 14 version: 5\n"
     ]
    },
    {
     "data": {
      "application/vnd.jupyter.widget-view+json": {
       "model_id": "d3a68ed1a4ab4cad9357148960872786",
       "version_major": 2,
       "version_minor": 0
      },
      "text/plain": [
       "train:   0%|          | 0/20000 [00:00<?, ?it/s]"
      ]
     },
     "metadata": {},
     "output_type": "display_data"
    },
    {
     "data": {
      "application/vnd.jupyter.widget-view+json": {
       "model_id": "27fc3803820e4f0caecea47c55c91090",
       "version_major": 2,
       "version_minor": 0
      },
      "text/plain": [
       "train val:   0%|          | 0/10000 [00:00<?, ?it/s]"
      ]
     },
     "metadata": {},
     "output_type": "display_data"
    },
    {
     "data": {
      "application/vnd.jupyter.widget-view+json": {
       "model_id": "1faacd25578c4f82857a7caf864f0ebc",
       "version_major": 2,
       "version_minor": 0
      },
      "text/plain": [
       "test:   0%|          | 0/10000 [00:00<?, ?it/s]"
      ]
     },
     "metadata": {},
     "output_type": "display_data"
    },
    {
     "name": "stdout",
     "output_type": "stream",
     "text": [
      "train: 0.50305 loss: 1.3681281761750579\n",
      "train val: 0.5577 loss: 0.6931192582845688\n",
      "test: 0.5028 loss: 0.6931436896085739\n",
      "epoch time: 11.49min\n",
      "removing /mnt/d/workspace/clotho/notebooks/checkpoints/stats_v5_lg_9.json\n",
      "removing /mnt/d/workspace/clotho/notebooks/checkpoints/harness_v5_lg_9.pkl\n",
      "best model: /mnt/d/workspace/clotho/notebooks/checkpoints/harness_v5_lg_14.pkl\n",
      "best train: 0.50305\n",
      "best train val: 0.5577\n",
      "best test: 0.5028\n",
      "epoch 15 version: 5\n"
     ]
    },
    {
     "data": {
      "application/vnd.jupyter.widget-view+json": {
       "model_id": "8cd08be7e12f47e68134f0fd9e528728",
       "version_major": 2,
       "version_minor": 0
      },
      "text/plain": [
       "train:   0%|          | 0/20000 [00:00<?, ?it/s]"
      ]
     },
     "metadata": {},
     "output_type": "display_data"
    },
    {
     "data": {
      "application/vnd.jupyter.widget-view+json": {
       "model_id": "6609f72c74254776943007d48ef451ad",
       "version_major": 2,
       "version_minor": 0
      },
      "text/plain": [
       "train val:   0%|          | 0/10000 [00:00<?, ?it/s]"
      ]
     },
     "metadata": {},
     "output_type": "display_data"
    },
    {
     "data": {
      "application/vnd.jupyter.widget-view+json": {
       "model_id": "61a9ce85d8574dd3bfaa4655ac6927bd",
       "version_major": 2,
       "version_minor": 0
      },
      "text/plain": [
       "test:   0%|          | 0/10000 [00:00<?, ?it/s]"
      ]
     },
     "metadata": {},
     "output_type": "display_data"
    },
    {
     "name": "stdout",
     "output_type": "stream",
     "text": [
      "train: 0.512 loss: 1.3425009569857997\n",
      "train val: 0.7328 loss: 0.506590870898962\n",
      "test: 0.6977 loss: 0.6878731733560562\n",
      "epoch time: 11.19min\n",
      "removing /mnt/d/workspace/clotho/notebooks/checkpoints/stats_v5_lg_8.json\n",
      "removing /mnt/d/workspace/clotho/notebooks/checkpoints/harness_v5_lg_8.pkl\n",
      "best model: /mnt/d/workspace/clotho/notebooks/checkpoints/harness_v5_lg_15.pkl\n",
      "best train: 0.512\n",
      "best train val: 0.7328\n",
      "best test: 0.6977\n",
      "epoch 16 version: 5\n"
     ]
    },
    {
     "data": {
      "application/vnd.jupyter.widget-view+json": {
       "model_id": "1501ce11ce9845aa9ea49431a343eb8e",
       "version_major": 2,
       "version_minor": 0
      },
      "text/plain": [
       "train:   0%|          | 0/20000 [00:00<?, ?it/s]"
      ]
     },
     "metadata": {},
     "output_type": "display_data"
    },
    {
     "data": {
      "application/vnd.jupyter.widget-view+json": {
       "model_id": "844661f4ddb84a12aff368908b6d7343",
       "version_major": 2,
       "version_minor": 0
      },
      "text/plain": [
       "train val:   0%|          | 0/10000 [00:00<?, ?it/s]"
      ]
     },
     "metadata": {},
     "output_type": "display_data"
    },
    {
     "data": {
      "application/vnd.jupyter.widget-view+json": {
       "model_id": "56d068d7a1ad40399877686107cd1680",
       "version_major": 2,
       "version_minor": 0
      },
      "text/plain": [
       "test:   0%|          | 0/10000 [00:00<?, ?it/s]"
      ]
     },
     "metadata": {},
     "output_type": "display_data"
    },
    {
     "name": "stdout",
     "output_type": "stream",
     "text": [
      "train: 0.62765 loss: 1.1020748969678127\n",
      "train val: 0.5855 loss: 0.6772223302841186\n",
      "test: 0.5197 loss: 0.6931107656240463\n",
      "epoch time: 12.16min\n",
      "removing /mnt/d/workspace/clotho/notebooks/checkpoints/stats_v5_lg_7.json\n",
      "removing /mnt/d/workspace/clotho/notebooks/checkpoints/harness_v5_lg_7.pkl\n",
      "best model: /mnt/d/workspace/clotho/notebooks/checkpoints/harness_v5_lg_15.pkl\n",
      "best train: 0.512\n",
      "best train val: 0.7328\n",
      "best test: 0.6977\n",
      "epoch 17 version: 5\n"
     ]
    },
    {
     "data": {
      "application/vnd.jupyter.widget-view+json": {
       "model_id": "4e25911880c844ed96e529fe3c6caf58",
       "version_major": 2,
       "version_minor": 0
      },
      "text/plain": [
       "train:   0%|          | 0/20000 [00:00<?, ?it/s]"
      ]
     },
     "metadata": {},
     "output_type": "display_data"
    },
    {
     "data": {
      "application/vnd.jupyter.widget-view+json": {
       "model_id": "e2519cf0765540cea66841cd1f0db504",
       "version_major": 2,
       "version_minor": 0
      },
      "text/plain": [
       "train val:   0%|          | 0/10000 [00:00<?, ?it/s]"
      ]
     },
     "metadata": {},
     "output_type": "display_data"
    },
    {
     "data": {
      "application/vnd.jupyter.widget-view+json": {
       "model_id": "4f4eb840b8c84c6288a3b1a20e738f01",
       "version_major": 2,
       "version_minor": 0
      },
      "text/plain": [
       "test:   0%|          | 0/10000 [00:00<?, ?it/s]"
      ]
     },
     "metadata": {},
     "output_type": "display_data"
    },
    {
     "name": "stdout",
     "output_type": "stream",
     "text": [
      "train: 0.5008 loss: 1.6979052490734494\n",
      "train val: 0.5681 loss: 0.6930897339105606\n",
      "test: 0.4673 loss: 0.693226975107193\n",
      "epoch time: 11.73min\n",
      "removing /mnt/d/workspace/clotho/notebooks/checkpoints/stats_v5_lg_12.json\n",
      "removing /mnt/d/workspace/clotho/notebooks/checkpoints/harness_v5_lg_12.pkl\n",
      "best model: /mnt/d/workspace/clotho/notebooks/checkpoints/harness_v5_lg_15.pkl\n",
      "best train: 0.512\n",
      "best train val: 0.7328\n",
      "best test: 0.6977\n",
      "epoch 18 version: 5\n"
     ]
    },
    {
     "data": {
      "application/vnd.jupyter.widget-view+json": {
       "model_id": "2770aef8cb1b4a0f91de2fd2bbde450c",
       "version_major": 2,
       "version_minor": 0
      },
      "text/plain": [
       "train:   0%|          | 0/20000 [00:00<?, ?it/s]"
      ]
     },
     "metadata": {},
     "output_type": "display_data"
    },
    {
     "data": {
      "application/vnd.jupyter.widget-view+json": {
       "model_id": "ebd0260a0ad44b2397bf427fa9c783fe",
       "version_major": 2,
       "version_minor": 0
      },
      "text/plain": [
       "train val:   0%|          | 0/10000 [00:00<?, ?it/s]"
      ]
     },
     "metadata": {},
     "output_type": "display_data"
    },
    {
     "data": {
      "application/vnd.jupyter.widget-view+json": {
       "model_id": "cbfff105f09b4c5198729bb30f462b29",
       "version_major": 2,
       "version_minor": 0
      },
      "text/plain": [
       "test:   0%|          | 0/10000 [00:00<?, ?it/s]"
      ]
     },
     "metadata": {},
     "output_type": "display_data"
    },
    {
     "name": "stdout",
     "output_type": "stream",
     "text": [
      "train: 0.606 loss: 0.7747737532700528\n",
      "train val: 0.6001 loss: 0.5898158323796466\n",
      "test: 0.5147 loss: 0.6970369810461998\n",
      "epoch time: 11.66min\n",
      "removing /mnt/d/workspace/clotho/notebooks/checkpoints/stats_v5_lg_6.json\n",
      "removing /mnt/d/workspace/clotho/notebooks/checkpoints/harness_v5_lg_6.pkl\n",
      "best model: /mnt/d/workspace/clotho/notebooks/checkpoints/harness_v5_lg_15.pkl\n",
      "best train: 0.512\n",
      "best train val: 0.7328\n",
      "best test: 0.6977\n",
      "epoch 19 version: 5\n"
     ]
    },
    {
     "data": {
      "application/vnd.jupyter.widget-view+json": {
       "model_id": "94c339ea169244e3a69e83ae75a9367a",
       "version_major": 2,
       "version_minor": 0
      },
      "text/plain": [
       "train:   0%|          | 0/20000 [00:00<?, ?it/s]"
      ]
     },
     "metadata": {},
     "output_type": "display_data"
    },
    {
     "data": {
      "application/vnd.jupyter.widget-view+json": {
       "model_id": "00939209e4594aa39fbc6297d69a837e",
       "version_major": 2,
       "version_minor": 0
      },
      "text/plain": [
       "train val:   0%|          | 0/10000 [00:00<?, ?it/s]"
      ]
     },
     "metadata": {},
     "output_type": "display_data"
    },
    {
     "data": {
      "application/vnd.jupyter.widget-view+json": {
       "model_id": "7d22362a2db84387bcfd37e930f8fae9",
       "version_major": 2,
       "version_minor": 0
      },
      "text/plain": [
       "test:   0%|          | 0/10000 [00:00<?, ?it/s]"
      ]
     },
     "metadata": {},
     "output_type": "display_data"
    },
    {
     "name": "stdout",
     "output_type": "stream",
     "text": [
      "train: 0.6355 loss: 0.6749348536811128\n",
      "train val: 0.6038 loss: 0.6521744166966353\n",
      "test: 0.5676 loss: 0.725488428491354\n",
      "epoch time: 11.61min\n",
      "removing /mnt/d/workspace/clotho/notebooks/checkpoints/stats_v5_lg_13.json\n",
      "removing /mnt/d/workspace/clotho/notebooks/checkpoints/harness_v5_lg_13.pkl\n",
      "best model: /mnt/d/workspace/clotho/notebooks/checkpoints/harness_v5_lg_15.pkl\n",
      "best train: 0.512\n",
      "best train val: 0.7328\n",
      "best test: 0.6977\n",
      "epoch 20 version: 5\n"
     ]
    },
    {
     "data": {
      "application/vnd.jupyter.widget-view+json": {
       "model_id": "8012b53b246e464da6cb2f3aaaa08e21",
       "version_major": 2,
       "version_minor": 0
      },
      "text/plain": [
       "train:   0%|          | 0/20000 [00:00<?, ?it/s]"
      ]
     },
     "metadata": {},
     "output_type": "display_data"
    },
    {
     "data": {
      "application/vnd.jupyter.widget-view+json": {
       "model_id": "018d268d58414c8399249bc9a19fbae5",
       "version_major": 2,
       "version_minor": 0
      },
      "text/plain": [
       "train val:   0%|          | 0/10000 [00:00<?, ?it/s]"
      ]
     },
     "metadata": {},
     "output_type": "display_data"
    },
    {
     "data": {
      "application/vnd.jupyter.widget-view+json": {
       "model_id": "f428a6568e2a457db496bd104a929798",
       "version_major": 2,
       "version_minor": 0
      },
      "text/plain": [
       "test:   0%|          | 0/10000 [00:00<?, ?it/s]"
      ]
     },
     "metadata": {},
     "output_type": "display_data"
    },
    {
     "name": "stdout",
     "output_type": "stream",
     "text": [
      "train: 0.66375 loss: 0.6785444520430599\n",
      "train val: 0.6046 loss: 0.5823163983172722\n",
      "test: 0.5864 loss: 0.6885125148057938\n",
      "epoch time: 11.21min\n",
      "removing /mnt/d/workspace/clotho/notebooks/checkpoints/stats_v5_lg_14.json\n",
      "removing /mnt/d/workspace/clotho/notebooks/checkpoints/harness_v5_lg_14.pkl\n",
      "best model: /mnt/d/workspace/clotho/notebooks/checkpoints/harness_v5_lg_15.pkl\n",
      "best train: 0.512\n",
      "best train val: 0.7328\n",
      "best test: 0.6977\n",
      "epoch 21 version: 5\n"
     ]
    },
    {
     "data": {
      "application/vnd.jupyter.widget-view+json": {
       "model_id": "5cf337391c4946d8bb51cb7d0c5c94ff",
       "version_major": 2,
       "version_minor": 0
      },
      "text/plain": [
       "train:   0%|          | 0/20000 [00:00<?, ?it/s]"
      ]
     },
     "metadata": {},
     "output_type": "display_data"
    },
    {
     "data": {
      "application/vnd.jupyter.widget-view+json": {
       "model_id": "33691bf7936943189b45ba5c9b462bda",
       "version_major": 2,
       "version_minor": 0
      },
      "text/plain": [
       "train val:   0%|          | 0/10000 [00:00<?, ?it/s]"
      ]
     },
     "metadata": {},
     "output_type": "display_data"
    },
    {
     "data": {
      "application/vnd.jupyter.widget-view+json": {
       "model_id": "84a89251283d4d76aafeecec85ae9c9c",
       "version_major": 2,
       "version_minor": 0
      },
      "text/plain": [
       "test:   0%|          | 0/10000 [00:00<?, ?it/s]"
      ]
     },
     "metadata": {},
     "output_type": "display_data"
    },
    {
     "name": "stdout",
     "output_type": "stream",
     "text": [
      "train: 0.72295 loss: 0.5126311731512823\n",
      "train val: 0.7462 loss: 0.43722057015945937\n",
      "test: 0.6762 loss: 0.6036046255677938\n",
      "epoch time: 11.93min\n",
      "removing /mnt/d/workspace/clotho/notebooks/checkpoints/stats_v5_lg_17.json\n",
      "removing /mnt/d/workspace/clotho/notebooks/checkpoints/harness_v5_lg_17.pkl\n",
      "best model: /mnt/d/workspace/clotho/notebooks/checkpoints/harness_v5_lg_21.pkl\n",
      "best train: 0.72295\n",
      "best train val: 0.7462\n",
      "best test: 0.6762\n",
      "epoch 22 version: 5\n"
     ]
    },
    {
     "data": {
      "application/vnd.jupyter.widget-view+json": {
       "model_id": "016017d8411f4c2788b2822da4c05a73",
       "version_major": 2,
       "version_minor": 0
      },
      "text/plain": [
       "train:   0%|          | 0/20000 [00:00<?, ?it/s]"
      ]
     },
     "metadata": {},
     "output_type": "display_data"
    },
    {
     "data": {
      "application/vnd.jupyter.widget-view+json": {
       "model_id": "ecb281ecaba440f0b9c28d687469ea3b",
       "version_major": 2,
       "version_minor": 0
      },
      "text/plain": [
       "train val:   0%|          | 0/10000 [00:00<?, ?it/s]"
      ]
     },
     "metadata": {},
     "output_type": "display_data"
    },
    {
     "data": {
      "application/vnd.jupyter.widget-view+json": {
       "model_id": "2b0df03a8b98409daa46e2db3d5fc9f9",
       "version_major": 2,
       "version_minor": 0
      },
      "text/plain": [
       "test:   0%|          | 0/10000 [00:00<?, ?it/s]"
      ]
     },
     "metadata": {},
     "output_type": "display_data"
    },
    {
     "name": "stdout",
     "output_type": "stream",
     "text": [
      "train: 0.77275 loss: 0.41904384940483835\n",
      "train val: 0.7389 loss: 0.4252742475359293\n",
      "test: 0.6027 loss: 0.6650483702898026\n",
      "epoch time: 11.55min\n",
      "removing /mnt/d/workspace/clotho/notebooks/checkpoints/stats_v5_lg_16.json\n",
      "removing /mnt/d/workspace/clotho/notebooks/checkpoints/harness_v5_lg_16.pkl\n",
      "best model: /mnt/d/workspace/clotho/notebooks/checkpoints/harness_v5_lg_21.pkl\n",
      "best train: 0.72295\n",
      "best train val: 0.7462\n",
      "best test: 0.6762\n",
      "epoch 23 version: 5\n"
     ]
    },
    {
     "data": {
      "application/vnd.jupyter.widget-view+json": {
       "model_id": "82ae74c01c504efe888adf5cb4d21de0",
       "version_major": 2,
       "version_minor": 0
      },
      "text/plain": [
       "train:   0%|          | 0/20000 [00:00<?, ?it/s]"
      ]
     },
     "metadata": {},
     "output_type": "display_data"
    },
    {
     "data": {
      "application/vnd.jupyter.widget-view+json": {
       "model_id": "ed63d094bd93425c8590217606c2b6c7",
       "version_major": 2,
       "version_minor": 0
      },
      "text/plain": [
       "train val:   0%|          | 0/10000 [00:00<?, ?it/s]"
      ]
     },
     "metadata": {},
     "output_type": "display_data"
    },
    {
     "data": {
      "application/vnd.jupyter.widget-view+json": {
       "model_id": "ba3d02e1d15444428c7d8bab9d4033f2",
       "version_major": 2,
       "version_minor": 0
      },
      "text/plain": [
       "test:   0%|          | 0/10000 [00:00<?, ?it/s]"
      ]
     },
     "metadata": {},
     "output_type": "display_data"
    },
    {
     "name": "stdout",
     "output_type": "stream",
     "text": [
      "train: 0.7545 loss: 0.5676657685681352\n",
      "train val: 0.7614 loss: 0.4162744297364261\n",
      "test: 0.6191 loss: 0.6810857115268707\n",
      "epoch time: 11.68min\n",
      "removing /mnt/d/workspace/clotho/notebooks/checkpoints/stats_v5_lg_18.json\n",
      "removing /mnt/d/workspace/clotho/notebooks/checkpoints/harness_v5_lg_18.pkl\n",
      "best model: /mnt/d/workspace/clotho/notebooks/checkpoints/harness_v5_lg_23.pkl\n",
      "best train: 0.7545\n",
      "best train val: 0.7614\n",
      "best test: 0.6191\n",
      "epoch 24 version: 5\n"
     ]
    },
    {
     "data": {
      "application/vnd.jupyter.widget-view+json": {
       "model_id": "41222f43e397400a899109d6372ec095",
       "version_major": 2,
       "version_minor": 0
      },
      "text/plain": [
       "train:   0%|          | 0/20000 [00:00<?, ?it/s]"
      ]
     },
     "metadata": {},
     "output_type": "display_data"
    },
    {
     "data": {
      "application/vnd.jupyter.widget-view+json": {
       "model_id": "832a06ebd2524117abba1c6769f4bf23",
       "version_major": 2,
       "version_minor": 0
      },
      "text/plain": [
       "train val:   0%|          | 0/10000 [00:00<?, ?it/s]"
      ]
     },
     "metadata": {},
     "output_type": "display_data"
    },
    {
     "data": {
      "application/vnd.jupyter.widget-view+json": {
       "model_id": "905472b890a640c2b1436c01294d5a5a",
       "version_major": 2,
       "version_minor": 0
      },
      "text/plain": [
       "test:   0%|          | 0/10000 [00:00<?, ?it/s]"
      ]
     },
     "metadata": {},
     "output_type": "display_data"
    },
    {
     "name": "stdout",
     "output_type": "stream",
     "text": [
      "train: 0.7777 loss: 0.42984913238479056\n",
      "train val: 0.7793 loss: 0.3953553761727235\n",
      "test: 0.6996 loss: 0.6433642657756805\n",
      "epoch time: 12.12min\n",
      "removing /mnt/d/workspace/clotho/notebooks/checkpoints/stats_v5_lg_19.json\n",
      "removing /mnt/d/workspace/clotho/notebooks/checkpoints/harness_v5_lg_19.pkl\n",
      "best model: /mnt/d/workspace/clotho/notebooks/checkpoints/harness_v5_lg_24.pkl\n",
      "best train: 0.7777\n",
      "best train val: 0.7793\n",
      "best test: 0.6996\n",
      "epoch 25 version: 5\n"
     ]
    },
    {
     "data": {
      "application/vnd.jupyter.widget-view+json": {
       "model_id": "a025091b78814a2b9f0c46ed31b5b4b1",
       "version_major": 2,
       "version_minor": 0
      },
      "text/plain": [
       "train:   0%|          | 0/20000 [00:00<?, ?it/s]"
      ]
     },
     "metadata": {},
     "output_type": "display_data"
    },
    {
     "data": {
      "application/vnd.jupyter.widget-view+json": {
       "model_id": "15401ca8cbe04f9e86a3c2224ef9f3fd",
       "version_major": 2,
       "version_minor": 0
      },
      "text/plain": [
       "train val:   0%|          | 0/10000 [00:00<?, ?it/s]"
      ]
     },
     "metadata": {},
     "output_type": "display_data"
    },
    {
     "data": {
      "application/vnd.jupyter.widget-view+json": {
       "model_id": "f7fcb1c713b24336a8625e73d71ea79a",
       "version_major": 2,
       "version_minor": 0
      },
      "text/plain": [
       "test:   0%|          | 0/10000 [00:00<?, ?it/s]"
      ]
     },
     "metadata": {},
     "output_type": "display_data"
    },
    {
     "name": "stdout",
     "output_type": "stream",
     "text": [
      "train: 0.78465 loss: 0.4124410107791824\n",
      "train val: 0.7834 loss: 0.38313199798371644\n",
      "test: 0.6575 loss: 0.6430005031108856\n",
      "epoch time: 12.03min\n",
      "removing /mnt/d/workspace/clotho/notebooks/checkpoints/stats_v5_lg_20.json\n",
      "removing /mnt/d/workspace/clotho/notebooks/checkpoints/harness_v5_lg_20.pkl\n",
      "best model: /mnt/d/workspace/clotho/notebooks/checkpoints/harness_v5_lg_25.pkl\n",
      "best train: 0.78465\n",
      "best train val: 0.7834\n",
      "best test: 0.6575\n",
      "epoch 26 version: 5\n"
     ]
    },
    {
     "data": {
      "application/vnd.jupyter.widget-view+json": {
       "model_id": "2bb0f7dd4af044c28c386ab5b714c2ce",
       "version_major": 2,
       "version_minor": 0
      },
      "text/plain": [
       "train:   0%|          | 0/20000 [00:00<?, ?it/s]"
      ]
     },
     "metadata": {},
     "output_type": "display_data"
    },
    {
     "data": {
      "application/vnd.jupyter.widget-view+json": {
       "model_id": "a03eb68ba09243c6a8d565980a43c8e2",
       "version_major": 2,
       "version_minor": 0
      },
      "text/plain": [
       "train val:   0%|          | 0/10000 [00:00<?, ?it/s]"
      ]
     },
     "metadata": {},
     "output_type": "display_data"
    },
    {
     "data": {
      "application/vnd.jupyter.widget-view+json": {
       "model_id": "cde2e56f09494465aa6c8b7066ade780",
       "version_major": 2,
       "version_minor": 0
      },
      "text/plain": [
       "test:   0%|          | 0/10000 [00:00<?, ?it/s]"
      ]
     },
     "metadata": {},
     "output_type": "display_data"
    },
    {
     "name": "stdout",
     "output_type": "stream",
     "text": [
      "train: 0.7557 loss: 0.4436426714633566\n",
      "train val: 0.6973 loss: 0.45619492339339923\n",
      "test: 0.5933 loss: 0.6810468386173248\n",
      "epoch time: 11.28min\n",
      "removing /mnt/d/workspace/clotho/notebooks/checkpoints/stats_v5_lg_15.json\n",
      "removing /mnt/d/workspace/clotho/notebooks/checkpoints/harness_v5_lg_15.pkl\n",
      "best model: /mnt/d/workspace/clotho/notebooks/checkpoints/harness_v5_lg_25.pkl\n",
      "best train: 0.78465\n",
      "best train val: 0.7834\n",
      "best test: 0.6575\n",
      "epoch 27 version: 5\n"
     ]
    },
    {
     "data": {
      "application/vnd.jupyter.widget-view+json": {
       "model_id": "021efda62abd41788a9726f7fcdd4d07",
       "version_major": 2,
       "version_minor": 0
      },
      "text/plain": [
       "train:   0%|          | 0/20000 [00:00<?, ?it/s]"
      ]
     },
     "metadata": {},
     "output_type": "display_data"
    },
    {
     "data": {
      "application/vnd.jupyter.widget-view+json": {
       "model_id": "e1367c49a74f4330897c7ef70aaf28d8",
       "version_major": 2,
       "version_minor": 0
      },
      "text/plain": [
       "train val:   0%|          | 0/10000 [00:00<?, ?it/s]"
      ]
     },
     "metadata": {},
     "output_type": "display_data"
    },
    {
     "data": {
      "application/vnd.jupyter.widget-view+json": {
       "model_id": "17261c9a1d66482fa17fd4b9341372a7",
       "version_major": 2,
       "version_minor": 0
      },
      "text/plain": [
       "test:   0%|          | 0/10000 [00:00<?, ?it/s]"
      ]
     },
     "metadata": {},
     "output_type": "display_data"
    },
    {
     "name": "stdout",
     "output_type": "stream",
     "text": [
      "train: 0.75845 loss: 0.41111932246431426\n",
      "train val: 0.7904 loss: 0.3761203557419256\n",
      "test: 0.7433 loss: 0.5421539279401303\n",
      "epoch time: 11.60min\n",
      "removing /mnt/d/workspace/clotho/notebooks/checkpoints/stats_v5_lg_26.json\n",
      "removing /mnt/d/workspace/clotho/notebooks/checkpoints/harness_v5_lg_26.pkl\n",
      "best model: /mnt/d/workspace/clotho/notebooks/checkpoints/harness_v5_lg_27.pkl\n",
      "best train: 0.75845\n",
      "best train val: 0.7904\n",
      "best test: 0.7433\n",
      "epoch 28 version: 5\n"
     ]
    },
    {
     "data": {
      "application/vnd.jupyter.widget-view+json": {
       "model_id": "292c605e251a46fe873dff1331e60556",
       "version_major": 2,
       "version_minor": 0
      },
      "text/plain": [
       "train:   0%|          | 0/20000 [00:00<?, ?it/s]"
      ]
     },
     "metadata": {},
     "output_type": "display_data"
    },
    {
     "data": {
      "application/vnd.jupyter.widget-view+json": {
       "model_id": "f5fda8c429ba4af09e80232a3987f2b3",
       "version_major": 2,
       "version_minor": 0
      },
      "text/plain": [
       "train val:   0%|          | 0/10000 [00:00<?, ?it/s]"
      ]
     },
     "metadata": {},
     "output_type": "display_data"
    },
    {
     "data": {
      "application/vnd.jupyter.widget-view+json": {
       "model_id": "458bb34e7fa84ceaa21f7d674356be36",
       "version_major": 2,
       "version_minor": 0
      },
      "text/plain": [
       "test:   0%|          | 0/10000 [00:00<?, ?it/s]"
      ]
     },
     "metadata": {},
     "output_type": "display_data"
    },
    {
     "name": "stdout",
     "output_type": "stream",
     "text": [
      "train: 0.7886 loss: 0.36601621199506673\n",
      "train val: 0.7824 loss: 0.39017142439252495\n",
      "test: 0.7046 loss: 0.5758022307395935\n",
      "epoch time: 11.64min\n",
      "removing /mnt/d/workspace/clotho/notebooks/checkpoints/stats_v5_lg_22.json\n",
      "removing /mnt/d/workspace/clotho/notebooks/checkpoints/harness_v5_lg_22.pkl\n",
      "best model: /mnt/d/workspace/clotho/notebooks/checkpoints/harness_v5_lg_27.pkl\n",
      "best train: 0.75845\n",
      "best train val: 0.7904\n",
      "best test: 0.7433\n",
      "epoch 29 version: 5\n"
     ]
    },
    {
     "data": {
      "application/vnd.jupyter.widget-view+json": {
       "model_id": "f915da46aa9446bdabcf15334cb2eb3a",
       "version_major": 2,
       "version_minor": 0
      },
      "text/plain": [
       "train:   0%|          | 0/20000 [00:00<?, ?it/s]"
      ]
     },
     "metadata": {},
     "output_type": "display_data"
    },
    {
     "data": {
      "application/vnd.jupyter.widget-view+json": {
       "model_id": "1d90db7f2cf345d08bfc67df9e26c397",
       "version_major": 2,
       "version_minor": 0
      },
      "text/plain": [
       "train val:   0%|          | 0/10000 [00:00<?, ?it/s]"
      ]
     },
     "metadata": {},
     "output_type": "display_data"
    },
    {
     "data": {
      "application/vnd.jupyter.widget-view+json": {
       "model_id": "5a0989b7f4314414ad3bf092a0c29bf4",
       "version_major": 2,
       "version_minor": 0
      },
      "text/plain": [
       "test:   0%|          | 0/10000 [00:00<?, ?it/s]"
      ]
     },
     "metadata": {},
     "output_type": "display_data"
    },
    {
     "name": "stdout",
     "output_type": "stream",
     "text": [
      "train: 0.79925 loss: 0.3609251409401828\n",
      "train val: 0.7953 loss: 0.3683289859522862\n",
      "test: 0.7065 loss: 0.5739496674656868\n",
      "epoch time: 12.02min\n",
      "removing /mnt/d/workspace/clotho/notebooks/checkpoints/stats_v5_lg_21.json\n",
      "removing /mnt/d/workspace/clotho/notebooks/checkpoints/harness_v5_lg_21.pkl\n",
      "best model: /mnt/d/workspace/clotho/notebooks/checkpoints/harness_v5_lg_29.pkl\n",
      "best train: 0.79925\n",
      "best train val: 0.7953\n",
      "best test: 0.7065\n"
     ]
    },
    {
     "data": {
      "application/vnd.jupyter.widget-view+json": {
       "model_id": "05da658ab2e544b4aad7ac4f7dcdb180",
       "version_major": 2,
       "version_minor": 0
      },
      "text/plain": [
       "test val:   0%|          | 0/10000 [00:00<?, ?it/s]"
      ]
     },
     "metadata": {},
     "output_type": "display_data"
    },
    {
     "name": "stdout",
     "output_type": "stream",
     "text": [
      "test val: {'accuracy': 0.7008} loss: 0.5758708028674125\n",
      "correct\n"
     ]
    },
    {
     "data": {
      "text/html": [
       "<div>\n",
       "<style scoped>\n",
       "    .dataframe tbody tr th:only-of-type {\n",
       "        vertical-align: middle;\n",
       "    }\n",
       "\n",
       "    .dataframe tbody tr th {\n",
       "        vertical-align: top;\n",
       "    }\n",
       "\n",
       "    .dataframe thead th {\n",
       "        text-align: right;\n",
       "    }\n",
       "</style>\n",
       "<table border=\"1\" class=\"dataframe\">\n",
       "  <thead>\n",
       "    <tr style=\"text-align: right;\">\n",
       "      <th></th>\n",
       "      <th>gen_name</th>\n",
       "      <th>parent_left</th>\n",
       "      <th>child_left</th>\n",
       "      <th>parent_right</th>\n",
       "      <th>child_right</th>\n",
       "      <th>score_left</th>\n",
       "      <th>score_right</th>\n",
       "      <th>correct_is_right</th>\n",
       "      <th>logit_left</th>\n",
       "      <th>logit_right</th>\n",
       "      <th>preds</th>\n",
       "      <th>truth</th>\n",
       "    </tr>\n",
       "  </thead>\n",
       "  <tbody>\n",
       "    <tr>\n",
       "      <th>0</th>\n",
       "      <td>!copy--valid_weak;(st)</td>\n",
       "      <td>Well, shit dude.</td>\n",
       "      <td>Everyone in my family is nagging me with the f...</td>\n",
       "      <td>Everyone in my family is nagging me with the f...</td>\n",
       "      <td>Well, shit dude.</td>\n",
       "      <td>0</td>\n",
       "      <td>1</td>\n",
       "      <td>True</td>\n",
       "      <td>0.018689</td>\n",
       "      <td>0.981311</td>\n",
       "      <td>1</td>\n",
       "      <td>1</td>\n",
       "    </tr>\n",
       "    <tr>\n",
       "      <th>3</th>\n",
       "      <td>random--valid_weak;(st)</td>\n",
       "      <td>I can’t stand the smell of truffle oil. Makes ...</td>\n",
       "      <td>my cat's name is Guy, just so I can go \"hey Gu...</td>\n",
       "      <td>Guys….what is a big turn off that girls still ...</td>\n",
       "      <td>Long manicured nails</td>\n",
       "      <td>0</td>\n",
       "      <td>5</td>\n",
       "      <td>True</td>\n",
       "      <td>0.206674</td>\n",
       "      <td>0.793326</td>\n",
       "      <td>1</td>\n",
       "      <td>1</td>\n",
       "    </tr>\n",
       "    <tr>\n",
       "      <th>0</th>\n",
       "      <td>random--valid_weak;(st)</td>\n",
       "      <td>It's baffling. With as far as they bend over b...</td>\n",
       "      <td>My girlfriends Dad is 75. If he started doing ...</td>\n",
       "      <td>If you could rename America what would it be c...</td>\n",
       "      <td>Gods Country Giant Sowglobe Dunning Kruger Cou...</td>\n",
       "      <td>0</td>\n",
       "      <td>1</td>\n",
       "      <td>True</td>\n",
       "      <td>0.431614</td>\n",
       "      <td>0.568386</td>\n",
       "      <td>1</td>\n",
       "      <td>1</td>\n",
       "    </tr>\n",
       "    <tr>\n",
       "      <th>1</th>\n",
       "      <td>random--valid_weak;(st)</td>\n",
       "      <td>i was gonna say, he knocks it out of the park ...</td>\n",
       "      <td>when itv drugs you and ruins your life fuck th...</td>\n",
       "      <td>[Serious] How would you react if your partner ...</td>\n",
       "      <td>Immediate breakup.</td>\n",
       "      <td>0</td>\n",
       "      <td>1</td>\n",
       "      <td>True</td>\n",
       "      <td>0.253191</td>\n",
       "      <td>0.746809</td>\n",
       "      <td>1</td>\n",
       "      <td>1</td>\n",
       "    </tr>\n",
       "    <tr>\n",
       "      <th>3</th>\n",
       "      <td>random--valid_weak;(st)</td>\n",
       "      <td>Perfect Dark (N64)</td>\n",
       "      <td>Exactly. In the 1960s I had their album, \"[The...</td>\n",
       "      <td>Not using 1-10, how attractive are you?</td>\n",
       "      <td>I look like a dwarf from Middle Earth.</td>\n",
       "      <td>0</td>\n",
       "      <td>1</td>\n",
       "      <td>True</td>\n",
       "      <td>0.277424</td>\n",
       "      <td>0.722576</td>\n",
       "      <td>1</td>\n",
       "      <td>1</td>\n",
       "    </tr>\n",
       "  </tbody>\n",
       "</table>\n",
       "</div>"
      ],
      "text/plain": [
       "                  gen_name                                        parent_left  \\\n",
       "0   !copy--valid_weak;(st)                                   Well, shit dude.   \n",
       "3  random--valid_weak;(st)  I can’t stand the smell of truffle oil. Makes ...   \n",
       "0  random--valid_weak;(st)  It's baffling. With as far as they bend over b...   \n",
       "1  random--valid_weak;(st)  i was gonna say, he knocks it out of the park ...   \n",
       "3  random--valid_weak;(st)                                 Perfect Dark (N64)   \n",
       "\n",
       "                                          child_left  \\\n",
       "0  Everyone in my family is nagging me with the f...   \n",
       "3  my cat's name is Guy, just so I can go \"hey Gu...   \n",
       "0  My girlfriends Dad is 75. If he started doing ...   \n",
       "1  when itv drugs you and ruins your life fuck th...   \n",
       "3  Exactly. In the 1960s I had their album, \"[The...   \n",
       "\n",
       "                                        parent_right  \\\n",
       "0  Everyone in my family is nagging me with the f...   \n",
       "3  Guys….what is a big turn off that girls still ...   \n",
       "0  If you could rename America what would it be c...   \n",
       "1  [Serious] How would you react if your partner ...   \n",
       "3            Not using 1-10, how attractive are you?   \n",
       "\n",
       "                                         child_right  score_left  score_right  \\\n",
       "0                                   Well, shit dude.           0            1   \n",
       "3                               Long manicured nails           0            5   \n",
       "0  Gods Country Giant Sowglobe Dunning Kruger Cou...           0            1   \n",
       "1                                 Immediate breakup.           0            1   \n",
       "3             I look like a dwarf from Middle Earth.           0            1   \n",
       "\n",
       "   correct_is_right  logit_left  logit_right  preds  truth  \n",
       "0              True    0.018689     0.981311      1      1  \n",
       "3              True    0.206674     0.793326      1      1  \n",
       "0              True    0.431614     0.568386      1      1  \n",
       "1              True    0.253191     0.746809      1      1  \n",
       "3              True    0.277424     0.722576      1      1  "
      ]
     },
     "metadata": {},
     "output_type": "display_data"
    },
    {
     "name": "stdout",
     "output_type": "stream",
     "text": [
      "incorrect\n"
     ]
    },
    {
     "data": {
      "text/html": [
       "<div>\n",
       "<style scoped>\n",
       "    .dataframe tbody tr th:only-of-type {\n",
       "        vertical-align: middle;\n",
       "    }\n",
       "\n",
       "    .dataframe tbody tr th {\n",
       "        vertical-align: top;\n",
       "    }\n",
       "\n",
       "    .dataframe thead th {\n",
       "        text-align: right;\n",
       "    }\n",
       "</style>\n",
       "<table border=\"1\" class=\"dataframe\">\n",
       "  <thead>\n",
       "    <tr style=\"text-align: right;\">\n",
       "      <th></th>\n",
       "      <th>gen_name</th>\n",
       "      <th>parent_left</th>\n",
       "      <th>child_left</th>\n",
       "      <th>parent_right</th>\n",
       "      <th>child_right</th>\n",
       "      <th>score_left</th>\n",
       "      <th>score_right</th>\n",
       "      <th>correct_is_right</th>\n",
       "      <th>logit_left</th>\n",
       "      <th>logit_right</th>\n",
       "      <th>preds</th>\n",
       "      <th>truth</th>\n",
       "    </tr>\n",
       "  </thead>\n",
       "  <tbody>\n",
       "    <tr>\n",
       "      <th>1</th>\n",
       "      <td>*valid_weak--!copy;(st)</td>\n",
       "      <td>Not using 1-10, how attractive are you?</td>\n",
       "      <td>Let's just say my Facebook relationship status...</td>\n",
       "      <td>Let's just say my Facebook relationship status...</td>\n",
       "      <td>Not using 1-10, how attractive are you?</td>\n",
       "      <td>1</td>\n",
       "      <td>0</td>\n",
       "      <td>False</td>\n",
       "      <td>0.470889</td>\n",
       "      <td>0.529111</td>\n",
       "      <td>1</td>\n",
       "      <td>0</td>\n",
       "    </tr>\n",
       "    <tr>\n",
       "      <th>2</th>\n",
       "      <td>random--valid_weak;(st)</td>\n",
       "      <td>White Lotus</td>\n",
       "      <td>She Heard</td>\n",
       "      <td>Sewing. Sewing is awesome. I learned basic sew...</td>\n",
       "      <td>I started sewing to make a quilt out of a pile...</td>\n",
       "      <td>0</td>\n",
       "      <td>3</td>\n",
       "      <td>True</td>\n",
       "      <td>0.642545</td>\n",
       "      <td>0.357455</td>\n",
       "      <td>0</td>\n",
       "      <td>1</td>\n",
       "    </tr>\n",
       "    <tr>\n",
       "      <th>2</th>\n",
       "      <td>!copy--valid_weak;(st)</td>\n",
       "      <td>plus all the bodies you can bury with no one n...</td>\n",
       "      <td>Landscape maintenance, particularly if the cli...</td>\n",
       "      <td>Landscape maintenance, particularly if the cli...</td>\n",
       "      <td>plus all the bodies you can bury with no one n...</td>\n",
       "      <td>0</td>\n",
       "      <td>6</td>\n",
       "      <td>True</td>\n",
       "      <td>0.555556</td>\n",
       "      <td>0.444444</td>\n",
       "      <td>0</td>\n",
       "      <td>1</td>\n",
       "    </tr>\n",
       "    <tr>\n",
       "      <th>2</th>\n",
       "      <td>*valid_weak--random;(st)</td>\n",
       "      <td>https://youtu.be/_BtemfoJ-WI</td>\n",
       "      <td>I looked it up, and this aired on November 18,...</td>\n",
       "      <td>I have phimosis, a condition that causes the f...</td>\n",
       "      <td>Elizabeth.</td>\n",
       "      <td>29</td>\n",
       "      <td>0</td>\n",
       "      <td>False</td>\n",
       "      <td>0.173638</td>\n",
       "      <td>0.826362</td>\n",
       "      <td>1</td>\n",
       "      <td>0</td>\n",
       "    </tr>\n",
       "    <tr>\n",
       "      <th>3</th>\n",
       "      <td>*valid_weak--!copy;(st)</td>\n",
       "      <td>Hard wood saw dust or lilac</td>\n",
       "      <td>Hard word?</td>\n",
       "      <td>Hard word?</td>\n",
       "      <td>Hard wood saw dust or lilac</td>\n",
       "      <td>1</td>\n",
       "      <td>0</td>\n",
       "      <td>False</td>\n",
       "      <td>0.367270</td>\n",
       "      <td>0.632730</td>\n",
       "      <td>1</td>\n",
       "      <td>0</td>\n",
       "    </tr>\n",
       "  </tbody>\n",
       "</table>\n",
       "</div>"
      ],
      "text/plain": [
       "                   gen_name  \\\n",
       "1   *valid_weak--!copy;(st)   \n",
       "2   random--valid_weak;(st)   \n",
       "2    !copy--valid_weak;(st)   \n",
       "2  *valid_weak--random;(st)   \n",
       "3   *valid_weak--!copy;(st)   \n",
       "\n",
       "                                         parent_left  \\\n",
       "1            Not using 1-10, how attractive are you?   \n",
       "2                                        White Lotus   \n",
       "2  plus all the bodies you can bury with no one n...   \n",
       "2                       https://youtu.be/_BtemfoJ-WI   \n",
       "3                        Hard wood saw dust or lilac   \n",
       "\n",
       "                                          child_left  \\\n",
       "1  Let's just say my Facebook relationship status...   \n",
       "2                                          She Heard   \n",
       "2  Landscape maintenance, particularly if the cli...   \n",
       "2  I looked it up, and this aired on November 18,...   \n",
       "3                                         Hard word?   \n",
       "\n",
       "                                        parent_right  \\\n",
       "1  Let's just say my Facebook relationship status...   \n",
       "2  Sewing. Sewing is awesome. I learned basic sew...   \n",
       "2  Landscape maintenance, particularly if the cli...   \n",
       "2  I have phimosis, a condition that causes the f...   \n",
       "3                                         Hard word?   \n",
       "\n",
       "                                         child_right  score_left  score_right  \\\n",
       "1            Not using 1-10, how attractive are you?           1            0   \n",
       "2  I started sewing to make a quilt out of a pile...           0            3   \n",
       "2  plus all the bodies you can bury with no one n...           0            6   \n",
       "2                                         Elizabeth.          29            0   \n",
       "3                        Hard wood saw dust or lilac           1            0   \n",
       "\n",
       "   correct_is_right  logit_left  logit_right  preds  truth  \n",
       "1             False    0.470889     0.529111      1      0  \n",
       "2              True    0.642545     0.357455      0      1  \n",
       "2              True    0.555556     0.444444      0      1  \n",
       "2             False    0.173638     0.826362      1      0  \n",
       "3             False    0.367270     0.632730      1      0  "
      ]
     },
     "metadata": {},
     "output_type": "display_data"
    },
    {
     "data": {
      "text/plain": [
       "array([[-0.5323421 ,  0.27823007,  0.8088435 , ...,  0.15041165,\n",
       "         0.47844282,  0.19348346],\n",
       "       [-0.53126067,  0.27793512,  0.81585044, ...,  0.15042529,\n",
       "         0.48264846,  0.19275162],\n",
       "       [-0.52863246,  0.27711377,  0.8352787 , ...,  0.15100329,\n",
       "         0.4918084 ,  0.19014859],\n",
       "       [-0.5317968 ,  0.27808157,  0.8123455 , ...,  0.15040714,\n",
       "         0.48061284,  0.19313844]], dtype=float32)"
      ]
     },
     "metadata": {},
     "output_type": "display_data"
    },
    {
     "data": {
      "text/plain": [
       "array([[-0.5284303 ,  0.27703452,  0.8370174 , ...,  0.15109517,\n",
       "         0.49248725,  0.18989572],\n",
       "       [-0.52961093,  0.27745375,  0.8274462 , ...,  0.15066965,\n",
       "         0.4884992 ,  0.19126134],\n",
       "       [-0.5310488 ,  0.2778763 ,  0.81726354, ...,  0.15043959,\n",
       "         0.48343194,  0.1925854 ],\n",
       "       [-0.5289585 ,  0.2772342 ,  0.83256596, ...,  0.15087257,\n",
       "         0.49071148,  0.19053961]], dtype=float32)"
      ]
     },
     "metadata": {},
     "output_type": "display_data"
    },
    {
     "data": {
      "text/plain": [
       "array([[-0.5311262 ,  0.27789795,  0.81674486, ...,  0.15043381,\n",
       "         0.48314688,  0.19264702],\n",
       "       [-0.5323515 ,  0.2782326 ,  0.80878365, ...,  0.15041178,\n",
       "         0.4784045 ,  0.19348876],\n",
       "       [-0.5294997 ,  0.277418  ,  0.82829386, ...,  0.15069918,\n",
       "         0.4888795 ,  0.19114365],\n",
       "       [-0.5300235 ,  0.27758136,  0.82439387, ...,  0.15057647,\n",
       "         0.48708066,  0.19167735]], dtype=float32)"
      ]
     },
     "metadata": {},
     "output_type": "display_data"
    },
    {
     "data": {
      "text/plain": [
       "array([[-0.5309353 ,  0.2778448 ,  0.8180251 , ...,  0.15044914,\n",
       "         0.48384556,  0.19249381],\n",
       "       [-0.5281941 ,  0.27693716,  0.8391103 , ...,  0.15121442,\n",
       "         0.49328193,  0.1895898 ],\n",
       "       [-0.5295704 ,  0.27744073,  0.82775474, ...,  0.15068029,\n",
       "         0.48863837,  0.19121858],\n",
       "       [-0.53025866,  0.2776514 ,  0.8227048 , ...,  0.15053399,\n",
       "         0.4862603 ,  0.19190136]], dtype=float32)"
      ]
     },
     "metadata": {},
     "output_type": "display_data"
    },
    {
     "data": {
      "text/plain": [
       "array([[-0.5295831 ,  0.27744475,  0.8276589 , ...,  0.15067689,\n",
       "         0.4885953 ,  0.19123198],\n",
       "       [-0.53100634,  0.27786466,  0.8175473 , ...,  0.15044293,\n",
       "         0.48358664,  0.19255137],\n",
       "       [-0.5311531 ,  0.27790555,  0.81656504, ...,  0.15043199,\n",
       "         0.48304734,  0.19266815],\n",
       "       [-0.528532  ,  0.27707487,  0.8361365 , ...,  0.15104784,\n",
       "         0.4921455 ,  0.19002406]], dtype=float32)"
      ]
     },
     "metadata": {},
     "output_type": "display_data"
    },
    {
     "data": {
      "text/plain": [
       "array([[-0.53099066,  0.2778602 ,  0.81765246, ...,  0.15044427,\n",
       "         0.4836439 ,  0.1925388 ],\n",
       "       [-0.53299606,  0.2784095 ,  0.8046808 , ...,  0.15044232,\n",
       "         0.4756812 ,  0.19382966],\n",
       "       [-0.52792585,  0.27681896,  0.8415682 , ...,  0.15136534,\n",
       "         0.49418715,  0.18922864],\n",
       "       [-0.52944684,  0.27740088,  0.82869935, ...,  0.15071385,\n",
       "         0.48905936,  0.19108708]], dtype=float32)"
      ]
     },
     "metadata": {},
     "output_type": "display_data"
    },
    {
     "data": {
      "text/plain": [
       "array([[-0.5299877 ,  0.2775706 ,  0.8246533 , ...,  0.15058358,\n",
       "         0.4872043 ,  0.19164243],\n",
       "       [-0.52875656,  0.27716064,  0.83423257, ...,  0.15095101,\n",
       "         0.49139097,  0.19029994],\n",
       "       [-0.5286148 ,  0.2771071 ,  0.8354279 , ...,  0.15101083,\n",
       "         0.49186724,  0.19012685],\n",
       "       [-0.53033984,  0.27767515,  0.82213056, ...,  0.15052097,\n",
       "         0.48597524,  0.19197649]], dtype=float32)"
      ]
     },
     "metadata": {},
     "output_type": "display_data"
    },
    {
     "data": {
      "text/plain": [
       "array([[-0.52961093,  0.27745375,  0.8274462 , ...,  0.15066965,\n",
       "         0.4884992 ,  0.19126134],\n",
       "       [-0.53052074,  0.27772737,  0.8208641 , ...,  0.1504948 ,\n",
       "         0.48533607,  0.19214003],\n",
       "       [-0.532915  ,  0.27838692,  0.80519706, ...,  0.15043712,\n",
       "         0.47603458,  0.19379076],\n",
       "       [-0.5291836 ,  0.2773128 ,  0.8307564 , ...,  0.15079418,\n",
       "         0.489952  ,  0.19079752]], dtype=float32)"
      ]
     },
     "metadata": {},
     "output_type": "display_data"
    },
    {
     "data": {
      "text/plain": [
       "array([[-0.5288774 ,  0.27720505,  0.83323056, ...,  0.15090299,\n",
       "         0.4909844 ,  0.19044425],\n",
       "       [-0.5296248 ,  0.27745813,  0.82734287, ...,  0.15066615,\n",
       "         0.4884525 ,  0.19127552],\n",
       "       [-0.5293188 ,  0.27735847,  0.8296927 , ...,  0.15075149,\n",
       "         0.48949432,  0.19094773],\n",
       "       [-0.5281911 ,  0.27693573,  0.8391378 , ...,  0.15121591,\n",
       "         0.4932922 ,  0.18958572]], dtype=float32)"
      ]
     },
     "metadata": {},
     "output_type": "display_data"
    },
    {
     "data": {
      "text/plain": [
       "array([[-0.5316444 ,  0.2780401 ,  0.81333417, ...,  0.15040985,\n",
       "         0.4812005 ,  0.19303328],\n",
       "       [-0.5303452 ,  0.27767676,  0.8220925 , ...,  0.15052004,\n",
       "         0.48595625,  0.19198139],\n",
       "       [-0.52940685,  0.27738768,  0.8290084 , ...,  0.15072529,\n",
       "         0.48919547,  0.19104385],\n",
       "       [-0.52906525,  0.27727193,  0.8317017 , ...,  0.15083416,\n",
       "         0.4903516 ,  0.19066307]], dtype=float32)"
      ]
     },
     "metadata": {},
     "output_type": "display_data"
    }
   ],
   "source": [
    "full_run(num_epochs=30, version=5, force_restart=False)"
   ]
  },
  {
   "cell_type": "code",
   "execution_count": null,
   "id": "4267f8e5-9388-4bd3-9e57-4a9d085679a0",
   "metadata": {},
   "outputs": [
    {
     "name": "stdout",
     "output_type": "stream",
     "text": [
      "('harness_v-3_lg_9.pkl', 9) 10\n",
      "epoch 10 version: -3\n"
     ]
    },
    {
     "data": {
      "application/vnd.jupyter.widget-view+json": {
       "model_id": "93e97b7b0001486eb5cefcc440ab1d4a",
       "version_major": 2,
       "version_minor": 0
      },
      "text/plain": [
       "train:   0%|          | 0/20000 [00:00<?, ?it/s]"
      ]
     },
     "metadata": {},
     "output_type": "display_data"
    },
    {
     "name": "stdout",
     "output_type": "stream",
     "text": [
      "built all_links_cache in 74.4019s (605713 links)\n"
     ]
    },
    {
     "data": {
      "application/vnd.jupyter.widget-view+json": {
       "model_id": "21fac50a51004a12b79882d0ae978567",
       "version_major": 2,
       "version_minor": 0
      },
      "text/plain": [
       "train val:   0%|          | 0/10000 [00:00<?, ?it/s]"
      ]
     },
     "metadata": {},
     "output_type": "display_data"
    },
    {
     "data": {
      "application/vnd.jupyter.widget-view+json": {
       "model_id": "8e7c509ee3ba4735b6928ba269cb8b76",
       "version_major": 2,
       "version_minor": 0
      },
      "text/plain": [
       "test:   0%|          | 0/10000 [00:00<?, ?it/s]"
      ]
     },
     "metadata": {},
     "output_type": "display_data"
    },
    {
     "name": "stdout",
     "output_type": "stream",
     "text": [
      "train: 0.8325 loss: 0.3296333174138215\n",
      "train val: 0.8604 loss: 0.27965996896410616\n",
      "test: 0.7132 loss: 0.562650953246653\n",
      "epoch time: 67.26min\n",
      "removing /mnt/d/workspace/clotho/notebooks/checkpoints/stats_v-3_lg_4.json\n",
      "removing /mnt/d/workspace/clotho/notebooks/checkpoints/harness_v-3_lg_4.pkl\n",
      "best model: /mnt/d/workspace/clotho/notebooks/checkpoints/harness_v-3_lg_10.pkl\n",
      "best train: 0.8325\n",
      "best train val: 0.8604\n",
      "best test: 0.7132\n",
      "epoch 11 version: -3\n"
     ]
    },
    {
     "data": {
      "application/vnd.jupyter.widget-view+json": {
       "model_id": "42fa413b4cf8499c9615aa88db96d698",
       "version_major": 2,
       "version_minor": 0
      },
      "text/plain": [
       "train:   0%|          | 0/20000 [00:00<?, ?it/s]"
      ]
     },
     "metadata": {},
     "output_type": "display_data"
    },
    {
     "data": {
      "application/vnd.jupyter.widget-view+json": {
       "model_id": "baf6c04967ec46888f340da7a5298910",
       "version_major": 2,
       "version_minor": 0
      },
      "text/plain": [
       "train val:   0%|          | 0/10000 [00:00<?, ?it/s]"
      ]
     },
     "metadata": {},
     "output_type": "display_data"
    },
    {
     "data": {
      "application/vnd.jupyter.widget-view+json": {
       "model_id": "34757cec04d44ea586907929f802b72c",
       "version_major": 2,
       "version_minor": 0
      },
      "text/plain": [
       "test:   0%|          | 0/10000 [00:00<?, ?it/s]"
      ]
     },
     "metadata": {},
     "output_type": "display_data"
    },
    {
     "name": "stdout",
     "output_type": "stream",
     "text": [
      "train: 0.8252 loss: 0.340943063021895\n",
      "train val: 0.8528 loss: 0.29588830122601123\n",
      "test: 0.6741 loss: 0.5980946754544973\n",
      "epoch time: 66.11min\n",
      "removing /mnt/d/workspace/clotho/notebooks/checkpoints/stats_v-3_lg_3.json\n",
      "removing /mnt/d/workspace/clotho/notebooks/checkpoints/harness_v-3_lg_3.pkl\n",
      "best model: /mnt/d/workspace/clotho/notebooks/checkpoints/harness_v-3_lg_10.pkl\n",
      "best train: 0.8325\n",
      "best train val: 0.8604\n",
      "best test: 0.7132\n",
      "epoch 12 version: -3\n"
     ]
    },
    {
     "data": {
      "application/vnd.jupyter.widget-view+json": {
       "model_id": "46c76f9cb608422da3baff5449c40f41",
       "version_major": 2,
       "version_minor": 0
      },
      "text/plain": [
       "train:   0%|          | 0/20000 [00:00<?, ?it/s]"
      ]
     },
     "metadata": {},
     "output_type": "display_data"
    },
    {
     "data": {
      "application/vnd.jupyter.widget-view+json": {
       "model_id": "7adb266df26c4503a4e59f9ccce30872",
       "version_major": 2,
       "version_minor": 0
      },
      "text/plain": [
       "train val:   0%|          | 0/10000 [00:00<?, ?it/s]"
      ]
     },
     "metadata": {},
     "output_type": "display_data"
    },
    {
     "data": {
      "application/vnd.jupyter.widget-view+json": {
       "model_id": "acc171308be74b08a57f6c57e2808995",
       "version_major": 2,
       "version_minor": 0
      },
      "text/plain": [
       "test:   0%|          | 0/10000 [00:00<?, ?it/s]"
      ]
     },
     "metadata": {},
     "output_type": "display_data"
    },
    {
     "name": "stdout",
     "output_type": "stream",
     "text": [
      "train: 0.8262 loss: 0.3455898840299422\n",
      "train val: 0.8489 loss: 0.3045502366942234\n",
      "test: 0.6968 loss: 0.5789689861148596\n",
      "epoch time: 66.17min\n",
      "removing /mnt/d/workspace/clotho/notebooks/checkpoints/stats_v-3_lg_8.json\n",
      "removing /mnt/d/workspace/clotho/notebooks/checkpoints/harness_v-3_lg_8.pkl\n",
      "best model: /mnt/d/workspace/clotho/notebooks/checkpoints/harness_v-3_lg_10.pkl\n",
      "best train: 0.8325\n",
      "best train val: 0.8604\n",
      "best test: 0.7132\n",
      "epoch 13 version: -3\n"
     ]
    },
    {
     "data": {
      "application/vnd.jupyter.widget-view+json": {
       "model_id": "8f214bfd759a44d09fad8ae6119c5e82",
       "version_major": 2,
       "version_minor": 0
      },
      "text/plain": [
       "train:   0%|          | 0/20000 [00:00<?, ?it/s]"
      ]
     },
     "metadata": {},
     "output_type": "display_data"
    },
    {
     "data": {
      "application/vnd.jupyter.widget-view+json": {
       "model_id": "751220a20ba34e968a31974db64095ed",
       "version_major": 2,
       "version_minor": 0
      },
      "text/plain": [
       "train val:   0%|          | 0/10000 [00:00<?, ?it/s]"
      ]
     },
     "metadata": {},
     "output_type": "display_data"
    },
    {
     "data": {
      "application/vnd.jupyter.widget-view+json": {
       "model_id": "b216923deb7b4af381b3c5377a2a8beb",
       "version_major": 2,
       "version_minor": 0
      },
      "text/plain": [
       "test:   0%|          | 0/10000 [00:00<?, ?it/s]"
      ]
     },
     "metadata": {},
     "output_type": "display_data"
    },
    {
     "name": "stdout",
     "output_type": "stream",
     "text": [
      "train: 0.8207 loss: 0.3465662540474597\n",
      "train val: 0.8501 loss: 0.3036971760796475\n",
      "test: 0.7038 loss: 0.5673909422427416\n",
      "epoch time: 66.03min\n",
      "removing /mnt/d/workspace/clotho/notebooks/checkpoints/stats_v-3_lg_5.json\n",
      "removing /mnt/d/workspace/clotho/notebooks/checkpoints/harness_v-3_lg_5.pkl\n",
      "best model: /mnt/d/workspace/clotho/notebooks/checkpoints/harness_v-3_lg_10.pkl\n",
      "best train: 0.8325\n",
      "best train val: 0.8604\n",
      "best test: 0.7132\n",
      "epoch 14 version: -3\n"
     ]
    },
    {
     "data": {
      "application/vnd.jupyter.widget-view+json": {
       "model_id": "4eee75772f56429f9edf99c19405f952",
       "version_major": 2,
       "version_minor": 0
      },
      "text/plain": [
       "train:   0%|          | 0/20000 [00:00<?, ?it/s]"
      ]
     },
     "metadata": {},
     "output_type": "display_data"
    },
    {
     "data": {
      "application/vnd.jupyter.widget-view+json": {
       "model_id": "b1caa6e022594c96910dd0d9ff1105ad",
       "version_major": 2,
       "version_minor": 0
      },
      "text/plain": [
       "train val:   0%|          | 0/10000 [00:00<?, ?it/s]"
      ]
     },
     "metadata": {},
     "output_type": "display_data"
    },
    {
     "data": {
      "application/vnd.jupyter.widget-view+json": {
       "model_id": "b6735d6f3c3f40d9838d02083f908e05",
       "version_major": 2,
       "version_minor": 0
      },
      "text/plain": [
       "test:   0%|          | 0/10000 [00:00<?, ?it/s]"
      ]
     },
     "metadata": {},
     "output_type": "display_data"
    },
    {
     "name": "stdout",
     "output_type": "stream",
     "text": [
      "train: 0.82025 loss: 0.35109579358497506\n",
      "train val: 0.851 loss: 0.3076912747339113\n",
      "test: 0.7043 loss: 0.5728410239040852\n",
      "epoch time: 65.67min\n",
      "removing /mnt/d/workspace/clotho/notebooks/checkpoints/stats_v-3_lg_7.json\n",
      "removing /mnt/d/workspace/clotho/notebooks/checkpoints/harness_v-3_lg_7.pkl\n",
      "best model: /mnt/d/workspace/clotho/notebooks/checkpoints/harness_v-3_lg_10.pkl\n",
      "best train: 0.8325\n",
      "best train val: 0.8604\n",
      "best test: 0.7132\n",
      "epoch 15 version: -3\n"
     ]
    },
    {
     "data": {
      "application/vnd.jupyter.widget-view+json": {
       "model_id": "503b13c454064702a4f971f087348d69",
       "version_major": 2,
       "version_minor": 0
      },
      "text/plain": [
       "train:   0%|          | 0/20000 [00:00<?, ?it/s]"
      ]
     },
     "metadata": {},
     "output_type": "display_data"
    },
    {
     "data": {
      "application/vnd.jupyter.widget-view+json": {
       "model_id": "b08f72492eaf45d3b27d15abba0d9df9",
       "version_major": 2,
       "version_minor": 0
      },
      "text/plain": [
       "train val:   0%|          | 0/10000 [00:00<?, ?it/s]"
      ]
     },
     "metadata": {},
     "output_type": "display_data"
    },
    {
     "data": {
      "application/vnd.jupyter.widget-view+json": {
       "model_id": "bd585e7f88954577812d3d97b1882231",
       "version_major": 2,
       "version_minor": 0
      },
      "text/plain": [
       "test:   0%|          | 0/10000 [00:00<?, ?it/s]"
      ]
     },
     "metadata": {},
     "output_type": "display_data"
    },
    {
     "name": "stdout",
     "output_type": "stream",
     "text": [
      "train: 0.83565 loss: 0.31972684819570074\n",
      "train val: 0.8452 loss: 0.3108943580092368\n",
      "test: 0.7077 loss: 0.5745796894729137\n",
      "epoch time: 66.05min\n",
      "removing /mnt/d/workspace/clotho/notebooks/checkpoints/stats_v-3_lg_12.json\n",
      "removing /mnt/d/workspace/clotho/notebooks/checkpoints/harness_v-3_lg_12.pkl\n",
      "best model: /mnt/d/workspace/clotho/notebooks/checkpoints/harness_v-3_lg_10.pkl\n",
      "best train: 0.8325\n",
      "best train val: 0.8604\n",
      "best test: 0.7132\n",
      "epoch 16 version: -3\n"
     ]
    },
    {
     "data": {
      "application/vnd.jupyter.widget-view+json": {
       "model_id": "1a0ef13baa2244de8b5c8b2cf2fabf5f",
       "version_major": 2,
       "version_minor": 0
      },
      "text/plain": [
       "train:   0%|          | 0/20000 [00:00<?, ?it/s]"
      ]
     },
     "metadata": {},
     "output_type": "display_data"
    },
    {
     "data": {
      "application/vnd.jupyter.widget-view+json": {
       "model_id": "5af0bae4cdbb4f5391edc89fcc87c8ff",
       "version_major": 2,
       "version_minor": 0
      },
      "text/plain": [
       "train val:   0%|          | 0/10000 [00:00<?, ?it/s]"
      ]
     },
     "metadata": {},
     "output_type": "display_data"
    },
    {
     "data": {
      "application/vnd.jupyter.widget-view+json": {
       "model_id": "9c48c7a520584894a7f29e8435b82b65",
       "version_major": 2,
       "version_minor": 0
      },
      "text/plain": [
       "test:   0%|          | 0/10000 [00:00<?, ?it/s]"
      ]
     },
     "metadata": {},
     "output_type": "display_data"
    },
    {
     "name": "stdout",
     "output_type": "stream",
     "text": [
      "train: 0.8372 loss: 0.31850901269902016\n",
      "train val: 0.8386 loss: 0.31521949819808504\n",
      "test: 0.6903 loss: 0.5920213772147894\n",
      "epoch time: 65.64min\n",
      "removing /mnt/d/workspace/clotho/notebooks/checkpoints/stats_v-3_lg_15.json\n",
      "removing /mnt/d/workspace/clotho/notebooks/checkpoints/harness_v-3_lg_15.pkl\n",
      "best model: /mnt/d/workspace/clotho/notebooks/checkpoints/harness_v-3_lg_10.pkl\n",
      "best train: 0.8325\n",
      "best train val: 0.8604\n",
      "best test: 0.7132\n",
      "epoch 17 version: -3\n"
     ]
    },
    {
     "data": {
      "application/vnd.jupyter.widget-view+json": {
       "model_id": "527d78a8e2ef4431a86c795cfb4df51e",
       "version_major": 2,
       "version_minor": 0
      },
      "text/plain": [
       "train:   0%|          | 0/20000 [00:00<?, ?it/s]"
      ]
     },
     "metadata": {},
     "output_type": "display_data"
    },
    {
     "data": {
      "application/vnd.jupyter.widget-view+json": {
       "model_id": "cc25bc3dd0da41ddbde78ea897cf871a",
       "version_major": 2,
       "version_minor": 0
      },
      "text/plain": [
       "train val:   0%|          | 0/10000 [00:00<?, ?it/s]"
      ]
     },
     "metadata": {},
     "output_type": "display_data"
    },
    {
     "data": {
      "application/vnd.jupyter.widget-view+json": {
       "model_id": "583b326ba75b494d9f8d42a185f27185",
       "version_major": 2,
       "version_minor": 0
      },
      "text/plain": [
       "test:   0%|          | 0/10000 [00:00<?, ?it/s]"
      ]
     },
     "metadata": {},
     "output_type": "display_data"
    },
    {
     "name": "stdout",
     "output_type": "stream",
     "text": [
      "train: 0.83925 loss: 0.31599877720367175\n",
      "train val: 0.8505 loss: 0.300786718508487\n",
      "test: 0.7202 loss: 0.553444096815586\n",
      "epoch time: 66.20min\n",
      "removing /mnt/d/workspace/clotho/notebooks/checkpoints/stats_v-3_lg_16.json\n",
      "removing /mnt/d/workspace/clotho/notebooks/checkpoints/harness_v-3_lg_16.pkl\n",
      "best model: /mnt/d/workspace/clotho/notebooks/checkpoints/harness_v-3_lg_10.pkl\n",
      "best train: 0.8325\n",
      "best train val: 0.8604\n",
      "best test: 0.7132\n",
      "epoch 18 version: -3\n"
     ]
    },
    {
     "data": {
      "application/vnd.jupyter.widget-view+json": {
       "model_id": "6b58ad73ff204c48b6d0989463a5a47d",
       "version_major": 2,
       "version_minor": 0
      },
      "text/plain": [
       "train:   0%|          | 0/20000 [00:00<?, ?it/s]"
      ]
     },
     "metadata": {},
     "output_type": "display_data"
    },
    {
     "data": {
      "application/vnd.jupyter.widget-view+json": {
       "model_id": "0026348d600348ee9c4808ea53733313",
       "version_major": 2,
       "version_minor": 0
      },
      "text/plain": [
       "train val:   0%|          | 0/10000 [00:00<?, ?it/s]"
      ]
     },
     "metadata": {},
     "output_type": "display_data"
    },
    {
     "data": {
      "application/vnd.jupyter.widget-view+json": {
       "model_id": "f0c56483120249048d8103af21ebc6f7",
       "version_major": 2,
       "version_minor": 0
      },
      "text/plain": [
       "test:   0%|          | 0/10000 [00:00<?, ?it/s]"
      ]
     },
     "metadata": {},
     "output_type": "display_data"
    },
    {
     "name": "stdout",
     "output_type": "stream",
     "text": [
      "train: 0.844 loss: 0.31134907860054\n",
      "train val: 0.8475 loss: 0.3074382802509208\n",
      "test: 0.7009 loss: 0.577134696507454\n",
      "epoch time: 66.22min\n",
      "removing /mnt/d/workspace/clotho/notebooks/checkpoints/stats_v-3_lg_13.json\n",
      "removing /mnt/d/workspace/clotho/notebooks/checkpoints/harness_v-3_lg_13.pkl\n",
      "best model: /mnt/d/workspace/clotho/notebooks/checkpoints/harness_v-3_lg_10.pkl\n",
      "best train: 0.8325\n",
      "best train val: 0.8604\n",
      "best test: 0.7132\n",
      "epoch 19 version: -3\n"
     ]
    },
    {
     "data": {
      "application/vnd.jupyter.widget-view+json": {
       "model_id": "559c3fad8f8a4e06bba7a5165c629985",
       "version_major": 2,
       "version_minor": 0
      },
      "text/plain": [
       "train:   0%|          | 0/20000 [00:00<?, ?it/s]"
      ]
     },
     "metadata": {},
     "output_type": "display_data"
    },
    {
     "data": {
      "application/vnd.jupyter.widget-view+json": {
       "model_id": "b924d8e08ea84665a132b2828cb4ba26",
       "version_major": 2,
       "version_minor": 0
      },
      "text/plain": [
       "train val:   0%|          | 0/10000 [00:00<?, ?it/s]"
      ]
     },
     "metadata": {},
     "output_type": "display_data"
    },
    {
     "data": {
      "application/vnd.jupyter.widget-view+json": {
       "model_id": "5a5af75be0264109b514a80c98dacfe0",
       "version_major": 2,
       "version_minor": 0
      },
      "text/plain": [
       "test:   0%|          | 0/10000 [00:00<?, ?it/s]"
      ]
     },
     "metadata": {},
     "output_type": "display_data"
    },
    {
     "name": "stdout",
     "output_type": "stream",
     "text": [
      "train: 0.83705 loss: 0.3144330028624161\n",
      "train val: 0.8227 loss: 0.33651314471755184\n",
      "test: 0.6667 loss: 0.6134692154049873\n",
      "epoch time: 65.30min\n",
      "removing /mnt/d/workspace/clotho/notebooks/checkpoints/stats_v-3_lg_18.json\n",
      "removing /mnt/d/workspace/clotho/notebooks/checkpoints/harness_v-3_lg_18.pkl\n",
      "best model: /mnt/d/workspace/clotho/notebooks/checkpoints/harness_v-3_lg_10.pkl\n",
      "best train: 0.8325\n",
      "best train val: 0.8604\n",
      "best test: 0.7132\n",
      "epoch 20 version: -3\n"
     ]
    },
    {
     "data": {
      "application/vnd.jupyter.widget-view+json": {
       "model_id": "758c8082fd8a423da1377cdf8669f669",
       "version_major": 2,
       "version_minor": 0
      },
      "text/plain": [
       "train:   0%|          | 0/20000 [00:00<?, ?it/s]"
      ]
     },
     "metadata": {},
     "output_type": "display_data"
    },
    {
     "data": {
      "application/vnd.jupyter.widget-view+json": {
       "model_id": "cae903442ceb4a8db5a686c7882c05aa",
       "version_major": 2,
       "version_minor": 0
      },
      "text/plain": [
       "train val:   0%|          | 0/10000 [00:00<?, ?it/s]"
      ]
     },
     "metadata": {},
     "output_type": "display_data"
    },
    {
     "data": {
      "application/vnd.jupyter.widget-view+json": {
       "model_id": "ecffb511eec14af69879f7136f5c5c83",
       "version_major": 2,
       "version_minor": 0
      },
      "text/plain": [
       "test:   0%|          | 0/10000 [00:00<?, ?it/s]"
      ]
     },
     "metadata": {},
     "output_type": "display_data"
    },
    {
     "name": "stdout",
     "output_type": "stream",
     "text": [
      "train: 0.85415 loss: 0.28586542164890477\n",
      "train val: 0.822 loss: 0.3402434728570719\n",
      "test: 0.663 loss: 0.63555585090518\n",
      "epoch time: 66.07min\n",
      "removing /mnt/d/workspace/clotho/notebooks/checkpoints/stats_v-3_lg_19.json\n",
      "removing /mnt/d/workspace/clotho/notebooks/checkpoints/harness_v-3_lg_19.pkl\n",
      "best model: /mnt/d/workspace/clotho/notebooks/checkpoints/harness_v-3_lg_10.pkl\n",
      "best train: 0.8325\n",
      "best train val: 0.8604\n",
      "best test: 0.7132\n",
      "epoch 21 version: -3\n"
     ]
    },
    {
     "data": {
      "application/vnd.jupyter.widget-view+json": {
       "model_id": "f9ff73da89a147d78094a5cd336f4775",
       "version_major": 2,
       "version_minor": 0
      },
      "text/plain": [
       "train:   0%|          | 0/20000 [00:00<?, ?it/s]"
      ]
     },
     "metadata": {},
     "output_type": "display_data"
    },
    {
     "data": {
      "application/vnd.jupyter.widget-view+json": {
       "model_id": "c83b94596d5d451094dda7fd3bcbda65",
       "version_major": 2,
       "version_minor": 0
      },
      "text/plain": [
       "train val:   0%|          | 0/10000 [00:00<?, ?it/s]"
      ]
     },
     "metadata": {},
     "output_type": "display_data"
    },
    {
     "data": {
      "application/vnd.jupyter.widget-view+json": {
       "model_id": "efc34c07436f4124bae9e39868255c67",
       "version_major": 2,
       "version_minor": 0
      },
      "text/plain": [
       "test:   0%|          | 0/10000 [00:00<?, ?it/s]"
      ]
     },
     "metadata": {},
     "output_type": "display_data"
    },
    {
     "name": "stdout",
     "output_type": "stream",
     "text": [
      "train: 0.85365 loss: 0.2889539808499944\n",
      "train val: 0.8331 loss: 0.32269777552332846\n",
      "test: 0.6894 loss: 0.5888983723849058\n",
      "epoch time: 65.54min\n",
      "removing /mnt/d/workspace/clotho/notebooks/checkpoints/stats_v-3_lg_20.json\n",
      "removing /mnt/d/workspace/clotho/notebooks/checkpoints/harness_v-3_lg_20.pkl\n",
      "best model: /mnt/d/workspace/clotho/notebooks/checkpoints/harness_v-3_lg_10.pkl\n",
      "best train: 0.8325\n",
      "best train val: 0.8604\n",
      "best test: 0.7132\n",
      "epoch 22 version: -3\n"
     ]
    },
    {
     "data": {
      "application/vnd.jupyter.widget-view+json": {
       "model_id": "b575c9060e1d48a0bde9a95c7a5da75b",
       "version_major": 2,
       "version_minor": 0
      },
      "text/plain": [
       "train:   0%|          | 0/20000 [00:00<?, ?it/s]"
      ]
     },
     "metadata": {},
     "output_type": "display_data"
    },
    {
     "data": {
      "application/vnd.jupyter.widget-view+json": {
       "model_id": "0968a4e956aa4a999a6443914f28fc56",
       "version_major": 2,
       "version_minor": 0
      },
      "text/plain": [
       "train val:   0%|          | 0/10000 [00:00<?, ?it/s]"
      ]
     },
     "metadata": {},
     "output_type": "display_data"
    },
    {
     "data": {
      "application/vnd.jupyter.widget-view+json": {
       "model_id": "a0ed78b4e4e44c0f940526f71adbf9e8",
       "version_major": 2,
       "version_minor": 0
      },
      "text/plain": [
       "test:   0%|          | 0/10000 [00:00<?, ?it/s]"
      ]
     },
     "metadata": {},
     "output_type": "display_data"
    },
    {
     "name": "stdout",
     "output_type": "stream",
     "text": [
      "train: 0.5483 loss: 0.6766979590330524\n",
      "train val: 0.6943 loss: 0.6877842839241027\n",
      "test: 0.562 loss: 0.6919142933130265\n",
      "epoch time: 65.08min\n",
      "removing /mnt/d/workspace/clotho/notebooks/checkpoints/stats_v-3_lg_21.json\n",
      "removing /mnt/d/workspace/clotho/notebooks/checkpoints/harness_v-3_lg_21.pkl\n",
      "best model: /mnt/d/workspace/clotho/notebooks/checkpoints/harness_v-3_lg_10.pkl\n",
      "best train: 0.8325\n",
      "best train val: 0.8604\n",
      "best test: 0.7132\n",
      "epoch 23 version: -3\n"
     ]
    },
    {
     "data": {
      "application/vnd.jupyter.widget-view+json": {
       "model_id": "4412014d20754843a282862f83fa2990",
       "version_major": 2,
       "version_minor": 0
      },
      "text/plain": [
       "train:   0%|          | 0/20000 [00:00<?, ?it/s]"
      ]
     },
     "metadata": {},
     "output_type": "display_data"
    },
    {
     "data": {
      "application/vnd.jupyter.widget-view+json": {
       "model_id": "8c9269065ec74347ac9500200c9e77b7",
       "version_major": 2,
       "version_minor": 0
      },
      "text/plain": [
       "train val:   0%|          | 0/10000 [00:00<?, ?it/s]"
      ]
     },
     "metadata": {},
     "output_type": "display_data"
    },
    {
     "data": {
      "application/vnd.jupyter.widget-view+json": {
       "model_id": "3c278a7bb2274db382f35563f1f45bd3",
       "version_major": 2,
       "version_minor": 0
      },
      "text/plain": [
       "test:   0%|          | 0/10000 [00:00<?, ?it/s]"
      ]
     },
     "metadata": {},
     "output_type": "display_data"
    },
    {
     "name": "stdout",
     "output_type": "stream",
     "text": [
      "train: 0.80685 loss: 0.3486989788418019\n",
      "train val: 0.8011 loss: 0.35198161785918164\n",
      "test: 0.6712 loss: 0.6254208954334259\n",
      "epoch time: 65.58min\n",
      "removing /mnt/d/workspace/clotho/notebooks/checkpoints/stats_v-3_lg_22.json\n",
      "removing /mnt/d/workspace/clotho/notebooks/checkpoints/harness_v-3_lg_22.pkl\n",
      "best model: /mnt/d/workspace/clotho/notebooks/checkpoints/harness_v-3_lg_10.pkl\n",
      "best train: 0.8325\n",
      "best train val: 0.8604\n",
      "best test: 0.7132\n",
      "epoch 24 version: -3\n"
     ]
    },
    {
     "data": {
      "application/vnd.jupyter.widget-view+json": {
       "model_id": "6b7847060f404d5eb5e81b9da4ab404d",
       "version_major": 2,
       "version_minor": 0
      },
      "text/plain": [
       "train:   0%|          | 0/20000 [00:00<?, ?it/s]"
      ]
     },
     "metadata": {},
     "output_type": "display_data"
    }
   ],
   "source": [
    "full_run(num_epochs=30, version=-3, force_restart=False)"
   ]
  },
  {
   "cell_type": "code",
   "execution_count": 24,
   "id": "f5f22222-b2bd-4af9-bd14-254d394a9575",
   "metadata": {
    "collapsed": true,
    "jupyter": {
     "outputs_hidden": true
    },
    "tags": []
   },
   "outputs": [
    {
     "name": "stderr",
     "output_type": "stream",
     "text": [
      "Some weights of the model checkpoint at distilbert-base-uncased were not used when initializing DistilBertModel: ['vocab_transform.bias', 'vocab_transform.weight', 'vocab_layer_norm.bias', 'vocab_layer_norm.weight', 'vocab_projector.bias', 'vocab_projector.weight']\n",
      "- This IS expected if you are initializing DistilBertModel from the checkpoint of a model trained on another task or with another architecture (e.g. initializing a BertForSequenceClassification model from a BertForPreTraining model).\n",
      "- This IS NOT expected if you are initializing DistilBertModel from the checkpoint of a model that you expect to be exactly identical (initializing a BertForSequenceClassification model from a BertForSequenceClassification model).\n"
     ]
    },
    {
     "name": "stdout",
     "output_type": "stream",
     "text": [
      "('harness_v-1_lg_29.pkl', 29) 30\n",
      "epoch 30 version: -1\n"
     ]
    },
    {
     "data": {
      "application/vnd.jupyter.widget-view+json": {
       "model_id": "0c2bbd6e8b604252aee51916acddd8ec",
       "version_major": 2,
       "version_minor": 0
      },
      "text/plain": [
       "train:   0%|          | 0/20000 [00:00<?, ?it/s]"
      ]
     },
     "metadata": {},
     "output_type": "display_data"
    },
    {
     "data": {
      "application/vnd.jupyter.widget-view+json": {
       "model_id": "d1bae1e923514f82a7eac5ce24c97d22",
       "version_major": 2,
       "version_minor": 0
      },
      "text/plain": [
       "train val:   0%|          | 0/10000 [00:00<?, ?it/s]"
      ]
     },
     "metadata": {},
     "output_type": "display_data"
    },
    {
     "data": {
      "application/vnd.jupyter.widget-view+json": {
       "model_id": "cbec1ee086d8432aba64cafbfdd8c455",
       "version_major": 2,
       "version_minor": 0
      },
      "text/plain": [
       "test:   0%|          | 0/10000 [00:00<?, ?it/s]"
      ]
     },
     "metadata": {},
     "output_type": "display_data"
    },
    {
     "name": "stdout",
     "output_type": "stream",
     "text": [
      "train: 0.58375 loss: 0.6687450111806392\n",
      "train val: 0.6981 loss: 0.5971605972766876\n",
      "test: 0.6163 loss: 0.6355745407104492\n",
      "epoch time: 74.94min\n",
      "removing /mnt/d/workspace/clotho/notebooks/checkpoints/stats_v-1_lg_29.json\n",
      "removing /mnt/d/workspace/clotho/notebooks/checkpoints/harness_v-1_lg_29.pkl\n",
      "best model: /mnt/d/workspace/clotho/notebooks/checkpoints/harness_v-1_lg_9.pkl\n",
      "best train: 0.7337\n",
      "best train val: 0.7465\n",
      "best test: 0.6634\n",
      "epoch 31 version: -1\n"
     ]
    },
    {
     "data": {
      "application/vnd.jupyter.widget-view+json": {
       "model_id": "f68a011197094f1d896027b1c6ee59b9",
       "version_major": 2,
       "version_minor": 0
      },
      "text/plain": [
       "train:   0%|          | 0/20000 [00:00<?, ?it/s]"
      ]
     },
     "metadata": {},
     "output_type": "display_data"
    },
    {
     "data": {
      "application/vnd.jupyter.widget-view+json": {
       "model_id": "13db639c412c4d55bc985092fcc309b2",
       "version_major": 2,
       "version_minor": 0
      },
      "text/plain": [
       "train val:   0%|          | 0/10000 [00:00<?, ?it/s]"
      ]
     },
     "metadata": {},
     "output_type": "display_data"
    },
    {
     "data": {
      "application/vnd.jupyter.widget-view+json": {
       "model_id": "e124a66c5eed40c496e5e889549668e0",
       "version_major": 2,
       "version_minor": 0
      },
      "text/plain": [
       "test:   0%|          | 0/10000 [00:00<?, ?it/s]"
      ]
     },
     "metadata": {},
     "output_type": "display_data"
    },
    {
     "name": "stdout",
     "output_type": "stream",
     "text": [
      "train: 0.56845 loss: 0.9076738917231559\n",
      "train val: 0.6192 loss: 0.6713714591503144\n",
      "test: 0.5341 loss: 0.6873236982584\n",
      "epoch time: 68.77min\n",
      "removing /mnt/d/workspace/clotho/notebooks/checkpoints/stats_v-1_lg_30.json\n",
      "removing /mnt/d/workspace/clotho/notebooks/checkpoints/harness_v-1_lg_30.pkl\n",
      "best model: /mnt/d/workspace/clotho/notebooks/checkpoints/harness_v-1_lg_9.pkl\n",
      "best train: 0.7337\n",
      "best train val: 0.7465\n",
      "best test: 0.6634\n",
      "epoch 32 version: -1\n"
     ]
    },
    {
     "data": {
      "application/vnd.jupyter.widget-view+json": {
       "model_id": "f6f34a8bac3f47f285de73caee66f9f9",
       "version_major": 2,
       "version_minor": 0
      },
      "text/plain": [
       "train:   0%|          | 0/20000 [00:00<?, ?it/s]"
      ]
     },
     "metadata": {},
     "output_type": "display_data"
    },
    {
     "data": {
      "application/vnd.jupyter.widget-view+json": {
       "model_id": "a0fa230eeee1406582dc189bc88c43e5",
       "version_major": 2,
       "version_minor": 0
      },
      "text/plain": [
       "train val:   0%|          | 0/10000 [00:00<?, ?it/s]"
      ]
     },
     "metadata": {},
     "output_type": "display_data"
    },
    {
     "data": {
      "application/vnd.jupyter.widget-view+json": {
       "model_id": "b1d0a376058143d881523f70f1bc3207",
       "version_major": 2,
       "version_minor": 0
      },
      "text/plain": [
       "test:   0%|          | 0/10000 [00:00<?, ?it/s]"
      ]
     },
     "metadata": {},
     "output_type": "display_data"
    },
    {
     "name": "stdout",
     "output_type": "stream",
     "text": [
      "train: 0.55745 loss: 0.6987056967377663\n",
      "train val: 0.6988 loss: 0.620081953060627\n",
      "test: 0.5881 loss: 0.6689089809775353\n",
      "epoch time: 66.95min\n",
      "removing /mnt/d/workspace/clotho/notebooks/checkpoints/stats_v-1_lg_31.json\n",
      "removing /mnt/d/workspace/clotho/notebooks/checkpoints/harness_v-1_lg_31.pkl\n",
      "best model: /mnt/d/workspace/clotho/notebooks/checkpoints/harness_v-1_lg_9.pkl\n",
      "best train: 0.7337\n",
      "best train val: 0.7465\n",
      "best test: 0.6634\n",
      "epoch 33 version: -1\n"
     ]
    },
    {
     "data": {
      "application/vnd.jupyter.widget-view+json": {
       "model_id": "71061c5635df4a88a4982e6642d685ca",
       "version_major": 2,
       "version_minor": 0
      },
      "text/plain": [
       "train:   0%|          | 0/20000 [00:00<?, ?it/s]"
      ]
     },
     "metadata": {},
     "output_type": "display_data"
    },
    {
     "data": {
      "application/vnd.jupyter.widget-view+json": {
       "model_id": "6aa2f71585b94fdf93d88ece2513eb27",
       "version_major": 2,
       "version_minor": 0
      },
      "text/plain": [
       "train val:   0%|          | 0/10000 [00:00<?, ?it/s]"
      ]
     },
     "metadata": {},
     "output_type": "display_data"
    },
    {
     "data": {
      "application/vnd.jupyter.widget-view+json": {
       "model_id": "93f04374cdec4acebbd307b1e79e7e10",
       "version_major": 2,
       "version_minor": 0
      },
      "text/plain": [
       "test:   0%|          | 0/10000 [00:00<?, ?it/s]"
      ]
     },
     "metadata": {},
     "output_type": "display_data"
    },
    {
     "name": "stdout",
     "output_type": "stream",
     "text": [
      "train: 0.5567 loss: 0.7262540941238403\n",
      "train val: 0.6744 loss: 0.6491512712478638\n",
      "test: 0.5392 loss: 0.686620623922348\n",
      "epoch time: 66.58min\n",
      "removing /mnt/d/workspace/clotho/notebooks/checkpoints/stats_v-1_lg_32.json\n",
      "removing /mnt/d/workspace/clotho/notebooks/checkpoints/harness_v-1_lg_32.pkl\n",
      "best model: /mnt/d/workspace/clotho/notebooks/checkpoints/harness_v-1_lg_9.pkl\n",
      "best train: 0.7337\n",
      "best train val: 0.7465\n",
      "best test: 0.6634\n",
      "epoch 34 version: -1\n"
     ]
    },
    {
     "data": {
      "application/vnd.jupyter.widget-view+json": {
       "model_id": "a13d3b8746c24d398b0d42134a59e29f",
       "version_major": 2,
       "version_minor": 0
      },
      "text/plain": [
       "train:   0%|          | 0/20000 [00:00<?, ?it/s]"
      ]
     },
     "metadata": {},
     "output_type": "display_data"
    },
    {
     "data": {
      "application/vnd.jupyter.widget-view+json": {
       "model_id": "03c97e72d48e4f1cbe0c73a709397f71",
       "version_major": 2,
       "version_minor": 0
      },
      "text/plain": [
       "train val:   0%|          | 0/10000 [00:00<?, ?it/s]"
      ]
     },
     "metadata": {},
     "output_type": "display_data"
    },
    {
     "data": {
      "application/vnd.jupyter.widget-view+json": {
       "model_id": "d67c9f45f4f545eeadc60385b8352433",
       "version_major": 2,
       "version_minor": 0
      },
      "text/plain": [
       "test:   0%|          | 0/10000 [00:00<?, ?it/s]"
      ]
     },
     "metadata": {},
     "output_type": "display_data"
    },
    {
     "name": "stdout",
     "output_type": "stream",
     "text": [
      "train: 0.55115 loss: 0.7279762377768755\n",
      "train val: 0.6711 loss: 0.6452256627321243\n",
      "test: 0.546 loss: 0.6829777523517608\n",
      "epoch time: 66.42min\n",
      "removing /mnt/d/workspace/clotho/notebooks/checkpoints/stats_v-1_lg_33.json\n",
      "removing /mnt/d/workspace/clotho/notebooks/checkpoints/harness_v-1_lg_33.pkl\n",
      "best model: /mnt/d/workspace/clotho/notebooks/checkpoints/harness_v-1_lg_9.pkl\n",
      "best train: 0.7337\n",
      "best train val: 0.7465\n",
      "best test: 0.6634\n",
      "epoch 35 version: -1\n"
     ]
    },
    {
     "data": {
      "application/vnd.jupyter.widget-view+json": {
       "model_id": "d84215c3e1e0466bb193d2e0c876b409",
       "version_major": 2,
       "version_minor": 0
      },
      "text/plain": [
       "train:   0%|          | 0/20000 [00:00<?, ?it/s]"
      ]
     },
     "metadata": {},
     "output_type": "display_data"
    },
    {
     "data": {
      "application/vnd.jupyter.widget-view+json": {
       "model_id": "fd59a22b92f142149f60e50201e2f087",
       "version_major": 2,
       "version_minor": 0
      },
      "text/plain": [
       "train val:   0%|          | 0/10000 [00:00<?, ?it/s]"
      ]
     },
     "metadata": {},
     "output_type": "display_data"
    },
    {
     "data": {
      "application/vnd.jupyter.widget-view+json": {
       "model_id": "4002080f9c114e1db5a1620964cc3eed",
       "version_major": 2,
       "version_minor": 0
      },
      "text/plain": [
       "test:   0%|          | 0/10000 [00:00<?, ?it/s]"
      ]
     },
     "metadata": {},
     "output_type": "display_data"
    },
    {
     "name": "stdout",
     "output_type": "stream",
     "text": [
      "train: 0.5485 loss: 0.7043621474564076\n",
      "train val: 0.6597 loss: 0.6346816343188286\n",
      "test: 0.564 loss: 0.6725456035137176\n",
      "epoch time: 65.87min\n",
      "removing /mnt/d/workspace/clotho/notebooks/checkpoints/stats_v-1_lg_34.json\n",
      "removing /mnt/d/workspace/clotho/notebooks/checkpoints/harness_v-1_lg_34.pkl\n",
      "best model: /mnt/d/workspace/clotho/notebooks/checkpoints/harness_v-1_lg_9.pkl\n",
      "best train: 0.7337\n",
      "best train val: 0.7465\n",
      "best test: 0.6634\n",
      "epoch 36 version: -1\n"
     ]
    },
    {
     "data": {
      "application/vnd.jupyter.widget-view+json": {
       "model_id": "0e0f471299d446aaaac3957393e847b9",
       "version_major": 2,
       "version_minor": 0
      },
      "text/plain": [
       "train:   0%|          | 0/20000 [00:00<?, ?it/s]"
      ]
     },
     "metadata": {},
     "output_type": "display_data"
    },
    {
     "data": {
      "application/vnd.jupyter.widget-view+json": {
       "model_id": "16f28f9c06ba4be1abbf5b7c60a9bfd6",
       "version_major": 2,
       "version_minor": 0
      },
      "text/plain": [
       "train val:   0%|          | 0/10000 [00:00<?, ?it/s]"
      ]
     },
     "metadata": {},
     "output_type": "display_data"
    },
    {
     "data": {
      "application/vnd.jupyter.widget-view+json": {
       "model_id": "f80cce90d2f14a89a58e9259d8140e2b",
       "version_major": 2,
       "version_minor": 0
      },
      "text/plain": [
       "test:   0%|          | 0/10000 [00:00<?, ?it/s]"
      ]
     },
     "metadata": {},
     "output_type": "display_data"
    },
    {
     "name": "stdout",
     "output_type": "stream",
     "text": [
      "train: 0.5498 loss: 0.6848514773488045\n",
      "train val: 0.6478 loss: 0.6353524794220924\n",
      "test: 0.547 loss: 0.6808054976224899\n",
      "epoch time: 65.31min\n",
      "removing /mnt/d/workspace/clotho/notebooks/checkpoints/stats_v-1_lg_35.json\n",
      "removing /mnt/d/workspace/clotho/notebooks/checkpoints/harness_v-1_lg_35.pkl\n",
      "best model: /mnt/d/workspace/clotho/notebooks/checkpoints/harness_v-1_lg_9.pkl\n",
      "best train: 0.7337\n",
      "best train val: 0.7465\n",
      "best test: 0.6634\n",
      "epoch 37 version: -1\n"
     ]
    },
    {
     "data": {
      "application/vnd.jupyter.widget-view+json": {
       "model_id": "07d743528cf140fb8eb9e36ea1d5b3e3",
       "version_major": 2,
       "version_minor": 0
      },
      "text/plain": [
       "train:   0%|          | 0/20000 [00:00<?, ?it/s]"
      ]
     },
     "metadata": {},
     "output_type": "display_data"
    },
    {
     "data": {
      "application/vnd.jupyter.widget-view+json": {
       "model_id": "ecc6efbc1062479ab94e68786a95b0ce",
       "version_major": 2,
       "version_minor": 0
      },
      "text/plain": [
       "train val:   0%|          | 0/10000 [00:00<?, ?it/s]"
      ]
     },
     "metadata": {},
     "output_type": "display_data"
    },
    {
     "data": {
      "application/vnd.jupyter.widget-view+json": {
       "model_id": "f867c273a765485f9d4438b41e5014db",
       "version_major": 2,
       "version_minor": 0
      },
      "text/plain": [
       "test:   0%|          | 0/10000 [00:00<?, ?it/s]"
      ]
     },
     "metadata": {},
     "output_type": "display_data"
    },
    {
     "name": "stdout",
     "output_type": "stream",
     "text": [
      "train: 0.5478 loss: 0.6857010553836822\n",
      "train val: 0.6395 loss: 0.6702348262548447\n",
      "test: 0.5182 loss: 0.6909055227041244\n",
      "epoch time: 65.41min\n",
      "removing /mnt/d/workspace/clotho/notebooks/checkpoints/stats_v-1_lg_36.json\n",
      "removing /mnt/d/workspace/clotho/notebooks/checkpoints/harness_v-1_lg_36.pkl\n",
      "best model: /mnt/d/workspace/clotho/notebooks/checkpoints/harness_v-1_lg_9.pkl\n",
      "best train: 0.7337\n",
      "best train val: 0.7465\n",
      "best test: 0.6634\n",
      "epoch 38 version: -1\n"
     ]
    },
    {
     "data": {
      "application/vnd.jupyter.widget-view+json": {
       "model_id": "49ba83932d4f4f269b873ce72b84387e",
       "version_major": 2,
       "version_minor": 0
      },
      "text/plain": [
       "train:   0%|          | 0/20000 [00:00<?, ?it/s]"
      ]
     },
     "metadata": {},
     "output_type": "display_data"
    },
    {
     "data": {
      "application/vnd.jupyter.widget-view+json": {
       "model_id": "860dca970d1a448095b470e7decc4cf2",
       "version_major": 2,
       "version_minor": 0
      },
      "text/plain": [
       "train val:   0%|          | 0/10000 [00:00<?, ?it/s]"
      ]
     },
     "metadata": {},
     "output_type": "display_data"
    },
    {
     "data": {
      "application/vnd.jupyter.widget-view+json": {
       "model_id": "3e658391a2d744b5a880f00aa0941df9",
       "version_major": 2,
       "version_minor": 0
      },
      "text/plain": [
       "test:   0%|          | 0/10000 [00:00<?, ?it/s]"
      ]
     },
     "metadata": {},
     "output_type": "display_data"
    },
    {
     "name": "stdout",
     "output_type": "stream",
     "text": [
      "train: 0.5496 loss: 0.6969208789885044\n",
      "train val: 0.6025 loss: 0.6687699754238129\n",
      "test: 0.547 loss: 0.6889540692567825\n",
      "epoch time: 65.45min\n",
      "removing /mnt/d/workspace/clotho/notebooks/checkpoints/stats_v-1_lg_37.json\n",
      "removing /mnt/d/workspace/clotho/notebooks/checkpoints/harness_v-1_lg_37.pkl\n",
      "best model: /mnt/d/workspace/clotho/notebooks/checkpoints/harness_v-1_lg_9.pkl\n",
      "best train: 0.7337\n",
      "best train val: 0.7465\n",
      "best test: 0.6634\n",
      "epoch 39 version: -1\n"
     ]
    },
    {
     "data": {
      "application/vnd.jupyter.widget-view+json": {
       "model_id": "fb6d844d97e6412e92fc0d46a2a67d5a",
       "version_major": 2,
       "version_minor": 0
      },
      "text/plain": [
       "train:   0%|          | 0/20000 [00:00<?, ?it/s]"
      ]
     },
     "metadata": {},
     "output_type": "display_data"
    },
    {
     "data": {
      "application/vnd.jupyter.widget-view+json": {
       "model_id": "c971de8dd3754c22a99c5f69c55962c7",
       "version_major": 2,
       "version_minor": 0
      },
      "text/plain": [
       "train val:   0%|          | 0/10000 [00:00<?, ?it/s]"
      ]
     },
     "metadata": {},
     "output_type": "display_data"
    },
    {
     "data": {
      "application/vnd.jupyter.widget-view+json": {
       "model_id": "2ebba6a43ffc4b54849dbaa6997e4164",
       "version_major": 2,
       "version_minor": 0
      },
      "text/plain": [
       "test:   0%|          | 0/10000 [00:00<?, ?it/s]"
      ]
     },
     "metadata": {},
     "output_type": "display_data"
    },
    {
     "name": "stdout",
     "output_type": "stream",
     "text": [
      "train: 0.53175 loss: 0.6947214718282223\n",
      "train val: 0.6417 loss: 0.656844097328186\n",
      "test: 0.5012 loss: 0.6908428781509399\n",
      "epoch time: 66.45min\n",
      "removing /mnt/d/workspace/clotho/notebooks/checkpoints/stats_v-1_lg_38.json\n",
      "removing /mnt/d/workspace/clotho/notebooks/checkpoints/harness_v-1_lg_38.pkl\n",
      "best model: /mnt/d/workspace/clotho/notebooks/checkpoints/harness_v-1_lg_9.pkl\n",
      "best train: 0.7337\n",
      "best train val: 0.7465\n",
      "best test: 0.6634\n",
      "epoch 40 version: -1\n"
     ]
    },
    {
     "data": {
      "application/vnd.jupyter.widget-view+json": {
       "model_id": "857f2035517049808e0f3494158f7810",
       "version_major": 2,
       "version_minor": 0
      },
      "text/plain": [
       "train:   0%|          | 0/20000 [00:00<?, ?it/s]"
      ]
     },
     "metadata": {},
     "output_type": "display_data"
    },
    {
     "data": {
      "application/vnd.jupyter.widget-view+json": {
       "model_id": "0e0a42583e35417390ccf9a48e74e0ca",
       "version_major": 2,
       "version_minor": 0
      },
      "text/plain": [
       "train val:   0%|          | 0/10000 [00:00<?, ?it/s]"
      ]
     },
     "metadata": {},
     "output_type": "display_data"
    },
    {
     "data": {
      "application/vnd.jupyter.widget-view+json": {
       "model_id": "73851fe390c44e518f8366d1fee86e75",
       "version_major": 2,
       "version_minor": 0
      },
      "text/plain": [
       "test:   0%|          | 0/10000 [00:00<?, ?it/s]"
      ]
     },
     "metadata": {},
     "output_type": "display_data"
    },
    {
     "name": "stdout",
     "output_type": "stream",
     "text": [
      "train: 0.53945 loss: 0.6869800145924091\n",
      "train val: 0.6369 loss: 0.6499710380554199\n",
      "test: 0.5708 loss: 0.6856694642066956\n",
      "epoch time: 65.71min\n",
      "removing /mnt/d/workspace/clotho/notebooks/checkpoints/stats_v-1_lg_39.json\n",
      "removing /mnt/d/workspace/clotho/notebooks/checkpoints/harness_v-1_lg_39.pkl\n",
      "best model: /mnt/d/workspace/clotho/notebooks/checkpoints/harness_v-1_lg_9.pkl\n",
      "best train: 0.7337\n",
      "best train val: 0.7465\n",
      "best test: 0.6634\n",
      "epoch 41 version: -1\n"
     ]
    },
    {
     "data": {
      "application/vnd.jupyter.widget-view+json": {
       "model_id": "15ec8887b944407682cd478e9ef78dd4",
       "version_major": 2,
       "version_minor": 0
      },
      "text/plain": [
       "train:   0%|          | 0/20000 [00:00<?, ?it/s]"
      ]
     },
     "metadata": {},
     "output_type": "display_data"
    },
    {
     "data": {
      "application/vnd.jupyter.widget-view+json": {
       "model_id": "4328b56d72f945a6beeb5fa33e2401a9",
       "version_major": 2,
       "version_minor": 0
      },
      "text/plain": [
       "train val:   0%|          | 0/10000 [00:00<?, ?it/s]"
      ]
     },
     "metadata": {},
     "output_type": "display_data"
    },
    {
     "data": {
      "application/vnd.jupyter.widget-view+json": {
       "model_id": "13a289c2806543e4839d36f12d5dc257",
       "version_major": 2,
       "version_minor": 0
      },
      "text/plain": [
       "test:   0%|          | 0/10000 [00:00<?, ?it/s]"
      ]
     },
     "metadata": {},
     "output_type": "display_data"
    },
    {
     "name": "stdout",
     "output_type": "stream",
     "text": [
      "train: 0.53425 loss: 0.6883702663064003\n",
      "train val: 0.653 loss: 0.6763997082471848\n",
      "test: 0.5348 loss: 0.6914915100336075\n",
      "epoch time: 65.68min\n",
      "removing /mnt/d/workspace/clotho/notebooks/checkpoints/stats_v-1_lg_40.json\n",
      "removing /mnt/d/workspace/clotho/notebooks/checkpoints/harness_v-1_lg_40.pkl\n",
      "best model: /mnt/d/workspace/clotho/notebooks/checkpoints/harness_v-1_lg_9.pkl\n",
      "best train: 0.7337\n",
      "best train val: 0.7465\n",
      "best test: 0.6634\n",
      "epoch 42 version: -1\n"
     ]
    },
    {
     "data": {
      "application/vnd.jupyter.widget-view+json": {
       "model_id": "d5bd9f8490014bcba30d08e3d163b0af",
       "version_major": 2,
       "version_minor": 0
      },
      "text/plain": [
       "train:   0%|          | 0/20000 [00:00<?, ?it/s]"
      ]
     },
     "metadata": {},
     "output_type": "display_data"
    },
    {
     "data": {
      "application/vnd.jupyter.widget-view+json": {
       "model_id": "e81d1cc9fb3e44f3be5683844dd417bb",
       "version_major": 2,
       "version_minor": 0
      },
      "text/plain": [
       "train val:   0%|          | 0/10000 [00:00<?, ?it/s]"
      ]
     },
     "metadata": {},
     "output_type": "display_data"
    },
    {
     "data": {
      "application/vnd.jupyter.widget-view+json": {
       "model_id": "469cd62dbbd44a97972cdc7fa76080c2",
       "version_major": 2,
       "version_minor": 0
      },
      "text/plain": [
       "test:   0%|          | 0/10000 [00:00<?, ?it/s]"
      ]
     },
     "metadata": {},
     "output_type": "display_data"
    },
    {
     "name": "stdout",
     "output_type": "stream",
     "text": [
      "train: 0.53845 loss: 0.688515768301487\n",
      "train val: 0.5784 loss: 0.6859009863853455\n",
      "test: 0.5665 loss: 0.6872488124847412\n",
      "epoch time: 65.74min\n",
      "removing /mnt/d/workspace/clotho/notebooks/checkpoints/stats_v-1_lg_41.json\n",
      "removing /mnt/d/workspace/clotho/notebooks/checkpoints/harness_v-1_lg_41.pkl\n",
      "best model: /mnt/d/workspace/clotho/notebooks/checkpoints/harness_v-1_lg_9.pkl\n",
      "best train: 0.7337\n",
      "best train val: 0.7465\n",
      "best test: 0.6634\n",
      "epoch 43 version: -1\n"
     ]
    },
    {
     "data": {
      "application/vnd.jupyter.widget-view+json": {
       "model_id": "092110ab91bf41b89092abf670533c02",
       "version_major": 2,
       "version_minor": 0
      },
      "text/plain": [
       "train:   0%|          | 0/20000 [00:00<?, ?it/s]"
      ]
     },
     "metadata": {},
     "output_type": "display_data"
    },
    {
     "data": {
      "application/vnd.jupyter.widget-view+json": {
       "model_id": "6c88c373f4054455876fef33b4a3722b",
       "version_major": 2,
       "version_minor": 0
      },
      "text/plain": [
       "train val:   0%|          | 0/10000 [00:00<?, ?it/s]"
      ]
     },
     "metadata": {},
     "output_type": "display_data"
    },
    {
     "data": {
      "application/vnd.jupyter.widget-view+json": {
       "model_id": "3155ab77375f4eceaac4722b832400b1",
       "version_major": 2,
       "version_minor": 0
      },
      "text/plain": [
       "test:   0%|          | 0/10000 [00:00<?, ?it/s]"
      ]
     },
     "metadata": {},
     "output_type": "display_data"
    },
    {
     "name": "stdout",
     "output_type": "stream",
     "text": [
      "train: 0.5399 loss: 0.6885556874454022\n",
      "train val: 0.648 loss: 0.645242603302002\n",
      "test: 0.5356 loss: 0.689323223042488\n",
      "epoch time: 65.92min\n",
      "removing /mnt/d/workspace/clotho/notebooks/checkpoints/stats_v-1_lg_42.json\n",
      "removing /mnt/d/workspace/clotho/notebooks/checkpoints/harness_v-1_lg_42.pkl\n",
      "best model: /mnt/d/workspace/clotho/notebooks/checkpoints/harness_v-1_lg_9.pkl\n",
      "best train: 0.7337\n",
      "best train val: 0.7465\n",
      "best test: 0.6634\n",
      "epoch 44 version: -1\n"
     ]
    },
    {
     "data": {
      "application/vnd.jupyter.widget-view+json": {
       "model_id": "016b560b46714d5f89ed4248804573fe",
       "version_major": 2,
       "version_minor": 0
      },
      "text/plain": [
       "train:   0%|          | 0/20000 [00:00<?, ?it/s]"
      ]
     },
     "metadata": {},
     "output_type": "display_data"
    },
    {
     "data": {
      "application/vnd.jupyter.widget-view+json": {
       "model_id": "0a04bcd2e7ae4301a4c0353fa6a7eac9",
       "version_major": 2,
       "version_minor": 0
      },
      "text/plain": [
       "train val:   0%|          | 0/10000 [00:00<?, ?it/s]"
      ]
     },
     "metadata": {},
     "output_type": "display_data"
    },
    {
     "data": {
      "application/vnd.jupyter.widget-view+json": {
       "model_id": "32be6eeeb86248068d0413c1c944ef79",
       "version_major": 2,
       "version_minor": 0
      },
      "text/plain": [
       "test:   0%|          | 0/10000 [00:00<?, ?it/s]"
      ]
     },
     "metadata": {},
     "output_type": "display_data"
    },
    {
     "name": "stdout",
     "output_type": "stream",
     "text": [
      "train: 0.5439 loss: 0.6898541301727295\n",
      "train val: 0.645 loss: 0.6826501605510712\n",
      "test: 0.5421 loss: 0.6909941577672959\n",
      "epoch time: 66.92min\n",
      "removing /mnt/d/workspace/clotho/notebooks/checkpoints/stats_v-1_lg_43.json\n",
      "removing /mnt/d/workspace/clotho/notebooks/checkpoints/harness_v-1_lg_43.pkl\n",
      "best model: /mnt/d/workspace/clotho/notebooks/checkpoints/harness_v-1_lg_9.pkl\n",
      "best train: 0.7337\n",
      "best train val: 0.7465\n",
      "best test: 0.6634\n",
      "epoch 45 version: -1\n"
     ]
    },
    {
     "data": {
      "application/vnd.jupyter.widget-view+json": {
       "model_id": "a91703fba7564b3c89685ad5808d7f2b",
       "version_major": 2,
       "version_minor": 0
      },
      "text/plain": [
       "train:   0%|          | 0/20000 [00:00<?, ?it/s]"
      ]
     },
     "metadata": {},
     "output_type": "display_data"
    },
    {
     "data": {
      "application/vnd.jupyter.widget-view+json": {
       "model_id": "574380c9dff84b6a94da323681f0e367",
       "version_major": 2,
       "version_minor": 0
      },
      "text/plain": [
       "train val:   0%|          | 0/10000 [00:00<?, ?it/s]"
      ]
     },
     "metadata": {},
     "output_type": "display_data"
    },
    {
     "data": {
      "application/vnd.jupyter.widget-view+json": {
       "model_id": "83c570f901174b64bff79f5b34397624",
       "version_major": 2,
       "version_minor": 0
      },
      "text/plain": [
       "test:   0%|          | 0/10000 [00:00<?, ?it/s]"
      ]
     },
     "metadata": {},
     "output_type": "display_data"
    },
    {
     "name": "stdout",
     "output_type": "stream",
     "text": [
      "train: 0.54925 loss: 0.6851935105144977\n",
      "train val: 0.6441 loss: 0.6642518845796586\n",
      "test: 0.4925 loss: 0.6905678519010544\n",
      "epoch time: 66.51min\n",
      "removing /mnt/d/workspace/clotho/notebooks/checkpoints/stats_v-1_lg_44.json\n",
      "removing /mnt/d/workspace/clotho/notebooks/checkpoints/harness_v-1_lg_44.pkl\n",
      "best model: /mnt/d/workspace/clotho/notebooks/checkpoints/harness_v-1_lg_9.pkl\n",
      "best train: 0.7337\n",
      "best train val: 0.7465\n",
      "best test: 0.6634\n",
      "epoch 46 version: -1\n"
     ]
    },
    {
     "data": {
      "application/vnd.jupyter.widget-view+json": {
       "model_id": "eb12bd5f18e044a1a73a7ca6df5a2433",
       "version_major": 2,
       "version_minor": 0
      },
      "text/plain": [
       "train:   0%|          | 0/20000 [00:00<?, ?it/s]"
      ]
     },
     "metadata": {},
     "output_type": "display_data"
    },
    {
     "data": {
      "application/vnd.jupyter.widget-view+json": {
       "model_id": "2513e5035f9b4e2f9e520d715a06cffa",
       "version_major": 2,
       "version_minor": 0
      },
      "text/plain": [
       "train val:   0%|          | 0/10000 [00:00<?, ?it/s]"
      ]
     },
     "metadata": {},
     "output_type": "display_data"
    },
    {
     "data": {
      "application/vnd.jupyter.widget-view+json": {
       "model_id": "951e220696db4ddbb9a0de8d727b2d12",
       "version_major": 2,
       "version_minor": 0
      },
      "text/plain": [
       "test:   0%|          | 0/10000 [00:00<?, ?it/s]"
      ]
     },
     "metadata": {},
     "output_type": "display_data"
    },
    {
     "name": "stdout",
     "output_type": "stream",
     "text": [
      "train: 0.5185 loss: 12.20790597992357\n",
      "train val: 0.4435 loss: 1.7466171405995266\n",
      "test: 0.5166 loss: 1.2513931032991037\n",
      "epoch time: 67.18min\n",
      "removing /mnt/d/workspace/clotho/notebooks/checkpoints/stats_v-1_lg_45.json\n",
      "removing /mnt/d/workspace/clotho/notebooks/checkpoints/harness_v-1_lg_45.pkl\n",
      "best model: /mnt/d/workspace/clotho/notebooks/checkpoints/harness_v-1_lg_9.pkl\n",
      "best train: 0.7337\n",
      "best train val: 0.7465\n",
      "best test: 0.6634\n",
      "epoch 47 version: -1\n"
     ]
    },
    {
     "data": {
      "application/vnd.jupyter.widget-view+json": {
       "model_id": "83b76d3f7a2149949e08ba44b37e839c",
       "version_major": 2,
       "version_minor": 0
      },
      "text/plain": [
       "train:   0%|          | 0/20000 [00:00<?, ?it/s]"
      ]
     },
     "metadata": {},
     "output_type": "display_data"
    },
    {
     "data": {
      "application/vnd.jupyter.widget-view+json": {
       "model_id": "c8b036515027429498b412e05e9376e6",
       "version_major": 2,
       "version_minor": 0
      },
      "text/plain": [
       "train val:   0%|          | 0/10000 [00:00<?, ?it/s]"
      ]
     },
     "metadata": {},
     "output_type": "display_data"
    },
    {
     "data": {
      "application/vnd.jupyter.widget-view+json": {
       "model_id": "571e92626b16447a971d97a2960ff1ef",
       "version_major": 2,
       "version_minor": 0
      },
      "text/plain": [
       "test:   0%|          | 0/10000 [00:00<?, ?it/s]"
      ]
     },
     "metadata": {},
     "output_type": "display_data"
    },
    {
     "name": "stdout",
     "output_type": "stream",
     "text": [
      "train: 0.4909 loss: 1.2622984707683325\n",
      "train val: 0.5306 loss: 1.3127774934816756\n",
      "test: 0.5322 loss: 1.5035777140080928\n",
      "epoch time: 66.25min\n",
      "removing /mnt/d/workspace/clotho/notebooks/checkpoints/stats_v-1_lg_46.json\n",
      "removing /mnt/d/workspace/clotho/notebooks/checkpoints/harness_v-1_lg_46.pkl\n",
      "best model: /mnt/d/workspace/clotho/notebooks/checkpoints/harness_v-1_lg_9.pkl\n",
      "best train: 0.7337\n",
      "best train val: 0.7465\n",
      "best test: 0.6634\n",
      "epoch 48 version: -1\n"
     ]
    },
    {
     "data": {
      "application/vnd.jupyter.widget-view+json": {
       "model_id": "08680e66c61a49929a8285c037c2344d",
       "version_major": 2,
       "version_minor": 0
      },
      "text/plain": [
       "train:   0%|          | 0/20000 [00:00<?, ?it/s]"
      ]
     },
     "metadata": {},
     "output_type": "display_data"
    },
    {
     "data": {
      "application/vnd.jupyter.widget-view+json": {
       "model_id": "23692d869c3a4911a285044bf45ebac8",
       "version_major": 2,
       "version_minor": 0
      },
      "text/plain": [
       "train val:   0%|          | 0/10000 [00:00<?, ?it/s]"
      ]
     },
     "metadata": {},
     "output_type": "display_data"
    },
    {
     "data": {
      "application/vnd.jupyter.widget-view+json": {
       "model_id": "5391a8c5d51d41efa0e288fa34898052",
       "version_major": 2,
       "version_minor": 0
      },
      "text/plain": [
       "test:   0%|          | 0/10000 [00:00<?, ?it/s]"
      ]
     },
     "metadata": {},
     "output_type": "display_data"
    },
    {
     "name": "stdout",
     "output_type": "stream",
     "text": [
      "train: 0.49655 loss: 1.2839166937515138\n",
      "train val: 0.5668 loss: 1.061266103972774\n",
      "test: 0.5094 loss: 1.2670067267835141\n",
      "epoch time: 65.43min\n",
      "removing /mnt/d/workspace/clotho/notebooks/checkpoints/stats_v-1_lg_47.json\n",
      "removing /mnt/d/workspace/clotho/notebooks/checkpoints/harness_v-1_lg_47.pkl\n",
      "best model: /mnt/d/workspace/clotho/notebooks/checkpoints/harness_v-1_lg_9.pkl\n",
      "best train: 0.7337\n",
      "best train val: 0.7465\n",
      "best test: 0.6634\n",
      "epoch 49 version: -1\n"
     ]
    },
    {
     "data": {
      "application/vnd.jupyter.widget-view+json": {
       "model_id": "ccbfa390f0f6433f9372ef619a1e6532",
       "version_major": 2,
       "version_minor": 0
      },
      "text/plain": [
       "train:   0%|          | 0/20000 [00:00<?, ?it/s]"
      ]
     },
     "metadata": {},
     "output_type": "display_data"
    },
    {
     "data": {
      "application/vnd.jupyter.widget-view+json": {
       "model_id": "5f0b656710d74910bdc905b54cc4fc3e",
       "version_major": 2,
       "version_minor": 0
      },
      "text/plain": [
       "train val:   0%|          | 0/10000 [00:00<?, ?it/s]"
      ]
     },
     "metadata": {},
     "output_type": "display_data"
    },
    {
     "data": {
      "application/vnd.jupyter.widget-view+json": {
       "model_id": "884aefa1815346ccacc2768ee0b1b770",
       "version_major": 2,
       "version_minor": 0
      },
      "text/plain": [
       "test:   0%|          | 0/10000 [00:00<?, ?it/s]"
      ]
     },
     "metadata": {},
     "output_type": "display_data"
    },
    {
     "name": "stdout",
     "output_type": "stream",
     "text": [
      "train: 0.5002 loss: 0.860401170179993\n",
      "train val: 0.5807 loss: 0.7863804888010025\n",
      "test: 0.4877 loss: 1.0702834311813116\n",
      "epoch time: 65.83min\n",
      "removing /mnt/d/workspace/clotho/notebooks/checkpoints/stats_v-1_lg_48.json\n",
      "removing /mnt/d/workspace/clotho/notebooks/checkpoints/harness_v-1_lg_48.pkl\n",
      "best model: /mnt/d/workspace/clotho/notebooks/checkpoints/harness_v-1_lg_9.pkl\n",
      "best train: 0.7337\n",
      "best train val: 0.7465\n",
      "best test: 0.6634\n",
      "epoch 50 version: -1\n"
     ]
    },
    {
     "data": {
      "application/vnd.jupyter.widget-view+json": {
       "model_id": "49c1b50791e94bdaa605d6b322d37a51",
       "version_major": 2,
       "version_minor": 0
      },
      "text/plain": [
       "train:   0%|          | 0/20000 [00:00<?, ?it/s]"
      ]
     },
     "metadata": {},
     "output_type": "display_data"
    },
    {
     "data": {
      "application/vnd.jupyter.widget-view+json": {
       "model_id": "debbcf100ec54073b74089f320da61ec",
       "version_major": 2,
       "version_minor": 0
      },
      "text/plain": [
       "train val:   0%|          | 0/10000 [00:00<?, ?it/s]"
      ]
     },
     "metadata": {},
     "output_type": "display_data"
    },
    {
     "data": {
      "application/vnd.jupyter.widget-view+json": {
       "model_id": "3efd8de779bd47b0ab766a0f9a730bc6",
       "version_major": 2,
       "version_minor": 0
      },
      "text/plain": [
       "test:   0%|          | 0/10000 [00:00<?, ?it/s]"
      ]
     },
     "metadata": {},
     "output_type": "display_data"
    },
    {
     "name": "stdout",
     "output_type": "stream",
     "text": [
      "train: 0.5014 loss: 0.7436237547576428\n",
      "train val: 0.5538 loss: 0.7094054953217507\n",
      "test: 0.4903 loss: 0.8441942376971244\n",
      "epoch time: 65.72min\n",
      "removing /mnt/d/workspace/clotho/notebooks/checkpoints/stats_v-1_lg_49.json\n",
      "removing /mnt/d/workspace/clotho/notebooks/checkpoints/harness_v-1_lg_49.pkl\n",
      "best model: /mnt/d/workspace/clotho/notebooks/checkpoints/harness_v-1_lg_9.pkl\n",
      "best train: 0.7337\n",
      "best train val: 0.7465\n",
      "best test: 0.6634\n",
      "epoch 51 version: -1\n"
     ]
    },
    {
     "data": {
      "application/vnd.jupyter.widget-view+json": {
       "model_id": "13c3208a2d854481a60db66b2c6ca79e",
       "version_major": 2,
       "version_minor": 0
      },
      "text/plain": [
       "train:   0%|          | 0/20000 [00:00<?, ?it/s]"
      ]
     },
     "metadata": {},
     "output_type": "display_data"
    },
    {
     "data": {
      "application/vnd.jupyter.widget-view+json": {
       "model_id": "300612cba68540febbd14f16505621ad",
       "version_major": 2,
       "version_minor": 0
      },
      "text/plain": [
       "train val:   0%|          | 0/10000 [00:00<?, ?it/s]"
      ]
     },
     "metadata": {},
     "output_type": "display_data"
    },
    {
     "data": {
      "application/vnd.jupyter.widget-view+json": {
       "model_id": "26c31d49c20f496dbb89c2c921fcd639",
       "version_major": 2,
       "version_minor": 0
      },
      "text/plain": [
       "test:   0%|          | 0/10000 [00:00<?, ?it/s]"
      ]
     },
     "metadata": {},
     "output_type": "display_data"
    },
    {
     "name": "stdout",
     "output_type": "stream",
     "text": [
      "train: 0.5045 loss: 0.7321800852745771\n",
      "train val: 0.5816 loss: 0.667969212937355\n",
      "test: 0.4938 loss: 0.770508302628994\n",
      "epoch time: 65.14min\n",
      "removing /mnt/d/workspace/clotho/notebooks/checkpoints/stats_v-1_lg_50.json\n",
      "removing /mnt/d/workspace/clotho/notebooks/checkpoints/harness_v-1_lg_50.pkl\n",
      "best model: /mnt/d/workspace/clotho/notebooks/checkpoints/harness_v-1_lg_9.pkl\n",
      "best train: 0.7337\n",
      "best train val: 0.7465\n",
      "best test: 0.6634\n",
      "epoch 52 version: -1\n"
     ]
    },
    {
     "data": {
      "application/vnd.jupyter.widget-view+json": {
       "model_id": "e0b16074f27b440e989cee71cdf9b8ca",
       "version_major": 2,
       "version_minor": 0
      },
      "text/plain": [
       "train:   0%|          | 0/20000 [00:00<?, ?it/s]"
      ]
     },
     "metadata": {},
     "output_type": "display_data"
    },
    {
     "data": {
      "application/vnd.jupyter.widget-view+json": {
       "model_id": "6048e1de25d641f0b1e7c5f44cb7ec3f",
       "version_major": 2,
       "version_minor": 0
      },
      "text/plain": [
       "train val:   0%|          | 0/10000 [00:00<?, ?it/s]"
      ]
     },
     "metadata": {},
     "output_type": "display_data"
    },
    {
     "data": {
      "application/vnd.jupyter.widget-view+json": {
       "model_id": "20c2f5daaf8b4d04a8e63623682251c9",
       "version_major": 2,
       "version_minor": 0
      },
      "text/plain": [
       "test:   0%|          | 0/10000 [00:00<?, ?it/s]"
      ]
     },
     "metadata": {},
     "output_type": "display_data"
    },
    {
     "name": "stdout",
     "output_type": "stream",
     "text": [
      "train: 0.50285 loss: 0.7201367681503296\n",
      "train val: 0.5147 loss: 0.8068828493118286\n",
      "test: 0.4779 loss: 0.7845135511040687\n",
      "epoch time: 65.77min\n",
      "removing /mnt/d/workspace/clotho/notebooks/checkpoints/stats_v-1_lg_51.json\n",
      "removing /mnt/d/workspace/clotho/notebooks/checkpoints/harness_v-1_lg_51.pkl\n",
      "best model: /mnt/d/workspace/clotho/notebooks/checkpoints/harness_v-1_lg_9.pkl\n",
      "best train: 0.7337\n",
      "best train val: 0.7465\n",
      "best test: 0.6634\n",
      "epoch 53 version: -1\n"
     ]
    },
    {
     "data": {
      "application/vnd.jupyter.widget-view+json": {
       "model_id": "fe5f22459f2d471bbc242089a2fd5994",
       "version_major": 2,
       "version_minor": 0
      },
      "text/plain": [
       "train:   0%|          | 0/20000 [00:00<?, ?it/s]"
      ]
     },
     "metadata": {},
     "output_type": "display_data"
    },
    {
     "data": {
      "application/vnd.jupyter.widget-view+json": {
       "model_id": "e6b53553628c4d69988ef07bbfaac54b",
       "version_major": 2,
       "version_minor": 0
      },
      "text/plain": [
       "train val:   0%|          | 0/10000 [00:00<?, ?it/s]"
      ]
     },
     "metadata": {},
     "output_type": "display_data"
    },
    {
     "data": {
      "application/vnd.jupyter.widget-view+json": {
       "model_id": "9015888e725543b69cf24a9d8096dd85",
       "version_major": 2,
       "version_minor": 0
      },
      "text/plain": [
       "test:   0%|          | 0/10000 [00:00<?, ?it/s]"
      ]
     },
     "metadata": {},
     "output_type": "display_data"
    },
    {
     "name": "stdout",
     "output_type": "stream",
     "text": [
      "train: 0.5182 loss: 0.7132859681665897\n",
      "train val: 0.5697 loss: 0.6854851551175117\n",
      "test: 0.5282 loss: 0.6951639296174049\n",
      "epoch time: 65.84min\n",
      "removing /mnt/d/workspace/clotho/notebooks/checkpoints/stats_v-1_lg_52.json\n",
      "removing /mnt/d/workspace/clotho/notebooks/checkpoints/harness_v-1_lg_52.pkl\n",
      "best model: /mnt/d/workspace/clotho/notebooks/checkpoints/harness_v-1_lg_9.pkl\n",
      "best train: 0.7337\n",
      "best train val: 0.7465\n",
      "best test: 0.6634\n",
      "epoch 54 version: -1\n"
     ]
    },
    {
     "data": {
      "application/vnd.jupyter.widget-view+json": {
       "model_id": "1534b9774e284ca4b20ab51cd044af3d",
       "version_major": 2,
       "version_minor": 0
      },
      "text/plain": [
       "train:   0%|          | 0/20000 [00:00<?, ?it/s]"
      ]
     },
     "metadata": {},
     "output_type": "display_data"
    },
    {
     "data": {
      "application/vnd.jupyter.widget-view+json": {
       "model_id": "c013b5f87157423da5bb5aff6fd99df8",
       "version_major": 2,
       "version_minor": 0
      },
      "text/plain": [
       "train val:   0%|          | 0/10000 [00:00<?, ?it/s]"
      ]
     },
     "metadata": {},
     "output_type": "display_data"
    },
    {
     "data": {
      "application/vnd.jupyter.widget-view+json": {
       "model_id": "be52ab28491945e2844831b7b62cc19a",
       "version_major": 2,
       "version_minor": 0
      },
      "text/plain": [
       "test:   0%|          | 0/10000 [00:00<?, ?it/s]"
      ]
     },
     "metadata": {},
     "output_type": "display_data"
    },
    {
     "name": "stdout",
     "output_type": "stream",
     "text": [
      "train: 0.497 loss: 0.7181250051140785\n",
      "train val: 0.5475 loss: 0.69310445394516\n",
      "test: 0.515 loss: 0.6931368347167969\n",
      "epoch time: 65.82min\n",
      "removing /mnt/d/workspace/clotho/notebooks/checkpoints/stats_v-1_lg_53.json\n",
      "removing /mnt/d/workspace/clotho/notebooks/checkpoints/harness_v-1_lg_53.pkl\n",
      "best model: /mnt/d/workspace/clotho/notebooks/checkpoints/harness_v-1_lg_9.pkl\n",
      "best train: 0.7337\n",
      "best train val: 0.7465\n",
      "best test: 0.6634\n",
      "epoch 55 version: -1\n"
     ]
    },
    {
     "data": {
      "application/vnd.jupyter.widget-view+json": {
       "model_id": "c21283a3209742edb084f0efd7cfc589",
       "version_major": 2,
       "version_minor": 0
      },
      "text/plain": [
       "train:   0%|          | 0/20000 [00:00<?, ?it/s]"
      ]
     },
     "metadata": {},
     "output_type": "display_data"
    },
    {
     "data": {
      "application/vnd.jupyter.widget-view+json": {
       "model_id": "87d43dfa477b4cdea37c810614453898",
       "version_major": 2,
       "version_minor": 0
      },
      "text/plain": [
       "train val:   0%|          | 0/10000 [00:00<?, ?it/s]"
      ]
     },
     "metadata": {},
     "output_type": "display_data"
    },
    {
     "data": {
      "application/vnd.jupyter.widget-view+json": {
       "model_id": "63e2900de4c34e77a3075a9b5ec1b537",
       "version_major": 2,
       "version_minor": 0
      },
      "text/plain": [
       "test:   0%|          | 0/10000 [00:00<?, ?it/s]"
      ]
     },
     "metadata": {},
     "output_type": "display_data"
    },
    {
     "name": "stdout",
     "output_type": "stream",
     "text": [
      "train: 0.5025 loss: 0.7110036652088165\n",
      "train val: 0.6113 loss: 0.7071880479574203\n",
      "test: 0.4941 loss: 0.699552565741539\n",
      "epoch time: 65.72min\n",
      "removing /mnt/d/workspace/clotho/notebooks/checkpoints/stats_v-1_lg_54.json\n",
      "removing /mnt/d/workspace/clotho/notebooks/checkpoints/harness_v-1_lg_54.pkl\n",
      "best model: /mnt/d/workspace/clotho/notebooks/checkpoints/harness_v-1_lg_9.pkl\n",
      "best train: 0.7337\n",
      "best train val: 0.7465\n",
      "best test: 0.6634\n",
      "epoch 56 version: -1\n"
     ]
    },
    {
     "data": {
      "application/vnd.jupyter.widget-view+json": {
       "model_id": "07222f8cc09c49b4a27a2b111a2e3afe",
       "version_major": 2,
       "version_minor": 0
      },
      "text/plain": [
       "train:   0%|          | 0/20000 [00:00<?, ?it/s]"
      ]
     },
     "metadata": {},
     "output_type": "display_data"
    },
    {
     "data": {
      "application/vnd.jupyter.widget-view+json": {
       "model_id": "27a3c6d4ee7649dfbedf0d980652f2b6",
       "version_major": 2,
       "version_minor": 0
      },
      "text/plain": [
       "train val:   0%|          | 0/10000 [00:00<?, ?it/s]"
      ]
     },
     "metadata": {},
     "output_type": "display_data"
    },
    {
     "data": {
      "application/vnd.jupyter.widget-view+json": {
       "model_id": "60cfa09a7d43471b89991447a9d2cddc",
       "version_major": 2,
       "version_minor": 0
      },
      "text/plain": [
       "test:   0%|          | 0/10000 [00:00<?, ?it/s]"
      ]
     },
     "metadata": {},
     "output_type": "display_data"
    },
    {
     "name": "stdout",
     "output_type": "stream",
     "text": [
      "train: 0.501 loss: 0.7139543634533883\n",
      "train val: 0.6272 loss: 0.6930973109483719\n",
      "test: 0.5103 loss: 0.6931457367658616\n",
      "epoch time: 65.84min\n",
      "removing /mnt/d/workspace/clotho/notebooks/checkpoints/stats_v-1_lg_55.json\n",
      "removing /mnt/d/workspace/clotho/notebooks/checkpoints/harness_v-1_lg_55.pkl\n",
      "best model: /mnt/d/workspace/clotho/notebooks/checkpoints/harness_v-1_lg_9.pkl\n",
      "best train: 0.7337\n",
      "best train val: 0.7465\n",
      "best test: 0.6634\n",
      "epoch 57 version: -1\n"
     ]
    },
    {
     "data": {
      "application/vnd.jupyter.widget-view+json": {
       "model_id": "a1860b7a2fc140d08157818ff88bede9",
       "version_major": 2,
       "version_minor": 0
      },
      "text/plain": [
       "train:   0%|          | 0/20000 [00:00<?, ?it/s]"
      ]
     },
     "metadata": {},
     "output_type": "display_data"
    },
    {
     "data": {
      "application/vnd.jupyter.widget-view+json": {
       "model_id": "4b2d515b7ea24f4fb43bf9d6c6cfee75",
       "version_major": 2,
       "version_minor": 0
      },
      "text/plain": [
       "train val:   0%|          | 0/10000 [00:00<?, ?it/s]"
      ]
     },
     "metadata": {},
     "output_type": "display_data"
    },
    {
     "data": {
      "application/vnd.jupyter.widget-view+json": {
       "model_id": "0663172e57954465b3679f87c90598e9",
       "version_major": 2,
       "version_minor": 0
      },
      "text/plain": [
       "test:   0%|          | 0/10000 [00:00<?, ?it/s]"
      ]
     },
     "metadata": {},
     "output_type": "display_data"
    },
    {
     "name": "stdout",
     "output_type": "stream",
     "text": [
      "train: 0.5049 loss: 0.7038577502727509\n",
      "train val: 0.6362 loss: 0.6863592820882797\n",
      "test: 0.4959 loss: 0.6927034093618393\n",
      "epoch time: 66.02min\n",
      "removing /mnt/d/workspace/clotho/notebooks/checkpoints/stats_v-1_lg_56.json\n",
      "removing /mnt/d/workspace/clotho/notebooks/checkpoints/harness_v-1_lg_56.pkl\n",
      "best model: /mnt/d/workspace/clotho/notebooks/checkpoints/harness_v-1_lg_9.pkl\n",
      "best train: 0.7337\n",
      "best train val: 0.7465\n",
      "best test: 0.6634\n",
      "epoch 58 version: -1\n"
     ]
    },
    {
     "data": {
      "application/vnd.jupyter.widget-view+json": {
       "model_id": "c3c82767a19d424cabc3450343e7860f",
       "version_major": 2,
       "version_minor": 0
      },
      "text/plain": [
       "train:   0%|          | 0/20000 [00:00<?, ?it/s]"
      ]
     },
     "metadata": {},
     "output_type": "display_data"
    },
    {
     "data": {
      "application/vnd.jupyter.widget-view+json": {
       "model_id": "77d39b85c2584013b6fbf6d64ead8d03",
       "version_major": 2,
       "version_minor": 0
      },
      "text/plain": [
       "train val:   0%|          | 0/10000 [00:00<?, ?it/s]"
      ]
     },
     "metadata": {},
     "output_type": "display_data"
    },
    {
     "data": {
      "application/vnd.jupyter.widget-view+json": {
       "model_id": "8d7fc72b2a064fada0521093682a7822",
       "version_major": 2,
       "version_minor": 0
      },
      "text/plain": [
       "test:   0%|          | 0/10000 [00:00<?, ?it/s]"
      ]
     },
     "metadata": {},
     "output_type": "display_data"
    },
    {
     "name": "stdout",
     "output_type": "stream",
     "text": [
      "train: 0.54255 loss: 0.6884071791768074\n",
      "train val: 0.6404 loss: 0.6692726778745651\n",
      "test: 0.5044 loss: 0.6931133211135865\n",
      "epoch time: 66.39min\n",
      "removing /mnt/d/workspace/clotho/notebooks/checkpoints/stats_v-1_lg_57.json\n",
      "removing /mnt/d/workspace/clotho/notebooks/checkpoints/harness_v-1_lg_57.pkl\n",
      "best model: /mnt/d/workspace/clotho/notebooks/checkpoints/harness_v-1_lg_9.pkl\n",
      "best train: 0.7337\n",
      "best train val: 0.7465\n",
      "best test: 0.6634\n",
      "epoch 59 version: -1\n"
     ]
    },
    {
     "data": {
      "application/vnd.jupyter.widget-view+json": {
       "model_id": "9f2cf67e25c241cb80221f666af8e4a8",
       "version_major": 2,
       "version_minor": 0
      },
      "text/plain": [
       "train:   0%|          | 0/20000 [00:00<?, ?it/s]"
      ]
     },
     "metadata": {},
     "output_type": "display_data"
    },
    {
     "data": {
      "application/vnd.jupyter.widget-view+json": {
       "model_id": "5465d99cc84b4913ae1a4ae568fda007",
       "version_major": 2,
       "version_minor": 0
      },
      "text/plain": [
       "train val:   0%|          | 0/10000 [00:00<?, ?it/s]"
      ]
     },
     "metadata": {},
     "output_type": "display_data"
    },
    {
     "data": {
      "application/vnd.jupyter.widget-view+json": {
       "model_id": "3dd6550e35ec4685be9d5c76faf10c26",
       "version_major": 2,
       "version_minor": 0
      },
      "text/plain": [
       "test:   0%|          | 0/10000 [00:00<?, ?it/s]"
      ]
     },
     "metadata": {},
     "output_type": "display_data"
    },
    {
     "name": "stdout",
     "output_type": "stream",
     "text": [
      "train: 0.53955 loss: 0.6884966018676758\n",
      "train val: 0.6435 loss: 0.6569396741628647\n",
      "test: 0.521 loss: 0.6904873997926712\n",
      "epoch time: 66.00min\n",
      "removing /mnt/d/workspace/clotho/notebooks/checkpoints/stats_v-1_lg_58.json\n",
      "removing /mnt/d/workspace/clotho/notebooks/checkpoints/harness_v-1_lg_58.pkl\n",
      "best model: /mnt/d/workspace/clotho/notebooks/checkpoints/harness_v-1_lg_9.pkl\n",
      "best train: 0.7337\n",
      "best train val: 0.7465\n",
      "best test: 0.6634\n"
     ]
    },
    {
     "data": {
      "application/vnd.jupyter.widget-view+json": {
       "model_id": "5982c11331e0490eb326288627db8880",
       "version_major": 2,
       "version_minor": 0
      },
      "text/plain": [
       "test val:   0%|          | 0/10000 [00:00<?, ?it/s]"
      ]
     },
     "metadata": {},
     "output_type": "display_data"
    },
    {
     "name": "stdout",
     "output_type": "stream",
     "text": [
      "test val: {'accuracy': 0.5233} loss: 0.6902335128307343\n",
      "correct\n"
     ]
    },
    {
     "data": {
      "text/html": [
       "<div>\n",
       "<style scoped>\n",
       "    .dataframe tbody tr th:only-of-type {\n",
       "        vertical-align: middle;\n",
       "    }\n",
       "\n",
       "    .dataframe tbody tr th {\n",
       "        vertical-align: top;\n",
       "    }\n",
       "\n",
       "    .dataframe thead th {\n",
       "        text-align: right;\n",
       "    }\n",
       "</style>\n",
       "<table border=\"1\" class=\"dataframe\">\n",
       "  <thead>\n",
       "    <tr style=\"text-align: right;\">\n",
       "      <th></th>\n",
       "      <th>gen_name</th>\n",
       "      <th>parent_left</th>\n",
       "      <th>child_left</th>\n",
       "      <th>parent_right</th>\n",
       "      <th>child_right</th>\n",
       "      <th>score_left</th>\n",
       "      <th>score_right</th>\n",
       "      <th>correct_is_right</th>\n",
       "      <th>logit_left</th>\n",
       "      <th>logit_right</th>\n",
       "      <th>preds</th>\n",
       "      <th>truth</th>\n",
       "    </tr>\n",
       "  </thead>\n",
       "  <tbody>\n",
       "    <tr>\n",
       "      <th>2</th>\n",
       "      <td>random--valid_weak;(st)</td>\n",
       "      <td>White Lotus</td>\n",
       "      <td>She Heard</td>\n",
       "      <td>Sewing. Sewing is awesome. I learned basic sew...</td>\n",
       "      <td>I started sewing to make a quilt out of a pile...</td>\n",
       "      <td>0</td>\n",
       "      <td>3</td>\n",
       "      <td>True</td>\n",
       "      <td>0.470809</td>\n",
       "      <td>0.529191</td>\n",
       "      <td>1</td>\n",
       "      <td>1</td>\n",
       "    </tr>\n",
       "    <tr>\n",
       "      <th>1</th>\n",
       "      <td>random--valid_weak;(st)</td>\n",
       "      <td>i was gonna say, he knocks it out of the park ...</td>\n",
       "      <td>when itv drugs you and ruins your life fuck th...</td>\n",
       "      <td>[Serious] How would you react if your partner ...</td>\n",
       "      <td>Immediate breakup.</td>\n",
       "      <td>0</td>\n",
       "      <td>1</td>\n",
       "      <td>True</td>\n",
       "      <td>0.495197</td>\n",
       "      <td>0.504803</td>\n",
       "      <td>1</td>\n",
       "      <td>1</td>\n",
       "    </tr>\n",
       "    <tr>\n",
       "      <th>0</th>\n",
       "      <td>*valid_weak--random;(st)</td>\n",
       "      <td>&gt;Some day true 3D will be invented with true e...</td>\n",
       "      <td>It will also put strain on your eyes with exte...</td>\n",
       "      <td>Hard to find someone to suck it.</td>\n",
       "      <td>I'm with you 100% on Radiohead. All of their s...</td>\n",
       "      <td>8</td>\n",
       "      <td>0</td>\n",
       "      <td>False</td>\n",
       "      <td>0.521068</td>\n",
       "      <td>0.478932</td>\n",
       "      <td>0</td>\n",
       "      <td>0</td>\n",
       "    </tr>\n",
       "    <tr>\n",
       "      <th>1</th>\n",
       "      <td>*valid_weak--!copy;(st)</td>\n",
       "      <td>How do men feel about the \"men will fuck anyth...</td>\n",
       "      <td>I can't imagine what you expected when you pos...</td>\n",
       "      <td>I can't imagine what you expected when you pos...</td>\n",
       "      <td>How do men feel about the \"men will fuck anyth...</td>\n",
       "      <td>1</td>\n",
       "      <td>0</td>\n",
       "      <td>False</td>\n",
       "      <td>0.500000</td>\n",
       "      <td>0.500000</td>\n",
       "      <td>0</td>\n",
       "      <td>0</td>\n",
       "    </tr>\n",
       "    <tr>\n",
       "      <th>2</th>\n",
       "      <td>*valid_weak--random;(st)</td>\n",
       "      <td>https://youtu.be/_BtemfoJ-WI</td>\n",
       "      <td>I looked it up, and this aired on November 18,...</td>\n",
       "      <td>I have phimosis, a condition that causes the f...</td>\n",
       "      <td>Elizabeth.</td>\n",
       "      <td>29</td>\n",
       "      <td>0</td>\n",
       "      <td>False</td>\n",
       "      <td>0.536681</td>\n",
       "      <td>0.463319</td>\n",
       "      <td>0</td>\n",
       "      <td>0</td>\n",
       "    </tr>\n",
       "  </tbody>\n",
       "</table>\n",
       "</div>"
      ],
      "text/plain": [
       "                   gen_name  \\\n",
       "2   random--valid_weak;(st)   \n",
       "1   random--valid_weak;(st)   \n",
       "0  *valid_weak--random;(st)   \n",
       "1   *valid_weak--!copy;(st)   \n",
       "2  *valid_weak--random;(st)   \n",
       "\n",
       "                                         parent_left  \\\n",
       "2                                        White Lotus   \n",
       "1  i was gonna say, he knocks it out of the park ...   \n",
       "0  >Some day true 3D will be invented with true e...   \n",
       "1  How do men feel about the \"men will fuck anyth...   \n",
       "2                       https://youtu.be/_BtemfoJ-WI   \n",
       "\n",
       "                                          child_left  \\\n",
       "2                                          She Heard   \n",
       "1  when itv drugs you and ruins your life fuck th...   \n",
       "0  It will also put strain on your eyes with exte...   \n",
       "1  I can't imagine what you expected when you pos...   \n",
       "2  I looked it up, and this aired on November 18,...   \n",
       "\n",
       "                                        parent_right  \\\n",
       "2  Sewing. Sewing is awesome. I learned basic sew...   \n",
       "1  [Serious] How would you react if your partner ...   \n",
       "0                   Hard to find someone to suck it.   \n",
       "1  I can't imagine what you expected when you pos...   \n",
       "2  I have phimosis, a condition that causes the f...   \n",
       "\n",
       "                                         child_right  score_left  score_right  \\\n",
       "2  I started sewing to make a quilt out of a pile...           0            3   \n",
       "1                                 Immediate breakup.           0            1   \n",
       "0  I'm with you 100% on Radiohead. All of their s...           8            0   \n",
       "1  How do men feel about the \"men will fuck anyth...           1            0   \n",
       "2                                         Elizabeth.          29            0   \n",
       "\n",
       "   correct_is_right  logit_left  logit_right  preds  truth  \n",
       "2              True    0.470809     0.529191      1      1  \n",
       "1              True    0.495197     0.504803      1      1  \n",
       "0             False    0.521068     0.478932      0      0  \n",
       "1             False    0.500000     0.500000      0      0  \n",
       "2             False    0.536681     0.463319      0      0  "
      ]
     },
     "metadata": {},
     "output_type": "display_data"
    },
    {
     "name": "stdout",
     "output_type": "stream",
     "text": [
      "incorrect\n"
     ]
    },
    {
     "data": {
      "text/html": [
       "<div>\n",
       "<style scoped>\n",
       "    .dataframe tbody tr th:only-of-type {\n",
       "        vertical-align: middle;\n",
       "    }\n",
       "\n",
       "    .dataframe tbody tr th {\n",
       "        vertical-align: top;\n",
       "    }\n",
       "\n",
       "    .dataframe thead th {\n",
       "        text-align: right;\n",
       "    }\n",
       "</style>\n",
       "<table border=\"1\" class=\"dataframe\">\n",
       "  <thead>\n",
       "    <tr style=\"text-align: right;\">\n",
       "      <th></th>\n",
       "      <th>gen_name</th>\n",
       "      <th>parent_left</th>\n",
       "      <th>child_left</th>\n",
       "      <th>parent_right</th>\n",
       "      <th>child_right</th>\n",
       "      <th>score_left</th>\n",
       "      <th>score_right</th>\n",
       "      <th>correct_is_right</th>\n",
       "      <th>logit_left</th>\n",
       "      <th>logit_right</th>\n",
       "      <th>preds</th>\n",
       "      <th>truth</th>\n",
       "    </tr>\n",
       "  </thead>\n",
       "  <tbody>\n",
       "    <tr>\n",
       "      <th>0</th>\n",
       "      <td>!copy--valid_weak;(st)</td>\n",
       "      <td>Well, shit dude.</td>\n",
       "      <td>Everyone in my family is nagging me with the f...</td>\n",
       "      <td>Everyone in my family is nagging me with the f...</td>\n",
       "      <td>Well, shit dude.</td>\n",
       "      <td>0</td>\n",
       "      <td>1</td>\n",
       "      <td>True</td>\n",
       "      <td>0.500004</td>\n",
       "      <td>0.499996</td>\n",
       "      <td>0</td>\n",
       "      <td>1</td>\n",
       "    </tr>\n",
       "    <tr>\n",
       "      <th>1</th>\n",
       "      <td>*valid_weak--!copy;(st)</td>\n",
       "      <td>Not using 1-10, how attractive are you?</td>\n",
       "      <td>Let's just say my Facebook relationship status...</td>\n",
       "      <td>Let's just say my Facebook relationship status...</td>\n",
       "      <td>Not using 1-10, how attractive are you?</td>\n",
       "      <td>1</td>\n",
       "      <td>0</td>\n",
       "      <td>False</td>\n",
       "      <td>0.499996</td>\n",
       "      <td>0.500004</td>\n",
       "      <td>1</td>\n",
       "      <td>0</td>\n",
       "    </tr>\n",
       "    <tr>\n",
       "      <th>3</th>\n",
       "      <td>random--valid_weak;(st)</td>\n",
       "      <td>I can’t stand the smell of truffle oil. Makes ...</td>\n",
       "      <td>my cat's name is Guy, just so I can go \"hey Gu...</td>\n",
       "      <td>Guys….what is a big turn off that girls still ...</td>\n",
       "      <td>Long manicured nails</td>\n",
       "      <td>0</td>\n",
       "      <td>5</td>\n",
       "      <td>True</td>\n",
       "      <td>0.516801</td>\n",
       "      <td>0.483199</td>\n",
       "      <td>0</td>\n",
       "      <td>1</td>\n",
       "    </tr>\n",
       "    <tr>\n",
       "      <th>0</th>\n",
       "      <td>random--valid_weak;(st)</td>\n",
       "      <td>It's baffling. With as far as they bend over b...</td>\n",
       "      <td>My girlfriends Dad is 75. If he started doing ...</td>\n",
       "      <td>If you could rename America what would it be c...</td>\n",
       "      <td>Gods Country Giant Sowglobe Dunning Kruger Cou...</td>\n",
       "      <td>0</td>\n",
       "      <td>1</td>\n",
       "      <td>True</td>\n",
       "      <td>0.520557</td>\n",
       "      <td>0.479443</td>\n",
       "      <td>0</td>\n",
       "      <td>1</td>\n",
       "    </tr>\n",
       "    <tr>\n",
       "      <th>2</th>\n",
       "      <td>!copy--valid_weak;(st)</td>\n",
       "      <td>plus all the bodies you can bury with no one n...</td>\n",
       "      <td>Landscape maintenance, particularly if the cli...</td>\n",
       "      <td>Landscape maintenance, particularly if the cli...</td>\n",
       "      <td>plus all the bodies you can bury with no one n...</td>\n",
       "      <td>0</td>\n",
       "      <td>6</td>\n",
       "      <td>True</td>\n",
       "      <td>0.500000</td>\n",
       "      <td>0.500000</td>\n",
       "      <td>0</td>\n",
       "      <td>1</td>\n",
       "    </tr>\n",
       "  </tbody>\n",
       "</table>\n",
       "</div>"
      ],
      "text/plain": [
       "                  gen_name                                        parent_left  \\\n",
       "0   !copy--valid_weak;(st)                                   Well, shit dude.   \n",
       "1  *valid_weak--!copy;(st)            Not using 1-10, how attractive are you?   \n",
       "3  random--valid_weak;(st)  I can’t stand the smell of truffle oil. Makes ...   \n",
       "0  random--valid_weak;(st)  It's baffling. With as far as they bend over b...   \n",
       "2   !copy--valid_weak;(st)  plus all the bodies you can bury with no one n...   \n",
       "\n",
       "                                          child_left  \\\n",
       "0  Everyone in my family is nagging me with the f...   \n",
       "1  Let's just say my Facebook relationship status...   \n",
       "3  my cat's name is Guy, just so I can go \"hey Gu...   \n",
       "0  My girlfriends Dad is 75. If he started doing ...   \n",
       "2  Landscape maintenance, particularly if the cli...   \n",
       "\n",
       "                                        parent_right  \\\n",
       "0  Everyone in my family is nagging me with the f...   \n",
       "1  Let's just say my Facebook relationship status...   \n",
       "3  Guys….what is a big turn off that girls still ...   \n",
       "0  If you could rename America what would it be c...   \n",
       "2  Landscape maintenance, particularly if the cli...   \n",
       "\n",
       "                                         child_right  score_left  score_right  \\\n",
       "0                                   Well, shit dude.           0            1   \n",
       "1            Not using 1-10, how attractive are you?           1            0   \n",
       "3                               Long manicured nails           0            5   \n",
       "0  Gods Country Giant Sowglobe Dunning Kruger Cou...           0            1   \n",
       "2  plus all the bodies you can bury with no one n...           0            6   \n",
       "\n",
       "   correct_is_right  logit_left  logit_right  preds  truth  \n",
       "0              True    0.500004     0.499996      0      1  \n",
       "1             False    0.499996     0.500004      1      0  \n",
       "3              True    0.516801     0.483199      0      1  \n",
       "0              True    0.520557     0.479443      0      1  \n",
       "2              True    0.500000     0.500000      0      1  "
      ]
     },
     "metadata": {},
     "output_type": "display_data"
    },
    {
     "data": {
      "text/plain": [
       "array([[-0.5877043 ,  0.3435432 ,  0.00843628, ...,  0.36275822,\n",
       "         0.12503192,  0.4141052 ],\n",
       "       [-0.5878958 ,  0.34122053,  0.00718956, ...,  0.36422396,\n",
       "         0.12352944,  0.41283435],\n",
       "       [-0.5883641 ,  0.33812907,  0.00546653, ...,  0.3659132 ,\n",
       "         0.12139958,  0.41106015],\n",
       "       [-0.58792543,  0.34094325,  0.00703664, ...,  0.36439213,\n",
       "         0.12334418,  0.4126782 ]], dtype=float32)"
      ]
     },
     "metadata": {},
     "output_type": "display_data"
    },
    {
     "data": {
      "text/plain": [
       "array([[-0.5883142 ,  0.33838624,  0.00561264, ...,  0.3657874 ,\n",
       "         0.1215814 ,  0.4112116 ],\n",
       "       [-0.5879802 ,  0.34050512,  0.00680256, ...,  0.3646392 ,\n",
       "         0.12305924,  0.41243353],\n",
       "       [-0.5878673 ,  0.34148222,  0.00732954, ...,  0.36406863,\n",
       "         0.12370034,  0.41297895],\n",
       "       [-0.58836913,  0.33810434,  0.00545319, ...,  0.365925  ,\n",
       "         0.12138279,  0.41104588]], dtype=float32)"
      ]
     },
     "metadata": {},
     "output_type": "display_data"
    },
    {
     "data": {
      "text/plain": [
       "array([[-0.58801943,  0.34018776,  0.00661969, ...,  0.3648305 ,\n",
       "         0.12283208,  0.4122527 ],\n",
       "       [-0.58836627,  0.3381185 ,  0.00546116, ...,  0.36591816,\n",
       "         0.12139256,  0.41105413],\n",
       "       [-0.58803785,  0.34005666,  0.00654717, ...,  0.36490494,\n",
       "         0.12274271,  0.41217783],\n",
       "       [-0.5874742 ,  0.3504288 ,  0.01198512, ...,  0.3581328 ,\n",
       "         0.12914896,  0.41773352]], dtype=float32)"
      ]
     },
     "metadata": {},
     "output_type": "display_data"
    },
    {
     "data": {
      "text/plain": [
       "array([[-0.58837277,  0.33808717,  0.00544326, ...,  0.36593336,\n",
       "         0.12137037,  0.4110357 ],\n",
       "       [-0.5883721 ,  0.33808976,  0.00544501, ...,  0.36593196,\n",
       "         0.12137237,  0.41103724],\n",
       "       [-0.58836716,  0.33811426,  0.00545825, ...,  0.3659203 ,\n",
       "         0.12138917,  0.41105148],\n",
       "       [-0.58827984,  0.33856896,  0.00571541, ...,  0.36569658,\n",
       "         0.12170934,  0.41131872]], dtype=float32)"
      ]
     },
     "metadata": {},
     "output_type": "display_data"
    },
    {
     "data": {
      "text/plain": [
       "array([[-0.5877847 ,  0.34240097,  0.00782712, ...,  0.3634946 ,\n",
       "         0.1243029 ,  0.41348484],\n",
       "       [-0.58794904,  0.34074032,  0.00692469, ...,  0.36451215,\n",
       "         0.12320625,  0.41256496],\n",
       "       [-0.5875595 ,  0.34698528,  0.01023413, ...,  0.3604545 ,\n",
       "         0.12714298,  0.41593838],\n",
       "       [-0.5883705 ,  0.33809808,  0.0054497 , ...,  0.36592785,\n",
       "         0.12137836,  0.41104218]], dtype=float32)"
      ]
     },
     "metadata": {},
     "output_type": "display_data"
    },
    {
     "data": {
      "text/plain": [
       "array([[-0.58793455,  0.34086514,  0.00699423, ...,  0.36443835,\n",
       "         0.12329113,  0.41263485],\n",
       "       [-0.58784735,  0.34189072,  0.0076062 , ...,  0.36373913,\n",
       "         0.12405422,  0.41321236],\n",
       "       [-0.58837193,  0.3380902 ,  0.00544527, ...,  0.36593166,\n",
       "         0.12137273,  0.41103745],\n",
       "       [-0.5883312 ,  0.3382985 ,  0.00556319, ...,  0.36583042,\n",
       "         0.12151964,  0.41116017]], dtype=float32)"
      ]
     },
     "metadata": {},
     "output_type": "display_data"
    },
    {
     "data": {
      "text/plain": [
       "array([[-0.58795893,  0.340662  ,  0.00688368, ...,  0.3645541 ,\n",
       "         0.12315752,  0.4125213 ],\n",
       "       [-0.5883729 ,  0.33808625,  0.00544304, ...,  0.36593363,\n",
       "         0.12136993,  0.4110352 ],\n",
       "       [-0.58835995,  0.3381513 ,  0.00547981, ...,  0.3659022 ,\n",
       "         0.12141586,  0.41107354],\n",
       "       [-0.5878059 ,  0.34214476,  0.00768889, ...,  0.363657  ,\n",
       "         0.12413554,  0.41334474]], dtype=float32)"
      ]
     },
     "metadata": {},
     "output_type": "display_data"
    },
    {
     "data": {
      "text/plain": [
       "array([[-0.5879802 ,  0.34050512,  0.00680256, ...,  0.3646392 ,\n",
       "         0.12305925,  0.41243353],\n",
       "       [-0.5878109 ,  0.34218523,  0.00773478, ...,  0.3635985 ,\n",
       "         0.12419962,  0.41337088],\n",
       "       [-0.58796793,  0.3405899 ,  0.00684264, ...,  0.36459923,\n",
       "         0.12310588,  0.41248015],\n",
       "       [-0.58837503,  0.3380751 ,  0.00543651, ...,  0.3659391 ,\n",
       "         0.12136211,  0.41102877]], dtype=float32)"
      ]
     },
     "metadata": {},
     "output_type": "display_data"
    },
    {
     "data": {
      "text/plain": [
       "array([[-0.58835006,  0.33820117,  0.00550815, ...,  0.365878  ,\n",
       "         0.12145105,  0.4111029 ],\n",
       "       [-0.5883442 ,  0.3382308 ,  0.00552486, ...,  0.36586356,\n",
       "         0.12147182,  0.41112024],\n",
       "       [-0.5881028 ,  0.3396141 ,  0.0063012 , ...,  0.36514905,\n",
       "         0.12243751,  0.41192508],\n",
       "       [-0.58836937,  0.3381034 ,  0.0054525 , ...,  0.36592537,\n",
       "         0.12138198,  0.41104525]], dtype=float32)"
      ]
     },
     "metadata": {},
     "output_type": "display_data"
    },
    {
     "data": {
      "text/plain": [
       "array([[-0.5883699 ,  0.33810148,  0.00545153, ...,  0.36592633,\n",
       "         0.12138059,  0.41104406],\n",
       "       [-0.5880477 ,  0.33999094,  0.00651343, ...,  0.3649398 ,\n",
       "         0.12270054,  0.41214067],\n",
       "       [-0.58797306,  0.3405475 ,  0.0068194 , ...,  0.36462444,\n",
       "         0.12307748,  0.41245583],\n",
       "       [-0.5881593 ,  0.33925718,  0.00610196, ...,  0.36534163,\n",
       "         0.12219025,  0.4117193 ]], dtype=float32)"
      ]
     },
     "metadata": {},
     "output_type": "display_data"
    }
   ],
   "source": [
    "full_run(num_epochs=60, version=-1, force_restart=False)"
   ]
  },
  {
   "cell_type": "code",
   "execution_count": 25,
   "id": "a274797a-104c-4aba-87e4-8ac860c7b6b9",
   "metadata": {
    "collapsed": true,
    "jupyter": {
     "outputs_hidden": true
    },
    "tags": []
   },
   "outputs": [
    {
     "name": "stderr",
     "output_type": "stream",
     "text": [
      "Some weights of the model checkpoint at distilbert-base-uncased were not used when initializing DistilBertModel: ['vocab_transform.bias', 'vocab_transform.weight', 'vocab_layer_norm.bias', 'vocab_layer_norm.weight', 'vocab_projector.bias', 'vocab_projector.weight']\n",
      "- This IS expected if you are initializing DistilBertModel from the checkpoint of a model trained on another task or with another architecture (e.g. initializing a BertForSequenceClassification model from a BertForPreTraining model).\n",
      "- This IS NOT expected if you are initializing DistilBertModel from the checkpoint of a model that you expect to be exactly identical (initializing a BertForSequenceClassification model from a BertForSequenceClassification model).\n",
      "Some weights of the model checkpoint at distilbert-base-uncased were not used when initializing DistilBertModel: ['vocab_transform.bias', 'vocab_transform.weight', 'vocab_layer_norm.bias', 'vocab_layer_norm.weight', 'vocab_projector.bias', 'vocab_projector.weight']\n",
      "- This IS expected if you are initializing DistilBertModel from the checkpoint of a model trained on another task or with another architecture (e.g. initializing a BertForSequenceClassification model from a BertForPreTraining model).\n",
      "- This IS NOT expected if you are initializing DistilBertModel from the checkpoint of a model that you expect to be exactly identical (initializing a BertForSequenceClassification model from a BertForSequenceClassification model).\n"
     ]
    },
    {
     "name": "stdout",
     "output_type": "stream",
     "text": [
      "('harness_v7_lg_29.pkl', 29) 30\n",
      "epoch 30 version: 7\n"
     ]
    },
    {
     "data": {
      "application/vnd.jupyter.widget-view+json": {
       "model_id": "b338d8b772af4fbe87b332ca47055180",
       "version_major": 2,
       "version_minor": 0
      },
      "text/plain": [
       "train:   0%|          | 0/20000 [00:00<?, ?it/s]"
      ]
     },
     "metadata": {},
     "output_type": "display_data"
    },
    {
     "data": {
      "application/vnd.jupyter.widget-view+json": {
       "model_id": "98050416a931466ea875fe767ab39d56",
       "version_major": 2,
       "version_minor": 0
      },
      "text/plain": [
       "train val:   0%|          | 0/10000 [00:00<?, ?it/s]"
      ]
     },
     "metadata": {},
     "output_type": "display_data"
    },
    {
     "data": {
      "application/vnd.jupyter.widget-view+json": {
       "model_id": "0845f69236f44d89b8aa9dab57fe4653",
       "version_major": 2,
       "version_minor": 0
      },
      "text/plain": [
       "test:   0%|          | 0/10000 [00:00<?, ?it/s]"
      ]
     },
     "metadata": {},
     "output_type": "display_data"
    },
    {
     "name": "stdout",
     "output_type": "stream",
     "text": [
      "train: 0.85255 loss: 0.2885340315501475\n",
      "train val: 0.8361 loss: 0.31195556517282386\n",
      "test: 0.637 loss: 0.6555230266153812\n",
      "epoch time: 11.53min\n",
      "removing /mnt/d/workspace/clotho/notebooks/checkpoints/stats_v7_lg_28.json\n",
      "removing /mnt/d/workspace/clotho/notebooks/checkpoints/harness_v7_lg_28.pkl\n",
      "best model: /mnt/d/workspace/clotho/notebooks/checkpoints/harness_v7_lg_30.pkl\n",
      "best train: 0.85255\n",
      "best train val: 0.8361\n",
      "best test: 0.637\n",
      "epoch 31 version: 7\n"
     ]
    },
    {
     "data": {
      "application/vnd.jupyter.widget-view+json": {
       "model_id": "3acc20b19f1e4efdb24649ce603524b6",
       "version_major": 2,
       "version_minor": 0
      },
      "text/plain": [
       "train:   0%|          | 0/20000 [00:00<?, ?it/s]"
      ]
     },
     "metadata": {},
     "output_type": "display_data"
    },
    {
     "data": {
      "application/vnd.jupyter.widget-view+json": {
       "model_id": "e65d5313f03849a28b41db65ea023fe9",
       "version_major": 2,
       "version_minor": 0
      },
      "text/plain": [
       "train val:   0%|          | 0/10000 [00:00<?, ?it/s]"
      ]
     },
     "metadata": {},
     "output_type": "display_data"
    },
    {
     "data": {
      "application/vnd.jupyter.widget-view+json": {
       "model_id": "81ab719480db4f88a0aa728366b5bbcc",
       "version_major": 2,
       "version_minor": 0
      },
      "text/plain": [
       "test:   0%|          | 0/10000 [00:00<?, ?it/s]"
      ]
     },
     "metadata": {},
     "output_type": "display_data"
    },
    {
     "name": "stdout",
     "output_type": "stream",
     "text": [
      "train: 0.85415 loss: 0.3280953316008079\n",
      "train val: 0.4391 loss: 39.988722123217585\n",
      "test: 0.6724 loss: 0.6493985501527786\n",
      "epoch time: 10.63min\n",
      "removing /mnt/d/workspace/clotho/notebooks/checkpoints/stats_v7_lg_29.json\n",
      "removing /mnt/d/workspace/clotho/notebooks/checkpoints/harness_v7_lg_29.pkl\n",
      "best model: /mnt/d/workspace/clotho/notebooks/checkpoints/harness_v7_lg_30.pkl\n",
      "best train: 0.85255\n",
      "best train val: 0.8361\n",
      "best test: 0.637\n",
      "epoch 32 version: 7\n"
     ]
    },
    {
     "data": {
      "application/vnd.jupyter.widget-view+json": {
       "model_id": "2e57ba70a876445d99da5d1b580be536",
       "version_major": 2,
       "version_minor": 0
      },
      "text/plain": [
       "train:   0%|          | 0/20000 [00:00<?, ?it/s]"
      ]
     },
     "metadata": {},
     "output_type": "display_data"
    },
    {
     "data": {
      "application/vnd.jupyter.widget-view+json": {
       "model_id": "90daee7d853443ef8688e175b649e6e6",
       "version_major": 2,
       "version_minor": 0
      },
      "text/plain": [
       "train val:   0%|          | 0/10000 [00:00<?, ?it/s]"
      ]
     },
     "metadata": {},
     "output_type": "display_data"
    },
    {
     "data": {
      "application/vnd.jupyter.widget-view+json": {
       "model_id": "5735eadef56a49c8ae20183759c89bf2",
       "version_major": 2,
       "version_minor": 0
      },
      "text/plain": [
       "test:   0%|          | 0/10000 [00:00<?, ?it/s]"
      ]
     },
     "metadata": {},
     "output_type": "display_data"
    },
    {
     "name": "stdout",
     "output_type": "stream",
     "text": [
      "train: 0.84175 loss: 0.6891961740104947\n",
      "train val: 0.8234 loss: 0.32932620592564343\n",
      "test: 0.6499 loss: 0.6401217650443316\n",
      "epoch time: 11.27min\n",
      "removing /mnt/d/workspace/clotho/notebooks/checkpoints/stats_v7_lg_31.json\n",
      "removing /mnt/d/workspace/clotho/notebooks/checkpoints/harness_v7_lg_31.pkl\n",
      "best model: /mnt/d/workspace/clotho/notebooks/checkpoints/harness_v7_lg_30.pkl\n",
      "best train: 0.85255\n",
      "best train val: 0.8361\n",
      "best test: 0.637\n",
      "epoch 33 version: 7\n"
     ]
    },
    {
     "data": {
      "application/vnd.jupyter.widget-view+json": {
       "model_id": "527aeed80986476292014d1391008859",
       "version_major": 2,
       "version_minor": 0
      },
      "text/plain": [
       "train:   0%|          | 0/20000 [00:00<?, ?it/s]"
      ]
     },
     "metadata": {},
     "output_type": "display_data"
    },
    {
     "data": {
      "application/vnd.jupyter.widget-view+json": {
       "model_id": "27890b7abe5d43aeb9d9a49c0a1c43e0",
       "version_major": 2,
       "version_minor": 0
      },
      "text/plain": [
       "train val:   0%|          | 0/10000 [00:00<?, ?it/s]"
      ]
     },
     "metadata": {},
     "output_type": "display_data"
    },
    {
     "data": {
      "application/vnd.jupyter.widget-view+json": {
       "model_id": "49dc1c51b0c44b268e8ae05e2fddc544",
       "version_major": 2,
       "version_minor": 0
      },
      "text/plain": [
       "test:   0%|          | 0/10000 [00:00<?, ?it/s]"
      ]
     },
     "metadata": {},
     "output_type": "display_data"
    },
    {
     "name": "stdout",
     "output_type": "stream",
     "text": [
      "train: 0.83155 loss: 0.33241785045255384\n",
      "train val: 0.8034 loss: 0.3653992796364822\n",
      "test: 0.605 loss: 0.6742681373655796\n",
      "epoch time: 11.46min\n",
      "removing /mnt/d/workspace/clotho/notebooks/checkpoints/stats_v7_lg_32.json\n",
      "removing /mnt/d/workspace/clotho/notebooks/checkpoints/harness_v7_lg_32.pkl\n",
      "best model: /mnt/d/workspace/clotho/notebooks/checkpoints/harness_v7_lg_30.pkl\n",
      "best train: 0.85255\n",
      "best train val: 0.8361\n",
      "best test: 0.637\n",
      "epoch 34 version: 7\n"
     ]
    },
    {
     "data": {
      "application/vnd.jupyter.widget-view+json": {
       "model_id": "00af137a9a0c4e5190e058fbd17c764f",
       "version_major": 2,
       "version_minor": 0
      },
      "text/plain": [
       "train:   0%|          | 0/20000 [00:00<?, ?it/s]"
      ]
     },
     "metadata": {},
     "output_type": "display_data"
    },
    {
     "data": {
      "application/vnd.jupyter.widget-view+json": {
       "model_id": "da9517f6dc324592bd352df1a216ec1d",
       "version_major": 2,
       "version_minor": 0
      },
      "text/plain": [
       "train val:   0%|          | 0/10000 [00:00<?, ?it/s]"
      ]
     },
     "metadata": {},
     "output_type": "display_data"
    },
    {
     "data": {
      "application/vnd.jupyter.widget-view+json": {
       "model_id": "0ee0443c68814a3f98a8f51b99629c66",
       "version_major": 2,
       "version_minor": 0
      },
      "text/plain": [
       "test:   0%|          | 0/10000 [00:00<?, ?it/s]"
      ]
     },
     "metadata": {},
     "output_type": "display_data"
    },
    {
     "name": "stdout",
     "output_type": "stream",
     "text": [
      "train: 0.8418 loss: 0.310665907634759\n",
      "train val: 0.8009 loss: 0.35469955793097613\n",
      "test: 0.642 loss: 0.6516995058298111\n",
      "epoch time: 11.05min\n",
      "removing /mnt/d/workspace/clotho/notebooks/checkpoints/stats_v7_lg_33.json\n",
      "removing /mnt/d/workspace/clotho/notebooks/checkpoints/harness_v7_lg_33.pkl\n",
      "best model: /mnt/d/workspace/clotho/notebooks/checkpoints/harness_v7_lg_30.pkl\n",
      "best train: 0.85255\n",
      "best train val: 0.8361\n",
      "best test: 0.637\n",
      "epoch 35 version: 7\n"
     ]
    },
    {
     "data": {
      "application/vnd.jupyter.widget-view+json": {
       "model_id": "23e0b096746a4e1989bdfddb9899a75f",
       "version_major": 2,
       "version_minor": 0
      },
      "text/plain": [
       "train:   0%|          | 0/20000 [00:00<?, ?it/s]"
      ]
     },
     "metadata": {},
     "output_type": "display_data"
    },
    {
     "data": {
      "application/vnd.jupyter.widget-view+json": {
       "model_id": "f6e2ee114d694db0b4ba8e5bc1e78cad",
       "version_major": 2,
       "version_minor": 0
      },
      "text/plain": [
       "train val:   0%|          | 0/10000 [00:00<?, ?it/s]"
      ]
     },
     "metadata": {},
     "output_type": "display_data"
    },
    {
     "data": {
      "application/vnd.jupyter.widget-view+json": {
       "model_id": "71169468ab214c94b5ab3400c5a262e4",
       "version_major": 2,
       "version_minor": 0
      },
      "text/plain": [
       "test:   0%|          | 0/10000 [00:00<?, ?it/s]"
      ]
     },
     "metadata": {},
     "output_type": "display_data"
    },
    {
     "name": "stdout",
     "output_type": "stream",
     "text": [
      "train: 0.84245 loss: 0.30946643444873245\n",
      "train val: 0.8277 loss: 0.33949971414217756\n",
      "test: 0.63 loss: 0.6770492627203465\n",
      "epoch time: 11.76min\n",
      "removing /mnt/d/workspace/clotho/notebooks/checkpoints/stats_v7_lg_34.json\n",
      "removing /mnt/d/workspace/clotho/notebooks/checkpoints/harness_v7_lg_34.pkl\n",
      "best model: /mnt/d/workspace/clotho/notebooks/checkpoints/harness_v7_lg_30.pkl\n",
      "best train: 0.85255\n",
      "best train val: 0.8361\n",
      "best test: 0.637\n",
      "epoch 36 version: 7\n"
     ]
    },
    {
     "data": {
      "application/vnd.jupyter.widget-view+json": {
       "model_id": "a6d286df64294dae83002bcd35bd9c0c",
       "version_major": 2,
       "version_minor": 0
      },
      "text/plain": [
       "train:   0%|          | 0/20000 [00:00<?, ?it/s]"
      ]
     },
     "metadata": {},
     "output_type": "display_data"
    },
    {
     "data": {
      "application/vnd.jupyter.widget-view+json": {
       "model_id": "e64700c2c9bb4907b2100aab5499fedd",
       "version_major": 2,
       "version_minor": 0
      },
      "text/plain": [
       "train val:   0%|          | 0/10000 [00:00<?, ?it/s]"
      ]
     },
     "metadata": {},
     "output_type": "display_data"
    },
    {
     "data": {
      "application/vnd.jupyter.widget-view+json": {
       "model_id": "7db39f24dd834d76866bf1e2701dc1a3",
       "version_major": 2,
       "version_minor": 0
      },
      "text/plain": [
       "test:   0%|          | 0/10000 [00:00<?, ?it/s]"
      ]
     },
     "metadata": {},
     "output_type": "display_data"
    },
    {
     "name": "stdout",
     "output_type": "stream",
     "text": [
      "train: 0.844 loss: 0.30553947427528183\n",
      "train val: 0.8348 loss: 0.322936626612605\n",
      "test: 0.6587 loss: 0.6336545524597168\n",
      "epoch time: 11.58min\n",
      "removing /mnt/d/workspace/clotho/notebooks/checkpoints/stats_v7_lg_35.json\n",
      "removing /mnt/d/workspace/clotho/notebooks/checkpoints/harness_v7_lg_35.pkl\n",
      "best model: /mnt/d/workspace/clotho/notebooks/checkpoints/harness_v7_lg_30.pkl\n",
      "best train: 0.85255\n",
      "best train val: 0.8361\n",
      "best test: 0.637\n",
      "epoch 37 version: 7\n"
     ]
    },
    {
     "data": {
      "application/vnd.jupyter.widget-view+json": {
       "model_id": "0c21a27b02304fd382cc3a321cb19757",
       "version_major": 2,
       "version_minor": 0
      },
      "text/plain": [
       "train:   0%|          | 0/20000 [00:00<?, ?it/s]"
      ]
     },
     "metadata": {},
     "output_type": "display_data"
    },
    {
     "data": {
      "application/vnd.jupyter.widget-view+json": {
       "model_id": "9c206f6aa66c4de89a25026e2a8dda0f",
       "version_major": 2,
       "version_minor": 0
      },
      "text/plain": [
       "train val:   0%|          | 0/10000 [00:00<?, ?it/s]"
      ]
     },
     "metadata": {},
     "output_type": "display_data"
    },
    {
     "data": {
      "application/vnd.jupyter.widget-view+json": {
       "model_id": "85c6e468d1f64a9f82d4284aaac089ff",
       "version_major": 2,
       "version_minor": 0
      },
      "text/plain": [
       "test:   0%|          | 0/10000 [00:00<?, ?it/s]"
      ]
     },
     "metadata": {},
     "output_type": "display_data"
    },
    {
     "name": "stdout",
     "output_type": "stream",
     "text": [
      "train: 0.8472 loss: 0.41035598465345247\n",
      "train val: 0.831 loss: 0.32199155703322324\n",
      "test: 0.6581 loss: 0.6377268346011639\n",
      "epoch time: 11.25min\n",
      "removing /mnt/d/workspace/clotho/notebooks/checkpoints/stats_v7_lg_25.json\n",
      "removing /mnt/d/workspace/clotho/notebooks/checkpoints/harness_v7_lg_25.pkl\n",
      "best model: /mnt/d/workspace/clotho/notebooks/checkpoints/harness_v7_lg_30.pkl\n",
      "best train: 0.85255\n",
      "best train val: 0.8361\n",
      "best test: 0.637\n",
      "epoch 38 version: 7\n"
     ]
    },
    {
     "data": {
      "application/vnd.jupyter.widget-view+json": {
       "model_id": "5d022a5dc7674193b9f777273360aa70",
       "version_major": 2,
       "version_minor": 0
      },
      "text/plain": [
       "train:   0%|          | 0/20000 [00:00<?, ?it/s]"
      ]
     },
     "metadata": {},
     "output_type": "display_data"
    },
    {
     "data": {
      "application/vnd.jupyter.widget-view+json": {
       "model_id": "a037fa46e0654cdbac21524d1c699fac",
       "version_major": 2,
       "version_minor": 0
      },
      "text/plain": [
       "train val:   0%|          | 0/10000 [00:00<?, ?it/s]"
      ]
     },
     "metadata": {},
     "output_type": "display_data"
    },
    {
     "data": {
      "application/vnd.jupyter.widget-view+json": {
       "model_id": "e1750219b5f74dcfa435a03b7fe0ecb1",
       "version_major": 2,
       "version_minor": 0
      },
      "text/plain": [
       "test:   0%|          | 0/10000 [00:00<?, ?it/s]"
      ]
     },
     "metadata": {},
     "output_type": "display_data"
    },
    {
     "name": "stdout",
     "output_type": "stream",
     "text": [
      "train: 0.84505 loss: 0.303267213723428\n",
      "train val: 0.8385 loss: 0.3176809269645577\n",
      "test: 0.6429 loss: 0.66120475423038\n",
      "epoch time: 11.53min\n",
      "removing /mnt/d/workspace/clotho/notebooks/checkpoints/stats_v7_lg_37.json\n",
      "removing /mnt/d/workspace/clotho/notebooks/checkpoints/harness_v7_lg_37.pkl\n",
      "best model: /mnt/d/workspace/clotho/notebooks/checkpoints/harness_v7_lg_38.pkl\n",
      "best train: 0.84505\n",
      "best train val: 0.8385\n",
      "best test: 0.6429\n",
      "epoch 39 version: 7\n"
     ]
    },
    {
     "data": {
      "application/vnd.jupyter.widget-view+json": {
       "model_id": "ac63cf7363c647a0bc6de57ecc10f4f1",
       "version_major": 2,
       "version_minor": 0
      },
      "text/plain": [
       "train:   0%|          | 0/20000 [00:00<?, ?it/s]"
      ]
     },
     "metadata": {},
     "output_type": "display_data"
    },
    {
     "data": {
      "application/vnd.jupyter.widget-view+json": {
       "model_id": "3107c15bbfff49029b5a02461e8a199a",
       "version_major": 2,
       "version_minor": 0
      },
      "text/plain": [
       "train val:   0%|          | 0/10000 [00:00<?, ?it/s]"
      ]
     },
     "metadata": {},
     "output_type": "display_data"
    },
    {
     "data": {
      "application/vnd.jupyter.widget-view+json": {
       "model_id": "16f663837b974575bad750d604e71934",
       "version_major": 2,
       "version_minor": 0
      },
      "text/plain": [
       "test:   0%|          | 0/10000 [00:00<?, ?it/s]"
      ]
     },
     "metadata": {},
     "output_type": "display_data"
    },
    {
     "name": "stdout",
     "output_type": "stream",
     "text": [
      "train: 0.84185 loss: 0.7936068182770857\n",
      "train val: 0.8226 loss: 0.3583752384315663\n",
      "test: 0.6533 loss: 0.714803592684865\n",
      "epoch time: 11.76min\n",
      "removing /mnt/d/workspace/clotho/notebooks/checkpoints/stats_v7_lg_22.json\n",
      "removing /mnt/d/workspace/clotho/notebooks/checkpoints/harness_v7_lg_22.pkl\n",
      "best model: /mnt/d/workspace/clotho/notebooks/checkpoints/harness_v7_lg_38.pkl\n",
      "best train: 0.84505\n",
      "best train val: 0.8385\n",
      "best test: 0.6429\n",
      "epoch 40 version: 7\n"
     ]
    },
    {
     "data": {
      "application/vnd.jupyter.widget-view+json": {
       "model_id": "752ce919f2a4447fb9ec3b32357aa7dc",
       "version_major": 2,
       "version_minor": 0
      },
      "text/plain": [
       "train:   0%|          | 0/20000 [00:00<?, ?it/s]"
      ]
     },
     "metadata": {},
     "output_type": "display_data"
    },
    {
     "data": {
      "application/vnd.jupyter.widget-view+json": {
       "model_id": "093640e2edf947369301b7b14b367cf7",
       "version_major": 2,
       "version_minor": 0
      },
      "text/plain": [
       "train val:   0%|          | 0/10000 [00:00<?, ?it/s]"
      ]
     },
     "metadata": {},
     "output_type": "display_data"
    },
    {
     "data": {
      "application/vnd.jupyter.widget-view+json": {
       "model_id": "0d1a9edec00f4ceab6648a5e16751e86",
       "version_major": 2,
       "version_minor": 0
      },
      "text/plain": [
       "test:   0%|          | 0/10000 [00:00<?, ?it/s]"
      ]
     },
     "metadata": {},
     "output_type": "display_data"
    },
    {
     "name": "stdout",
     "output_type": "stream",
     "text": [
      "train: 0.835 loss: 0.32871822395535244\n",
      "train val: 0.8285 loss: 0.3468824855730112\n",
      "test: 0.6789 loss: 0.6437087413489818\n",
      "epoch time: 11.58min\n",
      "removing /mnt/d/workspace/clotho/notebooks/checkpoints/stats_v7_lg_39.json\n",
      "removing /mnt/d/workspace/clotho/notebooks/checkpoints/harness_v7_lg_39.pkl\n",
      "best model: /mnt/d/workspace/clotho/notebooks/checkpoints/harness_v7_lg_38.pkl\n",
      "best train: 0.84505\n",
      "best train val: 0.8385\n",
      "best test: 0.6429\n",
      "epoch 41 version: 7\n"
     ]
    },
    {
     "data": {
      "application/vnd.jupyter.widget-view+json": {
       "model_id": "2da104cfc6c1473d95ed79beff4aa515",
       "version_major": 2,
       "version_minor": 0
      },
      "text/plain": [
       "train:   0%|          | 0/20000 [00:00<?, ?it/s]"
      ]
     },
     "metadata": {},
     "output_type": "display_data"
    },
    {
     "data": {
      "application/vnd.jupyter.widget-view+json": {
       "model_id": "645161a4fab84403b54092d917e08365",
       "version_major": 2,
       "version_minor": 0
      },
      "text/plain": [
       "train val:   0%|          | 0/10000 [00:00<?, ?it/s]"
      ]
     },
     "metadata": {},
     "output_type": "display_data"
    },
    {
     "data": {
      "application/vnd.jupyter.widget-view+json": {
       "model_id": "c6891f45f27745e08c092aa2ece41b23",
       "version_major": 2,
       "version_minor": 0
      },
      "text/plain": [
       "test:   0%|          | 0/10000 [00:00<?, ?it/s]"
      ]
     },
     "metadata": {},
     "output_type": "display_data"
    },
    {
     "name": "stdout",
     "output_type": "stream",
     "text": [
      "train: 0.83195 loss: 0.3325489314246981\n",
      "train val: 0.8256 loss: 0.3414331771260728\n",
      "test: 0.6505 loss: 0.6428736636161804\n",
      "epoch time: 11.59min\n",
      "removing /mnt/d/workspace/clotho/notebooks/checkpoints/stats_v7_lg_40.json\n",
      "removing /mnt/d/workspace/clotho/notebooks/checkpoints/harness_v7_lg_40.pkl\n",
      "best model: /mnt/d/workspace/clotho/notebooks/checkpoints/harness_v7_lg_38.pkl\n",
      "best train: 0.84505\n",
      "best train val: 0.8385\n",
      "best test: 0.6429\n",
      "epoch 42 version: 7\n"
     ]
    },
    {
     "data": {
      "application/vnd.jupyter.widget-view+json": {
       "model_id": "e4e476bc072b46fb91d7c28b3a80b65a",
       "version_major": 2,
       "version_minor": 0
      },
      "text/plain": [
       "train:   0%|          | 0/20000 [00:00<?, ?it/s]"
      ]
     },
     "metadata": {},
     "output_type": "display_data"
    },
    {
     "data": {
      "application/vnd.jupyter.widget-view+json": {
       "model_id": "7616d007158148b685de1d7afbbfbd0b",
       "version_major": 2,
       "version_minor": 0
      },
      "text/plain": [
       "train val:   0%|          | 0/10000 [00:00<?, ?it/s]"
      ]
     },
     "metadata": {},
     "output_type": "display_data"
    },
    {
     "data": {
      "application/vnd.jupyter.widget-view+json": {
       "model_id": "b39b40065a02449abab131e4cea7520e",
       "version_major": 2,
       "version_minor": 0
      },
      "text/plain": [
       "test:   0%|          | 0/10000 [00:00<?, ?it/s]"
      ]
     },
     "metadata": {},
     "output_type": "display_data"
    },
    {
     "name": "stdout",
     "output_type": "stream",
     "text": [
      "train: 0.84545 loss: 0.30130611548063135\n",
      "train val: 0.8277 loss: 0.33695586737759875\n",
      "test: 0.6491 loss: 0.6498773074120283\n",
      "epoch time: 11.18min\n",
      "removing /mnt/d/workspace/clotho/notebooks/checkpoints/stats_v7_lg_41.json\n",
      "removing /mnt/d/workspace/clotho/notebooks/checkpoints/harness_v7_lg_41.pkl\n",
      "best model: /mnt/d/workspace/clotho/notebooks/checkpoints/harness_v7_lg_38.pkl\n",
      "best train: 0.84505\n",
      "best train val: 0.8385\n",
      "best test: 0.6429\n",
      "epoch 43 version: 7\n"
     ]
    },
    {
     "data": {
      "application/vnd.jupyter.widget-view+json": {
       "model_id": "d77537dfd5804953874c22878f162907",
       "version_major": 2,
       "version_minor": 0
      },
      "text/plain": [
       "train:   0%|          | 0/20000 [00:00<?, ?it/s]"
      ]
     },
     "metadata": {},
     "output_type": "display_data"
    },
    {
     "data": {
      "application/vnd.jupyter.widget-view+json": {
       "model_id": "adafa277283945bd842b9fec4ffdc760",
       "version_major": 2,
       "version_minor": 0
      },
      "text/plain": [
       "train val:   0%|          | 0/10000 [00:00<?, ?it/s]"
      ]
     },
     "metadata": {},
     "output_type": "display_data"
    },
    {
     "data": {
      "application/vnd.jupyter.widget-view+json": {
       "model_id": "fef5bdfef5b04f4c9dd25aa58ad924b7",
       "version_major": 2,
       "version_minor": 0
      },
      "text/plain": [
       "test:   0%|          | 0/10000 [00:00<?, ?it/s]"
      ]
     },
     "metadata": {},
     "output_type": "display_data"
    },
    {
     "name": "stdout",
     "output_type": "stream",
     "text": [
      "train: 0.849 loss: 0.29988487954160226\n",
      "train val: 0.8328 loss: 0.3222645928362072\n",
      "test: 0.6551 loss: 0.6309703036725521\n",
      "epoch time: 11.29min\n",
      "removing /mnt/d/workspace/clotho/notebooks/checkpoints/stats_v7_lg_42.json\n",
      "removing /mnt/d/workspace/clotho/notebooks/checkpoints/harness_v7_lg_42.pkl\n",
      "best model: /mnt/d/workspace/clotho/notebooks/checkpoints/harness_v7_lg_38.pkl\n",
      "best train: 0.84505\n",
      "best train val: 0.8385\n",
      "best test: 0.6429\n",
      "epoch 44 version: 7\n"
     ]
    },
    {
     "data": {
      "application/vnd.jupyter.widget-view+json": {
       "model_id": "64ba0bdd4be646ac928b87fdb56eb6dd",
       "version_major": 2,
       "version_minor": 0
      },
      "text/plain": [
       "train:   0%|          | 0/20000 [00:00<?, ?it/s]"
      ]
     },
     "metadata": {},
     "output_type": "display_data"
    },
    {
     "data": {
      "application/vnd.jupyter.widget-view+json": {
       "model_id": "21263b3a232141cfb0d8c03b57054cd7",
       "version_major": 2,
       "version_minor": 0
      },
      "text/plain": [
       "train val:   0%|          | 0/10000 [00:00<?, ?it/s]"
      ]
     },
     "metadata": {},
     "output_type": "display_data"
    },
    {
     "data": {
      "application/vnd.jupyter.widget-view+json": {
       "model_id": "035d67eeb26441f99c30e620c8b9f96c",
       "version_major": 2,
       "version_minor": 0
      },
      "text/plain": [
       "test:   0%|          | 0/10000 [00:00<?, ?it/s]"
      ]
     },
     "metadata": {},
     "output_type": "display_data"
    },
    {
     "name": "stdout",
     "output_type": "stream",
     "text": [
      "train: 0.847 loss: 0.2939018650148798\n",
      "train val: 0.8274 loss: 0.3261450719596105\n",
      "test: 0.6504 loss: 0.6430557810902595\n",
      "epoch time: 10.32min\n",
      "removing /mnt/d/workspace/clotho/notebooks/checkpoints/stats_v7_lg_43.json\n",
      "removing /mnt/d/workspace/clotho/notebooks/checkpoints/harness_v7_lg_43.pkl\n",
      "best model: /mnt/d/workspace/clotho/notebooks/checkpoints/harness_v7_lg_38.pkl\n",
      "best train: 0.84505\n",
      "best train val: 0.8385\n",
      "best test: 0.6429\n",
      "epoch 45 version: 7\n"
     ]
    },
    {
     "data": {
      "application/vnd.jupyter.widget-view+json": {
       "model_id": "1f8115ca27e04d0ba86f0adf8c92c9ef",
       "version_major": 2,
       "version_minor": 0
      },
      "text/plain": [
       "train:   0%|          | 0/20000 [00:00<?, ?it/s]"
      ]
     },
     "metadata": {},
     "output_type": "display_data"
    },
    {
     "data": {
      "application/vnd.jupyter.widget-view+json": {
       "model_id": "57fff33ebe0749a29b8ec9e4ee846caf",
       "version_major": 2,
       "version_minor": 0
      },
      "text/plain": [
       "train val:   0%|          | 0/10000 [00:00<?, ?it/s]"
      ]
     },
     "metadata": {},
     "output_type": "display_data"
    },
    {
     "data": {
      "application/vnd.jupyter.widget-view+json": {
       "model_id": "d4a21aac0df64e29a9a7cc296f3d1b7d",
       "version_major": 2,
       "version_minor": 0
      },
      "text/plain": [
       "test:   0%|          | 0/10000 [00:00<?, ?it/s]"
      ]
     },
     "metadata": {},
     "output_type": "display_data"
    },
    {
     "name": "stdout",
     "output_type": "stream",
     "text": [
      "train: 0.85515 loss: 0.2879560069518663\n",
      "train val: 0.8361 loss: 0.31917535427522453\n",
      "test: 0.6622 loss: 0.6291491328418255\n",
      "epoch time: 10.55min\n",
      "removing /mnt/d/workspace/clotho/notebooks/checkpoints/stats_v7_lg_44.json\n",
      "removing /mnt/d/workspace/clotho/notebooks/checkpoints/harness_v7_lg_44.pkl\n",
      "best model: /mnt/d/workspace/clotho/notebooks/checkpoints/harness_v7_lg_38.pkl\n",
      "best train: 0.84505\n",
      "best train val: 0.8385\n",
      "best test: 0.6429\n",
      "epoch 46 version: 7\n"
     ]
    },
    {
     "data": {
      "application/vnd.jupyter.widget-view+json": {
       "model_id": "336f44fd45214343bd984dbd510e145e",
       "version_major": 2,
       "version_minor": 0
      },
      "text/plain": [
       "train:   0%|          | 0/20000 [00:00<?, ?it/s]"
      ]
     },
     "metadata": {},
     "output_type": "display_data"
    },
    {
     "data": {
      "application/vnd.jupyter.widget-view+json": {
       "model_id": "3888f998809a4436aaa962550d1f189e",
       "version_major": 2,
       "version_minor": 0
      },
      "text/plain": [
       "train val:   0%|          | 0/10000 [00:00<?, ?it/s]"
      ]
     },
     "metadata": {},
     "output_type": "display_data"
    },
    {
     "data": {
      "application/vnd.jupyter.widget-view+json": {
       "model_id": "233c9c94e8ad42c384e89090ce2f13cf",
       "version_major": 2,
       "version_minor": 0
      },
      "text/plain": [
       "test:   0%|          | 0/10000 [00:00<?, ?it/s]"
      ]
     },
     "metadata": {},
     "output_type": "display_data"
    },
    {
     "name": "stdout",
     "output_type": "stream",
     "text": [
      "train: 0.85355 loss: 0.29008604161235124\n",
      "train val: 0.8338 loss: 0.3303159547859701\n",
      "test: 0.6346 loss: 0.687752187627554\n",
      "epoch time: 11.51min\n",
      "removing /mnt/d/workspace/clotho/notebooks/checkpoints/stats_v7_lg_23.json\n",
      "removing /mnt/d/workspace/clotho/notebooks/checkpoints/harness_v7_lg_23.pkl\n",
      "best model: /mnt/d/workspace/clotho/notebooks/checkpoints/harness_v7_lg_38.pkl\n",
      "best train: 0.84505\n",
      "best train val: 0.8385\n",
      "best test: 0.6429\n",
      "epoch 47 version: 7\n"
     ]
    },
    {
     "data": {
      "application/vnd.jupyter.widget-view+json": {
       "model_id": "52190b9311b94c2bade12b95a417128d",
       "version_major": 2,
       "version_minor": 0
      },
      "text/plain": [
       "train:   0%|          | 0/20000 [00:00<?, ?it/s]"
      ]
     },
     "metadata": {},
     "output_type": "display_data"
    },
    {
     "data": {
      "application/vnd.jupyter.widget-view+json": {
       "model_id": "a9f7e6ba7ec140d0b9fefebd4b17a469",
       "version_major": 2,
       "version_minor": 0
      },
      "text/plain": [
       "train val:   0%|          | 0/10000 [00:00<?, ?it/s]"
      ]
     },
     "metadata": {},
     "output_type": "display_data"
    },
    {
     "data": {
      "application/vnd.jupyter.widget-view+json": {
       "model_id": "5e2af26877a14d41b975ecac0b7497ed",
       "version_major": 2,
       "version_minor": 0
      },
      "text/plain": [
       "test:   0%|          | 0/10000 [00:00<?, ?it/s]"
      ]
     },
     "metadata": {},
     "output_type": "display_data"
    },
    {
     "name": "stdout",
     "output_type": "stream",
     "text": [
      "train: 0.8535 loss: 0.29073546949355006\n",
      "train val: 0.836 loss: 0.3130965891523403\n",
      "test: 0.6611 loss: 0.6288141606211662\n",
      "epoch time: 12.04min\n",
      "removing /mnt/d/workspace/clotho/notebooks/checkpoints/stats_v7_lg_46.json\n",
      "removing /mnt/d/workspace/clotho/notebooks/checkpoints/harness_v7_lg_46.pkl\n",
      "best model: /mnt/d/workspace/clotho/notebooks/checkpoints/harness_v7_lg_38.pkl\n",
      "best train: 0.84505\n",
      "best train val: 0.8385\n",
      "best test: 0.6429\n",
      "epoch 48 version: 7\n"
     ]
    },
    {
     "data": {
      "application/vnd.jupyter.widget-view+json": {
       "model_id": "87e5d2f536854095bf14b7bde8991845",
       "version_major": 2,
       "version_minor": 0
      },
      "text/plain": [
       "train:   0%|          | 0/20000 [00:00<?, ?it/s]"
      ]
     },
     "metadata": {},
     "output_type": "display_data"
    },
    {
     "data": {
      "application/vnd.jupyter.widget-view+json": {
       "model_id": "3599c7d23806459c8ba6251694268ad7",
       "version_major": 2,
       "version_minor": 0
      },
      "text/plain": [
       "train val:   0%|          | 0/10000 [00:00<?, ?it/s]"
      ]
     },
     "metadata": {},
     "output_type": "display_data"
    },
    {
     "data": {
      "application/vnd.jupyter.widget-view+json": {
       "model_id": "c5631cac1fa24b37a2762a4d48d5c16b",
       "version_major": 2,
       "version_minor": 0
      },
      "text/plain": [
       "test:   0%|          | 0/10000 [00:00<?, ?it/s]"
      ]
     },
     "metadata": {},
     "output_type": "display_data"
    },
    {
     "name": "stdout",
     "output_type": "stream",
     "text": [
      "train: 0.853 loss: 0.28729368106514774\n",
      "train val: 0.8386 loss: 0.3092439374903137\n",
      "test: 0.6454 loss: 0.6413875374853611\n",
      "epoch time: 11.35min\n",
      "removing /mnt/d/workspace/clotho/notebooks/checkpoints/stats_v7_lg_36.json\n",
      "removing /mnt/d/workspace/clotho/notebooks/checkpoints/harness_v7_lg_36.pkl\n",
      "best model: /mnt/d/workspace/clotho/notebooks/checkpoints/harness_v7_lg_48.pkl\n",
      "best train: 0.853\n",
      "best train val: 0.8386\n",
      "best test: 0.6454\n",
      "epoch 49 version: 7\n"
     ]
    },
    {
     "data": {
      "application/vnd.jupyter.widget-view+json": {
       "model_id": "697a4ab4813c4216900caac06446c491",
       "version_major": 2,
       "version_minor": 0
      },
      "text/plain": [
       "train:   0%|          | 0/20000 [00:00<?, ?it/s]"
      ]
     },
     "metadata": {},
     "output_type": "display_data"
    },
    {
     "data": {
      "application/vnd.jupyter.widget-view+json": {
       "model_id": "7ce734ae2c6a4fa191cfd6cf5336c2c9",
       "version_major": 2,
       "version_minor": 0
      },
      "text/plain": [
       "train val:   0%|          | 0/10000 [00:00<?, ?it/s]"
      ]
     },
     "metadata": {},
     "output_type": "display_data"
    },
    {
     "data": {
      "application/vnd.jupyter.widget-view+json": {
       "model_id": "1e410591e1e043bcbed4594778893433",
       "version_major": 2,
       "version_minor": 0
      },
      "text/plain": [
       "test:   0%|          | 0/10000 [00:00<?, ?it/s]"
      ]
     },
     "metadata": {},
     "output_type": "display_data"
    },
    {
     "name": "stdout",
     "output_type": "stream",
     "text": [
      "train: 0.8557 loss: 0.28306577430964114\n",
      "train val: 0.8388 loss: 0.3127427103129463\n",
      "test: 0.6367 loss: 0.6639435690104961\n",
      "epoch time: 11.92min\n",
      "removing /mnt/d/workspace/clotho/notebooks/checkpoints/stats_v7_lg_24.json\n",
      "removing /mnt/d/workspace/clotho/notebooks/checkpoints/harness_v7_lg_24.pkl\n",
      "best model: /mnt/d/workspace/clotho/notebooks/checkpoints/harness_v7_lg_49.pkl\n",
      "best train: 0.8557\n",
      "best train val: 0.8388\n",
      "best test: 0.6367\n",
      "epoch 50 version: 7\n"
     ]
    },
    {
     "data": {
      "application/vnd.jupyter.widget-view+json": {
       "model_id": "abf9d40ce6a34c8b9cce1dec22010b05",
       "version_major": 2,
       "version_minor": 0
      },
      "text/plain": [
       "train:   0%|          | 0/20000 [00:00<?, ?it/s]"
      ]
     },
     "metadata": {},
     "output_type": "display_data"
    },
    {
     "data": {
      "application/vnd.jupyter.widget-view+json": {
       "model_id": "de43b8deb96f412a9730df797cdd51db",
       "version_major": 2,
       "version_minor": 0
      },
      "text/plain": [
       "train val:   0%|          | 0/10000 [00:00<?, ?it/s]"
      ]
     },
     "metadata": {},
     "output_type": "display_data"
    },
    {
     "data": {
      "application/vnd.jupyter.widget-view+json": {
       "model_id": "b20bfc3f78584c8d9dafc5ed7b357fc0",
       "version_major": 2,
       "version_minor": 0
      },
      "text/plain": [
       "test:   0%|          | 0/10000 [00:00<?, ?it/s]"
      ]
     },
     "metadata": {},
     "output_type": "display_data"
    },
    {
     "name": "stdout",
     "output_type": "stream",
     "text": [
      "train: 0.8592 loss: 0.2798756128535686\n",
      "train val: 0.8379 loss: 0.31424290698851853\n",
      "test: 0.6351 loss: 0.6469682263374329\n",
      "epoch time: 11.50min\n",
      "removing /mnt/d/workspace/clotho/notebooks/checkpoints/stats_v7_lg_47.json\n",
      "removing /mnt/d/workspace/clotho/notebooks/checkpoints/harness_v7_lg_47.pkl\n",
      "best model: /mnt/d/workspace/clotho/notebooks/checkpoints/harness_v7_lg_49.pkl\n",
      "best train: 0.8557\n",
      "best train val: 0.8388\n",
      "best test: 0.6367\n",
      "epoch 51 version: 7\n"
     ]
    },
    {
     "data": {
      "application/vnd.jupyter.widget-view+json": {
       "model_id": "e57bb4c7d1354ba6b6ceec79bedda9c3",
       "version_major": 2,
       "version_minor": 0
      },
      "text/plain": [
       "train:   0%|          | 0/20000 [00:00<?, ?it/s]"
      ]
     },
     "metadata": {},
     "output_type": "display_data"
    },
    {
     "data": {
      "application/vnd.jupyter.widget-view+json": {
       "model_id": "f5b5c4f1f97547c588a3202ceb064de8",
       "version_major": 2,
       "version_minor": 0
      },
      "text/plain": [
       "train val:   0%|          | 0/10000 [00:00<?, ?it/s]"
      ]
     },
     "metadata": {},
     "output_type": "display_data"
    },
    {
     "data": {
      "application/vnd.jupyter.widget-view+json": {
       "model_id": "0fc43ab49d554e1d934f16a8e1b7a4e4",
       "version_major": 2,
       "version_minor": 0
      },
      "text/plain": [
       "test:   0%|          | 0/10000 [00:00<?, ?it/s]"
      ]
     },
     "metadata": {},
     "output_type": "display_data"
    },
    {
     "name": "stdout",
     "output_type": "stream",
     "text": [
      "train: 0.8619 loss: 0.2798786346570466\n",
      "train val: 0.8329 loss: 0.32918188860050684\n",
      "test: 0.6344 loss: 0.6590392148971558\n",
      "epoch time: 11.60min\n",
      "removing /mnt/d/workspace/clotho/notebooks/checkpoints/stats_v7_lg_30.json\n",
      "removing /mnt/d/workspace/clotho/notebooks/checkpoints/harness_v7_lg_30.pkl\n",
      "best model: /mnt/d/workspace/clotho/notebooks/checkpoints/harness_v7_lg_49.pkl\n",
      "best train: 0.8557\n",
      "best train val: 0.8388\n",
      "best test: 0.6367\n",
      "epoch 52 version: 7\n"
     ]
    },
    {
     "data": {
      "application/vnd.jupyter.widget-view+json": {
       "model_id": "44d11ff7d123494caf49b5ea5ab882e1",
       "version_major": 2,
       "version_minor": 0
      },
      "text/plain": [
       "train:   0%|          | 0/20000 [00:00<?, ?it/s]"
      ]
     },
     "metadata": {},
     "output_type": "display_data"
    },
    {
     "data": {
      "application/vnd.jupyter.widget-view+json": {
       "model_id": "20dce6ebca97454abc9e5823edb797e4",
       "version_major": 2,
       "version_minor": 0
      },
      "text/plain": [
       "train val:   0%|          | 0/10000 [00:00<?, ?it/s]"
      ]
     },
     "metadata": {},
     "output_type": "display_data"
    },
    {
     "data": {
      "application/vnd.jupyter.widget-view+json": {
       "model_id": "8088b3f4dcfd42179bc006db7c4470af",
       "version_major": 2,
       "version_minor": 0
      },
      "text/plain": [
       "test:   0%|          | 0/10000 [00:00<?, ?it/s]"
      ]
     },
     "metadata": {},
     "output_type": "display_data"
    },
    {
     "name": "stdout",
     "output_type": "stream",
     "text": [
      "train: 0.86205 loss: 0.2761512268064406\n",
      "train val: 0.8426 loss: 0.3053539008471118\n",
      "test: 0.629 loss: 0.6681913953423501\n",
      "epoch time: 11.61min\n",
      "removing /mnt/d/workspace/clotho/notebooks/checkpoints/stats_v7_lg_51.json\n",
      "removing /mnt/d/workspace/clotho/notebooks/checkpoints/harness_v7_lg_51.pkl\n",
      "best model: /mnt/d/workspace/clotho/notebooks/checkpoints/harness_v7_lg_52.pkl\n",
      "best train: 0.86205\n",
      "best train val: 0.8426\n",
      "best test: 0.629\n",
      "epoch 53 version: 7\n"
     ]
    },
    {
     "data": {
      "application/vnd.jupyter.widget-view+json": {
       "model_id": "110968d481eb4ac9b5d4cc80cce338ec",
       "version_major": 2,
       "version_minor": 0
      },
      "text/plain": [
       "train:   0%|          | 0/20000 [00:00<?, ?it/s]"
      ]
     },
     "metadata": {},
     "output_type": "display_data"
    },
    {
     "data": {
      "application/vnd.jupyter.widget-view+json": {
       "model_id": "cfdde3b7e9264c65b91bf0a1af388fa8",
       "version_major": 2,
       "version_minor": 0
      },
      "text/plain": [
       "train val:   0%|          | 0/10000 [00:00<?, ?it/s]"
      ]
     },
     "metadata": {},
     "output_type": "display_data"
    },
    {
     "data": {
      "application/vnd.jupyter.widget-view+json": {
       "model_id": "0c2380e4749547feb3c9e03413eb19ec",
       "version_major": 2,
       "version_minor": 0
      },
      "text/plain": [
       "test:   0%|          | 0/10000 [00:00<?, ?it/s]"
      ]
     },
     "metadata": {},
     "output_type": "display_data"
    },
    {
     "name": "stdout",
     "output_type": "stream",
     "text": [
      "train: 0.862 loss: 0.278598617850064\n",
      "train val: 0.8445 loss: 0.3006295190533636\n",
      "test: 0.6762 loss: 0.6180580321192741\n",
      "epoch time: 12.10min\n",
      "removing /mnt/d/workspace/clotho/notebooks/checkpoints/stats_v7_lg_45.json\n",
      "removing /mnt/d/workspace/clotho/notebooks/checkpoints/harness_v7_lg_45.pkl\n",
      "best model: /mnt/d/workspace/clotho/notebooks/checkpoints/harness_v7_lg_53.pkl\n",
      "best train: 0.862\n",
      "best train val: 0.8445\n",
      "best test: 0.6762\n",
      "epoch 54 version: 7\n"
     ]
    },
    {
     "data": {
      "application/vnd.jupyter.widget-view+json": {
       "model_id": "befc96553cb64a43aeeb5e8d1d391082",
       "version_major": 2,
       "version_minor": 0
      },
      "text/plain": [
       "train:   0%|          | 0/20000 [00:00<?, ?it/s]"
      ]
     },
     "metadata": {},
     "output_type": "display_data"
    },
    {
     "data": {
      "application/vnd.jupyter.widget-view+json": {
       "model_id": "d7fb8e2341984328a88cccf2918d6278",
       "version_major": 2,
       "version_minor": 0
      },
      "text/plain": [
       "train val:   0%|          | 0/10000 [00:00<?, ?it/s]"
      ]
     },
     "metadata": {},
     "output_type": "display_data"
    },
    {
     "data": {
      "application/vnd.jupyter.widget-view+json": {
       "model_id": "5e11d0cf2bb34788ae22fe976fcc05b3",
       "version_major": 2,
       "version_minor": 0
      },
      "text/plain": [
       "test:   0%|          | 0/10000 [00:00<?, ?it/s]"
      ]
     },
     "metadata": {},
     "output_type": "display_data"
    },
    {
     "name": "stdout",
     "output_type": "stream",
     "text": [
      "train: 0.8638 loss: 0.2725735216546337\n",
      "train val: 0.8381 loss: 0.31565728066063137\n",
      "test: 0.6115 loss: 0.6758421383619309\n",
      "epoch time: 11.66min\n",
      "removing /mnt/d/workspace/clotho/notebooks/checkpoints/stats_v7_lg_50.json\n",
      "removing /mnt/d/workspace/clotho/notebooks/checkpoints/harness_v7_lg_50.pkl\n",
      "best model: /mnt/d/workspace/clotho/notebooks/checkpoints/harness_v7_lg_53.pkl\n",
      "best train: 0.862\n",
      "best train val: 0.8445\n",
      "best test: 0.6762\n",
      "epoch 55 version: 7\n"
     ]
    },
    {
     "data": {
      "application/vnd.jupyter.widget-view+json": {
       "model_id": "5cc50456ff6e40d1a57d25d2f484b588",
       "version_major": 2,
       "version_minor": 0
      },
      "text/plain": [
       "train:   0%|          | 0/20000 [00:00<?, ?it/s]"
      ]
     },
     "metadata": {},
     "output_type": "display_data"
    },
    {
     "data": {
      "application/vnd.jupyter.widget-view+json": {
       "model_id": "3064fc7297184b09a76f96d5bc3f6f39",
       "version_major": 2,
       "version_minor": 0
      },
      "text/plain": [
       "train val:   0%|          | 0/10000 [00:00<?, ?it/s]"
      ]
     },
     "metadata": {},
     "output_type": "display_data"
    },
    {
     "data": {
      "application/vnd.jupyter.widget-view+json": {
       "model_id": "15ddf5e41d6e4c32bf80b042d5847648",
       "version_major": 2,
       "version_minor": 0
      },
      "text/plain": [
       "test:   0%|          | 0/10000 [00:00<?, ?it/s]"
      ]
     },
     "metadata": {},
     "output_type": "display_data"
    },
    {
     "name": "stdout",
     "output_type": "stream",
     "text": [
      "train: 0.86475 loss: 0.27514878662751546\n",
      "train val: 0.8439 loss: 0.30971433395585046\n",
      "test: 0.5982 loss: 0.6941601879119873\n",
      "epoch time: 11.37min\n",
      "removing /mnt/d/workspace/clotho/notebooks/checkpoints/stats_v7_lg_54.json\n",
      "removing /mnt/d/workspace/clotho/notebooks/checkpoints/harness_v7_lg_54.pkl\n",
      "best model: /mnt/d/workspace/clotho/notebooks/checkpoints/harness_v7_lg_53.pkl\n",
      "best train: 0.862\n",
      "best train val: 0.8445\n",
      "best test: 0.6762\n",
      "epoch 56 version: 7\n"
     ]
    },
    {
     "data": {
      "application/vnd.jupyter.widget-view+json": {
       "model_id": "8065c35625604c74a0460469f05a320d",
       "version_major": 2,
       "version_minor": 0
      },
      "text/plain": [
       "train:   0%|          | 0/20000 [00:00<?, ?it/s]"
      ]
     },
     "metadata": {},
     "output_type": "display_data"
    },
    {
     "data": {
      "application/vnd.jupyter.widget-view+json": {
       "model_id": "165c744beed5483b8a27c548a066852f",
       "version_major": 2,
       "version_minor": 0
      },
      "text/plain": [
       "train val:   0%|          | 0/10000 [00:00<?, ?it/s]"
      ]
     },
     "metadata": {},
     "output_type": "display_data"
    },
    {
     "data": {
      "application/vnd.jupyter.widget-view+json": {
       "model_id": "c1915f1261a94c7ea3f565ba849bd4e8",
       "version_major": 2,
       "version_minor": 0
      },
      "text/plain": [
       "test:   0%|          | 0/10000 [00:00<?, ?it/s]"
      ]
     },
     "metadata": {},
     "output_type": "display_data"
    },
    {
     "name": "stdout",
     "output_type": "stream",
     "text": [
      "train: 0.8665 loss: 0.2650031455201795\n",
      "train val: 0.84 loss: 0.3028156122746538\n",
      "test: 0.6476 loss: 0.6371210885941982\n",
      "epoch time: 11.04min\n",
      "removing /mnt/d/workspace/clotho/notebooks/checkpoints/stats_v7_lg_38.json\n",
      "removing /mnt/d/workspace/clotho/notebooks/checkpoints/harness_v7_lg_38.pkl\n",
      "best model: /mnt/d/workspace/clotho/notebooks/checkpoints/harness_v7_lg_53.pkl\n",
      "best train: 0.862\n",
      "best train val: 0.8445\n",
      "best test: 0.6762\n",
      "epoch 57 version: 7\n"
     ]
    },
    {
     "data": {
      "application/vnd.jupyter.widget-view+json": {
       "model_id": "22ae1f0a67d445a29ecfa9400775e188",
       "version_major": 2,
       "version_minor": 0
      },
      "text/plain": [
       "train:   0%|          | 0/20000 [00:00<?, ?it/s]"
      ]
     },
     "metadata": {},
     "output_type": "display_data"
    },
    {
     "data": {
      "application/vnd.jupyter.widget-view+json": {
       "model_id": "4615c2687d574bb59bb463ac11a63e7b",
       "version_major": 2,
       "version_minor": 0
      },
      "text/plain": [
       "train val:   0%|          | 0/10000 [00:00<?, ?it/s]"
      ]
     },
     "metadata": {},
     "output_type": "display_data"
    },
    {
     "data": {
      "application/vnd.jupyter.widget-view+json": {
       "model_id": "137439c2042d4ef3b2616e0afc3c0b6c",
       "version_major": 2,
       "version_minor": 0
      },
      "text/plain": [
       "test:   0%|          | 0/10000 [00:00<?, ?it/s]"
      ]
     },
     "metadata": {},
     "output_type": "display_data"
    },
    {
     "name": "stdout",
     "output_type": "stream",
     "text": [
      "train: 0.8691 loss: 0.3361394404377519\n",
      "train val: 0.8302 loss: 0.4636776018871926\n",
      "test: 0.6225 loss: 0.6923075205862522\n",
      "epoch time: 11.06min\n",
      "removing /mnt/d/workspace/clotho/notebooks/checkpoints/stats_v7_lg_48.json\n",
      "removing /mnt/d/workspace/clotho/notebooks/checkpoints/harness_v7_lg_48.pkl\n",
      "best model: /mnt/d/workspace/clotho/notebooks/checkpoints/harness_v7_lg_53.pkl\n",
      "best train: 0.862\n",
      "best train val: 0.8445\n",
      "best test: 0.6762\n",
      "epoch 58 version: 7\n"
     ]
    },
    {
     "data": {
      "application/vnd.jupyter.widget-view+json": {
       "model_id": "ae419a5058c4448fb255e61b5baa5fcf",
       "version_major": 2,
       "version_minor": 0
      },
      "text/plain": [
       "train:   0%|          | 0/20000 [00:00<?, ?it/s]"
      ]
     },
     "metadata": {},
     "output_type": "display_data"
    },
    {
     "data": {
      "application/vnd.jupyter.widget-view+json": {
       "model_id": "df473711992940a49544840e9281823b",
       "version_major": 2,
       "version_minor": 0
      },
      "text/plain": [
       "train val:   0%|          | 0/10000 [00:00<?, ?it/s]"
      ]
     },
     "metadata": {},
     "output_type": "display_data"
    },
    {
     "data": {
      "application/vnd.jupyter.widget-view+json": {
       "model_id": "ee74cd2fc01548b387099838254fd6dc",
       "version_major": 2,
       "version_minor": 0
      },
      "text/plain": [
       "test:   0%|          | 0/10000 [00:00<?, ?it/s]"
      ]
     },
     "metadata": {},
     "output_type": "display_data"
    },
    {
     "name": "stdout",
     "output_type": "stream",
     "text": [
      "train: 0.8611 loss: 0.28834252949907124\n",
      "train val: 0.8424 loss: 0.3362196940633137\n",
      "test: 0.6467 loss: 0.6391314842164516\n",
      "epoch time: 11.15min\n",
      "removing /mnt/d/workspace/clotho/notebooks/checkpoints/stats_v7_lg_57.json\n",
      "removing /mnt/d/workspace/clotho/notebooks/checkpoints/harness_v7_lg_57.pkl\n",
      "best model: /mnt/d/workspace/clotho/notebooks/checkpoints/harness_v7_lg_53.pkl\n",
      "best train: 0.862\n",
      "best train val: 0.8445\n",
      "best test: 0.6762\n",
      "epoch 59 version: 7\n"
     ]
    },
    {
     "data": {
      "application/vnd.jupyter.widget-view+json": {
       "model_id": "fa92779fca04443d84134f69e800ad00",
       "version_major": 2,
       "version_minor": 0
      },
      "text/plain": [
       "train:   0%|          | 0/20000 [00:00<?, ?it/s]"
      ]
     },
     "metadata": {},
     "output_type": "display_data"
    },
    {
     "data": {
      "application/vnd.jupyter.widget-view+json": {
       "model_id": "13b61165c2e2410194dcec4360efdc47",
       "version_major": 2,
       "version_minor": 0
      },
      "text/plain": [
       "train val:   0%|          | 0/10000 [00:00<?, ?it/s]"
      ]
     },
     "metadata": {},
     "output_type": "display_data"
    },
    {
     "data": {
      "application/vnd.jupyter.widget-view+json": {
       "model_id": "4cbb982951fd4a0eb76487dcec07d765",
       "version_major": 2,
       "version_minor": 0
      },
      "text/plain": [
       "test:   0%|          | 0/10000 [00:00<?, ?it/s]"
      ]
     },
     "metadata": {},
     "output_type": "display_data"
    },
    {
     "name": "stdout",
     "output_type": "stream",
     "text": [
      "train: 0.86285 loss: 0.28689074027874556\n",
      "train val: 0.8425 loss: 0.32466846278341255\n",
      "test: 0.6427 loss: 0.6653563000380993\n",
      "epoch time: 11.13min\n",
      "removing /mnt/d/workspace/clotho/notebooks/checkpoints/stats_v7_lg_49.json\n",
      "removing /mnt/d/workspace/clotho/notebooks/checkpoints/harness_v7_lg_49.pkl\n",
      "best model: /mnt/d/workspace/clotho/notebooks/checkpoints/harness_v7_lg_53.pkl\n",
      "best train: 0.862\n",
      "best train val: 0.8445\n",
      "best test: 0.6762\n"
     ]
    },
    {
     "data": {
      "application/vnd.jupyter.widget-view+json": {
       "model_id": "cd0c93b9d326468196a34fe25daa148a",
       "version_major": 2,
       "version_minor": 0
      },
      "text/plain": [
       "test val:   0%|          | 0/10000 [00:00<?, ?it/s]"
      ]
     },
     "metadata": {},
     "output_type": "display_data"
    },
    {
     "name": "stdout",
     "output_type": "stream",
     "text": [
      "test val: {'accuracy': 0.6358} loss: 0.664364072239399\n",
      "correct\n"
     ]
    },
    {
     "data": {
      "text/html": [
       "<div>\n",
       "<style scoped>\n",
       "    .dataframe tbody tr th:only-of-type {\n",
       "        vertical-align: middle;\n",
       "    }\n",
       "\n",
       "    .dataframe tbody tr th {\n",
       "        vertical-align: top;\n",
       "    }\n",
       "\n",
       "    .dataframe thead th {\n",
       "        text-align: right;\n",
       "    }\n",
       "</style>\n",
       "<table border=\"1\" class=\"dataframe\">\n",
       "  <thead>\n",
       "    <tr style=\"text-align: right;\">\n",
       "      <th></th>\n",
       "      <th>gen_name</th>\n",
       "      <th>parent_left</th>\n",
       "      <th>child_left</th>\n",
       "      <th>parent_right</th>\n",
       "      <th>child_right</th>\n",
       "      <th>score_left</th>\n",
       "      <th>score_right</th>\n",
       "      <th>correct_is_right</th>\n",
       "      <th>logit_left</th>\n",
       "      <th>logit_right</th>\n",
       "      <th>preds</th>\n",
       "      <th>truth</th>\n",
       "    </tr>\n",
       "  </thead>\n",
       "  <tbody>\n",
       "    <tr>\n",
       "      <th>0</th>\n",
       "      <td>!copy--valid_weak;(st)</td>\n",
       "      <td>Well, shit dude.</td>\n",
       "      <td>Everyone in my family is nagging me with the f...</td>\n",
       "      <td>Everyone in my family is nagging me with the f...</td>\n",
       "      <td>Well, shit dude.</td>\n",
       "      <td>0</td>\n",
       "      <td>1</td>\n",
       "      <td>True</td>\n",
       "      <td>0.057739</td>\n",
       "      <td>0.942261</td>\n",
       "      <td>1</td>\n",
       "      <td>1</td>\n",
       "    </tr>\n",
       "    <tr>\n",
       "      <th>1</th>\n",
       "      <td>*valid_weak--!copy;(st)</td>\n",
       "      <td>Not using 1-10, how attractive are you?</td>\n",
       "      <td>Let's just say my Facebook relationship status...</td>\n",
       "      <td>Let's just say my Facebook relationship status...</td>\n",
       "      <td>Not using 1-10, how attractive are you?</td>\n",
       "      <td>1</td>\n",
       "      <td>0</td>\n",
       "      <td>False</td>\n",
       "      <td>0.562334</td>\n",
       "      <td>0.437666</td>\n",
       "      <td>0</td>\n",
       "      <td>0</td>\n",
       "    </tr>\n",
       "    <tr>\n",
       "      <th>3</th>\n",
       "      <td>random--valid_weak;(st)</td>\n",
       "      <td>I can’t stand the smell of truffle oil. Makes ...</td>\n",
       "      <td>my cat's name is Guy, just so I can go \"hey Gu...</td>\n",
       "      <td>Guys….what is a big turn off that girls still ...</td>\n",
       "      <td>Long manicured nails</td>\n",
       "      <td>0</td>\n",
       "      <td>5</td>\n",
       "      <td>True</td>\n",
       "      <td>0.432723</td>\n",
       "      <td>0.567277</td>\n",
       "      <td>1</td>\n",
       "      <td>1</td>\n",
       "    </tr>\n",
       "    <tr>\n",
       "      <th>3</th>\n",
       "      <td>random--valid_weak;(st)</td>\n",
       "      <td>Perfect Dark (N64)</td>\n",
       "      <td>Exactly. In the 1960s I had their album, \"[The...</td>\n",
       "      <td>Not using 1-10, how attractive are you?</td>\n",
       "      <td>I look like a dwarf from Middle Earth.</td>\n",
       "      <td>0</td>\n",
       "      <td>1</td>\n",
       "      <td>True</td>\n",
       "      <td>0.325380</td>\n",
       "      <td>0.674620</td>\n",
       "      <td>1</td>\n",
       "      <td>1</td>\n",
       "    </tr>\n",
       "    <tr>\n",
       "      <th>0</th>\n",
       "      <td>*valid_weak--random;(st)</td>\n",
       "      <td>&gt;Some day true 3D will be invented with true e...</td>\n",
       "      <td>It will also put strain on your eyes with exte...</td>\n",
       "      <td>Hard to find someone to suck it.</td>\n",
       "      <td>I'm with you 100% on Radiohead. All of their s...</td>\n",
       "      <td>8</td>\n",
       "      <td>0</td>\n",
       "      <td>False</td>\n",
       "      <td>0.755868</td>\n",
       "      <td>0.244132</td>\n",
       "      <td>0</td>\n",
       "      <td>0</td>\n",
       "    </tr>\n",
       "  </tbody>\n",
       "</table>\n",
       "</div>"
      ],
      "text/plain": [
       "                   gen_name  \\\n",
       "0    !copy--valid_weak;(st)   \n",
       "1   *valid_weak--!copy;(st)   \n",
       "3   random--valid_weak;(st)   \n",
       "3   random--valid_weak;(st)   \n",
       "0  *valid_weak--random;(st)   \n",
       "\n",
       "                                         parent_left  \\\n",
       "0                                   Well, shit dude.   \n",
       "1            Not using 1-10, how attractive are you?   \n",
       "3  I can’t stand the smell of truffle oil. Makes ...   \n",
       "3                                 Perfect Dark (N64)   \n",
       "0  >Some day true 3D will be invented with true e...   \n",
       "\n",
       "                                          child_left  \\\n",
       "0  Everyone in my family is nagging me with the f...   \n",
       "1  Let's just say my Facebook relationship status...   \n",
       "3  my cat's name is Guy, just so I can go \"hey Gu...   \n",
       "3  Exactly. In the 1960s I had their album, \"[The...   \n",
       "0  It will also put strain on your eyes with exte...   \n",
       "\n",
       "                                        parent_right  \\\n",
       "0  Everyone in my family is nagging me with the f...   \n",
       "1  Let's just say my Facebook relationship status...   \n",
       "3  Guys….what is a big turn off that girls still ...   \n",
       "3            Not using 1-10, how attractive are you?   \n",
       "0                   Hard to find someone to suck it.   \n",
       "\n",
       "                                         child_right  score_left  score_right  \\\n",
       "0                                   Well, shit dude.           0            1   \n",
       "1            Not using 1-10, how attractive are you?           1            0   \n",
       "3                               Long manicured nails           0            5   \n",
       "3             I look like a dwarf from Middle Earth.           0            1   \n",
       "0  I'm with you 100% on Radiohead. All of their s...           8            0   \n",
       "\n",
       "   correct_is_right  logit_left  logit_right  preds  truth  \n",
       "0              True    0.057739     0.942261      1      1  \n",
       "1             False    0.562334     0.437666      0      0  \n",
       "3              True    0.432723     0.567277      1      1  \n",
       "3              True    0.325380     0.674620      1      1  \n",
       "0             False    0.755868     0.244132      0      0  "
      ]
     },
     "metadata": {},
     "output_type": "display_data"
    },
    {
     "name": "stdout",
     "output_type": "stream",
     "text": [
      "incorrect\n"
     ]
    },
    {
     "data": {
      "text/html": [
       "<div>\n",
       "<style scoped>\n",
       "    .dataframe tbody tr th:only-of-type {\n",
       "        vertical-align: middle;\n",
       "    }\n",
       "\n",
       "    .dataframe tbody tr th {\n",
       "        vertical-align: top;\n",
       "    }\n",
       "\n",
       "    .dataframe thead th {\n",
       "        text-align: right;\n",
       "    }\n",
       "</style>\n",
       "<table border=\"1\" class=\"dataframe\">\n",
       "  <thead>\n",
       "    <tr style=\"text-align: right;\">\n",
       "      <th></th>\n",
       "      <th>gen_name</th>\n",
       "      <th>parent_left</th>\n",
       "      <th>child_left</th>\n",
       "      <th>parent_right</th>\n",
       "      <th>child_right</th>\n",
       "      <th>score_left</th>\n",
       "      <th>score_right</th>\n",
       "      <th>correct_is_right</th>\n",
       "      <th>logit_left</th>\n",
       "      <th>logit_right</th>\n",
       "      <th>preds</th>\n",
       "      <th>truth</th>\n",
       "    </tr>\n",
       "  </thead>\n",
       "  <tbody>\n",
       "    <tr>\n",
       "      <th>2</th>\n",
       "      <td>random--valid_weak;(st)</td>\n",
       "      <td>White Lotus</td>\n",
       "      <td>She Heard</td>\n",
       "      <td>Sewing. Sewing is awesome. I learned basic sew...</td>\n",
       "      <td>I started sewing to make a quilt out of a pile...</td>\n",
       "      <td>0</td>\n",
       "      <td>3</td>\n",
       "      <td>True</td>\n",
       "      <td>0.549977</td>\n",
       "      <td>0.450023</td>\n",
       "      <td>0</td>\n",
       "      <td>1</td>\n",
       "    </tr>\n",
       "    <tr>\n",
       "      <th>0</th>\n",
       "      <td>random--valid_weak;(st)</td>\n",
       "      <td>It's baffling. With as far as they bend over b...</td>\n",
       "      <td>My girlfriends Dad is 75. If he started doing ...</td>\n",
       "      <td>If you could rename America what would it be c...</td>\n",
       "      <td>Gods Country Giant Sowglobe Dunning Kruger Cou...</td>\n",
       "      <td>0</td>\n",
       "      <td>1</td>\n",
       "      <td>True</td>\n",
       "      <td>0.707941</td>\n",
       "      <td>0.292059</td>\n",
       "      <td>0</td>\n",
       "      <td>1</td>\n",
       "    </tr>\n",
       "    <tr>\n",
       "      <th>1</th>\n",
       "      <td>random--valid_weak;(st)</td>\n",
       "      <td>i was gonna say, he knocks it out of the park ...</td>\n",
       "      <td>when itv drugs you and ruins your life fuck th...</td>\n",
       "      <td>[Serious] How would you react if your partner ...</td>\n",
       "      <td>Immediate breakup.</td>\n",
       "      <td>0</td>\n",
       "      <td>1</td>\n",
       "      <td>True</td>\n",
       "      <td>0.772348</td>\n",
       "      <td>0.227652</td>\n",
       "      <td>0</td>\n",
       "      <td>1</td>\n",
       "    </tr>\n",
       "    <tr>\n",
       "      <th>2</th>\n",
       "      <td>!copy--valid_weak;(st)</td>\n",
       "      <td>plus all the bodies you can bury with no one n...</td>\n",
       "      <td>Landscape maintenance, particularly if the cli...</td>\n",
       "      <td>Landscape maintenance, particularly if the cli...</td>\n",
       "      <td>plus all the bodies you can bury with no one n...</td>\n",
       "      <td>0</td>\n",
       "      <td>6</td>\n",
       "      <td>True</td>\n",
       "      <td>0.593948</td>\n",
       "      <td>0.406052</td>\n",
       "      <td>0</td>\n",
       "      <td>1</td>\n",
       "    </tr>\n",
       "    <tr>\n",
       "      <th>2</th>\n",
       "      <td>*valid_weak--random;(st)</td>\n",
       "      <td>https://youtu.be/_BtemfoJ-WI</td>\n",
       "      <td>I looked it up, and this aired on November 18,...</td>\n",
       "      <td>I have phimosis, a condition that causes the f...</td>\n",
       "      <td>Elizabeth.</td>\n",
       "      <td>29</td>\n",
       "      <td>0</td>\n",
       "      <td>False</td>\n",
       "      <td>0.164590</td>\n",
       "      <td>0.835410</td>\n",
       "      <td>1</td>\n",
       "      <td>0</td>\n",
       "    </tr>\n",
       "  </tbody>\n",
       "</table>\n",
       "</div>"
      ],
      "text/plain": [
       "                   gen_name  \\\n",
       "2   random--valid_weak;(st)   \n",
       "0   random--valid_weak;(st)   \n",
       "1   random--valid_weak;(st)   \n",
       "2    !copy--valid_weak;(st)   \n",
       "2  *valid_weak--random;(st)   \n",
       "\n",
       "                                         parent_left  \\\n",
       "2                                        White Lotus   \n",
       "0  It's baffling. With as far as they bend over b...   \n",
       "1  i was gonna say, he knocks it out of the park ...   \n",
       "2  plus all the bodies you can bury with no one n...   \n",
       "2                       https://youtu.be/_BtemfoJ-WI   \n",
       "\n",
       "                                          child_left  \\\n",
       "2                                          She Heard   \n",
       "0  My girlfriends Dad is 75. If he started doing ...   \n",
       "1  when itv drugs you and ruins your life fuck th...   \n",
       "2  Landscape maintenance, particularly if the cli...   \n",
       "2  I looked it up, and this aired on November 18,...   \n",
       "\n",
       "                                        parent_right  \\\n",
       "2  Sewing. Sewing is awesome. I learned basic sew...   \n",
       "0  If you could rename America what would it be c...   \n",
       "1  [Serious] How would you react if your partner ...   \n",
       "2  Landscape maintenance, particularly if the cli...   \n",
       "2  I have phimosis, a condition that causes the f...   \n",
       "\n",
       "                                         child_right  score_left  score_right  \\\n",
       "2  I started sewing to make a quilt out of a pile...           0            3   \n",
       "0  Gods Country Giant Sowglobe Dunning Kruger Cou...           0            1   \n",
       "1                                 Immediate breakup.           0            1   \n",
       "2  plus all the bodies you can bury with no one n...           0            6   \n",
       "2                                         Elizabeth.          29            0   \n",
       "\n",
       "   correct_is_right  logit_left  logit_right  preds  truth  \n",
       "2              True    0.549977     0.450023      0      1  \n",
       "0              True    0.707941     0.292059      0      1  \n",
       "1              True    0.772348     0.227652      0      1  \n",
       "2              True    0.593948     0.406052      0      1  \n",
       "2             False    0.164590     0.835410      1      0  "
      ]
     },
     "metadata": {},
     "output_type": "display_data"
    },
    {
     "data": {
      "text/plain": [
       "array([[-0.11551081,  0.13599479, -0.02761902, ...,  0.381425  ,\n",
       "        -0.06381778, -0.06347233],\n",
       "       [-0.11600835,  0.13514362, -0.03078164, ...,  0.38134864,\n",
       "        -0.06523218, -0.06295008],\n",
       "       [-0.11608063,  0.13504325, -0.03116311, ...,  0.3813428 ,\n",
       "        -0.06540225, -0.06289509],\n",
       "       [-0.11619676,  0.13488679, -0.03175574, ...,  0.3813355 ,\n",
       "        -0.06566185, -0.06281281]], dtype=float32)"
      ]
     },
     "metadata": {},
     "output_type": "display_data"
    },
    {
     "data": {
      "text/plain": [
       "array([[-0.11656497,  0.13421923, -0.03404678, ...,  0.38132182,\n",
       "        -0.06667476, -0.06249113],\n",
       "       [-0.11657441,  0.1341773 , -0.03416977, ...,  0.38132095,\n",
       "        -0.066732  , -0.06247135],\n",
       "       [-0.11573777,  0.13555887, -0.02920261, ...,  0.3813823 ,\n",
       "        -0.06450719, -0.06319539],\n",
       "       [-0.11663122,  0.13380794, -0.03520275, ...,  0.38130724,\n",
       "        -0.06722078, -0.06229581]], dtype=float32)"
      ]
     },
     "metadata": {},
     "output_type": "display_data"
    },
    {
     "data": {
      "text/plain": [
       "array([[-0.11650437,  0.13440387, -0.03347696, ...,  0.38132483,\n",
       "        -0.06641431, -0.06257805],\n",
       "       [-0.11634392,  0.1346846 , -0.03250701, ...,  0.38132933,\n",
       "        -0.06598744, -0.06271192],\n",
       "       [-0.11647186,  0.1344736 , -0.03324721, ...,  0.38132572,\n",
       "        -0.06631168, -0.06261097],\n",
       "       [-0.11650859,  0.13439383, -0.0335094 , ...,  0.3813247 ,\n",
       "        -0.06642891, -0.06257334]], dtype=float32)"
      ]
     },
     "metadata": {},
     "output_type": "display_data"
    },
    {
     "data": {
      "text/plain": [
       "array([[-0.11563429,  0.13574323, -0.028515  , ...,  0.38140047,\n",
       "        -0.06419583, -0.06331132],\n",
       "       [-0.11660033,  0.1340274 , -0.03459559, ...,  0.3813168 ,\n",
       "        -0.06693251, -0.06240046],\n",
       "       [-0.11663485,  0.13378385, -0.03526915, ...,  0.3813059 ,\n",
       "        -0.06725214, -0.06228424],\n",
       "       [-0.11553719,  0.13593765, -0.02781732, ...,  0.38141963,\n",
       "        -0.06389804, -0.06343558]], dtype=float32)"
      ]
     },
     "metadata": {},
     "output_type": "display_data"
    },
    {
     "data": {
      "text/plain": [
       "array([[-0.11640799,  0.13458686, -0.03285727, ...,  0.38132745,\n",
       "        -0.06613997, -0.06266484],\n",
       "       [-0.11625834,  0.13480397, -0.03206659, ...,  0.38133267,\n",
       "        -0.06579671, -0.06277074],\n",
       "       [-0.11550682,  0.1360037 , -0.02758831, ...,  0.38142568,\n",
       "        -0.06380565, -0.06347799],\n",
       "       [-0.11659941,  0.13403359, -0.03457813, ...,  0.38131693,\n",
       "        -0.06692429, -0.06240343]], dtype=float32)"
      ]
     },
     "metadata": {},
     "output_type": "display_data"
    },
    {
     "data": {
      "text/plain": [
       "array([[-0.11611613,  0.13499503, -0.03134627, ...,  0.3813403 ,\n",
       "        -0.06548296, -0.06286929],\n",
       "       [-0.11531435,  0.13648486, -0.02604626, ...,  0.3814594 ,\n",
       "        -0.06325317, -0.06378379],\n",
       "       [-0.1165837 ,  0.13412999, -0.03430605, ...,  0.38131976,\n",
       "        -0.06679583, -0.06244906],\n",
       "       [-0.11630034,  0.13474639, -0.03228001, ...,  0.38133085,\n",
       "        -0.06588917, -0.06274219]], dtype=float32)"
      ]
     },
     "metadata": {},
     "output_type": "display_data"
    },
    {
     "data": {
      "text/plain": [
       "array([[-0.11657214,  0.13418776, -0.03413924, ...,  0.3813212 ,\n",
       "        -0.06671771, -0.0624763 ],\n",
       "       [-0.11664898,  0.13369483, -0.03551513, ...,  0.3813009 ,\n",
       "        -0.06736799, -0.06224122],\n",
       "       [-0.11647841,  0.13446042, -0.03329112, ...,  0.3813255 ,\n",
       "        -0.06633121, -0.06260476],\n",
       "       [-0.11649711,  0.13442045, -0.03342297, ...,  0.381325  ,\n",
       "        -0.06639005, -0.06258588]], dtype=float32)"
      ]
     },
     "metadata": {},
     "output_type": "display_data"
    },
    {
     "data": {
      "text/plain": [
       "array([[-0.11657441,  0.1341773 , -0.03416977, ...,  0.38132098,\n",
       "        -0.066732  , -0.06247136],\n",
       "       [-0.11560237,  0.13580446, -0.02829164, ...,  0.38140658,\n",
       "        -0.06409805, -0.0633503 ],\n",
       "       [-0.1164401 ,  0.13453281, -0.03304578, ...,  0.38132665,\n",
       "        -0.06622264, -0.06263904],\n",
       "       [-0.1164284 ,  0.13455313, -0.0329755 , ...,  0.3813269 ,\n",
       "        -0.06619169, -0.06264875]], dtype=float32)"
      ]
     },
     "metadata": {},
     "output_type": "display_data"
    },
    {
     "data": {
      "text/plain": [
       "array([[-0.1166673 ,  0.13358957, -0.03580701, ...,  0.38129398,\n",
       "        -0.06750405, -0.06218981],\n",
       "       [-0.11658295,  0.13413402, -0.03429453, ...,  0.38131985,\n",
       "        -0.06679045, -0.06245095],\n",
       "       [-0.11647995,  0.13445728, -0.03330158, ...,  0.3813255 ,\n",
       "        -0.06633586, -0.06260327],\n",
       "       [-0.11662871,  0.13382494, -0.03515565, ...,  0.38130808,\n",
       "        -0.06719847, -0.062304  ]], dtype=float32)"
      ]
     },
     "metadata": {},
     "output_type": "display_data"
    },
    {
     "data": {
      "text/plain": [
       "array([[-0.11648158,  0.13445391, -0.03331285, ...,  0.38132545,\n",
       "        -0.06634086, -0.06260166],\n",
       "       [-0.1161534 ,  0.1349449 , -0.0315362 , ...,  0.381338  ,\n",
       "        -0.0655662 , -0.06284288],\n",
       "       [-0.11659382,  0.1340701 , -0.03447589, ...,  0.38131818,\n",
       "        -0.0668759 , -0.06242072],\n",
       "       [-0.11657241,  0.1341865 , -0.0341429 , ...,  0.3813211 ,\n",
       "        -0.06671941, -0.06247572]], dtype=float32)"
      ]
     },
     "metadata": {},
     "output_type": "display_data"
    }
   ],
   "source": [
    "full_run(num_epochs=60, version=7, force_restart=False)"
   ]
  },
  {
   "cell_type": "code",
   "execution_count": 26,
   "id": "d20325a9-6827-4eb0-988e-4c5d9a8791dd",
   "metadata": {
    "collapsed": true,
    "jupyter": {
     "outputs_hidden": true
    },
    "tags": []
   },
   "outputs": [
    {
     "name": "stderr",
     "output_type": "stream",
     "text": [
      "Some weights of the model checkpoint at distilbert-base-uncased were not used when initializing DistilBertModel: ['vocab_transform.bias', 'vocab_transform.weight', 'vocab_layer_norm.bias', 'vocab_layer_norm.weight', 'vocab_projector.bias', 'vocab_projector.weight']\n",
      "- This IS expected if you are initializing DistilBertModel from the checkpoint of a model trained on another task or with another architecture (e.g. initializing a BertForSequenceClassification model from a BertForPreTraining model).\n",
      "- This IS NOT expected if you are initializing DistilBertModel from the checkpoint of a model that you expect to be exactly identical (initializing a BertForSequenceClassification model from a BertForSequenceClassification model).\n",
      "Some weights of the model checkpoint at distilbert-base-uncased were not used when initializing DistilBertModel: ['vocab_transform.bias', 'vocab_transform.weight', 'vocab_layer_norm.bias', 'vocab_layer_norm.weight', 'vocab_projector.bias', 'vocab_projector.weight']\n",
      "- This IS expected if you are initializing DistilBertModel from the checkpoint of a model trained on another task or with another architecture (e.g. initializing a BertForSequenceClassification model from a BertForPreTraining model).\n",
      "- This IS NOT expected if you are initializing DistilBertModel from the checkpoint of a model that you expect to be exactly identical (initializing a BertForSequenceClassification model from a BertForSequenceClassification model).\n"
     ]
    },
    {
     "name": "stdout",
     "output_type": "stream",
     "text": [
      "('harness_v0_lg_29.pkl', 29) 30\n",
      "epoch 30 version: 0\n"
     ]
    },
    {
     "data": {
      "application/vnd.jupyter.widget-view+json": {
       "model_id": "97252135c270499486ff0950b59939d2",
       "version_major": 2,
       "version_minor": 0
      },
      "text/plain": [
       "train:   0%|          | 0/20000 [00:00<?, ?it/s]"
      ]
     },
     "metadata": {},
     "output_type": "display_data"
    },
    {
     "data": {
      "application/vnd.jupyter.widget-view+json": {
       "model_id": "760e8ae58e4d49488323746f3dbeb907",
       "version_major": 2,
       "version_minor": 0
      },
      "text/plain": [
       "train val:   0%|          | 0/10000 [00:00<?, ?it/s]"
      ]
     },
     "metadata": {},
     "output_type": "display_data"
    },
    {
     "data": {
      "application/vnd.jupyter.widget-view+json": {
       "model_id": "a8f7e5fca03544aa9c023875dea83ea7",
       "version_major": 2,
       "version_minor": 0
      },
      "text/plain": [
       "test:   0%|          | 0/10000 [00:00<?, ?it/s]"
      ]
     },
     "metadata": {},
     "output_type": "display_data"
    },
    {
     "name": "stdout",
     "output_type": "stream",
     "text": [
      "train: 0.8545 loss: 0.2930830791927958\n",
      "train val: 0.832 loss: 0.36815425810525787\n",
      "test: 0.6582 loss: 0.6089331197559833\n",
      "epoch time: 10.82min\n",
      "removing /mnt/d/workspace/clotho/notebooks/checkpoints/stats_v0_lg_19.json\n",
      "removing /mnt/d/workspace/clotho/notebooks/checkpoints/harness_v0_lg_19.pkl\n",
      "best model: /mnt/d/workspace/clotho/notebooks/checkpoints/harness_v0_lg_25.pkl\n",
      "best train: 0.84275\n",
      "best train val: 0.8343\n",
      "best test: 0.6657\n",
      "epoch 31 version: 0\n"
     ]
    },
    {
     "data": {
      "application/vnd.jupyter.widget-view+json": {
       "model_id": "39e5cfb99780462a9cde0cd61dcc11d9",
       "version_major": 2,
       "version_minor": 0
      },
      "text/plain": [
       "train:   0%|          | 0/20000 [00:00<?, ?it/s]"
      ]
     },
     "metadata": {},
     "output_type": "display_data"
    },
    {
     "data": {
      "application/vnd.jupyter.widget-view+json": {
       "model_id": "643e0afb810441b7bae22d1d4650ed04",
       "version_major": 2,
       "version_minor": 0
      },
      "text/plain": [
       "train val:   0%|          | 0/10000 [00:00<?, ?it/s]"
      ]
     },
     "metadata": {},
     "output_type": "display_data"
    },
    {
     "data": {
      "application/vnd.jupyter.widget-view+json": {
       "model_id": "635fb36dbb67479cb8a1bba0c455eb61",
       "version_major": 2,
       "version_minor": 0
      },
      "text/plain": [
       "test:   0%|          | 0/10000 [00:00<?, ?it/s]"
      ]
     },
     "metadata": {},
     "output_type": "display_data"
    },
    {
     "name": "stdout",
     "output_type": "stream",
     "text": [
      "train: 0.8647 loss: 0.27738376892286226\n",
      "train val: 0.8376 loss: 0.3164855332360374\n",
      "test: 0.6236 loss: 0.6594423912286759\n",
      "epoch time: 10.87min\n",
      "removing /mnt/d/workspace/clotho/notebooks/checkpoints/stats_v0_lg_28.json\n",
      "removing /mnt/d/workspace/clotho/notebooks/checkpoints/harness_v0_lg_28.pkl\n",
      "best model: /mnt/d/workspace/clotho/notebooks/checkpoints/harness_v0_lg_31.pkl\n",
      "best train: 0.8647\n",
      "best train val: 0.8376\n",
      "best test: 0.6236\n",
      "epoch 32 version: 0\n"
     ]
    },
    {
     "data": {
      "application/vnd.jupyter.widget-view+json": {
       "model_id": "6e1ff26ceddb4208a35bfb570278ec3f",
       "version_major": 2,
       "version_minor": 0
      },
      "text/plain": [
       "train:   0%|          | 0/20000 [00:00<?, ?it/s]"
      ]
     },
     "metadata": {},
     "output_type": "display_data"
    },
    {
     "data": {
      "application/vnd.jupyter.widget-view+json": {
       "model_id": "37506777f008460da6f5cbde84df1118",
       "version_major": 2,
       "version_minor": 0
      },
      "text/plain": [
       "train val:   0%|          | 0/10000 [00:00<?, ?it/s]"
      ]
     },
     "metadata": {},
     "output_type": "display_data"
    },
    {
     "data": {
      "application/vnd.jupyter.widget-view+json": {
       "model_id": "6cb06c5456be4af6b02a03942d6b0225",
       "version_major": 2,
       "version_minor": 0
      },
      "text/plain": [
       "test:   0%|          | 0/10000 [00:00<?, ?it/s]"
      ]
     },
     "metadata": {},
     "output_type": "display_data"
    },
    {
     "name": "stdout",
     "output_type": "stream",
     "text": [
      "train: 0.8482 loss: 0.5090018135297725\n",
      "train val: 0.8293 loss: 0.3320808148105629\n",
      "test: 0.674 loss: 0.6337667864441872\n",
      "epoch time: 11.07min\n",
      "removing /mnt/d/workspace/clotho/notebooks/checkpoints/stats_v0_lg_20.json\n",
      "removing /mnt/d/workspace/clotho/notebooks/checkpoints/harness_v0_lg_20.pkl\n",
      "best model: /mnt/d/workspace/clotho/notebooks/checkpoints/harness_v0_lg_31.pkl\n",
      "best train: 0.8647\n",
      "best train val: 0.8376\n",
      "best test: 0.6236\n",
      "epoch 33 version: 0\n"
     ]
    },
    {
     "data": {
      "application/vnd.jupyter.widget-view+json": {
       "model_id": "80844ddebe0040ff9c247e69d75b7347",
       "version_major": 2,
       "version_minor": 0
      },
      "text/plain": [
       "train:   0%|          | 0/20000 [00:00<?, ?it/s]"
      ]
     },
     "metadata": {},
     "output_type": "display_data"
    },
    {
     "data": {
      "application/vnd.jupyter.widget-view+json": {
       "model_id": "f43c3ad40c2b42dfaf1e3714ebe86c2a",
       "version_major": 2,
       "version_minor": 0
      },
      "text/plain": [
       "train val:   0%|          | 0/10000 [00:00<?, ?it/s]"
      ]
     },
     "metadata": {},
     "output_type": "display_data"
    },
    {
     "data": {
      "application/vnd.jupyter.widget-view+json": {
       "model_id": "4925d286785b494d98059f4df3b5147e",
       "version_major": 2,
       "version_minor": 0
      },
      "text/plain": [
       "test:   0%|          | 0/10000 [00:00<?, ?it/s]"
      ]
     },
     "metadata": {},
     "output_type": "display_data"
    },
    {
     "name": "stdout",
     "output_type": "stream",
     "text": [
      "train: 0.84805 loss: 0.3024816233511912\n",
      "train val: 0.8308 loss: 0.32334064783118666\n",
      "test: 0.6611 loss: 0.624293101900816\n",
      "epoch time: 11.27min\n",
      "removing /mnt/d/workspace/clotho/notebooks/checkpoints/stats_v0_lg_32.json\n",
      "removing /mnt/d/workspace/clotho/notebooks/checkpoints/harness_v0_lg_32.pkl\n",
      "best model: /mnt/d/workspace/clotho/notebooks/checkpoints/harness_v0_lg_31.pkl\n",
      "best train: 0.8647\n",
      "best train val: 0.8376\n",
      "best test: 0.6236\n",
      "epoch 34 version: 0\n"
     ]
    },
    {
     "data": {
      "application/vnd.jupyter.widget-view+json": {
       "model_id": "8e9159da04224ab1b3810cbb332135be",
       "version_major": 2,
       "version_minor": 0
      },
      "text/plain": [
       "train:   0%|          | 0/20000 [00:00<?, ?it/s]"
      ]
     },
     "metadata": {},
     "output_type": "display_data"
    },
    {
     "data": {
      "application/vnd.jupyter.widget-view+json": {
       "model_id": "fe39fa5e0c9e40a5a3f3f819bacf7848",
       "version_major": 2,
       "version_minor": 0
      },
      "text/plain": [
       "train val:   0%|          | 0/10000 [00:00<?, ?it/s]"
      ]
     },
     "metadata": {},
     "output_type": "display_data"
    },
    {
     "data": {
      "application/vnd.jupyter.widget-view+json": {
       "model_id": "9bccb815fc6e40fd988f7aef5d68b221",
       "version_major": 2,
       "version_minor": 0
      },
      "text/plain": [
       "test:   0%|          | 0/10000 [00:00<?, ?it/s]"
      ]
     },
     "metadata": {},
     "output_type": "display_data"
    },
    {
     "name": "stdout",
     "output_type": "stream",
     "text": [
      "train: 0.85905 loss: 0.2870155635169998\n",
      "train val: 0.8388 loss: 0.3178310388619604\n",
      "test: 0.6875 loss: 0.5958668727338314\n",
      "epoch time: 11.00min\n",
      "removing /mnt/d/workspace/clotho/notebooks/checkpoints/stats_v0_lg_29.json\n",
      "removing /mnt/d/workspace/clotho/notebooks/checkpoints/harness_v0_lg_29.pkl\n",
      "best model: /mnt/d/workspace/clotho/notebooks/checkpoints/harness_v0_lg_34.pkl\n",
      "best train: 0.85905\n",
      "best train val: 0.8388\n",
      "best test: 0.6875\n",
      "epoch 35 version: 0\n"
     ]
    },
    {
     "data": {
      "application/vnd.jupyter.widget-view+json": {
       "model_id": "9cd8ae8dc482455eba325a9b3085908b",
       "version_major": 2,
       "version_minor": 0
      },
      "text/plain": [
       "train:   0%|          | 0/20000 [00:00<?, ?it/s]"
      ]
     },
     "metadata": {},
     "output_type": "display_data"
    },
    {
     "data": {
      "application/vnd.jupyter.widget-view+json": {
       "model_id": "db5998e90474441cae57e03dc7e14f9e",
       "version_major": 2,
       "version_minor": 0
      },
      "text/plain": [
       "train val:   0%|          | 0/10000 [00:00<?, ?it/s]"
      ]
     },
     "metadata": {},
     "output_type": "display_data"
    },
    {
     "data": {
      "application/vnd.jupyter.widget-view+json": {
       "model_id": "0b7aae66fa384850a4e04642bd22f934",
       "version_major": 2,
       "version_minor": 0
      },
      "text/plain": [
       "test:   0%|          | 0/10000 [00:00<?, ?it/s]"
      ]
     },
     "metadata": {},
     "output_type": "display_data"
    },
    {
     "name": "stdout",
     "output_type": "stream",
     "text": [
      "train: 0.85475 loss: 0.2885046123142069\n",
      "train val: 0.8392 loss: 0.31714966740831735\n",
      "test: 0.6832 loss: 0.5946834074795246\n",
      "epoch time: 11.01min\n",
      "removing /mnt/d/workspace/clotho/notebooks/checkpoints/stats_v0_lg_33.json\n",
      "removing /mnt/d/workspace/clotho/notebooks/checkpoints/harness_v0_lg_33.pkl\n",
      "best model: /mnt/d/workspace/clotho/notebooks/checkpoints/harness_v0_lg_35.pkl\n",
      "best train: 0.85475\n",
      "best train val: 0.8392\n",
      "best test: 0.6832\n",
      "epoch 36 version: 0\n"
     ]
    },
    {
     "data": {
      "application/vnd.jupyter.widget-view+json": {
       "model_id": "903490d760ce46a7b81e3b61142624f2",
       "version_major": 2,
       "version_minor": 0
      },
      "text/plain": [
       "train:   0%|          | 0/20000 [00:00<?, ?it/s]"
      ]
     },
     "metadata": {},
     "output_type": "display_data"
    },
    {
     "data": {
      "application/vnd.jupyter.widget-view+json": {
       "model_id": "43045c03e9294385920fcf89e6e388be",
       "version_major": 2,
       "version_minor": 0
      },
      "text/plain": [
       "train val:   0%|          | 0/10000 [00:00<?, ?it/s]"
      ]
     },
     "metadata": {},
     "output_type": "display_data"
    },
    {
     "data": {
      "application/vnd.jupyter.widget-view+json": {
       "model_id": "16bf25ea8f3142699c4735042fdcf2e1",
       "version_major": 2,
       "version_minor": 0
      },
      "text/plain": [
       "test:   0%|          | 0/10000 [00:00<?, ?it/s]"
      ]
     },
     "metadata": {},
     "output_type": "display_data"
    },
    {
     "name": "stdout",
     "output_type": "stream",
     "text": [
      "train: 0.8583 loss: 0.2907000780255139\n",
      "train val: 0.8337 loss: 0.3285378302402487\n",
      "test: 0.6937 loss: 0.5965054853320122\n",
      "epoch time: 11.10min\n",
      "removing /mnt/d/workspace/clotho/notebooks/checkpoints/stats_v0_lg_30.json\n",
      "removing /mnt/d/workspace/clotho/notebooks/checkpoints/harness_v0_lg_30.pkl\n",
      "best model: /mnt/d/workspace/clotho/notebooks/checkpoints/harness_v0_lg_35.pkl\n",
      "best train: 0.85475\n",
      "best train val: 0.8392\n",
      "best test: 0.6832\n",
      "epoch 37 version: 0\n"
     ]
    },
    {
     "data": {
      "application/vnd.jupyter.widget-view+json": {
       "model_id": "8dd06e7892e6459ead99d7782c93bb0d",
       "version_major": 2,
       "version_minor": 0
      },
      "text/plain": [
       "train:   0%|          | 0/20000 [00:00<?, ?it/s]"
      ]
     },
     "metadata": {},
     "output_type": "display_data"
    },
    {
     "data": {
      "application/vnd.jupyter.widget-view+json": {
       "model_id": "5b84947b025f476aa61393d8735df0b1",
       "version_major": 2,
       "version_minor": 0
      },
      "text/plain": [
       "train val:   0%|          | 0/10000 [00:00<?, ?it/s]"
      ]
     },
     "metadata": {},
     "output_type": "display_data"
    },
    {
     "data": {
      "application/vnd.jupyter.widget-view+json": {
       "model_id": "d95e6717fc934552bac04d1defac92f2",
       "version_major": 2,
       "version_minor": 0
      },
      "text/plain": [
       "test:   0%|          | 0/10000 [00:00<?, ?it/s]"
      ]
     },
     "metadata": {},
     "output_type": "display_data"
    },
    {
     "name": "stdout",
     "output_type": "stream",
     "text": [
      "train: 0.8602 loss: 0.2786949282535919\n",
      "train val: 0.8472 loss: 0.3037523846804468\n",
      "test: 0.6783 loss: 0.5970984381973743\n",
      "epoch time: 11.16min\n",
      "removing /mnt/d/workspace/clotho/notebooks/checkpoints/stats_v0_lg_26.json\n",
      "removing /mnt/d/workspace/clotho/notebooks/checkpoints/harness_v0_lg_26.pkl\n",
      "best model: /mnt/d/workspace/clotho/notebooks/checkpoints/harness_v0_lg_37.pkl\n",
      "best train: 0.8602\n",
      "best train val: 0.8472\n",
      "best test: 0.6783\n",
      "epoch 38 version: 0\n"
     ]
    },
    {
     "data": {
      "application/vnd.jupyter.widget-view+json": {
       "model_id": "1fa6312f08d24feda42200a0d1b27c74",
       "version_major": 2,
       "version_minor": 0
      },
      "text/plain": [
       "train:   0%|          | 0/20000 [00:00<?, ?it/s]"
      ]
     },
     "metadata": {},
     "output_type": "display_data"
    },
    {
     "data": {
      "application/vnd.jupyter.widget-view+json": {
       "model_id": "e9d33b8deddd4379bbc215781ef358e0",
       "version_major": 2,
       "version_minor": 0
      },
      "text/plain": [
       "train val:   0%|          | 0/10000 [00:00<?, ?it/s]"
      ]
     },
     "metadata": {},
     "output_type": "display_data"
    },
    {
     "data": {
      "application/vnd.jupyter.widget-view+json": {
       "model_id": "beb5563ba7f04cefa0f2468bbffb11ab",
       "version_major": 2,
       "version_minor": 0
      },
      "text/plain": [
       "test:   0%|          | 0/10000 [00:00<?, ?it/s]"
      ]
     },
     "metadata": {},
     "output_type": "display_data"
    },
    {
     "name": "stdout",
     "output_type": "stream",
     "text": [
      "train: 0.8599 loss: 0.27496337901609347\n",
      "train val: 0.8449 loss: 0.31449131865578167\n",
      "test: 0.6546 loss: 0.6290451382428408\n",
      "epoch time: 11.10min\n",
      "removing /mnt/d/workspace/clotho/notebooks/checkpoints/stats_v0_lg_36.json\n",
      "removing /mnt/d/workspace/clotho/notebooks/checkpoints/harness_v0_lg_36.pkl\n",
      "best model: /mnt/d/workspace/clotho/notebooks/checkpoints/harness_v0_lg_37.pkl\n",
      "best train: 0.8602\n",
      "best train val: 0.8472\n",
      "best test: 0.6783\n",
      "epoch 39 version: 0\n"
     ]
    },
    {
     "data": {
      "application/vnd.jupyter.widget-view+json": {
       "model_id": "4808e5fe22f34129bfdcb11a02d66a04",
       "version_major": 2,
       "version_minor": 0
      },
      "text/plain": [
       "train:   0%|          | 0/20000 [00:00<?, ?it/s]"
      ]
     },
     "metadata": {},
     "output_type": "display_data"
    },
    {
     "data": {
      "application/vnd.jupyter.widget-view+json": {
       "model_id": "415c397e83094f2aa43a1e797d6a2257",
       "version_major": 2,
       "version_minor": 0
      },
      "text/plain": [
       "train val:   0%|          | 0/10000 [00:00<?, ?it/s]"
      ]
     },
     "metadata": {},
     "output_type": "display_data"
    },
    {
     "data": {
      "application/vnd.jupyter.widget-view+json": {
       "model_id": "78512e4eba674d5d9e1a588bfdfb9f06",
       "version_major": 2,
       "version_minor": 0
      },
      "text/plain": [
       "test:   0%|          | 0/10000 [00:00<?, ?it/s]"
      ]
     },
     "metadata": {},
     "output_type": "display_data"
    },
    {
     "name": "stdout",
     "output_type": "stream",
     "text": [
      "train: 0.8589 loss: 0.2824095829890992\n",
      "train val: 0.8405 loss: 0.31130140707171583\n",
      "test: 0.6562 loss: 0.6263403931498528\n",
      "epoch time: 11.21min\n",
      "removing /mnt/d/workspace/clotho/notebooks/checkpoints/stats_v0_lg_25.json\n",
      "removing /mnt/d/workspace/clotho/notebooks/checkpoints/harness_v0_lg_25.pkl\n",
      "best model: /mnt/d/workspace/clotho/notebooks/checkpoints/harness_v0_lg_37.pkl\n",
      "best train: 0.8602\n",
      "best train val: 0.8472\n",
      "best test: 0.6783\n",
      "epoch 40 version: 0\n"
     ]
    },
    {
     "data": {
      "application/vnd.jupyter.widget-view+json": {
       "model_id": "99a082b93729489d96e1559891cf2830",
       "version_major": 2,
       "version_minor": 0
      },
      "text/plain": [
       "train:   0%|          | 0/20000 [00:00<?, ?it/s]"
      ]
     },
     "metadata": {},
     "output_type": "display_data"
    },
    {
     "data": {
      "application/vnd.jupyter.widget-view+json": {
       "model_id": "5a9bf7979f7041bbb6365c73de3bf929",
       "version_major": 2,
       "version_minor": 0
      },
      "text/plain": [
       "train val:   0%|          | 0/10000 [00:00<?, ?it/s]"
      ]
     },
     "metadata": {},
     "output_type": "display_data"
    },
    {
     "data": {
      "application/vnd.jupyter.widget-view+json": {
       "model_id": "ea63d99ea131400ea49ef1261a7fe143",
       "version_major": 2,
       "version_minor": 0
      },
      "text/plain": [
       "test:   0%|          | 0/10000 [00:00<?, ?it/s]"
      ]
     },
     "metadata": {},
     "output_type": "display_data"
    },
    {
     "name": "stdout",
     "output_type": "stream",
     "text": [
      "train: 0.8638 loss: 0.27980845612424365\n",
      "train val: 0.8451 loss: 0.3095564467765084\n",
      "test: 0.6759 loss: 0.6108444450497628\n",
      "epoch time: 10.87min\n",
      "removing /mnt/d/workspace/clotho/notebooks/checkpoints/stats_v0_lg_31.json\n",
      "removing /mnt/d/workspace/clotho/notebooks/checkpoints/harness_v0_lg_31.pkl\n",
      "best model: /mnt/d/workspace/clotho/notebooks/checkpoints/harness_v0_lg_37.pkl\n",
      "best train: 0.8602\n",
      "best train val: 0.8472\n",
      "best test: 0.6783\n",
      "epoch 41 version: 0\n"
     ]
    },
    {
     "data": {
      "application/vnd.jupyter.widget-view+json": {
       "model_id": "e4e4f85790824d3b982c0117d99fc7cf",
       "version_major": 2,
       "version_minor": 0
      },
      "text/plain": [
       "train:   0%|          | 0/20000 [00:00<?, ?it/s]"
      ]
     },
     "metadata": {},
     "output_type": "display_data"
    },
    {
     "data": {
      "application/vnd.jupyter.widget-view+json": {
       "model_id": "5bb7ca4cade744f5b456ed069e8c6b55",
       "version_major": 2,
       "version_minor": 0
      },
      "text/plain": [
       "train val:   0%|          | 0/10000 [00:00<?, ?it/s]"
      ]
     },
     "metadata": {},
     "output_type": "display_data"
    },
    {
     "data": {
      "application/vnd.jupyter.widget-view+json": {
       "model_id": "7c4db3f8299a4550867640ed43b20bc6",
       "version_major": 2,
       "version_minor": 0
      },
      "text/plain": [
       "test:   0%|          | 0/10000 [00:00<?, ?it/s]"
      ]
     },
     "metadata": {},
     "output_type": "display_data"
    },
    {
     "name": "stdout",
     "output_type": "stream",
     "text": [
      "train: 0.8624 loss: 0.2777259007076558\n",
      "train val: 0.8444 loss: 0.31673322193394426\n",
      "test: 0.649 loss: 0.6438459145605564\n",
      "epoch time: 11.00min\n",
      "removing /mnt/d/workspace/clotho/notebooks/checkpoints/stats_v0_lg_34.json\n",
      "removing /mnt/d/workspace/clotho/notebooks/checkpoints/harness_v0_lg_34.pkl\n",
      "best model: /mnt/d/workspace/clotho/notebooks/checkpoints/harness_v0_lg_37.pkl\n",
      "best train: 0.8602\n",
      "best train val: 0.8472\n",
      "best test: 0.6783\n",
      "epoch 42 version: 0\n"
     ]
    },
    {
     "data": {
      "application/vnd.jupyter.widget-view+json": {
       "model_id": "9bac0d3aa31f46c192f3f7b9752d75ed",
       "version_major": 2,
       "version_minor": 0
      },
      "text/plain": [
       "train:   0%|          | 0/20000 [00:00<?, ?it/s]"
      ]
     },
     "metadata": {},
     "output_type": "display_data"
    },
    {
     "data": {
      "application/vnd.jupyter.widget-view+json": {
       "model_id": "e28aa02124ce4831a870cb81e80f0179",
       "version_major": 2,
       "version_minor": 0
      },
      "text/plain": [
       "train val:   0%|          | 0/10000 [00:00<?, ?it/s]"
      ]
     },
     "metadata": {},
     "output_type": "display_data"
    },
    {
     "data": {
      "application/vnd.jupyter.widget-view+json": {
       "model_id": "ae559d844dc9459cbe56ec474c7123d2",
       "version_major": 2,
       "version_minor": 0
      },
      "text/plain": [
       "test:   0%|          | 0/10000 [00:00<?, ?it/s]"
      ]
     },
     "metadata": {},
     "output_type": "display_data"
    },
    {
     "name": "stdout",
     "output_type": "stream",
     "text": [
      "train: 0.8705 loss: 0.26647521669770213\n",
      "train val: 0.8469 loss: 0.3100521717863632\n",
      "test: 0.6637 loss: 0.6441883063822985\n",
      "epoch time: 10.92min\n",
      "removing /mnt/d/workspace/clotho/notebooks/checkpoints/stats_v0_lg_35.json\n",
      "removing /mnt/d/workspace/clotho/notebooks/checkpoints/harness_v0_lg_35.pkl\n",
      "best model: /mnt/d/workspace/clotho/notebooks/checkpoints/harness_v0_lg_37.pkl\n",
      "best train: 0.8602\n",
      "best train val: 0.8472\n",
      "best test: 0.6783\n",
      "epoch 43 version: 0\n"
     ]
    },
    {
     "data": {
      "application/vnd.jupyter.widget-view+json": {
       "model_id": "40b1a4b3df86483faf0b542be6d6f6b5",
       "version_major": 2,
       "version_minor": 0
      },
      "text/plain": [
       "train:   0%|          | 0/20000 [00:00<?, ?it/s]"
      ]
     },
     "metadata": {},
     "output_type": "display_data"
    },
    {
     "data": {
      "application/vnd.jupyter.widget-view+json": {
       "model_id": "2d1485d3166e4fd8acb60d3b33d12cb8",
       "version_major": 2,
       "version_minor": 0
      },
      "text/plain": [
       "train val:   0%|          | 0/10000 [00:00<?, ?it/s]"
      ]
     },
     "metadata": {},
     "output_type": "display_data"
    },
    {
     "data": {
      "application/vnd.jupyter.widget-view+json": {
       "model_id": "e696e89928c24c03bba9728fa80a4f76",
       "version_major": 2,
       "version_minor": 0
      },
      "text/plain": [
       "test:   0%|          | 0/10000 [00:00<?, ?it/s]"
      ]
     },
     "metadata": {},
     "output_type": "display_data"
    },
    {
     "name": "stdout",
     "output_type": "stream",
     "text": [
      "train: 0.86575 loss: 0.2736969131191835\n",
      "train val: 0.841 loss: 0.30980527609343994\n",
      "test: 0.6196 loss: 0.6672998216807843\n",
      "epoch time: 10.87min\n",
      "removing /mnt/d/workspace/clotho/notebooks/checkpoints/stats_v0_lg_39.json\n",
      "removing /mnt/d/workspace/clotho/notebooks/checkpoints/harness_v0_lg_39.pkl\n",
      "best model: /mnt/d/workspace/clotho/notebooks/checkpoints/harness_v0_lg_37.pkl\n",
      "best train: 0.8602\n",
      "best train val: 0.8472\n",
      "best test: 0.6783\n",
      "epoch 44 version: 0\n"
     ]
    },
    {
     "data": {
      "application/vnd.jupyter.widget-view+json": {
       "model_id": "13fd40347e4843b0af6cf508757418a9",
       "version_major": 2,
       "version_minor": 0
      },
      "text/plain": [
       "train:   0%|          | 0/20000 [00:00<?, ?it/s]"
      ]
     },
     "metadata": {},
     "output_type": "display_data"
    },
    {
     "data": {
      "application/vnd.jupyter.widget-view+json": {
       "model_id": "5400cd872a43480c917cecbc7086ef94",
       "version_major": 2,
       "version_minor": 0
      },
      "text/plain": [
       "train val:   0%|          | 0/10000 [00:00<?, ?it/s]"
      ]
     },
     "metadata": {},
     "output_type": "display_data"
    },
    {
     "data": {
      "application/vnd.jupyter.widget-view+json": {
       "model_id": "badeb661f3cb40e8ad2b39109a6e4ac9",
       "version_major": 2,
       "version_minor": 0
      },
      "text/plain": [
       "test:   0%|          | 0/10000 [00:00<?, ?it/s]"
      ]
     },
     "metadata": {},
     "output_type": "display_data"
    },
    {
     "name": "stdout",
     "output_type": "stream",
     "text": [
      "train: 0.86555 loss: 0.26815168514939924\n",
      "train val: 0.8417 loss: 0.31880175926222293\n",
      "test: 0.6482 loss: 0.6381483630001545\n",
      "epoch time: 10.91min\n",
      "removing /mnt/d/workspace/clotho/notebooks/checkpoints/stats_v0_lg_43.json\n",
      "removing /mnt/d/workspace/clotho/notebooks/checkpoints/harness_v0_lg_43.pkl\n",
      "best model: /mnt/d/workspace/clotho/notebooks/checkpoints/harness_v0_lg_37.pkl\n",
      "best train: 0.8602\n",
      "best train val: 0.8472\n",
      "best test: 0.6783\n",
      "epoch 45 version: 0\n"
     ]
    },
    {
     "data": {
      "application/vnd.jupyter.widget-view+json": {
       "model_id": "cdee1c83df2441cd8e4730d47459aeb4",
       "version_major": 2,
       "version_minor": 0
      },
      "text/plain": [
       "train:   0%|          | 0/20000 [00:00<?, ?it/s]"
      ]
     },
     "metadata": {},
     "output_type": "display_data"
    },
    {
     "data": {
      "application/vnd.jupyter.widget-view+json": {
       "model_id": "cf64477ed846439cb9ad2e9d9f825a79",
       "version_major": 2,
       "version_minor": 0
      },
      "text/plain": [
       "train val:   0%|          | 0/10000 [00:00<?, ?it/s]"
      ]
     },
     "metadata": {},
     "output_type": "display_data"
    },
    {
     "data": {
      "application/vnd.jupyter.widget-view+json": {
       "model_id": "4487e2efe293470ea3e484bdd96f7d91",
       "version_major": 2,
       "version_minor": 0
      },
      "text/plain": [
       "test:   0%|          | 0/10000 [00:00<?, ?it/s]"
      ]
     },
     "metadata": {},
     "output_type": "display_data"
    },
    {
     "name": "stdout",
     "output_type": "stream",
     "text": [
      "train: 0.86545 loss: 0.2732220701014035\n",
      "train val: 0.8421 loss: 0.3224487233900771\n",
      "test: 0.6646 loss: 0.6260255055725574\n",
      "epoch time: 11.18min\n",
      "removing /mnt/d/workspace/clotho/notebooks/checkpoints/stats_v0_lg_44.json\n",
      "removing /mnt/d/workspace/clotho/notebooks/checkpoints/harness_v0_lg_44.pkl\n",
      "best model: /mnt/d/workspace/clotho/notebooks/checkpoints/harness_v0_lg_37.pkl\n",
      "best train: 0.8602\n",
      "best train val: 0.8472\n",
      "best test: 0.6783\n",
      "epoch 46 version: 0\n"
     ]
    },
    {
     "data": {
      "application/vnd.jupyter.widget-view+json": {
       "model_id": "6ee2e71fe2684395b208aec9be0b6e44",
       "version_major": 2,
       "version_minor": 0
      },
      "text/plain": [
       "train:   0%|          | 0/20000 [00:00<?, ?it/s]"
      ]
     },
     "metadata": {},
     "output_type": "display_data"
    },
    {
     "data": {
      "application/vnd.jupyter.widget-view+json": {
       "model_id": "057bff3835bf44e7b04382c5029070e4",
       "version_major": 2,
       "version_minor": 0
      },
      "text/plain": [
       "train val:   0%|          | 0/10000 [00:00<?, ?it/s]"
      ]
     },
     "metadata": {},
     "output_type": "display_data"
    },
    {
     "data": {
      "application/vnd.jupyter.widget-view+json": {
       "model_id": "67ec181eecc847da83959a7b85ee30d7",
       "version_major": 2,
       "version_minor": 0
      },
      "text/plain": [
       "test:   0%|          | 0/10000 [00:00<?, ?it/s]"
      ]
     },
     "metadata": {},
     "output_type": "display_data"
    },
    {
     "name": "stdout",
     "output_type": "stream",
     "text": [
      "train: 0.8649 loss: 0.2771087793903173\n",
      "train val: 0.8509 loss: 0.3019993343231963\n",
      "test: 0.6254 loss: 0.6477751151561737\n",
      "epoch time: 11.21min\n",
      "removing /mnt/d/workspace/clotho/notebooks/checkpoints/stats_v0_lg_45.json\n",
      "removing /mnt/d/workspace/clotho/notebooks/checkpoints/harness_v0_lg_45.pkl\n",
      "best model: /mnt/d/workspace/clotho/notebooks/checkpoints/harness_v0_lg_46.pkl\n",
      "best train: 0.8649\n",
      "best train val: 0.8509\n",
      "best test: 0.6254\n",
      "epoch 47 version: 0\n"
     ]
    },
    {
     "data": {
      "application/vnd.jupyter.widget-view+json": {
       "model_id": "69760f9cf7504da69ae345ce3fa2227f",
       "version_major": 2,
       "version_minor": 0
      },
      "text/plain": [
       "train:   0%|          | 0/20000 [00:00<?, ?it/s]"
      ]
     },
     "metadata": {},
     "output_type": "display_data"
    },
    {
     "data": {
      "application/vnd.jupyter.widget-view+json": {
       "model_id": "7a915923772b446591622d58a802256b",
       "version_major": 2,
       "version_minor": 0
      },
      "text/plain": [
       "train val:   0%|          | 0/10000 [00:00<?, ?it/s]"
      ]
     },
     "metadata": {},
     "output_type": "display_data"
    },
    {
     "data": {
      "application/vnd.jupyter.widget-view+json": {
       "model_id": "8252a578a988434899b7039db1ba1198",
       "version_major": 2,
       "version_minor": 0
      },
      "text/plain": [
       "test:   0%|          | 0/10000 [00:00<?, ?it/s]"
      ]
     },
     "metadata": {},
     "output_type": "display_data"
    },
    {
     "name": "stdout",
     "output_type": "stream",
     "text": [
      "train: 0.8684 loss: 0.2732613351965747\n",
      "train val: 0.8544 loss: 0.3002696533829334\n",
      "test: 0.6866 loss: 0.6025977047801018\n",
      "epoch time: 10.82min\n",
      "removing /mnt/d/workspace/clotho/notebooks/checkpoints/stats_v0_lg_41.json\n",
      "removing /mnt/d/workspace/clotho/notebooks/checkpoints/harness_v0_lg_41.pkl\n",
      "best model: /mnt/d/workspace/clotho/notebooks/checkpoints/harness_v0_lg_47.pkl\n",
      "best train: 0.8684\n",
      "best train val: 0.8544\n",
      "best test: 0.6866\n",
      "epoch 48 version: 0\n"
     ]
    },
    {
     "data": {
      "application/vnd.jupyter.widget-view+json": {
       "model_id": "906e74ee1da6409c88ff790af018eabc",
       "version_major": 2,
       "version_minor": 0
      },
      "text/plain": [
       "train:   0%|          | 0/20000 [00:00<?, ?it/s]"
      ]
     },
     "metadata": {},
     "output_type": "display_data"
    },
    {
     "data": {
      "application/vnd.jupyter.widget-view+json": {
       "model_id": "49c7e3f5ce3a4c849ed9541825115f59",
       "version_major": 2,
       "version_minor": 0
      },
      "text/plain": [
       "train val:   0%|          | 0/10000 [00:00<?, ?it/s]"
      ]
     },
     "metadata": {},
     "output_type": "display_data"
    },
    {
     "data": {
      "application/vnd.jupyter.widget-view+json": {
       "model_id": "cee6b40025e94561964320d4aecd6143",
       "version_major": 2,
       "version_minor": 0
      },
      "text/plain": [
       "test:   0%|          | 0/10000 [00:00<?, ?it/s]"
      ]
     },
     "metadata": {},
     "output_type": "display_data"
    },
    {
     "name": "stdout",
     "output_type": "stream",
     "text": [
      "train: 0.8638 loss: 0.26962655645301087\n",
      "train val: 0.8418 loss: 0.31145973225462875\n",
      "test: 0.6133 loss: 0.6841188693583011\n",
      "epoch time: 10.97min\n",
      "removing /mnt/d/workspace/clotho/notebooks/checkpoints/stats_v0_lg_38.json\n",
      "removing /mnt/d/workspace/clotho/notebooks/checkpoints/harness_v0_lg_38.pkl\n",
      "best model: /mnt/d/workspace/clotho/notebooks/checkpoints/harness_v0_lg_47.pkl\n",
      "best train: 0.8684\n",
      "best train val: 0.8544\n",
      "best test: 0.6866\n",
      "epoch 49 version: 0\n"
     ]
    },
    {
     "data": {
      "application/vnd.jupyter.widget-view+json": {
       "model_id": "dd60466a5a73448f9421ee85e5edc66f",
       "version_major": 2,
       "version_minor": 0
      },
      "text/plain": [
       "train:   0%|          | 0/20000 [00:00<?, ?it/s]"
      ]
     },
     "metadata": {},
     "output_type": "display_data"
    },
    {
     "data": {
      "application/vnd.jupyter.widget-view+json": {
       "model_id": "dd2a5c644c404f4ea366783f7e2ebeb8",
       "version_major": 2,
       "version_minor": 0
      },
      "text/plain": [
       "train val:   0%|          | 0/10000 [00:00<?, ?it/s]"
      ]
     },
     "metadata": {},
     "output_type": "display_data"
    },
    {
     "data": {
      "application/vnd.jupyter.widget-view+json": {
       "model_id": "37d7e84c29d1475e8b8d624fe2b90588",
       "version_major": 2,
       "version_minor": 0
      },
      "text/plain": [
       "test:   0%|          | 0/10000 [00:00<?, ?it/s]"
      ]
     },
     "metadata": {},
     "output_type": "display_data"
    },
    {
     "name": "stdout",
     "output_type": "stream",
     "text": [
      "train: 0.8671 loss: 0.26697529374588536\n",
      "train val: 0.855 loss: 0.29714787225780054\n",
      "test: 0.6563 loss: 0.6379779640972614\n",
      "epoch time: 11.01min\n",
      "removing /mnt/d/workspace/clotho/notebooks/checkpoints/stats_v0_lg_48.json\n",
      "removing /mnt/d/workspace/clotho/notebooks/checkpoints/harness_v0_lg_48.pkl\n",
      "best model: /mnt/d/workspace/clotho/notebooks/checkpoints/harness_v0_lg_49.pkl\n",
      "best train: 0.8671\n",
      "best train val: 0.855\n",
      "best test: 0.6563\n",
      "epoch 50 version: 0\n"
     ]
    },
    {
     "data": {
      "application/vnd.jupyter.widget-view+json": {
       "model_id": "ce5ef942ff5243169424e566c0bb1500",
       "version_major": 2,
       "version_minor": 0
      },
      "text/plain": [
       "train:   0%|          | 0/20000 [00:00<?, ?it/s]"
      ]
     },
     "metadata": {},
     "output_type": "display_data"
    },
    {
     "data": {
      "application/vnd.jupyter.widget-view+json": {
       "model_id": "6d3375c513ec4b898083670403d7969f",
       "version_major": 2,
       "version_minor": 0
      },
      "text/plain": [
       "train val:   0%|          | 0/10000 [00:00<?, ?it/s]"
      ]
     },
     "metadata": {},
     "output_type": "display_data"
    },
    {
     "data": {
      "application/vnd.jupyter.widget-view+json": {
       "model_id": "b0c9123bf6f34648a9922e0d0c73e9ac",
       "version_major": 2,
       "version_minor": 0
      },
      "text/plain": [
       "test:   0%|          | 0/10000 [00:00<?, ?it/s]"
      ]
     },
     "metadata": {},
     "output_type": "display_data"
    },
    {
     "name": "stdout",
     "output_type": "stream",
     "text": [
      "train: 0.8696 loss: 0.261803767261792\n",
      "train val: 0.8531 loss: 0.30438657168689603\n",
      "test: 0.648 loss: 0.6568904908776283\n",
      "epoch time: 10.87min\n",
      "removing /mnt/d/workspace/clotho/notebooks/checkpoints/stats_v0_lg_40.json\n",
      "removing /mnt/d/workspace/clotho/notebooks/checkpoints/harness_v0_lg_40.pkl\n",
      "best model: /mnt/d/workspace/clotho/notebooks/checkpoints/harness_v0_lg_49.pkl\n",
      "best train: 0.8671\n",
      "best train val: 0.855\n",
      "best test: 0.6563\n",
      "epoch 51 version: 0\n"
     ]
    },
    {
     "data": {
      "application/vnd.jupyter.widget-view+json": {
       "model_id": "35bece3700904cdea6a3d6a2cbb31a55",
       "version_major": 2,
       "version_minor": 0
      },
      "text/plain": [
       "train:   0%|          | 0/20000 [00:00<?, ?it/s]"
      ]
     },
     "metadata": {},
     "output_type": "display_data"
    },
    {
     "data": {
      "application/vnd.jupyter.widget-view+json": {
       "model_id": "a7a63ae23e374917aef3e244bb6c3942",
       "version_major": 2,
       "version_minor": 0
      },
      "text/plain": [
       "train val:   0%|          | 0/10000 [00:00<?, ?it/s]"
      ]
     },
     "metadata": {},
     "output_type": "display_data"
    },
    {
     "data": {
      "application/vnd.jupyter.widget-view+json": {
       "model_id": "cd0744af2028436fa720456f69cb861e",
       "version_major": 2,
       "version_minor": 0
      },
      "text/plain": [
       "test:   0%|          | 0/10000 [00:00<?, ?it/s]"
      ]
     },
     "metadata": {},
     "output_type": "display_data"
    },
    {
     "name": "stdout",
     "output_type": "stream",
     "text": [
      "train: 0.87115 loss: 0.26419997400783407\n",
      "train val: 0.8524 loss: 0.2987704005960986\n",
      "test: 0.6559 loss: 0.6352466516971588\n",
      "epoch time: 10.85min\n",
      "removing /mnt/d/workspace/clotho/notebooks/checkpoints/stats_v0_lg_42.json\n",
      "removing /mnt/d/workspace/clotho/notebooks/checkpoints/harness_v0_lg_42.pkl\n",
      "best model: /mnt/d/workspace/clotho/notebooks/checkpoints/harness_v0_lg_49.pkl\n",
      "best train: 0.8671\n",
      "best train val: 0.855\n",
      "best test: 0.6563\n",
      "epoch 52 version: 0\n"
     ]
    },
    {
     "data": {
      "application/vnd.jupyter.widget-view+json": {
       "model_id": "c35689f48c2040eaa22057d6d96416dc",
       "version_major": 2,
       "version_minor": 0
      },
      "text/plain": [
       "train:   0%|          | 0/20000 [00:00<?, ?it/s]"
      ]
     },
     "metadata": {},
     "output_type": "display_data"
    },
    {
     "data": {
      "application/vnd.jupyter.widget-view+json": {
       "model_id": "ef0f2dafc2f646b38bd01681e14ecbff",
       "version_major": 2,
       "version_minor": 0
      },
      "text/plain": [
       "train val:   0%|          | 0/10000 [00:00<?, ?it/s]"
      ]
     },
     "metadata": {},
     "output_type": "display_data"
    },
    {
     "data": {
      "application/vnd.jupyter.widget-view+json": {
       "model_id": "5d6947c606c74634a61ed926b5bc9b9f",
       "version_major": 2,
       "version_minor": 0
      },
      "text/plain": [
       "test:   0%|          | 0/10000 [00:00<?, ?it/s]"
      ]
     },
     "metadata": {},
     "output_type": "display_data"
    },
    {
     "name": "stdout",
     "output_type": "stream",
     "text": [
      "train: 0.8735 loss: 0.25869348659626246\n",
      "train val: 0.855 loss: 0.29856384631009225\n",
      "test: 0.63 loss: 0.6769213825911283\n",
      "epoch time: 10.85min\n",
      "removing /mnt/d/workspace/clotho/notebooks/checkpoints/stats_v0_lg_37.json\n",
      "removing /mnt/d/workspace/clotho/notebooks/checkpoints/harness_v0_lg_37.pkl\n",
      "best model: /mnt/d/workspace/clotho/notebooks/checkpoints/harness_v0_lg_49.pkl\n",
      "best train: 0.8671\n",
      "best train val: 0.855\n",
      "best test: 0.6563\n",
      "epoch 53 version: 0\n"
     ]
    },
    {
     "data": {
      "application/vnd.jupyter.widget-view+json": {
       "model_id": "e926782932c449a8bd8a534ca32bdb94",
       "version_major": 2,
       "version_minor": 0
      },
      "text/plain": [
       "train:   0%|          | 0/20000 [00:00<?, ?it/s]"
      ]
     },
     "metadata": {},
     "output_type": "display_data"
    },
    {
     "data": {
      "application/vnd.jupyter.widget-view+json": {
       "model_id": "7b776846509746169c997b91a7fd0f8c",
       "version_major": 2,
       "version_minor": 0
      },
      "text/plain": [
       "train val:   0%|          | 0/10000 [00:00<?, ?it/s]"
      ]
     },
     "metadata": {},
     "output_type": "display_data"
    },
    {
     "data": {
      "application/vnd.jupyter.widget-view+json": {
       "model_id": "541d1cedd1fc4cb591489dfc2e90ccfb",
       "version_major": 2,
       "version_minor": 0
      },
      "text/plain": [
       "test:   0%|          | 0/10000 [00:00<?, ?it/s]"
      ]
     },
     "metadata": {},
     "output_type": "display_data"
    },
    {
     "name": "stdout",
     "output_type": "stream",
     "text": [
      "train: 0.87045 loss: 0.2643251661088315\n",
      "train val: 0.855 loss: 0.28999787910113445\n",
      "test: 0.6795 loss: 0.6063530896186828\n",
      "epoch time: 10.79min\n",
      "removing /mnt/d/workspace/clotho/notebooks/checkpoints/stats_v0_lg_46.json\n",
      "removing /mnt/d/workspace/clotho/notebooks/checkpoints/harness_v0_lg_46.pkl\n",
      "best model: /mnt/d/workspace/clotho/notebooks/checkpoints/harness_v0_lg_53.pkl\n",
      "best train: 0.87045\n",
      "best train val: 0.855\n",
      "best test: 0.6795\n",
      "epoch 54 version: 0\n"
     ]
    },
    {
     "data": {
      "application/vnd.jupyter.widget-view+json": {
       "model_id": "722165e6af83451f835dd30871fcdd88",
       "version_major": 2,
       "version_minor": 0
      },
      "text/plain": [
       "train:   0%|          | 0/20000 [00:00<?, ?it/s]"
      ]
     },
     "metadata": {},
     "output_type": "display_data"
    },
    {
     "data": {
      "application/vnd.jupyter.widget-view+json": {
       "model_id": "66ee5828e114473ba1b24ee4f02d1c21",
       "version_major": 2,
       "version_minor": 0
      },
      "text/plain": [
       "train val:   0%|          | 0/10000 [00:00<?, ?it/s]"
      ]
     },
     "metadata": {},
     "output_type": "display_data"
    },
    {
     "data": {
      "application/vnd.jupyter.widget-view+json": {
       "model_id": "fe01588d7c1f48aeb595058c14a9e3d4",
       "version_major": 2,
       "version_minor": 0
      },
      "text/plain": [
       "test:   0%|          | 0/10000 [00:00<?, ?it/s]"
      ]
     },
     "metadata": {},
     "output_type": "display_data"
    },
    {
     "name": "stdout",
     "output_type": "stream",
     "text": [
      "train: 0.87305 loss: 0.26345391369098914\n",
      "train val: 0.8529 loss: 0.3092181335596368\n",
      "test: 0.6654 loss: 0.6099180209070444\n",
      "epoch time: 10.87min\n",
      "removing /mnt/d/workspace/clotho/notebooks/checkpoints/stats_v0_lg_51.json\n",
      "removing /mnt/d/workspace/clotho/notebooks/checkpoints/harness_v0_lg_51.pkl\n",
      "best model: /mnt/d/workspace/clotho/notebooks/checkpoints/harness_v0_lg_53.pkl\n",
      "best train: 0.87045\n",
      "best train val: 0.855\n",
      "best test: 0.6795\n",
      "epoch 55 version: 0\n"
     ]
    },
    {
     "data": {
      "application/vnd.jupyter.widget-view+json": {
       "model_id": "c52bbb885de24e95817f7a9d0c642f83",
       "version_major": 2,
       "version_minor": 0
      },
      "text/plain": [
       "train:   0%|          | 0/20000 [00:00<?, ?it/s]"
      ]
     },
     "metadata": {},
     "output_type": "display_data"
    },
    {
     "data": {
      "application/vnd.jupyter.widget-view+json": {
       "model_id": "49740141a1b243b0bf40642958325bf7",
       "version_major": 2,
       "version_minor": 0
      },
      "text/plain": [
       "train val:   0%|          | 0/10000 [00:00<?, ?it/s]"
      ]
     },
     "metadata": {},
     "output_type": "display_data"
    },
    {
     "data": {
      "application/vnd.jupyter.widget-view+json": {
       "model_id": "811863139d464aa38ccea28d0f32ae6e",
       "version_major": 2,
       "version_minor": 0
      },
      "text/plain": [
       "test:   0%|          | 0/10000 [00:00<?, ?it/s]"
      ]
     },
     "metadata": {},
     "output_type": "display_data"
    },
    {
     "name": "stdout",
     "output_type": "stream",
     "text": [
      "train: 0.87265 loss: 0.2576993254549996\n",
      "train val: 0.8544 loss: 0.3009204622810241\n",
      "test: 0.6306 loss: 0.6475060596883297\n",
      "epoch time: 10.80min\n",
      "removing /mnt/d/workspace/clotho/notebooks/checkpoints/stats_v0_lg_54.json\n",
      "removing /mnt/d/workspace/clotho/notebooks/checkpoints/harness_v0_lg_54.pkl\n",
      "best model: /mnt/d/workspace/clotho/notebooks/checkpoints/harness_v0_lg_53.pkl\n",
      "best train: 0.87045\n",
      "best train val: 0.855\n",
      "best test: 0.6795\n",
      "epoch 56 version: 0\n"
     ]
    },
    {
     "data": {
      "application/vnd.jupyter.widget-view+json": {
       "model_id": "b074cb35ea0047778bf00b6dfa4f90a5",
       "version_major": 2,
       "version_minor": 0
      },
      "text/plain": [
       "train:   0%|          | 0/20000 [00:00<?, ?it/s]"
      ]
     },
     "metadata": {},
     "output_type": "display_data"
    },
    {
     "data": {
      "application/vnd.jupyter.widget-view+json": {
       "model_id": "0ded5876762d4358bee8baa48735fea5",
       "version_major": 2,
       "version_minor": 0
      },
      "text/plain": [
       "train val:   0%|          | 0/10000 [00:00<?, ?it/s]"
      ]
     },
     "metadata": {},
     "output_type": "display_data"
    },
    {
     "data": {
      "application/vnd.jupyter.widget-view+json": {
       "model_id": "732eaa6280634ea2a822fa6dcc0a87c0",
       "version_major": 2,
       "version_minor": 0
      },
      "text/plain": [
       "test:   0%|          | 0/10000 [00:00<?, ?it/s]"
      ]
     },
     "metadata": {},
     "output_type": "display_data"
    },
    {
     "name": "stdout",
     "output_type": "stream",
     "text": [
      "train: 0.8748 loss: 0.25670878694600313\n",
      "train val: 0.8554 loss: 0.28952417921919477\n",
      "test: 0.6455 loss: 0.6308903396427631\n",
      "epoch time: 10.88min\n",
      "removing /mnt/d/workspace/clotho/notebooks/checkpoints/stats_v0_lg_50.json\n",
      "removing /mnt/d/workspace/clotho/notebooks/checkpoints/harness_v0_lg_50.pkl\n",
      "best model: /mnt/d/workspace/clotho/notebooks/checkpoints/harness_v0_lg_56.pkl\n",
      "best train: 0.8748\n",
      "best train val: 0.8554\n",
      "best test: 0.6455\n",
      "epoch 57 version: 0\n"
     ]
    },
    {
     "data": {
      "application/vnd.jupyter.widget-view+json": {
       "model_id": "b9000909b1814df191ef4c41ef6787b6",
       "version_major": 2,
       "version_minor": 0
      },
      "text/plain": [
       "train:   0%|          | 0/20000 [00:00<?, ?it/s]"
      ]
     },
     "metadata": {},
     "output_type": "display_data"
    },
    {
     "data": {
      "application/vnd.jupyter.widget-view+json": {
       "model_id": "47e1a613a6464becb7d8a886bf6295f4",
       "version_major": 2,
       "version_minor": 0
      },
      "text/plain": [
       "train val:   0%|          | 0/10000 [00:00<?, ?it/s]"
      ]
     },
     "metadata": {},
     "output_type": "display_data"
    },
    {
     "data": {
      "application/vnd.jupyter.widget-view+json": {
       "model_id": "2281de01c12d4275acdbbfa096e16602",
       "version_major": 2,
       "version_minor": 0
      },
      "text/plain": [
       "test:   0%|          | 0/10000 [00:00<?, ?it/s]"
      ]
     },
     "metadata": {},
     "output_type": "display_data"
    },
    {
     "name": "stdout",
     "output_type": "stream",
     "text": [
      "train: 0.88075 loss: 0.2869213876710931\n",
      "train val: 0.8413 loss: 1.3769377803506344\n",
      "test: 0.651 loss: 0.6250941059947014\n",
      "epoch time: 10.80min\n",
      "removing /mnt/d/workspace/clotho/notebooks/checkpoints/stats_v0_lg_55.json\n",
      "removing /mnt/d/workspace/clotho/notebooks/checkpoints/harness_v0_lg_55.pkl\n",
      "best model: /mnt/d/workspace/clotho/notebooks/checkpoints/harness_v0_lg_56.pkl\n",
      "best train: 0.8748\n",
      "best train val: 0.8554\n",
      "best test: 0.6455\n",
      "epoch 58 version: 0\n"
     ]
    },
    {
     "data": {
      "application/vnd.jupyter.widget-view+json": {
       "model_id": "1f9d1a4cc9674cc798651cb0c8c8073c",
       "version_major": 2,
       "version_minor": 0
      },
      "text/plain": [
       "train:   0%|          | 0/20000 [00:00<?, ?it/s]"
      ]
     },
     "metadata": {},
     "output_type": "display_data"
    },
    {
     "data": {
      "application/vnd.jupyter.widget-view+json": {
       "model_id": "f56d887fdfdc4231953b285215b3548a",
       "version_major": 2,
       "version_minor": 0
      },
      "text/plain": [
       "train val:   0%|          | 0/10000 [00:00<?, ?it/s]"
      ]
     },
     "metadata": {},
     "output_type": "display_data"
    },
    {
     "data": {
      "application/vnd.jupyter.widget-view+json": {
       "model_id": "c0e842907e29448489d8fabee65a0dca",
       "version_major": 2,
       "version_minor": 0
      },
      "text/plain": [
       "test:   0%|          | 0/10000 [00:00<?, ?it/s]"
      ]
     },
     "metadata": {},
     "output_type": "display_data"
    },
    {
     "name": "stdout",
     "output_type": "stream",
     "text": [
      "train: 0.875 loss: 0.2574353810893321\n",
      "train val: 0.8562 loss: 0.29060167924498725\n",
      "test: 0.6774 loss: 0.6101767421603203\n",
      "epoch time: 11.04min\n",
      "removing /mnt/d/workspace/clotho/notebooks/checkpoints/stats_v0_lg_57.json\n",
      "removing /mnt/d/workspace/clotho/notebooks/checkpoints/harness_v0_lg_57.pkl\n",
      "best model: /mnt/d/workspace/clotho/notebooks/checkpoints/harness_v0_lg_58.pkl\n",
      "best train: 0.875\n",
      "best train val: 0.8562\n",
      "best test: 0.6774\n",
      "epoch 59 version: 0\n"
     ]
    },
    {
     "data": {
      "application/vnd.jupyter.widget-view+json": {
       "model_id": "3bfa7b566e1d41b8a64017c0524ed9b2",
       "version_major": 2,
       "version_minor": 0
      },
      "text/plain": [
       "train:   0%|          | 0/20000 [00:00<?, ?it/s]"
      ]
     },
     "metadata": {},
     "output_type": "display_data"
    },
    {
     "data": {
      "application/vnd.jupyter.widget-view+json": {
       "model_id": "a1ddf7259a3e445395692f16da3d0e8c",
       "version_major": 2,
       "version_minor": 0
      },
      "text/plain": [
       "train val:   0%|          | 0/10000 [00:00<?, ?it/s]"
      ]
     },
     "metadata": {},
     "output_type": "display_data"
    },
    {
     "data": {
      "application/vnd.jupyter.widget-view+json": {
       "model_id": "46e2237138ce4373857d9f5954ff527f",
       "version_major": 2,
       "version_minor": 0
      },
      "text/plain": [
       "test:   0%|          | 0/10000 [00:00<?, ?it/s]"
      ]
     },
     "metadata": {},
     "output_type": "display_data"
    },
    {
     "name": "stdout",
     "output_type": "stream",
     "text": [
      "train: 0.8775 loss: 0.2546617805391111\n",
      "train val: 0.8593 loss: 0.2944887325665408\n",
      "test: 0.6817 loss: 0.6138801200971007\n",
      "epoch time: 10.89min\n",
      "removing /mnt/d/workspace/clotho/notebooks/checkpoints/stats_v0_lg_47.json\n",
      "removing /mnt/d/workspace/clotho/notebooks/checkpoints/harness_v0_lg_47.pkl\n",
      "best model: /mnt/d/workspace/clotho/notebooks/checkpoints/harness_v0_lg_59.pkl\n",
      "best train: 0.8775\n",
      "best train val: 0.8593\n",
      "best test: 0.6817\n"
     ]
    },
    {
     "data": {
      "application/vnd.jupyter.widget-view+json": {
       "model_id": "c9161a1e9f854b3bb3c8db6af451d064",
       "version_major": 2,
       "version_minor": 0
      },
      "text/plain": [
       "test val:   0%|          | 0/10000 [00:00<?, ?it/s]"
      ]
     },
     "metadata": {},
     "output_type": "display_data"
    },
    {
     "name": "stdout",
     "output_type": "stream",
     "text": [
      "test val: {'accuracy': 0.6767} loss: 0.6220687392175197\n",
      "correct\n"
     ]
    },
    {
     "data": {
      "text/html": [
       "<div>\n",
       "<style scoped>\n",
       "    .dataframe tbody tr th:only-of-type {\n",
       "        vertical-align: middle;\n",
       "    }\n",
       "\n",
       "    .dataframe tbody tr th {\n",
       "        vertical-align: top;\n",
       "    }\n",
       "\n",
       "    .dataframe thead th {\n",
       "        text-align: right;\n",
       "    }\n",
       "</style>\n",
       "<table border=\"1\" class=\"dataframe\">\n",
       "  <thead>\n",
       "    <tr style=\"text-align: right;\">\n",
       "      <th></th>\n",
       "      <th>gen_name</th>\n",
       "      <th>parent_left</th>\n",
       "      <th>child_left</th>\n",
       "      <th>parent_right</th>\n",
       "      <th>child_right</th>\n",
       "      <th>score_left</th>\n",
       "      <th>score_right</th>\n",
       "      <th>correct_is_right</th>\n",
       "      <th>logit_left</th>\n",
       "      <th>logit_right</th>\n",
       "      <th>preds</th>\n",
       "      <th>truth</th>\n",
       "    </tr>\n",
       "  </thead>\n",
       "  <tbody>\n",
       "    <tr>\n",
       "      <th>0</th>\n",
       "      <td>!copy--valid_weak;(st)</td>\n",
       "      <td>Well, shit dude.</td>\n",
       "      <td>Everyone in my family is nagging me with the f...</td>\n",
       "      <td>Everyone in my family is nagging me with the f...</td>\n",
       "      <td>Well, shit dude.</td>\n",
       "      <td>0</td>\n",
       "      <td>1</td>\n",
       "      <td>True</td>\n",
       "      <td>0.004501</td>\n",
       "      <td>0.995499</td>\n",
       "      <td>1</td>\n",
       "      <td>1</td>\n",
       "    </tr>\n",
       "    <tr>\n",
       "      <th>1</th>\n",
       "      <td>*valid_weak--!copy;(st)</td>\n",
       "      <td>Not using 1-10, how attractive are you?</td>\n",
       "      <td>Let's just say my Facebook relationship status...</td>\n",
       "      <td>Let's just say my Facebook relationship status...</td>\n",
       "      <td>Not using 1-10, how attractive are you?</td>\n",
       "      <td>1</td>\n",
       "      <td>0</td>\n",
       "      <td>False</td>\n",
       "      <td>0.679305</td>\n",
       "      <td>0.320695</td>\n",
       "      <td>0</td>\n",
       "      <td>0</td>\n",
       "    </tr>\n",
       "    <tr>\n",
       "      <th>2</th>\n",
       "      <td>random--valid_weak;(st)</td>\n",
       "      <td>White Lotus</td>\n",
       "      <td>She Heard</td>\n",
       "      <td>Sewing. Sewing is awesome. I learned basic sew...</td>\n",
       "      <td>I started sewing to make a quilt out of a pile...</td>\n",
       "      <td>0</td>\n",
       "      <td>3</td>\n",
       "      <td>True</td>\n",
       "      <td>0.146038</td>\n",
       "      <td>0.853962</td>\n",
       "      <td>1</td>\n",
       "      <td>1</td>\n",
       "    </tr>\n",
       "    <tr>\n",
       "      <th>0</th>\n",
       "      <td>random--valid_weak;(st)</td>\n",
       "      <td>It's baffling. With as far as they bend over b...</td>\n",
       "      <td>My girlfriends Dad is 75. If he started doing ...</td>\n",
       "      <td>If you could rename America what would it be c...</td>\n",
       "      <td>Gods Country Giant Sowglobe Dunning Kruger Cou...</td>\n",
       "      <td>0</td>\n",
       "      <td>1</td>\n",
       "      <td>True</td>\n",
       "      <td>0.488478</td>\n",
       "      <td>0.511522</td>\n",
       "      <td>1</td>\n",
       "      <td>1</td>\n",
       "    </tr>\n",
       "    <tr>\n",
       "      <th>3</th>\n",
       "      <td>random--valid_weak;(st)</td>\n",
       "      <td>Perfect Dark (N64)</td>\n",
       "      <td>Exactly. In the 1960s I had their album, \"[The...</td>\n",
       "      <td>Not using 1-10, how attractive are you?</td>\n",
       "      <td>I look like a dwarf from Middle Earth.</td>\n",
       "      <td>0</td>\n",
       "      <td>1</td>\n",
       "      <td>True</td>\n",
       "      <td>0.177381</td>\n",
       "      <td>0.822619</td>\n",
       "      <td>1</td>\n",
       "      <td>1</td>\n",
       "    </tr>\n",
       "  </tbody>\n",
       "</table>\n",
       "</div>"
      ],
      "text/plain": [
       "                  gen_name                                        parent_left  \\\n",
       "0   !copy--valid_weak;(st)                                   Well, shit dude.   \n",
       "1  *valid_weak--!copy;(st)            Not using 1-10, how attractive are you?   \n",
       "2  random--valid_weak;(st)                                        White Lotus   \n",
       "0  random--valid_weak;(st)  It's baffling. With as far as they bend over b...   \n",
       "3  random--valid_weak;(st)                                 Perfect Dark (N64)   \n",
       "\n",
       "                                          child_left  \\\n",
       "0  Everyone in my family is nagging me with the f...   \n",
       "1  Let's just say my Facebook relationship status...   \n",
       "2                                          She Heard   \n",
       "0  My girlfriends Dad is 75. If he started doing ...   \n",
       "3  Exactly. In the 1960s I had their album, \"[The...   \n",
       "\n",
       "                                        parent_right  \\\n",
       "0  Everyone in my family is nagging me with the f...   \n",
       "1  Let's just say my Facebook relationship status...   \n",
       "2  Sewing. Sewing is awesome. I learned basic sew...   \n",
       "0  If you could rename America what would it be c...   \n",
       "3            Not using 1-10, how attractive are you?   \n",
       "\n",
       "                                         child_right  score_left  score_right  \\\n",
       "0                                   Well, shit dude.           0            1   \n",
       "1            Not using 1-10, how attractive are you?           1            0   \n",
       "2  I started sewing to make a quilt out of a pile...           0            3   \n",
       "0  Gods Country Giant Sowglobe Dunning Kruger Cou...           0            1   \n",
       "3             I look like a dwarf from Middle Earth.           0            1   \n",
       "\n",
       "   correct_is_right  logit_left  logit_right  preds  truth  \n",
       "0              True    0.004501     0.995499      1      1  \n",
       "1             False    0.679305     0.320695      0      0  \n",
       "2              True    0.146038     0.853962      1      1  \n",
       "0              True    0.488478     0.511522      1      1  \n",
       "3              True    0.177381     0.822619      1      1  "
      ]
     },
     "metadata": {},
     "output_type": "display_data"
    },
    {
     "name": "stdout",
     "output_type": "stream",
     "text": [
      "incorrect\n"
     ]
    },
    {
     "data": {
      "text/html": [
       "<div>\n",
       "<style scoped>\n",
       "    .dataframe tbody tr th:only-of-type {\n",
       "        vertical-align: middle;\n",
       "    }\n",
       "\n",
       "    .dataframe tbody tr th {\n",
       "        vertical-align: top;\n",
       "    }\n",
       "\n",
       "    .dataframe thead th {\n",
       "        text-align: right;\n",
       "    }\n",
       "</style>\n",
       "<table border=\"1\" class=\"dataframe\">\n",
       "  <thead>\n",
       "    <tr style=\"text-align: right;\">\n",
       "      <th></th>\n",
       "      <th>gen_name</th>\n",
       "      <th>parent_left</th>\n",
       "      <th>child_left</th>\n",
       "      <th>parent_right</th>\n",
       "      <th>child_right</th>\n",
       "      <th>score_left</th>\n",
       "      <th>score_right</th>\n",
       "      <th>correct_is_right</th>\n",
       "      <th>logit_left</th>\n",
       "      <th>logit_right</th>\n",
       "      <th>preds</th>\n",
       "      <th>truth</th>\n",
       "    </tr>\n",
       "  </thead>\n",
       "  <tbody>\n",
       "    <tr>\n",
       "      <th>3</th>\n",
       "      <td>random--valid_weak;(st)</td>\n",
       "      <td>I can’t stand the smell of truffle oil. Makes ...</td>\n",
       "      <td>my cat's name is Guy, just so I can go \"hey Gu...</td>\n",
       "      <td>Guys….what is a big turn off that girls still ...</td>\n",
       "      <td>Long manicured nails</td>\n",
       "      <td>0</td>\n",
       "      <td>5</td>\n",
       "      <td>True</td>\n",
       "      <td>0.775360</td>\n",
       "      <td>0.224640</td>\n",
       "      <td>0</td>\n",
       "      <td>1</td>\n",
       "    </tr>\n",
       "    <tr>\n",
       "      <th>1</th>\n",
       "      <td>random--valid_weak;(st)</td>\n",
       "      <td>i was gonna say, he knocks it out of the park ...</td>\n",
       "      <td>when itv drugs you and ruins your life fuck th...</td>\n",
       "      <td>[Serious] How would you react if your partner ...</td>\n",
       "      <td>Immediate breakup.</td>\n",
       "      <td>0</td>\n",
       "      <td>1</td>\n",
       "      <td>True</td>\n",
       "      <td>0.650190</td>\n",
       "      <td>0.349810</td>\n",
       "      <td>0</td>\n",
       "      <td>1</td>\n",
       "    </tr>\n",
       "    <tr>\n",
       "      <th>2</th>\n",
       "      <td>!copy--valid_weak;(st)</td>\n",
       "      <td>plus all the bodies you can bury with no one n...</td>\n",
       "      <td>Landscape maintenance, particularly if the cli...</td>\n",
       "      <td>Landscape maintenance, particularly if the cli...</td>\n",
       "      <td>plus all the bodies you can bury with no one n...</td>\n",
       "      <td>0</td>\n",
       "      <td>6</td>\n",
       "      <td>True</td>\n",
       "      <td>0.534855</td>\n",
       "      <td>0.465145</td>\n",
       "      <td>0</td>\n",
       "      <td>1</td>\n",
       "    </tr>\n",
       "    <tr>\n",
       "      <th>2</th>\n",
       "      <td>*valid_weak--random;(st)</td>\n",
       "      <td>https://youtu.be/_BtemfoJ-WI</td>\n",
       "      <td>I looked it up, and this aired on November 18,...</td>\n",
       "      <td>I have phimosis, a condition that causes the f...</td>\n",
       "      <td>Elizabeth.</td>\n",
       "      <td>29</td>\n",
       "      <td>0</td>\n",
       "      <td>False</td>\n",
       "      <td>0.066609</td>\n",
       "      <td>0.933391</td>\n",
       "      <td>1</td>\n",
       "      <td>0</td>\n",
       "    </tr>\n",
       "    <tr>\n",
       "      <th>3</th>\n",
       "      <td>*valid_weak--!copy;(st)</td>\n",
       "      <td>Hard wood saw dust or lilac</td>\n",
       "      <td>Hard word?</td>\n",
       "      <td>Hard word?</td>\n",
       "      <td>Hard wood saw dust or lilac</td>\n",
       "      <td>1</td>\n",
       "      <td>0</td>\n",
       "      <td>False</td>\n",
       "      <td>0.477813</td>\n",
       "      <td>0.522187</td>\n",
       "      <td>1</td>\n",
       "      <td>0</td>\n",
       "    </tr>\n",
       "  </tbody>\n",
       "</table>\n",
       "</div>"
      ],
      "text/plain": [
       "                   gen_name  \\\n",
       "3   random--valid_weak;(st)   \n",
       "1   random--valid_weak;(st)   \n",
       "2    !copy--valid_weak;(st)   \n",
       "2  *valid_weak--random;(st)   \n",
       "3   *valid_weak--!copy;(st)   \n",
       "\n",
       "                                         parent_left  \\\n",
       "3  I can’t stand the smell of truffle oil. Makes ...   \n",
       "1  i was gonna say, he knocks it out of the park ...   \n",
       "2  plus all the bodies you can bury with no one n...   \n",
       "2                       https://youtu.be/_BtemfoJ-WI   \n",
       "3                        Hard wood saw dust or lilac   \n",
       "\n",
       "                                          child_left  \\\n",
       "3  my cat's name is Guy, just so I can go \"hey Gu...   \n",
       "1  when itv drugs you and ruins your life fuck th...   \n",
       "2  Landscape maintenance, particularly if the cli...   \n",
       "2  I looked it up, and this aired on November 18,...   \n",
       "3                                         Hard word?   \n",
       "\n",
       "                                        parent_right  \\\n",
       "3  Guys….what is a big turn off that girls still ...   \n",
       "1  [Serious] How would you react if your partner ...   \n",
       "2  Landscape maintenance, particularly if the cli...   \n",
       "2  I have phimosis, a condition that causes the f...   \n",
       "3                                         Hard word?   \n",
       "\n",
       "                                         child_right  score_left  score_right  \\\n",
       "3                               Long manicured nails           0            5   \n",
       "1                                 Immediate breakup.           0            1   \n",
       "2  plus all the bodies you can bury with no one n...           0            6   \n",
       "2                                         Elizabeth.          29            0   \n",
       "3                        Hard wood saw dust or lilac           1            0   \n",
       "\n",
       "   correct_is_right  logit_left  logit_right  preds  truth  \n",
       "3              True    0.775360     0.224640      0      1  \n",
       "1              True    0.650190     0.349810      0      1  \n",
       "2              True    0.534855     0.465145      0      1  \n",
       "2             False    0.066609     0.933391      1      0  \n",
       "3             False    0.477813     0.522187      1      0  "
      ]
     },
     "metadata": {},
     "output_type": "display_data"
    },
    {
     "data": {
      "text/plain": [
       "array([[-0.16301063, -0.01816018, -0.02890229, ...,  0.5372859 ,\n",
       "        -0.16369681,  0.03263783],\n",
       "       [-0.15596206, -0.01887492, -0.01804622, ...,  0.54001284,\n",
       "        -0.15490702,  0.02085235],\n",
       "       [-0.14955387, -0.01952159, -0.00811953, ...,  0.54243   ,\n",
       "        -0.14685102,  0.01017078],\n",
       "       [-0.15460233, -0.01901189, -0.01594394, ...,  0.54053116,\n",
       "        -0.15320273,  0.01858324]], dtype=float32)"
      ]
     },
     "metadata": {},
     "output_type": "display_data"
    },
    {
     "data": {
      "text/plain": [
       "array([[-0.14613268, -0.01986746, -0.00280252, ...,  0.54369336,\n",
       "        -0.14252673,  0.00448494],\n",
       "       [-0.1521188 , -0.01926212, -0.01209826, ...,  0.5414707 ,\n",
       "        -0.15008242,  0.0144421 ],\n",
       "       [-0.15224777, -0.01924911, -0.01229815, ...,  0.5414222 ,\n",
       "        -0.15024467,  0.01465704],\n",
       "       [-0.1463019 , -0.01985035, -0.00306573, ...,  0.5436313 ,\n",
       "        -0.14274102,  0.00476583]], dtype=float32)"
      ]
     },
     "metadata": {},
     "output_type": "display_data"
    },
    {
     "data": {
      "text/plain": [
       "array([[-0.1483387 , -0.01964455, -0.00623236, ...,  0.5428808 ,\n",
       "        -0.14531685,  0.00814978],\n",
       "       [-0.1514984 , -0.01932481, -0.01113652, ...,  0.54170364,\n",
       "        -0.1493017 ,  0.01340839],\n",
       "       [-0.14844702, -0.01963359, -0.00640063, ...,  0.5428406 ,\n",
       "        -0.14545372,  0.00832981],\n",
       "       [-0.14573425, -0.01990804, -0.00218249, ...,  0.5438388 ,\n",
       "        -0.14202255,  0.0038233 ]], dtype=float32)"
      ]
     },
     "metadata": {},
     "output_type": "display_data"
    },
    {
     "data": {
      "text/plain": [
       "array([[-1.5553874e-01, -1.8917594e-02, -1.7391972e-02, ...,\n",
       "         5.4017448e-01, -1.5437670e-01,  2.0145778e-02],\n",
       "       [-1.4439386e-01, -2.0043604e-02, -9.5948621e-05, ...,\n",
       "         5.4432780e-01, -1.4032279e-01,  1.5997627e-03],\n",
       "       [-1.4537309e-01, -1.9944325e-02, -1.6205361e-03, ...,\n",
       "         5.4397112e-01, -1.4156455e-01,  3.2242790e-03],\n",
       "       [-1.5748614e-01, -1.8720647e-02, -2.0399457e-02, ...,\n",
       "         5.3942937e-01, -1.5681390e-01,  2.3397524e-02]], dtype=float32)"
      ]
     },
     "metadata": {},
     "output_type": "display_data"
    },
    {
     "data": {
      "text/plain": [
       "array([[-0.15424179, -0.01904815, -0.01538607, ...,  0.54066825,\n",
       "        -0.15275025,  0.01798176],\n",
       "       [-0.15836698, -0.01863123, -0.02175789, ...,  0.5390909 ,\n",
       "        -0.15791431,  0.02486917],\n",
       "       [-0.16392623, -0.01806796, -0.03030701, ...,  0.5369256 ,\n",
       "        -0.16483329,  0.0341712 ],\n",
       "       [-0.14935659, -0.01954159, -0.00781335, ...,  0.54250336,\n",
       "        -0.1466021 ,  0.00984259]], dtype=float32)"
      ]
     },
     "metadata": {},
     "output_type": "display_data"
    },
    {
     "data": {
      "text/plain": [
       "array([[-0.1568382 , -0.01878631, -0.01939946, ...,  0.5396778 ,\n",
       "        -0.15600371,  0.02231534],\n",
       "       [-0.16102004, -0.0183615 , -0.02584347, ...,  0.5380642 ,\n",
       "        -0.1612218 ,  0.02930584],\n",
       "       [-0.14519006, -0.01996285, -0.00133567, ...,  0.544038  ,\n",
       "        -0.14133257,  0.00292063],\n",
       "       [-0.15234606, -0.01923918, -0.01245046, ...,  0.5413851 ,\n",
       "        -0.15036829,  0.01482079]], dtype=float32)"
      ]
     },
     "metadata": {},
     "output_type": "display_data"
    },
    {
     "data": {
      "text/plain": [
       "array([[-0.14905149, -0.01957246, -0.00733951, ...,  0.5426166 ,\n",
       "        -0.14621694,  0.00933504],\n",
       "       [-0.1425048 , -0.02023575,  0.00284743, ...,  0.5450109 ,\n",
       "        -0.13792355, -0.00153223],\n",
       "       [-0.1460339 , -0.01987747, -0.00264887, ...,  0.54372936,\n",
       "        -0.14240171,  0.00432102],\n",
       "       [-0.1488291 , -0.01959497, -0.00699407, ...,  0.5426992 ,\n",
       "        -0.14593616,  0.0089652 ]], dtype=float32)"
      ]
     },
     "metadata": {},
     "output_type": "display_data"
    },
    {
     "data": {
      "text/plain": [
       "array([[-0.1521188 , -0.01926212, -0.01209826, ...,  0.5414707 ,\n",
       "        -0.15008242,  0.0144421 ],\n",
       "       [-0.17347129, -0.01715314, -0.04481551, ...,  0.5330609 ,\n",
       "        -0.17660055,  0.0501533 ],\n",
       "       [-0.15293036, -0.01918023, -0.01335573, ...,  0.5411648 ,\n",
       "        -0.15110302,  0.01579484],\n",
       "       [-0.15074398, -0.01940111, -0.00996652, ...,  0.5419863 ,\n",
       "        -0.14835158,  0.01215187]], dtype=float32)"
      ]
     },
     "metadata": {},
     "output_type": "display_data"
    },
    {
     "data": {
      "text/plain": [
       "array([[-1.4854120e-01, -1.9624081e-02, -6.5469453e-03, ...,\n",
       "         5.4280579e-01, -1.4557265e-01,  8.4864181e-03],\n",
       "       [-1.4928737e-01, -1.9548591e-02, -7.7058184e-03, ...,\n",
       "         5.4252905e-01, -1.4651468e-01,  9.7274566e-03],\n",
       "       [-1.5153971e-01, -1.9320633e-02, -1.1200608e-02, ...,\n",
       "         5.4168814e-01, -1.4935368e-01,  1.3477181e-02],\n",
       "       [-1.4351121e-01, -2.0133318e-02,  1.2789462e-03, ...,\n",
       "         5.4464787e-01, -1.3920246e-01,  1.3612225e-04]], dtype=float32)"
      ]
     },
     "metadata": {},
     "output_type": "display_data"
    },
    {
     "data": {
      "text/plain": [
       "array([[-0.15247379, -0.01922628, -0.01264832, ...,  0.541337  ,\n",
       "        -0.15052891,  0.01503368],\n",
       "       [-0.1519192 , -0.01928228, -0.01178884, ...,  0.5415457 ,\n",
       "        -0.14983125,  0.01410941],\n",
       "       [-0.14891729, -0.01958603, -0.00713107, ...,  0.54266644,\n",
       "        -0.1460475 ,  0.00911182],\n",
       "       [-0.14787562, -0.01969134, -0.00551277, ...,  0.54305196,\n",
       "        -0.14473173,  0.00738   ]], dtype=float32)"
      ]
     },
     "metadata": {},
     "output_type": "display_data"
    }
   ],
   "source": [
    "full_run(num_epochs=60, version=0, force_restart=False)"
   ]
  },
  {
   "cell_type": "code",
   "execution_count": 27,
   "id": "b08e677f-9171-4bb0-8ad2-11dfb550a56d",
   "metadata": {
    "collapsed": true,
    "jupyter": {
     "outputs_hidden": true
    },
    "tags": []
   },
   "outputs": [
    {
     "name": "stderr",
     "output_type": "stream",
     "text": [
      "Some weights of the model checkpoint at distilbert-base-uncased were not used when initializing DistilBertModel: ['vocab_transform.bias', 'vocab_transform.weight', 'vocab_layer_norm.bias', 'vocab_layer_norm.weight', 'vocab_projector.bias', 'vocab_projector.weight']\n",
      "- This IS expected if you are initializing DistilBertModel from the checkpoint of a model trained on another task or with another architecture (e.g. initializing a BertForSequenceClassification model from a BertForPreTraining model).\n",
      "- This IS NOT expected if you are initializing DistilBertModel from the checkpoint of a model that you expect to be exactly identical (initializing a BertForSequenceClassification model from a BertForSequenceClassification model).\n",
      "Some weights of the model checkpoint at distilbert-base-uncased were not used when initializing DistilBertModel: ['vocab_transform.bias', 'vocab_transform.weight', 'vocab_layer_norm.bias', 'vocab_layer_norm.weight', 'vocab_projector.bias', 'vocab_projector.weight']\n",
      "- This IS expected if you are initializing DistilBertModel from the checkpoint of a model trained on another task or with another architecture (e.g. initializing a BertForSequenceClassification model from a BertForPreTraining model).\n",
      "- This IS NOT expected if you are initializing DistilBertModel from the checkpoint of a model that you expect to be exactly identical (initializing a BertForSequenceClassification model from a BertForSequenceClassification model).\n"
     ]
    },
    {
     "name": "stdout",
     "output_type": "stream",
     "text": [
      "('harness_v5_lg_29.pkl', 29) 30\n",
      "epoch 30 version: 5\n"
     ]
    },
    {
     "data": {
      "application/vnd.jupyter.widget-view+json": {
       "model_id": "b39572a5d63f4329ab3de2c2064906b9",
       "version_major": 2,
       "version_minor": 0
      },
      "text/plain": [
       "train:   0%|          | 0/20000 [00:00<?, ?it/s]"
      ]
     },
     "metadata": {},
     "output_type": "display_data"
    },
    {
     "data": {
      "application/vnd.jupyter.widget-view+json": {
       "model_id": "b2e35052e2ff43838eec2df27c6c44af",
       "version_major": 2,
       "version_minor": 0
      },
      "text/plain": [
       "train val:   0%|          | 0/10000 [00:00<?, ?it/s]"
      ]
     },
     "metadata": {},
     "output_type": "display_data"
    },
    {
     "data": {
      "application/vnd.jupyter.widget-view+json": {
       "model_id": "9ba9ab74eb25416fa7d7bfba04234f9b",
       "version_major": 2,
       "version_minor": 0
      },
      "text/plain": [
       "test:   0%|          | 0/10000 [00:00<?, ?it/s]"
      ]
     },
     "metadata": {},
     "output_type": "display_data"
    },
    {
     "name": "stdout",
     "output_type": "stream",
     "text": [
      "train: 0.80565 loss: 0.3496735816618125\n",
      "train val: 0.7953 loss: 0.3840179567768704\n",
      "test: 0.6813 loss: 0.6369488391280175\n",
      "epoch time: 11.03min\n",
      "removing /mnt/d/workspace/clotho/notebooks/checkpoints/stats_v5_lg_23.json\n",
      "removing /mnt/d/workspace/clotho/notebooks/checkpoints/harness_v5_lg_23.pkl\n",
      "best model: /mnt/d/workspace/clotho/notebooks/checkpoints/harness_v5_lg_29.pkl\n",
      "best train: 0.79925\n",
      "best train val: 0.7953\n",
      "best test: 0.7065\n",
      "epoch 31 version: 5\n"
     ]
    },
    {
     "data": {
      "application/vnd.jupyter.widget-view+json": {
       "model_id": "bfe1f5e829624600a62b7e80c08b5fc7",
       "version_major": 2,
       "version_minor": 0
      },
      "text/plain": [
       "train:   0%|          | 0/20000 [00:00<?, ?it/s]"
      ]
     },
     "metadata": {},
     "output_type": "display_data"
    },
    {
     "data": {
      "application/vnd.jupyter.widget-view+json": {
       "model_id": "eab86c2384124a1fb62c4d9a4e29ef7e",
       "version_major": 2,
       "version_minor": 0
      },
      "text/plain": [
       "train val:   0%|          | 0/10000 [00:00<?, ?it/s]"
      ]
     },
     "metadata": {},
     "output_type": "display_data"
    },
    {
     "data": {
      "application/vnd.jupyter.widget-view+json": {
       "model_id": "0fc7674ae53f4892b795241c198ada67",
       "version_major": 2,
       "version_minor": 0
      },
      "text/plain": [
       "test:   0%|          | 0/10000 [00:00<?, ?it/s]"
      ]
     },
     "metadata": {},
     "output_type": "display_data"
    },
    {
     "name": "stdout",
     "output_type": "stream",
     "text": [
      "train: 0.8087 loss: 0.3494276058097322\n",
      "train val: 0.7947 loss: 0.37055127378557734\n",
      "test: 0.6428 loss: 0.6266811153769493\n",
      "epoch time: 10.93min\n",
      "removing /mnt/d/workspace/clotho/notebooks/checkpoints/stats_v5_lg_24.json\n",
      "removing /mnt/d/workspace/clotho/notebooks/checkpoints/harness_v5_lg_24.pkl\n",
      "best model: /mnt/d/workspace/clotho/notebooks/checkpoints/harness_v5_lg_29.pkl\n",
      "best train: 0.79925\n",
      "best train val: 0.7953\n",
      "best test: 0.7065\n",
      "epoch 32 version: 5\n"
     ]
    },
    {
     "data": {
      "application/vnd.jupyter.widget-view+json": {
       "model_id": "dfc83f12bfbd401ea7a182b35ce65b43",
       "version_major": 2,
       "version_minor": 0
      },
      "text/plain": [
       "train:   0%|          | 0/20000 [00:00<?, ?it/s]"
      ]
     },
     "metadata": {},
     "output_type": "display_data"
    },
    {
     "data": {
      "application/vnd.jupyter.widget-view+json": {
       "model_id": "4bff55ce2f9a408d8718cf35598d4752",
       "version_major": 2,
       "version_minor": 0
      },
      "text/plain": [
       "train val:   0%|          | 0/10000 [00:00<?, ?it/s]"
      ]
     },
     "metadata": {},
     "output_type": "display_data"
    },
    {
     "data": {
      "application/vnd.jupyter.widget-view+json": {
       "model_id": "c96215c4a6c9469185b121e61b461239",
       "version_major": 2,
       "version_minor": 0
      },
      "text/plain": [
       "test:   0%|          | 0/10000 [00:00<?, ?it/s]"
      ]
     },
     "metadata": {},
     "output_type": "display_data"
    },
    {
     "name": "stdout",
     "output_type": "stream",
     "text": [
      "train: 0.8021 loss: 0.36683716781973397\n",
      "train val: 0.8015 loss: 0.3591909207360179\n",
      "test: 0.7239 loss: 0.5927206503152848\n",
      "epoch time: 11.00min\n",
      "removing /mnt/d/workspace/clotho/notebooks/checkpoints/stats_v5_lg_28.json\n",
      "removing /mnt/d/workspace/clotho/notebooks/checkpoints/harness_v5_lg_28.pkl\n",
      "best model: /mnt/d/workspace/clotho/notebooks/checkpoints/harness_v5_lg_32.pkl\n",
      "best train: 0.8021\n",
      "best train val: 0.8015\n",
      "best test: 0.7239\n",
      "epoch 33 version: 5\n"
     ]
    },
    {
     "data": {
      "application/vnd.jupyter.widget-view+json": {
       "model_id": "0ea1cbe1a576400787bab8ca153fa11c",
       "version_major": 2,
       "version_minor": 0
      },
      "text/plain": [
       "train:   0%|          | 0/20000 [00:00<?, ?it/s]"
      ]
     },
     "metadata": {},
     "output_type": "display_data"
    },
    {
     "data": {
      "application/vnd.jupyter.widget-view+json": {
       "model_id": "8124b4a3e26c44f7bd8bdb2fc3868fc5",
       "version_major": 2,
       "version_minor": 0
      },
      "text/plain": [
       "train val:   0%|          | 0/10000 [00:00<?, ?it/s]"
      ]
     },
     "metadata": {},
     "output_type": "display_data"
    },
    {
     "data": {
      "application/vnd.jupyter.widget-view+json": {
       "model_id": "68eca819d94e4ceda274f2bd35b6de65",
       "version_major": 2,
       "version_minor": 0
      },
      "text/plain": [
       "test:   0%|          | 0/10000 [00:00<?, ?it/s]"
      ]
     },
     "metadata": {},
     "output_type": "display_data"
    },
    {
     "name": "stdout",
     "output_type": "stream",
     "text": [
      "train: 0.79215 loss: 0.3920313448666454\n",
      "train val: 0.802 loss: 0.35901000078360956\n",
      "test: 0.6847 loss: 0.6037730558276176\n",
      "epoch time: 11.00min\n",
      "removing /mnt/d/workspace/clotho/notebooks/checkpoints/stats_v5_lg_25.json\n",
      "removing /mnt/d/workspace/clotho/notebooks/checkpoints/harness_v5_lg_25.pkl\n",
      "best model: /mnt/d/workspace/clotho/notebooks/checkpoints/harness_v5_lg_33.pkl\n",
      "best train: 0.79215\n",
      "best train val: 0.802\n",
      "best test: 0.6847\n",
      "epoch 34 version: 5\n"
     ]
    },
    {
     "data": {
      "application/vnd.jupyter.widget-view+json": {
       "model_id": "93a45e5668604b8d97ec1c2dcbafdf13",
       "version_major": 2,
       "version_minor": 0
      },
      "text/plain": [
       "train:   0%|          | 0/20000 [00:00<?, ?it/s]"
      ]
     },
     "metadata": {},
     "output_type": "display_data"
    },
    {
     "data": {
      "application/vnd.jupyter.widget-view+json": {
       "model_id": "f68e7b0e395e49479cc6cc9435dbc3f8",
       "version_major": 2,
       "version_minor": 0
      },
      "text/plain": [
       "train val:   0%|          | 0/10000 [00:00<?, ?it/s]"
      ]
     },
     "metadata": {},
     "output_type": "display_data"
    },
    {
     "data": {
      "application/vnd.jupyter.widget-view+json": {
       "model_id": "2786087187dc485db2db2a6448f3ea33",
       "version_major": 2,
       "version_minor": 0
      },
      "text/plain": [
       "test:   0%|          | 0/10000 [00:00<?, ?it/s]"
      ]
     },
     "metadata": {},
     "output_type": "display_data"
    },
    {
     "name": "stdout",
     "output_type": "stream",
     "text": [
      "train: 0.7872 loss: 0.37863791468908276\n",
      "train val: 0.7917 loss: 0.38309535727467153\n",
      "test: 0.6749 loss: 0.6444995293438435\n",
      "epoch time: 11.05min\n",
      "removing /mnt/d/workspace/clotho/notebooks/checkpoints/stats_v5_lg_27.json\n",
      "removing /mnt/d/workspace/clotho/notebooks/checkpoints/harness_v5_lg_27.pkl\n",
      "best model: /mnt/d/workspace/clotho/notebooks/checkpoints/harness_v5_lg_33.pkl\n",
      "best train: 0.79215\n",
      "best train val: 0.802\n",
      "best test: 0.6847\n",
      "epoch 35 version: 5\n"
     ]
    },
    {
     "data": {
      "application/vnd.jupyter.widget-view+json": {
       "model_id": "5158ba6d1743450aa00536c2d3635179",
       "version_major": 2,
       "version_minor": 0
      },
      "text/plain": [
       "train:   0%|          | 0/20000 [00:00<?, ?it/s]"
      ]
     },
     "metadata": {},
     "output_type": "display_data"
    },
    {
     "data": {
      "application/vnd.jupyter.widget-view+json": {
       "model_id": "8ee1dc71fed543378c5cd959313f12d1",
       "version_major": 2,
       "version_minor": 0
      },
      "text/plain": [
       "train val:   0%|          | 0/10000 [00:00<?, ?it/s]"
      ]
     },
     "metadata": {},
     "output_type": "display_data"
    },
    {
     "data": {
      "application/vnd.jupyter.widget-view+json": {
       "model_id": "80f4c49eb94e4135847eaba24f0eb84e",
       "version_major": 2,
       "version_minor": 0
      },
      "text/plain": [
       "test:   0%|          | 0/10000 [00:00<?, ?it/s]"
      ]
     },
     "metadata": {},
     "output_type": "display_data"
    },
    {
     "name": "stdout",
     "output_type": "stream",
     "text": [
      "train: 0.78415 loss: 0.3851855032027495\n",
      "train val: 0.7933 loss: 0.3956094085690697\n",
      "test: 0.7076 loss: 0.592996452392824\n",
      "epoch time: 10.88min\n",
      "removing /mnt/d/workspace/clotho/notebooks/checkpoints/stats_v5_lg_34.json\n",
      "removing /mnt/d/workspace/clotho/notebooks/checkpoints/harness_v5_lg_34.pkl\n",
      "best model: /mnt/d/workspace/clotho/notebooks/checkpoints/harness_v5_lg_33.pkl\n",
      "best train: 0.79215\n",
      "best train val: 0.802\n",
      "best test: 0.6847\n",
      "epoch 36 version: 5\n"
     ]
    },
    {
     "data": {
      "application/vnd.jupyter.widget-view+json": {
       "model_id": "b0378b481b57496ba171f898d073ff37",
       "version_major": 2,
       "version_minor": 0
      },
      "text/plain": [
       "train:   0%|          | 0/20000 [00:00<?, ?it/s]"
      ]
     },
     "metadata": {},
     "output_type": "display_data"
    },
    {
     "data": {
      "application/vnd.jupyter.widget-view+json": {
       "model_id": "c866ed4ca53243d8b3ce822c1c2729e9",
       "version_major": 2,
       "version_minor": 0
      },
      "text/plain": [
       "train val:   0%|          | 0/10000 [00:00<?, ?it/s]"
      ]
     },
     "metadata": {},
     "output_type": "display_data"
    },
    {
     "data": {
      "application/vnd.jupyter.widget-view+json": {
       "model_id": "35ed6f96604546fe96b7a504dd888ccb",
       "version_major": 2,
       "version_minor": 0
      },
      "text/plain": [
       "test:   0%|          | 0/10000 [00:00<?, ?it/s]"
      ]
     },
     "metadata": {},
     "output_type": "display_data"
    },
    {
     "name": "stdout",
     "output_type": "stream",
     "text": [
      "train: 0.7835 loss: 0.39160655265684907\n",
      "train val: 0.7816 loss: 0.3947851452145027\n",
      "test: 0.556 loss: 0.6844872694909573\n",
      "epoch time: 11.11min\n",
      "removing /mnt/d/workspace/clotho/notebooks/checkpoints/stats_v5_lg_35.json\n",
      "removing /mnt/d/workspace/clotho/notebooks/checkpoints/harness_v5_lg_35.pkl\n",
      "best model: /mnt/d/workspace/clotho/notebooks/checkpoints/harness_v5_lg_33.pkl\n",
      "best train: 0.79215\n",
      "best train val: 0.802\n",
      "best test: 0.6847\n",
      "epoch 37 version: 5\n"
     ]
    },
    {
     "data": {
      "application/vnd.jupyter.widget-view+json": {
       "model_id": "2969a33f3c844e57b1acaa703fe3b32d",
       "version_major": 2,
       "version_minor": 0
      },
      "text/plain": [
       "train:   0%|          | 0/20000 [00:00<?, ?it/s]"
      ]
     },
     "metadata": {},
     "output_type": "display_data"
    },
    {
     "data": {
      "application/vnd.jupyter.widget-view+json": {
       "model_id": "a05302e2428641f786f73e5245528f85",
       "version_major": 2,
       "version_minor": 0
      },
      "text/plain": [
       "train val:   0%|          | 0/10000 [00:00<?, ?it/s]"
      ]
     },
     "metadata": {},
     "output_type": "display_data"
    },
    {
     "data": {
      "application/vnd.jupyter.widget-view+json": {
       "model_id": "e0c70797206044b8aa39c060023667c1",
       "version_major": 2,
       "version_minor": 0
      },
      "text/plain": [
       "test:   0%|          | 0/10000 [00:00<?, ?it/s]"
      ]
     },
     "metadata": {},
     "output_type": "display_data"
    },
    {
     "name": "stdout",
     "output_type": "stream",
     "text": [
      "train: 0.78945 loss: 0.3817707473009446\n",
      "train val: 0.7814 loss: 0.38531730333357117\n",
      "test: 0.5295 loss: 0.6794749644160271\n",
      "epoch time: 11.07min\n",
      "removing /mnt/d/workspace/clotho/notebooks/checkpoints/stats_v5_lg_36.json\n",
      "removing /mnt/d/workspace/clotho/notebooks/checkpoints/harness_v5_lg_36.pkl\n",
      "best model: /mnt/d/workspace/clotho/notebooks/checkpoints/harness_v5_lg_33.pkl\n",
      "best train: 0.79215\n",
      "best train val: 0.802\n",
      "best test: 0.6847\n",
      "epoch 38 version: 5\n"
     ]
    },
    {
     "data": {
      "application/vnd.jupyter.widget-view+json": {
       "model_id": "98e7a306ccdb41f687f069e7cc68a291",
       "version_major": 2,
       "version_minor": 0
      },
      "text/plain": [
       "train:   0%|          | 0/20000 [00:00<?, ?it/s]"
      ]
     },
     "metadata": {},
     "output_type": "display_data"
    },
    {
     "data": {
      "application/vnd.jupyter.widget-view+json": {
       "model_id": "0f927823a9864278acd049e02dee12a0",
       "version_major": 2,
       "version_minor": 0
      },
      "text/plain": [
       "train val:   0%|          | 0/10000 [00:00<?, ?it/s]"
      ]
     },
     "metadata": {},
     "output_type": "display_data"
    },
    {
     "data": {
      "application/vnd.jupyter.widget-view+json": {
       "model_id": "56f3375cc38e4fbdac416f3856581597",
       "version_major": 2,
       "version_minor": 0
      },
      "text/plain": [
       "test:   0%|          | 0/10000 [00:00<?, ?it/s]"
      ]
     },
     "metadata": {},
     "output_type": "display_data"
    },
    {
     "name": "stdout",
     "output_type": "stream",
     "text": [
      "train: 0.79435 loss: 0.3641475938141559\n",
      "train val: 0.7896 loss: 0.372878367351371\n",
      "test: 0.6451 loss: 0.6387289577424526\n",
      "epoch time: 11.07min\n",
      "removing /mnt/d/workspace/clotho/notebooks/checkpoints/stats_v5_lg_37.json\n",
      "removing /mnt/d/workspace/clotho/notebooks/checkpoints/harness_v5_lg_37.pkl\n",
      "best model: /mnt/d/workspace/clotho/notebooks/checkpoints/harness_v5_lg_33.pkl\n",
      "best train: 0.79215\n",
      "best train val: 0.802\n",
      "best test: 0.6847\n",
      "epoch 39 version: 5\n"
     ]
    },
    {
     "data": {
      "application/vnd.jupyter.widget-view+json": {
       "model_id": "3056f179be584fc3bb39aa42fd6b131c",
       "version_major": 2,
       "version_minor": 0
      },
      "text/plain": [
       "train:   0%|          | 0/20000 [00:00<?, ?it/s]"
      ]
     },
     "metadata": {},
     "output_type": "display_data"
    },
    {
     "data": {
      "application/vnd.jupyter.widget-view+json": {
       "model_id": "4866a1ef55d84925986f59234817338a",
       "version_major": 2,
       "version_minor": 0
      },
      "text/plain": [
       "train val:   0%|          | 0/10000 [00:00<?, ?it/s]"
      ]
     },
     "metadata": {},
     "output_type": "display_data"
    },
    {
     "data": {
      "application/vnd.jupyter.widget-view+json": {
       "model_id": "049accc76c1a44229e1fca9316b90eaa",
       "version_major": 2,
       "version_minor": 0
      },
      "text/plain": [
       "test:   0%|          | 0/10000 [00:00<?, ?it/s]"
      ]
     },
     "metadata": {},
     "output_type": "display_data"
    },
    {
     "name": "stdout",
     "output_type": "stream",
     "text": [
      "train: 0.79975 loss: 0.35577631746950794\n",
      "train val: 0.7955 loss: 0.36761571310828\n",
      "test: 0.6919 loss: 0.601973484402895\n",
      "epoch time: 11.12min\n",
      "removing /mnt/d/workspace/clotho/notebooks/checkpoints/stats_v5_lg_38.json\n",
      "removing /mnt/d/workspace/clotho/notebooks/checkpoints/harness_v5_lg_38.pkl\n",
      "best model: /mnt/d/workspace/clotho/notebooks/checkpoints/harness_v5_lg_33.pkl\n",
      "best train: 0.79215\n",
      "best train val: 0.802\n",
      "best test: 0.6847\n",
      "epoch 40 version: 5\n"
     ]
    },
    {
     "data": {
      "application/vnd.jupyter.widget-view+json": {
       "model_id": "a91e5d08b4774534a2503a7d59f6bd3a",
       "version_major": 2,
       "version_minor": 0
      },
      "text/plain": [
       "train:   0%|          | 0/20000 [00:00<?, ?it/s]"
      ]
     },
     "metadata": {},
     "output_type": "display_data"
    },
    {
     "data": {
      "application/vnd.jupyter.widget-view+json": {
       "model_id": "5ab1903a553d4964b7f1f54fcc3ddaf2",
       "version_major": 2,
       "version_minor": 0
      },
      "text/plain": [
       "train val:   0%|          | 0/10000 [00:00<?, ?it/s]"
      ]
     },
     "metadata": {},
     "output_type": "display_data"
    },
    {
     "data": {
      "application/vnd.jupyter.widget-view+json": {
       "model_id": "df026ce2d2a14ff2b8b11dbb2f197fa6",
       "version_major": 2,
       "version_minor": 0
      },
      "text/plain": [
       "test:   0%|          | 0/10000 [00:00<?, ?it/s]"
      ]
     },
     "metadata": {},
     "output_type": "display_data"
    },
    {
     "name": "stdout",
     "output_type": "stream",
     "text": [
      "train: 0.80955 loss: 0.3475974047684766\n",
      "train val: 0.795 loss: 0.37153784006900786\n",
      "test: 0.6628 loss: 0.6182135524570942\n",
      "epoch time: 11.10min\n",
      "removing /mnt/d/workspace/clotho/notebooks/checkpoints/stats_v5_lg_31.json\n",
      "removing /mnt/d/workspace/clotho/notebooks/checkpoints/harness_v5_lg_31.pkl\n",
      "best model: /mnt/d/workspace/clotho/notebooks/checkpoints/harness_v5_lg_33.pkl\n",
      "best train: 0.79215\n",
      "best train val: 0.802\n",
      "best test: 0.6847\n",
      "epoch 41 version: 5\n"
     ]
    },
    {
     "data": {
      "application/vnd.jupyter.widget-view+json": {
       "model_id": "3f70ac7d89ad48e4acf977c7d4ba351b",
       "version_major": 2,
       "version_minor": 0
      },
      "text/plain": [
       "train:   0%|          | 0/20000 [00:00<?, ?it/s]"
      ]
     },
     "metadata": {},
     "output_type": "display_data"
    },
    {
     "data": {
      "application/vnd.jupyter.widget-view+json": {
       "model_id": "a78b0179ee64497a9fe31f428b5f8ae9",
       "version_major": 2,
       "version_minor": 0
      },
      "text/plain": [
       "train val:   0%|          | 0/10000 [00:00<?, ?it/s]"
      ]
     },
     "metadata": {},
     "output_type": "display_data"
    },
    {
     "data": {
      "application/vnd.jupyter.widget-view+json": {
       "model_id": "59fd805924ca47ac90cbb6eb015e457b",
       "version_major": 2,
       "version_minor": 0
      },
      "text/plain": [
       "test:   0%|          | 0/10000 [00:00<?, ?it/s]"
      ]
     },
     "metadata": {},
     "output_type": "display_data"
    },
    {
     "name": "stdout",
     "output_type": "stream",
     "text": [
      "train: 0.80915 loss: 0.3471444676186864\n",
      "train val: 0.7985 loss: 0.3672056279565324\n",
      "test: 0.6824 loss: 0.618083935546875\n",
      "epoch time: 11.08min\n",
      "removing /mnt/d/workspace/clotho/notebooks/checkpoints/stats_v5_lg_40.json\n",
      "removing /mnt/d/workspace/clotho/notebooks/checkpoints/harness_v5_lg_40.pkl\n",
      "best model: /mnt/d/workspace/clotho/notebooks/checkpoints/harness_v5_lg_33.pkl\n",
      "best train: 0.79215\n",
      "best train val: 0.802\n",
      "best test: 0.6847\n",
      "epoch 42 version: 5\n"
     ]
    },
    {
     "data": {
      "application/vnd.jupyter.widget-view+json": {
       "model_id": "7e8a73f9ae154df99f310bda757643aa",
       "version_major": 2,
       "version_minor": 0
      },
      "text/plain": [
       "train:   0%|          | 0/20000 [00:00<?, ?it/s]"
      ]
     },
     "metadata": {},
     "output_type": "display_data"
    },
    {
     "data": {
      "application/vnd.jupyter.widget-view+json": {
       "model_id": "cc60e4a4c06f4f60adc8d666b2f03e95",
       "version_major": 2,
       "version_minor": 0
      },
      "text/plain": [
       "train val:   0%|          | 0/10000 [00:00<?, ?it/s]"
      ]
     },
     "metadata": {},
     "output_type": "display_data"
    },
    {
     "data": {
      "application/vnd.jupyter.widget-view+json": {
       "model_id": "d9d4dfb317074d7ca43796308d328d4a",
       "version_major": 2,
       "version_minor": 0
      },
      "text/plain": [
       "test:   0%|          | 0/10000 [00:00<?, ?it/s]"
      ]
     },
     "metadata": {},
     "output_type": "display_data"
    },
    {
     "name": "stdout",
     "output_type": "stream",
     "text": [
      "train: 0.8196 loss: 0.33249259092402683\n",
      "train val: 0.7927 loss: 0.38278681473030046\n",
      "test: 0.6301 loss: 0.6486292501986026\n",
      "epoch time: 11.06min\n",
      "removing /mnt/d/workspace/clotho/notebooks/checkpoints/stats_v5_lg_30.json\n",
      "removing /mnt/d/workspace/clotho/notebooks/checkpoints/harness_v5_lg_30.pkl\n",
      "best model: /mnt/d/workspace/clotho/notebooks/checkpoints/harness_v5_lg_33.pkl\n",
      "best train: 0.79215\n",
      "best train val: 0.802\n",
      "best test: 0.6847\n",
      "epoch 43 version: 5\n"
     ]
    },
    {
     "data": {
      "application/vnd.jupyter.widget-view+json": {
       "model_id": "82ea15810bfa445ba557c8af0bcff969",
       "version_major": 2,
       "version_minor": 0
      },
      "text/plain": [
       "train:   0%|          | 0/20000 [00:00<?, ?it/s]"
      ]
     },
     "metadata": {},
     "output_type": "display_data"
    },
    {
     "data": {
      "application/vnd.jupyter.widget-view+json": {
       "model_id": "f1834b4569a74234a449c105f86a766b",
       "version_major": 2,
       "version_minor": 0
      },
      "text/plain": [
       "train val:   0%|          | 0/10000 [00:00<?, ?it/s]"
      ]
     },
     "metadata": {},
     "output_type": "display_data"
    },
    {
     "data": {
      "application/vnd.jupyter.widget-view+json": {
       "model_id": "c2856427894e4283a6889361c9433389",
       "version_major": 2,
       "version_minor": 0
      },
      "text/plain": [
       "test:   0%|          | 0/10000 [00:00<?, ?it/s]"
      ]
     },
     "metadata": {},
     "output_type": "display_data"
    },
    {
     "name": "stdout",
     "output_type": "stream",
     "text": [
      "train: 0.8114 loss: 0.34303417106464223\n",
      "train val: 0.7948 loss: 0.38277624807208777\n",
      "test: 0.609 loss: 0.6960010250031948\n",
      "epoch time: 11.05min\n",
      "removing /mnt/d/workspace/clotho/notebooks/checkpoints/stats_v5_lg_42.json\n",
      "removing /mnt/d/workspace/clotho/notebooks/checkpoints/harness_v5_lg_42.pkl\n",
      "best model: /mnt/d/workspace/clotho/notebooks/checkpoints/harness_v5_lg_33.pkl\n",
      "best train: 0.79215\n",
      "best train val: 0.802\n",
      "best test: 0.6847\n",
      "epoch 44 version: 5\n"
     ]
    },
    {
     "data": {
      "application/vnd.jupyter.widget-view+json": {
       "model_id": "503d0659993f463d970f27cb882a885f",
       "version_major": 2,
       "version_minor": 0
      },
      "text/plain": [
       "train:   0%|          | 0/20000 [00:00<?, ?it/s]"
      ]
     },
     "metadata": {},
     "output_type": "display_data"
    },
    {
     "data": {
      "application/vnd.jupyter.widget-view+json": {
       "model_id": "248ec02e8c794e088e543786a787339a",
       "version_major": 2,
       "version_minor": 0
      },
      "text/plain": [
       "train val:   0%|          | 0/10000 [00:00<?, ?it/s]"
      ]
     },
     "metadata": {},
     "output_type": "display_data"
    },
    {
     "data": {
      "application/vnd.jupyter.widget-view+json": {
       "model_id": "f20d236abc1345f28c17493599b87af8",
       "version_major": 2,
       "version_minor": 0
      },
      "text/plain": [
       "test:   0%|          | 0/10000 [00:00<?, ?it/s]"
      ]
     },
     "metadata": {},
     "output_type": "display_data"
    },
    {
     "name": "stdout",
     "output_type": "stream",
     "text": [
      "train: 0.8031 loss: 0.3461060567585466\n",
      "train val: 0.7904 loss: 0.3817927174981334\n",
      "test: 0.5249 loss: 0.7418794143855572\n",
      "epoch time: 10.98min\n",
      "removing /mnt/d/workspace/clotho/notebooks/checkpoints/stats_v5_lg_43.json\n",
      "removing /mnt/d/workspace/clotho/notebooks/checkpoints/harness_v5_lg_43.pkl\n",
      "best model: /mnt/d/workspace/clotho/notebooks/checkpoints/harness_v5_lg_33.pkl\n",
      "best train: 0.79215\n",
      "best train val: 0.802\n",
      "best test: 0.6847\n",
      "epoch 45 version: 5\n"
     ]
    },
    {
     "data": {
      "application/vnd.jupyter.widget-view+json": {
       "model_id": "586e19bc117f44ff940cd35753b18642",
       "version_major": 2,
       "version_minor": 0
      },
      "text/plain": [
       "train:   0%|          | 0/20000 [00:00<?, ?it/s]"
      ]
     },
     "metadata": {},
     "output_type": "display_data"
    },
    {
     "data": {
      "application/vnd.jupyter.widget-view+json": {
       "model_id": "a5fbc171b6df4b7fbcfba81a5e1b68c9",
       "version_major": 2,
       "version_minor": 0
      },
      "text/plain": [
       "train val:   0%|          | 0/10000 [00:00<?, ?it/s]"
      ]
     },
     "metadata": {},
     "output_type": "display_data"
    },
    {
     "data": {
      "application/vnd.jupyter.widget-view+json": {
       "model_id": "2781ca3578684327954536e72f28ebcf",
       "version_major": 2,
       "version_minor": 0
      },
      "text/plain": [
       "test:   0%|          | 0/10000 [00:00<?, ?it/s]"
      ]
     },
     "metadata": {},
     "output_type": "display_data"
    },
    {
     "name": "stdout",
     "output_type": "stream",
     "text": [
      "train: 0.81465 loss: 0.340595043301511\n",
      "train val: 0.7866 loss: 0.38714216143373925\n",
      "test: 0.5489 loss: 0.7127264087557793\n",
      "epoch time: 11.01min\n",
      "removing /mnt/d/workspace/clotho/notebooks/checkpoints/stats_v5_lg_44.json\n",
      "removing /mnt/d/workspace/clotho/notebooks/checkpoints/harness_v5_lg_44.pkl\n",
      "best model: /mnt/d/workspace/clotho/notebooks/checkpoints/harness_v5_lg_33.pkl\n",
      "best train: 0.79215\n",
      "best train val: 0.802\n",
      "best test: 0.6847\n",
      "epoch 46 version: 5\n"
     ]
    },
    {
     "data": {
      "application/vnd.jupyter.widget-view+json": {
       "model_id": "21b22ad67fc846a0b3df6ea44d2567f3",
       "version_major": 2,
       "version_minor": 0
      },
      "text/plain": [
       "train:   0%|          | 0/20000 [00:00<?, ?it/s]"
      ]
     },
     "metadata": {},
     "output_type": "display_data"
    },
    {
     "data": {
      "application/vnd.jupyter.widget-view+json": {
       "model_id": "59075f93ef63428991bed1cd65ee921a",
       "version_major": 2,
       "version_minor": 0
      },
      "text/plain": [
       "train val:   0%|          | 0/10000 [00:00<?, ?it/s]"
      ]
     },
     "metadata": {},
     "output_type": "display_data"
    },
    {
     "data": {
      "application/vnd.jupyter.widget-view+json": {
       "model_id": "7cd0da6dd4ca4ef3a4573c14784aa067",
       "version_major": 2,
       "version_minor": 0
      },
      "text/plain": [
       "test:   0%|          | 0/10000 [00:00<?, ?it/s]"
      ]
     },
     "metadata": {},
     "output_type": "display_data"
    },
    {
     "name": "stdout",
     "output_type": "stream",
     "text": [
      "train: 0.81195 loss: 0.3477606159103903\n",
      "train val: 0.7948 loss: 0.36908798286785893\n",
      "test: 0.5505 loss: 0.7243826415538788\n",
      "epoch time: 11.08min\n",
      "removing /mnt/d/workspace/clotho/notebooks/checkpoints/stats_v5_lg_45.json\n",
      "removing /mnt/d/workspace/clotho/notebooks/checkpoints/harness_v5_lg_45.pkl\n",
      "best model: /mnt/d/workspace/clotho/notebooks/checkpoints/harness_v5_lg_33.pkl\n",
      "best train: 0.79215\n",
      "best train val: 0.802\n",
      "best test: 0.6847\n",
      "epoch 47 version: 5\n"
     ]
    },
    {
     "data": {
      "application/vnd.jupyter.widget-view+json": {
       "model_id": "f38b0bec2aab4c26a65f6d465df77e94",
       "version_major": 2,
       "version_minor": 0
      },
      "text/plain": [
       "train:   0%|          | 0/20000 [00:00<?, ?it/s]"
      ]
     },
     "metadata": {},
     "output_type": "display_data"
    },
    {
     "data": {
      "application/vnd.jupyter.widget-view+json": {
       "model_id": "1e818db2b5da40bd88e388841d5cd2be",
       "version_major": 2,
       "version_minor": 0
      },
      "text/plain": [
       "train val:   0%|          | 0/10000 [00:00<?, ?it/s]"
      ]
     },
     "metadata": {},
     "output_type": "display_data"
    },
    {
     "data": {
      "application/vnd.jupyter.widget-view+json": {
       "model_id": "ae4d3a8784794993acc052f4ddb6a938",
       "version_major": 2,
       "version_minor": 0
      },
      "text/plain": [
       "test:   0%|          | 0/10000 [00:00<?, ?it/s]"
      ]
     },
     "metadata": {},
     "output_type": "display_data"
    },
    {
     "name": "stdout",
     "output_type": "stream",
     "text": [
      "train: 0.809 loss: 0.37120557933518866\n",
      "train val: 0.7982 loss: 0.3773161816846798\n",
      "test: 0.5986 loss: 0.6994132894545794\n",
      "epoch time: 10.94min\n",
      "removing /mnt/d/workspace/clotho/notebooks/checkpoints/stats_v5_lg_46.json\n",
      "removing /mnt/d/workspace/clotho/notebooks/checkpoints/harness_v5_lg_46.pkl\n",
      "best model: /mnt/d/workspace/clotho/notebooks/checkpoints/harness_v5_lg_33.pkl\n",
      "best train: 0.79215\n",
      "best train val: 0.802\n",
      "best test: 0.6847\n",
      "epoch 48 version: 5\n"
     ]
    },
    {
     "data": {
      "application/vnd.jupyter.widget-view+json": {
       "model_id": "1844afff121c48db951a9df8ca38b3b0",
       "version_major": 2,
       "version_minor": 0
      },
      "text/plain": [
       "train:   0%|          | 0/20000 [00:00<?, ?it/s]"
      ]
     },
     "metadata": {},
     "output_type": "display_data"
    },
    {
     "data": {
      "application/vnd.jupyter.widget-view+json": {
       "model_id": "3791ed0587134fde81fb3d65f98ad2ac",
       "version_major": 2,
       "version_minor": 0
      },
      "text/plain": [
       "train val:   0%|          | 0/10000 [00:00<?, ?it/s]"
      ]
     },
     "metadata": {},
     "output_type": "display_data"
    },
    {
     "data": {
      "application/vnd.jupyter.widget-view+json": {
       "model_id": "3d8d69734d654b1d93383ef711e71b54",
       "version_major": 2,
       "version_minor": 0
      },
      "text/plain": [
       "test:   0%|          | 0/10000 [00:00<?, ?it/s]"
      ]
     },
     "metadata": {},
     "output_type": "display_data"
    },
    {
     "name": "stdout",
     "output_type": "stream",
     "text": [
      "train: 0.8185 loss: 0.3683366979717626\n",
      "train val: 0.7944 loss: 0.3748701256559994\n",
      "test: 0.5726 loss: 0.689019011837244\n",
      "epoch time: 11.11min\n",
      "removing /mnt/d/workspace/clotho/notebooks/checkpoints/stats_v5_lg_29.json\n",
      "removing /mnt/d/workspace/clotho/notebooks/checkpoints/harness_v5_lg_29.pkl\n",
      "best model: /mnt/d/workspace/clotho/notebooks/checkpoints/harness_v5_lg_33.pkl\n",
      "best train: 0.79215\n",
      "best train val: 0.802\n",
      "best test: 0.6847\n",
      "epoch 49 version: 5\n"
     ]
    },
    {
     "data": {
      "application/vnd.jupyter.widget-view+json": {
       "model_id": "8a45356b21104b98b184d8eb6b9e0e1a",
       "version_major": 2,
       "version_minor": 0
      },
      "text/plain": [
       "train:   0%|          | 0/20000 [00:00<?, ?it/s]"
      ]
     },
     "metadata": {},
     "output_type": "display_data"
    },
    {
     "data": {
      "application/vnd.jupyter.widget-view+json": {
       "model_id": "1e0d9050ba0d4f6f8290a894637e0e1d",
       "version_major": 2,
       "version_minor": 0
      },
      "text/plain": [
       "train val:   0%|          | 0/10000 [00:00<?, ?it/s]"
      ]
     },
     "metadata": {},
     "output_type": "display_data"
    },
    {
     "data": {
      "application/vnd.jupyter.widget-view+json": {
       "model_id": "a8ef22a1b32740f79bf04f22111aff07",
       "version_major": 2,
       "version_minor": 0
      },
      "text/plain": [
       "test:   0%|          | 0/10000 [00:00<?, ?it/s]"
      ]
     },
     "metadata": {},
     "output_type": "display_data"
    },
    {
     "name": "stdout",
     "output_type": "stream",
     "text": [
      "train: 0.82115 loss: 0.3320309446355288\n",
      "train val: 0.7993 loss: 0.37519114472606163\n",
      "test: 0.6033 loss: 0.6840381499648094\n",
      "epoch time: 11.37min\n",
      "removing /mnt/d/workspace/clotho/notebooks/checkpoints/stats_v5_lg_48.json\n",
      "removing /mnt/d/workspace/clotho/notebooks/checkpoints/harness_v5_lg_48.pkl\n",
      "best model: /mnt/d/workspace/clotho/notebooks/checkpoints/harness_v5_lg_33.pkl\n",
      "best train: 0.79215\n",
      "best train val: 0.802\n",
      "best test: 0.6847\n",
      "epoch 50 version: 5\n"
     ]
    },
    {
     "data": {
      "application/vnd.jupyter.widget-view+json": {
       "model_id": "7570033e452e4ddc8a86887d35a468d9",
       "version_major": 2,
       "version_minor": 0
      },
      "text/plain": [
       "train:   0%|          | 0/20000 [00:00<?, ?it/s]"
      ]
     },
     "metadata": {},
     "output_type": "display_data"
    },
    {
     "data": {
      "application/vnd.jupyter.widget-view+json": {
       "model_id": "d0a174bd0a8e4b06a45f3503db4e2287",
       "version_major": 2,
       "version_minor": 0
      },
      "text/plain": [
       "train val:   0%|          | 0/10000 [00:00<?, ?it/s]"
      ]
     },
     "metadata": {},
     "output_type": "display_data"
    },
    {
     "data": {
      "application/vnd.jupyter.widget-view+json": {
       "model_id": "0d42fb74a8e5404d8d2421be4a6e9acd",
       "version_major": 2,
       "version_minor": 0
      },
      "text/plain": [
       "test:   0%|          | 0/10000 [00:00<?, ?it/s]"
      ]
     },
     "metadata": {},
     "output_type": "display_data"
    },
    {
     "name": "stdout",
     "output_type": "stream",
     "text": [
      "train: 0.81565 loss: 0.3348917072825707\n",
      "train val: 0.7948 loss: 0.3766335236896765\n",
      "test: 0.5801 loss: 0.7055329742908478\n",
      "epoch time: 11.31min\n",
      "removing /mnt/d/workspace/clotho/notebooks/checkpoints/stats_v5_lg_39.json\n",
      "removing /mnt/d/workspace/clotho/notebooks/checkpoints/harness_v5_lg_39.pkl\n",
      "best model: /mnt/d/workspace/clotho/notebooks/checkpoints/harness_v5_lg_33.pkl\n",
      "best train: 0.79215\n",
      "best train val: 0.802\n",
      "best test: 0.6847\n",
      "epoch 51 version: 5\n"
     ]
    },
    {
     "data": {
      "application/vnd.jupyter.widget-view+json": {
       "model_id": "614306ff14464e738c0b79a1e05a082c",
       "version_major": 2,
       "version_minor": 0
      },
      "text/plain": [
       "train:   0%|          | 0/20000 [00:00<?, ?it/s]"
      ]
     },
     "metadata": {},
     "output_type": "display_data"
    },
    {
     "data": {
      "application/vnd.jupyter.widget-view+json": {
       "model_id": "ac05c4cc197e465e8ae28b6b05f68489",
       "version_major": 2,
       "version_minor": 0
      },
      "text/plain": [
       "train val:   0%|          | 0/10000 [00:00<?, ?it/s]"
      ]
     },
     "metadata": {},
     "output_type": "display_data"
    },
    {
     "data": {
      "application/vnd.jupyter.widget-view+json": {
       "model_id": "3b596b715e624c9cad4e51a174ae66b7",
       "version_major": 2,
       "version_minor": 0
      },
      "text/plain": [
       "test:   0%|          | 0/10000 [00:00<?, ?it/s]"
      ]
     },
     "metadata": {},
     "output_type": "display_data"
    },
    {
     "name": "stdout",
     "output_type": "stream",
     "text": [
      "train: 0.81555 loss: 0.33686220213746965\n",
      "train val: 0.777 loss: 0.38088892900930615\n",
      "test: 0.5915 loss: 0.6687124067902565\n",
      "epoch time: 11.26min\n",
      "removing /mnt/d/workspace/clotho/notebooks/checkpoints/stats_v5_lg_50.json\n",
      "removing /mnt/d/workspace/clotho/notebooks/checkpoints/harness_v5_lg_50.pkl\n",
      "best model: /mnt/d/workspace/clotho/notebooks/checkpoints/harness_v5_lg_33.pkl\n",
      "best train: 0.79215\n",
      "best train val: 0.802\n",
      "best test: 0.6847\n",
      "epoch 52 version: 5\n"
     ]
    },
    {
     "data": {
      "application/vnd.jupyter.widget-view+json": {
       "model_id": "0b16a1991e564d22b4dd3223c9f1c391",
       "version_major": 2,
       "version_minor": 0
      },
      "text/plain": [
       "train:   0%|          | 0/20000 [00:00<?, ?it/s]"
      ]
     },
     "metadata": {},
     "output_type": "display_data"
    },
    {
     "data": {
      "application/vnd.jupyter.widget-view+json": {
       "model_id": "0fe6c1f7bdde464c8ac2ee09774e2079",
       "version_major": 2,
       "version_minor": 0
      },
      "text/plain": [
       "train val:   0%|          | 0/10000 [00:00<?, ?it/s]"
      ]
     },
     "metadata": {},
     "output_type": "display_data"
    },
    {
     "data": {
      "application/vnd.jupyter.widget-view+json": {
       "model_id": "0034b287c09344808e474ee43de18f11",
       "version_major": 2,
       "version_minor": 0
      },
      "text/plain": [
       "test:   0%|          | 0/10000 [00:00<?, ?it/s]"
      ]
     },
     "metadata": {},
     "output_type": "display_data"
    },
    {
     "name": "stdout",
     "output_type": "stream",
     "text": [
      "train: 0.8133 loss: 0.33604731128361237\n",
      "train val: 0.8016 loss: 0.37429193023097507\n",
      "test: 0.5877 loss: 0.6736759201228618\n",
      "epoch time: 11.00min\n",
      "removing /mnt/d/workspace/clotho/notebooks/checkpoints/stats_v5_lg_51.json\n",
      "removing /mnt/d/workspace/clotho/notebooks/checkpoints/harness_v5_lg_51.pkl\n",
      "best model: /mnt/d/workspace/clotho/notebooks/checkpoints/harness_v5_lg_33.pkl\n",
      "best train: 0.79215\n",
      "best train val: 0.802\n",
      "best test: 0.6847\n",
      "epoch 53 version: 5\n"
     ]
    },
    {
     "data": {
      "application/vnd.jupyter.widget-view+json": {
       "model_id": "e8f1e9c568e04b03a373a68eff8a1278",
       "version_major": 2,
       "version_minor": 0
      },
      "text/plain": [
       "train:   0%|          | 0/20000 [00:00<?, ?it/s]"
      ]
     },
     "metadata": {},
     "output_type": "display_data"
    },
    {
     "data": {
      "application/vnd.jupyter.widget-view+json": {
       "model_id": "63b984fd414c4009ba1b1dafb893ffe9",
       "version_major": 2,
       "version_minor": 0
      },
      "text/plain": [
       "train val:   0%|          | 0/10000 [00:00<?, ?it/s]"
      ]
     },
     "metadata": {},
     "output_type": "display_data"
    },
    {
     "data": {
      "application/vnd.jupyter.widget-view+json": {
       "model_id": "da1cf978e2184a3781aa6bac1420adc8",
       "version_major": 2,
       "version_minor": 0
      },
      "text/plain": [
       "test:   0%|          | 0/10000 [00:00<?, ?it/s]"
      ]
     },
     "metadata": {},
     "output_type": "display_data"
    },
    {
     "name": "stdout",
     "output_type": "stream",
     "text": [
      "train: 0.81115 loss: 0.34914278329267\n",
      "train val: 0.7903 loss: 0.38617418015189786\n",
      "test: 0.5509 loss: 0.7481679831594229\n",
      "epoch time: 10.57min\n",
      "removing /mnt/d/workspace/clotho/notebooks/checkpoints/stats_v5_lg_47.json\n",
      "removing /mnt/d/workspace/clotho/notebooks/checkpoints/harness_v5_lg_47.pkl\n",
      "best model: /mnt/d/workspace/clotho/notebooks/checkpoints/harness_v5_lg_33.pkl\n",
      "best train: 0.79215\n",
      "best train val: 0.802\n",
      "best test: 0.6847\n",
      "epoch 54 version: 5\n"
     ]
    },
    {
     "data": {
      "application/vnd.jupyter.widget-view+json": {
       "model_id": "bc1d771e710c46f18167c79cf6448dd5",
       "version_major": 2,
       "version_minor": 0
      },
      "text/plain": [
       "train:   0%|          | 0/20000 [00:00<?, ?it/s]"
      ]
     },
     "metadata": {},
     "output_type": "display_data"
    },
    {
     "data": {
      "application/vnd.jupyter.widget-view+json": {
       "model_id": "eb916384564c4873866326563a81b354",
       "version_major": 2,
       "version_minor": 0
      },
      "text/plain": [
       "train val:   0%|          | 0/10000 [00:00<?, ?it/s]"
      ]
     },
     "metadata": {},
     "output_type": "display_data"
    },
    {
     "data": {
      "application/vnd.jupyter.widget-view+json": {
       "model_id": "2a3a345f48e9412693c4ee831a52b7fc",
       "version_major": 2,
       "version_minor": 0
      },
      "text/plain": [
       "test:   0%|          | 0/10000 [00:00<?, ?it/s]"
      ]
     },
     "metadata": {},
     "output_type": "display_data"
    },
    {
     "name": "stdout",
     "output_type": "stream",
     "text": [
      "train: 0.8188 loss: 0.3295813270027024\n",
      "train val: 0.8062 loss: 0.4059662265171297\n",
      "test: 0.6005 loss: 0.6984388139367104\n",
      "epoch time: 11.25min\n",
      "removing /mnt/d/workspace/clotho/notebooks/checkpoints/stats_v5_lg_53.json\n",
      "removing /mnt/d/workspace/clotho/notebooks/checkpoints/harness_v5_lg_53.pkl\n",
      "best model: /mnt/d/workspace/clotho/notebooks/checkpoints/harness_v5_lg_54.pkl\n",
      "best train: 0.8188\n",
      "best train val: 0.8062\n",
      "best test: 0.6005\n",
      "epoch 55 version: 5\n"
     ]
    },
    {
     "data": {
      "application/vnd.jupyter.widget-view+json": {
       "model_id": "aef75d70057a401fab3acc571fb58ce2",
       "version_major": 2,
       "version_minor": 0
      },
      "text/plain": [
       "train:   0%|          | 0/20000 [00:00<?, ?it/s]"
      ]
     },
     "metadata": {},
     "output_type": "display_data"
    },
    {
     "data": {
      "application/vnd.jupyter.widget-view+json": {
       "model_id": "ef8e7b8e5455425fa773c9f303051b74",
       "version_major": 2,
       "version_minor": 0
      },
      "text/plain": [
       "train val:   0%|          | 0/10000 [00:00<?, ?it/s]"
      ]
     },
     "metadata": {},
     "output_type": "display_data"
    },
    {
     "data": {
      "application/vnd.jupyter.widget-view+json": {
       "model_id": "c684738f2ed74474a2b01d333db82ec5",
       "version_major": 2,
       "version_minor": 0
      },
      "text/plain": [
       "test:   0%|          | 0/10000 [00:00<?, ?it/s]"
      ]
     },
     "metadata": {},
     "output_type": "display_data"
    },
    {
     "name": "stdout",
     "output_type": "stream",
     "text": [
      "train: 0.8247 loss: 0.32318230239410567\n",
      "train val: 0.8086 loss: 0.357033298492153\n",
      "test: 0.644 loss: 0.6314117594361305\n",
      "epoch time: 11.46min\n",
      "removing /mnt/d/workspace/clotho/notebooks/checkpoints/stats_v5_lg_41.json\n",
      "removing /mnt/d/workspace/clotho/notebooks/checkpoints/harness_v5_lg_41.pkl\n",
      "best model: /mnt/d/workspace/clotho/notebooks/checkpoints/harness_v5_lg_55.pkl\n",
      "best train: 0.8247\n",
      "best train val: 0.8086\n",
      "best test: 0.644\n",
      "epoch 56 version: 5\n"
     ]
    },
    {
     "data": {
      "application/vnd.jupyter.widget-view+json": {
       "model_id": "ef71606fa5cd4431bc07922b95a98afc",
       "version_major": 2,
       "version_minor": 0
      },
      "text/plain": [
       "train:   0%|          | 0/20000 [00:00<?, ?it/s]"
      ]
     },
     "metadata": {},
     "output_type": "display_data"
    },
    {
     "data": {
      "application/vnd.jupyter.widget-view+json": {
       "model_id": "e3fa2c5ffea04ba9a954eaa793861a3e",
       "version_major": 2,
       "version_minor": 0
      },
      "text/plain": [
       "train val:   0%|          | 0/10000 [00:00<?, ?it/s]"
      ]
     },
     "metadata": {},
     "output_type": "display_data"
    },
    {
     "data": {
      "application/vnd.jupyter.widget-view+json": {
       "model_id": "5615d681631846a4be8d5c03bef9e071",
       "version_major": 2,
       "version_minor": 0
      },
      "text/plain": [
       "test:   0%|          | 0/10000 [00:00<?, ?it/s]"
      ]
     },
     "metadata": {},
     "output_type": "display_data"
    },
    {
     "name": "stdout",
     "output_type": "stream",
     "text": [
      "train: 0.8273 loss: 0.31735005279600903\n",
      "train val: 0.8127 loss: 0.3541597946375186\n",
      "test: 0.6436 loss: 0.6443583008348942\n",
      "epoch time: 11.13min\n",
      "removing /mnt/d/workspace/clotho/notebooks/checkpoints/stats_v5_lg_49.json\n",
      "removing /mnt/d/workspace/clotho/notebooks/checkpoints/harness_v5_lg_49.pkl\n",
      "best model: /mnt/d/workspace/clotho/notebooks/checkpoints/harness_v5_lg_56.pkl\n",
      "best train: 0.8273\n",
      "best train val: 0.8127\n",
      "best test: 0.6436\n",
      "epoch 57 version: 5\n"
     ]
    },
    {
     "data": {
      "application/vnd.jupyter.widget-view+json": {
       "model_id": "ba5a7972dfbe46b18bfac90dc61aa295",
       "version_major": 2,
       "version_minor": 0
      },
      "text/plain": [
       "train:   0%|          | 0/20000 [00:00<?, ?it/s]"
      ]
     },
     "metadata": {},
     "output_type": "display_data"
    },
    {
     "data": {
      "application/vnd.jupyter.widget-view+json": {
       "model_id": "ab172f7b69da446daa05de847e591f36",
       "version_major": 2,
       "version_minor": 0
      },
      "text/plain": [
       "train val:   0%|          | 0/10000 [00:00<?, ?it/s]"
      ]
     },
     "metadata": {},
     "output_type": "display_data"
    },
    {
     "data": {
      "application/vnd.jupyter.widget-view+json": {
       "model_id": "9709fe7f85d9451bb7f44e1d85870960",
       "version_major": 2,
       "version_minor": 0
      },
      "text/plain": [
       "test:   0%|          | 0/10000 [00:00<?, ?it/s]"
      ]
     },
     "metadata": {},
     "output_type": "display_data"
    },
    {
     "name": "stdout",
     "output_type": "stream",
     "text": [
      "train: 0.8346 loss: 0.3126832058592361\n",
      "train val: 0.807 loss: 0.3874331000324717\n",
      "test: 0.6529 loss: 0.6225490248501301\n",
      "epoch time: 11.15min\n",
      "removing /mnt/d/workspace/clotho/notebooks/checkpoints/stats_v5_lg_32.json\n",
      "removing /mnt/d/workspace/clotho/notebooks/checkpoints/harness_v5_lg_32.pkl\n",
      "best model: /mnt/d/workspace/clotho/notebooks/checkpoints/harness_v5_lg_56.pkl\n",
      "best train: 0.8273\n",
      "best train val: 0.8127\n",
      "best test: 0.6436\n",
      "epoch 58 version: 5\n"
     ]
    },
    {
     "data": {
      "application/vnd.jupyter.widget-view+json": {
       "model_id": "d76dab3187a544a28170f64c58ea5b13",
       "version_major": 2,
       "version_minor": 0
      },
      "text/plain": [
       "train:   0%|          | 0/20000 [00:00<?, ?it/s]"
      ]
     },
     "metadata": {},
     "output_type": "display_data"
    },
    {
     "data": {
      "application/vnd.jupyter.widget-view+json": {
       "model_id": "8e190f60cc89436c800bc05375c5a2fa",
       "version_major": 2,
       "version_minor": 0
      },
      "text/plain": [
       "train val:   0%|          | 0/10000 [00:00<?, ?it/s]"
      ]
     },
     "metadata": {},
     "output_type": "display_data"
    },
    {
     "data": {
      "application/vnd.jupyter.widget-view+json": {
       "model_id": "200ecc68d6894d4fa9814d8762057147",
       "version_major": 2,
       "version_minor": 0
      },
      "text/plain": [
       "test:   0%|          | 0/10000 [00:00<?, ?it/s]"
      ]
     },
     "metadata": {},
     "output_type": "display_data"
    },
    {
     "name": "stdout",
     "output_type": "stream",
     "text": [
      "train: 0.83125 loss: 0.31469895328301734\n",
      "train val: 0.8154 loss: 0.35605242584686536\n",
      "test: 0.6596 loss: 0.6341776223570108\n",
      "epoch time: 11.73min\n",
      "removing /mnt/d/workspace/clotho/notebooks/checkpoints/stats_v5_lg_52.json\n",
      "removing /mnt/d/workspace/clotho/notebooks/checkpoints/harness_v5_lg_52.pkl\n",
      "best model: /mnt/d/workspace/clotho/notebooks/checkpoints/harness_v5_lg_58.pkl\n",
      "best train: 0.83125\n",
      "best train val: 0.8154\n",
      "best test: 0.6596\n",
      "epoch 59 version: 5\n"
     ]
    },
    {
     "data": {
      "application/vnd.jupyter.widget-view+json": {
       "model_id": "2bcd85406f624a53ac5266124f1746bb",
       "version_major": 2,
       "version_minor": 0
      },
      "text/plain": [
       "train:   0%|          | 0/20000 [00:00<?, ?it/s]"
      ]
     },
     "metadata": {},
     "output_type": "display_data"
    },
    {
     "data": {
      "application/vnd.jupyter.widget-view+json": {
       "model_id": "3e2f9d2251994bc5a08f6e4361822603",
       "version_major": 2,
       "version_minor": 0
      },
      "text/plain": [
       "train val:   0%|          | 0/10000 [00:00<?, ?it/s]"
      ]
     },
     "metadata": {},
     "output_type": "display_data"
    },
    {
     "data": {
      "application/vnd.jupyter.widget-view+json": {
       "model_id": "e683b5ac6c854d44ae42507f84df4bbe",
       "version_major": 2,
       "version_minor": 0
      },
      "text/plain": [
       "test:   0%|          | 0/10000 [00:00<?, ?it/s]"
      ]
     },
     "metadata": {},
     "output_type": "display_data"
    },
    {
     "name": "stdout",
     "output_type": "stream",
     "text": [
      "train: 0.8362 loss: 0.3147410453198336\n",
      "train val: 0.8174 loss: 0.35721926678796845\n",
      "test: 0.6611 loss: 0.6328017703473569\n",
      "epoch time: 12.00min\n",
      "removing /mnt/d/workspace/clotho/notebooks/checkpoints/stats_v5_lg_33.json\n",
      "removing /mnt/d/workspace/clotho/notebooks/checkpoints/harness_v5_lg_33.pkl\n",
      "best model: /mnt/d/workspace/clotho/notebooks/checkpoints/harness_v5_lg_59.pkl\n",
      "best train: 0.8362\n",
      "best train val: 0.8174\n",
      "best test: 0.6611\n"
     ]
    },
    {
     "data": {
      "application/vnd.jupyter.widget-view+json": {
       "model_id": "0053b12e505b4df3a09ea517e7026516",
       "version_major": 2,
       "version_minor": 0
      },
      "text/plain": [
       "test val:   0%|          | 0/10000 [00:00<?, ?it/s]"
      ]
     },
     "metadata": {},
     "output_type": "display_data"
    },
    {
     "name": "stdout",
     "output_type": "stream",
     "text": [
      "test val: {'accuracy': 0.662} loss: 0.6351689452290535\n",
      "correct\n"
     ]
    },
    {
     "data": {
      "text/html": [
       "<div>\n",
       "<style scoped>\n",
       "    .dataframe tbody tr th:only-of-type {\n",
       "        vertical-align: middle;\n",
       "    }\n",
       "\n",
       "    .dataframe tbody tr th {\n",
       "        vertical-align: top;\n",
       "    }\n",
       "\n",
       "    .dataframe thead th {\n",
       "        text-align: right;\n",
       "    }\n",
       "</style>\n",
       "<table border=\"1\" class=\"dataframe\">\n",
       "  <thead>\n",
       "    <tr style=\"text-align: right;\">\n",
       "      <th></th>\n",
       "      <th>gen_name</th>\n",
       "      <th>parent_left</th>\n",
       "      <th>child_left</th>\n",
       "      <th>parent_right</th>\n",
       "      <th>child_right</th>\n",
       "      <th>score_left</th>\n",
       "      <th>score_right</th>\n",
       "      <th>correct_is_right</th>\n",
       "      <th>logit_left</th>\n",
       "      <th>logit_right</th>\n",
       "      <th>preds</th>\n",
       "      <th>truth</th>\n",
       "    </tr>\n",
       "  </thead>\n",
       "  <tbody>\n",
       "    <tr>\n",
       "      <th>0</th>\n",
       "      <td>!copy--valid_weak;(st)</td>\n",
       "      <td>Well, shit dude.</td>\n",
       "      <td>Everyone in my family is nagging me with the f...</td>\n",
       "      <td>Everyone in my family is nagging me with the f...</td>\n",
       "      <td>Well, shit dude.</td>\n",
       "      <td>0</td>\n",
       "      <td>1</td>\n",
       "      <td>True</td>\n",
       "      <td>0.007619</td>\n",
       "      <td>0.992381</td>\n",
       "      <td>1</td>\n",
       "      <td>1</td>\n",
       "    </tr>\n",
       "    <tr>\n",
       "      <th>1</th>\n",
       "      <td>*valid_weak--!copy;(st)</td>\n",
       "      <td>Not using 1-10, how attractive are you?</td>\n",
       "      <td>Let's just say my Facebook relationship status...</td>\n",
       "      <td>Let's just say my Facebook relationship status...</td>\n",
       "      <td>Not using 1-10, how attractive are you?</td>\n",
       "      <td>1</td>\n",
       "      <td>0</td>\n",
       "      <td>False</td>\n",
       "      <td>0.516108</td>\n",
       "      <td>0.483892</td>\n",
       "      <td>0</td>\n",
       "      <td>0</td>\n",
       "    </tr>\n",
       "    <tr>\n",
       "      <th>3</th>\n",
       "      <td>random--valid_weak;(st)</td>\n",
       "      <td>I can’t stand the smell of truffle oil. Makes ...</td>\n",
       "      <td>my cat's name is Guy, just so I can go \"hey Gu...</td>\n",
       "      <td>Guys….what is a big turn off that girls still ...</td>\n",
       "      <td>Long manicured nails</td>\n",
       "      <td>0</td>\n",
       "      <td>5</td>\n",
       "      <td>True</td>\n",
       "      <td>0.231810</td>\n",
       "      <td>0.768190</td>\n",
       "      <td>1</td>\n",
       "      <td>1</td>\n",
       "    </tr>\n",
       "    <tr>\n",
       "      <th>2</th>\n",
       "      <td>!copy--valid_weak;(st)</td>\n",
       "      <td>plus all the bodies you can bury with no one n...</td>\n",
       "      <td>Landscape maintenance, particularly if the cli...</td>\n",
       "      <td>Landscape maintenance, particularly if the cli...</td>\n",
       "      <td>plus all the bodies you can bury with no one n...</td>\n",
       "      <td>0</td>\n",
       "      <td>6</td>\n",
       "      <td>True</td>\n",
       "      <td>0.369386</td>\n",
       "      <td>0.630614</td>\n",
       "      <td>1</td>\n",
       "      <td>1</td>\n",
       "    </tr>\n",
       "    <tr>\n",
       "      <th>3</th>\n",
       "      <td>random--valid_weak;(st)</td>\n",
       "      <td>Perfect Dark (N64)</td>\n",
       "      <td>Exactly. In the 1960s I had their album, \"[The...</td>\n",
       "      <td>Not using 1-10, how attractive are you?</td>\n",
       "      <td>I look like a dwarf from Middle Earth.</td>\n",
       "      <td>0</td>\n",
       "      <td>1</td>\n",
       "      <td>True</td>\n",
       "      <td>0.291863</td>\n",
       "      <td>0.708137</td>\n",
       "      <td>1</td>\n",
       "      <td>1</td>\n",
       "    </tr>\n",
       "  </tbody>\n",
       "</table>\n",
       "</div>"
      ],
      "text/plain": [
       "                  gen_name                                        parent_left  \\\n",
       "0   !copy--valid_weak;(st)                                   Well, shit dude.   \n",
       "1  *valid_weak--!copy;(st)            Not using 1-10, how attractive are you?   \n",
       "3  random--valid_weak;(st)  I can’t stand the smell of truffle oil. Makes ...   \n",
       "2   !copy--valid_weak;(st)  plus all the bodies you can bury with no one n...   \n",
       "3  random--valid_weak;(st)                                 Perfect Dark (N64)   \n",
       "\n",
       "                                          child_left  \\\n",
       "0  Everyone in my family is nagging me with the f...   \n",
       "1  Let's just say my Facebook relationship status...   \n",
       "3  my cat's name is Guy, just so I can go \"hey Gu...   \n",
       "2  Landscape maintenance, particularly if the cli...   \n",
       "3  Exactly. In the 1960s I had their album, \"[The...   \n",
       "\n",
       "                                        parent_right  \\\n",
       "0  Everyone in my family is nagging me with the f...   \n",
       "1  Let's just say my Facebook relationship status...   \n",
       "3  Guys….what is a big turn off that girls still ...   \n",
       "2  Landscape maintenance, particularly if the cli...   \n",
       "3            Not using 1-10, how attractive are you?   \n",
       "\n",
       "                                         child_right  score_left  score_right  \\\n",
       "0                                   Well, shit dude.           0            1   \n",
       "1            Not using 1-10, how attractive are you?           1            0   \n",
       "3                               Long manicured nails           0            5   \n",
       "2  plus all the bodies you can bury with no one n...           0            6   \n",
       "3             I look like a dwarf from Middle Earth.           0            1   \n",
       "\n",
       "   correct_is_right  logit_left  logit_right  preds  truth  \n",
       "0              True    0.007619     0.992381      1      1  \n",
       "1             False    0.516108     0.483892      0      0  \n",
       "3              True    0.231810     0.768190      1      1  \n",
       "2              True    0.369386     0.630614      1      1  \n",
       "3              True    0.291863     0.708137      1      1  "
      ]
     },
     "metadata": {},
     "output_type": "display_data"
    },
    {
     "name": "stdout",
     "output_type": "stream",
     "text": [
      "incorrect\n"
     ]
    },
    {
     "data": {
      "text/html": [
       "<div>\n",
       "<style scoped>\n",
       "    .dataframe tbody tr th:only-of-type {\n",
       "        vertical-align: middle;\n",
       "    }\n",
       "\n",
       "    .dataframe tbody tr th {\n",
       "        vertical-align: top;\n",
       "    }\n",
       "\n",
       "    .dataframe thead th {\n",
       "        text-align: right;\n",
       "    }\n",
       "</style>\n",
       "<table border=\"1\" class=\"dataframe\">\n",
       "  <thead>\n",
       "    <tr style=\"text-align: right;\">\n",
       "      <th></th>\n",
       "      <th>gen_name</th>\n",
       "      <th>parent_left</th>\n",
       "      <th>child_left</th>\n",
       "      <th>parent_right</th>\n",
       "      <th>child_right</th>\n",
       "      <th>score_left</th>\n",
       "      <th>score_right</th>\n",
       "      <th>correct_is_right</th>\n",
       "      <th>logit_left</th>\n",
       "      <th>logit_right</th>\n",
       "      <th>preds</th>\n",
       "      <th>truth</th>\n",
       "    </tr>\n",
       "  </thead>\n",
       "  <tbody>\n",
       "    <tr>\n",
       "      <th>2</th>\n",
       "      <td>random--valid_weak;(st)</td>\n",
       "      <td>White Lotus</td>\n",
       "      <td>She Heard</td>\n",
       "      <td>Sewing. Sewing is awesome. I learned basic sew...</td>\n",
       "      <td>I started sewing to make a quilt out of a pile...</td>\n",
       "      <td>0</td>\n",
       "      <td>3</td>\n",
       "      <td>True</td>\n",
       "      <td>0.606091</td>\n",
       "      <td>0.393909</td>\n",
       "      <td>0</td>\n",
       "      <td>1</td>\n",
       "    </tr>\n",
       "    <tr>\n",
       "      <th>0</th>\n",
       "      <td>random--valid_weak;(st)</td>\n",
       "      <td>It's baffling. With as far as they bend over b...</td>\n",
       "      <td>My girlfriends Dad is 75. If he started doing ...</td>\n",
       "      <td>If you could rename America what would it be c...</td>\n",
       "      <td>Gods Country Giant Sowglobe Dunning Kruger Cou...</td>\n",
       "      <td>0</td>\n",
       "      <td>1</td>\n",
       "      <td>True</td>\n",
       "      <td>0.692174</td>\n",
       "      <td>0.307826</td>\n",
       "      <td>0</td>\n",
       "      <td>1</td>\n",
       "    </tr>\n",
       "    <tr>\n",
       "      <th>1</th>\n",
       "      <td>random--valid_weak;(st)</td>\n",
       "      <td>i was gonna say, he knocks it out of the park ...</td>\n",
       "      <td>when itv drugs you and ruins your life fuck th...</td>\n",
       "      <td>[Serious] How would you react if your partner ...</td>\n",
       "      <td>Immediate breakup.</td>\n",
       "      <td>0</td>\n",
       "      <td>1</td>\n",
       "      <td>True</td>\n",
       "      <td>0.706811</td>\n",
       "      <td>0.293189</td>\n",
       "      <td>0</td>\n",
       "      <td>1</td>\n",
       "    </tr>\n",
       "    <tr>\n",
       "      <th>2</th>\n",
       "      <td>*valid_weak--random;(st)</td>\n",
       "      <td>https://youtu.be/_BtemfoJ-WI</td>\n",
       "      <td>I looked it up, and this aired on November 18,...</td>\n",
       "      <td>I have phimosis, a condition that causes the f...</td>\n",
       "      <td>Elizabeth.</td>\n",
       "      <td>29</td>\n",
       "      <td>0</td>\n",
       "      <td>False</td>\n",
       "      <td>0.084976</td>\n",
       "      <td>0.915024</td>\n",
       "      <td>1</td>\n",
       "      <td>0</td>\n",
       "    </tr>\n",
       "    <tr>\n",
       "      <th>3</th>\n",
       "      <td>*valid_weak--random;(st)</td>\n",
       "      <td>Was it though?</td>\n",
       "      <td>That they linked up? Yeah. That he was an assh...</td>\n",
       "      <td>Shit, I've probably spent a couple hundred on ...</td>\n",
       "      <td>Cuntsland</td>\n",
       "      <td>72</td>\n",
       "      <td>0</td>\n",
       "      <td>False</td>\n",
       "      <td>0.395601</td>\n",
       "      <td>0.604399</td>\n",
       "      <td>1</td>\n",
       "      <td>0</td>\n",
       "    </tr>\n",
       "  </tbody>\n",
       "</table>\n",
       "</div>"
      ],
      "text/plain": [
       "                   gen_name  \\\n",
       "2   random--valid_weak;(st)   \n",
       "0   random--valid_weak;(st)   \n",
       "1   random--valid_weak;(st)   \n",
       "2  *valid_weak--random;(st)   \n",
       "3  *valid_weak--random;(st)   \n",
       "\n",
       "                                         parent_left  \\\n",
       "2                                        White Lotus   \n",
       "0  It's baffling. With as far as they bend over b...   \n",
       "1  i was gonna say, he knocks it out of the park ...   \n",
       "2                       https://youtu.be/_BtemfoJ-WI   \n",
       "3                                     Was it though?   \n",
       "\n",
       "                                          child_left  \\\n",
       "2                                          She Heard   \n",
       "0  My girlfriends Dad is 75. If he started doing ...   \n",
       "1  when itv drugs you and ruins your life fuck th...   \n",
       "2  I looked it up, and this aired on November 18,...   \n",
       "3  That they linked up? Yeah. That he was an assh...   \n",
       "\n",
       "                                        parent_right  \\\n",
       "2  Sewing. Sewing is awesome. I learned basic sew...   \n",
       "0  If you could rename America what would it be c...   \n",
       "1  [Serious] How would you react if your partner ...   \n",
       "2  I have phimosis, a condition that causes the f...   \n",
       "3  Shit, I've probably spent a couple hundred on ...   \n",
       "\n",
       "                                         child_right  score_left  score_right  \\\n",
       "2  I started sewing to make a quilt out of a pile...           0            3   \n",
       "0  Gods Country Giant Sowglobe Dunning Kruger Cou...           0            1   \n",
       "1                                 Immediate breakup.           0            1   \n",
       "2                                         Elizabeth.          29            0   \n",
       "3                                          Cuntsland          72            0   \n",
       "\n",
       "   correct_is_right  logit_left  logit_right  preds  truth  \n",
       "2              True    0.606091     0.393909      0      1  \n",
       "0              True    0.692174     0.307826      0      1  \n",
       "1              True    0.706811     0.293189      0      1  \n",
       "2             False    0.084976     0.915024      1      0  \n",
       "3             False    0.395601     0.604399      1      0  "
      ]
     },
     "metadata": {},
     "output_type": "display_data"
    },
    {
     "data": {
      "text/plain": [
       "array([[-0.14512254,  0.1286545 ,  0.45426643, ...,  0.09707081,\n",
       "         0.37060952,  0.12619019],\n",
       "       [-0.14829193,  0.1274868 ,  0.45827737, ...,  0.09646848,\n",
       "         0.3720195 ,  0.1250274 ],\n",
       "       [-0.1545234 ,  0.1251807 ,  0.46628174, ...,  0.09529924,\n",
       "         0.37482676,  0.12282902],\n",
       "       [-0.14876702,  0.12731151,  0.45888358, ...,  0.09637862,\n",
       "         0.3722335 ,  0.12485612]], dtype=float32)"
      ]
     },
     "metadata": {},
     "output_type": "display_data"
    },
    {
     "data": {
      "text/plain": [
       "array([[-0.15066591,  0.12661038,  0.46131405, ...,  0.0960196 ,\n",
       "         0.37309045,  0.1241781 ],\n",
       "       [-0.15016834,  0.1267941 ,  0.4606765 , ...,  0.09611387,\n",
       "         0.37286597,  0.12435492],\n",
       "       [-0.14886399,  0.12727578,  0.45900738, ...,  0.09636036,\n",
       "         0.3722773 ,  0.12482131],\n",
       "       [-0.15332583,  0.12562749,  0.46473375, ...,  0.09551731,\n",
       "         0.3742865 ,  0.12324265]], dtype=float32)"
      ]
     },
     "metadata": {},
     "output_type": "display_data"
    },
    {
     "data": {
      "text/plain": [
       "array([[-0.15338573,  0.12560534,  0.4648109 , ...,  0.09550625,\n",
       "         0.3743134 ,  0.12322184],\n",
       "       [-0.14870198,  0.12733552,  0.45880046, ...,  0.0963909 ,\n",
       "         0.37220415,  0.12487946],\n",
       "       [-0.15178722,  0.1261964 ,  0.46275303, ...,  0.09580705,\n",
       "         0.3735953 ,  0.12378151],\n",
       "       [-0.1486926 ,  0.12733902,  0.45878845, ...,  0.09639264,\n",
       "         0.37219998,  0.12488288]], dtype=float32)"
      ]
     },
     "metadata": {},
     "output_type": "display_data"
    },
    {
     "data": {
      "text/plain": [
       "array([[-0.14692886,  0.12798913,  0.45654443, ...,  0.09672697,\n",
       "         0.37140855,  0.12552321],\n",
       "       [-0.15499881,  0.12500165,  0.4668973 , ...,  0.09521555,\n",
       "         0.3750429 ,  0.12266631],\n",
       "       [-0.15414749,  0.12532161,  0.46579522, ...,  0.09536663,\n",
       "         0.37465662,  0.12295831],\n",
       "       [-0.14565508,  0.12845835,  0.45493585, ...,  0.09696943,\n",
       "         0.3708437 ,  0.1259924 ]], dtype=float32)"
      ]
     },
     "metadata": {},
     "output_type": "display_data"
    },
    {
     "data": {
      "text/plain": [
       "array([[-0.15037668,  0.12671712,  0.4609433 , ...,  0.09607437,\n",
       "         0.3729601 ,  0.12428085],\n",
       "       [-0.14866899,  0.12734765,  0.45875835, ...,  0.09639704,\n",
       "         0.37218937,  0.12489137],\n",
       "       [-0.14730147,  0.12785183,  0.45701706, ...,  0.09665623,\n",
       "         0.371575  ,  0.12538697],\n",
       "       [-0.15445288,  0.12520722,  0.46619022, ...,  0.09531176,\n",
       "         0.3747948 ,  0.12285325]], dtype=float32)"
      ]
     },
     "metadata": {},
     "output_type": "display_data"
    },
    {
     "data": {
      "text/plain": [
       "array([[-0.1464946 ,  0.12814909,  0.4559949 , ...,  0.0968096 ,\n",
       "         0.37121534,  0.12568246],\n",
       "       [-0.14342034,  0.12928392,  0.4521368 , ...,  0.09739291,\n",
       "         0.36986944,  0.12682748],\n",
       "       [-0.15593646,  0.1246461 ,  0.46811324, ...,  0.09505542,\n",
       "         0.3754719 ,  0.1223475 ],\n",
       "       [-0.14808759,  0.1275621 ,  0.45801678, ...,  0.09650704,\n",
       "         0.37192756,  0.12510137]], dtype=float32)"
      ]
     },
     "metadata": {},
     "output_type": "display_data"
    },
    {
     "data": {
      "text/plain": [
       "array([[-0.1515194 ,  0.12629533,  0.46240896, ...,  0.09585787,\n",
       "         0.3734748 ,  0.12387601],\n",
       "       [-0.15496354,  0.12501499,  0.46685165, ...,  0.09522177,\n",
       "         0.3750268 ,  0.12267844],\n",
       "       [-0.15281914,  0.12581526,  0.46408036, ...,  0.0956121 ,\n",
       "         0.37405887,  0.12341929],\n",
       "       [-0.15137997,  0.12634684,  0.46223003, ...,  0.09588432,\n",
       "         0.3734121 ,  0.12392525]], dtype=float32)"
      ]
     },
     "metadata": {},
     "output_type": "display_data"
    },
    {
     "data": {
      "text/plain": [
       "array([[-0.15016834,  0.1267941 ,  0.4606765 , ...,  0.09611387,\n",
       "         0.37286597,  0.12435492],\n",
       "       [-0.14402017,  0.1290617 ,  0.45288578, ...,  0.09727987,\n",
       "         0.37012893,  0.12660204],\n",
       "       [-0.14810985,  0.12755392,  0.4580453 , ...,  0.09650288,\n",
       "         0.37193757,  0.12509333],\n",
       "       [-0.14732057,  0.12784484,  0.4570413 , ...,  0.09665255,\n",
       "         0.37158343,  0.12538005]], dtype=float32)"
      ]
     },
     "metadata": {},
     "output_type": "display_data"
    },
    {
     "data": {
      "text/plain": [
       "array([[-0.15343213,  0.1255881 ,  0.46487087, ...,  0.09549767,\n",
       "         0.37433425,  0.12320575],\n",
       "       [-0.1514341 ,  0.12632681,  0.46229944, ...,  0.09587404,\n",
       "         0.37343645,  0.12390612],\n",
       "       [-0.15128866,  0.12638049,  0.46211287, ...,  0.09590162,\n",
       "         0.37337103,  0.12395748],\n",
       "       [-0.15775022,  0.12395966,  0.4704719 , ...,  0.09475022,\n",
       "         0.37630534,  0.12173787]], dtype=float32)"
      ]
     },
     "metadata": {},
     "output_type": "display_data"
    },
    {
     "data": {
      "text/plain": [
       "array([[-0.14866216,  0.12735024,  0.45874962, ...,  0.09639839,\n",
       "         0.37218627,  0.12489384],\n",
       "       [-0.14981005,  0.12692638,  0.46021754, ...,  0.09618156,\n",
       "         0.3727043 ,  0.12448258],\n",
       "       [-0.15095091,  0.12650517,  0.46167958, ...,  0.09596562,\n",
       "         0.3732189 ,  0.12407701],\n",
       "       [-0.15042284,  0.12670013,  0.46100256, ...,  0.09606571,\n",
       "         0.37298083,  0.1242644 ]], dtype=float32)"
      ]
     },
     "metadata": {},
     "output_type": "display_data"
    }
   ],
   "source": [
    "full_run(num_epochs=60, version=5, force_restart=False)"
   ]
  },
  {
   "cell_type": "code",
   "execution_count": null,
   "id": "8293ecae-f1f4-4787-af79-cf8270e7d7a4",
   "metadata": {},
   "outputs": [],
   "source": [
    "full_run(num_epochs=60, version=-3, force_restart=False)"
   ]
  },
  {
   "cell_type": "code",
   "execution_count": null,
   "id": "b973aae0-24c0-4866-aded-d815291112d6",
   "metadata": {
    "tags": []
   },
   "outputs": [],
   "source": [
    "full_run(num_epochs=90, version=-1, force_restart=False)"
   ]
  },
  {
   "cell_type": "code",
   "execution_count": null,
   "id": "b8129b19-aec9-474f-ab8c-9805c2989ea1",
   "metadata": {},
   "outputs": [],
   "source": [
    "full_run(num_epochs=90, version=7, force_restart=False)"
   ]
  },
  {
   "cell_type": "code",
   "execution_count": null,
   "id": "e1303bc8-be04-4280-a6b9-d96f0dcccb93",
   "metadata": {},
   "outputs": [],
   "source": [
    "full_run(num_epochs=90, version=0, force_restart=False)"
   ]
  },
  {
   "cell_type": "code",
   "execution_count": null,
   "id": "70f99d8a-422f-42e5-b950-8ce08f3eacb1",
   "metadata": {},
   "outputs": [],
   "source": [
    "full_run(num_epochs=90, version=5, force_restart=False)"
   ]
  },
  {
   "cell_type": "code",
   "execution_count": null,
   "id": "6251e15a-e189-4bb5-a22e-3ec2112db38c",
   "metadata": {},
   "outputs": [],
   "source": [
    "full_run(num_epochs=90, version=-3, force_restart=False)"
   ]
  },
  {
   "cell_type": "code",
   "execution_count": null,
   "id": "a296d879-ace0-4c46-a0a5-e0e161a8742e",
   "metadata": {},
   "outputs": [],
   "source": [
    "full_run(num_epochs=120, version=-1, force_restart=False)"
   ]
  },
  {
   "cell_type": "code",
   "execution_count": null,
   "id": "a15e9ab6-0327-4e6c-b308-0b2b9673b73e",
   "metadata": {},
   "outputs": [],
   "source": [
    "full_run(num_epochs=120, version=7, force_restart=False)"
   ]
  },
  {
   "cell_type": "code",
   "execution_count": null,
   "id": "01e79c85-14f8-4302-8cf6-21be9e19562c",
   "metadata": {},
   "outputs": [],
   "source": [
    "full_run(num_epochs=120, version=0, force_restart=False)"
   ]
  },
  {
   "cell_type": "code",
   "execution_count": null,
   "id": "fde8d78f-327b-43d6-abaa-96b3784c871c",
   "metadata": {},
   "outputs": [],
   "source": [
    "full_run(num_epochs=120, version=5, force_restart=False)"
   ]
  },
  {
   "cell_type": "code",
   "execution_count": null,
   "id": "38f1fc11-2b71-4453-a6fa-3a73de48f9f6",
   "metadata": {},
   "outputs": [],
   "source": [
    "full_run(num_epochs=120, version=-3, force_restart=False)"
   ]
  },
  {
   "cell_type": "code",
   "execution_count": null,
   "id": "8f0c3587-91e5-4112-86a7-488deeae06e7",
   "metadata": {},
   "outputs": [],
   "source": []
  }
 ],
 "metadata": {
  "kernelspec": {
   "display_name": "Python [conda env:clotho]",
   "language": "python",
   "name": "conda-env-clotho-py"
  },
  "language_info": {
   "codemirror_mode": {
    "name": "ipython",
    "version": 3
   },
   "file_extension": ".py",
   "mimetype": "text/x-python",
   "name": "python",
   "nbconvert_exporter": "python",
   "pygments_lexer": "ipython3",
   "version": "3.10.6"
  }
 },
 "nbformat": 4,
 "nbformat_minor": 5
}

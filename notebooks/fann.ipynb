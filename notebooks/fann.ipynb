{
 "cells": [
  {
   "cell_type": "code",
   "execution_count": 1,
   "id": "fa96be59-c658-4974-816f-a20e6fcedc98",
   "metadata": {},
   "outputs": [],
   "source": [
    "import os\n",
    "import sys\n",
    "import json\n",
    "import pandas as pd\n",
    "import numpy as np\n",
    "import torch\n",
    "from typing import Literal, TypedDict, Callable, TypeVar, Generic, Iterable"
   ]
  },
  {
   "cell_type": "code",
   "execution_count": 2,
   "id": "aa1b474f-d259-408b-afb5-52bf87d680c1",
   "metadata": {},
   "outputs": [],
   "source": [
    "sys.path.append(\"..\")\n",
    "os.environ[\"USER_PATH\"] = \"../userdata/\""
   ]
  },
  {
   "cell_type": "code",
   "execution_count": 3,
   "id": "f98dddea-5b72-47c4-a8e9-ec264598eb36",
   "metadata": {},
   "outputs": [],
   "source": [
    "from system.namespace.store import get_namespace"
   ]
  },
  {
   "cell_type": "code",
   "execution_count": 4,
   "id": "6fce0aa5-0e31-4ec2-a0bb-f72e04dc6cf1",
   "metadata": {},
   "outputs": [],
   "source": [
    "namespace = get_namespace(\"train_db\")"
   ]
  },
  {
   "cell_type": "code",
   "execution_count": 5,
   "id": "e9d09485-4f8a-48ff-9ab8-4e3515262e0c",
   "metadata": {},
   "outputs": [],
   "source": [
    "from system.embedding.store import get_embed_store\n",
    "from misc.lru import LRU"
   ]
  },
  {
   "cell_type": "code",
   "execution_count": 6,
   "id": "bbc8ee08-44d1-470c-9206-385340a09f54",
   "metadata": {},
   "outputs": [],
   "source": [
    "embeds = get_embed_store(namespace)"
   ]
  },
  {
   "cell_type": "code",
   "execution_count": 7,
   "id": "9ca1ad16-eb6e-463a-802d-7b29a385cd79",
   "metadata": {},
   "outputs": [],
   "source": [
    "role_c = \"child\"\n",
    "role_p = \"parent\""
   ]
  },
  {
   "cell_type": "code",
   "execution_count": 8,
   "id": "b504219b-2b31-4fc5-9c20-48ad3fe19001",
   "metadata": {},
   "outputs": [
    {
     "data": {
      "text/plain": [
       "689418"
      ]
     },
     "execution_count": 8,
     "metadata": {},
     "output_type": "execute_result"
    }
   ],
   "source": [
    "total_c = embeds.get_embedding_count(role_c)\n",
    "total_c"
   ]
  },
  {
   "cell_type": "code",
   "execution_count": 9,
   "id": "fe03ab7e-57d7-401e-adee-3b555358e86f",
   "metadata": {},
   "outputs": [
    {
     "data": {
      "application/vnd.jupyter.widget-view+json": {
       "model_id": "9ad574d57ca344f08a98ac98867436b7",
       "version_major": 2,
       "version_minor": 0
      },
      "text/plain": [
       "  0%|          | 0/689418 [00:00<?, ?it/s]"
      ]
     },
     "metadata": {},
     "output_type": "display_data"
    }
   ],
   "source": [
    "x = np.vstack([\n",
    "    embed[1].ravel().detach().numpy()\n",
    "    for embed in embeds.get_all_embeddings(role_c, progress_bar=True)\n",
    "])\n",
    "# x = x[:100000, :]"
   ]
  },
  {
   "cell_type": "code",
   "execution_count": 10,
   "id": "d7718486-5e93-4656-96b5-13f8ba88cc50",
   "metadata": {},
   "outputs": [
    {
     "data": {
      "text/plain": [
       "(689418, 768)"
      ]
     },
     "execution_count": 10,
     "metadata": {},
     "output_type": "execute_result"
    }
   ],
   "source": [
    "x.shape"
   ]
  },
  {
   "cell_type": "code",
   "execution_count": 11,
   "id": "6aaf142b-ec31-4f8c-9057-352d93ef7e22",
   "metadata": {},
   "outputs": [
    {
     "data": {
      "text/plain": [
       "(768,)"
      ]
     },
     "execution_count": 11,
     "metadata": {},
     "output_type": "execute_result"
    }
   ],
   "source": [
    "x[5, :].shape"
   ]
  },
  {
   "cell_type": "code",
   "execution_count": 12,
   "id": "1e72fa8d-db40-4b9e-92d6-fa273550d786",
   "metadata": {},
   "outputs": [],
   "source": [
    "T = TypeVar('T')\n",
    "\n",
    "\n",
    "class Node(Generic[T]):\n",
    "    def __init__(self, dbs: 'Fann[T]', embed_ix: int) -> None:\n",
    "        self._dbs = dbs\n",
    "        self._embed_ix = embed_ix\n",
    "        self._radius: float = 0.0\n",
    "        self._count: int = 1\n",
    "        self._children: list[tuple[Node, float]] = []\n",
    "        \n",
    "    def get_ix(self) -> int:\n",
    "        return self._embed_ix\n",
    "        \n",
    "    def get_embed(self) -> T:\n",
    "        return self._dbs.get_embed(self._embed_ix)\n",
    "    \n",
    "    def count_descendants(self) -> int:\n",
    "        return self._count\n",
    "    \n",
    "    def count_children(self) -> int:\n",
    "        return len(self._children)\n",
    "    \n",
    "    def get_dist(self, embed: T, eix: int | None, cache: dict[int, float]) -> float:\n",
    "        return self._dbs.dist_embed(embed, eix, self._embed_ix, cache)\n",
    "    \n",
    "    def get_radius(self) -> float:\n",
    "        return self._radius\n",
    "    \n",
    "    def get_dist_max(self, embed: T, eix: int | None, cache: dict[int, float]) -> float:\n",
    "        return self.get_dist(embed, eix, cache) + self._radius\n",
    "    \n",
    "    def get_dist_min(self, embed: T, eix: int | None, cache: dict[int, float]) -> float:\n",
    "        return max(0, self.get_dist(embed, eix, cache) - self._radius)\n",
    "    \n",
    "    def get_true_dist_max(self, embed: T, eix: int | None, cache: dict[int, float]) -> float:\n",
    "        init = self.get_dist(embed, eix, cache)\n",
    "        cur = init\n",
    "        for child, _ in self._children:\n",
    "            cur = max(cur, child.get_true_dist_max(embed, eix, cache))\n",
    "        if cur - init > self._radius:\n",
    "            self._radius = cur - init\n",
    "        return cur\n",
    "        \n",
    "    def add_child(self, child: 'Node[T]') -> None:\n",
    "        embed = self.get_embed()\n",
    "        eix = self.get_ix()\n",
    "        cache = {}\n",
    "        c_dist_max = child.get_true_dist_max(embed, eix, cache)\n",
    "        # c_dist_max = child.get_dist_max(embed, eix, cache)\n",
    "        # if len(cache) > 1:\n",
    "        #     print(f\"comparisons while adding: {len(cache)}\")\n",
    "        if c_dist_max > self._radius:\n",
    "            self._radius = c_dist_max\n",
    "        self._children.append((child, c_dist_max))\n",
    "        self._children.sort(key=lambda c: c[1], reverse=True)\n",
    "        self._count += child.count_descendants()\n",
    "    \n",
    "    def get_all_descendants(self) -> list['Node[T]']:\n",
    "        res = [self]\n",
    "        for child, _ in self._children:\n",
    "            res += child.get_all_descendants()\n",
    "        return res\n",
    "    \n",
    "    def get_closest(\n",
    "            self,\n",
    "            res: list[tuple['Node[T]', float]],\n",
    "            embed: T,\n",
    "            count: int,\n",
    "            cache: dict[int, float],\n",
    "            stats: dict[int, str],\n",
    "            eps: float) -> None:\n",
    "        own_ix = self.get_ix()\n",
    "        eix = None\n",
    "        own_dist = self.get_dist(embed, eix, cache)\n",
    "        radius = self.get_radius()\n",
    "        \n",
    "        def get_max() -> float:\n",
    "            if len(res) < count:\n",
    "                return res[-1][1]\n",
    "            return res[count - 1][1]\n",
    "        \n",
    "        def compact() -> None:\n",
    "            prev_max = get_max()\n",
    "            res.sort(key=lambda row: row[1])\n",
    "            if len(res) > count and get_max() == prev_max:\n",
    "                del res[count:]\n",
    "        \n",
    "        if len(res) < count or own_dist - eps <= get_max():\n",
    "            res.append((self, own_dist))\n",
    "            compact()\n",
    "        if radius < own_dist:\n",
    "            stats[own_ix] = \"outer\"\n",
    "            for child, c_dist_center in self._children:\n",
    "                if get_max() < own_dist - c_dist_center - eps:\n",
    "                    continue\n",
    "                child.get_closest(\n",
    "                    res,\n",
    "                    embed,\n",
    "                    count,\n",
    "                    cache,\n",
    "                    stats,\n",
    "                    eps)\n",
    "        else:\n",
    "            stats[own_ix] = \"inner\"\n",
    "            children = sorted((\n",
    "                (\n",
    "                    child,\n",
    "                    child.get_dist_min(embed, eix, cache),\n",
    "                )\n",
    "                for child, _ in self._children\n",
    "            ), key=lambda row: row[1])\n",
    "            for row in children:\n",
    "                child, cmin = row\n",
    "                if cmin - eps > get_max():\n",
    "                    continue\n",
    "                child.get_closest(\n",
    "                    res,\n",
    "                    embed,\n",
    "                    count,\n",
    "                    cache,\n",
    "                    stats,\n",
    "                    eps)\n",
    "    \n",
    "    def debug(\n",
    "            self,\n",
    "            pad: int,\n",
    "            show_ixs: dict[int, bool],\n",
    "            stats: dict[int, str],\n",
    "            prune: bool) -> list[str]:\n",
    "        highlight_chr = \":\"\n",
    "        highlight_schr = \"*\"\n",
    "        lookup = {\n",
    "            True: highlight_schr,\n",
    "            False: highlight_chr,\n",
    "            None: \"\",\n",
    "        }\n",
    "        highlight = lookup[show_ixs.get(self._embed_ix, None)]\n",
    "        num = f\"{self._embed_ix}\".rjust(pad - len(highlight))\n",
    "        own = f\"({highlight}{num})\"\n",
    "        if not self._children:\n",
    "            return [own]\n",
    "        if self.count_descendants() == len(self._children) + 1:\n",
    "            chs = \", \".join((\n",
    "                f\"{lookup[show_ixs.get(child.get_ix(), None)]}{child.get_ix()}\"\n",
    "                for child, _ in self._children\n",
    "            ))\n",
    "            if prune and highlight_chr not in chs and highlight_schr not in chs:\n",
    "                chs = \"...\"\n",
    "            return [f\"{own}━({chs})\"]\n",
    "        outs = [\n",
    "            (child.get_ix(), child.debug(pad, show_ixs, stats, prune))\n",
    "            for child, _ in self._children\n",
    "        ]\n",
    "        bar = \" \" * len(own)\n",
    "        res = []\n",
    "        for cix, (child_ix, lines) in enumerate(outs):\n",
    "            all_lines = \"\".join(lines)\n",
    "            if prune and highlight_chr not in all_lines and highlight_schr not in all_lines:\n",
    "                lines = [\"(...)\"]\n",
    "            for lix, line in enumerate(lines):\n",
    "                if lix == 0 and cix == 0:\n",
    "                    start = own\n",
    "                else:\n",
    "                    start = bar\n",
    "                if lix == 0:\n",
    "                    if cix == 0:\n",
    "                        if len(outs) > 1:\n",
    "                            mid = \"┳\"\n",
    "                        else:\n",
    "                            mid = \"━\"\n",
    "                    else:\n",
    "                        if cix >= len(outs) - 1:\n",
    "                            mid = \"┗\"\n",
    "                        else:\n",
    "                            mid = \"┣\"\n",
    "                    mid = stats.get(child_ix, mid)\n",
    "                    if len(mid) > 1 or mid[0].isalnum():\n",
    "                        mid = mid.upper()[:1]\n",
    "                else:\n",
    "                    if cix >= len(outs) - 1:\n",
    "                        mid = \" \"\n",
    "                    else:\n",
    "                        mid = \"┃\"\n",
    "                res.append(f\"{start}{mid}{line}\")\n",
    "        return res\n",
    "\n",
    "\n",
    "class Fann(Generic[T]):\n",
    "    def __init__(\n",
    "            self,\n",
    "            get_all_ix: Callable[[], Iterable[int]],\n",
    "            get_embed: Callable[[int], T],\n",
    "            get_dist: Callable[[T, T], float]) -> None:\n",
    "        self._get_all_ix = get_all_ix\n",
    "        self._get_embed = get_embed\n",
    "        self._get_dist = get_dist\n",
    "        self._lru: LRU[int, T] = LRU(1000)\n",
    "        self._dlru: LRU[tuple[int, int], float] = LRU(100000)\n",
    "        self._root: Node | None = None\n",
    "        self._high_ix: int | None = None\n",
    "        \n",
    "    def get_embed(self, ix: int) -> T:\n",
    "        res = self._lru.get(ix)\n",
    "        if res is None:\n",
    "            res = self._get_embed(ix)\n",
    "            self._lru.set(ix, res)\n",
    "        return res\n",
    "    \n",
    "    def dist_embed(self, embed: T, eix: int | None, ix: int, cache: dict[int, float]) -> float:\n",
    "        key = None if eix is None else (min(eix, ix), max(eix, ix))\n",
    "        if key is not None:\n",
    "            res = self._dlru.get(key)\n",
    "            if res is not None:\n",
    "                cache[ix] = res\n",
    "                return res\n",
    "        res = cache.get(ix)\n",
    "        if res is not None:\n",
    "            if key is not None:\n",
    "                self._dlru.set(key, res)\n",
    "            return res\n",
    "        res = self._get_dist(embed, self.get_embed(ix))\n",
    "        assert res >= 0.0\n",
    "        cache[ix] = res\n",
    "        if key is not None:\n",
    "            self._dlru.set(key, res)\n",
    "        return res\n",
    "    \n",
    "    def _centroid(self, all_ixs: list[int]) -> int:\n",
    "        best_dist = 0.0\n",
    "        best_ix = None\n",
    "        for ix in all_ixs:\n",
    "            cur_dist = 0.0\n",
    "            embed = self.get_embed(ix)\n",
    "            for oix in all_ixs:\n",
    "                if ix == oix:\n",
    "                    continue\n",
    "                cache = {}  # no cache\n",
    "                cur_dist += self.dist_embed(embed, ix, oix, cache)\n",
    "                if best_ix is not None and cur_dist > best_dist:\n",
    "                    break\n",
    "            if best_ix is None or cur_dist < best_dist:\n",
    "                best_ix = ix\n",
    "                best_dist = cur_dist\n",
    "        assert best_ix is not None\n",
    "        return best_ix\n",
    "    \n",
    "    def _kmedoid(self, all_ixs: list[int], k_num: int) -> list[tuple[int, list[int]]]:\n",
    "        assert len(all_ixs) > k_num\n",
    "        centroids = all_ixs[:k_num]\n",
    "        rounds = 1000\n",
    "        while rounds > 0:\n",
    "            assignments = [[cix] for cix in centroids]\n",
    "            for ix in all_ixs:\n",
    "                if ix in centroids:\n",
    "                    continue\n",
    "                best_dist = 0.0\n",
    "                best_cluster_ix = None\n",
    "                embed = self.get_embed(ix)\n",
    "                for cluster_ix, cix in enumerate(centroids):\n",
    "                    cache = {}  # no cache\n",
    "                    cur_dist = self.dist_embed(embed, ix, cix, cache)\n",
    "                    if best_cluster_ix is None or cur_dist < best_dist:\n",
    "                        best_cluster_ix = cluster_ix\n",
    "                        best_dist = cur_dist\n",
    "                assert best_cluster_ix is not None\n",
    "                assignments[best_cluster_ix].append(ix)\n",
    "            done = True\n",
    "            for cluster_ix in range(len(centroids)):\n",
    "                new_c = self._centroid(assignments[cluster_ix])\n",
    "                if new_c != centroids[cluster_ix]:\n",
    "                    centroids[cluster_ix] = new_c\n",
    "                    done = False\n",
    "            if done:\n",
    "                break\n",
    "            rounds -= 1\n",
    "        if rounds <= 0:\n",
    "            print(\"exhausted iteration steps\")\n",
    "        return list(zip(centroids, assignments))\n",
    "    \n",
    "    def _remove(self, all_ixs: list[int], remove_ix: int) -> list[int]:\n",
    "        return [ix for ix in all_ixs if ix != remove_ix]\n",
    "    \n",
    "    def build(self, max_node_size: int) -> None:\n",
    "        all_ixs = [ix for ix in self._get_all_ix()]\n",
    "        self._high_ix = max(all_ixs)\n",
    "        root_ix = self._centroid(all_ixs)\n",
    "        all_ixs = self._remove(all_ixs, root_ix)\n",
    "        \n",
    "        def build_level(cur_root_ix: int, cur_all_ixs: list[int]) -> Node[T]:\n",
    "            node = Node(self, cur_root_ix)\n",
    "            num_k = max_node_size\n",
    "            if max_node_size * max_node_size > len(cur_all_ixs):\n",
    "                num_k = max(1, int(np.sqrt(len(cur_all_ixs))))\n",
    "            if num_k == 1 or len(cur_all_ixs) <= num_k:\n",
    "                for child_ix in cur_all_ixs:\n",
    "                    node.add_child(Node(self, child_ix))\n",
    "                return node\n",
    "            children = self._kmedoid(cur_all_ixs, num_k)\n",
    "            for row in children:\n",
    "                centroid_ix, assignments = row\n",
    "                assignments = self._remove(assignments, centroid_ix)\n",
    "                cnode = build_level(centroid_ix, assignments)\n",
    "                node.add_child(cnode)\n",
    "            return node\n",
    "        \n",
    "        self._root = build_level(root_ix, all_ixs)\n",
    "    \n",
    "    def get_closest(\n",
    "            self,\n",
    "            embed: T,\n",
    "            count: int,\n",
    "            cache: dict[int, float] | None = None,\n",
    "            stats: dict[int, str] | None = None,\n",
    "            eps: float = 0.0) -> list[tuple[int, float]]:\n",
    "        assert self._root is not None\n",
    "        if cache is None:\n",
    "            cache = {}\n",
    "        if stats is None:\n",
    "            stats = {}\n",
    "        res = []\n",
    "        self._root.get_closest(\n",
    "            res,\n",
    "            embed,\n",
    "            count,\n",
    "            cache,\n",
    "            stats,\n",
    "            eps)\n",
    "        if len(res) > count:\n",
    "            del res[count:]\n",
    "        return [\n",
    "            (row[0].get_ix(), row[1])\n",
    "            for row in res\n",
    "        ]\n",
    "    \n",
    "    def debug(\n",
    "            self,\n",
    "            *,\n",
    "            show_ixs: set[int] | None = None,\n",
    "            special_ixs: set[int] | None = None,\n",
    "            stats: dict[int, str] | None = None,\n",
    "            prune: bool = False) -> str:\n",
    "        high_ix = self._high_ix\n",
    "        if show_ixs is not None:\n",
    "            high_ix = max(max(show_ixs) * 10, high_ix or 0)\n",
    "        if high_ix is None:\n",
    "            pad = 0\n",
    "        else:\n",
    "            pad = len(f\"{high_ix}\")\n",
    "        highlight_ixs = {}\n",
    "        if show_ixs is not None:\n",
    "            for ix in show_ixs:\n",
    "                highlight_ixs[ix] = False\n",
    "        if special_ixs is not None:\n",
    "            for ix in special_ixs:\n",
    "                highlight_ixs[ix] = True\n",
    "        if stats is None:\n",
    "            stats = {}\n",
    "        return \"\\n\".join(self._root.debug(pad, highlight_ixs, stats, prune))"
   ]
  },
  {
   "cell_type": "code",
   "execution_count": 13,
   "id": "e4f595dd-6d32-4da2-8dae-d3e17f5134f4",
   "metadata": {},
   "outputs": [],
   "source": [
    "test_size = 500000"
   ]
  },
  {
   "cell_type": "code",
   "execution_count": 14,
   "id": "34c3f82f-7b9c-4bbc-b513-4fbe841b6797",
   "metadata": {},
   "outputs": [
    {
     "data": {
      "text/plain": [
       "<__main__.Fann at 0x13fcf4ca0>"
      ]
     },
     "execution_count": 14,
     "metadata": {},
     "output_type": "execute_result"
    }
   ],
   "source": [
    "# dbs = Fann(lambda: range(0, x.shape[0]), lambda ix: x[ix, :], lambda a, b: np.log1p(np.exp(-np.dot(a, b))))\n",
    "dbs = Fann(lambda: range(0, test_size), lambda ix: x[ix, :], lambda a, b: np.exp(-np.dot(a, b)))\n",
    "dbs"
   ]
  },
  {
   "cell_type": "code",
   "execution_count": 15,
   "id": "6c52f612-cb2a-4922-b6b7-c5a8a1bb6f9a",
   "metadata": {},
   "outputs": [
    {
     "name": "stdout",
     "output_type": "stream",
     "text": [
      "exhausted iteration steps\n"
     ]
    },
    {
     "ename": "KeyboardInterrupt",
     "evalue": "",
     "output_type": "error",
     "traceback": [
      "\u001b[0;31m---------------------------------------------------------------------------\u001b[0m",
      "\u001b[0;31mKeyboardInterrupt\u001b[0m                         Traceback (most recent call last)",
      "File \u001b[0;32m<timed eval>:1\u001b[0m\n",
      "Cell \u001b[0;32mIn[12], line 307\u001b[0m, in \u001b[0;36mFann.build\u001b[0;34m(self, max_node_size)\u001b[0m\n\u001b[1;32m    304\u001b[0m         node\u001b[38;5;241m.\u001b[39madd_child(cnode)\n\u001b[1;32m    305\u001b[0m     \u001b[38;5;28;01mreturn\u001b[39;00m node\n\u001b[0;32m--> 307\u001b[0m \u001b[38;5;28mself\u001b[39m\u001b[38;5;241m.\u001b[39m_root \u001b[38;5;241m=\u001b[39m \u001b[43mbuild_level\u001b[49m\u001b[43m(\u001b[49m\u001b[43mroot_ix\u001b[49m\u001b[43m,\u001b[49m\u001b[43m \u001b[49m\u001b[43mall_ixs\u001b[49m\u001b[43m)\u001b[49m\n",
      "Cell \u001b[0;32mIn[12], line 303\u001b[0m, in \u001b[0;36mFann.build.<locals>.build_level\u001b[0;34m(cur_root_ix, cur_all_ixs)\u001b[0m\n\u001b[1;32m    301\u001b[0m     centroid_ix, assignments \u001b[38;5;241m=\u001b[39m row\n\u001b[1;32m    302\u001b[0m     assignments \u001b[38;5;241m=\u001b[39m \u001b[38;5;28mself\u001b[39m\u001b[38;5;241m.\u001b[39m_remove(assignments, centroid_ix)\n\u001b[0;32m--> 303\u001b[0m     cnode \u001b[38;5;241m=\u001b[39m \u001b[43mbuild_level\u001b[49m\u001b[43m(\u001b[49m\u001b[43mcentroid_ix\u001b[49m\u001b[43m,\u001b[49m\u001b[43m \u001b[49m\u001b[43massignments\u001b[49m\u001b[43m)\u001b[49m\n\u001b[1;32m    304\u001b[0m     node\u001b[38;5;241m.\u001b[39madd_child(cnode)\n\u001b[1;32m    305\u001b[0m \u001b[38;5;28;01mreturn\u001b[39;00m node\n",
      "Cell \u001b[0;32mIn[12], line 303\u001b[0m, in \u001b[0;36mFann.build.<locals>.build_level\u001b[0;34m(cur_root_ix, cur_all_ixs)\u001b[0m\n\u001b[1;32m    301\u001b[0m     centroid_ix, assignments \u001b[38;5;241m=\u001b[39m row\n\u001b[1;32m    302\u001b[0m     assignments \u001b[38;5;241m=\u001b[39m \u001b[38;5;28mself\u001b[39m\u001b[38;5;241m.\u001b[39m_remove(assignments, centroid_ix)\n\u001b[0;32m--> 303\u001b[0m     cnode \u001b[38;5;241m=\u001b[39m \u001b[43mbuild_level\u001b[49m\u001b[43m(\u001b[49m\u001b[43mcentroid_ix\u001b[49m\u001b[43m,\u001b[49m\u001b[43m \u001b[49m\u001b[43massignments\u001b[49m\u001b[43m)\u001b[49m\n\u001b[1;32m    304\u001b[0m     node\u001b[38;5;241m.\u001b[39madd_child(cnode)\n\u001b[1;32m    305\u001b[0m \u001b[38;5;28;01mreturn\u001b[39;00m node\n",
      "    \u001b[0;31m[... skipping similar frames: Fann.build.<locals>.build_level at line 303 (3 times)]\u001b[0m\n",
      "Cell \u001b[0;32mIn[12], line 303\u001b[0m, in \u001b[0;36mFann.build.<locals>.build_level\u001b[0;34m(cur_root_ix, cur_all_ixs)\u001b[0m\n\u001b[1;32m    301\u001b[0m     centroid_ix, assignments \u001b[38;5;241m=\u001b[39m row\n\u001b[1;32m    302\u001b[0m     assignments \u001b[38;5;241m=\u001b[39m \u001b[38;5;28mself\u001b[39m\u001b[38;5;241m.\u001b[39m_remove(assignments, centroid_ix)\n\u001b[0;32m--> 303\u001b[0m     cnode \u001b[38;5;241m=\u001b[39m \u001b[43mbuild_level\u001b[49m\u001b[43m(\u001b[49m\u001b[43mcentroid_ix\u001b[49m\u001b[43m,\u001b[49m\u001b[43m \u001b[49m\u001b[43massignments\u001b[49m\u001b[43m)\u001b[49m\n\u001b[1;32m    304\u001b[0m     node\u001b[38;5;241m.\u001b[39madd_child(cnode)\n\u001b[1;32m    305\u001b[0m \u001b[38;5;28;01mreturn\u001b[39;00m node\n",
      "Cell \u001b[0;32mIn[12], line 299\u001b[0m, in \u001b[0;36mFann.build.<locals>.build_level\u001b[0;34m(cur_root_ix, cur_all_ixs)\u001b[0m\n\u001b[1;32m    297\u001b[0m         node\u001b[38;5;241m.\u001b[39madd_child(Node(\u001b[38;5;28mself\u001b[39m, child_ix))\n\u001b[1;32m    298\u001b[0m     \u001b[38;5;28;01mreturn\u001b[39;00m node\n\u001b[0;32m--> 299\u001b[0m children \u001b[38;5;241m=\u001b[39m \u001b[38;5;28;43mself\u001b[39;49m\u001b[38;5;241;43m.\u001b[39;49m\u001b[43m_kmedoid\u001b[49m\u001b[43m(\u001b[49m\u001b[43mcur_all_ixs\u001b[49m\u001b[43m,\u001b[49m\u001b[43m \u001b[49m\u001b[43mnum_k\u001b[49m\u001b[43m)\u001b[49m\n\u001b[1;32m    300\u001b[0m \u001b[38;5;28;01mfor\u001b[39;00m row \u001b[38;5;129;01min\u001b[39;00m children:\n\u001b[1;32m    301\u001b[0m     centroid_ix, assignments \u001b[38;5;241m=\u001b[39m row\n",
      "Cell \u001b[0;32mIn[12], line 262\u001b[0m, in \u001b[0;36mFann._kmedoid\u001b[0;34m(self, all_ixs, k_num)\u001b[0m\n\u001b[1;32m    260\u001b[0m \u001b[38;5;28;01mfor\u001b[39;00m cluster_ix, cix \u001b[38;5;129;01min\u001b[39;00m \u001b[38;5;28menumerate\u001b[39m(centroids):\n\u001b[1;32m    261\u001b[0m     cache \u001b[38;5;241m=\u001b[39m {}  \u001b[38;5;66;03m# no cache\u001b[39;00m\n\u001b[0;32m--> 262\u001b[0m     cur_dist \u001b[38;5;241m=\u001b[39m \u001b[38;5;28;43mself\u001b[39;49m\u001b[38;5;241;43m.\u001b[39;49m\u001b[43mdist_embed\u001b[49m\u001b[43m(\u001b[49m\u001b[43membed\u001b[49m\u001b[43m,\u001b[49m\u001b[43m \u001b[49m\u001b[43mix\u001b[49m\u001b[43m,\u001b[49m\u001b[43m \u001b[49m\u001b[43mcix\u001b[49m\u001b[43m,\u001b[49m\u001b[43m \u001b[49m\u001b[43mcache\u001b[49m\u001b[43m)\u001b[49m\n\u001b[1;32m    263\u001b[0m     \u001b[38;5;28;01mif\u001b[39;00m best_cluster_ix \u001b[38;5;129;01mis\u001b[39;00m \u001b[38;5;28;01mNone\u001b[39;00m \u001b[38;5;129;01mor\u001b[39;00m cur_dist \u001b[38;5;241m<\u001b[39m best_dist:\n\u001b[1;32m    264\u001b[0m         best_cluster_ix \u001b[38;5;241m=\u001b[39m cluster_ix\n",
      "Cell \u001b[0;32mIn[12], line 226\u001b[0m, in \u001b[0;36mFann.dist_embed\u001b[0;34m(self, embed, eix, ix, cache)\u001b[0m\n\u001b[1;32m    224\u001b[0m cache[ix] \u001b[38;5;241m=\u001b[39m res\n\u001b[1;32m    225\u001b[0m \u001b[38;5;28;01mif\u001b[39;00m key \u001b[38;5;129;01mis\u001b[39;00m \u001b[38;5;129;01mnot\u001b[39;00m \u001b[38;5;28;01mNone\u001b[39;00m:\n\u001b[0;32m--> 226\u001b[0m     \u001b[38;5;28;43mself\u001b[39;49m\u001b[38;5;241;43m.\u001b[39;49m\u001b[43m_dlru\u001b[49m\u001b[38;5;241;43m.\u001b[39;49m\u001b[43mset\u001b[49m\u001b[43m(\u001b[49m\u001b[43mkey\u001b[49m\u001b[43m,\u001b[49m\u001b[43m \u001b[49m\u001b[43mres\u001b[49m\u001b[43m)\u001b[49m\n\u001b[1;32m    227\u001b[0m \u001b[38;5;28;01mreturn\u001b[39;00m res\n",
      "File \u001b[0;32m~/workspace/clotho/notebooks/../misc/lru.py:34\u001b[0m, in \u001b[0;36mLRU.set\u001b[0;34m(self, key, value)\u001b[0m\n\u001b[1;32m     32\u001b[0m \u001b[38;5;28mself\u001b[39m\u001b[38;5;241m.\u001b[39m_values[key] \u001b[38;5;241m=\u001b[39m value\n\u001b[1;32m     33\u001b[0m \u001b[38;5;28mself\u001b[39m\u001b[38;5;241m.\u001b[39m_times[key] \u001b[38;5;241m=\u001b[39m time\u001b[38;5;241m.\u001b[39mmonotonic()\n\u001b[0;32m---> 34\u001b[0m \u001b[38;5;28;43mself\u001b[39;49m\u001b[38;5;241;43m.\u001b[39;49m\u001b[43mgc\u001b[49m\u001b[43m(\u001b[49m\u001b[43m)\u001b[49m\n",
      "File \u001b[0;32m~/workspace/clotho/notebooks/../misc/lru.py:48\u001b[0m, in \u001b[0;36mLRU.gc\u001b[0;34m(self)\u001b[0m\n\u001b[1;32m     45\u001b[0m \u001b[38;5;28;01mwhile\u001b[39;00m \u001b[38;5;28mlen\u001b[39m(\u001b[38;5;28mself\u001b[39m\u001b[38;5;241m.\u001b[39m_values) \u001b[38;5;241m>\u001b[39m \u001b[38;5;28mself\u001b[39m\u001b[38;5;241m.\u001b[39m_max_items:\n\u001b[1;32m     46\u001b[0m     \u001b[38;5;28;01mtry\u001b[39;00m:\n\u001b[1;32m     47\u001b[0m         to_remove \u001b[38;5;241m=\u001b[39m \u001b[38;5;28msorted\u001b[39m(\n\u001b[0;32m---> 48\u001b[0m             \u001b[38;5;28;43mself\u001b[39;49m\u001b[38;5;241;43m.\u001b[39;49m\u001b[43m_times\u001b[49m\u001b[38;5;241;43m.\u001b[39;49m\u001b[43mcopy\u001b[49m\u001b[43m(\u001b[49m\u001b[43m)\u001b[49m\u001b[38;5;241m.\u001b[39mitems(),\n\u001b[1;32m     49\u001b[0m             key\u001b[38;5;241m=\u001b[39m\u001b[38;5;28;01mlambda\u001b[39;00m item: item[\u001b[38;5;241m1\u001b[39m])[:\u001b[38;5;241m-\u001b[39m\u001b[38;5;28mself\u001b[39m\u001b[38;5;241m.\u001b[39m_soft_limit]\n\u001b[1;32m     50\u001b[0m         \u001b[38;5;28;01mfor\u001b[39;00m rm_item \u001b[38;5;129;01min\u001b[39;00m to_remove:\n\u001b[1;32m     51\u001b[0m             key \u001b[38;5;241m=\u001b[39m rm_item[\u001b[38;5;241m0\u001b[39m]\n",
      "\u001b[0;31mKeyboardInterrupt\u001b[0m: "
     ]
    }
   ],
   "source": [
    "%%time\n",
    "\n",
    "dbs.build(max_node_size=test_size)"
   ]
  },
  {
   "cell_type": "code",
   "execution_count": 16,
   "id": "d448cb34-e04e-4f33-908a-0e5375894bab",
   "metadata": {
    "tags": []
   },
   "outputs": [
    {
     "ename": "AssertionError",
     "evalue": "",
     "output_type": "error",
     "traceback": [
      "\u001b[0;31m---------------------------------------------------------------------------\u001b[0m",
      "\u001b[0;31mAssertionError\u001b[0m                            Traceback (most recent call last)",
      "Cell \u001b[0;32mIn[16], line 3\u001b[0m\n\u001b[1;32m      1\u001b[0m c_cache \u001b[38;5;241m=\u001b[39m {}\n\u001b[1;32m      2\u001b[0m c_stats \u001b[38;5;241m=\u001b[39m {}\n\u001b[0;32m----> 3\u001b[0m is_correct \u001b[38;5;241m=\u001b[39m \u001b[38;5;241m2838\u001b[39m \u001b[38;5;129;01min\u001b[39;00m (row[\u001b[38;5;241m0\u001b[39m] \u001b[38;5;28;01mfor\u001b[39;00m row \u001b[38;5;129;01min\u001b[39;00m \u001b[43mdbs\u001b[49m\u001b[38;5;241;43m.\u001b[39;49m\u001b[43mget_closest\u001b[49m\u001b[43m(\u001b[49m\u001b[43mx\u001b[49m\u001b[43m[\u001b[49m\u001b[38;5;241;43m10001\u001b[39;49m\u001b[43m,\u001b[49m\u001b[43m \u001b[49m\u001b[43m:\u001b[49m\u001b[43m]\u001b[49m\u001b[43m,\u001b[49m\u001b[43m \u001b[49m\u001b[38;5;241;43m10\u001b[39;49m\u001b[43m,\u001b[49m\u001b[43m \u001b[49m\u001b[43mc_cache\u001b[49m\u001b[43m,\u001b[49m\u001b[43m \u001b[49m\u001b[43mc_stats\u001b[49m\u001b[43m)\u001b[49m)\n\u001b[1;32m      4\u001b[0m \u001b[38;5;28mprint\u001b[39m(dbs\u001b[38;5;241m.\u001b[39mdebug(\n\u001b[1;32m      5\u001b[0m     special_ixs\u001b[38;5;241m=\u001b[39m{\u001b[38;5;241m2838\u001b[39m, \u001b[38;5;241m9282\u001b[39m, \u001b[38;5;241m218\u001b[39m, \u001b[38;5;241m1055\u001b[39m, \u001b[38;5;241m6350\u001b[39m, \u001b[38;5;241m1441\u001b[39m, \u001b[38;5;241m5042\u001b[39m, \u001b[38;5;241m1232\u001b[39m, \u001b[38;5;241m2822\u001b[39m, \u001b[38;5;241m7923\u001b[39m},\n\u001b[1;32m      6\u001b[0m     show_ixs\u001b[38;5;241m=\u001b[39mc_cache,\n\u001b[1;32m      7\u001b[0m     stats\u001b[38;5;241m=\u001b[39mc_stats,\n\u001b[1;32m      8\u001b[0m     prune\u001b[38;5;241m=\u001b[39m\u001b[38;5;28;01mTrue\u001b[39;00m))\n",
      "Cell \u001b[0;32mIn[12], line 316\u001b[0m, in \u001b[0;36mFann.get_closest\u001b[0;34m(self, embed, count, cache, stats, eps)\u001b[0m\n\u001b[1;32m    309\u001b[0m \u001b[38;5;28;01mdef\u001b[39;00m \u001b[38;5;21mget_closest\u001b[39m(\n\u001b[1;32m    310\u001b[0m         \u001b[38;5;28mself\u001b[39m,\n\u001b[1;32m    311\u001b[0m         embed: T,\n\u001b[0;32m   (...)\u001b[0m\n\u001b[1;32m    314\u001b[0m         stats: \u001b[38;5;28mdict\u001b[39m[\u001b[38;5;28mint\u001b[39m, \u001b[38;5;28mstr\u001b[39m] \u001b[38;5;241m|\u001b[39m \u001b[38;5;28;01mNone\u001b[39;00m \u001b[38;5;241m=\u001b[39m \u001b[38;5;28;01mNone\u001b[39;00m,\n\u001b[1;32m    315\u001b[0m         eps: \u001b[38;5;28mfloat\u001b[39m \u001b[38;5;241m=\u001b[39m \u001b[38;5;241m0.0\u001b[39m) \u001b[38;5;241m-\u001b[39m\u001b[38;5;241m>\u001b[39m \u001b[38;5;28mlist\u001b[39m[\u001b[38;5;28mtuple\u001b[39m[\u001b[38;5;28mint\u001b[39m, \u001b[38;5;28mfloat\u001b[39m]]:\n\u001b[0;32m--> 316\u001b[0m     \u001b[38;5;28;01massert\u001b[39;00m \u001b[38;5;28mself\u001b[39m\u001b[38;5;241m.\u001b[39m_root \u001b[38;5;129;01mis\u001b[39;00m \u001b[38;5;129;01mnot\u001b[39;00m \u001b[38;5;28;01mNone\u001b[39;00m\n\u001b[1;32m    317\u001b[0m     \u001b[38;5;28;01mif\u001b[39;00m cache \u001b[38;5;129;01mis\u001b[39;00m \u001b[38;5;28;01mNone\u001b[39;00m:\n\u001b[1;32m    318\u001b[0m         cache \u001b[38;5;241m=\u001b[39m {}\n",
      "\u001b[0;31mAssertionError\u001b[0m: "
     ]
    }
   ],
   "source": [
    "c_cache = {}\n",
    "c_stats = {}\n",
    "is_correct = 2838 in (row[0] for row in dbs.get_closest(x[10001, :], 10, c_cache, c_stats))\n",
    "print(dbs.debug(\n",
    "    special_ixs={2838, 9282, 218, 1055, 6350, 1441, 5042, 1232, 2822, 7923},\n",
    "    show_ixs=c_cache,\n",
    "    stats=c_stats,\n",
    "    prune=True))"
   ]
  },
  {
   "cell_type": "code",
   "execution_count": null,
   "id": "be1db45e-a33c-4b41-bf91-4fff9cf8dada",
   "metadata": {},
   "outputs": [],
   "source": [
    "is_correct"
   ]
  },
  {
   "cell_type": "code",
   "execution_count": null,
   "id": "d539436f-1616-485f-b906-b94a1166d205",
   "metadata": {},
   "outputs": [],
   "source": [
    "test_ix = test_size\n",
    "test_embed = x[test_ix, :]\n",
    "test_embed.shape"
   ]
  },
  {
   "cell_type": "code",
   "execution_count": null,
   "id": "a16dfa07-8015-41f6-9be6-473af7843d49",
   "metadata": {},
   "outputs": [],
   "source": [
    "%%time\n",
    "\n",
    "test_dists = np.exp(-np.dot(x[:test_size, :], test_embed))\n",
    "test_dists.shape"
   ]
  },
  {
   "cell_type": "code",
   "execution_count": null,
   "id": "7ea42192-9279-4166-a6f6-11481c14e3a7",
   "metadata": {},
   "outputs": [],
   "source": [
    "np.argsort(test_dists)[:10]"
   ]
  },
  {
   "cell_type": "code",
   "execution_count": null,
   "id": "1cbc5395-2c36-493e-bdd7-4bcaee4b5740",
   "metadata": {},
   "outputs": [],
   "source": [
    "test_dists[np.argsort(test_dists)[:10]]"
   ]
  },
  {
   "cell_type": "code",
   "execution_count": null,
   "id": "9897ce5b-0eb7-4613-8208-67e17c5e3534",
   "metadata": {},
   "outputs": [],
   "source": [
    "def compute_stats(stats: dict[int, str]) -> dict[str, int]:\n",
    "    res = {}\n",
    "    for name in stats.values():\n",
    "        if name not in res:\n",
    "            res[name] = 1\n",
    "        else:\n",
    "            res[name] += 1\n",
    "    return res"
   ]
  },
  {
   "cell_type": "code",
   "execution_count": null,
   "id": "062d6023-4f3d-4e5f-ba9f-8b79d0d24ba8",
   "metadata": {},
   "outputs": [],
   "source": [
    "%%time\n",
    "\n",
    "cache = {}\n",
    "stats = {}\n",
    "res = dbs.get_closest(test_embed, 10, cache, stats)\n",
    "res, len(cache), compute_stats(stats)"
   ]
  },
  {
   "cell_type": "code",
   "execution_count": null,
   "id": "a09f30d8-b3f2-4784-94ad-c1275da75577",
   "metadata": {},
   "outputs": [],
   "source": [
    "%%time\n",
    "\n",
    "orders_base = []\n",
    "for ref_ix in range(test_ix, x.shape[0]):\n",
    "    test_dists = np.exp(-np.dot(x[:test_size, :], x[ref_ix, :]))\n",
    "    orders_base.append(np.argsort(test_dists)[:10].tolist())"
   ]
  },
  {
   "cell_type": "code",
   "execution_count": null,
   "id": "460d5512-033f-4a93-b66f-195a143604b7",
   "metadata": {
    "tags": []
   },
   "outputs": [],
   "source": [
    "%%time\n",
    "\n",
    "orders_fast = []\n",
    "cmp_nums = []\n",
    "stats = {\"inner\": 0, \"outer\": 0}\n",
    "for ref_ix in range(test_ix, x.shape[0]):\n",
    "    cache = {}\n",
    "    f_stats = {}\n",
    "    orders_fast.append(dbs.get_closest(x[ref_ix, :], 10, cache, f_stats))\n",
    "    for key, value in compute_stats(f_stats).items():\n",
    "        stats[key] += value\n",
    "    cmp_nums.append(len(cache))"
   ]
  },
  {
   "cell_type": "code",
   "execution_count": null,
   "id": "20e6524d-1711-4e9b-91dc-54c7022550c0",
   "metadata": {},
   "outputs": [],
   "source": [
    "stats"
   ]
  },
  {
   "cell_type": "code",
   "execution_count": null,
   "id": "6ecf6b33-19b1-4dbb-bf47-27701272ded4",
   "metadata": {},
   "outputs": [],
   "source": [
    "assert len(orders_base) == len(orders_fast)\n",
    "correct = 0\n",
    "incorrect = 0\n",
    "show_only = 1000\n",
    "for rix, (base, fast) in enumerate(zip(orders_base, orders_fast)):\n",
    "    cur_fast = [row[0] for row in fast]\n",
    "    if base == cur_fast:\n",
    "        correct += 1\n",
    "    else:\n",
    "        incorrect += 1\n",
    "        if show_only > 0:\n",
    "            print(f\"{test_ix + rix}: {base} != {cur_fast}\")\n",
    "            show_only -= 1\n",
    "correct, incorrect, correct / (incorrect + correct)"
   ]
  },
  {
   "cell_type": "code",
   "execution_count": null,
   "id": "90e054bb-571f-4804-9d6b-3c32108dc42e",
   "metadata": {},
   "outputs": [],
   "source": [
    "len(cmp_nums), np.std(cmp_nums), np.mean(cmp_nums), max(cmp_nums), min(cmp_nums)"
   ]
  },
  {
   "cell_type": "code",
   "execution_count": 21,
   "id": "35f62084-a24a-4dcf-a866-998b0bc808a5",
   "metadata": {},
   "outputs": [
    {
     "data": {
      "text/html": [
       "<div>\n",
       "<style scoped>\n",
       "    .dataframe tbody tr th:only-of-type {\n",
       "        vertical-align: middle;\n",
       "    }\n",
       "\n",
       "    .dataframe tbody tr th {\n",
       "        vertical-align: top;\n",
       "    }\n",
       "\n",
       "    .dataframe thead th {\n",
       "        text-align: right;\n",
       "    }\n",
       "</style>\n",
       "<table border=\"1\" class=\"dataframe\">\n",
       "  <thead>\n",
       "    <tr style=\"text-align: right;\">\n",
       "      <th></th>\n",
       "      <th>col_0</th>\n",
       "      <th>col_1</th>\n",
       "      <th>col_2</th>\n",
       "      <th>col_3</th>\n",
       "      <th>col_4</th>\n",
       "      <th>col_5</th>\n",
       "      <th>col_6</th>\n",
       "      <th>col_7</th>\n",
       "      <th>col_8</th>\n",
       "      <th>col_9</th>\n",
       "      <th>...</th>\n",
       "      <th>col_758</th>\n",
       "      <th>col_759</th>\n",
       "      <th>col_760</th>\n",
       "      <th>col_761</th>\n",
       "      <th>col_762</th>\n",
       "      <th>col_763</th>\n",
       "      <th>col_764</th>\n",
       "      <th>col_765</th>\n",
       "      <th>col_766</th>\n",
       "      <th>col_767</th>\n",
       "    </tr>\n",
       "  </thead>\n",
       "  <tbody>\n",
       "    <tr>\n",
       "      <th>0</th>\n",
       "      <td>0.187556</td>\n",
       "      <td>0.054266</td>\n",
       "      <td>-0.355687</td>\n",
       "      <td>-0.720444</td>\n",
       "      <td>0.765896</td>\n",
       "      <td>-0.341221</td>\n",
       "      <td>0.955582</td>\n",
       "      <td>1.498698</td>\n",
       "      <td>-0.229834</td>\n",
       "      <td>0.294793</td>\n",
       "      <td>...</td>\n",
       "      <td>-0.057425</td>\n",
       "      <td>0.064697</td>\n",
       "      <td>0.100166</td>\n",
       "      <td>-0.846495</td>\n",
       "      <td>-0.440370</td>\n",
       "      <td>0.098333</td>\n",
       "      <td>0.365876</td>\n",
       "      <td>-0.418113</td>\n",
       "      <td>-0.357133</td>\n",
       "      <td>0.158937</td>\n",
       "    </tr>\n",
       "    <tr>\n",
       "      <th>1</th>\n",
       "      <td>0.127789</td>\n",
       "      <td>0.033254</td>\n",
       "      <td>-0.376124</td>\n",
       "      <td>-0.762468</td>\n",
       "      <td>0.795435</td>\n",
       "      <td>-0.384039</td>\n",
       "      <td>0.977513</td>\n",
       "      <td>1.463145</td>\n",
       "      <td>-0.233444</td>\n",
       "      <td>0.340534</td>\n",
       "      <td>...</td>\n",
       "      <td>-0.033250</td>\n",
       "      <td>0.075337</td>\n",
       "      <td>0.106188</td>\n",
       "      <td>-0.822931</td>\n",
       "      <td>-0.463676</td>\n",
       "      <td>0.089926</td>\n",
       "      <td>0.395332</td>\n",
       "      <td>-0.364686</td>\n",
       "      <td>-0.361282</td>\n",
       "      <td>0.179179</td>\n",
       "    </tr>\n",
       "    <tr>\n",
       "      <th>2</th>\n",
       "      <td>0.075294</td>\n",
       "      <td>0.105776</td>\n",
       "      <td>-0.198432</td>\n",
       "      <td>-0.797172</td>\n",
       "      <td>0.716205</td>\n",
       "      <td>-0.296569</td>\n",
       "      <td>0.856986</td>\n",
       "      <td>1.631273</td>\n",
       "      <td>-0.369704</td>\n",
       "      <td>0.237189</td>\n",
       "      <td>...</td>\n",
       "      <td>0.209959</td>\n",
       "      <td>0.044318</td>\n",
       "      <td>0.144006</td>\n",
       "      <td>-0.867527</td>\n",
       "      <td>-0.291238</td>\n",
       "      <td>-0.027707</td>\n",
       "      <td>0.286547</td>\n",
       "      <td>-0.510216</td>\n",
       "      <td>-0.184788</td>\n",
       "      <td>0.323380</td>\n",
       "    </tr>\n",
       "    <tr>\n",
       "      <th>3</th>\n",
       "      <td>0.140740</td>\n",
       "      <td>0.114380</td>\n",
       "      <td>-0.379936</td>\n",
       "      <td>-0.794984</td>\n",
       "      <td>0.631552</td>\n",
       "      <td>-0.475874</td>\n",
       "      <td>0.932225</td>\n",
       "      <td>1.479470</td>\n",
       "      <td>-0.273788</td>\n",
       "      <td>0.325422</td>\n",
       "      <td>...</td>\n",
       "      <td>-0.142919</td>\n",
       "      <td>0.126940</td>\n",
       "      <td>0.091418</td>\n",
       "      <td>-0.895657</td>\n",
       "      <td>-0.431000</td>\n",
       "      <td>0.064054</td>\n",
       "      <td>0.517937</td>\n",
       "      <td>-0.425065</td>\n",
       "      <td>-0.480483</td>\n",
       "      <td>0.250477</td>\n",
       "    </tr>\n",
       "    <tr>\n",
       "      <th>4</th>\n",
       "      <td>0.116093</td>\n",
       "      <td>-0.067832</td>\n",
       "      <td>-0.294383</td>\n",
       "      <td>-0.898375</td>\n",
       "      <td>0.672781</td>\n",
       "      <td>-0.220382</td>\n",
       "      <td>0.937766</td>\n",
       "      <td>1.504971</td>\n",
       "      <td>-0.293722</td>\n",
       "      <td>0.273324</td>\n",
       "      <td>...</td>\n",
       "      <td>-0.053898</td>\n",
       "      <td>0.007314</td>\n",
       "      <td>0.039204</td>\n",
       "      <td>-0.823628</td>\n",
       "      <td>-0.532449</td>\n",
       "      <td>-0.041575</td>\n",
       "      <td>0.444554</td>\n",
       "      <td>-0.435547</td>\n",
       "      <td>-0.376477</td>\n",
       "      <td>0.185267</td>\n",
       "    </tr>\n",
       "  </tbody>\n",
       "</table>\n",
       "<p>5 rows × 768 columns</p>\n",
       "</div>"
      ],
      "text/plain": [
       "      col_0     col_1     col_2     col_3     col_4     col_5     col_6  \\\n",
       "0  0.187556  0.054266 -0.355687 -0.720444  0.765896 -0.341221  0.955582   \n",
       "1  0.127789  0.033254 -0.376124 -0.762468  0.795435 -0.384039  0.977513   \n",
       "2  0.075294  0.105776 -0.198432 -0.797172  0.716205 -0.296569  0.856986   \n",
       "3  0.140740  0.114380 -0.379936 -0.794984  0.631552 -0.475874  0.932225   \n",
       "4  0.116093 -0.067832 -0.294383 -0.898375  0.672781 -0.220382  0.937766   \n",
       "\n",
       "      col_7     col_8     col_9  ...   col_758   col_759   col_760   col_761  \\\n",
       "0  1.498698 -0.229834  0.294793  ... -0.057425  0.064697  0.100166 -0.846495   \n",
       "1  1.463145 -0.233444  0.340534  ... -0.033250  0.075337  0.106188 -0.822931   \n",
       "2  1.631273 -0.369704  0.237189  ...  0.209959  0.044318  0.144006 -0.867527   \n",
       "3  1.479470 -0.273788  0.325422  ... -0.142919  0.126940  0.091418 -0.895657   \n",
       "4  1.504971 -0.293722  0.273324  ... -0.053898  0.007314  0.039204 -0.823628   \n",
       "\n",
       "    col_762   col_763   col_764   col_765   col_766   col_767  \n",
       "0 -0.440370  0.098333  0.365876 -0.418113 -0.357133  0.158937  \n",
       "1 -0.463676  0.089926  0.395332 -0.364686 -0.361282  0.179179  \n",
       "2 -0.291238 -0.027707  0.286547 -0.510216 -0.184788  0.323380  \n",
       "3 -0.431000  0.064054  0.517937 -0.425065 -0.480483  0.250477  \n",
       "4 -0.532449 -0.041575  0.444554 -0.435547 -0.376477  0.185267  \n",
       "\n",
       "[5 rows x 768 columns]"
      ]
     },
     "metadata": {},
     "output_type": "display_data"
    }
   ],
   "source": [
    "df = pd.DataFrame(x, columns=[f\"col_{x}\" for x in range(768)])\n",
    "display(df.head())\n",
    "df.to_parquet(\"embeds.pq\")"
   ]
  },
  {
   "cell_type": "code",
   "execution_count": 23,
   "id": "23366d52-e225-4ef7-be99-af07a62ae591",
   "metadata": {},
   "outputs": [
    {
     "data": {
      "text/plain": [
       "(689418, 768)"
      ]
     },
     "execution_count": 23,
     "metadata": {},
     "output_type": "execute_result"
    }
   ],
   "source": [
    "pd.read_parquet(\"embeds.pq\").shape"
   ]
  },
  {
   "cell_type": "code",
   "execution_count": null,
   "id": "5f7e0a64-e179-4105-9538-3eb7022535c3",
   "metadata": {},
   "outputs": [],
   "source": []
  }
 ],
 "metadata": {
  "kernelspec": {
   "display_name": "Python 3 (ipykernel)",
   "language": "python",
   "name": "python3"
  },
  "language_info": {
   "codemirror_mode": {
    "name": "ipython",
    "version": 3
   },
   "file_extension": ".py",
   "mimetype": "text/x-python",
   "name": "python",
   "nbconvert_exporter": "python",
   "pygments_lexer": "ipython3",
   "version": "3.10.6"
  }
 },
 "nbformat": 4,
 "nbformat_minor": 5
}

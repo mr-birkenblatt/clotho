{
 "cells": [
  {
   "cell_type": "code",
   "execution_count": 1,
   "id": "7c1265ba-c76b-4424-b577-a322e6b512af",
   "metadata": {},
   "outputs": [],
   "source": [
    "# in a terminal run\n",
    "# > make run-redis NS=train\n",
    "# > make run-redis NS=test\n",
    "# to allow access to the train and test namespaces"
   ]
  },
  {
   "cell_type": "code",
   "execution_count": 2,
   "id": "4e21c530-5f85-4b18-b9ed-c2fbe591b52f",
   "metadata": {},
   "outputs": [],
   "source": [
    "import os\n",
    "import sys\n",
    "import pandas as pd\n",
    "import numpy as np"
   ]
  },
  {
   "cell_type": "code",
   "execution_count": 3,
   "id": "62721599-23d3-405a-bbb2-88a6f0a17a17",
   "metadata": {},
   "outputs": [],
   "source": [
    "sys.path.append(\"..\")\n",
    "os.environ[\"USER_PATH\"] = \"../userdata\""
   ]
  },
  {
   "cell_type": "code",
   "execution_count": 4,
   "id": "82c6f1c7-607b-479d-b2f6-3483cb91a57d",
   "metadata": {},
   "outputs": [],
   "source": [
    "from misc.redis import set_redis_slow_mode\n",
    "from model.datagenerator import create_train_test\n",
    "from system.namespace.store import get_namespace"
   ]
  },
  {
   "cell_type": "code",
   "execution_count": 5,
   "id": "0a897205-0707-4928-860d-5e8d58cef31a",
   "metadata": {},
   "outputs": [],
   "source": [
    "set_redis_slow_mode(\"never\")\n",
    "ns_test = get_namespace(\"test\")\n",
    "ns_train = get_namespace(\"train\")\n",
    "now = pd.Timestamp(\"2022-12-17\", tz=\"UTC\")\n",
    "ttgen = create_train_test(\n",
    "    train_ns=ns_train,\n",
    "    train_validation_ns=ns_train,\n",
    "    test_ns=ns_test,\n",
    "    batch_size=20,\n",
    "    epoch_batches=50,\n",
    "    train_val_size=1000,\n",
    "    test_size=1000,\n",
    "    compute_batch_size=100,\n",
    "    now=now)"
   ]
  },
  {
   "cell_type": "code",
   "execution_count": 6,
   "id": "6cde9030-931f-4f80-a118-d7f5ef2677d9",
   "metadata": {
    "tags": []
   },
   "outputs": [
    {
     "name": "stdout",
     "output_type": "stream",
     "text": [
      "train 0\n",
      "total 1000\n",
      "train validation 0\n",
      "total 1000\n",
      "test 0\n",
      "total 1000\n",
      "train 1\n",
      "total 1000\n",
      "train validation 1\n",
      "total 1000\n",
      "test 1\n",
      "total 1000\n",
      "train 2\n",
      "total 1000\n",
      "train validation 2\n",
      "total 1000\n",
      "test 2\n",
      "total 1000\n",
      "train 3\n",
      "total 1000\n",
      "train validation 3\n",
      "total 1000\n",
      "test 3\n",
      "total 1000\n"
     ]
    }
   ],
   "source": [
    "for _ in range(4):\n",
    "    epoch = ttgen.get_epoch()\n",
    "    print(f\"train {epoch}\")\n",
    "    total_train = 0\n",
    "    for train_df in ttgen.train_dfs():\n",
    "        # print(train_df.shape[0])\n",
    "        total_train += train_df.shape[0]\n",
    "    print(f\"total {total_train}\")\n",
    "    print(f\"train validation {epoch}\")\n",
    "    total_train_val = 0\n",
    "    for train_validation_df in ttgen.train_validation_dfs():\n",
    "        # print(train_validation_df.shape[0])\n",
    "        total_train_val += train_validation_df.shape[0]\n",
    "    print(f\"total {total_train_val}\")\n",
    "    print(f\"test {epoch}\")\n",
    "    total_test = 0\n",
    "    for test_df in ttgen.test_dfs():\n",
    "        # print(test_df.shape[0])\n",
    "        total_test += test_df.shape[0]\n",
    "    print(f\"total {total_test}\")\n",
    "    ttgen.advance_epoch()"
   ]
  },
  {
   "cell_type": "code",
   "execution_count": null,
   "id": "c5a36224-b91d-4f21-9279-fa7c2a0e862f",
   "metadata": {},
   "outputs": [],
   "source": []
  }
 ],
 "metadata": {
  "kernelspec": {
   "display_name": "Python 3 (ipykernel)",
   "language": "python",
   "name": "python3"
  },
  "language_info": {
   "codemirror_mode": {
    "name": "ipython",
    "version": 3
   },
   "file_extension": ".py",
   "mimetype": "text/x-python",
   "name": "python",
   "nbconvert_exporter": "python",
   "pygments_lexer": "ipython3",
   "version": "3.10.6"
  }
 },
 "nbformat": 4,
 "nbformat_minor": 5
}

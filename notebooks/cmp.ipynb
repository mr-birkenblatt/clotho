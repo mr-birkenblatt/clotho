{
 "cells": [
  {
   "cell_type": "code",
   "execution_count": 1,
   "id": "334b43bf-d608-4c6e-9ec2-4a5c6543832d",
   "metadata": {},
   "outputs": [],
   "source": [
    "import heapq\n",
    "import torch\n",
    "import bisect\n",
    "import random\n",
    "import collections"
   ]
  },
  {
   "cell_type": "code",
   "execution_count": 2,
   "id": "f69f7288-e9a3-4519-917e-718f33ba6915",
   "metadata": {},
   "outputs": [
    {
     "data": {
      "text/plain": [
       "torch.Size([400003, 768])"
      ]
     },
     "execution_count": 2,
     "metadata": {},
     "output_type": "execute_result"
    }
   ],
   "source": [
    "embed = torch.rand(size=(400003, 768))\n",
    "embed.shape"
   ]
  },
  {
   "cell_type": "code",
   "execution_count": 3,
   "id": "11242f8a-0879-4612-8172-72c0b4e28f07",
   "metadata": {},
   "outputs": [
    {
     "data": {
      "text/plain": [
       "torch.Size([768])"
      ]
     },
     "execution_count": 3,
     "metadata": {},
     "output_type": "execute_result"
    }
   ],
   "source": [
    "other = torch.rand(size=(768,))\n",
    "other.shape"
   ]
  },
  {
   "cell_type": "code",
   "execution_count": 4,
   "id": "bff14f23-33ac-4beb-8adb-181d082c6d7a",
   "metadata": {},
   "outputs": [],
   "source": [
    "class Element:\n",
    "    def __init__(self, dists, ix, other):\n",
    "        self._dists = dists\n",
    "        self._ix = ix\n",
    "        self._other = other\n",
    "        self._cache = None\n",
    "        \n",
    "    def clear(self):\n",
    "        self._cache = None\n",
    "        \n",
    "    def get(self):\n",
    "        if self._cache is None:\n",
    "             self._cache = self._other.dot(self._dists[self._ix, :].ravel()).item()\n",
    "        return self._cache\n",
    "    \n",
    "    def index(self):\n",
    "        return self._ix\n",
    "    \n",
    "    def _cmp(self, other):\n",
    "        return self.get() - other.get()\n",
    "\n",
    "    def __lt__(self, other):\n",
    "        return self._cmp(other) < 0\n",
    "\n",
    "    def __le__(self, other):\n",
    "        return self._cmp(other) <= 0\n",
    "\n",
    "    def __eq__(self, other):\n",
    "        return self._cmp(other) == 0\n",
    "\n",
    "    def __ne__(self, other):\n",
    "        return self._cmp(other) != 0\n",
    "\n",
    "    def __ge__(self, other):\n",
    "        return self._cmp(other) >= 0\n",
    "\n",
    "    def __gt__(self, other):\n",
    "        return self._cmp(other) > 0\n",
    "    \n",
    "    def __hash__(self):\n",
    "        return hash(self.get())\n",
    "    \n",
    "    def __repr__(self):\n",
    "        return f\"{self._ix}[{self.get()}]\""
   ]
  },
  {
   "cell_type": "code",
   "execution_count": 5,
   "id": "359323dd-8ebc-4703-a186-5603cb0794fc",
   "metadata": {},
   "outputs": [
    {
     "data": {
      "text/plain": [
       "(331624[207.1761016845703], 176049[209.71820068359375])"
      ]
     },
     "execution_count": 5,
     "metadata": {},
     "output_type": "execute_result"
    }
   ],
   "source": [
    "elems = (\n",
    "    # [Element(embed, ix, other) for ix in range(embed.shape[0])] +\n",
    "    [Element(embed, ix, other) for ix in range(embed.shape[0])])\n",
    "random.shuffle(elems)\n",
    "elems[0], elems[1]"
   ]
  },
  {
   "cell_type": "code",
   "execution_count": 6,
   "id": "c71b03af-7c31-4ef3-9341-2331095dc8f1",
   "metadata": {},
   "outputs": [],
   "source": [
    "def clear_cache(elems):\n",
    "    for elem in elems:\n",
    "        # elem.clear()\n",
    "        elem.get()\n",
    "    return elems.copy()"
   ]
  },
  {
   "cell_type": "code",
   "execution_count": 7,
   "id": "d33d4576-bcd3-4581-a899-b4ba40f416b2",
   "metadata": {},
   "outputs": [],
   "source": [
    "elems = clear_cache(elems)"
   ]
  },
  {
   "cell_type": "code",
   "execution_count": 8,
   "id": "b219fa6c-5f58-48eb-8089-f0695bbca5f6",
   "metadata": {},
   "outputs": [],
   "source": [
    "def largest_sort(count, elems):\n",
    "    elems = clear_cache(elems)\n",
    "\n",
    "    # already = set()\n",
    "    candidates = []\n",
    "    for cur in elems:\n",
    "        # ix = cur.index()\n",
    "        # if ix in already:\n",
    "        #     continue\n",
    "        dist = cur.get()\n",
    "        mod = False\n",
    "        if len(candidates) < count:\n",
    "            candidates.append(cur)\n",
    "            mod = True\n",
    "        elif dist > candidates[-1].get():\n",
    "            # already.remove(candidates[-1].index())\n",
    "            candidates[-1] = cur\n",
    "            mod = True\n",
    "        if mod:\n",
    "            # already.add(ix)\n",
    "            candidates.sort(reverse=True)\n",
    "    return candidates"
   ]
  },
  {
   "cell_type": "code",
   "execution_count": 9,
   "id": "14ff1525-aba0-4d0f-9e24-c822065ef8a5",
   "metadata": {},
   "outputs": [],
   "source": [
    "def largest_heap(count, elems):\n",
    "    elems = clear_cache(elems)\n",
    "    \n",
    "    heap = []\n",
    "    # already = set()\n",
    "    for elem in elems:\n",
    "        # ix = elem.index()\n",
    "        # if ix in already:\n",
    "        #     continue\n",
    "        # already.add(ix)\n",
    "        if len(heap) < count:\n",
    "            heapq.heappush(heap, elem)\n",
    "        else:\n",
    "            heapq.heappushpop(heap, elem)\n",
    "            # already.remove(prev.index())\n",
    "    return heapq.nlargest(count, heap)"
   ]
  },
  {
   "cell_type": "code",
   "execution_count": 10,
   "id": "df1ddbed-7b7e-43db-8631-ccedfa95b670",
   "metadata": {},
   "outputs": [],
   "source": [
    "def largest_bisect(count, elems):\n",
    "    elems = clear_cache(elems)\n",
    "    \n",
    "    candidates = collections.deque(maxlen=count)\n",
    "    for cur in elems:\n",
    "        if candidates and cur.get() <= candidates[0].get():\n",
    "            continue\n",
    "        # ix = cur.index()\n",
    "        pos = bisect.bisect_left(candidates, cur)\n",
    "        # if pos < len(candidates) and candidates[pos].index() == ix:\n",
    "        #     continue\n",
    "        if len(candidates) >= count:\n",
    "            if pos == 0:\n",
    "                continue\n",
    "            candidates.popleft()\n",
    "            pos -= 1\n",
    "        candidates.insert(pos, cur)\n",
    "    return list(candidates)[::-1]"
   ]
  },
  {
   "cell_type": "code",
   "execution_count": 11,
   "id": "e2c596aa-ead9-48a0-a0c3-b15ae62724f2",
   "metadata": {},
   "outputs": [],
   "source": [
    "def largest_bisect_replace(count, elems):\n",
    "    elems = clear_cache(elems)\n",
    "\n",
    "    candidates = []\n",
    "    for cur in elems:\n",
    "        # ix = cur.index()\n",
    "        dist = cur.get()\n",
    "        mod = False\n",
    "        if len(candidates) < count:\n",
    "            # pos = bisect.bisect_left(candidates, cur)\n",
    "            # if pos < len(candidates) and candidates[pos].index() == ix:\n",
    "            #     continue\n",
    "            candidates.append(cur)\n",
    "            mod = True\n",
    "        elif dist > candidates[0].get():\n",
    "            # pos = bisect.bisect_left(candidates, cur)\n",
    "            # if pos < len(candidates) and candidates[pos].index() == ix:\n",
    "            #     continue\n",
    "            candidates[0] = cur\n",
    "            mod = True\n",
    "        if mod:\n",
    "            candidates.sort()\n",
    "    return candidates[::-1]"
   ]
  },
  {
   "cell_type": "code",
   "execution_count": 12,
   "id": "ed098cc9-c657-4623-af6c-74b26c717de4",
   "metadata": {},
   "outputs": [],
   "source": [
    "def largest_sort_all(count, elems):\n",
    "    elems = clear_cache(elems)\n",
    "    \n",
    "    elems.sort(key=lambda entry: entry.get(), reverse=True)\n",
    "    return elems[:count]"
   ]
  },
  {
   "cell_type": "code",
   "execution_count": 13,
   "id": "523d6679-dbbe-4aeb-babb-a5fee9dea237",
   "metadata": {},
   "outputs": [],
   "source": [
    "def largest_recursive(count, elems):\n",
    "    elems = clear_cache(elems)\n",
    "    batch = count * 2\n",
    "    \n",
    "    def key(entry):\n",
    "        return entry.get()\n",
    "\n",
    "    def from_sorted(arr):\n",
    "        return arr[:count]\n",
    "        # ret = 0\n",
    "        # prev = None\n",
    "        # for elem in arr:\n",
    "        #     if prev is not None and prev.index() == elem.index():\n",
    "        #         continue\n",
    "        #     yield elem\n",
    "        #     ret += 1\n",
    "        #     if ret >= count:\n",
    "        #         break\n",
    "        #     prev = elem\n",
    "    \n",
    "    def inner(arr, start, end):\n",
    "        size = end - start\n",
    "        if size <= batch:\n",
    "            return from_sorted(sorted(arr[start:end], key=key, reverse=True))\n",
    "        mid = start + size // 2\n",
    "        out_arr = []\n",
    "        out_arr.extend(inner(arr, start, mid))\n",
    "        out_arr.extend(inner(arr, mid, end))\n",
    "        return from_sorted(sorted(out_arr, key=key, reverse=True))\n",
    "    \n",
    "    return inner(elems, 0, len(elems))"
   ]
  },
  {
   "cell_type": "code",
   "execution_count": 14,
   "id": "affd2a5a-8086-493e-a9ff-07ed3d99e630",
   "metadata": {},
   "outputs": [],
   "source": [
    "def largest_fast(count, elems):\n",
    "    elems = clear_cache(elems)\n",
    "    buff = count\n",
    "    \n",
    "    # already = set()\n",
    "    arr = []\n",
    "    candidates = []\n",
    "    for cur in elems:\n",
    "        if candidates and candidates[-1] >= cur:\n",
    "            continue\n",
    "        # ix = cur.index()\n",
    "        # if ix in already:\n",
    "        #     continue\n",
    "        arr.append(cur)\n",
    "        # already.add(ix)\n",
    "        if len(arr) < buff:\n",
    "            continue\n",
    "        candidates.extend(arr)\n",
    "        arr.clear()\n",
    "        candidates.sort(reverse=True)\n",
    "        candidates = candidates[:count]\n",
    "        # already = set((elem.index() for elem in candidates))\n",
    "    candidates.extend(arr)\n",
    "    candidates.sort(reverse=True)\n",
    "    return candidates[:count]"
   ]
  },
  {
   "cell_type": "code",
   "execution_count": 15,
   "id": "c8b9896e-3b59-4f6e-80a2-228195882e9f",
   "metadata": {},
   "outputs": [],
   "source": [
    "def largest_spec(count, elems):\n",
    "    elems = clear_cache(elems)\n",
    "    # a_buff = 100\n",
    "\n",
    "    # already = set()\n",
    "    candidates = []\n",
    "    for cur in elems:\n",
    "        # ix = cur.index()\n",
    "        # if ix in already:\n",
    "        #     continue\n",
    "        dist = cur.get()\n",
    "        mod = False\n",
    "        if len(candidates) < count:\n",
    "            candidates.append(cur)\n",
    "            mod = True\n",
    "        elif dist > candidates[-1].get():\n",
    "            candidates[-1] = cur\n",
    "            mod = True\n",
    "        if mod:\n",
    "            # if len(already) < a_buff:\n",
    "            #     already.add(ix)\n",
    "            # else:\n",
    "            #     already = set(elem.index() for elem in candidates)\n",
    "            candidates.sort(\n",
    "                key=lambda entry: entry.get(), reverse=True)\n",
    "    return candidates"
   ]
  },
  {
   "cell_type": "code",
   "execution_count": 16,
   "id": "1f5a1ae4-ce22-40a8-a4a8-eb1528247435",
   "metadata": {},
   "outputs": [],
   "source": [
    "def largest_manual(count, elems):\n",
    "    elems = clear_cache(elems)\n",
    "    \n",
    "    def pivot(arr, left, right):\n",
    "        return left + (right - left) // 2\n",
    "    \n",
    "    def choose(arr, left, right, remain):\n",
    "        if right - left <= remain:\n",
    "            return sorted(arr[left:right], reverse=True)\n",
    "        pivot_ix = pivot(arr, left, right)\n",
    "        last_ix = right - 1\n",
    "        arr[pivot_ix], arr[last_ix] = arr[last_ix], arr[pivot_ix]\n",
    "        pivot_ix = last_ix\n",
    "        ix = left\n",
    "        while ix < pivot_ix:\n",
    "            if arr[ix] < arr[pivot_ix]:\n",
    "                ix += 1\n",
    "            elif arr[ix] > arr[pivot_ix]:\n",
    "                arr[ix], arr[pivot_ix] = arr[pivot_ix], arr[ix]\n",
    "                pivot_ix -= 1\n",
    "                arr[ix], arr[pivot_ix] = arr[pivot_ix], arr[ix]\n",
    "            else:\n",
    "                ix += 1\n",
    "        size = right - pivot_ix\n",
    "        if size == remain:\n",
    "            return sorted(arr[pivot_ix:right], reverse=True)\n",
    "        if size > remain:\n",
    "            return choose(arr, pivot_ix, right, remain)\n",
    "        return choose(arr, pivot_ix, right, remain) + choose(arr, left, pivot_ix, remain - size)\n",
    "    \n",
    "    return choose(elems, 0, len(elems), count)"
   ]
  },
  {
   "cell_type": "code",
   "execution_count": 17,
   "id": "2795e195-4c9b-4664-97a8-a856e05641b0",
   "metadata": {},
   "outputs": [],
   "source": [
    "def largest_fast_swap(count, elems, use_manual):\n",
    "    elems = clear_cache(elems)\n",
    "    \n",
    "    def merge_manual(arr, candidates):\n",
    "        arr.sort(reverse=True)\n",
    "        if candidates[0] is None:\n",
    "            candidates[:] = arr\n",
    "            return\n",
    "        for arr_ix in range(len(arr) - 1, -1, -1):\n",
    "            last = candidates[-1]\n",
    "            can_ix = len(candidates) - 2\n",
    "            while(can_ix >= 0 and candidates[can_ix] < arr[arr_ix]):\n",
    "                candidates[can_ix + 1] = candidates[can_ix]\n",
    "                can_ix -= 1\n",
    "            if (last < arr[arr_ix]):\n",
    "                candidates[can_ix + 1] = arr[arr_ix]\n",
    "                arr[arr_ix] = last\n",
    "    \n",
    "    def merge_sort(arr, candidates):\n",
    "        arr.sort(reverse=True)\n",
    "        if candidates[0] is None:\n",
    "            candidates[:count] = arr\n",
    "            return\n",
    "        candidates[count:] = arr\n",
    "        candidates.sort(reverse=True)\n",
    "    \n",
    "    merge = merge_manual if use_manual else merge_sort\n",
    "    buff = [None] * count\n",
    "    res = [None] * (count if use_manual else count * 2)\n",
    "    buff_ix = 0\n",
    "    for cur in elems:\n",
    "        if res[0] is not None and res[count - 1] > cur:\n",
    "            continue\n",
    "        buff[buff_ix] = cur\n",
    "        buff_ix += 1\n",
    "        if buff_ix < len(buff):\n",
    "            continue\n",
    "        merge(buff, res)\n",
    "        buff_ix = 0\n",
    "    if buff_ix > 0:\n",
    "        merge(buff[:buff_ix], res)\n",
    "    return res[:count]"
   ]
  },
  {
   "cell_type": "code",
   "execution_count": 18,
   "id": "2d8760a2-7223-4be6-afcc-6572d379feb7",
   "metadata": {},
   "outputs": [],
   "source": [
    "def largest_heapq(count, elems):\n",
    "    elems = clear_cache(elems)\n",
    "    \n",
    "    return heapq.nlargest(count, elems)"
   ]
  },
  {
   "cell_type": "code",
   "execution_count": 19,
   "id": "08b3e09e-f2ae-475e-9e2b-807bb95b7094",
   "metadata": {},
   "outputs": [],
   "source": [
    "def largest_loop_heapq(count, elems):\n",
    "    elems = clear_cache(elems)\n",
    "    buff = count\n",
    "    \n",
    "    arr = []\n",
    "    candidates = []\n",
    "    for cur in elems:\n",
    "        if candidates and candidates[-1] >= cur:\n",
    "            continue\n",
    "        arr.append(cur)\n",
    "        if len(arr) < buff:\n",
    "            continue\n",
    "        candidates.extend(arr)\n",
    "        arr.clear()\n",
    "        candidates = heapq.nlargest(count, candidates)\n",
    "    candidates.extend(arr)\n",
    "    return heapq.nlargest(count, candidates)"
   ]
  },
  {
   "cell_type": "code",
   "execution_count": 20,
   "id": "d27a61a0-9267-4089-ae1e-a0392b8614fb",
   "metadata": {},
   "outputs": [],
   "source": [
    "def largest_nocopy(count, elems):\n",
    "    elems = clear_cache(elems)\n",
    "    buff_size = count\n",
    "    \n",
    "    candidates = elems[:count + buff_size]\n",
    "    candidates.sort(reverse=True)\n",
    "    can_ix = count\n",
    "    cur_cmp = candidates[count - 1]\n",
    "    for cur_ix in range(count + buff_size, len(elems)):\n",
    "        cur = elems[cur_ix]\n",
    "        if cur <= cur_cmp:\n",
    "            continue\n",
    "        candidates[can_ix] = cur\n",
    "        can_ix += 1\n",
    "        if can_ix < len(candidates):\n",
    "            continue\n",
    "        can_ix = count\n",
    "        candidates.sort(reverse=True)\n",
    "        cur_cmp = candidates[count - 1]\n",
    "    if can_ix > count:\n",
    "        candidates = candidates[:can_ix]\n",
    "        candidates.sort(reverse=True)\n",
    "    return candidates[:count]"
   ]
  },
  {
   "cell_type": "code",
   "execution_count": 21,
   "id": "d6eae370-ba84-4c0d-8866-01704eeb657a",
   "metadata": {},
   "outputs": [],
   "source": [
    "def largest_bisect_2(count, elems):\n",
    "    elems = clear_cache(elems)\n",
    "    \n",
    "    candidates = collections.deque(sorted(elems[:count]), maxlen=count)\n",
    "    cur_cmp = candidates[0]\n",
    "    for cur_ix in range(count, len(elems)):\n",
    "        cur = elems[cur_ix]\n",
    "        if cur <= cur_cmp:\n",
    "            continue\n",
    "        pos = bisect.bisect_left(candidates, cur)\n",
    "        if pos == 0:\n",
    "            continue\n",
    "        candidates.popleft()\n",
    "        candidates.insert(pos - 1, cur)\n",
    "        cur_cmp = candidates[0]\n",
    "    return list(candidates)[::-1]"
   ]
  },
  {
   "cell_type": "code",
   "execution_count": 22,
   "id": "c099792d-d683-4656-9855-252915049561",
   "metadata": {},
   "outputs": [],
   "source": [
    "# time"
   ]
  },
  {
   "cell_type": "code",
   "execution_count": 23,
   "id": "9bfa7913-61d7-4b25-ae75-d967a91c26ab",
   "metadata": {},
   "outputs": [
    {
     "name": "stdout",
     "output_type": "stream",
     "text": [
      "CPU times: user 233 ms, sys: 4.91 ms, total: 238 ms\n",
      "Wall time: 240 ms\n"
     ]
    },
    {
     "data": {
      "text/plain": [
       "[392627[223.7050323486328],\n",
       " 299264[223.30430603027344],\n",
       " 125886[222.54617309570312],\n",
       " 182242[222.53273010253906],\n",
       " 22261[222.20208740234375],\n",
       " 47451[221.66619873046875],\n",
       " 381434[221.57395935058594],\n",
       " 346655[221.5247802734375],\n",
       " 31258[221.4044189453125],\n",
       " 805[221.12020874023438]]"
      ]
     },
     "execution_count": 23,
     "metadata": {},
     "output_type": "execute_result"
    }
   ],
   "source": [
    "%%time\n",
    "\n",
    "largest_sort(10, elems)"
   ]
  },
  {
   "cell_type": "code",
   "execution_count": 24,
   "id": "c0b3d143-4049-4173-83f5-db13f5a60353",
   "metadata": {},
   "outputs": [
    {
     "name": "stdout",
     "output_type": "stream",
     "text": [
      "CPU times: user 237 ms, sys: 4.42 ms, total: 241 ms\n",
      "Wall time: 242 ms\n"
     ]
    },
    {
     "data": {
      "text/plain": [
       "[392627[223.7050323486328],\n",
       " 299264[223.30430603027344],\n",
       " 125886[222.54617309570312],\n",
       " 182242[222.53273010253906],\n",
       " 22261[222.20208740234375],\n",
       " 47451[221.66619873046875],\n",
       " 381434[221.57395935058594],\n",
       " 346655[221.5247802734375],\n",
       " 31258[221.4044189453125],\n",
       " 805[221.12020874023438]]"
      ]
     },
     "execution_count": 24,
     "metadata": {},
     "output_type": "execute_result"
    }
   ],
   "source": [
    "%%time\n",
    "\n",
    "largest_heap(10, elems)"
   ]
  },
  {
   "cell_type": "code",
   "execution_count": 25,
   "id": "83b414fd-53b2-4e3b-ad94-15e68f3d0809",
   "metadata": {},
   "outputs": [
    {
     "name": "stdout",
     "output_type": "stream",
     "text": [
      "CPU times: user 203 ms, sys: 2.7 ms, total: 206 ms\n",
      "Wall time: 206 ms\n"
     ]
    },
    {
     "data": {
      "text/plain": [
       "[392627[223.7050323486328],\n",
       " 299264[223.30430603027344],\n",
       " 125886[222.54617309570312],\n",
       " 182242[222.53273010253906],\n",
       " 22261[222.20208740234375],\n",
       " 47451[221.66619873046875],\n",
       " 381434[221.57395935058594],\n",
       " 346655[221.5247802734375],\n",
       " 31258[221.4044189453125],\n",
       " 805[221.12020874023438]]"
      ]
     },
     "execution_count": 25,
     "metadata": {},
     "output_type": "execute_result"
    }
   ],
   "source": [
    "%%time\n",
    "\n",
    "largest_bisect(10, elems)"
   ]
  },
  {
   "cell_type": "code",
   "execution_count": 26,
   "id": "ac5c082f-7038-4666-91c3-09a58c4619fa",
   "metadata": {},
   "outputs": [
    {
     "name": "stdout",
     "output_type": "stream",
     "text": [
      "CPU times: user 238 ms, sys: 4.37 ms, total: 242 ms\n",
      "Wall time: 244 ms\n"
     ]
    },
    {
     "data": {
      "text/plain": [
       "[392627[223.7050323486328],\n",
       " 299264[223.30430603027344],\n",
       " 125886[222.54617309570312],\n",
       " 182242[222.53273010253906],\n",
       " 22261[222.20208740234375],\n",
       " 47451[221.66619873046875],\n",
       " 381434[221.57395935058594],\n",
       " 346655[221.5247802734375],\n",
       " 31258[221.4044189453125],\n",
       " 805[221.12020874023438]]"
      ]
     },
     "execution_count": 26,
     "metadata": {},
     "output_type": "execute_result"
    }
   ],
   "source": [
    "%%time\n",
    "\n",
    "largest_bisect_replace(10, elems)"
   ]
  },
  {
   "cell_type": "code",
   "execution_count": 27,
   "id": "8f8ce8c4-8545-45e2-b65c-cde81e101830",
   "metadata": {},
   "outputs": [
    {
     "name": "stdout",
     "output_type": "stream",
     "text": [
      "CPU times: user 259 ms, sys: 2.89 ms, total: 262 ms\n",
      "Wall time: 262 ms\n"
     ]
    },
    {
     "data": {
      "text/plain": [
       "[392627[223.7050323486328],\n",
       " 299264[223.30430603027344],\n",
       " 125886[222.54617309570312],\n",
       " 182242[222.53273010253906],\n",
       " 22261[222.20208740234375],\n",
       " 47451[221.66619873046875],\n",
       " 381434[221.57395935058594],\n",
       " 346655[221.5247802734375],\n",
       " 31258[221.4044189453125],\n",
       " 805[221.12020874023438]]"
      ]
     },
     "execution_count": 27,
     "metadata": {},
     "output_type": "execute_result"
    }
   ],
   "source": [
    "%%time\n",
    "\n",
    "largest_recursive(10, elems)"
   ]
  },
  {
   "cell_type": "code",
   "execution_count": 28,
   "id": "d77336c8-337a-4dda-9e64-54129344b22c",
   "metadata": {},
   "outputs": [
    {
     "name": "stdout",
     "output_type": "stream",
     "text": [
      "CPU times: user 215 ms, sys: 3.47 ms, total: 219 ms\n",
      "Wall time: 219 ms\n"
     ]
    },
    {
     "data": {
      "text/plain": [
       "[392627[223.7050323486328],\n",
       " 299264[223.30430603027344],\n",
       " 125886[222.54617309570312],\n",
       " 182242[222.53273010253906],\n",
       " 22261[222.20208740234375],\n",
       " 47451[221.66619873046875],\n",
       " 381434[221.57395935058594],\n",
       " 346655[221.5247802734375],\n",
       " 31258[221.4044189453125],\n",
       " 805[221.12020874023438]]"
      ]
     },
     "execution_count": 28,
     "metadata": {},
     "output_type": "execute_result"
    }
   ],
   "source": [
    "%%time\n",
    "\n",
    "largest_fast(10, elems)"
   ]
  },
  {
   "cell_type": "code",
   "execution_count": 29,
   "id": "8a0fb54a-140a-4d97-be4e-870bf0f46410",
   "metadata": {},
   "outputs": [
    {
     "name": "stdout",
     "output_type": "stream",
     "text": [
      "CPU times: user 230 ms, sys: 4.14 ms, total: 234 ms\n",
      "Wall time: 234 ms\n"
     ]
    },
    {
     "data": {
      "text/plain": [
       "[392627[223.7050323486328],\n",
       " 299264[223.30430603027344],\n",
       " 125886[222.54617309570312],\n",
       " 182242[222.53273010253906],\n",
       " 22261[222.20208740234375],\n",
       " 47451[221.66619873046875],\n",
       " 381434[221.57395935058594],\n",
       " 346655[221.5247802734375],\n",
       " 31258[221.4044189453125],\n",
       " 805[221.12020874023438]]"
      ]
     },
     "execution_count": 29,
     "metadata": {},
     "output_type": "execute_result"
    }
   ],
   "source": [
    "%%time\n",
    "\n",
    "largest_spec(10, elems)"
   ]
  },
  {
   "cell_type": "code",
   "execution_count": 30,
   "id": "dec2de09-17cf-4cda-becf-cfbe99a1752c",
   "metadata": {},
   "outputs": [
    {
     "name": "stdout",
     "output_type": "stream",
     "text": [
      "CPU times: user 887 ms, sys: 8.8 ms, total: 896 ms\n",
      "Wall time: 898 ms\n"
     ]
    },
    {
     "data": {
      "text/plain": [
       "[392627[223.7050323486328],\n",
       " 299264[223.30430603027344],\n",
       " 125886[222.54617309570312],\n",
       " 182242[222.53273010253906],\n",
       " 22261[222.20208740234375],\n",
       " 47451[221.66619873046875],\n",
       " 381434[221.57395935058594],\n",
       " 346655[221.5247802734375],\n",
       " 31258[221.4044189453125],\n",
       " 805[221.12020874023438]]"
      ]
     },
     "execution_count": 30,
     "metadata": {},
     "output_type": "execute_result"
    }
   ],
   "source": [
    "%%time\n",
    "\n",
    "largest_manual(10, elems)"
   ]
  },
  {
   "cell_type": "code",
   "execution_count": 31,
   "id": "1dc121b3-740a-4b7d-9fb2-8534fe10e0cb",
   "metadata": {},
   "outputs": [
    {
     "name": "stdout",
     "output_type": "stream",
     "text": [
      "CPU times: user 247 ms, sys: 4.97 ms, total: 252 ms\n",
      "Wall time: 253 ms\n"
     ]
    },
    {
     "data": {
      "text/plain": [
       "[392627[223.7050323486328],\n",
       " 299264[223.30430603027344],\n",
       " 125886[222.54617309570312],\n",
       " 182242[222.53273010253906],\n",
       " 22261[222.20208740234375],\n",
       " 47451[221.66619873046875],\n",
       " 381434[221.57395935058594],\n",
       " 346655[221.5247802734375],\n",
       " 31258[221.4044189453125],\n",
       " 805[221.12020874023438]]"
      ]
     },
     "execution_count": 31,
     "metadata": {},
     "output_type": "execute_result"
    }
   ],
   "source": [
    "%%time\n",
    "\n",
    "largest_sort_all(10, elems)"
   ]
  },
  {
   "cell_type": "code",
   "execution_count": 32,
   "id": "e991a0df-2eae-47dd-a0e6-7029619c8ad7",
   "metadata": {},
   "outputs": [
    {
     "name": "stdout",
     "output_type": "stream",
     "text": [
      "CPU times: user 224 ms, sys: 3.23 ms, total: 227 ms\n",
      "Wall time: 227 ms\n"
     ]
    },
    {
     "data": {
      "text/plain": [
       "[392627[223.7050323486328],\n",
       " 299264[223.30430603027344],\n",
       " 125886[222.54617309570312],\n",
       " 182242[222.53273010253906],\n",
       " 22261[222.20208740234375],\n",
       " 47451[221.66619873046875],\n",
       " 381434[221.57395935058594],\n",
       " 346655[221.5247802734375],\n",
       " 31258[221.4044189453125],\n",
       " 805[221.12020874023438]]"
      ]
     },
     "execution_count": 32,
     "metadata": {},
     "output_type": "execute_result"
    }
   ],
   "source": [
    "%%time\n",
    "\n",
    "largest_fast_swap(10, elems, use_manual=False)"
   ]
  },
  {
   "cell_type": "code",
   "execution_count": 33,
   "id": "b0b8e2a8-aa2e-471d-a077-b9fe671f4238",
   "metadata": {},
   "outputs": [
    {
     "name": "stdout",
     "output_type": "stream",
     "text": [
      "CPU times: user 229 ms, sys: 3.09 ms, total: 232 ms\n",
      "Wall time: 232 ms\n"
     ]
    },
    {
     "data": {
      "text/plain": [
       "[392627[223.7050323486328],\n",
       " 299264[223.30430603027344],\n",
       " 125886[222.54617309570312],\n",
       " 182242[222.53273010253906],\n",
       " 22261[222.20208740234375],\n",
       " 47451[221.66619873046875],\n",
       " 381434[221.57395935058594],\n",
       " 346655[221.5247802734375],\n",
       " 31258[221.4044189453125],\n",
       " 805[221.12020874023438]]"
      ]
     },
     "execution_count": 33,
     "metadata": {},
     "output_type": "execute_result"
    }
   ],
   "source": [
    "%%time\n",
    "\n",
    "largest_fast_swap(10, elems, use_manual=True)"
   ]
  },
  {
   "cell_type": "code",
   "execution_count": 34,
   "id": "2aa6ee16-f580-45b1-ad70-c5beef4a7bd7",
   "metadata": {},
   "outputs": [
    {
     "name": "stdout",
     "output_type": "stream",
     "text": [
      "CPU times: user 223 ms, sys: 5.48 ms, total: 228 ms\n",
      "Wall time: 233 ms\n"
     ]
    },
    {
     "data": {
      "text/plain": [
       "[392627[223.7050323486328],\n",
       " 299264[223.30430603027344],\n",
       " 125886[222.54617309570312],\n",
       " 182242[222.53273010253906],\n",
       " 22261[222.20208740234375],\n",
       " 47451[221.66619873046875],\n",
       " 381434[221.57395935058594],\n",
       " 346655[221.5247802734375],\n",
       " 31258[221.4044189453125],\n",
       " 805[221.12020874023438]]"
      ]
     },
     "execution_count": 34,
     "metadata": {},
     "output_type": "execute_result"
    }
   ],
   "source": [
    "%%time\n",
    "\n",
    "largest_heapq(10, elems)"
   ]
  },
  {
   "cell_type": "code",
   "execution_count": 35,
   "id": "d9e7436d-01b9-4857-8781-42836e8d852e",
   "metadata": {},
   "outputs": [
    {
     "name": "stdout",
     "output_type": "stream",
     "text": [
      "CPU times: user 221 ms, sys: 4.67 ms, total: 226 ms\n",
      "Wall time: 230 ms\n"
     ]
    },
    {
     "data": {
      "text/plain": [
       "[392627[223.7050323486328],\n",
       " 299264[223.30430603027344],\n",
       " 125886[222.54617309570312],\n",
       " 182242[222.53273010253906],\n",
       " 22261[222.20208740234375],\n",
       " 47451[221.66619873046875],\n",
       " 381434[221.57395935058594],\n",
       " 346655[221.5247802734375],\n",
       " 31258[221.4044189453125],\n",
       " 805[221.12020874023438]]"
      ]
     },
     "execution_count": 35,
     "metadata": {},
     "output_type": "execute_result"
    }
   ],
   "source": [
    "%%time\n",
    "\n",
    "largest_loop_heapq(10, elems)"
   ]
  },
  {
   "cell_type": "code",
   "execution_count": 36,
   "id": "9a42a175-142a-4c19-bba5-67bedb532ff6",
   "metadata": {},
   "outputs": [
    {
     "name": "stdout",
     "output_type": "stream",
     "text": [
      "CPU times: user 244 ms, sys: 3.39 ms, total: 247 ms\n",
      "Wall time: 247 ms\n"
     ]
    },
    {
     "data": {
      "text/plain": [
       "[392627[223.7050323486328],\n",
       " 299264[223.30430603027344],\n",
       " 125886[222.54617309570312],\n",
       " 182242[222.53273010253906],\n",
       " 22261[222.20208740234375],\n",
       " 47451[221.66619873046875],\n",
       " 381434[221.57395935058594],\n",
       " 346655[221.5247802734375],\n",
       " 31258[221.4044189453125],\n",
       " 805[221.12020874023438]]"
      ]
     },
     "execution_count": 36,
     "metadata": {},
     "output_type": "execute_result"
    }
   ],
   "source": [
    "%%time\n",
    "\n",
    "largest_nocopy(10, elems)"
   ]
  },
  {
   "cell_type": "code",
   "execution_count": 37,
   "id": "13ca2d52-2ace-4c20-9cf9-d22676f06406",
   "metadata": {},
   "outputs": [
    {
     "name": "stdout",
     "output_type": "stream",
     "text": [
      "CPU times: user 237 ms, sys: 2.42 ms, total: 239 ms\n",
      "Wall time: 239 ms\n"
     ]
    },
    {
     "data": {
      "text/plain": [
       "[392627[223.7050323486328],\n",
       " 299264[223.30430603027344],\n",
       " 125886[222.54617309570312],\n",
       " 182242[222.53273010253906],\n",
       " 22261[222.20208740234375],\n",
       " 47451[221.66619873046875],\n",
       " 381434[221.57395935058594],\n",
       " 346655[221.5247802734375],\n",
       " 31258[221.4044189453125],\n",
       " 805[221.12020874023438]]"
      ]
     },
     "execution_count": 37,
     "metadata": {},
     "output_type": "execute_result"
    }
   ],
   "source": [
    "%%time\n",
    "\n",
    "largest_bisect_2(10, elems)"
   ]
  },
  {
   "cell_type": "code",
   "execution_count": 38,
   "id": "1f3adb69-a802-4814-92ec-96d60ba03aa2",
   "metadata": {},
   "outputs": [],
   "source": [
    "# timeit"
   ]
  },
  {
   "cell_type": "code",
   "execution_count": 39,
   "id": "4bf08070-d10d-4818-97ec-1cfe376ffac8",
   "metadata": {},
   "outputs": [
    {
     "name": "stdout",
     "output_type": "stream",
     "text": [
      "214 ms ± 11.1 ms per loop (mean ± std. dev. of 7 runs, 1 loop each)\n"
     ]
    }
   ],
   "source": [
    "%%timeit\n",
    "\n",
    "largest_sort(10, elems)"
   ]
  },
  {
   "cell_type": "code",
   "execution_count": 40,
   "id": "534c7315-9393-41a8-878a-9eba340dd55d",
   "metadata": {},
   "outputs": [
    {
     "name": "stdout",
     "output_type": "stream",
     "text": [
      "232 ms ± 9.17 ms per loop (mean ± std. dev. of 7 runs, 1 loop each)\n"
     ]
    }
   ],
   "source": [
    "%%timeit\n",
    "\n",
    "largest_heap(10, elems)"
   ]
  },
  {
   "cell_type": "code",
   "execution_count": 41,
   "id": "d210734f-a3fe-4f1d-aa47-c6da8a630a6f",
   "metadata": {},
   "outputs": [
    {
     "name": "stdout",
     "output_type": "stream",
     "text": [
      "189 ms ± 11.9 ms per loop (mean ± std. dev. of 7 runs, 10 loops each)\n"
     ]
    }
   ],
   "source": [
    "%%timeit\n",
    "\n",
    "largest_bisect(10, elems)"
   ]
  },
  {
   "cell_type": "code",
   "execution_count": 42,
   "id": "99517667-a321-4c49-8cbd-7c870799bd16",
   "metadata": {},
   "outputs": [
    {
     "name": "stdout",
     "output_type": "stream",
     "text": [
      "214 ms ± 2.2 ms per loop (mean ± std. dev. of 7 runs, 1 loop each)\n"
     ]
    }
   ],
   "source": [
    "%%timeit\n",
    "\n",
    "largest_bisect_replace(10, elems)"
   ]
  },
  {
   "cell_type": "code",
   "execution_count": 43,
   "id": "4559814b-58bd-45b6-ac5d-1bc839f20ab8",
   "metadata": {},
   "outputs": [
    {
     "name": "stdout",
     "output_type": "stream",
     "text": [
      "259 ms ± 9 ms per loop (mean ± std. dev. of 7 runs, 1 loop each)\n"
     ]
    }
   ],
   "source": [
    "%%timeit\n",
    "\n",
    "largest_recursive(10, elems)"
   ]
  },
  {
   "cell_type": "code",
   "execution_count": 44,
   "id": "5821e8c7-b111-4629-a731-f65180410a06",
   "metadata": {},
   "outputs": [
    {
     "name": "stdout",
     "output_type": "stream",
     "text": [
      "211 ms ± 5.59 ms per loop (mean ± std. dev. of 7 runs, 1 loop each)\n"
     ]
    }
   ],
   "source": [
    "%%timeit\n",
    "\n",
    "largest_fast(10, elems)"
   ]
  },
  {
   "cell_type": "code",
   "execution_count": 45,
   "id": "093a1041-a426-4155-bf97-0d393fa10b60",
   "metadata": {},
   "outputs": [
    {
     "name": "stdout",
     "output_type": "stream",
     "text": [
      "210 ms ± 2.08 ms per loop (mean ± std. dev. of 7 runs, 1 loop each)\n"
     ]
    }
   ],
   "source": [
    "%%timeit\n",
    "\n",
    "largest_spec(10, elems)"
   ]
  },
  {
   "cell_type": "code",
   "execution_count": 46,
   "id": "154a485b-6fa8-4f5c-8adc-f3e59be0d13b",
   "metadata": {},
   "outputs": [
    {
     "name": "stdout",
     "output_type": "stream",
     "text": [
      "861 ms ± 5.05 ms per loop (mean ± std. dev. of 7 runs, 1 loop each)\n"
     ]
    }
   ],
   "source": [
    "%%timeit\n",
    "\n",
    "largest_manual(10, elems)"
   ]
  },
  {
   "cell_type": "code",
   "execution_count": 47,
   "id": "8ed75a42-f659-4ef1-ba47-58165545560f",
   "metadata": {},
   "outputs": [
    {
     "name": "stdout",
     "output_type": "stream",
     "text": [
      "226 ms ± 5.25 ms per loop (mean ± std. dev. of 7 runs, 1 loop each)\n"
     ]
    }
   ],
   "source": [
    "%%timeit\n",
    "\n",
    "largest_sort_all(10, elems)"
   ]
  },
  {
   "cell_type": "code",
   "execution_count": 48,
   "id": "87cf8da3-aedd-467b-9566-1b76dcd8ec2a",
   "metadata": {},
   "outputs": [
    {
     "name": "stdout",
     "output_type": "stream",
     "text": [
      "214 ms ± 2.55 ms per loop (mean ± std. dev. of 7 runs, 1 loop each)\n"
     ]
    }
   ],
   "source": [
    "%%timeit\n",
    "\n",
    "largest_fast_swap(10, elems, use_manual=False)"
   ]
  },
  {
   "cell_type": "code",
   "execution_count": 49,
   "id": "40efa940-fd44-4093-900e-7fb566b6296b",
   "metadata": {},
   "outputs": [
    {
     "name": "stdout",
     "output_type": "stream",
     "text": [
      "236 ms ± 34.1 ms per loop (mean ± std. dev. of 7 runs, 1 loop each)\n"
     ]
    }
   ],
   "source": [
    "%%timeit\n",
    "\n",
    "largest_fast_swap(10, elems, use_manual=True)"
   ]
  },
  {
   "cell_type": "code",
   "execution_count": 50,
   "id": "2e75b000-2a8c-499d-961d-b2f4fabeadc9",
   "metadata": {},
   "outputs": [
    {
     "name": "stdout",
     "output_type": "stream",
     "text": [
      "208 ms ± 12 ms per loop (mean ± std. dev. of 7 runs, 1 loop each)\n"
     ]
    }
   ],
   "source": [
    "%%timeit\n",
    "\n",
    "largest_heapq(10, elems)"
   ]
  },
  {
   "cell_type": "code",
   "execution_count": 51,
   "id": "6dd496b4-4703-496c-9b08-134f70086607",
   "metadata": {},
   "outputs": [
    {
     "name": "stdout",
     "output_type": "stream",
     "text": [
      "205 ms ± 4.39 ms per loop (mean ± std. dev. of 7 runs, 1 loop each)\n"
     ]
    }
   ],
   "source": [
    "%%timeit\n",
    "\n",
    "largest_loop_heapq(10, elems)"
   ]
  },
  {
   "cell_type": "code",
   "execution_count": 52,
   "id": "a836238e-5989-4a5c-987a-212adf6c9899",
   "metadata": {},
   "outputs": [
    {
     "name": "stdout",
     "output_type": "stream",
     "text": [
      "235 ms ± 2.03 ms per loop (mean ± std. dev. of 7 runs, 1 loop each)\n"
     ]
    }
   ],
   "source": [
    "%%timeit\n",
    "\n",
    "largest_nocopy(10, elems)"
   ]
  },
  {
   "cell_type": "code",
   "execution_count": 53,
   "id": "eec29e4b-9aa0-4148-a391-11908b7b848f",
   "metadata": {},
   "outputs": [
    {
     "name": "stdout",
     "output_type": "stream",
     "text": [
      "235 ms ± 1.75 ms per loop (mean ± std. dev. of 7 runs, 1 loop each)\n"
     ]
    }
   ],
   "source": [
    "%%timeit\n",
    "\n",
    "largest_bisect_2(10, elems)"
   ]
  },
  {
   "cell_type": "code",
   "execution_count": 54,
   "id": "fa8f5487-7523-476f-819a-0af49bd11909",
   "metadata": {},
   "outputs": [],
   "source": [
    "# along = torch.rand(size=(1000000, 768))\n",
    "# olong = torch.rand(size=(768,))\n",
    "# elong = [Element(along, ix, olong) for ix in range(along.shape[0])]\n",
    "# elong = clear_cache(elong)"
   ]
  },
  {
   "cell_type": "code",
   "execution_count": 55,
   "id": "cb38c7ba-3e61-4f58-b3d7-c99650dacf2a",
   "metadata": {},
   "outputs": [],
   "source": [
    "# %%time\n",
    "\n",
    "# largest_heapq(10, elong)"
   ]
  },
  {
   "cell_type": "code",
   "execution_count": 56,
   "id": "8348d636-0243-4122-8dd5-517804bda163",
   "metadata": {},
   "outputs": [],
   "source": [
    "# %%time\n",
    "\n",
    "# largest_heapq(50, elong)"
   ]
  },
  {
   "cell_type": "code",
   "execution_count": null,
   "id": "48b47aaa-76ba-4181-8cdc-fe82a7079528",
   "metadata": {},
   "outputs": [],
   "source": []
  }
 ],
 "metadata": {
  "kernelspec": {
   "display_name": "Python 3 (ipykernel)",
   "language": "python",
   "name": "python3"
  },
  "language_info": {
   "codemirror_mode": {
    "name": "ipython",
    "version": 3
   },
   "file_extension": ".py",
   "mimetype": "text/x-python",
   "name": "python",
   "nbconvert_exporter": "python",
   "pygments_lexer": "ipython3",
   "version": "3.10.6"
  }
 },
 "nbformat": 4,
 "nbformat_minor": 5
}

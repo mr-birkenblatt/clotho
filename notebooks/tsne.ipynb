{
 "cells": [
  {
   "cell_type": "code",
   "execution_count": 1,
   "id": "3adb50c3-1641-4779-92b3-fe4b2a9d9e64",
   "metadata": {},
   "outputs": [],
   "source": [
    "import os\n",
    "import sys\n",
    "import json\n",
    "import pandas as pd\n",
    "import numpy as np\n",
    "import torch\n",
    "from typing import Literal, TypedDict"
   ]
  },
  {
   "cell_type": "code",
   "execution_count": 2,
   "id": "a2ee183a-4eb8-4dba-8776-a0811d2305a0",
   "metadata": {},
   "outputs": [],
   "source": [
    "sys.path.append(\"..\")\n",
    "os.environ[\"USER_PATH\"] = \"../userdata/\""
   ]
  },
  {
   "cell_type": "code",
   "execution_count": 3,
   "id": "95d542a0-4e1d-4ed8-a873-a897ea8e78b2",
   "metadata": {},
   "outputs": [],
   "source": [
    "from system.namespace.store import get_namespace"
   ]
  },
  {
   "cell_type": "code",
   "execution_count": 4,
   "id": "e1146da3-9e67-4d6d-bc94-2a24db6297a3",
   "metadata": {},
   "outputs": [],
   "source": [
    "namespace = get_namespace(\"train_db\")"
   ]
  },
  {
   "cell_type": "code",
   "execution_count": 5,
   "id": "aae62dbd-93ff-4306-b7ed-4967daac1103",
   "metadata": {},
   "outputs": [],
   "source": [
    "from system.embedding.store import get_embed_store\n",
    "from misc.lru import LRU"
   ]
  },
  {
   "cell_type": "code",
   "execution_count": 6,
   "id": "8d55c490-acc0-41d9-b96a-00954cb1cc4f",
   "metadata": {},
   "outputs": [],
   "source": [
    "embeds = get_embed_store(namespace)"
   ]
  },
  {
   "cell_type": "code",
   "execution_count": 7,
   "id": "7a7d54b3-9d38-427a-a30b-089626b2cfd8",
   "metadata": {},
   "outputs": [],
   "source": [
    "role_c = \"child\"\n",
    "role_p = \"parent\""
   ]
  },
  {
   "cell_type": "code",
   "execution_count": 8,
   "id": "b9db8d56-388a-49ca-909a-737b11a527ba",
   "metadata": {},
   "outputs": [
    {
     "data": {
      "text/plain": [
       "689414"
      ]
     },
     "execution_count": 8,
     "metadata": {},
     "output_type": "execute_result"
    }
   ],
   "source": [
    "total_c = embeds.get_embedding_count(role_c)\n",
    "total_c"
   ]
  },
  {
   "cell_type": "code",
   "execution_count": 9,
   "id": "8b71e04d-d806-4e89-bceb-d2e5bccb0ffb",
   "metadata": {},
   "outputs": [
    {
     "data": {
      "text/plain": [
       "689414"
      ]
     },
     "execution_count": 9,
     "metadata": {},
     "output_type": "execute_result"
    }
   ],
   "source": [
    "total_p = embeds.get_embedding_count(role_p)\n",
    "total_p"
   ]
  },
  {
   "cell_type": "code",
   "execution_count": 10,
   "id": "41465fc8-1012-46a4-9438-2fd4b910faf2",
   "metadata": {},
   "outputs": [],
   "source": [
    "from sklearn.manifold import TSNE"
   ]
  },
  {
   "cell_type": "code",
   "execution_count": 11,
   "id": "cfa7ddf6-0d08-4c2d-ada9-4c27fc238106",
   "metadata": {},
   "outputs": [
    {
     "data": {
      "application/vnd.jupyter.widget-view+json": {
       "model_id": "b0f8fdd00c6548f28673a920d507a497",
       "version_major": 2,
       "version_minor": 0
      },
      "text/plain": [
       "  0%|          | 0/689414 [00:00<?, ?it/s]"
      ]
     },
     "metadata": {},
     "output_type": "display_data"
    },
    {
     "data": {
      "application/vnd.jupyter.widget-view+json": {
       "model_id": "cc80cbae29784338866ffca566245ef1",
       "version_major": 2,
       "version_minor": 0
      },
      "text/plain": [
       "  0%|          | 0/689414 [00:00<?, ?it/s]"
      ]
     },
     "metadata": {},
     "output_type": "display_data"
    },
    {
     "name": "stdout",
     "output_type": "stream",
     "text": [
      "CPU times: user 3min 30s, sys: 43.9 s, total: 4min 14s\n",
      "Wall time: 8min 33s\n"
     ]
    },
    {
     "data": {
      "text/plain": [
       "(1378828, 768)"
      ]
     },
     "execution_count": 11,
     "metadata": {},
     "output_type": "execute_result"
    }
   ],
   "source": [
    "%%time\n",
    "\n",
    "x_0 = np.vstack([\n",
    "    embed[1].ravel().detach().numpy()\n",
    "    for embed in embeds.get_all_embeddings(role_c, progress_bar=True)\n",
    "])\n",
    "y_0 = x_0.shape[0]\n",
    "x_1 = np.vstack([\n",
    "    embed[1].ravel().detach().numpy()\n",
    "    for embed in embeds.get_all_embeddings(role_p, progress_bar=True)\n",
    "])\n",
    "y_1 = x_1.shape[0]\n",
    "y = [\n",
    "    \"tab:blue\" for _ in range(y_0)\n",
    "] + [\n",
    "    \"tab:orange\" for _ in range(y_1)\n",
    "]\n",
    "x = np.vstack([x_0, x_1])\n",
    "x.shape"
   ]
  },
  {
   "cell_type": "code",
   "execution_count": 12,
   "id": "d4f5dc8f-6d66-4dbe-bb3c-1ac6088ee6e3",
   "metadata": {},
   "outputs": [
    {
     "data": {
      "text/plain": [
       "array([[-0.06251884,  0.06813351,  0.25403288, ...,  0.13894862,\n",
       "        -0.40365079, -0.04747996],\n",
       "       [-0.0618586 ,  0.06744971,  0.23952982, ...,  0.14076276,\n",
       "        -0.40367034, -0.04754893]])"
      ]
     },
     "execution_count": 12,
     "metadata": {},
     "output_type": "execute_result"
    }
   ],
   "source": [
    "x[:2, :]"
   ]
  },
  {
   "cell_type": "code",
   "execution_count": 13,
   "id": "d5b5c577-4fd4-4b32-9f47-f8f095388e3d",
   "metadata": {},
   "outputs": [],
   "source": [
    "def angle_color(xs, ys):\n",
    "    dx = xs[1] - xs[0]\n",
    "    sq_length = (xs[1] - xs[0])**2 + (ys[1] - ys[0])**2\n",
    "    if np.isclose(sq_length, 0.0):\n",
    "        res = 0.0\n",
    "    else:\n",
    "        dxnorm = dx / np.sqrt(sq_length)\n",
    "        res = np.rad2deg(np.arccos(dxnorm))\n",
    "        if ys[1] > ys[0]:\n",
    "            res = 360.0 - res\n",
    "        res /= 360.0\n",
    "    return hsv_to_rgb([res, 0.8, 0.8])"
   ]
  },
  {
   "cell_type": "code",
   "execution_count": 14,
   "id": "d0b8ceee-00c1-4700-ad80-99a45e5bf274",
   "metadata": {},
   "outputs": [],
   "source": [
    "def sigmoid(x):  \n",
    "    return np.exp(-np.logaddexp(0, -x))\n",
    "\n",
    "def distance(a, b):\n",
    "    return np.log1p(np.exp(-np.dot(a, b)))\n",
    "    # return 1.0 - sigmoid(np.dot(a, b))"
   ]
  },
  {
   "cell_type": "code",
   "execution_count": 15,
   "id": "faa3e2ed-0a06-49a1-a190-b7749b62f102",
   "metadata": {},
   "outputs": [],
   "source": [
    "force_recompute = False\n",
    "outfile = \"tsne2.pq\""
   ]
  },
  {
   "cell_type": "code",
   "execution_count": null,
   "id": "dfcaafc5-6fa9-472d-a286-690903bebacc",
   "metadata": {
    "tags": []
   },
   "outputs": [],
   "source": [
    "%%time\n",
    "\n",
    "if force_recompute or not os.path.exists(outfile):\n",
    "    x_embedded = TSNE(\n",
    "        n_components=2,\n",
    "        learning_rate=\"auto\",\n",
    "        init=\"random\",\n",
    "        # perplexity=10,\n",
    "        method=\"barnes_hut\",\n",
    "        random_state=42,\n",
    "        metric=distance,\n",
    "        n_jobs=-1).fit_transform(x)\n",
    "    df = pd.DataFrame({\"x\": x_embedded[:, 0], \"y\": x_embedded[:, 1], \"l\": y})\n",
    "    df.to_parquet(outfile)\n",
    "    display(x_embedded.shape)\n",
    "    display(df.head())\n",
    "else:\n",
    "    df = pd.read_parquet(outfile)\n",
    "    display(df.head())"
   ]
  },
  {
   "cell_type": "code",
   "execution_count": null,
   "id": "226cd8c2-5ebe-4d5a-96ae-79f53f8d5b10",
   "metadata": {},
   "outputs": [],
   "source": [
    "import matplotlib.pyplot as plt\n",
    "from matplotlib.lines import Line2D\n",
    "from matplotlib.colors import hsv_to_rgb"
   ]
  },
  {
   "cell_type": "code",
   "execution_count": null,
   "id": "b0590044-345e-4d94-8727-0660b4cc0bfa",
   "metadata": {},
   "outputs": [],
   "source": [
    "# tmp_count = 100\n",
    "# tmp = df.copy().iloc[list(range(tmp_count)) + list(range(total_c, total_c + tmp_count)), :]\n",
    "# tmp.shape\n",
    "tmp_count = total_c\n",
    "tmp = df.copy()\n",
    "tmp.shape"
   ]
  },
  {
   "cell_type": "code",
   "execution_count": null,
   "id": "4376238d-db12-4366-8fa2-4ae27cc49b07",
   "metadata": {},
   "outputs": [],
   "source": [
    "fig, (ax_left, ax_right) = plt.subplots(nrows=1, ncols=2, figsize=(30, 10))\n",
    "tmp.plot.scatter(\n",
    "    x=\"x\",\n",
    "    y=\"y\",\n",
    "    s=0.05,\n",
    "    c=\"l\",\n",
    "    alpha=0.1,\n",
    "    xlabel=\"\",\n",
    "    ylabel=\"\",\n",
    "    ax=ax_left)\n",
    "tmp.plot.scatter(\n",
    "    x=\"x\",\n",
    "    y=\"y\",\n",
    "    s=0.05,\n",
    "    c=\"l\",\n",
    "    alpha=0.0,\n",
    "    xlabel=\"\",\n",
    "    ylabel=\"\",\n",
    "    ax=ax_right)\n",
    "for ix in range(tmp_count):\n",
    "    xs = (tmp[\"x\"].iloc[ix], tmp[\"x\"].iloc[ix + tmp_count])\n",
    "    ys = (tmp[\"y\"].iloc[ix], tmp[\"y\"].iloc[ix + tmp_count])\n",
    "    ax_right.add_line(Line2D(\n",
    "        xs,\n",
    "        ys,\n",
    "        alpha=0.05,\n",
    "        lw=0.05,\n",
    "        c=angle_color(xs, ys)))\n",
    "plt.savefig(\"full_log1pexpneg.png\", bbox_inches=\"tight\")\n",
    "plt.show()"
   ]
  },
  {
   "cell_type": "code",
   "execution_count": null,
   "id": "d17fa9d8-7991-40fc-aeda-c53cf5f3e4d0",
   "metadata": {},
   "outputs": [],
   "source": [
    "tmp.iloc[:tmp_count, :].plot.scatter(\n",
    "    x=\"x\",\n",
    "    y=\"y\",\n",
    "    s=0.05,\n",
    "    c=\"l\",\n",
    "    alpha=0.1,\n",
    "    xlabel=\"\",\n",
    "    ylabel=\"\")\n",
    "plt.savefig(\"child_log1pexpneg.png\", bbox_inches=\"tight\")\n",
    "plt.show()"
   ]
  },
  {
   "cell_type": "code",
   "execution_count": null,
   "id": "24e45f68-aec2-4864-bf9e-61dfbba43378",
   "metadata": {},
   "outputs": [],
   "source": [
    "tmp.iloc[tmp_count:, :].plot.scatter(\n",
    "    x=\"x\",\n",
    "    y=\"y\",\n",
    "    s=0.05,\n",
    "    c=\"l\",\n",
    "    alpha=0.1,\n",
    "    xlabel=\"\",\n",
    "    ylabel=\"\")\n",
    "plt.savefig(\"parent_log1pexpneg.png\", bbox_inches=\"tight\")\n",
    "plt.show()"
   ]
  },
  {
   "cell_type": "code",
   "execution_count": null,
   "id": "c52abaab-9d83-4694-8662-9d2ff3868645",
   "metadata": {
    "tags": []
   },
   "outputs": [],
   "source": [
    "# k * n log(n) = t\n",
    "total_time = ((11 * 60.0) + 50 * 60) + 3\n",
    "k = total_time / (total_c * np.log(total_c))\n",
    "new_size = 10000\n",
    "k * new_size * np.log(new_size)"
   ]
  },
  {
   "cell_type": "code",
   "execution_count": null,
   "id": "27028287-b467-45dd-9f57-e6a7d6a48eb9",
   "metadata": {
    "tags": []
   },
   "outputs": [],
   "source": [
    "tt_count = 5000\n",
    "tt = x[list(range(tt_count)) + list(range(total_c, total_c + tt_count)), :]\n",
    "tt_y = [\n",
    "    \"tab:blue\" for _ in range(tt_count)\n",
    "] + [\n",
    "    \"tab:orange\" for _ in range(tt_count)\n",
    "]\n",
    "tt.shape"
   ]
  },
  {
   "cell_type": "code",
   "execution_count": null,
   "id": "97127d45-db14-4f7c-84fd-9559d368d421",
   "metadata": {
    "tags": []
   },
   "outputs": [],
   "source": [
    "%%time\n",
    "\n",
    "tt_embedded = TSNE(\n",
    "    n_components=2,\n",
    "    learning_rate=\"auto\",\n",
    "    init=\"random\",\n",
    "    perplexity=10,\n",
    "    method=\"barnes_hut\",\n",
    "    random_state=42,\n",
    "    # metric=\"cosine\",\n",
    "    n_jobs=-1).fit_transform(tt)"
   ]
  },
  {
   "cell_type": "code",
   "execution_count": null,
   "id": "88967115-5d7c-48f7-9b37-36b337dcfb72",
   "metadata": {
    "tags": []
   },
   "outputs": [],
   "source": [
    "t_df = pd.DataFrame({\"x\": tt_embedded[:, 0], \"y\": tt_embedded[:, 1], \"l\": tt_y})\n",
    "t_df.head()"
   ]
  },
  {
   "cell_type": "code",
   "execution_count": null,
   "id": "0ad18e06-f098-4dbc-b403-fe73672a7423",
   "metadata": {
    "tags": []
   },
   "outputs": [],
   "source": [
    "fig, (ax_left, ax_right) = plt.subplots(nrows=1, ncols=2, figsize=(30, 10))\n",
    "t_df.plot.scatter(\n",
    "    x=\"x\",\n",
    "    y=\"y\",\n",
    "    s=0.05,\n",
    "    c=\"l\",\n",
    "    # alpha=0.1,\n",
    "    xlabel=\"\",\n",
    "    ylabel=\"\",\n",
    "    ax=ax_left)\n",
    "t_df.plot.scatter(\n",
    "    x=\"x\",\n",
    "    y=\"y\",\n",
    "    s=0.05,\n",
    "    c=\"l\",\n",
    "    alpha=0,\n",
    "    xlabel=\"\",\n",
    "    ylabel=\"\",\n",
    "    ax=ax_right)\n",
    "for ix in range(tt_count):\n",
    "    xs = (t_df[\"x\"].iloc[ix], t_df[\"x\"].iloc[ix + tt_count])\n",
    "    ys = (t_df[\"y\"].iloc[ix], t_df[\"y\"].iloc[ix + tt_count])\n",
    "    ax_right.add_line(Line2D(\n",
    "        xs,\n",
    "        ys,\n",
    "        # alpha=0.05,\n",
    "        lw=0.05,\n",
    "        c=angle_color(xs, ys)))\n",
    "plt.savefig(\"subset_euclid.png\", bbox_inches=\"tight\")\n",
    "plt.show()"
   ]
  },
  {
   "cell_type": "code",
   "execution_count": null,
   "id": "f1dffc2c-378d-452f-93c1-1985432c0bfe",
   "metadata": {},
   "outputs": [],
   "source": []
  }
 ],
 "metadata": {
  "kernelspec": {
   "display_name": "Python 3 (ipykernel)",
   "language": "python",
   "name": "python3"
  },
  "language_info": {
   "codemirror_mode": {
    "name": "ipython",
    "version": 3
   },
   "file_extension": ".py",
   "mimetype": "text/x-python",
   "name": "python",
   "nbconvert_exporter": "python",
   "pygments_lexer": "ipython3",
   "version": "3.10.6"
  }
 },
 "nbformat": 4,
 "nbformat_minor": 5
}

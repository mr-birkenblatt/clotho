{
 "cells": [
  {
   "cell_type": "code",
   "execution_count": 1,
   "id": "7c1265ba-c76b-4424-b577-a322e6b512af",
   "metadata": {},
   "outputs": [],
   "source": [
    "# in a terminal run\n",
    "# > make run-redis NS=train\n",
    "# > make run-redis NS=test\n",
    "# to allow access to the train and test namespaces"
   ]
  },
  {
   "cell_type": "code",
   "execution_count": 2,
   "id": "4e21c530-5f85-4b18-b9ed-c2fbe591b52f",
   "metadata": {},
   "outputs": [],
   "source": [
    "import os\n",
    "import sys\n",
    "import pandas as pd\n",
    "import numpy as np"
   ]
  },
  {
   "cell_type": "code",
   "execution_count": 3,
   "id": "62721599-23d3-405a-bbb2-88a6f0a17a17",
   "metadata": {},
   "outputs": [],
   "source": [
    "sys.path.append(\"..\")\n",
    "os.environ[\"USER_PATH\"] = \"../userdata\""
   ]
  },
  {
   "cell_type": "code",
   "execution_count": 4,
   "id": "82c6f1c7-607b-479d-b2f6-3483cb91a57d",
   "metadata": {},
   "outputs": [],
   "source": [
    "from misc.redis import set_redis_slow_mode\n",
    "from misc.util import highest_number\n",
    "from model.datagenerator import create_train_test\n",
    "from system.namespace.store import get_namespace"
   ]
  },
  {
   "cell_type": "code",
   "execution_count": 5,
   "id": "1d8c7e9a-fa89-435d-a0a2-0a492056581e",
   "metadata": {},
   "outputs": [
    {
     "data": {
      "text/plain": [
       "True"
      ]
     },
     "execution_count": 5,
     "metadata": {},
     "output_type": "execute_result"
    }
   ],
   "source": [
    "import torch\n",
    "\n",
    "is_cuda = torch.cuda.is_available()\n",
    "is_cuda"
   ]
  },
  {
   "cell_type": "code",
   "execution_count": 6,
   "id": "0a897205-0707-4928-860d-5e8d58cef31a",
   "metadata": {},
   "outputs": [],
   "source": [
    "set_redis_slow_mode(\"never\")\n",
    "ns_test = get_namespace(\"test\")\n",
    "ns_train = get_namespace(\"train\")\n",
    "now = pd.Timestamp(\"2022-12-17\", tz=\"UTC\")\n",
    "train_plan = [\n",
    "    {\n",
    "        \"left\": {\"mode\": \"valid\", \"flip_pc\": 0.5},\n",
    "        \"right\": {\"mode\": \"valid\", \"flip_pc\": 0.0},\n",
    "        \"min_text_length\": 20,\n",
    "        \"skip_weak\": False,\n",
    "        \"flip_lr\": 0.5,\n",
    "        \"first_epoch\": 10,\n",
    "        \"last_epoch\": None,\n",
    "        \"weight\": 100,\n",
    "    },\n",
    "    {\n",
    "        \"left\": {\"mode\": \"valid\", \"flip_pc\": 0.5},\n",
    "        \"right\": {\"mode\": \"valid\", \"flip_pc\": 0.0},\n",
    "        \"min_text_length\": None,\n",
    "        \"skip_weak\": True,\n",
    "        \"flip_lr\": 0.5,\n",
    "        \"first_epoch\": 10,\n",
    "        \"last_epoch\": None,\n",
    "        \"weight\": 100,\n",
    "    },\n",
    "    {\n",
    "        \"left\": {\"mode\": \"random\", \"flip_pc\": 0.0},\n",
    "        \"right\": {\"mode\": \"path\", \"flip_pc\": 0.0},\n",
    "        \"min_text_length\": 20,\n",
    "        \"skip_weak\": False,\n",
    "        \"flip_lr\": 0.5,\n",
    "        \"first_epoch\": None,\n",
    "        \"last_epoch\": None,\n",
    "        \"weight\": 60,\n",
    "    },\n",
    "    {\n",
    "        \"left\": None,\n",
    "        \"right\": {\"mode\": \"path\", \"flip_pc\": 0.0},\n",
    "        \"min_text_length\": 20,\n",
    "        \"skip_weak\": False,\n",
    "        \"flip_lr\": 0.5,\n",
    "        \"first_epoch\": None,\n",
    "        \"last_epoch\": None,\n",
    "        \"weight\": 40,\n",
    "    },\n",
    "     {\n",
    "        \"left\": {\"mode\": \"random\", \"flip_pc\": 0.0},\n",
    "        \"right\": {\"mode\": \"path\", \"flip_pc\": 0.0},\n",
    "        \"min_text_length\": None,\n",
    "        \"skip_weak\": True,\n",
    "        \"flip_lr\": 0.5,\n",
    "        \"first_epoch\": 5,\n",
    "        \"last_epoch\": None,\n",
    "        \"weight\": 60,\n",
    "    },\n",
    "    {\n",
    "        \"left\": None,\n",
    "        \"right\": {\"mode\": \"path\", \"flip_pc\": 0.0},\n",
    "        \"min_text_length\": None,\n",
    "        \"skip_weak\": True,\n",
    "        \"flip_lr\": 0.5,\n",
    "        \"first_epoch\": 5,\n",
    "        \"last_epoch\": None,\n",
    "        \"weight\": 40,\n",
    "    },\n",
    "    {\n",
    "        \"left\": {\"mode\": \"random\", \"flip_pc\": 0.0},\n",
    "        \"right\": {\"mode\": \"valid\", \"flip_pc\": 0.0},\n",
    "        \"min_text_length\": None,\n",
    "        \"skip_weak\": True,\n",
    "        \"flip_lr\": 0.5,\n",
    "        \"first_epoch\": None,\n",
    "        \"last_epoch\": None,\n",
    "        \"weight\": 60,\n",
    "    },\n",
    "    {\n",
    "        \"left\": None,\n",
    "        \"right\": {\"mode\": \"valid\", \"flip_pc\": 0.0},\n",
    "        \"min_text_length\": None,\n",
    "        \"skip_weak\": True,\n",
    "        \"flip_lr\": 0.5,\n",
    "        \"first_epoch\": None,\n",
    "        \"last_epoch\": None,\n",
    "        \"weight\": 40,\n",
    "    },\n",
    "    {\n",
    "        \"left\": {\"mode\": \"valid\", \"flip_pc\": 0.0},\n",
    "        \"right\": {\"mode\": \"valid\", \"flip_pc\": 0.0},\n",
    "        \"min_text_length\": None,\n",
    "        \"skip_weak\": False,\n",
    "        \"flip_lr\": 0,\n",
    "        \"first_epoch\": 15,\n",
    "        \"last_epoch\": None,\n",
    "        \"weight\": 50,\n",
    "    }\n",
    "]\n",
    "eval_plan = [\n",
    "    {\n",
    "        \"left\": {\"mode\": \"random\", \"flip_pc\": 0.0},\n",
    "        \"right\": {\"mode\": \"valid\", \"flip_pc\": 0.0},\n",
    "        \"min_text_length\": 20,\n",
    "        \"skip_weak\": False,\n",
    "        \"flip_lr\": 0.5,\n",
    "        \"weight\": 60,\n",
    "    },\n",
    "    {\n",
    "        \"left\": None,\n",
    "        \"right\": {\"mode\": \"valid\", \"flip_pc\": 0.0},\n",
    "        \"min_text_length\": 20,\n",
    "        \"skip_weak\": False,\n",
    "        \"flip_lr\": 0.5,\n",
    "        \"weight\": 40,\n",
    "    },\n",
    "    {\n",
    "        \"left\": {\"mode\": \"random\", \"flip_pc\": 0.0},\n",
    "        \"right\": {\"mode\": \"valid\", \"flip_pc\": 0.0},\n",
    "        \"min_text_length\": None,\n",
    "        \"skip_weak\": True,\n",
    "        \"flip_lr\": 0.5,\n",
    "        \"weight\": 60,\n",
    "    },\n",
    "    {\n",
    "        \"left\": None,\n",
    "        \"right\": {\"mode\": \"valid\", \"flip_pc\": 0.0},\n",
    "        \"min_text_length\": None,\n",
    "        \"skip_weak\": True,\n",
    "        \"flip_lr\": 0.5,\n",
    "        \"weight\": 40,\n",
    "    },\n",
    "]\n",
    "ttgen = create_train_test(\n",
    "    train_ns=ns_train,\n",
    "    train_validation_ns=ns_train,\n",
    "    test_ns=ns_test,\n",
    "    test_validation_ns=ns_test,\n",
    "    train_learning_plan=train_plan,\n",
    "    train_val_learning_plan=eval_plan,\n",
    "    test_learning_plan=eval_plan,\n",
    "    test_val_learning_plan=eval_plan,\n",
    "    batch_size=4 if is_cuda else 8,\n",
    "    epoch_batches=5000 if is_cuda else 500,\n",
    "    train_val_size=10000 if is_cuda else 1000,\n",
    "    test_size=10000 if is_cuda else 1000,\n",
    "    test_val_size=10000 if is_cuda else 1000,\n",
    "    compute_batch_size=100 if is_cuda else 100,\n",
    "    now=now)"
   ]
  },
  {
   "cell_type": "code",
   "execution_count": 7,
   "id": "9d7acd4d-0d4a-481f-901b-3e524ee02c6f",
   "metadata": {},
   "outputs": [],
   "source": [
    "import torch.nn as nn\n",
    "from transformers import DistilBertTokenizer, DistilBertModel"
   ]
  },
  {
   "cell_type": "code",
   "execution_count": 8,
   "id": "927dbcbe-6df3-49c9-8449-041b1ab7a168",
   "metadata": {},
   "outputs": [
    {
     "data": {
      "text/plain": [
       "device(type='cuda')"
      ]
     },
     "execution_count": 8,
     "metadata": {},
     "output_type": "execute_result"
    }
   ],
   "source": [
    "device = torch.device(\"cuda\") if is_cuda else torch.device(\"cpu\")\n",
    "device"
   ]
  },
  {
   "cell_type": "code",
   "execution_count": 9,
   "id": "00819f53-a953-4b85-bcf8-6cba59a8bb67",
   "metadata": {},
   "outputs": [],
   "source": [
    "from typing import Literal, TypedDict\n",
    "\n",
    "ProviderRole = Literal[\"child\", \"parent\"]\n",
    "\n",
    "tokenizer = DistilBertTokenizer.from_pretrained(\"distilbert-base-uncased\")\n",
    "EMBED_SIZE = 768\n",
    "\n",
    "TokenizedInput = TypedDict('TokenizedInput', {\n",
    "    \"input_ids\": torch.Tensor,\n",
    "    \"attention_mask\": torch.Tensor,\n",
    "})\n",
    "\n",
    "\n",
    "def tokens(texts: list[str]) -> TokenizedInput:\n",
    "    res = tokenizer(texts.tolist(), return_tensors=\"pt\", padding=True, truncation=True)\n",
    "    return {k: v.to(device) for k, v in res.items()}\n",
    "\n",
    "\n",
    "class Noise(nn.Module):\n",
    "    def __init__(self, std: float = 1.0, p: float = 0.5) -> None:\n",
    "        super().__init__()\n",
    "        self._std = std\n",
    "        self._p = p\n",
    "        self._dhold = nn.Parameter(torch.Tensor([0.0]), requires_grad=False)\n",
    "\n",
    "    def set_std(self, std: float) -> None:\n",
    "        self._std = std\n",
    "\n",
    "    def get_std(self) -> float:\n",
    "        return self._std\n",
    "\n",
    "    def forward(self, x: torch.Tensor) -> torch.Tensor:\n",
    "        if not self.training:\n",
    "            return x\n",
    "        prob = torch.rand(size=x.shape, device=self._dhold.device) < self._p\n",
    "        gauss = torch.normal(\n",
    "            mean=0.0, std=self._std, size=x.shape, device=self._dhold.device)\n",
    "        return x + prob * gauss\n",
    "\n",
    "\n",
    "class Model(nn.Module):\n",
    "    def __init__(self, version: int) -> None:\n",
    "        super().__init__()\n",
    "        self._bert_parent = DistilBertModel.from_pretrained(\n",
    "            \"distilbert-base-uncased\")\n",
    "        self._bert_child = DistilBertModel.from_pretrained(\n",
    "            \"distilbert-base-uncased\")\n",
    "        if version in (1, 3, 4):\n",
    "            self._pdense: nn.Sequential | None = nn.Sequential(\n",
    "                nn.Linear(EMBED_SIZE, EMBED_SIZE),\n",
    "                nn.Dropout(p=0.5),\n",
    "                nn.ReLU(),\n",
    "                nn.Linear(EMBED_SIZE, EMBED_SIZE))\n",
    "            self._cdense: nn.Sequential | None = nn.Sequential(\n",
    "                nn.Linear(EMBED_SIZE, EMBED_SIZE),\n",
    "                nn.Dropout(p=0.5),\n",
    "                nn.ReLU(),\n",
    "                nn.Linear(EMBED_SIZE, EMBED_SIZE))\n",
    "        else:\n",
    "            self._pdense = None\n",
    "            self._cdense = None\n",
    "        if version < 4:\n",
    "            self._noise = None\n",
    "        else:\n",
    "            self._noise = Noise(std=1.0, p=0.5)\n",
    "        if version < 2 or version > 4:\n",
    "            self._cos = None\n",
    "        else:\n",
    "            self._cos = torch.nn.CosineSimilarity()\n",
    "        self._version = version\n",
    "\n",
    "    def set_epoch(self, epoch: int) -> None:\n",
    "        noise = self._noise\n",
    "        if noise is not None:\n",
    "            noise.set_std(1 / (1.2 ** epoch))\n",
    "\n",
    "    def get_version(self) -> int:\n",
    "        return self._version\n",
    "\n",
    "    def get_parent_embed(\n",
    "            self,\n",
    "            input_ids: torch.Tensor,\n",
    "            attention_mask: torch.Tensor) -> torch.Tensor:\n",
    "        outputs_parent = self._bert_parent(\n",
    "            input_ids=input_ids, attention_mask=attention_mask)\n",
    "        out = outputs_parent.last_hidden_state[:, 0]\n",
    "        if self._pdense is not None:\n",
    "            out = self._pdense(out)\n",
    "        if self._noise is not None:\n",
    "            out = self._noise(out)\n",
    "        return out\n",
    "\n",
    "    def get_child_embed(\n",
    "            self,\n",
    "            input_ids: torch.Tensor,\n",
    "            attention_mask: torch.Tensor) -> torch.Tensor:\n",
    "        outputs_child = self._bert_child(\n",
    "            input_ids=input_ids, attention_mask=attention_mask)\n",
    "        out = outputs_child.last_hidden_state[:, 0]\n",
    "        if self._cdense is not None:\n",
    "            out = self._cdense(out)\n",
    "        if self._noise is not None:\n",
    "            out = self._noise(out)\n",
    "        return out\n",
    "\n",
    "    def forward(self, x: dict[ProviderRole, TokenizedInput]) -> torch.Tensor:\n",
    "        parent_cls = self.get_parent_embed(\n",
    "            input_ids=x[\"parent\"][\"input_ids\"],\n",
    "            attention_mask=x[\"parent\"][\"attention_mask\"])\n",
    "        child_cls = self.get_child_embed(\n",
    "            input_ids=x[\"child\"][\"input_ids\"],\n",
    "            attention_mask=x[\"child\"][\"attention_mask\"])\n",
    "        if self._cos is not None:\n",
    "            return self._cos(parent_cls, child_cls).reshape([-1, 1])\n",
    "        batch_size = parent_cls.shape[0]\n",
    "        return torch.bmm(\n",
    "            parent_cls.reshape([batch_size, 1, -1]),\n",
    "            child_cls.reshape([batch_size, -1, 1])).reshape([-1, 1])\n",
    "\n",
    "\n",
    "class TrainingHarness(nn.Module):\n",
    "    def __init__(self, model: Model) -> None:\n",
    "        super().__init__()\n",
    "        self._model = model\n",
    "        self._softmax = nn.Softmax(dim=1)\n",
    "        self._loss = nn.BCELoss()\n",
    "\n",
    "    def get_version(self) -> int:\n",
    "        return self._model.get_version()\n",
    "\n",
    "    def forward(\n",
    "            self,\n",
    "            left: TokenizedInput,\n",
    "            right: TokenizedInput,\n",
    "            labels: torch.Tensor) -> tuple[torch.Tensor, torch.Tensor]:\n",
    "        out_left = self._model(left)\n",
    "        out_right = self._model(right)\n",
    "        preds = self._softmax(torch.hstack((out_left, out_right)))\n",
    "        return preds, self._loss(preds, labels)"
   ]
  },
  {
   "cell_type": "code",
   "execution_count": 10,
   "id": "f048a983-9daf-4f04-b36e-5da77951bb3c",
   "metadata": {},
   "outputs": [
    {
     "name": "stderr",
     "output_type": "stream",
     "text": [
      "Some weights of the model checkpoint at distilbert-base-uncased were not used when initializing DistilBertModel: ['vocab_transform.weight', 'vocab_projector.bias', 'vocab_layer_norm.bias', 'vocab_layer_norm.weight', 'vocab_transform.bias', 'vocab_projector.weight']\n",
      "- This IS expected if you are initializing DistilBertModel from the checkpoint of a model trained on another task or with another architecture (e.g. initializing a BertForSequenceClassification model from a BertForPreTraining model).\n",
      "- This IS NOT expected if you are initializing DistilBertModel from the checkpoint of a model that you expect to be exactly identical (initializing a BertForSequenceClassification model from a BertForSequenceClassification model).\n",
      "Some weights of the model checkpoint at distilbert-base-uncased were not used when initializing DistilBertModel: ['vocab_transform.weight', 'vocab_projector.bias', 'vocab_layer_norm.bias', 'vocab_layer_norm.weight', 'vocab_transform.bias', 'vocab_projector.weight']\n",
      "- This IS expected if you are initializing DistilBertModel from the checkpoint of a model trained on another task or with another architecture (e.g. initializing a BertForSequenceClassification model from a BertForPreTraining model).\n",
      "- This IS NOT expected if you are initializing DistilBertModel from the checkpoint of a model that you expect to be exactly identical (initializing a BertForSequenceClassification model from a BertForSequenceClassification model).\n"
     ]
    },
    {
     "data": {
      "text/plain": [
       "(('harness_v4_lg_9.pkl', 9), 10)"
      ]
     },
     "execution_count": 10,
     "metadata": {},
     "output_type": "execute_result"
    }
   ],
   "source": [
    "from torch.optim import AdamW\n",
    "\n",
    "model = Model(version=5)\n",
    "model.to(device)\n",
    "harness = TrainingHarness(model)\n",
    "harness.to(device)\n",
    "\n",
    "FORCE_RESTART = False\n",
    "\n",
    "folder = \"checkpoints\"\n",
    "postfix = \"_lg\" if is_cuda else \"\"\n",
    "version_tag = \"\" if harness.get_version() == 0 else f\"_v{harness.get_version()}\"\n",
    "mprev = highest_number(os.listdir(folder), prefix=f\"harness{version_tag}{postfix}_\", postfix=\".pkl\")\n",
    "if not FORCE_RESTART and mprev is not None:\n",
    "    prev_fname, prev_epoch = mprev\n",
    "    harness.load_state_dict(torch.load(os.path.join(folder, prev_fname), map_location=device))\n",
    "    epoch_offset = prev_epoch + 1\n",
    "else:\n",
    "    epoch_offset = 0\n",
    "\n",
    "optimizer = AdamW(harness.parameters(), lr=5e-5)\n",
    "mprev, epoch_offset"
   ]
  },
  {
   "cell_type": "code",
   "execution_count": 11,
   "id": "6cde9030-931f-4f80-a118-d7f5ef2677d9",
   "metadata": {
    "tags": []
   },
   "outputs": [
    {
     "name": "stdout",
     "output_type": "stream",
     "text": [
      "epoch 10\n"
     ]
    },
    {
     "data": {
      "application/vnd.jupyter.widget-view+json": {
       "model_id": "410e66fd8df84778bc657bcf0e4ee46e",
       "version_major": 2,
       "version_minor": 0
      },
      "text/plain": [
       "train:   0%|          | 0/20000 [00:00<?, ?it/s]"
      ]
     },
     "metadata": {},
     "output_type": "display_data"
    },
    {
     "data": {
      "text/html": [
       "<div>\n",
       "<style scoped>\n",
       "    .dataframe tbody tr th:only-of-type {\n",
       "        vertical-align: middle;\n",
       "    }\n",
       "\n",
       "    .dataframe tbody tr th {\n",
       "        vertical-align: top;\n",
       "    }\n",
       "\n",
       "    .dataframe thead th {\n",
       "        text-align: right;\n",
       "    }\n",
       "</style>\n",
       "<table border=\"1\" class=\"dataframe\">\n",
       "  <thead>\n",
       "    <tr style=\"text-align: right;\">\n",
       "      <th></th>\n",
       "      <th>gen_name</th>\n",
       "      <th>parent_left</th>\n",
       "      <th>child_left</th>\n",
       "      <th>parent_right</th>\n",
       "      <th>child_right</th>\n",
       "      <th>sway_left</th>\n",
       "      <th>sway_right</th>\n",
       "      <th>correct_is_right</th>\n",
       "    </tr>\n",
       "  </thead>\n",
       "  <tbody>\n",
       "    <tr>\n",
       "      <th>0</th>\n",
       "      <td>random--path;(sw)</td>\n",
       "      <td>You’re not living in a rural area without some...</td>\n",
       "      <td>I keep hearing people saying release the list ...</td>\n",
       "      <td>t/conservative</td>\n",
       "      <td>[Ellen DeGeneres Woke Animated Show Canceled a...</td>\n",
       "      <td>0.000000</td>\n",
       "      <td>1.000000</td>\n",
       "      <td>True</td>\n",
       "    </tr>\n",
       "    <tr>\n",
       "      <th>1</th>\n",
       "      <td>random--valid;(sw)</td>\n",
       "      <td>I don't care who does it, it should be illegal...</td>\n",
       "      <td>Fucked around, found out. And of course he giv...</td>\n",
       "      <td>[Dmitri Medvedev said that Russia would not st...</td>\n",
       "      <td>Ho ? So the whole NATO story wasn’t the reason...</td>\n",
       "      <td>0.119203</td>\n",
       "      <td>0.880797</td>\n",
       "      <td>True</td>\n",
       "    </tr>\n",
       "    <tr>\n",
       "      <th>2</th>\n",
       "      <td>!valid--valid;(mtl:20)</td>\n",
       "      <td>We don't know whether they were bogus, because...</td>\n",
       "      <td>Because that's the way things are, doesn't mea...</td>\n",
       "      <td>Yeah, shocked a country that has lived under t...</td>\n",
       "      <td>Please be respectful when talking about the Qu...</td>\n",
       "      <td>0.000000</td>\n",
       "      <td>1.000000</td>\n",
       "      <td>True</td>\n",
       "    </tr>\n",
       "    <tr>\n",
       "      <th>3</th>\n",
       "      <td>!valid--valid;(mtl:20)</td>\n",
       "      <td>They are supposed to alarm when you cut them.</td>\n",
       "      <td>&gt;nearly seven hours after Francis is believed ...</td>\n",
       "      <td>No. No it isn't. Change the channel. Also, tru...</td>\n",
       "      <td>AND the democrats refuse to pass anything writ...</td>\n",
       "      <td>0.268941</td>\n",
       "      <td>0.731059</td>\n",
       "      <td>True</td>\n",
       "    </tr>\n",
       "  </tbody>\n",
       "</table>\n",
       "</div>"
      ],
      "text/plain": [
       "                 gen_name                                        parent_left  \\\n",
       "0       random--path;(sw)  You’re not living in a rural area without some...   \n",
       "1      random--valid;(sw)  I don't care who does it, it should be illegal...   \n",
       "2  !valid--valid;(mtl:20)  We don't know whether they were bogus, because...   \n",
       "3  !valid--valid;(mtl:20)      They are supposed to alarm when you cut them.   \n",
       "\n",
       "                                          child_left  \\\n",
       "0  I keep hearing people saying release the list ...   \n",
       "1  Fucked around, found out. And of course he giv...   \n",
       "2  Because that's the way things are, doesn't mea...   \n",
       "3  >nearly seven hours after Francis is believed ...   \n",
       "\n",
       "                                        parent_right  \\\n",
       "0                                     t/conservative   \n",
       "1  [Dmitri Medvedev said that Russia would not st...   \n",
       "2  Yeah, shocked a country that has lived under t...   \n",
       "3  No. No it isn't. Change the channel. Also, tru...   \n",
       "\n",
       "                                         child_right  sway_left  sway_right  \\\n",
       "0  [Ellen DeGeneres Woke Animated Show Canceled a...   0.000000    1.000000   \n",
       "1  Ho ? So the whole NATO story wasn’t the reason...   0.119203    0.880797   \n",
       "2  Please be respectful when talking about the Qu...   0.000000    1.000000   \n",
       "3  AND the democrats refuse to pass anything writ...   0.268941    0.731059   \n",
       "\n",
       "   correct_is_right  \n",
       "0              True  \n",
       "1              True  \n",
       "2              True  \n",
       "3              True  "
      ]
     },
     "metadata": {},
     "output_type": "display_data"
    },
    {
     "data": {
      "application/vnd.jupyter.widget-view+json": {
       "model_id": "87c42fe161fb4ff7a182641169e46530",
       "version_major": 2,
       "version_minor": 0
      },
      "text/plain": [
       "train val:   0%|          | 0/10000 [00:00<?, ?it/s]"
      ]
     },
     "metadata": {},
     "output_type": "display_data"
    },
    {
     "data": {
      "application/vnd.jupyter.widget-view+json": {
       "model_id": "8d3019d5e0034ed29378133306ca58bf",
       "version_major": 2,
       "version_minor": 0
      },
      "text/plain": [
       "test:   0%|          | 0/10000 [00:00<?, ?it/s]"
      ]
     },
     "metadata": {},
     "output_type": "display_data"
    },
    {
     "name": "stdout",
     "output_type": "stream",
     "text": [
      "train: {'accuracy': 0.6082} loss: 0.6347388936728239\n",
      "train val: {'accuracy': 0.629} loss: 0.581489976388216\n",
      "test: {'accuracy': 0.4742} loss: 0.6831701278328896\n",
      "epoch 11\n"
     ]
    },
    {
     "data": {
      "application/vnd.jupyter.widget-view+json": {
       "model_id": "3e826433ed6d4e9eae05c42fea049e5e",
       "version_major": 2,
       "version_minor": 0
      },
      "text/plain": [
       "train:   0%|          | 0/20000 [00:00<?, ?it/s]"
      ]
     },
     "metadata": {},
     "output_type": "display_data"
    },
    {
     "data": {
      "text/html": [
       "<div>\n",
       "<style scoped>\n",
       "    .dataframe tbody tr th:only-of-type {\n",
       "        vertical-align: middle;\n",
       "    }\n",
       "\n",
       "    .dataframe tbody tr th {\n",
       "        vertical-align: top;\n",
       "    }\n",
       "\n",
       "    .dataframe thead th {\n",
       "        text-align: right;\n",
       "    }\n",
       "</style>\n",
       "<table border=\"1\" class=\"dataframe\">\n",
       "  <thead>\n",
       "    <tr style=\"text-align: right;\">\n",
       "      <th></th>\n",
       "      <th>gen_name</th>\n",
       "      <th>parent_left</th>\n",
       "      <th>child_left</th>\n",
       "      <th>parent_right</th>\n",
       "      <th>child_right</th>\n",
       "      <th>sway_left</th>\n",
       "      <th>sway_right</th>\n",
       "      <th>correct_is_right</th>\n",
       "    </tr>\n",
       "  </thead>\n",
       "  <tbody>\n",
       "    <tr>\n",
       "      <th>0</th>\n",
       "      <td>*path--random;(mtl:20)</td>\n",
       "      <td>She reigned for 1/30 of all of history since t...</td>\n",
       "      <td>1.5% of all of recorded history</td>\n",
       "      <td>The suffering is intended. These are the same ...</td>\n",
       "      <td>Did you read the article? I can see why the Un...</td>\n",
       "      <td>0.999999</td>\n",
       "      <td>8.315280e-07</td>\n",
       "      <td>False</td>\n",
       "    </tr>\n",
       "    <tr>\n",
       "      <th>1</th>\n",
       "      <td>*valid--!valid;(mtl:20)</td>\n",
       "      <td>[Trump raid: Justice Department releases affid...</td>\n",
       "      <td>&gt;“Affidavit heavily redacted!!! Nothing mentio...</td>\n",
       "      <td>Usually coyote culling is done to protect live...</td>\n",
       "      <td>&gt; A lot of people in my parents area are very ...</td>\n",
       "      <td>0.999089</td>\n",
       "      <td>9.110512e-04</td>\n",
       "      <td>False</td>\n",
       "    </tr>\n",
       "    <tr>\n",
       "      <th>2</th>\n",
       "      <td>random--path;(sw)</td>\n",
       "      <td>Lmfao a quick skim through shows 90% of the ev...</td>\n",
       "      <td>Go Joe go!!</td>\n",
       "      <td>Agreed, local funding via property taxes is ba...</td>\n",
       "      <td>Exactly. But when you have conservative leader...</td>\n",
       "      <td>0.119203</td>\n",
       "      <td>8.807971e-01</td>\n",
       "      <td>True</td>\n",
       "    </tr>\n",
       "    <tr>\n",
       "      <th>3</th>\n",
       "      <td>*path--random;(sw)</td>\n",
       "      <td>Same reason South Park used for the Goodell Bot.</td>\n",
       "      <td>Also why Nixon’s head stole Bender’s body.</td>\n",
       "      <td>mmm i understand, climate change scares me a l...</td>\n",
       "      <td>Detonated*</td>\n",
       "      <td>0.880797</td>\n",
       "      <td>1.192029e-01</td>\n",
       "      <td>False</td>\n",
       "    </tr>\n",
       "  </tbody>\n",
       "</table>\n",
       "</div>"
      ],
      "text/plain": [
       "                  gen_name                                        parent_left  \\\n",
       "0   *path--random;(mtl:20)  She reigned for 1/30 of all of history since t...   \n",
       "1  *valid--!valid;(mtl:20)  [Trump raid: Justice Department releases affid...   \n",
       "2        random--path;(sw)  Lmfao a quick skim through shows 90% of the ev...   \n",
       "3       *path--random;(sw)   Same reason South Park used for the Goodell Bot.   \n",
       "\n",
       "                                          child_left  \\\n",
       "0                    1.5% of all of recorded history   \n",
       "1  >“Affidavit heavily redacted!!! Nothing mentio...   \n",
       "2                                        Go Joe go!!   \n",
       "3         Also why Nixon’s head stole Bender’s body.   \n",
       "\n",
       "                                        parent_right  \\\n",
       "0  The suffering is intended. These are the same ...   \n",
       "1  Usually coyote culling is done to protect live...   \n",
       "2  Agreed, local funding via property taxes is ba...   \n",
       "3  mmm i understand, climate change scares me a l...   \n",
       "\n",
       "                                         child_right  sway_left    sway_right  \\\n",
       "0  Did you read the article? I can see why the Un...   0.999999  8.315280e-07   \n",
       "1  > A lot of people in my parents area are very ...   0.999089  9.110512e-04   \n",
       "2  Exactly. But when you have conservative leader...   0.119203  8.807971e-01   \n",
       "3                                         Detonated*   0.880797  1.192029e-01   \n",
       "\n",
       "   correct_is_right  \n",
       "0             False  \n",
       "1             False  \n",
       "2              True  \n",
       "3             False  "
      ]
     },
     "metadata": {},
     "output_type": "display_data"
    },
    {
     "data": {
      "application/vnd.jupyter.widget-view+json": {
       "model_id": "619c763cad7f49199a4d1835872e5e5f",
       "version_major": 2,
       "version_minor": 0
      },
      "text/plain": [
       "train val:   0%|          | 0/10000 [00:00<?, ?it/s]"
      ]
     },
     "metadata": {},
     "output_type": "display_data"
    },
    {
     "data": {
      "application/vnd.jupyter.widget-view+json": {
       "model_id": "4a8ec9f0ea944e8f8603c2fc75d0dad2",
       "version_major": 2,
       "version_minor": 0
      },
      "text/plain": [
       "test:   0%|          | 0/10000 [00:00<?, ?it/s]"
      ]
     },
     "metadata": {},
     "output_type": "display_data"
    },
    {
     "name": "stdout",
     "output_type": "stream",
     "text": [
      "train: {'accuracy': 0.6081} loss: 0.6342875462025404\n",
      "train val: {'accuracy': 0.6226} loss: 0.646508138847351\n",
      "test: {'accuracy': 0.5042} loss: 0.7399859076857567\n",
      "epoch 12\n"
     ]
    },
    {
     "data": {
      "application/vnd.jupyter.widget-view+json": {
       "model_id": "612c0fcdb82249c7ae6e7b37a528e143",
       "version_major": 2,
       "version_minor": 0
      },
      "text/plain": [
       "train:   0%|          | 0/20000 [00:00<?, ?it/s]"
      ]
     },
     "metadata": {},
     "output_type": "display_data"
    },
    {
     "data": {
      "text/html": [
       "<div>\n",
       "<style scoped>\n",
       "    .dataframe tbody tr th:only-of-type {\n",
       "        vertical-align: middle;\n",
       "    }\n",
       "\n",
       "    .dataframe tbody tr th {\n",
       "        vertical-align: top;\n",
       "    }\n",
       "\n",
       "    .dataframe thead th {\n",
       "        text-align: right;\n",
       "    }\n",
       "</style>\n",
       "<table border=\"1\" class=\"dataframe\">\n",
       "  <thead>\n",
       "    <tr style=\"text-align: right;\">\n",
       "      <th></th>\n",
       "      <th>gen_name</th>\n",
       "      <th>parent_left</th>\n",
       "      <th>child_left</th>\n",
       "      <th>parent_right</th>\n",
       "      <th>child_right</th>\n",
       "      <th>sway_left</th>\n",
       "      <th>sway_right</th>\n",
       "      <th>correct_is_right</th>\n",
       "    </tr>\n",
       "  </thead>\n",
       "  <tbody>\n",
       "    <tr>\n",
       "      <th>0</th>\n",
       "      <td>!copy--path;(sw)</td>\n",
       "      <td>[Brooks: Biden WH Using PPP to Defend Student ...</td>\n",
       "      <td>t/conservative</td>\n",
       "      <td>t/conservative</td>\n",
       "      <td>[Brooks: Biden WH Using PPP to Defend Student ...</td>\n",
       "      <td>2.543521e-13</td>\n",
       "      <td>1.000000</td>\n",
       "      <td>True</td>\n",
       "    </tr>\n",
       "    <tr>\n",
       "      <th>1</th>\n",
       "      <td>valid--valid;(sw)</td>\n",
       "      <td>Exactly, and that's not being a good human.</td>\n",
       "      <td>It's the same type of person who doesn't retur...</td>\n",
       "      <td>I seem to recall an early episode where the de...</td>\n",
       "      <td>Based on a scene in the book. “We’re cops - go...</td>\n",
       "      <td>9.996646e-01</td>\n",
       "      <td>0.000335</td>\n",
       "      <td>False</td>\n",
       "    </tr>\n",
       "    <tr>\n",
       "      <th>2</th>\n",
       "      <td>random--valid;(sw)</td>\n",
       "      <td>I think the guys that grant security clearance...</td>\n",
       "      <td>Let's say you owe six months to make it worth ...</td>\n",
       "      <td>[Heckler repeatedly yells ‘Let’s go Brandon’ a...</td>\n",
       "      <td>Was that heckling? I thought he was trying to ...</td>\n",
       "      <td>1.798621e-02</td>\n",
       "      <td>0.982014</td>\n",
       "      <td>True</td>\n",
       "    </tr>\n",
       "    <tr>\n",
       "      <th>3</th>\n",
       "      <td>*path--random;(sw)</td>\n",
       "      <td>t/news</td>\n",
       "      <td>[Andrew Tate banned from Facebook and Instagra...</td>\n",
       "      <td>“you need to be able to keep that aging popula...</td>\n",
       "      <td>It bothers me that just getting the files back...</td>\n",
       "      <td>1.000000e+00</td>\n",
       "      <td>0.000000</td>\n",
       "      <td>False</td>\n",
       "    </tr>\n",
       "  </tbody>\n",
       "</table>\n",
       "</div>"
      ],
      "text/plain": [
       "             gen_name                                        parent_left  \\\n",
       "0    !copy--path;(sw)  [Brooks: Biden WH Using PPP to Defend Student ...   \n",
       "1   valid--valid;(sw)        Exactly, and that's not being a good human.   \n",
       "2  random--valid;(sw)  I think the guys that grant security clearance...   \n",
       "3  *path--random;(sw)                                             t/news   \n",
       "\n",
       "                                          child_left  \\\n",
       "0                                     t/conservative   \n",
       "1  It's the same type of person who doesn't retur...   \n",
       "2  Let's say you owe six months to make it worth ...   \n",
       "3  [Andrew Tate banned from Facebook and Instagra...   \n",
       "\n",
       "                                        parent_right  \\\n",
       "0                                     t/conservative   \n",
       "1  I seem to recall an early episode where the de...   \n",
       "2  [Heckler repeatedly yells ‘Let’s go Brandon’ a...   \n",
       "3  “you need to be able to keep that aging popula...   \n",
       "\n",
       "                                         child_right     sway_left  \\\n",
       "0  [Brooks: Biden WH Using PPP to Defend Student ...  2.543521e-13   \n",
       "1  Based on a scene in the book. “We’re cops - go...  9.996646e-01   \n",
       "2  Was that heckling? I thought he was trying to ...  1.798621e-02   \n",
       "3  It bothers me that just getting the files back...  1.000000e+00   \n",
       "\n",
       "   sway_right  correct_is_right  \n",
       "0    1.000000              True  \n",
       "1    0.000335             False  \n",
       "2    0.982014              True  \n",
       "3    0.000000             False  "
      ]
     },
     "metadata": {},
     "output_type": "display_data"
    },
    {
     "data": {
      "application/vnd.jupyter.widget-view+json": {
       "model_id": "036e820b60e54bcbad0d9a82ce6d401b",
       "version_major": 2,
       "version_minor": 0
      },
      "text/plain": [
       "train val:   0%|          | 0/10000 [00:00<?, ?it/s]"
      ]
     },
     "metadata": {},
     "output_type": "display_data"
    },
    {
     "data": {
      "application/vnd.jupyter.widget-view+json": {
       "model_id": "2fd39195f7c643959941e2785aaa5af3",
       "version_major": 2,
       "version_minor": 0
      },
      "text/plain": [
       "test:   0%|          | 0/10000 [00:00<?, ?it/s]"
      ]
     },
     "metadata": {},
     "output_type": "display_data"
    },
    {
     "name": "stdout",
     "output_type": "stream",
     "text": [
      "train: {'accuracy': 0.5502} loss: 0.6701966855973005\n",
      "train val: {'accuracy': 0.6487} loss: 0.6478660557508469\n",
      "test: {'accuracy': 0.5} loss: 0.7416929785728454\n",
      "epoch 13\n"
     ]
    },
    {
     "data": {
      "application/vnd.jupyter.widget-view+json": {
       "model_id": "755b8463e69c4c5bb092dd0ce869c8fd",
       "version_major": 2,
       "version_minor": 0
      },
      "text/plain": [
       "train:   0%|          | 0/20000 [00:00<?, ?it/s]"
      ]
     },
     "metadata": {},
     "output_type": "display_data"
    },
    {
     "data": {
      "text/html": [
       "<div>\n",
       "<style scoped>\n",
       "    .dataframe tbody tr th:only-of-type {\n",
       "        vertical-align: middle;\n",
       "    }\n",
       "\n",
       "    .dataframe tbody tr th {\n",
       "        vertical-align: top;\n",
       "    }\n",
       "\n",
       "    .dataframe thead th {\n",
       "        text-align: right;\n",
       "    }\n",
       "</style>\n",
       "<table border=\"1\" class=\"dataframe\">\n",
       "  <thead>\n",
       "    <tr style=\"text-align: right;\">\n",
       "      <th></th>\n",
       "      <th>gen_name</th>\n",
       "      <th>parent_left</th>\n",
       "      <th>child_left</th>\n",
       "      <th>parent_right</th>\n",
       "      <th>child_right</th>\n",
       "      <th>sway_left</th>\n",
       "      <th>sway_right</th>\n",
       "      <th>correct_is_right</th>\n",
       "    </tr>\n",
       "  </thead>\n",
       "  <tbody>\n",
       "    <tr>\n",
       "      <th>0</th>\n",
       "      <td>*valid--!valid;(sw)</td>\n",
       "      <td>I think a lot of Boomers really don't understa...</td>\n",
       "      <td>I had someone in another thread claim there ar...</td>\n",
       "      <td>I don't agree, the opportunity cost for the GW...</td>\n",
       "      <td>The economic damage done by trump exceeds bush...</td>\n",
       "      <td>1.000000</td>\n",
       "      <td>7.582560e-10</td>\n",
       "      <td>False</td>\n",
       "    </tr>\n",
       "    <tr>\n",
       "      <th>1</th>\n",
       "      <td>*valid--valid;(sw)</td>\n",
       "      <td>I hope that gain in polling ground keeps dems ...</td>\n",
       "      <td>Trump is going down and you’re scared, it’s ok...</td>\n",
       "      <td>[Rubio Blasted Clinton for Her Emails. Now He ...</td>\n",
       "      <td>He also thinks his ears are No Biggie</td>\n",
       "      <td>1.000000</td>\n",
       "      <td>3.873998e-21</td>\n",
       "      <td>False</td>\n",
       "    </tr>\n",
       "    <tr>\n",
       "      <th>2</th>\n",
       "      <td>*path--random;(sw)</td>\n",
       "      <td>&gt;repayments will be capped at 5% of your month...</td>\n",
       "      <td>Depending on the size of your loan and your in...</td>\n",
       "      <td>But you could have, if you wanted to. There's ...</td>\n",
       "      <td>[The Disastrous Push to Resegregate Health Car...</td>\n",
       "      <td>1.000000</td>\n",
       "      <td>1.758792e-25</td>\n",
       "      <td>False</td>\n",
       "    </tr>\n",
       "    <tr>\n",
       "      <th>3</th>\n",
       "      <td>random--path;(mtl:20)</td>\n",
       "      <td>No it is right to work that lets them fire you...</td>\n",
       "      <td>Pretty much all religious people are sinners a...</td>\n",
       "      <td>Was there ever a good time for him to be a did...</td>\n",
       "      <td>I’ve never seen a comment more worthy of a “to...</td>\n",
       "      <td>0.000911</td>\n",
       "      <td>9.990889e-01</td>\n",
       "      <td>True</td>\n",
       "    </tr>\n",
       "  </tbody>\n",
       "</table>\n",
       "</div>"
      ],
      "text/plain": [
       "                gen_name                                        parent_left  \\\n",
       "0    *valid--!valid;(sw)  I think a lot of Boomers really don't understa...   \n",
       "1     *valid--valid;(sw)  I hope that gain in polling ground keeps dems ...   \n",
       "2     *path--random;(sw)  >repayments will be capped at 5% of your month...   \n",
       "3  random--path;(mtl:20)  No it is right to work that lets them fire you...   \n",
       "\n",
       "                                          child_left  \\\n",
       "0  I had someone in another thread claim there ar...   \n",
       "1  Trump is going down and you’re scared, it’s ok...   \n",
       "2  Depending on the size of your loan and your in...   \n",
       "3  Pretty much all religious people are sinners a...   \n",
       "\n",
       "                                        parent_right  \\\n",
       "0  I don't agree, the opportunity cost for the GW...   \n",
       "1  [Rubio Blasted Clinton for Her Emails. Now He ...   \n",
       "2  But you could have, if you wanted to. There's ...   \n",
       "3  Was there ever a good time for him to be a did...   \n",
       "\n",
       "                                         child_right  sway_left    sway_right  \\\n",
       "0  The economic damage done by trump exceeds bush...   1.000000  7.582560e-10   \n",
       "1              He also thinks his ears are No Biggie   1.000000  3.873998e-21   \n",
       "2  [The Disastrous Push to Resegregate Health Car...   1.000000  1.758792e-25   \n",
       "3  I’ve never seen a comment more worthy of a “to...   0.000911  9.990889e-01   \n",
       "\n",
       "   correct_is_right  \n",
       "0             False  \n",
       "1             False  \n",
       "2             False  \n",
       "3              True  "
      ]
     },
     "metadata": {},
     "output_type": "display_data"
    },
    {
     "data": {
      "application/vnd.jupyter.widget-view+json": {
       "model_id": "80efed473d08480c8bbd04bf9ee7fd23",
       "version_major": 2,
       "version_minor": 0
      },
      "text/plain": [
       "train val:   0%|          | 0/10000 [00:00<?, ?it/s]"
      ]
     },
     "metadata": {},
     "output_type": "display_data"
    },
    {
     "data": {
      "application/vnd.jupyter.widget-view+json": {
       "model_id": "fca42c5c055d40ca9cb705a1953177f3",
       "version_major": 2,
       "version_minor": 0
      },
      "text/plain": [
       "test:   0%|          | 0/10000 [00:00<?, ?it/s]"
      ]
     },
     "metadata": {},
     "output_type": "display_data"
    },
    {
     "name": "stdout",
     "output_type": "stream",
     "text": [
      "train: {'accuracy': 0.58795} loss: 0.6490112421989441\n",
      "train val: {'accuracy': 0.6344} loss: 0.6929255398750305\n",
      "test: {'accuracy': 0.5066} loss: 0.6928876909017563\n",
      "epoch 14\n"
     ]
    },
    {
     "data": {
      "application/vnd.jupyter.widget-view+json": {
       "model_id": "17331da9348247e8bdce1d7a9b62bb35",
       "version_major": 2,
       "version_minor": 0
      },
      "text/plain": [
       "train:   0%|          | 0/20000 [00:00<?, ?it/s]"
      ]
     },
     "metadata": {},
     "output_type": "display_data"
    },
    {
     "data": {
      "text/html": [
       "<div>\n",
       "<style scoped>\n",
       "    .dataframe tbody tr th:only-of-type {\n",
       "        vertical-align: middle;\n",
       "    }\n",
       "\n",
       "    .dataframe tbody tr th {\n",
       "        vertical-align: top;\n",
       "    }\n",
       "\n",
       "    .dataframe thead th {\n",
       "        text-align: right;\n",
       "    }\n",
       "</style>\n",
       "<table border=\"1\" class=\"dataframe\">\n",
       "  <thead>\n",
       "    <tr style=\"text-align: right;\">\n",
       "      <th></th>\n",
       "      <th>gen_name</th>\n",
       "      <th>parent_left</th>\n",
       "      <th>child_left</th>\n",
       "      <th>parent_right</th>\n",
       "      <th>child_right</th>\n",
       "      <th>sway_left</th>\n",
       "      <th>sway_right</th>\n",
       "      <th>correct_is_right</th>\n",
       "    </tr>\n",
       "  </thead>\n",
       "  <tbody>\n",
       "    <tr>\n",
       "      <th>0</th>\n",
       "      <td>*valid--valid;(sw)</td>\n",
       "      <td>[White House shines light on Republicans criti...</td>\n",
       "      <td>This shit is not about what’s good for the peo...</td>\n",
       "      <td>I thought the Normans spoke a variation of Fre...</td>\n",
       "      <td>Glad I wasn't the only one.</td>\n",
       "      <td>0.000123</td>\n",
       "      <td>0.999877</td>\n",
       "      <td>True</td>\n",
       "    </tr>\n",
       "    <tr>\n",
       "      <th>1</th>\n",
       "      <td>*valid--valid;(mtl:20)</td>\n",
       "      <td>Please elaborate lmao</td>\n",
       "      <td>I'll help lead you: Describe what the cloture ...</td>\n",
       "      <td>[Leaked audio of a billionaire GOP donor hands...</td>\n",
       "      <td>How is this going to change anyone’s mind at t...</td>\n",
       "      <td>0.952574</td>\n",
       "      <td>0.047426</td>\n",
       "      <td>False</td>\n",
       "    </tr>\n",
       "    <tr>\n",
       "      <th>2</th>\n",
       "      <td>random--path;(sw)</td>\n",
       "      <td>&gt; You gotta wonder why Americans love to kill ...</td>\n",
       "      <td>You're asking the tax payer to eat the loans, ...</td>\n",
       "      <td>They still don't abandon the ideology. They ju...</td>\n",
       "      <td>Reagan had it right in his Time for Choosing s...</td>\n",
       "      <td>0.006693</td>\n",
       "      <td>0.993307</td>\n",
       "      <td>True</td>\n",
       "    </tr>\n",
       "    <tr>\n",
       "      <th>3</th>\n",
       "      <td>!copy--path;(sw)</td>\n",
       "      <td>Nah, technically the last was Anne who reigned...</td>\n",
       "      <td>Since 1603 technically.</td>\n",
       "      <td>Since 1603 technically.</td>\n",
       "      <td>Nah, technically the last was Anne who reigned...</td>\n",
       "      <td>0.002473</td>\n",
       "      <td>0.997527</td>\n",
       "      <td>True</td>\n",
       "    </tr>\n",
       "  </tbody>\n",
       "</table>\n",
       "</div>"
      ],
      "text/plain": [
       "                 gen_name                                        parent_left  \\\n",
       "0      *valid--valid;(sw)  [White House shines light on Republicans criti...   \n",
       "1  *valid--valid;(mtl:20)                              Please elaborate lmao   \n",
       "2       random--path;(sw)  > You gotta wonder why Americans love to kill ...   \n",
       "3        !copy--path;(sw)  Nah, technically the last was Anne who reigned...   \n",
       "\n",
       "                                          child_left  \\\n",
       "0  This shit is not about what’s good for the peo...   \n",
       "1  I'll help lead you: Describe what the cloture ...   \n",
       "2  You're asking the tax payer to eat the loans, ...   \n",
       "3                            Since 1603 technically.   \n",
       "\n",
       "                                        parent_right  \\\n",
       "0  I thought the Normans spoke a variation of Fre...   \n",
       "1  [Leaked audio of a billionaire GOP donor hands...   \n",
       "2  They still don't abandon the ideology. They ju...   \n",
       "3                            Since 1603 technically.   \n",
       "\n",
       "                                         child_right  sway_left  sway_right  \\\n",
       "0                        Glad I wasn't the only one.   0.000123    0.999877   \n",
       "1  How is this going to change anyone’s mind at t...   0.952574    0.047426   \n",
       "2  Reagan had it right in his Time for Choosing s...   0.006693    0.993307   \n",
       "3  Nah, technically the last was Anne who reigned...   0.002473    0.997527   \n",
       "\n",
       "   correct_is_right  \n",
       "0              True  \n",
       "1             False  \n",
       "2              True  \n",
       "3              True  "
      ]
     },
     "metadata": {},
     "output_type": "display_data"
    },
    {
     "data": {
      "application/vnd.jupyter.widget-view+json": {
       "model_id": "6bb75d4a3b3e4692a23e30543483d8b1",
       "version_major": 2,
       "version_minor": 0
      },
      "text/plain": [
       "train val:   0%|          | 0/10000 [00:00<?, ?it/s]"
      ]
     },
     "metadata": {},
     "output_type": "display_data"
    },
    {
     "data": {
      "application/vnd.jupyter.widget-view+json": {
       "model_id": "7e25cd0f33214cf6b4af2c9ad74b0d98",
       "version_major": 2,
       "version_minor": 0
      },
      "text/plain": [
       "test:   0%|          | 0/10000 [00:00<?, ?it/s]"
      ]
     },
     "metadata": {},
     "output_type": "display_data"
    },
    {
     "name": "stdout",
     "output_type": "stream",
     "text": [
      "train: {'accuracy': 0.53605} loss: 0.6839372242510319\n",
      "train val: {'accuracy': 0.6368} loss: 0.6614774275302887\n",
      "test: {'accuracy': 0.5698} loss: 0.697131347322464\n",
      "epoch 15\n"
     ]
    },
    {
     "data": {
      "application/vnd.jupyter.widget-view+json": {
       "model_id": "2a6df4c540374110a355bb7c68773f32",
       "version_major": 2,
       "version_minor": 0
      },
      "text/plain": [
       "train:   0%|          | 0/20000 [00:00<?, ?it/s]"
      ]
     },
     "metadata": {},
     "output_type": "display_data"
    },
    {
     "data": {
      "text/html": [
       "<div>\n",
       "<style scoped>\n",
       "    .dataframe tbody tr th:only-of-type {\n",
       "        vertical-align: middle;\n",
       "    }\n",
       "\n",
       "    .dataframe tbody tr th {\n",
       "        vertical-align: top;\n",
       "    }\n",
       "\n",
       "    .dataframe thead th {\n",
       "        text-align: right;\n",
       "    }\n",
       "</style>\n",
       "<table border=\"1\" class=\"dataframe\">\n",
       "  <thead>\n",
       "    <tr style=\"text-align: right;\">\n",
       "      <th></th>\n",
       "      <th>gen_name</th>\n",
       "      <th>parent_left</th>\n",
       "      <th>child_left</th>\n",
       "      <th>parent_right</th>\n",
       "      <th>child_right</th>\n",
       "      <th>sway_left</th>\n",
       "      <th>sway_right</th>\n",
       "      <th>correct_is_right</th>\n",
       "    </tr>\n",
       "  </thead>\n",
       "  <tbody>\n",
       "    <tr>\n",
       "      <th>0</th>\n",
       "      <td>valid--valid;(sw)</td>\n",
       "      <td>Normal people don't make enemies in the first ...</td>\n",
       "      <td>Most break-ins aren't targeted. But I'm not st...</td>\n",
       "      <td>What color do you think Serbian people are?</td>\n",
       "      <td>Serbians are slavic which is why they made int...</td>\n",
       "      <td>8.698915e-01</td>\n",
       "      <td>1.301085e-01</td>\n",
       "      <td>False</td>\n",
       "    </tr>\n",
       "    <tr>\n",
       "      <th>1</th>\n",
       "      <td>!copy--path;(mtl:20)</td>\n",
       "      <td>This right here. Cars represent freedom and mo...</td>\n",
       "      <td>They mostly don't want us to have cars at all....</td>\n",
       "      <td>They mostly don't want us to have cars at all....</td>\n",
       "      <td>This right here. Cars represent freedom and mo...</td>\n",
       "      <td>1.388789e-11</td>\n",
       "      <td>1.000000e+00</td>\n",
       "      <td>True</td>\n",
       "    </tr>\n",
       "    <tr>\n",
       "      <th>2</th>\n",
       "      <td>valid--valid</td>\n",
       "      <td>So thumbs up is now white power as well? Holy ...</td>\n",
       "      <td>Hate school shootings? Well just wait until th...</td>\n",
       "      <td>These Trumpers are just lining up for the firi...</td>\n",
       "      <td>Doesn't matter because to them; they're doing ...</td>\n",
       "      <td>1.192029e-01</td>\n",
       "      <td>8.807971e-01</td>\n",
       "      <td>True</td>\n",
       "    </tr>\n",
       "    <tr>\n",
       "      <th>3</th>\n",
       "      <td>*path--random;(sw)</td>\n",
       "      <td>t/news</td>\n",
       "      <td>[A Canadian veteran sought treatment for PTSD....</td>\n",
       "      <td>Absolutely correct. My take on it, as someone ...</td>\n",
       "      <td>Cartel owned tourist destinations have some of...</td>\n",
       "      <td>1.000000e+00</td>\n",
       "      <td>6.914400e-13</td>\n",
       "      <td>False</td>\n",
       "    </tr>\n",
       "  </tbody>\n",
       "</table>\n",
       "</div>"
      ],
      "text/plain": [
       "               gen_name                                        parent_left  \\\n",
       "0     valid--valid;(sw)  Normal people don't make enemies in the first ...   \n",
       "1  !copy--path;(mtl:20)  This right here. Cars represent freedom and mo...   \n",
       "2          valid--valid  So thumbs up is now white power as well? Holy ...   \n",
       "3    *path--random;(sw)                                             t/news   \n",
       "\n",
       "                                          child_left  \\\n",
       "0  Most break-ins aren't targeted. But I'm not st...   \n",
       "1  They mostly don't want us to have cars at all....   \n",
       "2  Hate school shootings? Well just wait until th...   \n",
       "3  [A Canadian veteran sought treatment for PTSD....   \n",
       "\n",
       "                                        parent_right  \\\n",
       "0        What color do you think Serbian people are?   \n",
       "1  They mostly don't want us to have cars at all....   \n",
       "2  These Trumpers are just lining up for the firi...   \n",
       "3  Absolutely correct. My take on it, as someone ...   \n",
       "\n",
       "                                         child_right     sway_left  \\\n",
       "0  Serbians are slavic which is why they made int...  8.698915e-01   \n",
       "1  This right here. Cars represent freedom and mo...  1.388789e-11   \n",
       "2  Doesn't matter because to them; they're doing ...  1.192029e-01   \n",
       "3  Cartel owned tourist destinations have some of...  1.000000e+00   \n",
       "\n",
       "     sway_right  correct_is_right  \n",
       "0  1.301085e-01             False  \n",
       "1  1.000000e+00              True  \n",
       "2  8.807971e-01              True  \n",
       "3  6.914400e-13             False  "
      ]
     },
     "metadata": {},
     "output_type": "display_data"
    },
    {
     "data": {
      "application/vnd.jupyter.widget-view+json": {
       "model_id": "0a115b5cc494427dafdc74a015b0d459",
       "version_major": 2,
       "version_minor": 0
      },
      "text/plain": [
       "train val:   0%|          | 0/10000 [00:00<?, ?it/s]"
      ]
     },
     "metadata": {},
     "output_type": "display_data"
    },
    {
     "data": {
      "application/vnd.jupyter.widget-view+json": {
       "model_id": "c8f5a5528906448bb00bace09710ffb4",
       "version_major": 2,
       "version_minor": 0
      },
      "text/plain": [
       "test:   0%|          | 0/10000 [00:00<?, ?it/s]"
      ]
     },
     "metadata": {},
     "output_type": "display_data"
    },
    {
     "name": "stdout",
     "output_type": "stream",
     "text": [
      "train: {'accuracy': 0.5452} loss: 0.6875554018735885\n",
      "train val: {'accuracy': 0.6374} loss: 0.6474509910583496\n",
      "test: {'accuracy': 0.5456} loss: 0.6934551750659943\n",
      "epoch 16\n"
     ]
    },
    {
     "data": {
      "application/vnd.jupyter.widget-view+json": {
       "model_id": "4a4e6aba21804fca8563a9041183cd80",
       "version_major": 2,
       "version_minor": 0
      },
      "text/plain": [
       "train:   0%|          | 0/20000 [00:00<?, ?it/s]"
      ]
     },
     "metadata": {},
     "output_type": "display_data"
    },
    {
     "data": {
      "text/html": [
       "<div>\n",
       "<style scoped>\n",
       "    .dataframe tbody tr th:only-of-type {\n",
       "        vertical-align: middle;\n",
       "    }\n",
       "\n",
       "    .dataframe tbody tr th {\n",
       "        vertical-align: top;\n",
       "    }\n",
       "\n",
       "    .dataframe thead th {\n",
       "        text-align: right;\n",
       "    }\n",
       "</style>\n",
       "<table border=\"1\" class=\"dataframe\">\n",
       "  <thead>\n",
       "    <tr style=\"text-align: right;\">\n",
       "      <th></th>\n",
       "      <th>gen_name</th>\n",
       "      <th>parent_left</th>\n",
       "      <th>child_left</th>\n",
       "      <th>parent_right</th>\n",
       "      <th>child_right</th>\n",
       "      <th>sway_left</th>\n",
       "      <th>sway_right</th>\n",
       "      <th>correct_is_right</th>\n",
       "    </tr>\n",
       "  </thead>\n",
       "  <tbody>\n",
       "    <tr>\n",
       "      <th>0</th>\n",
       "      <td>*valid--!valid;(mtl:20)</td>\n",
       "      <td>[Donald Trump’s Legacy Is Convincing Idiots Th...</td>\n",
       "      <td>Donald Trump's legacy is proving that idiots c...</td>\n",
       "      <td>&gt; Hezbollah-Iranian delivered (Saudi-funded. W...</td>\n",
       "      <td>Russia helps Assad keep internal power but won...</td>\n",
       "      <td>7.310586e-01</td>\n",
       "      <td>0.268941</td>\n",
       "      <td>False</td>\n",
       "    </tr>\n",
       "    <tr>\n",
       "      <th>1</th>\n",
       "      <td>!copy--valid;(sw)</td>\n",
       "      <td>They actually serve in pairs up here. 9-5 ever...</td>\n",
       "      <td>...couple of Mounties would be great...</td>\n",
       "      <td>...couple of Mounties would be great...</td>\n",
       "      <td>They actually serve in pairs up here. 9-5 ever...</td>\n",
       "      <td>1.798621e-02</td>\n",
       "      <td>0.982014</td>\n",
       "      <td>True</td>\n",
       "    </tr>\n",
       "    <tr>\n",
       "      <th>2</th>\n",
       "      <td>random--path;(mtl:20)</td>\n",
       "      <td>I had some big cummies after reading this ☺️</td>\n",
       "      <td>Anyone that believes their faith in a supreme ...</td>\n",
       "      <td>It’s fine for them to cheat because they alrea...</td>\n",
       "      <td>“Look what you made us do!”</td>\n",
       "      <td>2.789468e-10</td>\n",
       "      <td>1.000000</td>\n",
       "      <td>True</td>\n",
       "    </tr>\n",
       "    <tr>\n",
       "      <th>3</th>\n",
       "      <td>random--path;(sw)</td>\n",
       "      <td>I mean I know the mental wards were closed bec...</td>\n",
       "      <td>If Mitch wants the Senate, he's going to have ...</td>\n",
       "      <td>There was 930,160 abortions performed within t...</td>\n",
       "      <td>[removed]</td>\n",
       "      <td>1.501182e-03</td>\n",
       "      <td>0.998499</td>\n",
       "      <td>True</td>\n",
       "    </tr>\n",
       "  </tbody>\n",
       "</table>\n",
       "</div>"
      ],
      "text/plain": [
       "                  gen_name                                        parent_left  \\\n",
       "0  *valid--!valid;(mtl:20)  [Donald Trump’s Legacy Is Convincing Idiots Th...   \n",
       "1        !copy--valid;(sw)  They actually serve in pairs up here. 9-5 ever...   \n",
       "2    random--path;(mtl:20)       I had some big cummies after reading this ☺️   \n",
       "3        random--path;(sw)  I mean I know the mental wards were closed bec...   \n",
       "\n",
       "                                          child_left  \\\n",
       "0  Donald Trump's legacy is proving that idiots c...   \n",
       "1            ...couple of Mounties would be great...   \n",
       "2  Anyone that believes their faith in a supreme ...   \n",
       "3  If Mitch wants the Senate, he's going to have ...   \n",
       "\n",
       "                                        parent_right  \\\n",
       "0  > Hezbollah-Iranian delivered (Saudi-funded. W...   \n",
       "1            ...couple of Mounties would be great...   \n",
       "2  It’s fine for them to cheat because they alrea...   \n",
       "3  There was 930,160 abortions performed within t...   \n",
       "\n",
       "                                         child_right     sway_left  \\\n",
       "0  Russia helps Assad keep internal power but won...  7.310586e-01   \n",
       "1  They actually serve in pairs up here. 9-5 ever...  1.798621e-02   \n",
       "2                        “Look what you made us do!”  2.789468e-10   \n",
       "3                                          [removed]  1.501182e-03   \n",
       "\n",
       "   sway_right  correct_is_right  \n",
       "0    0.268941             False  \n",
       "1    0.982014              True  \n",
       "2    1.000000              True  \n",
       "3    0.998499              True  "
      ]
     },
     "metadata": {},
     "output_type": "display_data"
    },
    {
     "data": {
      "application/vnd.jupyter.widget-view+json": {
       "model_id": "0430398f39494d049b065f90bbc23572",
       "version_major": 2,
       "version_minor": 0
      },
      "text/plain": [
       "train val:   0%|          | 0/10000 [00:00<?, ?it/s]"
      ]
     },
     "metadata": {},
     "output_type": "display_data"
    },
    {
     "data": {
      "application/vnd.jupyter.widget-view+json": {
       "model_id": "d4b59c34e0a546e79f0a0824d8bf3a6f",
       "version_major": 2,
       "version_minor": 0
      },
      "text/plain": [
       "test:   0%|          | 0/10000 [00:00<?, ?it/s]"
      ]
     },
     "metadata": {},
     "output_type": "display_data"
    },
    {
     "name": "stdout",
     "output_type": "stream",
     "text": [
      "train: {'accuracy': 0.5297} loss: 0.6894354563891888\n",
      "train val: {'accuracy': 0.6236} loss: 0.6818699023246765\n",
      "test: {'accuracy': 0.5368} loss: 0.6950098453521728\n",
      "epoch 17\n"
     ]
    },
    {
     "data": {
      "application/vnd.jupyter.widget-view+json": {
       "model_id": "7ed3ff5818b24a9c832c5d15ecde42a5",
       "version_major": 2,
       "version_minor": 0
      },
      "text/plain": [
       "train:   0%|          | 0/20000 [00:00<?, ?it/s]"
      ]
     },
     "metadata": {},
     "output_type": "display_data"
    },
    {
     "data": {
      "text/html": [
       "<div>\n",
       "<style scoped>\n",
       "    .dataframe tbody tr th:only-of-type {\n",
       "        vertical-align: middle;\n",
       "    }\n",
       "\n",
       "    .dataframe tbody tr th {\n",
       "        vertical-align: top;\n",
       "    }\n",
       "\n",
       "    .dataframe thead th {\n",
       "        text-align: right;\n",
       "    }\n",
       "</style>\n",
       "<table border=\"1\" class=\"dataframe\">\n",
       "  <thead>\n",
       "    <tr style=\"text-align: right;\">\n",
       "      <th></th>\n",
       "      <th>gen_name</th>\n",
       "      <th>parent_left</th>\n",
       "      <th>child_left</th>\n",
       "      <th>parent_right</th>\n",
       "      <th>child_right</th>\n",
       "      <th>sway_left</th>\n",
       "      <th>sway_right</th>\n",
       "      <th>correct_is_right</th>\n",
       "    </tr>\n",
       "  </thead>\n",
       "  <tbody>\n",
       "    <tr>\n",
       "      <th>0</th>\n",
       "      <td>*valid--!valid;(mtl:20)</td>\n",
       "      <td>Yeah. You really get the sense that the moment...</td>\n",
       "      <td>And with all that power, he cannot reverse the...</td>\n",
       "      <td>Again you're trying to make a point about demi...</td>\n",
       "      <td>I don't think it's a weird comparison at all, ...</td>\n",
       "      <td>1.000000</td>\n",
       "      <td>3.873998e-21</td>\n",
       "      <td>False</td>\n",
       "    </tr>\n",
       "    <tr>\n",
       "      <th>1</th>\n",
       "      <td>*valid--!copy;(sw)</td>\n",
       "      <td>Just a random thought. If the documents were a...</td>\n",
       "      <td>There was already a court case on this earlier...</td>\n",
       "      <td>There was already a court case on this earlier...</td>\n",
       "      <td>Just a random thought. If the documents were a...</td>\n",
       "      <td>0.880797</td>\n",
       "      <td>1.192029e-01</td>\n",
       "      <td>False</td>\n",
       "    </tr>\n",
       "    <tr>\n",
       "      <th>2</th>\n",
       "      <td>!valid--valid;(mtl:20)</td>\n",
       "      <td>That would have been a good statement. Instead...</td>\n",
       "      <td>By saying \"this is good, let's work to do even...</td>\n",
       "      <td>Oh, I see you post in conservative. Makes sens...</td>\n",
       "      <td>That argument doesn’t work on us. But you can ...</td>\n",
       "      <td>0.475021</td>\n",
       "      <td>5.249792e-01</td>\n",
       "      <td>True</td>\n",
       "    </tr>\n",
       "    <tr>\n",
       "      <th>3</th>\n",
       "      <td>!copy--valid;(sw)</td>\n",
       "      <td>Why did this need a prime time slot? The weird...</td>\n",
       "      <td>[Biden Slams ‘MAGA Republicans’ in Fiery Speec...</td>\n",
       "      <td>[Biden Slams ‘MAGA Republicans’ in Fiery Speec...</td>\n",
       "      <td>Why did this need a prime time slot? The weird...</td>\n",
       "      <td>0.000136</td>\n",
       "      <td>9.998636e-01</td>\n",
       "      <td>True</td>\n",
       "    </tr>\n",
       "  </tbody>\n",
       "</table>\n",
       "</div>"
      ],
      "text/plain": [
       "                  gen_name                                        parent_left  \\\n",
       "0  *valid--!valid;(mtl:20)  Yeah. You really get the sense that the moment...   \n",
       "1       *valid--!copy;(sw)  Just a random thought. If the documents were a...   \n",
       "2   !valid--valid;(mtl:20)  That would have been a good statement. Instead...   \n",
       "3        !copy--valid;(sw)  Why did this need a prime time slot? The weird...   \n",
       "\n",
       "                                          child_left  \\\n",
       "0  And with all that power, he cannot reverse the...   \n",
       "1  There was already a court case on this earlier...   \n",
       "2  By saying \"this is good, let's work to do even...   \n",
       "3  [Biden Slams ‘MAGA Republicans’ in Fiery Speec...   \n",
       "\n",
       "                                        parent_right  \\\n",
       "0  Again you're trying to make a point about demi...   \n",
       "1  There was already a court case on this earlier...   \n",
       "2  Oh, I see you post in conservative. Makes sens...   \n",
       "3  [Biden Slams ‘MAGA Republicans’ in Fiery Speec...   \n",
       "\n",
       "                                         child_right  sway_left    sway_right  \\\n",
       "0  I don't think it's a weird comparison at all, ...   1.000000  3.873998e-21   \n",
       "1  Just a random thought. If the documents were a...   0.880797  1.192029e-01   \n",
       "2  That argument doesn’t work on us. But you can ...   0.475021  5.249792e-01   \n",
       "3  Why did this need a prime time slot? The weird...   0.000136  9.998636e-01   \n",
       "\n",
       "   correct_is_right  \n",
       "0             False  \n",
       "1             False  \n",
       "2              True  \n",
       "3              True  "
      ]
     },
     "metadata": {},
     "output_type": "display_data"
    },
    {
     "data": {
      "application/vnd.jupyter.widget-view+json": {
       "model_id": "38a147088def4b11bca9e9df859eaebc",
       "version_major": 2,
       "version_minor": 0
      },
      "text/plain": [
       "train val:   0%|          | 0/10000 [00:00<?, ?it/s]"
      ]
     },
     "metadata": {},
     "output_type": "display_data"
    },
    {
     "data": {
      "application/vnd.jupyter.widget-view+json": {
       "model_id": "5963890c24ee455e85f05b2e79e04614",
       "version_major": 2,
       "version_minor": 0
      },
      "text/plain": [
       "test:   0%|          | 0/10000 [00:00<?, ?it/s]"
      ]
     },
     "metadata": {},
     "output_type": "display_data"
    },
    {
     "name": "stdout",
     "output_type": "stream",
     "text": [
      "train: {'accuracy': 0.52405} loss: 0.6916490921020508\n",
      "train val: {'accuracy': 0.5806} loss: 0.6832096351146698\n",
      "test: {'accuracy': 0.5001} loss: 0.6928424548864365\n",
      "epoch 18\n"
     ]
    },
    {
     "data": {
      "application/vnd.jupyter.widget-view+json": {
       "model_id": "2ebf72f71b2444c5be0606d54a64474d",
       "version_major": 2,
       "version_minor": 0
      },
      "text/plain": [
       "train:   0%|          | 0/20000 [00:00<?, ?it/s]"
      ]
     },
     "metadata": {},
     "output_type": "display_data"
    },
    {
     "data": {
      "text/html": [
       "<div>\n",
       "<style scoped>\n",
       "    .dataframe tbody tr th:only-of-type {\n",
       "        vertical-align: middle;\n",
       "    }\n",
       "\n",
       "    .dataframe tbody tr th {\n",
       "        vertical-align: top;\n",
       "    }\n",
       "\n",
       "    .dataframe thead th {\n",
       "        text-align: right;\n",
       "    }\n",
       "</style>\n",
       "<table border=\"1\" class=\"dataframe\">\n",
       "  <thead>\n",
       "    <tr style=\"text-align: right;\">\n",
       "      <th></th>\n",
       "      <th>gen_name</th>\n",
       "      <th>parent_left</th>\n",
       "      <th>child_left</th>\n",
       "      <th>parent_right</th>\n",
       "      <th>child_right</th>\n",
       "      <th>sway_left</th>\n",
       "      <th>sway_right</th>\n",
       "      <th>correct_is_right</th>\n",
       "    </tr>\n",
       "  </thead>\n",
       "  <tbody>\n",
       "    <tr>\n",
       "      <th>0</th>\n",
       "      <td>random--path;(mtl:20)</td>\n",
       "      <td>Looks like it will be encircled by the end of ...</td>\n",
       "      <td>Basically if religion is involved there WILL b...</td>\n",
       "      <td>Likely any letters already endorsed will still...</td>\n",
       "      <td>They’ve called tomorrows strike off (well, pos...</td>\n",
       "      <td>0.006693</td>\n",
       "      <td>0.993307</td>\n",
       "      <td>True</td>\n",
       "    </tr>\n",
       "    <tr>\n",
       "      <th>1</th>\n",
       "      <td>*valid--valid;(sw)</td>\n",
       "      <td>Discussion Thread: Redacted Mar-a-Lago Search ...</td>\n",
       "      <td>So nothing about espionage outright in the way...</td>\n",
       "      <td>In this case, I think the Texas senator’s comp...</td>\n",
       "      <td>&gt;That’s been the goal behind their decades lon...</td>\n",
       "      <td>0.047426</td>\n",
       "      <td>0.952574</td>\n",
       "      <td>True</td>\n",
       "    </tr>\n",
       "    <tr>\n",
       "      <th>2</th>\n",
       "      <td>!valid--valid;(mtl:20)</td>\n",
       "      <td>Do you realize Republicans supported the CARES...</td>\n",
       "      <td>This helps nobody. This spikes inflation and p...</td>\n",
       "      <td>I'm Canadian, so perhaps I am going to get thi...</td>\n",
       "      <td>Not directly. The federal government collects ...</td>\n",
       "      <td>0.268941</td>\n",
       "      <td>0.731059</td>\n",
       "      <td>True</td>\n",
       "    </tr>\n",
       "    <tr>\n",
       "      <th>3</th>\n",
       "      <td>*valid--valid;(mtl:20)</td>\n",
       "      <td>Assuming this judge and the SCOTUS are acting ...</td>\n",
       "      <td>Thanks for that well informed reply. I am hopi...</td>\n",
       "      <td>Reddit really shouldnt be giving these dipshit...</td>\n",
       "      <td>Seriously. Loser son of a loser says more stup...</td>\n",
       "      <td>0.999877</td>\n",
       "      <td>0.000123</td>\n",
       "      <td>False</td>\n",
       "    </tr>\n",
       "  </tbody>\n",
       "</table>\n",
       "</div>"
      ],
      "text/plain": [
       "                 gen_name                                        parent_left  \\\n",
       "0   random--path;(mtl:20)  Looks like it will be encircled by the end of ...   \n",
       "1      *valid--valid;(sw)  Discussion Thread: Redacted Mar-a-Lago Search ...   \n",
       "2  !valid--valid;(mtl:20)  Do you realize Republicans supported the CARES...   \n",
       "3  *valid--valid;(mtl:20)  Assuming this judge and the SCOTUS are acting ...   \n",
       "\n",
       "                                          child_left  \\\n",
       "0  Basically if religion is involved there WILL b...   \n",
       "1  So nothing about espionage outright in the way...   \n",
       "2  This helps nobody. This spikes inflation and p...   \n",
       "3  Thanks for that well informed reply. I am hopi...   \n",
       "\n",
       "                                        parent_right  \\\n",
       "0  Likely any letters already endorsed will still...   \n",
       "1  In this case, I think the Texas senator’s comp...   \n",
       "2  I'm Canadian, so perhaps I am going to get thi...   \n",
       "3  Reddit really shouldnt be giving these dipshit...   \n",
       "\n",
       "                                         child_right  sway_left  sway_right  \\\n",
       "0  They’ve called tomorrows strike off (well, pos...   0.006693    0.993307   \n",
       "1  >That’s been the goal behind their decades lon...   0.047426    0.952574   \n",
       "2  Not directly. The federal government collects ...   0.268941    0.731059   \n",
       "3  Seriously. Loser son of a loser says more stup...   0.999877    0.000123   \n",
       "\n",
       "   correct_is_right  \n",
       "0              True  \n",
       "1              True  \n",
       "2              True  \n",
       "3             False  "
      ]
     },
     "metadata": {},
     "output_type": "display_data"
    },
    {
     "data": {
      "application/vnd.jupyter.widget-view+json": {
       "model_id": "0fb0dc640cd64f48b20ab863d45f2cf5",
       "version_major": 2,
       "version_minor": 0
      },
      "text/plain": [
       "train val:   0%|          | 0/10000 [00:00<?, ?it/s]"
      ]
     },
     "metadata": {},
     "output_type": "display_data"
    },
    {
     "data": {
      "application/vnd.jupyter.widget-view+json": {
       "model_id": "43b8e50dd7ff442993b2debc7791a761",
       "version_major": 2,
       "version_minor": 0
      },
      "text/plain": [
       "test:   0%|          | 0/10000 [00:00<?, ?it/s]"
      ]
     },
     "metadata": {},
     "output_type": "display_data"
    },
    {
     "name": "stdout",
     "output_type": "stream",
     "text": [
      "train: {'accuracy': 0.52615} loss: 0.6910433764457703\n",
      "train val: {'accuracy': 0.5976} loss: 0.6717874307870865\n",
      "test: {'accuracy': 0.4945} loss: 0.695078781580925\n",
      "epoch 19\n"
     ]
    },
    {
     "data": {
      "application/vnd.jupyter.widget-view+json": {
       "model_id": "d6d9366ead7643668397f48d7805e49c",
       "version_major": 2,
       "version_minor": 0
      },
      "text/plain": [
       "train:   0%|          | 0/20000 [00:00<?, ?it/s]"
      ]
     },
     "metadata": {},
     "output_type": "display_data"
    },
    {
     "data": {
      "text/html": [
       "<div>\n",
       "<style scoped>\n",
       "    .dataframe tbody tr th:only-of-type {\n",
       "        vertical-align: middle;\n",
       "    }\n",
       "\n",
       "    .dataframe tbody tr th {\n",
       "        vertical-align: top;\n",
       "    }\n",
       "\n",
       "    .dataframe thead th {\n",
       "        text-align: right;\n",
       "    }\n",
       "</style>\n",
       "<table border=\"1\" class=\"dataframe\">\n",
       "  <thead>\n",
       "    <tr style=\"text-align: right;\">\n",
       "      <th></th>\n",
       "      <th>gen_name</th>\n",
       "      <th>parent_left</th>\n",
       "      <th>child_left</th>\n",
       "      <th>parent_right</th>\n",
       "      <th>child_right</th>\n",
       "      <th>sway_left</th>\n",
       "      <th>sway_right</th>\n",
       "      <th>correct_is_right</th>\n",
       "    </tr>\n",
       "  </thead>\n",
       "  <tbody>\n",
       "    <tr>\n",
       "      <th>0</th>\n",
       "      <td>valid--valid</td>\n",
       "      <td>Baby Boomers are 1946-1964 in the US. The Sile...</td>\n",
       "      <td>They said \"Silent generation Boomers\" so I ass...</td>\n",
       "      <td>[‘Rubio is scared. Val Demings is a dream cand...</td>\n",
       "      <td>I bet there is scripture in the Bible he can r...</td>\n",
       "      <td>0.119203</td>\n",
       "      <td>8.807971e-01</td>\n",
       "      <td>True</td>\n",
       "    </tr>\n",
       "    <tr>\n",
       "      <th>1</th>\n",
       "      <td>valid--valid;(sw)</td>\n",
       "      <td>[removed]</td>\n",
       "      <td>Firearm ownership is legal if you’re in a weal...</td>\n",
       "      <td>[deleted]</td>\n",
       "      <td>I don't think and doctors, bankers, and lawyer...</td>\n",
       "      <td>1.000000</td>\n",
       "      <td>1.604710e-299</td>\n",
       "      <td>False</td>\n",
       "    </tr>\n",
       "    <tr>\n",
       "      <th>2</th>\n",
       "      <td>random--path;(sw)</td>\n",
       "      <td>People won’t be able to use the money if the b...</td>\n",
       "      <td>I keep making the joke that the snow storm of ...</td>\n",
       "      <td>t/news</td>\n",
       "      <td>[Former Louisville officer to plead guilty to ...</td>\n",
       "      <td>0.000000</td>\n",
       "      <td>1.000000e+00</td>\n",
       "      <td>True</td>\n",
       "    </tr>\n",
       "    <tr>\n",
       "      <th>3</th>\n",
       "      <td>*path--!copy;(sw)</td>\n",
       "      <td>[Biden rebukes the criticism that student-loan...</td>\n",
       "      <td>If I had to walk across broken glass to get to...</td>\n",
       "      <td>If I had to walk across broken glass to get to...</td>\n",
       "      <td>[Biden rebukes the criticism that student-loan...</td>\n",
       "      <td>1.000000</td>\n",
       "      <td>0.000000e+00</td>\n",
       "      <td>False</td>\n",
       "    </tr>\n",
       "  </tbody>\n",
       "</table>\n",
       "</div>"
      ],
      "text/plain": [
       "            gen_name                                        parent_left  \\\n",
       "0       valid--valid  Baby Boomers are 1946-1964 in the US. The Sile...   \n",
       "1  valid--valid;(sw)                                          [removed]   \n",
       "2  random--path;(sw)  People won’t be able to use the money if the b...   \n",
       "3  *path--!copy;(sw)  [Biden rebukes the criticism that student-loan...   \n",
       "\n",
       "                                          child_left  \\\n",
       "0  They said \"Silent generation Boomers\" so I ass...   \n",
       "1  Firearm ownership is legal if you’re in a weal...   \n",
       "2  I keep making the joke that the snow storm of ...   \n",
       "3  If I had to walk across broken glass to get to...   \n",
       "\n",
       "                                        parent_right  \\\n",
       "0  [‘Rubio is scared. Val Demings is a dream cand...   \n",
       "1                                          [deleted]   \n",
       "2                                             t/news   \n",
       "3  If I had to walk across broken glass to get to...   \n",
       "\n",
       "                                         child_right  sway_left  \\\n",
       "0  I bet there is scripture in the Bible he can r...   0.119203   \n",
       "1  I don't think and doctors, bankers, and lawyer...   1.000000   \n",
       "2  [Former Louisville officer to plead guilty to ...   0.000000   \n",
       "3  [Biden rebukes the criticism that student-loan...   1.000000   \n",
       "\n",
       "      sway_right  correct_is_right  \n",
       "0   8.807971e-01              True  \n",
       "1  1.604710e-299             False  \n",
       "2   1.000000e+00              True  \n",
       "3   0.000000e+00             False  "
      ]
     },
     "metadata": {},
     "output_type": "display_data"
    },
    {
     "data": {
      "application/vnd.jupyter.widget-view+json": {
       "model_id": "e8765e2a84e144caaf309c68f449f852",
       "version_major": 2,
       "version_minor": 0
      },
      "text/plain": [
       "train val:   0%|          | 0/10000 [00:00<?, ?it/s]"
      ]
     },
     "metadata": {},
     "output_type": "display_data"
    },
    {
     "data": {
      "application/vnd.jupyter.widget-view+json": {
       "model_id": "c14f5075eaa64f1c9b5556af51b76908",
       "version_major": 2,
       "version_minor": 0
      },
      "text/plain": [
       "test:   0%|          | 0/10000 [00:00<?, ?it/s]"
      ]
     },
     "metadata": {},
     "output_type": "display_data"
    },
    {
     "name": "stdout",
     "output_type": "stream",
     "text": [
      "train: {'accuracy': 0.52715} loss: 0.6906506502628327\n",
      "train val: {'accuracy': 0.5956} loss: 0.680089951634407\n",
      "test: {'accuracy': 0.5011} loss: 0.6932762549877167\n",
      "epoch 20\n"
     ]
    },
    {
     "data": {
      "application/vnd.jupyter.widget-view+json": {
       "model_id": "2499b55e39b34e4fb15ba00b5a64aef7",
       "version_major": 2,
       "version_minor": 0
      },
      "text/plain": [
       "train:   0%|          | 0/20000 [00:00<?, ?it/s]"
      ]
     },
     "metadata": {},
     "output_type": "display_data"
    },
    {
     "data": {
      "text/html": [
       "<div>\n",
       "<style scoped>\n",
       "    .dataframe tbody tr th:only-of-type {\n",
       "        vertical-align: middle;\n",
       "    }\n",
       "\n",
       "    .dataframe tbody tr th {\n",
       "        vertical-align: top;\n",
       "    }\n",
       "\n",
       "    .dataframe thead th {\n",
       "        text-align: right;\n",
       "    }\n",
       "</style>\n",
       "<table border=\"1\" class=\"dataframe\">\n",
       "  <thead>\n",
       "    <tr style=\"text-align: right;\">\n",
       "      <th></th>\n",
       "      <th>gen_name</th>\n",
       "      <th>parent_left</th>\n",
       "      <th>child_left</th>\n",
       "      <th>parent_right</th>\n",
       "      <th>child_right</th>\n",
       "      <th>sway_left</th>\n",
       "      <th>sway_right</th>\n",
       "      <th>correct_is_right</th>\n",
       "    </tr>\n",
       "  </thead>\n",
       "  <tbody>\n",
       "    <tr>\n",
       "      <th>0</th>\n",
       "      <td>*path--!copy;(mtl:20)</td>\n",
       "      <td>Age limits would help prevent power from becom...</td>\n",
       "      <td>I would like to hope that it also really force...</td>\n",
       "      <td>I would like to hope that it also really force...</td>\n",
       "      <td>Age limits would help prevent power from becom...</td>\n",
       "      <td>0.999877</td>\n",
       "      <td>0.000123</td>\n",
       "      <td>False</td>\n",
       "    </tr>\n",
       "    <tr>\n",
       "      <th>1</th>\n",
       "      <td>valid--valid;(sw)</td>\n",
       "      <td>If he can dodge a wrench he can…I suspect he c...</td>\n",
       "      <td>What do you mean? He's dodging the grim reaper...</td>\n",
       "      <td>Yup. The district is trying especially to clam...</td>\n",
       "      <td>I taught 10 years ago. Wasn’t allowed to be ou...</td>\n",
       "      <td>0.119203</td>\n",
       "      <td>0.880797</td>\n",
       "      <td>True</td>\n",
       "    </tr>\n",
       "    <tr>\n",
       "      <th>2</th>\n",
       "      <td>valid--valid;(mtl:20)</td>\n",
       "      <td>Yeah, I really hate politics. I think most of ...</td>\n",
       "      <td>Interesting that those policies are what merit...</td>\n",
       "      <td>Was talking to my libertarian FIL not long ago...</td>\n",
       "      <td>China pays for their citizens to have cheap co...</td>\n",
       "      <td>0.182426</td>\n",
       "      <td>0.817574</td>\n",
       "      <td>True</td>\n",
       "    </tr>\n",
       "    <tr>\n",
       "      <th>3</th>\n",
       "      <td>valid--valid;(mtl:20)</td>\n",
       "      <td>Student loans recently eclipsed car loans as t...</td>\n",
       "      <td>We're already there. Imo more free money won't...</td>\n",
       "      <td>Very true. I would say though that fan fiction...</td>\n",
       "      <td>That wouldn't make it not fan-fic, though, jus...</td>\n",
       "      <td>0.731059</td>\n",
       "      <td>0.268941</td>\n",
       "      <td>False</td>\n",
       "    </tr>\n",
       "  </tbody>\n",
       "</table>\n",
       "</div>"
      ],
      "text/plain": [
       "                gen_name                                        parent_left  \\\n",
       "0  *path--!copy;(mtl:20)  Age limits would help prevent power from becom...   \n",
       "1      valid--valid;(sw)  If he can dodge a wrench he can…I suspect he c...   \n",
       "2  valid--valid;(mtl:20)  Yeah, I really hate politics. I think most of ...   \n",
       "3  valid--valid;(mtl:20)  Student loans recently eclipsed car loans as t...   \n",
       "\n",
       "                                          child_left  \\\n",
       "0  I would like to hope that it also really force...   \n",
       "1  What do you mean? He's dodging the grim reaper...   \n",
       "2  Interesting that those policies are what merit...   \n",
       "3  We're already there. Imo more free money won't...   \n",
       "\n",
       "                                        parent_right  \\\n",
       "0  I would like to hope that it also really force...   \n",
       "1  Yup. The district is trying especially to clam...   \n",
       "2  Was talking to my libertarian FIL not long ago...   \n",
       "3  Very true. I would say though that fan fiction...   \n",
       "\n",
       "                                         child_right  sway_left  sway_right  \\\n",
       "0  Age limits would help prevent power from becom...   0.999877    0.000123   \n",
       "1  I taught 10 years ago. Wasn’t allowed to be ou...   0.119203    0.880797   \n",
       "2  China pays for their citizens to have cheap co...   0.182426    0.817574   \n",
       "3  That wouldn't make it not fan-fic, though, jus...   0.731059    0.268941   \n",
       "\n",
       "   correct_is_right  \n",
       "0             False  \n",
       "1              True  \n",
       "2              True  \n",
       "3             False  "
      ]
     },
     "metadata": {},
     "output_type": "display_data"
    },
    {
     "data": {
      "application/vnd.jupyter.widget-view+json": {
       "model_id": "8eadd2261ca14bbbb11d37278ba5ae91",
       "version_major": 2,
       "version_minor": 0
      },
      "text/plain": [
       "train val:   0%|          | 0/10000 [00:00<?, ?it/s]"
      ]
     },
     "metadata": {},
     "output_type": "display_data"
    },
    {
     "data": {
      "application/vnd.jupyter.widget-view+json": {
       "model_id": "c2767b751a384e4d9b462c2b36f1e166",
       "version_major": 2,
       "version_minor": 0
      },
      "text/plain": [
       "test:   0%|          | 0/10000 [00:00<?, ?it/s]"
      ]
     },
     "metadata": {},
     "output_type": "display_data"
    },
    {
     "name": "stdout",
     "output_type": "stream",
     "text": [
      "train: {'accuracy': 0.52435} loss: 0.6909876596093177\n",
      "train val: {'accuracy': 0.6067} loss: 0.6757128124475479\n",
      "test: {'accuracy': 0.501} loss: 0.6934916768550873\n",
      "epoch 21\n"
     ]
    },
    {
     "data": {
      "application/vnd.jupyter.widget-view+json": {
       "model_id": "f05cb25a07ed4185ac2375d296a8836c",
       "version_major": 2,
       "version_minor": 0
      },
      "text/plain": [
       "train:   0%|          | 0/20000 [00:00<?, ?it/s]"
      ]
     },
     "metadata": {},
     "output_type": "display_data"
    },
    {
     "data": {
      "text/html": [
       "<div>\n",
       "<style scoped>\n",
       "    .dataframe tbody tr th:only-of-type {\n",
       "        vertical-align: middle;\n",
       "    }\n",
       "\n",
       "    .dataframe tbody tr th {\n",
       "        vertical-align: top;\n",
       "    }\n",
       "\n",
       "    .dataframe thead th {\n",
       "        text-align: right;\n",
       "    }\n",
       "</style>\n",
       "<table border=\"1\" class=\"dataframe\">\n",
       "  <thead>\n",
       "    <tr style=\"text-align: right;\">\n",
       "      <th></th>\n",
       "      <th>gen_name</th>\n",
       "      <th>parent_left</th>\n",
       "      <th>child_left</th>\n",
       "      <th>parent_right</th>\n",
       "      <th>child_right</th>\n",
       "      <th>sway_left</th>\n",
       "      <th>sway_right</th>\n",
       "      <th>correct_is_right</th>\n",
       "    </tr>\n",
       "  </thead>\n",
       "  <tbody>\n",
       "    <tr>\n",
       "      <th>0</th>\n",
       "      <td>*valid--!valid;(mtl:20)</td>\n",
       "      <td>the actions of the British government led to t...</td>\n",
       "      <td>*How* should the government deal with it? The ...</td>\n",
       "      <td>All the comments there are claiming its all op...</td>\n",
       "      <td>The conservative sub is hilarious. They’re not...</td>\n",
       "      <td>7.310586e-01</td>\n",
       "      <td>0.268941</td>\n",
       "      <td>False</td>\n",
       "    </tr>\n",
       "    <tr>\n",
       "      <th>1</th>\n",
       "      <td>valid--valid;(mtl:20)</td>\n",
       "      <td>They want the free college without the merit t...</td>\n",
       "      <td>Most other countries don't have the merit test...</td>\n",
       "      <td>&gt; Adious Do you mean adieu?</td>\n",
       "      <td>Adieu will work too!</td>\n",
       "      <td>1.192029e-01</td>\n",
       "      <td>0.880797</td>\n",
       "      <td>True</td>\n",
       "    </tr>\n",
       "    <tr>\n",
       "      <th>2</th>\n",
       "      <td>valid--valid</td>\n",
       "      <td>They're creating a problem and then selling th...</td>\n",
       "      <td>Straight out of the Christian playbook</td>\n",
       "      <td>Oh, so he only tried to dehumanize 22 million ...</td>\n",
       "      <td>Oh noooo Brandon made fun of the feelings of p...</td>\n",
       "      <td>8.315280e-07</td>\n",
       "      <td>0.999999</td>\n",
       "      <td>True</td>\n",
       "    </tr>\n",
       "    <tr>\n",
       "      <th>3</th>\n",
       "      <td>!valid--valid;(mtl:20)</td>\n",
       "      <td>Huh. Hungary, I’m not surprised. But why Austria?</td>\n",
       "      <td>Hungary and Austria for those who dont want to...</td>\n",
       "      <td>The good ones aren't yelling about their faith...</td>\n",
       "      <td>There are no ‘good conservatives’ left in DC. ...</td>\n",
       "      <td>4.742587e-02</td>\n",
       "      <td>0.952574</td>\n",
       "      <td>True</td>\n",
       "    </tr>\n",
       "  </tbody>\n",
       "</table>\n",
       "</div>"
      ],
      "text/plain": [
       "                  gen_name                                        parent_left  \\\n",
       "0  *valid--!valid;(mtl:20)  the actions of the British government led to t...   \n",
       "1    valid--valid;(mtl:20)  They want the free college without the merit t...   \n",
       "2             valid--valid  They're creating a problem and then selling th...   \n",
       "3   !valid--valid;(mtl:20)  Huh. Hungary, I’m not surprised. But why Austria?   \n",
       "\n",
       "                                          child_left  \\\n",
       "0  *How* should the government deal with it? The ...   \n",
       "1  Most other countries don't have the merit test...   \n",
       "2             Straight out of the Christian playbook   \n",
       "3  Hungary and Austria for those who dont want to...   \n",
       "\n",
       "                                        parent_right  \\\n",
       "0  All the comments there are claiming its all op...   \n",
       "1                        > Adious Do you mean adieu?   \n",
       "2  Oh, so he only tried to dehumanize 22 million ...   \n",
       "3  The good ones aren't yelling about their faith...   \n",
       "\n",
       "                                         child_right     sway_left  \\\n",
       "0  The conservative sub is hilarious. They’re not...  7.310586e-01   \n",
       "1                               Adieu will work too!  1.192029e-01   \n",
       "2  Oh noooo Brandon made fun of the feelings of p...  8.315280e-07   \n",
       "3  There are no ‘good conservatives’ left in DC. ...  4.742587e-02   \n",
       "\n",
       "   sway_right  correct_is_right  \n",
       "0    0.268941             False  \n",
       "1    0.880797              True  \n",
       "2    0.999999              True  \n",
       "3    0.952574              True  "
      ]
     },
     "metadata": {},
     "output_type": "display_data"
    },
    {
     "data": {
      "application/vnd.jupyter.widget-view+json": {
       "model_id": "63291676e64b421a9884ab1867844ede",
       "version_major": 2,
       "version_minor": 0
      },
      "text/plain": [
       "train val:   0%|          | 0/10000 [00:00<?, ?it/s]"
      ]
     },
     "metadata": {},
     "output_type": "display_data"
    },
    {
     "data": {
      "application/vnd.jupyter.widget-view+json": {
       "model_id": "b1d2e0f5dc4e411cb0aa1b02db7724b7",
       "version_major": 2,
       "version_minor": 0
      },
      "text/plain": [
       "test:   0%|          | 0/10000 [00:00<?, ?it/s]"
      ]
     },
     "metadata": {},
     "output_type": "display_data"
    },
    {
     "name": "stdout",
     "output_type": "stream",
     "text": [
      "train: {'accuracy': 0.53035} loss: 0.689197074007988\n",
      "train val: {'accuracy': 0.6335} loss: 0.6503269580602646\n",
      "test: {'accuracy': 0.5049} loss: 0.6935852208137512\n",
      "epoch 22\n"
     ]
    },
    {
     "data": {
      "application/vnd.jupyter.widget-view+json": {
       "model_id": "ffe098776516417d816f5c5aa76906c2",
       "version_major": 2,
       "version_minor": 0
      },
      "text/plain": [
       "train:   0%|          | 0/20000 [00:00<?, ?it/s]"
      ]
     },
     "metadata": {},
     "output_type": "display_data"
    },
    {
     "data": {
      "text/html": [
       "<div>\n",
       "<style scoped>\n",
       "    .dataframe tbody tr th:only-of-type {\n",
       "        vertical-align: middle;\n",
       "    }\n",
       "\n",
       "    .dataframe tbody tr th {\n",
       "        vertical-align: top;\n",
       "    }\n",
       "\n",
       "    .dataframe thead th {\n",
       "        text-align: right;\n",
       "    }\n",
       "</style>\n",
       "<table border=\"1\" class=\"dataframe\">\n",
       "  <thead>\n",
       "    <tr style=\"text-align: right;\">\n",
       "      <th></th>\n",
       "      <th>gen_name</th>\n",
       "      <th>parent_left</th>\n",
       "      <th>child_left</th>\n",
       "      <th>parent_right</th>\n",
       "      <th>child_right</th>\n",
       "      <th>sway_left</th>\n",
       "      <th>sway_right</th>\n",
       "      <th>correct_is_right</th>\n",
       "    </tr>\n",
       "  </thead>\n",
       "  <tbody>\n",
       "    <tr>\n",
       "      <th>0</th>\n",
       "      <td>!copy--path;(sw)</td>\n",
       "      <td>[Teachers at Ohio's largest school district vo...</td>\n",
       "      <td>t/news</td>\n",
       "      <td>t/news</td>\n",
       "      <td>[Teachers at Ohio's largest school district vo...</td>\n",
       "      <td>0.000000</td>\n",
       "      <td>1.000000</td>\n",
       "      <td>True</td>\n",
       "    </tr>\n",
       "    <tr>\n",
       "      <th>1</th>\n",
       "      <td>!copy--valid;(sw)</td>\n",
       "      <td>He made a deal with the evangelical church lea...</td>\n",
       "      <td>Exactly. Trump doesn’t give a fuck about the S...</td>\n",
       "      <td>Exactly. Trump doesn’t give a fuck about the S...</td>\n",
       "      <td>He made a deal with the evangelical church lea...</td>\n",
       "      <td>0.119203</td>\n",
       "      <td>0.880797</td>\n",
       "      <td>True</td>\n",
       "    </tr>\n",
       "    <tr>\n",
       "      <th>2</th>\n",
       "      <td>*path--random;(sw)</td>\n",
       "      <td>Do you have any idea how many natives died? Ho...</td>\n",
       "      <td>Again which one one person are you talking abo...</td>\n",
       "      <td>And when you ask them who Trump exposed they j...</td>\n",
       "      <td>Yeah I agree he called all indians intelligent...</td>\n",
       "      <td>0.880797</td>\n",
       "      <td>0.119203</td>\n",
       "      <td>False</td>\n",
       "    </tr>\n",
       "    <tr>\n",
       "      <th>3</th>\n",
       "      <td>*valid--!valid;(sw)</td>\n",
       "      <td>[Andrew Tate banned from Facebook and Instagra...</td>\n",
       "      <td>Although I don't agree with what everything he...</td>\n",
       "      <td>In my personal experience Mexicans are hard wo...</td>\n",
       "      <td>Western companies have been moving out since 2...</td>\n",
       "      <td>0.995033</td>\n",
       "      <td>0.004967</td>\n",
       "      <td>False</td>\n",
       "    </tr>\n",
       "  </tbody>\n",
       "</table>\n",
       "</div>"
      ],
      "text/plain": [
       "              gen_name                                        parent_left  \\\n",
       "0     !copy--path;(sw)  [Teachers at Ohio's largest school district vo...   \n",
       "1    !copy--valid;(sw)  He made a deal with the evangelical church lea...   \n",
       "2   *path--random;(sw)  Do you have any idea how many natives died? Ho...   \n",
       "3  *valid--!valid;(sw)  [Andrew Tate banned from Facebook and Instagra...   \n",
       "\n",
       "                                          child_left  \\\n",
       "0                                             t/news   \n",
       "1  Exactly. Trump doesn’t give a fuck about the S...   \n",
       "2  Again which one one person are you talking abo...   \n",
       "3  Although I don't agree with what everything he...   \n",
       "\n",
       "                                        parent_right  \\\n",
       "0                                             t/news   \n",
       "1  Exactly. Trump doesn’t give a fuck about the S...   \n",
       "2  And when you ask them who Trump exposed they j...   \n",
       "3  In my personal experience Mexicans are hard wo...   \n",
       "\n",
       "                                         child_right  sway_left  sway_right  \\\n",
       "0  [Teachers at Ohio's largest school district vo...   0.000000    1.000000   \n",
       "1  He made a deal with the evangelical church lea...   0.119203    0.880797   \n",
       "2  Yeah I agree he called all indians intelligent...   0.880797    0.119203   \n",
       "3  Western companies have been moving out since 2...   0.995033    0.004967   \n",
       "\n",
       "   correct_is_right  \n",
       "0              True  \n",
       "1              True  \n",
       "2             False  \n",
       "3             False  "
      ]
     },
     "metadata": {},
     "output_type": "display_data"
    },
    {
     "data": {
      "application/vnd.jupyter.widget-view+json": {
       "model_id": "cdf5497e7463494985b28e33ff4bea4c",
       "version_major": 2,
       "version_minor": 0
      },
      "text/plain": [
       "train val:   0%|          | 0/10000 [00:00<?, ?it/s]"
      ]
     },
     "metadata": {},
     "output_type": "display_data"
    },
    {
     "data": {
      "application/vnd.jupyter.widget-view+json": {
       "model_id": "89d0299687ab4b089c06f6f35337e402",
       "version_major": 2,
       "version_minor": 0
      },
      "text/plain": [
       "test:   0%|          | 0/10000 [00:00<?, ?it/s]"
      ]
     },
     "metadata": {},
     "output_type": "display_data"
    },
    {
     "name": "stdout",
     "output_type": "stream",
     "text": [
      "train: {'accuracy': 0.5675} loss: 0.6740693450570107\n",
      "train val: {'accuracy': 0.6135} loss: 0.6475456414818763\n",
      "test: {'accuracy': 0.498} loss: 0.7055580804228783\n",
      "epoch 23\n"
     ]
    },
    {
     "data": {
      "application/vnd.jupyter.widget-view+json": {
       "model_id": "885a5cb010c94470b750ba18170f4bf3",
       "version_major": 2,
       "version_minor": 0
      },
      "text/plain": [
       "train:   0%|          | 0/20000 [00:00<?, ?it/s]"
      ]
     },
     "metadata": {},
     "output_type": "display_data"
    },
    {
     "data": {
      "text/html": [
       "<div>\n",
       "<style scoped>\n",
       "    .dataframe tbody tr th:only-of-type {\n",
       "        vertical-align: middle;\n",
       "    }\n",
       "\n",
       "    .dataframe tbody tr th {\n",
       "        vertical-align: top;\n",
       "    }\n",
       "\n",
       "    .dataframe thead th {\n",
       "        text-align: right;\n",
       "    }\n",
       "</style>\n",
       "<table border=\"1\" class=\"dataframe\">\n",
       "  <thead>\n",
       "    <tr style=\"text-align: right;\">\n",
       "      <th></th>\n",
       "      <th>gen_name</th>\n",
       "      <th>parent_left</th>\n",
       "      <th>child_left</th>\n",
       "      <th>parent_right</th>\n",
       "      <th>child_right</th>\n",
       "      <th>sway_left</th>\n",
       "      <th>sway_right</th>\n",
       "      <th>correct_is_right</th>\n",
       "    </tr>\n",
       "  </thead>\n",
       "  <tbody>\n",
       "    <tr>\n",
       "      <th>0</th>\n",
       "      <td>valid--valid</td>\n",
       "      <td>[removed]</td>\n",
       "      <td>If you want a serious answer, why are you aski...</td>\n",
       "      <td>No. It applies to all genders don’t be silly. ...</td>\n",
       "      <td>“Knowledge is irrelevant?”</td>\n",
       "      <td>0.999877</td>\n",
       "      <td>0.000123</td>\n",
       "      <td>False</td>\n",
       "    </tr>\n",
       "    <tr>\n",
       "      <th>1</th>\n",
       "      <td>*path--!copy;(sw)</td>\n",
       "      <td>It's almost like those government handouts are...</td>\n",
       "      <td>That's the thing. I didn't go to college so th...</td>\n",
       "      <td>That's the thing. I didn't go to college so th...</td>\n",
       "      <td>It's almost like those government handouts are...</td>\n",
       "      <td>0.880797</td>\n",
       "      <td>0.119203</td>\n",
       "      <td>False</td>\n",
       "    </tr>\n",
       "    <tr>\n",
       "      <th>2</th>\n",
       "      <td>random--valid;(sw)</td>\n",
       "      <td>THe process still has to be done. You have to ...</td>\n",
       "      <td>They don't make sense to people with critical ...</td>\n",
       "      <td>Broken clock and all that</td>\n",
       "      <td>In this case, Republicans have fucked up our c...</td>\n",
       "      <td>0.000002</td>\n",
       "      <td>0.999998</td>\n",
       "      <td>True</td>\n",
       "    </tr>\n",
       "    <tr>\n",
       "      <th>3</th>\n",
       "      <td>!copy--path;(mtl:20)</td>\n",
       "      <td>Average student loan debt is $30k, so this is ...</td>\n",
       "      <td>[Biden cancels $10,000 in federal student loan...</td>\n",
       "      <td>[Biden cancels $10,000 in federal student loan...</td>\n",
       "      <td>Average student loan debt is $30k, so this is ...</td>\n",
       "      <td>0.000000</td>\n",
       "      <td>1.000000</td>\n",
       "      <td>True</td>\n",
       "    </tr>\n",
       "  </tbody>\n",
       "</table>\n",
       "</div>"
      ],
      "text/plain": [
       "               gen_name                                        parent_left  \\\n",
       "0          valid--valid                                          [removed]   \n",
       "1     *path--!copy;(sw)  It's almost like those government handouts are...   \n",
       "2    random--valid;(sw)  THe process still has to be done. You have to ...   \n",
       "3  !copy--path;(mtl:20)  Average student loan debt is $30k, so this is ...   \n",
       "\n",
       "                                          child_left  \\\n",
       "0  If you want a serious answer, why are you aski...   \n",
       "1  That's the thing. I didn't go to college so th...   \n",
       "2  They don't make sense to people with critical ...   \n",
       "3  [Biden cancels $10,000 in federal student loan...   \n",
       "\n",
       "                                        parent_right  \\\n",
       "0  No. It applies to all genders don’t be silly. ...   \n",
       "1  That's the thing. I didn't go to college so th...   \n",
       "2                          Broken clock and all that   \n",
       "3  [Biden cancels $10,000 in federal student loan...   \n",
       "\n",
       "                                         child_right  sway_left  sway_right  \\\n",
       "0                         “Knowledge is irrelevant?”   0.999877    0.000123   \n",
       "1  It's almost like those government handouts are...   0.880797    0.119203   \n",
       "2  In this case, Republicans have fucked up our c...   0.000002    0.999998   \n",
       "3  Average student loan debt is $30k, so this is ...   0.000000    1.000000   \n",
       "\n",
       "   correct_is_right  \n",
       "0             False  \n",
       "1             False  \n",
       "2              True  \n",
       "3              True  "
      ]
     },
     "metadata": {},
     "output_type": "display_data"
    },
    {
     "data": {
      "application/vnd.jupyter.widget-view+json": {
       "model_id": "9b4b73b88b1445b4875af04cf114c79c",
       "version_major": 2,
       "version_minor": 0
      },
      "text/plain": [
       "train val:   0%|          | 0/10000 [00:00<?, ?it/s]"
      ]
     },
     "metadata": {},
     "output_type": "display_data"
    },
    {
     "data": {
      "application/vnd.jupyter.widget-view+json": {
       "model_id": "1875527728dc47bb94b057ab6f35980a",
       "version_major": 2,
       "version_minor": 0
      },
      "text/plain": [
       "test:   0%|          | 0/10000 [00:00<?, ?it/s]"
      ]
     },
     "metadata": {},
     "output_type": "display_data"
    },
    {
     "name": "stdout",
     "output_type": "stream",
     "text": [
      "train: {'accuracy': 0.5469} loss: 0.6835635070800781\n",
      "train val: {'accuracy': 0.6068} loss: 0.6592883145332337\n",
      "test: {'accuracy': 0.4825} loss: 0.7032445639133453\n",
      "epoch 24\n"
     ]
    },
    {
     "data": {
      "application/vnd.jupyter.widget-view+json": {
       "model_id": "e0bfcaa0a31742a8bb12b643346c2fcf",
       "version_major": 2,
       "version_minor": 0
      },
      "text/plain": [
       "train:   0%|          | 0/20000 [00:00<?, ?it/s]"
      ]
     },
     "metadata": {},
     "output_type": "display_data"
    },
    {
     "data": {
      "text/html": [
       "<div>\n",
       "<style scoped>\n",
       "    .dataframe tbody tr th:only-of-type {\n",
       "        vertical-align: middle;\n",
       "    }\n",
       "\n",
       "    .dataframe tbody tr th {\n",
       "        vertical-align: top;\n",
       "    }\n",
       "\n",
       "    .dataframe thead th {\n",
       "        text-align: right;\n",
       "    }\n",
       "</style>\n",
       "<table border=\"1\" class=\"dataframe\">\n",
       "  <thead>\n",
       "    <tr style=\"text-align: right;\">\n",
       "      <th></th>\n",
       "      <th>gen_name</th>\n",
       "      <th>parent_left</th>\n",
       "      <th>child_left</th>\n",
       "      <th>parent_right</th>\n",
       "      <th>child_right</th>\n",
       "      <th>sway_left</th>\n",
       "      <th>sway_right</th>\n",
       "      <th>correct_is_right</th>\n",
       "    </tr>\n",
       "  </thead>\n",
       "  <tbody>\n",
       "    <tr>\n",
       "      <th>0</th>\n",
       "      <td>!copy--path;(mtl:20)</td>\n",
       "      <td>It is so weird hearing the BBC reporters talki...</td>\n",
       "      <td>[Queen Elizabeth II has died, Buckingham Palac...</td>\n",
       "      <td>[Queen Elizabeth II has died, Buckingham Palac...</td>\n",
       "      <td>It is so weird hearing the BBC reporters talki...</td>\n",
       "      <td>0.000000</td>\n",
       "      <td>1.000000e+00</td>\n",
       "      <td>True</td>\n",
       "    </tr>\n",
       "    <tr>\n",
       "      <th>1</th>\n",
       "      <td>valid--valid;(sw)</td>\n",
       "      <td>This is the kind of thing the US should be doi...</td>\n",
       "      <td>Yeah we’re already Kind’ve doing that and blee...</td>\n",
       "      <td>[Dmitri Medvedev said that Russia would not st...</td>\n",
       "      <td>Well of course not, its well known that Russia...</td>\n",
       "      <td>0.982014</td>\n",
       "      <td>1.798621e-02</td>\n",
       "      <td>False</td>\n",
       "    </tr>\n",
       "    <tr>\n",
       "      <th>2</th>\n",
       "      <td>valid--valid;(mtl:20)</td>\n",
       "      <td>&gt;Warnings on the Tesla’s display &gt;The Tesla Mo...</td>\n",
       "      <td>Should've paid for the anti-child-ramming opti...</td>\n",
       "      <td>Wow so you’re telling me a desert will be ~2 d...</td>\n",
       "      <td>He can now start a car show with Snoop Dog</td>\n",
       "      <td>1.000000</td>\n",
       "      <td>1.080639e-30</td>\n",
       "      <td>False</td>\n",
       "    </tr>\n",
       "    <tr>\n",
       "      <th>3</th>\n",
       "      <td>*valid--random;(sw)</td>\n",
       "      <td>Blind to other’s feelings I see? Well let me e...</td>\n",
       "      <td>Someone doing something you don't like is now ...</td>\n",
       "      <td>&gt;still hasn’t mandated a safety mechanism to s...</td>\n",
       "      <td>i think they care as much as congress cares ab...</td>\n",
       "      <td>0.997527</td>\n",
       "      <td>2.472623e-03</td>\n",
       "      <td>False</td>\n",
       "    </tr>\n",
       "  </tbody>\n",
       "</table>\n",
       "</div>"
      ],
      "text/plain": [
       "                gen_name                                        parent_left  \\\n",
       "0   !copy--path;(mtl:20)  It is so weird hearing the BBC reporters talki...   \n",
       "1      valid--valid;(sw)  This is the kind of thing the US should be doi...   \n",
       "2  valid--valid;(mtl:20)  >Warnings on the Tesla’s display >The Tesla Mo...   \n",
       "3    *valid--random;(sw)  Blind to other’s feelings I see? Well let me e...   \n",
       "\n",
       "                                          child_left  \\\n",
       "0  [Queen Elizabeth II has died, Buckingham Palac...   \n",
       "1  Yeah we’re already Kind’ve doing that and blee...   \n",
       "2  Should've paid for the anti-child-ramming opti...   \n",
       "3  Someone doing something you don't like is now ...   \n",
       "\n",
       "                                        parent_right  \\\n",
       "0  [Queen Elizabeth II has died, Buckingham Palac...   \n",
       "1  [Dmitri Medvedev said that Russia would not st...   \n",
       "2  Wow so you’re telling me a desert will be ~2 d...   \n",
       "3  >still hasn’t mandated a safety mechanism to s...   \n",
       "\n",
       "                                         child_right  sway_left    sway_right  \\\n",
       "0  It is so weird hearing the BBC reporters talki...   0.000000  1.000000e+00   \n",
       "1  Well of course not, its well known that Russia...   0.982014  1.798621e-02   \n",
       "2         He can now start a car show with Snoop Dog   1.000000  1.080639e-30   \n",
       "3  i think they care as much as congress cares ab...   0.997527  2.472623e-03   \n",
       "\n",
       "   correct_is_right  \n",
       "0              True  \n",
       "1             False  \n",
       "2             False  \n",
       "3             False  "
      ]
     },
     "metadata": {},
     "output_type": "display_data"
    },
    {
     "data": {
      "application/vnd.jupyter.widget-view+json": {
       "model_id": "dd16b00ad4a347668dae67213b8461a3",
       "version_major": 2,
       "version_minor": 0
      },
      "text/plain": [
       "train val:   0%|          | 0/10000 [00:00<?, ?it/s]"
      ]
     },
     "metadata": {},
     "output_type": "display_data"
    },
    {
     "data": {
      "application/vnd.jupyter.widget-view+json": {
       "model_id": "ec7f16b32d344b2791766fbfcba500a3",
       "version_major": 2,
       "version_minor": 0
      },
      "text/plain": [
       "test:   0%|          | 0/10000 [00:00<?, ?it/s]"
      ]
     },
     "metadata": {},
     "output_type": "display_data"
    },
    {
     "name": "stdout",
     "output_type": "stream",
     "text": [
      "train: {'accuracy': 0.5405} loss: 0.6872111498832703\n",
      "train val: {'accuracy': 0.5835} loss: 0.6761638904094696\n",
      "test: {'accuracy': 0.4893} loss: 0.6975698628187179\n",
      "epoch 25\n"
     ]
    },
    {
     "data": {
      "application/vnd.jupyter.widget-view+json": {
       "model_id": "d35cc263296a4cac95b5f05d5f1b6adb",
       "version_major": 2,
       "version_minor": 0
      },
      "text/plain": [
       "train:   0%|          | 0/20000 [00:00<?, ?it/s]"
      ]
     },
     "metadata": {},
     "output_type": "display_data"
    },
    {
     "data": {
      "text/html": [
       "<div>\n",
       "<style scoped>\n",
       "    .dataframe tbody tr th:only-of-type {\n",
       "        vertical-align: middle;\n",
       "    }\n",
       "\n",
       "    .dataframe tbody tr th {\n",
       "        vertical-align: top;\n",
       "    }\n",
       "\n",
       "    .dataframe thead th {\n",
       "        text-align: right;\n",
       "    }\n",
       "</style>\n",
       "<table border=\"1\" class=\"dataframe\">\n",
       "  <thead>\n",
       "    <tr style=\"text-align: right;\">\n",
       "      <th></th>\n",
       "      <th>gen_name</th>\n",
       "      <th>parent_left</th>\n",
       "      <th>child_left</th>\n",
       "      <th>parent_right</th>\n",
       "      <th>child_right</th>\n",
       "      <th>sway_left</th>\n",
       "      <th>sway_right</th>\n",
       "      <th>correct_is_right</th>\n",
       "    </tr>\n",
       "  </thead>\n",
       "  <tbody>\n",
       "    <tr>\n",
       "      <th>0</th>\n",
       "      <td>random--valid;(sw)</td>\n",
       "      <td>I was supposed to go this weekend to a festiva...</td>\n",
       "      <td>I thought trump was banned from twitter?</td>\n",
       "      <td>[Queen under medical supervision as doctors co...</td>\n",
       "      <td>Look she's fine, she's wearing her green outfi...</td>\n",
       "      <td>0.006693</td>\n",
       "      <td>0.993307</td>\n",
       "      <td>True</td>\n",
       "    </tr>\n",
       "    <tr>\n",
       "      <th>1</th>\n",
       "      <td>valid--valid</td>\n",
       "      <td>&gt;There is only ONE reason for this. This is no...</td>\n",
       "      <td>Apologist.</td>\n",
       "      <td>[President’s Party Gaining in Midterm Polls. T...</td>\n",
       "      <td>Was it worth the loss of a basic right for mil...</td>\n",
       "      <td>0.982014</td>\n",
       "      <td>0.017986</td>\n",
       "      <td>False</td>\n",
       "    </tr>\n",
       "    <tr>\n",
       "      <th>2</th>\n",
       "      <td>*path--!copy;(sw)</td>\n",
       "      <td>t/news</td>\n",
       "      <td>[Woman abducted while on jog in Memphis, Tenne...</td>\n",
       "      <td>[Woman abducted while on jog in Memphis, Tenne...</td>\n",
       "      <td>t/news</td>\n",
       "      <td>1.000000</td>\n",
       "      <td>0.000000</td>\n",
       "      <td>False</td>\n",
       "    </tr>\n",
       "    <tr>\n",
       "      <th>3</th>\n",
       "      <td>!valid--valid;(mtl:20)</td>\n",
       "      <td>That's being overly optimistic about solar. We...</td>\n",
       "      <td>Renewables like solar absolutely will save the...</td>\n",
       "      <td>Even Trump agrees. Ridiculous but accurate edi...</td>\n",
       "      <td>Why does it matter what he says? He's a moron....</td>\n",
       "      <td>0.000000</td>\n",
       "      <td>1.000000</td>\n",
       "      <td>True</td>\n",
       "    </tr>\n",
       "  </tbody>\n",
       "</table>\n",
       "</div>"
      ],
      "text/plain": [
       "                 gen_name                                        parent_left  \\\n",
       "0      random--valid;(sw)  I was supposed to go this weekend to a festiva...   \n",
       "1            valid--valid  >There is only ONE reason for this. This is no...   \n",
       "2       *path--!copy;(sw)                                             t/news   \n",
       "3  !valid--valid;(mtl:20)  That's being overly optimistic about solar. We...   \n",
       "\n",
       "                                          child_left  \\\n",
       "0           I thought trump was banned from twitter?   \n",
       "1                                         Apologist.   \n",
       "2  [Woman abducted while on jog in Memphis, Tenne...   \n",
       "3  Renewables like solar absolutely will save the...   \n",
       "\n",
       "                                        parent_right  \\\n",
       "0  [Queen under medical supervision as doctors co...   \n",
       "1  [President’s Party Gaining in Midterm Polls. T...   \n",
       "2  [Woman abducted while on jog in Memphis, Tenne...   \n",
       "3  Even Trump agrees. Ridiculous but accurate edi...   \n",
       "\n",
       "                                         child_right  sway_left  sway_right  \\\n",
       "0  Look she's fine, she's wearing her green outfi...   0.006693    0.993307   \n",
       "1  Was it worth the loss of a basic right for mil...   0.982014    0.017986   \n",
       "2                                             t/news   1.000000    0.000000   \n",
       "3  Why does it matter what he says? He's a moron....   0.000000    1.000000   \n",
       "\n",
       "   correct_is_right  \n",
       "0              True  \n",
       "1             False  \n",
       "2             False  \n",
       "3              True  "
      ]
     },
     "metadata": {},
     "output_type": "display_data"
    },
    {
     "data": {
      "application/vnd.jupyter.widget-view+json": {
       "model_id": "706e0f1982a54329936834d4e05c243c",
       "version_major": 2,
       "version_minor": 0
      },
      "text/plain": [
       "train val:   0%|          | 0/10000 [00:00<?, ?it/s]"
      ]
     },
     "metadata": {},
     "output_type": "display_data"
    },
    {
     "data": {
      "application/vnd.jupyter.widget-view+json": {
       "model_id": "b5002ff53b124725bd12fd7000b99a4a",
       "version_major": 2,
       "version_minor": 0
      },
      "text/plain": [
       "test:   0%|          | 0/10000 [00:00<?, ?it/s]"
      ]
     },
     "metadata": {},
     "output_type": "display_data"
    },
    {
     "name": "stdout",
     "output_type": "stream",
     "text": [
      "train: {'accuracy': 0.5022} loss: 0.6931324402213097\n",
      "train val: {'accuracy': 0.5033} loss: 0.6931471843957902\n",
      "test: {'accuracy': 0.4871} loss: 0.6931471846818924\n",
      "epoch 26\n"
     ]
    },
    {
     "data": {
      "application/vnd.jupyter.widget-view+json": {
       "model_id": "ede30436144f4f25a98eb9f90ca2e77b",
       "version_major": 2,
       "version_minor": 0
      },
      "text/plain": [
       "train:   0%|          | 0/20000 [00:00<?, ?it/s]"
      ]
     },
     "metadata": {},
     "output_type": "display_data"
    },
    {
     "data": {
      "text/html": [
       "<div>\n",
       "<style scoped>\n",
       "    .dataframe tbody tr th:only-of-type {\n",
       "        vertical-align: middle;\n",
       "    }\n",
       "\n",
       "    .dataframe tbody tr th {\n",
       "        vertical-align: top;\n",
       "    }\n",
       "\n",
       "    .dataframe thead th {\n",
       "        text-align: right;\n",
       "    }\n",
       "</style>\n",
       "<table border=\"1\" class=\"dataframe\">\n",
       "  <thead>\n",
       "    <tr style=\"text-align: right;\">\n",
       "      <th></th>\n",
       "      <th>gen_name</th>\n",
       "      <th>parent_left</th>\n",
       "      <th>child_left</th>\n",
       "      <th>parent_right</th>\n",
       "      <th>child_right</th>\n",
       "      <th>sway_left</th>\n",
       "      <th>sway_right</th>\n",
       "      <th>correct_is_right</th>\n",
       "    </tr>\n",
       "  </thead>\n",
       "  <tbody>\n",
       "    <tr>\n",
       "      <th>0</th>\n",
       "      <td>*path--!copy;(mtl:20)</td>\n",
       "      <td>Russia is simply advancing to the rear.</td>\n",
       "      <td>I don't get why Russia is getting flack for th...</td>\n",
       "      <td>I don't get why Russia is getting flack for th...</td>\n",
       "      <td>Russia is simply advancing to the rear.</td>\n",
       "      <td>1.0</td>\n",
       "      <td>0.000000e+00</td>\n",
       "      <td>False</td>\n",
       "    </tr>\n",
       "    <tr>\n",
       "      <th>1</th>\n",
       "      <td>*path--!copy;(sw)</td>\n",
       "      <td>They want this. I took an infant off life supp...</td>\n",
       "      <td>Those people are hypocrites, If they truly bel...</td>\n",
       "      <td>Those people are hypocrites, If they truly bel...</td>\n",
       "      <td>They want this. I took an infant off life supp...</td>\n",
       "      <td>1.0</td>\n",
       "      <td>1.804851e-35</td>\n",
       "      <td>False</td>\n",
       "    </tr>\n",
       "    <tr>\n",
       "      <th>2</th>\n",
       "      <td>*path--!copy;(sw)</td>\n",
       "      <td>Can't believe it's been 25 years since 2021.</td>\n",
       "      <td>Time flies!</td>\n",
       "      <td>Time flies!</td>\n",
       "      <td>Can't believe it's been 25 years since 2021.</td>\n",
       "      <td>1.0</td>\n",
       "      <td>1.154822e-17</td>\n",
       "      <td>False</td>\n",
       "    </tr>\n",
       "    <tr>\n",
       "      <th>3</th>\n",
       "      <td>random--path;(sw)</td>\n",
       "      <td>The only plausible way I see a nuke being laun...</td>\n",
       "      <td>Death threats usually don’t count as free speech.</td>\n",
       "      <td>[Biden cancels $10,000 in federal student loan...</td>\n",
       "      <td>For those questioning, the way the release of ...</td>\n",
       "      <td>0.0</td>\n",
       "      <td>1.000000e+00</td>\n",
       "      <td>True</td>\n",
       "    </tr>\n",
       "  </tbody>\n",
       "</table>\n",
       "</div>"
      ],
      "text/plain": [
       "                gen_name                                        parent_left  \\\n",
       "0  *path--!copy;(mtl:20)            Russia is simply advancing to the rear.   \n",
       "1      *path--!copy;(sw)  They want this. I took an infant off life supp...   \n",
       "2      *path--!copy;(sw)       Can't believe it's been 25 years since 2021.   \n",
       "3      random--path;(sw)  The only plausible way I see a nuke being laun...   \n",
       "\n",
       "                                          child_left  \\\n",
       "0  I don't get why Russia is getting flack for th...   \n",
       "1  Those people are hypocrites, If they truly bel...   \n",
       "2                                        Time flies!   \n",
       "3  Death threats usually don’t count as free speech.   \n",
       "\n",
       "                                        parent_right  \\\n",
       "0  I don't get why Russia is getting flack for th...   \n",
       "1  Those people are hypocrites, If they truly bel...   \n",
       "2                                        Time flies!   \n",
       "3  [Biden cancels $10,000 in federal student loan...   \n",
       "\n",
       "                                         child_right  sway_left    sway_right  \\\n",
       "0            Russia is simply advancing to the rear.        1.0  0.000000e+00   \n",
       "1  They want this. I took an infant off life supp...        1.0  1.804851e-35   \n",
       "2       Can't believe it's been 25 years since 2021.        1.0  1.154822e-17   \n",
       "3  For those questioning, the way the release of ...        0.0  1.000000e+00   \n",
       "\n",
       "   correct_is_right  \n",
       "0             False  \n",
       "1             False  \n",
       "2             False  \n",
       "3              True  "
      ]
     },
     "metadata": {},
     "output_type": "display_data"
    },
    {
     "data": {
      "application/vnd.jupyter.widget-view+json": {
       "model_id": "49d66012f51144a29c957aacb93f9858",
       "version_major": 2,
       "version_minor": 0
      },
      "text/plain": [
       "train val:   0%|          | 0/10000 [00:00<?, ?it/s]"
      ]
     },
     "metadata": {},
     "output_type": "display_data"
    },
    {
     "data": {
      "application/vnd.jupyter.widget-view+json": {
       "model_id": "d8661f189d45495bb5cf9ba77fc5309a",
       "version_major": 2,
       "version_minor": 0
      },
      "text/plain": [
       "test:   0%|          | 0/10000 [00:00<?, ?it/s]"
      ]
     },
     "metadata": {},
     "output_type": "display_data"
    },
    {
     "name": "stdout",
     "output_type": "stream",
     "text": [
      "train: {'accuracy': 0.49765} loss: 0.6933604527831078\n",
      "train val: {'accuracy': 0.4806} loss: 0.6931474733829498\n",
      "test: {'accuracy': 0.4911} loss: 0.6931472615718841\n",
      "epoch 27\n"
     ]
    },
    {
     "data": {
      "application/vnd.jupyter.widget-view+json": {
       "model_id": "995dab1ea23b4ee89e9bf3a908347a45",
       "version_major": 2,
       "version_minor": 0
      },
      "text/plain": [
       "train:   0%|          | 0/20000 [00:00<?, ?it/s]"
      ]
     },
     "metadata": {},
     "output_type": "display_data"
    },
    {
     "data": {
      "text/html": [
       "<div>\n",
       "<style scoped>\n",
       "    .dataframe tbody tr th:only-of-type {\n",
       "        vertical-align: middle;\n",
       "    }\n",
       "\n",
       "    .dataframe tbody tr th {\n",
       "        vertical-align: top;\n",
       "    }\n",
       "\n",
       "    .dataframe thead th {\n",
       "        text-align: right;\n",
       "    }\n",
       "</style>\n",
       "<table border=\"1\" class=\"dataframe\">\n",
       "  <thead>\n",
       "    <tr style=\"text-align: right;\">\n",
       "      <th></th>\n",
       "      <th>gen_name</th>\n",
       "      <th>parent_left</th>\n",
       "      <th>child_left</th>\n",
       "      <th>parent_right</th>\n",
       "      <th>child_right</th>\n",
       "      <th>sway_left</th>\n",
       "      <th>sway_right</th>\n",
       "      <th>correct_is_right</th>\n",
       "    </tr>\n",
       "  </thead>\n",
       "  <tbody>\n",
       "    <tr>\n",
       "      <th>0</th>\n",
       "      <td>*path--random;(sw)</td>\n",
       "      <td>Holy shit! $8000/month? Someone should let inc...</td>\n",
       "      <td>Thinking that sex would solve their problems i...</td>\n",
       "      <td>When was the last time Australia was in actual...</td>\n",
       "      <td>People WANT homeless encampments near their ki...</td>\n",
       "      <td>1.000000e+00</td>\n",
       "      <td>1.022569e-86</td>\n",
       "      <td>False</td>\n",
       "    </tr>\n",
       "    <tr>\n",
       "      <th>1</th>\n",
       "      <td>!valid--valid;(sw)</td>\n",
       "      <td>For those TLDR; If you’re wondering how he got...</td>\n",
       "      <td>[Man tests positive for monkeypox, COVID and H...</td>\n",
       "      <td>43 empty folders with “Classified” banner. …we...</td>\n",
       "      <td>Trump: “See! The FBI got nothing! They planted...</td>\n",
       "      <td>1.026188e-10</td>\n",
       "      <td>1.000000e+00</td>\n",
       "      <td>True</td>\n",
       "    </tr>\n",
       "    <tr>\n",
       "      <th>2</th>\n",
       "      <td>valid--valid;(sw)</td>\n",
       "      <td>Yep I am a bicyclist myself and everyday I’m a...</td>\n",
       "      <td>I understand that there are responsible cyclis...</td>\n",
       "      <td>In a way I don’t mean as offensive and hope it...</td>\n",
       "      <td>I have to dissapoint you sir, half of my count...</td>\n",
       "      <td>6.899745e-01</td>\n",
       "      <td>3.100255e-01</td>\n",
       "      <td>False</td>\n",
       "    </tr>\n",
       "    <tr>\n",
       "      <th>3</th>\n",
       "      <td>*path--random;(mtl:20)</td>\n",
       "      <td>&gt; Intentionally and publicly alienating a larg...</td>\n",
       "      <td>It's not Biden who has alienated them. They ar...</td>\n",
       "      <td>Ya can’t change the world but you can sure mak...</td>\n",
       "      <td>&gt;Anyone who badly wanted an education and was ...</td>\n",
       "      <td>9.999977e-01</td>\n",
       "      <td>2.260324e-06</td>\n",
       "      <td>False</td>\n",
       "    </tr>\n",
       "  </tbody>\n",
       "</table>\n",
       "</div>"
      ],
      "text/plain": [
       "                 gen_name                                        parent_left  \\\n",
       "0      *path--random;(sw)  Holy shit! $8000/month? Someone should let inc...   \n",
       "1      !valid--valid;(sw)  For those TLDR; If you’re wondering how he got...   \n",
       "2       valid--valid;(sw)  Yep I am a bicyclist myself and everyday I’m a...   \n",
       "3  *path--random;(mtl:20)  > Intentionally and publicly alienating a larg...   \n",
       "\n",
       "                                          child_left  \\\n",
       "0  Thinking that sex would solve their problems i...   \n",
       "1  [Man tests positive for monkeypox, COVID and H...   \n",
       "2  I understand that there are responsible cyclis...   \n",
       "3  It's not Biden who has alienated them. They ar...   \n",
       "\n",
       "                                        parent_right  \\\n",
       "0  When was the last time Australia was in actual...   \n",
       "1  43 empty folders with “Classified” banner. …we...   \n",
       "2  In a way I don’t mean as offensive and hope it...   \n",
       "3  Ya can’t change the world but you can sure mak...   \n",
       "\n",
       "                                         child_right     sway_left  \\\n",
       "0  People WANT homeless encampments near their ki...  1.000000e+00   \n",
       "1  Trump: “See! The FBI got nothing! They planted...  1.026188e-10   \n",
       "2  I have to dissapoint you sir, half of my count...  6.899745e-01   \n",
       "3  >Anyone who badly wanted an education and was ...  9.999977e-01   \n",
       "\n",
       "     sway_right  correct_is_right  \n",
       "0  1.022569e-86             False  \n",
       "1  1.000000e+00              True  \n",
       "2  3.100255e-01             False  \n",
       "3  2.260324e-06             False  "
      ]
     },
     "metadata": {},
     "output_type": "display_data"
    },
    {
     "data": {
      "application/vnd.jupyter.widget-view+json": {
       "model_id": "46ff66f4014b45c386865f24da66861e",
       "version_major": 2,
       "version_minor": 0
      },
      "text/plain": [
       "train val:   0%|          | 0/10000 [00:00<?, ?it/s]"
      ]
     },
     "metadata": {},
     "output_type": "display_data"
    },
    {
     "data": {
      "application/vnd.jupyter.widget-view+json": {
       "model_id": "ebcb2a7ca31a48cbae7346859703e38d",
       "version_major": 2,
       "version_minor": 0
      },
      "text/plain": [
       "test:   0%|          | 0/10000 [00:00<?, ?it/s]"
      ]
     },
     "metadata": {},
     "output_type": "display_data"
    },
    {
     "name": "stdout",
     "output_type": "stream",
     "text": [
      "train: {'accuracy': 0.51955} loss: 0.6883080223619938\n",
      "train val: {'accuracy': 0.6496} loss: 0.6666218722701073\n",
      "test: {'accuracy': 0.5141} loss: 0.7102088748097419\n",
      "epoch 28\n"
     ]
    },
    {
     "data": {
      "application/vnd.jupyter.widget-view+json": {
       "model_id": "b12fe11ec70f44399ead3d109771bb6a",
       "version_major": 2,
       "version_minor": 0
      },
      "text/plain": [
       "train:   0%|          | 0/20000 [00:00<?, ?it/s]"
      ]
     },
     "metadata": {},
     "output_type": "display_data"
    },
    {
     "data": {
      "text/html": [
       "<div>\n",
       "<style scoped>\n",
       "    .dataframe tbody tr th:only-of-type {\n",
       "        vertical-align: middle;\n",
       "    }\n",
       "\n",
       "    .dataframe tbody tr th {\n",
       "        vertical-align: top;\n",
       "    }\n",
       "\n",
       "    .dataframe thead th {\n",
       "        text-align: right;\n",
       "    }\n",
       "</style>\n",
       "<table border=\"1\" class=\"dataframe\">\n",
       "  <thead>\n",
       "    <tr style=\"text-align: right;\">\n",
       "      <th></th>\n",
       "      <th>gen_name</th>\n",
       "      <th>parent_left</th>\n",
       "      <th>child_left</th>\n",
       "      <th>parent_right</th>\n",
       "      <th>child_right</th>\n",
       "      <th>sway_left</th>\n",
       "      <th>sway_right</th>\n",
       "      <th>correct_is_right</th>\n",
       "    </tr>\n",
       "  </thead>\n",
       "  <tbody>\n",
       "    <tr>\n",
       "      <th>0</th>\n",
       "      <td>!valid--valid;(mtl:20)</td>\n",
       "      <td>So only the loud ones are going to be polled. ...</td>\n",
       "      <td>You go to them, they don't come to you.</td>\n",
       "      <td>I heard if an invading country doesn’t take yo...</td>\n",
       "      <td>Capitol*. Sorry, I was struggling to understan...</td>\n",
       "      <td>0.154465</td>\n",
       "      <td>0.845535</td>\n",
       "      <td>True</td>\n",
       "    </tr>\n",
       "    <tr>\n",
       "      <th>1</th>\n",
       "      <td>*valid--random;(sw)</td>\n",
       "      <td>Because you could fuck your sister sober… but ...</td>\n",
       "      <td>Milwaukee's best ice: when you don't need to r...</td>\n",
       "      <td>This primarily helps people who are more well ...</td>\n",
       "      <td>What's interesting is that the buzzword is cla...</td>\n",
       "      <td>0.880797</td>\n",
       "      <td>0.119203</td>\n",
       "      <td>False</td>\n",
       "    </tr>\n",
       "    <tr>\n",
       "      <th>2</th>\n",
       "      <td>*valid--valid;(sw)</td>\n",
       "      <td>In times like these I think fondly of the Dutc...</td>\n",
       "      <td>I too remember [Trump steaks](https://en.wikip...</td>\n",
       "      <td>We’re leaking again.</td>\n",
       "      <td>I've been leaking something for months</td>\n",
       "      <td>0.000335</td>\n",
       "      <td>0.999665</td>\n",
       "      <td>True</td>\n",
       "    </tr>\n",
       "    <tr>\n",
       "      <th>3</th>\n",
       "      <td>*path--random;(sw)</td>\n",
       "      <td>Actually putting money into energy instead of ...</td>\n",
       "      <td>They can’t even be bothered to research cold-f...</td>\n",
       "      <td>Ed Markey is one example of an old but good re...</td>\n",
       "      <td>My wife told me that teachers couldn't make ch...</td>\n",
       "      <td>0.999877</td>\n",
       "      <td>0.000123</td>\n",
       "      <td>False</td>\n",
       "    </tr>\n",
       "  </tbody>\n",
       "</table>\n",
       "</div>"
      ],
      "text/plain": [
       "                 gen_name                                        parent_left  \\\n",
       "0  !valid--valid;(mtl:20)  So only the loud ones are going to be polled. ...   \n",
       "1     *valid--random;(sw)  Because you could fuck your sister sober… but ...   \n",
       "2      *valid--valid;(sw)  In times like these I think fondly of the Dutc...   \n",
       "3      *path--random;(sw)  Actually putting money into energy instead of ...   \n",
       "\n",
       "                                          child_left  \\\n",
       "0            You go to them, they don't come to you.   \n",
       "1  Milwaukee's best ice: when you don't need to r...   \n",
       "2  I too remember [Trump steaks](https://en.wikip...   \n",
       "3  They can’t even be bothered to research cold-f...   \n",
       "\n",
       "                                        parent_right  \\\n",
       "0  I heard if an invading country doesn’t take yo...   \n",
       "1  This primarily helps people who are more well ...   \n",
       "2                               We’re leaking again.   \n",
       "3  Ed Markey is one example of an old but good re...   \n",
       "\n",
       "                                         child_right  sway_left  sway_right  \\\n",
       "0  Capitol*. Sorry, I was struggling to understan...   0.154465    0.845535   \n",
       "1  What's interesting is that the buzzword is cla...   0.880797    0.119203   \n",
       "2             I've been leaking something for months   0.000335    0.999665   \n",
       "3  My wife told me that teachers couldn't make ch...   0.999877    0.000123   \n",
       "\n",
       "   correct_is_right  \n",
       "0              True  \n",
       "1             False  \n",
       "2              True  \n",
       "3             False  "
      ]
     },
     "metadata": {},
     "output_type": "display_data"
    },
    {
     "data": {
      "application/vnd.jupyter.widget-view+json": {
       "model_id": "28605821a99d4789af73c4cdc63469b8",
       "version_major": 2,
       "version_minor": 0
      },
      "text/plain": [
       "train val:   0%|          | 0/10000 [00:00<?, ?it/s]"
      ]
     },
     "metadata": {},
     "output_type": "display_data"
    },
    {
     "data": {
      "application/vnd.jupyter.widget-view+json": {
       "model_id": "5548e056db9040c1b760e0d8c4a6bf4e",
       "version_major": 2,
       "version_minor": 0
      },
      "text/plain": [
       "test:   0%|          | 0/10000 [00:00<?, ?it/s]"
      ]
     },
     "metadata": {},
     "output_type": "display_data"
    },
    {
     "name": "stdout",
     "output_type": "stream",
     "text": [
      "train: {'accuracy': 0.535} loss: 0.6807552721738815\n",
      "train val: {'accuracy': 0.5764} loss: 0.6931925492286682\n",
      "test: {'accuracy': 0.5512} loss: 0.6935910890817643\n",
      "epoch 29\n"
     ]
    },
    {
     "data": {
      "application/vnd.jupyter.widget-view+json": {
       "model_id": "192720c000194f6c91fe57399a8eb745",
       "version_major": 2,
       "version_minor": 0
      },
      "text/plain": [
       "train:   0%|          | 0/20000 [00:00<?, ?it/s]"
      ]
     },
     "metadata": {},
     "output_type": "display_data"
    },
    {
     "data": {
      "text/html": [
       "<div>\n",
       "<style scoped>\n",
       "    .dataframe tbody tr th:only-of-type {\n",
       "        vertical-align: middle;\n",
       "    }\n",
       "\n",
       "    .dataframe tbody tr th {\n",
       "        vertical-align: top;\n",
       "    }\n",
       "\n",
       "    .dataframe thead th {\n",
       "        text-align: right;\n",
       "    }\n",
       "</style>\n",
       "<table border=\"1\" class=\"dataframe\">\n",
       "  <thead>\n",
       "    <tr style=\"text-align: right;\">\n",
       "      <th></th>\n",
       "      <th>gen_name</th>\n",
       "      <th>parent_left</th>\n",
       "      <th>child_left</th>\n",
       "      <th>parent_right</th>\n",
       "      <th>child_right</th>\n",
       "      <th>sway_left</th>\n",
       "      <th>sway_right</th>\n",
       "      <th>correct_is_right</th>\n",
       "    </tr>\n",
       "  </thead>\n",
       "  <tbody>\n",
       "    <tr>\n",
       "      <th>0</th>\n",
       "      <td>*valid--!copy;(sw)</td>\n",
       "      <td>Republicans complaining about divisive languag...</td>\n",
       "      <td>I’ll offer a compromise. They’re full fascists.</td>\n",
       "      <td>I’ll offer a compromise. They’re full fascists.</td>\n",
       "      <td>Republicans complaining about divisive languag...</td>\n",
       "      <td>0.880797</td>\n",
       "      <td>0.119203</td>\n",
       "      <td>False</td>\n",
       "    </tr>\n",
       "    <tr>\n",
       "      <th>1</th>\n",
       "      <td>valid--valid</td>\n",
       "      <td>That's why we vote for him socialism is what w...</td>\n",
       "      <td>Wow. Just wow. Hopefully you're joking but som...</td>\n",
       "      <td>Yeah but Hillary said Bernie is a sexist, Russ...</td>\n",
       "      <td>Who cares what Hillary said.</td>\n",
       "      <td>0.450166</td>\n",
       "      <td>0.549834</td>\n",
       "      <td>True</td>\n",
       "    </tr>\n",
       "    <tr>\n",
       "      <th>2</th>\n",
       "      <td>*valid--!valid;(sw)</td>\n",
       "      <td>How many stories need to come out before these...</td>\n",
       "      <td>&gt; How many stories need to come out before the...</td>\n",
       "      <td>Straight shooter with upper management written...</td>\n",
       "      <td>I dunno he looks like a trustworthy fella.</td>\n",
       "      <td>0.598688</td>\n",
       "      <td>0.401312</td>\n",
       "      <td>False</td>\n",
       "    </tr>\n",
       "    <tr>\n",
       "      <th>3</th>\n",
       "      <td>!copy--valid;(sw)</td>\n",
       "      <td>It's a bullhorn outside the event</td>\n",
       "      <td>Who is the asshole yelling in the audience?</td>\n",
       "      <td>Who is the asshole yelling in the audience?</td>\n",
       "      <td>It's a bullhorn outside the event</td>\n",
       "      <td>0.006693</td>\n",
       "      <td>0.993307</td>\n",
       "      <td>True</td>\n",
       "    </tr>\n",
       "  </tbody>\n",
       "</table>\n",
       "</div>"
      ],
      "text/plain": [
       "              gen_name                                        parent_left  \\\n",
       "0   *valid--!copy;(sw)  Republicans complaining about divisive languag...   \n",
       "1         valid--valid  That's why we vote for him socialism is what w...   \n",
       "2  *valid--!valid;(sw)  How many stories need to come out before these...   \n",
       "3    !copy--valid;(sw)                  It's a bullhorn outside the event   \n",
       "\n",
       "                                          child_left  \\\n",
       "0    I’ll offer a compromise. They’re full fascists.   \n",
       "1  Wow. Just wow. Hopefully you're joking but som...   \n",
       "2  > How many stories need to come out before the...   \n",
       "3        Who is the asshole yelling in the audience?   \n",
       "\n",
       "                                        parent_right  \\\n",
       "0    I’ll offer a compromise. They’re full fascists.   \n",
       "1  Yeah but Hillary said Bernie is a sexist, Russ...   \n",
       "2  Straight shooter with upper management written...   \n",
       "3        Who is the asshole yelling in the audience?   \n",
       "\n",
       "                                         child_right  sway_left  sway_right  \\\n",
       "0  Republicans complaining about divisive languag...   0.880797    0.119203   \n",
       "1                       Who cares what Hillary said.   0.450166    0.549834   \n",
       "2         I dunno he looks like a trustworthy fella.   0.598688    0.401312   \n",
       "3                  It's a bullhorn outside the event   0.006693    0.993307   \n",
       "\n",
       "   correct_is_right  \n",
       "0             False  \n",
       "1              True  \n",
       "2             False  \n",
       "3              True  "
      ]
     },
     "metadata": {},
     "output_type": "display_data"
    },
    {
     "data": {
      "application/vnd.jupyter.widget-view+json": {
       "model_id": "ec6e0e33eff541d293260f09f80394ff",
       "version_major": 2,
       "version_minor": 0
      },
      "text/plain": [
       "train val:   0%|          | 0/10000 [00:00<?, ?it/s]"
      ]
     },
     "metadata": {},
     "output_type": "display_data"
    },
    {
     "data": {
      "application/vnd.jupyter.widget-view+json": {
       "model_id": "2013595d48434125af8f7be294c0b9ba",
       "version_major": 2,
       "version_minor": 0
      },
      "text/plain": [
       "test:   0%|          | 0/10000 [00:00<?, ?it/s]"
      ]
     },
     "metadata": {},
     "output_type": "display_data"
    },
    {
     "name": "stdout",
     "output_type": "stream",
     "text": [
      "train: {'accuracy': 0.52415} loss: 0.6840986265778541\n",
      "train val: {'accuracy': 0.4739} loss: 0.7035257623434067\n",
      "test: {'accuracy': 0.5233} loss: 0.694189512360096\n",
      "epoch 30\n"
     ]
    },
    {
     "data": {
      "application/vnd.jupyter.widget-view+json": {
       "model_id": "6fa58a8966fe457a8f450e0ebb2398a4",
       "version_major": 2,
       "version_minor": 0
      },
      "text/plain": [
       "train:   0%|          | 0/20000 [00:00<?, ?it/s]"
      ]
     },
     "metadata": {},
     "output_type": "display_data"
    },
    {
     "data": {
      "text/html": [
       "<div>\n",
       "<style scoped>\n",
       "    .dataframe tbody tr th:only-of-type {\n",
       "        vertical-align: middle;\n",
       "    }\n",
       "\n",
       "    .dataframe tbody tr th {\n",
       "        vertical-align: top;\n",
       "    }\n",
       "\n",
       "    .dataframe thead th {\n",
       "        text-align: right;\n",
       "    }\n",
       "</style>\n",
       "<table border=\"1\" class=\"dataframe\">\n",
       "  <thead>\n",
       "    <tr style=\"text-align: right;\">\n",
       "      <th></th>\n",
       "      <th>gen_name</th>\n",
       "      <th>parent_left</th>\n",
       "      <th>child_left</th>\n",
       "      <th>parent_right</th>\n",
       "      <th>child_right</th>\n",
       "      <th>sway_left</th>\n",
       "      <th>sway_right</th>\n",
       "      <th>correct_is_right</th>\n",
       "    </tr>\n",
       "  </thead>\n",
       "  <tbody>\n",
       "    <tr>\n",
       "      <th>0</th>\n",
       "      <td>*valid--valid;(mtl:20)</td>\n",
       "      <td>[Russia Detains Opposition Politician For Crit...</td>\n",
       "      <td>Of course they did, is this even news at this ...</td>\n",
       "      <td>[Russia can't recruit new combat units: not en...</td>\n",
       "      <td>Meanwhile, it doesn't seem like Ukraine is hav...</td>\n",
       "      <td>0.880797</td>\n",
       "      <td>1.192029e-01</td>\n",
       "      <td>False</td>\n",
       "    </tr>\n",
       "    <tr>\n",
       "      <th>1</th>\n",
       "      <td>*path--random;(mtl:20)</td>\n",
       "      <td>“The union said the disagreement is over learn...</td>\n",
       "      <td>I’m in CA and we are in the middle of a heat w...</td>\n",
       "      <td>And who knows, they might have Donkey Kong in ...</td>\n",
       "      <td>I wonder if Katya Echazarreta has more Native ...</td>\n",
       "      <td>1.000000</td>\n",
       "      <td>8.502954e-93</td>\n",
       "      <td>False</td>\n",
       "    </tr>\n",
       "    <tr>\n",
       "      <th>2</th>\n",
       "      <td>*valid--valid;(mtl:20)</td>\n",
       "      <td>Really don't know why people mentioning Ashli ...</td>\n",
       "      <td>How many others were trying to break down a lo...</td>\n",
       "      <td>Ask them how Democrats are fascists, they neve...</td>\n",
       "      <td>An investigation of Hunters laptop revealed se...</td>\n",
       "      <td>0.006693</td>\n",
       "      <td>9.933071e-01</td>\n",
       "      <td>True</td>\n",
       "    </tr>\n",
       "    <tr>\n",
       "      <th>3</th>\n",
       "      <td>valid--valid;(sw)</td>\n",
       "      <td>Any analysis that simply lumps immigrants toge...</td>\n",
       "      <td>Right but... that isn't what the analysis is d...</td>\n",
       "      <td>Well what he posted was true so you disagreein...</td>\n",
       "      <td>I think the studio that produced Downfall star...</td>\n",
       "      <td>0.999877</td>\n",
       "      <td>1.233946e-04</td>\n",
       "      <td>False</td>\n",
       "    </tr>\n",
       "  </tbody>\n",
       "</table>\n",
       "</div>"
      ],
      "text/plain": [
       "                 gen_name                                        parent_left  \\\n",
       "0  *valid--valid;(mtl:20)  [Russia Detains Opposition Politician For Crit...   \n",
       "1  *path--random;(mtl:20)  “The union said the disagreement is over learn...   \n",
       "2  *valid--valid;(mtl:20)  Really don't know why people mentioning Ashli ...   \n",
       "3       valid--valid;(sw)  Any analysis that simply lumps immigrants toge...   \n",
       "\n",
       "                                          child_left  \\\n",
       "0  Of course they did, is this even news at this ...   \n",
       "1  I’m in CA and we are in the middle of a heat w...   \n",
       "2  How many others were trying to break down a lo...   \n",
       "3  Right but... that isn't what the analysis is d...   \n",
       "\n",
       "                                        parent_right  \\\n",
       "0  [Russia can't recruit new combat units: not en...   \n",
       "1  And who knows, they might have Donkey Kong in ...   \n",
       "2  Ask them how Democrats are fascists, they neve...   \n",
       "3  Well what he posted was true so you disagreein...   \n",
       "\n",
       "                                         child_right  sway_left    sway_right  \\\n",
       "0  Meanwhile, it doesn't seem like Ukraine is hav...   0.880797  1.192029e-01   \n",
       "1  I wonder if Katya Echazarreta has more Native ...   1.000000  8.502954e-93   \n",
       "2  An investigation of Hunters laptop revealed se...   0.006693  9.933071e-01   \n",
       "3  I think the studio that produced Downfall star...   0.999877  1.233946e-04   \n",
       "\n",
       "   correct_is_right  \n",
       "0             False  \n",
       "1             False  \n",
       "2              True  \n",
       "3             False  "
      ]
     },
     "metadata": {},
     "output_type": "display_data"
    },
    {
     "data": {
      "application/vnd.jupyter.widget-view+json": {
       "model_id": "0348e005e82e42b5b2c9b0346e50c898",
       "version_major": 2,
       "version_minor": 0
      },
      "text/plain": [
       "train val:   0%|          | 0/10000 [00:00<?, ?it/s]"
      ]
     },
     "metadata": {},
     "output_type": "display_data"
    },
    {
     "data": {
      "application/vnd.jupyter.widget-view+json": {
       "model_id": "c05a8e39623f4c3fa4ebdc2306fdeeba",
       "version_major": 2,
       "version_minor": 0
      },
      "text/plain": [
       "test:   0%|          | 0/10000 [00:00<?, ?it/s]"
      ]
     },
     "metadata": {},
     "output_type": "display_data"
    },
    {
     "name": "stdout",
     "output_type": "stream",
     "text": [
      "train: {'accuracy': 0.5476} loss: 0.68042309705019\n",
      "train val: {'accuracy': 0.544} loss: 0.715570423078537\n",
      "test: {'accuracy': 0.5077} loss: 0.7059885217905044\n",
      "epoch 31\n"
     ]
    },
    {
     "data": {
      "application/vnd.jupyter.widget-view+json": {
       "model_id": "60eae7ce295e4d5abe22e7522cfb74ec",
       "version_major": 2,
       "version_minor": 0
      },
      "text/plain": [
       "train:   0%|          | 0/20000 [00:00<?, ?it/s]"
      ]
     },
     "metadata": {},
     "output_type": "display_data"
    },
    {
     "data": {
      "text/html": [
       "<div>\n",
       "<style scoped>\n",
       "    .dataframe tbody tr th:only-of-type {\n",
       "        vertical-align: middle;\n",
       "    }\n",
       "\n",
       "    .dataframe tbody tr th {\n",
       "        vertical-align: top;\n",
       "    }\n",
       "\n",
       "    .dataframe thead th {\n",
       "        text-align: right;\n",
       "    }\n",
       "</style>\n",
       "<table border=\"1\" class=\"dataframe\">\n",
       "  <thead>\n",
       "    <tr style=\"text-align: right;\">\n",
       "      <th></th>\n",
       "      <th>gen_name</th>\n",
       "      <th>parent_left</th>\n",
       "      <th>child_left</th>\n",
       "      <th>parent_right</th>\n",
       "      <th>child_right</th>\n",
       "      <th>sway_left</th>\n",
       "      <th>sway_right</th>\n",
       "      <th>correct_is_right</th>\n",
       "    </tr>\n",
       "  </thead>\n",
       "  <tbody>\n",
       "    <tr>\n",
       "      <th>0</th>\n",
       "      <td>*valid--!valid;(sw)</td>\n",
       "      <td>The [whole thread](https://twitter.com/WhiteHo...</td>\n",
       "      <td>Holy shit. They called them out by the numbers...</td>\n",
       "      <td>How is she even allowed to preside over this c...</td>\n",
       "      <td>[DOJ appeals decision to appoint special maste...</td>\n",
       "      <td>1.000000</td>\n",
       "      <td>1.462486e-31</td>\n",
       "      <td>False</td>\n",
       "    </tr>\n",
       "    <tr>\n",
       "      <th>1</th>\n",
       "      <td>random--path;(sw)</td>\n",
       "      <td>Yeah! Screw Gerald Ford!</td>\n",
       "      <td>Willful blindness by complicit shills.</td>\n",
       "      <td>Queen allegedly lived so long because she ate ...</td>\n",
       "      <td>I think you mean \"banned from being made illeg...</td>\n",
       "      <td>0.119203</td>\n",
       "      <td>8.807971e-01</td>\n",
       "      <td>True</td>\n",
       "    </tr>\n",
       "    <tr>\n",
       "      <th>2</th>\n",
       "      <td>random--path;(mtl:20)</td>\n",
       "      <td>Crazy to think i’ve lived in an era that saw a...</td>\n",
       "      <td>User declares themselves 'the Queen of France'...</td>\n",
       "      <td>It’s so strange to think she’s been queen so l...</td>\n",
       "      <td>The episode of \"I Love Lucy\" where Lucy meets ...</td>\n",
       "      <td>0.000000</td>\n",
       "      <td>1.000000e+00</td>\n",
       "      <td>True</td>\n",
       "    </tr>\n",
       "    <tr>\n",
       "      <th>3</th>\n",
       "      <td>random--valid;(sw)</td>\n",
       "      <td>Why though? 1/100th of this and any other citi...</td>\n",
       "      <td>ill take a copy lol</td>\n",
       "      <td>The idea that gun ownership should be put on t...</td>\n",
       "      <td>Right, freedom of speech is outdated. We're no...</td>\n",
       "      <td>0.119203</td>\n",
       "      <td>8.807971e-01</td>\n",
       "      <td>True</td>\n",
       "    </tr>\n",
       "  </tbody>\n",
       "</table>\n",
       "</div>"
      ],
      "text/plain": [
       "                gen_name                                        parent_left  \\\n",
       "0    *valid--!valid;(sw)  The [whole thread](https://twitter.com/WhiteHo...   \n",
       "1      random--path;(sw)                           Yeah! Screw Gerald Ford!   \n",
       "2  random--path;(mtl:20)  Crazy to think i’ve lived in an era that saw a...   \n",
       "3     random--valid;(sw)  Why though? 1/100th of this and any other citi...   \n",
       "\n",
       "                                          child_left  \\\n",
       "0  Holy shit. They called them out by the numbers...   \n",
       "1             Willful blindness by complicit shills.   \n",
       "2  User declares themselves 'the Queen of France'...   \n",
       "3                                ill take a copy lol   \n",
       "\n",
       "                                        parent_right  \\\n",
       "0  How is she even allowed to preside over this c...   \n",
       "1  Queen allegedly lived so long because she ate ...   \n",
       "2  It’s so strange to think she’s been queen so l...   \n",
       "3  The idea that gun ownership should be put on t...   \n",
       "\n",
       "                                         child_right  sway_left    sway_right  \\\n",
       "0  [DOJ appeals decision to appoint special maste...   1.000000  1.462486e-31   \n",
       "1  I think you mean \"banned from being made illeg...   0.119203  8.807971e-01   \n",
       "2  The episode of \"I Love Lucy\" where Lucy meets ...   0.000000  1.000000e+00   \n",
       "3  Right, freedom of speech is outdated. We're no...   0.119203  8.807971e-01   \n",
       "\n",
       "   correct_is_right  \n",
       "0             False  \n",
       "1              True  \n",
       "2              True  \n",
       "3              True  "
      ]
     },
     "metadata": {},
     "output_type": "display_data"
    },
    {
     "data": {
      "application/vnd.jupyter.widget-view+json": {
       "model_id": "e167d95627eb4ec69c688813309c9fe1",
       "version_major": 2,
       "version_minor": 0
      },
      "text/plain": [
       "train val:   0%|          | 0/10000 [00:00<?, ?it/s]"
      ]
     },
     "metadata": {},
     "output_type": "display_data"
    },
    {
     "data": {
      "application/vnd.jupyter.widget-view+json": {
       "model_id": "b28163e7961f44d69a32ef67a0713cf6",
       "version_major": 2,
       "version_minor": 0
      },
      "text/plain": [
       "test:   0%|          | 0/10000 [00:00<?, ?it/s]"
      ]
     },
     "metadata": {},
     "output_type": "display_data"
    },
    {
     "name": "stdout",
     "output_type": "stream",
     "text": [
      "train: {'accuracy': 0.5589} loss: 0.6761441948115826\n",
      "train val: {'accuracy': 0.5676} loss: 0.6837058374643326\n",
      "test: {'accuracy': 0.494} loss: 0.7007141997218131\n",
      "epoch 32\n"
     ]
    },
    {
     "data": {
      "application/vnd.jupyter.widget-view+json": {
       "model_id": "0d37f67d12bb412caa3d98f0c2103789",
       "version_major": 2,
       "version_minor": 0
      },
      "text/plain": [
       "train:   0%|          | 0/20000 [00:00<?, ?it/s]"
      ]
     },
     "metadata": {},
     "output_type": "display_data"
    },
    {
     "data": {
      "text/html": [
       "<div>\n",
       "<style scoped>\n",
       "    .dataframe tbody tr th:only-of-type {\n",
       "        vertical-align: middle;\n",
       "    }\n",
       "\n",
       "    .dataframe tbody tr th {\n",
       "        vertical-align: top;\n",
       "    }\n",
       "\n",
       "    .dataframe thead th {\n",
       "        text-align: right;\n",
       "    }\n",
       "</style>\n",
       "<table border=\"1\" class=\"dataframe\">\n",
       "  <thead>\n",
       "    <tr style=\"text-align: right;\">\n",
       "      <th></th>\n",
       "      <th>gen_name</th>\n",
       "      <th>parent_left</th>\n",
       "      <th>child_left</th>\n",
       "      <th>parent_right</th>\n",
       "      <th>child_right</th>\n",
       "      <th>sway_left</th>\n",
       "      <th>sway_right</th>\n",
       "      <th>correct_is_right</th>\n",
       "    </tr>\n",
       "  </thead>\n",
       "  <tbody>\n",
       "    <tr>\n",
       "      <th>0</th>\n",
       "      <td>*valid--!valid;(mtl:20)</td>\n",
       "      <td>Discussion Thread: President Biden Delivers Re...</td>\n",
       "      <td>I have $28K in loans still and after checking ...</td>\n",
       "      <td>wait wait wait...so let me get this straight. ...</td>\n",
       "      <td>[At $249 per day, prison stays leave ex-inmate...</td>\n",
       "      <td>0.999877</td>\n",
       "      <td>1.233946e-04</td>\n",
       "      <td>False</td>\n",
       "    </tr>\n",
       "    <tr>\n",
       "      <th>1</th>\n",
       "      <td>valid--valid</td>\n",
       "      <td>Why did I know it would be in Indiana, the sta...</td>\n",
       "      <td>The same fucking refinery that releases all so...</td>\n",
       "      <td>you are</td>\n",
       "      <td>Right in the reality. Damn.</td>\n",
       "      <td>1.000000</td>\n",
       "      <td>1.441157e-64</td>\n",
       "      <td>False</td>\n",
       "    </tr>\n",
       "    <tr>\n",
       "      <th>2</th>\n",
       "      <td>random--valid;(sw)</td>\n",
       "      <td>How can I dumb it down for you? Why do you not...</td>\n",
       "      <td>Dependent bastion in an otherwise hostile region</td>\n",
       "      <td>As a Californian I want a more progressive cho...</td>\n",
       "      <td>Cool so you want Trump again. Be a pragmatist.</td>\n",
       "      <td>0.197816</td>\n",
       "      <td>8.021839e-01</td>\n",
       "      <td>True</td>\n",
       "    </tr>\n",
       "    <tr>\n",
       "      <th>3</th>\n",
       "      <td>valid--valid;(mtl:20)</td>\n",
       "      <td>[Woman abducted while on jog in Memphis, Tenne...</td>\n",
       "      <td>That’s terrifying. Hope they find her.</td>\n",
       "      <td>[US: Jackson locals told to shower with mouths...</td>\n",
       "      <td>Mississippi was given almost $40 billion this ...</td>\n",
       "      <td>0.000000</td>\n",
       "      <td>1.000000e+00</td>\n",
       "      <td>True</td>\n",
       "    </tr>\n",
       "  </tbody>\n",
       "</table>\n",
       "</div>"
      ],
      "text/plain": [
       "                  gen_name                                        parent_left  \\\n",
       "0  *valid--!valid;(mtl:20)  Discussion Thread: President Biden Delivers Re...   \n",
       "1             valid--valid  Why did I know it would be in Indiana, the sta...   \n",
       "2       random--valid;(sw)  How can I dumb it down for you? Why do you not...   \n",
       "3    valid--valid;(mtl:20)  [Woman abducted while on jog in Memphis, Tenne...   \n",
       "\n",
       "                                          child_left  \\\n",
       "0  I have $28K in loans still and after checking ...   \n",
       "1  The same fucking refinery that releases all so...   \n",
       "2   Dependent bastion in an otherwise hostile region   \n",
       "3             That’s terrifying. Hope they find her.   \n",
       "\n",
       "                                        parent_right  \\\n",
       "0  wait wait wait...so let me get this straight. ...   \n",
       "1                                            you are   \n",
       "2  As a Californian I want a more progressive cho...   \n",
       "3  [US: Jackson locals told to shower with mouths...   \n",
       "\n",
       "                                         child_right  sway_left    sway_right  \\\n",
       "0  [At $249 per day, prison stays leave ex-inmate...   0.999877  1.233946e-04   \n",
       "1                        Right in the reality. Damn.   1.000000  1.441157e-64   \n",
       "2     Cool so you want Trump again. Be a pragmatist.   0.197816  8.021839e-01   \n",
       "3  Mississippi was given almost $40 billion this ...   0.000000  1.000000e+00   \n",
       "\n",
       "   correct_is_right  \n",
       "0             False  \n",
       "1             False  \n",
       "2              True  \n",
       "3              True  "
      ]
     },
     "metadata": {},
     "output_type": "display_data"
    },
    {
     "data": {
      "application/vnd.jupyter.widget-view+json": {
       "model_id": "7bf685559e874d92b225ddc9647f5459",
       "version_major": 2,
       "version_minor": 0
      },
      "text/plain": [
       "train val:   0%|          | 0/10000 [00:00<?, ?it/s]"
      ]
     },
     "metadata": {},
     "output_type": "display_data"
    },
    {
     "data": {
      "application/vnd.jupyter.widget-view+json": {
       "model_id": "e00a7f7dcfb245b8a563b9b4d1a1f7bc",
       "version_major": 2,
       "version_minor": 0
      },
      "text/plain": [
       "test:   0%|          | 0/10000 [00:00<?, ?it/s]"
      ]
     },
     "metadata": {},
     "output_type": "display_data"
    },
    {
     "name": "stdout",
     "output_type": "stream",
     "text": [
      "train: {'accuracy': 0.5516} loss: 0.6677700750768185\n",
      "train val: {'accuracy': 0.5486} loss: 0.6924168085575104\n",
      "test: {'accuracy': 0.4795} loss: 0.6932001962780953\n",
      "epoch 33\n"
     ]
    },
    {
     "data": {
      "application/vnd.jupyter.widget-view+json": {
       "model_id": "a264268b4fa44da5b1560340d5ad4977",
       "version_major": 2,
       "version_minor": 0
      },
      "text/plain": [
       "train:   0%|          | 0/20000 [00:00<?, ?it/s]"
      ]
     },
     "metadata": {},
     "output_type": "display_data"
    },
    {
     "data": {
      "text/html": [
       "<div>\n",
       "<style scoped>\n",
       "    .dataframe tbody tr th:only-of-type {\n",
       "        vertical-align: middle;\n",
       "    }\n",
       "\n",
       "    .dataframe tbody tr th {\n",
       "        vertical-align: top;\n",
       "    }\n",
       "\n",
       "    .dataframe thead th {\n",
       "        text-align: right;\n",
       "    }\n",
       "</style>\n",
       "<table border=\"1\" class=\"dataframe\">\n",
       "  <thead>\n",
       "    <tr style=\"text-align: right;\">\n",
       "      <th></th>\n",
       "      <th>gen_name</th>\n",
       "      <th>parent_left</th>\n",
       "      <th>child_left</th>\n",
       "      <th>parent_right</th>\n",
       "      <th>child_right</th>\n",
       "      <th>sway_left</th>\n",
       "      <th>sway_right</th>\n",
       "      <th>correct_is_right</th>\n",
       "    </tr>\n",
       "  </thead>\n",
       "  <tbody>\n",
       "    <tr>\n",
       "      <th>0</th>\n",
       "      <td>*valid--!valid;(sw)</td>\n",
       "      <td>As I get older I genuinely don't know if we're...</td>\n",
       "      <td>Statically violence has been decreasing per Ca...</td>\n",
       "      <td>Well that’s a shitty way to go for having bad ...</td>\n",
       "      <td>[Daughter of Putin Propagandist Killed in Car ...</td>\n",
       "      <td>1.000000e+00</td>\n",
       "      <td>2.748785e-43</td>\n",
       "      <td>False</td>\n",
       "    </tr>\n",
       "    <tr>\n",
       "      <th>1</th>\n",
       "      <td>*valid--valid;(sw)</td>\n",
       "      <td>Meanwhile Trump delayed sending relief checks ...</td>\n",
       "      <td>Omg lol, I remember this. I know it couldn't h...</td>\n",
       "      <td>It comes from poor translations for the most p...</td>\n",
       "      <td>Visegrad24 seems to have a bit of a bias again...</td>\n",
       "      <td>9.999939e-01</td>\n",
       "      <td>6.144175e-06</td>\n",
       "      <td>False</td>\n",
       "    </tr>\n",
       "    <tr>\n",
       "      <th>2</th>\n",
       "      <td>*valid--!copy;(sw)</td>\n",
       "      <td>reddit? twitter?</td>\n",
       "      <td>Ha ha ha ha ah yes the far left strong hold of...</td>\n",
       "      <td>Ha ha ha ha ah yes the far left strong hold of...</td>\n",
       "      <td>reddit? twitter?</td>\n",
       "      <td>9.990889e-01</td>\n",
       "      <td>9.110512e-04</td>\n",
       "      <td>False</td>\n",
       "    </tr>\n",
       "    <tr>\n",
       "      <th>3</th>\n",
       "      <td>valid--valid;(mtl:20)</td>\n",
       "      <td>[Russia says Ukrainian regions under its contr...</td>\n",
       "      <td>So let me get this straight… - Russia invades ...</td>\n",
       "      <td>Yes. He has no power over private loans.</td>\n",
       "      <td>Well shit, still getting fucked over by my fir...</td>\n",
       "      <td>1.125352e-07</td>\n",
       "      <td>9.999999e-01</td>\n",
       "      <td>True</td>\n",
       "    </tr>\n",
       "  </tbody>\n",
       "</table>\n",
       "</div>"
      ],
      "text/plain": [
       "                gen_name                                        parent_left  \\\n",
       "0    *valid--!valid;(sw)  As I get older I genuinely don't know if we're...   \n",
       "1     *valid--valid;(sw)  Meanwhile Trump delayed sending relief checks ...   \n",
       "2     *valid--!copy;(sw)                                   reddit? twitter?   \n",
       "3  valid--valid;(mtl:20)  [Russia says Ukrainian regions under its contr...   \n",
       "\n",
       "                                          child_left  \\\n",
       "0  Statically violence has been decreasing per Ca...   \n",
       "1  Omg lol, I remember this. I know it couldn't h...   \n",
       "2  Ha ha ha ha ah yes the far left strong hold of...   \n",
       "3  So let me get this straight… - Russia invades ...   \n",
       "\n",
       "                                        parent_right  \\\n",
       "0  Well that’s a shitty way to go for having bad ...   \n",
       "1  It comes from poor translations for the most p...   \n",
       "2  Ha ha ha ha ah yes the far left strong hold of...   \n",
       "3           Yes. He has no power over private loans.   \n",
       "\n",
       "                                         child_right     sway_left  \\\n",
       "0  [Daughter of Putin Propagandist Killed in Car ...  1.000000e+00   \n",
       "1  Visegrad24 seems to have a bit of a bias again...  9.999939e-01   \n",
       "2                                   reddit? twitter?  9.990889e-01   \n",
       "3  Well shit, still getting fucked over by my fir...  1.125352e-07   \n",
       "\n",
       "     sway_right  correct_is_right  \n",
       "0  2.748785e-43             False  \n",
       "1  6.144175e-06             False  \n",
       "2  9.110512e-04             False  \n",
       "3  9.999999e-01              True  "
      ]
     },
     "metadata": {},
     "output_type": "display_data"
    },
    {
     "data": {
      "application/vnd.jupyter.widget-view+json": {
       "model_id": "dd2b22d5fd944f11b5a8a33f7a8a59f6",
       "version_major": 2,
       "version_minor": 0
      },
      "text/plain": [
       "train val:   0%|          | 0/10000 [00:00<?, ?it/s]"
      ]
     },
     "metadata": {},
     "output_type": "display_data"
    },
    {
     "data": {
      "application/vnd.jupyter.widget-view+json": {
       "model_id": "0b101c208a1d4ab3b50b168c7ab7300a",
       "version_major": 2,
       "version_minor": 0
      },
      "text/plain": [
       "test:   0%|          | 0/10000 [00:00<?, ?it/s]"
      ]
     },
     "metadata": {},
     "output_type": "display_data"
    },
    {
     "name": "stdout",
     "output_type": "stream",
     "text": [
      "train: {'accuracy': 0.50975} loss: 0.681767002081871\n",
      "train val: {'accuracy': 0.5591} loss: 0.6879407890081406\n",
      "test: {'accuracy': 0.4957} loss: 0.6951466648101806\n",
      "epoch 34\n"
     ]
    },
    {
     "data": {
      "application/vnd.jupyter.widget-view+json": {
       "model_id": "8645cc19395e419089fee0bd6620ca7e",
       "version_major": 2,
       "version_minor": 0
      },
      "text/plain": [
       "train:   0%|          | 0/20000 [00:00<?, ?it/s]"
      ]
     },
     "metadata": {},
     "output_type": "display_data"
    },
    {
     "data": {
      "text/html": [
       "<div>\n",
       "<style scoped>\n",
       "    .dataframe tbody tr th:only-of-type {\n",
       "        vertical-align: middle;\n",
       "    }\n",
       "\n",
       "    .dataframe tbody tr th {\n",
       "        vertical-align: top;\n",
       "    }\n",
       "\n",
       "    .dataframe thead th {\n",
       "        text-align: right;\n",
       "    }\n",
       "</style>\n",
       "<table border=\"1\" class=\"dataframe\">\n",
       "  <thead>\n",
       "    <tr style=\"text-align: right;\">\n",
       "      <th></th>\n",
       "      <th>gen_name</th>\n",
       "      <th>parent_left</th>\n",
       "      <th>child_left</th>\n",
       "      <th>parent_right</th>\n",
       "      <th>child_right</th>\n",
       "      <th>sway_left</th>\n",
       "      <th>sway_right</th>\n",
       "      <th>correct_is_right</th>\n",
       "    </tr>\n",
       "  </thead>\n",
       "  <tbody>\n",
       "    <tr>\n",
       "      <th>0</th>\n",
       "      <td>*path--!copy;(mtl:20)</td>\n",
       "      <td>That one lonely loser in the background yellin...</td>\n",
       "      <td>The backdrop is just delightfully Dark Brandon</td>\n",
       "      <td>The backdrop is just delightfully Dark Brandon</td>\n",
       "      <td>That one lonely loser in the background yellin...</td>\n",
       "      <td>9.999977e-01</td>\n",
       "      <td>0.000002</td>\n",
       "      <td>False</td>\n",
       "    </tr>\n",
       "    <tr>\n",
       "      <th>1</th>\n",
       "      <td>valid--valid</td>\n",
       "      <td>5e-2 * 7e5 = 35e3 or $35K</td>\n",
       "      <td>I think you made the equation more difficult 😆...</td>\n",
       "      <td>The argument I've seen is that (baselessly) Tr...</td>\n",
       "      <td>Reminds me of Michael Scott declaring bankruptcy</td>\n",
       "      <td>8.807971e-01</td>\n",
       "      <td>0.119203</td>\n",
       "      <td>False</td>\n",
       "    </tr>\n",
       "    <tr>\n",
       "      <th>2</th>\n",
       "      <td>random--path;(sw)</td>\n",
       "      <td>It's an interview with an ex copper.</td>\n",
       "      <td>While I agree with this, Idaho isn't going to ...</td>\n",
       "      <td>Exactly. If it was the other way around she wo...</td>\n",
       "      <td>You know there’ll be people defending her</td>\n",
       "      <td>1.125352e-07</td>\n",
       "      <td>1.000000</td>\n",
       "      <td>True</td>\n",
       "    </tr>\n",
       "    <tr>\n",
       "      <th>3</th>\n",
       "      <td>*path--random;(mtl:20)</td>\n",
       "      <td>Columbus is pretty blue though. It’s the rural...</td>\n",
       "      <td>But Columbus doesn't control the Ohio Departme...</td>\n",
       "      <td>The idea is that it allows people to more easi...</td>\n",
       "      <td>The Guardian is absolutely equivalent to Fox N...</td>\n",
       "      <td>9.999833e-01</td>\n",
       "      <td>0.000017</td>\n",
       "      <td>False</td>\n",
       "    </tr>\n",
       "  </tbody>\n",
       "</table>\n",
       "</div>"
      ],
      "text/plain": [
       "                 gen_name                                        parent_left  \\\n",
       "0   *path--!copy;(mtl:20)  That one lonely loser in the background yellin...   \n",
       "1            valid--valid                          5e-2 * 7e5 = 35e3 or $35K   \n",
       "2       random--path;(sw)               It's an interview with an ex copper.   \n",
       "3  *path--random;(mtl:20)  Columbus is pretty blue though. It’s the rural...   \n",
       "\n",
       "                                          child_left  \\\n",
       "0     The backdrop is just delightfully Dark Brandon   \n",
       "1  I think you made the equation more difficult 😆...   \n",
       "2  While I agree with this, Idaho isn't going to ...   \n",
       "3  But Columbus doesn't control the Ohio Departme...   \n",
       "\n",
       "                                        parent_right  \\\n",
       "0     The backdrop is just delightfully Dark Brandon   \n",
       "1  The argument I've seen is that (baselessly) Tr...   \n",
       "2  Exactly. If it was the other way around she wo...   \n",
       "3  The idea is that it allows people to more easi...   \n",
       "\n",
       "                                         child_right     sway_left  \\\n",
       "0  That one lonely loser in the background yellin...  9.999977e-01   \n",
       "1   Reminds me of Michael Scott declaring bankruptcy  8.807971e-01   \n",
       "2          You know there’ll be people defending her  1.125352e-07   \n",
       "3  The Guardian is absolutely equivalent to Fox N...  9.999833e-01   \n",
       "\n",
       "   sway_right  correct_is_right  \n",
       "0    0.000002             False  \n",
       "1    0.119203             False  \n",
       "2    1.000000              True  \n",
       "3    0.000017             False  "
      ]
     },
     "metadata": {},
     "output_type": "display_data"
    },
    {
     "data": {
      "application/vnd.jupyter.widget-view+json": {
       "model_id": "7c4f79dadc494d53bbcd3faa62da196e",
       "version_major": 2,
       "version_minor": 0
      },
      "text/plain": [
       "train val:   0%|          | 0/10000 [00:00<?, ?it/s]"
      ]
     },
     "metadata": {},
     "output_type": "display_data"
    },
    {
     "data": {
      "application/vnd.jupyter.widget-view+json": {
       "model_id": "3eff32774db04358933030ae34979456",
       "version_major": 2,
       "version_minor": 0
      },
      "text/plain": [
       "test:   0%|          | 0/10000 [00:00<?, ?it/s]"
      ]
     },
     "metadata": {},
     "output_type": "display_data"
    },
    {
     "name": "stdout",
     "output_type": "stream",
     "text": [
      "train: {'accuracy': 0.5139} loss: 0.6924955279231072\n",
      "train val: {'accuracy': 0.6057} loss: 0.6897386567354202\n",
      "test: {'accuracy': 0.494} loss: 0.6935342308759689\n",
      "epoch 35\n"
     ]
    },
    {
     "data": {
      "application/vnd.jupyter.widget-view+json": {
       "model_id": "0dfa56b636124338b6ae984396b2f2f4",
       "version_major": 2,
       "version_minor": 0
      },
      "text/plain": [
       "train:   0%|          | 0/20000 [00:00<?, ?it/s]"
      ]
     },
     "metadata": {},
     "output_type": "display_data"
    },
    {
     "data": {
      "text/html": [
       "<div>\n",
       "<style scoped>\n",
       "    .dataframe tbody tr th:only-of-type {\n",
       "        vertical-align: middle;\n",
       "    }\n",
       "\n",
       "    .dataframe tbody tr th {\n",
       "        vertical-align: top;\n",
       "    }\n",
       "\n",
       "    .dataframe thead th {\n",
       "        text-align: right;\n",
       "    }\n",
       "</style>\n",
       "<table border=\"1\" class=\"dataframe\">\n",
       "  <thead>\n",
       "    <tr style=\"text-align: right;\">\n",
       "      <th></th>\n",
       "      <th>gen_name</th>\n",
       "      <th>parent_left</th>\n",
       "      <th>child_left</th>\n",
       "      <th>parent_right</th>\n",
       "      <th>child_right</th>\n",
       "      <th>sway_left</th>\n",
       "      <th>sway_right</th>\n",
       "      <th>correct_is_right</th>\n",
       "    </tr>\n",
       "  </thead>\n",
       "  <tbody>\n",
       "    <tr>\n",
       "      <th>0</th>\n",
       "      <td>*path--random;(sw)</td>\n",
       "      <td>Sarah Palin bailed on Alaska when she was gove...</td>\n",
       "      <td>You underestimate how stupid and vile Republic...</td>\n",
       "      <td>Nah. This is bad parenting. You could argue th...</td>\n",
       "      <td>Maybe you'll be a crypto billionaire someday s...</td>\n",
       "      <td>0.999994</td>\n",
       "      <td>0.000006</td>\n",
       "      <td>False</td>\n",
       "    </tr>\n",
       "    <tr>\n",
       "      <th>1</th>\n",
       "      <td>*path--!copy;(sw)</td>\n",
       "      <td>Columbus city schools is actually a highly fun...</td>\n",
       "      <td>This doesn't mean they aren't underfunded. Som...</td>\n",
       "      <td>This doesn't mean they aren't underfunded. Som...</td>\n",
       "      <td>Columbus city schools is actually a highly fun...</td>\n",
       "      <td>0.952574</td>\n",
       "      <td>0.047426</td>\n",
       "      <td>False</td>\n",
       "    </tr>\n",
       "    <tr>\n",
       "      <th>2</th>\n",
       "      <td>*valid--!copy;(sw)</td>\n",
       "      <td>So for me, I was able to get scholarships for ...</td>\n",
       "      <td>Wow. Thank you for sharing such personal detai...</td>\n",
       "      <td>Wow. Thank you for sharing such personal detai...</td>\n",
       "      <td>So for me, I was able to get scholarships for ...</td>\n",
       "      <td>0.999665</td>\n",
       "      <td>0.000335</td>\n",
       "      <td>False</td>\n",
       "    </tr>\n",
       "    <tr>\n",
       "      <th>3</th>\n",
       "      <td>!valid--valid;(mtl:20)</td>\n",
       "      <td>Fair fair. I mean more religious fundamentalis...</td>\n",
       "      <td>&gt;I feel like this is disingenuous as much like...</td>\n",
       "      <td>Yes yes of course. Jesus walked around stonnin...</td>\n",
       "      <td>Dude, it was an AR-15!!! What are you, a Phara...</td>\n",
       "      <td>0.268941</td>\n",
       "      <td>0.731059</td>\n",
       "      <td>True</td>\n",
       "    </tr>\n",
       "  </tbody>\n",
       "</table>\n",
       "</div>"
      ],
      "text/plain": [
       "                 gen_name                                        parent_left  \\\n",
       "0      *path--random;(sw)  Sarah Palin bailed on Alaska when she was gove...   \n",
       "1       *path--!copy;(sw)  Columbus city schools is actually a highly fun...   \n",
       "2      *valid--!copy;(sw)  So for me, I was able to get scholarships for ...   \n",
       "3  !valid--valid;(mtl:20)  Fair fair. I mean more religious fundamentalis...   \n",
       "\n",
       "                                          child_left  \\\n",
       "0  You underestimate how stupid and vile Republic...   \n",
       "1  This doesn't mean they aren't underfunded. Som...   \n",
       "2  Wow. Thank you for sharing such personal detai...   \n",
       "3  >I feel like this is disingenuous as much like...   \n",
       "\n",
       "                                        parent_right  \\\n",
       "0  Nah. This is bad parenting. You could argue th...   \n",
       "1  This doesn't mean they aren't underfunded. Som...   \n",
       "2  Wow. Thank you for sharing such personal detai...   \n",
       "3  Yes yes of course. Jesus walked around stonnin...   \n",
       "\n",
       "                                         child_right  sway_left  sway_right  \\\n",
       "0  Maybe you'll be a crypto billionaire someday s...   0.999994    0.000006   \n",
       "1  Columbus city schools is actually a highly fun...   0.952574    0.047426   \n",
       "2  So for me, I was able to get scholarships for ...   0.999665    0.000335   \n",
       "3  Dude, it was an AR-15!!! What are you, a Phara...   0.268941    0.731059   \n",
       "\n",
       "   correct_is_right  \n",
       "0             False  \n",
       "1             False  \n",
       "2             False  \n",
       "3              True  "
      ]
     },
     "metadata": {},
     "output_type": "display_data"
    },
    {
     "data": {
      "application/vnd.jupyter.widget-view+json": {
       "model_id": "a128742c1081451ea4a1fb89aa5f2b15",
       "version_major": 2,
       "version_minor": 0
      },
      "text/plain": [
       "train val:   0%|          | 0/10000 [00:00<?, ?it/s]"
      ]
     },
     "metadata": {},
     "output_type": "display_data"
    },
    {
     "data": {
      "application/vnd.jupyter.widget-view+json": {
       "model_id": "119b952419244ec68f2c5c50b76c8cf9",
       "version_major": 2,
       "version_minor": 0
      },
      "text/plain": [
       "test:   0%|          | 0/10000 [00:00<?, ?it/s]"
      ]
     },
     "metadata": {},
     "output_type": "display_data"
    },
    {
     "name": "stdout",
     "output_type": "stream",
     "text": [
      "train: {'accuracy': 0.53385} loss: 0.6825000674247742\n",
      "train val: {'accuracy': 0.5818} loss: 0.6862693108916282\n",
      "test: {'accuracy': 0.5038} loss: 0.6987999725341797\n",
      "epoch 36\n"
     ]
    },
    {
     "data": {
      "application/vnd.jupyter.widget-view+json": {
       "model_id": "fee0491623a24a7998a9c9ec74b3743f",
       "version_major": 2,
       "version_minor": 0
      },
      "text/plain": [
       "train:   0%|          | 0/20000 [00:00<?, ?it/s]"
      ]
     },
     "metadata": {},
     "output_type": "display_data"
    },
    {
     "data": {
      "text/html": [
       "<div>\n",
       "<style scoped>\n",
       "    .dataframe tbody tr th:only-of-type {\n",
       "        vertical-align: middle;\n",
       "    }\n",
       "\n",
       "    .dataframe tbody tr th {\n",
       "        vertical-align: top;\n",
       "    }\n",
       "\n",
       "    .dataframe thead th {\n",
       "        text-align: right;\n",
       "    }\n",
       "</style>\n",
       "<table border=\"1\" class=\"dataframe\">\n",
       "  <thead>\n",
       "    <tr style=\"text-align: right;\">\n",
       "      <th></th>\n",
       "      <th>gen_name</th>\n",
       "      <th>parent_left</th>\n",
       "      <th>child_left</th>\n",
       "      <th>parent_right</th>\n",
       "      <th>child_right</th>\n",
       "      <th>sway_left</th>\n",
       "      <th>sway_right</th>\n",
       "      <th>correct_is_right</th>\n",
       "    </tr>\n",
       "  </thead>\n",
       "  <tbody>\n",
       "    <tr>\n",
       "      <th>0</th>\n",
       "      <td>!copy--valid;(sw)</td>\n",
       "      <td>Snobs, I may be a giants fan, but I’m right on...</td>\n",
       "      <td>Not at all. I just know my family from souther...</td>\n",
       "      <td>Not at all. I just know my family from souther...</td>\n",
       "      <td>Snobs, I may be a giants fan, but I’m right on...</td>\n",
       "      <td>0.119203</td>\n",
       "      <td>0.880797</td>\n",
       "      <td>True</td>\n",
       "    </tr>\n",
       "    <tr>\n",
       "      <th>1</th>\n",
       "      <td>valid--valid</td>\n",
       "      <td>Only half of us are sane? I was hoping for a m...</td>\n",
       "      <td>Seems to me that half the population should be...</td>\n",
       "      <td>My father is an attorney, but he works for the...</td>\n",
       "      <td>Wealth inequality exists in every industry.</td>\n",
       "      <td>0.952574</td>\n",
       "      <td>0.047426</td>\n",
       "      <td>False</td>\n",
       "    </tr>\n",
       "    <tr>\n",
       "      <th>2</th>\n",
       "      <td>!valid--valid;(sw)</td>\n",
       "      <td>I think we are talking about 2 different thing...</td>\n",
       "      <td>Imagine a giant marshmallow floating on water....</td>\n",
       "      <td>[GOP candidate said it’s “totally just” to sto...</td>\n",
       "      <td>Makes him a taliban member</td>\n",
       "      <td>0.119203</td>\n",
       "      <td>0.880797</td>\n",
       "      <td>True</td>\n",
       "    </tr>\n",
       "    <tr>\n",
       "      <th>3</th>\n",
       "      <td>valid--valid;(sw)</td>\n",
       "      <td>[Trump Was Hoarding Some of America's Most Sen...</td>\n",
       "      <td>He should have scanned them and stored on a se...</td>\n",
       "      <td>I can't even tell if you are joking or not....</td>\n",
       "      <td>[He is not joking at all...](https://www.vanit...</td>\n",
       "      <td>0.039166</td>\n",
       "      <td>0.960834</td>\n",
       "      <td>True</td>\n",
       "    </tr>\n",
       "  </tbody>\n",
       "</table>\n",
       "</div>"
      ],
      "text/plain": [
       "             gen_name                                        parent_left  \\\n",
       "0   !copy--valid;(sw)  Snobs, I may be a giants fan, but I’m right on...   \n",
       "1        valid--valid  Only half of us are sane? I was hoping for a m...   \n",
       "2  !valid--valid;(sw)  I think we are talking about 2 different thing...   \n",
       "3   valid--valid;(sw)  [Trump Was Hoarding Some of America's Most Sen...   \n",
       "\n",
       "                                          child_left  \\\n",
       "0  Not at all. I just know my family from souther...   \n",
       "1  Seems to me that half the population should be...   \n",
       "2  Imagine a giant marshmallow floating on water....   \n",
       "3  He should have scanned them and stored on a se...   \n",
       "\n",
       "                                        parent_right  \\\n",
       "0  Not at all. I just know my family from souther...   \n",
       "1  My father is an attorney, but he works for the...   \n",
       "2  [GOP candidate said it’s “totally just” to sto...   \n",
       "3     I can't even tell if you are joking or not....   \n",
       "\n",
       "                                         child_right  sway_left  sway_right  \\\n",
       "0  Snobs, I may be a giants fan, but I’m right on...   0.119203    0.880797   \n",
       "1        Wealth inequality exists in every industry.   0.952574    0.047426   \n",
       "2                         Makes him a taliban member   0.119203    0.880797   \n",
       "3  [He is not joking at all...](https://www.vanit...   0.039166    0.960834   \n",
       "\n",
       "   correct_is_right  \n",
       "0              True  \n",
       "1             False  \n",
       "2              True  \n",
       "3              True  "
      ]
     },
     "metadata": {},
     "output_type": "display_data"
    },
    {
     "data": {
      "application/vnd.jupyter.widget-view+json": {
       "model_id": "c896abdde6f44485a4a769031b7f1dd8",
       "version_major": 2,
       "version_minor": 0
      },
      "text/plain": [
       "train val:   0%|          | 0/10000 [00:00<?, ?it/s]"
      ]
     },
     "metadata": {},
     "output_type": "display_data"
    },
    {
     "data": {
      "application/vnd.jupyter.widget-view+json": {
       "model_id": "121ecf50292f45538c320795583868ed",
       "version_major": 2,
       "version_minor": 0
      },
      "text/plain": [
       "test:   0%|          | 0/10000 [00:00<?, ?it/s]"
      ]
     },
     "metadata": {},
     "output_type": "display_data"
    },
    {
     "name": "stdout",
     "output_type": "stream",
     "text": [
      "train: {'accuracy': 0.5481} loss: 0.6762185353577137\n",
      "train val: {'accuracy': 0.5338} loss: 0.6927150124788284\n",
      "test: {'accuracy': 0.5015} loss: 0.6932447136640548\n",
      "epoch 37\n"
     ]
    },
    {
     "data": {
      "application/vnd.jupyter.widget-view+json": {
       "model_id": "ffacff77f1ad43e68d36fc38f8e70b3c",
       "version_major": 2,
       "version_minor": 0
      },
      "text/plain": [
       "train:   0%|          | 0/20000 [00:00<?, ?it/s]"
      ]
     },
     "metadata": {},
     "output_type": "display_data"
    },
    {
     "data": {
      "text/html": [
       "<div>\n",
       "<style scoped>\n",
       "    .dataframe tbody tr th:only-of-type {\n",
       "        vertical-align: middle;\n",
       "    }\n",
       "\n",
       "    .dataframe tbody tr th {\n",
       "        vertical-align: top;\n",
       "    }\n",
       "\n",
       "    .dataframe thead th {\n",
       "        text-align: right;\n",
       "    }\n",
       "</style>\n",
       "<table border=\"1\" class=\"dataframe\">\n",
       "  <thead>\n",
       "    <tr style=\"text-align: right;\">\n",
       "      <th></th>\n",
       "      <th>gen_name</th>\n",
       "      <th>parent_left</th>\n",
       "      <th>child_left</th>\n",
       "      <th>parent_right</th>\n",
       "      <th>child_right</th>\n",
       "      <th>sway_left</th>\n",
       "      <th>sway_right</th>\n",
       "      <th>correct_is_right</th>\n",
       "    </tr>\n",
       "  </thead>\n",
       "  <tbody>\n",
       "    <tr>\n",
       "      <th>0</th>\n",
       "      <td>valid--valid</td>\n",
       "      <td>&gt;Nuclear weapons issue is a Hoax, just like Ru...</td>\n",
       "      <td>Haha yeah it's a hoax like the 2020 election w...</td>\n",
       "      <td>[Louisiana hospital denies abortion for fetus ...</td>\n",
       "      <td>But what if he cures cancer with his jelly hea...</td>\n",
       "      <td>0.268941</td>\n",
       "      <td>0.731059</td>\n",
       "      <td>True</td>\n",
       "    </tr>\n",
       "    <tr>\n",
       "      <th>1</th>\n",
       "      <td>*valid--random;(sw)</td>\n",
       "      <td>&gt;A trio of “anti-woke” GOP candidates Is \"anti...</td>\n",
       "      <td>To be \"woke\" is to be awake and aware of your ...</td>\n",
       "      <td>Lol well you tried</td>\n",
       "      <td>&gt;You know who is going to get punished. TA, re...</td>\n",
       "      <td>0.999955</td>\n",
       "      <td>0.000045</td>\n",
       "      <td>False</td>\n",
       "    </tr>\n",
       "    <tr>\n",
       "      <th>2</th>\n",
       "      <td>valid--valid;(sw)</td>\n",
       "      <td>If Abbott sends migrants to Oregon, I’m sure P...</td>\n",
       "      <td>They'd have to voluntarily go... If you're hom...</td>\n",
       "      <td>Sounds an awful lot like ‘The king’s life is m...</td>\n",
       "      <td>sounds like prince Charles is like \"about fuck...</td>\n",
       "      <td>0.057324</td>\n",
       "      <td>0.942676</td>\n",
       "      <td>True</td>\n",
       "    </tr>\n",
       "    <tr>\n",
       "      <th>3</th>\n",
       "      <td>*valid--valid;(sw)</td>\n",
       "      <td>[White House leaning toward canceling $10,000 ...</td>\n",
       "      <td>Cancel it for public service employees</td>\n",
       "      <td>I never had a student loan, I just approve of ...</td>\n",
       "      <td>I guess I have to say I generally agree with y...</td>\n",
       "      <td>0.982014</td>\n",
       "      <td>0.017986</td>\n",
       "      <td>False</td>\n",
       "    </tr>\n",
       "  </tbody>\n",
       "</table>\n",
       "</div>"
      ],
      "text/plain": [
       "              gen_name                                        parent_left  \\\n",
       "0         valid--valid  >Nuclear weapons issue is a Hoax, just like Ru...   \n",
       "1  *valid--random;(sw)  >A trio of “anti-woke” GOP candidates Is \"anti...   \n",
       "2    valid--valid;(sw)  If Abbott sends migrants to Oregon, I’m sure P...   \n",
       "3   *valid--valid;(sw)  [White House leaning toward canceling $10,000 ...   \n",
       "\n",
       "                                          child_left  \\\n",
       "0  Haha yeah it's a hoax like the 2020 election w...   \n",
       "1  To be \"woke\" is to be awake and aware of your ...   \n",
       "2  They'd have to voluntarily go... If you're hom...   \n",
       "3             Cancel it for public service employees   \n",
       "\n",
       "                                        parent_right  \\\n",
       "0  [Louisiana hospital denies abortion for fetus ...   \n",
       "1                                 Lol well you tried   \n",
       "2  Sounds an awful lot like ‘The king’s life is m...   \n",
       "3  I never had a student loan, I just approve of ...   \n",
       "\n",
       "                                         child_right  sway_left  sway_right  \\\n",
       "0  But what if he cures cancer with his jelly hea...   0.268941    0.731059   \n",
       "1  >You know who is going to get punished. TA, re...   0.999955    0.000045   \n",
       "2  sounds like prince Charles is like \"about fuck...   0.057324    0.942676   \n",
       "3  I guess I have to say I generally agree with y...   0.982014    0.017986   \n",
       "\n",
       "   correct_is_right  \n",
       "0              True  \n",
       "1             False  \n",
       "2              True  \n",
       "3             False  "
      ]
     },
     "metadata": {},
     "output_type": "display_data"
    },
    {
     "data": {
      "application/vnd.jupyter.widget-view+json": {
       "model_id": "d69abd2e9b6344cebfe84c436c3fe271",
       "version_major": 2,
       "version_minor": 0
      },
      "text/plain": [
       "train val:   0%|          | 0/10000 [00:00<?, ?it/s]"
      ]
     },
     "metadata": {},
     "output_type": "display_data"
    },
    {
     "data": {
      "application/vnd.jupyter.widget-view+json": {
       "model_id": "37626d9ad47144f098d68ad2a42832d9",
       "version_major": 2,
       "version_minor": 0
      },
      "text/plain": [
       "test:   0%|          | 0/10000 [00:00<?, ?it/s]"
      ]
     },
     "metadata": {},
     "output_type": "display_data"
    },
    {
     "name": "stdout",
     "output_type": "stream",
     "text": [
      "train: {'accuracy': 0.54575} loss: 0.6780207424521446\n",
      "train val: {'accuracy': 0.5448} loss: 0.7597835867762566\n",
      "test: {'accuracy': 0.5004} loss: 0.7769730962634087\n",
      "epoch 38\n"
     ]
    },
    {
     "data": {
      "application/vnd.jupyter.widget-view+json": {
       "model_id": "788a091d64044e2f8cb0cf9696281d01",
       "version_major": 2,
       "version_minor": 0
      },
      "text/plain": [
       "train:   0%|          | 0/20000 [00:00<?, ?it/s]"
      ]
     },
     "metadata": {},
     "output_type": "display_data"
    },
    {
     "data": {
      "text/html": [
       "<div>\n",
       "<style scoped>\n",
       "    .dataframe tbody tr th:only-of-type {\n",
       "        vertical-align: middle;\n",
       "    }\n",
       "\n",
       "    .dataframe tbody tr th {\n",
       "        vertical-align: top;\n",
       "    }\n",
       "\n",
       "    .dataframe thead th {\n",
       "        text-align: right;\n",
       "    }\n",
       "</style>\n",
       "<table border=\"1\" class=\"dataframe\">\n",
       "  <thead>\n",
       "    <tr style=\"text-align: right;\">\n",
       "      <th></th>\n",
       "      <th>gen_name</th>\n",
       "      <th>parent_left</th>\n",
       "      <th>child_left</th>\n",
       "      <th>parent_right</th>\n",
       "      <th>child_right</th>\n",
       "      <th>sway_left</th>\n",
       "      <th>sway_right</th>\n",
       "      <th>correct_is_right</th>\n",
       "    </tr>\n",
       "  </thead>\n",
       "  <tbody>\n",
       "    <tr>\n",
       "      <th>0</th>\n",
       "      <td>*valid--!copy;(sw)</td>\n",
       "      <td>The rate of death in the US is around 3x as hi...</td>\n",
       "      <td>Lol, good one. https://www.economist.com/graph...</td>\n",
       "      <td>Lol, good one. https://www.economist.com/graph...</td>\n",
       "      <td>The rate of death in the US is around 3x as hi...</td>\n",
       "      <td>0.880797</td>\n",
       "      <td>0.119203</td>\n",
       "      <td>False</td>\n",
       "    </tr>\n",
       "    <tr>\n",
       "      <th>1</th>\n",
       "      <td>valid--valid</td>\n",
       "      <td>It still falls in the \"being an asshole\" categ...</td>\n",
       "      <td>This isn't criminal. It's civil.</td>\n",
       "      <td>At least you still have the energy to type tha...</td>\n",
       "      <td>Correct. They went in to get the documents bac...</td>\n",
       "      <td>0.119203</td>\n",
       "      <td>0.880797</td>\n",
       "      <td>True</td>\n",
       "    </tr>\n",
       "    <tr>\n",
       "      <th>2</th>\n",
       "      <td>*valid--!valid;(sw)</td>\n",
       "      <td>Putin has an out. He can pull out at any time....</td>\n",
       "      <td>Yes but to my understanding, when people talk ...</td>\n",
       "      <td>And why do you think that is a relevant point ...</td>\n",
       "      <td>I'm pointing out the difference between what h...</td>\n",
       "      <td>0.999089</td>\n",
       "      <td>0.000911</td>\n",
       "      <td>False</td>\n",
       "    </tr>\n",
       "    <tr>\n",
       "      <th>3</th>\n",
       "      <td>random--valid;(sw)</td>\n",
       "      <td>Not relative. Overall</td>\n",
       "      <td>Can you imagine trading your freedom, your fut...</td>\n",
       "      <td>[Uvalde school board fires police chief after ...</td>\n",
       "      <td>They need to set this guy adrift South Park style</td>\n",
       "      <td>0.119203</td>\n",
       "      <td>0.880797</td>\n",
       "      <td>True</td>\n",
       "    </tr>\n",
       "  </tbody>\n",
       "</table>\n",
       "</div>"
      ],
      "text/plain": [
       "              gen_name                                        parent_left  \\\n",
       "0   *valid--!copy;(sw)  The rate of death in the US is around 3x as hi...   \n",
       "1         valid--valid  It still falls in the \"being an asshole\" categ...   \n",
       "2  *valid--!valid;(sw)  Putin has an out. He can pull out at any time....   \n",
       "3   random--valid;(sw)                              Not relative. Overall   \n",
       "\n",
       "                                          child_left  \\\n",
       "0  Lol, good one. https://www.economist.com/graph...   \n",
       "1                   This isn't criminal. It's civil.   \n",
       "2  Yes but to my understanding, when people talk ...   \n",
       "3  Can you imagine trading your freedom, your fut...   \n",
       "\n",
       "                                        parent_right  \\\n",
       "0  Lol, good one. https://www.economist.com/graph...   \n",
       "1  At least you still have the energy to type tha...   \n",
       "2  And why do you think that is a relevant point ...   \n",
       "3  [Uvalde school board fires police chief after ...   \n",
       "\n",
       "                                         child_right  sway_left  sway_right  \\\n",
       "0  The rate of death in the US is around 3x as hi...   0.880797    0.119203   \n",
       "1  Correct. They went in to get the documents bac...   0.119203    0.880797   \n",
       "2  I'm pointing out the difference between what h...   0.999089    0.000911   \n",
       "3  They need to set this guy adrift South Park style   0.119203    0.880797   \n",
       "\n",
       "   correct_is_right  \n",
       "0             False  \n",
       "1              True  \n",
       "2             False  \n",
       "3              True  "
      ]
     },
     "metadata": {},
     "output_type": "display_data"
    },
    {
     "data": {
      "application/vnd.jupyter.widget-view+json": {
       "model_id": "dbe26115ba88431b9a44aa92470dfa66",
       "version_major": 2,
       "version_minor": 0
      },
      "text/plain": [
       "train val:   0%|          | 0/10000 [00:00<?, ?it/s]"
      ]
     },
     "metadata": {},
     "output_type": "display_data"
    },
    {
     "data": {
      "application/vnd.jupyter.widget-view+json": {
       "model_id": "7260fbf1aee345c89f2709fe55fa52e0",
       "version_major": 2,
       "version_minor": 0
      },
      "text/plain": [
       "test:   0%|          | 0/10000 [00:00<?, ?it/s]"
      ]
     },
     "metadata": {},
     "output_type": "display_data"
    },
    {
     "name": "stdout",
     "output_type": "stream",
     "text": [
      "train: {'accuracy': 0.59865} loss: 0.6550295001298189\n",
      "train val: {'accuracy': 0.6295} loss: 0.6781135350704193\n",
      "test: {'accuracy': 0.4983} loss: 0.696178114259243\n",
      "epoch 39\n"
     ]
    },
    {
     "data": {
      "application/vnd.jupyter.widget-view+json": {
       "model_id": "54ec1d657f7f44da871ebae45ff3f2f1",
       "version_major": 2,
       "version_minor": 0
      },
      "text/plain": [
       "train:   0%|          | 0/20000 [00:00<?, ?it/s]"
      ]
     },
     "metadata": {},
     "output_type": "display_data"
    },
    {
     "data": {
      "text/html": [
       "<div>\n",
       "<style scoped>\n",
       "    .dataframe tbody tr th:only-of-type {\n",
       "        vertical-align: middle;\n",
       "    }\n",
       "\n",
       "    .dataframe tbody tr th {\n",
       "        vertical-align: top;\n",
       "    }\n",
       "\n",
       "    .dataframe thead th {\n",
       "        text-align: right;\n",
       "    }\n",
       "</style>\n",
       "<table border=\"1\" class=\"dataframe\">\n",
       "  <thead>\n",
       "    <tr style=\"text-align: right;\">\n",
       "      <th></th>\n",
       "      <th>gen_name</th>\n",
       "      <th>parent_left</th>\n",
       "      <th>child_left</th>\n",
       "      <th>parent_right</th>\n",
       "      <th>child_right</th>\n",
       "      <th>sway_left</th>\n",
       "      <th>sway_right</th>\n",
       "      <th>correct_is_right</th>\n",
       "    </tr>\n",
       "  </thead>\n",
       "  <tbody>\n",
       "    <tr>\n",
       "      <th>0</th>\n",
       "      <td>!copy--valid;(sw)</td>\n",
       "      <td>they didn't give a fuck when there was no war ...</td>\n",
       "      <td>You mean Europe is more concerned by a war in ...</td>\n",
       "      <td>You mean Europe is more concerned by a war in ...</td>\n",
       "      <td>they didn't give a fuck when there was no war ...</td>\n",
       "      <td>0.450166</td>\n",
       "      <td>0.549834</td>\n",
       "      <td>True</td>\n",
       "    </tr>\n",
       "    <tr>\n",
       "      <th>1</th>\n",
       "      <td>random--path;(mtl:20)</td>\n",
       "      <td>96 is a good age. She had a good life. She’s w...</td>\n",
       "      <td>Sorry not sorry \"Asslips McDickface\".</td>\n",
       "      <td>Multiple operatives in multiple states. All ta...</td>\n",
       "      <td>Don't forget that the wife of a Supreme Court ...</td>\n",
       "      <td>0.268941</td>\n",
       "      <td>0.731059</td>\n",
       "      <td>True</td>\n",
       "    </tr>\n",
       "    <tr>\n",
       "      <th>2</th>\n",
       "      <td>valid--valid</td>\n",
       "      <td>Guess this will be shower with your mouth clos...</td>\n",
       "      <td>hey hey hey, this is different- white people m...</td>\n",
       "      <td>Shit I was assuming it would be an ally’s. Ima...</td>\n",
       "      <td>Imagine they would want to test those nukes on...</td>\n",
       "      <td>0.377541</td>\n",
       "      <td>0.622459</td>\n",
       "      <td>True</td>\n",
       "    </tr>\n",
       "    <tr>\n",
       "      <th>3</th>\n",
       "      <td>!valid--valid;(mtl:20)</td>\n",
       "      <td>People that just react to a statement like tha...</td>\n",
       "      <td>&gt; It is society after all that likely failed t...</td>\n",
       "      <td>Three sealed entries just hit the docket (no, ...</td>\n",
       "      <td>Updoot for visibility</td>\n",
       "      <td>0.268941</td>\n",
       "      <td>0.731059</td>\n",
       "      <td>True</td>\n",
       "    </tr>\n",
       "  </tbody>\n",
       "</table>\n",
       "</div>"
      ],
      "text/plain": [
       "                 gen_name                                        parent_left  \\\n",
       "0       !copy--valid;(sw)  they didn't give a fuck when there was no war ...   \n",
       "1   random--path;(mtl:20)  96 is a good age. She had a good life. She’s w...   \n",
       "2            valid--valid  Guess this will be shower with your mouth clos...   \n",
       "3  !valid--valid;(mtl:20)  People that just react to a statement like tha...   \n",
       "\n",
       "                                          child_left  \\\n",
       "0  You mean Europe is more concerned by a war in ...   \n",
       "1              Sorry not sorry \"Asslips McDickface\".   \n",
       "2  hey hey hey, this is different- white people m...   \n",
       "3  > It is society after all that likely failed t...   \n",
       "\n",
       "                                        parent_right  \\\n",
       "0  You mean Europe is more concerned by a war in ...   \n",
       "1  Multiple operatives in multiple states. All ta...   \n",
       "2  Shit I was assuming it would be an ally’s. Ima...   \n",
       "3  Three sealed entries just hit the docket (no, ...   \n",
       "\n",
       "                                         child_right  sway_left  sway_right  \\\n",
       "0  they didn't give a fuck when there was no war ...   0.450166    0.549834   \n",
       "1  Don't forget that the wife of a Supreme Court ...   0.268941    0.731059   \n",
       "2  Imagine they would want to test those nukes on...   0.377541    0.622459   \n",
       "3                              Updoot for visibility   0.268941    0.731059   \n",
       "\n",
       "   correct_is_right  \n",
       "0              True  \n",
       "1              True  \n",
       "2              True  \n",
       "3              True  "
      ]
     },
     "metadata": {},
     "output_type": "display_data"
    },
    {
     "data": {
      "application/vnd.jupyter.widget-view+json": {
       "model_id": "41614b3daaa8405ab35055de44cbd978",
       "version_major": 2,
       "version_minor": 0
      },
      "text/plain": [
       "train val:   0%|          | 0/10000 [00:00<?, ?it/s]"
      ]
     },
     "metadata": {},
     "output_type": "display_data"
    },
    {
     "data": {
      "application/vnd.jupyter.widget-view+json": {
       "model_id": "991b97ef54f744eaa6c0f42efb441891",
       "version_major": 2,
       "version_minor": 0
      },
      "text/plain": [
       "test:   0%|          | 0/10000 [00:00<?, ?it/s]"
      ]
     },
     "metadata": {},
     "output_type": "display_data"
    },
    {
     "name": "stdout",
     "output_type": "stream",
     "text": [
      "train: {'accuracy': 0.60925} loss: 0.6287182178884745\n",
      "train val: {'accuracy': 0.6554} loss: 0.6076746259987355\n",
      "test: {'accuracy': 0.4817} loss: 0.6978776834964752\n",
      "epoch 40\n"
     ]
    },
    {
     "data": {
      "application/vnd.jupyter.widget-view+json": {
       "model_id": "fe8f616992bf47c3895e80f5444b9acd",
       "version_major": 2,
       "version_minor": 0
      },
      "text/plain": [
       "train:   0%|          | 0/20000 [00:00<?, ?it/s]"
      ]
     },
     "metadata": {},
     "output_type": "display_data"
    },
    {
     "data": {
      "text/html": [
       "<div>\n",
       "<style scoped>\n",
       "    .dataframe tbody tr th:only-of-type {\n",
       "        vertical-align: middle;\n",
       "    }\n",
       "\n",
       "    .dataframe tbody tr th {\n",
       "        vertical-align: top;\n",
       "    }\n",
       "\n",
       "    .dataframe thead th {\n",
       "        text-align: right;\n",
       "    }\n",
       "</style>\n",
       "<table border=\"1\" class=\"dataframe\">\n",
       "  <thead>\n",
       "    <tr style=\"text-align: right;\">\n",
       "      <th></th>\n",
       "      <th>gen_name</th>\n",
       "      <th>parent_left</th>\n",
       "      <th>child_left</th>\n",
       "      <th>parent_right</th>\n",
       "      <th>child_right</th>\n",
       "      <th>sway_left</th>\n",
       "      <th>sway_right</th>\n",
       "      <th>correct_is_right</th>\n",
       "    </tr>\n",
       "  </thead>\n",
       "  <tbody>\n",
       "    <tr>\n",
       "      <th>0</th>\n",
       "      <td>random--path;(sw)</td>\n",
       "      <td>Here we go, I know this has been a thing they ...</td>\n",
       "      <td>Can you elaborate? How did Elizabeth become qu...</td>\n",
       "      <td>Ever date someone who wasn't quite over their ...</td>\n",
       "      <td>Holy fuq</td>\n",
       "      <td>5.109135e-12</td>\n",
       "      <td>1.000000</td>\n",
       "      <td>True</td>\n",
       "    </tr>\n",
       "    <tr>\n",
       "      <th>1</th>\n",
       "      <td>*valid--!valid;(mtl:20)</td>\n",
       "      <td>Not to be confused with Bill or Jack or Pete o...</td>\n",
       "      <td>...and all you want to do, is have some fun</td>\n",
       "      <td>All forms of liberalism are, both conservatism...</td>\n",
       "      <td>American conservatism is a crime against human...</td>\n",
       "      <td>9.820138e-01</td>\n",
       "      <td>0.017986</td>\n",
       "      <td>False</td>\n",
       "    </tr>\n",
       "    <tr>\n",
       "      <th>2</th>\n",
       "      <td>random--valid;(sw)</td>\n",
       "      <td>Youre quibling over an arbitrary title for a g...</td>\n",
       "      <td>When all other arguments are exhausted out com...</td>\n",
       "      <td>[Europe's electricity prices hit record high a...</td>\n",
       "      <td>It's like the scene in Trainspotting where the...</td>\n",
       "      <td>1.192029e-01</td>\n",
       "      <td>0.880797</td>\n",
       "      <td>True</td>\n",
       "    </tr>\n",
       "    <tr>\n",
       "      <th>3</th>\n",
       "      <td>valid--valid;(mtl:20)</td>\n",
       "      <td>Ukraine has already started winning. It's only...</td>\n",
       "      <td>Lol other than Kharkiv they arent winning anyw...</td>\n",
       "      <td>Trump is his own worst enemy, all he had to do...</td>\n",
       "      <td>I think he took the documents due to his narci...</td>\n",
       "      <td>7.310586e-01</td>\n",
       "      <td>0.268941</td>\n",
       "      <td>False</td>\n",
       "    </tr>\n",
       "  </tbody>\n",
       "</table>\n",
       "</div>"
      ],
      "text/plain": [
       "                  gen_name                                        parent_left  \\\n",
       "0        random--path;(sw)  Here we go, I know this has been a thing they ...   \n",
       "1  *valid--!valid;(mtl:20)  Not to be confused with Bill or Jack or Pete o...   \n",
       "2       random--valid;(sw)  Youre quibling over an arbitrary title for a g...   \n",
       "3    valid--valid;(mtl:20)  Ukraine has already started winning. It's only...   \n",
       "\n",
       "                                          child_left  \\\n",
       "0  Can you elaborate? How did Elizabeth become qu...   \n",
       "1        ...and all you want to do, is have some fun   \n",
       "2  When all other arguments are exhausted out com...   \n",
       "3  Lol other than Kharkiv they arent winning anyw...   \n",
       "\n",
       "                                        parent_right  \\\n",
       "0  Ever date someone who wasn't quite over their ...   \n",
       "1  All forms of liberalism are, both conservatism...   \n",
       "2  [Europe's electricity prices hit record high a...   \n",
       "3  Trump is his own worst enemy, all he had to do...   \n",
       "\n",
       "                                         child_right     sway_left  \\\n",
       "0                                           Holy fuq  5.109135e-12   \n",
       "1  American conservatism is a crime against human...  9.820138e-01   \n",
       "2  It's like the scene in Trainspotting where the...  1.192029e-01   \n",
       "3  I think he took the documents due to his narci...  7.310586e-01   \n",
       "\n",
       "   sway_right  correct_is_right  \n",
       "0    1.000000              True  \n",
       "1    0.017986             False  \n",
       "2    0.880797              True  \n",
       "3    0.268941             False  "
      ]
     },
     "metadata": {},
     "output_type": "display_data"
    },
    {
     "data": {
      "application/vnd.jupyter.widget-view+json": {
       "model_id": "a8b0a64db85a4870b54649e2ddf5ca1e",
       "version_major": 2,
       "version_minor": 0
      },
      "text/plain": [
       "train val:   0%|          | 0/10000 [00:00<?, ?it/s]"
      ]
     },
     "metadata": {},
     "output_type": "display_data"
    },
    {
     "data": {
      "application/vnd.jupyter.widget-view+json": {
       "model_id": "edf546fee6854c72b9a4c18181cee54e",
       "version_major": 2,
       "version_minor": 0
      },
      "text/plain": [
       "test:   0%|          | 0/10000 [00:00<?, ?it/s]"
      ]
     },
     "metadata": {},
     "output_type": "display_data"
    },
    {
     "name": "stdout",
     "output_type": "stream",
     "text": [
      "train: {'accuracy': 0.6314} loss: 0.620260736912489\n",
      "train val: {'accuracy': 0.6089} loss: 0.5843111550629139\n",
      "test: {'accuracy': 0.5231} loss: 0.685698230278492\n",
      "epoch 41\n"
     ]
    },
    {
     "data": {
      "application/vnd.jupyter.widget-view+json": {
       "model_id": "5a2c3f1182d7480f97b3c2b6f2d6130f",
       "version_major": 2,
       "version_minor": 0
      },
      "text/plain": [
       "train:   0%|          | 0/20000 [00:00<?, ?it/s]"
      ]
     },
     "metadata": {},
     "output_type": "display_data"
    },
    {
     "data": {
      "text/html": [
       "<div>\n",
       "<style scoped>\n",
       "    .dataframe tbody tr th:only-of-type {\n",
       "        vertical-align: middle;\n",
       "    }\n",
       "\n",
       "    .dataframe tbody tr th {\n",
       "        vertical-align: top;\n",
       "    }\n",
       "\n",
       "    .dataframe thead th {\n",
       "        text-align: right;\n",
       "    }\n",
       "</style>\n",
       "<table border=\"1\" class=\"dataframe\">\n",
       "  <thead>\n",
       "    <tr style=\"text-align: right;\">\n",
       "      <th></th>\n",
       "      <th>gen_name</th>\n",
       "      <th>parent_left</th>\n",
       "      <th>child_left</th>\n",
       "      <th>parent_right</th>\n",
       "      <th>child_right</th>\n",
       "      <th>sway_left</th>\n",
       "      <th>sway_right</th>\n",
       "      <th>correct_is_right</th>\n",
       "    </tr>\n",
       "  </thead>\n",
       "  <tbody>\n",
       "    <tr>\n",
       "      <th>0</th>\n",
       "      <td>*valid--random;(sw)</td>\n",
       "      <td>43 EMPTY folders with “CLASSIFIED” banners. 28...</td>\n",
       "      <td>He was just short on Manila folders and these ...</td>\n",
       "      <td>Anger + Cruelty + Ignorance</td>\n",
       "      <td>I'm certain we haven't done enough research to...</td>\n",
       "      <td>0.880797</td>\n",
       "      <td>0.119203</td>\n",
       "      <td>False</td>\n",
       "    </tr>\n",
       "    <tr>\n",
       "      <th>1</th>\n",
       "      <td>*valid--random;(sw)</td>\n",
       "      <td>How would they even know when it's redacted an...</td>\n",
       "      <td>Doesn't matter, all they want is for the redac...</td>\n",
       "      <td>Jesus Christ it's Monty Burns!</td>\n",
       "      <td>Shit don't work anyways.</td>\n",
       "      <td>0.997527</td>\n",
       "      <td>0.002473</td>\n",
       "      <td>False</td>\n",
       "    </tr>\n",
       "    <tr>\n",
       "      <th>2</th>\n",
       "      <td>valid--valid</td>\n",
       "      <td>No prosecutor should seek the death penalty on...</td>\n",
       "      <td>It’s just “Britain” now…</td>\n",
       "      <td>I agree. I hate when people say folks like Mus...</td>\n",
       "      <td>Exactly. But we gotta start preaching this in ...</td>\n",
       "      <td>0.268941</td>\n",
       "      <td>0.731059</td>\n",
       "      <td>True</td>\n",
       "    </tr>\n",
       "    <tr>\n",
       "      <th>3</th>\n",
       "      <td>*valid--valid;(sw)</td>\n",
       "      <td>[Biden Slams ‘MAGA Republicans’ in Fiery Speec...</td>\n",
       "      <td>Nice - really uniting the country when you sla...</td>\n",
       "      <td>What Elon apparently wants is absolute free sp...</td>\n",
       "      <td>His reasoning is even more stupid than that, l...</td>\n",
       "      <td>0.005486</td>\n",
       "      <td>0.994514</td>\n",
       "      <td>True</td>\n",
       "    </tr>\n",
       "  </tbody>\n",
       "</table>\n",
       "</div>"
      ],
      "text/plain": [
       "              gen_name                                        parent_left  \\\n",
       "0  *valid--random;(sw)  43 EMPTY folders with “CLASSIFIED” banners. 28...   \n",
       "1  *valid--random;(sw)  How would they even know when it's redacted an...   \n",
       "2         valid--valid  No prosecutor should seek the death penalty on...   \n",
       "3   *valid--valid;(sw)  [Biden Slams ‘MAGA Republicans’ in Fiery Speec...   \n",
       "\n",
       "                                          child_left  \\\n",
       "0  He was just short on Manila folders and these ...   \n",
       "1  Doesn't matter, all they want is for the redac...   \n",
       "2                           It’s just “Britain” now…   \n",
       "3  Nice - really uniting the country when you sla...   \n",
       "\n",
       "                                        parent_right  \\\n",
       "0                        Anger + Cruelty + Ignorance   \n",
       "1                     Jesus Christ it's Monty Burns!   \n",
       "2  I agree. I hate when people say folks like Mus...   \n",
       "3  What Elon apparently wants is absolute free sp...   \n",
       "\n",
       "                                         child_right  sway_left  sway_right  \\\n",
       "0  I'm certain we haven't done enough research to...   0.880797    0.119203   \n",
       "1                           Shit don't work anyways.   0.997527    0.002473   \n",
       "2  Exactly. But we gotta start preaching this in ...   0.268941    0.731059   \n",
       "3  His reasoning is even more stupid than that, l...   0.005486    0.994514   \n",
       "\n",
       "   correct_is_right  \n",
       "0             False  \n",
       "1             False  \n",
       "2              True  \n",
       "3              True  "
      ]
     },
     "metadata": {},
     "output_type": "display_data"
    },
    {
     "data": {
      "application/vnd.jupyter.widget-view+json": {
       "model_id": "cad14f7e11594d27a8ffb4187f4e2b1f",
       "version_major": 2,
       "version_minor": 0
      },
      "text/plain": [
       "train val:   0%|          | 0/10000 [00:00<?, ?it/s]"
      ]
     },
     "metadata": {},
     "output_type": "display_data"
    },
    {
     "data": {
      "application/vnd.jupyter.widget-view+json": {
       "model_id": "571c5b46d93149d1859ce568bcb8b602",
       "version_major": 2,
       "version_minor": 0
      },
      "text/plain": [
       "test:   0%|          | 0/10000 [00:00<?, ?it/s]"
      ]
     },
     "metadata": {},
     "output_type": "display_data"
    },
    {
     "name": "stdout",
     "output_type": "stream",
     "text": [
      "train: {'accuracy': 0.52885} loss: 0.6734746640861035\n",
      "train val: {'accuracy': 0.4645} loss: 0.6943406355142593\n",
      "test: {'accuracy': 0.5312} loss: 0.6948468266487121\n",
      "epoch 42\n"
     ]
    },
    {
     "data": {
      "application/vnd.jupyter.widget-view+json": {
       "model_id": "acbf19c54dd74363aae15f608f3b8849",
       "version_major": 2,
       "version_minor": 0
      },
      "text/plain": [
       "train:   0%|          | 0/20000 [00:00<?, ?it/s]"
      ]
     },
     "metadata": {},
     "output_type": "display_data"
    },
    {
     "data": {
      "text/html": [
       "<div>\n",
       "<style scoped>\n",
       "    .dataframe tbody tr th:only-of-type {\n",
       "        vertical-align: middle;\n",
       "    }\n",
       "\n",
       "    .dataframe tbody tr th {\n",
       "        vertical-align: top;\n",
       "    }\n",
       "\n",
       "    .dataframe thead th {\n",
       "        text-align: right;\n",
       "    }\n",
       "</style>\n",
       "<table border=\"1\" class=\"dataframe\">\n",
       "  <thead>\n",
       "    <tr style=\"text-align: right;\">\n",
       "      <th></th>\n",
       "      <th>gen_name</th>\n",
       "      <th>parent_left</th>\n",
       "      <th>child_left</th>\n",
       "      <th>parent_right</th>\n",
       "      <th>child_right</th>\n",
       "      <th>sway_left</th>\n",
       "      <th>sway_right</th>\n",
       "      <th>correct_is_right</th>\n",
       "    </tr>\n",
       "  </thead>\n",
       "  <tbody>\n",
       "    <tr>\n",
       "      <th>0</th>\n",
       "      <td>*valid--valid;(sw)</td>\n",
       "      <td>When does she rejoin Team America after giving...</td>\n",
       "      <td>*Fuck Yeah!*</td>\n",
       "      <td>[DeSantis says ‘woke’ 5 times in 19 seconds in...</td>\n",
       "      <td>This clowns entire speech was nothing but a do...</td>\n",
       "      <td>7.310586e-01</td>\n",
       "      <td>0.268941</td>\n",
       "      <td>False</td>\n",
       "    </tr>\n",
       "    <tr>\n",
       "      <th>1</th>\n",
       "      <td>valid--valid</td>\n",
       "      <td>Supported by data. Lots of people are talking ...</td>\n",
       "      <td>I think the goal of society should be to survi...</td>\n",
       "      <td>Older child, we've been aiming for the 5-7 yea...</td>\n",
       "      <td>That's the age my youngest sister was. I'm bey...</td>\n",
       "      <td>9.990889e-01</td>\n",
       "      <td>0.000911</td>\n",
       "      <td>False</td>\n",
       "    </tr>\n",
       "    <tr>\n",
       "      <th>2</th>\n",
       "      <td>random--path;(sw)</td>\n",
       "      <td>I just said that Andrew Tate isn’t an incel by...</td>\n",
       "      <td>&gt; to see that they're changing their nuclear e...</td>\n",
       "      <td>Compassion for businesses but not for people, ...</td>\n",
       "      <td>Look, have some compassion for those who might...</td>\n",
       "      <td>0.000000e+00</td>\n",
       "      <td>1.000000</td>\n",
       "      <td>True</td>\n",
       "    </tr>\n",
       "    <tr>\n",
       "      <th>3</th>\n",
       "      <td>!copy--path;(sw)</td>\n",
       "      <td>Sorry about your loss, I know words from an on...</td>\n",
       "      <td>My grandad died yesterday. Born in 1930. He on...</td>\n",
       "      <td>My grandad died yesterday. Born in 1930. He on...</td>\n",
       "      <td>Sorry about your loss, I know words from an on...</td>\n",
       "      <td>3.059022e-07</td>\n",
       "      <td>1.000000</td>\n",
       "      <td>True</td>\n",
       "    </tr>\n",
       "  </tbody>\n",
       "</table>\n",
       "</div>"
      ],
      "text/plain": [
       "             gen_name                                        parent_left  \\\n",
       "0  *valid--valid;(sw)  When does she rejoin Team America after giving...   \n",
       "1        valid--valid  Supported by data. Lots of people are talking ...   \n",
       "2   random--path;(sw)  I just said that Andrew Tate isn’t an incel by...   \n",
       "3    !copy--path;(sw)  Sorry about your loss, I know words from an on...   \n",
       "\n",
       "                                          child_left  \\\n",
       "0                                       *Fuck Yeah!*   \n",
       "1  I think the goal of society should be to survi...   \n",
       "2  > to see that they're changing their nuclear e...   \n",
       "3  My grandad died yesterday. Born in 1930. He on...   \n",
       "\n",
       "                                        parent_right  \\\n",
       "0  [DeSantis says ‘woke’ 5 times in 19 seconds in...   \n",
       "1  Older child, we've been aiming for the 5-7 yea...   \n",
       "2  Compassion for businesses but not for people, ...   \n",
       "3  My grandad died yesterday. Born in 1930. He on...   \n",
       "\n",
       "                                         child_right     sway_left  \\\n",
       "0  This clowns entire speech was nothing but a do...  7.310586e-01   \n",
       "1  That's the age my youngest sister was. I'm bey...  9.990889e-01   \n",
       "2  Look, have some compassion for those who might...  0.000000e+00   \n",
       "3  Sorry about your loss, I know words from an on...  3.059022e-07   \n",
       "\n",
       "   sway_right  correct_is_right  \n",
       "0    0.268941             False  \n",
       "1    0.000911             False  \n",
       "2    1.000000              True  \n",
       "3    1.000000              True  "
      ]
     },
     "metadata": {},
     "output_type": "display_data"
    },
    {
     "data": {
      "application/vnd.jupyter.widget-view+json": {
       "model_id": "7900d3c6fc1d44d6a7e131dbf025bd1b",
       "version_major": 2,
       "version_minor": 0
      },
      "text/plain": [
       "train val:   0%|          | 0/10000 [00:00<?, ?it/s]"
      ]
     },
     "metadata": {},
     "output_type": "display_data"
    },
    {
     "data": {
      "application/vnd.jupyter.widget-view+json": {
       "model_id": "a25c07328f6046ed8de7c85c1ad14297",
       "version_major": 2,
       "version_minor": 0
      },
      "text/plain": [
       "test:   0%|          | 0/10000 [00:00<?, ?it/s]"
      ]
     },
     "metadata": {},
     "output_type": "display_data"
    },
    {
     "name": "stdout",
     "output_type": "stream",
     "text": [
      "train: {'accuracy': 0.5237} loss: 0.6799414358973503\n",
      "train val: {'accuracy': 0.4299} loss: 0.6970365578174591\n",
      "test: {'accuracy': 0.5227} loss: 0.7018073445081711\n",
      "epoch 43\n"
     ]
    },
    {
     "data": {
      "application/vnd.jupyter.widget-view+json": {
       "model_id": "ad083046cdfc415ca5d7833739be81c4",
       "version_major": 2,
       "version_minor": 0
      },
      "text/plain": [
       "train:   0%|          | 0/20000 [00:00<?, ?it/s]"
      ]
     },
     "metadata": {},
     "output_type": "display_data"
    },
    {
     "data": {
      "text/html": [
       "<div>\n",
       "<style scoped>\n",
       "    .dataframe tbody tr th:only-of-type {\n",
       "        vertical-align: middle;\n",
       "    }\n",
       "\n",
       "    .dataframe tbody tr th {\n",
       "        vertical-align: top;\n",
       "    }\n",
       "\n",
       "    .dataframe thead th {\n",
       "        text-align: right;\n",
       "    }\n",
       "</style>\n",
       "<table border=\"1\" class=\"dataframe\">\n",
       "  <thead>\n",
       "    <tr style=\"text-align: right;\">\n",
       "      <th></th>\n",
       "      <th>gen_name</th>\n",
       "      <th>parent_left</th>\n",
       "      <th>child_left</th>\n",
       "      <th>parent_right</th>\n",
       "      <th>child_right</th>\n",
       "      <th>sway_left</th>\n",
       "      <th>sway_right</th>\n",
       "      <th>correct_is_right</th>\n",
       "    </tr>\n",
       "  </thead>\n",
       "  <tbody>\n",
       "    <tr>\n",
       "      <th>0</th>\n",
       "      <td>*valid--valid;(mtl:20)</td>\n",
       "      <td>The heller decision removed the idea of a mili...</td>\n",
       "      <td>No it didn't. Heller only *solidified* the arg...</td>\n",
       "      <td>As somebody who paid off $20k in student loans...</td>\n",
       "      <td>Completely agree. Went to a CC and then state ...</td>\n",
       "      <td>0.268941</td>\n",
       "      <td>7.310586e-01</td>\n",
       "      <td>True</td>\n",
       "    </tr>\n",
       "    <tr>\n",
       "      <th>1</th>\n",
       "      <td>*path--random;(mtl:20)</td>\n",
       "      <td>The first Alaskan Native ever elected to Congr...</td>\n",
       "      <td>A Democrat beat a former Republican Vice Presi...</td>\n",
       "      <td>Which King Charles is in power rn?</td>\n",
       "      <td>If by smart, you mean Black, then you’re right...</td>\n",
       "      <td>0.952574</td>\n",
       "      <td>4.742587e-02</td>\n",
       "      <td>False</td>\n",
       "    </tr>\n",
       "    <tr>\n",
       "      <th>2</th>\n",
       "      <td>*valid--valid;(mtl:20)</td>\n",
       "      <td>I was reading some comments on YouTube because...</td>\n",
       "      <td>Everything they say is projection. Biden is ca...</td>\n",
       "      <td>Id hope not either, but clearly not where the ...</td>\n",
       "      <td>I'm exactly expecting what I just said</td>\n",
       "      <td>0.999877</td>\n",
       "      <td>1.233946e-04</td>\n",
       "      <td>False</td>\n",
       "    </tr>\n",
       "    <tr>\n",
       "      <th>3</th>\n",
       "      <td>*valid--!copy;(sw)</td>\n",
       "      <td>They took Balakliya</td>\n",
       "      <td>From my understanding, the Ukrainian armed for...</td>\n",
       "      <td>From my understanding, the Ukrainian armed for...</td>\n",
       "      <td>They took Balakliya</td>\n",
       "      <td>1.000000</td>\n",
       "      <td>1.388794e-11</td>\n",
       "      <td>False</td>\n",
       "    </tr>\n",
       "  </tbody>\n",
       "</table>\n",
       "</div>"
      ],
      "text/plain": [
       "                 gen_name                                        parent_left  \\\n",
       "0  *valid--valid;(mtl:20)  The heller decision removed the idea of a mili...   \n",
       "1  *path--random;(mtl:20)  The first Alaskan Native ever elected to Congr...   \n",
       "2  *valid--valid;(mtl:20)  I was reading some comments on YouTube because...   \n",
       "3      *valid--!copy;(sw)                                They took Balakliya   \n",
       "\n",
       "                                          child_left  \\\n",
       "0  No it didn't. Heller only *solidified* the arg...   \n",
       "1  A Democrat beat a former Republican Vice Presi...   \n",
       "2  Everything they say is projection. Biden is ca...   \n",
       "3  From my understanding, the Ukrainian armed for...   \n",
       "\n",
       "                                        parent_right  \\\n",
       "0  As somebody who paid off $20k in student loans...   \n",
       "1                 Which King Charles is in power rn?   \n",
       "2  Id hope not either, but clearly not where the ...   \n",
       "3  From my understanding, the Ukrainian armed for...   \n",
       "\n",
       "                                         child_right  sway_left    sway_right  \\\n",
       "0  Completely agree. Went to a CC and then state ...   0.268941  7.310586e-01   \n",
       "1  If by smart, you mean Black, then you’re right...   0.952574  4.742587e-02   \n",
       "2             I'm exactly expecting what I just said   0.999877  1.233946e-04   \n",
       "3                                They took Balakliya   1.000000  1.388794e-11   \n",
       "\n",
       "   correct_is_right  \n",
       "0              True  \n",
       "1             False  \n",
       "2             False  \n",
       "3             False  "
      ]
     },
     "metadata": {},
     "output_type": "display_data"
    },
    {
     "data": {
      "application/vnd.jupyter.widget-view+json": {
       "model_id": "68c3bca329694a9db10b52812ce4f582",
       "version_major": 2,
       "version_minor": 0
      },
      "text/plain": [
       "train val:   0%|          | 0/10000 [00:00<?, ?it/s]"
      ]
     },
     "metadata": {},
     "output_type": "display_data"
    },
    {
     "data": {
      "application/vnd.jupyter.widget-view+json": {
       "model_id": "3431168b3a3b4a68b464e6ecfeda8225",
       "version_major": 2,
       "version_minor": 0
      },
      "text/plain": [
       "test:   0%|          | 0/10000 [00:00<?, ?it/s]"
      ]
     },
     "metadata": {},
     "output_type": "display_data"
    },
    {
     "name": "stdout",
     "output_type": "stream",
     "text": [
      "train: {'accuracy': 0.5184} loss: 0.6794775669038295\n",
      "train val: {'accuracy': 0.5065} loss: 0.6928190605640412\n",
      "test: {'accuracy': 0.5234} loss: 0.6935805021524429\n",
      "epoch 44\n"
     ]
    },
    {
     "data": {
      "application/vnd.jupyter.widget-view+json": {
       "model_id": "d135f260d463499ab60d4e03cab895b9",
       "version_major": 2,
       "version_minor": 0
      },
      "text/plain": [
       "train:   0%|          | 0/20000 [00:00<?, ?it/s]"
      ]
     },
     "metadata": {},
     "output_type": "display_data"
    },
    {
     "data": {
      "text/html": [
       "<div>\n",
       "<style scoped>\n",
       "    .dataframe tbody tr th:only-of-type {\n",
       "        vertical-align: middle;\n",
       "    }\n",
       "\n",
       "    .dataframe tbody tr th {\n",
       "        vertical-align: top;\n",
       "    }\n",
       "\n",
       "    .dataframe thead th {\n",
       "        text-align: right;\n",
       "    }\n",
       "</style>\n",
       "<table border=\"1\" class=\"dataframe\">\n",
       "  <thead>\n",
       "    <tr style=\"text-align: right;\">\n",
       "      <th></th>\n",
       "      <th>gen_name</th>\n",
       "      <th>parent_left</th>\n",
       "      <th>child_left</th>\n",
       "      <th>parent_right</th>\n",
       "      <th>child_right</th>\n",
       "      <th>sway_left</th>\n",
       "      <th>sway_right</th>\n",
       "      <th>correct_is_right</th>\n",
       "    </tr>\n",
       "  </thead>\n",
       "  <tbody>\n",
       "    <tr>\n",
       "      <th>0</th>\n",
       "      <td>*valid--!copy;(sw)</td>\n",
       "      <td>There's no switch. They simply have the memory...</td>\n",
       "      <td>When GWB shit the bed they did zero introspect...</td>\n",
       "      <td>When GWB shit the bed they did zero introspect...</td>\n",
       "      <td>There's no switch. They simply have the memory...</td>\n",
       "      <td>8.807971e-01</td>\n",
       "      <td>0.119203</td>\n",
       "      <td>False</td>\n",
       "    </tr>\n",
       "    <tr>\n",
       "      <th>1</th>\n",
       "      <td>random--valid;(sw)</td>\n",
       "      <td>The American taliban is getting out of control...</td>\n",
       "      <td>I just now realized what that extra beeping my...</td>\n",
       "      <td>They certainly aren't for children. Police on ...</td>\n",
       "      <td>He is a child.</td>\n",
       "      <td>4.742587e-02</td>\n",
       "      <td>0.952574</td>\n",
       "      <td>True</td>\n",
       "    </tr>\n",
       "    <tr>\n",
       "      <th>2</th>\n",
       "      <td>valid--valid;(mtl:20)</td>\n",
       "      <td>[John Fetterman says he will debate Dr. Oz](ht...</td>\n",
       "      <td>Is Dr Oz going to push supplements and pseudos...</td>\n",
       "      <td>I mean this is the first midterm election of h...</td>\n",
       "      <td>Politically Biden has been a dream compared to...</td>\n",
       "      <td>0.000000e+00</td>\n",
       "      <td>1.000000</td>\n",
       "      <td>True</td>\n",
       "    </tr>\n",
       "    <tr>\n",
       "      <th>3</th>\n",
       "      <td>!copy--path;(sw)</td>\n",
       "      <td>[Russia Forces in Syria Say Israeli Jets Attac...</td>\n",
       "      <td>t/worldnews</td>\n",
       "      <td>t/worldnews</td>\n",
       "      <td>[Russia Forces in Syria Say Israeli Jets Attac...</td>\n",
       "      <td>3.059022e-07</td>\n",
       "      <td>1.000000</td>\n",
       "      <td>True</td>\n",
       "    </tr>\n",
       "  </tbody>\n",
       "</table>\n",
       "</div>"
      ],
      "text/plain": [
       "                gen_name                                        parent_left  \\\n",
       "0     *valid--!copy;(sw)  There's no switch. They simply have the memory...   \n",
       "1     random--valid;(sw)  The American taliban is getting out of control...   \n",
       "2  valid--valid;(mtl:20)  [John Fetterman says he will debate Dr. Oz](ht...   \n",
       "3       !copy--path;(sw)  [Russia Forces in Syria Say Israeli Jets Attac...   \n",
       "\n",
       "                                          child_left  \\\n",
       "0  When GWB shit the bed they did zero introspect...   \n",
       "1  I just now realized what that extra beeping my...   \n",
       "2  Is Dr Oz going to push supplements and pseudos...   \n",
       "3                                        t/worldnews   \n",
       "\n",
       "                                        parent_right  \\\n",
       "0  When GWB shit the bed they did zero introspect...   \n",
       "1  They certainly aren't for children. Police on ...   \n",
       "2  I mean this is the first midterm election of h...   \n",
       "3                                        t/worldnews   \n",
       "\n",
       "                                         child_right     sway_left  \\\n",
       "0  There's no switch. They simply have the memory...  8.807971e-01   \n",
       "1                                     He is a child.  4.742587e-02   \n",
       "2  Politically Biden has been a dream compared to...  0.000000e+00   \n",
       "3  [Russia Forces in Syria Say Israeli Jets Attac...  3.059022e-07   \n",
       "\n",
       "   sway_right  correct_is_right  \n",
       "0    0.119203             False  \n",
       "1    0.952574              True  \n",
       "2    1.000000              True  \n",
       "3    1.000000              True  "
      ]
     },
     "metadata": {},
     "output_type": "display_data"
    },
    {
     "data": {
      "application/vnd.jupyter.widget-view+json": {
       "model_id": "fdb3cb3b481b4010b1a11e2ad1892747",
       "version_major": 2,
       "version_minor": 0
      },
      "text/plain": [
       "train val:   0%|          | 0/10000 [00:00<?, ?it/s]"
      ]
     },
     "metadata": {},
     "output_type": "display_data"
    },
    {
     "data": {
      "application/vnd.jupyter.widget-view+json": {
       "model_id": "c3e818f287d64bb8a231b7cc8fc76fe4",
       "version_major": 2,
       "version_minor": 0
      },
      "text/plain": [
       "test:   0%|          | 0/10000 [00:00<?, ?it/s]"
      ]
     },
     "metadata": {},
     "output_type": "display_data"
    },
    {
     "name": "stdout",
     "output_type": "stream",
     "text": [
      "train: {'accuracy': 0.51845} loss: 0.6753603748857975\n",
      "train val: {'accuracy': 0.5159} loss: 0.6935200272321701\n",
      "test: {'accuracy': 0.4976} loss: 0.6948377730846405\n",
      "epoch 45\n"
     ]
    },
    {
     "data": {
      "application/vnd.jupyter.widget-view+json": {
       "model_id": "df7aedaf584a4117bf1bbb54dfd70605",
       "version_major": 2,
       "version_minor": 0
      },
      "text/plain": [
       "train:   0%|          | 0/20000 [00:00<?, ?it/s]"
      ]
     },
     "metadata": {},
     "output_type": "display_data"
    },
    {
     "data": {
      "text/html": [
       "<div>\n",
       "<style scoped>\n",
       "    .dataframe tbody tr th:only-of-type {\n",
       "        vertical-align: middle;\n",
       "    }\n",
       "\n",
       "    .dataframe tbody tr th {\n",
       "        vertical-align: top;\n",
       "    }\n",
       "\n",
       "    .dataframe thead th {\n",
       "        text-align: right;\n",
       "    }\n",
       "</style>\n",
       "<table border=\"1\" class=\"dataframe\">\n",
       "  <thead>\n",
       "    <tr style=\"text-align: right;\">\n",
       "      <th></th>\n",
       "      <th>gen_name</th>\n",
       "      <th>parent_left</th>\n",
       "      <th>child_left</th>\n",
       "      <th>parent_right</th>\n",
       "      <th>child_right</th>\n",
       "      <th>sway_left</th>\n",
       "      <th>sway_right</th>\n",
       "      <th>correct_is_right</th>\n",
       "    </tr>\n",
       "  </thead>\n",
       "  <tbody>\n",
       "    <tr>\n",
       "      <th>0</th>\n",
       "      <td>*valid--valid;(sw)</td>\n",
       "      <td>[Judge unseals the list of items FBI seized fr...</td>\n",
       "      <td>and this explains Trumps meltdown right now...</td>\n",
       "      <td>This ain’t no Pimp….I knew REAL pimps. Stable ...</td>\n",
       "      <td>Thank you for the cringe that is this comment.</td>\n",
       "      <td>1.000000e+00</td>\n",
       "      <td>0.000000</td>\n",
       "      <td>False</td>\n",
       "    </tr>\n",
       "    <tr>\n",
       "      <th>1</th>\n",
       "      <td>*valid--valid;(mtl:20)</td>\n",
       "      <td>He was killed in his own bed by an armed intru...</td>\n",
       "      <td>You mean that thing that 2nd amendment advocat...</td>\n",
       "      <td>It's an unmanned launch, I'm sure there will b...</td>\n",
       "      <td>It’s a perfect time for Elon Musk to travel to...</td>\n",
       "      <td>1.192029e-01</td>\n",
       "      <td>0.880797</td>\n",
       "      <td>True</td>\n",
       "    </tr>\n",
       "    <tr>\n",
       "      <th>2</th>\n",
       "      <td>!copy--path;(mtl:20)</td>\n",
       "      <td>r/BarbaraWalters4Scale</td>\n",
       "      <td>She was born before Martin Luther King Jr. and...</td>\n",
       "      <td>She was born before Martin Luther King Jr. and...</td>\n",
       "      <td>r/BarbaraWalters4Scale</td>\n",
       "      <td>9.359180e-14</td>\n",
       "      <td>1.000000</td>\n",
       "      <td>True</td>\n",
       "    </tr>\n",
       "    <tr>\n",
       "      <th>3</th>\n",
       "      <td>valid--valid</td>\n",
       "      <td>That's true and the US is no better in that re...</td>\n",
       "      <td>Lmao no. You think US is doing this out of cha...</td>\n",
       "      <td>Why is it conservative news?</td>\n",
       "      <td>Another good point lol</td>\n",
       "      <td>9.525741e-01</td>\n",
       "      <td>0.047426</td>\n",
       "      <td>False</td>\n",
       "    </tr>\n",
       "  </tbody>\n",
       "</table>\n",
       "</div>"
      ],
      "text/plain": [
       "                 gen_name                                        parent_left  \\\n",
       "0      *valid--valid;(sw)  [Judge unseals the list of items FBI seized fr...   \n",
       "1  *valid--valid;(mtl:20)  He was killed in his own bed by an armed intru...   \n",
       "2    !copy--path;(mtl:20)                             r/BarbaraWalters4Scale   \n",
       "3            valid--valid  That's true and the US is no better in that re...   \n",
       "\n",
       "                                          child_left  \\\n",
       "0     and this explains Trumps meltdown right now...   \n",
       "1  You mean that thing that 2nd amendment advocat...   \n",
       "2  She was born before Martin Luther King Jr. and...   \n",
       "3  Lmao no. You think US is doing this out of cha...   \n",
       "\n",
       "                                        parent_right  \\\n",
       "0  This ain’t no Pimp….I knew REAL pimps. Stable ...   \n",
       "1  It's an unmanned launch, I'm sure there will b...   \n",
       "2  She was born before Martin Luther King Jr. and...   \n",
       "3                       Why is it conservative news?   \n",
       "\n",
       "                                         child_right     sway_left  \\\n",
       "0     Thank you for the cringe that is this comment.  1.000000e+00   \n",
       "1  It’s a perfect time for Elon Musk to travel to...  1.192029e-01   \n",
       "2                             r/BarbaraWalters4Scale  9.359180e-14   \n",
       "3                             Another good point lol  9.525741e-01   \n",
       "\n",
       "   sway_right  correct_is_right  \n",
       "0    0.000000             False  \n",
       "1    0.880797              True  \n",
       "2    1.000000              True  \n",
       "3    0.047426             False  "
      ]
     },
     "metadata": {},
     "output_type": "display_data"
    },
    {
     "data": {
      "application/vnd.jupyter.widget-view+json": {
       "model_id": "31c79d3c885e4b42895edf149bc1f7b7",
       "version_major": 2,
       "version_minor": 0
      },
      "text/plain": [
       "train val:   0%|          | 0/10000 [00:00<?, ?it/s]"
      ]
     },
     "metadata": {},
     "output_type": "display_data"
    },
    {
     "data": {
      "application/vnd.jupyter.widget-view+json": {
       "model_id": "04fe98a21d0a424b9c449d87b1af0d5d",
       "version_major": 2,
       "version_minor": 0
      },
      "text/plain": [
       "test:   0%|          | 0/10000 [00:00<?, ?it/s]"
      ]
     },
     "metadata": {},
     "output_type": "display_data"
    },
    {
     "name": "stdout",
     "output_type": "stream",
     "text": [
      "train: {'accuracy': 0.51245} loss: 0.674269587546587\n",
      "train val: {'accuracy': 0.5257} loss: 0.6918472621917725\n",
      "test: {'accuracy': 0.4942} loss: 0.6984338998794556\n",
      "epoch 46\n"
     ]
    },
    {
     "data": {
      "application/vnd.jupyter.widget-view+json": {
       "model_id": "6dfc390b003b410989896063711ed4f1",
       "version_major": 2,
       "version_minor": 0
      },
      "text/plain": [
       "train:   0%|          | 0/20000 [00:00<?, ?it/s]"
      ]
     },
     "metadata": {},
     "output_type": "display_data"
    },
    {
     "data": {
      "text/html": [
       "<div>\n",
       "<style scoped>\n",
       "    .dataframe tbody tr th:only-of-type {\n",
       "        vertical-align: middle;\n",
       "    }\n",
       "\n",
       "    .dataframe tbody tr th {\n",
       "        vertical-align: top;\n",
       "    }\n",
       "\n",
       "    .dataframe thead th {\n",
       "        text-align: right;\n",
       "    }\n",
       "</style>\n",
       "<table border=\"1\" class=\"dataframe\">\n",
       "  <thead>\n",
       "    <tr style=\"text-align: right;\">\n",
       "      <th></th>\n",
       "      <th>gen_name</th>\n",
       "      <th>parent_left</th>\n",
       "      <th>child_left</th>\n",
       "      <th>parent_right</th>\n",
       "      <th>child_right</th>\n",
       "      <th>sway_left</th>\n",
       "      <th>sway_right</th>\n",
       "      <th>correct_is_right</th>\n",
       "    </tr>\n",
       "  </thead>\n",
       "  <tbody>\n",
       "    <tr>\n",
       "      <th>0</th>\n",
       "      <td>*valid--valid;(sw)</td>\n",
       "      <td>[deleted]</td>\n",
       "      <td>No thanks man I’m not into that</td>\n",
       "      <td>['Cancel It All,' Say Progressives as Biden Fa...</td>\n",
       "      <td>Student loans have been paused for over 2 year...</td>\n",
       "      <td>0.731059</td>\n",
       "      <td>0.268941</td>\n",
       "      <td>False</td>\n",
       "    </tr>\n",
       "    <tr>\n",
       "      <th>1</th>\n",
       "      <td>valid--valid</td>\n",
       "      <td>It is because it's entirely supposition, alt u...</td>\n",
       "      <td>It’s really not, but OK. Sure.</td>\n",
       "      <td>I have hit a paywall</td>\n",
       "      <td>If you’re on iPhone or Mac, switching to reade...</td>\n",
       "      <td>0.119203</td>\n",
       "      <td>0.880797</td>\n",
       "      <td>True</td>\n",
       "    </tr>\n",
       "    <tr>\n",
       "      <th>2</th>\n",
       "      <td>*valid--valid;(sw)</td>\n",
       "      <td>[Almost half say Trump should face charges in ...</td>\n",
       "      <td>“Almost half”? For fuck’s sake.</td>\n",
       "      <td>This is truly the end of an era. She saw the e...</td>\n",
       "      <td>Now Charles could very well end up seeing the ...</td>\n",
       "      <td>0.000000</td>\n",
       "      <td>1.000000</td>\n",
       "      <td>True</td>\n",
       "    </tr>\n",
       "    <tr>\n",
       "      <th>3</th>\n",
       "      <td>*valid--!copy;(sw)</td>\n",
       "      <td>[Russia launches murder investigation after ca...</td>\n",
       "      <td>Here comes WW III.</td>\n",
       "      <td>Here comes WW III.</td>\n",
       "      <td>[Russia launches murder investigation after ca...</td>\n",
       "      <td>0.622459</td>\n",
       "      <td>0.377541</td>\n",
       "      <td>False</td>\n",
       "    </tr>\n",
       "  </tbody>\n",
       "</table>\n",
       "</div>"
      ],
      "text/plain": [
       "             gen_name                                        parent_left  \\\n",
       "0  *valid--valid;(sw)                                          [deleted]   \n",
       "1        valid--valid  It is because it's entirely supposition, alt u...   \n",
       "2  *valid--valid;(sw)  [Almost half say Trump should face charges in ...   \n",
       "3  *valid--!copy;(sw)  [Russia launches murder investigation after ca...   \n",
       "\n",
       "                        child_left  \\\n",
       "0  No thanks man I’m not into that   \n",
       "1   It’s really not, but OK. Sure.   \n",
       "2  “Almost half”? For fuck’s sake.   \n",
       "3               Here comes WW III.   \n",
       "\n",
       "                                        parent_right  \\\n",
       "0  ['Cancel It All,' Say Progressives as Biden Fa...   \n",
       "1                               I have hit a paywall   \n",
       "2  This is truly the end of an era. She saw the e...   \n",
       "3                                 Here comes WW III.   \n",
       "\n",
       "                                         child_right  sway_left  sway_right  \\\n",
       "0  Student loans have been paused for over 2 year...   0.731059    0.268941   \n",
       "1  If you’re on iPhone or Mac, switching to reade...   0.119203    0.880797   \n",
       "2  Now Charles could very well end up seeing the ...   0.000000    1.000000   \n",
       "3  [Russia launches murder investigation after ca...   0.622459    0.377541   \n",
       "\n",
       "   correct_is_right  \n",
       "0             False  \n",
       "1              True  \n",
       "2              True  \n",
       "3             False  "
      ]
     },
     "metadata": {},
     "output_type": "display_data"
    },
    {
     "data": {
      "application/vnd.jupyter.widget-view+json": {
       "model_id": "eb39abd4a82748f0885cd0e7ba0c435a",
       "version_major": 2,
       "version_minor": 0
      },
      "text/plain": [
       "train val:   0%|          | 0/10000 [00:00<?, ?it/s]"
      ]
     },
     "metadata": {},
     "output_type": "display_data"
    },
    {
     "data": {
      "application/vnd.jupyter.widget-view+json": {
       "model_id": "bc8d176210fb474985eed93108c4c86d",
       "version_major": 2,
       "version_minor": 0
      },
      "text/plain": [
       "test:   0%|          | 0/10000 [00:00<?, ?it/s]"
      ]
     },
     "metadata": {},
     "output_type": "display_data"
    },
    {
     "name": "stdout",
     "output_type": "stream",
     "text": [
      "train: {'accuracy': 0.5253} loss: 0.6752986210823059\n",
      "train val: {'accuracy': 0.575} loss: 0.6911173233032226\n",
      "test: {'accuracy': 0.4787} loss: 0.6960575074791908\n",
      "epoch 47\n"
     ]
    },
    {
     "data": {
      "application/vnd.jupyter.widget-view+json": {
       "model_id": "a7c753bfed314d8d9bd330f35634a2b4",
       "version_major": 2,
       "version_minor": 0
      },
      "text/plain": [
       "train:   0%|          | 0/20000 [00:00<?, ?it/s]"
      ]
     },
     "metadata": {},
     "output_type": "display_data"
    },
    {
     "data": {
      "text/html": [
       "<div>\n",
       "<style scoped>\n",
       "    .dataframe tbody tr th:only-of-type {\n",
       "        vertical-align: middle;\n",
       "    }\n",
       "\n",
       "    .dataframe tbody tr th {\n",
       "        vertical-align: top;\n",
       "    }\n",
       "\n",
       "    .dataframe thead th {\n",
       "        text-align: right;\n",
       "    }\n",
       "</style>\n",
       "<table border=\"1\" class=\"dataframe\">\n",
       "  <thead>\n",
       "    <tr style=\"text-align: right;\">\n",
       "      <th></th>\n",
       "      <th>gen_name</th>\n",
       "      <th>parent_left</th>\n",
       "      <th>child_left</th>\n",
       "      <th>parent_right</th>\n",
       "      <th>child_right</th>\n",
       "      <th>sway_left</th>\n",
       "      <th>sway_right</th>\n",
       "      <th>correct_is_right</th>\n",
       "    </tr>\n",
       "  </thead>\n",
       "  <tbody>\n",
       "    <tr>\n",
       "      <th>0</th>\n",
       "      <td>!valid--valid;(sw)</td>\n",
       "      <td>Moved from the box labeled \"FAX TO MBS\" to the...</td>\n",
       "      <td>I’m sure this is nothing &gt; While much of the f...</td>\n",
       "      <td>At least you would have some video proof in th...</td>\n",
       "      <td>Stream it for the world. And set up a computer...</td>\n",
       "      <td>0.002473</td>\n",
       "      <td>9.975274e-01</td>\n",
       "      <td>True</td>\n",
       "    </tr>\n",
       "    <tr>\n",
       "      <th>1</th>\n",
       "      <td>*path--!copy;(mtl:20)</td>\n",
       "      <td>“This doesn’t benefit me, so it’s not worth my...</td>\n",
       "      <td>There are gonna be a lot of people who dislike...</td>\n",
       "      <td>There are gonna be a lot of people who dislike...</td>\n",
       "      <td>“This doesn’t benefit me, so it’s not worth my...</td>\n",
       "      <td>0.524979</td>\n",
       "      <td>4.750208e-01</td>\n",
       "      <td>False</td>\n",
       "    </tr>\n",
       "    <tr>\n",
       "      <th>2</th>\n",
       "      <td>*valid--!valid;(sw)</td>\n",
       "      <td>Isn't that a felony offense?</td>\n",
       "      <td>I’m being downvoted for that statement, so in ...</td>\n",
       "      <td>Popeye is pissed</td>\n",
       "      <td>[$135M in cocaine and meth shipped from Canada...</td>\n",
       "      <td>1.000000</td>\n",
       "      <td>9.357623e-14</td>\n",
       "      <td>False</td>\n",
       "    </tr>\n",
       "    <tr>\n",
       "      <th>3</th>\n",
       "      <td>*valid--valid;(mtl:20)</td>\n",
       "      <td>And yet try as I might I can't figure out how ...</td>\n",
       "      <td>Have you tried completely misrepresenting your...</td>\n",
       "      <td>I’m not seeing how making a payment that overa...</td>\n",
       "      <td>If the balance does not grow at any moment in ...</td>\n",
       "      <td>0.731059</td>\n",
       "      <td>2.689414e-01</td>\n",
       "      <td>False</td>\n",
       "    </tr>\n",
       "  </tbody>\n",
       "</table>\n",
       "</div>"
      ],
      "text/plain": [
       "                 gen_name                                        parent_left  \\\n",
       "0      !valid--valid;(sw)  Moved from the box labeled \"FAX TO MBS\" to the...   \n",
       "1   *path--!copy;(mtl:20)  “This doesn’t benefit me, so it’s not worth my...   \n",
       "2     *valid--!valid;(sw)                       Isn't that a felony offense?   \n",
       "3  *valid--valid;(mtl:20)  And yet try as I might I can't figure out how ...   \n",
       "\n",
       "                                          child_left  \\\n",
       "0  I’m sure this is nothing > While much of the f...   \n",
       "1  There are gonna be a lot of people who dislike...   \n",
       "2  I’m being downvoted for that statement, so in ...   \n",
       "3  Have you tried completely misrepresenting your...   \n",
       "\n",
       "                                        parent_right  \\\n",
       "0  At least you would have some video proof in th...   \n",
       "1  There are gonna be a lot of people who dislike...   \n",
       "2                                   Popeye is pissed   \n",
       "3  I’m not seeing how making a payment that overa...   \n",
       "\n",
       "                                         child_right  sway_left    sway_right  \\\n",
       "0  Stream it for the world. And set up a computer...   0.002473  9.975274e-01   \n",
       "1  “This doesn’t benefit me, so it’s not worth my...   0.524979  4.750208e-01   \n",
       "2  [$135M in cocaine and meth shipped from Canada...   1.000000  9.357623e-14   \n",
       "3  If the balance does not grow at any moment in ...   0.731059  2.689414e-01   \n",
       "\n",
       "   correct_is_right  \n",
       "0              True  \n",
       "1             False  \n",
       "2             False  \n",
       "3             False  "
      ]
     },
     "metadata": {},
     "output_type": "display_data"
    },
    {
     "data": {
      "application/vnd.jupyter.widget-view+json": {
       "model_id": "39209b02709444b886033f285e4f981a",
       "version_major": 2,
       "version_minor": 0
      },
      "text/plain": [
       "train val:   0%|          | 0/10000 [00:00<?, ?it/s]"
      ]
     },
     "metadata": {},
     "output_type": "display_data"
    },
    {
     "data": {
      "application/vnd.jupyter.widget-view+json": {
       "model_id": "205a1f0335b3427bb6ed7b9292f8daf9",
       "version_major": 2,
       "version_minor": 0
      },
      "text/plain": [
       "test:   0%|          | 0/10000 [00:00<?, ?it/s]"
      ]
     },
     "metadata": {},
     "output_type": "display_data"
    },
    {
     "name": "stdout",
     "output_type": "stream",
     "text": [
      "train: {'accuracy': 0.50175} loss: 0.6821016461610794\n",
      "train val: {'accuracy': 0.3861} loss: 0.6931487139463425\n",
      "test: {'accuracy': 0.5032} loss: 0.6931471145629883\n",
      "epoch 48\n"
     ]
    },
    {
     "data": {
      "application/vnd.jupyter.widget-view+json": {
       "model_id": "bbe57cded8db4cd0a863bd78cf97d0d3",
       "version_major": 2,
       "version_minor": 0
      },
      "text/plain": [
       "train:   0%|          | 0/20000 [00:00<?, ?it/s]"
      ]
     },
     "metadata": {},
     "output_type": "display_data"
    },
    {
     "data": {
      "text/html": [
       "<div>\n",
       "<style scoped>\n",
       "    .dataframe tbody tr th:only-of-type {\n",
       "        vertical-align: middle;\n",
       "    }\n",
       "\n",
       "    .dataframe tbody tr th {\n",
       "        vertical-align: top;\n",
       "    }\n",
       "\n",
       "    .dataframe thead th {\n",
       "        text-align: right;\n",
       "    }\n",
       "</style>\n",
       "<table border=\"1\" class=\"dataframe\">\n",
       "  <thead>\n",
       "    <tr style=\"text-align: right;\">\n",
       "      <th></th>\n",
       "      <th>gen_name</th>\n",
       "      <th>parent_left</th>\n",
       "      <th>child_left</th>\n",
       "      <th>parent_right</th>\n",
       "      <th>child_right</th>\n",
       "      <th>sway_left</th>\n",
       "      <th>sway_right</th>\n",
       "      <th>correct_is_right</th>\n",
       "    </tr>\n",
       "  </thead>\n",
       "  <tbody>\n",
       "    <tr>\n",
       "      <th>0</th>\n",
       "      <td>valid--valid</td>\n",
       "      <td>so is all reality you can entertain any realit...</td>\n",
       "      <td>I have no idea what that means in relation to ...</td>\n",
       "      <td>Welcome to Prison+, sir. May I take your bags?</td>\n",
       "      <td>And lobster like in Goodfellas.</td>\n",
       "      <td>0.731059</td>\n",
       "      <td>0.268941</td>\n",
       "      <td>False</td>\n",
       "    </tr>\n",
       "    <tr>\n",
       "      <th>1</th>\n",
       "      <td>valid--valid</td>\n",
       "      <td>I’m Alex Holder, the twice-subpoenaed document...</td>\n",
       "      <td>Does Donald Trump have a smell?</td>\n",
       "      <td>[Black couple sues after they say home valuati...</td>\n",
       "      <td>gross another way people can be systematically...</td>\n",
       "      <td>0.119203</td>\n",
       "      <td>0.880797</td>\n",
       "      <td>True</td>\n",
       "    </tr>\n",
       "    <tr>\n",
       "      <th>2</th>\n",
       "      <td>valid--valid</td>\n",
       "      <td>\"Stop invading us and give us our territory ba...</td>\n",
       "      <td>This is what we get to look forward to from th...</td>\n",
       "      <td>[North Carolina says it will tax Biden's stude...</td>\n",
       "      <td>Well, under the IRS rules anything 'gifted' is...</td>\n",
       "      <td>0.268941</td>\n",
       "      <td>0.731059</td>\n",
       "      <td>True</td>\n",
       "    </tr>\n",
       "    <tr>\n",
       "      <th>3</th>\n",
       "      <td>!copy--path;(mtl:20)</td>\n",
       "      <td>If you show off these $8000 a month I'm pretty...</td>\n",
       "      <td>Jesus, that's a higher monthly subscription ju...</td>\n",
       "      <td>Jesus, that's a higher monthly subscription ju...</td>\n",
       "      <td>If you show off these $8000 a month I'm pretty...</td>\n",
       "      <td>0.119203</td>\n",
       "      <td>0.880797</td>\n",
       "      <td>True</td>\n",
       "    </tr>\n",
       "  </tbody>\n",
       "</table>\n",
       "</div>"
      ],
      "text/plain": [
       "               gen_name                                        parent_left  \\\n",
       "0          valid--valid  so is all reality you can entertain any realit...   \n",
       "1          valid--valid  I’m Alex Holder, the twice-subpoenaed document...   \n",
       "2          valid--valid  \"Stop invading us and give us our territory ba...   \n",
       "3  !copy--path;(mtl:20)  If you show off these $8000 a month I'm pretty...   \n",
       "\n",
       "                                          child_left  \\\n",
       "0  I have no idea what that means in relation to ...   \n",
       "1                    Does Donald Trump have a smell?   \n",
       "2  This is what we get to look forward to from th...   \n",
       "3  Jesus, that's a higher monthly subscription ju...   \n",
       "\n",
       "                                        parent_right  \\\n",
       "0     Welcome to Prison+, sir. May I take your bags?   \n",
       "1  [Black couple sues after they say home valuati...   \n",
       "2  [North Carolina says it will tax Biden's stude...   \n",
       "3  Jesus, that's a higher monthly subscription ju...   \n",
       "\n",
       "                                         child_right  sway_left  sway_right  \\\n",
       "0                    And lobster like in Goodfellas.   0.731059    0.268941   \n",
       "1  gross another way people can be systematically...   0.119203    0.880797   \n",
       "2  Well, under the IRS rules anything 'gifted' is...   0.268941    0.731059   \n",
       "3  If you show off these $8000 a month I'm pretty...   0.119203    0.880797   \n",
       "\n",
       "   correct_is_right  \n",
       "0             False  \n",
       "1              True  \n",
       "2              True  \n",
       "3              True  "
      ]
     },
     "metadata": {},
     "output_type": "display_data"
    },
    {
     "data": {
      "application/vnd.jupyter.widget-view+json": {
       "model_id": "00b215c1e294467e80166ebae9993cf1",
       "version_major": 2,
       "version_minor": 0
      },
      "text/plain": [
       "train val:   0%|          | 0/10000 [00:00<?, ?it/s]"
      ]
     },
     "metadata": {},
     "output_type": "display_data"
    },
    {
     "data": {
      "application/vnd.jupyter.widget-view+json": {
       "model_id": "ba8bbaf6e66543d8955744146b0f9393",
       "version_major": 2,
       "version_minor": 0
      },
      "text/plain": [
       "test:   0%|          | 0/10000 [00:00<?, ?it/s]"
      ]
     },
     "metadata": {},
     "output_type": "display_data"
    },
    {
     "name": "stdout",
     "output_type": "stream",
     "text": [
      "train: {'accuracy': 0.52935} loss: 0.6714078337907791\n",
      "train val: {'accuracy': 0.5607} loss: 0.6884347536563873\n",
      "test: {'accuracy': 0.5189} loss: 0.6983316685795784\n",
      "epoch 49\n"
     ]
    },
    {
     "data": {
      "application/vnd.jupyter.widget-view+json": {
       "model_id": "3abbe6e5f9f24a7983f2dfe0b7f94d6a",
       "version_major": 2,
       "version_minor": 0
      },
      "text/plain": [
       "train:   0%|          | 0/20000 [00:00<?, ?it/s]"
      ]
     },
     "metadata": {},
     "output_type": "display_data"
    },
    {
     "data": {
      "text/html": [
       "<div>\n",
       "<style scoped>\n",
       "    .dataframe tbody tr th:only-of-type {\n",
       "        vertical-align: middle;\n",
       "    }\n",
       "\n",
       "    .dataframe tbody tr th {\n",
       "        vertical-align: top;\n",
       "    }\n",
       "\n",
       "    .dataframe thead th {\n",
       "        text-align: right;\n",
       "    }\n",
       "</style>\n",
       "<table border=\"1\" class=\"dataframe\">\n",
       "  <thead>\n",
       "    <tr style=\"text-align: right;\">\n",
       "      <th></th>\n",
       "      <th>gen_name</th>\n",
       "      <th>parent_left</th>\n",
       "      <th>child_left</th>\n",
       "      <th>parent_right</th>\n",
       "      <th>child_right</th>\n",
       "      <th>sway_left</th>\n",
       "      <th>sway_right</th>\n",
       "      <th>correct_is_right</th>\n",
       "    </tr>\n",
       "  </thead>\n",
       "  <tbody>\n",
       "    <tr>\n",
       "      <th>0</th>\n",
       "      <td>random--path;(sw)</td>\n",
       "      <td>Yeah and people generally don’t see the work y...</td>\n",
       "      <td>If you don't do this, you'll spend eternity in...</td>\n",
       "      <td>[CNN: Florida political activist plans to dona...</td>\n",
       "      <td>Amazing job. Literally they can't say shit wit...</td>\n",
       "      <td>0.000000</td>\n",
       "      <td>1.000000</td>\n",
       "      <td>True</td>\n",
       "    </tr>\n",
       "    <tr>\n",
       "      <th>1</th>\n",
       "      <td>valid--valid;(mtl:20)</td>\n",
       "      <td>I dont think that's true.</td>\n",
       "      <td>It's true at least in ny. Source: dwi doing th...</td>\n",
       "      <td>To be fair here there are safe crossings - the...</td>\n",
       "      <td>I was literally just pointing out the phrase “...</td>\n",
       "      <td>0.880797</td>\n",
       "      <td>0.119203</td>\n",
       "      <td>False</td>\n",
       "    </tr>\n",
       "    <tr>\n",
       "      <th>2</th>\n",
       "      <td>*valid--!copy;(sw)</td>\n",
       "      <td>The joke about windows is getting old. I hate ...</td>\n",
       "      <td>It's Reddit. Tincanned responses that are repe...</td>\n",
       "      <td>It's Reddit. Tincanned responses that are repe...</td>\n",
       "      <td>The joke about windows is getting old. I hate ...</td>\n",
       "      <td>0.999998</td>\n",
       "      <td>0.000002</td>\n",
       "      <td>False</td>\n",
       "    </tr>\n",
       "    <tr>\n",
       "      <th>3</th>\n",
       "      <td>*valid--valid;(mtl:20)</td>\n",
       "      <td>Yep, our temperature records for my state (NJ)...</td>\n",
       "      <td>There have been record cold temps by state in ...</td>\n",
       "      <td>Yea well I just bid 12 quid so you might want ...</td>\n",
       "      <td>Peasants. 100 of Her Royal Majesty’s finest po...</td>\n",
       "      <td>0.029312</td>\n",
       "      <td>0.970688</td>\n",
       "      <td>True</td>\n",
       "    </tr>\n",
       "  </tbody>\n",
       "</table>\n",
       "</div>"
      ],
      "text/plain": [
       "                 gen_name                                        parent_left  \\\n",
       "0       random--path;(sw)  Yeah and people generally don’t see the work y...   \n",
       "1   valid--valid;(mtl:20)                          I dont think that's true.   \n",
       "2      *valid--!copy;(sw)  The joke about windows is getting old. I hate ...   \n",
       "3  *valid--valid;(mtl:20)  Yep, our temperature records for my state (NJ)...   \n",
       "\n",
       "                                          child_left  \\\n",
       "0  If you don't do this, you'll spend eternity in...   \n",
       "1  It's true at least in ny. Source: dwi doing th...   \n",
       "2  It's Reddit. Tincanned responses that are repe...   \n",
       "3  There have been record cold temps by state in ...   \n",
       "\n",
       "                                        parent_right  \\\n",
       "0  [CNN: Florida political activist plans to dona...   \n",
       "1  To be fair here there are safe crossings - the...   \n",
       "2  It's Reddit. Tincanned responses that are repe...   \n",
       "3  Yea well I just bid 12 quid so you might want ...   \n",
       "\n",
       "                                         child_right  sway_left  sway_right  \\\n",
       "0  Amazing job. Literally they can't say shit wit...   0.000000    1.000000   \n",
       "1  I was literally just pointing out the phrase “...   0.880797    0.119203   \n",
       "2  The joke about windows is getting old. I hate ...   0.999998    0.000002   \n",
       "3  Peasants. 100 of Her Royal Majesty’s finest po...   0.029312    0.970688   \n",
       "\n",
       "   correct_is_right  \n",
       "0              True  \n",
       "1             False  \n",
       "2             False  \n",
       "3              True  "
      ]
     },
     "metadata": {},
     "output_type": "display_data"
    },
    {
     "data": {
      "application/vnd.jupyter.widget-view+json": {
       "model_id": "0a76c4114dac4899956be62934953ba9",
       "version_major": 2,
       "version_minor": 0
      },
      "text/plain": [
       "train val:   0%|          | 0/10000 [00:00<?, ?it/s]"
      ]
     },
     "metadata": {},
     "output_type": "display_data"
    },
    {
     "data": {
      "application/vnd.jupyter.widget-view+json": {
       "model_id": "78cd7296d59b48ffa0bb09197e54b1f4",
       "version_major": 2,
       "version_minor": 0
      },
      "text/plain": [
       "test:   0%|          | 0/10000 [00:00<?, ?it/s]"
      ]
     },
     "metadata": {},
     "output_type": "display_data"
    },
    {
     "name": "stdout",
     "output_type": "stream",
     "text": [
      "train: {'accuracy': 0.5359} loss: 0.6719131466567516\n",
      "train val: {'accuracy': 0.4775} loss: 0.7200073766708374\n",
      "test: {'accuracy': 0.4717} loss: 0.7382580366492272\n",
      "epoch 50\n"
     ]
    },
    {
     "data": {
      "application/vnd.jupyter.widget-view+json": {
       "model_id": "15a67bfb29e54238b3f24743960f1d8d",
       "version_major": 2,
       "version_minor": 0
      },
      "text/plain": [
       "train:   0%|          | 0/20000 [00:00<?, ?it/s]"
      ]
     },
     "metadata": {},
     "output_type": "display_data"
    },
    {
     "data": {
      "text/html": [
       "<div>\n",
       "<style scoped>\n",
       "    .dataframe tbody tr th:only-of-type {\n",
       "        vertical-align: middle;\n",
       "    }\n",
       "\n",
       "    .dataframe tbody tr th {\n",
       "        vertical-align: top;\n",
       "    }\n",
       "\n",
       "    .dataframe thead th {\n",
       "        text-align: right;\n",
       "    }\n",
       "</style>\n",
       "<table border=\"1\" class=\"dataframe\">\n",
       "  <thead>\n",
       "    <tr style=\"text-align: right;\">\n",
       "      <th></th>\n",
       "      <th>gen_name</th>\n",
       "      <th>parent_left</th>\n",
       "      <th>child_left</th>\n",
       "      <th>parent_right</th>\n",
       "      <th>child_right</th>\n",
       "      <th>sway_left</th>\n",
       "      <th>sway_right</th>\n",
       "      <th>correct_is_right</th>\n",
       "    </tr>\n",
       "  </thead>\n",
       "  <tbody>\n",
       "    <tr>\n",
       "      <th>0</th>\n",
       "      <td>valid--valid</td>\n",
       "      <td>It's hilarious that people like Gym Jordan, Gr...</td>\n",
       "      <td>Right? Like they actually give a shit about th...</td>\n",
       "      <td>And even sex is not a binary. XX and XY are no...</td>\n",
       "      <td>Generally tho, when something is 99.9% consist...</td>\n",
       "      <td>0.000000</td>\n",
       "      <td>1.000000</td>\n",
       "      <td>True</td>\n",
       "    </tr>\n",
       "    <tr>\n",
       "      <th>1</th>\n",
       "      <td>!copy--path;(mtl:20)</td>\n",
       "      <td>Queen's first PM was Churchill, who was born 1...</td>\n",
       "      <td>[Queen Elizabeth II has died, Buckingham Palac...</td>\n",
       "      <td>[Queen Elizabeth II has died, Buckingham Palac...</td>\n",
       "      <td>Queen's first PM was Churchill, who was born 1...</td>\n",
       "      <td>0.000000</td>\n",
       "      <td>1.000000</td>\n",
       "      <td>True</td>\n",
       "    </tr>\n",
       "    <tr>\n",
       "      <th>2</th>\n",
       "      <td>*valid--!copy;(sw)</td>\n",
       "      <td>[DOJ is seeking further surveillance video fro...</td>\n",
       "      <td>This is bigger than Watergate and Iran-Contra ...</td>\n",
       "      <td>This is bigger than Watergate and Iran-Contra ...</td>\n",
       "      <td>[DOJ is seeking further surveillance video fro...</td>\n",
       "      <td>0.999955</td>\n",
       "      <td>0.000045</td>\n",
       "      <td>False</td>\n",
       "    </tr>\n",
       "    <tr>\n",
       "      <th>3</th>\n",
       "      <td>*valid--random;(sw)</td>\n",
       "      <td>[Trump declares himself ‘as innocent as a pers...</td>\n",
       "      <td>FISA got involved because of foreign espionage...</td>\n",
       "      <td>&gt;Do you want to freeload off of other people's...</td>\n",
       "      <td>As a polisci student from Europe who's fond of...</td>\n",
       "      <td>0.952574</td>\n",
       "      <td>0.047426</td>\n",
       "      <td>False</td>\n",
       "    </tr>\n",
       "  </tbody>\n",
       "</table>\n",
       "</div>"
      ],
      "text/plain": [
       "               gen_name                                        parent_left  \\\n",
       "0          valid--valid  It's hilarious that people like Gym Jordan, Gr...   \n",
       "1  !copy--path;(mtl:20)  Queen's first PM was Churchill, who was born 1...   \n",
       "2    *valid--!copy;(sw)  [DOJ is seeking further surveillance video fro...   \n",
       "3   *valid--random;(sw)  [Trump declares himself ‘as innocent as a pers...   \n",
       "\n",
       "                                          child_left  \\\n",
       "0  Right? Like they actually give a shit about th...   \n",
       "1  [Queen Elizabeth II has died, Buckingham Palac...   \n",
       "2  This is bigger than Watergate and Iran-Contra ...   \n",
       "3  FISA got involved because of foreign espionage...   \n",
       "\n",
       "                                        parent_right  \\\n",
       "0  And even sex is not a binary. XX and XY are no...   \n",
       "1  [Queen Elizabeth II has died, Buckingham Palac...   \n",
       "2  This is bigger than Watergate and Iran-Contra ...   \n",
       "3  >Do you want to freeload off of other people's...   \n",
       "\n",
       "                                         child_right  sway_left  sway_right  \\\n",
       "0  Generally tho, when something is 99.9% consist...   0.000000    1.000000   \n",
       "1  Queen's first PM was Churchill, who was born 1...   0.000000    1.000000   \n",
       "2  [DOJ is seeking further surveillance video fro...   0.999955    0.000045   \n",
       "3  As a polisci student from Europe who's fond of...   0.952574    0.047426   \n",
       "\n",
       "   correct_is_right  \n",
       "0              True  \n",
       "1              True  \n",
       "2             False  \n",
       "3             False  "
      ]
     },
     "metadata": {},
     "output_type": "display_data"
    },
    {
     "data": {
      "application/vnd.jupyter.widget-view+json": {
       "model_id": "b578e37e6ed04c3ab59bd0da293a15f0",
       "version_major": 2,
       "version_minor": 0
      },
      "text/plain": [
       "train val:   0%|          | 0/10000 [00:00<?, ?it/s]"
      ]
     },
     "metadata": {},
     "output_type": "display_data"
    },
    {
     "data": {
      "application/vnd.jupyter.widget-view+json": {
       "model_id": "c08b0aaa5be641aa9ed3f007dbc2947d",
       "version_major": 2,
       "version_minor": 0
      },
      "text/plain": [
       "test:   0%|          | 0/10000 [00:00<?, ?it/s]"
      ]
     },
     "metadata": {},
     "output_type": "display_data"
    },
    {
     "name": "stdout",
     "output_type": "stream",
     "text": [
      "train: {'accuracy': 0.5241} loss: 0.6850630189716816\n",
      "train val: {'accuracy': 0.5167} loss: 0.6931473152637482\n",
      "test: {'accuracy': 0.493} loss: 0.6931474700212479\n",
      "epoch 51\n"
     ]
    },
    {
     "data": {
      "application/vnd.jupyter.widget-view+json": {
       "model_id": "fc2ed45455e54042a85a3973a8b9e541",
       "version_major": 2,
       "version_minor": 0
      },
      "text/plain": [
       "train:   0%|          | 0/20000 [00:00<?, ?it/s]"
      ]
     },
     "metadata": {},
     "output_type": "display_data"
    },
    {
     "data": {
      "text/html": [
       "<div>\n",
       "<style scoped>\n",
       "    .dataframe tbody tr th:only-of-type {\n",
       "        vertical-align: middle;\n",
       "    }\n",
       "\n",
       "    .dataframe tbody tr th {\n",
       "        vertical-align: top;\n",
       "    }\n",
       "\n",
       "    .dataframe thead th {\n",
       "        text-align: right;\n",
       "    }\n",
       "</style>\n",
       "<table border=\"1\" class=\"dataframe\">\n",
       "  <thead>\n",
       "    <tr style=\"text-align: right;\">\n",
       "      <th></th>\n",
       "      <th>gen_name</th>\n",
       "      <th>parent_left</th>\n",
       "      <th>child_left</th>\n",
       "      <th>parent_right</th>\n",
       "      <th>child_right</th>\n",
       "      <th>sway_left</th>\n",
       "      <th>sway_right</th>\n",
       "      <th>correct_is_right</th>\n",
       "    </tr>\n",
       "  </thead>\n",
       "  <tbody>\n",
       "    <tr>\n",
       "      <th>0</th>\n",
       "      <td>!valid--valid;(sw)</td>\n",
       "      <td>Yep, the US has done horrible shit, and yep, I...</td>\n",
       "      <td>Not that we know of. But if you want a better ...</td>\n",
       "      <td>She was the Queen of the United Kingdom, that ...</td>\n",
       "      <td>Technically true, but in every practical sense...</td>\n",
       "      <td>4.013123e-01</td>\n",
       "      <td>0.598688</td>\n",
       "      <td>True</td>\n",
       "    </tr>\n",
       "    <tr>\n",
       "      <th>1</th>\n",
       "      <td>random--path;(mtl:20)</td>\n",
       "      <td>&gt; What's even more sad is that the hospital is...</td>\n",
       "      <td>See this is one of the reason the western bloc...</td>\n",
       "      <td>It’s so strange to think she’s been queen so l...</td>\n",
       "      <td>The episode of \"I Love Lucy\" where Lucy meets ...</td>\n",
       "      <td>0.000000e+00</td>\n",
       "      <td>1.000000</td>\n",
       "      <td>True</td>\n",
       "    </tr>\n",
       "    <tr>\n",
       "      <th>2</th>\n",
       "      <td>valid--valid</td>\n",
       "      <td>[Cellphone video shows MDPD officers blocking ...</td>\n",
       "      <td>In Arizona you couldn't film this because you ...</td>\n",
       "      <td>[Marines, sailors ate all of Greek town’s eggs...</td>\n",
       "      <td>Imagine how much the Persians ate when they in...</td>\n",
       "      <td>8.807971e-01</td>\n",
       "      <td>0.119203</td>\n",
       "      <td>False</td>\n",
       "    </tr>\n",
       "    <tr>\n",
       "      <th>3</th>\n",
       "      <td>random--valid;(sw)</td>\n",
       "      <td>Or, dare I say it, anything except first past ...</td>\n",
       "      <td>asking the important questions!</td>\n",
       "      <td>It only takes “a couple seconds” to commit mos...</td>\n",
       "      <td>\"I only stabbed that man for a few seconds\"</td>\n",
       "      <td>5.602796e-09</td>\n",
       "      <td>1.000000</td>\n",
       "      <td>True</td>\n",
       "    </tr>\n",
       "  </tbody>\n",
       "</table>\n",
       "</div>"
      ],
      "text/plain": [
       "                gen_name                                        parent_left  \\\n",
       "0     !valid--valid;(sw)  Yep, the US has done horrible shit, and yep, I...   \n",
       "1  random--path;(mtl:20)  > What's even more sad is that the hospital is...   \n",
       "2           valid--valid  [Cellphone video shows MDPD officers blocking ...   \n",
       "3     random--valid;(sw)  Or, dare I say it, anything except first past ...   \n",
       "\n",
       "                                          child_left  \\\n",
       "0  Not that we know of. But if you want a better ...   \n",
       "1  See this is one of the reason the western bloc...   \n",
       "2  In Arizona you couldn't film this because you ...   \n",
       "3                    asking the important questions!   \n",
       "\n",
       "                                        parent_right  \\\n",
       "0  She was the Queen of the United Kingdom, that ...   \n",
       "1  It’s so strange to think she’s been queen so l...   \n",
       "2  [Marines, sailors ate all of Greek town’s eggs...   \n",
       "3  It only takes “a couple seconds” to commit mos...   \n",
       "\n",
       "                                         child_right     sway_left  \\\n",
       "0  Technically true, but in every practical sense...  4.013123e-01   \n",
       "1  The episode of \"I Love Lucy\" where Lucy meets ...  0.000000e+00   \n",
       "2  Imagine how much the Persians ate when they in...  8.807971e-01   \n",
       "3        \"I only stabbed that man for a few seconds\"  5.602796e-09   \n",
       "\n",
       "   sway_right  correct_is_right  \n",
       "0    0.598688              True  \n",
       "1    1.000000              True  \n",
       "2    0.119203             False  \n",
       "3    1.000000              True  "
      ]
     },
     "metadata": {},
     "output_type": "display_data"
    },
    {
     "data": {
      "application/vnd.jupyter.widget-view+json": {
       "model_id": "75fa0b76dd43480a8de3fcc008552b35",
       "version_major": 2,
       "version_minor": 0
      },
      "text/plain": [
       "train val:   0%|          | 0/10000 [00:00<?, ?it/s]"
      ]
     },
     "metadata": {},
     "output_type": "display_data"
    },
    {
     "data": {
      "application/vnd.jupyter.widget-view+json": {
       "model_id": "d7e10a4a8fc244d6a497528f65def69b",
       "version_major": 2,
       "version_minor": 0
      },
      "text/plain": [
       "test:   0%|          | 0/10000 [00:00<?, ?it/s]"
      ]
     },
     "metadata": {},
     "output_type": "display_data"
    },
    {
     "name": "stdout",
     "output_type": "stream",
     "text": [
      "train: {'accuracy': 0.50505} loss: 0.6924915876507759\n",
      "train val: {'accuracy': 0.5587} loss: 0.6931408413648605\n",
      "test: {'accuracy': 0.5314} loss: 0.6931428133249283\n",
      "epoch 52\n"
     ]
    },
    {
     "data": {
      "application/vnd.jupyter.widget-view+json": {
       "model_id": "de3839af550342f2bd8625e70517b3c6",
       "version_major": 2,
       "version_minor": 0
      },
      "text/plain": [
       "train:   0%|          | 0/20000 [00:00<?, ?it/s]"
      ]
     },
     "metadata": {},
     "output_type": "display_data"
    },
    {
     "data": {
      "text/html": [
       "<div>\n",
       "<style scoped>\n",
       "    .dataframe tbody tr th:only-of-type {\n",
       "        vertical-align: middle;\n",
       "    }\n",
       "\n",
       "    .dataframe tbody tr th {\n",
       "        vertical-align: top;\n",
       "    }\n",
       "\n",
       "    .dataframe thead th {\n",
       "        text-align: right;\n",
       "    }\n",
       "</style>\n",
       "<table border=\"1\" class=\"dataframe\">\n",
       "  <thead>\n",
       "    <tr style=\"text-align: right;\">\n",
       "      <th></th>\n",
       "      <th>gen_name</th>\n",
       "      <th>parent_left</th>\n",
       "      <th>child_left</th>\n",
       "      <th>parent_right</th>\n",
       "      <th>child_right</th>\n",
       "      <th>sway_left</th>\n",
       "      <th>sway_right</th>\n",
       "      <th>correct_is_right</th>\n",
       "    </tr>\n",
       "  </thead>\n",
       "  <tbody>\n",
       "    <tr>\n",
       "      <th>0</th>\n",
       "      <td>*valid--!copy;(sw)</td>\n",
       "      <td>The mini Trumps lack the idiot charisma that h...</td>\n",
       "      <td>They just need to get to their local courthous...</td>\n",
       "      <td>They just need to get to their local courthous...</td>\n",
       "      <td>The mini Trumps lack the idiot charisma that h...</td>\n",
       "      <td>0.880797</td>\n",
       "      <td>0.119203</td>\n",
       "      <td>False</td>\n",
       "    </tr>\n",
       "    <tr>\n",
       "      <th>1</th>\n",
       "      <td>*valid--!copy;(sw)</td>\n",
       "      <td>But they've all been declassified, so it's fine.</td>\n",
       "      <td>So dumb. They are not his personal documents. ...</td>\n",
       "      <td>So dumb. They are not his personal documents. ...</td>\n",
       "      <td>But they've all been declassified, so it's fine.</td>\n",
       "      <td>0.880797</td>\n",
       "      <td>0.119203</td>\n",
       "      <td>False</td>\n",
       "    </tr>\n",
       "    <tr>\n",
       "      <th>2</th>\n",
       "      <td>!copy--valid;(sw)</td>\n",
       "      <td>See, the average american probably doesn't car...</td>\n",
       "      <td>[Victory: Government Finally Releases Secretiv...</td>\n",
       "      <td>[Victory: Government Finally Releases Secretiv...</td>\n",
       "      <td>See, the average american probably doesn't car...</td>\n",
       "      <td>0.016302</td>\n",
       "      <td>0.983698</td>\n",
       "      <td>True</td>\n",
       "    </tr>\n",
       "    <tr>\n",
       "      <th>3</th>\n",
       "      <td>!copy--path;(sw)</td>\n",
       "      <td>That would be so much easier for so many thing...</td>\n",
       "      <td>nah it's Queen Charles</td>\n",
       "      <td>nah it's Queen Charles</td>\n",
       "      <td>That would be so much easier for so many thing...</td>\n",
       "      <td>0.002473</td>\n",
       "      <td>0.997527</td>\n",
       "      <td>True</td>\n",
       "    </tr>\n",
       "  </tbody>\n",
       "</table>\n",
       "</div>"
      ],
      "text/plain": [
       "             gen_name                                        parent_left  \\\n",
       "0  *valid--!copy;(sw)  The mini Trumps lack the idiot charisma that h...   \n",
       "1  *valid--!copy;(sw)   But they've all been declassified, so it's fine.   \n",
       "2   !copy--valid;(sw)  See, the average american probably doesn't car...   \n",
       "3    !copy--path;(sw)  That would be so much easier for so many thing...   \n",
       "\n",
       "                                          child_left  \\\n",
       "0  They just need to get to their local courthous...   \n",
       "1  So dumb. They are not his personal documents. ...   \n",
       "2  [Victory: Government Finally Releases Secretiv...   \n",
       "3                             nah it's Queen Charles   \n",
       "\n",
       "                                        parent_right  \\\n",
       "0  They just need to get to their local courthous...   \n",
       "1  So dumb. They are not his personal documents. ...   \n",
       "2  [Victory: Government Finally Releases Secretiv...   \n",
       "3                             nah it's Queen Charles   \n",
       "\n",
       "                                         child_right  sway_left  sway_right  \\\n",
       "0  The mini Trumps lack the idiot charisma that h...   0.880797    0.119203   \n",
       "1   But they've all been declassified, so it's fine.   0.880797    0.119203   \n",
       "2  See, the average american probably doesn't car...   0.016302    0.983698   \n",
       "3  That would be so much easier for so many thing...   0.002473    0.997527   \n",
       "\n",
       "   correct_is_right  \n",
       "0             False  \n",
       "1             False  \n",
       "2              True  \n",
       "3              True  "
      ]
     },
     "metadata": {},
     "output_type": "display_data"
    },
    {
     "data": {
      "application/vnd.jupyter.widget-view+json": {
       "model_id": "f9f74e14b3954dbba8fd39aaa6d026da",
       "version_major": 2,
       "version_minor": 0
      },
      "text/plain": [
       "train val:   0%|          | 0/10000 [00:00<?, ?it/s]"
      ]
     },
     "metadata": {},
     "output_type": "display_data"
    },
    {
     "data": {
      "application/vnd.jupyter.widget-view+json": {
       "model_id": "c05b92171fa7482dab18eded61c50773",
       "version_major": 2,
       "version_minor": 0
      },
      "text/plain": [
       "test:   0%|          | 0/10000 [00:00<?, ?it/s]"
      ]
     },
     "metadata": {},
     "output_type": "display_data"
    },
    {
     "name": "stdout",
     "output_type": "stream",
     "text": [
      "train: {'accuracy': 0.5047} loss: 0.6927889272451401\n",
      "train val: {'accuracy': 0.4947} loss: 0.6932287034749984\n",
      "test: {'accuracy': 0.4889} loss: 0.6932064423322678\n",
      "epoch 53\n"
     ]
    },
    {
     "data": {
      "application/vnd.jupyter.widget-view+json": {
       "model_id": "4186971669f645dc8a2f2a80385ce23d",
       "version_major": 2,
       "version_minor": 0
      },
      "text/plain": [
       "train:   0%|          | 0/20000 [00:00<?, ?it/s]"
      ]
     },
     "metadata": {},
     "output_type": "display_data"
    },
    {
     "data": {
      "text/html": [
       "<div>\n",
       "<style scoped>\n",
       "    .dataframe tbody tr th:only-of-type {\n",
       "        vertical-align: middle;\n",
       "    }\n",
       "\n",
       "    .dataframe tbody tr th {\n",
       "        vertical-align: top;\n",
       "    }\n",
       "\n",
       "    .dataframe thead th {\n",
       "        text-align: right;\n",
       "    }\n",
       "</style>\n",
       "<table border=\"1\" class=\"dataframe\">\n",
       "  <thead>\n",
       "    <tr style=\"text-align: right;\">\n",
       "      <th></th>\n",
       "      <th>gen_name</th>\n",
       "      <th>parent_left</th>\n",
       "      <th>child_left</th>\n",
       "      <th>parent_right</th>\n",
       "      <th>child_right</th>\n",
       "      <th>sway_left</th>\n",
       "      <th>sway_right</th>\n",
       "      <th>correct_is_right</th>\n",
       "    </tr>\n",
       "  </thead>\n",
       "  <tbody>\n",
       "    <tr>\n",
       "      <th>0</th>\n",
       "      <td>*path--!copy;(mtl:20)</td>\n",
       "      <td>[Louisiana hospital denies abortion for fetus ...</td>\n",
       "      <td>That is just so fucking sad. That poor woman.</td>\n",
       "      <td>That is just so fucking sad. That poor woman.</td>\n",
       "      <td>[Louisiana hospital denies abortion for fetus ...</td>\n",
       "      <td>1.000000</td>\n",
       "      <td>0.000000</td>\n",
       "      <td>False</td>\n",
       "    </tr>\n",
       "    <tr>\n",
       "      <th>1</th>\n",
       "      <td>valid--valid;(mtl:20)</td>\n",
       "      <td>&gt; Cruz said the bill would be an attack on rel...</td>\n",
       "      <td>To show just how stupid of an argument this is...</td>\n",
       "      <td>Fact- that trump doesn’t know who the snitch i...</td>\n",
       "      <td>Pretty sure that Kid Rock has seen the nuclear...</td>\n",
       "      <td>0.268941</td>\n",
       "      <td>0.731059</td>\n",
       "      <td>True</td>\n",
       "    </tr>\n",
       "    <tr>\n",
       "      <th>2</th>\n",
       "      <td>random--path;(sw)</td>\n",
       "      <td>I mean that’s kinda how it works. He is alread...</td>\n",
       "      <td>Making $115k (with a fiancée making $80k) does...</td>\n",
       "      <td>longer than that</td>\n",
       "      <td>Long enough that we have entire generation of ...</td>\n",
       "      <td>0.047426</td>\n",
       "      <td>0.952574</td>\n",
       "      <td>True</td>\n",
       "    </tr>\n",
       "    <tr>\n",
       "      <th>3</th>\n",
       "      <td>valid--valid;(mtl:20)</td>\n",
       "      <td>Is anyone in Florida awake? I mean what the fu...</td>\n",
       "      <td>The suspension of Hillsborough attorney Andrew...</td>\n",
       "      <td>For anyone outside UK, the majority of the cou...</td>\n",
       "      <td>&gt;They're vastly overpaid relative to the rest ...</td>\n",
       "      <td>0.000123</td>\n",
       "      <td>0.999877</td>\n",
       "      <td>True</td>\n",
       "    </tr>\n",
       "  </tbody>\n",
       "</table>\n",
       "</div>"
      ],
      "text/plain": [
       "                gen_name                                        parent_left  \\\n",
       "0  *path--!copy;(mtl:20)  [Louisiana hospital denies abortion for fetus ...   \n",
       "1  valid--valid;(mtl:20)  > Cruz said the bill would be an attack on rel...   \n",
       "2      random--path;(sw)  I mean that’s kinda how it works. He is alread...   \n",
       "3  valid--valid;(mtl:20)  Is anyone in Florida awake? I mean what the fu...   \n",
       "\n",
       "                                          child_left  \\\n",
       "0      That is just so fucking sad. That poor woman.   \n",
       "1  To show just how stupid of an argument this is...   \n",
       "2  Making $115k (with a fiancée making $80k) does...   \n",
       "3  The suspension of Hillsborough attorney Andrew...   \n",
       "\n",
       "                                        parent_right  \\\n",
       "0      That is just so fucking sad. That poor woman.   \n",
       "1  Fact- that trump doesn’t know who the snitch i...   \n",
       "2                                   longer than that   \n",
       "3  For anyone outside UK, the majority of the cou...   \n",
       "\n",
       "                                         child_right  sway_left  sway_right  \\\n",
       "0  [Louisiana hospital denies abortion for fetus ...   1.000000    0.000000   \n",
       "1  Pretty sure that Kid Rock has seen the nuclear...   0.268941    0.731059   \n",
       "2  Long enough that we have entire generation of ...   0.047426    0.952574   \n",
       "3  >They're vastly overpaid relative to the rest ...   0.000123    0.999877   \n",
       "\n",
       "   correct_is_right  \n",
       "0             False  \n",
       "1              True  \n",
       "2              True  \n",
       "3              True  "
      ]
     },
     "metadata": {},
     "output_type": "display_data"
    },
    {
     "data": {
      "application/vnd.jupyter.widget-view+json": {
       "model_id": "a20dbdb36a8c4a16958dd0db7e0f9f3c",
       "version_major": 2,
       "version_minor": 0
      },
      "text/plain": [
       "train val:   0%|          | 0/10000 [00:00<?, ?it/s]"
      ]
     },
     "metadata": {},
     "output_type": "display_data"
    },
    {
     "data": {
      "application/vnd.jupyter.widget-view+json": {
       "model_id": "e62e3b5d6cd84a548f2696b2b6411ebf",
       "version_major": 2,
       "version_minor": 0
      },
      "text/plain": [
       "test:   0%|          | 0/10000 [00:00<?, ?it/s]"
      ]
     },
     "metadata": {},
     "output_type": "display_data"
    },
    {
     "name": "stdout",
     "output_type": "stream",
     "text": [
      "train: {'accuracy': 0.53135} loss: 0.6788344450294972\n",
      "train val: {'accuracy': 0.5897} loss: 0.6931167144536972\n",
      "test: {'accuracy': 0.5185} loss: 0.6933129740476608\n",
      "epoch 54\n"
     ]
    },
    {
     "data": {
      "application/vnd.jupyter.widget-view+json": {
       "model_id": "85bee8eaecf04d878d31132a24bfb687",
       "version_major": 2,
       "version_minor": 0
      },
      "text/plain": [
       "train:   0%|          | 0/20000 [00:00<?, ?it/s]"
      ]
     },
     "metadata": {},
     "output_type": "display_data"
    },
    {
     "data": {
      "text/html": [
       "<div>\n",
       "<style scoped>\n",
       "    .dataframe tbody tr th:only-of-type {\n",
       "        vertical-align: middle;\n",
       "    }\n",
       "\n",
       "    .dataframe tbody tr th {\n",
       "        vertical-align: top;\n",
       "    }\n",
       "\n",
       "    .dataframe thead th {\n",
       "        text-align: right;\n",
       "    }\n",
       "</style>\n",
       "<table border=\"1\" class=\"dataframe\">\n",
       "  <thead>\n",
       "    <tr style=\"text-align: right;\">\n",
       "      <th></th>\n",
       "      <th>gen_name</th>\n",
       "      <th>parent_left</th>\n",
       "      <th>child_left</th>\n",
       "      <th>parent_right</th>\n",
       "      <th>child_right</th>\n",
       "      <th>sway_left</th>\n",
       "      <th>sway_right</th>\n",
       "      <th>correct_is_right</th>\n",
       "    </tr>\n",
       "  </thead>\n",
       "  <tbody>\n",
       "    <tr>\n",
       "      <th>0</th>\n",
       "      <td>*path--random;(sw)</td>\n",
       "      <td>Cruelty is the point. They enjoy suffering - w...</td>\n",
       "      <td>Some say it's a conscious effort to oppress th...</td>\n",
       "      <td>If they all left at once, the city would colla...</td>\n",
       "      <td>Well for one thing the US implication is moot,...</td>\n",
       "      <td>0.880797</td>\n",
       "      <td>0.119203</td>\n",
       "      <td>False</td>\n",
       "    </tr>\n",
       "    <tr>\n",
       "      <th>1</th>\n",
       "      <td>!valid--valid;(mtl:20)</td>\n",
       "      <td>It’s an interesting idea with some precedent, ...</td>\n",
       "      <td>Hmm.. If Putin resign, then Kadyrov is Person ...</td>\n",
       "      <td>that's what they never talk about. the people ...</td>\n",
       "      <td>You’ve got these alt-right parenting groups li...</td>\n",
       "      <td>0.000000</td>\n",
       "      <td>1.000000</td>\n",
       "      <td>True</td>\n",
       "    </tr>\n",
       "    <tr>\n",
       "      <th>2</th>\n",
       "      <td>!valid--valid;(sw)</td>\n",
       "      <td>Yes! Yes, please! (with a cherry on top!)</td>\n",
       "      <td>[CBS News poll: Big majority favor maximum age...</td>\n",
       "      <td>100 000 troops soon to deploy in Ukraine. So I...</td>\n",
       "      <td>Cannon fodder. Poor schmucks.</td>\n",
       "      <td>0.000335</td>\n",
       "      <td>0.999665</td>\n",
       "      <td>True</td>\n",
       "    </tr>\n",
       "    <tr>\n",
       "      <th>3</th>\n",
       "      <td>!copy--valid;(sw)</td>\n",
       "      <td>*sighs* ... technically that last one isn't ev...</td>\n",
       "      <td>God has lots of names. I think they should kee...</td>\n",
       "      <td>God has lots of names. I think they should kee...</td>\n",
       "      <td>*sighs* ... technically that last one isn't ev...</td>\n",
       "      <td>0.000000</td>\n",
       "      <td>1.000000</td>\n",
       "      <td>True</td>\n",
       "    </tr>\n",
       "  </tbody>\n",
       "</table>\n",
       "</div>"
      ],
      "text/plain": [
       "                 gen_name                                        parent_left  \\\n",
       "0      *path--random;(sw)  Cruelty is the point. They enjoy suffering - w...   \n",
       "1  !valid--valid;(mtl:20)  It’s an interesting idea with some precedent, ...   \n",
       "2      !valid--valid;(sw)          Yes! Yes, please! (with a cherry on top!)   \n",
       "3       !copy--valid;(sw)  *sighs* ... technically that last one isn't ev...   \n",
       "\n",
       "                                          child_left  \\\n",
       "0  Some say it's a conscious effort to oppress th...   \n",
       "1  Hmm.. If Putin resign, then Kadyrov is Person ...   \n",
       "2  [CBS News poll: Big majority favor maximum age...   \n",
       "3  God has lots of names. I think they should kee...   \n",
       "\n",
       "                                        parent_right  \\\n",
       "0  If they all left at once, the city would colla...   \n",
       "1  that's what they never talk about. the people ...   \n",
       "2  100 000 troops soon to deploy in Ukraine. So I...   \n",
       "3  God has lots of names. I think they should kee...   \n",
       "\n",
       "                                         child_right  sway_left  sway_right  \\\n",
       "0  Well for one thing the US implication is moot,...   0.880797    0.119203   \n",
       "1  You’ve got these alt-right parenting groups li...   0.000000    1.000000   \n",
       "2                      Cannon fodder. Poor schmucks.   0.000335    0.999665   \n",
       "3  *sighs* ... technically that last one isn't ev...   0.000000    1.000000   \n",
       "\n",
       "   correct_is_right  \n",
       "0             False  \n",
       "1              True  \n",
       "2              True  \n",
       "3              True  "
      ]
     },
     "metadata": {},
     "output_type": "display_data"
    },
    {
     "data": {
      "application/vnd.jupyter.widget-view+json": {
       "model_id": "7e8cf9ff56ab45428740cee931cde3e6",
       "version_major": 2,
       "version_minor": 0
      },
      "text/plain": [
       "train val:   0%|          | 0/10000 [00:00<?, ?it/s]"
      ]
     },
     "metadata": {},
     "output_type": "display_data"
    },
    {
     "data": {
      "application/vnd.jupyter.widget-view+json": {
       "model_id": "b58d4fed091c4f93966e3f1e3ca3a42e",
       "version_major": 2,
       "version_minor": 0
      },
      "text/plain": [
       "test:   0%|          | 0/10000 [00:00<?, ?it/s]"
      ]
     },
     "metadata": {},
     "output_type": "display_data"
    },
    {
     "name": "stdout",
     "output_type": "stream",
     "text": [
      "train: {'accuracy': 0.5378} loss: 0.6777958408176898\n",
      "train val: {'accuracy': 0.4216} loss: 0.7036001346707345\n",
      "test: {'accuracy': 0.4827} loss: 0.7179339057683944\n",
      "epoch 55\n"
     ]
    },
    {
     "data": {
      "application/vnd.jupyter.widget-view+json": {
       "model_id": "022b4cadf9ec4977aa62d120f7c7251b",
       "version_major": 2,
       "version_minor": 0
      },
      "text/plain": [
       "train:   0%|          | 0/20000 [00:00<?, ?it/s]"
      ]
     },
     "metadata": {},
     "output_type": "display_data"
    },
    {
     "data": {
      "text/html": [
       "<div>\n",
       "<style scoped>\n",
       "    .dataframe tbody tr th:only-of-type {\n",
       "        vertical-align: middle;\n",
       "    }\n",
       "\n",
       "    .dataframe tbody tr th {\n",
       "        vertical-align: top;\n",
       "    }\n",
       "\n",
       "    .dataframe thead th {\n",
       "        text-align: right;\n",
       "    }\n",
       "</style>\n",
       "<table border=\"1\" class=\"dataframe\">\n",
       "  <thead>\n",
       "    <tr style=\"text-align: right;\">\n",
       "      <th></th>\n",
       "      <th>gen_name</th>\n",
       "      <th>parent_left</th>\n",
       "      <th>child_left</th>\n",
       "      <th>parent_right</th>\n",
       "      <th>child_right</th>\n",
       "      <th>sway_left</th>\n",
       "      <th>sway_right</th>\n",
       "      <th>correct_is_right</th>\n",
       "    </tr>\n",
       "  </thead>\n",
       "  <tbody>\n",
       "    <tr>\n",
       "      <th>0</th>\n",
       "      <td>*path--!copy;(sw)</td>\n",
       "      <td>t/news</td>\n",
       "      <td>[Inflation eases as consumer prices rise 6.3% ...</td>\n",
       "      <td>[Inflation eases as consumer prices rise 6.3% ...</td>\n",
       "      <td>t/news</td>\n",
       "      <td>1.000000</td>\n",
       "      <td>2.708695e-76</td>\n",
       "      <td>False</td>\n",
       "    </tr>\n",
       "    <tr>\n",
       "      <th>1</th>\n",
       "      <td>!copy--path;(mtl:20)</td>\n",
       "      <td>Yeah, don’t agree with his ways either, just p...</td>\n",
       "      <td>Yeah I was going to say I remember the former ...</td>\n",
       "      <td>Yeah I was going to say I remember the former ...</td>\n",
       "      <td>Yeah, don’t agree with his ways either, just p...</td>\n",
       "      <td>0.119203</td>\n",
       "      <td>8.807971e-01</td>\n",
       "      <td>True</td>\n",
       "    </tr>\n",
       "    <tr>\n",
       "      <th>2</th>\n",
       "      <td>!copy--path;(mtl:20)</td>\n",
       "      <td>96 years is amazing and she was still ok</td>\n",
       "      <td>At least she lived a good long life. 96 years ...</td>\n",
       "      <td>At least she lived a good long life. 96 years ...</td>\n",
       "      <td>96 years is amazing and she was still ok</td>\n",
       "      <td>0.047426</td>\n",
       "      <td>9.525741e-01</td>\n",
       "      <td>True</td>\n",
       "    </tr>\n",
       "    <tr>\n",
       "      <th>3</th>\n",
       "      <td>random--path;(sw)</td>\n",
       "      <td>a shame our color revolution failed in turkey....</td>\n",
       "      <td>Whenever I read about something he’s blabbered...</td>\n",
       "      <td>t/news</td>\n",
       "      <td>[Inflation eases as consumer prices rise 6.3% ...</td>\n",
       "      <td>0.000000</td>\n",
       "      <td>1.000000e+00</td>\n",
       "      <td>True</td>\n",
       "    </tr>\n",
       "  </tbody>\n",
       "</table>\n",
       "</div>"
      ],
      "text/plain": [
       "               gen_name                                        parent_left  \\\n",
       "0     *path--!copy;(sw)                                             t/news   \n",
       "1  !copy--path;(mtl:20)  Yeah, don’t agree with his ways either, just p...   \n",
       "2  !copy--path;(mtl:20)           96 years is amazing and she was still ok   \n",
       "3     random--path;(sw)  a shame our color revolution failed in turkey....   \n",
       "\n",
       "                                          child_left  \\\n",
       "0  [Inflation eases as consumer prices rise 6.3% ...   \n",
       "1  Yeah I was going to say I remember the former ...   \n",
       "2  At least she lived a good long life. 96 years ...   \n",
       "3  Whenever I read about something he’s blabbered...   \n",
       "\n",
       "                                        parent_right  \\\n",
       "0  [Inflation eases as consumer prices rise 6.3% ...   \n",
       "1  Yeah I was going to say I remember the former ...   \n",
       "2  At least she lived a good long life. 96 years ...   \n",
       "3                                             t/news   \n",
       "\n",
       "                                         child_right  sway_left    sway_right  \\\n",
       "0                                             t/news   1.000000  2.708695e-76   \n",
       "1  Yeah, don’t agree with his ways either, just p...   0.119203  8.807971e-01   \n",
       "2           96 years is amazing and she was still ok   0.047426  9.525741e-01   \n",
       "3  [Inflation eases as consumer prices rise 6.3% ...   0.000000  1.000000e+00   \n",
       "\n",
       "   correct_is_right  \n",
       "0             False  \n",
       "1              True  \n",
       "2              True  \n",
       "3              True  "
      ]
     },
     "metadata": {},
     "output_type": "display_data"
    },
    {
     "data": {
      "application/vnd.jupyter.widget-view+json": {
       "model_id": "b378efe2dfcd4c96a837dfb2b1571696",
       "version_major": 2,
       "version_minor": 0
      },
      "text/plain": [
       "train val:   0%|          | 0/10000 [00:00<?, ?it/s]"
      ]
     },
     "metadata": {},
     "output_type": "display_data"
    },
    {
     "data": {
      "application/vnd.jupyter.widget-view+json": {
       "model_id": "613df1e33eaa4d6081f35c1f7efb14e2",
       "version_major": 2,
       "version_minor": 0
      },
      "text/plain": [
       "test:   0%|          | 0/10000 [00:00<?, ?it/s]"
      ]
     },
     "metadata": {},
     "output_type": "display_data"
    },
    {
     "name": "stdout",
     "output_type": "stream",
     "text": [
      "train: {'accuracy': 0.51525} loss: 0.6797639208614826\n",
      "train val: {'accuracy': 0.6005} loss: 0.6931268272638321\n",
      "test: {'accuracy': 0.5004} loss: 0.6931544257879257\n",
      "epoch 56\n"
     ]
    },
    {
     "data": {
      "application/vnd.jupyter.widget-view+json": {
       "model_id": "14ba57a8b77f4d31bd654307da7dcf29",
       "version_major": 2,
       "version_minor": 0
      },
      "text/plain": [
       "train:   0%|          | 0/20000 [00:00<?, ?it/s]"
      ]
     },
     "metadata": {},
     "output_type": "display_data"
    },
    {
     "data": {
      "text/html": [
       "<div>\n",
       "<style scoped>\n",
       "    .dataframe tbody tr th:only-of-type {\n",
       "        vertical-align: middle;\n",
       "    }\n",
       "\n",
       "    .dataframe tbody tr th {\n",
       "        vertical-align: top;\n",
       "    }\n",
       "\n",
       "    .dataframe thead th {\n",
       "        text-align: right;\n",
       "    }\n",
       "</style>\n",
       "<table border=\"1\" class=\"dataframe\">\n",
       "  <thead>\n",
       "    <tr style=\"text-align: right;\">\n",
       "      <th></th>\n",
       "      <th>gen_name</th>\n",
       "      <th>parent_left</th>\n",
       "      <th>child_left</th>\n",
       "      <th>parent_right</th>\n",
       "      <th>child_right</th>\n",
       "      <th>sway_left</th>\n",
       "      <th>sway_right</th>\n",
       "      <th>correct_is_right</th>\n",
       "    </tr>\n",
       "  </thead>\n",
       "  <tbody>\n",
       "    <tr>\n",
       "      <th>0</th>\n",
       "      <td>*valid--valid;(sw)</td>\n",
       "      <td>I was fired from Gravity for advocating for le...</td>\n",
       "      <td>So the $70k was a bribe?</td>\n",
       "      <td>If it stops extremism and tribalism, I think i...</td>\n",
       "      <td>Twitter is already all ablaze with one side co...</td>\n",
       "      <td>2.061154e-09</td>\n",
       "      <td>1.000000</td>\n",
       "      <td>True</td>\n",
       "    </tr>\n",
       "    <tr>\n",
       "      <th>1</th>\n",
       "      <td>*valid--!copy;(sw)</td>\n",
       "      <td>I was expecting her to make 100, if only for t...</td>\n",
       "      <td>i said on her platinum jubilee that she would ...</td>\n",
       "      <td>i said on her platinum jubilee that she would ...</td>\n",
       "      <td>I was expecting her to make 100, if only for t...</td>\n",
       "      <td>8.807971e-01</td>\n",
       "      <td>0.119203</td>\n",
       "      <td>False</td>\n",
       "    </tr>\n",
       "    <tr>\n",
       "      <th>2</th>\n",
       "      <td>!valid--valid;(sw)</td>\n",
       "      <td>He is like gob bluth</td>\n",
       "      <td>People aren’t keen on Charles. The queen was b...</td>\n",
       "      <td>[Bill Barr says he's \"pretty tired of\" the Rig...</td>\n",
       "      <td>Does the right ever discuss governing? Is it a...</td>\n",
       "      <td>4.742587e-02</td>\n",
       "      <td>0.952574</td>\n",
       "      <td>True</td>\n",
       "    </tr>\n",
       "    <tr>\n",
       "      <th>3</th>\n",
       "      <td>*path--random;(mtl:20)</td>\n",
       "      <td>Her ladies in waiting do them</td>\n",
       "      <td>Yes, and I think it’s such a charming traditio...</td>\n",
       "      <td>Trump lost and he said it was fraud. Yeah sure</td>\n",
       "      <td>It could have a ripple effect politically.</td>\n",
       "      <td>9.525741e-01</td>\n",
       "      <td>0.047426</td>\n",
       "      <td>False</td>\n",
       "    </tr>\n",
       "  </tbody>\n",
       "</table>\n",
       "</div>"
      ],
      "text/plain": [
       "                 gen_name                                        parent_left  \\\n",
       "0      *valid--valid;(sw)  I was fired from Gravity for advocating for le...   \n",
       "1      *valid--!copy;(sw)  I was expecting her to make 100, if only for t...   \n",
       "2      !valid--valid;(sw)                               He is like gob bluth   \n",
       "3  *path--random;(mtl:20)                      Her ladies in waiting do them   \n",
       "\n",
       "                                          child_left  \\\n",
       "0                           So the $70k was a bribe?   \n",
       "1  i said on her platinum jubilee that she would ...   \n",
       "2  People aren’t keen on Charles. The queen was b...   \n",
       "3  Yes, and I think it’s such a charming traditio...   \n",
       "\n",
       "                                        parent_right  \\\n",
       "0  If it stops extremism and tribalism, I think i...   \n",
       "1  i said on her platinum jubilee that she would ...   \n",
       "2  [Bill Barr says he's \"pretty tired of\" the Rig...   \n",
       "3     Trump lost and he said it was fraud. Yeah sure   \n",
       "\n",
       "                                         child_right     sway_left  \\\n",
       "0  Twitter is already all ablaze with one side co...  2.061154e-09   \n",
       "1  I was expecting her to make 100, if only for t...  8.807971e-01   \n",
       "2  Does the right ever discuss governing? Is it a...  4.742587e-02   \n",
       "3         It could have a ripple effect politically.  9.525741e-01   \n",
       "\n",
       "   sway_right  correct_is_right  \n",
       "0    1.000000              True  \n",
       "1    0.119203             False  \n",
       "2    0.952574              True  \n",
       "3    0.047426             False  "
      ]
     },
     "metadata": {},
     "output_type": "display_data"
    },
    {
     "data": {
      "application/vnd.jupyter.widget-view+json": {
       "model_id": "95b7657f49894148bbc5828556ff14c8",
       "version_major": 2,
       "version_minor": 0
      },
      "text/plain": [
       "train val:   0%|          | 0/10000 [00:00<?, ?it/s]"
      ]
     },
     "metadata": {},
     "output_type": "display_data"
    },
    {
     "data": {
      "application/vnd.jupyter.widget-view+json": {
       "model_id": "c001cde1fdfd418d995a9965c9984573",
       "version_major": 2,
       "version_minor": 0
      },
      "text/plain": [
       "test:   0%|          | 0/10000 [00:00<?, ?it/s]"
      ]
     },
     "metadata": {},
     "output_type": "display_data"
    },
    {
     "name": "stdout",
     "output_type": "stream",
     "text": [
      "train: {'accuracy': 0.50615} loss: 0.6938982827186585\n",
      "train val: {'accuracy': 0.4677} loss: 0.6931472027301788\n",
      "test: {'accuracy': 0.484} loss: 0.6931471878767014\n",
      "epoch 57\n"
     ]
    },
    {
     "data": {
      "application/vnd.jupyter.widget-view+json": {
       "model_id": "70ea72448e164347b80c295cec7c5bc1",
       "version_major": 2,
       "version_minor": 0
      },
      "text/plain": [
       "train:   0%|          | 0/20000 [00:00<?, ?it/s]"
      ]
     },
     "metadata": {},
     "output_type": "display_data"
    },
    {
     "data": {
      "text/html": [
       "<div>\n",
       "<style scoped>\n",
       "    .dataframe tbody tr th:only-of-type {\n",
       "        vertical-align: middle;\n",
       "    }\n",
       "\n",
       "    .dataframe tbody tr th {\n",
       "        vertical-align: top;\n",
       "    }\n",
       "\n",
       "    .dataframe thead th {\n",
       "        text-align: right;\n",
       "    }\n",
       "</style>\n",
       "<table border=\"1\" class=\"dataframe\">\n",
       "  <thead>\n",
       "    <tr style=\"text-align: right;\">\n",
       "      <th></th>\n",
       "      <th>gen_name</th>\n",
       "      <th>parent_left</th>\n",
       "      <th>child_left</th>\n",
       "      <th>parent_right</th>\n",
       "      <th>child_right</th>\n",
       "      <th>sway_left</th>\n",
       "      <th>sway_right</th>\n",
       "      <th>correct_is_right</th>\n",
       "    </tr>\n",
       "  </thead>\n",
       "  <tbody>\n",
       "    <tr>\n",
       "      <th>0</th>\n",
       "      <td>valid--valid</td>\n",
       "      <td>[Democrats are getting comfortable clowning on...</td>\n",
       "      <td>We’ve been doing that shit for years. Where ha...</td>\n",
       "      <td>Can you give an example to explain?</td>\n",
       "      <td>there's a large number of conservatives who un...</td>\n",
       "      <td>0.832018</td>\n",
       "      <td>1.679816e-01</td>\n",
       "      <td>False</td>\n",
       "    </tr>\n",
       "    <tr>\n",
       "      <th>1</th>\n",
       "      <td>*path--!copy;(mtl:20)</td>\n",
       "      <td>1% of Californians drive electric cars Blackou...</td>\n",
       "      <td>They mostly don't want us to have cars at all....</td>\n",
       "      <td>They mostly don't want us to have cars at all....</td>\n",
       "      <td>1% of Californians drive electric cars Blackou...</td>\n",
       "      <td>1.000000</td>\n",
       "      <td>6.470235e-26</td>\n",
       "      <td>False</td>\n",
       "    </tr>\n",
       "    <tr>\n",
       "      <th>2</th>\n",
       "      <td>*valid--valid;(mtl:20)</td>\n",
       "      <td>Yeah kinda weird to mock a country for being l...</td>\n",
       "      <td>Oh boy wait till you learn about Cuba</td>\n",
       "      <td>Anyone else read it in Denzel Washington's voice?</td>\n",
       "      <td>I'm smooth, but not that smooth</td>\n",
       "      <td>0.000000</td>\n",
       "      <td>1.000000e+00</td>\n",
       "      <td>True</td>\n",
       "    </tr>\n",
       "    <tr>\n",
       "      <th>3</th>\n",
       "      <td>valid--valid;(sw)</td>\n",
       "      <td>[Half of Russia’s Air Traffic Control Staff Fu...</td>\n",
       "      <td>Russians, don't worry. Trains still running :)</td>\n",
       "      <td>[Marjorie Taylor Greene says student loan forg...</td>\n",
       "      <td>My wife and I paid for both of my children's c...</td>\n",
       "      <td>0.996316</td>\n",
       "      <td>3.684240e-03</td>\n",
       "      <td>False</td>\n",
       "    </tr>\n",
       "  </tbody>\n",
       "</table>\n",
       "</div>"
      ],
      "text/plain": [
       "                 gen_name                                        parent_left  \\\n",
       "0            valid--valid  [Democrats are getting comfortable clowning on...   \n",
       "1   *path--!copy;(mtl:20)  1% of Californians drive electric cars Blackou...   \n",
       "2  *valid--valid;(mtl:20)  Yeah kinda weird to mock a country for being l...   \n",
       "3       valid--valid;(sw)  [Half of Russia’s Air Traffic Control Staff Fu...   \n",
       "\n",
       "                                          child_left  \\\n",
       "0  We’ve been doing that shit for years. Where ha...   \n",
       "1  They mostly don't want us to have cars at all....   \n",
       "2              Oh boy wait till you learn about Cuba   \n",
       "3     Russians, don't worry. Trains still running :)   \n",
       "\n",
       "                                        parent_right  \\\n",
       "0                Can you give an example to explain?   \n",
       "1  They mostly don't want us to have cars at all....   \n",
       "2  Anyone else read it in Denzel Washington's voice?   \n",
       "3  [Marjorie Taylor Greene says student loan forg...   \n",
       "\n",
       "                                         child_right  sway_left    sway_right  \\\n",
       "0  there's a large number of conservatives who un...   0.832018  1.679816e-01   \n",
       "1  1% of Californians drive electric cars Blackou...   1.000000  6.470235e-26   \n",
       "2                    I'm smooth, but not that smooth   0.000000  1.000000e+00   \n",
       "3  My wife and I paid for both of my children's c...   0.996316  3.684240e-03   \n",
       "\n",
       "   correct_is_right  \n",
       "0             False  \n",
       "1             False  \n",
       "2              True  \n",
       "3             False  "
      ]
     },
     "metadata": {},
     "output_type": "display_data"
    },
    {
     "data": {
      "application/vnd.jupyter.widget-view+json": {
       "model_id": "4804640ab2c342af8ff8e63ffbf9f3bc",
       "version_major": 2,
       "version_minor": 0
      },
      "text/plain": [
       "train val:   0%|          | 0/10000 [00:00<?, ?it/s]"
      ]
     },
     "metadata": {},
     "output_type": "display_data"
    },
    {
     "data": {
      "application/vnd.jupyter.widget-view+json": {
       "model_id": "56ea6900a5f44c7dac2d0e13ed468d15",
       "version_major": 2,
       "version_minor": 0
      },
      "text/plain": [
       "test:   0%|          | 0/10000 [00:00<?, ?it/s]"
      ]
     },
     "metadata": {},
     "output_type": "display_data"
    },
    {
     "name": "stdout",
     "output_type": "stream",
     "text": [
      "train: {'accuracy': 0.50685} loss: 0.6936774028897286\n",
      "train val: {'accuracy': 0.6291} loss: 0.6931471581697464\n",
      "test: {'accuracy': 0.5112} loss: 0.6931471813440323\n",
      "epoch 58\n"
     ]
    },
    {
     "data": {
      "application/vnd.jupyter.widget-view+json": {
       "model_id": "a79c7a6817944661a62ff7038030381e",
       "version_major": 2,
       "version_minor": 0
      },
      "text/plain": [
       "train:   0%|          | 0/20000 [00:00<?, ?it/s]"
      ]
     },
     "metadata": {},
     "output_type": "display_data"
    },
    {
     "data": {
      "text/html": [
       "<div>\n",
       "<style scoped>\n",
       "    .dataframe tbody tr th:only-of-type {\n",
       "        vertical-align: middle;\n",
       "    }\n",
       "\n",
       "    .dataframe tbody tr th {\n",
       "        vertical-align: top;\n",
       "    }\n",
       "\n",
       "    .dataframe thead th {\n",
       "        text-align: right;\n",
       "    }\n",
       "</style>\n",
       "<table border=\"1\" class=\"dataframe\">\n",
       "  <thead>\n",
       "    <tr style=\"text-align: right;\">\n",
       "      <th></th>\n",
       "      <th>gen_name</th>\n",
       "      <th>parent_left</th>\n",
       "      <th>child_left</th>\n",
       "      <th>parent_right</th>\n",
       "      <th>child_right</th>\n",
       "      <th>sway_left</th>\n",
       "      <th>sway_right</th>\n",
       "      <th>correct_is_right</th>\n",
       "    </tr>\n",
       "  </thead>\n",
       "  <tbody>\n",
       "    <tr>\n",
       "      <th>0</th>\n",
       "      <td>valid--valid</td>\n",
       "      <td>[Black man left paralyzed after Texas police a...</td>\n",
       "      <td>I hope he sues them into oblivion.</td>\n",
       "      <td>The 5% over cost change died a long time ago u...</td>\n",
       "      <td>What's funny is Monoprice has damn near made B...</td>\n",
       "      <td>9.996646e-01</td>\n",
       "      <td>3.353501e-04</td>\n",
       "      <td>False</td>\n",
       "    </tr>\n",
       "    <tr>\n",
       "      <th>1</th>\n",
       "      <td>!copy--path;(sw)</td>\n",
       "      <td>And I will undoubtedly cringe at those compari...</td>\n",
       "      <td>They will undoubtedly try to draw comparisons ...</td>\n",
       "      <td>They will undoubtedly try to draw comparisons ...</td>\n",
       "      <td>And I will undoubtedly cringe at those compari...</td>\n",
       "      <td>3.059022e-07</td>\n",
       "      <td>9.999997e-01</td>\n",
       "      <td>True</td>\n",
       "    </tr>\n",
       "    <tr>\n",
       "      <th>2</th>\n",
       "      <td>*path--random;(mtl:20)</td>\n",
       "      <td>[Pretty Telling. This is all this administrati...</td>\n",
       "      <td>Didn’t address any of the real issues. The one...</td>\n",
       "      <td>excellent choice of words, fox.</td>\n",
       "      <td>I want to see this liberal math add up...</td>\n",
       "      <td>1.000000e+00</td>\n",
       "      <td>5.242886e-22</td>\n",
       "      <td>False</td>\n",
       "    </tr>\n",
       "    <tr>\n",
       "      <th>3</th>\n",
       "      <td>*valid--!valid;(sw)</td>\n",
       "      <td>[Cellphone video shows MDPD officers blocking ...</td>\n",
       "      <td>The US man, what a shitshow.</td>\n",
       "      <td>Yes. 125k is rich! Almost twice median *househ...</td>\n",
       "      <td>even if you put income limits on the forgiveness?</td>\n",
       "      <td>8.807971e-01</td>\n",
       "      <td>1.192029e-01</td>\n",
       "      <td>False</td>\n",
       "    </tr>\n",
       "  </tbody>\n",
       "</table>\n",
       "</div>"
      ],
      "text/plain": [
       "                 gen_name                                        parent_left  \\\n",
       "0            valid--valid  [Black man left paralyzed after Texas police a...   \n",
       "1        !copy--path;(sw)  And I will undoubtedly cringe at those compari...   \n",
       "2  *path--random;(mtl:20)  [Pretty Telling. This is all this administrati...   \n",
       "3     *valid--!valid;(sw)  [Cellphone video shows MDPD officers blocking ...   \n",
       "\n",
       "                                          child_left  \\\n",
       "0                 I hope he sues them into oblivion.   \n",
       "1  They will undoubtedly try to draw comparisons ...   \n",
       "2  Didn’t address any of the real issues. The one...   \n",
       "3                       The US man, what a shitshow.   \n",
       "\n",
       "                                        parent_right  \\\n",
       "0  The 5% over cost change died a long time ago u...   \n",
       "1  They will undoubtedly try to draw comparisons ...   \n",
       "2                    excellent choice of words, fox.   \n",
       "3  Yes. 125k is rich! Almost twice median *househ...   \n",
       "\n",
       "                                         child_right     sway_left  \\\n",
       "0  What's funny is Monoprice has damn near made B...  9.996646e-01   \n",
       "1  And I will undoubtedly cringe at those compari...  3.059022e-07   \n",
       "2          I want to see this liberal math add up...  1.000000e+00   \n",
       "3  even if you put income limits on the forgiveness?  8.807971e-01   \n",
       "\n",
       "     sway_right  correct_is_right  \n",
       "0  3.353501e-04             False  \n",
       "1  9.999997e-01              True  \n",
       "2  5.242886e-22             False  \n",
       "3  1.192029e-01             False  "
      ]
     },
     "metadata": {},
     "output_type": "display_data"
    },
    {
     "data": {
      "application/vnd.jupyter.widget-view+json": {
       "model_id": "38188997e5d54aa4b15d4a4d150da2a4",
       "version_major": 2,
       "version_minor": 0
      },
      "text/plain": [
       "train val:   0%|          | 0/10000 [00:00<?, ?it/s]"
      ]
     },
     "metadata": {},
     "output_type": "display_data"
    },
    {
     "data": {
      "application/vnd.jupyter.widget-view+json": {
       "model_id": "52342d31919749e8ab100aed8d79fc51",
       "version_major": 2,
       "version_minor": 0
      },
      "text/plain": [
       "test:   0%|          | 0/10000 [00:00<?, ?it/s]"
      ]
     },
     "metadata": {},
     "output_type": "display_data"
    },
    {
     "name": "stdout",
     "output_type": "stream",
     "text": [
      "train: {'accuracy': 0.49665} loss: 0.693919225203991\n",
      "train val: {'accuracy': 0.6294} loss: 0.6931471362352372\n",
      "test: {'accuracy': 0.5097} loss: 0.6931471797466278\n",
      "epoch 59\n"
     ]
    },
    {
     "data": {
      "application/vnd.jupyter.widget-view+json": {
       "model_id": "b74915439a4046a7864df47a6bd95cdc",
       "version_major": 2,
       "version_minor": 0
      },
      "text/plain": [
       "train:   0%|          | 0/20000 [00:00<?, ?it/s]"
      ]
     },
     "metadata": {},
     "output_type": "display_data"
    },
    {
     "data": {
      "text/html": [
       "<div>\n",
       "<style scoped>\n",
       "    .dataframe tbody tr th:only-of-type {\n",
       "        vertical-align: middle;\n",
       "    }\n",
       "\n",
       "    .dataframe tbody tr th {\n",
       "        vertical-align: top;\n",
       "    }\n",
       "\n",
       "    .dataframe thead th {\n",
       "        text-align: right;\n",
       "    }\n",
       "</style>\n",
       "<table border=\"1\" class=\"dataframe\">\n",
       "  <thead>\n",
       "    <tr style=\"text-align: right;\">\n",
       "      <th></th>\n",
       "      <th>gen_name</th>\n",
       "      <th>parent_left</th>\n",
       "      <th>child_left</th>\n",
       "      <th>parent_right</th>\n",
       "      <th>child_right</th>\n",
       "      <th>sway_left</th>\n",
       "      <th>sway_right</th>\n",
       "      <th>correct_is_right</th>\n",
       "    </tr>\n",
       "  </thead>\n",
       "  <tbody>\n",
       "    <tr>\n",
       "      <th>0</th>\n",
       "      <td>*path--random;(sw)</td>\n",
       "      <td>t/news</td>\n",
       "      <td>[Daughter of Russian who was inspirational for...</td>\n",
       "      <td>!Remindme 2 years</td>\n",
       "      <td>Day late and a dollar sort there honey. Nice y...</td>\n",
       "      <td>1.000000</td>\n",
       "      <td>0.000000</td>\n",
       "      <td>False</td>\n",
       "    </tr>\n",
       "    <tr>\n",
       "      <th>1</th>\n",
       "      <td>random--valid;(sw)</td>\n",
       "      <td>You mean he didn’t use the “feared for his lif...</td>\n",
       "      <td>\\*After the couple removed any indications tha...</td>\n",
       "      <td>Serious question: Why did the state allow them...</td>\n",
       "      <td>Even more serious question. Who the fuck ever ...</td>\n",
       "      <td>0.017986</td>\n",
       "      <td>0.982014</td>\n",
       "      <td>True</td>\n",
       "    </tr>\n",
       "    <tr>\n",
       "      <th>2</th>\n",
       "      <td>!valid--valid;(mtl:20)</td>\n",
       "      <td>You know that the FBI is investigating him too...</td>\n",
       "      <td>Congressional investigations are a joke. They’...</td>\n",
       "      <td>Funny how some people thought it was US states...</td>\n",
       "      <td>Tells you what kind of bubble they live in. Th...</td>\n",
       "      <td>0.401312</td>\n",
       "      <td>0.598688</td>\n",
       "      <td>True</td>\n",
       "    </tr>\n",
       "    <tr>\n",
       "      <th>3</th>\n",
       "      <td>valid--valid;(mtl:20)</td>\n",
       "      <td>The same secret service that has historically ...</td>\n",
       "      <td>wheels up, rings off</td>\n",
       "      <td>&gt;and there is a shortage of qualified workers....</td>\n",
       "      <td>Except because late stage capitalism, they'd r...</td>\n",
       "      <td>0.268941</td>\n",
       "      <td>0.731059</td>\n",
       "      <td>True</td>\n",
       "    </tr>\n",
       "  </tbody>\n",
       "</table>\n",
       "</div>"
      ],
      "text/plain": [
       "                 gen_name                                        parent_left  \\\n",
       "0      *path--random;(sw)                                             t/news   \n",
       "1      random--valid;(sw)  You mean he didn’t use the “feared for his lif...   \n",
       "2  !valid--valid;(mtl:20)  You know that the FBI is investigating him too...   \n",
       "3   valid--valid;(mtl:20)  The same secret service that has historically ...   \n",
       "\n",
       "                                          child_left  \\\n",
       "0  [Daughter of Russian who was inspirational for...   \n",
       "1  \\*After the couple removed any indications tha...   \n",
       "2  Congressional investigations are a joke. They’...   \n",
       "3                               wheels up, rings off   \n",
       "\n",
       "                                        parent_right  \\\n",
       "0                                  !Remindme 2 years   \n",
       "1  Serious question: Why did the state allow them...   \n",
       "2  Funny how some people thought it was US states...   \n",
       "3  >and there is a shortage of qualified workers....   \n",
       "\n",
       "                                         child_right  sway_left  sway_right  \\\n",
       "0  Day late and a dollar sort there honey. Nice y...   1.000000    0.000000   \n",
       "1  Even more serious question. Who the fuck ever ...   0.017986    0.982014   \n",
       "2  Tells you what kind of bubble they live in. Th...   0.401312    0.598688   \n",
       "3  Except because late stage capitalism, they'd r...   0.268941    0.731059   \n",
       "\n",
       "   correct_is_right  \n",
       "0             False  \n",
       "1              True  \n",
       "2              True  \n",
       "3              True  "
      ]
     },
     "metadata": {},
     "output_type": "display_data"
    },
    {
     "data": {
      "application/vnd.jupyter.widget-view+json": {
       "model_id": "2d0c034fcbee48fb90250b19b140bb31",
       "version_major": 2,
       "version_minor": 0
      },
      "text/plain": [
       "train val:   0%|          | 0/10000 [00:00<?, ?it/s]"
      ]
     },
     "metadata": {},
     "output_type": "display_data"
    },
    {
     "data": {
      "application/vnd.jupyter.widget-view+json": {
       "model_id": "c1b82da4ffd0433499dee4d21ab64d2d",
       "version_major": 2,
       "version_minor": 0
      },
      "text/plain": [
       "test:   0%|          | 0/10000 [00:00<?, ?it/s]"
      ]
     },
     "metadata": {},
     "output_type": "display_data"
    },
    {
     "name": "stdout",
     "output_type": "stream",
     "text": [
      "train: {'accuracy': 0.4991} loss: 0.6935491401314735\n",
      "train val: {'accuracy': 0.6185} loss: 0.6931471722841263\n",
      "test: {'accuracy': 0.5134} loss: 0.6931471843957902\n",
      "epoch 60\n"
     ]
    },
    {
     "data": {
      "application/vnd.jupyter.widget-view+json": {
       "model_id": "8e592ba89b4e49e4a0b20c1219d1c2db",
       "version_major": 2,
       "version_minor": 0
      },
      "text/plain": [
       "train:   0%|          | 0/20000 [00:00<?, ?it/s]"
      ]
     },
     "metadata": {},
     "output_type": "display_data"
    },
    {
     "data": {
      "text/html": [
       "<div>\n",
       "<style scoped>\n",
       "    .dataframe tbody tr th:only-of-type {\n",
       "        vertical-align: middle;\n",
       "    }\n",
       "\n",
       "    .dataframe tbody tr th {\n",
       "        vertical-align: top;\n",
       "    }\n",
       "\n",
       "    .dataframe thead th {\n",
       "        text-align: right;\n",
       "    }\n",
       "</style>\n",
       "<table border=\"1\" class=\"dataframe\">\n",
       "  <thead>\n",
       "    <tr style=\"text-align: right;\">\n",
       "      <th></th>\n",
       "      <th>gen_name</th>\n",
       "      <th>parent_left</th>\n",
       "      <th>child_left</th>\n",
       "      <th>parent_right</th>\n",
       "      <th>child_right</th>\n",
       "      <th>sway_left</th>\n",
       "      <th>sway_right</th>\n",
       "      <th>correct_is_right</th>\n",
       "    </tr>\n",
       "  </thead>\n",
       "  <tbody>\n",
       "    <tr>\n",
       "      <th>0</th>\n",
       "      <td>*valid--valid;(mtl:20)</td>\n",
       "      <td>That's because there's literally nothing else....</td>\n",
       "      <td>Trump had a health care plan coming out soon f...</td>\n",
       "      <td>Why give Oz home court advantage?</td>\n",
       "      <td>Don’t believe that for a second. Oz isn’t runn...</td>\n",
       "      <td>0.0</td>\n",
       "      <td>1.000000e+00</td>\n",
       "      <td>True</td>\n",
       "    </tr>\n",
       "    <tr>\n",
       "      <th>1</th>\n",
       "      <td>*path--random;(sw)</td>\n",
       "      <td>Wait until the IRS goes after the PPP loan fra...</td>\n",
       "      <td>Yea, really. $286M is just the tip of the iceb...</td>\n",
       "      <td>https://archive.ph/WqOio#selection-491.0-491.50</td>\n",
       "      <td>The biggest ones that come to mind are both in...</td>\n",
       "      <td>1.0</td>\n",
       "      <td>2.543666e-13</td>\n",
       "      <td>False</td>\n",
       "    </tr>\n",
       "    <tr>\n",
       "      <th>2</th>\n",
       "      <td>*valid--valid;(mtl:20)</td>\n",
       "      <td>This person is cherry picking examples to make...</td>\n",
       "      <td>You can find issues with everyone, even your o...</td>\n",
       "      <td>Yeah donkeys are so sweet and fun, very loyal....</td>\n",
       "      <td>If it makes you feel better, donkey meat trade...</td>\n",
       "      <td>0.0</td>\n",
       "      <td>1.000000e+00</td>\n",
       "      <td>True</td>\n",
       "    </tr>\n",
       "    <tr>\n",
       "      <th>3</th>\n",
       "      <td>*path--random;(sw)</td>\n",
       "      <td>[Queen Elizabeth II, has died](https://www.bbc...</td>\n",
       "      <td>This is one of those things you know is coming...</td>\n",
       "      <td>Sounds like Peggy's Cove where I live in Nova ...</td>\n",
       "      <td>Yep. The price of one metric ton of wheat is 2...</td>\n",
       "      <td>1.0</td>\n",
       "      <td>0.000000e+00</td>\n",
       "      <td>False</td>\n",
       "    </tr>\n",
       "  </tbody>\n",
       "</table>\n",
       "</div>"
      ],
      "text/plain": [
       "                 gen_name                                        parent_left  \\\n",
       "0  *valid--valid;(mtl:20)  That's because there's literally nothing else....   \n",
       "1      *path--random;(sw)  Wait until the IRS goes after the PPP loan fra...   \n",
       "2  *valid--valid;(mtl:20)  This person is cherry picking examples to make...   \n",
       "3      *path--random;(sw)  [Queen Elizabeth II, has died](https://www.bbc...   \n",
       "\n",
       "                                          child_left  \\\n",
       "0  Trump had a health care plan coming out soon f...   \n",
       "1  Yea, really. $286M is just the tip of the iceb...   \n",
       "2  You can find issues with everyone, even your o...   \n",
       "3  This is one of those things you know is coming...   \n",
       "\n",
       "                                        parent_right  \\\n",
       "0                  Why give Oz home court advantage?   \n",
       "1    https://archive.ph/WqOio#selection-491.0-491.50   \n",
       "2  Yeah donkeys are so sweet and fun, very loyal....   \n",
       "3  Sounds like Peggy's Cove where I live in Nova ...   \n",
       "\n",
       "                                         child_right  sway_left    sway_right  \\\n",
       "0  Don’t believe that for a second. Oz isn’t runn...        0.0  1.000000e+00   \n",
       "1  The biggest ones that come to mind are both in...        1.0  2.543666e-13   \n",
       "2  If it makes you feel better, donkey meat trade...        0.0  1.000000e+00   \n",
       "3  Yep. The price of one metric ton of wheat is 2...        1.0  0.000000e+00   \n",
       "\n",
       "   correct_is_right  \n",
       "0              True  \n",
       "1             False  \n",
       "2              True  \n",
       "3             False  "
      ]
     },
     "metadata": {},
     "output_type": "display_data"
    },
    {
     "data": {
      "application/vnd.jupyter.widget-view+json": {
       "model_id": "120c07784e7b42dd901d70a2733f91e8",
       "version_major": 2,
       "version_minor": 0
      },
      "text/plain": [
       "train val:   0%|          | 0/10000 [00:00<?, ?it/s]"
      ]
     },
     "metadata": {},
     "output_type": "display_data"
    },
    {
     "data": {
      "application/vnd.jupyter.widget-view+json": {
       "model_id": "55c65632298e4908abd8a187dcf9e930",
       "version_major": 2,
       "version_minor": 0
      },
      "text/plain": [
       "test:   0%|          | 0/10000 [00:00<?, ?it/s]"
      ]
     },
     "metadata": {},
     "output_type": "display_data"
    },
    {
     "name": "stdout",
     "output_type": "stream",
     "text": [
      "train: {'accuracy': 0.50185} loss: 0.6934731743335724\n",
      "train val: {'accuracy': 0.5783} loss: 0.6931471813201904\n",
      "test: {'accuracy': 0.5085} loss: 0.6931471837043762\n",
      "epoch 61\n"
     ]
    },
    {
     "data": {
      "application/vnd.jupyter.widget-view+json": {
       "model_id": "dbd1e1b3acf54dbbade87f8dbce38286",
       "version_major": 2,
       "version_minor": 0
      },
      "text/plain": [
       "train:   0%|          | 0/20000 [00:00<?, ?it/s]"
      ]
     },
     "metadata": {},
     "output_type": "display_data"
    },
    {
     "data": {
      "text/html": [
       "<div>\n",
       "<style scoped>\n",
       "    .dataframe tbody tr th:only-of-type {\n",
       "        vertical-align: middle;\n",
       "    }\n",
       "\n",
       "    .dataframe tbody tr th {\n",
       "        vertical-align: top;\n",
       "    }\n",
       "\n",
       "    .dataframe thead th {\n",
       "        text-align: right;\n",
       "    }\n",
       "</style>\n",
       "<table border=\"1\" class=\"dataframe\">\n",
       "  <thead>\n",
       "    <tr style=\"text-align: right;\">\n",
       "      <th></th>\n",
       "      <th>gen_name</th>\n",
       "      <th>parent_left</th>\n",
       "      <th>child_left</th>\n",
       "      <th>parent_right</th>\n",
       "      <th>child_right</th>\n",
       "      <th>sway_left</th>\n",
       "      <th>sway_right</th>\n",
       "      <th>correct_is_right</th>\n",
       "    </tr>\n",
       "  </thead>\n",
       "  <tbody>\n",
       "    <tr>\n",
       "      <th>0</th>\n",
       "      <td>valid--valid;(sw)</td>\n",
       "      <td>Yep, Law Enforcement Officers don't even rank ...</td>\n",
       "      <td>Damn why do pilots have such high mortality?</td>\n",
       "      <td>Do you truly want to get into the history of w...</td>\n",
       "      <td>And the clip of her following the parkland sho...</td>\n",
       "      <td>1.0</td>\n",
       "      <td>2.227364e-39</td>\n",
       "      <td>False</td>\n",
       "    </tr>\n",
       "    <tr>\n",
       "      <th>1</th>\n",
       "      <td>*valid--valid;(mtl:20)</td>\n",
       "      <td>The milita is included. It is 100% about defen...</td>\n",
       "      <td>The militia is mentioned specifically as the r...</td>\n",
       "      <td>[Russia hit railway station in Dnipropetrovsk ...</td>\n",
       "      <td>Russia is slowly but surely dying and they don...</td>\n",
       "      <td>0.0</td>\n",
       "      <td>1.000000e+00</td>\n",
       "      <td>True</td>\n",
       "    </tr>\n",
       "    <tr>\n",
       "      <th>2</th>\n",
       "      <td>*valid--valid;(sw)</td>\n",
       "      <td>The bomb was in his car, and at the last minut...</td>\n",
       "      <td>Either a tragic twist of fate, or he had some ...</td>\n",
       "      <td>He’s like a monkey with a gun!</td>\n",
       "      <td>Is this a Better Call Saul reference?</td>\n",
       "      <td>1.0</td>\n",
       "      <td>2.959969e-149</td>\n",
       "      <td>False</td>\n",
       "    </tr>\n",
       "    <tr>\n",
       "      <th>3</th>\n",
       "      <td>valid--valid</td>\n",
       "      <td>Interesting link. Looks like he had a bunch of...</td>\n",
       "      <td>Worse than that I think. He visited the resort...</td>\n",
       "      <td>&gt;&gt;costing them money You mean the taxpayers, r...</td>\n",
       "      <td>Well technically, everything is paid by the ta...</td>\n",
       "      <td>1.0</td>\n",
       "      <td>3.418239e-166</td>\n",
       "      <td>False</td>\n",
       "    </tr>\n",
       "  </tbody>\n",
       "</table>\n",
       "</div>"
      ],
      "text/plain": [
       "                 gen_name                                        parent_left  \\\n",
       "0       valid--valid;(sw)  Yep, Law Enforcement Officers don't even rank ...   \n",
       "1  *valid--valid;(mtl:20)  The milita is included. It is 100% about defen...   \n",
       "2      *valid--valid;(sw)  The bomb was in his car, and at the last minut...   \n",
       "3            valid--valid  Interesting link. Looks like he had a bunch of...   \n",
       "\n",
       "                                          child_left  \\\n",
       "0       Damn why do pilots have such high mortality?   \n",
       "1  The militia is mentioned specifically as the r...   \n",
       "2  Either a tragic twist of fate, or he had some ...   \n",
       "3  Worse than that I think. He visited the resort...   \n",
       "\n",
       "                                        parent_right  \\\n",
       "0  Do you truly want to get into the history of w...   \n",
       "1  [Russia hit railway station in Dnipropetrovsk ...   \n",
       "2                     He’s like a monkey with a gun!   \n",
       "3  >>costing them money You mean the taxpayers, r...   \n",
       "\n",
       "                                         child_right  sway_left  \\\n",
       "0  And the clip of her following the parkland sho...        1.0   \n",
       "1  Russia is slowly but surely dying and they don...        0.0   \n",
       "2              Is this a Better Call Saul reference?        1.0   \n",
       "3  Well technically, everything is paid by the ta...        1.0   \n",
       "\n",
       "      sway_right  correct_is_right  \n",
       "0   2.227364e-39             False  \n",
       "1   1.000000e+00              True  \n",
       "2  2.959969e-149             False  \n",
       "3  3.418239e-166             False  "
      ]
     },
     "metadata": {},
     "output_type": "display_data"
    },
    {
     "data": {
      "application/vnd.jupyter.widget-view+json": {
       "model_id": "3da9853220694b62bc771b4bb93fea5e",
       "version_major": 2,
       "version_minor": 0
      },
      "text/plain": [
       "train val:   0%|          | 0/10000 [00:00<?, ?it/s]"
      ]
     },
     "metadata": {},
     "output_type": "display_data"
    },
    {
     "data": {
      "application/vnd.jupyter.widget-view+json": {
       "model_id": "c5ad40b6450c477a8bc6b88d64611dbe",
       "version_major": 2,
       "version_minor": 0
      },
      "text/plain": [
       "test:   0%|          | 0/10000 [00:00<?, ?it/s]"
      ]
     },
     "metadata": {},
     "output_type": "display_data"
    },
    {
     "name": "stdout",
     "output_type": "stream",
     "text": [
      "train: {'accuracy': 0.50535} loss: 0.6932617626070976\n",
      "train val: {'accuracy': 0.5411} loss: 0.6931471848249435\n",
      "test: {'accuracy': 0.5019} loss: 0.6931471905946731\n",
      "epoch 62\n"
     ]
    },
    {
     "data": {
      "application/vnd.jupyter.widget-view+json": {
       "model_id": "b832b85db80745fcaa2bf69c3881289a",
       "version_major": 2,
       "version_minor": 0
      },
      "text/plain": [
       "train:   0%|          | 0/20000 [00:00<?, ?it/s]"
      ]
     },
     "metadata": {},
     "output_type": "display_data"
    },
    {
     "data": {
      "text/html": [
       "<div>\n",
       "<style scoped>\n",
       "    .dataframe tbody tr th:only-of-type {\n",
       "        vertical-align: middle;\n",
       "    }\n",
       "\n",
       "    .dataframe tbody tr th {\n",
       "        vertical-align: top;\n",
       "    }\n",
       "\n",
       "    .dataframe thead th {\n",
       "        text-align: right;\n",
       "    }\n",
       "</style>\n",
       "<table border=\"1\" class=\"dataframe\">\n",
       "  <thead>\n",
       "    <tr style=\"text-align: right;\">\n",
       "      <th></th>\n",
       "      <th>gen_name</th>\n",
       "      <th>parent_left</th>\n",
       "      <th>child_left</th>\n",
       "      <th>parent_right</th>\n",
       "      <th>child_right</th>\n",
       "      <th>sway_left</th>\n",
       "      <th>sway_right</th>\n",
       "      <th>correct_is_right</th>\n",
       "    </tr>\n",
       "  </thead>\n",
       "  <tbody>\n",
       "    <tr>\n",
       "      <th>0</th>\n",
       "      <td>random--valid;(sw)</td>\n",
       "      <td>Shh, the cryptobros need to hear \"BTC good, me...</td>\n",
       "      <td>Can you provide the link to this document that...</td>\n",
       "      <td>He probably called Fire Rescue intentionally s...</td>\n",
       "      <td>Well in Washington, Idaho, Oregon and Californ...</td>\n",
       "      <td>0.000335</td>\n",
       "      <td>0.999665</td>\n",
       "      <td>True</td>\n",
       "    </tr>\n",
       "    <tr>\n",
       "      <th>1</th>\n",
       "      <td>*valid--valid;(sw)</td>\n",
       "      <td>Until NOW (well, 2 years ago) https://www.yout...</td>\n",
       "      <td>I don't know what dumbasses downvoted this, bu...</td>\n",
       "      <td>[/r/WorldNews Live Thread: Russian Invasion of...</td>\n",
       "      <td>Happy Independence Day to Ukraine!</td>\n",
       "      <td>0.000000</td>\n",
       "      <td>1.000000</td>\n",
       "      <td>True</td>\n",
       "    </tr>\n",
       "    <tr>\n",
       "      <th>2</th>\n",
       "      <td>random--path;(mtl:20)</td>\n",
       "      <td>I don’t want donations to any political party.</td>\n",
       "      <td>Coke is out of your system in 24 hours lol</td>\n",
       "      <td>It’s so strange to think she’s been queen so l...</td>\n",
       "      <td>First Betty White and now this.</td>\n",
       "      <td>0.002473</td>\n",
       "      <td>0.997527</td>\n",
       "      <td>True</td>\n",
       "    </tr>\n",
       "    <tr>\n",
       "      <th>3</th>\n",
       "      <td>*valid--valid;(sw)</td>\n",
       "      <td>[Material on foreign nation’s nuclear capabili...</td>\n",
       "      <td>Can we extradite him to the foreign nation?</td>\n",
       "      <td>I do not think that can happen in the sentenci...</td>\n",
       "      <td>Danced around that phrase every Friday for thr...</td>\n",
       "      <td>0.000000</td>\n",
       "      <td>1.000000</td>\n",
       "      <td>True</td>\n",
       "    </tr>\n",
       "  </tbody>\n",
       "</table>\n",
       "</div>"
      ],
      "text/plain": [
       "                gen_name                                        parent_left  \\\n",
       "0     random--valid;(sw)  Shh, the cryptobros need to hear \"BTC good, me...   \n",
       "1     *valid--valid;(sw)  Until NOW (well, 2 years ago) https://www.yout...   \n",
       "2  random--path;(mtl:20)     I don’t want donations to any political party.   \n",
       "3     *valid--valid;(sw)  [Material on foreign nation’s nuclear capabili...   \n",
       "\n",
       "                                          child_left  \\\n",
       "0  Can you provide the link to this document that...   \n",
       "1  I don't know what dumbasses downvoted this, bu...   \n",
       "2         Coke is out of your system in 24 hours lol   \n",
       "3        Can we extradite him to the foreign nation?   \n",
       "\n",
       "                                        parent_right  \\\n",
       "0  He probably called Fire Rescue intentionally s...   \n",
       "1  [/r/WorldNews Live Thread: Russian Invasion of...   \n",
       "2  It’s so strange to think she’s been queen so l...   \n",
       "3  I do not think that can happen in the sentenci...   \n",
       "\n",
       "                                         child_right  sway_left  sway_right  \\\n",
       "0  Well in Washington, Idaho, Oregon and Californ...   0.000335    0.999665   \n",
       "1                 Happy Independence Day to Ukraine!   0.000000    1.000000   \n",
       "2                    First Betty White and now this.   0.002473    0.997527   \n",
       "3  Danced around that phrase every Friday for thr...   0.000000    1.000000   \n",
       "\n",
       "   correct_is_right  \n",
       "0              True  \n",
       "1              True  \n",
       "2              True  \n",
       "3              True  "
      ]
     },
     "metadata": {},
     "output_type": "display_data"
    },
    {
     "data": {
      "application/vnd.jupyter.widget-view+json": {
       "model_id": "c73741eb96b9456eaa480b68c022e3f5",
       "version_major": 2,
       "version_minor": 0
      },
      "text/plain": [
       "train val:   0%|          | 0/10000 [00:00<?, ?it/s]"
      ]
     },
     "metadata": {},
     "output_type": "display_data"
    },
    {
     "data": {
      "application/vnd.jupyter.widget-view+json": {
       "model_id": "a74c89bb5ac0485f908621da48977f42",
       "version_major": 2,
       "version_minor": 0
      },
      "text/plain": [
       "test:   0%|          | 0/10000 [00:00<?, ?it/s]"
      ]
     },
     "metadata": {},
     "output_type": "display_data"
    },
    {
     "name": "stdout",
     "output_type": "stream",
     "text": [
      "train: {'accuracy': 0.49955} loss: 0.693285082924366\n",
      "train val: {'accuracy': 0.5522} loss: 0.6931465579748154\n",
      "test: {'accuracy': 0.4701} loss: 0.6931469758272171\n",
      "epoch 63\n"
     ]
    },
    {
     "data": {
      "application/vnd.jupyter.widget-view+json": {
       "model_id": "ed4ee41852774a01b78c1b18d9365cd1",
       "version_major": 2,
       "version_minor": 0
      },
      "text/plain": [
       "train:   0%|          | 0/20000 [00:00<?, ?it/s]"
      ]
     },
     "metadata": {},
     "output_type": "display_data"
    },
    {
     "data": {
      "text/html": [
       "<div>\n",
       "<style scoped>\n",
       "    .dataframe tbody tr th:only-of-type {\n",
       "        vertical-align: middle;\n",
       "    }\n",
       "\n",
       "    .dataframe tbody tr th {\n",
       "        vertical-align: top;\n",
       "    }\n",
       "\n",
       "    .dataframe thead th {\n",
       "        text-align: right;\n",
       "    }\n",
       "</style>\n",
       "<table border=\"1\" class=\"dataframe\">\n",
       "  <thead>\n",
       "    <tr style=\"text-align: right;\">\n",
       "      <th></th>\n",
       "      <th>gen_name</th>\n",
       "      <th>parent_left</th>\n",
       "      <th>child_left</th>\n",
       "      <th>parent_right</th>\n",
       "      <th>child_right</th>\n",
       "      <th>sway_left</th>\n",
       "      <th>sway_right</th>\n",
       "      <th>correct_is_right</th>\n",
       "    </tr>\n",
       "  </thead>\n",
       "  <tbody>\n",
       "    <tr>\n",
       "      <th>0</th>\n",
       "      <td>valid--valid</td>\n",
       "      <td>When I go on r/Europe, I don't get the sense t...</td>\n",
       "      <td>For anyone interested, there is an incredible ...</td>\n",
       "      <td>Fuck that. Lawyer lawyer lawyer. Get a lawyer....</td>\n",
       "      <td>UK graduate salaries are significantly lower t...</td>\n",
       "      <td>0.999955</td>\n",
       "      <td>4.539787e-05</td>\n",
       "      <td>False</td>\n",
       "    </tr>\n",
       "    <tr>\n",
       "      <th>1</th>\n",
       "      <td>valid--valid;(mtl:20)</td>\n",
       "      <td>Indicators are starting to turn that way. Ther...</td>\n",
       "      <td>Is it enough for the dems to keep the house?</td>\n",
       "      <td>[Ted Cruz says there's a 'real risk' that Bide...</td>\n",
       "      <td>Because this is all these fuckers can ever thi...</td>\n",
       "      <td>1.000000</td>\n",
       "      <td>2.061154e-09</td>\n",
       "      <td>False</td>\n",
       "    </tr>\n",
       "    <tr>\n",
       "      <th>2</th>\n",
       "      <td>*valid--!copy;(sw)</td>\n",
       "      <td>Yet 75 million Amerians voted for him? That's ...</td>\n",
       "      <td>By giving them an out. A way to save face is i...</td>\n",
       "      <td>By giving them an out. A way to save face is i...</td>\n",
       "      <td>Yet 75 million Amerians voted for him? That's ...</td>\n",
       "      <td>1.000000</td>\n",
       "      <td>4.139938e-08</td>\n",
       "      <td>False</td>\n",
       "    </tr>\n",
       "    <tr>\n",
       "      <th>3</th>\n",
       "      <td>*valid--valid;(sw)</td>\n",
       "      <td>[US Treasury says request for Hunter Biden rec...</td>\n",
       "      <td>Imagine that?!?!?</td>\n",
       "      <td>[Bill Barr slams Trump, accuses former boss of...</td>\n",
       "      <td>Get. Fucked…</td>\n",
       "      <td>0.268941</td>\n",
       "      <td>7.310586e-01</td>\n",
       "      <td>True</td>\n",
       "    </tr>\n",
       "  </tbody>\n",
       "</table>\n",
       "</div>"
      ],
      "text/plain": [
       "                gen_name                                        parent_left  \\\n",
       "0           valid--valid  When I go on r/Europe, I don't get the sense t...   \n",
       "1  valid--valid;(mtl:20)  Indicators are starting to turn that way. Ther...   \n",
       "2     *valid--!copy;(sw)  Yet 75 million Amerians voted for him? That's ...   \n",
       "3     *valid--valid;(sw)  [US Treasury says request for Hunter Biden rec...   \n",
       "\n",
       "                                          child_left  \\\n",
       "0  For anyone interested, there is an incredible ...   \n",
       "1       Is it enough for the dems to keep the house?   \n",
       "2  By giving them an out. A way to save face is i...   \n",
       "3                                  Imagine that?!?!?   \n",
       "\n",
       "                                        parent_right  \\\n",
       "0  Fuck that. Lawyer lawyer lawyer. Get a lawyer....   \n",
       "1  [Ted Cruz says there's a 'real risk' that Bide...   \n",
       "2  By giving them an out. A way to save face is i...   \n",
       "3  [Bill Barr slams Trump, accuses former boss of...   \n",
       "\n",
       "                                         child_right  sway_left    sway_right  \\\n",
       "0  UK graduate salaries are significantly lower t...   0.999955  4.539787e-05   \n",
       "1  Because this is all these fuckers can ever thi...   1.000000  2.061154e-09   \n",
       "2  Yet 75 million Amerians voted for him? That's ...   1.000000  4.139938e-08   \n",
       "3                                       Get. Fucked…   0.268941  7.310586e-01   \n",
       "\n",
       "   correct_is_right  \n",
       "0             False  \n",
       "1             False  \n",
       "2             False  \n",
       "3              True  "
      ]
     },
     "metadata": {},
     "output_type": "display_data"
    },
    {
     "data": {
      "application/vnd.jupyter.widget-view+json": {
       "model_id": "0c498d7c953a4b4ca444dc934d0b25ac",
       "version_major": 2,
       "version_minor": 0
      },
      "text/plain": [
       "train val:   0%|          | 0/10000 [00:00<?, ?it/s]"
      ]
     },
     "metadata": {},
     "output_type": "display_data"
    },
    {
     "data": {
      "application/vnd.jupyter.widget-view+json": {
       "model_id": "783244a8dcfc41fc84ae58b8b11fab72",
       "version_major": 2,
       "version_minor": 0
      },
      "text/plain": [
       "test:   0%|          | 0/10000 [00:00<?, ?it/s]"
      ]
     },
     "metadata": {},
     "output_type": "display_data"
    },
    {
     "name": "stdout",
     "output_type": "stream",
     "text": [
      "train: {'accuracy': 0.5274} loss: 0.6690344750583171\n",
      "train val: {'accuracy': 0.5522} loss: 0.6844821362137794\n",
      "test: {'accuracy': 0.548} loss: 0.6907144633293152\n",
      "epoch 64\n"
     ]
    },
    {
     "data": {
      "application/vnd.jupyter.widget-view+json": {
       "model_id": "828ccbaac6334644b8298f6be608f82b",
       "version_major": 2,
       "version_minor": 0
      },
      "text/plain": [
       "train:   0%|          | 0/20000 [00:00<?, ?it/s]"
      ]
     },
     "metadata": {},
     "output_type": "display_data"
    },
    {
     "data": {
      "text/html": [
       "<div>\n",
       "<style scoped>\n",
       "    .dataframe tbody tr th:only-of-type {\n",
       "        vertical-align: middle;\n",
       "    }\n",
       "\n",
       "    .dataframe tbody tr th {\n",
       "        vertical-align: top;\n",
       "    }\n",
       "\n",
       "    .dataframe thead th {\n",
       "        text-align: right;\n",
       "    }\n",
       "</style>\n",
       "<table border=\"1\" class=\"dataframe\">\n",
       "  <thead>\n",
       "    <tr style=\"text-align: right;\">\n",
       "      <th></th>\n",
       "      <th>gen_name</th>\n",
       "      <th>parent_left</th>\n",
       "      <th>child_left</th>\n",
       "      <th>parent_right</th>\n",
       "      <th>child_right</th>\n",
       "      <th>sway_left</th>\n",
       "      <th>sway_right</th>\n",
       "      <th>correct_is_right</th>\n",
       "    </tr>\n",
       "  </thead>\n",
       "  <tbody>\n",
       "    <tr>\n",
       "      <th>0</th>\n",
       "      <td>*path--random;(sw)</td>\n",
       "      <td>While it may not tell us much about November, ...</td>\n",
       "      <td>Herschel Walker and Dr. Oz joins the chat.</td>\n",
       "      <td>If choosing principal over money is pathetic t...</td>\n",
       "      <td>Their base are the people who don't work. They...</td>\n",
       "      <td>1.000000e+00</td>\n",
       "      <td>3.961430e-107</td>\n",
       "      <td>False</td>\n",
       "    </tr>\n",
       "    <tr>\n",
       "      <th>1</th>\n",
       "      <td>*path--!copy;(sw)</td>\n",
       "      <td>t/news</td>\n",
       "      <td>[Louisiana hospital denies abortion for fetus ...</td>\n",
       "      <td>[Louisiana hospital denies abortion for fetus ...</td>\n",
       "      <td>t/news</td>\n",
       "      <td>1.000000e+00</td>\n",
       "      <td>0.000000e+00</td>\n",
       "      <td>False</td>\n",
       "    </tr>\n",
       "    <tr>\n",
       "      <th>2</th>\n",
       "      <td>!copy--valid;(sw)</td>\n",
       "      <td>Funny thing is, if voters actually preferred a...</td>\n",
       "      <td>[How a ‘Ludicrous’ Sarah Palin Feud Could Hand...</td>\n",
       "      <td>[How a ‘Ludicrous’ Sarah Palin Feud Could Hand...</td>\n",
       "      <td>Funny thing is, if voters actually preferred a...</td>\n",
       "      <td>1.522998e-08</td>\n",
       "      <td>1.000000e+00</td>\n",
       "      <td>True</td>\n",
       "    </tr>\n",
       "    <tr>\n",
       "      <th>3</th>\n",
       "      <td>!copy--valid;(sw)</td>\n",
       "      <td>&gt; I know right. There is nothing like a debate...</td>\n",
       "      <td>I know right. There is nothing like a debate o...</td>\n",
       "      <td>I know right. There is nothing like a debate o...</td>\n",
       "      <td>&gt; I know right. There is nothing like a debate...</td>\n",
       "      <td>1.670142e-05</td>\n",
       "      <td>9.999833e-01</td>\n",
       "      <td>True</td>\n",
       "    </tr>\n",
       "  </tbody>\n",
       "</table>\n",
       "</div>"
      ],
      "text/plain": [
       "             gen_name                                        parent_left  \\\n",
       "0  *path--random;(sw)  While it may not tell us much about November, ...   \n",
       "1   *path--!copy;(sw)                                             t/news   \n",
       "2   !copy--valid;(sw)  Funny thing is, if voters actually preferred a...   \n",
       "3   !copy--valid;(sw)  > I know right. There is nothing like a debate...   \n",
       "\n",
       "                                          child_left  \\\n",
       "0         Herschel Walker and Dr. Oz joins the chat.   \n",
       "1  [Louisiana hospital denies abortion for fetus ...   \n",
       "2  [How a ‘Ludicrous’ Sarah Palin Feud Could Hand...   \n",
       "3  I know right. There is nothing like a debate o...   \n",
       "\n",
       "                                        parent_right  \\\n",
       "0  If choosing principal over money is pathetic t...   \n",
       "1  [Louisiana hospital denies abortion for fetus ...   \n",
       "2  [How a ‘Ludicrous’ Sarah Palin Feud Could Hand...   \n",
       "3  I know right. There is nothing like a debate o...   \n",
       "\n",
       "                                         child_right     sway_left  \\\n",
       "0  Their base are the people who don't work. They...  1.000000e+00   \n",
       "1                                             t/news  1.000000e+00   \n",
       "2  Funny thing is, if voters actually preferred a...  1.522998e-08   \n",
       "3  > I know right. There is nothing like a debate...  1.670142e-05   \n",
       "\n",
       "      sway_right  correct_is_right  \n",
       "0  3.961430e-107             False  \n",
       "1   0.000000e+00             False  \n",
       "2   1.000000e+00              True  \n",
       "3   9.999833e-01              True  "
      ]
     },
     "metadata": {},
     "output_type": "display_data"
    },
    {
     "data": {
      "application/vnd.jupyter.widget-view+json": {
       "model_id": "b010dce97851476d9f6e398f994286ad",
       "version_major": 2,
       "version_minor": 0
      },
      "text/plain": [
       "train val:   0%|          | 0/10000 [00:00<?, ?it/s]"
      ]
     },
     "metadata": {},
     "output_type": "display_data"
    },
    {
     "data": {
      "application/vnd.jupyter.widget-view+json": {
       "model_id": "4e94739cca134bb28c5329f65707529b",
       "version_major": 2,
       "version_minor": 0
      },
      "text/plain": [
       "test:   0%|          | 0/10000 [00:00<?, ?it/s]"
      ]
     },
     "metadata": {},
     "output_type": "display_data"
    },
    {
     "name": "stdout",
     "output_type": "stream",
     "text": [
      "train: {'accuracy': 0.54625} loss: 0.6457710547089577\n",
      "train val: {'accuracy': 0.4174} loss: 0.6850678747415543\n",
      "test: {'accuracy': 0.4863} loss: 0.6914055420279502\n",
      "epoch 65\n"
     ]
    },
    {
     "data": {
      "application/vnd.jupyter.widget-view+json": {
       "model_id": "2fa8129f5de64c73bed7a571855f5929",
       "version_major": 2,
       "version_minor": 0
      },
      "text/plain": [
       "train:   0%|          | 0/20000 [00:00<?, ?it/s]"
      ]
     },
     "metadata": {},
     "output_type": "display_data"
    },
    {
     "data": {
      "text/html": [
       "<div>\n",
       "<style scoped>\n",
       "    .dataframe tbody tr th:only-of-type {\n",
       "        vertical-align: middle;\n",
       "    }\n",
       "\n",
       "    .dataframe tbody tr th {\n",
       "        vertical-align: top;\n",
       "    }\n",
       "\n",
       "    .dataframe thead th {\n",
       "        text-align: right;\n",
       "    }\n",
       "</style>\n",
       "<table border=\"1\" class=\"dataframe\">\n",
       "  <thead>\n",
       "    <tr style=\"text-align: right;\">\n",
       "      <th></th>\n",
       "      <th>gen_name</th>\n",
       "      <th>parent_left</th>\n",
       "      <th>child_left</th>\n",
       "      <th>parent_right</th>\n",
       "      <th>child_right</th>\n",
       "      <th>sway_left</th>\n",
       "      <th>sway_right</th>\n",
       "      <th>correct_is_right</th>\n",
       "    </tr>\n",
       "  </thead>\n",
       "  <tbody>\n",
       "    <tr>\n",
       "      <th>0</th>\n",
       "      <td>!valid--valid;(sw)</td>\n",
       "      <td>Are you sure it was hijacked? That beeping is ...</td>\n",
       "      <td>While a Russian correspondent is filming a sol...</td>\n",
       "      <td>But then he wouldn’t be the named prize winner</td>\n",
       "      <td>That's the point. Change name. Collect prize a...</td>\n",
       "      <td>9.359180e-14</td>\n",
       "      <td>1.000000</td>\n",
       "      <td>True</td>\n",
       "    </tr>\n",
       "    <tr>\n",
       "      <th>1</th>\n",
       "      <td>valid--valid;(mtl:20)</td>\n",
       "      <td>Not supported by evidence? Neither Biden nor C...</td>\n",
       "      <td>Well that’s an absurd claim to make</td>\n",
       "      <td>King Charles The Patient</td>\n",
       "      <td>He will have a great 10yrs after his mum’s 70.</td>\n",
       "      <td>1.192029e-01</td>\n",
       "      <td>0.880797</td>\n",
       "      <td>True</td>\n",
       "    </tr>\n",
       "    <tr>\n",
       "      <th>2</th>\n",
       "      <td>*valid--valid;(mtl:20)</td>\n",
       "      <td>I get stuff like this. https://www.washingtonp...</td>\n",
       "      <td>Try duckduckgo... google taints search results...</td>\n",
       "      <td>I am glad they were released. I've always thou...</td>\n",
       "      <td>It depends on the surroundings I'd think. If t...</td>\n",
       "      <td>7.585818e-02</td>\n",
       "      <td>0.924142</td>\n",
       "      <td>True</td>\n",
       "    </tr>\n",
       "    <tr>\n",
       "      <th>3</th>\n",
       "      <td>*valid--!copy;(sw)</td>\n",
       "      <td>Yeah if you take 2000 years and divide it by t...</td>\n",
       "      <td>40 lifetimes or 80 generations... That's still...</td>\n",
       "      <td>40 lifetimes or 80 generations... That's still...</td>\n",
       "      <td>Yeah if you take 2000 years and divide it by t...</td>\n",
       "      <td>9.998766e-01</td>\n",
       "      <td>0.000123</td>\n",
       "      <td>False</td>\n",
       "    </tr>\n",
       "  </tbody>\n",
       "</table>\n",
       "</div>"
      ],
      "text/plain": [
       "                 gen_name                                        parent_left  \\\n",
       "0      !valid--valid;(sw)  Are you sure it was hijacked? That beeping is ...   \n",
       "1   valid--valid;(mtl:20)  Not supported by evidence? Neither Biden nor C...   \n",
       "2  *valid--valid;(mtl:20)  I get stuff like this. https://www.washingtonp...   \n",
       "3      *valid--!copy;(sw)  Yeah if you take 2000 years and divide it by t...   \n",
       "\n",
       "                                          child_left  \\\n",
       "0  While a Russian correspondent is filming a sol...   \n",
       "1                Well that’s an absurd claim to make   \n",
       "2  Try duckduckgo... google taints search results...   \n",
       "3  40 lifetimes or 80 generations... That's still...   \n",
       "\n",
       "                                        parent_right  \\\n",
       "0     But then he wouldn’t be the named prize winner   \n",
       "1                           King Charles The Patient   \n",
       "2  I am glad they were released. I've always thou...   \n",
       "3  40 lifetimes or 80 generations... That's still...   \n",
       "\n",
       "                                         child_right     sway_left  \\\n",
       "0  That's the point. Change name. Collect prize a...  9.359180e-14   \n",
       "1     He will have a great 10yrs after his mum’s 70.  1.192029e-01   \n",
       "2  It depends on the surroundings I'd think. If t...  7.585818e-02   \n",
       "3  Yeah if you take 2000 years and divide it by t...  9.998766e-01   \n",
       "\n",
       "   sway_right  correct_is_right  \n",
       "0    1.000000              True  \n",
       "1    0.880797              True  \n",
       "2    0.924142              True  \n",
       "3    0.000123             False  "
      ]
     },
     "metadata": {},
     "output_type": "display_data"
    },
    {
     "data": {
      "application/vnd.jupyter.widget-view+json": {
       "model_id": "38623086b5934c9c8ad313c435c14f2b",
       "version_major": 2,
       "version_minor": 0
      },
      "text/plain": [
       "train val:   0%|          | 0/10000 [00:00<?, ?it/s]"
      ]
     },
     "metadata": {},
     "output_type": "display_data"
    },
    {
     "data": {
      "application/vnd.jupyter.widget-view+json": {
       "model_id": "dcdcd46d2f32410ca7c604934022013a",
       "version_major": 2,
       "version_minor": 0
      },
      "text/plain": [
       "test:   0%|          | 0/10000 [00:00<?, ?it/s]"
      ]
     },
     "metadata": {},
     "output_type": "display_data"
    },
    {
     "name": "stdout",
     "output_type": "stream",
     "text": [
      "train: {'accuracy': 0.54375} loss: 0.6429222122520208\n",
      "train val: {'accuracy': 0.5876} loss: 0.6881371040105819\n",
      "test: {'accuracy': 0.4938} loss: 0.7179552402973175\n",
      "epoch 66\n"
     ]
    },
    {
     "data": {
      "application/vnd.jupyter.widget-view+json": {
       "model_id": "526198f672224fa48fc4df92a8a5c7a3",
       "version_major": 2,
       "version_minor": 0
      },
      "text/plain": [
       "train:   0%|          | 0/20000 [00:00<?, ?it/s]"
      ]
     },
     "metadata": {},
     "output_type": "display_data"
    },
    {
     "data": {
      "text/html": [
       "<div>\n",
       "<style scoped>\n",
       "    .dataframe tbody tr th:only-of-type {\n",
       "        vertical-align: middle;\n",
       "    }\n",
       "\n",
       "    .dataframe tbody tr th {\n",
       "        vertical-align: top;\n",
       "    }\n",
       "\n",
       "    .dataframe thead th {\n",
       "        text-align: right;\n",
       "    }\n",
       "</style>\n",
       "<table border=\"1\" class=\"dataframe\">\n",
       "  <thead>\n",
       "    <tr style=\"text-align: right;\">\n",
       "      <th></th>\n",
       "      <th>gen_name</th>\n",
       "      <th>parent_left</th>\n",
       "      <th>child_left</th>\n",
       "      <th>parent_right</th>\n",
       "      <th>child_right</th>\n",
       "      <th>sway_left</th>\n",
       "      <th>sway_right</th>\n",
       "      <th>correct_is_right</th>\n",
       "    </tr>\n",
       "  </thead>\n",
       "  <tbody>\n",
       "    <tr>\n",
       "      <th>0</th>\n",
       "      <td>valid--valid;(sw)</td>\n",
       "      <td>[Daughter of Putin Propagandist Killed in Car ...</td>\n",
       "      <td>Warms my heart, I hope his daughter suffered g...</td>\n",
       "      <td>[White House policies rescued U.S. economy, Tr...</td>\n",
       "      <td>Nevermind that recession we're in....</td>\n",
       "      <td>0.952574</td>\n",
       "      <td>0.047426</td>\n",
       "      <td>False</td>\n",
       "    </tr>\n",
       "    <tr>\n",
       "      <th>1</th>\n",
       "      <td>valid--valid</td>\n",
       "      <td>YES! I can't count how many times I've said th...</td>\n",
       "      <td>&gt;You can’t have record prices with record prof...</td>\n",
       "      <td>I went in a Best Buy a few weeks ago. They wer...</td>\n",
       "      <td>My local Best Buy said they wouldn’t price mat...</td>\n",
       "      <td>0.880797</td>\n",
       "      <td>0.119203</td>\n",
       "      <td>False</td>\n",
       "    </tr>\n",
       "    <tr>\n",
       "      <th>2</th>\n",
       "      <td>valid--valid</td>\n",
       "      <td>But it is (Jeremy Clarkson voice).</td>\n",
       "      <td>Is that a hint of tenderness?</td>\n",
       "      <td>Discussion Thread: President Biden Delivers Re...</td>\n",
       "      <td>What I really hate? That nobody blinks when a ...</td>\n",
       "      <td>0.000000</td>\n",
       "      <td>1.000000</td>\n",
       "      <td>True</td>\n",
       "    </tr>\n",
       "    <tr>\n",
       "      <th>3</th>\n",
       "      <td>!valid--valid;(mtl:20)</td>\n",
       "      <td>My GOP friends are already saying he's got inf...</td>\n",
       "      <td>get ready for rocket-propelled goalposts</td>\n",
       "      <td>RIP to the 137,000 new dead kids</td>\n",
       "      <td>More meat for the grinder, as the old saying g...</td>\n",
       "      <td>0.119203</td>\n",
       "      <td>0.880797</td>\n",
       "      <td>True</td>\n",
       "    </tr>\n",
       "  </tbody>\n",
       "</table>\n",
       "</div>"
      ],
      "text/plain": [
       "                 gen_name                                        parent_left  \\\n",
       "0       valid--valid;(sw)  [Daughter of Putin Propagandist Killed in Car ...   \n",
       "1            valid--valid  YES! I can't count how many times I've said th...   \n",
       "2            valid--valid                 But it is (Jeremy Clarkson voice).   \n",
       "3  !valid--valid;(mtl:20)  My GOP friends are already saying he's got inf...   \n",
       "\n",
       "                                          child_left  \\\n",
       "0  Warms my heart, I hope his daughter suffered g...   \n",
       "1  >You can’t have record prices with record prof...   \n",
       "2                      Is that a hint of tenderness?   \n",
       "3           get ready for rocket-propelled goalposts   \n",
       "\n",
       "                                        parent_right  \\\n",
       "0  [White House policies rescued U.S. economy, Tr...   \n",
       "1  I went in a Best Buy a few weeks ago. They wer...   \n",
       "2  Discussion Thread: President Biden Delivers Re...   \n",
       "3                   RIP to the 137,000 new dead kids   \n",
       "\n",
       "                                         child_right  sway_left  sway_right  \\\n",
       "0              Nevermind that recession we're in....   0.952574    0.047426   \n",
       "1  My local Best Buy said they wouldn’t price mat...   0.880797    0.119203   \n",
       "2  What I really hate? That nobody blinks when a ...   0.000000    1.000000   \n",
       "3  More meat for the grinder, as the old saying g...   0.119203    0.880797   \n",
       "\n",
       "   correct_is_right  \n",
       "0             False  \n",
       "1             False  \n",
       "2              True  \n",
       "3              True  "
      ]
     },
     "metadata": {},
     "output_type": "display_data"
    },
    {
     "data": {
      "application/vnd.jupyter.widget-view+json": {
       "model_id": "e1a938e1bb664f07a9639ab9d0842422",
       "version_major": 2,
       "version_minor": 0
      },
      "text/plain": [
       "train val:   0%|          | 0/10000 [00:00<?, ?it/s]"
      ]
     },
     "metadata": {},
     "output_type": "display_data"
    },
    {
     "data": {
      "application/vnd.jupyter.widget-view+json": {
       "model_id": "1a5cd58f14024d6abae49e9262814125",
       "version_major": 2,
       "version_minor": 0
      },
      "text/plain": [
       "test:   0%|          | 0/10000 [00:00<?, ?it/s]"
      ]
     },
     "metadata": {},
     "output_type": "display_data"
    },
    {
     "name": "stdout",
     "output_type": "stream",
     "text": [
      "train: {'accuracy': 0.54825} loss: 0.6564943910837173\n",
      "train val: {'accuracy': 0.5079} loss: 0.6839651360750199\n",
      "test: {'accuracy': 0.4953} loss: 0.6948402240157128\n",
      "epoch 67\n"
     ]
    },
    {
     "data": {
      "application/vnd.jupyter.widget-view+json": {
       "model_id": "9d749d530aa84ef2bdc6e83a1e94512f",
       "version_major": 2,
       "version_minor": 0
      },
      "text/plain": [
       "train:   0%|          | 0/20000 [00:00<?, ?it/s]"
      ]
     },
     "metadata": {},
     "output_type": "display_data"
    },
    {
     "data": {
      "text/html": [
       "<div>\n",
       "<style scoped>\n",
       "    .dataframe tbody tr th:only-of-type {\n",
       "        vertical-align: middle;\n",
       "    }\n",
       "\n",
       "    .dataframe tbody tr th {\n",
       "        vertical-align: top;\n",
       "    }\n",
       "\n",
       "    .dataframe thead th {\n",
       "        text-align: right;\n",
       "    }\n",
       "</style>\n",
       "<table border=\"1\" class=\"dataframe\">\n",
       "  <thead>\n",
       "    <tr style=\"text-align: right;\">\n",
       "      <th></th>\n",
       "      <th>gen_name</th>\n",
       "      <th>parent_left</th>\n",
       "      <th>child_left</th>\n",
       "      <th>parent_right</th>\n",
       "      <th>child_right</th>\n",
       "      <th>sway_left</th>\n",
       "      <th>sway_right</th>\n",
       "      <th>correct_is_right</th>\n",
       "    </tr>\n",
       "  </thead>\n",
       "  <tbody>\n",
       "    <tr>\n",
       "      <th>0</th>\n",
       "      <td>*path--random;(mtl:20)</td>\n",
       "      <td>We should get it changed to queen. King doesn’...</td>\n",
       "      <td>Queen Charles seems... Right. Correct.</td>\n",
       "      <td>Am I the only one that thinks it's absurd we d...</td>\n",
       "      <td>What are they gonna do? Try to not let it happ...</td>\n",
       "      <td>1.0</td>\n",
       "      <td>3.975450e-31</td>\n",
       "      <td>False</td>\n",
       "    </tr>\n",
       "    <tr>\n",
       "      <th>1</th>\n",
       "      <td>*path--!copy;(sw)</td>\n",
       "      <td>It’s so strange to think she’s been queen so l...</td>\n",
       "      <td>The episode of \"I Love Lucy\" where Lucy meets ...</td>\n",
       "      <td>The episode of \"I Love Lucy\" where Lucy meets ...</td>\n",
       "      <td>It’s so strange to think she’s been queen so l...</td>\n",
       "      <td>1.0</td>\n",
       "      <td>0.000000e+00</td>\n",
       "      <td>False</td>\n",
       "    </tr>\n",
       "    <tr>\n",
       "      <th>2</th>\n",
       "      <td>*path--random;(sw)</td>\n",
       "      <td>t/conservative</td>\n",
       "      <td>[Wife Hands Husband Target Receipt With Classi...</td>\n",
       "      <td>They need a distraction and Hunter is the perf...</td>\n",
       "      <td>Sweet Robin ? I should be angry at you for the...</td>\n",
       "      <td>1.0</td>\n",
       "      <td>2.053885e-85</td>\n",
       "      <td>False</td>\n",
       "    </tr>\n",
       "    <tr>\n",
       "      <th>3</th>\n",
       "      <td>*valid--random;(sw)</td>\n",
       "      <td>I haven't looked into this, you can get a refu...</td>\n",
       "      <td>That's my understanding yes. Then once the loa...</td>\n",
       "      <td>&gt;Unfortunately that’s only the start of an unp...</td>\n",
       "      <td>Sounds like grounds for defamation.</td>\n",
       "      <td>1.0</td>\n",
       "      <td>3.059022e-07</td>\n",
       "      <td>False</td>\n",
       "    </tr>\n",
       "  </tbody>\n",
       "</table>\n",
       "</div>"
      ],
      "text/plain": [
       "                 gen_name                                        parent_left  \\\n",
       "0  *path--random;(mtl:20)  We should get it changed to queen. King doesn’...   \n",
       "1       *path--!copy;(sw)  It’s so strange to think she’s been queen so l...   \n",
       "2      *path--random;(sw)                                     t/conservative   \n",
       "3     *valid--random;(sw)  I haven't looked into this, you can get a refu...   \n",
       "\n",
       "                                          child_left  \\\n",
       "0             Queen Charles seems... Right. Correct.   \n",
       "1  The episode of \"I Love Lucy\" where Lucy meets ...   \n",
       "2  [Wife Hands Husband Target Receipt With Classi...   \n",
       "3  That's my understanding yes. Then once the loa...   \n",
       "\n",
       "                                        parent_right  \\\n",
       "0  Am I the only one that thinks it's absurd we d...   \n",
       "1  The episode of \"I Love Lucy\" where Lucy meets ...   \n",
       "2  They need a distraction and Hunter is the perf...   \n",
       "3  >Unfortunately that’s only the start of an unp...   \n",
       "\n",
       "                                         child_right  sway_left    sway_right  \\\n",
       "0  What are they gonna do? Try to not let it happ...        1.0  3.975450e-31   \n",
       "1  It’s so strange to think she’s been queen so l...        1.0  0.000000e+00   \n",
       "2  Sweet Robin ? I should be angry at you for the...        1.0  2.053885e-85   \n",
       "3                Sounds like grounds for defamation.        1.0  3.059022e-07   \n",
       "\n",
       "   correct_is_right  \n",
       "0             False  \n",
       "1             False  \n",
       "2             False  \n",
       "3             False  "
      ]
     },
     "metadata": {},
     "output_type": "display_data"
    },
    {
     "data": {
      "application/vnd.jupyter.widget-view+json": {
       "model_id": "4a6eed5a545740768cb594f78c9c7a56",
       "version_major": 2,
       "version_minor": 0
      },
      "text/plain": [
       "train val:   0%|          | 0/10000 [00:00<?, ?it/s]"
      ]
     },
     "metadata": {},
     "output_type": "display_data"
    },
    {
     "data": {
      "application/vnd.jupyter.widget-view+json": {
       "model_id": "3b36d340b52a4be3a27f77cee534d299",
       "version_major": 2,
       "version_minor": 0
      },
      "text/plain": [
       "test:   0%|          | 0/10000 [00:00<?, ?it/s]"
      ]
     },
     "metadata": {},
     "output_type": "display_data"
    },
    {
     "name": "stdout",
     "output_type": "stream",
     "text": [
      "train: {'accuracy': 0.54675} loss: 0.6414316490769386\n",
      "train val: {'accuracy': 0.484} loss: 0.6828667419433594\n",
      "test: {'accuracy': 0.4993} loss: 0.6926944740533829\n",
      "epoch 68\n"
     ]
    },
    {
     "data": {
      "application/vnd.jupyter.widget-view+json": {
       "model_id": "11792ba01daf430c9db4a9db21299e4a",
       "version_major": 2,
       "version_minor": 0
      },
      "text/plain": [
       "train:   0%|          | 0/20000 [00:00<?, ?it/s]"
      ]
     },
     "metadata": {},
     "output_type": "display_data"
    },
    {
     "data": {
      "text/html": [
       "<div>\n",
       "<style scoped>\n",
       "    .dataframe tbody tr th:only-of-type {\n",
       "        vertical-align: middle;\n",
       "    }\n",
       "\n",
       "    .dataframe tbody tr th {\n",
       "        vertical-align: top;\n",
       "    }\n",
       "\n",
       "    .dataframe thead th {\n",
       "        text-align: right;\n",
       "    }\n",
       "</style>\n",
       "<table border=\"1\" class=\"dataframe\">\n",
       "  <thead>\n",
       "    <tr style=\"text-align: right;\">\n",
       "      <th></th>\n",
       "      <th>gen_name</th>\n",
       "      <th>parent_left</th>\n",
       "      <th>child_left</th>\n",
       "      <th>parent_right</th>\n",
       "      <th>child_right</th>\n",
       "      <th>sway_left</th>\n",
       "      <th>sway_right</th>\n",
       "      <th>correct_is_right</th>\n",
       "    </tr>\n",
       "  </thead>\n",
       "  <tbody>\n",
       "    <tr>\n",
       "      <th>0</th>\n",
       "      <td>*valid--valid;(sw)</td>\n",
       "      <td>I have neither the time nor the inclination to...</td>\n",
       "      <td>Headlines are also a pretty easy indicator of ...</td>\n",
       "      <td>The BBC announcement refers to him as \"the Kin...</td>\n",
       "      <td>Wait until you start hearing the phrase \"The K...</td>\n",
       "      <td>8.315280e-07</td>\n",
       "      <td>0.999999</td>\n",
       "      <td>True</td>\n",
       "    </tr>\n",
       "    <tr>\n",
       "      <th>1</th>\n",
       "      <td>*valid--valid;(mtl:20)</td>\n",
       "      <td>Pretty sure it's actually from Plants vs Zombies</td>\n",
       "      <td>Its really from Fortnite. Everything else just...</td>\n",
       "      <td>They've pushed it so far beyond reality that r...</td>\n",
       "      <td>Bill burr said it best: \"since everything is c...</td>\n",
       "      <td>3.059022e-07</td>\n",
       "      <td>1.000000</td>\n",
       "      <td>True</td>\n",
       "    </tr>\n",
       "    <tr>\n",
       "      <th>2</th>\n",
       "      <td>random--valid;(sw)</td>\n",
       "      <td>Debt owed to the federal government is money t...</td>\n",
       "      <td>Appeal to whom? The judge that issued the Spec...</td>\n",
       "      <td>[Biden rebukes the criticism that student-loan...</td>\n",
       "      <td>Serious question without any political bias - ...</td>\n",
       "      <td>1.192029e-01</td>\n",
       "      <td>0.880797</td>\n",
       "      <td>True</td>\n",
       "    </tr>\n",
       "    <tr>\n",
       "      <th>3</th>\n",
       "      <td>*path--random;(sw)</td>\n",
       "      <td>t/worldnews</td>\n",
       "      <td>[Ukraine launches surprise counterattacks agai...</td>\n",
       "      <td>Believe what you want if you choose, that is w...</td>\n",
       "      <td>I voted for W but I was a dumb kid swept up in...</td>\n",
       "      <td>1.000000e+00</td>\n",
       "      <td>0.000000</td>\n",
       "      <td>False</td>\n",
       "    </tr>\n",
       "  </tbody>\n",
       "</table>\n",
       "</div>"
      ],
      "text/plain": [
       "                 gen_name                                        parent_left  \\\n",
       "0      *valid--valid;(sw)  I have neither the time nor the inclination to...   \n",
       "1  *valid--valid;(mtl:20)   Pretty sure it's actually from Plants vs Zombies   \n",
       "2      random--valid;(sw)  Debt owed to the federal government is money t...   \n",
       "3      *path--random;(sw)                                        t/worldnews   \n",
       "\n",
       "                                          child_left  \\\n",
       "0  Headlines are also a pretty easy indicator of ...   \n",
       "1  Its really from Fortnite. Everything else just...   \n",
       "2  Appeal to whom? The judge that issued the Spec...   \n",
       "3  [Ukraine launches surprise counterattacks agai...   \n",
       "\n",
       "                                        parent_right  \\\n",
       "0  The BBC announcement refers to him as \"the Kin...   \n",
       "1  They've pushed it so far beyond reality that r...   \n",
       "2  [Biden rebukes the criticism that student-loan...   \n",
       "3  Believe what you want if you choose, that is w...   \n",
       "\n",
       "                                         child_right     sway_left  \\\n",
       "0  Wait until you start hearing the phrase \"The K...  8.315280e-07   \n",
       "1  Bill burr said it best: \"since everything is c...  3.059022e-07   \n",
       "2  Serious question without any political bias - ...  1.192029e-01   \n",
       "3  I voted for W but I was a dumb kid swept up in...  1.000000e+00   \n",
       "\n",
       "   sway_right  correct_is_right  \n",
       "0    0.999999              True  \n",
       "1    1.000000              True  \n",
       "2    0.880797              True  \n",
       "3    0.000000             False  "
      ]
     },
     "metadata": {},
     "output_type": "display_data"
    },
    {
     "data": {
      "application/vnd.jupyter.widget-view+json": {
       "model_id": "c51770848f67404caf23298e9bd7cd0b",
       "version_major": 2,
       "version_minor": 0
      },
      "text/plain": [
       "train val:   0%|          | 0/10000 [00:00<?, ?it/s]"
      ]
     },
     "metadata": {},
     "output_type": "display_data"
    },
    {
     "data": {
      "application/vnd.jupyter.widget-view+json": {
       "model_id": "57a347afd792409296dafa3af107c8c2",
       "version_major": 2,
       "version_minor": 0
      },
      "text/plain": [
       "test:   0%|          | 0/10000 [00:00<?, ?it/s]"
      ]
     },
     "metadata": {},
     "output_type": "display_data"
    },
    {
     "name": "stdout",
     "output_type": "stream",
     "text": [
      "train: {'accuracy': 0.54925} loss: 0.6431967156112194\n",
      "train val: {'accuracy': 0.5645} loss: 0.6815829406023025\n",
      "test: {'accuracy': 0.4639} loss: 0.6932618542194366\n",
      "epoch 69\n"
     ]
    },
    {
     "data": {
      "application/vnd.jupyter.widget-view+json": {
       "model_id": "b618c16320984d549438a436dba9d3c9",
       "version_major": 2,
       "version_minor": 0
      },
      "text/plain": [
       "train:   0%|          | 0/20000 [00:00<?, ?it/s]"
      ]
     },
     "metadata": {},
     "output_type": "display_data"
    },
    {
     "data": {
      "text/html": [
       "<div>\n",
       "<style scoped>\n",
       "    .dataframe tbody tr th:only-of-type {\n",
       "        vertical-align: middle;\n",
       "    }\n",
       "\n",
       "    .dataframe tbody tr th {\n",
       "        vertical-align: top;\n",
       "    }\n",
       "\n",
       "    .dataframe thead th {\n",
       "        text-align: right;\n",
       "    }\n",
       "</style>\n",
       "<table border=\"1\" class=\"dataframe\">\n",
       "  <thead>\n",
       "    <tr style=\"text-align: right;\">\n",
       "      <th></th>\n",
       "      <th>gen_name</th>\n",
       "      <th>parent_left</th>\n",
       "      <th>child_left</th>\n",
       "      <th>parent_right</th>\n",
       "      <th>child_right</th>\n",
       "      <th>sway_left</th>\n",
       "      <th>sway_right</th>\n",
       "      <th>correct_is_right</th>\n",
       "    </tr>\n",
       "  </thead>\n",
       "  <tbody>\n",
       "    <tr>\n",
       "      <th>0</th>\n",
       "      <td>*path--random;(mtl:20)</td>\n",
       "      <td>When she grew up, Stalin was in charge. That p...</td>\n",
       "      <td>She was a motor mechanic in the British Army t...</td>\n",
       "      <td>Yes… my family is VERY trump centric and they ...</td>\n",
       "      <td>Why under 125k? Give it to all or none.</td>\n",
       "      <td>9.990889e-01</td>\n",
       "      <td>9.110512e-04</td>\n",
       "      <td>False</td>\n",
       "    </tr>\n",
       "    <tr>\n",
       "      <th>1</th>\n",
       "      <td>valid--valid</td>\n",
       "      <td>Cost of living isn't that high in Japan. Rent ...</td>\n",
       "      <td>$350 a month is absolutely not correct. But ho...</td>\n",
       "      <td>&gt;Where did I say both sides are the same? If \"...</td>\n",
       "      <td>(Pat pat) It's ok. You'll figure it out eventu...</td>\n",
       "      <td>1.000000e+00</td>\n",
       "      <td>3.442477e-14</td>\n",
       "      <td>False</td>\n",
       "    </tr>\n",
       "    <tr>\n",
       "      <th>2</th>\n",
       "      <td>valid--valid</td>\n",
       "      <td>Oh for sure. If we could supply the hell out o...</td>\n",
       "      <td>Sarcasm isn’t a high form of wit. Try harder.</td>\n",
       "      <td>\"Do you have something like maybe a chicken sa...</td>\n",
       "      <td>Filet-O-Crime with a side of traitor tots</td>\n",
       "      <td>5.673240e-14</td>\n",
       "      <td>1.000000e+00</td>\n",
       "      <td>True</td>\n",
       "    </tr>\n",
       "    <tr>\n",
       "      <th>3</th>\n",
       "      <td>valid--valid</td>\n",
       "      <td>[Doctors concerned for Queen Elizabeth’s healt...</td>\n",
       "      <td>I have no attachment to the Royal Family as an...</td>\n",
       "      <td>Already out there. \"WhY Did THey WAiT 18 MuNTh...</td>\n",
       "      <td>Watch how fast that disappears once we know wh...</td>\n",
       "      <td>1.125352e-07</td>\n",
       "      <td>9.999999e-01</td>\n",
       "      <td>True</td>\n",
       "    </tr>\n",
       "  </tbody>\n",
       "</table>\n",
       "</div>"
      ],
      "text/plain": [
       "                 gen_name                                        parent_left  \\\n",
       "0  *path--random;(mtl:20)  When she grew up, Stalin was in charge. That p...   \n",
       "1            valid--valid  Cost of living isn't that high in Japan. Rent ...   \n",
       "2            valid--valid  Oh for sure. If we could supply the hell out o...   \n",
       "3            valid--valid  [Doctors concerned for Queen Elizabeth’s healt...   \n",
       "\n",
       "                                          child_left  \\\n",
       "0  She was a motor mechanic in the British Army t...   \n",
       "1  $350 a month is absolutely not correct. But ho...   \n",
       "2      Sarcasm isn’t a high form of wit. Try harder.   \n",
       "3  I have no attachment to the Royal Family as an...   \n",
       "\n",
       "                                        parent_right  \\\n",
       "0  Yes… my family is VERY trump centric and they ...   \n",
       "1  >Where did I say both sides are the same? If \"...   \n",
       "2  \"Do you have something like maybe a chicken sa...   \n",
       "3  Already out there. \"WhY Did THey WAiT 18 MuNTh...   \n",
       "\n",
       "                                         child_right     sway_left  \\\n",
       "0            Why under 125k? Give it to all or none.  9.990889e-01   \n",
       "1  (Pat pat) It's ok. You'll figure it out eventu...  1.000000e+00   \n",
       "2          Filet-O-Crime with a side of traitor tots  5.673240e-14   \n",
       "3  Watch how fast that disappears once we know wh...  1.125352e-07   \n",
       "\n",
       "     sway_right  correct_is_right  \n",
       "0  9.110512e-04             False  \n",
       "1  3.442477e-14             False  \n",
       "2  1.000000e+00              True  \n",
       "3  9.999999e-01              True  "
      ]
     },
     "metadata": {},
     "output_type": "display_data"
    },
    {
     "data": {
      "application/vnd.jupyter.widget-view+json": {
       "model_id": "89e326dddb6b440b84b0a1ba1ed1ef82",
       "version_major": 2,
       "version_minor": 0
      },
      "text/plain": [
       "train val:   0%|          | 0/10000 [00:00<?, ?it/s]"
      ]
     },
     "metadata": {},
     "output_type": "display_data"
    },
    {
     "data": {
      "application/vnd.jupyter.widget-view+json": {
       "model_id": "bec8bdd70bc747c59e74c2102570118a",
       "version_major": 2,
       "version_minor": 0
      },
      "text/plain": [
       "test:   0%|          | 0/10000 [00:00<?, ?it/s]"
      ]
     },
     "metadata": {},
     "output_type": "display_data"
    },
    {
     "name": "stdout",
     "output_type": "stream",
     "text": [
      "train: {'accuracy': 0.5513} loss: 0.6433693261563778\n",
      "train val: {'accuracy': 0.5068} loss: 0.6824178866863251\n",
      "test: {'accuracy': 0.4999} loss: 0.6909691601037979\n",
      "epoch 70\n"
     ]
    },
    {
     "data": {
      "application/vnd.jupyter.widget-view+json": {
       "model_id": "e1758bafb2004d25a9279fd92037af04",
       "version_major": 2,
       "version_minor": 0
      },
      "text/plain": [
       "train:   0%|          | 0/20000 [00:00<?, ?it/s]"
      ]
     },
     "metadata": {},
     "output_type": "display_data"
    },
    {
     "data": {
      "text/html": [
       "<div>\n",
       "<style scoped>\n",
       "    .dataframe tbody tr th:only-of-type {\n",
       "        vertical-align: middle;\n",
       "    }\n",
       "\n",
       "    .dataframe tbody tr th {\n",
       "        vertical-align: top;\n",
       "    }\n",
       "\n",
       "    .dataframe thead th {\n",
       "        text-align: right;\n",
       "    }\n",
       "</style>\n",
       "<table border=\"1\" class=\"dataframe\">\n",
       "  <thead>\n",
       "    <tr style=\"text-align: right;\">\n",
       "      <th></th>\n",
       "      <th>gen_name</th>\n",
       "      <th>parent_left</th>\n",
       "      <th>child_left</th>\n",
       "      <th>parent_right</th>\n",
       "      <th>child_right</th>\n",
       "      <th>sway_left</th>\n",
       "      <th>sway_right</th>\n",
       "      <th>correct_is_right</th>\n",
       "    </tr>\n",
       "  </thead>\n",
       "  <tbody>\n",
       "    <tr>\n",
       "      <th>0</th>\n",
       "      <td>*path--random;(mtl:20)</td>\n",
       "      <td>Watch out Jimmy Carter...</td>\n",
       "      <td>I read this and thought: *All Jimmy Carters go...</td>\n",
       "      <td>PSA: guns are dangerous and designed to kill, ...</td>\n",
       "      <td>Hahahah. One of our country flag’s colors. Now...</td>\n",
       "      <td>1.000000</td>\n",
       "      <td>5.109089e-12</td>\n",
       "      <td>False</td>\n",
       "    </tr>\n",
       "    <tr>\n",
       "      <th>1</th>\n",
       "      <td>random--path;(sw)</td>\n",
       "      <td>Don’t even need to replace the thermostat, jum...</td>\n",
       "      <td>if nothing comes of this (likely) then I don’t...</td>\n",
       "      <td>Now confirmed, he's Charles III.</td>\n",
       "      <td>Oh, that's interesting. Well hopefully that na...</td>\n",
       "      <td>0.006693</td>\n",
       "      <td>9.933071e-01</td>\n",
       "      <td>True</td>\n",
       "    </tr>\n",
       "    <tr>\n",
       "      <th>2</th>\n",
       "      <td>random--path;(sw)</td>\n",
       "      <td>&gt; a cop sees someone in a trench coat in 90 de...</td>\n",
       "      <td>I don't want to know me better.</td>\n",
       "      <td>“I can see Loserville from my house.” -Sarah P...</td>\n",
       "      <td>It’s not a Loserville, it’s a Special Loser Op...</td>\n",
       "      <td>0.047426</td>\n",
       "      <td>9.525741e-01</td>\n",
       "      <td>True</td>\n",
       "    </tr>\n",
       "    <tr>\n",
       "      <th>3</th>\n",
       "      <td>*valid--random;(sw)</td>\n",
       "      <td>Except declaring half of your country’s popula...</td>\n",
       "      <td>Half the population are Trump supporters? Lol ...</td>\n",
       "      <td>This made me physically ill. Carolyn is the ex...</td>\n",
       "      <td>She was borderline cheating on her husband in ...</td>\n",
       "      <td>0.952574</td>\n",
       "      <td>4.742587e-02</td>\n",
       "      <td>False</td>\n",
       "    </tr>\n",
       "  </tbody>\n",
       "</table>\n",
       "</div>"
      ],
      "text/plain": [
       "                 gen_name                                        parent_left  \\\n",
       "0  *path--random;(mtl:20)                          Watch out Jimmy Carter...   \n",
       "1       random--path;(sw)  Don’t even need to replace the thermostat, jum...   \n",
       "2       random--path;(sw)  > a cop sees someone in a trench coat in 90 de...   \n",
       "3     *valid--random;(sw)  Except declaring half of your country’s popula...   \n",
       "\n",
       "                                          child_left  \\\n",
       "0  I read this and thought: *All Jimmy Carters go...   \n",
       "1  if nothing comes of this (likely) then I don’t...   \n",
       "2                    I don't want to know me better.   \n",
       "3  Half the population are Trump supporters? Lol ...   \n",
       "\n",
       "                                        parent_right  \\\n",
       "0  PSA: guns are dangerous and designed to kill, ...   \n",
       "1                   Now confirmed, he's Charles III.   \n",
       "2  “I can see Loserville from my house.” -Sarah P...   \n",
       "3  This made me physically ill. Carolyn is the ex...   \n",
       "\n",
       "                                         child_right  sway_left    sway_right  \\\n",
       "0  Hahahah. One of our country flag’s colors. Now...   1.000000  5.109089e-12   \n",
       "1  Oh, that's interesting. Well hopefully that na...   0.006693  9.933071e-01   \n",
       "2  It’s not a Loserville, it’s a Special Loser Op...   0.047426  9.525741e-01   \n",
       "3  She was borderline cheating on her husband in ...   0.952574  4.742587e-02   \n",
       "\n",
       "   correct_is_right  \n",
       "0             False  \n",
       "1              True  \n",
       "2              True  \n",
       "3             False  "
      ]
     },
     "metadata": {},
     "output_type": "display_data"
    },
    {
     "data": {
      "application/vnd.jupyter.widget-view+json": {
       "model_id": "9805a87607b74952aa8317e88096ed04",
       "version_major": 2,
       "version_minor": 0
      },
      "text/plain": [
       "train val:   0%|          | 0/10000 [00:00<?, ?it/s]"
      ]
     },
     "metadata": {},
     "output_type": "display_data"
    },
    {
     "data": {
      "application/vnd.jupyter.widget-view+json": {
       "model_id": "d5f6f1021f8c469dac06db8bc9781892",
       "version_major": 2,
       "version_minor": 0
      },
      "text/plain": [
       "test:   0%|          | 0/10000 [00:00<?, ?it/s]"
      ]
     },
     "metadata": {},
     "output_type": "display_data"
    },
    {
     "name": "stdout",
     "output_type": "stream",
     "text": [
      "train: {'accuracy': 0.5502} loss: 0.6558347885072231\n",
      "train val: {'accuracy': 0.4993} loss: 0.6901001556038856\n",
      "test: {'accuracy': 0.5064} loss: 0.7092396083831787\n",
      "epoch 71\n"
     ]
    },
    {
     "data": {
      "application/vnd.jupyter.widget-view+json": {
       "model_id": "487c6550240f489fa15c66137f303fbf",
       "version_major": 2,
       "version_minor": 0
      },
      "text/plain": [
       "train:   0%|          | 0/20000 [00:00<?, ?it/s]"
      ]
     },
     "metadata": {},
     "output_type": "display_data"
    },
    {
     "data": {
      "text/html": [
       "<div>\n",
       "<style scoped>\n",
       "    .dataframe tbody tr th:only-of-type {\n",
       "        vertical-align: middle;\n",
       "    }\n",
       "\n",
       "    .dataframe tbody tr th {\n",
       "        vertical-align: top;\n",
       "    }\n",
       "\n",
       "    .dataframe thead th {\n",
       "        text-align: right;\n",
       "    }\n",
       "</style>\n",
       "<table border=\"1\" class=\"dataframe\">\n",
       "  <thead>\n",
       "    <tr style=\"text-align: right;\">\n",
       "      <th></th>\n",
       "      <th>gen_name</th>\n",
       "      <th>parent_left</th>\n",
       "      <th>child_left</th>\n",
       "      <th>parent_right</th>\n",
       "      <th>child_right</th>\n",
       "      <th>sway_left</th>\n",
       "      <th>sway_right</th>\n",
       "      <th>correct_is_right</th>\n",
       "    </tr>\n",
       "  </thead>\n",
       "  <tbody>\n",
       "    <tr>\n",
       "      <th>0</th>\n",
       "      <td>*valid--!copy;(sw)</td>\n",
       "      <td>Who cares?</td>\n",
       "      <td>Narcistic police officers care, thats kinda im...</td>\n",
       "      <td>Narcistic police officers care, thats kinda im...</td>\n",
       "      <td>Who cares?</td>\n",
       "      <td>0.999665</td>\n",
       "      <td>0.000335</td>\n",
       "      <td>False</td>\n",
       "    </tr>\n",
       "    <tr>\n",
       "      <th>1</th>\n",
       "      <td>*path--random;(sw)</td>\n",
       "      <td>They didn't ask me anything.</td>\n",
       "      <td>What’s the story behind this?</td>\n",
       "      <td>Bruh we rock at trains. Passenger rail may not...</td>\n",
       "      <td>Taxes shouldn't be shelled out for ridiculous ...</td>\n",
       "      <td>0.999955</td>\n",
       "      <td>0.000045</td>\n",
       "      <td>False</td>\n",
       "    </tr>\n",
       "    <tr>\n",
       "      <th>2</th>\n",
       "      <td>random--valid;(sw)</td>\n",
       "      <td>The US needs more extreme church and state sep...</td>\n",
       "      <td>So you can bitch about $10k worth of lost time...</td>\n",
       "      <td>Be as it may, but the Russians are far less cl...</td>\n",
       "      <td>Not caring about others is something that's in...</td>\n",
       "      <td>0.000000</td>\n",
       "      <td>1.000000</td>\n",
       "      <td>True</td>\n",
       "    </tr>\n",
       "    <tr>\n",
       "      <th>3</th>\n",
       "      <td>random--path;(mtl:20)</td>\n",
       "      <td>Much rather see term limits than ageism. 2 ter...</td>\n",
       "      <td>Oh he actually timed it did he? Wow! Impressive!</td>\n",
       "      <td>For real. I told a coworker \"I guess Prince Ch...</td>\n",
       "      <td>It's 2022, he can be whatever he wants.</td>\n",
       "      <td>0.047426</td>\n",
       "      <td>0.952574</td>\n",
       "      <td>True</td>\n",
       "    </tr>\n",
       "  </tbody>\n",
       "</table>\n",
       "</div>"
      ],
      "text/plain": [
       "                gen_name                                        parent_left  \\\n",
       "0     *valid--!copy;(sw)                                         Who cares?   \n",
       "1     *path--random;(sw)                       They didn't ask me anything.   \n",
       "2     random--valid;(sw)  The US needs more extreme church and state sep...   \n",
       "3  random--path;(mtl:20)  Much rather see term limits than ageism. 2 ter...   \n",
       "\n",
       "                                          child_left  \\\n",
       "0  Narcistic police officers care, thats kinda im...   \n",
       "1                      What’s the story behind this?   \n",
       "2  So you can bitch about $10k worth of lost time...   \n",
       "3   Oh he actually timed it did he? Wow! Impressive!   \n",
       "\n",
       "                                        parent_right  \\\n",
       "0  Narcistic police officers care, thats kinda im...   \n",
       "1  Bruh we rock at trains. Passenger rail may not...   \n",
       "2  Be as it may, but the Russians are far less cl...   \n",
       "3  For real. I told a coworker \"I guess Prince Ch...   \n",
       "\n",
       "                                         child_right  sway_left  sway_right  \\\n",
       "0                                         Who cares?   0.999665    0.000335   \n",
       "1  Taxes shouldn't be shelled out for ridiculous ...   0.999955    0.000045   \n",
       "2  Not caring about others is something that's in...   0.000000    1.000000   \n",
       "3            It's 2022, he can be whatever he wants.   0.047426    0.952574   \n",
       "\n",
       "   correct_is_right  \n",
       "0             False  \n",
       "1             False  \n",
       "2              True  \n",
       "3              True  "
      ]
     },
     "metadata": {},
     "output_type": "display_data"
    },
    {
     "data": {
      "application/vnd.jupyter.widget-view+json": {
       "model_id": "54ccb6eaf12749ffbb706b8f6c18863c",
       "version_major": 2,
       "version_minor": 0
      },
      "text/plain": [
       "train val:   0%|          | 0/10000 [00:00<?, ?it/s]"
      ]
     },
     "metadata": {},
     "output_type": "display_data"
    },
    {
     "data": {
      "application/vnd.jupyter.widget-view+json": {
       "model_id": "bcaedbf14e5740dda858c15f3d0ecee0",
       "version_major": 2,
       "version_minor": 0
      },
      "text/plain": [
       "test:   0%|          | 0/10000 [00:00<?, ?it/s]"
      ]
     },
     "metadata": {},
     "output_type": "display_data"
    },
    {
     "name": "stdout",
     "output_type": "stream",
     "text": [
      "train: {'accuracy': 0.53745} loss: 0.6811834971427917\n",
      "train val: {'accuracy': 0.5391} loss: 0.7219865792036056\n",
      "test: {'accuracy': 0.4991} loss: 0.7506572774171829\n",
      "epoch 72\n"
     ]
    },
    {
     "data": {
      "application/vnd.jupyter.widget-view+json": {
       "model_id": "c57046ae9bbf402fb533bf4c1a427af6",
       "version_major": 2,
       "version_minor": 0
      },
      "text/plain": [
       "train:   0%|          | 0/20000 [00:00<?, ?it/s]"
      ]
     },
     "metadata": {},
     "output_type": "display_data"
    },
    {
     "data": {
      "text/html": [
       "<div>\n",
       "<style scoped>\n",
       "    .dataframe tbody tr th:only-of-type {\n",
       "        vertical-align: middle;\n",
       "    }\n",
       "\n",
       "    .dataframe tbody tr th {\n",
       "        vertical-align: top;\n",
       "    }\n",
       "\n",
       "    .dataframe thead th {\n",
       "        text-align: right;\n",
       "    }\n",
       "</style>\n",
       "<table border=\"1\" class=\"dataframe\">\n",
       "  <thead>\n",
       "    <tr style=\"text-align: right;\">\n",
       "      <th></th>\n",
       "      <th>gen_name</th>\n",
       "      <th>parent_left</th>\n",
       "      <th>child_left</th>\n",
       "      <th>parent_right</th>\n",
       "      <th>child_right</th>\n",
       "      <th>sway_left</th>\n",
       "      <th>sway_right</th>\n",
       "      <th>correct_is_right</th>\n",
       "    </tr>\n",
       "  </thead>\n",
       "  <tbody>\n",
       "    <tr>\n",
       "      <th>0</th>\n",
       "      <td>random--path;(mtl:20)</td>\n",
       "      <td>Thanks for the r/AsABlackMan content. You're a...</td>\n",
       "      <td>Then I guess you should be angry at literally ...</td>\n",
       "      <td>“‘There was nothing I would have preferred mor...</td>\n",
       "      <td>It would probably be cheaper to fly to Canada ...</td>\n",
       "      <td>0.000017</td>\n",
       "      <td>9.999833e-01</td>\n",
       "      <td>True</td>\n",
       "    </tr>\n",
       "    <tr>\n",
       "      <th>1</th>\n",
       "      <td>*valid--valid;(mtl:20)</td>\n",
       "      <td>The 13th amendment has a carveout specifically...</td>\n",
       "      <td>Slavery. It allows for slavery of inmates.</td>\n",
       "      <td>These documents may themselves refer to other ...</td>\n",
       "      <td>Assuming he didn’t eat it or try to flush it d...</td>\n",
       "      <td>1.000000</td>\n",
       "      <td>3.625141e-34</td>\n",
       "      <td>False</td>\n",
       "    </tr>\n",
       "    <tr>\n",
       "      <th>2</th>\n",
       "      <td>*path--random;(sw)</td>\n",
       "      <td>It was the Clinton (aided by the lapdog Bliar ...</td>\n",
       "      <td>Yeah Socialist would have been worse. They wou...</td>\n",
       "      <td>I'd fetal personhood is established, would tha...</td>\n",
       "      <td>perfect is the enemy of good.</td>\n",
       "      <td>0.996316</td>\n",
       "      <td>3.684240e-03</td>\n",
       "      <td>False</td>\n",
       "    </tr>\n",
       "    <tr>\n",
       "      <th>3</th>\n",
       "      <td>random--path;(sw)</td>\n",
       "      <td>They do if held accountable for their behavior...</td>\n",
       "      <td>will this be an annual event? kids are still t...</td>\n",
       "      <td>Sad thing is these people need psychological h...</td>\n",
       "      <td>that is interesting. this text can be one to o...</td>\n",
       "      <td>0.377541</td>\n",
       "      <td>6.224593e-01</td>\n",
       "      <td>True</td>\n",
       "    </tr>\n",
       "  </tbody>\n",
       "</table>\n",
       "</div>"
      ],
      "text/plain": [
       "                 gen_name                                        parent_left  \\\n",
       "0   random--path;(mtl:20)  Thanks for the r/AsABlackMan content. You're a...   \n",
       "1  *valid--valid;(mtl:20)  The 13th amendment has a carveout specifically...   \n",
       "2      *path--random;(sw)  It was the Clinton (aided by the lapdog Bliar ...   \n",
       "3       random--path;(sw)  They do if held accountable for their behavior...   \n",
       "\n",
       "                                          child_left  \\\n",
       "0  Then I guess you should be angry at literally ...   \n",
       "1         Slavery. It allows for slavery of inmates.   \n",
       "2  Yeah Socialist would have been worse. They wou...   \n",
       "3  will this be an annual event? kids are still t...   \n",
       "\n",
       "                                        parent_right  \\\n",
       "0  “‘There was nothing I would have preferred mor...   \n",
       "1  These documents may themselves refer to other ...   \n",
       "2  I'd fetal personhood is established, would tha...   \n",
       "3  Sad thing is these people need psychological h...   \n",
       "\n",
       "                                         child_right  sway_left    sway_right  \\\n",
       "0  It would probably be cheaper to fly to Canada ...   0.000017  9.999833e-01   \n",
       "1  Assuming he didn’t eat it or try to flush it d...   1.000000  3.625141e-34   \n",
       "2                      perfect is the enemy of good.   0.996316  3.684240e-03   \n",
       "3  that is interesting. this text can be one to o...   0.377541  6.224593e-01   \n",
       "\n",
       "   correct_is_right  \n",
       "0              True  \n",
       "1             False  \n",
       "2             False  \n",
       "3              True  "
      ]
     },
     "metadata": {},
     "output_type": "display_data"
    },
    {
     "data": {
      "application/vnd.jupyter.widget-view+json": {
       "model_id": "7b0b4b5941314de8adf6504a82657348",
       "version_major": 2,
       "version_minor": 0
      },
      "text/plain": [
       "train val:   0%|          | 0/10000 [00:00<?, ?it/s]"
      ]
     },
     "metadata": {},
     "output_type": "display_data"
    },
    {
     "data": {
      "application/vnd.jupyter.widget-view+json": {
       "model_id": "71836d99757a4d07b460d45fcf40aad9",
       "version_major": 2,
       "version_minor": 0
      },
      "text/plain": [
       "test:   0%|          | 0/10000 [00:00<?, ?it/s]"
      ]
     },
     "metadata": {},
     "output_type": "display_data"
    },
    {
     "name": "stdout",
     "output_type": "stream",
     "text": [
      "train: {'accuracy': 0.54395} loss: 0.6561137708842755\n",
      "train val: {'accuracy': 0.5987} loss: 0.7027513869404792\n",
      "test: {'accuracy': 0.5029} loss: 0.7251409138202667\n",
      "epoch 73\n"
     ]
    },
    {
     "data": {
      "application/vnd.jupyter.widget-view+json": {
       "model_id": "9b9ede58028842e683f6f42348ea199b",
       "version_major": 2,
       "version_minor": 0
      },
      "text/plain": [
       "train:   0%|          | 0/20000 [00:00<?, ?it/s]"
      ]
     },
     "metadata": {},
     "output_type": "display_data"
    },
    {
     "data": {
      "text/html": [
       "<div>\n",
       "<style scoped>\n",
       "    .dataframe tbody tr th:only-of-type {\n",
       "        vertical-align: middle;\n",
       "    }\n",
       "\n",
       "    .dataframe tbody tr th {\n",
       "        vertical-align: top;\n",
       "    }\n",
       "\n",
       "    .dataframe thead th {\n",
       "        text-align: right;\n",
       "    }\n",
       "</style>\n",
       "<table border=\"1\" class=\"dataframe\">\n",
       "  <thead>\n",
       "    <tr style=\"text-align: right;\">\n",
       "      <th></th>\n",
       "      <th>gen_name</th>\n",
       "      <th>parent_left</th>\n",
       "      <th>child_left</th>\n",
       "      <th>parent_right</th>\n",
       "      <th>child_right</th>\n",
       "      <th>sway_left</th>\n",
       "      <th>sway_right</th>\n",
       "      <th>correct_is_right</th>\n",
       "    </tr>\n",
       "  </thead>\n",
       "  <tbody>\n",
       "    <tr>\n",
       "      <th>0</th>\n",
       "      <td>*valid--valid;(mtl:20)</td>\n",
       "      <td>He was a son of a bitch, but he was *our* son ...</td>\n",
       "      <td>My mother called me a son of a bitch once, Joh...</td>\n",
       "      <td>[Trump's former AG Bill Barr: 'No justificatio...</td>\n",
       "      <td>He continued, \"but he sold classified informat...</td>\n",
       "      <td>0.731059</td>\n",
       "      <td>0.268941</td>\n",
       "      <td>False</td>\n",
       "    </tr>\n",
       "    <tr>\n",
       "      <th>1</th>\n",
       "      <td>*path--random;(mtl:20)</td>\n",
       "      <td>It’s so strange to think she’s been queen so l...</td>\n",
       "      <td>First Betty White and now this.</td>\n",
       "      <td>I am worried that the endless appeals process ...</td>\n",
       "      <td>“Its been a very difficult day for him and our...</td>\n",
       "      <td>0.997527</td>\n",
       "      <td>0.002473</td>\n",
       "      <td>False</td>\n",
       "    </tr>\n",
       "    <tr>\n",
       "      <th>2</th>\n",
       "      <td>*path--random;(sw)</td>\n",
       "      <td>If you got Pell grants in school, it's $20k in...</td>\n",
       "      <td>Everything's finally coming up Milhouse!</td>\n",
       "      <td>I think the thing that gets me the most is tha...</td>\n",
       "      <td>Trump has built his career on skimming money o...</td>\n",
       "      <td>0.997527</td>\n",
       "      <td>0.002473</td>\n",
       "      <td>False</td>\n",
       "    </tr>\n",
       "    <tr>\n",
       "      <th>3</th>\n",
       "      <td>random--path;(sw)</td>\n",
       "      <td>*NPR and PBS have entered the chat*</td>\n",
       "      <td>Forget the gun violence. Let’s just make sure ...</td>\n",
       "      <td>[Teachers at Ohio's largest school district vo...</td>\n",
       "      <td>Hey, what do you know, if you continuously und...</td>\n",
       "      <td>0.000000</td>\n",
       "      <td>1.000000</td>\n",
       "      <td>True</td>\n",
       "    </tr>\n",
       "  </tbody>\n",
       "</table>\n",
       "</div>"
      ],
      "text/plain": [
       "                 gen_name                                        parent_left  \\\n",
       "0  *valid--valid;(mtl:20)  He was a son of a bitch, but he was *our* son ...   \n",
       "1  *path--random;(mtl:20)  It’s so strange to think she’s been queen so l...   \n",
       "2      *path--random;(sw)  If you got Pell grants in school, it's $20k in...   \n",
       "3       random--path;(sw)                *NPR and PBS have entered the chat*   \n",
       "\n",
       "                                          child_left  \\\n",
       "0  My mother called me a son of a bitch once, Joh...   \n",
       "1                    First Betty White and now this.   \n",
       "2           Everything's finally coming up Milhouse!   \n",
       "3  Forget the gun violence. Let’s just make sure ...   \n",
       "\n",
       "                                        parent_right  \\\n",
       "0  [Trump's former AG Bill Barr: 'No justificatio...   \n",
       "1  I am worried that the endless appeals process ...   \n",
       "2  I think the thing that gets me the most is tha...   \n",
       "3  [Teachers at Ohio's largest school district vo...   \n",
       "\n",
       "                                         child_right  sway_left  sway_right  \\\n",
       "0  He continued, \"but he sold classified informat...   0.731059    0.268941   \n",
       "1  “Its been a very difficult day for him and our...   0.997527    0.002473   \n",
       "2  Trump has built his career on skimming money o...   0.997527    0.002473   \n",
       "3  Hey, what do you know, if you continuously und...   0.000000    1.000000   \n",
       "\n",
       "   correct_is_right  \n",
       "0             False  \n",
       "1             False  \n",
       "2             False  \n",
       "3              True  "
      ]
     },
     "metadata": {},
     "output_type": "display_data"
    },
    {
     "data": {
      "application/vnd.jupyter.widget-view+json": {
       "model_id": "0442b2e651e14c028d8cd03a6d37f591",
       "version_major": 2,
       "version_minor": 0
      },
      "text/plain": [
       "train val:   0%|          | 0/10000 [00:00<?, ?it/s]"
      ]
     },
     "metadata": {},
     "output_type": "display_data"
    },
    {
     "data": {
      "application/vnd.jupyter.widget-view+json": {
       "model_id": "a0395d5a4f09464697611ddd71e1b1f5",
       "version_major": 2,
       "version_minor": 0
      },
      "text/plain": [
       "test:   0%|          | 0/10000 [00:00<?, ?it/s]"
      ]
     },
     "metadata": {},
     "output_type": "display_data"
    },
    {
     "name": "stdout",
     "output_type": "stream",
     "text": [
      "train: {'accuracy': 0.54205} loss: 0.6656552115321159\n",
      "train val: {'accuracy': 0.6157} loss: 0.6864328192830086\n",
      "test: {'accuracy': 0.5035} loss: 0.6932740017652511\n",
      "epoch 74\n"
     ]
    },
    {
     "data": {
      "application/vnd.jupyter.widget-view+json": {
       "model_id": "a3dc384025de4f8a96bb851f80603369",
       "version_major": 2,
       "version_minor": 0
      },
      "text/plain": [
       "train:   0%|          | 0/20000 [00:00<?, ?it/s]"
      ]
     },
     "metadata": {},
     "output_type": "display_data"
    },
    {
     "data": {
      "text/html": [
       "<div>\n",
       "<style scoped>\n",
       "    .dataframe tbody tr th:only-of-type {\n",
       "        vertical-align: middle;\n",
       "    }\n",
       "\n",
       "    .dataframe tbody tr th {\n",
       "        vertical-align: top;\n",
       "    }\n",
       "\n",
       "    .dataframe thead th {\n",
       "        text-align: right;\n",
       "    }\n",
       "</style>\n",
       "<table border=\"1\" class=\"dataframe\">\n",
       "  <thead>\n",
       "    <tr style=\"text-align: right;\">\n",
       "      <th></th>\n",
       "      <th>gen_name</th>\n",
       "      <th>parent_left</th>\n",
       "      <th>child_left</th>\n",
       "      <th>parent_right</th>\n",
       "      <th>child_right</th>\n",
       "      <th>sway_left</th>\n",
       "      <th>sway_right</th>\n",
       "      <th>correct_is_right</th>\n",
       "    </tr>\n",
       "  </thead>\n",
       "  <tbody>\n",
       "    <tr>\n",
       "      <th>0</th>\n",
       "      <td>!valid--valid;(mtl:20)</td>\n",
       "      <td>And scary boars! I remember reading about peop...</td>\n",
       "      <td>I feel sorry for Russians. Like... they've got...</td>\n",
       "      <td>I'm a liberal and I'm not crazy about the loan...</td>\n",
       "      <td>&gt; Honestly, it does seem inequitable, and as t...</td>\n",
       "      <td>0.268941</td>\n",
       "      <td>7.310586e-01</td>\n",
       "      <td>True</td>\n",
       "    </tr>\n",
       "    <tr>\n",
       "      <th>1</th>\n",
       "      <td>*path--!copy;(mtl:20)</td>\n",
       "      <td>Does anyone know what the kids were initially ...</td>\n",
       "      <td>There’s(may not be there anymore) a documentar...</td>\n",
       "      <td>There’s(may not be there anymore) a documentar...</td>\n",
       "      <td>Does anyone know what the kids were initially ...</td>\n",
       "      <td>0.731059</td>\n",
       "      <td>2.689414e-01</td>\n",
       "      <td>False</td>\n",
       "    </tr>\n",
       "    <tr>\n",
       "      <th>2</th>\n",
       "      <td>valid--valid</td>\n",
       "      <td>I think they still want to be part of EU but n...</td>\n",
       "      <td>Man, he is just really going for it. I would s...</td>\n",
       "      <td>You must have not been following politics 15 y...</td>\n",
       "      <td>15 years ago predates the Tea Party movement…</td>\n",
       "      <td>0.002473</td>\n",
       "      <td>9.975274e-01</td>\n",
       "      <td>True</td>\n",
       "    </tr>\n",
       "    <tr>\n",
       "      <th>3</th>\n",
       "      <td>*path--random;(mtl:20)</td>\n",
       "      <td>Chuck Grassley was an elected Iowa politician ...</td>\n",
       "      <td>Chuck Grassley campaigned on his opponent bein...</td>\n",
       "      <td>Between him and Henderson, there's at least 5 ...</td>\n",
       "      <td>That clip is so 1984</td>\n",
       "      <td>1.000000</td>\n",
       "      <td>2.789468e-10</td>\n",
       "      <td>False</td>\n",
       "    </tr>\n",
       "  </tbody>\n",
       "</table>\n",
       "</div>"
      ],
      "text/plain": [
       "                 gen_name                                        parent_left  \\\n",
       "0  !valid--valid;(mtl:20)  And scary boars! I remember reading about peop...   \n",
       "1   *path--!copy;(mtl:20)  Does anyone know what the kids were initially ...   \n",
       "2            valid--valid  I think they still want to be part of EU but n...   \n",
       "3  *path--random;(mtl:20)  Chuck Grassley was an elected Iowa politician ...   \n",
       "\n",
       "                                          child_left  \\\n",
       "0  I feel sorry for Russians. Like... they've got...   \n",
       "1  There’s(may not be there anymore) a documentar...   \n",
       "2  Man, he is just really going for it. I would s...   \n",
       "3  Chuck Grassley campaigned on his opponent bein...   \n",
       "\n",
       "                                        parent_right  \\\n",
       "0  I'm a liberal and I'm not crazy about the loan...   \n",
       "1  There’s(may not be there anymore) a documentar...   \n",
       "2  You must have not been following politics 15 y...   \n",
       "3  Between him and Henderson, there's at least 5 ...   \n",
       "\n",
       "                                         child_right  sway_left    sway_right  \\\n",
       "0  > Honestly, it does seem inequitable, and as t...   0.268941  7.310586e-01   \n",
       "1  Does anyone know what the kids were initially ...   0.731059  2.689414e-01   \n",
       "2      15 years ago predates the Tea Party movement…   0.002473  9.975274e-01   \n",
       "3                               That clip is so 1984   1.000000  2.789468e-10   \n",
       "\n",
       "   correct_is_right  \n",
       "0              True  \n",
       "1             False  \n",
       "2              True  \n",
       "3             False  "
      ]
     },
     "metadata": {},
     "output_type": "display_data"
    },
    {
     "data": {
      "application/vnd.jupyter.widget-view+json": {
       "model_id": "9653727989784093aa6081f7089dfa14",
       "version_major": 2,
       "version_minor": 0
      },
      "text/plain": [
       "train val:   0%|          | 0/10000 [00:00<?, ?it/s]"
      ]
     },
     "metadata": {},
     "output_type": "display_data"
    },
    {
     "data": {
      "application/vnd.jupyter.widget-view+json": {
       "model_id": "feb32a3c829c4c6f842c35c5c626c6d1",
       "version_major": 2,
       "version_minor": 0
      },
      "text/plain": [
       "test:   0%|          | 0/10000 [00:00<?, ?it/s]"
      ]
     },
     "metadata": {},
     "output_type": "display_data"
    },
    {
     "name": "stdout",
     "output_type": "stream",
     "text": [
      "train: {'accuracy': 0.5436} loss: 0.641769963812828\n",
      "train val: {'accuracy': 0.5164} loss: 0.6853078327298164\n",
      "test: {'accuracy': 0.5001} loss: 0.6916430281639099\n",
      "epoch 75\n"
     ]
    },
    {
     "data": {
      "application/vnd.jupyter.widget-view+json": {
       "model_id": "95a1b124a66c4c758594f64e7bb3006f",
       "version_major": 2,
       "version_minor": 0
      },
      "text/plain": [
       "train:   0%|          | 0/20000 [00:00<?, ?it/s]"
      ]
     },
     "metadata": {},
     "output_type": "display_data"
    },
    {
     "data": {
      "text/html": [
       "<div>\n",
       "<style scoped>\n",
       "    .dataframe tbody tr th:only-of-type {\n",
       "        vertical-align: middle;\n",
       "    }\n",
       "\n",
       "    .dataframe tbody tr th {\n",
       "        vertical-align: top;\n",
       "    }\n",
       "\n",
       "    .dataframe thead th {\n",
       "        text-align: right;\n",
       "    }\n",
       "</style>\n",
       "<table border=\"1\" class=\"dataframe\">\n",
       "  <thead>\n",
       "    <tr style=\"text-align: right;\">\n",
       "      <th></th>\n",
       "      <th>gen_name</th>\n",
       "      <th>parent_left</th>\n",
       "      <th>child_left</th>\n",
       "      <th>parent_right</th>\n",
       "      <th>child_right</th>\n",
       "      <th>sway_left</th>\n",
       "      <th>sway_right</th>\n",
       "      <th>correct_is_right</th>\n",
       "    </tr>\n",
       "  </thead>\n",
       "  <tbody>\n",
       "    <tr>\n",
       "      <th>0</th>\n",
       "      <td>valid--valid;(mtl:20)</td>\n",
       "      <td>[Ukraine’s foreign minister names the two EU c...</td>\n",
       "      <td>I knew we sent them weapons, I wish we hadn't....</td>\n",
       "      <td>Points 26 through 78 are 95% redacted. This re...</td>\n",
       "      <td>And you're surprised by this?</td>\n",
       "      <td>5.109135e-12</td>\n",
       "      <td>1.000000</td>\n",
       "      <td>True</td>\n",
       "    </tr>\n",
       "    <tr>\n",
       "      <th>1</th>\n",
       "      <td>!valid--valid;(sw)</td>\n",
       "      <td>In the past 20 years, there have only been thr...</td>\n",
       "      <td>Texas would collapse economically if they sece...</td>\n",
       "      <td>&gt;since fear tends to attract more viewers stat...</td>\n",
       "      <td>Politicians pushed that change. They found out...</td>\n",
       "      <td>4.662937e-15</td>\n",
       "      <td>1.000000</td>\n",
       "      <td>True</td>\n",
       "    </tr>\n",
       "    <tr>\n",
       "      <th>2</th>\n",
       "      <td>random--valid;(sw)</td>\n",
       "      <td>And does a rapist call the victim to tell her ...</td>\n",
       "      <td>They're human beings. They want to meet people...</td>\n",
       "      <td>I like how autocorrect knows Williams Sonoma b...</td>\n",
       "      <td>I figured it knew the surname Williams and the...</td>\n",
       "      <td>1.192029e-01</td>\n",
       "      <td>0.880797</td>\n",
       "      <td>True</td>\n",
       "    </tr>\n",
       "    <tr>\n",
       "      <th>3</th>\n",
       "      <td>!copy--path;(sw)</td>\n",
       "      <td>[Lori Lightfoot Welcomed Migrants Bused to Chi...</td>\n",
       "      <td>t/conservative</td>\n",
       "      <td>t/conservative</td>\n",
       "      <td>[Lori Lightfoot Welcomed Migrants Bused to Chi...</td>\n",
       "      <td>2.789468e-10</td>\n",
       "      <td>1.000000</td>\n",
       "      <td>True</td>\n",
       "    </tr>\n",
       "  </tbody>\n",
       "</table>\n",
       "</div>"
      ],
      "text/plain": [
       "                gen_name                                        parent_left  \\\n",
       "0  valid--valid;(mtl:20)  [Ukraine’s foreign minister names the two EU c...   \n",
       "1     !valid--valid;(sw)  In the past 20 years, there have only been thr...   \n",
       "2     random--valid;(sw)  And does a rapist call the victim to tell her ...   \n",
       "3       !copy--path;(sw)  [Lori Lightfoot Welcomed Migrants Bused to Chi...   \n",
       "\n",
       "                                          child_left  \\\n",
       "0  I knew we sent them weapons, I wish we hadn't....   \n",
       "1  Texas would collapse economically if they sece...   \n",
       "2  They're human beings. They want to meet people...   \n",
       "3                                     t/conservative   \n",
       "\n",
       "                                        parent_right  \\\n",
       "0  Points 26 through 78 are 95% redacted. This re...   \n",
       "1  >since fear tends to attract more viewers stat...   \n",
       "2  I like how autocorrect knows Williams Sonoma b...   \n",
       "3                                     t/conservative   \n",
       "\n",
       "                                         child_right     sway_left  \\\n",
       "0                      And you're surprised by this?  5.109135e-12   \n",
       "1  Politicians pushed that change. They found out...  4.662937e-15   \n",
       "2  I figured it knew the surname Williams and the...  1.192029e-01   \n",
       "3  [Lori Lightfoot Welcomed Migrants Bused to Chi...  2.789468e-10   \n",
       "\n",
       "   sway_right  correct_is_right  \n",
       "0    1.000000              True  \n",
       "1    1.000000              True  \n",
       "2    0.880797              True  \n",
       "3    1.000000              True  "
      ]
     },
     "metadata": {},
     "output_type": "display_data"
    },
    {
     "data": {
      "application/vnd.jupyter.widget-view+json": {
       "model_id": "32d157721f8e431493820e6a94926d73",
       "version_major": 2,
       "version_minor": 0
      },
      "text/plain": [
       "train val:   0%|          | 0/10000 [00:00<?, ?it/s]"
      ]
     },
     "metadata": {},
     "output_type": "display_data"
    },
    {
     "data": {
      "application/vnd.jupyter.widget-view+json": {
       "model_id": "7014fba5c0a74b6cbf5993888ad7bec3",
       "version_major": 2,
       "version_minor": 0
      },
      "text/plain": [
       "test:   0%|          | 0/10000 [00:00<?, ?it/s]"
      ]
     },
     "metadata": {},
     "output_type": "display_data"
    },
    {
     "name": "stdout",
     "output_type": "stream",
     "text": [
      "train: {'accuracy': 0.5463} loss: 0.6475212125360966\n",
      "train val: {'accuracy': 0.5051} loss: 0.6847323530435562\n",
      "test: {'accuracy': 0.5012} loss: 0.6927606877207756\n",
      "epoch 76\n"
     ]
    },
    {
     "data": {
      "application/vnd.jupyter.widget-view+json": {
       "model_id": "77ef2fc9d91c406a948e975197a5fc9e",
       "version_major": 2,
       "version_minor": 0
      },
      "text/plain": [
       "train:   0%|          | 0/20000 [00:00<?, ?it/s]"
      ]
     },
     "metadata": {},
     "output_type": "display_data"
    },
    {
     "data": {
      "text/html": [
       "<div>\n",
       "<style scoped>\n",
       "    .dataframe tbody tr th:only-of-type {\n",
       "        vertical-align: middle;\n",
       "    }\n",
       "\n",
       "    .dataframe tbody tr th {\n",
       "        vertical-align: top;\n",
       "    }\n",
       "\n",
       "    .dataframe thead th {\n",
       "        text-align: right;\n",
       "    }\n",
       "</style>\n",
       "<table border=\"1\" class=\"dataframe\">\n",
       "  <thead>\n",
       "    <tr style=\"text-align: right;\">\n",
       "      <th></th>\n",
       "      <th>gen_name</th>\n",
       "      <th>parent_left</th>\n",
       "      <th>child_left</th>\n",
       "      <th>parent_right</th>\n",
       "      <th>child_right</th>\n",
       "      <th>sway_left</th>\n",
       "      <th>sway_right</th>\n",
       "      <th>correct_is_right</th>\n",
       "    </tr>\n",
       "  </thead>\n",
       "  <tbody>\n",
       "    <tr>\n",
       "      <th>0</th>\n",
       "      <td>*valid--valid;(mtl:20)</td>\n",
       "      <td>What could be done to save the baby?</td>\n",
       "      <td>nothing and she should be able to get one even...</td>\n",
       "      <td>[Justice Dept. to seek longest sentence in any...</td>\n",
       "      <td>That should have been the low end for the thou...</td>\n",
       "      <td>0.000000</td>\n",
       "      <td>1.000000</td>\n",
       "      <td>True</td>\n",
       "    </tr>\n",
       "    <tr>\n",
       "      <th>1</th>\n",
       "      <td>random--valid;(sw)</td>\n",
       "      <td>Yeah. It's truly bizarre the way some provider...</td>\n",
       "      <td>You gotta admit that the color scheme was off-...</td>\n",
       "      <td>Makes me mad that I paid my loans off while wo...</td>\n",
       "      <td>\"BUT WHAT ABOUT MEEEEE\" Being mad at something...</td>\n",
       "      <td>0.401312</td>\n",
       "      <td>0.598688</td>\n",
       "      <td>True</td>\n",
       "    </tr>\n",
       "    <tr>\n",
       "      <th>2</th>\n",
       "      <td>valid--valid</td>\n",
       "      <td>[removed]</td>\n",
       "      <td>And Samuel Alito, who wrote one of the most am...</td>\n",
       "      <td>They can mount a legal challenge to it (which ...</td>\n",
       "      <td>It would be political suicide for them to publ...</td>\n",
       "      <td>0.731059</td>\n",
       "      <td>0.268941</td>\n",
       "      <td>False</td>\n",
       "    </tr>\n",
       "    <tr>\n",
       "      <th>3</th>\n",
       "      <td>*valid--valid;(sw)</td>\n",
       "      <td>The Brooks Brothers riot was the tax cut. Not ...</td>\n",
       "      <td>No it was the hanging chads in Florida origina...</td>\n",
       "      <td>I've noticed Biden appointees contradicting an...</td>\n",
       "      <td>...he did do that.</td>\n",
       "      <td>0.952574</td>\n",
       "      <td>0.047426</td>\n",
       "      <td>False</td>\n",
       "    </tr>\n",
       "  </tbody>\n",
       "</table>\n",
       "</div>"
      ],
      "text/plain": [
       "                 gen_name                                        parent_left  \\\n",
       "0  *valid--valid;(mtl:20)               What could be done to save the baby?   \n",
       "1      random--valid;(sw)  Yeah. It's truly bizarre the way some provider...   \n",
       "2            valid--valid                                          [removed]   \n",
       "3      *valid--valid;(sw)  The Brooks Brothers riot was the tax cut. Not ...   \n",
       "\n",
       "                                          child_left  \\\n",
       "0  nothing and she should be able to get one even...   \n",
       "1  You gotta admit that the color scheme was off-...   \n",
       "2  And Samuel Alito, who wrote one of the most am...   \n",
       "3  No it was the hanging chads in Florida origina...   \n",
       "\n",
       "                                        parent_right  \\\n",
       "0  [Justice Dept. to seek longest sentence in any...   \n",
       "1  Makes me mad that I paid my loans off while wo...   \n",
       "2  They can mount a legal challenge to it (which ...   \n",
       "3  I've noticed Biden appointees contradicting an...   \n",
       "\n",
       "                                         child_right  sway_left  sway_right  \\\n",
       "0  That should have been the low end for the thou...   0.000000    1.000000   \n",
       "1  \"BUT WHAT ABOUT MEEEEE\" Being mad at something...   0.401312    0.598688   \n",
       "2  It would be political suicide for them to publ...   0.731059    0.268941   \n",
       "3                                 ...he did do that.   0.952574    0.047426   \n",
       "\n",
       "   correct_is_right  \n",
       "0              True  \n",
       "1              True  \n",
       "2             False  \n",
       "3             False  "
      ]
     },
     "metadata": {},
     "output_type": "display_data"
    },
    {
     "data": {
      "application/vnd.jupyter.widget-view+json": {
       "model_id": "6cdb5c79b14a4f0da814dc95425640b6",
       "version_major": 2,
       "version_minor": 0
      },
      "text/plain": [
       "train val:   0%|          | 0/10000 [00:00<?, ?it/s]"
      ]
     },
     "metadata": {},
     "output_type": "display_data"
    },
    {
     "data": {
      "application/vnd.jupyter.widget-view+json": {
       "model_id": "3574b26d31ab446687f45b69f18d8a8f",
       "version_major": 2,
       "version_minor": 0
      },
      "text/plain": [
       "test:   0%|          | 0/10000 [00:00<?, ?it/s]"
      ]
     },
     "metadata": {},
     "output_type": "display_data"
    },
    {
     "name": "stdout",
     "output_type": "stream",
     "text": [
      "train: {'accuracy': 0.5521} loss: 0.642026947259903\n",
      "train val: {'accuracy': 0.5942} loss: 0.6847327728271484\n",
      "test: {'accuracy': 0.4926} loss: 0.6927602504014969\n",
      "epoch 77\n"
     ]
    },
    {
     "data": {
      "application/vnd.jupyter.widget-view+json": {
       "model_id": "bc92e215214a4c57a4fa249f057a0bf7",
       "version_major": 2,
       "version_minor": 0
      },
      "text/plain": [
       "train:   0%|          | 0/20000 [00:00<?, ?it/s]"
      ]
     },
     "metadata": {},
     "output_type": "display_data"
    },
    {
     "data": {
      "text/html": [
       "<div>\n",
       "<style scoped>\n",
       "    .dataframe tbody tr th:only-of-type {\n",
       "        vertical-align: middle;\n",
       "    }\n",
       "\n",
       "    .dataframe tbody tr th {\n",
       "        vertical-align: top;\n",
       "    }\n",
       "\n",
       "    .dataframe thead th {\n",
       "        text-align: right;\n",
       "    }\n",
       "</style>\n",
       "<table border=\"1\" class=\"dataframe\">\n",
       "  <thead>\n",
       "    <tr style=\"text-align: right;\">\n",
       "      <th></th>\n",
       "      <th>gen_name</th>\n",
       "      <th>parent_left</th>\n",
       "      <th>child_left</th>\n",
       "      <th>parent_right</th>\n",
       "      <th>child_right</th>\n",
       "      <th>sway_left</th>\n",
       "      <th>sway_right</th>\n",
       "      <th>correct_is_right</th>\n",
       "    </tr>\n",
       "  </thead>\n",
       "  <tbody>\n",
       "    <tr>\n",
       "      <th>0</th>\n",
       "      <td>*valid--random;(sw)</td>\n",
       "      <td>\"But being with a sex worker is degrading to m...</td>\n",
       "      <td>Andrew Tate moved to whatever country so he ca...</td>\n",
       "      <td>&gt;Rebekah Jones, 30, was charged in July 2019 w...</td>\n",
       "      <td>I wish they would live stream this as a hearin...</td>\n",
       "      <td>0.952574</td>\n",
       "      <td>0.047426</td>\n",
       "      <td>False</td>\n",
       "    </tr>\n",
       "    <tr>\n",
       "      <th>1</th>\n",
       "      <td>!valid--valid;(mtl:20)</td>\n",
       "      <td>She should live stream her parties and to hell...</td>\n",
       "      <td>[Marin: \"I haven't missed a single day of work...</td>\n",
       "      <td>How can they even say no? We literally fund them?</td>\n",
       "      <td>What are we going to do? Stop funding them?</td>\n",
       "      <td>0.268941</td>\n",
       "      <td>0.731059</td>\n",
       "      <td>True</td>\n",
       "    </tr>\n",
       "    <tr>\n",
       "      <th>2</th>\n",
       "      <td>random--path;(sw)</td>\n",
       "      <td>Pacifists should get jobs at gun stores, and t...</td>\n",
       "      <td>To stop the war in Ukraine by applying pressur...</td>\n",
       "      <td>t/worldnews</td>\n",
       "      <td>[Baltics, Poland to ban entry to Russian touri...</td>\n",
       "      <td>0.000000</td>\n",
       "      <td>1.000000</td>\n",
       "      <td>True</td>\n",
       "    </tr>\n",
       "    <tr>\n",
       "      <th>3</th>\n",
       "      <td>*valid--valid;(sw)</td>\n",
       "      <td>\"it's impossible for me to steal from you beca...</td>\n",
       "      <td>These dumb sons of bitches actually fooled the...</td>\n",
       "      <td>[deleted]</td>\n",
       "      <td>Oh fuck off, every single leader gets off time...</td>\n",
       "      <td>0.000123</td>\n",
       "      <td>0.999877</td>\n",
       "      <td>True</td>\n",
       "    </tr>\n",
       "  </tbody>\n",
       "</table>\n",
       "</div>"
      ],
      "text/plain": [
       "                 gen_name                                        parent_left  \\\n",
       "0     *valid--random;(sw)  \"But being with a sex worker is degrading to m...   \n",
       "1  !valid--valid;(mtl:20)  She should live stream her parties and to hell...   \n",
       "2       random--path;(sw)  Pacifists should get jobs at gun stores, and t...   \n",
       "3      *valid--valid;(sw)  \"it's impossible for me to steal from you beca...   \n",
       "\n",
       "                                          child_left  \\\n",
       "0  Andrew Tate moved to whatever country so he ca...   \n",
       "1  [Marin: \"I haven't missed a single day of work...   \n",
       "2  To stop the war in Ukraine by applying pressur...   \n",
       "3  These dumb sons of bitches actually fooled the...   \n",
       "\n",
       "                                        parent_right  \\\n",
       "0  >Rebekah Jones, 30, was charged in July 2019 w...   \n",
       "1  How can they even say no? We literally fund them?   \n",
       "2                                        t/worldnews   \n",
       "3                                          [deleted]   \n",
       "\n",
       "                                         child_right  sway_left  sway_right  \\\n",
       "0  I wish they would live stream this as a hearin...   0.952574    0.047426   \n",
       "1        What are we going to do? Stop funding them?   0.268941    0.731059   \n",
       "2  [Baltics, Poland to ban entry to Russian touri...   0.000000    1.000000   \n",
       "3  Oh fuck off, every single leader gets off time...   0.000123    0.999877   \n",
       "\n",
       "   correct_is_right  \n",
       "0             False  \n",
       "1              True  \n",
       "2              True  \n",
       "3              True  "
      ]
     },
     "metadata": {},
     "output_type": "display_data"
    },
    {
     "data": {
      "application/vnd.jupyter.widget-view+json": {
       "model_id": "ce7ceabe1cc041e7802414865eb29b9f",
       "version_major": 2,
       "version_minor": 0
      },
      "text/plain": [
       "train val:   0%|          | 0/10000 [00:00<?, ?it/s]"
      ]
     },
     "metadata": {},
     "output_type": "display_data"
    },
    {
     "data": {
      "application/vnd.jupyter.widget-view+json": {
       "model_id": "98085406cc484ca8a521b0817c6bf410",
       "version_major": 2,
       "version_minor": 0
      },
      "text/plain": [
       "test:   0%|          | 0/10000 [00:00<?, ?it/s]"
      ]
     },
     "metadata": {},
     "output_type": "display_data"
    },
    {
     "name": "stdout",
     "output_type": "stream",
     "text": [
      "train: {'accuracy': 0.54745} loss: 0.6433796379387379\n",
      "train val: {'accuracy': 0.5084} loss: 0.6847318918466568\n",
      "test: {'accuracy': 0.4917} loss: 0.6930474765777588\n",
      "epoch 78\n"
     ]
    },
    {
     "data": {
      "application/vnd.jupyter.widget-view+json": {
       "model_id": "4ec832b4a05841e2adf41773a35ba252",
       "version_major": 2,
       "version_minor": 0
      },
      "text/plain": [
       "train:   0%|          | 0/20000 [00:00<?, ?it/s]"
      ]
     },
     "metadata": {},
     "output_type": "display_data"
    },
    {
     "data": {
      "text/html": [
       "<div>\n",
       "<style scoped>\n",
       "    .dataframe tbody tr th:only-of-type {\n",
       "        vertical-align: middle;\n",
       "    }\n",
       "\n",
       "    .dataframe tbody tr th {\n",
       "        vertical-align: top;\n",
       "    }\n",
       "\n",
       "    .dataframe thead th {\n",
       "        text-align: right;\n",
       "    }\n",
       "</style>\n",
       "<table border=\"1\" class=\"dataframe\">\n",
       "  <thead>\n",
       "    <tr style=\"text-align: right;\">\n",
       "      <th></th>\n",
       "      <th>gen_name</th>\n",
       "      <th>parent_left</th>\n",
       "      <th>child_left</th>\n",
       "      <th>parent_right</th>\n",
       "      <th>child_right</th>\n",
       "      <th>sway_left</th>\n",
       "      <th>sway_right</th>\n",
       "      <th>correct_is_right</th>\n",
       "    </tr>\n",
       "  </thead>\n",
       "  <tbody>\n",
       "    <tr>\n",
       "      <th>0</th>\n",
       "      <td>valid--valid</td>\n",
       "      <td>[Defiant Zelenskyy, on Independence Day, says ...</td>\n",
       "      <td>That’s my dad</td>\n",
       "      <td>So, they didn’t hire 87,000 IRS agents?</td>\n",
       "      <td>I dont want people of faith in any capacity.</td>\n",
       "      <td>0.731059</td>\n",
       "      <td>0.268941</td>\n",
       "      <td>False</td>\n",
       "    </tr>\n",
       "    <tr>\n",
       "      <th>1</th>\n",
       "      <td>!copy--path;(sw)</td>\n",
       "      <td>[IRS revokes tax-exempt status of North Caroli...</td>\n",
       "      <td>t/news</td>\n",
       "      <td>t/news</td>\n",
       "      <td>[IRS revokes tax-exempt status of North Caroli...</td>\n",
       "      <td>0.000000</td>\n",
       "      <td>1.000000</td>\n",
       "      <td>True</td>\n",
       "    </tr>\n",
       "    <tr>\n",
       "      <th>2</th>\n",
       "      <td>*valid--!copy;(sw)</td>\n",
       "      <td>Depends on the Muslim.</td>\n",
       "      <td>Case and point. Reddit seems incapable of sepa...</td>\n",
       "      <td>Case and point. Reddit seems incapable of sepa...</td>\n",
       "      <td>Depends on the Muslim.</td>\n",
       "      <td>0.970688</td>\n",
       "      <td>0.029312</td>\n",
       "      <td>False</td>\n",
       "    </tr>\n",
       "    <tr>\n",
       "      <th>3</th>\n",
       "      <td>!copy--path;(sw)</td>\n",
       "      <td>[Dundee researchers hail Parkinson’s breakthro...</td>\n",
       "      <td>t/news</td>\n",
       "      <td>t/news</td>\n",
       "      <td>[Dundee researchers hail Parkinson’s breakthro...</td>\n",
       "      <td>0.000000</td>\n",
       "      <td>1.000000</td>\n",
       "      <td>True</td>\n",
       "    </tr>\n",
       "  </tbody>\n",
       "</table>\n",
       "</div>"
      ],
      "text/plain": [
       "             gen_name                                        parent_left  \\\n",
       "0        valid--valid  [Defiant Zelenskyy, on Independence Day, says ...   \n",
       "1    !copy--path;(sw)  [IRS revokes tax-exempt status of North Caroli...   \n",
       "2  *valid--!copy;(sw)                             Depends on the Muslim.   \n",
       "3    !copy--path;(sw)  [Dundee researchers hail Parkinson’s breakthro...   \n",
       "\n",
       "                                          child_left  \\\n",
       "0                                      That’s my dad   \n",
       "1                                             t/news   \n",
       "2  Case and point. Reddit seems incapable of sepa...   \n",
       "3                                             t/news   \n",
       "\n",
       "                                        parent_right  \\\n",
       "0            So, they didn’t hire 87,000 IRS agents?   \n",
       "1                                             t/news   \n",
       "2  Case and point. Reddit seems incapable of sepa...   \n",
       "3                                             t/news   \n",
       "\n",
       "                                         child_right  sway_left  sway_right  \\\n",
       "0       I dont want people of faith in any capacity.   0.731059    0.268941   \n",
       "1  [IRS revokes tax-exempt status of North Caroli...   0.000000    1.000000   \n",
       "2                             Depends on the Muslim.   0.970688    0.029312   \n",
       "3  [Dundee researchers hail Parkinson’s breakthro...   0.000000    1.000000   \n",
       "\n",
       "   correct_is_right  \n",
       "0             False  \n",
       "1              True  \n",
       "2             False  \n",
       "3              True  "
      ]
     },
     "metadata": {},
     "output_type": "display_data"
    },
    {
     "data": {
      "application/vnd.jupyter.widget-view+json": {
       "model_id": "5f65b5c7d8364ac29d8903f1bdcc8ef3",
       "version_major": 2,
       "version_minor": 0
      },
      "text/plain": [
       "train val:   0%|          | 0/10000 [00:00<?, ?it/s]"
      ]
     },
     "metadata": {},
     "output_type": "display_data"
    },
    {
     "data": {
      "application/vnd.jupyter.widget-view+json": {
       "model_id": "c15820b96d8a4c62a5d5981611da5d88",
       "version_major": 2,
       "version_minor": 0
      },
      "text/plain": [
       "test:   0%|          | 0/10000 [00:00<?, ?it/s]"
      ]
     },
     "metadata": {},
     "output_type": "display_data"
    },
    {
     "name": "stdout",
     "output_type": "stream",
     "text": [
      "train: {'accuracy': 0.5549} loss: 0.6389925262928009\n",
      "train val: {'accuracy': 0.5158} loss: 0.6860536057949066\n",
      "test: {'accuracy': 0.4945} loss: 0.6947172980546952\n",
      "epoch 79\n"
     ]
    },
    {
     "data": {
      "application/vnd.jupyter.widget-view+json": {
       "model_id": "d60f990a86884e5689931a7c7a634569",
       "version_major": 2,
       "version_minor": 0
      },
      "text/plain": [
       "train:   0%|          | 0/20000 [00:00<?, ?it/s]"
      ]
     },
     "metadata": {},
     "output_type": "display_data"
    },
    {
     "data": {
      "text/html": [
       "<div>\n",
       "<style scoped>\n",
       "    .dataframe tbody tr th:only-of-type {\n",
       "        vertical-align: middle;\n",
       "    }\n",
       "\n",
       "    .dataframe tbody tr th {\n",
       "        vertical-align: top;\n",
       "    }\n",
       "\n",
       "    .dataframe thead th {\n",
       "        text-align: right;\n",
       "    }\n",
       "</style>\n",
       "<table border=\"1\" class=\"dataframe\">\n",
       "  <thead>\n",
       "    <tr style=\"text-align: right;\">\n",
       "      <th></th>\n",
       "      <th>gen_name</th>\n",
       "      <th>parent_left</th>\n",
       "      <th>child_left</th>\n",
       "      <th>parent_right</th>\n",
       "      <th>child_right</th>\n",
       "      <th>sway_left</th>\n",
       "      <th>sway_right</th>\n",
       "      <th>correct_is_right</th>\n",
       "    </tr>\n",
       "  </thead>\n",
       "  <tbody>\n",
       "    <tr>\n",
       "      <th>0</th>\n",
       "      <td>!valid--valid;(sw)</td>\n",
       "      <td>Set the person on fire. Check!</td>\n",
       "      <td>And remember folks when it comes to heating - ...</td>\n",
       "      <td>Discussion Thread: Redacted Mar-a-Lago Search ...</td>\n",
       "      <td>&gt;Information in the affidavit could be used to...</td>\n",
       "      <td>1.026188e-10</td>\n",
       "      <td>1.000000e+00</td>\n",
       "      <td>True</td>\n",
       "    </tr>\n",
       "    <tr>\n",
       "      <th>1</th>\n",
       "      <td>valid--valid;(mtl:20)</td>\n",
       "      <td>Someone want to explain to me how this is Isra...</td>\n",
       "      <td>Ooooh you obviously missed that Cupid was rece...</td>\n",
       "      <td>[The Trump Mar-a-Lago Search Was Justified](ht...</td>\n",
       "      <td>Of course this was an opinion piece. It was to...</td>\n",
       "      <td>8.807971e-01</td>\n",
       "      <td>1.192029e-01</td>\n",
       "      <td>False</td>\n",
       "    </tr>\n",
       "    <tr>\n",
       "      <th>2</th>\n",
       "      <td>*valid--!valid;(mtl:20)</td>\n",
       "      <td>The concept of free speech is so uncontroversi...</td>\n",
       "      <td>I'll die on that hill. I will argue till the d...</td>\n",
       "      <td>Quick question, what is the Local Embargo supp...</td>\n",
       "      <td>[Former Anti-Abortion Texas Right to Life poli...</td>\n",
       "      <td>8.021839e-01</td>\n",
       "      <td>1.978161e-01</td>\n",
       "      <td>False</td>\n",
       "    </tr>\n",
       "    <tr>\n",
       "      <th>3</th>\n",
       "      <td>valid--valid;(sw)</td>\n",
       "      <td>France is planning to ! https://www.wsj.com/ar...</td>\n",
       "      <td>Please note that this is a proposal from one f...</td>\n",
       "      <td>And they told us they were the party of less g...</td>\n",
       "      <td>Remember they are always exclusive in their vi...</td>\n",
       "      <td>1.000000e+00</td>\n",
       "      <td>2.937482e-30</td>\n",
       "      <td>False</td>\n",
       "    </tr>\n",
       "  </tbody>\n",
       "</table>\n",
       "</div>"
      ],
      "text/plain": [
       "                  gen_name                                        parent_left  \\\n",
       "0       !valid--valid;(sw)                     Set the person on fire. Check!   \n",
       "1    valid--valid;(mtl:20)  Someone want to explain to me how this is Isra...   \n",
       "2  *valid--!valid;(mtl:20)  The concept of free speech is so uncontroversi...   \n",
       "3        valid--valid;(sw)  France is planning to ! https://www.wsj.com/ar...   \n",
       "\n",
       "                                          child_left  \\\n",
       "0  And remember folks when it comes to heating - ...   \n",
       "1  Ooooh you obviously missed that Cupid was rece...   \n",
       "2  I'll die on that hill. I will argue till the d...   \n",
       "3  Please note that this is a proposal from one f...   \n",
       "\n",
       "                                        parent_right  \\\n",
       "0  Discussion Thread: Redacted Mar-a-Lago Search ...   \n",
       "1  [The Trump Mar-a-Lago Search Was Justified](ht...   \n",
       "2  Quick question, what is the Local Embargo supp...   \n",
       "3  And they told us they were the party of less g...   \n",
       "\n",
       "                                         child_right     sway_left  \\\n",
       "0  >Information in the affidavit could be used to...  1.026188e-10   \n",
       "1  Of course this was an opinion piece. It was to...  8.807971e-01   \n",
       "2  [Former Anti-Abortion Texas Right to Life poli...  8.021839e-01   \n",
       "3  Remember they are always exclusive in their vi...  1.000000e+00   \n",
       "\n",
       "     sway_right  correct_is_right  \n",
       "0  1.000000e+00              True  \n",
       "1  1.192029e-01             False  \n",
       "2  1.978161e-01             False  \n",
       "3  2.937482e-30             False  "
      ]
     },
     "metadata": {},
     "output_type": "display_data"
    },
    {
     "data": {
      "application/vnd.jupyter.widget-view+json": {
       "model_id": "a158faf6497a4d488d8136b09a5d2502",
       "version_major": 2,
       "version_minor": 0
      },
      "text/plain": [
       "train val:   0%|          | 0/10000 [00:00<?, ?it/s]"
      ]
     },
     "metadata": {},
     "output_type": "display_data"
    },
    {
     "data": {
      "application/vnd.jupyter.widget-view+json": {
       "model_id": "bffe34fe286440c9a9b9078f91ca7aad",
       "version_major": 2,
       "version_minor": 0
      },
      "text/plain": [
       "test:   0%|          | 0/10000 [00:00<?, ?it/s]"
      ]
     },
     "metadata": {},
     "output_type": "display_data"
    },
    {
     "name": "stdout",
     "output_type": "stream",
     "text": [
      "train: {'accuracy': 0.55065} loss: 0.6434503877133131\n",
      "train val: {'accuracy': 0.5251} loss: 0.6851147205829621\n",
      "test: {'accuracy': 0.5051} loss: 0.6928068082094192\n",
      "epoch 80\n"
     ]
    },
    {
     "data": {
      "application/vnd.jupyter.widget-view+json": {
       "model_id": "904324dba653432e81cf2eaca84ebf20",
       "version_major": 2,
       "version_minor": 0
      },
      "text/plain": [
       "train:   0%|          | 0/20000 [00:00<?, ?it/s]"
      ]
     },
     "metadata": {},
     "output_type": "display_data"
    },
    {
     "data": {
      "text/html": [
       "<div>\n",
       "<style scoped>\n",
       "    .dataframe tbody tr th:only-of-type {\n",
       "        vertical-align: middle;\n",
       "    }\n",
       "\n",
       "    .dataframe tbody tr th {\n",
       "        vertical-align: top;\n",
       "    }\n",
       "\n",
       "    .dataframe thead th {\n",
       "        text-align: right;\n",
       "    }\n",
       "</style>\n",
       "<table border=\"1\" class=\"dataframe\">\n",
       "  <thead>\n",
       "    <tr style=\"text-align: right;\">\n",
       "      <th></th>\n",
       "      <th>gen_name</th>\n",
       "      <th>parent_left</th>\n",
       "      <th>child_left</th>\n",
       "      <th>parent_right</th>\n",
       "      <th>child_right</th>\n",
       "      <th>sway_left</th>\n",
       "      <th>sway_right</th>\n",
       "      <th>correct_is_right</th>\n",
       "    </tr>\n",
       "  </thead>\n",
       "  <tbody>\n",
       "    <tr>\n",
       "      <th>0</th>\n",
       "      <td>random--path;(sw)</td>\n",
       "      <td>Yep. That one too. That is why the are bastard...</td>\n",
       "      <td>It's ALWAYS the ones who scream the loudest th...</td>\n",
       "      <td>Nah, it was the queen's last message. Penned o...</td>\n",
       "      <td>“See you in hell, fucker”</td>\n",
       "      <td>0.002473</td>\n",
       "      <td>9.975274e-01</td>\n",
       "      <td>True</td>\n",
       "    </tr>\n",
       "    <tr>\n",
       "      <th>1</th>\n",
       "      <td>*valid--!valid;(sw)</td>\n",
       "      <td>For those who compete at a high level that is ...</td>\n",
       "      <td>You don't find it odd we celebrate and jeer a ...</td>\n",
       "      <td>Im scared bit recent events have brought back ...</td>\n",
       "      <td>Are you joking? I haven't felt this positive a...</td>\n",
       "      <td>0.952574</td>\n",
       "      <td>4.742587e-02</td>\n",
       "      <td>False</td>\n",
       "    </tr>\n",
       "    <tr>\n",
       "      <th>2</th>\n",
       "      <td>*path--random;(mtl:20)</td>\n",
       "      <td>He must of known this might happen. The cartel...</td>\n",
       "      <td>Cartel, no; Federales corruptos, sí. There are...</td>\n",
       "      <td>I have read it and I as a moderate I am seeing...</td>\n",
       "      <td>Let’s get it!! The tides are turning, have hop...</td>\n",
       "      <td>1.000000</td>\n",
       "      <td>2.116316e-290</td>\n",
       "      <td>False</td>\n",
       "    </tr>\n",
       "    <tr>\n",
       "      <th>3</th>\n",
       "      <td>valid--valid</td>\n",
       "      <td>And, for the record, we have a fair idea of wh...</td>\n",
       "      <td>The former President is no longer in office an...</td>\n",
       "      <td>[Biden Slams ‘MAGA Republicans’ in Fiery Speec...</td>\n",
       "      <td>Absolute chad.</td>\n",
       "      <td>0.645656</td>\n",
       "      <td>3.543437e-01</td>\n",
       "      <td>False</td>\n",
       "    </tr>\n",
       "  </tbody>\n",
       "</table>\n",
       "</div>"
      ],
      "text/plain": [
       "                 gen_name                                        parent_left  \\\n",
       "0       random--path;(sw)  Yep. That one too. That is why the are bastard...   \n",
       "1     *valid--!valid;(sw)  For those who compete at a high level that is ...   \n",
       "2  *path--random;(mtl:20)  He must of known this might happen. The cartel...   \n",
       "3            valid--valid  And, for the record, we have a fair idea of wh...   \n",
       "\n",
       "                                          child_left  \\\n",
       "0  It's ALWAYS the ones who scream the loudest th...   \n",
       "1  You don't find it odd we celebrate and jeer a ...   \n",
       "2  Cartel, no; Federales corruptos, sí. There are...   \n",
       "3  The former President is no longer in office an...   \n",
       "\n",
       "                                        parent_right  \\\n",
       "0  Nah, it was the queen's last message. Penned o...   \n",
       "1  Im scared bit recent events have brought back ...   \n",
       "2  I have read it and I as a moderate I am seeing...   \n",
       "3  [Biden Slams ‘MAGA Republicans’ in Fiery Speec...   \n",
       "\n",
       "                                         child_right  sway_left  \\\n",
       "0                          “See you in hell, fucker”   0.002473   \n",
       "1  Are you joking? I haven't felt this positive a...   0.952574   \n",
       "2  Let’s get it!! The tides are turning, have hop...   1.000000   \n",
       "3                                     Absolute chad.   0.645656   \n",
       "\n",
       "      sway_right  correct_is_right  \n",
       "0   9.975274e-01              True  \n",
       "1   4.742587e-02             False  \n",
       "2  2.116316e-290             False  \n",
       "3   3.543437e-01             False  "
      ]
     },
     "metadata": {},
     "output_type": "display_data"
    },
    {
     "data": {
      "application/vnd.jupyter.widget-view+json": {
       "model_id": "ab9015fc6d1c442f82140b38f4cb4c81",
       "version_major": 2,
       "version_minor": 0
      },
      "text/plain": [
       "train val:   0%|          | 0/10000 [00:00<?, ?it/s]"
      ]
     },
     "metadata": {},
     "output_type": "display_data"
    },
    {
     "data": {
      "application/vnd.jupyter.widget-view+json": {
       "model_id": "cc939f4d436f4d7391440605e6a8ab86",
       "version_major": 2,
       "version_minor": 0
      },
      "text/plain": [
       "test:   0%|          | 0/10000 [00:00<?, ?it/s]"
      ]
     },
     "metadata": {},
     "output_type": "display_data"
    },
    {
     "name": "stdout",
     "output_type": "stream",
     "text": [
      "train: {'accuracy': 0.54455} loss: 0.6433548198640346\n",
      "train val: {'accuracy': 0.5047} loss: 0.6868858402967453\n",
      "test: {'accuracy': 0.4915} loss: 0.6942963890433311\n",
      "epoch 81\n"
     ]
    },
    {
     "data": {
      "application/vnd.jupyter.widget-view+json": {
       "model_id": "e2e82738f72147b5a70d4589e0a322a6",
       "version_major": 2,
       "version_minor": 0
      },
      "text/plain": [
       "train:   0%|          | 0/20000 [00:00<?, ?it/s]"
      ]
     },
     "metadata": {},
     "output_type": "display_data"
    },
    {
     "data": {
      "text/html": [
       "<div>\n",
       "<style scoped>\n",
       "    .dataframe tbody tr th:only-of-type {\n",
       "        vertical-align: middle;\n",
       "    }\n",
       "\n",
       "    .dataframe tbody tr th {\n",
       "        vertical-align: top;\n",
       "    }\n",
       "\n",
       "    .dataframe thead th {\n",
       "        text-align: right;\n",
       "    }\n",
       "</style>\n",
       "<table border=\"1\" class=\"dataframe\">\n",
       "  <thead>\n",
       "    <tr style=\"text-align: right;\">\n",
       "      <th></th>\n",
       "      <th>gen_name</th>\n",
       "      <th>parent_left</th>\n",
       "      <th>child_left</th>\n",
       "      <th>parent_right</th>\n",
       "      <th>child_right</th>\n",
       "      <th>sway_left</th>\n",
       "      <th>sway_right</th>\n",
       "      <th>correct_is_right</th>\n",
       "    </tr>\n",
       "  </thead>\n",
       "  <tbody>\n",
       "    <tr>\n",
       "      <th>0</th>\n",
       "      <td>*path--random;(sw)</td>\n",
       "      <td>t/news</td>\n",
       "      <td>[Sudden crypto market drop sends bitcoin below...</td>\n",
       "      <td>I don´t understand why you guys aren´t angry a...</td>\n",
       "      <td>Thanks this is helpful</td>\n",
       "      <td>1.000000</td>\n",
       "      <td>0.000000e+00</td>\n",
       "      <td>False</td>\n",
       "    </tr>\n",
       "    <tr>\n",
       "      <th>1</th>\n",
       "      <td>*path--random;(mtl:20)</td>\n",
       "      <td>What a beautiful and respectful message. I’m g...</td>\n",
       "      <td>That...is called class.</td>\n",
       "      <td>The list is long if one lifts stones… man shou...</td>\n",
       "      <td>2016 he began way ahead, but his numbers decli...</td>\n",
       "      <td>1.000000</td>\n",
       "      <td>5.665668e-52</td>\n",
       "      <td>False</td>\n",
       "    </tr>\n",
       "    <tr>\n",
       "      <th>2</th>\n",
       "      <td>valid--valid</td>\n",
       "      <td>I mean, it's not the actual affidavit yet, but...</td>\n",
       "      <td>One of my roommates had her name and what bloc...</td>\n",
       "      <td>[CBS News poll: Big majority favor maximum age...</td>\n",
       "      <td>Age limits and term limits.</td>\n",
       "      <td>0.952574</td>\n",
       "      <td>4.742587e-02</td>\n",
       "      <td>False</td>\n",
       "    </tr>\n",
       "    <tr>\n",
       "      <th>3</th>\n",
       "      <td>!copy--path;(mtl:20)</td>\n",
       "      <td>He had his life taken from him to expose them....</td>\n",
       "      <td>[Mexican Journalist Killed Hours After Publish...</td>\n",
       "      <td>[Mexican Journalist Killed Hours After Publish...</td>\n",
       "      <td>He had his life taken from him to expose them....</td>\n",
       "      <td>0.000000</td>\n",
       "      <td>1.000000e+00</td>\n",
       "      <td>True</td>\n",
       "    </tr>\n",
       "  </tbody>\n",
       "</table>\n",
       "</div>"
      ],
      "text/plain": [
       "                 gen_name                                        parent_left  \\\n",
       "0      *path--random;(sw)                                             t/news   \n",
       "1  *path--random;(mtl:20)  What a beautiful and respectful message. I’m g...   \n",
       "2            valid--valid  I mean, it's not the actual affidavit yet, but...   \n",
       "3    !copy--path;(mtl:20)  He had his life taken from him to expose them....   \n",
       "\n",
       "                                          child_left  \\\n",
       "0  [Sudden crypto market drop sends bitcoin below...   \n",
       "1                            That...is called class.   \n",
       "2  One of my roommates had her name and what bloc...   \n",
       "3  [Mexican Journalist Killed Hours After Publish...   \n",
       "\n",
       "                                        parent_right  \\\n",
       "0  I don´t understand why you guys aren´t angry a...   \n",
       "1  The list is long if one lifts stones… man shou...   \n",
       "2  [CBS News poll: Big majority favor maximum age...   \n",
       "3  [Mexican Journalist Killed Hours After Publish...   \n",
       "\n",
       "                                         child_right  sway_left    sway_right  \\\n",
       "0                             Thanks this is helpful   1.000000  0.000000e+00   \n",
       "1  2016 he began way ahead, but his numbers decli...   1.000000  5.665668e-52   \n",
       "2                        Age limits and term limits.   0.952574  4.742587e-02   \n",
       "3  He had his life taken from him to expose them....   0.000000  1.000000e+00   \n",
       "\n",
       "   correct_is_right  \n",
       "0             False  \n",
       "1             False  \n",
       "2             False  \n",
       "3              True  "
      ]
     },
     "metadata": {},
     "output_type": "display_data"
    },
    {
     "data": {
      "application/vnd.jupyter.widget-view+json": {
       "model_id": "774bde9f117643058b644a93fa782382",
       "version_major": 2,
       "version_minor": 0
      },
      "text/plain": [
       "train val:   0%|          | 0/10000 [00:00<?, ?it/s]"
      ]
     },
     "metadata": {},
     "output_type": "display_data"
    },
    {
     "data": {
      "application/vnd.jupyter.widget-view+json": {
       "model_id": "a463cec584044e088c6a370c0065441a",
       "version_major": 2,
       "version_minor": 0
      },
      "text/plain": [
       "test:   0%|          | 0/10000 [00:00<?, ?it/s]"
      ]
     },
     "metadata": {},
     "output_type": "display_data"
    },
    {
     "name": "stdout",
     "output_type": "stream",
     "text": [
      "train: {'accuracy': 0.5449} loss: 0.6451431223392486\n",
      "train val: {'accuracy': 0.5281} loss: 0.6962042013764381\n",
      "test: {'accuracy': 0.4954} loss: 0.7113401334881783\n",
      "epoch 82\n"
     ]
    },
    {
     "data": {
      "application/vnd.jupyter.widget-view+json": {
       "model_id": "91be5ffdfd3d48a783bac549bc375b55",
       "version_major": 2,
       "version_minor": 0
      },
      "text/plain": [
       "train:   0%|          | 0/20000 [00:00<?, ?it/s]"
      ]
     },
     "metadata": {},
     "output_type": "display_data"
    },
    {
     "data": {
      "text/html": [
       "<div>\n",
       "<style scoped>\n",
       "    .dataframe tbody tr th:only-of-type {\n",
       "        vertical-align: middle;\n",
       "    }\n",
       "\n",
       "    .dataframe tbody tr th {\n",
       "        vertical-align: top;\n",
       "    }\n",
       "\n",
       "    .dataframe thead th {\n",
       "        text-align: right;\n",
       "    }\n",
       "</style>\n",
       "<table border=\"1\" class=\"dataframe\">\n",
       "  <thead>\n",
       "    <tr style=\"text-align: right;\">\n",
       "      <th></th>\n",
       "      <th>gen_name</th>\n",
       "      <th>parent_left</th>\n",
       "      <th>child_left</th>\n",
       "      <th>parent_right</th>\n",
       "      <th>child_right</th>\n",
       "      <th>sway_left</th>\n",
       "      <th>sway_right</th>\n",
       "      <th>correct_is_right</th>\n",
       "    </tr>\n",
       "  </thead>\n",
       "  <tbody>\n",
       "    <tr>\n",
       "      <th>0</th>\n",
       "      <td>random--valid;(sw)</td>\n",
       "      <td>Remember how they claimed all of the white sup...</td>\n",
       "      <td>When did you first develop a sense of being a ...</td>\n",
       "      <td>they never would invite him</td>\n",
       "      <td>Didn’t Billy Graham somehow enter NK?</td>\n",
       "      <td>0.000000e+00</td>\n",
       "      <td>1.0</td>\n",
       "      <td>True</td>\n",
       "    </tr>\n",
       "    <tr>\n",
       "      <th>1</th>\n",
       "      <td>valid--valid</td>\n",
       "      <td>Jesus christ people, what he is saying is the ...</td>\n",
       "      <td>Seriously. He's a tory scumbag piece of shit. ...</td>\n",
       "      <td>Just want to point out that police don’t make ...</td>\n",
       "      <td>They also don't enforce or obey them. Get rekt.</td>\n",
       "      <td>1.031508e-12</td>\n",
       "      <td>1.0</td>\n",
       "      <td>True</td>\n",
       "    </tr>\n",
       "    <tr>\n",
       "      <th>2</th>\n",
       "      <td>!copy--valid;(sw)</td>\n",
       "      <td>No one can over rule an idiot teen?</td>\n",
       "      <td>&gt; If you think there's no toxicity in Wikipedi...</td>\n",
       "      <td>&gt; If you think there's no toxicity in Wikipedi...</td>\n",
       "      <td>No one can over rule an idiot teen?</td>\n",
       "      <td>3.059022e-07</td>\n",
       "      <td>1.0</td>\n",
       "      <td>True</td>\n",
       "    </tr>\n",
       "    <tr>\n",
       "      <th>3</th>\n",
       "      <td>*path--random;(mtl:20)</td>\n",
       "      <td>[GOP candidate said it’s “totally just” to sto...</td>\n",
       "      <td>There is a whole fucking story in the bible wh...</td>\n",
       "      <td>It's why he's holding onto that nuclear plant ...</td>\n",
       "      <td>His lawyers kept pushing back this meeting and...</td>\n",
       "      <td>1.000000e+00</td>\n",
       "      <td>0.0</td>\n",
       "      <td>False</td>\n",
       "    </tr>\n",
       "  </tbody>\n",
       "</table>\n",
       "</div>"
      ],
      "text/plain": [
       "                 gen_name                                        parent_left  \\\n",
       "0      random--valid;(sw)  Remember how they claimed all of the white sup...   \n",
       "1            valid--valid  Jesus christ people, what he is saying is the ...   \n",
       "2       !copy--valid;(sw)                No one can over rule an idiot teen?   \n",
       "3  *path--random;(mtl:20)  [GOP candidate said it’s “totally just” to sto...   \n",
       "\n",
       "                                          child_left  \\\n",
       "0  When did you first develop a sense of being a ...   \n",
       "1  Seriously. He's a tory scumbag piece of shit. ...   \n",
       "2  > If you think there's no toxicity in Wikipedi...   \n",
       "3  There is a whole fucking story in the bible wh...   \n",
       "\n",
       "                                        parent_right  \\\n",
       "0                        they never would invite him   \n",
       "1  Just want to point out that police don’t make ...   \n",
       "2  > If you think there's no toxicity in Wikipedi...   \n",
       "3  It's why he's holding onto that nuclear plant ...   \n",
       "\n",
       "                                         child_right     sway_left  \\\n",
       "0              Didn’t Billy Graham somehow enter NK?  0.000000e+00   \n",
       "1    They also don't enforce or obey them. Get rekt.  1.031508e-12   \n",
       "2                No one can over rule an idiot teen?  3.059022e-07   \n",
       "3  His lawyers kept pushing back this meeting and...  1.000000e+00   \n",
       "\n",
       "   sway_right  correct_is_right  \n",
       "0         1.0              True  \n",
       "1         1.0              True  \n",
       "2         1.0              True  \n",
       "3         0.0             False  "
      ]
     },
     "metadata": {},
     "output_type": "display_data"
    },
    {
     "data": {
      "application/vnd.jupyter.widget-view+json": {
       "model_id": "366afbc2aee440a8b2ad3fdce8665547",
       "version_major": 2,
       "version_minor": 0
      },
      "text/plain": [
       "train val:   0%|          | 0/10000 [00:00<?, ?it/s]"
      ]
     },
     "metadata": {},
     "output_type": "display_data"
    },
    {
     "data": {
      "application/vnd.jupyter.widget-view+json": {
       "model_id": "04b014b2f13f492ab7ae6e5c69c92996",
       "version_major": 2,
       "version_minor": 0
      },
      "text/plain": [
       "test:   0%|          | 0/10000 [00:00<?, ?it/s]"
      ]
     },
     "metadata": {},
     "output_type": "display_data"
    },
    {
     "name": "stdout",
     "output_type": "stream",
     "text": [
      "train: {'accuracy': 0.5494} loss: 0.6431206624507904\n",
      "train val: {'accuracy': 0.5244} loss: 0.6877757408738137\n",
      "test: {'accuracy': 0.4946} loss: 0.6948721891641617\n",
      "epoch 83\n"
     ]
    },
    {
     "data": {
      "application/vnd.jupyter.widget-view+json": {
       "model_id": "895814e870664cb79377d82503ab0095",
       "version_major": 2,
       "version_minor": 0
      },
      "text/plain": [
       "train:   0%|          | 0/20000 [00:00<?, ?it/s]"
      ]
     },
     "metadata": {},
     "output_type": "display_data"
    },
    {
     "data": {
      "text/html": [
       "<div>\n",
       "<style scoped>\n",
       "    .dataframe tbody tr th:only-of-type {\n",
       "        vertical-align: middle;\n",
       "    }\n",
       "\n",
       "    .dataframe tbody tr th {\n",
       "        vertical-align: top;\n",
       "    }\n",
       "\n",
       "    .dataframe thead th {\n",
       "        text-align: right;\n",
       "    }\n",
       "</style>\n",
       "<table border=\"1\" class=\"dataframe\">\n",
       "  <thead>\n",
       "    <tr style=\"text-align: right;\">\n",
       "      <th></th>\n",
       "      <th>gen_name</th>\n",
       "      <th>parent_left</th>\n",
       "      <th>child_left</th>\n",
       "      <th>parent_right</th>\n",
       "      <th>child_right</th>\n",
       "      <th>sway_left</th>\n",
       "      <th>sway_right</th>\n",
       "      <th>correct_is_right</th>\n",
       "    </tr>\n",
       "  </thead>\n",
       "  <tbody>\n",
       "    <tr>\n",
       "      <th>0</th>\n",
       "      <td>*path--random;(mtl:20)</td>\n",
       "      <td>He must of known this might happen. The cartel...</td>\n",
       "      <td>Fuck the cartels. It's crazy, the cartels are ...</td>\n",
       "      <td>Awww c’mon now - sit right down and have some ...</td>\n",
       "      <td>Kentucky, where I vote, closes schools three o...</td>\n",
       "      <td>1.000000</td>\n",
       "      <td>4.265779e-213</td>\n",
       "      <td>False</td>\n",
       "    </tr>\n",
       "    <tr>\n",
       "      <th>1</th>\n",
       "      <td>valid--valid;(sw)</td>\n",
       "      <td>He's not wrong, though.</td>\n",
       "      <td>Oh no he’s definitely wrong. Doesn’t much matt...</td>\n",
       "      <td>Okay, so both did wrong. What’s wrong with goi...</td>\n",
       "      <td>Because the other crime occurred years ago.</td>\n",
       "      <td>0.731059</td>\n",
       "      <td>2.689414e-01</td>\n",
       "      <td>False</td>\n",
       "    </tr>\n",
       "    <tr>\n",
       "      <th>2</th>\n",
       "      <td>random--valid;(sw)</td>\n",
       "      <td>It’s incredible that, if we think back a few y...</td>\n",
       "      <td>Real winners know when they've lost and accept...</td>\n",
       "      <td>It's actually pretty bad for nature as the clo...</td>\n",
       "      <td>It actually depends on the seeding agent. Froz...</td>\n",
       "      <td>0.000002</td>\n",
       "      <td>9.999977e-01</td>\n",
       "      <td>True</td>\n",
       "    </tr>\n",
       "    <tr>\n",
       "      <th>3</th>\n",
       "      <td>*path--!copy;(mtl:20)</td>\n",
       "      <td>Isn’t it wild, you think about how radical it ...</td>\n",
       "      <td>Holy shit. That is weird..</td>\n",
       "      <td>Holy shit. That is weird..</td>\n",
       "      <td>Isn’t it wild, you think about how radical it ...</td>\n",
       "      <td>1.000000</td>\n",
       "      <td>3.456597e-209</td>\n",
       "      <td>False</td>\n",
       "    </tr>\n",
       "  </tbody>\n",
       "</table>\n",
       "</div>"
      ],
      "text/plain": [
       "                 gen_name                                        parent_left  \\\n",
       "0  *path--random;(mtl:20)  He must of known this might happen. The cartel...   \n",
       "1       valid--valid;(sw)                            He's not wrong, though.   \n",
       "2      random--valid;(sw)  It’s incredible that, if we think back a few y...   \n",
       "3   *path--!copy;(mtl:20)  Isn’t it wild, you think about how radical it ...   \n",
       "\n",
       "                                          child_left  \\\n",
       "0  Fuck the cartels. It's crazy, the cartels are ...   \n",
       "1  Oh no he’s definitely wrong. Doesn’t much matt...   \n",
       "2  Real winners know when they've lost and accept...   \n",
       "3                         Holy shit. That is weird..   \n",
       "\n",
       "                                        parent_right  \\\n",
       "0  Awww c’mon now - sit right down and have some ...   \n",
       "1  Okay, so both did wrong. What’s wrong with goi...   \n",
       "2  It's actually pretty bad for nature as the clo...   \n",
       "3                         Holy shit. That is weird..   \n",
       "\n",
       "                                         child_right  sway_left  \\\n",
       "0  Kentucky, where I vote, closes schools three o...   1.000000   \n",
       "1        Because the other crime occurred years ago.   0.731059   \n",
       "2  It actually depends on the seeding agent. Froz...   0.000002   \n",
       "3  Isn’t it wild, you think about how radical it ...   1.000000   \n",
       "\n",
       "      sway_right  correct_is_right  \n",
       "0  4.265779e-213             False  \n",
       "1   2.689414e-01             False  \n",
       "2   9.999977e-01              True  \n",
       "3  3.456597e-209             False  "
      ]
     },
     "metadata": {},
     "output_type": "display_data"
    },
    {
     "data": {
      "application/vnd.jupyter.widget-view+json": {
       "model_id": "b23b9689173d4efe8be419c597467573",
       "version_major": 2,
       "version_minor": 0
      },
      "text/plain": [
       "train val:   0%|          | 0/10000 [00:00<?, ?it/s]"
      ]
     },
     "metadata": {},
     "output_type": "display_data"
    },
    {
     "data": {
      "application/vnd.jupyter.widget-view+json": {
       "model_id": "db4677e14753462196069573cdb4194f",
       "version_major": 2,
       "version_minor": 0
      },
      "text/plain": [
       "test:   0%|          | 0/10000 [00:00<?, ?it/s]"
      ]
     },
     "metadata": {},
     "output_type": "display_data"
    },
    {
     "name": "stdout",
     "output_type": "stream",
     "text": [
      "train: {'accuracy': 0.54635} loss: 0.6406575251579285\n",
      "train val: {'accuracy': 0.5221} loss: 0.6847270703196525\n",
      "test: {'accuracy': 0.5024} loss: 0.6923524678230286\n",
      "epoch 84\n"
     ]
    },
    {
     "data": {
      "application/vnd.jupyter.widget-view+json": {
       "model_id": "9e93111a6b474f2c902c5e7b7dee7d19",
       "version_major": 2,
       "version_minor": 0
      },
      "text/plain": [
       "train:   0%|          | 0/20000 [00:00<?, ?it/s]"
      ]
     },
     "metadata": {},
     "output_type": "display_data"
    },
    {
     "data": {
      "text/html": [
       "<div>\n",
       "<style scoped>\n",
       "    .dataframe tbody tr th:only-of-type {\n",
       "        vertical-align: middle;\n",
       "    }\n",
       "\n",
       "    .dataframe tbody tr th {\n",
       "        vertical-align: top;\n",
       "    }\n",
       "\n",
       "    .dataframe thead th {\n",
       "        text-align: right;\n",
       "    }\n",
       "</style>\n",
       "<table border=\"1\" class=\"dataframe\">\n",
       "  <thead>\n",
       "    <tr style=\"text-align: right;\">\n",
       "      <th></th>\n",
       "      <th>gen_name</th>\n",
       "      <th>parent_left</th>\n",
       "      <th>child_left</th>\n",
       "      <th>parent_right</th>\n",
       "      <th>child_right</th>\n",
       "      <th>sway_left</th>\n",
       "      <th>sway_right</th>\n",
       "      <th>correct_is_right</th>\n",
       "    </tr>\n",
       "  </thead>\n",
       "  <tbody>\n",
       "    <tr>\n",
       "      <th>0</th>\n",
       "      <td>random--path;(sw)</td>\n",
       "      <td>Is Putin willing to risk turning Moscow into a...</td>\n",
       "      <td>I didn't think that Christians followed Moseic...</td>\n",
       "      <td>Everything has been completely commoditized, b...</td>\n",
       "      <td>&gt;Everything has been completely commoditized, ...</td>\n",
       "      <td>0.006693</td>\n",
       "      <td>9.933071e-01</td>\n",
       "      <td>True</td>\n",
       "    </tr>\n",
       "    <tr>\n",
       "      <th>1</th>\n",
       "      <td>*path--!copy;(sw)</td>\n",
       "      <td>[Louisiana hospital denies abortion for fetus ...</td>\n",
       "      <td>“‘There was nothing I would have preferred mor...</td>\n",
       "      <td>“‘There was nothing I would have preferred mor...</td>\n",
       "      <td>[Louisiana hospital denies abortion for fetus ...</td>\n",
       "      <td>1.000000</td>\n",
       "      <td>0.000000e+00</td>\n",
       "      <td>False</td>\n",
       "    </tr>\n",
       "    <tr>\n",
       "      <th>2</th>\n",
       "      <td>valid--valid</td>\n",
       "      <td>This may be a controversial opinion, but consi...</td>\n",
       "      <td>Nothing controversial about that opinion at al...</td>\n",
       "      <td>I've seen one that expired in 2015💀</td>\n",
       "      <td>The shittier part about that is that many coun...</td>\n",
       "      <td>1.000000</td>\n",
       "      <td>5.749522e-19</td>\n",
       "      <td>False</td>\n",
       "    </tr>\n",
       "    <tr>\n",
       "      <th>3</th>\n",
       "      <td>valid--valid</td>\n",
       "      <td>Right sentiment but from the last person who s...</td>\n",
       "      <td>My opinion. \"Yes, Bolton is 100% correct here....</td>\n",
       "      <td>[Rep. Marjorie Taylor Greene ‘swatted’ for sec...</td>\n",
       "      <td>Probably swatting herself so she can whine abo...</td>\n",
       "      <td>0.000000</td>\n",
       "      <td>1.000000e+00</td>\n",
       "      <td>True</td>\n",
       "    </tr>\n",
       "  </tbody>\n",
       "</table>\n",
       "</div>"
      ],
      "text/plain": [
       "            gen_name                                        parent_left  \\\n",
       "0  random--path;(sw)  Is Putin willing to risk turning Moscow into a...   \n",
       "1  *path--!copy;(sw)  [Louisiana hospital denies abortion for fetus ...   \n",
       "2       valid--valid  This may be a controversial opinion, but consi...   \n",
       "3       valid--valid  Right sentiment but from the last person who s...   \n",
       "\n",
       "                                          child_left  \\\n",
       "0  I didn't think that Christians followed Moseic...   \n",
       "1  “‘There was nothing I would have preferred mor...   \n",
       "2  Nothing controversial about that opinion at al...   \n",
       "3  My opinion. \"Yes, Bolton is 100% correct here....   \n",
       "\n",
       "                                        parent_right  \\\n",
       "0  Everything has been completely commoditized, b...   \n",
       "1  “‘There was nothing I would have preferred mor...   \n",
       "2                I've seen one that expired in 2015💀   \n",
       "3  [Rep. Marjorie Taylor Greene ‘swatted’ for sec...   \n",
       "\n",
       "                                         child_right  sway_left    sway_right  \\\n",
       "0  >Everything has been completely commoditized, ...   0.006693  9.933071e-01   \n",
       "1  [Louisiana hospital denies abortion for fetus ...   1.000000  0.000000e+00   \n",
       "2  The shittier part about that is that many coun...   1.000000  5.749522e-19   \n",
       "3  Probably swatting herself so she can whine abo...   0.000000  1.000000e+00   \n",
       "\n",
       "   correct_is_right  \n",
       "0              True  \n",
       "1             False  \n",
       "2             False  \n",
       "3              True  "
      ]
     },
     "metadata": {},
     "output_type": "display_data"
    },
    {
     "data": {
      "application/vnd.jupyter.widget-view+json": {
       "model_id": "0cb31d4d74444480941da1e1a6ffce65",
       "version_major": 2,
       "version_minor": 0
      },
      "text/plain": [
       "train val:   0%|          | 0/10000 [00:00<?, ?it/s]"
      ]
     },
     "metadata": {},
     "output_type": "display_data"
    },
    {
     "data": {
      "application/vnd.jupyter.widget-view+json": {
       "model_id": "7bed1f34ed5341ecb0794472bdc036d0",
       "version_major": 2,
       "version_minor": 0
      },
      "text/plain": [
       "test:   0%|          | 0/10000 [00:00<?, ?it/s]"
      ]
     },
     "metadata": {},
     "output_type": "display_data"
    },
    {
     "name": "stdout",
     "output_type": "stream",
     "text": [
      "train: {'accuracy': 0.53525} loss: 0.6557931429028511\n",
      "train val: {'accuracy': 0.5124} loss: 0.685381534576416\n",
      "test: {'accuracy': 0.5011} loss: 0.6920651386857033\n",
      "epoch 85\n"
     ]
    },
    {
     "data": {
      "application/vnd.jupyter.widget-view+json": {
       "model_id": "60499949a7934ed9b306b5663cde2146",
       "version_major": 2,
       "version_minor": 0
      },
      "text/plain": [
       "train:   0%|          | 0/20000 [00:00<?, ?it/s]"
      ]
     },
     "metadata": {},
     "output_type": "display_data"
    },
    {
     "data": {
      "text/html": [
       "<div>\n",
       "<style scoped>\n",
       "    .dataframe tbody tr th:only-of-type {\n",
       "        vertical-align: middle;\n",
       "    }\n",
       "\n",
       "    .dataframe tbody tr th {\n",
       "        vertical-align: top;\n",
       "    }\n",
       "\n",
       "    .dataframe thead th {\n",
       "        text-align: right;\n",
       "    }\n",
       "</style>\n",
       "<table border=\"1\" class=\"dataframe\">\n",
       "  <thead>\n",
       "    <tr style=\"text-align: right;\">\n",
       "      <th></th>\n",
       "      <th>gen_name</th>\n",
       "      <th>parent_left</th>\n",
       "      <th>child_left</th>\n",
       "      <th>parent_right</th>\n",
       "      <th>child_right</th>\n",
       "      <th>sway_left</th>\n",
       "      <th>sway_right</th>\n",
       "      <th>correct_is_right</th>\n",
       "    </tr>\n",
       "  </thead>\n",
       "  <tbody>\n",
       "    <tr>\n",
       "      <th>0</th>\n",
       "      <td>!valid--valid;(mtl:20)</td>\n",
       "      <td>Yeah but what's he done for them lately?</td>\n",
       "      <td>Marcus Aurelius sold off royal property to hel...</td>\n",
       "      <td>It’s genius really, republicans can not admit ...</td>\n",
       "      <td>Spoiler alert: they won't hold back on declari...</td>\n",
       "      <td>1.192029e-01</td>\n",
       "      <td>0.880797</td>\n",
       "      <td>True</td>\n",
       "    </tr>\n",
       "    <tr>\n",
       "      <th>1</th>\n",
       "      <td>*valid--!valid;(mtl:20)</td>\n",
       "      <td>[Complaints mount over UK dumping sewage into ...</td>\n",
       "      <td>I thought it was legal to shit on France?</td>\n",
       "      <td>As with *all* of Reddit, it’s only bad when so...</td>\n",
       "      <td>These comments are disgusting. How are the maj...</td>\n",
       "      <td>9.975274e-01</td>\n",
       "      <td>0.002473</td>\n",
       "      <td>False</td>\n",
       "    </tr>\n",
       "    <tr>\n",
       "      <th>2</th>\n",
       "      <td>valid--valid</td>\n",
       "      <td>Get a fucking life</td>\n",
       "      <td>Such clever!</td>\n",
       "      <td>that's not arbitrary at all. it is a specific ...</td>\n",
       "      <td>Raising difficulty based on overall hash rate ...</td>\n",
       "      <td>8.315280e-07</td>\n",
       "      <td>0.999999</td>\n",
       "      <td>True</td>\n",
       "    </tr>\n",
       "    <tr>\n",
       "      <th>3</th>\n",
       "      <td>*valid--valid;(mtl:20)</td>\n",
       "      <td>A BBC radio reporter accidentally referred to ...</td>\n",
       "      <td>I heard a BBC reporter talking about Britain's...</td>\n",
       "      <td>Regarding your edit you're missing the point. ...</td>\n",
       "      <td>This door swings both ways. If you're going to...</td>\n",
       "      <td>2.689414e-01</td>\n",
       "      <td>0.731059</td>\n",
       "      <td>True</td>\n",
       "    </tr>\n",
       "  </tbody>\n",
       "</table>\n",
       "</div>"
      ],
      "text/plain": [
       "                  gen_name                                        parent_left  \\\n",
       "0   !valid--valid;(mtl:20)           Yeah but what's he done for them lately?   \n",
       "1  *valid--!valid;(mtl:20)  [Complaints mount over UK dumping sewage into ...   \n",
       "2             valid--valid                                 Get a fucking life   \n",
       "3   *valid--valid;(mtl:20)  A BBC radio reporter accidentally referred to ...   \n",
       "\n",
       "                                          child_left  \\\n",
       "0  Marcus Aurelius sold off royal property to hel...   \n",
       "1          I thought it was legal to shit on France?   \n",
       "2                                       Such clever!   \n",
       "3  I heard a BBC reporter talking about Britain's...   \n",
       "\n",
       "                                        parent_right  \\\n",
       "0  It’s genius really, republicans can not admit ...   \n",
       "1  As with *all* of Reddit, it’s only bad when so...   \n",
       "2  that's not arbitrary at all. it is a specific ...   \n",
       "3  Regarding your edit you're missing the point. ...   \n",
       "\n",
       "                                         child_right     sway_left  \\\n",
       "0  Spoiler alert: they won't hold back on declari...  1.192029e-01   \n",
       "1  These comments are disgusting. How are the maj...  9.975274e-01   \n",
       "2  Raising difficulty based on overall hash rate ...  8.315280e-07   \n",
       "3  This door swings both ways. If you're going to...  2.689414e-01   \n",
       "\n",
       "   sway_right  correct_is_right  \n",
       "0    0.880797              True  \n",
       "1    0.002473             False  \n",
       "2    0.999999              True  \n",
       "3    0.731059              True  "
      ]
     },
     "metadata": {},
     "output_type": "display_data"
    },
    {
     "data": {
      "application/vnd.jupyter.widget-view+json": {
       "model_id": "918b0d4e20e84af7ae4a9fbe5ae1f147",
       "version_major": 2,
       "version_minor": 0
      },
      "text/plain": [
       "train val:   0%|          | 0/10000 [00:00<?, ?it/s]"
      ]
     },
     "metadata": {},
     "output_type": "display_data"
    },
    {
     "data": {
      "application/vnd.jupyter.widget-view+json": {
       "model_id": "19e5f7cbed1542838b8525b81d3904d3",
       "version_major": 2,
       "version_minor": 0
      },
      "text/plain": [
       "test:   0%|          | 0/10000 [00:00<?, ?it/s]"
      ]
     },
     "metadata": {},
     "output_type": "display_data"
    },
    {
     "name": "stdout",
     "output_type": "stream",
     "text": [
      "train: {'accuracy': 0.53635} loss: 0.6592378357112407\n",
      "train val: {'accuracy': 0.5128} loss: 0.6852402265787124\n",
      "test: {'accuracy': 0.4956} loss: 0.6920643526196479\n",
      "epoch 86\n"
     ]
    },
    {
     "data": {
      "application/vnd.jupyter.widget-view+json": {
       "model_id": "41bf4008f5d84d3cb2ffe4a4b9195f5b",
       "version_major": 2,
       "version_minor": 0
      },
      "text/plain": [
       "train:   0%|          | 0/20000 [00:00<?, ?it/s]"
      ]
     },
     "metadata": {},
     "output_type": "display_data"
    },
    {
     "data": {
      "text/html": [
       "<div>\n",
       "<style scoped>\n",
       "    .dataframe tbody tr th:only-of-type {\n",
       "        vertical-align: middle;\n",
       "    }\n",
       "\n",
       "    .dataframe tbody tr th {\n",
       "        vertical-align: top;\n",
       "    }\n",
       "\n",
       "    .dataframe thead th {\n",
       "        text-align: right;\n",
       "    }\n",
       "</style>\n",
       "<table border=\"1\" class=\"dataframe\">\n",
       "  <thead>\n",
       "    <tr style=\"text-align: right;\">\n",
       "      <th></th>\n",
       "      <th>gen_name</th>\n",
       "      <th>parent_left</th>\n",
       "      <th>child_left</th>\n",
       "      <th>parent_right</th>\n",
       "      <th>child_right</th>\n",
       "      <th>sway_left</th>\n",
       "      <th>sway_right</th>\n",
       "      <th>correct_is_right</th>\n",
       "    </tr>\n",
       "  </thead>\n",
       "  <tbody>\n",
       "    <tr>\n",
       "      <th>0</th>\n",
       "      <td>*valid--!valid;(mtl:20)</td>\n",
       "      <td>Which is why the true source of half the issue...</td>\n",
       "      <td>The problem is the only way to really do this ...</td>\n",
       "      <td>and much less so on the gas lately</td>\n",
       "      <td>The only things that keep it relevant are gas ...</td>\n",
       "      <td>0.880797</td>\n",
       "      <td>0.119203</td>\n",
       "      <td>False</td>\n",
       "    </tr>\n",
       "    <tr>\n",
       "      <th>1</th>\n",
       "      <td>valid--valid</td>\n",
       "      <td>Where is this alligator you speak of?</td>\n",
       "      <td>In a river. Sunning itself on a rock. I was sw...</td>\n",
       "      <td>Holy shit! $8000/month? Someone should let inc...</td>\n",
       "      <td>Shit here in Osaka, Japan a good time will run...</td>\n",
       "      <td>0.731059</td>\n",
       "      <td>0.268941</td>\n",
       "      <td>False</td>\n",
       "    </tr>\n",
       "    <tr>\n",
       "      <th>2</th>\n",
       "      <td>!copy--path;(mtl:20)</td>\n",
       "      <td>Also important to note that when payments do r...</td>\n",
       "      <td>[Biden cancels $10,000 in federal student loan...</td>\n",
       "      <td>[Biden cancels $10,000 in federal student loan...</td>\n",
       "      <td>Also important to note that when payments do r...</td>\n",
       "      <td>0.000000</td>\n",
       "      <td>1.000000</td>\n",
       "      <td>True</td>\n",
       "    </tr>\n",
       "    <tr>\n",
       "      <th>3</th>\n",
       "      <td>!copy--valid;(sw)</td>\n",
       "      <td>I've been thinking that too.</td>\n",
       "      <td>We are living in interesting times. I am so gl...</td>\n",
       "      <td>We are living in interesting times. I am so gl...</td>\n",
       "      <td>I've been thinking that too.</td>\n",
       "      <td>0.401312</td>\n",
       "      <td>0.598688</td>\n",
       "      <td>True</td>\n",
       "    </tr>\n",
       "  </tbody>\n",
       "</table>\n",
       "</div>"
      ],
      "text/plain": [
       "                  gen_name                                        parent_left  \\\n",
       "0  *valid--!valid;(mtl:20)  Which is why the true source of half the issue...   \n",
       "1             valid--valid              Where is this alligator you speak of?   \n",
       "2     !copy--path;(mtl:20)  Also important to note that when payments do r...   \n",
       "3        !copy--valid;(sw)                       I've been thinking that too.   \n",
       "\n",
       "                                          child_left  \\\n",
       "0  The problem is the only way to really do this ...   \n",
       "1  In a river. Sunning itself on a rock. I was sw...   \n",
       "2  [Biden cancels $10,000 in federal student loan...   \n",
       "3  We are living in interesting times. I am so gl...   \n",
       "\n",
       "                                        parent_right  \\\n",
       "0                 and much less so on the gas lately   \n",
       "1  Holy shit! $8000/month? Someone should let inc...   \n",
       "2  [Biden cancels $10,000 in federal student loan...   \n",
       "3  We are living in interesting times. I am so gl...   \n",
       "\n",
       "                                         child_right  sway_left  sway_right  \\\n",
       "0  The only things that keep it relevant are gas ...   0.880797    0.119203   \n",
       "1  Shit here in Osaka, Japan a good time will run...   0.731059    0.268941   \n",
       "2  Also important to note that when payments do r...   0.000000    1.000000   \n",
       "3                       I've been thinking that too.   0.401312    0.598688   \n",
       "\n",
       "   correct_is_right  \n",
       "0             False  \n",
       "1             False  \n",
       "2              True  \n",
       "3              True  "
      ]
     },
     "metadata": {},
     "output_type": "display_data"
    },
    {
     "data": {
      "application/vnd.jupyter.widget-view+json": {
       "model_id": "fc4a134ba4754e8ab9607b4af9b5a5ff",
       "version_major": 2,
       "version_minor": 0
      },
      "text/plain": [
       "train val:   0%|          | 0/10000 [00:00<?, ?it/s]"
      ]
     },
     "metadata": {},
     "output_type": "display_data"
    },
    {
     "data": {
      "application/vnd.jupyter.widget-view+json": {
       "model_id": "2d1cfef7b1f8484f814ab6fb155e6128",
       "version_major": 2,
       "version_minor": 0
      },
      "text/plain": [
       "test:   0%|          | 0/10000 [00:00<?, ?it/s]"
      ]
     },
     "metadata": {},
     "output_type": "display_data"
    },
    {
     "name": "stdout",
     "output_type": "stream",
     "text": [
      "train: {'accuracy': 0.5145} loss: 0.6753566120266914\n",
      "train val: {'accuracy': 0.4918} loss: 0.6931471865177155\n",
      "test: {'accuracy': 0.4881} loss: 0.6931471889495849\n",
      "epoch 87\n"
     ]
    },
    {
     "data": {
      "application/vnd.jupyter.widget-view+json": {
       "model_id": "897f00166b724d17ba82b24bf44cb338",
       "version_major": 2,
       "version_minor": 0
      },
      "text/plain": [
       "train:   0%|          | 0/20000 [00:00<?, ?it/s]"
      ]
     },
     "metadata": {},
     "output_type": "display_data"
    },
    {
     "data": {
      "text/html": [
       "<div>\n",
       "<style scoped>\n",
       "    .dataframe tbody tr th:only-of-type {\n",
       "        vertical-align: middle;\n",
       "    }\n",
       "\n",
       "    .dataframe tbody tr th {\n",
       "        vertical-align: top;\n",
       "    }\n",
       "\n",
       "    .dataframe thead th {\n",
       "        text-align: right;\n",
       "    }\n",
       "</style>\n",
       "<table border=\"1\" class=\"dataframe\">\n",
       "  <thead>\n",
       "    <tr style=\"text-align: right;\">\n",
       "      <th></th>\n",
       "      <th>gen_name</th>\n",
       "      <th>parent_left</th>\n",
       "      <th>child_left</th>\n",
       "      <th>parent_right</th>\n",
       "      <th>child_right</th>\n",
       "      <th>sway_left</th>\n",
       "      <th>sway_right</th>\n",
       "      <th>correct_is_right</th>\n",
       "    </tr>\n",
       "  </thead>\n",
       "  <tbody>\n",
       "    <tr>\n",
       "      <th>0</th>\n",
       "      <td>*valid--valid;(sw)</td>\n",
       "      <td>[St. Petersburg Officials Demand Vladimir Puti...</td>\n",
       "      <td>This is very brave of them. They know the cons...</td>\n",
       "      <td>She’s been a permanent fixture of the UK for s...</td>\n",
       "      <td>Really puts into perspective how some people a...</td>\n",
       "      <td>0.000000</td>\n",
       "      <td>1.000000e+00</td>\n",
       "      <td>True</td>\n",
       "    </tr>\n",
       "    <tr>\n",
       "      <th>1</th>\n",
       "      <td>*path--random;(sw)</td>\n",
       "      <td>t/news</td>\n",
       "      <td>[Federal judge allows North Carolina's 20-week...</td>\n",
       "      <td>I don't know, but [H.Y.C.Y.BH](https://youtu.b...</td>\n",
       "      <td>???????????? Literally what</td>\n",
       "      <td>1.000000</td>\n",
       "      <td>9.819402e-110</td>\n",
       "      <td>False</td>\n",
       "    </tr>\n",
       "    <tr>\n",
       "      <th>2</th>\n",
       "      <td>*valid--valid;(sw)</td>\n",
       "      <td>[Watchdog Leader: 'It Is Clear Why Barr Did No...</td>\n",
       "      <td>Catch-22 of investigating Trump: You have to k...</td>\n",
       "      <td>This is divide and conquer</td>\n",
       "      <td>\"divide\" came during the 1/6 terrorist attack ...</td>\n",
       "      <td>0.119203</td>\n",
       "      <td>8.807971e-01</td>\n",
       "      <td>True</td>\n",
       "    </tr>\n",
       "    <tr>\n",
       "      <th>3</th>\n",
       "      <td>*path--random;(mtl:20)</td>\n",
       "      <td>It’s so strange to think she’s been queen so l...</td>\n",
       "      <td>My gran was born in 1952, so the year Elisabet...</td>\n",
       "      <td>Leave your vape cartridges at home bro</td>\n",
       "      <td>Children should be taken away. Problem is if d...</td>\n",
       "      <td>0.999877</td>\n",
       "      <td>1.233946e-04</td>\n",
       "      <td>False</td>\n",
       "    </tr>\n",
       "  </tbody>\n",
       "</table>\n",
       "</div>"
      ],
      "text/plain": [
       "                 gen_name                                        parent_left  \\\n",
       "0      *valid--valid;(sw)  [St. Petersburg Officials Demand Vladimir Puti...   \n",
       "1      *path--random;(sw)                                             t/news   \n",
       "2      *valid--valid;(sw)  [Watchdog Leader: 'It Is Clear Why Barr Did No...   \n",
       "3  *path--random;(mtl:20)  It’s so strange to think she’s been queen so l...   \n",
       "\n",
       "                                          child_left  \\\n",
       "0  This is very brave of them. They know the cons...   \n",
       "1  [Federal judge allows North Carolina's 20-week...   \n",
       "2  Catch-22 of investigating Trump: You have to k...   \n",
       "3  My gran was born in 1952, so the year Elisabet...   \n",
       "\n",
       "                                        parent_right  \\\n",
       "0  She’s been a permanent fixture of the UK for s...   \n",
       "1  I don't know, but [H.Y.C.Y.BH](https://youtu.b...   \n",
       "2                         This is divide and conquer   \n",
       "3             Leave your vape cartridges at home bro   \n",
       "\n",
       "                                         child_right  sway_left  \\\n",
       "0  Really puts into perspective how some people a...   0.000000   \n",
       "1                        ???????????? Literally what   1.000000   \n",
       "2  \"divide\" came during the 1/6 terrorist attack ...   0.119203   \n",
       "3  Children should be taken away. Problem is if d...   0.999877   \n",
       "\n",
       "      sway_right  correct_is_right  \n",
       "0   1.000000e+00              True  \n",
       "1  9.819402e-110             False  \n",
       "2   8.807971e-01              True  \n",
       "3   1.233946e-04             False  "
      ]
     },
     "metadata": {},
     "output_type": "display_data"
    },
    {
     "data": {
      "application/vnd.jupyter.widget-view+json": {
       "model_id": "c1663e9b484c4922933aba890e14400b",
       "version_major": 2,
       "version_minor": 0
      },
      "text/plain": [
       "train val:   0%|          | 0/10000 [00:00<?, ?it/s]"
      ]
     },
     "metadata": {},
     "output_type": "display_data"
    },
    {
     "data": {
      "application/vnd.jupyter.widget-view+json": {
       "model_id": "3c0c6476a6b14e7bb41bb8ed3579d68c",
       "version_major": 2,
       "version_minor": 0
      },
      "text/plain": [
       "test:   0%|          | 0/10000 [00:00<?, ?it/s]"
      ]
     },
     "metadata": {},
     "output_type": "display_data"
    },
    {
     "name": "stdout",
     "output_type": "stream",
     "text": [
      "train: {'accuracy': 0.4993} loss: 0.6931629443645477\n",
      "train val: {'accuracy': 0.5161} loss: 0.6931471578836441\n",
      "test: {'accuracy': 0.4876} loss: 0.6931471826076507\n",
      "epoch 88\n"
     ]
    },
    {
     "data": {
      "application/vnd.jupyter.widget-view+json": {
       "model_id": "d91090aba2da4add8f72e7ee5b17628b",
       "version_major": 2,
       "version_minor": 0
      },
      "text/plain": [
       "train:   0%|          | 0/20000 [00:00<?, ?it/s]"
      ]
     },
     "metadata": {},
     "output_type": "display_data"
    },
    {
     "data": {
      "text/html": [
       "<div>\n",
       "<style scoped>\n",
       "    .dataframe tbody tr th:only-of-type {\n",
       "        vertical-align: middle;\n",
       "    }\n",
       "\n",
       "    .dataframe tbody tr th {\n",
       "        vertical-align: top;\n",
       "    }\n",
       "\n",
       "    .dataframe thead th {\n",
       "        text-align: right;\n",
       "    }\n",
       "</style>\n",
       "<table border=\"1\" class=\"dataframe\">\n",
       "  <thead>\n",
       "    <tr style=\"text-align: right;\">\n",
       "      <th></th>\n",
       "      <th>gen_name</th>\n",
       "      <th>parent_left</th>\n",
       "      <th>child_left</th>\n",
       "      <th>parent_right</th>\n",
       "      <th>child_right</th>\n",
       "      <th>sway_left</th>\n",
       "      <th>sway_right</th>\n",
       "      <th>correct_is_right</th>\n",
       "    </tr>\n",
       "  </thead>\n",
       "  <tbody>\n",
       "    <tr>\n",
       "      <th>0</th>\n",
       "      <td>!copy--path;(mtl:20)</td>\n",
       "      <td>If there was a genderqueer monarch, would they...</td>\n",
       "      <td>&gt;A BBC radio reporter accidentally referred to...</td>\n",
       "      <td>&gt;A BBC radio reporter accidentally referred to...</td>\n",
       "      <td>If there was a genderqueer monarch, would they...</td>\n",
       "      <td>9.110512e-04</td>\n",
       "      <td>9.990889e-01</td>\n",
       "      <td>True</td>\n",
       "    </tr>\n",
       "    <tr>\n",
       "      <th>1</th>\n",
       "      <td>*valid--valid;(sw)</td>\n",
       "      <td>I'm Slavic Romani and grew up drinking beer (u...</td>\n",
       "      <td>Exactly, American Pie way of drinking wouldn't...</td>\n",
       "      <td>We are sleepwalking into total environmental a...</td>\n",
       "      <td>We're already there, its just a delayed effect.</td>\n",
       "      <td>1.000000e+00</td>\n",
       "      <td>4.658886e-15</td>\n",
       "      <td>False</td>\n",
       "    </tr>\n",
       "    <tr>\n",
       "      <th>2</th>\n",
       "      <td>!copy--path;(sw)</td>\n",
       "      <td>She reigned from Stalin to Putin.</td>\n",
       "      <td>*Winston Churchill.* That alone blows my mind</td>\n",
       "      <td>*Winston Churchill.* That alone blows my mind</td>\n",
       "      <td>She reigned from Stalin to Putin.</td>\n",
       "      <td>0.000000e+00</td>\n",
       "      <td>1.000000e+00</td>\n",
       "      <td>True</td>\n",
       "    </tr>\n",
       "    <tr>\n",
       "      <th>3</th>\n",
       "      <td>!copy--path;(mtl:20)</td>\n",
       "      <td>Children with [acrania](https://www.google.com...</td>\n",
       "      <td>More like the child. Christ that kid has to gr...</td>\n",
       "      <td>More like the child. Christ that kid has to gr...</td>\n",
       "      <td>Children with [acrania](https://www.google.com...</td>\n",
       "      <td>4.139938e-08</td>\n",
       "      <td>1.000000e+00</td>\n",
       "      <td>True</td>\n",
       "    </tr>\n",
       "  </tbody>\n",
       "</table>\n",
       "</div>"
      ],
      "text/plain": [
       "               gen_name                                        parent_left  \\\n",
       "0  !copy--path;(mtl:20)  If there was a genderqueer monarch, would they...   \n",
       "1    *valid--valid;(sw)  I'm Slavic Romani and grew up drinking beer (u...   \n",
       "2      !copy--path;(sw)                  She reigned from Stalin to Putin.   \n",
       "3  !copy--path;(mtl:20)  Children with [acrania](https://www.google.com...   \n",
       "\n",
       "                                          child_left  \\\n",
       "0  >A BBC radio reporter accidentally referred to...   \n",
       "1  Exactly, American Pie way of drinking wouldn't...   \n",
       "2      *Winston Churchill.* That alone blows my mind   \n",
       "3  More like the child. Christ that kid has to gr...   \n",
       "\n",
       "                                        parent_right  \\\n",
       "0  >A BBC radio reporter accidentally referred to...   \n",
       "1  We are sleepwalking into total environmental a...   \n",
       "2      *Winston Churchill.* That alone blows my mind   \n",
       "3  More like the child. Christ that kid has to gr...   \n",
       "\n",
       "                                         child_right     sway_left  \\\n",
       "0  If there was a genderqueer monarch, would they...  9.110512e-04   \n",
       "1    We're already there, its just a delayed effect.  1.000000e+00   \n",
       "2                  She reigned from Stalin to Putin.  0.000000e+00   \n",
       "3  Children with [acrania](https://www.google.com...  4.139938e-08   \n",
       "\n",
       "     sway_right  correct_is_right  \n",
       "0  9.990889e-01              True  \n",
       "1  4.658886e-15             False  \n",
       "2  1.000000e+00              True  \n",
       "3  1.000000e+00              True  "
      ]
     },
     "metadata": {},
     "output_type": "display_data"
    },
    {
     "data": {
      "application/vnd.jupyter.widget-view+json": {
       "model_id": "ea3c88f4ef4b42f08a034997cd9feed9",
       "version_major": 2,
       "version_minor": 0
      },
      "text/plain": [
       "train val:   0%|          | 0/10000 [00:00<?, ?it/s]"
      ]
     },
     "metadata": {},
     "output_type": "display_data"
    },
    {
     "data": {
      "application/vnd.jupyter.widget-view+json": {
       "model_id": "0cf19ebef9ae4171824112d286f3d8b3",
       "version_major": 2,
       "version_minor": 0
      },
      "text/plain": [
       "test:   0%|          | 0/10000 [00:00<?, ?it/s]"
      ]
     },
     "metadata": {},
     "output_type": "display_data"
    },
    {
     "name": "stdout",
     "output_type": "stream",
     "text": [
      "train: {'accuracy': 0.53175} loss: 0.6625530708909034\n",
      "train val: {'accuracy': 0.5108} loss: 0.6844475341796875\n",
      "test: {'accuracy': 0.4911} loss: 0.6914653867721557\n",
      "epoch 89\n"
     ]
    },
    {
     "data": {
      "application/vnd.jupyter.widget-view+json": {
       "model_id": "af5932a829ce4ccaae8ceb82846069e8",
       "version_major": 2,
       "version_minor": 0
      },
      "text/plain": [
       "train:   0%|          | 0/20000 [00:00<?, ?it/s]"
      ]
     },
     "metadata": {},
     "output_type": "display_data"
    },
    {
     "data": {
      "text/html": [
       "<div>\n",
       "<style scoped>\n",
       "    .dataframe tbody tr th:only-of-type {\n",
       "        vertical-align: middle;\n",
       "    }\n",
       "\n",
       "    .dataframe tbody tr th {\n",
       "        vertical-align: top;\n",
       "    }\n",
       "\n",
       "    .dataframe thead th {\n",
       "        text-align: right;\n",
       "    }\n",
       "</style>\n",
       "<table border=\"1\" class=\"dataframe\">\n",
       "  <thead>\n",
       "    <tr style=\"text-align: right;\">\n",
       "      <th></th>\n",
       "      <th>gen_name</th>\n",
       "      <th>parent_left</th>\n",
       "      <th>child_left</th>\n",
       "      <th>parent_right</th>\n",
       "      <th>child_right</th>\n",
       "      <th>sway_left</th>\n",
       "      <th>sway_right</th>\n",
       "      <th>correct_is_right</th>\n",
       "    </tr>\n",
       "  </thead>\n",
       "  <tbody>\n",
       "    <tr>\n",
       "      <th>0</th>\n",
       "      <td>*valid--random;(sw)</td>\n",
       "      <td>No but between being in a perpetual state of i...</td>\n",
       "      <td>Delusional to think sexual assaults are up as ...</td>\n",
       "      <td>Getting an education also rewards those who hi...</td>\n",
       "      <td>Where did you go? You were saying?</td>\n",
       "      <td>0.990987</td>\n",
       "      <td>0.009013</td>\n",
       "      <td>False</td>\n",
       "    </tr>\n",
       "    <tr>\n",
       "      <th>1</th>\n",
       "      <td>*valid--!valid;(sw)</td>\n",
       "      <td>[Teachers at Ohio's largest school district vo...</td>\n",
       "      <td>\"Replace teachers with superintelligent cyborg...</td>\n",
       "      <td>GQP is *all class*</td>\n",
       "      <td>Keepin’ it classy!</td>\n",
       "      <td>0.598688</td>\n",
       "      <td>0.401312</td>\n",
       "      <td>False</td>\n",
       "    </tr>\n",
       "    <tr>\n",
       "      <th>2</th>\n",
       "      <td>*valid--valid;(mtl:20)</td>\n",
       "      <td>&gt; If you knowingly funded a terrorist organiza...</td>\n",
       "      <td>[Beto O'Rourke temporarily off campaign trail ...</td>\n",
       "      <td>Not all journalism is worth praise? What does ...</td>\n",
       "      <td>Some journalism is propaganda and not worth pr...</td>\n",
       "      <td>0.268941</td>\n",
       "      <td>0.731059</td>\n",
       "      <td>True</td>\n",
       "    </tr>\n",
       "    <tr>\n",
       "      <th>3</th>\n",
       "      <td>valid--valid</td>\n",
       "      <td>[GOP candidate said it’s “totally just” to sto...</td>\n",
       "      <td>Fucking arrest these nazi scum for their stoch...</td>\n",
       "      <td>[Colo. Senator Says He 'Cannot Continue' to Be...</td>\n",
       "      <td>But for years and years the votes for him were...</td>\n",
       "      <td>0.952574</td>\n",
       "      <td>0.047426</td>\n",
       "      <td>False</td>\n",
       "    </tr>\n",
       "  </tbody>\n",
       "</table>\n",
       "</div>"
      ],
      "text/plain": [
       "                 gen_name                                        parent_left  \\\n",
       "0     *valid--random;(sw)  No but between being in a perpetual state of i...   \n",
       "1     *valid--!valid;(sw)  [Teachers at Ohio's largest school district vo...   \n",
       "2  *valid--valid;(mtl:20)  > If you knowingly funded a terrorist organiza...   \n",
       "3            valid--valid  [GOP candidate said it’s “totally just” to sto...   \n",
       "\n",
       "                                          child_left  \\\n",
       "0  Delusional to think sexual assaults are up as ...   \n",
       "1  \"Replace teachers with superintelligent cyborg...   \n",
       "2  [Beto O'Rourke temporarily off campaign trail ...   \n",
       "3  Fucking arrest these nazi scum for their stoch...   \n",
       "\n",
       "                                        parent_right  \\\n",
       "0  Getting an education also rewards those who hi...   \n",
       "1                                 GQP is *all class*   \n",
       "2  Not all journalism is worth praise? What does ...   \n",
       "3  [Colo. Senator Says He 'Cannot Continue' to Be...   \n",
       "\n",
       "                                         child_right  sway_left  sway_right  \\\n",
       "0                 Where did you go? You were saying?   0.990987    0.009013   \n",
       "1                                 Keepin’ it classy!   0.598688    0.401312   \n",
       "2  Some journalism is propaganda and not worth pr...   0.268941    0.731059   \n",
       "3  But for years and years the votes for him were...   0.952574    0.047426   \n",
       "\n",
       "   correct_is_right  \n",
       "0             False  \n",
       "1             False  \n",
       "2              True  \n",
       "3             False  "
      ]
     },
     "metadata": {},
     "output_type": "display_data"
    },
    {
     "data": {
      "application/vnd.jupyter.widget-view+json": {
       "model_id": "45d1c884423c4e60ad4b5a4799b05ad3",
       "version_major": 2,
       "version_minor": 0
      },
      "text/plain": [
       "train val:   0%|          | 0/10000 [00:00<?, ?it/s]"
      ]
     },
     "metadata": {},
     "output_type": "display_data"
    },
    {
     "data": {
      "application/vnd.jupyter.widget-view+json": {
       "model_id": "55ce153f4b9a45fc973fd497812bfad8",
       "version_major": 2,
       "version_minor": 0
      },
      "text/plain": [
       "test:   0%|          | 0/10000 [00:00<?, ?it/s]"
      ]
     },
     "metadata": {},
     "output_type": "display_data"
    },
    {
     "name": "stdout",
     "output_type": "stream",
     "text": [
      "train: {'accuracy': 0.5486} loss: 0.6415628032207489\n",
      "train val: {'accuracy': 0.5069} loss: 0.6850708755493164\n",
      "test: {'accuracy': 0.5032} loss: 0.6917294702529907\n",
      "epoch 90\n"
     ]
    },
    {
     "data": {
      "application/vnd.jupyter.widget-view+json": {
       "model_id": "a202523b437d4754a3fb0260054b74d7",
       "version_major": 2,
       "version_minor": 0
      },
      "text/plain": [
       "train:   0%|          | 0/20000 [00:00<?, ?it/s]"
      ]
     },
     "metadata": {},
     "output_type": "display_data"
    },
    {
     "data": {
      "text/html": [
       "<div>\n",
       "<style scoped>\n",
       "    .dataframe tbody tr th:only-of-type {\n",
       "        vertical-align: middle;\n",
       "    }\n",
       "\n",
       "    .dataframe tbody tr th {\n",
       "        vertical-align: top;\n",
       "    }\n",
       "\n",
       "    .dataframe thead th {\n",
       "        text-align: right;\n",
       "    }\n",
       "</style>\n",
       "<table border=\"1\" class=\"dataframe\">\n",
       "  <thead>\n",
       "    <tr style=\"text-align: right;\">\n",
       "      <th></th>\n",
       "      <th>gen_name</th>\n",
       "      <th>parent_left</th>\n",
       "      <th>child_left</th>\n",
       "      <th>parent_right</th>\n",
       "      <th>child_right</th>\n",
       "      <th>sway_left</th>\n",
       "      <th>sway_right</th>\n",
       "      <th>correct_is_right</th>\n",
       "    </tr>\n",
       "  </thead>\n",
       "  <tbody>\n",
       "    <tr>\n",
       "      <th>0</th>\n",
       "      <td>random--valid;(sw)</td>\n",
       "      <td>I say live and let live until someone is viola...</td>\n",
       "      <td>Yeah check out this Biden speech about nuclear...</td>\n",
       "      <td>IIRC doesn't every BBC news office have black ...</td>\n",
       "      <td>Yeah, back in '02 they got roasted for announc...</td>\n",
       "      <td>4.742587e-02</td>\n",
       "      <td>0.952574</td>\n",
       "      <td>True</td>\n",
       "    </tr>\n",
       "    <tr>\n",
       "      <th>1</th>\n",
       "      <td>random--path;(sw)</td>\n",
       "      <td>So now i practice law under my legally changed...</td>\n",
       "      <td>Absolute bullshit and you should feel ashamed ...</td>\n",
       "      <td>t/worldnews</td>\n",
       "      <td>[German Cabinet approves measure giving priori...</td>\n",
       "      <td>2.543521e-13</td>\n",
       "      <td>1.000000</td>\n",
       "      <td>True</td>\n",
       "    </tr>\n",
       "    <tr>\n",
       "      <th>2</th>\n",
       "      <td>!copy--valid;(sw)</td>\n",
       "      <td>Imagine that water on irritated skin or open w...</td>\n",
       "      <td>[US: Jackson locals told to shower with mouths...</td>\n",
       "      <td>[US: Jackson locals told to shower with mouths...</td>\n",
       "      <td>Imagine that water on irritated skin or open w...</td>\n",
       "      <td>2.472623e-03</td>\n",
       "      <td>0.997527</td>\n",
       "      <td>True</td>\n",
       "    </tr>\n",
       "    <tr>\n",
       "      <th>3</th>\n",
       "      <td>valid--valid;(sw)</td>\n",
       "      <td>You would have NOT liked me back then</td>\n",
       "      <td>This is PUSHED back, not slicked back!</td>\n",
       "      <td>It’s not unfair when compared to corporate bai...</td>\n",
       "      <td>You're making $125k/year? Sounds like ends are...</td>\n",
       "      <td>1.192029e-01</td>\n",
       "      <td>0.880797</td>\n",
       "      <td>True</td>\n",
       "    </tr>\n",
       "  </tbody>\n",
       "</table>\n",
       "</div>"
      ],
      "text/plain": [
       "             gen_name                                        parent_left  \\\n",
       "0  random--valid;(sw)  I say live and let live until someone is viola...   \n",
       "1   random--path;(sw)  So now i practice law under my legally changed...   \n",
       "2   !copy--valid;(sw)  Imagine that water on irritated skin or open w...   \n",
       "3   valid--valid;(sw)              You would have NOT liked me back then   \n",
       "\n",
       "                                          child_left  \\\n",
       "0  Yeah check out this Biden speech about nuclear...   \n",
       "1  Absolute bullshit and you should feel ashamed ...   \n",
       "2  [US: Jackson locals told to shower with mouths...   \n",
       "3             This is PUSHED back, not slicked back!   \n",
       "\n",
       "                                        parent_right  \\\n",
       "0  IIRC doesn't every BBC news office have black ...   \n",
       "1                                        t/worldnews   \n",
       "2  [US: Jackson locals told to shower with mouths...   \n",
       "3  It’s not unfair when compared to corporate bai...   \n",
       "\n",
       "                                         child_right     sway_left  \\\n",
       "0  Yeah, back in '02 they got roasted for announc...  4.742587e-02   \n",
       "1  [German Cabinet approves measure giving priori...  2.543521e-13   \n",
       "2  Imagine that water on irritated skin or open w...  2.472623e-03   \n",
       "3  You're making $125k/year? Sounds like ends are...  1.192029e-01   \n",
       "\n",
       "   sway_right  correct_is_right  \n",
       "0    0.952574              True  \n",
       "1    1.000000              True  \n",
       "2    0.997527              True  \n",
       "3    0.880797              True  "
      ]
     },
     "metadata": {},
     "output_type": "display_data"
    },
    {
     "data": {
      "application/vnd.jupyter.widget-view+json": {
       "model_id": "79b6d10dfeb34074aa60469cf930bb67",
       "version_major": 2,
       "version_minor": 0
      },
      "text/plain": [
       "train val:   0%|          | 0/10000 [00:00<?, ?it/s]"
      ]
     },
     "metadata": {},
     "output_type": "display_data"
    },
    {
     "data": {
      "application/vnd.jupyter.widget-view+json": {
       "model_id": "42d754d1f32e442f960540bb5e224d09",
       "version_major": 2,
       "version_minor": 0
      },
      "text/plain": [
       "test:   0%|          | 0/10000 [00:00<?, ?it/s]"
      ]
     },
     "metadata": {},
     "output_type": "display_data"
    },
    {
     "name": "stdout",
     "output_type": "stream",
     "text": [
      "train: {'accuracy': 0.5442} loss: 0.6437817898511886\n",
      "train val: {'accuracy': 0.5036} loss: 0.6845546432256698\n",
      "test: {'accuracy': 0.4999} loss: 0.6909269243478775\n",
      "epoch 91\n"
     ]
    },
    {
     "data": {
      "application/vnd.jupyter.widget-view+json": {
       "model_id": "db0529106d67413cac5f46e4b8b2a75e",
       "version_major": 2,
       "version_minor": 0
      },
      "text/plain": [
       "train:   0%|          | 0/20000 [00:00<?, ?it/s]"
      ]
     },
     "metadata": {},
     "output_type": "display_data"
    },
    {
     "data": {
      "text/html": [
       "<div>\n",
       "<style scoped>\n",
       "    .dataframe tbody tr th:only-of-type {\n",
       "        vertical-align: middle;\n",
       "    }\n",
       "\n",
       "    .dataframe tbody tr th {\n",
       "        vertical-align: top;\n",
       "    }\n",
       "\n",
       "    .dataframe thead th {\n",
       "        text-align: right;\n",
       "    }\n",
       "</style>\n",
       "<table border=\"1\" class=\"dataframe\">\n",
       "  <thead>\n",
       "    <tr style=\"text-align: right;\">\n",
       "      <th></th>\n",
       "      <th>gen_name</th>\n",
       "      <th>parent_left</th>\n",
       "      <th>child_left</th>\n",
       "      <th>parent_right</th>\n",
       "      <th>child_right</th>\n",
       "      <th>sway_left</th>\n",
       "      <th>sway_right</th>\n",
       "      <th>correct_is_right</th>\n",
       "    </tr>\n",
       "  </thead>\n",
       "  <tbody>\n",
       "    <tr>\n",
       "      <th>0</th>\n",
       "      <td>!copy--path;(sw)</td>\n",
       "      <td>[Adam Kinzinger says GOP in trouble ahead of m...</td>\n",
       "      <td>t/politics</td>\n",
       "      <td>t/politics</td>\n",
       "      <td>[Adam Kinzinger says GOP in trouble ahead of m...</td>\n",
       "      <td>0.000000</td>\n",
       "      <td>1.000000e+00</td>\n",
       "      <td>True</td>\n",
       "    </tr>\n",
       "    <tr>\n",
       "      <th>1</th>\n",
       "      <td>valid--valid</td>\n",
       "      <td>&gt;The biggest lie these guys ever told was that...</td>\n",
       "      <td>Both sides screamed it did not affect kids so ...</td>\n",
       "      <td>Boris Johnson is a piece of shit who only care...</td>\n",
       "      <td>~~Boris Johnson~~ Donald Trump is a piece of s...</td>\n",
       "      <td>1.000000</td>\n",
       "      <td>5.242886e-22</td>\n",
       "      <td>False</td>\n",
       "    </tr>\n",
       "    <tr>\n",
       "      <th>2</th>\n",
       "      <td>valid--valid;(sw)</td>\n",
       "      <td>Because reducing a debt by 10K and sending som...</td>\n",
       "      <td>Again you still refuse to explain how it’s not...</td>\n",
       "      <td>Maybe he's just a political Sanjaya.</td>\n",
       "      <td>Holy cow that's a name I haven't heard in over...</td>\n",
       "      <td>0.268941</td>\n",
       "      <td>7.310586e-01</td>\n",
       "      <td>True</td>\n",
       "    </tr>\n",
       "    <tr>\n",
       "      <th>3</th>\n",
       "      <td>random--path;(sw)</td>\n",
       "      <td>Half the time ships don’t give a shit when the...</td>\n",
       "      <td>If Republicans are crying and complaining, you...</td>\n",
       "      <td>Biden was elected because he took trumps power...</td>\n",
       "      <td>What a bigly man.</td>\n",
       "      <td>0.002473</td>\n",
       "      <td>9.975274e-01</td>\n",
       "      <td>True</td>\n",
       "    </tr>\n",
       "  </tbody>\n",
       "</table>\n",
       "</div>"
      ],
      "text/plain": [
       "            gen_name                                        parent_left  \\\n",
       "0   !copy--path;(sw)  [Adam Kinzinger says GOP in trouble ahead of m...   \n",
       "1       valid--valid  >The biggest lie these guys ever told was that...   \n",
       "2  valid--valid;(sw)  Because reducing a debt by 10K and sending som...   \n",
       "3  random--path;(sw)  Half the time ships don’t give a shit when the...   \n",
       "\n",
       "                                          child_left  \\\n",
       "0                                         t/politics   \n",
       "1  Both sides screamed it did not affect kids so ...   \n",
       "2  Again you still refuse to explain how it’s not...   \n",
       "3  If Republicans are crying and complaining, you...   \n",
       "\n",
       "                                        parent_right  \\\n",
       "0                                         t/politics   \n",
       "1  Boris Johnson is a piece of shit who only care...   \n",
       "2               Maybe he's just a political Sanjaya.   \n",
       "3  Biden was elected because he took trumps power...   \n",
       "\n",
       "                                         child_right  sway_left    sway_right  \\\n",
       "0  [Adam Kinzinger says GOP in trouble ahead of m...   0.000000  1.000000e+00   \n",
       "1  ~~Boris Johnson~~ Donald Trump is a piece of s...   1.000000  5.242886e-22   \n",
       "2  Holy cow that's a name I haven't heard in over...   0.268941  7.310586e-01   \n",
       "3                                  What a bigly man.   0.002473  9.975274e-01   \n",
       "\n",
       "   correct_is_right  \n",
       "0              True  \n",
       "1             False  \n",
       "2              True  \n",
       "3              True  "
      ]
     },
     "metadata": {},
     "output_type": "display_data"
    },
    {
     "data": {
      "application/vnd.jupyter.widget-view+json": {
       "model_id": "9f91c73fe05c4ad4969d01aa6b6a3643",
       "version_major": 2,
       "version_minor": 0
      },
      "text/plain": [
       "train val:   0%|          | 0/10000 [00:00<?, ?it/s]"
      ]
     },
     "metadata": {},
     "output_type": "display_data"
    },
    {
     "data": {
      "application/vnd.jupyter.widget-view+json": {
       "model_id": "7ac27eaf87f7433480edfaecfabb4630",
       "version_major": 2,
       "version_minor": 0
      },
      "text/plain": [
       "test:   0%|          | 0/10000 [00:00<?, ?it/s]"
      ]
     },
     "metadata": {},
     "output_type": "display_data"
    },
    {
     "name": "stdout",
     "output_type": "stream",
     "text": [
      "train: {'accuracy': 0.54395} loss: 0.6414862457633018\n",
      "train val: {'accuracy': 0.5174} loss: 0.6848707702875138\n",
      "test: {'accuracy': 0.5046} loss: 0.6916695918560029\n",
      "epoch 92\n"
     ]
    },
    {
     "data": {
      "application/vnd.jupyter.widget-view+json": {
       "model_id": "d624c6405a2f43469157bc462b1d7cde",
       "version_major": 2,
       "version_minor": 0
      },
      "text/plain": [
       "train:   0%|          | 0/20000 [00:00<?, ?it/s]"
      ]
     },
     "metadata": {},
     "output_type": "display_data"
    },
    {
     "data": {
      "text/html": [
       "<div>\n",
       "<style scoped>\n",
       "    .dataframe tbody tr th:only-of-type {\n",
       "        vertical-align: middle;\n",
       "    }\n",
       "\n",
       "    .dataframe tbody tr th {\n",
       "        vertical-align: top;\n",
       "    }\n",
       "\n",
       "    .dataframe thead th {\n",
       "        text-align: right;\n",
       "    }\n",
       "</style>\n",
       "<table border=\"1\" class=\"dataframe\">\n",
       "  <thead>\n",
       "    <tr style=\"text-align: right;\">\n",
       "      <th></th>\n",
       "      <th>gen_name</th>\n",
       "      <th>parent_left</th>\n",
       "      <th>child_left</th>\n",
       "      <th>parent_right</th>\n",
       "      <th>child_right</th>\n",
       "      <th>sway_left</th>\n",
       "      <th>sway_right</th>\n",
       "      <th>correct_is_right</th>\n",
       "    </tr>\n",
       "  </thead>\n",
       "  <tbody>\n",
       "    <tr>\n",
       "      <th>0</th>\n",
       "      <td>valid--valid;(sw)</td>\n",
       "      <td>Rape isn’t always about sex. There’s a power e...</td>\n",
       "      <td>no one is going to quote Frank Underwood here?...</td>\n",
       "      <td>[DeSantis says ‘woke’ 5 times in 19 seconds in...</td>\n",
       "      <td>It’s just sloganism with no substance towards ...</td>\n",
       "      <td>0.119203</td>\n",
       "      <td>8.807971e-01</td>\n",
       "      <td>True</td>\n",
       "    </tr>\n",
       "    <tr>\n",
       "      <th>1</th>\n",
       "      <td>*valid--!valid;(mtl:20)</td>\n",
       "      <td>Everyone should just become a tradesman, probl...</td>\n",
       "      <td>Everyone should live within their means. Probl...</td>\n",
       "      <td>Do we know if he's achieved object permanence ...</td>\n",
       "      <td>lol me too too much time on Reddit I guess</td>\n",
       "      <td>0.880797</td>\n",
       "      <td>1.192029e-01</td>\n",
       "      <td>False</td>\n",
       "    </tr>\n",
       "    <tr>\n",
       "      <th>2</th>\n",
       "      <td>random--valid;(sw)</td>\n",
       "      <td>My stats aren’t made up. Your claims are made ...</td>\n",
       "      <td>Super well documented, but not necessarily tru...</td>\n",
       "      <td>Ok so it's loose your job now or in 3 months w...</td>\n",
       "      <td>Idk why you would lose your job in 3 months, t...</td>\n",
       "      <td>0.119203</td>\n",
       "      <td>8.807971e-01</td>\n",
       "      <td>True</td>\n",
       "    </tr>\n",
       "    <tr>\n",
       "      <th>3</th>\n",
       "      <td>*valid--!copy;(sw)</td>\n",
       "      <td>They are undocumented migrants not immigrants,...</td>\n",
       "      <td>These guys aren’t undocumented though. They ge...</td>\n",
       "      <td>These guys aren’t undocumented though. They ge...</td>\n",
       "      <td>They are undocumented migrants not immigrants,...</td>\n",
       "      <td>1.000000</td>\n",
       "      <td>6.305117e-16</td>\n",
       "      <td>False</td>\n",
       "    </tr>\n",
       "  </tbody>\n",
       "</table>\n",
       "</div>"
      ],
      "text/plain": [
       "                  gen_name                                        parent_left  \\\n",
       "0        valid--valid;(sw)  Rape isn’t always about sex. There’s a power e...   \n",
       "1  *valid--!valid;(mtl:20)  Everyone should just become a tradesman, probl...   \n",
       "2       random--valid;(sw)  My stats aren’t made up. Your claims are made ...   \n",
       "3       *valid--!copy;(sw)  They are undocumented migrants not immigrants,...   \n",
       "\n",
       "                                          child_left  \\\n",
       "0  no one is going to quote Frank Underwood here?...   \n",
       "1  Everyone should live within their means. Probl...   \n",
       "2  Super well documented, but not necessarily tru...   \n",
       "3  These guys aren’t undocumented though. They ge...   \n",
       "\n",
       "                                        parent_right  \\\n",
       "0  [DeSantis says ‘woke’ 5 times in 19 seconds in...   \n",
       "1  Do we know if he's achieved object permanence ...   \n",
       "2  Ok so it's loose your job now or in 3 months w...   \n",
       "3  These guys aren’t undocumented though. They ge...   \n",
       "\n",
       "                                         child_right  sway_left    sway_right  \\\n",
       "0  It’s just sloganism with no substance towards ...   0.119203  8.807971e-01   \n",
       "1         lol me too too much time on Reddit I guess   0.880797  1.192029e-01   \n",
       "2  Idk why you would lose your job in 3 months, t...   0.119203  8.807971e-01   \n",
       "3  They are undocumented migrants not immigrants,...   1.000000  6.305117e-16   \n",
       "\n",
       "   correct_is_right  \n",
       "0              True  \n",
       "1             False  \n",
       "2              True  \n",
       "3             False  "
      ]
     },
     "metadata": {},
     "output_type": "display_data"
    },
    {
     "data": {
      "application/vnd.jupyter.widget-view+json": {
       "model_id": "b8f76c754e0b40c087ba23572553431d",
       "version_major": 2,
       "version_minor": 0
      },
      "text/plain": [
       "train val:   0%|          | 0/10000 [00:00<?, ?it/s]"
      ]
     },
     "metadata": {},
     "output_type": "display_data"
    },
    {
     "data": {
      "application/vnd.jupyter.widget-view+json": {
       "model_id": "12479b0f10ed485085812e964a49d4cc",
       "version_major": 2,
       "version_minor": 0
      },
      "text/plain": [
       "test:   0%|          | 0/10000 [00:00<?, ?it/s]"
      ]
     },
     "metadata": {},
     "output_type": "display_data"
    },
    {
     "name": "stdout",
     "output_type": "stream",
     "text": [
      "train: {'accuracy': 0.5521} loss: 0.6418677502810956\n",
      "train val: {'accuracy': 0.4589} loss: 0.6848209905743599\n",
      "test: {'accuracy': 0.5025} loss: 0.6925263734221458\n",
      "epoch 93\n"
     ]
    },
    {
     "data": {
      "application/vnd.jupyter.widget-view+json": {
       "model_id": "960530fcbcf24da08acc38a21180e27a",
       "version_major": 2,
       "version_minor": 0
      },
      "text/plain": [
       "train:   0%|          | 0/20000 [00:00<?, ?it/s]"
      ]
     },
     "metadata": {},
     "output_type": "display_data"
    },
    {
     "data": {
      "text/html": [
       "<div>\n",
       "<style scoped>\n",
       "    .dataframe tbody tr th:only-of-type {\n",
       "        vertical-align: middle;\n",
       "    }\n",
       "\n",
       "    .dataframe tbody tr th {\n",
       "        vertical-align: top;\n",
       "    }\n",
       "\n",
       "    .dataframe thead th {\n",
       "        text-align: right;\n",
       "    }\n",
       "</style>\n",
       "<table border=\"1\" class=\"dataframe\">\n",
       "  <thead>\n",
       "    <tr style=\"text-align: right;\">\n",
       "      <th></th>\n",
       "      <th>gen_name</th>\n",
       "      <th>parent_left</th>\n",
       "      <th>child_left</th>\n",
       "      <th>parent_right</th>\n",
       "      <th>child_right</th>\n",
       "      <th>sway_left</th>\n",
       "      <th>sway_right</th>\n",
       "      <th>correct_is_right</th>\n",
       "    </tr>\n",
       "  </thead>\n",
       "  <tbody>\n",
       "    <tr>\n",
       "      <th>0</th>\n",
       "      <td>!copy--valid;(sw)</td>\n",
       "      <td>So a literal **change** in his politics **now*...</td>\n",
       "      <td>&gt; Because he supports desantis now? Yes. Becau...</td>\n",
       "      <td>&gt; Because he supports desantis now? Yes. Becau...</td>\n",
       "      <td>So a literal **change** in his politics **now*...</td>\n",
       "      <td>0.401312</td>\n",
       "      <td>0.598688</td>\n",
       "      <td>True</td>\n",
       "    </tr>\n",
       "    <tr>\n",
       "      <th>1</th>\n",
       "      <td>*valid--valid;(mtl:20)</td>\n",
       "      <td>Biden is killing it. I didn't vote him in the ...</td>\n",
       "      <td>Not that I have a say, but he was nearly my la...</td>\n",
       "      <td>Why are people so much more intelligent (that ...</td>\n",
       "      <td>He does have influence even though (and maybe ...</td>\n",
       "      <td>0.731059</td>\n",
       "      <td>0.268941</td>\n",
       "      <td>False</td>\n",
       "    </tr>\n",
       "    <tr>\n",
       "      <th>2</th>\n",
       "      <td>random--valid;(sw)</td>\n",
       "      <td>Don’t think either Saudi or Israel have capabi...</td>\n",
       "      <td>&gt; People kept saying it was fake, but Biden pe...</td>\n",
       "      <td>So do people who emptied their savings account...</td>\n",
       "      <td>If you did that during covid yeah</td>\n",
       "      <td>0.000123</td>\n",
       "      <td>0.999877</td>\n",
       "      <td>True</td>\n",
       "    </tr>\n",
       "    <tr>\n",
       "      <th>3</th>\n",
       "      <td>random--valid;(sw)</td>\n",
       "      <td>Concerned centrist alert!!!!</td>\n",
       "      <td>\"If you wish for peace prepare for war\"</td>\n",
       "      <td>what were your degrees in and what do you do f...</td>\n",
       "      <td>I am a pediatrician. 400k+ is now the norm for...</td>\n",
       "      <td>0.119203</td>\n",
       "      <td>0.880797</td>\n",
       "      <td>True</td>\n",
       "    </tr>\n",
       "  </tbody>\n",
       "</table>\n",
       "</div>"
      ],
      "text/plain": [
       "                 gen_name                                        parent_left  \\\n",
       "0       !copy--valid;(sw)  So a literal **change** in his politics **now*...   \n",
       "1  *valid--valid;(mtl:20)  Biden is killing it. I didn't vote him in the ...   \n",
       "2      random--valid;(sw)  Don’t think either Saudi or Israel have capabi...   \n",
       "3      random--valid;(sw)                       Concerned centrist alert!!!!   \n",
       "\n",
       "                                          child_left  \\\n",
       "0  > Because he supports desantis now? Yes. Becau...   \n",
       "1  Not that I have a say, but he was nearly my la...   \n",
       "2  > People kept saying it was fake, but Biden pe...   \n",
       "3            \"If you wish for peace prepare for war\"   \n",
       "\n",
       "                                        parent_right  \\\n",
       "0  > Because he supports desantis now? Yes. Becau...   \n",
       "1  Why are people so much more intelligent (that ...   \n",
       "2  So do people who emptied their savings account...   \n",
       "3  what were your degrees in and what do you do f...   \n",
       "\n",
       "                                         child_right  sway_left  sway_right  \\\n",
       "0  So a literal **change** in his politics **now*...   0.401312    0.598688   \n",
       "1  He does have influence even though (and maybe ...   0.731059    0.268941   \n",
       "2                  If you did that during covid yeah   0.000123    0.999877   \n",
       "3  I am a pediatrician. 400k+ is now the norm for...   0.119203    0.880797   \n",
       "\n",
       "   correct_is_right  \n",
       "0              True  \n",
       "1             False  \n",
       "2              True  \n",
       "3              True  "
      ]
     },
     "metadata": {},
     "output_type": "display_data"
    },
    {
     "ename": "ValueError",
     "evalue": "error in compute thread",
     "output_type": "error",
     "traceback": [
      "\u001b[0;31m---------------------------------------------------------------------------\u001b[0m",
      "\u001b[0;31mExecAbortError\u001b[0m                            Traceback (most recent call last)",
      "File \u001b[0;32m~/miniconda3/envs/clotho/lib/python3.10/site-packages/redis/client.py:3911\u001b[0m, in \u001b[0;36mPipeline._execute_transaction\u001b[0;34m(self, connection, commands, raise_on_error)\u001b[0m\n\u001b[1;32m   3910\u001b[0m \u001b[38;5;28;01mtry\u001b[39;00m:\n\u001b[0;32m-> 3911\u001b[0m     response \u001b[38;5;241m=\u001b[39m \u001b[38;5;28;43mself\u001b[39;49m\u001b[38;5;241;43m.\u001b[39;49m\u001b[43mparse_response\u001b[49m\u001b[43m(\u001b[49m\u001b[43mconnection\u001b[49m\u001b[43m,\u001b[49m\u001b[43m \u001b[49m\u001b[38;5;124;43m'\u001b[39;49m\u001b[38;5;124;43m_\u001b[39;49m\u001b[38;5;124;43m'\u001b[39;49m\u001b[43m)\u001b[49m\n\u001b[1;32m   3912\u001b[0m \u001b[38;5;28;01mexcept\u001b[39;00m ExecAbortError:\n",
      "File \u001b[0;32m~/miniconda3/envs/clotho/lib/python3.10/site-packages/redis/client.py:3977\u001b[0m, in \u001b[0;36mPipeline.parse_response\u001b[0;34m(self, connection, command_name, **options)\u001b[0m\n\u001b[1;32m   3976\u001b[0m \u001b[38;5;28;01mdef\u001b[39;00m \u001b[38;5;21mparse_response\u001b[39m(\u001b[38;5;28mself\u001b[39m, connection, command_name, \u001b[38;5;241m*\u001b[39m\u001b[38;5;241m*\u001b[39moptions):\n\u001b[0;32m-> 3977\u001b[0m     result \u001b[38;5;241m=\u001b[39m \u001b[43mRedis\u001b[49m\u001b[38;5;241;43m.\u001b[39;49m\u001b[43mparse_response\u001b[49m\u001b[43m(\u001b[49m\n\u001b[1;32m   3978\u001b[0m \u001b[43m        \u001b[49m\u001b[38;5;28;43mself\u001b[39;49m\u001b[43m,\u001b[49m\u001b[43m \u001b[49m\u001b[43mconnection\u001b[49m\u001b[43m,\u001b[49m\u001b[43m \u001b[49m\u001b[43mcommand_name\u001b[49m\u001b[43m,\u001b[49m\u001b[43m \u001b[49m\u001b[38;5;241;43m*\u001b[39;49m\u001b[38;5;241;43m*\u001b[39;49m\u001b[43moptions\u001b[49m\u001b[43m)\u001b[49m\n\u001b[1;32m   3979\u001b[0m     \u001b[38;5;28;01mif\u001b[39;00m command_name \u001b[38;5;129;01min\u001b[39;00m \u001b[38;5;28mself\u001b[39m\u001b[38;5;241m.\u001b[39mUNWATCH_COMMANDS:\n",
      "File \u001b[0;32m~/miniconda3/envs/clotho/lib/python3.10/site-packages/redis/client.py:915\u001b[0m, in \u001b[0;36mRedis.parse_response\u001b[0;34m(self, connection, command_name, **options)\u001b[0m\n\u001b[1;32m    914\u001b[0m \u001b[38;5;28;01mtry\u001b[39;00m:\n\u001b[0;32m--> 915\u001b[0m     response \u001b[38;5;241m=\u001b[39m \u001b[43mconnection\u001b[49m\u001b[38;5;241;43m.\u001b[39;49m\u001b[43mread_response\u001b[49m\u001b[43m(\u001b[49m\u001b[43m)\u001b[49m\n\u001b[1;32m    916\u001b[0m \u001b[38;5;28;01mexcept\u001b[39;00m ResponseError:\n",
      "File \u001b[0;32m~/miniconda3/envs/clotho/lib/python3.10/site-packages/redis/connection.py:756\u001b[0m, in \u001b[0;36mConnection.read_response\u001b[0;34m(self)\u001b[0m\n\u001b[1;32m    755\u001b[0m \u001b[38;5;28;01mif\u001b[39;00m \u001b[38;5;28misinstance\u001b[39m(response, ResponseError):\n\u001b[0;32m--> 756\u001b[0m     \u001b[38;5;28;01mraise\u001b[39;00m response\n\u001b[1;32m    757\u001b[0m \u001b[38;5;28;01mreturn\u001b[39;00m response\n",
      "\u001b[0;31mExecAbortError\u001b[0m: Transaction discarded because of previous errors.",
      "\nDuring handling of the above exception, another exception occurred:\n",
      "\u001b[0;31mResponseError\u001b[0m                             Traceback (most recent call last)",
      "File \u001b[0;32m~/workspace/joschi/clotho/notebooks/../model/datagenerator.py:622\u001b[0m, in \u001b[0;36mTrainTestGenerator._th_run_train.<locals>.run\u001b[0;34m()\u001b[0m\n\u001b[1;32m    620\u001b[0m     lplan \u001b[38;5;241m=\u001b[39m \u001b[38;5;28mself\u001b[39m\u001b[38;5;241m.\u001b[39m_epoch_learning_plan(\n\u001b[1;32m    621\u001b[0m         \u001b[38;5;28mself\u001b[39m\u001b[38;5;241m.\u001b[39m_cur_epoch, \u001b[38;5;28mself\u001b[39m\u001b[38;5;241m.\u001b[39m_train_learning_plan)\n\u001b[0;32m--> 622\u001b[0m     \u001b[38;5;28;43mself\u001b[39;49m\u001b[38;5;241;43m.\u001b[39;49m\u001b[43m_th_compute_batch\u001b[49m\u001b[43m(\u001b[49m\n\u001b[1;32m    623\u001b[0m \u001b[43m        \u001b[49m\u001b[43mis_alive\u001b[49m\u001b[43m,\u001b[49m\u001b[43m \u001b[49m\u001b[38;5;28;43mself\u001b[39;49m\u001b[38;5;241;43m.\u001b[39;49m\u001b[43m_train\u001b[49m\u001b[43m,\u001b[49m\u001b[43m \u001b[49m\u001b[43mlplan\u001b[49m\u001b[43m,\u001b[49m\u001b[43m \u001b[49m\u001b[38;5;28;43mself\u001b[39;49m\u001b[38;5;241;43m.\u001b[39;49m\u001b[43m_train_buff\u001b[49m\u001b[43m)\u001b[49m\n\u001b[1;32m    624\u001b[0m \u001b[38;5;28;01mexcept\u001b[39;00m \u001b[38;5;167;01mBaseException\u001b[39;00m \u001b[38;5;28;01mas\u001b[39;00m e:  \u001b[38;5;66;03m# pylint: disable=broad-except\u001b[39;00m\n",
      "File \u001b[0;32m~/workspace/joschi/clotho/notebooks/../model/datagenerator.py:583\u001b[0m, in \u001b[0;36mTrainTestGenerator._th_compute_batch\u001b[0;34m(self, is_alive, data, learning_plan, buff)\u001b[0m\n\u001b[1;32m    582\u001b[0m         \u001b[38;5;28;01mreturn\u001b[39;00m\n\u001b[0;32m--> 583\u001b[0m \u001b[38;5;28;43mself\u001b[39;49m\u001b[38;5;241;43m.\u001b[39;49m\u001b[43m_compute_batch_for\u001b[49m\u001b[43m(\u001b[49m\u001b[43mdata\u001b[49m\u001b[43m,\u001b[49m\u001b[43m \u001b[49m\u001b[43mlearning_plan\u001b[49m\u001b[43m,\u001b[49m\u001b[43m \u001b[49m\u001b[43mbuff\u001b[49m\u001b[43m)\u001b[49m\n",
      "File \u001b[0;32m~/workspace/joschi/clotho/notebooks/../model/datagenerator.py:563\u001b[0m, in \u001b[0;36mTrainTestGenerator._compute_batch_for\u001b[0;34m(self, data, learning_plan, buff)\u001b[0m\n\u001b[1;32m    558\u001b[0m \u001b[38;5;28;01mdef\u001b[39;00m \u001b[38;5;21m_compute_batch_for\u001b[39m(\n\u001b[1;32m    559\u001b[0m         \u001b[38;5;28mself\u001b[39m,\n\u001b[1;32m    560\u001b[0m         data: DataGenerator,\n\u001b[1;32m    561\u001b[0m         learning_plan: \u001b[38;5;28mlist\u001b[39m[LearningPlan],\n\u001b[1;32m    562\u001b[0m         buff: collections\u001b[38;5;241m.\u001b[39mdeque[BatchRow]) \u001b[38;5;241m-\u001b[39m\u001b[38;5;241m>\u001b[39m \u001b[38;5;28;01mNone\u001b[39;00m:\n\u001b[0;32m--> 563\u001b[0m     \u001b[38;5;28;01mfor\u001b[39;00m row \u001b[38;5;129;01min\u001b[39;00m \u001b[38;5;28mself\u001b[39m\u001b[38;5;241m.\u001b[39m_from_learning_plan(\n\u001b[1;32m    564\u001b[0m             data,\n\u001b[1;32m    565\u001b[0m             learning_plan,\n\u001b[1;32m    566\u001b[0m             \u001b[38;5;28mself\u001b[39m\u001b[38;5;241m.\u001b[39m_compute_batch_size,\n\u001b[1;32m    567\u001b[0m             \u001b[38;5;28mself\u001b[39m\u001b[38;5;241m.\u001b[39m_scorer,\n\u001b[1;32m    568\u001b[0m             \u001b[38;5;28mself\u001b[39m\u001b[38;5;241m.\u001b[39m_now):\n\u001b[1;32m    569\u001b[0m         buff\u001b[38;5;241m.\u001b[39mappend(row)\n",
      "File \u001b[0;32m~/workspace/joschi/clotho/notebooks/../model/datagenerator.py:483\u001b[0m, in \u001b[0;36mTrainTestGenerator._from_learning_plan\u001b[0;34m(data, learning_plan, count, scorer, now)\u001b[0m\n\u001b[1;32m    481\u001b[0m     \u001b[38;5;28;01mraise\u001b[39;00m \u001b[38;5;167;01mValueError\u001b[39;00m(\u001b[38;5;124mf\u001b[39m\u001b[38;5;124m\"\u001b[39m\u001b[38;5;124minvalid mode: \u001b[39m\u001b[38;5;132;01m{\u001b[39;00mmode\u001b[38;5;132;01m}\u001b[39;00m\u001b[38;5;124m\"\u001b[39m)\n\u001b[0;32m--> 483\u001b[0m links \u001b[38;5;241m=\u001b[39m {\n\u001b[1;32m    484\u001b[0m     key: collections\u001b[38;5;241m.\u001b[39mdeque(gen(key, kcount))\n\u001b[1;32m    485\u001b[0m     \u001b[38;5;28;01mfor\u001b[39;00m key, kcount \u001b[38;5;129;01min\u001b[39;00m rcounts\u001b[38;5;241m.\u001b[39mitems()\n\u001b[1;32m    486\u001b[0m }\n\u001b[1;32m    487\u001b[0m produced \u001b[38;5;241m=\u001b[39m \u001b[38;5;241m0\u001b[39m\n",
      "File \u001b[0;32m~/workspace/joschi/clotho/notebooks/../model/datagenerator.py:484\u001b[0m, in \u001b[0;36m<dictcomp>\u001b[0;34m(.0)\u001b[0m\n\u001b[1;32m    481\u001b[0m     \u001b[38;5;28;01mraise\u001b[39;00m \u001b[38;5;167;01mValueError\u001b[39;00m(\u001b[38;5;124mf\u001b[39m\u001b[38;5;124m\"\u001b[39m\u001b[38;5;124minvalid mode: \u001b[39m\u001b[38;5;132;01m{\u001b[39;00mmode\u001b[38;5;132;01m}\u001b[39;00m\u001b[38;5;124m\"\u001b[39m)\n\u001b[1;32m    483\u001b[0m links \u001b[38;5;241m=\u001b[39m {\n\u001b[0;32m--> 484\u001b[0m     key: collections\u001b[38;5;241m.\u001b[39mdeque(\u001b[43mgen\u001b[49m\u001b[43m(\u001b[49m\u001b[43mkey\u001b[49m\u001b[43m,\u001b[49m\u001b[43m \u001b[49m\u001b[43mkcount\u001b[49m\u001b[43m)\u001b[49m)\n\u001b[1;32m    485\u001b[0m     \u001b[38;5;28;01mfor\u001b[39;00m key, kcount \u001b[38;5;129;01min\u001b[39;00m rcounts\u001b[38;5;241m.\u001b[39mitems()\n\u001b[1;32m    486\u001b[0m }\n\u001b[1;32m    487\u001b[0m produced \u001b[38;5;241m=\u001b[39m \u001b[38;5;241m0\u001b[39m\n",
      "File \u001b[0;32m~/workspace/joschi/clotho/notebooks/../model/datagenerator.py:480\u001b[0m, in \u001b[0;36mTrainTestGenerator._from_learning_plan.<locals>.gen\u001b[0;34m(mode, rcount)\u001b[0m\n\u001b[1;32m    479\u001b[0m \u001b[38;5;28;01mif\u001b[39;00m mode \u001b[38;5;241m==\u001b[39m \u001b[38;5;124m\"\u001b[39m\u001b[38;5;124mpath\u001b[39m\u001b[38;5;124m\"\u001b[39m:\n\u001b[0;32m--> 480\u001b[0m     \u001b[38;5;28;01mreturn\u001b[39;00m \u001b[43mdata\u001b[49m\u001b[38;5;241;43m.\u001b[39;49m\u001b[43mget_path_links\u001b[49m\u001b[43m(\u001b[49m\u001b[43mrcount\u001b[49m\u001b[43m,\u001b[49m\u001b[43m \u001b[49m\u001b[43mscorer\u001b[49m\u001b[43m,\u001b[49m\u001b[43m \u001b[49m\u001b[43mnow\u001b[49m\u001b[43m)\u001b[49m\n\u001b[1;32m    481\u001b[0m \u001b[38;5;28;01mraise\u001b[39;00m \u001b[38;5;167;01mValueError\u001b[39;00m(\u001b[38;5;124mf\u001b[39m\u001b[38;5;124m\"\u001b[39m\u001b[38;5;124minvalid mode: \u001b[39m\u001b[38;5;132;01m{\u001b[39;00mmode\u001b[38;5;132;01m}\u001b[39;00m\u001b[38;5;124m\"\u001b[39m)\n",
      "File \u001b[0;32m~/workspace/joschi/clotho/notebooks/../model/datagenerator.py:194\u001b[0m, in \u001b[0;36mDataGenerator.get_path_links\u001b[0;34m(self, count, scorer, now)\u001b[0m\n\u001b[1;32m    193\u001b[0m paths \u001b[38;5;241m=\u001b[39m \u001b[38;5;28mself\u001b[39m\u001b[38;5;241m.\u001b[39m_get_random_paths(count)\n\u001b[0;32m--> 194\u001b[0m \u001b[38;5;28;01mreturn\u001b[39;00m \u001b[38;5;28;43mself\u001b[39;49m\u001b[38;5;241;43m.\u001b[39;49m\u001b[43m_get_links_from_paths\u001b[49m\u001b[43m(\u001b[49m\u001b[43mpaths\u001b[49m\u001b[43m,\u001b[49m\u001b[43m \u001b[49m\u001b[43mscorer\u001b[49m\u001b[43m,\u001b[49m\u001b[43m \u001b[49m\u001b[43mnow\u001b[49m\u001b[43m)\u001b[49m\n",
      "File \u001b[0;32m~/workspace/joschi/clotho/notebooks/../model/datagenerator.py:178\u001b[0m, in \u001b[0;36mDataGenerator._get_links_from_paths\u001b[0;34m(self, paths, scorer, now)\u001b[0m\n\u001b[1;32m    176\u001b[0m     \u001b[38;5;28;01mreturn\u001b[39;00m res\n\u001b[0;32m--> 178\u001b[0m \u001b[38;5;28;01mreturn\u001b[39;00m [get_link(path) \u001b[38;5;28;01mfor\u001b[39;00m path \u001b[38;5;129;01min\u001b[39;00m paths]\n",
      "File \u001b[0;32m~/workspace/joschi/clotho/notebooks/../model/datagenerator.py:178\u001b[0m, in \u001b[0;36m<listcomp>\u001b[0;34m(.0)\u001b[0m\n\u001b[1;32m    176\u001b[0m     \u001b[38;5;28;01mreturn\u001b[39;00m res\n\u001b[0;32m--> 178\u001b[0m \u001b[38;5;28;01mreturn\u001b[39;00m [\u001b[43mget_link\u001b[49m\u001b[43m(\u001b[49m\u001b[43mpath\u001b[49m\u001b[43m)\u001b[49m \u001b[38;5;28;01mfor\u001b[39;00m path \u001b[38;5;129;01min\u001b[39;00m paths]\n",
      "File \u001b[0;32m~/workspace/joschi/clotho/notebooks/../model/datagenerator.py:160\u001b[0m, in \u001b[0;36mDataGenerator._get_links_from_paths.<locals>.get_link\u001b[0;34m(path)\u001b[0m\n\u001b[1;32m    159\u001b[0m \u001b[38;5;28;01mfor\u001b[39;00m cur \u001b[38;5;129;01min\u001b[39;00m path[\u001b[38;5;241m1\u001b[39m:]:\n\u001b[0;32m--> 160\u001b[0m     count \u001b[38;5;241m=\u001b[39m \u001b[43mlinks\u001b[49m\u001b[38;5;241;43m.\u001b[39;49m\u001b[43mget_all_children_count\u001b[49m\u001b[43m(\u001b[49m\u001b[43mphash\u001b[49m\u001b[43m,\u001b[49m\u001b[43m \u001b[49m\u001b[43mnow\u001b[49m\u001b[43m)\u001b[49m\n\u001b[1;32m    161\u001b[0m     \u001b[38;5;28;01mif\u001b[39;00m count \u001b[38;5;241m==\u001b[39m \u001b[38;5;241m0\u001b[39m:\n",
      "File \u001b[0;32m~/workspace/joschi/clotho/notebooks/../system/links/redisstore.py:456\u001b[0m, in \u001b[0;36mRedisLinkStore.get_all_children_count\u001b[0;34m(self, parent, now)\u001b[0m\n\u001b[1;32m    455\u001b[0m \u001b[38;5;28;01mdef\u001b[39;00m \u001b[38;5;21mget_all_children_count\u001b[39m(\u001b[38;5;28mself\u001b[39m, parent: MHash, now: pd\u001b[38;5;241m.\u001b[39mTimestamp) \u001b[38;5;241m-\u001b[39m\u001b[38;5;241m>\u001b[39m \u001b[38;5;28mint\u001b[39m:\n\u001b[0;32m--> 456\u001b[0m     \u001b[38;5;28;01mreturn\u001b[39;00m \u001b[38;5;28;43mself\u001b[39;49m\u001b[38;5;241;43m.\u001b[39;49m\u001b[43mr_call\u001b[49m\u001b[38;5;241;43m.\u001b[39;49m\u001b[43mget_size\u001b[49m\u001b[43m(\u001b[49m\n\u001b[1;32m    457\u001b[0m \u001b[43m        \u001b[49m\u001b[43mPLink\u001b[49m\u001b[43m(\u001b[49m\u001b[43mvote_type\u001b[49m\u001b[38;5;241;43m=\u001b[39;49m\u001b[43mVT_UP\u001b[49m\u001b[43m,\u001b[49m\u001b[43m \u001b[49m\u001b[43mparent\u001b[49m\u001b[38;5;241;43m=\u001b[39;49m\u001b[43mparent\u001b[49m\u001b[43m)\u001b[49m\u001b[43m,\u001b[49m\u001b[43m \u001b[49m\u001b[43mwhen\u001b[49m\u001b[38;5;241;43m=\u001b[39;49m\u001b[43mnow\u001b[49m\u001b[43m)\u001b[49m\n",
      "File \u001b[0;32m~/workspace/joschi/clotho/notebooks/../effects/effects.py:350\u001b[0m, in \u001b[0;36mListEffectDependent.get_size\u001b[0;34m(self, key, when)\u001b[0m\n\u001b[1;32m    349\u001b[0m     \u001b[38;5;28;01mreturn\u001b[39;00m size\n\u001b[0;32m--> 350\u001b[0m \u001b[38;5;28;43mself\u001b[39;49m\u001b[38;5;241;43m.\u001b[39;49m\u001b[43mexecute_update\u001b[49m\u001b[43m(\u001b[49m\u001b[43mkey\u001b[49m\u001b[43m,\u001b[49m\u001b[43m \u001b[49m\u001b[43mwhen\u001b[49m\u001b[43m)\u001b[49m\n\u001b[1;32m    351\u001b[0m size, _ \u001b[38;5;241m=\u001b[39m \u001b[38;5;28mself\u001b[39m\u001b[38;5;241m.\u001b[39mdo_get_size(key)\n",
      "File \u001b[0;32m~/workspace/joschi/clotho/notebooks/../effects/effects.py:197\u001b[0m, in \u001b[0;36mEffectDependent.execute_update\u001b[0;34m(self, key, now)\u001b[0m\n\u001b[1;32m    196\u001b[0m \u001b[38;5;28;01mtry\u001b[39;00m:\n\u001b[0;32m--> 197\u001b[0m     \u001b[38;5;28;43mself\u001b[39;49m\u001b[38;5;241;43m.\u001b[39;49m\u001b[43m_effect\u001b[49m\u001b[43m(\u001b[49m\u001b[43mkey\u001b[49m\u001b[43m,\u001b[49m\u001b[43m \u001b[49m\u001b[43mnow\u001b[49m\u001b[43m)\u001b[49m\n\u001b[1;32m    198\u001b[0m     \u001b[38;5;28mself\u001b[39m\u001b[38;5;241m.\u001b[39mclear_outdated(key, now)\n",
      "File \u001b[0;32m~/workspace/joschi/clotho/notebooks/../system/links/redisstore.py:116\u001b[0m, in \u001b[0;36mRedisLinkStore.__init__.<locals>.compute_call\u001b[0;34m(key, now)\u001b[0m\n\u001b[1;32m    114\u001b[0m \u001b[38;5;66;03m# FIXME properly benchmark gap vs no gap\u001b[39;00m\n\u001b[1;32m    115\u001b[0m \u001b[38;5;66;03m# gap = MHash.parse_size()\u001b[39;00m\n\u001b[0;32m--> 116\u001b[0m \u001b[38;5;28;43mself\u001b[39;49m\u001b[38;5;241;43m.\u001b[39;49m\u001b[43mr_call\u001b[49m\u001b[38;5;241;43m.\u001b[39;49m\u001b[43mset_value\u001b[49m\u001b[43m(\u001b[49m\n\u001b[1;32m    117\u001b[0m \u001b[43m    \u001b[49m\u001b[43mkey\u001b[49m\u001b[43m,\u001b[49m\n\u001b[1;32m    118\u001b[0m \u001b[43m    \u001b[49m\u001b[38;5;28;43mlist\u001b[39;49m\u001b[43m(\u001b[49m\u001b[38;5;28;43mself\u001b[39;49m\u001b[38;5;241;43m.\u001b[39;49m\u001b[43mr_last\u001b[49m\u001b[38;5;241;43m.\u001b[39;49m\u001b[43mget_range_keys\u001b[49m\u001b[43m(\u001b[49m\u001b[43mprefix\u001b[49m\u001b[43m)\u001b[49m\u001b[43m)\u001b[49m\u001b[43m,\u001b[49m\n\u001b[1;32m    119\u001b[0m \u001b[43m    \u001b[49m\u001b[43mnow\u001b[49m\u001b[43m)\u001b[49m\n",
      "File \u001b[0;32m~/workspace/joschi/clotho/notebooks/../effects/effects.py:246\u001b[0m, in \u001b[0;36mEffectDependent.set_value\u001b[0;34m(self, key, value, now)\u001b[0m\n\u001b[1;32m    245\u001b[0m \u001b[38;5;28;01mdef\u001b[39;00m \u001b[38;5;21mset_value\u001b[39m(\u001b[38;5;28mself\u001b[39m, key: KT, value: VT, now: pd\u001b[38;5;241m.\u001b[39mTimestamp \u001b[38;5;241m|\u001b[39m \u001b[38;5;28;01mNone\u001b[39;00m) \u001b[38;5;241m-\u001b[39m\u001b[38;5;241m>\u001b[39m \u001b[38;5;28;01mNone\u001b[39;00m:\n\u001b[0;32m--> 246\u001b[0m     \u001b[38;5;28;43mself\u001b[39;49m\u001b[38;5;241;43m.\u001b[39;49m\u001b[43mdo_set_value\u001b[49m\u001b[43m(\u001b[49m\u001b[43mkey\u001b[49m\u001b[43m,\u001b[49m\u001b[43m \u001b[49m\u001b[43mvalue\u001b[49m\u001b[43m,\u001b[49m\u001b[43m \u001b[49m\u001b[43mnow\u001b[49m\u001b[43m)\u001b[49m\n\u001b[1;32m    247\u001b[0m     \u001b[38;5;28mself\u001b[39m\u001b[38;5;241m.\u001b[39mon_update(key, now)\n",
      "File \u001b[0;32m~/workspace/joschi/clotho/notebooks/../effects/redis.py:405\u001b[0m, in \u001b[0;36mListDependentRedisType.do_set_value\u001b[0;34m(self, key, value, now)\u001b[0m\n\u001b[1;32m    404\u001b[0m     pipe\u001b[38;5;241m.\u001b[39mrpush(rkey, \u001b[38;5;241m*\u001b[39mpval)\n\u001b[0;32m--> 405\u001b[0m \u001b[43mpipe\u001b[49m\u001b[38;5;241;43m.\u001b[39;49m\u001b[43mexecute\u001b[49m\u001b[43m(\u001b[49m\u001b[43m)\u001b[49m\n",
      "File \u001b[0;32m~/miniconda3/envs/clotho/lib/python3.10/site-packages/redis/client.py:4019\u001b[0m, in \u001b[0;36mPipeline.execute\u001b[0;34m(self, raise_on_error)\u001b[0m\n\u001b[1;32m   4018\u001b[0m \u001b[38;5;28;01mtry\u001b[39;00m:\n\u001b[0;32m-> 4019\u001b[0m     \u001b[38;5;28;01mreturn\u001b[39;00m \u001b[43mexecute\u001b[49m\u001b[43m(\u001b[49m\u001b[43mconn\u001b[49m\u001b[43m,\u001b[49m\u001b[43m \u001b[49m\u001b[43mstack\u001b[49m\u001b[43m,\u001b[49m\u001b[43m \u001b[49m\u001b[43mraise_on_error\u001b[49m\u001b[43m)\u001b[49m\n\u001b[1;32m   4020\u001b[0m \u001b[38;5;28;01mexcept\u001b[39;00m (\u001b[38;5;167;01mConnectionError\u001b[39;00m, \u001b[38;5;167;01mTimeoutError\u001b[39;00m) \u001b[38;5;28;01mas\u001b[39;00m e:\n",
      "File \u001b[0;32m~/miniconda3/envs/clotho/lib/python3.10/site-packages/redis/client.py:3914\u001b[0m, in \u001b[0;36mPipeline._execute_transaction\u001b[0;34m(self, connection, commands, raise_on_error)\u001b[0m\n\u001b[1;32m   3913\u001b[0m \u001b[38;5;28;01mif\u001b[39;00m errors:\n\u001b[0;32m-> 3914\u001b[0m     \u001b[38;5;28;01mraise\u001b[39;00m errors[\u001b[38;5;241m0\u001b[39m][\u001b[38;5;241m1\u001b[39m]\n\u001b[1;32m   3915\u001b[0m \u001b[38;5;28;01mraise\u001b[39;00m\n",
      "File \u001b[0;32m~/miniconda3/envs/clotho/lib/python3.10/site-packages/redis/client.py:3904\u001b[0m, in \u001b[0;36mPipeline._execute_transaction\u001b[0;34m(self, connection, commands, raise_on_error)\u001b[0m\n\u001b[1;32m   3903\u001b[0m \u001b[38;5;28;01mtry\u001b[39;00m:\n\u001b[0;32m-> 3904\u001b[0m     \u001b[38;5;28;43mself\u001b[39;49m\u001b[38;5;241;43m.\u001b[39;49m\u001b[43mparse_response\u001b[49m\u001b[43m(\u001b[49m\u001b[43mconnection\u001b[49m\u001b[43m,\u001b[49m\u001b[43m \u001b[49m\u001b[38;5;124;43m'\u001b[39;49m\u001b[38;5;124;43m_\u001b[39;49m\u001b[38;5;124;43m'\u001b[39;49m\u001b[43m)\u001b[49m\n\u001b[1;32m   3905\u001b[0m \u001b[38;5;28;01mexcept\u001b[39;00m ResponseError \u001b[38;5;28;01mas\u001b[39;00m e:\n",
      "File \u001b[0;32m~/miniconda3/envs/clotho/lib/python3.10/site-packages/redis/client.py:3977\u001b[0m, in \u001b[0;36mPipeline.parse_response\u001b[0;34m(self, connection, command_name, **options)\u001b[0m\n\u001b[1;32m   3976\u001b[0m \u001b[38;5;28;01mdef\u001b[39;00m \u001b[38;5;21mparse_response\u001b[39m(\u001b[38;5;28mself\u001b[39m, connection, command_name, \u001b[38;5;241m*\u001b[39m\u001b[38;5;241m*\u001b[39moptions):\n\u001b[0;32m-> 3977\u001b[0m     result \u001b[38;5;241m=\u001b[39m \u001b[43mRedis\u001b[49m\u001b[38;5;241;43m.\u001b[39;49m\u001b[43mparse_response\u001b[49m\u001b[43m(\u001b[49m\n\u001b[1;32m   3978\u001b[0m \u001b[43m        \u001b[49m\u001b[38;5;28;43mself\u001b[39;49m\u001b[43m,\u001b[49m\u001b[43m \u001b[49m\u001b[43mconnection\u001b[49m\u001b[43m,\u001b[49m\u001b[43m \u001b[49m\u001b[43mcommand_name\u001b[49m\u001b[43m,\u001b[49m\u001b[43m \u001b[49m\u001b[38;5;241;43m*\u001b[39;49m\u001b[38;5;241;43m*\u001b[39;49m\u001b[43moptions\u001b[49m\u001b[43m)\u001b[49m\n\u001b[1;32m   3979\u001b[0m     \u001b[38;5;28;01mif\u001b[39;00m command_name \u001b[38;5;129;01min\u001b[39;00m \u001b[38;5;28mself\u001b[39m\u001b[38;5;241m.\u001b[39mUNWATCH_COMMANDS:\n",
      "File \u001b[0;32m~/miniconda3/envs/clotho/lib/python3.10/site-packages/redis/client.py:915\u001b[0m, in \u001b[0;36mRedis.parse_response\u001b[0;34m(self, connection, command_name, **options)\u001b[0m\n\u001b[1;32m    914\u001b[0m \u001b[38;5;28;01mtry\u001b[39;00m:\n\u001b[0;32m--> 915\u001b[0m     response \u001b[38;5;241m=\u001b[39m \u001b[43mconnection\u001b[49m\u001b[38;5;241;43m.\u001b[39;49m\u001b[43mread_response\u001b[49m\u001b[43m(\u001b[49m\u001b[43m)\u001b[49m\n\u001b[1;32m    916\u001b[0m \u001b[38;5;28;01mexcept\u001b[39;00m ResponseError:\n",
      "File \u001b[0;32m~/miniconda3/envs/clotho/lib/python3.10/site-packages/redis/connection.py:756\u001b[0m, in \u001b[0;36mConnection.read_response\u001b[0;34m(self)\u001b[0m\n\u001b[1;32m    755\u001b[0m \u001b[38;5;28;01mif\u001b[39;00m \u001b[38;5;28misinstance\u001b[39m(response, ResponseError):\n\u001b[0;32m--> 756\u001b[0m     \u001b[38;5;28;01mraise\u001b[39;00m response\n\u001b[1;32m    757\u001b[0m \u001b[38;5;28;01mreturn\u001b[39;00m response\n",
      "\u001b[0;31mResponseError\u001b[0m: Command # 1 (DEL api:link:vcall:up:5290ee3f457322ccb35297cf26997ee3379bd1663bbbe0e4d16a499726bd7480) of pipeline caused error: MISCONF Redis is configured to save RDB snapshots, but it's currently unable to persist to disk. Commands that may modify the data set are disabled, because this instance is configured to report errors during writes if RDB snapshotting fails (stop-writes-on-bgsave-error option). Please check the Redis logs for details about the RDB error.",
      "\nThe above exception was the direct cause of the following exception:\n",
      "\u001b[0;31mValueError\u001b[0m                                Traceback (most recent call last)",
      "Cell \u001b[0;32mIn[11], line 35\u001b[0m\n\u001b[1;32m     33\u001b[0m first \u001b[38;5;241m=\u001b[39m \u001b[38;5;28;01mTrue\u001b[39;00m\n\u001b[1;32m     34\u001b[0m \u001b[38;5;28;01mwith\u001b[39;00m tqdm(desc\u001b[38;5;241m=\u001b[39m\u001b[38;5;124m\"\u001b[39m\u001b[38;5;124mtrain\u001b[39m\u001b[38;5;124m\"\u001b[39m, total\u001b[38;5;241m=\u001b[39mttgen\u001b[38;5;241m.\u001b[39mget_epoch_train_size()) \u001b[38;5;28;01mas\u001b[39;00m progress_bar:\n\u001b[0;32m---> 35\u001b[0m     \u001b[38;5;28;01mfor\u001b[39;00m train_df \u001b[38;5;129;01min\u001b[39;00m ttgen\u001b[38;5;241m.\u001b[39mtrain_dfs():\n\u001b[1;32m     36\u001b[0m         preds, loss \u001b[38;5;241m=\u001b[39m compute(train_df)\n\u001b[1;32m     37\u001b[0m         train_loss\u001b[38;5;241m.\u001b[39mappend(loss\u001b[38;5;241m.\u001b[39mitem())\n",
      "File \u001b[0;32m~/workspace/joschi/clotho/notebooks/../model/datagenerator.py:812\u001b[0m, in \u001b[0;36mTrainTestGenerator.train_dfs\u001b[0;34m(self)\u001b[0m\n\u001b[1;32m    811\u001b[0m \u001b[38;5;28;01mdef\u001b[39;00m \u001b[38;5;21mtrain_dfs\u001b[39m(\u001b[38;5;28mself\u001b[39m) \u001b[38;5;241m-\u001b[39m\u001b[38;5;241m>\u001b[39m Iterable[pd\u001b[38;5;241m.\u001b[39mDataFrame]:\n\u001b[0;32m--> 812\u001b[0m     \u001b[38;5;28;01myield from\u001b[39;00m (\n\u001b[1;32m    813\u001b[0m         pd\u001b[38;5;241m.\u001b[39mDataFrame(val, columns\u001b[38;5;241m=\u001b[39mCOLUMNS)\n\u001b[1;32m    814\u001b[0m         \u001b[38;5;28;01mfor\u001b[39;00m val \u001b[38;5;129;01min\u001b[39;00m \u001b[38;5;28mself\u001b[39m\u001b[38;5;241m.\u001b[39mtrain_batches()\n\u001b[1;32m    815\u001b[0m     )\n",
      "File \u001b[0;32m~/workspace/joschi/clotho/notebooks/../model/datagenerator.py:812\u001b[0m, in \u001b[0;36m<genexpr>\u001b[0;34m(.0)\u001b[0m\n\u001b[1;32m    811\u001b[0m \u001b[38;5;28;01mdef\u001b[39;00m \u001b[38;5;21mtrain_dfs\u001b[39m(\u001b[38;5;28mself\u001b[39m) \u001b[38;5;241m-\u001b[39m\u001b[38;5;241m>\u001b[39m Iterable[pd\u001b[38;5;241m.\u001b[39mDataFrame]:\n\u001b[0;32m--> 812\u001b[0m     \u001b[38;5;28;01myield from\u001b[39;00m (\n\u001b[1;32m    813\u001b[0m         pd\u001b[38;5;241m.\u001b[39mDataFrame(val, columns\u001b[38;5;241m=\u001b[39mCOLUMNS)\n\u001b[1;32m    814\u001b[0m         \u001b[38;5;28;01mfor\u001b[39;00m val \u001b[38;5;129;01min\u001b[39;00m \u001b[38;5;28mself\u001b[39m\u001b[38;5;241m.\u001b[39mtrain_batches()\n\u001b[1;32m    815\u001b[0m     )\n",
      "File \u001b[0;32m~/workspace/joschi/clotho/notebooks/../model/datagenerator.py:779\u001b[0m, in \u001b[0;36mTrainTestGenerator.train_batches\u001b[0;34m(self)\u001b[0m\n\u001b[1;32m    777\u001b[0m     \u001b[38;5;28;01mraise\u001b[39;00m \u001b[38;5;167;01mValueError\u001b[39;00m(\u001b[38;5;124m\"\u001b[39m\u001b[38;5;124mtrain batches already exhausted!\u001b[39m\u001b[38;5;124m\"\u001b[39m)\n\u001b[1;32m    778\u001b[0m \u001b[38;5;28;01mwhile\u001b[39;00m \u001b[38;5;28;01mTrue\u001b[39;00m:\n\u001b[0;32m--> 779\u001b[0m     res \u001b[38;5;241m=\u001b[39m \u001b[38;5;28;43mself\u001b[39;49m\u001b[38;5;241;43m.\u001b[39;49m\u001b[43mnext_train_batch\u001b[49m\u001b[43m(\u001b[49m\u001b[43m)\u001b[49m\n\u001b[1;32m    780\u001b[0m     \u001b[38;5;28;01mif\u001b[39;00m res \u001b[38;5;129;01mis\u001b[39;00m \u001b[38;5;28;01mNone\u001b[39;00m:\n\u001b[1;32m    781\u001b[0m         \u001b[38;5;28;01mreturn\u001b[39;00m\n",
      "File \u001b[0;32m~/workspace/joschi/clotho/notebooks/../model/datagenerator.py:736\u001b[0m, in \u001b[0;36mTrainTestGenerator.next_train_batch\u001b[0;34m(self)\u001b[0m\n\u001b[1;32m    734\u001b[0m \u001b[38;5;28;01mif\u001b[39;00m \u001b[38;5;28mself\u001b[39m\u001b[38;5;241m.\u001b[39m_cur_train_batch \u001b[38;5;241m>\u001b[39m\u001b[38;5;241m=\u001b[39m \u001b[38;5;28mself\u001b[39m\u001b[38;5;241m.\u001b[39m_epoch_batches:\n\u001b[1;32m    735\u001b[0m     \u001b[38;5;28;01mreturn\u001b[39;00m \u001b[38;5;28;01mNone\u001b[39;00m\n\u001b[0;32m--> 736\u001b[0m res \u001b[38;5;241m=\u001b[39m \u001b[38;5;28;43mself\u001b[39;49m\u001b[38;5;241;43m.\u001b[39;49m\u001b[43m_get_batch_for\u001b[49m\u001b[43m(\u001b[49m\u001b[38;5;28;43mself\u001b[39;49m\u001b[38;5;241;43m.\u001b[39;49m\u001b[43m_th_run_train\u001b[49m\u001b[43m,\u001b[49m\u001b[43m \u001b[49m\u001b[38;5;28;43mself\u001b[39;49m\u001b[38;5;241;43m.\u001b[39;49m\u001b[43m_train_buff\u001b[49m\u001b[43m)\u001b[49m\n\u001b[1;32m    737\u001b[0m \u001b[38;5;28mself\u001b[39m\u001b[38;5;241m.\u001b[39m_cur_train_batch \u001b[38;5;241m+\u001b[39m\u001b[38;5;241m=\u001b[39m \u001b[38;5;241m1\u001b[39m\n\u001b[1;32m    738\u001b[0m \u001b[38;5;28;01mreturn\u001b[39;00m res\n",
      "File \u001b[0;32m~/workspace/joschi/clotho/notebooks/../model/datagenerator.py:596\u001b[0m, in \u001b[0;36mTrainTestGenerator._get_batch_for\u001b[0;34m(self, start_th, buff)\u001b[0m\n\u001b[1;32m    594\u001b[0m \u001b[38;5;28;01mfor\u001b[39;00m _ \u001b[38;5;129;01min\u001b[39;00m \u001b[38;5;28mrange\u001b[39m(\u001b[38;5;28mself\u001b[39m\u001b[38;5;241m.\u001b[39m_batch_size):\n\u001b[1;32m    595\u001b[0m     \u001b[38;5;28;01mwhile\u001b[39;00m \u001b[38;5;129;01mnot\u001b[39;00m has_rows():\n\u001b[0;32m--> 596\u001b[0m         \u001b[38;5;28;43mself\u001b[39;49m\u001b[38;5;241;43m.\u001b[39;49m\u001b[43m_check_err\u001b[49m\u001b[43m(\u001b[49m\u001b[43m)\u001b[49m\n\u001b[1;32m    597\u001b[0m         start_th()\n\u001b[1;32m    598\u001b[0m         \u001b[38;5;28;01mwith\u001b[39;00m \u001b[38;5;28mself\u001b[39m\u001b[38;5;241m.\u001b[39m_cond:\n",
      "File \u001b[0;32m~/workspace/joschi/clotho/notebooks/../model/datagenerator.py:606\u001b[0m, in \u001b[0;36mTrainTestGenerator._check_err\u001b[0;34m(self)\u001b[0m\n\u001b[1;32m    604\u001b[0m \u001b[38;5;28;01mdef\u001b[39;00m \u001b[38;5;21m_check_err\u001b[39m(\u001b[38;5;28mself\u001b[39m) \u001b[38;5;241m-\u001b[39m\u001b[38;5;241m>\u001b[39m \u001b[38;5;28;01mNone\u001b[39;00m:\n\u001b[1;32m    605\u001b[0m     \u001b[38;5;28;01mif\u001b[39;00m \u001b[38;5;28mself\u001b[39m\u001b[38;5;241m.\u001b[39m_th_err \u001b[38;5;129;01mis\u001b[39;00m \u001b[38;5;129;01mnot\u001b[39;00m \u001b[38;5;28;01mNone\u001b[39;00m:\n\u001b[0;32m--> 606\u001b[0m         \u001b[38;5;28;01mraise\u001b[39;00m \u001b[38;5;167;01mValueError\u001b[39;00m(\u001b[38;5;124m\"\u001b[39m\u001b[38;5;124merror in compute thread\u001b[39m\u001b[38;5;124m\"\u001b[39m) \u001b[38;5;28;01mfrom\u001b[39;00m \u001b[38;5;21;01mself\u001b[39;00m\u001b[38;5;21;01m.\u001b[39;00m\u001b[38;5;21;01m_th_err\u001b[39;00m\n",
      "\u001b[0;31mValueError\u001b[0m: error in compute thread"
     ]
    }
   ],
   "source": [
    "from transformers import get_scheduler\n",
    "# from tqdm.notebook import tqdm\n",
    "from tqdm.auto import tqdm\n",
    "import evaluate\n",
    "import time\n",
    "\n",
    "def compute(df):\n",
    "    plefts = tokens(df[\"parent_left\"])\n",
    "    clefts = tokens(df[\"child_left\"])\n",
    "    prights = tokens(df[\"parent_right\"])\n",
    "    crights = tokens(df[\"child_right\"])\n",
    "    labels = torch.tensor([~df[\"correct_is_right\"], df[\"correct_is_right\"]], dtype=torch.float32).T.to(device)\n",
    "    return harness({\"parent\": plefts, \"child\": clefts}, {\"parent\": prights, \"child\": crights}, labels)\n",
    "\n",
    "num_epochs = max((100 if is_cuda else 10) - epoch_offset, 3)\n",
    "num_training_steps = num_epochs * ttgen.get_epoch_train_size()\n",
    "warmup = 10000 if is_cuda else 10\n",
    "lr_scheduler = get_scheduler(\n",
    "    name=\"linear\",\n",
    "    optimizer=optimizer,\n",
    "    num_warmup_steps=warmup,\n",
    "    num_training_steps=num_training_steps - warmup)\n",
    "ttgen.set_epoch(epoch_offset)\n",
    "\n",
    "for _ in range(num_epochs):\n",
    "    epoch = ttgen.get_epoch()\n",
    "    print(f\"epoch {epoch}\")\n",
    "    real_time = time.monotonic()\n",
    "    \n",
    "    model.train()\n",
    "    harness.train()\n",
    "    model.set_epoch(epoch)\n",
    "    metric_train = evaluate.load(\"accuracy\")\n",
    "    train_loss = []\n",
    "    first = True\n",
    "    with tqdm(desc=\"train\", total=ttgen.get_epoch_train_size()) as progress_bar:\n",
    "        for train_df in ttgen.train_dfs():\n",
    "            preds, loss = compute(train_df)\n",
    "            train_loss.append(loss.item())\n",
    "            loss.backward()\n",
    "\n",
    "            optimizer.step()\n",
    "            lr_scheduler.step()\n",
    "            optimizer.zero_grad()\n",
    "            progress_bar.update(train_df.shape[0])\n",
    "            \n",
    "            predictions = torch.argmax(preds, dim=-1)\n",
    "            metric_train.add_batch(predictions=predictions, references=train_df[\"correct_is_right\"].astype(int))\n",
    "            if first:\n",
    "                # display(train_df)\n",
    "                first = False\n",
    "\n",
    "    folder = \"checkpoints\"\n",
    "    postfix = \"_lg\" if is_cuda else \"\"\n",
    "    version_tag = \"\" if harness.get_version() == 0 else f\"_v{harness.get_version()}\"\n",
    "    torch.save(harness.state_dict(), os.path.join(folder, f\"harness{version_tag}{postfix}_{epoch}.pkl\"))\n",
    "            \n",
    "    model.eval()\n",
    "    harness.eval()\n",
    "    with torch.no_grad():\n",
    "        metric_val_train = evaluate.load(\"accuracy\")\n",
    "        train_val_loss = []\n",
    "        with tqdm(desc=\"train val\", total=ttgen.get_epoch_train_validation_size()) as progress_bar:\n",
    "            for train_validation_df in ttgen.train_validation_dfs():\n",
    "                preds, loss = compute(train_validation_df)\n",
    "                train_val_loss.append(loss.item())\n",
    "                predictions = torch.argmax(preds, dim=-1)\n",
    "                metric_val_train.add_batch(\n",
    "                    predictions=predictions, references=train_validation_df[\"correct_is_right\"].astype(int))\n",
    "                progress_bar.update(train_validation_df.shape[0])\n",
    "        \n",
    "        metric_test = evaluate.load(\"accuracy\")\n",
    "        test_loss = []\n",
    "        with tqdm(desc=\"test\", total=ttgen.get_epoch_test_size()) as progress_bar:\n",
    "            for test_df in ttgen.test_dfs():\n",
    "                preds, loss = compute(test_df)\n",
    "                test_loss.append(loss.item())\n",
    "                predictions = torch.argmax(preds, dim=-1)\n",
    "                metric_test.add_batch(\n",
    "                    predictions=predictions, references=test_df[\"correct_is_right\"].astype(int))\n",
    "                progress_bar.update(test_df.shape[0])\n",
    "        \n",
    "        print(f\"train: {metric_train.compute()} loss: {np.mean(train_loss)}\")\n",
    "        print(f\"train val: {metric_val_train.compute()} loss: {np.mean(train_val_loss)}\")\n",
    "        print(f\"test: {metric_test.compute()} loss: {np.mean(test_loss)}\")\n",
    "    ttgen.advance_epoch()\n",
    "    print(f\"epoch time: {(time.monotonic() - real_time) / 60.0:.2f}min\")"
   ]
  },
  {
   "cell_type": "code",
   "execution_count": 12,
   "id": "c5a36224-b91d-4f21-9279-fa7c2a0e862f",
   "metadata": {},
   "outputs": [],
   "source": [
    "folder = \".\"\n",
    "postfix = \"_lg\" if is_cuda else \"\"\n",
    "version_tag = \"\" if harness.get_version() == 0 else f\"_v{harness.get_version()}\"\n",
    "torch.save(model.state_dict(), os.path.join(folder, f\"model{version_tag}{postfix}.pkl\"))\n",
    "torch.save(harness.state_dict(), os.path.join(folder, f\"harness{version_tag}{postfix}.pkl\"))\n",
    "torch.save(optimizer.state_dict(), os.path.join(folder, f\"optimizer{version_tag}{postfix}.pkl\"))"
   ]
  },
  {
   "cell_type": "code",
   "execution_count": 18,
   "id": "bff582b9-1447-425a-9b0f-36d9366e4ec7",
   "metadata": {},
   "outputs": [
    {
     "ename": "ValueError",
     "evalue": "error in compute thread",
     "output_type": "error",
     "traceback": [
      "\u001b[0;31m---------------------------------------------------------------------------\u001b[0m",
      "\u001b[0;31mExecAbortError\u001b[0m                            Traceback (most recent call last)",
      "File \u001b[0;32m~/miniconda3/envs/clotho/lib/python3.10/site-packages/redis/client.py:3911\u001b[0m, in \u001b[0;36mPipeline._execute_transaction\u001b[0;34m(self, connection, commands, raise_on_error)\u001b[0m\n\u001b[1;32m   3910\u001b[0m \u001b[38;5;28;01mtry\u001b[39;00m:\n\u001b[0;32m-> 3911\u001b[0m     response \u001b[38;5;241m=\u001b[39m \u001b[38;5;28;43mself\u001b[39;49m\u001b[38;5;241;43m.\u001b[39;49m\u001b[43mparse_response\u001b[49m\u001b[43m(\u001b[49m\u001b[43mconnection\u001b[49m\u001b[43m,\u001b[49m\u001b[43m \u001b[49m\u001b[38;5;124;43m'\u001b[39;49m\u001b[38;5;124;43m_\u001b[39;49m\u001b[38;5;124;43m'\u001b[39;49m\u001b[43m)\u001b[49m\n\u001b[1;32m   3912\u001b[0m \u001b[38;5;28;01mexcept\u001b[39;00m ExecAbortError:\n",
      "File \u001b[0;32m~/miniconda3/envs/clotho/lib/python3.10/site-packages/redis/client.py:3977\u001b[0m, in \u001b[0;36mPipeline.parse_response\u001b[0;34m(self, connection, command_name, **options)\u001b[0m\n\u001b[1;32m   3976\u001b[0m \u001b[38;5;28;01mdef\u001b[39;00m \u001b[38;5;21mparse_response\u001b[39m(\u001b[38;5;28mself\u001b[39m, connection, command_name, \u001b[38;5;241m*\u001b[39m\u001b[38;5;241m*\u001b[39moptions):\n\u001b[0;32m-> 3977\u001b[0m     result \u001b[38;5;241m=\u001b[39m \u001b[43mRedis\u001b[49m\u001b[38;5;241;43m.\u001b[39;49m\u001b[43mparse_response\u001b[49m\u001b[43m(\u001b[49m\n\u001b[1;32m   3978\u001b[0m \u001b[43m        \u001b[49m\u001b[38;5;28;43mself\u001b[39;49m\u001b[43m,\u001b[49m\u001b[43m \u001b[49m\u001b[43mconnection\u001b[49m\u001b[43m,\u001b[49m\u001b[43m \u001b[49m\u001b[43mcommand_name\u001b[49m\u001b[43m,\u001b[49m\u001b[43m \u001b[49m\u001b[38;5;241;43m*\u001b[39;49m\u001b[38;5;241;43m*\u001b[39;49m\u001b[43moptions\u001b[49m\u001b[43m)\u001b[49m\n\u001b[1;32m   3979\u001b[0m     \u001b[38;5;28;01mif\u001b[39;00m command_name \u001b[38;5;129;01min\u001b[39;00m \u001b[38;5;28mself\u001b[39m\u001b[38;5;241m.\u001b[39mUNWATCH_COMMANDS:\n",
      "File \u001b[0;32m~/miniconda3/envs/clotho/lib/python3.10/site-packages/redis/client.py:915\u001b[0m, in \u001b[0;36mRedis.parse_response\u001b[0;34m(self, connection, command_name, **options)\u001b[0m\n\u001b[1;32m    914\u001b[0m \u001b[38;5;28;01mtry\u001b[39;00m:\n\u001b[0;32m--> 915\u001b[0m     response \u001b[38;5;241m=\u001b[39m \u001b[43mconnection\u001b[49m\u001b[38;5;241;43m.\u001b[39;49m\u001b[43mread_response\u001b[49m\u001b[43m(\u001b[49m\u001b[43m)\u001b[49m\n\u001b[1;32m    916\u001b[0m \u001b[38;5;28;01mexcept\u001b[39;00m ResponseError:\n",
      "File \u001b[0;32m~/miniconda3/envs/clotho/lib/python3.10/site-packages/redis/connection.py:756\u001b[0m, in \u001b[0;36mConnection.read_response\u001b[0;34m(self)\u001b[0m\n\u001b[1;32m    755\u001b[0m \u001b[38;5;28;01mif\u001b[39;00m \u001b[38;5;28misinstance\u001b[39m(response, ResponseError):\n\u001b[0;32m--> 756\u001b[0m     \u001b[38;5;28;01mraise\u001b[39;00m response\n\u001b[1;32m    757\u001b[0m \u001b[38;5;28;01mreturn\u001b[39;00m response\n",
      "\u001b[0;31mExecAbortError\u001b[0m: Transaction discarded because of previous errors.",
      "\nDuring handling of the above exception, another exception occurred:\n",
      "\u001b[0;31mResponseError\u001b[0m                             Traceback (most recent call last)",
      "File \u001b[0;32m~/workspace/joschi/clotho/notebooks/../model/datagenerator.py:622\u001b[0m, in \u001b[0;36mTrainTestGenerator._th_run_train.<locals>.run\u001b[0;34m()\u001b[0m\n\u001b[1;32m    620\u001b[0m     lplan \u001b[38;5;241m=\u001b[39m \u001b[38;5;28mself\u001b[39m\u001b[38;5;241m.\u001b[39m_epoch_learning_plan(\n\u001b[1;32m    621\u001b[0m         \u001b[38;5;28mself\u001b[39m\u001b[38;5;241m.\u001b[39m_cur_epoch, \u001b[38;5;28mself\u001b[39m\u001b[38;5;241m.\u001b[39m_train_learning_plan)\n\u001b[0;32m--> 622\u001b[0m     \u001b[38;5;28;43mself\u001b[39;49m\u001b[38;5;241;43m.\u001b[39;49m\u001b[43m_th_compute_batch\u001b[49m\u001b[43m(\u001b[49m\n\u001b[1;32m    623\u001b[0m \u001b[43m        \u001b[49m\u001b[43mis_alive\u001b[49m\u001b[43m,\u001b[49m\u001b[43m \u001b[49m\u001b[38;5;28;43mself\u001b[39;49m\u001b[38;5;241;43m.\u001b[39;49m\u001b[43m_train\u001b[49m\u001b[43m,\u001b[49m\u001b[43m \u001b[49m\u001b[43mlplan\u001b[49m\u001b[43m,\u001b[49m\u001b[43m \u001b[49m\u001b[38;5;28;43mself\u001b[39;49m\u001b[38;5;241;43m.\u001b[39;49m\u001b[43m_train_buff\u001b[49m\u001b[43m)\u001b[49m\n\u001b[1;32m    624\u001b[0m \u001b[38;5;28;01mexcept\u001b[39;00m \u001b[38;5;167;01mBaseException\u001b[39;00m \u001b[38;5;28;01mas\u001b[39;00m e:  \u001b[38;5;66;03m# pylint: disable=broad-except\u001b[39;00m\n",
      "File \u001b[0;32m~/workspace/joschi/clotho/notebooks/../model/datagenerator.py:583\u001b[0m, in \u001b[0;36mTrainTestGenerator._th_compute_batch\u001b[0;34m(self, is_alive, data, learning_plan, buff)\u001b[0m\n\u001b[1;32m    582\u001b[0m         \u001b[38;5;28;01mreturn\u001b[39;00m\n\u001b[0;32m--> 583\u001b[0m \u001b[38;5;28;43mself\u001b[39;49m\u001b[38;5;241;43m.\u001b[39;49m\u001b[43m_compute_batch_for\u001b[49m\u001b[43m(\u001b[49m\u001b[43mdata\u001b[49m\u001b[43m,\u001b[49m\u001b[43m \u001b[49m\u001b[43mlearning_plan\u001b[49m\u001b[43m,\u001b[49m\u001b[43m \u001b[49m\u001b[43mbuff\u001b[49m\u001b[43m)\u001b[49m\n",
      "File \u001b[0;32m~/workspace/joschi/clotho/notebooks/../model/datagenerator.py:563\u001b[0m, in \u001b[0;36mTrainTestGenerator._compute_batch_for\u001b[0;34m(self, data, learning_plan, buff)\u001b[0m\n\u001b[1;32m    558\u001b[0m \u001b[38;5;28;01mdef\u001b[39;00m \u001b[38;5;21m_compute_batch_for\u001b[39m(\n\u001b[1;32m    559\u001b[0m         \u001b[38;5;28mself\u001b[39m,\n\u001b[1;32m    560\u001b[0m         data: DataGenerator,\n\u001b[1;32m    561\u001b[0m         learning_plan: \u001b[38;5;28mlist\u001b[39m[LearningPlan],\n\u001b[1;32m    562\u001b[0m         buff: collections\u001b[38;5;241m.\u001b[39mdeque[BatchRow]) \u001b[38;5;241m-\u001b[39m\u001b[38;5;241m>\u001b[39m \u001b[38;5;28;01mNone\u001b[39;00m:\n\u001b[0;32m--> 563\u001b[0m     \u001b[38;5;28;01mfor\u001b[39;00m row \u001b[38;5;129;01min\u001b[39;00m \u001b[38;5;28mself\u001b[39m\u001b[38;5;241m.\u001b[39m_from_learning_plan(\n\u001b[1;32m    564\u001b[0m             data,\n\u001b[1;32m    565\u001b[0m             learning_plan,\n\u001b[1;32m    566\u001b[0m             \u001b[38;5;28mself\u001b[39m\u001b[38;5;241m.\u001b[39m_compute_batch_size,\n\u001b[1;32m    567\u001b[0m             \u001b[38;5;28mself\u001b[39m\u001b[38;5;241m.\u001b[39m_scorer,\n\u001b[1;32m    568\u001b[0m             \u001b[38;5;28mself\u001b[39m\u001b[38;5;241m.\u001b[39m_now):\n\u001b[1;32m    569\u001b[0m         buff\u001b[38;5;241m.\u001b[39mappend(row)\n",
      "File \u001b[0;32m~/workspace/joschi/clotho/notebooks/../model/datagenerator.py:483\u001b[0m, in \u001b[0;36mTrainTestGenerator._from_learning_plan\u001b[0;34m(data, learning_plan, count, scorer, now)\u001b[0m\n\u001b[1;32m    481\u001b[0m     \u001b[38;5;28;01mraise\u001b[39;00m \u001b[38;5;167;01mValueError\u001b[39;00m(\u001b[38;5;124mf\u001b[39m\u001b[38;5;124m\"\u001b[39m\u001b[38;5;124minvalid mode: \u001b[39m\u001b[38;5;132;01m{\u001b[39;00mmode\u001b[38;5;132;01m}\u001b[39;00m\u001b[38;5;124m\"\u001b[39m)\n\u001b[0;32m--> 483\u001b[0m links \u001b[38;5;241m=\u001b[39m {\n\u001b[1;32m    484\u001b[0m     key: collections\u001b[38;5;241m.\u001b[39mdeque(gen(key, kcount))\n\u001b[1;32m    485\u001b[0m     \u001b[38;5;28;01mfor\u001b[39;00m key, kcount \u001b[38;5;129;01min\u001b[39;00m rcounts\u001b[38;5;241m.\u001b[39mitems()\n\u001b[1;32m    486\u001b[0m }\n\u001b[1;32m    487\u001b[0m produced \u001b[38;5;241m=\u001b[39m \u001b[38;5;241m0\u001b[39m\n",
      "File \u001b[0;32m~/workspace/joschi/clotho/notebooks/../model/datagenerator.py:484\u001b[0m, in \u001b[0;36m<dictcomp>\u001b[0;34m(.0)\u001b[0m\n\u001b[1;32m    481\u001b[0m     \u001b[38;5;28;01mraise\u001b[39;00m \u001b[38;5;167;01mValueError\u001b[39;00m(\u001b[38;5;124mf\u001b[39m\u001b[38;5;124m\"\u001b[39m\u001b[38;5;124minvalid mode: \u001b[39m\u001b[38;5;132;01m{\u001b[39;00mmode\u001b[38;5;132;01m}\u001b[39;00m\u001b[38;5;124m\"\u001b[39m)\n\u001b[1;32m    483\u001b[0m links \u001b[38;5;241m=\u001b[39m {\n\u001b[0;32m--> 484\u001b[0m     key: collections\u001b[38;5;241m.\u001b[39mdeque(\u001b[43mgen\u001b[49m\u001b[43m(\u001b[49m\u001b[43mkey\u001b[49m\u001b[43m,\u001b[49m\u001b[43m \u001b[49m\u001b[43mkcount\u001b[49m\u001b[43m)\u001b[49m)\n\u001b[1;32m    485\u001b[0m     \u001b[38;5;28;01mfor\u001b[39;00m key, kcount \u001b[38;5;129;01min\u001b[39;00m rcounts\u001b[38;5;241m.\u001b[39mitems()\n\u001b[1;32m    486\u001b[0m }\n\u001b[1;32m    487\u001b[0m produced \u001b[38;5;241m=\u001b[39m \u001b[38;5;241m0\u001b[39m\n",
      "File \u001b[0;32m~/workspace/joschi/clotho/notebooks/../model/datagenerator.py:480\u001b[0m, in \u001b[0;36mTrainTestGenerator._from_learning_plan.<locals>.gen\u001b[0;34m(mode, rcount)\u001b[0m\n\u001b[1;32m    479\u001b[0m \u001b[38;5;28;01mif\u001b[39;00m mode \u001b[38;5;241m==\u001b[39m \u001b[38;5;124m\"\u001b[39m\u001b[38;5;124mpath\u001b[39m\u001b[38;5;124m\"\u001b[39m:\n\u001b[0;32m--> 480\u001b[0m     \u001b[38;5;28;01mreturn\u001b[39;00m \u001b[43mdata\u001b[49m\u001b[38;5;241;43m.\u001b[39;49m\u001b[43mget_path_links\u001b[49m\u001b[43m(\u001b[49m\u001b[43mrcount\u001b[49m\u001b[43m,\u001b[49m\u001b[43m \u001b[49m\u001b[43mscorer\u001b[49m\u001b[43m,\u001b[49m\u001b[43m \u001b[49m\u001b[43mnow\u001b[49m\u001b[43m)\u001b[49m\n\u001b[1;32m    481\u001b[0m \u001b[38;5;28;01mraise\u001b[39;00m \u001b[38;5;167;01mValueError\u001b[39;00m(\u001b[38;5;124mf\u001b[39m\u001b[38;5;124m\"\u001b[39m\u001b[38;5;124minvalid mode: \u001b[39m\u001b[38;5;132;01m{\u001b[39;00mmode\u001b[38;5;132;01m}\u001b[39;00m\u001b[38;5;124m\"\u001b[39m)\n",
      "File \u001b[0;32m~/workspace/joschi/clotho/notebooks/../model/datagenerator.py:194\u001b[0m, in \u001b[0;36mDataGenerator.get_path_links\u001b[0;34m(self, count, scorer, now)\u001b[0m\n\u001b[1;32m    193\u001b[0m paths \u001b[38;5;241m=\u001b[39m \u001b[38;5;28mself\u001b[39m\u001b[38;5;241m.\u001b[39m_get_random_paths(count)\n\u001b[0;32m--> 194\u001b[0m \u001b[38;5;28;01mreturn\u001b[39;00m \u001b[38;5;28;43mself\u001b[39;49m\u001b[38;5;241;43m.\u001b[39;49m\u001b[43m_get_links_from_paths\u001b[49m\u001b[43m(\u001b[49m\u001b[43mpaths\u001b[49m\u001b[43m,\u001b[49m\u001b[43m \u001b[49m\u001b[43mscorer\u001b[49m\u001b[43m,\u001b[49m\u001b[43m \u001b[49m\u001b[43mnow\u001b[49m\u001b[43m)\u001b[49m\n",
      "File \u001b[0;32m~/workspace/joschi/clotho/notebooks/../model/datagenerator.py:178\u001b[0m, in \u001b[0;36mDataGenerator._get_links_from_paths\u001b[0;34m(self, paths, scorer, now)\u001b[0m\n\u001b[1;32m    176\u001b[0m     \u001b[38;5;28;01mreturn\u001b[39;00m res\n\u001b[0;32m--> 178\u001b[0m \u001b[38;5;28;01mreturn\u001b[39;00m [get_link(path) \u001b[38;5;28;01mfor\u001b[39;00m path \u001b[38;5;129;01min\u001b[39;00m paths]\n",
      "File \u001b[0;32m~/workspace/joschi/clotho/notebooks/../model/datagenerator.py:178\u001b[0m, in \u001b[0;36m<listcomp>\u001b[0;34m(.0)\u001b[0m\n\u001b[1;32m    176\u001b[0m     \u001b[38;5;28;01mreturn\u001b[39;00m res\n\u001b[0;32m--> 178\u001b[0m \u001b[38;5;28;01mreturn\u001b[39;00m [\u001b[43mget_link\u001b[49m\u001b[43m(\u001b[49m\u001b[43mpath\u001b[49m\u001b[43m)\u001b[49m \u001b[38;5;28;01mfor\u001b[39;00m path \u001b[38;5;129;01min\u001b[39;00m paths]\n",
      "File \u001b[0;32m~/workspace/joschi/clotho/notebooks/../model/datagenerator.py:160\u001b[0m, in \u001b[0;36mDataGenerator._get_links_from_paths.<locals>.get_link\u001b[0;34m(path)\u001b[0m\n\u001b[1;32m    159\u001b[0m \u001b[38;5;28;01mfor\u001b[39;00m cur \u001b[38;5;129;01min\u001b[39;00m path[\u001b[38;5;241m1\u001b[39m:]:\n\u001b[0;32m--> 160\u001b[0m     count \u001b[38;5;241m=\u001b[39m \u001b[43mlinks\u001b[49m\u001b[38;5;241;43m.\u001b[39;49m\u001b[43mget_all_children_count\u001b[49m\u001b[43m(\u001b[49m\u001b[43mphash\u001b[49m\u001b[43m,\u001b[49m\u001b[43m \u001b[49m\u001b[43mnow\u001b[49m\u001b[43m)\u001b[49m\n\u001b[1;32m    161\u001b[0m     \u001b[38;5;28;01mif\u001b[39;00m count \u001b[38;5;241m==\u001b[39m \u001b[38;5;241m0\u001b[39m:\n",
      "File \u001b[0;32m~/workspace/joschi/clotho/notebooks/../system/links/redisstore.py:456\u001b[0m, in \u001b[0;36mRedisLinkStore.get_all_children_count\u001b[0;34m(self, parent, now)\u001b[0m\n\u001b[1;32m    455\u001b[0m \u001b[38;5;28;01mdef\u001b[39;00m \u001b[38;5;21mget_all_children_count\u001b[39m(\u001b[38;5;28mself\u001b[39m, parent: MHash, now: pd\u001b[38;5;241m.\u001b[39mTimestamp) \u001b[38;5;241m-\u001b[39m\u001b[38;5;241m>\u001b[39m \u001b[38;5;28mint\u001b[39m:\n\u001b[0;32m--> 456\u001b[0m     \u001b[38;5;28;01mreturn\u001b[39;00m \u001b[38;5;28;43mself\u001b[39;49m\u001b[38;5;241;43m.\u001b[39;49m\u001b[43mr_call\u001b[49m\u001b[38;5;241;43m.\u001b[39;49m\u001b[43mget_size\u001b[49m\u001b[43m(\u001b[49m\n\u001b[1;32m    457\u001b[0m \u001b[43m        \u001b[49m\u001b[43mPLink\u001b[49m\u001b[43m(\u001b[49m\u001b[43mvote_type\u001b[49m\u001b[38;5;241;43m=\u001b[39;49m\u001b[43mVT_UP\u001b[49m\u001b[43m,\u001b[49m\u001b[43m \u001b[49m\u001b[43mparent\u001b[49m\u001b[38;5;241;43m=\u001b[39;49m\u001b[43mparent\u001b[49m\u001b[43m)\u001b[49m\u001b[43m,\u001b[49m\u001b[43m \u001b[49m\u001b[43mwhen\u001b[49m\u001b[38;5;241;43m=\u001b[39;49m\u001b[43mnow\u001b[49m\u001b[43m)\u001b[49m\n",
      "File \u001b[0;32m~/workspace/joschi/clotho/notebooks/../effects/effects.py:350\u001b[0m, in \u001b[0;36mListEffectDependent.get_size\u001b[0;34m(self, key, when)\u001b[0m\n\u001b[1;32m    349\u001b[0m     \u001b[38;5;28;01mreturn\u001b[39;00m size\n\u001b[0;32m--> 350\u001b[0m \u001b[38;5;28;43mself\u001b[39;49m\u001b[38;5;241;43m.\u001b[39;49m\u001b[43mexecute_update\u001b[49m\u001b[43m(\u001b[49m\u001b[43mkey\u001b[49m\u001b[43m,\u001b[49m\u001b[43m \u001b[49m\u001b[43mwhen\u001b[49m\u001b[43m)\u001b[49m\n\u001b[1;32m    351\u001b[0m size, _ \u001b[38;5;241m=\u001b[39m \u001b[38;5;28mself\u001b[39m\u001b[38;5;241m.\u001b[39mdo_get_size(key)\n",
      "File \u001b[0;32m~/workspace/joschi/clotho/notebooks/../effects/effects.py:197\u001b[0m, in \u001b[0;36mEffectDependent.execute_update\u001b[0;34m(self, key, now)\u001b[0m\n\u001b[1;32m    196\u001b[0m \u001b[38;5;28;01mtry\u001b[39;00m:\n\u001b[0;32m--> 197\u001b[0m     \u001b[38;5;28;43mself\u001b[39;49m\u001b[38;5;241;43m.\u001b[39;49m\u001b[43m_effect\u001b[49m\u001b[43m(\u001b[49m\u001b[43mkey\u001b[49m\u001b[43m,\u001b[49m\u001b[43m \u001b[49m\u001b[43mnow\u001b[49m\u001b[43m)\u001b[49m\n\u001b[1;32m    198\u001b[0m     \u001b[38;5;28mself\u001b[39m\u001b[38;5;241m.\u001b[39mclear_outdated(key, now)\n",
      "File \u001b[0;32m~/workspace/joschi/clotho/notebooks/../system/links/redisstore.py:116\u001b[0m, in \u001b[0;36mRedisLinkStore.__init__.<locals>.compute_call\u001b[0;34m(key, now)\u001b[0m\n\u001b[1;32m    114\u001b[0m \u001b[38;5;66;03m# FIXME properly benchmark gap vs no gap\u001b[39;00m\n\u001b[1;32m    115\u001b[0m \u001b[38;5;66;03m# gap = MHash.parse_size()\u001b[39;00m\n\u001b[0;32m--> 116\u001b[0m \u001b[38;5;28;43mself\u001b[39;49m\u001b[38;5;241;43m.\u001b[39;49m\u001b[43mr_call\u001b[49m\u001b[38;5;241;43m.\u001b[39;49m\u001b[43mset_value\u001b[49m\u001b[43m(\u001b[49m\n\u001b[1;32m    117\u001b[0m \u001b[43m    \u001b[49m\u001b[43mkey\u001b[49m\u001b[43m,\u001b[49m\n\u001b[1;32m    118\u001b[0m \u001b[43m    \u001b[49m\u001b[38;5;28;43mlist\u001b[39;49m\u001b[43m(\u001b[49m\u001b[38;5;28;43mself\u001b[39;49m\u001b[38;5;241;43m.\u001b[39;49m\u001b[43mr_last\u001b[49m\u001b[38;5;241;43m.\u001b[39;49m\u001b[43mget_range_keys\u001b[49m\u001b[43m(\u001b[49m\u001b[43mprefix\u001b[49m\u001b[43m)\u001b[49m\u001b[43m)\u001b[49m\u001b[43m,\u001b[49m\n\u001b[1;32m    119\u001b[0m \u001b[43m    \u001b[49m\u001b[43mnow\u001b[49m\u001b[43m)\u001b[49m\n",
      "File \u001b[0;32m~/workspace/joschi/clotho/notebooks/../effects/effects.py:246\u001b[0m, in \u001b[0;36mEffectDependent.set_value\u001b[0;34m(self, key, value, now)\u001b[0m\n\u001b[1;32m    245\u001b[0m \u001b[38;5;28;01mdef\u001b[39;00m \u001b[38;5;21mset_value\u001b[39m(\u001b[38;5;28mself\u001b[39m, key: KT, value: VT, now: pd\u001b[38;5;241m.\u001b[39mTimestamp \u001b[38;5;241m|\u001b[39m \u001b[38;5;28;01mNone\u001b[39;00m) \u001b[38;5;241m-\u001b[39m\u001b[38;5;241m>\u001b[39m \u001b[38;5;28;01mNone\u001b[39;00m:\n\u001b[0;32m--> 246\u001b[0m     \u001b[38;5;28;43mself\u001b[39;49m\u001b[38;5;241;43m.\u001b[39;49m\u001b[43mdo_set_value\u001b[49m\u001b[43m(\u001b[49m\u001b[43mkey\u001b[49m\u001b[43m,\u001b[49m\u001b[43m \u001b[49m\u001b[43mvalue\u001b[49m\u001b[43m,\u001b[49m\u001b[43m \u001b[49m\u001b[43mnow\u001b[49m\u001b[43m)\u001b[49m\n\u001b[1;32m    247\u001b[0m     \u001b[38;5;28mself\u001b[39m\u001b[38;5;241m.\u001b[39mon_update(key, now)\n",
      "File \u001b[0;32m~/workspace/joschi/clotho/notebooks/../effects/redis.py:405\u001b[0m, in \u001b[0;36mListDependentRedisType.do_set_value\u001b[0;34m(self, key, value, now)\u001b[0m\n\u001b[1;32m    404\u001b[0m     pipe\u001b[38;5;241m.\u001b[39mrpush(rkey, \u001b[38;5;241m*\u001b[39mpval)\n\u001b[0;32m--> 405\u001b[0m \u001b[43mpipe\u001b[49m\u001b[38;5;241;43m.\u001b[39;49m\u001b[43mexecute\u001b[49m\u001b[43m(\u001b[49m\u001b[43m)\u001b[49m\n",
      "File \u001b[0;32m~/miniconda3/envs/clotho/lib/python3.10/site-packages/redis/client.py:4019\u001b[0m, in \u001b[0;36mPipeline.execute\u001b[0;34m(self, raise_on_error)\u001b[0m\n\u001b[1;32m   4018\u001b[0m \u001b[38;5;28;01mtry\u001b[39;00m:\n\u001b[0;32m-> 4019\u001b[0m     \u001b[38;5;28;01mreturn\u001b[39;00m \u001b[43mexecute\u001b[49m\u001b[43m(\u001b[49m\u001b[43mconn\u001b[49m\u001b[43m,\u001b[49m\u001b[43m \u001b[49m\u001b[43mstack\u001b[49m\u001b[43m,\u001b[49m\u001b[43m \u001b[49m\u001b[43mraise_on_error\u001b[49m\u001b[43m)\u001b[49m\n\u001b[1;32m   4020\u001b[0m \u001b[38;5;28;01mexcept\u001b[39;00m (\u001b[38;5;167;01mConnectionError\u001b[39;00m, \u001b[38;5;167;01mTimeoutError\u001b[39;00m) \u001b[38;5;28;01mas\u001b[39;00m e:\n",
      "File \u001b[0;32m~/miniconda3/envs/clotho/lib/python3.10/site-packages/redis/client.py:3914\u001b[0m, in \u001b[0;36mPipeline._execute_transaction\u001b[0;34m(self, connection, commands, raise_on_error)\u001b[0m\n\u001b[1;32m   3913\u001b[0m \u001b[38;5;28;01mif\u001b[39;00m errors:\n\u001b[0;32m-> 3914\u001b[0m     \u001b[38;5;28;01mraise\u001b[39;00m errors[\u001b[38;5;241m0\u001b[39m][\u001b[38;5;241m1\u001b[39m]\n\u001b[1;32m   3915\u001b[0m \u001b[38;5;28;01mraise\u001b[39;00m\n",
      "File \u001b[0;32m~/miniconda3/envs/clotho/lib/python3.10/site-packages/redis/client.py:3904\u001b[0m, in \u001b[0;36mPipeline._execute_transaction\u001b[0;34m(self, connection, commands, raise_on_error)\u001b[0m\n\u001b[1;32m   3903\u001b[0m \u001b[38;5;28;01mtry\u001b[39;00m:\n\u001b[0;32m-> 3904\u001b[0m     \u001b[38;5;28;43mself\u001b[39;49m\u001b[38;5;241;43m.\u001b[39;49m\u001b[43mparse_response\u001b[49m\u001b[43m(\u001b[49m\u001b[43mconnection\u001b[49m\u001b[43m,\u001b[49m\u001b[43m \u001b[49m\u001b[38;5;124;43m'\u001b[39;49m\u001b[38;5;124;43m_\u001b[39;49m\u001b[38;5;124;43m'\u001b[39;49m\u001b[43m)\u001b[49m\n\u001b[1;32m   3905\u001b[0m \u001b[38;5;28;01mexcept\u001b[39;00m ResponseError \u001b[38;5;28;01mas\u001b[39;00m e:\n",
      "File \u001b[0;32m~/miniconda3/envs/clotho/lib/python3.10/site-packages/redis/client.py:3977\u001b[0m, in \u001b[0;36mPipeline.parse_response\u001b[0;34m(self, connection, command_name, **options)\u001b[0m\n\u001b[1;32m   3976\u001b[0m \u001b[38;5;28;01mdef\u001b[39;00m \u001b[38;5;21mparse_response\u001b[39m(\u001b[38;5;28mself\u001b[39m, connection, command_name, \u001b[38;5;241m*\u001b[39m\u001b[38;5;241m*\u001b[39moptions):\n\u001b[0;32m-> 3977\u001b[0m     result \u001b[38;5;241m=\u001b[39m \u001b[43mRedis\u001b[49m\u001b[38;5;241;43m.\u001b[39;49m\u001b[43mparse_response\u001b[49m\u001b[43m(\u001b[49m\n\u001b[1;32m   3978\u001b[0m \u001b[43m        \u001b[49m\u001b[38;5;28;43mself\u001b[39;49m\u001b[43m,\u001b[49m\u001b[43m \u001b[49m\u001b[43mconnection\u001b[49m\u001b[43m,\u001b[49m\u001b[43m \u001b[49m\u001b[43mcommand_name\u001b[49m\u001b[43m,\u001b[49m\u001b[43m \u001b[49m\u001b[38;5;241;43m*\u001b[39;49m\u001b[38;5;241;43m*\u001b[39;49m\u001b[43moptions\u001b[49m\u001b[43m)\u001b[49m\n\u001b[1;32m   3979\u001b[0m     \u001b[38;5;28;01mif\u001b[39;00m command_name \u001b[38;5;129;01min\u001b[39;00m \u001b[38;5;28mself\u001b[39m\u001b[38;5;241m.\u001b[39mUNWATCH_COMMANDS:\n",
      "File \u001b[0;32m~/miniconda3/envs/clotho/lib/python3.10/site-packages/redis/client.py:915\u001b[0m, in \u001b[0;36mRedis.parse_response\u001b[0;34m(self, connection, command_name, **options)\u001b[0m\n\u001b[1;32m    914\u001b[0m \u001b[38;5;28;01mtry\u001b[39;00m:\n\u001b[0;32m--> 915\u001b[0m     response \u001b[38;5;241m=\u001b[39m \u001b[43mconnection\u001b[49m\u001b[38;5;241;43m.\u001b[39;49m\u001b[43mread_response\u001b[49m\u001b[43m(\u001b[49m\u001b[43m)\u001b[49m\n\u001b[1;32m    916\u001b[0m \u001b[38;5;28;01mexcept\u001b[39;00m ResponseError:\n",
      "File \u001b[0;32m~/miniconda3/envs/clotho/lib/python3.10/site-packages/redis/connection.py:756\u001b[0m, in \u001b[0;36mConnection.read_response\u001b[0;34m(self)\u001b[0m\n\u001b[1;32m    755\u001b[0m \u001b[38;5;28;01mif\u001b[39;00m \u001b[38;5;28misinstance\u001b[39m(response, ResponseError):\n\u001b[0;32m--> 756\u001b[0m     \u001b[38;5;28;01mraise\u001b[39;00m response\n\u001b[1;32m    757\u001b[0m \u001b[38;5;28;01mreturn\u001b[39;00m response\n",
      "\u001b[0;31mResponseError\u001b[0m: Command # 1 (DEL api:link:vcall:up:5290ee3f457322ccb35297cf26997ee3379bd1663bbbe0e4d16a499726bd7480) of pipeline caused error: MISCONF Redis is configured to save RDB snapshots, but it's currently unable to persist to disk. Commands that may modify the data set are disabled, because this instance is configured to report errors during writes if RDB snapshotting fails (stop-writes-on-bgsave-error option). Please check the Redis logs for details about the RDB error.",
      "\nThe above exception was the direct cause of the following exception:\n",
      "\u001b[0;31mValueError\u001b[0m                                Traceback (most recent call last)",
      "Cell \u001b[0;32mIn[18], line 1\u001b[0m\n\u001b[0;32m----> 1\u001b[0m \u001b[43mttgen\u001b[49m\u001b[38;5;241;43m.\u001b[39;49m\u001b[43mreset\u001b[49m\u001b[43m(\u001b[49m\u001b[43m)\u001b[49m\n\u001b[1;32m      2\u001b[0m model\u001b[38;5;241m.\u001b[39meval()\n\u001b[1;32m      3\u001b[0m harness\u001b[38;5;241m.\u001b[39meval()\n",
      "File \u001b[0;32m~/workspace/joschi/clotho/notebooks/../model/datagenerator.py:369\u001b[0m, in \u001b[0;36mTrainTestGenerator.reset\u001b[0;34m(self)\u001b[0m\n\u001b[1;32m    368\u001b[0m \u001b[38;5;28;01mdef\u001b[39;00m \u001b[38;5;21mreset\u001b[39m(\u001b[38;5;28mself\u001b[39m) \u001b[38;5;241m-\u001b[39m\u001b[38;5;241m>\u001b[39m \u001b[38;5;28;01mNone\u001b[39;00m:\n\u001b[0;32m--> 369\u001b[0m     \u001b[38;5;28;43mself\u001b[39;49m\u001b[38;5;241;43m.\u001b[39;49m\u001b[43m_th_terminate\u001b[49m\u001b[43m(\u001b[49m\u001b[43m)\u001b[49m\n\u001b[1;32m    370\u001b[0m     \u001b[38;5;28mself\u001b[39m\u001b[38;5;241m.\u001b[39m_train\u001b[38;5;241m.\u001b[39mreset()\n\u001b[1;32m    371\u001b[0m     \u001b[38;5;28mself\u001b[39m\u001b[38;5;241m.\u001b[39m_train_validation\u001b[38;5;241m.\u001b[39mreset()\n",
      "File \u001b[0;32m~/workspace/joschi/clotho/notebooks/../model/datagenerator.py:365\u001b[0m, in \u001b[0;36mTrainTestGenerator._th_terminate\u001b[0;34m(self)\u001b[0m\n\u001b[1;32m    362\u001b[0m     \u001b[38;5;28;01mwith\u001b[39;00m \u001b[38;5;28mself\u001b[39m\u001b[38;5;241m.\u001b[39m_cond:\n\u001b[1;32m    363\u001b[0m         \u001b[38;5;28mself\u001b[39m\u001b[38;5;241m.\u001b[39m_cond\u001b[38;5;241m.\u001b[39mwait_for(done, \u001b[38;5;241m1.0\u001b[39m)\n\u001b[0;32m--> 365\u001b[0m \u001b[38;5;28;43mself\u001b[39;49m\u001b[38;5;241;43m.\u001b[39;49m\u001b[43m_check_err\u001b[49m\u001b[43m(\u001b[49m\u001b[43m)\u001b[49m\n\u001b[1;32m    366\u001b[0m \u001b[38;5;28mself\u001b[39m\u001b[38;5;241m.\u001b[39m_th_term \u001b[38;5;241m=\u001b[39m \u001b[38;5;28;01mFalse\u001b[39;00m\n",
      "File \u001b[0;32m~/workspace/joschi/clotho/notebooks/../model/datagenerator.py:606\u001b[0m, in \u001b[0;36mTrainTestGenerator._check_err\u001b[0;34m(self)\u001b[0m\n\u001b[1;32m    604\u001b[0m \u001b[38;5;28;01mdef\u001b[39;00m \u001b[38;5;21m_check_err\u001b[39m(\u001b[38;5;28mself\u001b[39m) \u001b[38;5;241m-\u001b[39m\u001b[38;5;241m>\u001b[39m \u001b[38;5;28;01mNone\u001b[39;00m:\n\u001b[1;32m    605\u001b[0m     \u001b[38;5;28;01mif\u001b[39;00m \u001b[38;5;28mself\u001b[39m\u001b[38;5;241m.\u001b[39m_th_err \u001b[38;5;129;01mis\u001b[39;00m \u001b[38;5;129;01mnot\u001b[39;00m \u001b[38;5;28;01mNone\u001b[39;00m:\n\u001b[0;32m--> 606\u001b[0m         \u001b[38;5;28;01mraise\u001b[39;00m \u001b[38;5;167;01mValueError\u001b[39;00m(\u001b[38;5;124m\"\u001b[39m\u001b[38;5;124merror in compute thread\u001b[39m\u001b[38;5;124m\"\u001b[39m) \u001b[38;5;28;01mfrom\u001b[39;00m \u001b[38;5;21;01mself\u001b[39;00m\u001b[38;5;21;01m.\u001b[39;00m\u001b[38;5;21;01m_th_err\u001b[39;00m\n",
      "\u001b[0;31mValueError\u001b[0m: error in compute thread"
     ]
    }
   ],
   "source": [
    "ttgen.reset()\n",
    "model.eval()\n",
    "harness.eval()\n",
    "dfs = []\n",
    "with torch.no_grad():\n",
    "    metric_val_test = evaluate.load(\"accuracy\")\n",
    "    test_val_loss = []\n",
    "    with tqdm(desc=\"test val\", total=ttgen.get_epoch_test_validation_size()) as progress_bar:\n",
    "        for test_val_df in ttgen.test_validation_dfs():\n",
    "            preds, loss = compute(test_val_df)\n",
    "            test_val_loss.append(loss.item())\n",
    "            predictions = torch.argmax(preds, dim=-1)\n",
    "            metric_val_test.add_batch(\n",
    "                predictions=predictions, references=test_val_df[\"correct_is_right\"].astype(int))\n",
    "            cur_df = test_val_df.copy()\n",
    "            cur_df[\"logit_left\"] = preds[:, 0].cpu()\n",
    "            cur_df[\"logit_right\"] = preds[:, 1].cpu()\n",
    "            cur_df[\"preds\"] = predictions.cpu()\n",
    "            cur_df[\"truth\"] = test_val_df[\"correct_is_right\"].astype(int)\n",
    "            dfs.append(cur_df)\n",
    "            progress_bar.update(test_val_df.shape[0])\n",
    "print(f\"test val: {metric_val_test.compute()} loss: {np.mean(test_val_loss)}\")\n",
    "validation_df = pd.concat(dfs)"
   ]
  },
  {
   "cell_type": "code",
   "execution_count": 14,
   "id": "e12c3406-9ff3-4576-93c2-daf914f3f8f0",
   "metadata": {},
   "outputs": [
    {
     "ename": "NameError",
     "evalue": "name 'validation_df' is not defined",
     "output_type": "error",
     "traceback": [
      "\u001b[0;31m---------------------------------------------------------------------------\u001b[0m",
      "\u001b[0;31mNameError\u001b[0m                                 Traceback (most recent call last)",
      "Cell \u001b[0;32mIn[14], line 3\u001b[0m\n\u001b[1;32m      1\u001b[0m postfix \u001b[38;5;241m=\u001b[39m \u001b[38;5;124m\"\u001b[39m\u001b[38;5;124m_lg\u001b[39m\u001b[38;5;124m\"\u001b[39m \u001b[38;5;28;01mif\u001b[39;00m is_cuda \u001b[38;5;28;01melse\u001b[39;00m \u001b[38;5;124m\"\u001b[39m\u001b[38;5;124m\"\u001b[39m\n\u001b[1;32m      2\u001b[0m version_tag \u001b[38;5;241m=\u001b[39m \u001b[38;5;124m\"\u001b[39m\u001b[38;5;124m\"\u001b[39m \u001b[38;5;28;01mif\u001b[39;00m harness\u001b[38;5;241m.\u001b[39mget_version() \u001b[38;5;241m==\u001b[39m \u001b[38;5;241m0\u001b[39m \u001b[38;5;28;01melse\u001b[39;00m \u001b[38;5;124mf\u001b[39m\u001b[38;5;124m\"\u001b[39m\u001b[38;5;124m_v\u001b[39m\u001b[38;5;132;01m{\u001b[39;00mharness\u001b[38;5;241m.\u001b[39mget_version()\u001b[38;5;132;01m}\u001b[39;00m\u001b[38;5;124m\"\u001b[39m\n\u001b[0;32m----> 3\u001b[0m \u001b[43mvalidation_df\u001b[49m\u001b[38;5;241m.\u001b[39mto_csv(os\u001b[38;5;241m.\u001b[39mpath\u001b[38;5;241m.\u001b[39mjoin(folder, \u001b[38;5;124mf\u001b[39m\u001b[38;5;124m\"\u001b[39m\u001b[38;5;124mvalidation\u001b[39m\u001b[38;5;132;01m{\u001b[39;00mversion_tag\u001b[38;5;132;01m}\u001b[39;00m\u001b[38;5;132;01m{\u001b[39;00mpostfix\u001b[38;5;132;01m}\u001b[39;00m\u001b[38;5;124m.csv\u001b[39m\u001b[38;5;124m\"\u001b[39m))\n",
      "\u001b[0;31mNameError\u001b[0m: name 'validation_df' is not defined"
     ]
    }
   ],
   "source": [
    "postfix = \"_lg\" if is_cuda else \"\"\n",
    "version_tag = \"\" if harness.get_version() == 0 else f\"_v{harness.get_version()}\"\n",
    "validation_df.to_csv(os.path.join(folder, f\"validation{version_tag}{postfix}.csv\"))"
   ]
  },
  {
   "cell_type": "code",
   "execution_count": null,
   "id": "0b76f390-5d4c-496c-9f47-4fcab527a4ca",
   "metadata": {},
   "outputs": [],
   "source": [
    "validation_df[validation_df[\"preds\"] == validation_df[\"truth\"]].head()"
   ]
  },
  {
   "cell_type": "code",
   "execution_count": null,
   "id": "1dcb0772-acf6-40c0-aad0-6d2adbfcdadd",
   "metadata": {},
   "outputs": [],
   "source": [
    "validation_df[validation_df[\"preds\"] != validation_df[\"truth\"]].head()"
   ]
  },
  {
   "cell_type": "code",
   "execution_count": 16,
   "id": "211e7f88-ff0c-4bad-bb47-2224bfedbc8b",
   "metadata": {},
   "outputs": [
    {
     "ename": "ValueError",
     "evalue": "error in compute thread",
     "output_type": "error",
     "traceback": [
      "\u001b[0;31m---------------------------------------------------------------------------\u001b[0m",
      "\u001b[0;31mExecAbortError\u001b[0m                            Traceback (most recent call last)",
      "File \u001b[0;32m~/miniconda3/envs/clotho/lib/python3.10/site-packages/redis/client.py:3911\u001b[0m, in \u001b[0;36mPipeline._execute_transaction\u001b[0;34m(self, connection, commands, raise_on_error)\u001b[0m\n\u001b[1;32m   3910\u001b[0m \u001b[38;5;28;01mtry\u001b[39;00m:\n\u001b[0;32m-> 3911\u001b[0m     response \u001b[38;5;241m=\u001b[39m \u001b[38;5;28;43mself\u001b[39;49m\u001b[38;5;241;43m.\u001b[39;49m\u001b[43mparse_response\u001b[49m\u001b[43m(\u001b[49m\u001b[43mconnection\u001b[49m\u001b[43m,\u001b[49m\u001b[43m \u001b[49m\u001b[38;5;124;43m'\u001b[39;49m\u001b[38;5;124;43m_\u001b[39;49m\u001b[38;5;124;43m'\u001b[39;49m\u001b[43m)\u001b[49m\n\u001b[1;32m   3912\u001b[0m \u001b[38;5;28;01mexcept\u001b[39;00m ExecAbortError:\n",
      "File \u001b[0;32m~/miniconda3/envs/clotho/lib/python3.10/site-packages/redis/client.py:3977\u001b[0m, in \u001b[0;36mPipeline.parse_response\u001b[0;34m(self, connection, command_name, **options)\u001b[0m\n\u001b[1;32m   3976\u001b[0m \u001b[38;5;28;01mdef\u001b[39;00m \u001b[38;5;21mparse_response\u001b[39m(\u001b[38;5;28mself\u001b[39m, connection, command_name, \u001b[38;5;241m*\u001b[39m\u001b[38;5;241m*\u001b[39moptions):\n\u001b[0;32m-> 3977\u001b[0m     result \u001b[38;5;241m=\u001b[39m \u001b[43mRedis\u001b[49m\u001b[38;5;241;43m.\u001b[39;49m\u001b[43mparse_response\u001b[49m\u001b[43m(\u001b[49m\n\u001b[1;32m   3978\u001b[0m \u001b[43m        \u001b[49m\u001b[38;5;28;43mself\u001b[39;49m\u001b[43m,\u001b[49m\u001b[43m \u001b[49m\u001b[43mconnection\u001b[49m\u001b[43m,\u001b[49m\u001b[43m \u001b[49m\u001b[43mcommand_name\u001b[49m\u001b[43m,\u001b[49m\u001b[43m \u001b[49m\u001b[38;5;241;43m*\u001b[39;49m\u001b[38;5;241;43m*\u001b[39;49m\u001b[43moptions\u001b[49m\u001b[43m)\u001b[49m\n\u001b[1;32m   3979\u001b[0m     \u001b[38;5;28;01mif\u001b[39;00m command_name \u001b[38;5;129;01min\u001b[39;00m \u001b[38;5;28mself\u001b[39m\u001b[38;5;241m.\u001b[39mUNWATCH_COMMANDS:\n",
      "File \u001b[0;32m~/miniconda3/envs/clotho/lib/python3.10/site-packages/redis/client.py:915\u001b[0m, in \u001b[0;36mRedis.parse_response\u001b[0;34m(self, connection, command_name, **options)\u001b[0m\n\u001b[1;32m    914\u001b[0m \u001b[38;5;28;01mtry\u001b[39;00m:\n\u001b[0;32m--> 915\u001b[0m     response \u001b[38;5;241m=\u001b[39m \u001b[43mconnection\u001b[49m\u001b[38;5;241;43m.\u001b[39;49m\u001b[43mread_response\u001b[49m\u001b[43m(\u001b[49m\u001b[43m)\u001b[49m\n\u001b[1;32m    916\u001b[0m \u001b[38;5;28;01mexcept\u001b[39;00m ResponseError:\n",
      "File \u001b[0;32m~/miniconda3/envs/clotho/lib/python3.10/site-packages/redis/connection.py:756\u001b[0m, in \u001b[0;36mConnection.read_response\u001b[0;34m(self)\u001b[0m\n\u001b[1;32m    755\u001b[0m \u001b[38;5;28;01mif\u001b[39;00m \u001b[38;5;28misinstance\u001b[39m(response, ResponseError):\n\u001b[0;32m--> 756\u001b[0m     \u001b[38;5;28;01mraise\u001b[39;00m response\n\u001b[1;32m    757\u001b[0m \u001b[38;5;28;01mreturn\u001b[39;00m response\n",
      "\u001b[0;31mExecAbortError\u001b[0m: Transaction discarded because of previous errors.",
      "\nDuring handling of the above exception, another exception occurred:\n",
      "\u001b[0;31mResponseError\u001b[0m                             Traceback (most recent call last)",
      "File \u001b[0;32m~/workspace/joschi/clotho/notebooks/../model/datagenerator.py:622\u001b[0m, in \u001b[0;36mTrainTestGenerator._th_run_train.<locals>.run\u001b[0;34m()\u001b[0m\n\u001b[1;32m    620\u001b[0m     lplan \u001b[38;5;241m=\u001b[39m \u001b[38;5;28mself\u001b[39m\u001b[38;5;241m.\u001b[39m_epoch_learning_plan(\n\u001b[1;32m    621\u001b[0m         \u001b[38;5;28mself\u001b[39m\u001b[38;5;241m.\u001b[39m_cur_epoch, \u001b[38;5;28mself\u001b[39m\u001b[38;5;241m.\u001b[39m_train_learning_plan)\n\u001b[0;32m--> 622\u001b[0m     \u001b[38;5;28;43mself\u001b[39;49m\u001b[38;5;241;43m.\u001b[39;49m\u001b[43m_th_compute_batch\u001b[49m\u001b[43m(\u001b[49m\n\u001b[1;32m    623\u001b[0m \u001b[43m        \u001b[49m\u001b[43mis_alive\u001b[49m\u001b[43m,\u001b[49m\u001b[43m \u001b[49m\u001b[38;5;28;43mself\u001b[39;49m\u001b[38;5;241;43m.\u001b[39;49m\u001b[43m_train\u001b[49m\u001b[43m,\u001b[49m\u001b[43m \u001b[49m\u001b[43mlplan\u001b[49m\u001b[43m,\u001b[49m\u001b[43m \u001b[49m\u001b[38;5;28;43mself\u001b[39;49m\u001b[38;5;241;43m.\u001b[39;49m\u001b[43m_train_buff\u001b[49m\u001b[43m)\u001b[49m\n\u001b[1;32m    624\u001b[0m \u001b[38;5;28;01mexcept\u001b[39;00m \u001b[38;5;167;01mBaseException\u001b[39;00m \u001b[38;5;28;01mas\u001b[39;00m e:  \u001b[38;5;66;03m# pylint: disable=broad-except\u001b[39;00m\n",
      "File \u001b[0;32m~/workspace/joschi/clotho/notebooks/../model/datagenerator.py:583\u001b[0m, in \u001b[0;36mTrainTestGenerator._th_compute_batch\u001b[0;34m(self, is_alive, data, learning_plan, buff)\u001b[0m\n\u001b[1;32m    582\u001b[0m         \u001b[38;5;28;01mreturn\u001b[39;00m\n\u001b[0;32m--> 583\u001b[0m \u001b[38;5;28;43mself\u001b[39;49m\u001b[38;5;241;43m.\u001b[39;49m\u001b[43m_compute_batch_for\u001b[49m\u001b[43m(\u001b[49m\u001b[43mdata\u001b[49m\u001b[43m,\u001b[49m\u001b[43m \u001b[49m\u001b[43mlearning_plan\u001b[49m\u001b[43m,\u001b[49m\u001b[43m \u001b[49m\u001b[43mbuff\u001b[49m\u001b[43m)\u001b[49m\n",
      "File \u001b[0;32m~/workspace/joschi/clotho/notebooks/../model/datagenerator.py:563\u001b[0m, in \u001b[0;36mTrainTestGenerator._compute_batch_for\u001b[0;34m(self, data, learning_plan, buff)\u001b[0m\n\u001b[1;32m    558\u001b[0m \u001b[38;5;28;01mdef\u001b[39;00m \u001b[38;5;21m_compute_batch_for\u001b[39m(\n\u001b[1;32m    559\u001b[0m         \u001b[38;5;28mself\u001b[39m,\n\u001b[1;32m    560\u001b[0m         data: DataGenerator,\n\u001b[1;32m    561\u001b[0m         learning_plan: \u001b[38;5;28mlist\u001b[39m[LearningPlan],\n\u001b[1;32m    562\u001b[0m         buff: collections\u001b[38;5;241m.\u001b[39mdeque[BatchRow]) \u001b[38;5;241m-\u001b[39m\u001b[38;5;241m>\u001b[39m \u001b[38;5;28;01mNone\u001b[39;00m:\n\u001b[0;32m--> 563\u001b[0m     \u001b[38;5;28;01mfor\u001b[39;00m row \u001b[38;5;129;01min\u001b[39;00m \u001b[38;5;28mself\u001b[39m\u001b[38;5;241m.\u001b[39m_from_learning_plan(\n\u001b[1;32m    564\u001b[0m             data,\n\u001b[1;32m    565\u001b[0m             learning_plan,\n\u001b[1;32m    566\u001b[0m             \u001b[38;5;28mself\u001b[39m\u001b[38;5;241m.\u001b[39m_compute_batch_size,\n\u001b[1;32m    567\u001b[0m             \u001b[38;5;28mself\u001b[39m\u001b[38;5;241m.\u001b[39m_scorer,\n\u001b[1;32m    568\u001b[0m             \u001b[38;5;28mself\u001b[39m\u001b[38;5;241m.\u001b[39m_now):\n\u001b[1;32m    569\u001b[0m         buff\u001b[38;5;241m.\u001b[39mappend(row)\n",
      "File \u001b[0;32m~/workspace/joschi/clotho/notebooks/../model/datagenerator.py:483\u001b[0m, in \u001b[0;36mTrainTestGenerator._from_learning_plan\u001b[0;34m(data, learning_plan, count, scorer, now)\u001b[0m\n\u001b[1;32m    481\u001b[0m     \u001b[38;5;28;01mraise\u001b[39;00m \u001b[38;5;167;01mValueError\u001b[39;00m(\u001b[38;5;124mf\u001b[39m\u001b[38;5;124m\"\u001b[39m\u001b[38;5;124minvalid mode: \u001b[39m\u001b[38;5;132;01m{\u001b[39;00mmode\u001b[38;5;132;01m}\u001b[39;00m\u001b[38;5;124m\"\u001b[39m)\n\u001b[0;32m--> 483\u001b[0m links \u001b[38;5;241m=\u001b[39m {\n\u001b[1;32m    484\u001b[0m     key: collections\u001b[38;5;241m.\u001b[39mdeque(gen(key, kcount))\n\u001b[1;32m    485\u001b[0m     \u001b[38;5;28;01mfor\u001b[39;00m key, kcount \u001b[38;5;129;01min\u001b[39;00m rcounts\u001b[38;5;241m.\u001b[39mitems()\n\u001b[1;32m    486\u001b[0m }\n\u001b[1;32m    487\u001b[0m produced \u001b[38;5;241m=\u001b[39m \u001b[38;5;241m0\u001b[39m\n",
      "File \u001b[0;32m~/workspace/joschi/clotho/notebooks/../model/datagenerator.py:484\u001b[0m, in \u001b[0;36m<dictcomp>\u001b[0;34m(.0)\u001b[0m\n\u001b[1;32m    481\u001b[0m     \u001b[38;5;28;01mraise\u001b[39;00m \u001b[38;5;167;01mValueError\u001b[39;00m(\u001b[38;5;124mf\u001b[39m\u001b[38;5;124m\"\u001b[39m\u001b[38;5;124minvalid mode: \u001b[39m\u001b[38;5;132;01m{\u001b[39;00mmode\u001b[38;5;132;01m}\u001b[39;00m\u001b[38;5;124m\"\u001b[39m)\n\u001b[1;32m    483\u001b[0m links \u001b[38;5;241m=\u001b[39m {\n\u001b[0;32m--> 484\u001b[0m     key: collections\u001b[38;5;241m.\u001b[39mdeque(\u001b[43mgen\u001b[49m\u001b[43m(\u001b[49m\u001b[43mkey\u001b[49m\u001b[43m,\u001b[49m\u001b[43m \u001b[49m\u001b[43mkcount\u001b[49m\u001b[43m)\u001b[49m)\n\u001b[1;32m    485\u001b[0m     \u001b[38;5;28;01mfor\u001b[39;00m key, kcount \u001b[38;5;129;01min\u001b[39;00m rcounts\u001b[38;5;241m.\u001b[39mitems()\n\u001b[1;32m    486\u001b[0m }\n\u001b[1;32m    487\u001b[0m produced \u001b[38;5;241m=\u001b[39m \u001b[38;5;241m0\u001b[39m\n",
      "File \u001b[0;32m~/workspace/joschi/clotho/notebooks/../model/datagenerator.py:480\u001b[0m, in \u001b[0;36mTrainTestGenerator._from_learning_plan.<locals>.gen\u001b[0;34m(mode, rcount)\u001b[0m\n\u001b[1;32m    479\u001b[0m \u001b[38;5;28;01mif\u001b[39;00m mode \u001b[38;5;241m==\u001b[39m \u001b[38;5;124m\"\u001b[39m\u001b[38;5;124mpath\u001b[39m\u001b[38;5;124m\"\u001b[39m:\n\u001b[0;32m--> 480\u001b[0m     \u001b[38;5;28;01mreturn\u001b[39;00m \u001b[43mdata\u001b[49m\u001b[38;5;241;43m.\u001b[39;49m\u001b[43mget_path_links\u001b[49m\u001b[43m(\u001b[49m\u001b[43mrcount\u001b[49m\u001b[43m,\u001b[49m\u001b[43m \u001b[49m\u001b[43mscorer\u001b[49m\u001b[43m,\u001b[49m\u001b[43m \u001b[49m\u001b[43mnow\u001b[49m\u001b[43m)\u001b[49m\n\u001b[1;32m    481\u001b[0m \u001b[38;5;28;01mraise\u001b[39;00m \u001b[38;5;167;01mValueError\u001b[39;00m(\u001b[38;5;124mf\u001b[39m\u001b[38;5;124m\"\u001b[39m\u001b[38;5;124minvalid mode: \u001b[39m\u001b[38;5;132;01m{\u001b[39;00mmode\u001b[38;5;132;01m}\u001b[39;00m\u001b[38;5;124m\"\u001b[39m)\n",
      "File \u001b[0;32m~/workspace/joschi/clotho/notebooks/../model/datagenerator.py:194\u001b[0m, in \u001b[0;36mDataGenerator.get_path_links\u001b[0;34m(self, count, scorer, now)\u001b[0m\n\u001b[1;32m    193\u001b[0m paths \u001b[38;5;241m=\u001b[39m \u001b[38;5;28mself\u001b[39m\u001b[38;5;241m.\u001b[39m_get_random_paths(count)\n\u001b[0;32m--> 194\u001b[0m \u001b[38;5;28;01mreturn\u001b[39;00m \u001b[38;5;28;43mself\u001b[39;49m\u001b[38;5;241;43m.\u001b[39;49m\u001b[43m_get_links_from_paths\u001b[49m\u001b[43m(\u001b[49m\u001b[43mpaths\u001b[49m\u001b[43m,\u001b[49m\u001b[43m \u001b[49m\u001b[43mscorer\u001b[49m\u001b[43m,\u001b[49m\u001b[43m \u001b[49m\u001b[43mnow\u001b[49m\u001b[43m)\u001b[49m\n",
      "File \u001b[0;32m~/workspace/joschi/clotho/notebooks/../model/datagenerator.py:178\u001b[0m, in \u001b[0;36mDataGenerator._get_links_from_paths\u001b[0;34m(self, paths, scorer, now)\u001b[0m\n\u001b[1;32m    176\u001b[0m     \u001b[38;5;28;01mreturn\u001b[39;00m res\n\u001b[0;32m--> 178\u001b[0m \u001b[38;5;28;01mreturn\u001b[39;00m [get_link(path) \u001b[38;5;28;01mfor\u001b[39;00m path \u001b[38;5;129;01min\u001b[39;00m paths]\n",
      "File \u001b[0;32m~/workspace/joschi/clotho/notebooks/../model/datagenerator.py:178\u001b[0m, in \u001b[0;36m<listcomp>\u001b[0;34m(.0)\u001b[0m\n\u001b[1;32m    176\u001b[0m     \u001b[38;5;28;01mreturn\u001b[39;00m res\n\u001b[0;32m--> 178\u001b[0m \u001b[38;5;28;01mreturn\u001b[39;00m [\u001b[43mget_link\u001b[49m\u001b[43m(\u001b[49m\u001b[43mpath\u001b[49m\u001b[43m)\u001b[49m \u001b[38;5;28;01mfor\u001b[39;00m path \u001b[38;5;129;01min\u001b[39;00m paths]\n",
      "File \u001b[0;32m~/workspace/joschi/clotho/notebooks/../model/datagenerator.py:160\u001b[0m, in \u001b[0;36mDataGenerator._get_links_from_paths.<locals>.get_link\u001b[0;34m(path)\u001b[0m\n\u001b[1;32m    159\u001b[0m \u001b[38;5;28;01mfor\u001b[39;00m cur \u001b[38;5;129;01min\u001b[39;00m path[\u001b[38;5;241m1\u001b[39m:]:\n\u001b[0;32m--> 160\u001b[0m     count \u001b[38;5;241m=\u001b[39m \u001b[43mlinks\u001b[49m\u001b[38;5;241;43m.\u001b[39;49m\u001b[43mget_all_children_count\u001b[49m\u001b[43m(\u001b[49m\u001b[43mphash\u001b[49m\u001b[43m,\u001b[49m\u001b[43m \u001b[49m\u001b[43mnow\u001b[49m\u001b[43m)\u001b[49m\n\u001b[1;32m    161\u001b[0m     \u001b[38;5;28;01mif\u001b[39;00m count \u001b[38;5;241m==\u001b[39m \u001b[38;5;241m0\u001b[39m:\n",
      "File \u001b[0;32m~/workspace/joschi/clotho/notebooks/../system/links/redisstore.py:456\u001b[0m, in \u001b[0;36mRedisLinkStore.get_all_children_count\u001b[0;34m(self, parent, now)\u001b[0m\n\u001b[1;32m    455\u001b[0m \u001b[38;5;28;01mdef\u001b[39;00m \u001b[38;5;21mget_all_children_count\u001b[39m(\u001b[38;5;28mself\u001b[39m, parent: MHash, now: pd\u001b[38;5;241m.\u001b[39mTimestamp) \u001b[38;5;241m-\u001b[39m\u001b[38;5;241m>\u001b[39m \u001b[38;5;28mint\u001b[39m:\n\u001b[0;32m--> 456\u001b[0m     \u001b[38;5;28;01mreturn\u001b[39;00m \u001b[38;5;28;43mself\u001b[39;49m\u001b[38;5;241;43m.\u001b[39;49m\u001b[43mr_call\u001b[49m\u001b[38;5;241;43m.\u001b[39;49m\u001b[43mget_size\u001b[49m\u001b[43m(\u001b[49m\n\u001b[1;32m    457\u001b[0m \u001b[43m        \u001b[49m\u001b[43mPLink\u001b[49m\u001b[43m(\u001b[49m\u001b[43mvote_type\u001b[49m\u001b[38;5;241;43m=\u001b[39;49m\u001b[43mVT_UP\u001b[49m\u001b[43m,\u001b[49m\u001b[43m \u001b[49m\u001b[43mparent\u001b[49m\u001b[38;5;241;43m=\u001b[39;49m\u001b[43mparent\u001b[49m\u001b[43m)\u001b[49m\u001b[43m,\u001b[49m\u001b[43m \u001b[49m\u001b[43mwhen\u001b[49m\u001b[38;5;241;43m=\u001b[39;49m\u001b[43mnow\u001b[49m\u001b[43m)\u001b[49m\n",
      "File \u001b[0;32m~/workspace/joschi/clotho/notebooks/../effects/effects.py:350\u001b[0m, in \u001b[0;36mListEffectDependent.get_size\u001b[0;34m(self, key, when)\u001b[0m\n\u001b[1;32m    349\u001b[0m     \u001b[38;5;28;01mreturn\u001b[39;00m size\n\u001b[0;32m--> 350\u001b[0m \u001b[38;5;28;43mself\u001b[39;49m\u001b[38;5;241;43m.\u001b[39;49m\u001b[43mexecute_update\u001b[49m\u001b[43m(\u001b[49m\u001b[43mkey\u001b[49m\u001b[43m,\u001b[49m\u001b[43m \u001b[49m\u001b[43mwhen\u001b[49m\u001b[43m)\u001b[49m\n\u001b[1;32m    351\u001b[0m size, _ \u001b[38;5;241m=\u001b[39m \u001b[38;5;28mself\u001b[39m\u001b[38;5;241m.\u001b[39mdo_get_size(key)\n",
      "File \u001b[0;32m~/workspace/joschi/clotho/notebooks/../effects/effects.py:197\u001b[0m, in \u001b[0;36mEffectDependent.execute_update\u001b[0;34m(self, key, now)\u001b[0m\n\u001b[1;32m    196\u001b[0m \u001b[38;5;28;01mtry\u001b[39;00m:\n\u001b[0;32m--> 197\u001b[0m     \u001b[38;5;28;43mself\u001b[39;49m\u001b[38;5;241;43m.\u001b[39;49m\u001b[43m_effect\u001b[49m\u001b[43m(\u001b[49m\u001b[43mkey\u001b[49m\u001b[43m,\u001b[49m\u001b[43m \u001b[49m\u001b[43mnow\u001b[49m\u001b[43m)\u001b[49m\n\u001b[1;32m    198\u001b[0m     \u001b[38;5;28mself\u001b[39m\u001b[38;5;241m.\u001b[39mclear_outdated(key, now)\n",
      "File \u001b[0;32m~/workspace/joschi/clotho/notebooks/../system/links/redisstore.py:116\u001b[0m, in \u001b[0;36mRedisLinkStore.__init__.<locals>.compute_call\u001b[0;34m(key, now)\u001b[0m\n\u001b[1;32m    114\u001b[0m \u001b[38;5;66;03m# FIXME properly benchmark gap vs no gap\u001b[39;00m\n\u001b[1;32m    115\u001b[0m \u001b[38;5;66;03m# gap = MHash.parse_size()\u001b[39;00m\n\u001b[0;32m--> 116\u001b[0m \u001b[38;5;28;43mself\u001b[39;49m\u001b[38;5;241;43m.\u001b[39;49m\u001b[43mr_call\u001b[49m\u001b[38;5;241;43m.\u001b[39;49m\u001b[43mset_value\u001b[49m\u001b[43m(\u001b[49m\n\u001b[1;32m    117\u001b[0m \u001b[43m    \u001b[49m\u001b[43mkey\u001b[49m\u001b[43m,\u001b[49m\n\u001b[1;32m    118\u001b[0m \u001b[43m    \u001b[49m\u001b[38;5;28;43mlist\u001b[39;49m\u001b[43m(\u001b[49m\u001b[38;5;28;43mself\u001b[39;49m\u001b[38;5;241;43m.\u001b[39;49m\u001b[43mr_last\u001b[49m\u001b[38;5;241;43m.\u001b[39;49m\u001b[43mget_range_keys\u001b[49m\u001b[43m(\u001b[49m\u001b[43mprefix\u001b[49m\u001b[43m)\u001b[49m\u001b[43m)\u001b[49m\u001b[43m,\u001b[49m\n\u001b[1;32m    119\u001b[0m \u001b[43m    \u001b[49m\u001b[43mnow\u001b[49m\u001b[43m)\u001b[49m\n",
      "File \u001b[0;32m~/workspace/joschi/clotho/notebooks/../effects/effects.py:246\u001b[0m, in \u001b[0;36mEffectDependent.set_value\u001b[0;34m(self, key, value, now)\u001b[0m\n\u001b[1;32m    245\u001b[0m \u001b[38;5;28;01mdef\u001b[39;00m \u001b[38;5;21mset_value\u001b[39m(\u001b[38;5;28mself\u001b[39m, key: KT, value: VT, now: pd\u001b[38;5;241m.\u001b[39mTimestamp \u001b[38;5;241m|\u001b[39m \u001b[38;5;28;01mNone\u001b[39;00m) \u001b[38;5;241m-\u001b[39m\u001b[38;5;241m>\u001b[39m \u001b[38;5;28;01mNone\u001b[39;00m:\n\u001b[0;32m--> 246\u001b[0m     \u001b[38;5;28;43mself\u001b[39;49m\u001b[38;5;241;43m.\u001b[39;49m\u001b[43mdo_set_value\u001b[49m\u001b[43m(\u001b[49m\u001b[43mkey\u001b[49m\u001b[43m,\u001b[49m\u001b[43m \u001b[49m\u001b[43mvalue\u001b[49m\u001b[43m,\u001b[49m\u001b[43m \u001b[49m\u001b[43mnow\u001b[49m\u001b[43m)\u001b[49m\n\u001b[1;32m    247\u001b[0m     \u001b[38;5;28mself\u001b[39m\u001b[38;5;241m.\u001b[39mon_update(key, now)\n",
      "File \u001b[0;32m~/workspace/joschi/clotho/notebooks/../effects/redis.py:405\u001b[0m, in \u001b[0;36mListDependentRedisType.do_set_value\u001b[0;34m(self, key, value, now)\u001b[0m\n\u001b[1;32m    404\u001b[0m     pipe\u001b[38;5;241m.\u001b[39mrpush(rkey, \u001b[38;5;241m*\u001b[39mpval)\n\u001b[0;32m--> 405\u001b[0m \u001b[43mpipe\u001b[49m\u001b[38;5;241;43m.\u001b[39;49m\u001b[43mexecute\u001b[49m\u001b[43m(\u001b[49m\u001b[43m)\u001b[49m\n",
      "File \u001b[0;32m~/miniconda3/envs/clotho/lib/python3.10/site-packages/redis/client.py:4019\u001b[0m, in \u001b[0;36mPipeline.execute\u001b[0;34m(self, raise_on_error)\u001b[0m\n\u001b[1;32m   4018\u001b[0m \u001b[38;5;28;01mtry\u001b[39;00m:\n\u001b[0;32m-> 4019\u001b[0m     \u001b[38;5;28;01mreturn\u001b[39;00m \u001b[43mexecute\u001b[49m\u001b[43m(\u001b[49m\u001b[43mconn\u001b[49m\u001b[43m,\u001b[49m\u001b[43m \u001b[49m\u001b[43mstack\u001b[49m\u001b[43m,\u001b[49m\u001b[43m \u001b[49m\u001b[43mraise_on_error\u001b[49m\u001b[43m)\u001b[49m\n\u001b[1;32m   4020\u001b[0m \u001b[38;5;28;01mexcept\u001b[39;00m (\u001b[38;5;167;01mConnectionError\u001b[39;00m, \u001b[38;5;167;01mTimeoutError\u001b[39;00m) \u001b[38;5;28;01mas\u001b[39;00m e:\n",
      "File \u001b[0;32m~/miniconda3/envs/clotho/lib/python3.10/site-packages/redis/client.py:3914\u001b[0m, in \u001b[0;36mPipeline._execute_transaction\u001b[0;34m(self, connection, commands, raise_on_error)\u001b[0m\n\u001b[1;32m   3913\u001b[0m \u001b[38;5;28;01mif\u001b[39;00m errors:\n\u001b[0;32m-> 3914\u001b[0m     \u001b[38;5;28;01mraise\u001b[39;00m errors[\u001b[38;5;241m0\u001b[39m][\u001b[38;5;241m1\u001b[39m]\n\u001b[1;32m   3915\u001b[0m \u001b[38;5;28;01mraise\u001b[39;00m\n",
      "File \u001b[0;32m~/miniconda3/envs/clotho/lib/python3.10/site-packages/redis/client.py:3904\u001b[0m, in \u001b[0;36mPipeline._execute_transaction\u001b[0;34m(self, connection, commands, raise_on_error)\u001b[0m\n\u001b[1;32m   3903\u001b[0m \u001b[38;5;28;01mtry\u001b[39;00m:\n\u001b[0;32m-> 3904\u001b[0m     \u001b[38;5;28;43mself\u001b[39;49m\u001b[38;5;241;43m.\u001b[39;49m\u001b[43mparse_response\u001b[49m\u001b[43m(\u001b[49m\u001b[43mconnection\u001b[49m\u001b[43m,\u001b[49m\u001b[43m \u001b[49m\u001b[38;5;124;43m'\u001b[39;49m\u001b[38;5;124;43m_\u001b[39;49m\u001b[38;5;124;43m'\u001b[39;49m\u001b[43m)\u001b[49m\n\u001b[1;32m   3905\u001b[0m \u001b[38;5;28;01mexcept\u001b[39;00m ResponseError \u001b[38;5;28;01mas\u001b[39;00m e:\n",
      "File \u001b[0;32m~/miniconda3/envs/clotho/lib/python3.10/site-packages/redis/client.py:3977\u001b[0m, in \u001b[0;36mPipeline.parse_response\u001b[0;34m(self, connection, command_name, **options)\u001b[0m\n\u001b[1;32m   3976\u001b[0m \u001b[38;5;28;01mdef\u001b[39;00m \u001b[38;5;21mparse_response\u001b[39m(\u001b[38;5;28mself\u001b[39m, connection, command_name, \u001b[38;5;241m*\u001b[39m\u001b[38;5;241m*\u001b[39moptions):\n\u001b[0;32m-> 3977\u001b[0m     result \u001b[38;5;241m=\u001b[39m \u001b[43mRedis\u001b[49m\u001b[38;5;241;43m.\u001b[39;49m\u001b[43mparse_response\u001b[49m\u001b[43m(\u001b[49m\n\u001b[1;32m   3978\u001b[0m \u001b[43m        \u001b[49m\u001b[38;5;28;43mself\u001b[39;49m\u001b[43m,\u001b[49m\u001b[43m \u001b[49m\u001b[43mconnection\u001b[49m\u001b[43m,\u001b[49m\u001b[43m \u001b[49m\u001b[43mcommand_name\u001b[49m\u001b[43m,\u001b[49m\u001b[43m \u001b[49m\u001b[38;5;241;43m*\u001b[39;49m\u001b[38;5;241;43m*\u001b[39;49m\u001b[43moptions\u001b[49m\u001b[43m)\u001b[49m\n\u001b[1;32m   3979\u001b[0m     \u001b[38;5;28;01mif\u001b[39;00m command_name \u001b[38;5;129;01min\u001b[39;00m \u001b[38;5;28mself\u001b[39m\u001b[38;5;241m.\u001b[39mUNWATCH_COMMANDS:\n",
      "File \u001b[0;32m~/miniconda3/envs/clotho/lib/python3.10/site-packages/redis/client.py:915\u001b[0m, in \u001b[0;36mRedis.parse_response\u001b[0;34m(self, connection, command_name, **options)\u001b[0m\n\u001b[1;32m    914\u001b[0m \u001b[38;5;28;01mtry\u001b[39;00m:\n\u001b[0;32m--> 915\u001b[0m     response \u001b[38;5;241m=\u001b[39m \u001b[43mconnection\u001b[49m\u001b[38;5;241;43m.\u001b[39;49m\u001b[43mread_response\u001b[49m\u001b[43m(\u001b[49m\u001b[43m)\u001b[49m\n\u001b[1;32m    916\u001b[0m \u001b[38;5;28;01mexcept\u001b[39;00m ResponseError:\n",
      "File \u001b[0;32m~/miniconda3/envs/clotho/lib/python3.10/site-packages/redis/connection.py:756\u001b[0m, in \u001b[0;36mConnection.read_response\u001b[0;34m(self)\u001b[0m\n\u001b[1;32m    755\u001b[0m \u001b[38;5;28;01mif\u001b[39;00m \u001b[38;5;28misinstance\u001b[39m(response, ResponseError):\n\u001b[0;32m--> 756\u001b[0m     \u001b[38;5;28;01mraise\u001b[39;00m response\n\u001b[1;32m    757\u001b[0m \u001b[38;5;28;01mreturn\u001b[39;00m response\n",
      "\u001b[0;31mResponseError\u001b[0m: Command # 1 (DEL api:link:vcall:up:5290ee3f457322ccb35297cf26997ee3379bd1663bbbe0e4d16a499726bd7480) of pipeline caused error: MISCONF Redis is configured to save RDB snapshots, but it's currently unable to persist to disk. Commands that may modify the data set are disabled, because this instance is configured to report errors during writes if RDB snapshotting fails (stop-writes-on-bgsave-error option). Please check the Redis logs for details about the RDB error.",
      "\nThe above exception was the direct cause of the following exception:\n",
      "\u001b[0;31mValueError\u001b[0m                                Traceback (most recent call last)",
      "Cell \u001b[0;32mIn[16], line 1\u001b[0m\n\u001b[0;32m----> 1\u001b[0m \u001b[43mttgen\u001b[49m\u001b[38;5;241;43m.\u001b[39;49m\u001b[43mreset\u001b[49m\u001b[43m(\u001b[49m\u001b[43m)\u001b[49m\n\u001b[1;32m      2\u001b[0m model\u001b[38;5;241m.\u001b[39meval()\n\u001b[1;32m      3\u001b[0m harness\u001b[38;5;241m.\u001b[39meval()\n",
      "File \u001b[0;32m~/workspace/joschi/clotho/notebooks/../model/datagenerator.py:369\u001b[0m, in \u001b[0;36mTrainTestGenerator.reset\u001b[0;34m(self)\u001b[0m\n\u001b[1;32m    368\u001b[0m \u001b[38;5;28;01mdef\u001b[39;00m \u001b[38;5;21mreset\u001b[39m(\u001b[38;5;28mself\u001b[39m) \u001b[38;5;241m-\u001b[39m\u001b[38;5;241m>\u001b[39m \u001b[38;5;28;01mNone\u001b[39;00m:\n\u001b[0;32m--> 369\u001b[0m     \u001b[38;5;28;43mself\u001b[39;49m\u001b[38;5;241;43m.\u001b[39;49m\u001b[43m_th_terminate\u001b[49m\u001b[43m(\u001b[49m\u001b[43m)\u001b[49m\n\u001b[1;32m    370\u001b[0m     \u001b[38;5;28mself\u001b[39m\u001b[38;5;241m.\u001b[39m_train\u001b[38;5;241m.\u001b[39mreset()\n\u001b[1;32m    371\u001b[0m     \u001b[38;5;28mself\u001b[39m\u001b[38;5;241m.\u001b[39m_train_validation\u001b[38;5;241m.\u001b[39mreset()\n",
      "File \u001b[0;32m~/workspace/joschi/clotho/notebooks/../model/datagenerator.py:365\u001b[0m, in \u001b[0;36mTrainTestGenerator._th_terminate\u001b[0;34m(self)\u001b[0m\n\u001b[1;32m    362\u001b[0m     \u001b[38;5;28;01mwith\u001b[39;00m \u001b[38;5;28mself\u001b[39m\u001b[38;5;241m.\u001b[39m_cond:\n\u001b[1;32m    363\u001b[0m         \u001b[38;5;28mself\u001b[39m\u001b[38;5;241m.\u001b[39m_cond\u001b[38;5;241m.\u001b[39mwait_for(done, \u001b[38;5;241m1.0\u001b[39m)\n\u001b[0;32m--> 365\u001b[0m \u001b[38;5;28;43mself\u001b[39;49m\u001b[38;5;241;43m.\u001b[39;49m\u001b[43m_check_err\u001b[49m\u001b[43m(\u001b[49m\u001b[43m)\u001b[49m\n\u001b[1;32m    366\u001b[0m \u001b[38;5;28mself\u001b[39m\u001b[38;5;241m.\u001b[39m_th_term \u001b[38;5;241m=\u001b[39m \u001b[38;5;28;01mFalse\u001b[39;00m\n",
      "File \u001b[0;32m~/workspace/joschi/clotho/notebooks/../model/datagenerator.py:606\u001b[0m, in \u001b[0;36mTrainTestGenerator._check_err\u001b[0;34m(self)\u001b[0m\n\u001b[1;32m    604\u001b[0m \u001b[38;5;28;01mdef\u001b[39;00m \u001b[38;5;21m_check_err\u001b[39m(\u001b[38;5;28mself\u001b[39m) \u001b[38;5;241m-\u001b[39m\u001b[38;5;241m>\u001b[39m \u001b[38;5;28;01mNone\u001b[39;00m:\n\u001b[1;32m    605\u001b[0m     \u001b[38;5;28;01mif\u001b[39;00m \u001b[38;5;28mself\u001b[39m\u001b[38;5;241m.\u001b[39m_th_err \u001b[38;5;129;01mis\u001b[39;00m \u001b[38;5;129;01mnot\u001b[39;00m \u001b[38;5;28;01mNone\u001b[39;00m:\n\u001b[0;32m--> 606\u001b[0m         \u001b[38;5;28;01mraise\u001b[39;00m \u001b[38;5;167;01mValueError\u001b[39;00m(\u001b[38;5;124m\"\u001b[39m\u001b[38;5;124merror in compute thread\u001b[39m\u001b[38;5;124m\"\u001b[39m) \u001b[38;5;28;01mfrom\u001b[39;00m \u001b[38;5;21;01mself\u001b[39;00m\u001b[38;5;21;01m.\u001b[39;00m\u001b[38;5;21;01m_th_err\u001b[39;00m\n",
      "\u001b[0;31mValueError\u001b[0m: error in compute thread"
     ]
    }
   ],
   "source": [
    "ttgen.reset()\n",
    "model.eval()\n",
    "harness.eval()\n",
    "with torch.no_grad():\n",
    "    count = 0\n",
    "    for test_val_df in ttgen.test_validation_dfs():\n",
    "        plefts = tokens(test_val_df[\"parent_left\"])\n",
    "        clefts = tokens(test_val_df[\"child_left\"])\n",
    "        prights = tokens(test_val_df[\"parent_right\"])\n",
    "        crights = tokens(test_val_df[\"child_right\"])\n",
    "        display(model.get_child_embed(\n",
    "            clefts[\"input_ids\"],\n",
    "            clefts[\"attention_mask\"]))\n",
    "        display(model.get_child_embed(\n",
    "            crights[\"input_ids\"],\n",
    "            crights[\"attention_mask\"]))\n",
    "        count += 1\n",
    "        if count >= 5:\n",
    "            break"
   ]
  },
  {
   "cell_type": "code",
   "execution_count": null,
   "id": "a98fd1aa-9723-4da8-8fcb-2d9500542f79",
   "metadata": {},
   "outputs": [],
   "source": []
  }
 ],
 "metadata": {
  "kernelspec": {
   "display_name": "Python [conda env:clotho]",
   "language": "python",
   "name": "conda-env-clotho-py"
  },
  "language_info": {
   "codemirror_mode": {
    "name": "ipython",
    "version": 3
   },
   "file_extension": ".py",
   "mimetype": "text/x-python",
   "name": "python",
   "nbconvert_exporter": "python",
   "pygments_lexer": "ipython3",
   "version": "3.10.6"
  }
 },
 "nbformat": 4,
 "nbformat_minor": 5
}
